{
 "cells": [
  {
   "cell_type": "markdown",
   "metadata": {
    "toc": true
   },
   "source": [
    "<h1>Table of Contents<span class=\"tocSkip\"></span></h1>\n",
    "<div class=\"toc\"><ul class=\"toc-item\"><li><span><a href=\"#Предобрадотка-данных\" data-toc-modified-id=\"Предобрадотка-данных-1\"><span class=\"toc-item-num\">1&nbsp;&nbsp;</span>Предобрадотка данных</a></span><ul class=\"toc-item\"><li><span><a href=\"#Обработка-пропусков\" data-toc-modified-id=\"Обработка-пропусков-1.1\"><span class=\"toc-item-num\">1.1&nbsp;&nbsp;</span>Обработка пропусков</a></span></li></ul></li><li><span><a href=\"#Анализ-данных\" data-toc-modified-id=\"Анализ-данных-2\"><span class=\"toc-item-num\">2&nbsp;&nbsp;</span>Анализ данных</a></span><ul class=\"toc-item\"><li><span><a href=\"#Сколько-игр-выпускалось-в-разные-годы\" data-toc-modified-id=\"Сколько-игр-выпускалось-в-разные-годы-2.1\"><span class=\"toc-item-num\">2.1&nbsp;&nbsp;</span>Сколько игр выпускалось в разные годы</a></span></li><li><span><a href=\"#Как-менялись-продажи-по-платформам\" data-toc-modified-id=\"Как-менялись-продажи-по-платформам-2.2\"><span class=\"toc-item-num\">2.2&nbsp;&nbsp;</span>Как менялись продажи по платформам</a></span></li><li><span><a href=\"#Данные-за-актуальный-период\" data-toc-modified-id=\"Данные-за-актуальный-период-2.3\"><span class=\"toc-item-num\">2.3&nbsp;&nbsp;</span>Данные за актуальный период</a></span></li><li><span><a href=\"#Лидеры-продаж\" data-toc-modified-id=\"Лидеры-продаж-2.4\"><span class=\"toc-item-num\">2.4&nbsp;&nbsp;</span>Лидеры продаж</a></span></li><li><span><a href=\"#&quot;Ящик-с-усами&quot;\" data-toc-modified-id=\"&quot;Ящик-с-усами&quot;-2.5\"><span class=\"toc-item-num\">2.5&nbsp;&nbsp;</span>\"Ящик с усами\"</a></span></li><li><span><a href=\"#Влияние-отзывов-на-покупки\" data-toc-modified-id=\"Влияние-отзывов-на-покупки-2.6\"><span class=\"toc-item-num\">2.6&nbsp;&nbsp;</span>Влияние отзывов на покупки</a></span></li></ul></li><li><span><a href=\"#Портрет-пользователей-каждого-региона\" data-toc-modified-id=\"Портрет-пользователей-каждого-региона-3\"><span class=\"toc-item-num\">3&nbsp;&nbsp;</span>Портрет пользователей каждого региона</a></span><ul class=\"toc-item\"><li><span><a href=\"#Самые-популярные-платформы\" data-toc-modified-id=\"Самые-популярные-платформы-3.1\"><span class=\"toc-item-num\">3.1&nbsp;&nbsp;</span>Самые популярные платформы</a></span></li><li><span><a href=\"#Самые-популярные-жанры\" data-toc-modified-id=\"Самые-популярные-жанры-3.2\"><span class=\"toc-item-num\">3.2&nbsp;&nbsp;</span>Самые популярные жанры</a></span></li></ul></li><li><span><a href=\"#Проверка-гипотез\" data-toc-modified-id=\"Проверка-гипотез-4\"><span class=\"toc-item-num\">4&nbsp;&nbsp;</span>Проверка гипотез</a></span><ul class=\"toc-item\"><li><span><a href=\"#Гипотеза-1\" data-toc-modified-id=\"Гипотеза-1-4.1\"><span class=\"toc-item-num\">4.1&nbsp;&nbsp;</span>Гипотеза 1</a></span></li><li><span><a href=\"#Гипотеза-2\" data-toc-modified-id=\"Гипотеза-2-4.2\"><span class=\"toc-item-num\">4.2&nbsp;&nbsp;</span>Гипотеза 2</a></span></li></ul></li><li><span><a href=\"#Вывод\" data-toc-modified-id=\"Вывод-5\"><span class=\"toc-item-num\">5&nbsp;&nbsp;</span>Вывод</a></span></li></ul></div>"
   ]
  },
  {
   "cell_type": "code",
   "execution_count": 1,
   "metadata": {},
   "outputs": [],
   "source": [
    "import pandas as pd\n",
    "import matplotlib.pyplot as plt\n",
    "import seaborn\n",
    "from scipy import stats as st\n",
    "import numpy as np"
   ]
  },
  {
   "cell_type": "code",
   "execution_count": 2,
   "metadata": {},
   "outputs": [
    {
     "data": {
      "text/html": [
       "<div>\n",
       "<style scoped>\n",
       "    .dataframe tbody tr th:only-of-type {\n",
       "        vertical-align: middle;\n",
       "    }\n",
       "\n",
       "    .dataframe tbody tr th {\n",
       "        vertical-align: top;\n",
       "    }\n",
       "\n",
       "    .dataframe thead th {\n",
       "        text-align: right;\n",
       "    }\n",
       "</style>\n",
       "<table border=\"1\" class=\"dataframe\">\n",
       "  <thead>\n",
       "    <tr style=\"text-align: right;\">\n",
       "      <th></th>\n",
       "      <th>Name</th>\n",
       "      <th>Platform</th>\n",
       "      <th>Year_of_Release</th>\n",
       "      <th>Genre</th>\n",
       "      <th>NA_sales</th>\n",
       "      <th>EU_sales</th>\n",
       "      <th>JP_sales</th>\n",
       "      <th>Other_sales</th>\n",
       "      <th>Critic_Score</th>\n",
       "      <th>User_Score</th>\n",
       "      <th>Rating</th>\n",
       "    </tr>\n",
       "  </thead>\n",
       "  <tbody>\n",
       "    <tr>\n",
       "      <td>0</td>\n",
       "      <td>Wii Sports</td>\n",
       "      <td>Wii</td>\n",
       "      <td>2006.0</td>\n",
       "      <td>Sports</td>\n",
       "      <td>41.36</td>\n",
       "      <td>28.96</td>\n",
       "      <td>3.77</td>\n",
       "      <td>8.45</td>\n",
       "      <td>76.0</td>\n",
       "      <td>8</td>\n",
       "      <td>E</td>\n",
       "    </tr>\n",
       "    <tr>\n",
       "      <td>1</td>\n",
       "      <td>Super Mario Bros.</td>\n",
       "      <td>NES</td>\n",
       "      <td>1985.0</td>\n",
       "      <td>Platform</td>\n",
       "      <td>29.08</td>\n",
       "      <td>3.58</td>\n",
       "      <td>6.81</td>\n",
       "      <td>0.77</td>\n",
       "      <td>NaN</td>\n",
       "      <td>NaN</td>\n",
       "      <td>NaN</td>\n",
       "    </tr>\n",
       "    <tr>\n",
       "      <td>2</td>\n",
       "      <td>Mario Kart Wii</td>\n",
       "      <td>Wii</td>\n",
       "      <td>2008.0</td>\n",
       "      <td>Racing</td>\n",
       "      <td>15.68</td>\n",
       "      <td>12.76</td>\n",
       "      <td>3.79</td>\n",
       "      <td>3.29</td>\n",
       "      <td>82.0</td>\n",
       "      <td>8.3</td>\n",
       "      <td>E</td>\n",
       "    </tr>\n",
       "    <tr>\n",
       "      <td>3</td>\n",
       "      <td>Wii Sports Resort</td>\n",
       "      <td>Wii</td>\n",
       "      <td>2009.0</td>\n",
       "      <td>Sports</td>\n",
       "      <td>15.61</td>\n",
       "      <td>10.93</td>\n",
       "      <td>3.28</td>\n",
       "      <td>2.95</td>\n",
       "      <td>80.0</td>\n",
       "      <td>8</td>\n",
       "      <td>E</td>\n",
       "    </tr>\n",
       "    <tr>\n",
       "      <td>4</td>\n",
       "      <td>Pokemon Red/Pokemon Blue</td>\n",
       "      <td>GB</td>\n",
       "      <td>1996.0</td>\n",
       "      <td>Role-Playing</td>\n",
       "      <td>11.27</td>\n",
       "      <td>8.89</td>\n",
       "      <td>10.22</td>\n",
       "      <td>1.00</td>\n",
       "      <td>NaN</td>\n",
       "      <td>NaN</td>\n",
       "      <td>NaN</td>\n",
       "    </tr>\n",
       "    <tr>\n",
       "      <td>5</td>\n",
       "      <td>Tetris</td>\n",
       "      <td>GB</td>\n",
       "      <td>1989.0</td>\n",
       "      <td>Puzzle</td>\n",
       "      <td>23.20</td>\n",
       "      <td>2.26</td>\n",
       "      <td>4.22</td>\n",
       "      <td>0.58</td>\n",
       "      <td>NaN</td>\n",
       "      <td>NaN</td>\n",
       "      <td>NaN</td>\n",
       "    </tr>\n",
       "    <tr>\n",
       "      <td>6</td>\n",
       "      <td>New Super Mario Bros.</td>\n",
       "      <td>DS</td>\n",
       "      <td>2006.0</td>\n",
       "      <td>Platform</td>\n",
       "      <td>11.28</td>\n",
       "      <td>9.14</td>\n",
       "      <td>6.50</td>\n",
       "      <td>2.88</td>\n",
       "      <td>89.0</td>\n",
       "      <td>8.5</td>\n",
       "      <td>E</td>\n",
       "    </tr>\n",
       "    <tr>\n",
       "      <td>7</td>\n",
       "      <td>Wii Play</td>\n",
       "      <td>Wii</td>\n",
       "      <td>2006.0</td>\n",
       "      <td>Misc</td>\n",
       "      <td>13.96</td>\n",
       "      <td>9.18</td>\n",
       "      <td>2.93</td>\n",
       "      <td>2.84</td>\n",
       "      <td>58.0</td>\n",
       "      <td>6.6</td>\n",
       "      <td>E</td>\n",
       "    </tr>\n",
       "    <tr>\n",
       "      <td>8</td>\n",
       "      <td>New Super Mario Bros. Wii</td>\n",
       "      <td>Wii</td>\n",
       "      <td>2009.0</td>\n",
       "      <td>Platform</td>\n",
       "      <td>14.44</td>\n",
       "      <td>6.94</td>\n",
       "      <td>4.70</td>\n",
       "      <td>2.24</td>\n",
       "      <td>87.0</td>\n",
       "      <td>8.4</td>\n",
       "      <td>E</td>\n",
       "    </tr>\n",
       "    <tr>\n",
       "      <td>9</td>\n",
       "      <td>Duck Hunt</td>\n",
       "      <td>NES</td>\n",
       "      <td>1984.0</td>\n",
       "      <td>Shooter</td>\n",
       "      <td>26.93</td>\n",
       "      <td>0.63</td>\n",
       "      <td>0.28</td>\n",
       "      <td>0.47</td>\n",
       "      <td>NaN</td>\n",
       "      <td>NaN</td>\n",
       "      <td>NaN</td>\n",
       "    </tr>\n",
       "  </tbody>\n",
       "</table>\n",
       "</div>"
      ],
      "text/plain": [
       "                        Name Platform  Year_of_Release         Genre  \\\n",
       "0                 Wii Sports      Wii           2006.0        Sports   \n",
       "1          Super Mario Bros.      NES           1985.0      Platform   \n",
       "2             Mario Kart Wii      Wii           2008.0        Racing   \n",
       "3          Wii Sports Resort      Wii           2009.0        Sports   \n",
       "4   Pokemon Red/Pokemon Blue       GB           1996.0  Role-Playing   \n",
       "5                     Tetris       GB           1989.0        Puzzle   \n",
       "6      New Super Mario Bros.       DS           2006.0      Platform   \n",
       "7                   Wii Play      Wii           2006.0          Misc   \n",
       "8  New Super Mario Bros. Wii      Wii           2009.0      Platform   \n",
       "9                  Duck Hunt      NES           1984.0       Shooter   \n",
       "\n",
       "   NA_sales  EU_sales  JP_sales  Other_sales  Critic_Score User_Score Rating  \n",
       "0     41.36     28.96      3.77         8.45          76.0          8      E  \n",
       "1     29.08      3.58      6.81         0.77           NaN        NaN    NaN  \n",
       "2     15.68     12.76      3.79         3.29          82.0        8.3      E  \n",
       "3     15.61     10.93      3.28         2.95          80.0          8      E  \n",
       "4     11.27      8.89     10.22         1.00           NaN        NaN    NaN  \n",
       "5     23.20      2.26      4.22         0.58           NaN        NaN    NaN  \n",
       "6     11.28      9.14      6.50         2.88          89.0        8.5      E  \n",
       "7     13.96      9.18      2.93         2.84          58.0        6.6      E  \n",
       "8     14.44      6.94      4.70         2.24          87.0        8.4      E  \n",
       "9     26.93      0.63      0.28         0.47           NaN        NaN    NaN  "
      ]
     },
     "metadata": {},
     "output_type": "display_data"
    },
    {
     "name": "stdout",
     "output_type": "stream",
     "text": [
      "<class 'pandas.core.frame.DataFrame'>\n",
      "RangeIndex: 16715 entries, 0 to 16714\n",
      "Data columns (total 11 columns):\n",
      "Name               16713 non-null object\n",
      "Platform           16715 non-null object\n",
      "Year_of_Release    16446 non-null float64\n",
      "Genre              16713 non-null object\n",
      "NA_sales           16715 non-null float64\n",
      "EU_sales           16715 non-null float64\n",
      "JP_sales           16715 non-null float64\n",
      "Other_sales        16715 non-null float64\n",
      "Critic_Score       8137 non-null float64\n",
      "User_Score         10014 non-null object\n",
      "Rating             9949 non-null object\n",
      "dtypes: float64(6), object(5)\n",
      "memory usage: 1.4+ MB\n"
     ]
    }
   ],
   "source": [
    "data = pd.read_csv('/datasets/games.csv')\n",
    "display(data.head(10))\n",
    "data.info()"
   ]
  },
  {
   "cell_type": "markdown",
   "metadata": {},
   "source": [
    "После первого взгляда на данные, видим, что столбцы нужно будет привести к змеиному регистру. Так же, есть пропуски в 6 столбцах из 11, которые нужно будет обработать. Пропуски в разных столбцах могли появиться по разным причинам. Например, пропуски в столбце Rating могут означать возраст 0+. Более понятно, откуда и почему взялись пропуски, будет при обработке пропусков каждого столбца, при близком взгляде, так сказать. \n",
    "При необходимости, нужно будет изменить тип данных в некоторых столбцах."
   ]
  },
  {
   "cell_type": "markdown",
   "metadata": {},
   "source": [
    "## Предобрадотка данных"
   ]
  },
  {
   "cell_type": "code",
   "execution_count": 3,
   "metadata": {},
   "outputs": [
    {
     "data": {
      "text/plain": [
       "Index(['Name', 'Platform', 'Year_of_Release', 'Genre', 'NA_sales', 'EU_sales',\n",
       "       'JP_sales', 'Other_sales', 'Critic_Score', 'User_Score', 'Rating'],\n",
       "      dtype='object')"
      ]
     },
     "execution_count": 3,
     "metadata": {},
     "output_type": "execute_result"
    }
   ],
   "source": [
    "data.columns #проверим, есть ли пробелы в названиях. их нет"
   ]
  },
  {
   "cell_type": "code",
   "execution_count": 4,
   "metadata": {},
   "outputs": [],
   "source": [
    "data.columns = data.columns.str.lower() #приведем названия столбцов к змеиному_регистру"
   ]
  },
  {
   "cell_type": "code",
   "execution_count": 5,
   "metadata": {},
   "outputs": [],
   "source": [
    "data['year_of_release'].fillna(0, inplace=True) #заменим пропуске в столбце года релиза на 0, чтобы привести его к int\n",
    "data['year_of_release'] = data['year_of_release'].astype('int')"
   ]
  },
  {
   "cell_type": "markdown",
   "metadata": {},
   "source": [
    "В остальных столбцах с числовыми значениями оставим тип float, чтобы не потерять дробную часть."
   ]
  },
  {
   "cell_type": "markdown",
   "metadata": {},
   "source": [
    "### Обработка пропусков"
   ]
  },
  {
   "cell_type": "code",
   "execution_count": 6,
   "metadata": {},
   "outputs": [
    {
     "name": "stdout",
     "output_type": "stream",
     "text": [
      "<class 'pandas.core.frame.DataFrame'>\n",
      "RangeIndex: 16715 entries, 0 to 16714\n",
      "Data columns (total 11 columns):\n",
      "name               16713 non-null object\n",
      "platform           16715 non-null object\n",
      "year_of_release    16715 non-null int64\n",
      "genre              16713 non-null object\n",
      "na_sales           16715 non-null float64\n",
      "eu_sales           16715 non-null float64\n",
      "jp_sales           16715 non-null float64\n",
      "other_sales        16715 non-null float64\n",
      "critic_score       8137 non-null float64\n",
      "user_score         10014 non-null object\n",
      "rating             9949 non-null object\n",
      "dtypes: float64(5), int64(1), object(5)\n",
      "memory usage: 1.4+ MB\n"
     ]
    }
   ],
   "source": [
    "data.info()"
   ]
  },
  {
   "cell_type": "markdown",
   "metadata": {},
   "source": [
    "В основном, пропуски находятся в столбцах жанра, оценка критиков, оценка пользователей. Возможно, на старые игры не писались рецензии, и они не оценивались критиками или пользователями. Точнее оценивались, но статистику никто не вел. Оставим пропуски в этих столбцах незаполненными.\n",
    "\n",
    "Заменим игры без возростного рейтинга на \"undefined\", чтобы взаимодействовать эти с этими данными далее\n",
    "\n",
    "В столбцах с названием игры и его ее жанром по 2 пропуска. Проверим\n"
   ]
  },
  {
   "cell_type": "code",
   "execution_count": 7,
   "metadata": {},
   "outputs": [],
   "source": [
    "data['rating'] = data['rating'].fillna('undefined')"
   ]
  },
  {
   "cell_type": "code",
   "execution_count": 8,
   "metadata": {},
   "outputs": [
    {
     "data": {
      "text/html": [
       "<div>\n",
       "<style scoped>\n",
       "    .dataframe tbody tr th:only-of-type {\n",
       "        vertical-align: middle;\n",
       "    }\n",
       "\n",
       "    .dataframe tbody tr th {\n",
       "        vertical-align: top;\n",
       "    }\n",
       "\n",
       "    .dataframe thead th {\n",
       "        text-align: right;\n",
       "    }\n",
       "</style>\n",
       "<table border=\"1\" class=\"dataframe\">\n",
       "  <thead>\n",
       "    <tr style=\"text-align: right;\">\n",
       "      <th></th>\n",
       "      <th>name</th>\n",
       "      <th>platform</th>\n",
       "      <th>year_of_release</th>\n",
       "      <th>genre</th>\n",
       "      <th>na_sales</th>\n",
       "      <th>eu_sales</th>\n",
       "      <th>jp_sales</th>\n",
       "      <th>other_sales</th>\n",
       "      <th>critic_score</th>\n",
       "      <th>user_score</th>\n",
       "      <th>rating</th>\n",
       "    </tr>\n",
       "  </thead>\n",
       "  <tbody>\n",
       "    <tr>\n",
       "      <td>659</td>\n",
       "      <td>NaN</td>\n",
       "      <td>GEN</td>\n",
       "      <td>1993</td>\n",
       "      <td>NaN</td>\n",
       "      <td>1.78</td>\n",
       "      <td>0.53</td>\n",
       "      <td>0.00</td>\n",
       "      <td>0.08</td>\n",
       "      <td>NaN</td>\n",
       "      <td>NaN</td>\n",
       "      <td>undefined</td>\n",
       "    </tr>\n",
       "    <tr>\n",
       "      <td>14244</td>\n",
       "      <td>NaN</td>\n",
       "      <td>GEN</td>\n",
       "      <td>1993</td>\n",
       "      <td>NaN</td>\n",
       "      <td>0.00</td>\n",
       "      <td>0.00</td>\n",
       "      <td>0.03</td>\n",
       "      <td>0.00</td>\n",
       "      <td>NaN</td>\n",
       "      <td>NaN</td>\n",
       "      <td>undefined</td>\n",
       "    </tr>\n",
       "  </tbody>\n",
       "</table>\n",
       "</div>"
      ],
      "text/plain": [
       "      name platform  year_of_release genre  na_sales  eu_sales  jp_sales  \\\n",
       "659    NaN      GEN             1993   NaN      1.78      0.53      0.00   \n",
       "14244  NaN      GEN             1993   NaN      0.00      0.00      0.03   \n",
       "\n",
       "       other_sales  critic_score user_score     rating  \n",
       "659           0.08           NaN        NaN  undefined  \n",
       "14244         0.00           NaN        NaN  undefined  "
      ]
     },
     "execution_count": 8,
     "metadata": {},
     "output_type": "execute_result"
    }
   ],
   "source": [
    "a1 = data[data['genre'].isna()!=False]\n",
    "a1"
   ]
  },
  {
   "cell_type": "markdown",
   "metadata": {},
   "source": [
    "Эти пропуски не заполнить, удалим их"
   ]
  },
  {
   "cell_type": "code",
   "execution_count": 9,
   "metadata": {},
   "outputs": [],
   "source": [
    "data = data[data['genre'].isna()!=True]"
   ]
  },
  {
   "cell_type": "markdown",
   "metadata": {},
   "source": [
    "У нас 2424 строк, где в оценке пользователей стоит не числовое значение, а 'tbd'. to be determined - пока не определён. Получается, у нас 2424 игры, у которых еще не определены оценки от пользователей."
   ]
  },
  {
   "cell_type": "code",
   "execution_count": 10,
   "metadata": {},
   "outputs": [
    {
     "data": {
      "text/plain": [
       "0"
      ]
     },
     "execution_count": 10,
     "metadata": {},
     "output_type": "execute_result"
    }
   ],
   "source": [
    "data.duplicated().sum()"
   ]
  },
  {
   "cell_type": "markdown",
   "metadata": {},
   "source": [
    "Дубликатов не обнаружено"
   ]
  },
  {
   "cell_type": "markdown",
   "metadata": {},
   "source": [
    "Для проверки дубликатов по играм и платформам, сделаем новую таблицу и приведем ее всю к нижнему регистру.\n"
   ]
  },
  {
   "cell_type": "code",
   "execution_count": 11,
   "metadata": {},
   "outputs": [
    {
     "name": "stderr",
     "output_type": "stream",
     "text": [
      "/opt/conda/lib/python3.7/site-packages/pandas/core/indexing.py:576: SettingWithCopyWarning: \n",
      "A value is trying to be set on a copy of a slice from a DataFrame.\n",
      "Try using .loc[row_indexer,col_indexer] = value instead\n",
      "\n",
      "See the caveats in the documentation: http://pandas.pydata.org/pandas-docs/stable/user_guide/indexing.html#returning-a-view-versus-a-copy\n",
      "  self.obj[item_labels[indexer[info_axis]]] = value\n"
     ]
    },
    {
     "data": {
      "text/plain": [
       "[1591, 4127, 11715, 16230]"
      ]
     },
     "execution_count": 11,
     "metadata": {},
     "output_type": "execute_result"
    }
   ],
   "source": [
    "games_duble = data[['name', 'platform']]\n",
    "games_duble.loc[:, 'name'] = games_duble.loc[:, 'name'].astype(str).str.lower()\n",
    "games_duble.loc[:, 'platform'] = games_duble.loc[:, 'platform'].astype(str).str.lower()\n",
    "games_duble = games_duble[games_duble.duplicated()]\n",
    "games_duble = games_duble.reset_index()\n",
    "games_duble = list(games_duble['index'])\n",
    "games_duble"
   ]
  },
  {
   "cell_type": "markdown",
   "metadata": {},
   "source": [
    "Удалим из нашей таблицы строки с такими индексами"
   ]
  },
  {
   "cell_type": "code",
   "execution_count": 12,
   "metadata": {
    "scrolled": true
   },
   "outputs": [
    {
     "data": {
      "text/html": [
       "<div>\n",
       "<style scoped>\n",
       "    .dataframe tbody tr th:only-of-type {\n",
       "        vertical-align: middle;\n",
       "    }\n",
       "\n",
       "    .dataframe tbody tr th {\n",
       "        vertical-align: top;\n",
       "    }\n",
       "\n",
       "    .dataframe thead th {\n",
       "        text-align: right;\n",
       "    }\n",
       "</style>\n",
       "<table border=\"1\" class=\"dataframe\">\n",
       "  <thead>\n",
       "    <tr style=\"text-align: right;\">\n",
       "      <th></th>\n",
       "      <th>name</th>\n",
       "      <th>platform</th>\n",
       "      <th>year_of_release</th>\n",
       "      <th>genre</th>\n",
       "      <th>na_sales</th>\n",
       "      <th>eu_sales</th>\n",
       "      <th>jp_sales</th>\n",
       "      <th>other_sales</th>\n",
       "      <th>critic_score</th>\n",
       "      <th>user_score</th>\n",
       "      <th>rating</th>\n",
       "    </tr>\n",
       "  </thead>\n",
       "  <tbody>\n",
       "    <tr>\n",
       "      <td>0</td>\n",
       "      <td>Wii Sports</td>\n",
       "      <td>Wii</td>\n",
       "      <td>2006</td>\n",
       "      <td>Sports</td>\n",
       "      <td>41.36</td>\n",
       "      <td>28.96</td>\n",
       "      <td>3.77</td>\n",
       "      <td>8.45</td>\n",
       "      <td>76.0</td>\n",
       "      <td>8</td>\n",
       "      <td>E</td>\n",
       "    </tr>\n",
       "    <tr>\n",
       "      <td>1</td>\n",
       "      <td>Super Mario Bros.</td>\n",
       "      <td>NES</td>\n",
       "      <td>1985</td>\n",
       "      <td>Platform</td>\n",
       "      <td>29.08</td>\n",
       "      <td>3.58</td>\n",
       "      <td>6.81</td>\n",
       "      <td>0.77</td>\n",
       "      <td>NaN</td>\n",
       "      <td>NaN</td>\n",
       "      <td>undefined</td>\n",
       "    </tr>\n",
       "    <tr>\n",
       "      <td>2</td>\n",
       "      <td>Mario Kart Wii</td>\n",
       "      <td>Wii</td>\n",
       "      <td>2008</td>\n",
       "      <td>Racing</td>\n",
       "      <td>15.68</td>\n",
       "      <td>12.76</td>\n",
       "      <td>3.79</td>\n",
       "      <td>3.29</td>\n",
       "      <td>82.0</td>\n",
       "      <td>8.3</td>\n",
       "      <td>E</td>\n",
       "    </tr>\n",
       "    <tr>\n",
       "      <td>3</td>\n",
       "      <td>Wii Sports Resort</td>\n",
       "      <td>Wii</td>\n",
       "      <td>2009</td>\n",
       "      <td>Sports</td>\n",
       "      <td>15.61</td>\n",
       "      <td>10.93</td>\n",
       "      <td>3.28</td>\n",
       "      <td>2.95</td>\n",
       "      <td>80.0</td>\n",
       "      <td>8</td>\n",
       "      <td>E</td>\n",
       "    </tr>\n",
       "    <tr>\n",
       "      <td>4</td>\n",
       "      <td>Pokemon Red/Pokemon Blue</td>\n",
       "      <td>GB</td>\n",
       "      <td>1996</td>\n",
       "      <td>Role-Playing</td>\n",
       "      <td>11.27</td>\n",
       "      <td>8.89</td>\n",
       "      <td>10.22</td>\n",
       "      <td>1.00</td>\n",
       "      <td>NaN</td>\n",
       "      <td>NaN</td>\n",
       "      <td>undefined</td>\n",
       "    </tr>\n",
       "    <tr>\n",
       "      <td>...</td>\n",
       "      <td>...</td>\n",
       "      <td>...</td>\n",
       "      <td>...</td>\n",
       "      <td>...</td>\n",
       "      <td>...</td>\n",
       "      <td>...</td>\n",
       "      <td>...</td>\n",
       "      <td>...</td>\n",
       "      <td>...</td>\n",
       "      <td>...</td>\n",
       "      <td>...</td>\n",
       "    </tr>\n",
       "    <tr>\n",
       "      <td>16710</td>\n",
       "      <td>Samurai Warriors: Sanada Maru</td>\n",
       "      <td>PS3</td>\n",
       "      <td>2016</td>\n",
       "      <td>Action</td>\n",
       "      <td>0.00</td>\n",
       "      <td>0.00</td>\n",
       "      <td>0.01</td>\n",
       "      <td>0.00</td>\n",
       "      <td>NaN</td>\n",
       "      <td>NaN</td>\n",
       "      <td>undefined</td>\n",
       "    </tr>\n",
       "    <tr>\n",
       "      <td>16711</td>\n",
       "      <td>LMA Manager 2007</td>\n",
       "      <td>X360</td>\n",
       "      <td>2006</td>\n",
       "      <td>Sports</td>\n",
       "      <td>0.00</td>\n",
       "      <td>0.01</td>\n",
       "      <td>0.00</td>\n",
       "      <td>0.00</td>\n",
       "      <td>NaN</td>\n",
       "      <td>NaN</td>\n",
       "      <td>undefined</td>\n",
       "    </tr>\n",
       "    <tr>\n",
       "      <td>16712</td>\n",
       "      <td>Haitaka no Psychedelica</td>\n",
       "      <td>PSV</td>\n",
       "      <td>2016</td>\n",
       "      <td>Adventure</td>\n",
       "      <td>0.00</td>\n",
       "      <td>0.00</td>\n",
       "      <td>0.01</td>\n",
       "      <td>0.00</td>\n",
       "      <td>NaN</td>\n",
       "      <td>NaN</td>\n",
       "      <td>undefined</td>\n",
       "    </tr>\n",
       "    <tr>\n",
       "      <td>16713</td>\n",
       "      <td>Spirits &amp; Spells</td>\n",
       "      <td>GBA</td>\n",
       "      <td>2003</td>\n",
       "      <td>Platform</td>\n",
       "      <td>0.01</td>\n",
       "      <td>0.00</td>\n",
       "      <td>0.00</td>\n",
       "      <td>0.00</td>\n",
       "      <td>NaN</td>\n",
       "      <td>NaN</td>\n",
       "      <td>undefined</td>\n",
       "    </tr>\n",
       "    <tr>\n",
       "      <td>16714</td>\n",
       "      <td>Winning Post 8 2016</td>\n",
       "      <td>PSV</td>\n",
       "      <td>2016</td>\n",
       "      <td>Simulation</td>\n",
       "      <td>0.00</td>\n",
       "      <td>0.00</td>\n",
       "      <td>0.01</td>\n",
       "      <td>0.00</td>\n",
       "      <td>NaN</td>\n",
       "      <td>NaN</td>\n",
       "      <td>undefined</td>\n",
       "    </tr>\n",
       "  </tbody>\n",
       "</table>\n",
       "<p>16709 rows × 11 columns</p>\n",
       "</div>"
      ],
      "text/plain": [
       "                                name platform  year_of_release         genre  \\\n",
       "0                         Wii Sports      Wii             2006        Sports   \n",
       "1                  Super Mario Bros.      NES             1985      Platform   \n",
       "2                     Mario Kart Wii      Wii             2008        Racing   \n",
       "3                  Wii Sports Resort      Wii             2009        Sports   \n",
       "4           Pokemon Red/Pokemon Blue       GB             1996  Role-Playing   \n",
       "...                              ...      ...              ...           ...   \n",
       "16710  Samurai Warriors: Sanada Maru      PS3             2016        Action   \n",
       "16711               LMA Manager 2007     X360             2006        Sports   \n",
       "16712        Haitaka no Psychedelica      PSV             2016     Adventure   \n",
       "16713               Spirits & Spells      GBA             2003      Platform   \n",
       "16714            Winning Post 8 2016      PSV             2016    Simulation   \n",
       "\n",
       "       na_sales  eu_sales  jp_sales  other_sales  critic_score user_score  \\\n",
       "0         41.36     28.96      3.77         8.45          76.0          8   \n",
       "1         29.08      3.58      6.81         0.77           NaN        NaN   \n",
       "2         15.68     12.76      3.79         3.29          82.0        8.3   \n",
       "3         15.61     10.93      3.28         2.95          80.0          8   \n",
       "4         11.27      8.89     10.22         1.00           NaN        NaN   \n",
       "...         ...       ...       ...          ...           ...        ...   \n",
       "16710      0.00      0.00      0.01         0.00           NaN        NaN   \n",
       "16711      0.00      0.01      0.00         0.00           NaN        NaN   \n",
       "16712      0.00      0.00      0.01         0.00           NaN        NaN   \n",
       "16713      0.01      0.00      0.00         0.00           NaN        NaN   \n",
       "16714      0.00      0.00      0.01         0.00           NaN        NaN   \n",
       "\n",
       "          rating  \n",
       "0              E  \n",
       "1      undefined  \n",
       "2              E  \n",
       "3              E  \n",
       "4      undefined  \n",
       "...          ...  \n",
       "16710  undefined  \n",
       "16711  undefined  \n",
       "16712  undefined  \n",
       "16713  undefined  \n",
       "16714  undefined  \n",
       "\n",
       "[16709 rows x 11 columns]"
      ]
     },
     "execution_count": 12,
     "metadata": {},
     "output_type": "execute_result"
    }
   ],
   "source": [
    "data.drop(labels = [1591, 4127, 11715, 16230],axis = 0)"
   ]
  },
  {
   "cell_type": "markdown",
   "metadata": {},
   "source": [
    "## Анализ данных"
   ]
  },
  {
   "cell_type": "markdown",
   "metadata": {},
   "source": [
    "### Сколько игр выпускалось в разные годы"
   ]
  },
  {
   "cell_type": "code",
   "execution_count": 13,
   "metadata": {},
   "outputs": [],
   "source": [
    "year_realise = data.pivot_table(index='year_of_release', values='name', aggfunc='count')"
   ]
  },
  {
   "cell_type": "code",
   "execution_count": 14,
   "metadata": {},
   "outputs": [
    {
     "data": {
      "text/plain": [
       "Text(0.5, 1.0, 'Количество выпущенных игр по годам')"
      ]
     },
     "execution_count": 14,
     "metadata": {},
     "output_type": "execute_result"
    },
    {
     "data": {
      "image/png": "[encoded data removed]",
      "text/plain": [
       "<Figure size 720x360 with 1 Axes>"
      ]
     },
     "metadata": {
      "needs_background": "light"
     },
     "output_type": "display_data"
    }
   ],
   "source": [
    "x1 = year_realise.plot(kind='bar', figsize=(10,5), legend=True)\n",
    "x1.set_ylabel('Кол-во выпущенных игр')\n",
    "x1.set_xlabel('Год')\n",
    "x1.set_title('Количество выпущенных игр по годам')"
   ]
  },
  {
   "cell_type": "markdown",
   "metadata": {},
   "source": [
    "Видно, что до 2000 года данных очень мало. До 2000 года были старые устройства, которые сейчас не актуальны. Да и индустрия была мало развита, на мой взгляд."
   ]
  },
  {
   "cell_type": "markdown",
   "metadata": {},
   "source": [
    "### Как менялись продажи по платформам\n"
   ]
  },
  {
   "cell_type": "markdown",
   "metadata": {},
   "source": [
    "Добавим в столбец с количеством лет \"жизни\" платформы. Просто посчитаем, сколько лет на нее выходили игры"
   ]
  },
  {
   "cell_type": "code",
   "execution_count": 15,
   "metadata": {},
   "outputs": [
    {
     "data": {
      "text/html": [
       "<div>\n",
       "<style scoped>\n",
       "    .dataframe tbody tr th:only-of-type {\n",
       "        vertical-align: middle;\n",
       "    }\n",
       "\n",
       "    .dataframe tbody tr th {\n",
       "        vertical-align: top;\n",
       "    }\n",
       "\n",
       "    .dataframe thead th {\n",
       "        text-align: right;\n",
       "    }\n",
       "</style>\n",
       "<table border=\"1\" class=\"dataframe\">\n",
       "  <thead>\n",
       "    <tr style=\"text-align: right;\">\n",
       "      <th></th>\n",
       "      <th>platform</th>\n",
       "      <th>year_of_release</th>\n",
       "      <th>count</th>\n",
       "      <th>live</th>\n",
       "    </tr>\n",
       "  </thead>\n",
       "  <tbody>\n",
       "    <tr>\n",
       "      <td>0</td>\n",
       "      <td>2600</td>\n",
       "      <td>0</td>\n",
       "      <td>17</td>\n",
       "      <td>11</td>\n",
       "    </tr>\n",
       "    <tr>\n",
       "      <td>1</td>\n",
       "      <td>2600</td>\n",
       "      <td>1980</td>\n",
       "      <td>9</td>\n",
       "      <td>11</td>\n",
       "    </tr>\n",
       "    <tr>\n",
       "      <td>2</td>\n",
       "      <td>2600</td>\n",
       "      <td>1981</td>\n",
       "      <td>46</td>\n",
       "      <td>11</td>\n",
       "    </tr>\n",
       "    <tr>\n",
       "      <td>3</td>\n",
       "      <td>2600</td>\n",
       "      <td>1982</td>\n",
       "      <td>36</td>\n",
       "      <td>11</td>\n",
       "    </tr>\n",
       "    <tr>\n",
       "      <td>4</td>\n",
       "      <td>2600</td>\n",
       "      <td>1983</td>\n",
       "      <td>11</td>\n",
       "      <td>11</td>\n",
       "    </tr>\n",
       "    <tr>\n",
       "      <td>...</td>\n",
       "      <td>...</td>\n",
       "      <td>...</td>\n",
       "      <td>...</td>\n",
       "      <td>...</td>\n",
       "    </tr>\n",
       "    <tr>\n",
       "      <td>249</td>\n",
       "      <td>XB</td>\n",
       "      <td>2008</td>\n",
       "      <td>1</td>\n",
       "      <td>10</td>\n",
       "    </tr>\n",
       "    <tr>\n",
       "      <td>250</td>\n",
       "      <td>XOne</td>\n",
       "      <td>2013</td>\n",
       "      <td>19</td>\n",
       "      <td>4</td>\n",
       "    </tr>\n",
       "    <tr>\n",
       "      <td>251</td>\n",
       "      <td>XOne</td>\n",
       "      <td>2014</td>\n",
       "      <td>61</td>\n",
       "      <td>4</td>\n",
       "    </tr>\n",
       "    <tr>\n",
       "      <td>252</td>\n",
       "      <td>XOne</td>\n",
       "      <td>2015</td>\n",
       "      <td>80</td>\n",
       "      <td>4</td>\n",
       "    </tr>\n",
       "    <tr>\n",
       "      <td>253</td>\n",
       "      <td>XOne</td>\n",
       "      <td>2016</td>\n",
       "      <td>87</td>\n",
       "      <td>4</td>\n",
       "    </tr>\n",
       "  </tbody>\n",
       "</table>\n",
       "<p>254 rows × 4 columns</p>\n",
       "</div>"
      ],
      "text/plain": [
       "    platform  year_of_release  count  live\n",
       "0       2600                0     17    11\n",
       "1       2600             1980      9    11\n",
       "2       2600             1981     46    11\n",
       "3       2600             1982     36    11\n",
       "4       2600             1983     11    11\n",
       "..       ...              ...    ...   ...\n",
       "249       XB             2008      1    10\n",
       "250     XOne             2013     19     4\n",
       "251     XOne             2014     61     4\n",
       "252     XOne             2015     80     4\n",
       "253     XOne             2016     87     4\n",
       "\n",
       "[254 rows x 4 columns]"
      ]
     },
     "execution_count": 15,
     "metadata": {},
     "output_type": "execute_result"
    }
   ],
   "source": [
    "platform = data.pivot_table(index=['platform', 'year_of_release'], values ='name', aggfunc='count').reset_index()\n",
    "platform.columns = ['platform', 'year_of_release', 'count']\n",
    "platform_live = platform.pivot_table(index='platform', values='count', aggfunc='count').reset_index()\n",
    "platform_live.columns = ['platform', 'live']\n",
    "platform = platform.merge(platform_live, how='left')\n",
    "platform"
   ]
  },
  {
   "cell_type": "code",
   "execution_count": 16,
   "metadata": {
    "scrolled": false
   },
   "outputs": [
    {
     "data": {
      "text/plain": [
       "Text(0.5, 1.0, 'Количество лет \"жизни\" платформ')"
      ]
     },
     "execution_count": 16,
     "metadata": {},
     "output_type": "execute_result"
    },
    {
     "data": {
      "image/png": "[encoded data removed]",
      "text/plain": [
       "<Figure size 720x360 with 1 Axes>"
      ]
     },
     "metadata": {
      "needs_background": "light"
     },
     "output_type": "display_data"
    }
   ],
   "source": [
    "x2 = platform.groupby('platform')['live'].count(\n",
    ").sort_values(ascending=False).plot(kind='bar', figsize=(10,5), legend=True)\n",
    "x2.set_ylabel('Количество лет')\n",
    "x2.set_xlabel('Платформа')\n",
    "x2.set_title('Количество лет \"жизни\" платформ')"
   ]
  },
  {
   "cell_type": "markdown",
   "metadata": {},
   "source": [
    "Сложно сказать, за какой срок исчезают платформы. Все по разному. Вот PC например, вовсе не исчезла. В среднем, платформы исчезают после 10 лет существования."
   ]
  },
  {
   "cell_type": "code",
   "execution_count": 17,
   "metadata": {
    "scrolled": false
   },
   "outputs": [
    {
     "data": {
      "text/plain": [
       "Text(0.5, 1.0, 'Платформы и ко-во проданных на них игр')"
      ]
     },
     "execution_count": 17,
     "metadata": {},
     "output_type": "execute_result"
    },
    {
     "data": {
      "image/png": "[encoded data removed]",
      "text/plain": [
       "<Figure size 720x360 with 1 Axes>"
      ]
     },
     "metadata": {
      "needs_background": "light"
     },
     "output_type": "display_data"
    }
   ],
   "source": [
    "platform_count = data.pivot_table(index='platform', values ='name', \n",
    "                                  aggfunc='count').sort_values(by='name', ascending=False)\n",
    "x3 = platform_count.plot(kind='bar', figsize=(10,5), legend=False, title = 'Платформы и ко-во проданных на них игр')\n",
    "x3.set_ylabel('Количество лет')\n",
    "x3.set_xlabel('Платформа')\n",
    "x3.set_title('Платформы и ко-во проданных на них игр')"
   ]
  },
  {
   "cell_type": "markdown",
   "metadata": {},
   "source": [
    "Самые популярные платформы это PS2 и DS"
   ]
  },
  {
   "cell_type": "code",
   "execution_count": 18,
   "metadata": {
    "scrolled": false
   },
   "outputs": [
    {
     "data": {
      "image/png": "[encoded data removed]",
      "text/plain": [
       "<Figure size 432x288 with 1 Axes>"
      ]
     },
     "metadata": {
      "needs_background": "light"
     },
     "output_type": "display_data"
    },
    {
     "data": {
      "text/plain": [
       "Text(0.5, 1.0, 'DS')"
      ]
     },
     "execution_count": 18,
     "metadata": {},
     "output_type": "execute_result"
    },
    {
     "data": {
      "image/png": "[encoded data removed]",
      "text/plain": [
       "<Figure size 432x288 with 1 Axes>"
      ]
     },
     "metadata": {
      "needs_background": "light"
     },
     "output_type": "display_data"
    }
   ],
   "source": [
    "x4 = data.query('\"PS2\" in platform').pivot_table(index = 'year_of_release', \n",
    "                                            values='name', aggfunc='count').plot(kind='bar', legend=True)\n",
    "x4.set_ylabel('Кол-во проданных игр')\n",
    "x4.set_xlabel('Год релиза')\n",
    "x4.set_title('PS2')\n",
    "plt.show()\n",
    "x5 = data.query('\"DS\" in platform').pivot_table(index = 'year_of_release',\n",
    "                                           values='name', aggfunc='count').plot(kind='bar', legend=True)\n",
    "x5.set_ylabel('Кол-во проданных игр')\n",
    "x5.set_xlabel('Год релиза')\n",
    "x5.set_title('DS')"
   ]
  },
  {
   "cell_type": "markdown",
   "metadata": {},
   "source": [
    "По графикам видно, что пик продаж приходится после 3х-4х лет выпуска платформы"
   ]
  },
  {
   "cell_type": "markdown",
   "metadata": {},
   "source": [
    "### Данные за актуальный период\n"
   ]
  },
  {
   "cell_type": "code",
   "execution_count": 19,
   "metadata": {},
   "outputs": [
    {
     "data": {
      "text/html": [
       "<div>\n",
       "<style scoped>\n",
       "    .dataframe tbody tr th:only-of-type {\n",
       "        vertical-align: middle;\n",
       "    }\n",
       "\n",
       "    .dataframe tbody tr th {\n",
       "        vertical-align: top;\n",
       "    }\n",
       "\n",
       "    .dataframe thead th {\n",
       "        text-align: right;\n",
       "    }\n",
       "</style>\n",
       "<table border=\"1\" class=\"dataframe\">\n",
       "  <thead>\n",
       "    <tr style=\"text-align: right;\">\n",
       "      <th>year_of_release</th>\n",
       "      <th>2013</th>\n",
       "      <th>2014</th>\n",
       "      <th>2015</th>\n",
       "      <th>2016</th>\n",
       "    </tr>\n",
       "    <tr>\n",
       "      <th>platform</th>\n",
       "      <th></th>\n",
       "      <th></th>\n",
       "      <th></th>\n",
       "      <th></th>\n",
       "    </tr>\n",
       "  </thead>\n",
       "  <tbody>\n",
       "    <tr>\n",
       "      <td>3DS</td>\n",
       "      <td>91.0</td>\n",
       "      <td>80.0</td>\n",
       "      <td>86.0</td>\n",
       "      <td>46.0</td>\n",
       "    </tr>\n",
       "    <tr>\n",
       "      <td>PC</td>\n",
       "      <td>38.0</td>\n",
       "      <td>47.0</td>\n",
       "      <td>50.0</td>\n",
       "      <td>54.0</td>\n",
       "    </tr>\n",
       "    <tr>\n",
       "      <td>PS3</td>\n",
       "      <td>126.0</td>\n",
       "      <td>108.0</td>\n",
       "      <td>73.0</td>\n",
       "      <td>38.0</td>\n",
       "    </tr>\n",
       "    <tr>\n",
       "      <td>PS4</td>\n",
       "      <td>16.0</td>\n",
       "      <td>75.0</td>\n",
       "      <td>137.0</td>\n",
       "      <td>164.0</td>\n",
       "    </tr>\n",
       "    <tr>\n",
       "      <td>PSV</td>\n",
       "      <td>63.0</td>\n",
       "      <td>100.0</td>\n",
       "      <td>110.0</td>\n",
       "      <td>85.0</td>\n",
       "    </tr>\n",
       "    <tr>\n",
       "      <td>Wii</td>\n",
       "      <td>12.0</td>\n",
       "      <td>6.0</td>\n",
       "      <td>4.0</td>\n",
       "      <td>1.0</td>\n",
       "    </tr>\n",
       "    <tr>\n",
       "      <td>WiiU</td>\n",
       "      <td>42.0</td>\n",
       "      <td>31.0</td>\n",
       "      <td>28.0</td>\n",
       "      <td>14.0</td>\n",
       "    </tr>\n",
       "    <tr>\n",
       "      <td>X360</td>\n",
       "      <td>75.0</td>\n",
       "      <td>63.0</td>\n",
       "      <td>35.0</td>\n",
       "      <td>13.0</td>\n",
       "    </tr>\n",
       "    <tr>\n",
       "      <td>XOne</td>\n",
       "      <td>19.0</td>\n",
       "      <td>61.0</td>\n",
       "      <td>80.0</td>\n",
       "      <td>87.0</td>\n",
       "    </tr>\n",
       "    <tr>\n",
       "      <td>total</td>\n",
       "      <td>11.0</td>\n",
       "      <td>10.0</td>\n",
       "      <td>10.0</td>\n",
       "      <td>9.0</td>\n",
       "    </tr>\n",
       "  </tbody>\n",
       "</table>\n",
       "</div>"
      ],
      "text/plain": [
       "year_of_release   2013   2014   2015   2016\n",
       "platform                                   \n",
       "3DS               91.0   80.0   86.0   46.0\n",
       "PC                38.0   47.0   50.0   54.0\n",
       "PS3              126.0  108.0   73.0   38.0\n",
       "PS4               16.0   75.0  137.0  164.0\n",
       "PSV               63.0  100.0  110.0   85.0\n",
       "Wii               12.0    6.0    4.0    1.0\n",
       "WiiU              42.0   31.0   28.0   14.0\n",
       "X360              75.0   63.0   35.0   13.0\n",
       "XOne              19.0   61.0   80.0   87.0\n",
       "total             11.0   10.0   10.0    9.0"
      ]
     },
     "execution_count": 19,
     "metadata": {},
     "output_type": "execute_result"
    }
   ],
   "source": [
    "a1 = data.pivot_table(index=['platform'], columns='year_of_release', values ='name', aggfunc='count')\n",
    "a1.loc['total'] = a1.count(numeric_only=True)\n",
    "a1 = a1 [[2013, 2014, 2015, 2016]]\n",
    "a1.dropna()"
   ]
  },
  {
   "cell_type": "markdown",
   "metadata": {},
   "source": [
    "Для того, чтобы сделать прогноз, нам нужны данные по актульным платформам. Актуальные платформы у нас только в 2016 году. Например, в 2015 году 10 платформ еще актульны, а в 2016 году одна из этих платформ уже не актуальна. Но только 2016 года нам мало. Поэтому мы возьмем данные за последние 4 года (2013-2016), за исключением платформ PSP и DS, т.к к 2016 году они уже не актуальны. \n",
    "\n",
    "Итого у нас получается данные за 4 года по 9 актуальным платформам на 2016 года.Сформируем нашу выборку"
   ]
  },
  {
   "cell_type": "code",
   "execution_count": 20,
   "metadata": {},
   "outputs": [
    {
     "name": "stdout",
     "output_type": "stream",
     "text": [
      "103\n",
      "<class 'pandas.core.frame.DataFrame'>\n",
      "Int64Index: 2158 entries, 16 to 16714\n",
      "Data columns (total 11 columns):\n",
      "name               2158 non-null object\n",
      "platform           2158 non-null object\n",
      "year_of_release    2158 non-null int64\n",
      "genre              2158 non-null object\n",
      "na_sales           2158 non-null float64\n",
      "eu_sales           2158 non-null float64\n",
      "jp_sales           2158 non-null float64\n",
      "other_sales        2158 non-null float64\n",
      "critic_score       990 non-null float64\n",
      "user_score         1292 non-null object\n",
      "rating             2158 non-null object\n",
      "dtypes: float64(5), int64(1), object(5)\n",
      "memory usage: 202.3+ KB\n"
     ]
    }
   ],
   "source": [
    "data_actual = data[data['year_of_release']>2012]\n",
    "data_actual = data_actual[data_actual['platform']!='PSP']\n",
    "data_actual = data_actual[data_actual['platform']!='DS']\n",
    "print(data_actual[data_actual['user_score']=='tbd']['platform'].count())\n",
    "data_actual.reset_index(drop=True)\n",
    "data_actual.info()"
   ]
  },
  {
   "cell_type": "markdown",
   "metadata": {},
   "source": [
    "Получается, что оценки пользователей в нашей выборке со значением 'tbd' это 103 строки. Заполнить это значение медианой или средним не получится, т.к. игры одного жанра могут быть оценены пользователями по разному. От оценки критиков тоже отталкиваться нельзя. Ведь оценки пользователей и критиков не всегда совпадают. 103 строки от 2158 это 4.77%. Т.к это меньше 5% можно их удалить"
   ]
  },
  {
   "cell_type": "code",
   "execution_count": 21,
   "metadata": {},
   "outputs": [],
   "source": [
    "#data_actual = data_actual[data_actual['user_score']!='tbd']\n",
    "data_actual['user_score'] = data_actual['user_score'].replace('tbd', None)\n",
    "data_actual['user_score'] = data_actual['user_score'].astype('float')"
   ]
  },
  {
   "cell_type": "markdown",
   "metadata": {},
   "source": [
    "### Лидеры продаж"
   ]
  },
  {
   "cell_type": "markdown",
   "metadata": {},
   "source": [
    "Добавим столбец с общими продажами"
   ]
  },
  {
   "cell_type": "code",
   "execution_count": 22,
   "metadata": {},
   "outputs": [],
   "source": [
    "def total(row):\n",
    "    a =row['na_sales']+row['eu_sales']+row['jp_sales']+row['other_sales']\n",
    "    return a"
   ]
  },
  {
   "cell_type": "code",
   "execution_count": 23,
   "metadata": {},
   "outputs": [],
   "source": [
    "platform.fillna(0)\n",
    "data_actual['total_sales'] = data_actual.apply(total, axis=1)"
   ]
  },
  {
   "cell_type": "code",
   "execution_count": 24,
   "metadata": {},
   "outputs": [
    {
     "data": {
      "text/plain": [
       "Text(0.5, 1.0, 'Выявление потенциально прибыльных платформ')"
      ]
     },
     "execution_count": 24,
     "metadata": {},
     "output_type": "execute_result"
    },
    {
     "data": {
      "image/png": "[encoded data removed]",
      "text/plain": [
       "<Figure size 1080x576 with 1 Axes>"
      ]
     },
     "metadata": {
      "needs_background": "light"
     },
     "output_type": "display_data"
    }
   ],
   "source": [
    "platform_actual = data_actual.pivot_table(index='year_of_release', columns = 'platform', values='name', aggfunc='count')\n",
    "x6 = platform_actual.plot(figsize = (15,8))\n",
    "x6.set_ylabel('Кол-во проданных игр')\n",
    "x6.set_xlabel('Год релиза')\n",
    "x6.set_title('Выявление потенциально прибыльных платформ')"
   ]
  },
  {
   "cell_type": "markdown",
   "metadata": {},
   "source": [
    "Потенциально прибыльные платформы:\n",
    "- PS4\n",
    "- XOne\n",
    "- PC"
   ]
  },
  {
   "cell_type": "markdown",
   "metadata": {},
   "source": [
    "###  \"Ящик с усами\""
   ]
  },
  {
   "cell_type": "code",
   "execution_count": 25,
   "metadata": {},
   "outputs": [
    {
     "data": {
      "text/plain": [
       "<matplotlib.axes._subplots.AxesSubplot at 0x7fca0ac7a050>"
      ]
     },
     "execution_count": 25,
     "metadata": {},
     "output_type": "execute_result"
    },
    {
     "data": {
      "image/png": "[encoded data removed]",
      "text/plain": [
       "<Figure size 1080x576 with 1 Axes>"
      ]
     },
     "metadata": {
      "needs_background": "light"
     },
     "output_type": "display_data"
    }
   ],
   "source": [
    "platform_actual.boxplot(figsize = (15,8))"
   ]
  },
  {
   "cell_type": "markdown",
   "metadata": {},
   "source": [
    "Выбросов нет. Кроме одного, у платформы 3DS. Больше всего игр продается на PS4, а меньше всего на Wii, которая так же скорее всего утратит свою актуальность и перестанет поддерживаться. PlayStation лидируют на рынке."
   ]
  },
  {
   "cell_type": "markdown",
   "metadata": {},
   "source": [
    "### Влияние отзывов на покупки"
   ]
  },
  {
   "cell_type": "markdown",
   "metadata": {},
   "source": [
    "**Для самой популярной платформы ps4**"
   ]
  },
  {
   "cell_type": "code",
   "execution_count": 26,
   "metadata": {},
   "outputs": [],
   "source": [
    "ps4 = data_actual[data_actual['platform']=='PS4'].reset_index(drop=True)"
   ]
  },
  {
   "cell_type": "code",
   "execution_count": 27,
   "metadata": {},
   "outputs": [
    {
     "data": {
      "image/png": "[encoded data removed]",
      "text/plain": [
       "<Figure size 432x288 with 1 Axes>"
      ]
     },
     "metadata": {
      "needs_background": "light"
     },
     "output_type": "display_data"
    },
    {
     "data": {
      "text/plain": [
       "0.40656790206178095"
      ]
     },
     "execution_count": 27,
     "metadata": {},
     "output_type": "execute_result"
    }
   ],
   "source": [
    "x7 = ps4.plot(x='critic_score', y='total_sales', kind='scatter')\n",
    "x7.set_ylabel('Кол-во проданных игр')\n",
    "x7.set_xlabel('Оценка каритиков')\n",
    "x7.set_title('Зависимость продаж от отзывов критиков для PS4')\n",
    "plt.show()\n",
    "ps4['critic_score'].corr(ps4['total_sales'])"
   ]
  },
  {
   "cell_type": "markdown",
   "metadata": {},
   "source": [
    "Небольшая взаимосвязь между оценками критиков и продажами есть. Хорошие отзывы критиков немного стимулируют продажи игр."
   ]
  },
  {
   "cell_type": "code",
   "execution_count": 28,
   "metadata": {},
   "outputs": [
    {
     "data": {
      "image/png": "[encoded data removed]",
      "text/plain": [
       "<Figure size 432x288 with 1 Axes>"
      ]
     },
     "metadata": {
      "needs_background": "light"
     },
     "output_type": "display_data"
    },
    {
     "data": {
      "text/plain": [
       "-0.031090973535605467"
      ]
     },
     "execution_count": 28,
     "metadata": {},
     "output_type": "execute_result"
    }
   ],
   "source": [
    "ps4['user_score'] = ps4['user_score'].astype('float')\n",
    "x8 = ps4.plot(x='user_score', y='total_sales', kind='scatter')\n",
    "x8.set_ylabel('Кол-во проданных игр')\n",
    "x8.set_xlabel('Оценка пользователей')\n",
    "x8.set_title('Зависимость продаж от отзывов пользователей для PS4')\n",
    "plt.show()\n",
    "plt.show()\n",
    "ps4['user_score'].corr(ps4['total_sales'])"
   ]
  },
  {
   "cell_type": "markdown",
   "metadata": {},
   "source": [
    "Ввиду маленькой корреляции, взаимосвязи между отзывами пользователей и продажами игр нет"
   ]
  },
  {
   "cell_type": "markdown",
   "metadata": {},
   "source": [
    "**Для XOne**"
   ]
  },
  {
   "cell_type": "code",
   "execution_count": 29,
   "metadata": {},
   "outputs": [
    {
     "data": {
      "image/png": "[encoded data removed]",
      "text/plain": [
       "<Figure size 432x288 with 1 Axes>"
      ]
     },
     "metadata": {
      "needs_background": "light"
     },
     "output_type": "display_data"
    },
    {
     "data": {
      "text/plain": [
       "0.4169983280084017"
      ]
     },
     "execution_count": 29,
     "metadata": {},
     "output_type": "execute_result"
    }
   ],
   "source": [
    "xone = data_actual[data_actual['platform']=='XOne'].reset_index(drop=True)\n",
    "x9 = xone.plot(x='critic_score', y='total_sales', kind='scatter', title='Зависимость продаж от отзывов критиков для XOne')\n",
    "x9.set_ylabel('Кол-во проданных игр')\n",
    "x9.set_xlabel('Оценка критиков')\n",
    "x9.set_title('Зависимость продаж от отзывов критиков для XOne')\n",
    "plt.show()\n",
    "xone['critic_score'].corr(xone['total_sales'])"
   ]
  },
  {
   "cell_type": "markdown",
   "metadata": {},
   "source": [
    "Как и для PS4. Небольшая взаимосвязь между оценками критиков и продажами есть. Хорошие отзывы критиков немного стимулируют продажи игр."
   ]
  },
  {
   "cell_type": "code",
   "execution_count": 30,
   "metadata": {},
   "outputs": [
    {
     "data": {
      "image/png": "[encoded data removed]",
      "text/plain": [
       "<Figure size 432x288 with 1 Axes>"
      ]
     },
     "metadata": {
      "needs_background": "light"
     },
     "output_type": "display_data"
    },
    {
     "data": {
      "text/plain": [
       "-0.06721287752211576"
      ]
     },
     "execution_count": 30,
     "metadata": {},
     "output_type": "execute_result"
    }
   ],
   "source": [
    "xone['user_score'] = xone['user_score'].astype('float')\n",
    "x10 = xone.plot(x='user_score', y='total_sales', kind='scatter', title='Зависимость продаж от отзывов пользователей для XOne')\n",
    "x10.set_ylabel('Кол-во проданных игр')\n",
    "x10.set_xlabel('Оценка пользователей')\n",
    "x10.set_title('Зависимость продаж от отзывов пользователей для XOne')\n",
    "plt.show()\n",
    "xone['user_score'].corr(xone['total_sales'])"
   ]
  },
  {
   "cell_type": "markdown",
   "metadata": {},
   "source": [
    "Как и для PS4. Ввиду маленькой корреляции, взаимосвязи между отзывами пользователей и продажами игр нет"
   ]
  },
  {
   "cell_type": "markdown",
   "metadata": {},
   "source": [
    "**Для PC**"
   ]
  },
  {
   "cell_type": "code",
   "execution_count": 31,
   "metadata": {},
   "outputs": [
    {
     "data": {
      "image/png": "[encoded data removed]",
      "text/plain": [
       "<Figure size 432x288 with 1 Axes>"
      ]
     },
     "metadata": {
      "needs_background": "light"
     },
     "output_type": "display_data"
    },
    {
     "data": {
      "text/plain": [
       "0.19603028294369382"
      ]
     },
     "execution_count": 31,
     "metadata": {},
     "output_type": "execute_result"
    }
   ],
   "source": [
    "pc = data_actual[data_actual['platform']=='PC'].reset_index(drop=True)\n",
    "x11 = pc.plot(x='critic_score', y='total_sales', kind='scatter')\n",
    "x11.set_ylabel('Кол-во проданных игр')\n",
    "x11.set_xlabel('Оценка критиков')\n",
    "x11.set_title('Зависимость продаж от отзывов критиков для PC')\n",
    "plt.show()\n",
    "pc['critic_score'].corr(pc['total_sales'])"
   ]
  },
  {
   "cell_type": "markdown",
   "metadata": {},
   "source": [
    "Как и для PS4 и XOne. Небольшая взаимосвязь между оценками критиков и продажами есть, но меньше, чем у PS4 и XOne. Хорошие отзывы критиков немного стимулируют продажи игр."
   ]
  },
  {
   "cell_type": "code",
   "execution_count": 32,
   "metadata": {},
   "outputs": [
    {
     "data": {
      "image/png": "[encoded data removed]",
      "text/plain": [
       "<Figure size 432x288 with 1 Axes>"
      ]
     },
     "metadata": {
      "needs_background": "light"
     },
     "output_type": "display_data"
    },
    {
     "data": {
      "text/plain": [
       "-0.09095892098946329"
      ]
     },
     "execution_count": 32,
     "metadata": {},
     "output_type": "execute_result"
    }
   ],
   "source": [
    "pc['user_score'] = pc['user_score'].astype('float')\n",
    "x12 = pc.plot(x='user_score', y='total_sales', kind='scatter')\n",
    "x12.set_ylabel('Кол-во проданных игр')\n",
    "x12.set_xlabel('Оценка пользователей')\n",
    "x12.set_title('Зависимость продаж от отзывов пользователей для PC')\n",
    "plt.show()\n",
    "pc['user_score'].corr(pc['total_sales'])"
   ]
  },
  {
   "cell_type": "code",
   "execution_count": 33,
   "metadata": {},
   "outputs": [
    {
     "data": {
      "text/html": [
       "<div>\n",
       "<style scoped>\n",
       "    .dataframe tbody tr th:only-of-type {\n",
       "        vertical-align: middle;\n",
       "    }\n",
       "\n",
       "    .dataframe tbody tr th {\n",
       "        vertical-align: top;\n",
       "    }\n",
       "\n",
       "    .dataframe thead th {\n",
       "        text-align: right;\n",
       "    }\n",
       "</style>\n",
       "<table border=\"1\" class=\"dataframe\">\n",
       "  <thead>\n",
       "    <tr style=\"text-align: right;\">\n",
       "      <th></th>\n",
       "      <th>platform</th>\n",
       "      <th>critic_score</th>\n",
       "      <th>user_score</th>\n",
       "    </tr>\n",
       "  </thead>\n",
       "  <tbody>\n",
       "    <tr>\n",
       "      <td>0</td>\n",
       "      <td>PS3</td>\n",
       "      <td>0.406568</td>\n",
       "      <td>-0.031091</td>\n",
       "    </tr>\n",
       "    <tr>\n",
       "      <td>1</td>\n",
       "      <td>X360</td>\n",
       "      <td>0.416998</td>\n",
       "      <td>-0.067213</td>\n",
       "    </tr>\n",
       "    <tr>\n",
       "      <td>2</td>\n",
       "      <td>PC</td>\n",
       "      <td>0.196030</td>\n",
       "      <td>-0.090959</td>\n",
       "    </tr>\n",
       "  </tbody>\n",
       "</table>\n",
       "</div>"
      ],
      "text/plain": [
       "  platform  critic_score  user_score\n",
       "0      PS3      0.406568   -0.031091\n",
       "1     X360      0.416998   -0.067213\n",
       "2       PC      0.196030   -0.090959"
      ]
     },
     "execution_count": 33,
     "metadata": {},
     "output_type": "execute_result"
    }
   ],
   "source": [
    "pd.DataFrame(data=[['PS3', ps4['critic_score'].corr(ps4['total_sales']), ps4['user_score'].corr(ps4['total_sales'])], \n",
    "                   ['X360', xone['critic_score'].corr(xone['total_sales']), xone['user_score'].corr(xone['total_sales'])], \n",
    "                   ['PC', pc['critic_score'].corr(pc['total_sales']), pc['user_score'].corr(pc['total_sales'])]], \n",
    "             columns=['platform', 'critic_score', 'user_score'])#общая таблица с корреляцией"
   ]
  },
  {
   "cell_type": "markdown",
   "metadata": {},
   "source": [
    "Чем выше рейтинг пользователей, тем менее охотно покупают игру. Но это, ввиду маленькой корреляции, происходит очень редко.\n",
    "\n",
    "Можно сделать общий вывод для всех платформ: отзывы критиков немного влияют на покупку игр - чем выше отзывы, тем лучше покупается игра(особенно для приставок). Отзывы пользователей не влияют на покупку игр."
   ]
  },
  {
   "cell_type": "code",
   "execution_count": 34,
   "metadata": {},
   "outputs": [
    {
     "data": {
      "text/html": [
       "<div>\n",
       "<style scoped>\n",
       "    .dataframe tbody tr th:only-of-type {\n",
       "        vertical-align: middle;\n",
       "    }\n",
       "\n",
       "    .dataframe tbody tr th {\n",
       "        vertical-align: top;\n",
       "    }\n",
       "\n",
       "    .dataframe thead th {\n",
       "        text-align: right;\n",
       "    }\n",
       "</style>\n",
       "<table border=\"1\" class=\"dataframe\">\n",
       "  <thead>\n",
       "    <tr style=\"text-align: right;\">\n",
       "      <th></th>\n",
       "      <th>mean_critic_score</th>\n",
       "      <th>mean_user_score</th>\n",
       "      <th>total_sales</th>\n",
       "    </tr>\n",
       "    <tr>\n",
       "      <th>genre</th>\n",
       "      <th></th>\n",
       "      <th></th>\n",
       "      <th></th>\n",
       "    </tr>\n",
       "  </thead>\n",
       "  <tbody>\n",
       "    <tr>\n",
       "      <td>Action</td>\n",
       "      <td>71.453674</td>\n",
       "      <td>6.818250</td>\n",
       "      <td>2727.3</td>\n",
       "    </tr>\n",
       "    <tr>\n",
       "      <td>Shooter</td>\n",
       "      <td>72.917910</td>\n",
       "      <td>6.350311</td>\n",
       "      <td>1022.4</td>\n",
       "    </tr>\n",
       "    <tr>\n",
       "      <td>Role-Playing</td>\n",
       "      <td>73.468254</td>\n",
       "      <td>7.369630</td>\n",
       "      <td>994.9</td>\n",
       "    </tr>\n",
       "    <tr>\n",
       "      <td>Sports</td>\n",
       "      <td>71.660714</td>\n",
       "      <td>5.256875</td>\n",
       "      <td>841.1</td>\n",
       "    </tr>\n",
       "    <tr>\n",
       "      <td>Adventure</td>\n",
       "      <td>72.638298</td>\n",
       "      <td>7.383333</td>\n",
       "      <td>487.3</td>\n",
       "    </tr>\n",
       "    <tr>\n",
       "      <td>Platform</td>\n",
       "      <td>73.823529</td>\n",
       "      <td>6.721667</td>\n",
       "      <td>403.3</td>\n",
       "    </tr>\n",
       "    <tr>\n",
       "      <td>Racing</td>\n",
       "      <td>71.229508</td>\n",
       "      <td>6.106061</td>\n",
       "      <td>403.0</td>\n",
       "    </tr>\n",
       "    <tr>\n",
       "      <td>Misc</td>\n",
       "      <td>73.279070</td>\n",
       "      <td>6.894828</td>\n",
       "      <td>399.9</td>\n",
       "    </tr>\n",
       "    <tr>\n",
       "      <td>Fighting</td>\n",
       "      <td>69.595238</td>\n",
       "      <td>7.037500</td>\n",
       "      <td>337.8</td>\n",
       "    </tr>\n",
       "    <tr>\n",
       "      <td>Simulation</td>\n",
       "      <td>64.857143</td>\n",
       "      <td>6.148571</td>\n",
       "      <td>215.2</td>\n",
       "    </tr>\n",
       "    <tr>\n",
       "      <td>Strategy</td>\n",
       "      <td>74.576923</td>\n",
       "      <td>6.183333</td>\n",
       "      <td>185.5</td>\n",
       "    </tr>\n",
       "    <tr>\n",
       "      <td>Puzzle</td>\n",
       "      <td>75.571429</td>\n",
       "      <td>7.244444</td>\n",
       "      <td>65.2</td>\n",
       "    </tr>\n",
       "  </tbody>\n",
       "</table>\n",
       "</div>"
      ],
      "text/plain": [
       "              mean_critic_score  mean_user_score  total_sales\n",
       "genre                                                        \n",
       "Action                71.453674         6.818250       2727.3\n",
       "Shooter               72.917910         6.350311       1022.4\n",
       "Role-Playing          73.468254         7.369630        994.9\n",
       "Sports                71.660714         5.256875        841.1\n",
       "Adventure             72.638298         7.383333        487.3\n",
       "Platform              73.823529         6.721667        403.3\n",
       "Racing                71.229508         6.106061        403.0\n",
       "Misc                  73.279070         6.894828        399.9\n",
       "Fighting              69.595238         7.037500        337.8\n",
       "Simulation            64.857143         6.148571        215.2\n",
       "Strategy              74.576923         6.183333        185.5\n",
       "Puzzle                75.571429         7.244444         65.2"
      ]
     },
     "metadata": {},
     "output_type": "display_data"
    },
    {
     "data": {
      "text/plain": [
       "Text(0.5, 1.0, 'Количество продаж по жанрам')"
      ]
     },
     "execution_count": 34,
     "metadata": {},
     "output_type": "execute_result"
    },
    {
     "data": {
      "image/png": "[encoded data removed]",
      "text/plain": [
       "<Figure size 720x360 with 1 Axes>"
      ]
     },
     "metadata": {
      "needs_background": "light"
     },
     "output_type": "display_data"
    }
   ],
   "source": [
    "genre = data_actual.pivot_table(index = 'genre', values = 'total_sales', aggfunc='sum').sort_values('total_sales', \n",
    "                                                                                                 ascending=False)\n",
    "score = data_actual.pivot_table(index ='genre', values =['critic_score', 'user_score', 'total_sales'], \n",
    "                                       aggfunc=['mean', 'sum'])\n",
    "\n",
    "score.columns = ['mean_critic_score', 1, 'mean_user_score', 2, 3, 'total_sales']\n",
    "score = score[['mean_critic_score', 'mean_user_score', 'total_sales']]\n",
    "score = score.sort_values(by='total_sales', ascending=False)\n",
    "display(score)\n",
    "x13 = score['total_sales'].plot(kind='bar', figsize=(10,5))\n",
    "x13.set_ylabel('Кол-во проданных игр')\n",
    "x13.set_xlabel('Жанр')\n",
    "x13.set_title('Количество продаж по жанрам')"
   ]
  },
  {
   "cell_type": "markdown",
   "metadata": {},
   "source": [
    "Самый популярные жанр \"Action\", \"Role-Playing\" и \"Shooter\". Количество продаж топ 3 популярных больше, чем у всех остальных вместе взятых. На покупку игр самых популярных жанров отзывы критиков и пользователей не влияют"
   ]
  },
  {
   "cell_type": "markdown",
   "metadata": {},
   "source": [
    "Видно что игр в жанре экшн больше всего. Посчитаем медианные продажи по играм, чтобы понять, какой жанр обычно продается лучше."
   ]
  },
  {
   "cell_type": "code",
   "execution_count": 35,
   "metadata": {},
   "outputs": [
    {
     "data": {
      "text/plain": [
       "Text(0.5, 1.0, 'Количество продаж по жанрам')"
      ]
     },
     "execution_count": 35,
     "metadata": {},
     "output_type": "execute_result"
    },
    {
     "data": {
      "image/png": "[encoded data removed]",
      "text/plain": [
       "<Figure size 720x360 with 1 Axes>"
      ]
     },
     "metadata": {
      "needs_background": "light"
     },
     "output_type": "display_data"
    }
   ],
   "source": [
    "score_median = data_actual.pivot_table(index ='genre', \n",
    "                                       values =['total_sales'], aggfunc='median').sort_values(by='total_sales', ascending=False)\n",
    "score_median\n",
    "x14 = score_median.plot(kind='bar', figsize=(10,5))\n",
    "x14.set_ylabel('Медианные значения проданных игр')\n",
    "x14.set_xlabel('Жанр')\n",
    "x14.set_title('Количество продаж по жанрам')"
   ]
  },
  {
   "cell_type": "markdown",
   "metadata": {},
   "source": [
    "Не смотря на то, что по количетсву топ 3 жанра это \"Action\", \"Role-Playing\" и \"Shooter\", согласно медианным значениям, топ 3 жанра, которые продаются лучше всего это \"Shooter\", \"Sports\" и \"Platform\""
   ]
  },
  {
   "cell_type": "markdown",
   "metadata": {},
   "source": [
    "## Портрет пользователей каждого региона"
   ]
  },
  {
   "cell_type": "markdown",
   "metadata": {},
   "source": [
    "### Самые популярные платформы"
   ]
  },
  {
   "cell_type": "code",
   "execution_count": 36,
   "metadata": {},
   "outputs": [
    {
     "data": {
      "text/html": [
       "<div>\n",
       "<style scoped>\n",
       "    .dataframe tbody tr th:only-of-type {\n",
       "        vertical-align: middle;\n",
       "    }\n",
       "\n",
       "    .dataframe tbody tr th {\n",
       "        vertical-align: top;\n",
       "    }\n",
       "\n",
       "    .dataframe thead th {\n",
       "        text-align: right;\n",
       "    }\n",
       "</style>\n",
       "<table border=\"1\" class=\"dataframe\">\n",
       "  <thead>\n",
       "    <tr style=\"text-align: right;\">\n",
       "      <th></th>\n",
       "      <th>eu_sales</th>\n",
       "      <th>jp_sales</th>\n",
       "      <th>na_sales</th>\n",
       "      <th>total</th>\n",
       "    </tr>\n",
       "    <tr>\n",
       "      <th>platform</th>\n",
       "      <th></th>\n",
       "      <th></th>\n",
       "      <th></th>\n",
       "      <th></th>\n",
       "    </tr>\n",
       "  </thead>\n",
       "  <tbody>\n",
       "    <tr>\n",
       "      <td>3DS</td>\n",
       "      <td>30.96</td>\n",
       "      <td>67.81</td>\n",
       "      <td>38.20</td>\n",
       "      <td>136.97</td>\n",
       "    </tr>\n",
       "    <tr>\n",
       "      <td>PC</td>\n",
       "      <td>25.36</td>\n",
       "      <td>0.00</td>\n",
       "      <td>11.11</td>\n",
       "      <td>36.47</td>\n",
       "    </tr>\n",
       "    <tr>\n",
       "      <td>PS3</td>\n",
       "      <td>67.81</td>\n",
       "      <td>23.35</td>\n",
       "      <td>63.50</td>\n",
       "      <td>154.66</td>\n",
       "    </tr>\n",
       "    <tr>\n",
       "      <td>PS4</td>\n",
       "      <td>141.09</td>\n",
       "      <td>15.96</td>\n",
       "      <td>108.74</td>\n",
       "      <td>265.79</td>\n",
       "    </tr>\n",
       "    <tr>\n",
       "      <td>PSV</td>\n",
       "      <td>6.10</td>\n",
       "      <td>18.59</td>\n",
       "      <td>5.04</td>\n",
       "      <td>29.73</td>\n",
       "    </tr>\n",
       "    <tr>\n",
       "      <td>Wii</td>\n",
       "      <td>5.93</td>\n",
       "      <td>0.05</td>\n",
       "      <td>6.56</td>\n",
       "      <td>12.54</td>\n",
       "    </tr>\n",
       "    <tr>\n",
       "      <td>WiiU</td>\n",
       "      <td>19.85</td>\n",
       "      <td>10.88</td>\n",
       "      <td>29.21</td>\n",
       "      <td>59.94</td>\n",
       "    </tr>\n",
       "    <tr>\n",
       "      <td>X360</td>\n",
       "      <td>42.52</td>\n",
       "      <td>0.51</td>\n",
       "      <td>81.66</td>\n",
       "      <td>124.69</td>\n",
       "    </tr>\n",
       "    <tr>\n",
       "      <td>XOne</td>\n",
       "      <td>51.59</td>\n",
       "      <td>0.34</td>\n",
       "      <td>93.12</td>\n",
       "      <td>145.05</td>\n",
       "    </tr>\n",
       "  </tbody>\n",
       "</table>\n",
       "</div>"
      ],
      "text/plain": [
       "          eu_sales  jp_sales  na_sales   total\n",
       "platform                                      \n",
       "3DS          30.96     67.81     38.20  136.97\n",
       "PC           25.36      0.00     11.11   36.47\n",
       "PS3          67.81     23.35     63.50  154.66\n",
       "PS4         141.09     15.96    108.74  265.79\n",
       "PSV           6.10     18.59      5.04   29.73\n",
       "Wii           5.93      0.05      6.56   12.54\n",
       "WiiU         19.85     10.88     29.21   59.94\n",
       "X360         42.52      0.51     81.66  124.69\n",
       "XOne         51.59      0.34     93.12  145.05"
      ]
     },
     "metadata": {},
     "output_type": "display_data"
    },
    {
     "data": {
      "text/plain": [
       "<matplotlib.axes._subplots.AxesSubplot at 0x7fca08d7b9d0>"
      ]
     },
     "execution_count": 36,
     "metadata": {},
     "output_type": "execute_result"
    },
    {
     "data": {
      "image/png": "[encoded data removed]",
      "text/plain": [
       "<Figure size 720x360 with 1 Axes>"
      ]
     },
     "metadata": {
      "needs_background": "light"
     },
     "output_type": "display_data"
    }
   ],
   "source": [
    "popular_platform = data_actual.pivot_table(index=['platform'], values=['na_sales', 'eu_sales', 'jp_sales'], \n",
    "                             aggfunc='sum')\n",
    "popular_platform[\"total\"] = popular_platform.loc[:, :].sum(axis=1)\n",
    "display(popular_platform)\n",
    "popular_platform[['na_sales', 'eu_sales', 'jp_sales']].plot(kind='bar', figsize=(10,5))"
   ]
  },
  {
   "cell_type": "markdown",
   "metadata": {},
   "source": [
    "Самые популярные платформы:\n",
    "- Европа: PS4 - 53% от продаж в мире\n",
    "- Япония: 3DS - 49% от продаж в мире\n",
    "- Северная Америка: PS4 - 40% от продаж в мире\n",
    "\n",
    "Самые непопулярные платформы:\n",
    "- Европа: Wii\n",
    "- Япония: PC\n",
    "- Северная Америка: PSV\n",
    "\n",
    "В Японии на платформу 3DS игры покупают почти в 2 раза больше, чем в Европе и Северной Америке. В Европе в 9 раз больше покупают игры для PS4 чем в Японии, а в Северной Америке в 7 раз больше. Северная Америка и Европа это 93% рынка для PS4. А Япония - это половина всех покупателей игр на платформу 3DS в мире."
   ]
  },
  {
   "cell_type": "markdown",
   "metadata": {},
   "source": [
    "Топ 5 популярных платформ в Европе"
   ]
  },
  {
   "cell_type": "code",
   "execution_count": 37,
   "metadata": {},
   "outputs": [
    {
     "data": {
      "text/html": [
       "<div>\n",
       "<style scoped>\n",
       "    .dataframe tbody tr th:only-of-type {\n",
       "        vertical-align: middle;\n",
       "    }\n",
       "\n",
       "    .dataframe tbody tr th {\n",
       "        vertical-align: top;\n",
       "    }\n",
       "\n",
       "    .dataframe thead th {\n",
       "        text-align: right;\n",
       "    }\n",
       "</style>\n",
       "<table border=\"1\" class=\"dataframe\">\n",
       "  <thead>\n",
       "    <tr style=\"text-align: right;\">\n",
       "      <th></th>\n",
       "      <th>platform</th>\n",
       "      <th>eu_sales</th>\n",
       "    </tr>\n",
       "  </thead>\n",
       "  <tbody>\n",
       "    <tr>\n",
       "      <td>0</td>\n",
       "      <td>PS4</td>\n",
       "      <td>141.09</td>\n",
       "    </tr>\n",
       "    <tr>\n",
       "      <td>1</td>\n",
       "      <td>PS3</td>\n",
       "      <td>67.81</td>\n",
       "    </tr>\n",
       "    <tr>\n",
       "      <td>2</td>\n",
       "      <td>XOne</td>\n",
       "      <td>51.59</td>\n",
       "    </tr>\n",
       "    <tr>\n",
       "      <td>3</td>\n",
       "      <td>X360</td>\n",
       "      <td>42.52</td>\n",
       "    </tr>\n",
       "    <tr>\n",
       "      <td>4</td>\n",
       "      <td>3DS</td>\n",
       "      <td>30.96</td>\n",
       "    </tr>\n",
       "  </tbody>\n",
       "</table>\n",
       "</div>"
      ],
      "text/plain": [
       "  platform  eu_sales\n",
       "0      PS4    141.09\n",
       "1      PS3     67.81\n",
       "2     XOne     51.59\n",
       "3     X360     42.52\n",
       "4      3DS     30.96"
      ]
     },
     "metadata": {},
     "output_type": "display_data"
    },
    {
     "data": {
      "image/png": "[encoded data removed]",
      "text/plain": [
       "<Figure size 1080x720 with 1 Axes>"
      ]
     },
     "metadata": {},
     "output_type": "display_data"
    }
   ],
   "source": [
    "popular_platform_eu = popular_platform[['eu_sales']]\n",
    "popular_platform_eu = popular_platform_eu.sort_values(by='eu_sales', ascending=False).reset_index().head()\n",
    "display(popular_platform_eu)\n",
    "plt.figure(figsize = (15,10))\n",
    "plt.pie(popular_platform_eu['eu_sales'], labels= popular_platform_eu['platform'], labeldistance=1.15, autopct='%.1f')\n",
    "plt.show()"
   ]
  },
  {
   "cell_type": "markdown",
   "metadata": {},
   "source": [
    "Топ 5 популярных платформ в Японии"
   ]
  },
  {
   "cell_type": "code",
   "execution_count": 38,
   "metadata": {},
   "outputs": [
    {
     "data": {
      "text/html": [
       "<div>\n",
       "<style scoped>\n",
       "    .dataframe tbody tr th:only-of-type {\n",
       "        vertical-align: middle;\n",
       "    }\n",
       "\n",
       "    .dataframe tbody tr th {\n",
       "        vertical-align: top;\n",
       "    }\n",
       "\n",
       "    .dataframe thead th {\n",
       "        text-align: right;\n",
       "    }\n",
       "</style>\n",
       "<table border=\"1\" class=\"dataframe\">\n",
       "  <thead>\n",
       "    <tr style=\"text-align: right;\">\n",
       "      <th></th>\n",
       "      <th>platform</th>\n",
       "      <th>jp_sales</th>\n",
       "    </tr>\n",
       "  </thead>\n",
       "  <tbody>\n",
       "    <tr>\n",
       "      <td>0</td>\n",
       "      <td>3DS</td>\n",
       "      <td>67.81</td>\n",
       "    </tr>\n",
       "    <tr>\n",
       "      <td>1</td>\n",
       "      <td>PS3</td>\n",
       "      <td>23.35</td>\n",
       "    </tr>\n",
       "    <tr>\n",
       "      <td>2</td>\n",
       "      <td>PSV</td>\n",
       "      <td>18.59</td>\n",
       "    </tr>\n",
       "    <tr>\n",
       "      <td>3</td>\n",
       "      <td>PS4</td>\n",
       "      <td>15.96</td>\n",
       "    </tr>\n",
       "    <tr>\n",
       "      <td>4</td>\n",
       "      <td>WiiU</td>\n",
       "      <td>10.88</td>\n",
       "    </tr>\n",
       "  </tbody>\n",
       "</table>\n",
       "</div>"
      ],
      "text/plain": [
       "  platform  jp_sales\n",
       "0      3DS     67.81\n",
       "1      PS3     23.35\n",
       "2      PSV     18.59\n",
       "3      PS4     15.96\n",
       "4     WiiU     10.88"
      ]
     },
     "metadata": {},
     "output_type": "display_data"
    },
    {
     "data": {
      "image/png": "[encoded data removed]",
      "text/plain": [
       "<Figure size 1080x720 with 1 Axes>"
      ]
     },
     "metadata": {},
     "output_type": "display_data"
    }
   ],
   "source": [
    "popular_platform_jp = popular_platform[['jp_sales']]\n",
    "popular_platform_jp = popular_platform_jp.sort_values(by='jp_sales', ascending=False).reset_index().head()\n",
    "display(popular_platform_jp)\n",
    "plt.figure(figsize = (15,10))\n",
    "plt.pie(popular_platform_jp['jp_sales'], labels= popular_platform_jp['platform'], labeldistance=1.15, autopct='%.1f')\n",
    "plt.show()"
   ]
  },
  {
   "cell_type": "markdown",
   "metadata": {},
   "source": [
    "Топ 5 популярных платформ в Северной Америке"
   ]
  },
  {
   "cell_type": "code",
   "execution_count": 39,
   "metadata": {},
   "outputs": [
    {
     "data": {
      "text/html": [
       "<div>\n",
       "<style scoped>\n",
       "    .dataframe tbody tr th:only-of-type {\n",
       "        vertical-align: middle;\n",
       "    }\n",
       "\n",
       "    .dataframe tbody tr th {\n",
       "        vertical-align: top;\n",
       "    }\n",
       "\n",
       "    .dataframe thead th {\n",
       "        text-align: right;\n",
       "    }\n",
       "</style>\n",
       "<table border=\"1\" class=\"dataframe\">\n",
       "  <thead>\n",
       "    <tr style=\"text-align: right;\">\n",
       "      <th></th>\n",
       "      <th>platform</th>\n",
       "      <th>na_sales</th>\n",
       "    </tr>\n",
       "  </thead>\n",
       "  <tbody>\n",
       "    <tr>\n",
       "      <td>0</td>\n",
       "      <td>PS4</td>\n",
       "      <td>108.74</td>\n",
       "    </tr>\n",
       "    <tr>\n",
       "      <td>1</td>\n",
       "      <td>XOne</td>\n",
       "      <td>93.12</td>\n",
       "    </tr>\n",
       "    <tr>\n",
       "      <td>2</td>\n",
       "      <td>X360</td>\n",
       "      <td>81.66</td>\n",
       "    </tr>\n",
       "    <tr>\n",
       "      <td>3</td>\n",
       "      <td>PS3</td>\n",
       "      <td>63.50</td>\n",
       "    </tr>\n",
       "    <tr>\n",
       "      <td>4</td>\n",
       "      <td>3DS</td>\n",
       "      <td>38.20</td>\n",
       "    </tr>\n",
       "  </tbody>\n",
       "</table>\n",
       "</div>"
      ],
      "text/plain": [
       "  platform  na_sales\n",
       "0      PS4    108.74\n",
       "1     XOne     93.12\n",
       "2     X360     81.66\n",
       "3      PS3     63.50\n",
       "4      3DS     38.20"
      ]
     },
     "metadata": {},
     "output_type": "display_data"
    },
    {
     "data": {
      "image/png": "[encoded data removed]",
      "text/plain": [
       "<Figure size 1080x720 with 1 Axes>"
      ]
     },
     "metadata": {},
     "output_type": "display_data"
    }
   ],
   "source": [
    "popular_platform_na = popular_platform[['na_sales']]\n",
    "popular_platform_na = popular_platform_na.sort_values(by='na_sales', ascending=False).reset_index().head()\n",
    "display(popular_platform_na)\n",
    "plt.figure(figsize = (15,10))\n",
    "plt.pie(popular_platform_na['na_sales'], labels= popular_platform_na['platform'], labeldistance=1.15, autopct='%.1f')\n",
    "plt.show()"
   ]
  },
  {
   "cell_type": "markdown",
   "metadata": {},
   "source": [
    "### Самые популярные жанры\n"
   ]
  },
  {
   "cell_type": "code",
   "execution_count": 40,
   "metadata": {
    "scrolled": false
   },
   "outputs": [
    {
     "data": {
      "text/html": [
       "<div>\n",
       "<style scoped>\n",
       "    .dataframe tbody tr th:only-of-type {\n",
       "        vertical-align: middle;\n",
       "    }\n",
       "\n",
       "    .dataframe tbody tr th {\n",
       "        vertical-align: top;\n",
       "    }\n",
       "\n",
       "    .dataframe thead th {\n",
       "        text-align: right;\n",
       "    }\n",
       "</style>\n",
       "<table border=\"1\" class=\"dataframe\">\n",
       "  <thead>\n",
       "    <tr style=\"text-align: right;\">\n",
       "      <th></th>\n",
       "      <th>eu_sales</th>\n",
       "      <th>jp_sales</th>\n",
       "      <th>na_sales</th>\n",
       "      <th>total</th>\n",
       "    </tr>\n",
       "    <tr>\n",
       "      <th>genre</th>\n",
       "      <th></th>\n",
       "      <th></th>\n",
       "      <th></th>\n",
       "      <th></th>\n",
       "    </tr>\n",
       "  </thead>\n",
       "  <tbody>\n",
       "    <tr>\n",
       "      <td>Action</td>\n",
       "      <td>117.87</td>\n",
       "      <td>39.65</td>\n",
       "      <td>125.83</td>\n",
       "      <td>283.35</td>\n",
       "    </tr>\n",
       "    <tr>\n",
       "      <td>Adventure</td>\n",
       "      <td>8.22</td>\n",
       "      <td>5.11</td>\n",
       "      <td>7.14</td>\n",
       "      <td>20.47</td>\n",
       "    </tr>\n",
       "    <tr>\n",
       "      <td>Fighting</td>\n",
       "      <td>8.55</td>\n",
       "      <td>7.63</td>\n",
       "      <td>15.55</td>\n",
       "      <td>31.73</td>\n",
       "    </tr>\n",
       "    <tr>\n",
       "      <td>Misc</td>\n",
       "      <td>20.00</td>\n",
       "      <td>9.03</td>\n",
       "      <td>27.46</td>\n",
       "      <td>56.49</td>\n",
       "    </tr>\n",
       "    <tr>\n",
       "      <td>Platform</td>\n",
       "      <td>15.15</td>\n",
       "      <td>4.79</td>\n",
       "      <td>17.93</td>\n",
       "      <td>37.87</td>\n",
       "    </tr>\n",
       "    <tr>\n",
       "      <td>Puzzle</td>\n",
       "      <td>1.00</td>\n",
       "      <td>1.18</td>\n",
       "      <td>0.83</td>\n",
       "      <td>3.01</td>\n",
       "    </tr>\n",
       "    <tr>\n",
       "      <td>Racing</td>\n",
       "      <td>20.19</td>\n",
       "      <td>2.30</td>\n",
       "      <td>12.96</td>\n",
       "      <td>35.45</td>\n",
       "    </tr>\n",
       "    <tr>\n",
       "      <td>Role-Playing</td>\n",
       "      <td>36.97</td>\n",
       "      <td>50.01</td>\n",
       "      <td>46.40</td>\n",
       "      <td>133.38</td>\n",
       "    </tr>\n",
       "    <tr>\n",
       "      <td>Shooter</td>\n",
       "      <td>87.86</td>\n",
       "      <td>6.61</td>\n",
       "      <td>109.74</td>\n",
       "      <td>204.21</td>\n",
       "    </tr>\n",
       "    <tr>\n",
       "      <td>Simulation</td>\n",
       "      <td>10.84</td>\n",
       "      <td>4.52</td>\n",
       "      <td>4.75</td>\n",
       "      <td>20.11</td>\n",
       "    </tr>\n",
       "    <tr>\n",
       "      <td>Sports</td>\n",
       "      <td>60.34</td>\n",
       "      <td>4.91</td>\n",
       "      <td>65.27</td>\n",
       "      <td>130.52</td>\n",
       "    </tr>\n",
       "    <tr>\n",
       "      <td>Strategy</td>\n",
       "      <td>4.22</td>\n",
       "      <td>1.75</td>\n",
       "      <td>3.28</td>\n",
       "      <td>9.25</td>\n",
       "    </tr>\n",
       "  </tbody>\n",
       "</table>\n",
       "</div>"
      ],
      "text/plain": [
       "              eu_sales  jp_sales  na_sales   total\n",
       "genre                                             \n",
       "Action          117.87     39.65    125.83  283.35\n",
       "Adventure         8.22      5.11      7.14   20.47\n",
       "Fighting          8.55      7.63     15.55   31.73\n",
       "Misc             20.00      9.03     27.46   56.49\n",
       "Platform         15.15      4.79     17.93   37.87\n",
       "Puzzle            1.00      1.18      0.83    3.01\n",
       "Racing           20.19      2.30     12.96   35.45\n",
       "Role-Playing     36.97     50.01     46.40  133.38\n",
       "Shooter          87.86      6.61    109.74  204.21\n",
       "Simulation       10.84      4.52      4.75   20.11\n",
       "Sports           60.34      4.91     65.27  130.52\n",
       "Strategy          4.22      1.75      3.28    9.25"
      ]
     },
     "metadata": {},
     "output_type": "display_data"
    },
    {
     "data": {
      "image/png": "[encoded data removed]",
      "text/plain": [
       "<Figure size 720x360 with 1 Axes>"
      ]
     },
     "metadata": {
      "needs_background": "light"
     },
     "output_type": "display_data"
    },
    {
     "data": {
      "image/png": "[encoded data removed]",
      "text/plain": [
       "<Figure size 720x360 with 1 Axes>"
      ]
     },
     "metadata": {
      "needs_background": "light"
     },
     "output_type": "display_data"
    },
    {
     "data": {
      "image/png": "[encoded data removed]",
      "text/plain": [
       "<Figure size 720x360 with 1 Axes>"
      ]
     },
     "metadata": {
      "needs_background": "light"
     },
     "output_type": "display_data"
    },
    {
     "data": {
      "image/png": "[encoded data removed]",
      "text/plain": [
       "<Figure size 720x360 with 1 Axes>"
      ]
     },
     "metadata": {
      "needs_background": "light"
     },
     "output_type": "display_data"
    }
   ],
   "source": [
    "popular_genre = data_actual.pivot_table(index=['genre'], values=['na_sales', 'eu_sales', 'jp_sales'], \n",
    "                             aggfunc='sum')\n",
    "popular_genre['total'] = popular_genre.loc[:, :].sum(axis=1)\n",
    "display(popular_genre)\n",
    "x15 = popular_genre['eu_sales'].sort_values(ascending=False).plot(kind='bar', figsize=(10,5))\n",
    "x15.set_ylabel('Количесво проданых игр')\n",
    "x15.set_xlabel('Жанр')\n",
    "x15.set_title('Популярность жанров в Европе')\n",
    "plt.show()\n",
    "x16 = popular_genre['na_sales'].sort_values(ascending=False).plot(kind='bar', figsize=(10,5))\n",
    "x16.set_ylabel('Количесво проданых игр')\n",
    "x16.set_xlabel('Жанр')\n",
    "x16.set_title('Популярность жанров в Северной Америке')\n",
    "plt.show()\n",
    "x17 = popular_genre['jp_sales'].sort_values(ascending=False).plot(kind='bar', figsize=(10,5))\n",
    "x17.set_ylabel('Количесво проданых игр')\n",
    "x17.set_xlabel('Жанр')\n",
    "x17.set_title('Популярность жанров в Японии')\n",
    "plt.show()\n",
    "x18 = popular_genre[['na_sales', 'eu_sales', 'jp_sales']].plot(kind='bar', figsize=(10,5))\n",
    "x18.set_ylabel('Количесво проданых игр')\n",
    "x18.set_xlabel('Жанр')\n",
    "x18.set_title('Популярность жанров, сравнение в регионах')\n",
    "plt.show()"
   ]
  },
  {
   "cell_type": "markdown",
   "metadata": {},
   "source": [
    "Для Северной Америки и Европы топ 3 популярных жанра это Action, Shooter и Sports. Причем и продажи по ним очень похожи. Для Японии можно выделить топ 2 - Role-Playing и Action"
   ]
  },
  {
   "cell_type": "code",
   "execution_count": 41,
   "metadata": {},
   "outputs": [
    {
     "data": {
      "text/plain": [
       "undefined    911\n",
       "M            369\n",
       "T            332\n",
       "E            296\n",
       "E10+         250\n",
       "Name: rating, dtype: int64"
      ]
     },
     "execution_count": 41,
     "metadata": {},
     "output_type": "execute_result"
    }
   ],
   "source": [
    "data_actual['rating'].value_counts()"
   ]
  },
  {
   "cell_type": "code",
   "execution_count": 42,
   "metadata": {},
   "outputs": [
    {
     "data": {
      "text/plain": [
       "<matplotlib.axes._subplots.AxesSubplot at 0x7fca088a4d90>"
      ]
     },
     "execution_count": 42,
     "metadata": {},
     "output_type": "execute_result"
    },
    {
     "data": {
      "image/png": "[encoded data removed]",
      "text/plain": [
       "<Figure size 720x360 with 1 Axes>"
      ]
     },
     "metadata": {
      "needs_background": "light"
     },
     "output_type": "display_data"
    }
   ],
   "source": [
    "data_actual.pivot_table(index='rating', \n",
    "                        values=['na_sales',\n",
    "                                'eu_sales', \n",
    "                                'jp_sales'], aggfunc='sum').sort_values(by='na_sales', \n",
    "                                                                        ascending=False).plot(kind='bar', figsize=(10,5))"
   ]
  },
  {
   "cell_type": "markdown",
   "metadata": {},
   "source": [
    "По графику видно, что в Европе и Северной Америке самые популярные игры это 18+. В Японии наиболее популярны игры без возрастного рейтинга, в то время, как в Северной Америке и Европе этот рейтинг занимает второе место. Можно сделать вывод, что рейтинг влияет на покупку игры в любом регионе. Общее у всех регионов то, что игры без возрастного рейтинга продаются почти одинаково в каждом регионе."
   ]
  },
  {
   "cell_type": "markdown",
   "metadata": {},
   "source": [
    "## Проверка гипотез"
   ]
  },
  {
   "cell_type": "markdown",
   "metadata": {},
   "source": [
    "### Гипотеза 1"
   ]
  },
  {
   "cell_type": "markdown",
   "metadata": {},
   "source": [
    "Нулевая гипотеза: Средние пользовательские рейтинги платформ Xbox One и PC одинаковые\n",
    "\n",
    "Альтернативная гипотеза: Средние пользовательские рейтинги платформ Xbox One и PC разные"
   ]
  },
  {
   "cell_type": "code",
   "execution_count": 43,
   "metadata": {},
   "outputs": [],
   "source": [
    "pc = pc[['name', 'platform', 'user_score']]\n",
    "pc = pc.dropna()\n",
    "xone = xone[['name', 'platform', 'user_score']]\n",
    "xone = xone.dropna() #удалим нулевые значения, чтобы t-test сработал"
   ]
  },
  {
   "cell_type": "code",
   "execution_count": 44,
   "metadata": {},
   "outputs": [
    {
     "name": "stdout",
     "output_type": "stream",
     "text": [
      "p-значение:  0.1231762451110809\n",
      "Не получилось отвергнуть нулевую гипотезу\n"
     ]
    }
   ],
   "source": [
    "alpha = .05\n",
    "results = st.ttest_ind(pc['user_score'], xone['user_score'])\n",
    "print('p-значение: ', results.pvalue)\n",
    "if results.pvalue < alpha:\n",
    "    print(\"Отвергаем нулевую гипотезу\")\n",
    "else:\n",
    "    print(\"Не получилось отвергнуть нулевую гипотезу\") "
   ]
  },
  {
   "cell_type": "markdown",
   "metadata": {},
   "source": [
    "Нулевая гипотеза не отвергнута, но мы не можем утреждать, что cредние пользовательские рейтинги платформ Xbox One и PC равны. Здесь мы использовали проверку гипотез о равенстве средних двух независимых ГС. Это двусторонняя гипотеза, ведь нам не нужно проверять чьи рейтинги выше"
   ]
  },
  {
   "cell_type": "markdown",
   "metadata": {},
   "source": [
    "### Гипотеза 2"
   ]
  },
  {
   "cell_type": "markdown",
   "metadata": {},
   "source": [
    "Нулевая гипотеза: Средние пользовательские рейтинги жанров Action и Sports равны.\n",
    "\n",
    "Альтернативная гипотеза: Средние пользовательские рейтинги жанров Action и Sports не равны."
   ]
  },
  {
   "cell_type": "code",
   "execution_count": 45,
   "metadata": {},
   "outputs": [],
   "source": [
    "action = data_actual[data_actual['genre']=='Action']\n",
    "action = action[['name', 'genre', 'user_score']]\n",
    "sports = data_actual[data_actual['genre']=='Sports']\n",
    "sports = sports [['name', 'genre', 'user_score']]\n",
    "action = action.dropna()#удалим нулевые значения, чтобы t-test сработал\n",
    "sports = sports.dropna()"
   ]
  },
  {
   "cell_type": "code",
   "execution_count": 46,
   "metadata": {},
   "outputs": [
    {
     "name": "stdout",
     "output_type": "stream",
     "text": [
      "p-значение:  2.7579114431814675e-26\n",
      "Отвергаем нулевую гипотезу\n"
     ]
    }
   ],
   "source": [
    "alpha = .05\n",
    "results = st.ttest_ind(action['user_score'], sports['user_score'])\n",
    "print('p-значение: ', results.pvalue)\n",
    "if results.pvalue < alpha:\n",
    "    print(\"Отвергаем нулевую гипотезу\")\n",
    "else:\n",
    "    print(\"Не получилось отвергнуть нулевую гипотезу\") "
   ]
  },
  {
   "cell_type": "markdown",
   "metadata": {},
   "source": [
    "Нулевая гипотеза отвергнута. Значит, принимаем альтернативную: Средние пользовательские рейтинги жанров Action и Sports не равны. Здесь мы тоже использовали проверку гипотез о равенстве средних двух независимых ГС. Это двусторонняя гипотеза, ведь нам не нужно проверять чьи рейтинги выше."
   ]
  },
  {
   "cell_type": "markdown",
   "metadata": {},
   "source": [
    "## Вывод"
   ]
  },
  {
   "cell_type": "markdown",
   "metadata": {},
   "source": [
    "Мы провели исследование о продаже игр в разных регионах. В изначальных данных было много пропусков, которые нельзя было заполнить. Такие как рейтинг пользователей, или критиков. Но в конечном итоге эти пропуски не повлияли на ход исследования.\n",
    "\n",
    "Для исследования мы использовали не все предоставленные данные, а только выборку за последние 4 года. Т.к. некоторые платфомы были уже не актульны на последние 4 года. Мы взяли выборку за последние 4 года, но исключили из них две консоли, которые тоже перестали поддерживаться. Итого наша выборка состоит из 9 консолей и 4 лет данных по ним.\n",
    "\n",
    "В ходе исследования, оказалось что самая долго \"живущая\" платформа это PC - 27 лет на рынке. Но, несмотря на такой возраст, это не самая популярная платформа. Мы выделили топ 3 популярых платформ PS4, XOne и PC. Это лидеры рынка и потенциально прибыльные платформы.\n",
    "\n",
    "Мы проанализировали, как влияют отзывы критиков и пользователей на продажи игр. Можно сделать общий вывод для всех платформ: отзывы критиков немного влияют на покупку игр - чем выше отзывы, тем лучше покупается игра(особенно для приставок). Отзывы пользователей почти не влияют на покупку игр, а если влияют, то очень и очень редко после положительных отзывов пользователей, игру начинают покупать меньше(коэф. корреляции отрицательный).\n",
    "\n",
    "\n",
    "Самые популярные платформы:\n",
    "\n",
    "- Европа: PS4 - 53% от продаж в мире\n",
    "- Япония: 3DS - 49% от продаж в мире\n",
    "- Северная Америка: PS4 - 40% от продаж в мире\n",
    "\n",
    "Самые непопулярные платформы:\n",
    "\n",
    "- Европа: Wii\n",
    "- Япония: PC\n",
    "- Северная Америка: PSV\n",
    "\n",
    "В Японии на платформу 3DS игры покупают почти в 2 раза больше, чем в Европе и Северной Америке. В Европе в 9 раз больше покупают игры для PS4 чем в Японии, а в Северной Америке в 7 раз больше. Северная Америка и Европа это 93% рынка для PS4. А Япония - это половина всех покупателей игр на платформу 3DS в мире.\n",
    "\n",
    "Для Северной Америки и Европы топ 3 популярных жанра это Action, Shooter и Sports. Причем и продажи по ним очень похожи. Для Японии можно выделить топ 2 - Role-Playing и Action.\n",
    "\n",
    "Европе и Северной Америке самые популярные игры это 18+. В Японии наиболее популярны игры без возрастного рейтинга, в то время, как в Северной Америке и Европе этот рейтинг занимает второе место. Можно сделать вывод, что рейтинг влияет на покупку игры в любом регионе. Общее у всех регионов то, что игры без возрастного рейтинга продаются почти одинаково в каждом регионе.\n",
    "\n",
    "Далее мы проверили 2 гипотезы.\n",
    "\n",
    "Гипотеза 1 - Средние пользовательские рейтинги платформ Xbox One и PC одинаковые. В результате проверки, нулевая гипотеза не отвергнута, но мы не можем утреждать, что cредние пользовательские рейтинги платформ Xbox One и PC равны. Здесь мы использовали проверку гипотез о равенстве средних двух независимых ГС. Это двусторонняя гипотеза, ведь нам не нужно проверять чьи рейтинги выше.\n",
    "\n",
    "Гипотеза 2 - Средние пользовательские рейтинги жанров Action и Sports равны. В результате проверки, мы отвергли нулевую гипотезу. Значит, принимаем альтернативную: **Средние пользовательские рейтинги жанров Action и Sports не равны**. Здесь мы тоже использовали проверку гипотез о равенстве средних двух независимых ГС. Это двусторонняя гипотеза, ведь нам не нужно проверять чьи рейтинги выше.\n"
   ]
  }
 ],
 "metadata": {
  "ExecuteTimeLog": [
   {
    "duration": 1498,
    "start_time": "2022-03-06T17:20:13.864Z"
   },
   {
    "duration": 1779,
    "start_time": "2022-03-06T17:20:15.364Z"
   },
   {
    "duration": -218,
    "start_time": "2022-03-06T17:20:17.365Z"
   },
   {
    "duration": -220,
    "start_time": "2022-03-06T17:20:17.368Z"
   },
   {
    "duration": -220,
    "start_time": "2022-03-06T17:20:17.370Z"
   },
   {
    "duration": -221,
    "start_time": "2022-03-06T17:20:17.372Z"
   },
   {
    "duration": -225,
    "start_time": "2022-03-06T17:20:17.378Z"
   },
   {
    "duration": -227,
    "start_time": "2022-03-06T17:20:17.381Z"
   },
   {
    "duration": -227,
    "start_time": "2022-03-06T17:20:17.383Z"
   },
   {
    "duration": -228,
    "start_time": "2022-03-06T17:20:17.385Z"
   },
   {
    "duration": -228,
    "start_time": "2022-03-06T17:20:17.387Z"
   },
   {
    "duration": -228,
    "start_time": "2022-03-06T17:20:17.388Z"
   },
   {
    "duration": -243,
    "start_time": "2022-03-06T17:20:17.405Z"
   },
   {
    "duration": -250,
    "start_time": "2022-03-06T17:20:17.413Z"
   },
   {
    "duration": -250,
    "start_time": "2022-03-06T17:20:17.415Z"
   },
   {
    "duration": -251,
    "start_time": "2022-03-06T17:20:17.417Z"
   },
   {
    "duration": -251,
    "start_time": "2022-03-06T17:20:17.419Z"
   },
   {
    "duration": -252,
    "start_time": "2022-03-06T17:20:17.421Z"
   },
   {
    "duration": -255,
    "start_time": "2022-03-06T17:20:17.427Z"
   },
   {
    "duration": -258,
    "start_time": "2022-03-06T17:20:17.431Z"
   },
   {
    "duration": -260,
    "start_time": "2022-03-06T17:20:17.435Z"
   },
   {
    "duration": -262,
    "start_time": "2022-03-06T17:20:17.438Z"
   },
   {
    "duration": -266,
    "start_time": "2022-03-06T17:20:17.444Z"
   },
   {
    "duration": -267,
    "start_time": "2022-03-06T17:20:17.446Z"
   },
   {
    "duration": -268,
    "start_time": "2022-03-06T17:20:17.448Z"
   },
   {
    "duration": -267,
    "start_time": "2022-03-06T17:20:17.449Z"
   },
   {
    "duration": -265,
    "start_time": "2022-03-06T17:20:17.451Z"
   },
   {
    "duration": -265,
    "start_time": "2022-03-06T17:20:17.453Z"
   },
   {
    "duration": -265,
    "start_time": "2022-03-06T17:20:17.454Z"
   },
   {
    "duration": -266,
    "start_time": "2022-03-06T17:20:17.456Z"
   },
   {
    "duration": -266,
    "start_time": "2022-03-06T17:20:17.458Z"
   },
   {
    "duration": -273,
    "start_time": "2022-03-06T17:20:17.467Z"
   },
   {
    "duration": -274,
    "start_time": "2022-03-06T17:20:17.469Z"
   },
   {
    "duration": -275,
    "start_time": "2022-03-06T17:20:17.471Z"
   },
   {
    "duration": -275,
    "start_time": "2022-03-06T17:20:17.473Z"
   },
   {
    "duration": 74,
    "start_time": "2022-03-06T17:20:54.263Z"
   },
   {
    "duration": 4,
    "start_time": "2022-03-06T17:20:57.810Z"
   },
   {
    "duration": 96,
    "start_time": "2022-03-06T17:20:57.817Z"
   },
   {
    "duration": 5,
    "start_time": "2022-03-06T17:20:57.915Z"
   },
   {
    "duration": 11,
    "start_time": "2022-03-06T17:20:57.923Z"
   },
   {
    "duration": 7,
    "start_time": "2022-03-06T17:20:57.936Z"
   },
   {
    "duration": 14,
    "start_time": "2022-03-06T17:20:57.945Z"
   },
   {
    "duration": 42,
    "start_time": "2022-03-06T17:20:57.961Z"
   },
   {
    "duration": 7,
    "start_time": "2022-03-06T17:20:58.007Z"
   },
   {
    "duration": 28,
    "start_time": "2022-03-06T17:20:58.017Z"
   },
   {
    "duration": 50,
    "start_time": "2022-03-06T17:20:58.047Z"
   },
   {
    "duration": 558,
    "start_time": "2022-03-06T17:20:58.099Z"
   },
   {
    "duration": 55,
    "start_time": "2022-03-06T17:20:58.659Z"
   },
   {
    "duration": 491,
    "start_time": "2022-03-06T17:20:58.716Z"
   },
   {
    "duration": 578,
    "start_time": "2022-03-06T17:20:59.209Z"
   },
   {
    "duration": 691,
    "start_time": "2022-03-06T17:20:59.789Z"
   },
   {
    "duration": 39,
    "start_time": "2022-03-06T17:21:00.483Z"
   },
   {
    "duration": 17,
    "start_time": "2022-03-06T17:21:00.524Z"
   },
   {
    "duration": 6,
    "start_time": "2022-03-06T17:21:00.544Z"
   },
   {
    "duration": 35,
    "start_time": "2022-03-06T17:21:00.553Z"
   },
   {
    "duration": 181,
    "start_time": "2022-03-06T17:21:00.590Z"
   },
   {
    "duration": 571,
    "start_time": "2022-03-06T17:21:00.774Z"
   },
   {
    "duration": 593,
    "start_time": "2022-03-06T17:21:01.347Z"
   },
   {
    "duration": 6,
    "start_time": "2022-03-06T17:21:01.944Z"
   },
   {
    "duration": 435,
    "start_time": "2022-03-06T17:21:01.953Z"
   },
   {
    "duration": 417,
    "start_time": "2022-03-06T17:21:02.390Z"
   },
   {
    "duration": 394,
    "start_time": "2022-03-06T17:21:02.809Z"
   },
   {
    "duration": 415,
    "start_time": "2022-03-06T17:21:03.205Z"
   },
   {
    "duration": 393,
    "start_time": "2022-03-06T17:21:03.623Z"
   },
   {
    "duration": 418,
    "start_time": "2022-03-06T17:21:04.018Z"
   },
   {
    "duration": 16,
    "start_time": "2022-03-06T17:21:04.438Z"
   },
   {
    "duration": 464,
    "start_time": "2022-03-06T17:21:04.457Z"
   },
   {
    "duration": 759,
    "start_time": "2022-03-06T17:21:04.923Z"
   },
   {
    "duration": 1593,
    "start_time": "2022-03-06T17:21:05.687Z"
   },
   {
    "duration": 8,
    "start_time": "2022-03-06T17:21:07.282Z"
   },
   {
    "duration": 51,
    "start_time": "2022-03-06T17:21:07.292Z"
   },
   {
    "duration": 652,
    "start_time": "2022-03-06T17:22:18.390Z"
   },
   {
    "duration": 14,
    "start_time": "2022-03-06T17:22:31.981Z"
   },
   {
    "duration": 22,
    "start_time": "2022-03-06T17:22:36.813Z"
   },
   {
    "duration": 301,
    "start_time": "2022-03-06T17:22:45.957Z"
   },
   {
    "duration": 290,
    "start_time": "2022-03-06T17:23:05.222Z"
   },
   {
    "duration": 302,
    "start_time": "2022-03-06T17:24:01.133Z"
   },
   {
    "duration": 299,
    "start_time": "2022-03-06T17:24:10.861Z"
   },
   {
    "duration": 293,
    "start_time": "2022-03-06T17:24:52.309Z"
   },
   {
    "duration": 436,
    "start_time": "2022-03-06T17:25:28.397Z"
   },
   {
    "duration": 103,
    "start_time": "2022-03-06T17:25:56.612Z"
   },
   {
    "duration": 118,
    "start_time": "2022-03-06T17:26:03.844Z"
   },
   {
    "duration": 355,
    "start_time": "2022-03-06T17:26:17.364Z"
   },
   {
    "duration": 77,
    "start_time": "2022-03-06T17:33:32.961Z"
   },
   {
    "duration": 29,
    "start_time": "2022-03-06T17:34:22.993Z"
   },
   {
    "duration": 28,
    "start_time": "2022-03-06T17:36:22.113Z"
   },
   {
    "duration": 29,
    "start_time": "2022-03-06T17:36:32.192Z"
   },
   {
    "duration": 232,
    "start_time": "2022-03-06T17:37:27.011Z"
   },
   {
    "duration": 42,
    "start_time": "2022-03-06T17:37:38.575Z"
   },
   {
    "duration": 234,
    "start_time": "2022-03-06T17:38:09.416Z"
   },
   {
    "duration": 240,
    "start_time": "2022-03-06T17:38:14.087Z"
   },
   {
    "duration": 230,
    "start_time": "2022-03-06T17:38:26.056Z"
   },
   {
    "duration": 226,
    "start_time": "2022-03-06T17:38:36.591Z"
   },
   {
    "duration": 236,
    "start_time": "2022-03-06T17:38:39.319Z"
   },
   {
    "duration": 4,
    "start_time": "2022-03-06T17:39:27.154Z"
   },
   {
    "duration": 74,
    "start_time": "2022-03-06T17:39:27.160Z"
   },
   {
    "duration": 5,
    "start_time": "2022-03-06T17:39:27.238Z"
   },
   {
    "duration": 14,
    "start_time": "2022-03-06T17:39:27.245Z"
   },
   {
    "duration": 13,
    "start_time": "2022-03-06T17:39:27.261Z"
   },
   {
    "duration": 22,
    "start_time": "2022-03-06T17:39:27.276Z"
   },
   {
    "duration": 18,
    "start_time": "2022-03-06T17:39:27.300Z"
   },
   {
    "duration": 9,
    "start_time": "2022-03-06T17:39:27.320Z"
   },
   {
    "duration": 55,
    "start_time": "2022-03-06T17:39:27.333Z"
   },
   {
    "duration": 18,
    "start_time": "2022-03-06T17:39:27.391Z"
   },
   {
    "duration": 776,
    "start_time": "2022-03-06T17:39:27.411Z"
   },
   {
    "duration": 43,
    "start_time": "2022-03-06T17:39:28.189Z"
   },
   {
    "duration": 516,
    "start_time": "2022-03-06T17:39:28.234Z"
   },
   {
    "duration": 475,
    "start_time": "2022-03-06T17:39:28.752Z"
   },
   {
    "duration": 603,
    "start_time": "2022-03-06T17:39:29.230Z"
   },
   {
    "duration": 53,
    "start_time": "2022-03-06T17:39:29.835Z"
   },
   {
    "duration": 17,
    "start_time": "2022-03-06T17:39:29.890Z"
   },
   {
    "duration": 8,
    "start_time": "2022-03-06T17:39:29.909Z"
   },
   {
    "duration": 10,
    "start_time": "2022-03-06T17:39:29.919Z"
   },
   {
    "duration": 135,
    "start_time": "2022-03-06T17:39:29.931Z"
   },
   {
    "duration": 574,
    "start_time": "2022-03-06T17:39:30.068Z"
   },
   {
    "duration": 623,
    "start_time": "2022-03-06T17:39:30.644Z"
   },
   {
    "duration": 6,
    "start_time": "2022-03-06T17:39:31.270Z"
   },
   {
    "duration": 518,
    "start_time": "2022-03-06T17:39:31.288Z"
   },
   {
    "duration": 403,
    "start_time": "2022-03-06T17:39:31.809Z"
   },
   {
    "duration": 389,
    "start_time": "2022-03-06T17:39:32.214Z"
   },
   {
    "duration": 401,
    "start_time": "2022-03-06T17:39:32.607Z"
   },
   {
    "duration": 397,
    "start_time": "2022-03-06T17:39:33.011Z"
   },
   {
    "duration": 417,
    "start_time": "2022-03-06T17:39:33.410Z"
   },
   {
    "duration": 17,
    "start_time": "2022-03-06T17:39:33.829Z"
   },
   {
    "duration": 404,
    "start_time": "2022-03-06T17:39:33.848Z"
   },
   {
    "duration": 448,
    "start_time": "2022-03-06T17:39:34.255Z"
   },
   {
    "duration": 1573,
    "start_time": "2022-03-06T17:39:34.705Z"
   },
   {
    "duration": 12,
    "start_time": "2022-03-06T17:39:36.280Z"
   },
   {
    "duration": 364,
    "start_time": "2022-03-06T17:39:36.294Z"
   },
   {
    "duration": 31,
    "start_time": "2022-03-06T17:40:03.566Z"
   },
   {
    "duration": 57,
    "start_time": "2022-03-06T17:42:41.222Z"
   },
   {
    "duration": 57,
    "start_time": "2022-03-06T17:43:12.222Z"
   },
   {
    "duration": 26,
    "start_time": "2022-03-06T17:44:07.054Z"
   },
   {
    "duration": 16,
    "start_time": "2022-03-06T17:44:31.181Z"
   },
   {
    "duration": 27,
    "start_time": "2022-03-06T17:44:36.044Z"
   },
   {
    "duration": 26,
    "start_time": "2022-03-06T17:45:34.972Z"
   },
   {
    "duration": 209,
    "start_time": "2022-03-06T17:45:37.404Z"
   },
   {
    "duration": 4,
    "start_time": "2022-03-06T17:45:51.900Z"
   },
   {
    "duration": 7,
    "start_time": "2022-03-06T17:45:55.788Z"
   },
   {
    "duration": 246,
    "start_time": "2022-03-06T17:46:19.884Z"
   },
   {
    "duration": 28,
    "start_time": "2022-03-06T17:46:22.115Z"
   },
   {
    "duration": 7,
    "start_time": "2022-03-06T17:46:25.299Z"
   },
   {
    "duration": 7,
    "start_time": "2022-03-06T17:46:34.115Z"
   },
   {
    "duration": 29,
    "start_time": "2022-03-06T17:46:37.036Z"
   },
   {
    "duration": 6,
    "start_time": "2022-03-06T17:46:38.172Z"
   },
   {
    "duration": 16,
    "start_time": "2022-03-06T17:46:47.860Z"
   },
   {
    "duration": 6,
    "start_time": "2022-03-06T17:46:48.676Z"
   },
   {
    "duration": 5,
    "start_time": "2022-03-06T17:47:02.087Z"
   },
   {
    "duration": 119,
    "start_time": "2022-03-06T17:47:02.095Z"
   },
   {
    "duration": 5,
    "start_time": "2022-03-06T17:47:02.217Z"
   },
   {
    "duration": 8,
    "start_time": "2022-03-06T17:47:02.225Z"
   },
   {
    "duration": 8,
    "start_time": "2022-03-06T17:47:02.235Z"
   },
   {
    "duration": 18,
    "start_time": "2022-03-06T17:47:02.245Z"
   },
   {
    "duration": 20,
    "start_time": "2022-03-06T17:47:02.286Z"
   },
   {
    "duration": 8,
    "start_time": "2022-03-06T17:47:02.309Z"
   },
   {
    "duration": 22,
    "start_time": "2022-03-06T17:47:02.320Z"
   },
   {
    "duration": 51,
    "start_time": "2022-03-06T17:47:02.344Z"
   },
   {
    "duration": 574,
    "start_time": "2022-03-06T17:47:02.398Z"
   },
   {
    "duration": 51,
    "start_time": "2022-03-06T17:47:02.975Z"
   },
   {
    "duration": 516,
    "start_time": "2022-03-06T17:47:03.028Z"
   },
   {
    "duration": 640,
    "start_time": "2022-03-06T17:47:03.547Z"
   },
   {
    "duration": 599,
    "start_time": "2022-03-06T17:47:04.189Z"
   },
   {
    "duration": 39,
    "start_time": "2022-03-06T17:47:04.790Z"
   },
   {
    "duration": 19,
    "start_time": "2022-03-06T17:47:04.831Z"
   },
   {
    "duration": 34,
    "start_time": "2022-03-06T17:47:04.853Z"
   },
   {
    "duration": 8,
    "start_time": "2022-03-06T17:47:04.890Z"
   },
   {
    "duration": 120,
    "start_time": "2022-03-06T17:47:04.901Z"
   },
   {
    "duration": 573,
    "start_time": "2022-03-06T17:47:05.023Z"
   },
   {
    "duration": 629,
    "start_time": "2022-03-06T17:47:05.598Z"
   },
   {
    "duration": 5,
    "start_time": "2022-03-06T17:47:06.234Z"
   },
   {
    "duration": 450,
    "start_time": "2022-03-06T17:47:06.243Z"
   },
   {
    "duration": 447,
    "start_time": "2022-03-06T17:47:06.696Z"
   },
   {
    "duration": 442,
    "start_time": "2022-03-06T17:47:07.145Z"
   },
   {
    "duration": 417,
    "start_time": "2022-03-06T17:47:07.589Z"
   },
   {
    "duration": 399,
    "start_time": "2022-03-06T17:47:08.009Z"
   },
   {
    "duration": 418,
    "start_time": "2022-03-06T17:47:08.411Z"
   },
   {
    "duration": 17,
    "start_time": "2022-03-06T17:47:08.831Z"
   },
   {
    "duration": 407,
    "start_time": "2022-03-06T17:47:08.850Z"
   },
   {
    "duration": 459,
    "start_time": "2022-03-06T17:47:09.259Z"
   },
   {
    "duration": 1709,
    "start_time": "2022-03-06T17:47:09.720Z"
   },
   {
    "duration": 9,
    "start_time": "2022-03-06T17:47:11.433Z"
   },
   {
    "duration": 396,
    "start_time": "2022-03-06T17:47:11.445Z"
   },
   {
    "duration": 18,
    "start_time": "2022-03-06T17:47:12.955Z"
   },
   {
    "duration": 7,
    "start_time": "2022-03-06T17:47:13.315Z"
   },
   {
    "duration": 7,
    "start_time": "2022-03-06T17:47:23.267Z"
   },
   {
    "duration": 5,
    "start_time": "2022-03-06T17:47:31.828Z"
   },
   {
    "duration": 6,
    "start_time": "2022-03-06T17:47:42.459Z"
   },
   {
    "duration": 7,
    "start_time": "2022-03-06T17:48:19.779Z"
   },
   {
    "duration": 4,
    "start_time": "2022-03-06T17:48:22.453Z"
   },
   {
    "duration": 76,
    "start_time": "2022-03-06T17:48:22.459Z"
   },
   {
    "duration": 5,
    "start_time": "2022-03-06T17:48:22.539Z"
   },
   {
    "duration": 5,
    "start_time": "2022-03-06T17:48:22.547Z"
   },
   {
    "duration": 6,
    "start_time": "2022-03-06T17:48:22.586Z"
   },
   {
    "duration": 17,
    "start_time": "2022-03-06T17:48:22.594Z"
   },
   {
    "duration": 19,
    "start_time": "2022-03-06T17:48:22.613Z"
   },
   {
    "duration": 10,
    "start_time": "2022-03-06T17:48:22.636Z"
   },
   {
    "duration": 58,
    "start_time": "2022-03-06T17:48:22.649Z"
   },
   {
    "duration": 22,
    "start_time": "2022-03-06T17:48:22.710Z"
   },
   {
    "duration": 674,
    "start_time": "2022-03-06T17:48:22.734Z"
   },
   {
    "duration": 43,
    "start_time": "2022-03-06T17:48:23.410Z"
   },
   {
    "duration": 512,
    "start_time": "2022-03-06T17:48:23.456Z"
   },
   {
    "duration": 489,
    "start_time": "2022-03-06T17:48:23.971Z"
   },
   {
    "duration": 594,
    "start_time": "2022-03-06T17:48:24.463Z"
   },
   {
    "duration": 51,
    "start_time": "2022-03-06T17:48:25.059Z"
   },
   {
    "duration": 17,
    "start_time": "2022-03-06T17:48:25.112Z"
   },
   {
    "duration": 7,
    "start_time": "2022-03-06T17:48:25.131Z"
   },
   {
    "duration": 11,
    "start_time": "2022-03-06T17:48:25.140Z"
   },
   {
    "duration": 125,
    "start_time": "2022-03-06T17:48:25.154Z"
   },
   {
    "duration": 575,
    "start_time": "2022-03-06T17:48:25.281Z"
   },
   {
    "duration": 589,
    "start_time": "2022-03-06T17:48:25.858Z"
   },
   {
    "duration": 5,
    "start_time": "2022-03-06T17:48:26.451Z"
   },
   {
    "duration": 429,
    "start_time": "2022-03-06T17:48:26.458Z"
   },
   {
    "duration": 428,
    "start_time": "2022-03-06T17:48:26.889Z"
   },
   {
    "duration": 415,
    "start_time": "2022-03-06T17:48:27.319Z"
   },
   {
    "duration": 457,
    "start_time": "2022-03-06T17:48:27.736Z"
   },
   {
    "duration": 401,
    "start_time": "2022-03-06T17:48:28.195Z"
   },
   {
    "duration": 410,
    "start_time": "2022-03-06T17:48:28.598Z"
   },
   {
    "duration": 15,
    "start_time": "2022-03-06T17:48:29.011Z"
   },
   {
    "duration": 403,
    "start_time": "2022-03-06T17:48:29.028Z"
   },
   {
    "duration": 592,
    "start_time": "2022-03-06T17:48:29.433Z"
   },
   {
    "duration": 1629,
    "start_time": "2022-03-06T17:48:30.028Z"
   },
   {
    "duration": 8,
    "start_time": "2022-03-06T17:48:31.660Z"
   },
   {
    "duration": 361,
    "start_time": "2022-03-06T17:48:31.670Z"
   },
   {
    "duration": 15,
    "start_time": "2022-03-06T17:48:32.033Z"
   },
   {
    "duration": 16,
    "start_time": "2022-03-06T17:48:34.338Z"
   },
   {
    "duration": 7,
    "start_time": "2022-03-06T17:48:34.730Z"
   },
   {
    "duration": 7,
    "start_time": "2022-03-06T17:49:14.547Z"
   },
   {
    "duration": 6,
    "start_time": "2022-03-06T17:49:17.692Z"
   },
   {
    "duration": 6,
    "start_time": "2022-03-06T17:49:20.475Z"
   },
   {
    "duration": 7,
    "start_time": "2022-03-06T17:49:23.298Z"
   },
   {
    "duration": 225,
    "start_time": "2022-03-06T17:50:25.619Z"
   },
   {
    "duration": 7,
    "start_time": "2022-03-06T17:50:31.714Z"
   },
   {
    "duration": 17,
    "start_time": "2022-03-06T17:52:28.378Z"
   },
   {
    "duration": 7,
    "start_time": "2022-03-06T17:52:29.025Z"
   },
   {
    "duration": 18,
    "start_time": "2022-03-06T17:52:47.705Z"
   },
   {
    "duration": 81,
    "start_time": "2022-03-06T17:52:51.309Z"
   },
   {
    "duration": 25,
    "start_time": "2022-03-06T17:52:53.929Z"
   },
   {
    "duration": 297,
    "start_time": "2022-03-06T17:53:34.827Z"
   },
   {
    "duration": 26,
    "start_time": "2022-03-06T17:53:42.832Z"
   },
   {
    "duration": 232,
    "start_time": "2022-03-06T17:53:58.817Z"
   },
   {
    "duration": 19,
    "start_time": "2022-03-06T17:54:26.905Z"
   },
   {
    "duration": 15,
    "start_time": "2022-03-06T17:54:45.352Z"
   },
   {
    "duration": 7,
    "start_time": "2022-03-06T17:54:48.305Z"
   },
   {
    "duration": 7,
    "start_time": "2022-03-06T17:54:58.392Z"
   },
   {
    "duration": 372,
    "start_time": "2022-03-06T17:55:53.192Z"
   },
   {
    "duration": 28,
    "start_time": "2022-03-06T17:57:08.296Z"
   },
   {
    "duration": 30,
    "start_time": "2022-03-06T17:57:54.471Z"
   },
   {
    "duration": 6,
    "start_time": "2022-03-06T17:58:11.887Z"
   },
   {
    "duration": 31,
    "start_time": "2022-03-06T17:59:01.726Z"
   },
   {
    "duration": 221,
    "start_time": "2022-03-06T18:00:00.839Z"
   },
   {
    "duration": 9,
    "start_time": "2022-03-06T18:00:15.470Z"
   },
   {
    "duration": 31,
    "start_time": "2022-03-06T18:04:09.836Z"
   },
   {
    "duration": 10,
    "start_time": "2022-03-06T18:04:25.341Z"
   },
   {
    "duration": 34,
    "start_time": "2022-03-06T18:04:28.516Z"
   },
   {
    "duration": 9,
    "start_time": "2022-03-06T18:04:50.045Z"
   },
   {
    "duration": 7,
    "start_time": "2022-03-06T18:05:02.468Z"
   },
   {
    "duration": 601,
    "start_time": "2022-03-06T18:05:41.998Z"
   },
   {
    "duration": 7,
    "start_time": "2022-03-06T18:06:11.996Z"
   },
   {
    "duration": 13,
    "start_time": "2022-03-06T18:06:16.795Z"
   },
   {
    "duration": 10,
    "start_time": "2022-03-06T18:06:45.523Z"
   },
   {
    "duration": 19,
    "start_time": "2022-03-06T18:07:24.563Z"
   },
   {
    "duration": 5,
    "start_time": "2022-03-06T18:07:28.390Z"
   },
   {
    "duration": 101,
    "start_time": "2022-03-06T18:07:28.398Z"
   },
   {
    "duration": 5,
    "start_time": "2022-03-06T18:07:28.502Z"
   },
   {
    "duration": 5,
    "start_time": "2022-03-06T18:07:28.510Z"
   },
   {
    "duration": 8,
    "start_time": "2022-03-06T18:07:28.517Z"
   },
   {
    "duration": 17,
    "start_time": "2022-03-06T18:07:28.528Z"
   },
   {
    "duration": 55,
    "start_time": "2022-03-06T18:07:28.547Z"
   },
   {
    "duration": 8,
    "start_time": "2022-03-06T18:07:28.606Z"
   },
   {
    "duration": 23,
    "start_time": "2022-03-06T18:07:28.616Z"
   },
   {
    "duration": 55,
    "start_time": "2022-03-06T18:07:28.641Z"
   },
   {
    "duration": 595,
    "start_time": "2022-03-06T18:07:28.699Z"
   },
   {
    "duration": 43,
    "start_time": "2022-03-06T18:07:29.296Z"
   },
   {
    "duration": 507,
    "start_time": "2022-03-06T18:07:29.342Z"
   },
   {
    "duration": 580,
    "start_time": "2022-03-06T18:07:29.851Z"
   },
   {
    "duration": 614,
    "start_time": "2022-03-06T18:07:30.434Z"
   },
   {
    "duration": 48,
    "start_time": "2022-03-06T18:07:31.050Z"
   },
   {
    "duration": 19,
    "start_time": "2022-03-06T18:07:31.100Z"
   },
   {
    "duration": 7,
    "start_time": "2022-03-06T18:07:31.121Z"
   },
   {
    "duration": 9,
    "start_time": "2022-03-06T18:07:31.130Z"
   },
   {
    "duration": 138,
    "start_time": "2022-03-06T18:07:31.142Z"
   },
   {
    "duration": 576,
    "start_time": "2022-03-06T18:07:31.283Z"
   },
   {
    "duration": 609,
    "start_time": "2022-03-06T18:07:31.861Z"
   },
   {
    "duration": 12,
    "start_time": "2022-03-06T18:07:32.477Z"
   },
   {
    "duration": 419,
    "start_time": "2022-03-06T18:07:32.492Z"
   },
   {
    "duration": 401,
    "start_time": "2022-03-06T18:07:32.914Z"
   },
   {
    "duration": 639,
    "start_time": "2022-03-06T18:07:33.317Z"
   },
   {
    "duration": 433,
    "start_time": "2022-03-06T18:07:33.959Z"
   },
   {
    "duration": 406,
    "start_time": "2022-03-06T18:07:34.394Z"
   },
   {
    "duration": 499,
    "start_time": "2022-03-06T18:07:34.802Z"
   },
   {
    "duration": 16,
    "start_time": "2022-03-06T18:07:35.303Z"
   },
   {
    "duration": 669,
    "start_time": "2022-03-06T18:07:35.322Z"
   },
   {
    "duration": 467,
    "start_time": "2022-03-06T18:07:35.994Z"
   },
   {
    "duration": 1586,
    "start_time": "2022-03-06T18:07:36.464Z"
   },
   {
    "duration": 10,
    "start_time": "2022-03-06T18:07:38.053Z"
   },
   {
    "duration": 374,
    "start_time": "2022-03-06T18:07:38.086Z"
   },
   {
    "duration": 24,
    "start_time": "2022-03-06T18:07:38.464Z"
   },
   {
    "duration": 6,
    "start_time": "2022-03-06T18:07:56.899Z"
   },
   {
    "duration": 32,
    "start_time": "2022-03-06T18:08:00.307Z"
   },
   {
    "duration": 5,
    "start_time": "2022-03-06T18:08:04.323Z"
   },
   {
    "duration": 393,
    "start_time": "2022-03-06T18:08:04.907Z"
   },
   {
    "duration": 6,
    "start_time": "2022-03-06T18:08:09.058Z"
   },
   {
    "duration": 427,
    "start_time": "2022-03-06T18:08:09.354Z"
   },
   {
    "duration": 438,
    "start_time": "2022-03-06T18:08:10.450Z"
   },
   {
    "duration": 410,
    "start_time": "2022-03-06T18:08:14.506Z"
   },
   {
    "duration": 410,
    "start_time": "2022-03-06T18:08:18.106Z"
   },
   {
    "duration": 438,
    "start_time": "2022-03-06T18:08:20.962Z"
   },
   {
    "duration": 431,
    "start_time": "2022-03-06T18:08:22.449Z"
   },
   {
    "duration": 18,
    "start_time": "2022-03-06T18:08:23.034Z"
   },
   {
    "duration": 4,
    "start_time": "2022-03-06T18:08:25.741Z"
   },
   {
    "duration": 71,
    "start_time": "2022-03-06T18:08:25.747Z"
   },
   {
    "duration": 5,
    "start_time": "2022-03-06T18:08:25.821Z"
   },
   {
    "duration": 4,
    "start_time": "2022-03-06T18:08:25.829Z"
   },
   {
    "duration": 8,
    "start_time": "2022-03-06T18:08:25.835Z"
   },
   {
    "duration": 43,
    "start_time": "2022-03-06T18:08:25.845Z"
   },
   {
    "duration": 18,
    "start_time": "2022-03-06T18:08:25.891Z"
   },
   {
    "duration": 9,
    "start_time": "2022-03-06T18:08:25.913Z"
   },
   {
    "duration": 22,
    "start_time": "2022-03-06T18:08:25.925Z"
   },
   {
    "duration": 52,
    "start_time": "2022-03-06T18:08:25.949Z"
   },
   {
    "duration": 586,
    "start_time": "2022-03-06T18:08:26.004Z"
   },
   {
    "duration": 43,
    "start_time": "2022-03-06T18:08:26.592Z"
   },
   {
    "duration": 579,
    "start_time": "2022-03-06T18:08:26.637Z"
   },
   {
    "duration": 762,
    "start_time": "2022-03-06T18:08:27.219Z"
   },
   {
    "duration": 587,
    "start_time": "2022-03-06T18:08:27.986Z"
   },
   {
    "duration": 45,
    "start_time": "2022-03-06T18:08:28.575Z"
   },
   {
    "duration": 20,
    "start_time": "2022-03-06T18:08:28.623Z"
   },
   {
    "duration": 9,
    "start_time": "2022-03-06T18:08:28.646Z"
   },
   {
    "duration": 5,
    "start_time": "2022-03-06T18:08:28.688Z"
   },
   {
    "duration": 121,
    "start_time": "2022-03-06T18:08:28.696Z"
   },
   {
    "duration": 800,
    "start_time": "2022-03-06T18:08:28.820Z"
   },
   {
    "duration": 630,
    "start_time": "2022-03-06T18:08:29.623Z"
   },
   {
    "duration": 6,
    "start_time": "2022-03-06T18:08:30.260Z"
   },
   {
    "duration": 444,
    "start_time": "2022-03-06T18:08:30.269Z"
   },
   {
    "duration": 393,
    "start_time": "2022-03-06T18:08:30.715Z"
   },
   {
    "duration": 399,
    "start_time": "2022-03-06T18:08:31.111Z"
   },
   {
    "duration": 386,
    "start_time": "2022-03-06T18:08:31.513Z"
   },
   {
    "duration": 393,
    "start_time": "2022-03-06T18:08:31.902Z"
   },
   {
    "duration": 411,
    "start_time": "2022-03-06T18:08:32.298Z"
   },
   {
    "duration": 18,
    "start_time": "2022-03-06T18:08:32.713Z"
   },
   {
    "duration": 403,
    "start_time": "2022-03-06T18:08:32.734Z"
   },
   {
    "duration": 453,
    "start_time": "2022-03-06T18:08:33.140Z"
   },
   {
    "duration": 1516,
    "start_time": "2022-03-06T18:08:33.596Z"
   },
   {
    "duration": 8,
    "start_time": "2022-03-06T18:08:35.114Z"
   },
   {
    "duration": 359,
    "start_time": "2022-03-06T18:08:35.124Z"
   },
   {
    "duration": 9,
    "start_time": "2022-03-06T18:08:35.486Z"
   },
   {
    "duration": 32,
    "start_time": "2022-03-06T18:09:03.602Z"
   },
   {
    "duration": 6,
    "start_time": "2022-03-06T18:09:17.443Z"
   },
   {
    "duration": 35,
    "start_time": "2022-03-06T18:11:06.329Z"
   },
   {
    "duration": 4,
    "start_time": "2022-03-06T18:11:18.410Z"
   },
   {
    "duration": 79,
    "start_time": "2022-03-06T18:11:18.416Z"
   },
   {
    "duration": 5,
    "start_time": "2022-03-06T18:11:18.498Z"
   },
   {
    "duration": 5,
    "start_time": "2022-03-06T18:11:18.505Z"
   },
   {
    "duration": 10,
    "start_time": "2022-03-06T18:11:18.512Z"
   },
   {
    "duration": 14,
    "start_time": "2022-03-06T18:11:18.524Z"
   },
   {
    "duration": 57,
    "start_time": "2022-03-06T18:11:18.541Z"
   },
   {
    "duration": 9,
    "start_time": "2022-03-06T18:11:18.603Z"
   },
   {
    "duration": 24,
    "start_time": "2022-03-06T18:11:18.616Z"
   },
   {
    "duration": 62,
    "start_time": "2022-03-06T18:11:18.643Z"
   },
   {
    "duration": 638,
    "start_time": "2022-03-06T18:11:18.708Z"
   },
   {
    "duration": 55,
    "start_time": "2022-03-06T18:11:19.349Z"
   },
   {
    "duration": 507,
    "start_time": "2022-03-06T18:11:19.407Z"
   },
   {
    "duration": 477,
    "start_time": "2022-03-06T18:11:19.916Z"
   },
   {
    "duration": 600,
    "start_time": "2022-03-06T18:11:20.396Z"
   },
   {
    "duration": 39,
    "start_time": "2022-03-06T18:11:20.999Z"
   },
   {
    "duration": 19,
    "start_time": "2022-03-06T18:11:21.040Z"
   },
   {
    "duration": 32,
    "start_time": "2022-03-06T18:11:21.061Z"
   },
   {
    "duration": 7,
    "start_time": "2022-03-06T18:11:21.095Z"
   },
   {
    "duration": 120,
    "start_time": "2022-03-06T18:11:21.104Z"
   },
   {
    "duration": 588,
    "start_time": "2022-03-06T18:11:21.227Z"
   },
   {
    "duration": 841,
    "start_time": "2022-03-06T18:11:21.817Z"
   },
   {
    "duration": 5,
    "start_time": "2022-03-06T18:11:22.663Z"
   },
   {
    "duration": 417,
    "start_time": "2022-03-06T18:11:22.686Z"
   },
   {
    "duration": 394,
    "start_time": "2022-03-06T18:11:23.105Z"
   },
   {
    "duration": 416,
    "start_time": "2022-03-06T18:11:23.501Z"
   },
   {
    "duration": 394,
    "start_time": "2022-03-06T18:11:23.919Z"
   },
   {
    "duration": 387,
    "start_time": "2022-03-06T18:11:24.316Z"
   },
   {
    "duration": 408,
    "start_time": "2022-03-06T18:11:24.706Z"
   },
   {
    "duration": 16,
    "start_time": "2022-03-06T18:11:25.116Z"
   },
   {
    "duration": 408,
    "start_time": "2022-03-06T18:11:25.134Z"
   },
   {
    "duration": 482,
    "start_time": "2022-03-06T18:11:25.545Z"
   },
   {
    "duration": 1661,
    "start_time": "2022-03-06T18:11:26.029Z"
   },
   {
    "duration": 8,
    "start_time": "2022-03-06T18:11:27.693Z"
   },
   {
    "duration": 366,
    "start_time": "2022-03-06T18:11:27.703Z"
   },
   {
    "duration": 9,
    "start_time": "2022-03-06T18:11:30.321Z"
   },
   {
    "duration": 30,
    "start_time": "2022-03-06T18:11:43.552Z"
   },
   {
    "duration": 32,
    "start_time": "2022-03-06T18:11:51.273Z"
   },
   {
    "duration": 230,
    "start_time": "2022-03-06T18:12:39.746Z"
   },
   {
    "duration": 7,
    "start_time": "2022-03-06T18:13:08.641Z"
   },
   {
    "duration": 33,
    "start_time": "2022-03-06T18:13:11.072Z"
   },
   {
    "duration": 4,
    "start_time": "2022-03-06T18:14:02.307Z"
   },
   {
    "duration": 118,
    "start_time": "2022-03-06T18:14:02.314Z"
   },
   {
    "duration": 5,
    "start_time": "2022-03-06T18:14:02.436Z"
   },
   {
    "duration": 14,
    "start_time": "2022-03-06T18:14:02.443Z"
   },
   {
    "duration": 24,
    "start_time": "2022-03-06T18:14:02.460Z"
   },
   {
    "duration": 23,
    "start_time": "2022-03-06T18:14:02.487Z"
   },
   {
    "duration": 24,
    "start_time": "2022-03-06T18:14:02.512Z"
   },
   {
    "duration": 38,
    "start_time": "2022-03-06T18:14:02.540Z"
   },
   {
    "duration": 22,
    "start_time": "2022-03-06T18:14:02.581Z"
   },
   {
    "duration": 25,
    "start_time": "2022-03-06T18:14:02.605Z"
   },
   {
    "duration": 578,
    "start_time": "2022-03-06T18:14:02.632Z"
   },
   {
    "duration": 47,
    "start_time": "2022-03-06T18:14:03.212Z"
   },
   {
    "duration": 575,
    "start_time": "2022-03-06T18:14:03.262Z"
   },
   {
    "duration": 485,
    "start_time": "2022-03-06T18:14:03.840Z"
   },
   {
    "duration": 609,
    "start_time": "2022-03-06T18:14:04.328Z"
   },
   {
    "duration": 51,
    "start_time": "2022-03-06T18:14:04.939Z"
   },
   {
    "duration": 19,
    "start_time": "2022-03-06T18:14:04.992Z"
   },
   {
    "duration": 6,
    "start_time": "2022-03-06T18:14:05.013Z"
   },
   {
    "duration": 8,
    "start_time": "2022-03-06T18:14:05.021Z"
   },
   {
    "duration": 137,
    "start_time": "2022-03-06T18:14:05.031Z"
   },
   {
    "duration": 578,
    "start_time": "2022-03-06T18:14:05.170Z"
   },
   {
    "duration": 621,
    "start_time": "2022-03-06T18:14:05.750Z"
   },
   {
    "duration": 12,
    "start_time": "2022-03-06T18:14:06.375Z"
   },
   {
    "duration": 415,
    "start_time": "2022-03-06T18:14:06.389Z"
   },
   {
    "duration": 400,
    "start_time": "2022-03-06T18:14:06.806Z"
   },
   {
    "duration": 399,
    "start_time": "2022-03-06T18:14:07.208Z"
   },
   {
    "duration": 685,
    "start_time": "2022-03-06T18:14:07.609Z"
   },
   {
    "duration": 402,
    "start_time": "2022-03-06T18:14:08.296Z"
   },
   {
    "duration": 415,
    "start_time": "2022-03-06T18:14:08.700Z"
   },
   {
    "duration": 16,
    "start_time": "2022-03-06T18:14:09.118Z"
   },
   {
    "duration": 423,
    "start_time": "2022-03-06T18:14:09.136Z"
   },
   {
    "duration": 446,
    "start_time": "2022-03-06T18:14:09.561Z"
   },
   {
    "duration": 1578,
    "start_time": "2022-03-06T18:14:10.009Z"
   },
   {
    "duration": 9,
    "start_time": "2022-03-06T18:14:11.589Z"
   },
   {
    "duration": 363,
    "start_time": "2022-03-06T18:14:11.600Z"
   },
   {
    "duration": 5,
    "start_time": "2022-03-06T18:14:11.965Z"
   },
   {
    "duration": 19,
    "start_time": "2022-03-06T18:14:11.972Z"
   },
   {
    "duration": 19,
    "start_time": "2022-03-06T18:14:15.895Z"
   },
   {
    "duration": 21,
    "start_time": "2022-03-06T18:14:25.232Z"
   },
   {
    "duration": 19,
    "start_time": "2022-03-06T18:14:28.448Z"
   },
   {
    "duration": 21,
    "start_time": "2022-03-06T18:14:33.375Z"
   },
   {
    "duration": 8,
    "start_time": "2022-03-06T18:14:55.071Z"
   },
   {
    "duration": 19,
    "start_time": "2022-03-06T18:14:58.735Z"
   },
   {
    "duration": 7,
    "start_time": "2022-03-06T18:15:05.447Z"
   },
   {
    "duration": 12,
    "start_time": "2022-03-06T18:15:18.808Z"
   },
   {
    "duration": 6,
    "start_time": "2022-03-06T18:15:21.304Z"
   },
   {
    "duration": 7,
    "start_time": "2022-03-06T18:17:33.526Z"
   },
   {
    "duration": 6,
    "start_time": "2022-03-06T18:17:38.198Z"
   },
   {
    "duration": 28,
    "start_time": "2022-03-06T18:24:55.924Z"
   },
   {
    "duration": 6,
    "start_time": "2022-03-06T18:25:20.836Z"
   },
   {
    "duration": 33,
    "start_time": "2022-03-06T18:25:23.979Z"
   },
   {
    "duration": 7,
    "start_time": "2022-03-06T18:26:09.636Z"
   },
   {
    "duration": 6,
    "start_time": "2022-03-06T18:26:23.611Z"
   },
   {
    "duration": 12,
    "start_time": "2022-03-06T18:26:55.650Z"
   },
   {
    "duration": 6,
    "start_time": "2022-03-06T18:26:56.170Z"
   },
   {
    "duration": 29,
    "start_time": "2022-03-06T18:27:48.443Z"
   },
   {
    "duration": 22,
    "start_time": "2022-03-06T18:28:33.682Z"
   },
   {
    "duration": 29,
    "start_time": "2022-03-06T18:28:36.433Z"
   },
   {
    "duration": 6,
    "start_time": "2022-03-06T18:28:49.382Z"
   },
   {
    "duration": 4,
    "start_time": "2022-03-06T18:30:02.004Z"
   },
   {
    "duration": 84,
    "start_time": "2022-03-06T18:30:02.010Z"
   },
   {
    "duration": 5,
    "start_time": "2022-03-06T18:30:02.096Z"
   },
   {
    "duration": 23,
    "start_time": "2022-03-06T18:30:02.103Z"
   },
   {
    "duration": 11,
    "start_time": "2022-03-06T18:30:02.128Z"
   },
   {
    "duration": 16,
    "start_time": "2022-03-06T18:30:02.141Z"
   },
   {
    "duration": 35,
    "start_time": "2022-03-06T18:30:02.159Z"
   },
   {
    "duration": 9,
    "start_time": "2022-03-06T18:30:02.198Z"
   },
   {
    "duration": 24,
    "start_time": "2022-03-06T18:30:02.210Z"
   },
   {
    "duration": 21,
    "start_time": "2022-03-06T18:30:02.237Z"
   },
   {
    "duration": 602,
    "start_time": "2022-03-06T18:30:02.260Z"
   },
   {
    "duration": 55,
    "start_time": "2022-03-06T18:30:02.865Z"
   },
   {
    "duration": 512,
    "start_time": "2022-03-06T18:30:02.922Z"
   },
   {
    "duration": 505,
    "start_time": "2022-03-06T18:30:03.437Z"
   },
   {
    "duration": 597,
    "start_time": "2022-03-06T18:30:03.944Z"
   },
   {
    "duration": 55,
    "start_time": "2022-03-06T18:30:04.543Z"
   },
   {
    "duration": 19,
    "start_time": "2022-03-06T18:30:04.600Z"
   },
   {
    "duration": 7,
    "start_time": "2022-03-06T18:30:04.622Z"
   },
   {
    "duration": 8,
    "start_time": "2022-03-06T18:30:04.632Z"
   },
   {
    "duration": 132,
    "start_time": "2022-03-06T18:30:04.642Z"
   },
   {
    "duration": 566,
    "start_time": "2022-03-06T18:30:04.776Z"
   },
   {
    "duration": 602,
    "start_time": "2022-03-06T18:30:05.344Z"
   },
   {
    "duration": 7,
    "start_time": "2022-03-06T18:30:05.950Z"
   },
   {
    "duration": 454,
    "start_time": "2022-03-06T18:30:05.959Z"
   },
   {
    "duration": 403,
    "start_time": "2022-03-06T18:30:06.415Z"
   },
   {
    "duration": 411,
    "start_time": "2022-03-06T18:30:06.820Z"
   },
   {
    "duration": 419,
    "start_time": "2022-03-06T18:30:07.233Z"
   },
   {
    "duration": 421,
    "start_time": "2022-03-06T18:30:07.654Z"
   },
   {
    "duration": 420,
    "start_time": "2022-03-06T18:30:08.078Z"
   },
   {
    "duration": 17,
    "start_time": "2022-03-06T18:30:08.501Z"
   },
   {
    "duration": 410,
    "start_time": "2022-03-06T18:30:08.520Z"
   },
   {
    "duration": 447,
    "start_time": "2022-03-06T18:30:08.932Z"
   },
   {
    "duration": 1784,
    "start_time": "2022-03-06T18:30:09.386Z"
   },
   {
    "duration": 15,
    "start_time": "2022-03-06T18:30:11.173Z"
   },
   {
    "duration": 366,
    "start_time": "2022-03-06T18:30:11.190Z"
   },
   {
    "duration": 13,
    "start_time": "2022-03-06T18:30:11.559Z"
   },
   {
    "duration": 18,
    "start_time": "2022-03-06T18:30:11.574Z"
   },
   {
    "duration": 17,
    "start_time": "2022-03-06T18:30:11.594Z"
   },
   {
    "duration": 14,
    "start_time": "2022-03-06T18:30:11.613Z"
   },
   {
    "duration": 490,
    "start_time": "2022-03-06T18:53:07.489Z"
   },
   {
    "duration": 1080,
    "start_time": "2022-03-14T19:18:34.700Z"
   },
   {
    "duration": 62,
    "start_time": "2022-03-14T19:18:35.782Z"
   },
   {
    "duration": 11,
    "start_time": "2022-03-14T19:18:35.849Z"
   },
   {
    "duration": 9,
    "start_time": "2022-03-14T19:18:35.862Z"
   },
   {
    "duration": 7,
    "start_time": "2022-03-14T19:18:35.872Z"
   },
   {
    "duration": 12,
    "start_time": "2022-03-14T19:18:35.880Z"
   },
   {
    "duration": 13,
    "start_time": "2022-03-14T19:18:35.895Z"
   },
   {
    "duration": 7,
    "start_time": "2022-03-14T19:18:35.911Z"
   },
   {
    "duration": 50,
    "start_time": "2022-03-14T19:18:35.920Z"
   },
   {
    "duration": 15,
    "start_time": "2022-03-14T19:18:35.972Z"
   },
   {
    "duration": 402,
    "start_time": "2022-03-14T19:18:35.989Z"
   },
   {
    "duration": 30,
    "start_time": "2022-03-14T19:18:36.393Z"
   },
   {
    "duration": 351,
    "start_time": "2022-03-14T19:18:36.425Z"
   },
   {
    "duration": 344,
    "start_time": "2022-03-14T19:18:36.777Z"
   },
   {
    "duration": 419,
    "start_time": "2022-03-14T19:18:37.123Z"
   },
   {
    "duration": 32,
    "start_time": "2022-03-14T19:18:37.544Z"
   },
   {
    "duration": 12,
    "start_time": "2022-03-14T19:18:37.578Z"
   },
   {
    "duration": 5,
    "start_time": "2022-03-14T19:18:37.591Z"
   },
   {
    "duration": 4,
    "start_time": "2022-03-14T19:18:37.598Z"
   },
   {
    "duration": 163,
    "start_time": "2022-03-14T19:18:37.603Z"
   },
   {
    "duration": 389,
    "start_time": "2022-03-14T19:18:37.767Z"
   },
   {
    "duration": 422,
    "start_time": "2022-03-14T19:18:38.160Z"
   },
   {
    "duration": 5,
    "start_time": "2022-03-14T19:18:38.584Z"
   },
   {
    "duration": 329,
    "start_time": "2022-03-14T19:18:38.591Z"
   },
   {
    "duration": 322,
    "start_time": "2022-03-14T19:18:38.922Z"
   },
   {
    "duration": 340,
    "start_time": "2022-03-14T19:18:39.246Z"
   },
   {
    "duration": 309,
    "start_time": "2022-03-14T19:18:39.588Z"
   },
   {
    "duration": 305,
    "start_time": "2022-03-14T19:18:39.899Z"
   },
   {
    "duration": 306,
    "start_time": "2022-03-14T19:18:40.206Z"
   },
   {
    "duration": 12,
    "start_time": "2022-03-14T19:18:40.514Z"
   },
   {
    "duration": 285,
    "start_time": "2022-03-14T19:18:40.528Z"
   },
   {
    "duration": 305,
    "start_time": "2022-03-14T19:18:40.815Z"
   },
   {
    "duration": 1132,
    "start_time": "2022-03-14T19:18:41.122Z"
   },
   {
    "duration": 5,
    "start_time": "2022-03-14T19:18:42.259Z"
   },
   {
    "duration": 257,
    "start_time": "2022-03-14T19:18:42.266Z"
   },
   {
    "duration": 9,
    "start_time": "2022-03-14T19:18:42.525Z"
   },
   {
    "duration": 30,
    "start_time": "2022-03-14T19:18:42.535Z"
   },
   {
    "duration": 23,
    "start_time": "2022-03-14T19:18:42.567Z"
   },
   {
    "duration": 23,
    "start_time": "2022-03-14T19:18:42.592Z"
   },
   {
    "duration": 7,
    "start_time": "2022-03-14T19:22:37.880Z"
   },
   {
    "duration": 8,
    "start_time": "2022-03-14T19:22:49.044Z"
   },
   {
    "duration": 1475,
    "start_time": "2022-03-15T12:55:54.976Z"
   },
   {
    "duration": 78,
    "start_time": "2022-03-15T12:55:56.454Z"
   },
   {
    "duration": 6,
    "start_time": "2022-03-15T12:55:56.535Z"
   },
   {
    "duration": 4,
    "start_time": "2022-03-15T12:55:58.171Z"
   },
   {
    "duration": 6,
    "start_time": "2022-03-15T12:55:59.667Z"
   },
   {
    "duration": 15,
    "start_time": "2022-03-15T12:56:02.850Z"
   },
   {
    "duration": 29,
    "start_time": "2022-03-15T12:57:32.290Z"
   },
   {
    "duration": 19,
    "start_time": "2022-03-15T13:00:26.810Z"
   },
   {
    "duration": 13,
    "start_time": "2022-03-15T13:00:35.936Z"
   },
   {
    "duration": 10,
    "start_time": "2022-03-15T13:03:08.583Z"
   },
   {
    "duration": 29,
    "start_time": "2022-03-15T13:03:12.959Z"
   },
   {
    "duration": 4,
    "start_time": "2022-03-15T13:03:33.398Z"
   },
   {
    "duration": 84,
    "start_time": "2022-03-15T13:03:33.404Z"
   },
   {
    "duration": 6,
    "start_time": "2022-03-15T13:03:33.491Z"
   },
   {
    "duration": 11,
    "start_time": "2022-03-15T13:03:33.500Z"
   },
   {
    "duration": 14,
    "start_time": "2022-03-15T13:03:33.513Z"
   },
   {
    "duration": 21,
    "start_time": "2022-03-15T13:03:33.530Z"
   },
   {
    "duration": 6,
    "start_time": "2022-03-15T13:03:59.936Z"
   },
   {
    "duration": 29,
    "start_time": "2022-03-15T13:04:01.232Z"
   },
   {
    "duration": 20,
    "start_time": "2022-03-15T13:04:08.695Z"
   },
   {
    "duration": 9,
    "start_time": "2022-03-15T13:04:10.158Z"
   },
   {
    "duration": 25,
    "start_time": "2022-03-15T13:04:11.783Z"
   },
   {
    "duration": 3858,
    "start_time": "2022-03-15T13:06:06.471Z"
   },
   {
    "duration": 16,
    "start_time": "2022-03-15T13:06:15.823Z"
   },
   {
    "duration": 6,
    "start_time": "2022-03-15T13:07:01.622Z"
   },
   {
    "duration": 16,
    "start_time": "2022-03-15T13:07:05.030Z"
   },
   {
    "duration": 12,
    "start_time": "2022-03-15T13:07:17.605Z"
   },
   {
    "duration": 14,
    "start_time": "2022-03-15T13:08:02.854Z"
   },
   {
    "duration": 21,
    "start_time": "2022-03-15T13:08:10.223Z"
   },
   {
    "duration": 28,
    "start_time": "2022-03-15T13:08:31.550Z"
   },
   {
    "duration": 287,
    "start_time": "2022-03-15T13:09:17.774Z"
   },
   {
    "duration": 184,
    "start_time": "2022-03-15T13:09:31.173Z"
   },
   {
    "duration": 241,
    "start_time": "2022-03-15T13:10:17.917Z"
   },
   {
    "duration": 225,
    "start_time": "2022-03-15T13:10:20.581Z"
   },
   {
    "duration": 158,
    "start_time": "2022-03-15T13:10:38.694Z"
   },
   {
    "duration": 49,
    "start_time": "2022-03-15T13:12:14.804Z"
   },
   {
    "duration": 28,
    "start_time": "2022-03-15T13:12:32.532Z"
   },
   {
    "duration": 236,
    "start_time": "2022-03-15T13:12:48.724Z"
   },
   {
    "duration": 294,
    "start_time": "2022-03-15T13:13:03.691Z"
   },
   {
    "duration": 29,
    "start_time": "2022-03-15T13:13:10.118Z"
   },
   {
    "duration": 21,
    "start_time": "2022-03-15T13:13:12.908Z"
   },
   {
    "duration": 20,
    "start_time": "2022-03-15T13:13:34.589Z"
   },
   {
    "duration": 20,
    "start_time": "2022-03-15T13:13:42.476Z"
   },
   {
    "duration": 31,
    "start_time": "2022-03-15T13:13:45.107Z"
   },
   {
    "duration": 20,
    "start_time": "2022-03-15T13:13:49.619Z"
   },
   {
    "duration": 20,
    "start_time": "2022-03-15T13:13:53.483Z"
   },
   {
    "duration": 19,
    "start_time": "2022-03-15T13:14:41.748Z"
   },
   {
    "duration": 28,
    "start_time": "2022-03-15T13:14:45.707Z"
   },
   {
    "duration": 34,
    "start_time": "2022-03-15T13:15:12.355Z"
   },
   {
    "duration": 29,
    "start_time": "2022-03-15T13:15:14.978Z"
   },
   {
    "duration": 4169,
    "start_time": "2022-03-15T13:15:20.138Z"
   },
   {
    "duration": 3226,
    "start_time": "2022-03-15T13:15:47.763Z"
   },
   {
    "duration": 50,
    "start_time": "2022-03-15T13:16:07.042Z"
   },
   {
    "duration": 63,
    "start_time": "2022-03-15T13:16:10.186Z"
   },
   {
    "duration": 29,
    "start_time": "2022-03-15T13:16:18.203Z"
   },
   {
    "duration": 30,
    "start_time": "2022-03-15T13:16:24.539Z"
   },
   {
    "duration": 42,
    "start_time": "2022-03-15T13:16:40.146Z"
   },
   {
    "duration": 178,
    "start_time": "2022-03-15T13:17:01.635Z"
   },
   {
    "duration": 178,
    "start_time": "2022-03-15T13:17:09.978Z"
   },
   {
    "duration": 39,
    "start_time": "2022-03-15T13:17:17.114Z"
   },
   {
    "duration": 45,
    "start_time": "2022-03-15T13:17:51.714Z"
   },
   {
    "duration": 232,
    "start_time": "2022-03-15T13:18:08.690Z"
   },
   {
    "duration": 43,
    "start_time": "2022-03-15T13:18:21.769Z"
   },
   {
    "duration": 37,
    "start_time": "2022-03-15T13:18:42.993Z"
   },
   {
    "duration": 40,
    "start_time": "2022-03-15T13:18:45.553Z"
   },
   {
    "duration": 47,
    "start_time": "2022-03-15T13:19:48.297Z"
   },
   {
    "duration": 3991,
    "start_time": "2022-03-15T13:20:17.569Z"
   },
   {
    "duration": 4636,
    "start_time": "2022-03-15T13:20:30.097Z"
   },
   {
    "duration": 44,
    "start_time": "2022-03-15T13:20:40.584Z"
   },
   {
    "duration": 45,
    "start_time": "2022-03-15T13:20:43.240Z"
   },
   {
    "duration": 4,
    "start_time": "2022-03-15T13:20:46.701Z"
   },
   {
    "duration": 71,
    "start_time": "2022-03-15T13:20:46.709Z"
   },
   {
    "duration": 6,
    "start_time": "2022-03-15T13:20:46.788Z"
   },
   {
    "duration": 10,
    "start_time": "2022-03-15T13:20:46.796Z"
   },
   {
    "duration": 12,
    "start_time": "2022-03-15T13:20:46.808Z"
   },
   {
    "duration": 26,
    "start_time": "2022-03-15T13:20:46.823Z"
   },
   {
    "duration": 13,
    "start_time": "2022-03-15T13:20:46.851Z"
   },
   {
    "duration": 35,
    "start_time": "2022-03-15T13:20:46.867Z"
   },
   {
    "duration": 9,
    "start_time": "2022-03-15T13:20:46.905Z"
   },
   {
    "duration": 35,
    "start_time": "2022-03-15T13:20:46.917Z"
   },
   {
    "duration": 45,
    "start_time": "2022-03-15T13:20:48.889Z"
   },
   {
    "duration": 44,
    "start_time": "2022-03-15T13:20:57.584Z"
   },
   {
    "duration": 43,
    "start_time": "2022-03-15T13:21:45.455Z"
   },
   {
    "duration": 24,
    "start_time": "2022-03-15T13:21:49.087Z"
   },
   {
    "duration": 68,
    "start_time": "2022-03-15T13:21:50.680Z"
   },
   {
    "duration": 40,
    "start_time": "2022-03-15T13:22:04.928Z"
   },
   {
    "duration": 43,
    "start_time": "2022-03-15T13:22:12.816Z"
   },
   {
    "duration": 47,
    "start_time": "2022-03-15T13:22:14.048Z"
   },
   {
    "duration": 43,
    "start_time": "2022-03-15T13:22:14.888Z"
   },
   {
    "duration": 43,
    "start_time": "2022-03-15T13:22:15.703Z"
   },
   {
    "duration": 44,
    "start_time": "2022-03-15T13:22:16.671Z"
   },
   {
    "duration": 4,
    "start_time": "2022-03-15T13:22:22.644Z"
   },
   {
    "duration": 72,
    "start_time": "2022-03-15T13:22:22.650Z"
   },
   {
    "duration": 5,
    "start_time": "2022-03-15T13:22:22.725Z"
   },
   {
    "duration": 10,
    "start_time": "2022-03-15T13:22:22.733Z"
   },
   {
    "duration": 25,
    "start_time": "2022-03-15T13:22:22.745Z"
   },
   {
    "duration": 32,
    "start_time": "2022-03-15T13:22:22.772Z"
   },
   {
    "duration": 15,
    "start_time": "2022-03-15T13:22:22.806Z"
   },
   {
    "duration": 26,
    "start_time": "2022-03-15T13:22:22.825Z"
   },
   {
    "duration": 17,
    "start_time": "2022-03-15T13:22:22.854Z"
   },
   {
    "duration": 31,
    "start_time": "2022-03-15T13:22:22.873Z"
   },
   {
    "duration": 46,
    "start_time": "2022-03-15T13:22:25.855Z"
   },
   {
    "duration": 42,
    "start_time": "2022-03-15T13:22:37.543Z"
   },
   {
    "duration": 43,
    "start_time": "2022-03-15T13:22:39.455Z"
   },
   {
    "duration": 44,
    "start_time": "2022-03-15T13:22:47.600Z"
   },
   {
    "duration": 3819,
    "start_time": "2022-03-15T13:23:00.159Z"
   },
   {
    "duration": 41,
    "start_time": "2022-03-15T13:23:07.624Z"
   },
   {
    "duration": 50,
    "start_time": "2022-03-15T13:23:41.997Z"
   },
   {
    "duration": 616,
    "start_time": "2022-03-15T13:23:45.496Z"
   },
   {
    "duration": 43,
    "start_time": "2022-03-15T13:23:55.040Z"
   },
   {
    "duration": 37,
    "start_time": "2022-03-15T13:24:01.983Z"
   },
   {
    "duration": 6,
    "start_time": "2022-03-15T13:24:07.895Z"
   },
   {
    "duration": 8,
    "start_time": "2022-03-15T13:24:25.415Z"
   },
   {
    "duration": 4,
    "start_time": "2022-03-15T13:24:30.839Z"
   },
   {
    "duration": 209,
    "start_time": "2022-03-15T13:24:32.845Z"
   },
   {
    "duration": 153,
    "start_time": "2022-03-15T13:24:39.238Z"
   },
   {
    "duration": 4,
    "start_time": "2022-03-15T13:24:51.124Z"
   },
   {
    "duration": 81,
    "start_time": "2022-03-15T13:24:51.131Z"
   },
   {
    "duration": 5,
    "start_time": "2022-03-15T13:24:51.215Z"
   },
   {
    "duration": 12,
    "start_time": "2022-03-15T13:24:51.223Z"
   },
   {
    "duration": 23,
    "start_time": "2022-03-15T13:24:51.237Z"
   },
   {
    "duration": 31,
    "start_time": "2022-03-15T13:24:51.262Z"
   },
   {
    "duration": 7,
    "start_time": "2022-03-15T13:24:51.295Z"
   },
   {
    "duration": 35,
    "start_time": "2022-03-15T13:24:51.305Z"
   },
   {
    "duration": 12,
    "start_time": "2022-03-15T13:24:51.342Z"
   },
   {
    "duration": 47,
    "start_time": "2022-03-15T13:24:51.356Z"
   },
   {
    "duration": 42,
    "start_time": "2022-03-15T13:24:52.287Z"
   },
   {
    "duration": 40,
    "start_time": "2022-03-15T13:24:58.390Z"
   },
   {
    "duration": 4,
    "start_time": "2022-03-15T13:25:01.452Z"
   },
   {
    "duration": 93,
    "start_time": "2022-03-15T13:25:01.459Z"
   },
   {
    "duration": 5,
    "start_time": "2022-03-15T13:25:01.555Z"
   },
   {
    "duration": 24,
    "start_time": "2022-03-15T13:25:01.563Z"
   },
   {
    "duration": 26,
    "start_time": "2022-03-15T13:25:01.589Z"
   },
   {
    "duration": 31,
    "start_time": "2022-03-15T13:25:01.618Z"
   },
   {
    "duration": 26,
    "start_time": "2022-03-15T13:25:01.651Z"
   },
   {
    "duration": 53,
    "start_time": "2022-03-15T13:25:01.680Z"
   },
   {
    "duration": 11,
    "start_time": "2022-03-15T13:25:01.735Z"
   },
   {
    "duration": 47,
    "start_time": "2022-03-15T13:25:01.749Z"
   },
   {
    "duration": 40,
    "start_time": "2022-03-15T13:25:03.614Z"
   },
   {
    "duration": 29,
    "start_time": "2022-03-15T13:25:37.975Z"
   },
   {
    "duration": 4013,
    "start_time": "2022-03-15T13:26:22.631Z"
   },
   {
    "duration": 9,
    "start_time": "2022-03-15T13:26:47.974Z"
   },
   {
    "duration": 7,
    "start_time": "2022-03-15T13:27:21.037Z"
   },
   {
    "duration": 217,
    "start_time": "2022-03-15T13:27:46.062Z"
   },
   {
    "duration": 34,
    "start_time": "2022-03-15T13:28:52.205Z"
   },
   {
    "duration": 6,
    "start_time": "2022-03-15T13:29:11.933Z"
   },
   {
    "duration": 195,
    "start_time": "2022-03-15T13:31:08.180Z"
   },
   {
    "duration": 3375,
    "start_time": "2022-03-15T13:31:11.068Z"
   },
   {
    "duration": 207,
    "start_time": "2022-03-15T13:31:20.412Z"
   },
   {
    "duration": 4,
    "start_time": "2022-03-15T13:32:30.121Z"
   },
   {
    "duration": 75,
    "start_time": "2022-03-15T13:32:30.127Z"
   },
   {
    "duration": 6,
    "start_time": "2022-03-15T13:32:30.205Z"
   },
   {
    "duration": 7,
    "start_time": "2022-03-15T13:32:30.213Z"
   },
   {
    "duration": 11,
    "start_time": "2022-03-15T13:32:30.223Z"
   },
   {
    "duration": 17,
    "start_time": "2022-03-15T13:32:30.236Z"
   },
   {
    "duration": 6,
    "start_time": "2022-03-15T13:32:30.288Z"
   },
   {
    "duration": 31,
    "start_time": "2022-03-15T13:32:30.297Z"
   },
   {
    "duration": 12,
    "start_time": "2022-03-15T13:32:30.331Z"
   },
   {
    "duration": 44,
    "start_time": "2022-03-15T13:32:30.345Z"
   },
   {
    "duration": 41,
    "start_time": "2022-03-15T13:32:32.419Z"
   },
   {
    "duration": 31,
    "start_time": "2022-03-15T13:32:47.932Z"
   },
   {
    "duration": 39,
    "start_time": "2022-03-15T13:33:19.283Z"
   },
   {
    "duration": 30,
    "start_time": "2022-03-15T13:33:20.451Z"
   },
   {
    "duration": 22,
    "start_time": "2022-03-15T13:33:23.170Z"
   },
   {
    "duration": 573,
    "start_time": "2022-03-15T13:34:16.235Z"
   },
   {
    "duration": 58,
    "start_time": "2022-03-15T13:34:52.810Z"
   },
   {
    "duration": 574,
    "start_time": "2022-03-15T13:34:57.322Z"
   },
   {
    "duration": 464,
    "start_time": "2022-03-15T13:37:23.801Z"
   },
   {
    "duration": 2431,
    "start_time": "2022-03-15T13:37:34.418Z"
   },
   {
    "duration": 578,
    "start_time": "2022-03-15T13:38:04.993Z"
   },
   {
    "duration": 734,
    "start_time": "2022-03-15T13:38:10.288Z"
   },
   {
    "duration": 758,
    "start_time": "2022-03-15T13:38:18.729Z"
   },
   {
    "duration": 734,
    "start_time": "2022-03-15T13:38:24.240Z"
   },
   {
    "duration": 1033,
    "start_time": "2022-03-15T13:38:34.438Z"
   },
   {
    "duration": 1086,
    "start_time": "2022-03-15T13:42:30.976Z"
   },
   {
    "duration": 172,
    "start_time": "2022-03-15T13:44:12.735Z"
   },
   {
    "duration": 748,
    "start_time": "2022-03-15T13:45:34.527Z"
   },
   {
    "duration": 3945,
    "start_time": "2022-03-15T13:49:17.830Z"
   },
   {
    "duration": 581,
    "start_time": "2022-03-15T13:49:44.412Z"
   },
   {
    "duration": 14,
    "start_time": "2022-03-15T13:50:02.620Z"
   },
   {
    "duration": 21,
    "start_time": "2022-03-15T13:50:07.227Z"
   },
   {
    "duration": 22,
    "start_time": "2022-03-15T13:50:16.964Z"
   },
   {
    "duration": 390,
    "start_time": "2022-03-15T13:50:26.804Z"
   },
   {
    "duration": 271,
    "start_time": "2022-03-15T13:50:35.659Z"
   },
   {
    "duration": 3852,
    "start_time": "2022-03-15T13:50:50.330Z"
   },
   {
    "duration": 29,
    "start_time": "2022-03-15T13:51:07.084Z"
   },
   {
    "duration": 4766,
    "start_time": "2022-03-15T13:51:13.316Z"
   },
   {
    "duration": 16,
    "start_time": "2022-03-15T13:51:36.814Z"
   },
   {
    "duration": 22,
    "start_time": "2022-03-15T13:51:39.698Z"
   },
   {
    "duration": 416,
    "start_time": "2022-03-15T13:51:41.611Z"
   },
   {
    "duration": 409,
    "start_time": "2022-03-15T13:52:07.091Z"
   },
   {
    "duration": 289,
    "start_time": "2022-03-15T13:52:32.964Z"
   },
   {
    "duration": 482,
    "start_time": "2022-03-15T13:52:55.163Z"
   },
   {
    "duration": 161,
    "start_time": "2022-03-15T13:53:18.403Z"
   },
   {
    "duration": 376,
    "start_time": "2022-03-15T13:54:45.840Z"
   },
   {
    "duration": 322,
    "start_time": "2022-03-15T13:54:50.929Z"
   },
   {
    "duration": 450,
    "start_time": "2022-03-15T13:55:06.602Z"
   },
   {
    "duration": 794,
    "start_time": "2022-03-15T13:56:09.040Z"
   },
   {
    "duration": 18,
    "start_time": "2022-03-15T13:56:25.297Z"
   },
   {
    "duration": 22,
    "start_time": "2022-03-15T13:56:26.633Z"
   },
   {
    "duration": 913,
    "start_time": "2022-03-15T13:56:26.985Z"
   },
   {
    "duration": 948,
    "start_time": "2022-03-15T13:56:34.417Z"
   },
   {
    "duration": 633,
    "start_time": "2022-03-15T13:56:57.818Z"
   },
   {
    "duration": 616,
    "start_time": "2022-03-15T13:57:25.624Z"
   },
   {
    "duration": 50,
    "start_time": "2022-03-15T14:02:58.918Z"
   },
   {
    "duration": 617,
    "start_time": "2022-03-15T14:03:07.030Z"
   },
   {
    "duration": 150,
    "start_time": "2022-03-15T14:03:28.286Z"
   },
   {
    "duration": 49,
    "start_time": "2022-03-15T14:03:34.455Z"
   },
   {
    "duration": 681,
    "start_time": "2022-03-15T14:03:35.589Z"
   },
   {
    "duration": 524,
    "start_time": "2022-03-15T14:03:56.782Z"
   },
   {
    "duration": 537,
    "start_time": "2022-03-15T14:04:05.734Z"
   },
   {
    "duration": 550,
    "start_time": "2022-03-15T14:04:38.710Z"
   },
   {
    "duration": 508,
    "start_time": "2022-03-15T14:05:01.526Z"
   },
   {
    "duration": 553,
    "start_time": "2022-03-15T14:14:52.618Z"
   },
   {
    "duration": 523,
    "start_time": "2022-03-15T14:15:27.985Z"
   },
   {
    "duration": 590,
    "start_time": "2022-03-15T14:15:55.601Z"
   },
   {
    "duration": 579,
    "start_time": "2022-03-15T14:16:09.744Z"
   },
   {
    "duration": 769,
    "start_time": "2022-03-15T14:16:35.640Z"
   },
   {
    "duration": 625,
    "start_time": "2022-03-15T14:17:05.946Z"
   },
   {
    "duration": 657,
    "start_time": "2022-03-15T14:17:26.032Z"
   },
   {
    "duration": 659,
    "start_time": "2022-03-15T14:17:34.112Z"
   },
   {
    "duration": 664,
    "start_time": "2022-03-15T14:17:45.144Z"
   },
   {
    "duration": 41,
    "start_time": "2022-03-15T14:17:54.095Z"
   },
   {
    "duration": 19,
    "start_time": "2022-03-15T14:17:57.375Z"
   },
   {
    "duration": 6,
    "start_time": "2022-03-15T14:19:48.799Z"
   },
   {
    "duration": 34,
    "start_time": "2022-03-15T14:19:57.558Z"
   },
   {
    "duration": 16,
    "start_time": "2022-03-15T14:20:15.824Z"
   },
   {
    "duration": 5,
    "start_time": "2022-03-15T14:20:21.991Z"
   },
   {
    "duration": 5,
    "start_time": "2022-03-15T14:20:55.703Z"
   },
   {
    "duration": 109,
    "start_time": "2022-03-15T14:20:56.286Z"
   },
   {
    "duration": 579,
    "start_time": "2022-03-15T14:20:57.262Z"
   },
   {
    "duration": 660,
    "start_time": "2022-03-15T14:21:39.407Z"
   },
   {
    "duration": 40,
    "start_time": "2022-03-15T14:21:41.709Z"
   },
   {
    "duration": 20,
    "start_time": "2022-03-15T14:21:42.949Z"
   },
   {
    "duration": 7,
    "start_time": "2022-03-15T14:21:43.853Z"
   },
   {
    "duration": 4,
    "start_time": "2022-03-15T14:21:45.213Z"
   },
   {
    "duration": 115,
    "start_time": "2022-03-15T14:21:46.645Z"
   },
   {
    "duration": 697,
    "start_time": "2022-03-15T14:21:52.910Z"
   },
   {
    "duration": 619,
    "start_time": "2022-03-15T14:22:24.446Z"
   },
   {
    "duration": 776,
    "start_time": "2022-03-15T14:22:32.950Z"
   },
   {
    "duration": 7,
    "start_time": "2022-03-15T14:22:35.901Z"
   },
   {
    "duration": 458,
    "start_time": "2022-03-15T14:24:14.174Z"
   },
   {
    "duration": 391,
    "start_time": "2022-03-15T14:24:20.213Z"
   },
   {
    "duration": 424,
    "start_time": "2022-03-15T14:25:05.277Z"
   },
   {
    "duration": 403,
    "start_time": "2022-03-15T14:26:42.908Z"
   },
   {
    "duration": 56,
    "start_time": "2022-03-15T14:27:17.300Z"
   },
   {
    "duration": 756,
    "start_time": "2022-03-15T14:27:22.908Z"
   },
   {
    "duration": 441,
    "start_time": "2022-03-15T14:28:14.099Z"
   },
   {
    "duration": 468,
    "start_time": "2022-03-15T14:29:40.852Z"
   },
   {
    "duration": 449,
    "start_time": "2022-03-15T14:33:12.362Z"
   },
   {
    "duration": 395,
    "start_time": "2022-03-15T14:33:43.801Z"
   },
   {
    "duration": 19,
    "start_time": "2022-03-15T14:33:47.307Z"
   },
   {
    "duration": 413,
    "start_time": "2022-03-15T14:34:07.025Z"
   },
   {
    "duration": 17,
    "start_time": "2022-03-15T14:34:09.201Z"
   },
   {
    "duration": 420,
    "start_time": "2022-03-15T14:34:42.777Z"
   },
   {
    "duration": 422,
    "start_time": "2022-03-15T20:57:54.295Z"
   },
   {
    "duration": 416,
    "start_time": "2022-03-15T20:58:31.735Z"
   },
   {
    "duration": 14,
    "start_time": "2022-03-15T21:01:30.085Z"
   },
   {
    "duration": 153,
    "start_time": "2022-03-15T21:01:33.845Z"
   },
   {
    "duration": 163,
    "start_time": "2022-03-15T21:02:00.773Z"
   },
   {
    "duration": 172,
    "start_time": "2022-03-15T21:02:12.582Z"
   },
   {
    "duration": 27,
    "start_time": "2022-03-15T21:02:33.900Z"
   },
   {
    "duration": 11,
    "start_time": "2022-03-15T21:02:51.805Z"
   },
   {
    "duration": 4,
    "start_time": "2022-03-15T21:03:11.898Z"
   },
   {
    "duration": 98,
    "start_time": "2022-03-15T21:03:11.905Z"
   },
   {
    "duration": 5,
    "start_time": "2022-03-15T21:03:12.006Z"
   },
   {
    "duration": 8,
    "start_time": "2022-03-15T21:03:12.014Z"
   },
   {
    "duration": 8,
    "start_time": "2022-03-15T21:03:12.024Z"
   },
   {
    "duration": 14,
    "start_time": "2022-03-15T21:03:12.034Z"
   },
   {
    "duration": 6,
    "start_time": "2022-03-15T21:03:12.087Z"
   },
   {
    "duration": 20,
    "start_time": "2022-03-15T21:03:12.097Z"
   },
   {
    "duration": 8,
    "start_time": "2022-03-15T21:03:12.120Z"
   },
   {
    "duration": 26,
    "start_time": "2022-03-15T21:03:12.130Z"
   },
   {
    "duration": 43,
    "start_time": "2022-03-15T21:03:12.188Z"
   },
   {
    "duration": 56,
    "start_time": "2022-03-15T21:03:12.233Z"
   },
   {
    "duration": 14,
    "start_time": "2022-03-15T21:03:12.291Z"
   },
   {
    "duration": 648,
    "start_time": "2022-03-15T21:03:12.308Z"
   },
   {
    "duration": 58,
    "start_time": "2022-03-15T21:03:12.959Z"
   },
   {
    "duration": 584,
    "start_time": "2022-03-15T21:03:13.019Z"
   },
   {
    "duration": 713,
    "start_time": "2022-03-15T21:03:13.606Z"
   },
   {
    "duration": 742,
    "start_time": "2022-03-15T21:03:14.321Z"
   },
   {
    "duration": 49,
    "start_time": "2022-03-15T21:03:15.065Z"
   },
   {
    "duration": 22,
    "start_time": "2022-03-15T21:03:15.117Z"
   },
   {
    "duration": 7,
    "start_time": "2022-03-15T21:03:15.142Z"
   },
   {
    "duration": 3,
    "start_time": "2022-03-15T21:03:15.188Z"
   },
   {
    "duration": 121,
    "start_time": "2022-03-15T21:03:15.196Z"
   },
   {
    "duration": 612,
    "start_time": "2022-03-15T21:03:15.320Z"
   },
   {
    "duration": 720,
    "start_time": "2022-03-15T21:03:15.935Z"
   },
   {
    "duration": 7,
    "start_time": "2022-03-15T21:03:16.658Z"
   },
   {
    "duration": 461,
    "start_time": "2022-03-15T21:03:16.667Z"
   },
   {
    "duration": 420,
    "start_time": "2022-03-15T21:03:17.130Z"
   },
   {
    "duration": 472,
    "start_time": "2022-03-15T21:03:17.552Z"
   },
   {
    "duration": 424,
    "start_time": "2022-03-15T21:03:18.026Z"
   },
   {
    "duration": 437,
    "start_time": "2022-03-15T21:03:18.453Z"
   },
   {
    "duration": 432,
    "start_time": "2022-03-15T21:03:18.892Z"
   },
   {
    "duration": 19,
    "start_time": "2022-03-15T21:03:19.327Z"
   },
   {
    "duration": 406,
    "start_time": "2022-03-15T21:03:22.044Z"
   },
   {
    "duration": 34,
    "start_time": "2022-03-15T21:03:47.284Z"
   },
   {
    "duration": 50,
    "start_time": "2022-03-15T21:03:55.300Z"
   },
   {
    "duration": 48,
    "start_time": "2022-03-15T21:04:29.557Z"
   },
   {
    "duration": 401,
    "start_time": "2022-03-15T21:06:09.123Z"
   },
   {
    "duration": 20,
    "start_time": "2022-03-15T21:06:13.506Z"
   },
   {
    "duration": 13011,
    "start_time": "2022-03-15T21:06:29.339Z"
   },
   {
    "duration": 21,
    "start_time": "2022-03-15T21:06:55.938Z"
   },
   {
    "duration": 21,
    "start_time": "2022-03-15T21:07:04.051Z"
   },
   {
    "duration": 21,
    "start_time": "2022-03-15T21:07:13.555Z"
   },
   {
    "duration": 359,
    "start_time": "2022-03-15T21:09:57.250Z"
   },
   {
    "duration": 383,
    "start_time": "2022-03-15T21:10:08.704Z"
   },
   {
    "duration": 420,
    "start_time": "2022-03-15T21:10:35.632Z"
   },
   {
    "duration": 95,
    "start_time": "2022-03-15T21:22:16.575Z"
   },
   {
    "duration": 312,
    "start_time": "2022-03-15T21:22:51.338Z"
   },
   {
    "duration": 1080,
    "start_time": "2022-03-15T21:22:58.343Z"
   },
   {
    "duration": 66,
    "start_time": "2022-03-15T21:22:59.424Z"
   },
   {
    "duration": 257,
    "start_time": "2022-03-15T21:22:59.492Z"
   },
   {
    "duration": 264,
    "start_time": "2022-03-15T21:22:59.751Z"
   },
   {
    "duration": 538,
    "start_time": "2022-03-15T21:23:00.017Z"
   },
   {
    "duration": 322,
    "start_time": "2022-03-15T21:23:00.557Z"
   },
   {
    "duration": 289,
    "start_time": "2022-03-15T21:23:00.881Z"
   },
   {
    "duration": 346,
    "start_time": "2022-03-15T21:23:01.172Z"
   },
   {
    "duration": 266,
    "start_time": "2022-03-15T21:23:01.520Z"
   },
   {
    "duration": 322,
    "start_time": "2022-03-15T21:23:01.788Z"
   },
   {
    "duration": 252,
    "start_time": "2022-03-15T21:23:02.112Z"
   },
   {
    "duration": 219,
    "start_time": "2022-03-15T21:23:02.365Z"
   },
   {
    "duration": 256,
    "start_time": "2022-03-15T21:23:02.586Z"
   },
   {
    "duration": 556,
    "start_time": "2022-03-15T21:23:02.844Z"
   },
   {
    "duration": 27,
    "start_time": "2022-03-15T21:23:03.401Z"
   },
   {
    "duration": 671,
    "start_time": "2022-03-15T21:23:03.430Z"
   },
   {
    "duration": 372,
    "start_time": "2022-03-15T21:23:04.103Z"
   },
   {
    "duration": 389,
    "start_time": "2022-03-15T21:23:04.476Z"
   },
   {
    "duration": 34,
    "start_time": "2022-03-15T21:23:04.867Z"
   },
   {
    "duration": 305,
    "start_time": "2022-03-15T21:23:04.903Z"
   },
   {
    "duration": 427,
    "start_time": "2022-03-15T21:23:05.210Z"
   },
   {
    "duration": 248,
    "start_time": "2022-03-15T21:23:05.639Z"
   },
   {
    "duration": 372,
    "start_time": "2022-03-15T21:23:05.891Z"
   },
   {
    "duration": 801,
    "start_time": "2022-03-15T21:23:06.265Z"
   },
   {
    "duration": 342,
    "start_time": "2022-03-15T21:23:07.068Z"
   },
   {
    "duration": 5,
    "start_time": "2022-03-15T21:23:07.411Z"
   },
   {
    "duration": 1054,
    "start_time": "2022-03-15T21:23:07.418Z"
   },
   {
    "duration": 290,
    "start_time": "2022-03-15T21:23:08.481Z"
   },
   {
    "duration": 391,
    "start_time": "2022-03-15T21:23:08.773Z"
   },
   {
    "duration": 496,
    "start_time": "2022-03-15T21:23:09.166Z"
   },
   {
    "duration": 395,
    "start_time": "2022-03-15T21:23:09.664Z"
   },
   {
    "duration": 335,
    "start_time": "2022-03-15T21:23:10.060Z"
   },
   {
    "duration": 10,
    "start_time": "2022-03-15T21:23:10.397Z"
   },
   {
    "duration": 505,
    "start_time": "2022-03-15T21:23:10.408Z"
   },
   {
    "duration": 254,
    "start_time": "2022-03-15T21:23:10.914Z"
   },
   {
    "duration": 354,
    "start_time": "2022-03-15T21:23:11.170Z"
   },
   {
    "duration": 3,
    "start_time": "2022-03-15T21:23:13.008Z"
   },
   {
    "duration": 7,
    "start_time": "2022-03-15T21:23:18.001Z"
   },
   {
    "duration": 333,
    "start_time": "2022-03-15T21:23:47.617Z"
   },
   {
    "duration": 111,
    "start_time": "2022-03-15T21:23:57.385Z"
   },
   {
    "duration": 74,
    "start_time": "2022-03-15T21:27:15.144Z"
   },
   {
    "duration": 93,
    "start_time": "2022-03-15T21:27:33.767Z"
   },
   {
    "duration": 291,
    "start_time": "2022-03-15T21:28:40.687Z"
   },
   {
    "duration": 64,
    "start_time": "2022-03-15T21:28:53.527Z"
   },
   {
    "duration": 7235,
    "start_time": "2022-03-15T21:29:50.519Z"
   },
   {
    "duration": 4,
    "start_time": "2022-03-15T21:30:39.598Z"
   },
   {
    "duration": 7,
    "start_time": "2022-03-15T21:30:43.494Z"
   },
   {
    "duration": 292,
    "start_time": "2022-03-15T21:31:07.636Z"
   },
   {
    "duration": 5,
    "start_time": "2022-03-15T21:31:22.157Z"
   },
   {
    "duration": 8,
    "start_time": "2022-03-15T21:31:25.333Z"
   },
   {
    "duration": 10,
    "start_time": "2022-03-15T21:31:34.094Z"
   },
   {
    "duration": 296,
    "start_time": "2022-03-15T21:31:42.662Z"
   },
   {
    "duration": 9,
    "start_time": "2022-03-15T21:31:46.263Z"
   },
   {
    "duration": 8,
    "start_time": "2022-03-15T21:32:43.638Z"
   },
   {
    "duration": 12,
    "start_time": "2022-03-15T21:32:46.717Z"
   },
   {
    "duration": 93,
    "start_time": "2022-03-15T21:33:18.478Z"
   },
   {
    "duration": 454,
    "start_time": "2022-03-15T21:33:30.765Z"
   },
   {
    "duration": 575,
    "start_time": "2022-03-15T21:33:42.349Z"
   },
   {
    "duration": 307,
    "start_time": "2022-03-15T21:33:54.157Z"
   },
   {
    "duration": 329,
    "start_time": "2022-03-15T21:34:00.028Z"
   },
   {
    "duration": 1180,
    "start_time": "2022-03-15T21:34:05.669Z"
   },
   {
    "duration": 1180,
    "start_time": "2022-03-15T21:34:15.830Z"
   },
   {
    "duration": 10,
    "start_time": "2022-03-15T21:34:29.382Z"
   },
   {
    "duration": 6,
    "start_time": "2022-03-15T21:35:44.116Z"
   },
   {
    "duration": 362,
    "start_time": "2022-03-15T21:36:11.069Z"
   },
   {
    "duration": 719,
    "start_time": "2022-03-15T21:36:19.044Z"
   },
   {
    "duration": 60,
    "start_time": "2022-03-15T21:37:05.364Z"
   },
   {
    "duration": 489,
    "start_time": "2022-03-15T21:37:34.683Z"
   },
   {
    "duration": 70,
    "start_time": "2022-03-15T21:37:54.891Z"
   },
   {
    "duration": 302,
    "start_time": "2022-03-15T21:38:03.907Z"
   },
   {
    "duration": 74,
    "start_time": "2022-03-15T21:38:31.539Z"
   },
   {
    "duration": 102,
    "start_time": "2022-03-15T21:42:14.466Z"
   },
   {
    "duration": 100,
    "start_time": "2022-03-15T21:42:24.002Z"
   },
   {
    "duration": 317,
    "start_time": "2022-03-15T21:42:41.777Z"
   },
   {
    "duration": 120,
    "start_time": "2022-03-15T21:43:50.441Z"
   },
   {
    "duration": 197,
    "start_time": "2022-03-15T21:43:56.642Z"
   },
   {
    "duration": 302,
    "start_time": "2022-03-15T21:44:22.552Z"
   },
   {
    "duration": 191,
    "start_time": "2022-03-15T21:45:12.961Z"
   },
   {
    "duration": 167,
    "start_time": "2022-03-15T21:45:18.152Z"
   },
   {
    "duration": 167,
    "start_time": "2022-03-15T21:45:51.688Z"
   },
   {
    "duration": 166,
    "start_time": "2022-03-15T21:46:07.978Z"
   },
   {
    "duration": 163,
    "start_time": "2022-03-15T21:46:29.672Z"
   },
   {
    "duration": 174,
    "start_time": "2022-03-15T21:46:45.695Z"
   },
   {
    "duration": 303,
    "start_time": "2022-03-15T21:47:01.328Z"
   },
   {
    "duration": 299,
    "start_time": "2022-03-15T21:47:04.704Z"
   },
   {
    "duration": 168,
    "start_time": "2022-03-15T21:47:10.576Z"
   },
   {
    "duration": 166,
    "start_time": "2022-03-15T21:47:19.591Z"
   },
   {
    "duration": 176,
    "start_time": "2022-03-15T21:48:20.056Z"
   },
   {
    "duration": 855,
    "start_time": "2022-03-15T21:48:25.829Z"
   },
   {
    "duration": 213,
    "start_time": "2022-03-15T21:48:50.478Z"
   },
   {
    "duration": 961,
    "start_time": "2022-03-15T21:49:35.247Z"
   },
   {
    "duration": 860,
    "start_time": "2022-03-15T21:50:21.431Z"
   },
   {
    "duration": 855,
    "start_time": "2022-03-15T21:50:59.278Z"
   },
   {
    "duration": 1014,
    "start_time": "2022-03-15T21:51:36.094Z"
   },
   {
    "duration": 874,
    "start_time": "2022-03-15T21:52:35.910Z"
   },
   {
    "duration": 6,
    "start_time": "2022-03-15T21:52:45.572Z"
   },
   {
    "duration": 209,
    "start_time": "2022-03-15T21:52:47.092Z"
   },
   {
    "duration": 96,
    "start_time": "2022-03-15T22:02:22.842Z"
   },
   {
    "duration": 10,
    "start_time": "2022-03-15T22:02:29.745Z"
   },
   {
    "duration": 4,
    "start_time": "2022-03-15T22:02:30.169Z"
   },
   {
    "duration": 1940,
    "start_time": "2022-03-16T18:48:55.228Z"
   },
   {
    "duration": 88,
    "start_time": "2022-03-16T18:48:57.171Z"
   },
   {
    "duration": 7,
    "start_time": "2022-03-16T18:48:57.262Z"
   },
   {
    "duration": 10,
    "start_time": "2022-03-16T18:48:57.272Z"
   },
   {
    "duration": 8,
    "start_time": "2022-03-16T18:48:57.284Z"
   },
   {
    "duration": 18,
    "start_time": "2022-03-16T18:48:57.295Z"
   },
   {
    "duration": 39,
    "start_time": "2022-03-16T18:48:57.315Z"
   },
   {
    "duration": 30,
    "start_time": "2022-03-16T18:48:57.360Z"
   },
   {
    "duration": 9,
    "start_time": "2022-03-16T18:48:57.393Z"
   },
   {
    "duration": 66,
    "start_time": "2022-03-16T18:48:57.404Z"
   },
   {
    "duration": 47,
    "start_time": "2022-03-16T18:48:57.473Z"
   },
   {
    "duration": 62,
    "start_time": "2022-03-16T18:48:57.523Z"
   },
   {
    "duration": 20,
    "start_time": "2022-03-16T18:48:57.588Z"
   },
   {
    "duration": 799,
    "start_time": "2022-03-16T18:48:57.611Z"
   },
   {
    "duration": 68,
    "start_time": "2022-03-16T18:48:58.413Z"
   },
   {
    "duration": 701,
    "start_time": "2022-03-16T18:48:58.484Z"
   },
   {
    "duration": 584,
    "start_time": "2022-03-16T18:48:59.188Z"
   },
   {
    "duration": 713,
    "start_time": "2022-03-16T18:48:59.775Z"
   },
   {
    "duration": 66,
    "start_time": "2022-03-16T18:49:00.491Z"
   },
   {
    "duration": 21,
    "start_time": "2022-03-16T18:49:00.560Z"
   },
   {
    "duration": 6,
    "start_time": "2022-03-16T18:49:00.583Z"
   },
   {
    "duration": 9,
    "start_time": "2022-03-16T18:49:00.593Z"
   },
   {
    "duration": 387,
    "start_time": "2022-03-16T18:49:00.611Z"
   },
   {
    "duration": 628,
    "start_time": "2022-03-16T18:49:01.003Z"
   },
   {
    "duration": 755,
    "start_time": "2022-03-16T18:49:01.634Z"
   },
   {
    "duration": 14,
    "start_time": "2022-03-16T18:49:02.392Z"
   },
   {
    "duration": 468,
    "start_time": "2022-03-16T18:49:02.409Z"
   },
   {
    "duration": 413,
    "start_time": "2022-03-16T18:49:02.880Z"
   },
   {
    "duration": 474,
    "start_time": "2022-03-16T18:49:03.295Z"
   },
   {
    "duration": 431,
    "start_time": "2022-03-16T18:49:03.773Z"
   },
   {
    "duration": 663,
    "start_time": "2022-03-16T18:49:04.207Z"
   },
   {
    "duration": 610,
    "start_time": "2022-03-16T18:49:04.873Z"
   },
   {
    "duration": 28,
    "start_time": "2022-03-16T18:49:05.486Z"
   },
   {
    "duration": 611,
    "start_time": "2022-03-16T18:49:05.517Z"
   },
   {
    "duration": 448,
    "start_time": "2022-03-16T18:49:06.133Z"
   },
   {
    "duration": 545,
    "start_time": "2022-03-16T18:49:06.584Z"
   },
   {
    "duration": 423,
    "start_time": "2022-03-16T18:49:07.131Z"
   },
   {
    "duration": 418,
    "start_time": "2022-03-16T18:49:07.557Z"
   },
   {
    "duration": 414,
    "start_time": "2022-03-16T18:49:07.977Z"
   },
   {
    "duration": 1727,
    "start_time": "2022-03-16T18:49:08.393Z"
   },
   {
    "duration": 10,
    "start_time": "2022-03-16T18:49:10.123Z"
   },
   {
    "duration": 386,
    "start_time": "2022-03-16T18:49:10.152Z"
   },
   {
    "duration": 22,
    "start_time": "2022-03-16T18:49:10.540Z"
   },
   {
    "duration": 10,
    "start_time": "2022-03-16T18:49:10.564Z"
   },
   {
    "duration": 17,
    "start_time": "2022-03-16T18:49:10.577Z"
   },
   {
    "duration": 8,
    "start_time": "2022-03-16T18:49:10.596Z"
   },
   {
    "duration": 28,
    "start_time": "2022-03-16T18:52:44.910Z"
   },
   {
    "duration": 30,
    "start_time": "2022-03-16T18:53:14.459Z"
   },
   {
    "duration": 29,
    "start_time": "2022-03-16T18:54:14.505Z"
   },
   {
    "duration": 33,
    "start_time": "2022-03-16T18:54:33.749Z"
   }
  ],
  "kernelspec": {
   "display_name": "Python 3 (ipykernel)",
   "language": "python",
   "name": "python3"
  },
  "language_info": {
   "codemirror_mode": {
    "name": "ipython",
    "version": 3
   },
   "file_extension": ".py",
   "mimetype": "text/x-python",
   "name": "python",
   "nbconvert_exporter": "python",
   "pygments_lexer": "ipython3",
   "version": "3.7.8"
  },
  "toc": {
   "base_numbering": 1,
   "nav_menu": {},
   "number_sections": true,
   "sideBar": true,
   "skip_h1_title": true,
   "title_cell": "Table of Contents",
   "title_sidebar": "Contents",
   "toc_cell": true,
   "toc_position": {
    "height": "calc(100% - 180px)",
    "left": "10px",
    "top": "150px",
    "width": "293.542px"
   },
   "toc_section_display": true,
   "toc_window_display": false
  }
 },
 "nbformat": 4,
 "nbformat_minor": 2
}
