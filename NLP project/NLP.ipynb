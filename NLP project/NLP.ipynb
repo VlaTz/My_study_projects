{
 "cells": [
  {
   "cell_type": "markdown",
   "metadata": {
    "toc": true
   },
   "source": [
    "<h1>Содержание<span class=\"tocSkip\"></span></h1>\n",
    "<div class=\"toc\"><ul class=\"toc-item\"><li><span><a href=\"#Подготовка\" data-toc-modified-id=\"Подготовка-1\"><span class=\"toc-item-num\">1&nbsp;&nbsp;</span>Подготовка</a></span></li><li><span><a href=\"#Обучение\" data-toc-modified-id=\"Обучение-2\"><span class=\"toc-item-num\">2&nbsp;&nbsp;</span>Обучение</a></span><ul class=\"toc-item\"><li><span><a href=\"#Тестирование-лучшей-модели\" data-toc-modified-id=\"Тестирование-лучшей-модели-2.1\"><span class=\"toc-item-num\">2.1&nbsp;&nbsp;</span>Тестирование лучшей модели</a></span></li></ul></li><li><span><a href=\"#Выводы\" data-toc-modified-id=\"Выводы-3\"><span class=\"toc-item-num\">3&nbsp;&nbsp;</span>Выводы</a></span></li></ul></div>"
   ]
  },
  {
   "cell_type": "code",
   "execution_count": 70,
   "metadata": {},
   "outputs": [],
   "source": [
    "import numpy as np\n",
    "import pandas as pd\n",
    "import nltk\n",
    "import re\n",
    "from nltk.corpus import stopwords as nltk_stopwords\n",
    "from pymystem3 import Mystem\n",
    "from sklearn.feature_extraction.text import CountVectorizer, TfidfVectorizer\n",
    "from tqdm import notebook \n",
    "\n",
    "from sklearn.linear_model import LogisticRegression\n",
    "from sklearn.tree import DecisionTreeClassifier\n",
    "from sklearn.ensemble import RandomForestClassifier\n",
    "from gensim.models import Word2Vec\n",
    "import spacy\n",
    "\n",
    "from sklearn.model_selection import cross_val_score\n",
    "from sklearn.model_selection import train_test_split\n",
    "from sklearn.model_selection import GridSearchCV\n",
    "from sklearn.metrics import f1_score"
   ]
  },
  {
   "cell_type": "markdown",
   "metadata": {},
   "source": [
    "## Подготовка"
   ]
  },
  {
   "cell_type": "code",
   "execution_count": 71,
   "metadata": {},
   "outputs": [],
   "source": [
    "data = pd.read_csv('/datasets/toxic_comments.csv')"
   ]
  },
  {
   "cell_type": "code",
   "execution_count": 72,
   "metadata": {},
   "outputs": [
    {
     "data": {
      "text/html": [
       "<div>\n",
       "<style scoped>\n",
       "    .dataframe tbody tr th:only-of-type {\n",
       "        vertical-align: middle;\n",
       "    }\n",
       "\n",
       "    .dataframe tbody tr th {\n",
       "        vertical-align: top;\n",
       "    }\n",
       "\n",
       "    .dataframe thead th {\n",
       "        text-align: right;\n",
       "    }\n",
       "</style>\n",
       "<table border=\"1\" class=\"dataframe\">\n",
       "  <thead>\n",
       "    <tr style=\"text-align: right;\">\n",
       "      <th></th>\n",
       "      <th>text</th>\n",
       "      <th>toxic</th>\n",
       "    </tr>\n",
       "  </thead>\n",
       "  <tbody>\n",
       "    <tr>\n",
       "      <th>0</th>\n",
       "      <td>Explanation\\nWhy the edits made under my usern...</td>\n",
       "      <td>0</td>\n",
       "    </tr>\n",
       "    <tr>\n",
       "      <th>1</th>\n",
       "      <td>D'aww! He matches this background colour I'm s...</td>\n",
       "      <td>0</td>\n",
       "    </tr>\n",
       "    <tr>\n",
       "      <th>2</th>\n",
       "      <td>Hey man, I'm really not trying to edit war. It...</td>\n",
       "      <td>0</td>\n",
       "    </tr>\n",
       "    <tr>\n",
       "      <th>3</th>\n",
       "      <td>\"\\nMore\\nI can't make any real suggestions on ...</td>\n",
       "      <td>0</td>\n",
       "    </tr>\n",
       "    <tr>\n",
       "      <th>4</th>\n",
       "      <td>You, sir, are my hero. Any chance you remember...</td>\n",
       "      <td>0</td>\n",
       "    </tr>\n",
       "  </tbody>\n",
       "</table>\n",
       "</div>"
      ],
      "text/plain": [
       "                                                text  toxic\n",
       "0  Explanation\\nWhy the edits made under my usern...      0\n",
       "1  D'aww! He matches this background colour I'm s...      0\n",
       "2  Hey man, I'm really not trying to edit war. It...      0\n",
       "3  \"\\nMore\\nI can't make any real suggestions on ...      0\n",
       "4  You, sir, are my hero. Any chance you remember...      0"
      ]
     },
     "execution_count": 72,
     "metadata": {},
     "output_type": "execute_result"
    }
   ],
   "source": [
    "data.head()"
   ]
  },
  {
   "cell_type": "code",
   "execution_count": 73,
   "metadata": {},
   "outputs": [
    {
     "name": "stdout",
     "output_type": "stream",
     "text": [
      "<class 'pandas.core.frame.DataFrame'>\n",
      "RangeIndex: 159571 entries, 0 to 159570\n",
      "Data columns (total 2 columns):\n",
      " #   Column  Non-Null Count   Dtype \n",
      "---  ------  --------------   ----- \n",
      " 0   text    159571 non-null  object\n",
      " 1   toxic   159571 non-null  int64 \n",
      "dtypes: int64(1), object(1)\n",
      "memory usage: 2.4+ MB\n"
     ]
    }
   ],
   "source": [
    "data.info()"
   ]
  },
  {
   "cell_type": "markdown",
   "metadata": {},
   "source": [
    "Лемматизируем текст и очистим его от ненужных символов"
   ]
  },
  {
   "cell_type": "code",
   "execution_count": 74,
   "metadata": {},
   "outputs": [],
   "source": [
    "nlp = spacy.load(\"en_core_web_sm\")"
   ]
  },
  {
   "cell_type": "code",
   "execution_count": 76,
   "metadata": {},
   "outputs": [
    {
     "data": {
      "application/vnd.jupyter.widget-view+json": {
       "model_id": "e33eff56b3184a95bcaf4fb494da4e06",
       "version_major": 2,
       "version_minor": 0
      },
      "text/plain": [
       "  0%|          | 0/159571 [00:00<?, ?it/s]"
      ]
     },
     "metadata": {},
     "output_type": "display_data"
    },
    {
     "name": "stderr",
     "output_type": "stream",
     "text": [
      "/tmp/ipykernel_32/64775789.py:4: SettingWithCopyWarning: \n",
      "A value is trying to be set on a copy of a slice from a DataFrame\n",
      "\n",
      "See the caveats in the documentation: https://pandas.pydata.org/pandas-docs/stable/user_guide/indexing.html#returning-a-view-versus-a-copy\n",
      "  data['text'][i] = \" \".join([token.lemma_ for token in lemm_list])\n",
      "/tmp/ipykernel_32/64775789.py:6: SettingWithCopyWarning: \n",
      "A value is trying to be set on a copy of a slice from a DataFrame\n",
      "\n",
      "See the caveats in the documentation: https://pandas.pydata.org/pandas-docs/stable/user_guide/indexing.html#returning-a-view-versus-a-copy\n",
      "  data['text'][i] = ' '.join(a.split())\n"
     ]
    }
   ],
   "source": [
    "m = Mystem()\n",
    "for i in notebook.tqdm(range(len(data['text']))):\n",
    "    lemm_list = nlp(data['text'][i])\n",
    "    data['text'][i] = \" \".join([token.lemma_ for token in lemm_list])\n",
    "    a = re.sub(r'[^a-zA-Z]', ' ', data['text'][i])\n",
    "    data['text'][i] = ' '.join(a.split())"
   ]
  },
  {
   "cell_type": "markdown",
   "metadata": {},
   "source": [
    "Если пробовать через функцию и apply, то ядро сразу умирает. Поэтому сделал через цикл"
   ]
  },
  {
   "cell_type": "code",
   "execution_count": 77,
   "metadata": {},
   "outputs": [
    {
     "data": {
      "text/html": [
       "<div>\n",
       "<style scoped>\n",
       "    .dataframe tbody tr th:only-of-type {\n",
       "        vertical-align: middle;\n",
       "    }\n",
       "\n",
       "    .dataframe tbody tr th {\n",
       "        vertical-align: top;\n",
       "    }\n",
       "\n",
       "    .dataframe thead th {\n",
       "        text-align: right;\n",
       "    }\n",
       "</style>\n",
       "<table border=\"1\" class=\"dataframe\">\n",
       "  <thead>\n",
       "    <tr style=\"text-align: right;\">\n",
       "      <th></th>\n",
       "      <th>text</th>\n",
       "      <th>toxic</th>\n",
       "    </tr>\n",
       "  </thead>\n",
       "  <tbody>\n",
       "    <tr>\n",
       "      <th>0</th>\n",
       "      <td>explanation why the edit make under my usernam...</td>\n",
       "      <td>0</td>\n",
       "    </tr>\n",
       "    <tr>\n",
       "      <th>1</th>\n",
       "      <td>d aww he match this background colour I be see...</td>\n",
       "      <td>0</td>\n",
       "    </tr>\n",
       "    <tr>\n",
       "      <th>2</th>\n",
       "      <td>hey man I be really not try to edit war it be ...</td>\n",
       "      <td>0</td>\n",
       "    </tr>\n",
       "    <tr>\n",
       "      <th>3</th>\n",
       "      <td>More I can not make any real suggestion on imp...</td>\n",
       "      <td>0</td>\n",
       "    </tr>\n",
       "    <tr>\n",
       "      <th>4</th>\n",
       "      <td>you sir be my hero any chance you remember wha...</td>\n",
       "      <td>0</td>\n",
       "    </tr>\n",
       "  </tbody>\n",
       "</table>\n",
       "</div>"
      ],
      "text/plain": [
       "                                                text  toxic\n",
       "0  explanation why the edit make under my usernam...      0\n",
       "1  d aww he match this background colour I be see...      0\n",
       "2  hey man I be really not try to edit war it be ...      0\n",
       "3  More I can not make any real suggestion on imp...      0\n",
       "4  you sir be my hero any chance you remember wha...      0"
      ]
     },
     "execution_count": 77,
     "metadata": {},
     "output_type": "execute_result"
    }
   ],
   "source": [
    "data.head()"
   ]
  },
  {
   "cell_type": "code",
   "execution_count": 78,
   "metadata": {},
   "outputs": [],
   "source": [
    "features = data['text']\n",
    "target = data['toxic']\n",
    "features_train, features_test, target_train, target_test = train_test_split(features, target, test_size=0.2, random_state=148)"
   ]
  },
  {
   "cell_type": "code",
   "execution_count": 79,
   "metadata": {},
   "outputs": [],
   "source": [
    "features_train = features_train.values.astype('U')"
   ]
  },
  {
   "cell_type": "code",
   "execution_count": 80,
   "metadata": {},
   "outputs": [
    {
     "name": "stderr",
     "output_type": "stream",
     "text": [
      "[nltk_data] Downloading package stopwords to /home/jovyan/nltk_data...\n",
      "[nltk_data]   Package stopwords is already up-to-date!\n"
     ]
    }
   ],
   "source": [
    "nltk.download('stopwords')\n",
    "stopwords = set(nltk_stopwords.words('english'))\n",
    "count_tf_idf = TfidfVectorizer(stop_words=stopwords)\n",
    "features_train = count_tf_idf.fit_transform(features_train)\n"
   ]
  },
  {
   "cell_type": "markdown",
   "metadata": {},
   "source": [
    "## Обучение"
   ]
  },
  {
   "cell_type": "code",
   "execution_count": 81,
   "metadata": {},
   "outputs": [
    {
     "name": "stdout",
     "output_type": "stream",
     "text": [
      "CPU times: user 3 µs, sys: 1e+03 ns, total: 4 µs\n",
      "Wall time: 6.68 µs\n",
      "[0.75112185 0.76029056 0.75082365 0.75208044 0.75655431]\n",
      "0.7541741619693467\n"
     ]
    }
   ],
   "source": [
    "%time\n",
    "model_l_r = LogisticRegression(class_weight='balanced', solver=\"saga\", max_iter=1000)\n",
    "scores = cross_val_score(model_l_r, features_train, target_train, scoring='f1')\n",
    "print(scores)\n",
    "print(scores.mean())"
   ]
  },
  {
   "cell_type": "code",
   "execution_count": 12,
   "metadata": {},
   "outputs": [
    {
     "name": "stdout",
     "output_type": "stream",
     "text": [
      "CPU times: user 3 µs, sys: 0 ns, total: 3 µs\n",
      "Wall time: 5.72 µs\n",
      "[0.62195728 0.61264425 0.60332771]\n",
      "0.6126430797876959\n"
     ]
    }
   ],
   "source": [
    "%time\n",
    "model_f = RandomForestClassifier(class_weight='balanced')\n",
    "scores = cross_val_score(model_f, features_train, target_train, scoring='f1', cv=3)\n",
    "print(scores)\n",
    "print(scores.mean())"
   ]
  },
  {
   "cell_type": "code",
   "execution_count": 13,
   "metadata": {},
   "outputs": [
    {
     "name": "stdout",
     "output_type": "stream",
     "text": [
      "CPU times: user 2 µs, sys: 0 ns, total: 2 µs\n",
      "Wall time: 4.53 µs\n",
      "[0.64482527 0.59119691 0.59754601]\n",
      "0.611189397428018\n"
     ]
    }
   ],
   "source": [
    "%time\n",
    "model_t = DecisionTreeClassifier(class_weight='balanced')\n",
    "scores = cross_val_score(model_t, features_train, target_train, scoring='f1', cv=3)\n",
    "print(scores)\n",
    "print(scores.mean())"
   ]
  },
  {
   "cell_type": "code",
   "execution_count": 84,
   "metadata": {},
   "outputs": [],
   "source": [
    "grid = {\"C\":np.logspace(-3,3,10),\n",
    "    'max_iter' : [100],\n",
    "    'class_weight': ['balanced', 'None']}"
   ]
  },
  {
   "cell_type": "code",
   "execution_count": 1,
   "metadata": {},
   "outputs": [],
   "source": [
    "rf_cv = GridSearchCV(estimator=LogisticRegression(), param_grid=grid, cv= 3, scoring='f1')\n",
    "rf_cv.fit(features_train, target_train)"
   ]
  },
  {
   "cell_type": "code",
   "execution_count": null,
   "metadata": {},
   "outputs": [],
   "source": [
    "rf_cv.best_params_"
   ]
  },
  {
   "cell_type": "markdown",
   "metadata": {},
   "source": [
    "### Тестирование лучшей модели"
   ]
  },
  {
   "cell_type": "code",
   "execution_count": 82,
   "metadata": {},
   "outputs": [],
   "source": [
    "features_test= count_tf_idf.transform(features_test)"
   ]
  },
  {
   "cell_type": "code",
   "execution_count": 83,
   "metadata": {},
   "outputs": [
    {
     "data": {
      "text/plain": [
       "0.7505783099741461"
      ]
     },
     "execution_count": 83,
     "metadata": {},
     "output_type": "execute_result"
    }
   ],
   "source": [
    "model_l_r = LogisticRegression(class_weight='balanced', solver=\"saga\", max_iter=1000, random_state=148, C= 1.05)\n",
    "model_l_r.fit(features_train, target_train)\n",
    "p = model_l_r.predict(features_test)\n",
    "f1_score(target_test, p)"
   ]
  },
  {
   "cell_type": "markdown",
   "metadata": {},
   "source": [
    "## Выводы"
   ]
  },
  {
   "cell_type": "markdown",
   "metadata": {},
   "source": [
    "Изначальный текст был лемматизирован и избавлен от лишних символов. Была проведена векторизация текста для обучения моделей. Модели обучались долго, CatBoost вообще больше часа. Лучший результат получился и логистической регрессии, что подходит под целевой"
   ]
  }
 ],
 "metadata": {
  "ExecuteTimeLog": [
   {
    "duration": 4481,
    "start_time": "2022-06-13T16:01:52.481Z"
   },
   {
    "duration": 416,
    "start_time": "2022-06-13T16:02:27.339Z"
   },
   {
    "duration": 4837,
    "start_time": "2022-06-13T16:02:43.986Z"
   },
   {
    "duration": 16,
    "start_time": "2022-06-13T16:03:13.487Z"
   },
   {
    "duration": 136,
    "start_time": "2022-06-13T16:14:42.102Z"
   },
   {
    "duration": 6049,
    "start_time": "2022-06-13T16:14:44.503Z"
   },
   {
    "duration": 6915,
    "start_time": "2022-06-13T16:14:50.556Z"
   },
   {
    "duration": 3243,
    "start_time": "2022-06-13T16:14:58.932Z"
   },
   {
    "duration": 55776,
    "start_time": "2022-06-13T16:15:04.498Z"
   },
   {
    "duration": 41,
    "start_time": "2022-06-13T16:16:45.211Z"
   },
   {
    "duration": 593,
    "start_time": "2022-06-13T16:16:57.458Z"
   },
   {
    "duration": 72,
    "start_time": "2022-06-13T16:17:13.419Z"
   },
   {
    "duration": 73,
    "start_time": "2022-06-13T16:19:30.507Z"
   },
   {
    "duration": 112,
    "start_time": "2022-06-13T16:20:21.825Z"
   },
   {
    "duration": 81,
    "start_time": "2022-06-13T16:20:26.587Z"
   },
   {
    "duration": 74,
    "start_time": "2022-06-13T16:20:48.205Z"
   },
   {
    "duration": 27,
    "start_time": "2022-06-13T16:21:01.303Z"
   },
   {
    "duration": 68,
    "start_time": "2022-06-13T16:21:06.331Z"
   },
   {
    "duration": 49,
    "start_time": "2022-06-13T16:22:28.496Z"
   },
   {
    "duration": 79,
    "start_time": "2022-06-13T16:24:16.343Z"
   },
   {
    "duration": 79,
    "start_time": "2022-06-13T16:24:19.454Z"
   },
   {
    "duration": 66,
    "start_time": "2022-06-13T16:24:27.381Z"
   },
   {
    "duration": 85,
    "start_time": "2022-06-13T16:24:36.246Z"
   },
   {
    "duration": 5607,
    "start_time": "2022-06-13T16:26:01.113Z"
   },
   {
    "duration": 3061,
    "start_time": "2022-06-13T16:26:06.723Z"
   },
   {
    "duration": 50521,
    "start_time": "2022-06-13T16:26:09.790Z"
   },
   {
    "duration": 244,
    "start_time": "2022-06-13T16:27:03.613Z"
   },
   {
    "duration": 5499,
    "start_time": "2022-06-13T16:27:20.141Z"
   },
   {
    "duration": 1935,
    "start_time": "2022-06-13T16:27:25.643Z"
   },
   {
    "duration": 4379,
    "start_time": "2022-06-13T16:28:26.311Z"
   },
   {
    "duration": 5178,
    "start_time": "2022-06-13T16:28:30.698Z"
   },
   {
    "duration": 1519,
    "start_time": "2022-06-13T16:28:35.889Z"
   },
   {
    "duration": 43742,
    "start_time": "2022-06-13T16:28:42.030Z"
   },
   {
    "duration": 532,
    "start_time": "2022-06-13T16:29:27.695Z"
   },
   {
    "duration": 69,
    "start_time": "2022-06-13T16:29:44.609Z"
   },
   {
    "duration": 106,
    "start_time": "2022-06-13T16:30:01.479Z"
   },
   {
    "duration": 1184,
    "start_time": "2022-06-13T16:30:10.225Z"
   },
   {
    "duration": 2877,
    "start_time": "2022-06-13T16:30:11.415Z"
   },
   {
    "duration": 3202,
    "start_time": "2022-06-13T16:30:14.294Z"
   },
   {
    "duration": 92,
    "start_time": "2022-06-13T16:30:17.498Z"
   },
   {
    "duration": 34,
    "start_time": "2022-06-13T16:31:29.911Z"
   },
   {
    "duration": 35,
    "start_time": "2022-06-13T16:34:13.980Z"
   },
   {
    "duration": 15187,
    "start_time": "2022-06-13T16:40:46.099Z"
   },
   {
    "duration": 55,
    "start_time": "2022-06-13T16:45:09.691Z"
   },
   {
    "duration": 64,
    "start_time": "2022-06-13T16:45:28.819Z"
   },
   {
    "duration": 75,
    "start_time": "2022-06-13T16:45:42.635Z"
   },
   {
    "duration": 75,
    "start_time": "2022-06-13T16:46:10.450Z"
   },
   {
    "duration": 80,
    "start_time": "2022-06-13T16:46:19.213Z"
   },
   {
    "duration": 102,
    "start_time": "2022-06-13T16:59:28.248Z"
   },
   {
    "duration": 100,
    "start_time": "2022-06-13T16:59:34.806Z"
   },
   {
    "duration": 64,
    "start_time": "2022-06-13T16:59:44.719Z"
   },
   {
    "duration": 71,
    "start_time": "2022-06-13T16:59:55.675Z"
   },
   {
    "duration": 53,
    "start_time": "2022-06-13T16:59:58.303Z"
   },
   {
    "duration": 126,
    "start_time": "2022-06-13T17:00:03.165Z"
   },
   {
    "duration": 82,
    "start_time": "2022-06-13T17:00:08.485Z"
   },
   {
    "duration": 252,
    "start_time": "2022-06-13T17:00:11.793Z"
   },
   {
    "duration": 105,
    "start_time": "2022-06-13T17:00:29.719Z"
   },
   {
    "duration": 93,
    "start_time": "2022-06-13T17:00:35.715Z"
   },
   {
    "duration": 3491,
    "start_time": "2022-06-13T17:00:38.823Z"
   },
   {
    "duration": 4625,
    "start_time": "2022-06-13T17:00:59.709Z"
   },
   {
    "duration": 5405,
    "start_time": "2022-06-13T17:01:04.337Z"
   },
   {
    "duration": 28,
    "start_time": "2022-06-13T17:01:09.744Z"
   },
   {
    "duration": 2652,
    "start_time": "2022-06-13T17:01:09.775Z"
   },
   {
    "duration": 49304,
    "start_time": "2022-06-13T17:01:12.429Z"
   },
   {
    "duration": 3361,
    "start_time": "2022-06-13T17:02:29.304Z"
   },
   {
    "duration": 381,
    "start_time": "2022-06-13T17:02:34.715Z"
   },
   {
    "duration": 2785,
    "start_time": "2022-06-13T17:03:15.611Z"
   },
   {
    "duration": 3360,
    "start_time": "2022-06-13T17:03:20.320Z"
   },
   {
    "duration": 90,
    "start_time": "2022-06-13T17:03:27.032Z"
   },
   {
    "duration": 3150,
    "start_time": "2022-06-13T17:03:35.083Z"
   },
   {
    "duration": 61,
    "start_time": "2022-06-13T17:13:56.927Z"
   },
   {
    "duration": 13,
    "start_time": "2022-06-13T17:13:57.168Z"
   },
   {
    "duration": 4139,
    "start_time": "2022-06-13T17:14:00.303Z"
   },
   {
    "duration": 4468,
    "start_time": "2022-06-13T17:14:04.444Z"
   },
   {
    "duration": 29,
    "start_time": "2022-06-13T17:14:08.914Z"
   },
   {
    "duration": 1421,
    "start_time": "2022-06-13T17:14:08.946Z"
   },
   {
    "duration": 37913,
    "start_time": "2022-06-13T17:14:10.371Z"
   },
   {
    "duration": 454,
    "start_time": "2022-06-13T17:14:48.286Z"
   },
   {
    "duration": 47,
    "start_time": "2022-06-13T17:15:27.091Z"
   },
   {
    "duration": 1284,
    "start_time": "2022-06-13T17:16:24.110Z"
   },
   {
    "duration": 2802,
    "start_time": "2022-06-13T17:16:26.126Z"
   },
   {
    "duration": 64,
    "start_time": "2022-06-13T17:16:29.919Z"
   },
   {
    "duration": 3944,
    "start_time": "2022-06-13T17:16:36.302Z"
   },
   {
    "duration": 14,
    "start_time": "2022-06-13T17:16:40.248Z"
   },
   {
    "duration": 2305,
    "start_time": "2022-06-13T17:16:46.902Z"
   },
   {
    "duration": 4221,
    "start_time": "2022-06-13T17:17:30.723Z"
   },
   {
    "duration": 4670,
    "start_time": "2022-06-13T17:17:34.946Z"
   },
   {
    "duration": 18,
    "start_time": "2022-06-13T17:17:39.618Z"
   },
   {
    "duration": 2511,
    "start_time": "2022-06-13T17:17:39.638Z"
   },
   {
    "duration": 41271,
    "start_time": "2022-06-13T17:17:42.152Z"
   },
   {
    "duration": 2355,
    "start_time": "2022-06-13T17:18:52.591Z"
   },
   {
    "duration": 626,
    "start_time": "2022-06-13T17:19:30.588Z"
   },
   {
    "duration": 485,
    "start_time": "2022-06-13T17:19:55.056Z"
   },
   {
    "duration": 947,
    "start_time": "2022-06-13T17:20:09.788Z"
   },
   {
    "duration": 419,
    "start_time": "2022-06-13T17:20:39.908Z"
   },
   {
    "duration": 2423,
    "start_time": "2022-06-13T17:20:45.017Z"
   },
   {
    "duration": 2963,
    "start_time": "2022-06-13T17:20:52.381Z"
   },
   {
    "duration": 78,
    "start_time": "2022-06-13T17:20:56.849Z"
   },
   {
    "duration": 9,
    "start_time": "2022-06-13T17:36:35.149Z"
   },
   {
    "duration": 5140,
    "start_time": "2022-06-13T17:36:35.637Z"
   },
   {
    "duration": 19,
    "start_time": "2022-06-13T17:36:40.779Z"
   },
   {
    "duration": 272,
    "start_time": "2022-06-13T17:36:40.802Z"
   },
   {
    "duration": 2397,
    "start_time": "2022-06-13T17:36:52.133Z"
   },
   {
    "duration": 5191,
    "start_time": "2022-06-13T17:37:11.332Z"
   },
   {
    "duration": 5562,
    "start_time": "2022-06-13T17:37:16.531Z"
   },
   {
    "duration": 29,
    "start_time": "2022-06-13T17:37:22.101Z"
   },
   {
    "duration": 3504,
    "start_time": "2022-06-13T17:37:22.137Z"
   },
   {
    "duration": 53213,
    "start_time": "2022-06-13T17:37:25.643Z"
   },
   {
    "duration": 786,
    "start_time": "2022-06-13T17:38:18.858Z"
   },
   {
    "duration": 3140,
    "start_time": "2022-06-13T17:39:59.800Z"
   },
   {
    "duration": 3211,
    "start_time": "2022-06-13T17:40:06.123Z"
   },
   {
    "duration": 6854,
    "start_time": "2022-06-13T17:40:39.287Z"
   },
   {
    "duration": 5265,
    "start_time": "2022-06-13T17:40:46.143Z"
   },
   {
    "duration": 20,
    "start_time": "2022-06-13T17:40:51.410Z"
   },
   {
    "duration": 2921,
    "start_time": "2022-06-13T17:40:51.432Z"
   },
   {
    "duration": 42876,
    "start_time": "2022-06-13T17:40:54.356Z"
   },
   {
    "duration": 76,
    "start_time": "2022-06-13T17:41:50.982Z"
   },
   {
    "duration": 2308,
    "start_time": "2022-06-13T17:42:45.394Z"
   },
   {
    "duration": 4470,
    "start_time": "2022-06-13T17:42:49.783Z"
   },
   {
    "duration": 32,
    "start_time": "2022-06-13T17:42:54.256Z"
   },
   {
    "duration": 967,
    "start_time": "2022-06-13T17:43:24.588Z"
   },
   {
    "duration": 25,
    "start_time": "2022-06-13T17:43:25.557Z"
   },
   {
    "duration": 123,
    "start_time": "2022-06-13T17:43:28.802Z"
   },
   {
    "duration": 2,
    "start_time": "2022-06-13T17:43:31.332Z"
   },
   {
    "duration": 14,
    "start_time": "2022-06-13T17:43:31.539Z"
   },
   {
    "duration": 16304,
    "start_time": "2022-06-15T16:16:50.484Z"
   },
   {
    "duration": 3161,
    "start_time": "2022-06-15T16:17:14.325Z"
   },
   {
    "duration": 158,
    "start_time": "2022-06-15T16:17:17.488Z"
   },
   {
    "duration": 33,
    "start_time": "2022-06-15T16:17:30.386Z"
   },
   {
    "duration": 981,
    "start_time": "2022-06-15T16:18:01.154Z"
   },
   {
    "duration": 3,
    "start_time": "2022-06-15T16:18:04.881Z"
   },
   {
    "duration": 448,
    "start_time": "2022-06-15T16:18:06.537Z"
   },
   {
    "duration": 33,
    "start_time": "2022-06-15T16:19:50.401Z"
   },
   {
    "duration": 4,
    "start_time": "2022-06-15T16:19:52.801Z"
   },
   {
    "duration": 3,
    "start_time": "2022-06-15T16:20:01.713Z"
   },
   {
    "duration": 9,
    "start_time": "2022-06-15T16:21:27.840Z"
   },
   {
    "duration": 6030539,
    "start_time": "2022-06-15T16:21:52.544Z"
   },
   {
    "duration": 0,
    "start_time": "2022-06-15T18:02:23.086Z"
   },
   {
    "duration": 2925,
    "start_time": "2022-06-15T18:02:31.361Z"
   },
   {
    "duration": 12,
    "start_time": "2022-06-15T18:03:48.869Z"
   },
   {
    "duration": 18,
    "start_time": "2022-06-15T18:03:50.357Z"
   },
   {
    "duration": 5,
    "start_time": "2022-06-15T18:03:51.686Z"
   },
   {
    "duration": 769241,
    "start_time": "2022-06-15T18:03:53.334Z"
   },
   {
    "duration": 11,
    "start_time": "2022-06-15T18:16:42.577Z"
   },
   {
    "duration": 9,
    "start_time": "2022-06-15T18:16:58.641Z"
   },
   {
    "duration": 65,
    "start_time": "2022-06-15T18:17:16.697Z"
   },
   {
    "duration": 3,
    "start_time": "2022-06-15T18:17:22.695Z"
   },
   {
    "duration": 3,
    "start_time": "2022-06-15T18:17:24.929Z"
   },
   {
    "duration": 7,
    "start_time": "2022-06-15T18:17:28.497Z"
   },
   {
    "duration": 21,
    "start_time": "2022-06-15T18:18:13.752Z"
   },
   {
    "duration": 283,
    "start_time": "2022-06-15T18:18:17.320Z"
   },
   {
    "duration": 4,
    "start_time": "2022-06-15T18:18:20.368Z"
   },
   {
    "duration": 4,
    "start_time": "2022-06-15T18:18:25.712Z"
   },
   {
    "duration": 22,
    "start_time": "2022-06-15T18:18:42.281Z"
   },
   {
    "duration": 199,
    "start_time": "2022-06-15T18:18:55.217Z"
   },
   {
    "duration": 83,
    "start_time": "2022-06-15T18:19:06.336Z"
   },
   {
    "duration": 4,
    "start_time": "2022-06-15T18:19:16.097Z"
   },
   {
    "duration": 20,
    "start_time": "2022-06-15T18:22:10.352Z"
   },
   {
    "duration": 6,
    "start_time": "2022-06-15T18:22:14.296Z"
   },
   {
    "duration": 6,
    "start_time": "2022-06-15T18:22:26.870Z"
   },
   {
    "duration": 6,
    "start_time": "2022-06-15T18:22:34.783Z"
   },
   {
    "duration": 50,
    "start_time": "2022-06-15T18:23:01.950Z"
   },
   {
    "duration": 3,
    "start_time": "2022-06-15T18:23:02.430Z"
   },
   {
    "duration": 208,
    "start_time": "2022-06-15T18:23:02.822Z"
   },
   {
    "duration": 5,
    "start_time": "2022-06-15T18:23:03.598Z"
   },
   {
    "duration": 6,
    "start_time": "2022-06-15T18:23:04.214Z"
   },
   {
    "duration": 81,
    "start_time": "2022-06-15T18:23:57.798Z"
   },
   {
    "duration": 38,
    "start_time": "2022-06-15T18:24:22.982Z"
   },
   {
    "duration": 31,
    "start_time": "2022-06-15T18:24:26.030Z"
   },
   {
    "duration": 23,
    "start_time": "2022-06-15T18:25:26.485Z"
   },
   {
    "duration": 43,
    "start_time": "2022-06-15T18:26:19.197Z"
   },
   {
    "duration": 5,
    "start_time": "2022-06-15T18:26:19.549Z"
   },
   {
    "duration": 162,
    "start_time": "2022-06-15T18:26:19.909Z"
   },
   {
    "duration": 4,
    "start_time": "2022-06-15T18:26:20.269Z"
   },
   {
    "duration": 6,
    "start_time": "2022-06-15T18:26:20.749Z"
   },
   {
    "duration": 57,
    "start_time": "2022-06-15T18:26:21.598Z"
   },
   {
    "duration": 4,
    "start_time": "2022-06-15T18:27:05.261Z"
   },
   {
    "duration": 23,
    "start_time": "2022-06-15T18:30:15.638Z"
   },
   {
    "duration": 359,
    "start_time": "2022-06-15T18:30:29.991Z"
   },
   {
    "duration": 45,
    "start_time": "2022-06-15T18:30:46.582Z"
   },
   {
    "duration": 51,
    "start_time": "2022-06-15T18:33:46.760Z"
   },
   {
    "duration": 17,
    "start_time": "2022-06-15T18:33:55.555Z"
   },
   {
    "duration": 4,
    "start_time": "2022-06-15T18:34:01.959Z"
   },
   {
    "duration": 4,
    "start_time": "2022-06-15T18:34:17.095Z"
   },
   {
    "duration": 23,
    "start_time": "2022-06-15T18:34:17.297Z"
   },
   {
    "duration": 3,
    "start_time": "2022-06-15T18:34:41.024Z"
   },
   {
    "duration": 16,
    "start_time": "2022-06-15T18:34:45.623Z"
   },
   {
    "duration": 42,
    "start_time": "2022-06-15T18:34:54.311Z"
   },
   {
    "duration": 186904,
    "start_time": "2022-06-15T18:34:58.720Z"
   },
   {
    "duration": 187,
    "start_time": "2022-06-15T18:38:17.407Z"
   },
   {
    "duration": 5,
    "start_time": "2022-06-15T18:39:03.023Z"
   },
   {
    "duration": 50,
    "start_time": "2022-06-15T18:39:07.687Z"
   },
   {
    "duration": 4,
    "start_time": "2022-06-15T18:39:09.577Z"
   },
   {
    "duration": 11,
    "start_time": "2022-06-15T18:39:15.375Z"
   },
   {
    "duration": 2216,
    "start_time": "2022-06-15T18:39:29.767Z"
   },
   {
    "duration": 19,
    "start_time": "2022-06-15T18:39:31.985Z"
   },
   {
    "duration": 15,
    "start_time": "2022-06-15T18:39:32.006Z"
   },
   {
    "duration": 11,
    "start_time": "2022-06-15T18:39:34.886Z"
   },
   {
    "duration": 3,
    "start_time": "2022-06-15T18:39:54.344Z"
   },
   {
    "duration": 706945,
    "start_time": "2022-06-15T18:39:55.705Z"
   },
   {
    "duration": 51,
    "start_time": "2022-06-15T18:51:42.653Z"
   },
   {
    "duration": 36,
    "start_time": "2022-06-15T18:51:42.706Z"
   },
   {
    "duration": 21,
    "start_time": "2022-06-15T18:51:42.744Z"
   },
   {
    "duration": 6,
    "start_time": "2022-06-15T18:57:16.587Z"
   },
   {
    "duration": 139,
    "start_time": "2022-06-15T18:57:17.043Z"
   },
   {
    "duration": 5,
    "start_time": "2022-06-15T18:57:17.434Z"
   },
   {
    "duration": 4,
    "start_time": "2022-06-15T18:57:22.979Z"
   },
   {
    "duration": 5,
    "start_time": "2022-06-15T18:57:42.234Z"
   },
   {
    "duration": 67,
    "start_time": "2022-06-15T18:57:42.659Z"
   },
   {
    "duration": 131,
    "start_time": "2022-06-15T18:57:44.243Z"
   },
   {
    "duration": 4,
    "start_time": "2022-06-15T18:57:47.323Z"
   },
   {
    "duration": 49,
    "start_time": "2022-06-15T18:57:47.748Z"
   },
   {
    "duration": 3,
    "start_time": "2022-06-15T18:58:06.779Z"
   },
   {
    "duration": 41,
    "start_time": "2022-06-15T18:58:07.398Z"
   },
   {
    "duration": 3007884,
    "start_time": "2022-06-15T18:58:14.171Z"
   },
   {
    "duration": 31,
    "start_time": "2022-06-15T19:48:22.057Z"
   },
   {
    "duration": 322,
    "start_time": "2022-06-15T19:48:36.321Z"
   },
   {
    "duration": 66,
    "start_time": "2022-06-15T19:49:26.933Z"
   },
   {
    "duration": 80,
    "start_time": "2022-06-15T19:50:57.387Z"
   },
   {
    "duration": 17572,
    "start_time": "2022-06-15T19:51:09.926Z"
   },
   {
    "duration": 19,
    "start_time": "2022-06-15T19:51:48.480Z"
   },
   {
    "duration": 19,
    "start_time": "2022-06-15T19:52:26.605Z"
   },
   {
    "duration": 29,
    "start_time": "2022-06-15T19:52:30.653Z"
   },
   {
    "duration": 2062,
    "start_time": "2022-06-15T19:52:39.413Z"
   },
   {
    "duration": 43,
    "start_time": "2022-06-15T19:53:02.149Z"
   },
   {
    "duration": 25,
    "start_time": "2022-06-15T19:53:06.776Z"
   },
   {
    "duration": 103,
    "start_time": "2022-06-15T19:54:36.805Z"
   },
   {
    "duration": 4,
    "start_time": "2022-06-15T19:54:46.312Z"
   },
   {
    "duration": 9,
    "start_time": "2022-06-15T19:54:56.881Z"
   },
   {
    "duration": 1642,
    "start_time": "2022-06-16T17:23:47.318Z"
   },
   {
    "duration": 3067,
    "start_time": "2022-06-16T17:23:48.962Z"
   },
   {
    "duration": 16,
    "start_time": "2022-06-16T17:23:52.030Z"
   },
   {
    "duration": 18,
    "start_time": "2022-06-16T17:23:52.048Z"
   },
   {
    "duration": 9,
    "start_time": "2022-06-16T17:23:52.068Z"
   },
   {
    "duration": 6,
    "start_time": "2022-06-16T17:23:52.089Z"
   },
   {
    "duration": 670106,
    "start_time": "2022-06-16T17:23:52.097Z"
   },
   {
    "duration": 38,
    "start_time": "2022-06-16T17:35:02.206Z"
   },
   {
    "duration": 63,
    "start_time": "2022-06-16T17:35:02.246Z"
   },
   {
    "duration": 19,
    "start_time": "2022-06-16T17:35:02.313Z"
   },
   {
    "duration": 24,
    "start_time": "2022-06-16T17:35:02.334Z"
   },
   {
    "duration": 181,
    "start_time": "2022-06-16T17:35:02.361Z"
   },
   {
    "duration": 5,
    "start_time": "2022-06-16T17:35:02.544Z"
   },
   {
    "duration": 9,
    "start_time": "2022-06-16T17:35:02.551Z"
   },
   {
    "duration": 17,
    "start_time": "2022-06-16T17:35:02.561Z"
   },
   {
    "duration": 273,
    "start_time": "2022-06-16T17:35:02.580Z"
   },
   {
    "duration": 208,
    "start_time": "2022-06-16T17:35:02.856Z"
   },
   {
    "duration": 123,
    "start_time": "2022-06-16T17:35:03.079Z"
   },
   {
    "duration": 3,
    "start_time": "2022-06-16T17:38:17.449Z"
   },
   {
    "duration": 199,
    "start_time": "2022-06-16T17:38:17.997Z"
   },
   {
    "duration": 319,
    "start_time": "2022-06-16T17:38:31.697Z"
   },
   {
    "duration": 181,
    "start_time": "2022-06-16T17:38:34.011Z"
   },
   {
    "duration": 201,
    "start_time": "2022-06-16T17:39:20.696Z"
   },
   {
    "duration": 236,
    "start_time": "2022-06-16T17:39:23.612Z"
   },
   {
    "duration": 12,
    "start_time": "2022-06-16T17:40:14.019Z"
   },
   {
    "duration": 4,
    "start_time": "2022-06-16T17:41:00.450Z"
   },
   {
    "duration": 11,
    "start_time": "2022-06-16T17:41:30.991Z"
   },
   {
    "duration": 286,
    "start_time": "2022-06-16T17:41:55.234Z"
   },
   {
    "duration": 3,
    "start_time": "2022-06-16T17:42:15.990Z"
   },
   {
    "duration": 5327,
    "start_time": "2022-06-16T17:42:51.513Z"
   },
   {
    "duration": 3,
    "start_time": "2022-06-16T17:42:58.097Z"
   },
   {
    "duration": 5288,
    "start_time": "2022-06-16T17:42:58.417Z"
   },
   {
    "duration": 4,
    "start_time": "2022-06-16T17:43:45.329Z"
   },
   {
    "duration": 4,
    "start_time": "2022-06-16T17:43:56.544Z"
   },
   {
    "duration": 4,
    "start_time": "2022-06-16T17:43:59.628Z"
   },
   {
    "duration": 3,
    "start_time": "2022-06-16T17:44:29.057Z"
   },
   {
    "duration": 182,
    "start_time": "2022-06-16T17:44:29.886Z"
   },
   {
    "duration": 3,
    "start_time": "2022-06-16T17:44:35.024Z"
   },
   {
    "duration": 5151,
    "start_time": "2022-06-16T17:44:35.801Z"
   },
   {
    "duration": 3,
    "start_time": "2022-06-16T17:44:43.066Z"
   },
   {
    "duration": 22,
    "start_time": "2022-06-16T17:45:26.969Z"
   },
   {
    "duration": 20,
    "start_time": "2022-06-16T17:45:45.153Z"
   },
   {
    "duration": 20,
    "start_time": "2022-06-16T17:46:05.224Z"
   },
   {
    "duration": 21,
    "start_time": "2022-06-16T17:46:12.520Z"
   },
   {
    "duration": 10,
    "start_time": "2022-06-16T17:48:45.342Z"
   },
   {
    "duration": 25,
    "start_time": "2022-06-16T17:48:58.343Z"
   },
   {
    "duration": 4,
    "start_time": "2022-06-16T17:49:01.615Z"
   },
   {
    "duration": 21,
    "start_time": "2022-06-16T17:49:04.334Z"
   },
   {
    "duration": 42,
    "start_time": "2022-06-16T17:49:17.951Z"
   },
   {
    "duration": 4261,
    "start_time": "2022-06-16T17:49:18.535Z"
   },
   {
    "duration": 4,
    "start_time": "2022-06-16T17:53:01.917Z"
   },
   {
    "duration": 4,
    "start_time": "2022-06-16T17:54:25.909Z"
   },
   {
    "duration": 16,
    "start_time": "2022-06-16T17:55:40.310Z"
   },
   {
    "duration": 2,
    "start_time": "2022-06-16T17:55:59.469Z"
   },
   {
    "duration": 3,
    "start_time": "2022-06-16T17:55:59.693Z"
   },
   {
    "duration": 17,
    "start_time": "2022-06-16T17:55:59.993Z"
   },
   {
    "duration": 9,
    "start_time": "2022-06-16T17:56:25.236Z"
   },
   {
    "duration": 821,
    "start_time": "2022-06-16T18:01:23.019Z"
   },
   {
    "duration": 19,
    "start_time": "2022-06-16T18:01:23.842Z"
   },
   {
    "duration": 13,
    "start_time": "2022-06-16T18:01:25.044Z"
   },
   {
    "duration": 11,
    "start_time": "2022-06-16T18:01:27.266Z"
   },
   {
    "duration": 3,
    "start_time": "2022-06-16T18:01:28.763Z"
   },
   {
    "duration": 41,
    "start_time": "2022-06-16T18:01:32.970Z"
   },
   {
    "duration": 28,
    "start_time": "2022-06-16T18:01:34.306Z"
   },
   {
    "duration": 497549,
    "start_time": "2022-06-16T18:01:47.017Z"
   },
   {
    "duration": 6,
    "start_time": "2022-06-16T18:10:04.568Z"
   },
   {
    "duration": 233,
    "start_time": "2022-06-16T18:10:04.576Z"
   },
   {
    "duration": 5,
    "start_time": "2022-06-16T18:10:04.812Z"
   },
   {
    "duration": 14,
    "start_time": "2022-06-16T18:10:04.819Z"
   },
   {
    "duration": 15,
    "start_time": "2022-06-16T18:10:04.836Z"
   },
   {
    "duration": 91,
    "start_time": "2022-06-16T18:10:04.853Z"
   },
   {
    "duration": 144,
    "start_time": "2022-06-16T18:10:04.946Z"
   },
   {
    "duration": 52,
    "start_time": "2022-06-16T18:10:05.093Z"
   },
   {
    "duration": 0,
    "start_time": "2022-06-16T18:10:05.149Z"
   },
   {
    "duration": 0,
    "start_time": "2022-06-16T18:10:05.151Z"
   },
   {
    "duration": 0,
    "start_time": "2022-06-16T18:10:05.152Z"
   },
   {
    "duration": 0,
    "start_time": "2022-06-16T18:10:05.153Z"
   },
   {
    "duration": 0,
    "start_time": "2022-06-16T18:10:05.156Z"
   },
   {
    "duration": 0,
    "start_time": "2022-06-16T18:10:05.157Z"
   },
   {
    "duration": 0,
    "start_time": "2022-06-16T18:10:05.159Z"
   },
   {
    "duration": 0,
    "start_time": "2022-06-16T18:10:05.160Z"
   },
   {
    "duration": 45,
    "start_time": "2022-06-16T18:10:08.273Z"
   },
   {
    "duration": 32,
    "start_time": "2022-06-16T18:10:08.961Z"
   },
   {
    "duration": 10,
    "start_time": "2022-06-16T18:10:09.663Z"
   },
   {
    "duration": 3,
    "start_time": "2022-06-16T18:10:23.552Z"
   },
   {
    "duration": 28,
    "start_time": "2022-06-16T18:10:23.997Z"
   },
   {
    "duration": 5,
    "start_time": "2022-06-16T18:10:36.928Z"
   },
   {
    "duration": 12,
    "start_time": "2022-06-16T18:10:40.072Z"
   },
   {
    "duration": 313,
    "start_time": "2022-06-16T18:10:41.071Z"
   },
   {
    "duration": 3,
    "start_time": "2022-06-16T18:10:42.304Z"
   },
   {
    "duration": 188,
    "start_time": "2022-06-16T18:10:43.162Z"
   },
   {
    "duration": 1078,
    "start_time": "2022-06-16T18:10:44.609Z"
   },
   {
    "duration": 6,
    "start_time": "2022-06-16T18:10:47.167Z"
   },
   {
    "duration": 6,
    "start_time": "2022-06-16T18:10:47.860Z"
   },
   {
    "duration": 4,
    "start_time": "2022-06-16T18:11:00.520Z"
   },
   {
    "duration": 5,
    "start_time": "2022-06-16T18:11:11.768Z"
   },
   {
    "duration": 3,
    "start_time": "2022-06-16T18:11:40.264Z"
   },
   {
    "duration": 3012,
    "start_time": "2022-06-16T18:11:58.097Z"
   },
   {
    "duration": 16,
    "start_time": "2022-06-16T18:12:01.111Z"
   },
   {
    "duration": 24,
    "start_time": "2022-06-16T18:12:01.128Z"
   },
   {
    "duration": 7,
    "start_time": "2022-06-16T18:12:04.375Z"
   },
   {
    "duration": 42,
    "start_time": "2022-06-16T18:12:07.262Z"
   },
   {
    "duration": 27,
    "start_time": "2022-06-16T18:12:07.753Z"
   },
   {
    "duration": 16,
    "start_time": "2022-06-16T18:12:08.076Z"
   },
   {
    "duration": 5,
    "start_time": "2022-06-16T18:12:12.902Z"
   },
   {
    "duration": 68,
    "start_time": "2022-06-16T18:12:13.684Z"
   },
   {
    "duration": 249,
    "start_time": "2022-06-16T18:12:16.080Z"
   },
   {
    "duration": 3,
    "start_time": "2022-06-16T18:12:24.151Z"
   },
   {
    "duration": 15,
    "start_time": "2022-06-16T18:12:24.450Z"
   },
   {
    "duration": 341,
    "start_time": "2022-06-16T18:12:31.055Z"
   },
   {
    "duration": 492,
    "start_time": "2022-06-16T18:12:38.120Z"
   },
   {
    "duration": 5,
    "start_time": "2022-06-16T18:13:10.367Z"
   },
   {
    "duration": 27,
    "start_time": "2022-06-16T18:13:10.893Z"
   },
   {
    "duration": 35,
    "start_time": "2022-06-16T18:13:14.455Z"
   },
   {
    "duration": 4,
    "start_time": "2022-06-16T18:13:15.792Z"
   },
   {
    "duration": 6,
    "start_time": "2022-06-16T18:13:16.199Z"
   },
   {
    "duration": 17,
    "start_time": "2022-06-16T18:13:27.255Z"
   },
   {
    "duration": 675,
    "start_time": "2022-06-16T18:14:21.151Z"
   },
   {
    "duration": 18,
    "start_time": "2022-06-16T18:14:21.828Z"
   },
   {
    "duration": 9,
    "start_time": "2022-06-16T18:14:22.092Z"
   },
   {
    "duration": 11,
    "start_time": "2022-06-16T18:14:24.296Z"
   },
   {
    "duration": 4,
    "start_time": "2022-06-16T18:14:26.333Z"
   },
   {
    "duration": 2,
    "start_time": "2022-06-16T18:14:28.897Z"
   },
   {
    "duration": 28,
    "start_time": "2022-06-16T18:14:33.249Z"
   },
   {
    "duration": 21,
    "start_time": "2022-06-16T18:14:33.597Z"
   },
   {
    "duration": 22,
    "start_time": "2022-06-16T18:14:35.670Z"
   },
   {
    "duration": 7,
    "start_time": "2022-06-16T18:14:38.696Z"
   },
   {
    "duration": 131,
    "start_time": "2022-06-16T18:14:38.974Z"
   },
   {
    "duration": 4,
    "start_time": "2022-06-16T18:14:39.345Z"
   },
   {
    "duration": 4,
    "start_time": "2022-06-16T18:14:40.896Z"
   },
   {
    "duration": 6,
    "start_time": "2022-06-16T18:14:44.262Z"
   },
   {
    "duration": 53,
    "start_time": "2022-06-16T18:14:46.496Z"
   },
   {
    "duration": 145,
    "start_time": "2022-06-16T18:14:50.774Z"
   },
   {
    "duration": 4,
    "start_time": "2022-06-16T18:15:09.294Z"
   },
   {
    "duration": 5,
    "start_time": "2022-06-16T18:15:48.174Z"
   },
   {
    "duration": 6,
    "start_time": "2022-06-16T18:15:49.119Z"
   },
   {
    "duration": 53,
    "start_time": "2022-06-16T18:15:50.053Z"
   },
   {
    "duration": 121,
    "start_time": "2022-06-16T18:15:51.774Z"
   },
   {
    "duration": 4,
    "start_time": "2022-06-16T18:16:08.546Z"
   },
   {
    "duration": 675,
    "start_time": "2022-06-16T18:16:08.552Z"
   },
   {
    "duration": 14,
    "start_time": "2022-06-16T18:16:09.229Z"
   },
   {
    "duration": 14,
    "start_time": "2022-06-16T18:16:09.244Z"
   },
   {
    "duration": 22,
    "start_time": "2022-06-16T18:16:09.260Z"
   },
   {
    "duration": 18,
    "start_time": "2022-06-16T18:16:09.283Z"
   },
   {
    "duration": 5,
    "start_time": "2022-06-16T18:16:09.302Z"
   },
   {
    "duration": 35,
    "start_time": "2022-06-16T18:16:09.308Z"
   },
   {
    "duration": 22,
    "start_time": "2022-06-16T18:16:09.345Z"
   },
   {
    "duration": 20,
    "start_time": "2022-06-16T18:16:09.369Z"
   },
   {
    "duration": 12,
    "start_time": "2022-06-16T18:16:09.392Z"
   },
   {
    "duration": 136,
    "start_time": "2022-06-16T18:16:09.406Z"
   },
   {
    "duration": 5,
    "start_time": "2022-06-16T18:16:09.544Z"
   },
   {
    "duration": 33,
    "start_time": "2022-06-16T18:16:09.552Z"
   },
   {
    "duration": 90,
    "start_time": "2022-06-16T18:16:09.587Z"
   },
   {
    "duration": 207,
    "start_time": "2022-06-16T18:16:09.687Z"
   },
   {
    "duration": 3,
    "start_time": "2022-06-16T18:17:02.461Z"
   },
   {
    "duration": 3,
    "start_time": "2022-06-16T18:17:25.446Z"
   },
   {
    "duration": 2,
    "start_time": "2022-06-16T18:18:42.498Z"
   },
   {
    "duration": 52,
    "start_time": "2022-06-16T18:18:59.413Z"
   },
   {
    "duration": 9,
    "start_time": "2022-06-16T18:19:00.652Z"
   },
   {
    "duration": 4,
    "start_time": "2022-06-16T18:19:06.605Z"
   },
   {
    "duration": 61,
    "start_time": "2022-06-16T18:19:07.157Z"
   },
   {
    "duration": 163,
    "start_time": "2022-06-16T18:19:08.849Z"
   },
   {
    "duration": 677,
    "start_time": "2022-06-16T18:19:34.421Z"
   },
   {
    "duration": 18,
    "start_time": "2022-06-16T18:19:35.100Z"
   },
   {
    "duration": 11,
    "start_time": "2022-06-16T18:19:35.595Z"
   },
   {
    "duration": 10,
    "start_time": "2022-06-16T18:19:36.756Z"
   },
   {
    "duration": 4,
    "start_time": "2022-06-16T18:19:38.149Z"
   },
   {
    "duration": 667551,
    "start_time": "2022-06-16T18:19:38.532Z"
   },
   {
    "duration": 39,
    "start_time": "2022-06-16T18:30:46.085Z"
   },
   {
    "duration": 9,
    "start_time": "2022-06-16T18:30:46.126Z"
   },
   {
    "duration": 8,
    "start_time": "2022-06-16T18:30:46.137Z"
   },
   {
    "duration": 2,
    "start_time": "2022-06-16T18:31:10.697Z"
   },
   {
    "duration": 5,
    "start_time": "2022-06-16T18:31:11.112Z"
   },
   {
    "duration": 118,
    "start_time": "2022-06-16T18:31:11.632Z"
   },
   {
    "duration": 32,
    "start_time": "2022-06-16T18:31:12.513Z"
   },
   {
    "duration": 2,
    "start_time": "2022-06-16T18:31:42.692Z"
   },
   {
    "duration": 20775,
    "start_time": "2022-06-16T18:31:44.208Z"
   },
   {
    "duration": 3378,
    "start_time": "2022-06-16T18:32:08.097Z"
   },
   {
    "duration": 672,
    "start_time": "2022-06-16T18:32:11.479Z"
   },
   {
    "duration": 24246,
    "start_time": "2022-06-16T18:32:50.657Z"
   },
   {
    "duration": 3512,
    "start_time": "2022-06-16T18:33:27.594Z"
   },
   {
    "duration": 478,
    "start_time": "2022-06-16T18:33:31.107Z"
   },
   {
    "duration": 6,
    "start_time": "2022-06-16T18:33:41.492Z"
   },
   {
    "duration": 56,
    "start_time": "2022-06-16T18:33:47.515Z"
   },
   {
    "duration": 15,
    "start_time": "2022-06-16T18:33:49.423Z"
   },
   {
    "duration": 2,
    "start_time": "2022-06-16T18:34:14.294Z"
   },
   {
    "duration": 258,
    "start_time": "2022-06-16T18:34:15.967Z"
   },
   {
    "duration": 1803,
    "start_time": "2022-06-16T18:34:17.393Z"
   },
   {
    "duration": 190,
    "start_time": "2022-06-16T18:34:19.198Z"
   },
   {
    "duration": 3,
    "start_time": "2022-06-16T18:34:43.320Z"
   },
   {
    "duration": 3,
    "start_time": "2022-06-16T18:35:15.375Z"
   },
   {
    "duration": 9,
    "start_time": "2022-06-16T18:35:15.607Z"
   },
   {
    "duration": 10,
    "start_time": "2022-06-16T18:35:24.345Z"
   },
   {
    "duration": 697,
    "start_time": "2022-06-16T18:35:28.929Z"
   },
   {
    "duration": 12,
    "start_time": "2022-06-16T18:35:33.564Z"
   },
   {
    "duration": 87,
    "start_time": "2022-06-16T18:35:36.565Z"
   },
   {
    "duration": 5,
    "start_time": "2022-06-16T18:35:47.256Z"
   },
   {
    "duration": 2,
    "start_time": "2022-06-16T18:36:22.728Z"
   },
   {
    "duration": 3,
    "start_time": "2022-06-16T18:36:27.367Z"
   },
   {
    "duration": 91,
    "start_time": "2022-06-16T18:36:27.855Z"
   },
   {
    "duration": 5,
    "start_time": "2022-06-16T18:36:31.747Z"
   },
   {
    "duration": 30,
    "start_time": "2022-06-16T18:36:40.232Z"
   },
   {
    "duration": 25,
    "start_time": "2022-06-16T18:37:57.600Z"
   },
   {
    "duration": 14,
    "start_time": "2022-06-16T18:38:13.620Z"
   },
   {
    "duration": 10,
    "start_time": "2022-06-16T18:38:18.214Z"
   },
   {
    "duration": 26,
    "start_time": "2022-06-16T18:39:17.502Z"
   },
   {
    "duration": 22,
    "start_time": "2022-06-16T18:39:18.734Z"
   },
   {
    "duration": 2,
    "start_time": "2022-06-16T18:39:21.768Z"
   },
   {
    "duration": 5,
    "start_time": "2022-06-16T18:39:22.389Z"
   },
   {
    "duration": 299,
    "start_time": "2022-06-16T18:39:23.598Z"
   },
   {
    "duration": 169,
    "start_time": "2022-06-16T18:39:25.257Z"
   },
   {
    "duration": 1772,
    "start_time": "2022-06-16T18:39:26.688Z"
   },
   {
    "duration": 175,
    "start_time": "2022-06-16T18:39:29.401Z"
   },
   {
    "duration": 3,
    "start_time": "2022-06-16T18:39:31.055Z"
   },
   {
    "duration": 98,
    "start_time": "2022-06-16T18:39:31.292Z"
   },
   {
    "duration": 4,
    "start_time": "2022-06-16T18:39:31.544Z"
   },
   {
    "duration": 32,
    "start_time": "2022-06-16T18:39:33.157Z"
   },
   {
    "duration": 7,
    "start_time": "2022-06-16T18:39:34.198Z"
   },
   {
    "duration": 4,
    "start_time": "2022-06-16T18:43:27.221Z"
   },
   {
    "duration": 3,
    "start_time": "2022-06-16T18:43:28.191Z"
   },
   {
    "duration": 50,
    "start_time": "2022-06-16T18:43:28.613Z"
   },
   {
    "duration": 256,
    "start_time": "2022-06-16T18:43:31.205Z"
   },
   {
    "duration": 1703,
    "start_time": "2022-06-16T18:43:34.589Z"
   },
   {
    "duration": 188,
    "start_time": "2022-06-16T18:43:37.724Z"
   },
   {
    "duration": 3,
    "start_time": "2022-06-16T18:43:40.349Z"
   },
   {
    "duration": 85,
    "start_time": "2022-06-16T18:43:41.158Z"
   },
   {
    "duration": 4,
    "start_time": "2022-06-16T18:43:41.455Z"
   },
   {
    "duration": 4,
    "start_time": "2022-06-16T18:43:49.100Z"
   },
   {
    "duration": 33,
    "start_time": "2022-06-16T18:43:56.954Z"
   },
   {
    "duration": 214,
    "start_time": "2022-06-16T18:44:10.862Z"
   },
   {
    "duration": 3,
    "start_time": "2022-06-16T18:44:22.489Z"
   },
   {
    "duration": 97,
    "start_time": "2022-06-16T18:44:23.069Z"
   },
   {
    "duration": 3,
    "start_time": "2022-06-16T18:44:27.117Z"
   },
   {
    "duration": 4,
    "start_time": "2022-06-16T18:44:33.837Z"
   },
   {
    "duration": 31,
    "start_time": "2022-06-16T18:44:37.037Z"
   },
   {
    "duration": 44,
    "start_time": "2022-06-16T18:44:47.668Z"
   },
   {
    "duration": 32,
    "start_time": "2022-06-16T18:44:50.324Z"
   },
   {
    "duration": 147,
    "start_time": "2022-06-16T18:45:01.836Z"
   },
   {
    "duration": 1884,
    "start_time": "2022-06-16T18:45:02.595Z"
   },
   {
    "duration": 295,
    "start_time": "2022-06-16T18:45:09.297Z"
   },
   {
    "duration": 1802,
    "start_time": "2022-06-16T18:45:09.595Z"
   },
   {
    "duration": 182,
    "start_time": "2022-06-16T18:45:19.820Z"
   },
   {
    "duration": 249,
    "start_time": "2022-06-16T18:45:22.804Z"
   },
   {
    "duration": 180,
    "start_time": "2022-06-16T18:45:27.832Z"
   },
   {
    "duration": 91,
    "start_time": "2022-06-16T18:45:38.653Z"
   },
   {
    "duration": 30,
    "start_time": "2022-06-16T18:45:39.429Z"
   },
   {
    "duration": 4,
    "start_time": "2022-06-16T18:45:57.972Z"
   },
   {
    "duration": 25,
    "start_time": "2022-06-16T18:46:05.940Z"
   },
   {
    "duration": 2,
    "start_time": "2022-06-16T18:46:11.036Z"
   },
   {
    "duration": 89,
    "start_time": "2022-06-16T18:46:12.363Z"
   },
   {
    "duration": 3,
    "start_time": "2022-06-16T18:46:14.764Z"
   },
   {
    "duration": 36,
    "start_time": "2022-06-16T18:46:16.156Z"
   },
   {
    "duration": 12,
    "start_time": "2022-06-16T18:48:30.852Z"
   },
   {
    "duration": 4,
    "start_time": "2022-06-16T18:48:40.452Z"
   },
   {
    "duration": 12,
    "start_time": "2022-06-16T18:48:41.589Z"
   },
   {
    "duration": 93,
    "start_time": "2022-06-16T18:49:02.803Z"
   },
   {
    "duration": 10587,
    "start_time": "2022-06-16T18:49:04.592Z"
   },
   {
    "duration": 4735,
    "start_time": "2022-06-16T18:49:17.259Z"
   },
   {
    "duration": 661,
    "start_time": "2022-06-16T18:49:23.646Z"
   },
   {
    "duration": 2,
    "start_time": "2022-06-16T18:49:27.499Z"
   },
   {
    "duration": 101,
    "start_time": "2022-06-16T18:49:28.571Z"
   },
   {
    "duration": 4,
    "start_time": "2022-06-16T18:49:29.803Z"
   },
   {
    "duration": 35,
    "start_time": "2022-06-16T18:49:33.889Z"
   },
   {
    "duration": 44,
    "start_time": "2022-06-16T18:49:38.690Z"
   },
   {
    "duration": 3,
    "start_time": "2022-06-16T18:49:38.941Z"
   },
   {
    "duration": 85,
    "start_time": "2022-06-16T18:49:43.451Z"
   },
   {
    "duration": 3,
    "start_time": "2022-06-16T18:49:44.390Z"
   },
   {
    "duration": 33,
    "start_time": "2022-06-16T18:49:45.818Z"
   },
   {
    "duration": 19,
    "start_time": "2022-06-16T18:51:15.202Z"
   },
   {
    "duration": 5,
    "start_time": "2022-06-16T18:51:18.924Z"
   },
   {
    "duration": 98,
    "start_time": "2022-06-16T18:51:19.826Z"
   },
   {
    "duration": 15700,
    "start_time": "2022-06-16T18:51:21.321Z"
   },
   {
    "duration": 17,
    "start_time": "2022-06-16T18:51:40.955Z"
   },
   {
    "duration": 4,
    "start_time": "2022-06-16T18:51:42.154Z"
   },
   {
    "duration": 98,
    "start_time": "2022-06-16T18:51:43.306Z"
   },
   {
    "duration": 178,
    "start_time": "2022-06-16T18:51:44.404Z"
   },
   {
    "duration": 23,
    "start_time": "2022-06-16T18:52:03.322Z"
   },
   {
    "duration": 4,
    "start_time": "2022-06-16T18:52:04.714Z"
   },
   {
    "duration": 49,
    "start_time": "2022-06-16T18:52:05.818Z"
   },
   {
    "duration": 198,
    "start_time": "2022-06-16T18:52:07.252Z"
   },
   {
    "duration": 5,
    "start_time": "2022-06-16T18:52:10.769Z"
   },
   {
    "duration": 58,
    "start_time": "2022-06-16T18:52:11.695Z"
   },
   {
    "duration": 266,
    "start_time": "2022-06-16T18:52:12.721Z"
   },
   {
    "duration": 5,
    "start_time": "2022-06-16T18:52:18.650Z"
   },
   {
    "duration": 55,
    "start_time": "2022-06-16T18:52:19.521Z"
   },
   {
    "duration": 181,
    "start_time": "2022-06-16T18:52:20.339Z"
   },
   {
    "duration": 1841,
    "start_time": "2022-06-16T18:52:21.191Z"
   },
   {
    "duration": 202,
    "start_time": "2022-06-16T18:52:25.107Z"
   },
   {
    "duration": 17,
    "start_time": "2022-06-16T18:52:40.010Z"
   },
   {
    "duration": 4,
    "start_time": "2022-06-16T18:52:41.626Z"
   },
   {
    "duration": 53,
    "start_time": "2022-06-16T18:52:42.666Z"
   },
   {
    "duration": 48,
    "start_time": "2022-06-16T18:52:50.017Z"
   },
   {
    "duration": 43,
    "start_time": "2022-06-16T18:52:52.417Z"
   },
   {
    "duration": 47,
    "start_time": "2022-06-16T18:52:59.600Z"
   },
   {
    "duration": 180,
    "start_time": "2022-06-16T18:53:01.362Z"
   },
   {
    "duration": 1881,
    "start_time": "2022-06-16T18:53:02.248Z"
   },
   {
    "duration": 194,
    "start_time": "2022-06-16T18:53:04.131Z"
   },
   {
    "duration": 28,
    "start_time": "2022-06-16T18:53:07.786Z"
   },
   {
    "duration": 5,
    "start_time": "2022-06-16T18:53:10.017Z"
   },
   {
    "duration": 55,
    "start_time": "2022-06-16T18:53:11.058Z"
   },
   {
    "duration": 83,
    "start_time": "2022-06-16T18:53:12.606Z"
   },
   {
    "duration": 1096,
    "start_time": "2022-06-16T18:53:12.811Z"
   },
   {
    "duration": 74,
    "start_time": "2022-06-16T18:53:15.604Z"
   },
   {
    "duration": 1056,
    "start_time": "2022-06-16T18:53:16.145Z"
   },
   {
    "duration": 113,
    "start_time": "2022-06-16T18:53:17.203Z"
   },
   {
    "duration": 24,
    "start_time": "2022-06-16T18:53:22.273Z"
   },
   {
    "duration": 5,
    "start_time": "2022-06-16T18:53:23.569Z"
   },
   {
    "duration": 56,
    "start_time": "2022-06-16T18:53:24.701Z"
   },
   {
    "duration": 79,
    "start_time": "2022-06-16T18:53:25.811Z"
   },
   {
    "duration": 1191,
    "start_time": "2022-06-16T18:53:27.129Z"
   },
   {
    "duration": 86,
    "start_time": "2022-06-16T18:53:29.858Z"
   },
   {
    "duration": 85,
    "start_time": "2022-06-16T18:55:40.205Z"
   },
   {
    "duration": 3,
    "start_time": "2022-06-16T18:55:41.758Z"
   },
   {
    "duration": 26,
    "start_time": "2022-06-16T18:55:43.617Z"
   },
   {
    "duration": 9,
    "start_time": "2022-06-16T18:55:50.496Z"
   },
   {
    "duration": 16,
    "start_time": "2022-06-16T18:55:56.197Z"
   },
   {
    "duration": 6,
    "start_time": "2022-06-16T18:55:57.693Z"
   },
   {
    "duration": 41,
    "start_time": "2022-06-16T18:55:58.817Z"
   },
   {
    "duration": 68,
    "start_time": "2022-06-16T18:56:01.030Z"
   },
   {
    "duration": 1016,
    "start_time": "2022-06-16T18:56:01.898Z"
   },
   {
    "duration": 28,
    "start_time": "2022-06-16T18:56:06.272Z"
   },
   {
    "duration": 2970,
    "start_time": "2022-06-16T18:57:02.632Z"
   },
   {
    "duration": 33,
    "start_time": "2022-06-16T18:57:08.306Z"
   },
   {
    "duration": 4,
    "start_time": "2022-06-16T18:57:09.389Z"
   },
   {
    "duration": 3749,
    "start_time": "2022-06-16T18:57:11.193Z"
   },
   {
    "duration": 48,
    "start_time": "2022-06-16T18:57:31.800Z"
   },
   {
    "duration": 3301,
    "start_time": "2022-06-16T18:57:36.824Z"
   },
   {
    "duration": 3516,
    "start_time": "2022-06-16T18:57:40.128Z"
   },
   {
    "duration": 23,
    "start_time": "2022-06-16T18:57:43.646Z"
   },
   {
    "duration": 38,
    "start_time": "2022-06-16T18:57:45.392Z"
   },
   {
    "duration": 4,
    "start_time": "2022-06-16T18:57:47.127Z"
   },
   {
    "duration": 4080,
    "start_time": "2022-06-16T18:57:48.423Z"
   },
   {
    "duration": 2570,
    "start_time": "2022-06-16T18:58:23.463Z"
   },
   {
    "duration": 3412,
    "start_time": "2022-06-16T18:58:26.036Z"
   },
   {
    "duration": 15,
    "start_time": "2022-06-16T18:58:45.920Z"
   },
   {
    "duration": 716,
    "start_time": "2022-06-16T18:58:58.796Z"
   },
   {
    "duration": 10,
    "start_time": "2022-06-16T18:59:00.863Z"
   },
   {
    "duration": 706,
    "start_time": "2022-06-16T18:59:26.993Z"
   },
   {
    "duration": 9,
    "start_time": "2022-06-16T18:59:28.693Z"
   },
   {
    "duration": 11,
    "start_time": "2022-06-16T18:59:31.255Z"
   },
   {
    "duration": 4,
    "start_time": "2022-06-16T18:59:33.094Z"
   },
   {
    "duration": 139,
    "start_time": "2022-06-16T18:59:34.659Z"
   },
   {
    "duration": 159,
    "start_time": "2022-06-16T18:59:34.834Z"
   },
   {
    "duration": 11,
    "start_time": "2022-06-16T18:59:37.559Z"
   },
   {
    "duration": 7,
    "start_time": "2022-06-16T18:59:37.814Z"
   },
   {
    "duration": 2,
    "start_time": "2022-06-16T18:59:38.997Z"
   },
   {
    "duration": 541,
    "start_time": "2022-06-16T18:59:39.207Z"
   },
   {
    "duration": 216,
    "start_time": "2022-06-16T18:59:41.223Z"
   },
   {
    "duration": 5598,
    "start_time": "2022-06-16T18:59:42.806Z"
   },
   {
    "duration": 1192,
    "start_time": "2022-06-16T18:59:49.807Z"
   },
   {
    "duration": 130,
    "start_time": "2022-06-16T18:59:54.490Z"
   },
   {
    "duration": 4,
    "start_time": "2022-06-16T18:59:59.453Z"
   },
   {
    "duration": 22,
    "start_time": "2022-06-16T19:00:02.968Z"
   },
   {
    "duration": 3,
    "start_time": "2022-06-16T19:00:04.961Z"
   },
   {
    "duration": 177,
    "start_time": "2022-06-16T19:00:05.597Z"
   },
   {
    "duration": 4,
    "start_time": "2022-06-16T19:00:06.822Z"
   },
   {
    "duration": 53,
    "start_time": "2022-06-16T19:00:07.798Z"
   },
   {
    "duration": 66,
    "start_time": "2022-06-16T19:01:30.293Z"
   },
   {
    "duration": 5,
    "start_time": "2022-06-16T19:02:54.366Z"
   },
   {
    "duration": 6,
    "start_time": "2022-06-16T19:04:04.513Z"
   },
   {
    "duration": 679,
    "start_time": "2022-06-16T19:04:05.116Z"
   },
   {
    "duration": 142248,
    "start_time": "2022-06-16T19:04:13.261Z"
   },
   {
    "duration": 872,
    "start_time": "2022-06-16T19:06:40.957Z"
   },
   {
    "duration": 5,
    "start_time": "2022-06-16T19:06:50.219Z"
   },
   {
    "duration": 203,
    "start_time": "2022-06-16T19:07:07.112Z"
   },
   {
    "duration": 8,
    "start_time": "2022-06-16T19:07:11.508Z"
   },
   {
    "duration": 815,
    "start_time": "2022-06-16T19:07:12.940Z"
   },
   {
    "duration": 5,
    "start_time": "2022-06-16T19:07:26.813Z"
   },
   {
    "duration": 180,
    "start_time": "2022-06-16T19:07:27.918Z"
   },
   {
    "duration": 5,
    "start_time": "2022-06-16T19:07:41.459Z"
   },
   {
    "duration": 4692,
    "start_time": "2022-06-16T19:07:42.100Z"
   },
   {
    "duration": 86605,
    "start_time": "2022-06-16T19:07:49.013Z"
   },
   {
    "duration": 61,
    "start_time": "2022-06-16T19:09:25.476Z"
   },
   {
    "duration": 6,
    "start_time": "2022-06-16T19:14:07.033Z"
   },
   {
    "duration": 9,
    "start_time": "2022-06-16T19:14:10.376Z"
   },
   {
    "duration": 4,
    "start_time": "2022-06-16T19:14:13.841Z"
   },
   {
    "duration": 25,
    "start_time": "2022-06-16T19:14:45.928Z"
   },
   {
    "duration": 51,
    "start_time": "2022-06-16T19:14:53.002Z"
   },
   {
    "duration": 32,
    "start_time": "2022-06-16T19:15:08.923Z"
   },
   {
    "duration": 45,
    "start_time": "2022-06-16T19:15:17.999Z"
   },
   {
    "duration": 42,
    "start_time": "2022-06-16T19:15:36.901Z"
   },
   {
    "duration": 2148,
    "start_time": "2022-06-16T19:15:47.173Z"
   },
   {
    "duration": 7,
    "start_time": "2022-06-16T19:16:02.872Z"
   },
   {
    "duration": 819,
    "start_time": "2022-06-16T19:16:04.335Z"
   },
   {
    "duration": 22,
    "start_time": "2022-06-16T19:16:07.748Z"
   },
   {
    "duration": 2150,
    "start_time": "2022-06-16T19:16:16.168Z"
   },
   {
    "duration": 16,
    "start_time": "2022-06-16T19:16:24.929Z"
   },
   {
    "duration": 90,
    "start_time": "2022-06-16T19:17:13.055Z"
   },
   {
    "duration": 3,
    "start_time": "2022-06-16T19:17:40.663Z"
   },
   {
    "duration": 43,
    "start_time": "2022-06-16T19:17:42.001Z"
   },
   {
    "duration": 10,
    "start_time": "2022-06-16T19:17:55.154Z"
   },
   {
    "duration": 5,
    "start_time": "2022-06-16T19:18:01.814Z"
   },
   {
    "duration": 803,
    "start_time": "2022-06-16T19:18:03.356Z"
   },
   {
    "duration": 14,
    "start_time": "2022-06-16T19:18:05.559Z"
   },
   {
    "duration": 15,
    "start_time": "2022-06-16T19:18:13.706Z"
   },
   {
    "duration": 2108,
    "start_time": "2022-06-16T19:18:15.831Z"
   },
   {
    "duration": 6,
    "start_time": "2022-06-16T19:18:22.024Z"
   },
   {
    "duration": 795,
    "start_time": "2022-06-16T19:18:28.509Z"
   },
   {
    "duration": 12,
    "start_time": "2022-06-16T19:18:31.398Z"
   },
   {
    "duration": 40,
    "start_time": "2022-06-16T19:18:32.889Z"
   },
   {
    "duration": 754898,
    "start_time": "2022-06-16T19:18:35.255Z"
   },
   {
    "duration": 7,
    "start_time": "2022-06-16T19:31:12.205Z"
   },
   {
    "duration": 9,
    "start_time": "2022-06-16T19:31:18.163Z"
   },
   {
    "duration": 490848,
    "start_time": "2022-06-16T19:31:22.569Z"
   },
   {
    "duration": 45,
    "start_time": "2022-06-16T19:40:51.920Z"
   },
   {
    "duration": 4943,
    "start_time": "2022-06-16T19:41:14.575Z"
   },
   {
    "duration": 3585,
    "start_time": "2022-06-16T19:41:19.520Z"
   },
   {
    "duration": 30,
    "start_time": "2022-06-16T19:41:23.107Z"
   },
   {
    "duration": 32,
    "start_time": "2022-06-16T19:41:26.891Z"
   },
   {
    "duration": 23,
    "start_time": "2022-06-16T19:41:30.490Z"
   },
   {
    "duration": 2037,
    "start_time": "2022-06-16T19:42:12.166Z"
   },
   {
    "duration": 1999,
    "start_time": "2022-06-16T19:42:26.461Z"
   },
   {
    "duration": 44,
    "start_time": "2022-06-16T19:42:53.750Z"
   },
   {
    "duration": 31,
    "start_time": "2022-06-16T19:42:59.399Z"
   },
   {
    "duration": 46,
    "start_time": "2022-06-16T19:43:37.097Z"
   },
   {
    "duration": 73,
    "start_time": "2022-06-16T19:43:56.821Z"
   },
   {
    "duration": 8,
    "start_time": "2022-06-16T19:44:13.349Z"
   },
   {
    "duration": 5330,
    "start_time": "2022-06-16T19:44:16.334Z"
   },
   {
    "duration": 3845,
    "start_time": "2022-06-16T19:44:21.666Z"
   },
   {
    "duration": 2775,
    "start_time": "2022-06-16T19:44:27.030Z"
   },
   {
    "duration": 12,
    "start_time": "2022-06-16T19:44:37.635Z"
   },
   {
    "duration": 96,
    "start_time": "2022-06-16T19:45:21.749Z"
   },
   {
    "duration": 6984,
    "start_time": "2022-06-16T19:45:24.579Z"
   },
   {
    "duration": 3600,
    "start_time": "2022-06-16T19:45:31.567Z"
   },
   {
    "duration": 1982,
    "start_time": "2022-06-16T19:45:41.201Z"
   },
   {
    "duration": 6003,
    "start_time": "2022-06-16T19:45:56.238Z"
   },
   {
    "duration": 3307,
    "start_time": "2022-06-16T19:46:02.244Z"
   },
   {
    "duration": 2404,
    "start_time": "2022-06-16T19:46:11.021Z"
   },
   {
    "duration": 32,
    "start_time": "2022-06-16T19:46:18.497Z"
   },
   {
    "duration": 195,
    "start_time": "2022-06-16T19:46:45.021Z"
   },
   {
    "duration": 27,
    "start_time": "2022-06-16T19:46:58.509Z"
   },
   {
    "duration": 1275,
    "start_time": "2022-06-16T19:47:14.295Z"
   },
   {
    "duration": 837,
    "start_time": "2022-06-16T19:47:22.530Z"
   },
   {
    "duration": 8,
    "start_time": "2022-06-16T19:48:32.120Z"
   },
   {
    "duration": 940,
    "start_time": "2022-06-16T19:48:32.131Z"
   },
   {
    "duration": 16,
    "start_time": "2022-06-16T19:48:33.073Z"
   },
   {
    "duration": 65,
    "start_time": "2022-06-16T19:48:33.091Z"
   },
   {
    "duration": 44,
    "start_time": "2022-06-16T19:48:33.158Z"
   },
   {
    "duration": 22,
    "start_time": "2022-06-16T19:48:33.211Z"
   },
   {
    "duration": 706733,
    "start_time": "2022-06-16T19:48:33.235Z"
   },
   {
    "duration": 465829,
    "start_time": "2022-06-16T20:00:19.970Z"
   },
   {
    "duration": 52,
    "start_time": "2022-06-16T20:09:23.890Z"
   },
   {
    "duration": 1728,
    "start_time": "2022-06-16T20:09:32.172Z"
   },
   {
    "duration": 3678,
    "start_time": "2022-06-16T20:09:35.451Z"
   },
   {
    "duration": 17,
    "start_time": "2022-06-16T20:09:39.131Z"
   },
   {
    "duration": 41,
    "start_time": "2022-06-16T20:09:39.149Z"
   },
   {
    "duration": 3,
    "start_time": "2022-06-16T20:09:41.315Z"
   },
   {
    "duration": 693877,
    "start_time": "2022-06-16T20:09:42.096Z"
   },
   {
    "duration": 366475,
    "start_time": "2022-06-16T20:21:15.980Z"
   },
   {
    "duration": 1898,
    "start_time": "2022-06-16T20:30:44.394Z"
   },
   {
    "duration": 921,
    "start_time": "2022-06-16T20:30:47.313Z"
   },
   {
    "duration": 33,
    "start_time": "2022-06-16T20:30:48.906Z"
   },
   {
    "duration": 327,
    "start_time": "2022-06-16T20:30:50.298Z"
   },
   {
    "duration": 8,
    "start_time": "2022-06-16T20:31:27.218Z"
   },
   {
    "duration": 7,
    "start_time": "2022-06-16T20:32:46.970Z"
   },
   {
    "duration": 229,
    "start_time": "2022-06-16T20:33:00.594Z"
   },
   {
    "duration": 3,
    "start_time": "2022-06-16T20:33:33.894Z"
   },
   {
    "duration": 15,
    "start_time": "2022-06-16T20:33:36.093Z"
   },
   {
    "duration": 3,
    "start_time": "2022-06-16T20:34:05.425Z"
   },
   {
    "duration": 21,
    "start_time": "2022-06-16T20:34:07.106Z"
   },
   {
    "duration": 8,
    "start_time": "2022-06-16T20:34:15.209Z"
   },
   {
    "duration": 1895,
    "start_time": "2022-06-16T20:34:25.161Z"
   },
   {
    "duration": 866,
    "start_time": "2022-06-16T20:34:30.737Z"
   },
   {
    "duration": 33,
    "start_time": "2022-06-16T20:34:31.605Z"
   },
   {
    "duration": 3,
    "start_time": "2022-06-16T20:34:32.297Z"
   },
   {
    "duration": 3,
    "start_time": "2022-06-16T20:34:32.849Z"
   },
   {
    "duration": 3,
    "start_time": "2022-06-16T20:34:34.895Z"
   },
   {
    "duration": 15,
    "start_time": "2022-06-16T20:34:35.473Z"
   },
   {
    "duration": 23,
    "start_time": "2022-06-16T20:34:37.196Z"
   },
   {
    "duration": 27,
    "start_time": "2022-06-16T20:35:04.553Z"
   },
   {
    "duration": 28,
    "start_time": "2022-06-16T20:36:39.249Z"
   },
   {
    "duration": 3,
    "start_time": "2022-06-16T20:36:55.817Z"
   },
   {
    "duration": 15,
    "start_time": "2022-06-16T20:36:58.906Z"
   },
   {
    "duration": 20,
    "start_time": "2022-06-16T20:37:12.929Z"
   },
   {
    "duration": 17,
    "start_time": "2022-06-16T20:37:22.944Z"
   },
   {
    "duration": 1932,
    "start_time": "2022-06-16T20:37:38.320Z"
   },
   {
    "duration": 55,
    "start_time": "2022-06-16T20:39:30.271Z"
   },
   {
    "duration": 30,
    "start_time": "2022-06-16T20:39:34.124Z"
   },
   {
    "duration": 8,
    "start_time": "2022-06-16T20:39:39.571Z"
   },
   {
    "duration": 4,
    "start_time": "2022-06-16T20:39:45.508Z"
   },
   {
    "duration": 4,
    "start_time": "2022-06-16T20:39:49.947Z"
   },
   {
    "duration": 4,
    "start_time": "2022-06-16T20:39:53.803Z"
   },
   {
    "duration": 686,
    "start_time": "2022-06-16T20:40:04.539Z"
   },
   {
    "duration": 441,
    "start_time": "2022-06-16T20:40:07.972Z"
   },
   {
    "duration": 205,
    "start_time": "2022-06-16T20:40:11.378Z"
   },
   {
    "duration": 48,
    "start_time": "2022-06-16T20:40:16.222Z"
   },
   {
    "duration": 5,
    "start_time": "2022-06-16T20:40:18.963Z"
   },
   {
    "duration": 80,
    "start_time": "2022-06-16T20:40:44.027Z"
   },
   {
    "duration": 7,
    "start_time": "2022-06-16T20:40:49.826Z"
   },
   {
    "duration": 7,
    "start_time": "2022-06-16T20:40:56.569Z"
   },
   {
    "duration": 4,
    "start_time": "2022-06-16T20:41:04.737Z"
   },
   {
    "duration": 6,
    "start_time": "2022-06-16T20:41:10.122Z"
   },
   {
    "duration": 1577,
    "start_time": "2022-06-16T20:42:34.401Z"
   },
   {
    "duration": 3912,
    "start_time": "2022-06-16T20:42:35.984Z"
   },
   {
    "duration": 11,
    "start_time": "2022-06-16T20:42:39.899Z"
   },
   {
    "duration": 36,
    "start_time": "2022-06-16T20:42:39.912Z"
   },
   {
    "duration": 5363,
    "start_time": "2022-06-16T20:42:45.842Z"
   },
   {
    "duration": 758,
    "start_time": "2022-06-16T20:43:05.701Z"
   },
   {
    "duration": 1307,
    "start_time": "2022-06-16T20:43:26.074Z"
   },
   {
    "duration": 1447,
    "start_time": "2022-06-17T12:52:37.350Z"
   },
   {
    "duration": 3038,
    "start_time": "2022-06-17T12:52:39.686Z"
   },
   {
    "duration": 14,
    "start_time": "2022-06-17T12:52:42.726Z"
   },
   {
    "duration": 35,
    "start_time": "2022-06-17T12:52:42.742Z"
   },
   {
    "duration": 422410,
    "start_time": "2022-06-17T12:52:45.336Z"
   },
   {
    "duration": 313269,
    "start_time": "2022-06-17T12:59:47.749Z"
   },
   {
    "duration": 60,
    "start_time": "2022-06-17T13:05:01.025Z"
   },
   {
    "duration": 1687,
    "start_time": "2022-06-17T13:05:43.569Z"
   },
   {
    "duration": 716,
    "start_time": "2022-06-17T13:05:46.424Z"
   },
   {
    "duration": 25,
    "start_time": "2022-06-17T13:05:48.104Z"
   },
   {
    "duration": 335,
    "start_time": "2022-06-17T13:05:50.281Z"
   },
   {
    "duration": 3,
    "start_time": "2022-06-17T13:05:51.256Z"
   },
   {
    "duration": 14,
    "start_time": "2022-06-17T13:05:51.680Z"
   },
   {
    "duration": 2,
    "start_time": "2022-06-17T13:06:26.545Z"
   },
   {
    "duration": 3,
    "start_time": "2022-06-17T13:06:30.144Z"
   },
   {
    "duration": 14,
    "start_time": "2022-06-17T13:06:44.280Z"
   },
   {
    "duration": 2,
    "start_time": "2022-06-17T13:07:08.352Z"
   },
   {
    "duration": 14,
    "start_time": "2022-06-17T13:07:09.373Z"
   },
   {
    "duration": 20,
    "start_time": "2022-06-17T13:09:28.239Z"
   },
   {
    "duration": 14,
    "start_time": "2022-06-17T13:10:00.255Z"
   },
   {
    "duration": 4,
    "start_time": "2022-06-17T13:12:30.854Z"
   },
   {
    "duration": 1664,
    "start_time": "2022-06-17T13:12:44.958Z"
   },
   {
    "duration": 739,
    "start_time": "2022-06-17T13:12:47.593Z"
   },
   {
    "duration": 28,
    "start_time": "2022-06-17T13:12:48.901Z"
   },
   {
    "duration": 8,
    "start_time": "2022-06-17T13:12:50.804Z"
   },
   {
    "duration": 14,
    "start_time": "2022-06-17T13:13:09.512Z"
   },
   {
    "duration": 1700,
    "start_time": "2022-06-17T13:16:17.942Z"
   },
   {
    "duration": 685,
    "start_time": "2022-06-17T13:16:20.272Z"
   },
   {
    "duration": 9,
    "start_time": "2022-06-17T13:16:23.939Z"
   },
   {
    "duration": 14,
    "start_time": "2022-06-17T13:16:32.093Z"
   },
   {
    "duration": 1653,
    "start_time": "2022-06-17T13:16:40.829Z"
   },
   {
    "duration": 4,
    "start_time": "2022-06-17T13:16:43.261Z"
   },
   {
    "duration": 13,
    "start_time": "2022-06-17T13:16:47.541Z"
   },
   {
    "duration": 603,
    "start_time": "2022-06-17T13:16:53.413Z"
   },
   {
    "duration": 7,
    "start_time": "2022-06-17T13:17:02.525Z"
   },
   {
    "duration": 831,
    "start_time": "2022-06-17T13:17:13.613Z"
   },
   {
    "duration": 4,
    "start_time": "2022-06-17T13:18:16.421Z"
   },
   {
    "duration": 6,
    "start_time": "2022-06-17T13:18:23.908Z"
   },
   {
    "duration": 5,
    "start_time": "2022-06-17T13:18:31.532Z"
   },
   {
    "duration": 4,
    "start_time": "2022-06-17T13:19:33.891Z"
   },
   {
    "duration": 15,
    "start_time": "2022-06-17T13:19:34.789Z"
   },
   {
    "duration": 2,
    "start_time": "2022-06-17T13:19:46.690Z"
   },
   {
    "duration": 16,
    "start_time": "2022-06-17T13:21:30.828Z"
   },
   {
    "duration": 6,
    "start_time": "2022-06-17T13:22:23.708Z"
   },
   {
    "duration": 8,
    "start_time": "2022-06-17T13:22:27.923Z"
   },
   {
    "duration": 17,
    "start_time": "2022-06-17T13:22:54.859Z"
   },
   {
    "duration": 2,
    "start_time": "2022-06-17T13:23:25.659Z"
   },
   {
    "duration": 6,
    "start_time": "2022-06-17T13:23:29.938Z"
   },
   {
    "duration": 8,
    "start_time": "2022-06-17T13:23:30.594Z"
   },
   {
    "duration": 14,
    "start_time": "2022-06-17T13:23:32.539Z"
   },
   {
    "duration": 23,
    "start_time": "2022-06-17T13:23:40.875Z"
   },
   {
    "duration": 11,
    "start_time": "2022-06-17T13:23:41.938Z"
   },
   {
    "duration": 14,
    "start_time": "2022-06-17T13:23:52.115Z"
   },
   {
    "duration": 4,
    "start_time": "2022-06-17T13:24:21.586Z"
   },
   {
    "duration": 10,
    "start_time": "2022-06-17T13:24:26.900Z"
   },
   {
    "duration": 10,
    "start_time": "2022-06-17T13:24:33.162Z"
   },
   {
    "duration": 3,
    "start_time": "2022-06-17T13:24:37.435Z"
   },
   {
    "duration": 16,
    "start_time": "2022-06-17T13:24:55.605Z"
   },
   {
    "duration": 14,
    "start_time": "2022-06-17T13:25:01.078Z"
   },
   {
    "duration": 14,
    "start_time": "2022-06-17T13:25:04.731Z"
   },
   {
    "duration": 6,
    "start_time": "2022-06-17T13:25:14.850Z"
   },
   {
    "duration": 23,
    "start_time": "2022-06-17T13:25:15.497Z"
   },
   {
    "duration": 8,
    "start_time": "2022-06-17T13:25:17.490Z"
   },
   {
    "duration": 12,
    "start_time": "2022-06-17T13:25:24.803Z"
   },
   {
    "duration": 4,
    "start_time": "2022-06-17T13:25:27.107Z"
   },
   {
    "duration": 7,
    "start_time": "2022-06-17T13:25:47.818Z"
   },
   {
    "duration": 22,
    "start_time": "2022-06-17T13:25:48.293Z"
   },
   {
    "duration": 8,
    "start_time": "2022-06-17T13:25:49.825Z"
   },
   {
    "duration": 6,
    "start_time": "2022-06-17T13:25:50.834Z"
   },
   {
    "duration": 14,
    "start_time": "2022-06-17T13:25:57.154Z"
   },
   {
    "duration": 4,
    "start_time": "2022-06-17T13:27:08.478Z"
   },
   {
    "duration": 1433,
    "start_time": "2022-06-17T13:27:41.549Z"
   },
   {
    "duration": 2990,
    "start_time": "2022-06-17T13:27:42.984Z"
   },
   {
    "duration": 14,
    "start_time": "2022-06-17T13:27:45.976Z"
   },
   {
    "duration": 30,
    "start_time": "2022-06-17T13:27:45.991Z"
   },
   {
    "duration": 433005,
    "start_time": "2022-06-17T13:27:46.023Z"
   },
   {
    "duration": 331006,
    "start_time": "2022-06-17T13:34:59.030Z"
   },
   {
    "duration": 39,
    "start_time": "2022-06-17T13:40:30.040Z"
   },
   {
    "duration": 36,
    "start_time": "2022-06-17T13:41:06.489Z"
   },
   {
    "duration": 442,
    "start_time": "2022-06-17T13:41:10.992Z"
   },
   {
    "duration": 1463,
    "start_time": "2022-06-17T13:41:17.841Z"
   },
   {
    "duration": 5,
    "start_time": "2022-06-17T13:41:21.511Z"
   },
   {
    "duration": 6485,
    "start_time": "2022-06-17T13:41:32.073Z"
   },
   {
    "duration": 114559,
    "start_time": "2022-06-17T13:42:08.352Z"
   },
   {
    "duration": 40615,
    "start_time": "2022-06-17T13:44:08.482Z"
   },
   {
    "duration": 190621,
    "start_time": "2022-06-17T13:45:41.392Z"
   },
   {
    "duration": 178319,
    "start_time": "2022-06-17T13:49:04.319Z"
   },
   {
    "duration": 1478,
    "start_time": "2022-06-17T13:52:29.534Z"
   },
   {
    "duration": 3066,
    "start_time": "2022-06-17T13:52:31.014Z"
   },
   {
    "duration": 22,
    "start_time": "2022-06-17T13:52:34.081Z"
   },
   {
    "duration": 32,
    "start_time": "2022-06-17T13:52:34.104Z"
   },
   {
    "duration": 464864,
    "start_time": "2022-06-17T13:52:34.138Z"
   },
   {
    "duration": 326341,
    "start_time": "2022-06-17T14:00:19.003Z"
   },
   {
    "duration": 35,
    "start_time": "2022-06-17T14:05:45.345Z"
   },
   {
    "duration": 3,
    "start_time": "2022-06-17T14:05:45.381Z"
   },
   {
    "duration": 33,
    "start_time": "2022-06-17T14:05:45.385Z"
   },
   {
    "duration": 909,
    "start_time": "2022-06-17T14:05:45.420Z"
   },
   {
    "duration": 7,
    "start_time": "2022-06-17T14:05:46.331Z"
   },
   {
    "duration": 4425,
    "start_time": "2022-06-17T14:05:46.339Z"
   },
   {
    "duration": 25841,
    "start_time": "2022-06-17T14:05:50.765Z"
   },
   {
    "duration": 195281,
    "start_time": "2022-06-17T14:06:16.609Z"
   },
   {
    "duration": 0,
    "start_time": "2022-06-17T14:09:31.892Z"
   },
   {
    "duration": 4316,
    "start_time": "2022-06-17T14:09:42.733Z"
   },
   {
    "duration": 4441,
    "start_time": "2022-06-17T14:09:57.742Z"
   },
   {
    "duration": 4591,
    "start_time": "2022-06-17T14:10:11.029Z"
   },
   {
    "duration": 4,
    "start_time": "2022-06-17T14:10:35.245Z"
   },
   {
    "duration": 4176,
    "start_time": "2022-06-17T14:10:51.549Z"
   },
   {
    "duration": 4,
    "start_time": "2022-06-17T14:10:57.325Z"
   },
   {
    "duration": 26195,
    "start_time": "2022-06-17T14:11:02.206Z"
   },
   {
    "duration": 130527,
    "start_time": "2022-06-17T14:11:33.853Z"
   },
   {
    "duration": 0,
    "start_time": "2022-06-17T14:14:50.378Z"
   },
   {
    "duration": 1273,
    "start_time": "2022-06-17T14:19:28.139Z"
   },
   {
    "duration": 735,
    "start_time": "2022-06-17T14:19:29.435Z"
   },
   {
    "duration": 16,
    "start_time": "2022-06-17T14:19:30.172Z"
   },
   {
    "duration": 32,
    "start_time": "2022-06-17T14:19:30.667Z"
   },
   {
    "duration": 419394,
    "start_time": "2022-06-17T14:19:32.029Z"
   },
   {
    "duration": 309774,
    "start_time": "2022-06-17T14:26:31.425Z"
   },
   {
    "duration": 9,
    "start_time": "2022-06-17T14:31:53.225Z"
   },
   {
    "duration": 36,
    "start_time": "2022-06-17T14:31:55.352Z"
   },
   {
    "duration": 896,
    "start_time": "2022-06-17T14:31:56.583Z"
   },
   {
    "duration": 4156,
    "start_time": "2022-06-17T14:31:59.471Z"
   },
   {
    "duration": 3,
    "start_time": "2022-06-17T14:32:04.303Z"
   },
   {
    "duration": 64545,
    "start_time": "2022-06-17T14:32:06.312Z"
   },
   {
    "duration": 226821,
    "start_time": "2022-06-17T14:33:14.840Z"
   },
   {
    "duration": 90591,
    "start_time": "2022-06-17T14:38:42.293Z"
   },
   {
    "duration": 3,
    "start_time": "2022-06-17T14:40:23.836Z"
   },
   {
    "duration": 3370,
    "start_time": "2022-06-17T14:40:24.515Z"
   },
   {
    "duration": 4,
    "start_time": "2022-06-17T14:40:41.956Z"
   },
   {
    "duration": 4,
    "start_time": "2022-06-17T14:40:50.252Z"
   },
   {
    "duration": 1442,
    "start_time": "2022-06-17T14:40:52.132Z"
   },
   {
    "duration": 732427,
    "start_time": "2022-06-17T14:40:57.901Z"
   },
   {
    "duration": 2762,
    "start_time": "2022-06-17T14:53:39.360Z"
   },
   {
    "duration": 50553,
    "start_time": "2022-06-17T14:53:43.375Z"
   },
   {
    "duration": 20,
    "start_time": "2022-06-17T15:01:46.380Z"
   },
   {
    "duration": 3,
    "start_time": "2022-06-17T15:02:08.460Z"
   },
   {
    "duration": 13,
    "start_time": "2022-06-17T15:02:30.244Z"
   },
   {
    "duration": 6173,
    "start_time": "2022-06-17T15:04:12.580Z"
   },
   {
    "duration": 13660,
    "start_time": "2022-06-17T15:04:29.215Z"
   },
   {
    "duration": 2178549,
    "start_time": "2022-06-17T15:04:49.909Z"
   },
   {
    "duration": 0,
    "start_time": "2022-06-17T15:41:08.459Z"
   },
   {
    "duration": 2483,
    "start_time": "2022-06-18T12:03:55.891Z"
   },
   {
    "duration": 2444,
    "start_time": "2022-06-18T12:03:58.376Z"
   },
   {
    "duration": 17,
    "start_time": "2022-06-18T12:04:00.821Z"
   },
   {
    "duration": 34,
    "start_time": "2022-06-18T12:04:00.839Z"
   },
   {
    "duration": 519083,
    "start_time": "2022-06-18T12:04:00.876Z"
   },
   {
    "duration": 354167,
    "start_time": "2022-06-18T12:12:39.960Z"
   },
   {
    "duration": 12,
    "start_time": "2022-06-18T12:18:34.129Z"
   },
   {
    "duration": 38,
    "start_time": "2022-06-18T12:18:34.143Z"
   },
   {
    "duration": 1031,
    "start_time": "2022-06-18T12:18:34.183Z"
   },
   {
    "duration": 4792,
    "start_time": "2022-06-18T12:18:35.216Z"
   },
   {
    "duration": 243937,
    "start_time": "2022-06-18T12:18:40.010Z"
   },
   {
    "duration": 855786,
    "start_time": "2022-06-18T12:22:43.949Z"
   },
   {
    "duration": 108558,
    "start_time": "2022-06-18T12:36:59.736Z"
   },
   {
    "duration": 140,
    "start_time": "2022-06-18T12:38:48.296Z"
   },
   {
    "duration": 0,
    "start_time": "2022-06-18T12:38:48.440Z"
   },
   {
    "duration": 0,
    "start_time": "2022-06-18T12:38:48.441Z"
   },
   {
    "duration": 0,
    "start_time": "2022-06-18T12:38:48.442Z"
   },
   {
    "duration": 0,
    "start_time": "2022-06-18T12:38:48.445Z"
   },
   {
    "duration": 3450,
    "start_time": "2022-06-18T12:56:40.787Z"
   },
   {
    "duration": 70636,
    "start_time": "2022-06-18T12:56:44.239Z"
   },
   {
    "duration": 4455,
    "start_time": "2022-06-18T17:20:31.080Z"
   },
   {
    "duration": 3164,
    "start_time": "2022-06-18T17:20:49.989Z"
   },
   {
    "duration": 22,
    "start_time": "2022-06-18T17:20:53.155Z"
   },
   {
    "duration": 8,
    "start_time": "2022-06-18T17:20:58.743Z"
   },
   {
    "duration": 340,
    "start_time": "2022-06-18T17:21:51.846Z"
   },
   {
    "duration": 23,
    "start_time": "2022-06-18T17:22:09.024Z"
   },
   {
    "duration": 183,
    "start_time": "2022-06-18T17:22:16.351Z"
   },
   {
    "duration": 17,
    "start_time": "2022-06-18T17:22:23.318Z"
   },
   {
    "duration": 138,
    "start_time": "2022-06-18T17:22:28.214Z"
   },
   {
    "duration": 139,
    "start_time": "2022-06-18T17:22:54.606Z"
   },
   {
    "duration": 128,
    "start_time": "2022-06-18T17:23:23.302Z"
   },
   {
    "duration": 774,
    "start_time": "2022-06-18T17:23:24.302Z"
   },
   {
    "duration": 765,
    "start_time": "2022-06-18T17:24:18.107Z"
   },
   {
    "duration": 770,
    "start_time": "2022-06-18T17:24:53.328Z"
   },
   {
    "duration": 18,
    "start_time": "2022-06-18T17:25:34.822Z"
   },
   {
    "duration": 795,
    "start_time": "2022-06-18T17:25:37.380Z"
   },
   {
    "duration": 46,
    "start_time": "2022-06-18T17:27:04.132Z"
   },
   {
    "duration": 434,
    "start_time": "2022-06-18T17:27:19.496Z"
   },
   {
    "duration": 504,
    "start_time": "2022-06-18T17:29:07.004Z"
   },
   {
    "duration": 485,
    "start_time": "2022-06-18T17:29:32.708Z"
   },
   {
    "duration": 511,
    "start_time": "2022-06-18T17:30:00.117Z"
   },
   {
    "duration": 699,
    "start_time": "2022-06-18T17:30:10.171Z"
   },
   {
    "duration": 581,
    "start_time": "2022-06-18T17:30:28.884Z"
   },
   {
    "duration": 480,
    "start_time": "2022-06-18T17:30:35.986Z"
   },
   {
    "duration": 13494,
    "start_time": "2022-06-18T17:31:39.437Z"
   },
   {
    "duration": 771,
    "start_time": "2022-06-18T17:32:03.036Z"
   },
   {
    "duration": 48559,
    "start_time": "2022-06-18T17:32:10.748Z"
   },
   {
    "duration": 8563,
    "start_time": "2022-06-18T17:33:26.083Z"
   },
   {
    "duration": 4234817,
    "start_time": "2022-06-18T17:33:43.102Z"
   },
   {
    "duration": 2,
    "start_time": "2022-06-18T18:52:44.191Z"
   },
   {
    "duration": 15,
    "start_time": "2022-06-18T18:52:46.463Z"
   },
   {
    "duration": 31,
    "start_time": "2022-06-18T18:52:53.423Z"
   },
   {
    "duration": 1678,
    "start_time": "2022-06-18T18:52:55.175Z"
   },
   {
    "duration": 8111,
    "start_time": "2022-06-18T18:52:57.862Z"
   },
   {
    "duration": 27,
    "start_time": "2022-06-18T18:53:15.494Z"
   },
   {
    "duration": 4,
    "start_time": "2022-06-18T18:53:42.623Z"
   },
   {
    "duration": 19249,
    "start_time": "2022-06-18T18:53:43.720Z"
   },
   {
    "duration": 3,
    "start_time": "2022-06-18T18:54:17.976Z"
   },
   {
    "duration": 19379,
    "start_time": "2022-06-18T18:54:18.309Z"
   },
   {
    "duration": 3,
    "start_time": "2022-06-18T18:54:41.406Z"
   },
   {
    "duration": 0,
    "start_time": "2022-06-18T18:59:01.465Z"
   },
   {
    "duration": 0,
    "start_time": "2022-06-18T18:59:01.466Z"
   },
   {
    "duration": 4,
    "start_time": "2022-06-18T18:59:04.147Z"
   },
   {
    "duration": 84312,
    "start_time": "2022-06-18T18:59:04.764Z"
   },
   {
    "duration": 4,
    "start_time": "2022-06-18T19:00:30.027Z"
   },
   {
    "duration": 758019,
    "start_time": "2022-06-18T19:00:30.255Z"
   },
   {
    "duration": 3,
    "start_time": "2022-06-18T19:13:15.220Z"
   },
   {
    "duration": 7083,
    "start_time": "2022-06-18T19:13:15.519Z"
   },
   {
    "duration": 599708,
    "start_time": "2022-06-18T19:13:24.399Z"
   },
   {
    "duration": 1233,
    "start_time": "2022-06-18T19:23:36.429Z"
   },
   {
    "duration": 2547,
    "start_time": "2022-06-18T19:23:37.665Z"
   },
   {
    "duration": 30910,
    "start_time": "2022-06-18T19:23:48.614Z"
   },
   {
    "duration": 29354,
    "start_time": "2022-06-18T19:24:24.421Z"
   },
   {
    "duration": 25,
    "start_time": "2022-06-18T19:25:28.965Z"
   },
   {
    "duration": 636413,
    "start_time": "2022-06-18T19:25:38.557Z"
   },
   {
    "duration": 0,
    "start_time": "2022-06-18T19:36:15.280Z"
   },
   {
    "duration": 0,
    "start_time": "2022-06-18T19:36:15.283Z"
   },
   {
    "duration": 27,
    "start_time": "2022-06-18T19:37:22.406Z"
   },
   {
    "duration": 3,
    "start_time": "2022-06-18T19:37:37.086Z"
   },
   {
    "duration": 29490,
    "start_time": "2022-06-18T19:37:40.103Z"
   },
   {
    "duration": 3415,
    "start_time": "2022-06-18T19:38:19.998Z"
   },
   {
    "duration": 4084,
    "start_time": "2022-06-18T19:38:26.414Z"
   },
   {
    "duration": 3239,
    "start_time": "2022-06-18T19:38:31.759Z"
   },
   {
    "duration": 27050,
    "start_time": "2022-06-18T19:38:40.318Z"
   },
   {
    "duration": 35147,
    "start_time": "2022-06-18T19:39:12.470Z"
   },
   {
    "duration": 3,
    "start_time": "2022-06-18T19:41:05.350Z"
   },
   {
    "duration": 95453,
    "start_time": "2022-06-18T19:41:06.226Z"
   },
   {
    "duration": 3,
    "start_time": "2022-06-18T19:42:44.804Z"
   },
   {
    "duration": 65380,
    "start_time": "2022-06-18T19:42:45.103Z"
   },
   {
    "duration": 53,
    "start_time": "2022-06-18T19:58:23.237Z"
   },
   {
    "duration": 5548,
    "start_time": "2022-06-18T19:59:31.337Z"
   },
   {
    "duration": 2301,
    "start_time": "2022-06-18T19:59:36.887Z"
   },
   {
    "duration": 14,
    "start_time": "2022-06-18T19:59:39.190Z"
   },
   {
    "duration": 32,
    "start_time": "2022-06-18T19:59:39.206Z"
   },
   {
    "duration": 367,
    "start_time": "2022-06-18T19:59:39.242Z"
   },
   {
    "duration": 29,
    "start_time": "2022-06-18T20:01:58.090Z"
   },
   {
    "duration": 37,
    "start_time": "2022-06-18T20:04:19.172Z"
   },
   {
    "duration": 23,
    "start_time": "2022-06-18T20:08:58.057Z"
   },
   {
    "duration": 34,
    "start_time": "2022-06-18T20:08:59.931Z"
   },
   {
    "duration": 457,
    "start_time": "2022-06-18T20:09:07.192Z"
   },
   {
    "duration": 3,
    "start_time": "2022-06-18T20:09:10.729Z"
   },
   {
    "duration": 1676,
    "start_time": "2022-06-18T20:09:11.759Z"
   },
   {
    "duration": 6,
    "start_time": "2022-06-18T20:09:13.437Z"
   },
   {
    "duration": 33,
    "start_time": "2022-06-18T20:09:15.583Z"
   },
   {
    "duration": 408,
    "start_time": "2022-06-18T20:09:17.008Z"
   },
   {
    "duration": 24469,
    "start_time": "2022-06-18T20:09:17.591Z"
   },
   {
    "duration": 3690907,
    "start_time": "2022-06-18T20:09:57.687Z"
   },
   {
    "duration": 8,
    "start_time": "2022-06-18T21:14:07.563Z"
   },
   {
    "duration": 37,
    "start_time": "2022-06-18T21:14:08.891Z"
   },
   {
    "duration": 1626,
    "start_time": "2022-06-18T21:14:10.675Z"
   },
   {
    "duration": 7357,
    "start_time": "2022-06-18T21:14:12.303Z"
   },
   {
    "duration": 125185,
    "start_time": "2022-06-18T21:14:21.211Z"
   },
   {
    "duration": 1289,
    "start_time": "2022-06-18T21:16:30.666Z"
   },
   {
    "duration": 33569,
    "start_time": "2022-06-18T21:16:31.957Z"
   },
   {
    "duration": 3,
    "start_time": "2022-06-18T21:17:13.130Z"
   },
   {
    "duration": 962833,
    "start_time": "2022-06-18T21:17:13.585Z"
   }
  ],
  "kernelspec": {
   "display_name": "Python 3 (ipykernel)",
   "language": "python",
   "name": "python3"
  },
  "language_info": {
   "codemirror_mode": {
    "name": "ipython",
    "version": 3
   },
   "file_extension": ".py",
   "mimetype": "text/x-python",
   "name": "python",
   "nbconvert_exporter": "python",
   "pygments_lexer": "ipython3",
   "version": "3.7.8"
  },
  "toc": {
   "base_numbering": 1,
   "nav_menu": {},
   "number_sections": true,
   "sideBar": true,
   "skip_h1_title": true,
   "title_cell": "Содержание",
   "title_sidebar": "Contents",
   "toc_cell": true,
   "toc_position": {
    "height": "calc(100% - 180px)",
    "left": "10px",
    "top": "150px",
    "width": "302.391px"
   },
   "toc_section_display": true,
   "toc_window_display": false
  }
 },
 "nbformat": 4,
 "nbformat_minor": 2
}
