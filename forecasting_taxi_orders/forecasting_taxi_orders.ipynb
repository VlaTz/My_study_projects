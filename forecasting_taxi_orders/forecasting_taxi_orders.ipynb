{
 "cells": [
  {
   "cell_type": "markdown",
   "metadata": {
    "toc": true
   },
   "source": [
    "<h1>Содержание<span class=\"tocSkip\"></span></h1>\n",
    "<div class=\"toc\"><ul class=\"toc-item\"><li><span><a href=\"#Подготовка\" data-toc-modified-id=\"Подготовка-1\"><span class=\"toc-item-num\">1&nbsp;&nbsp;</span>Подготовка</a></span></li><li><span><a href=\"#Анализ\" data-toc-modified-id=\"Анализ-2\"><span class=\"toc-item-num\">2&nbsp;&nbsp;</span>Анализ</a></span></li><li><span><a href=\"#Обучение\" data-toc-modified-id=\"Обучение-3\"><span class=\"toc-item-num\">3&nbsp;&nbsp;</span>Обучение</a></span><ul class=\"toc-item\"><li><span><a href=\"#Линейная-регрессия\" data-toc-modified-id=\"Линейная-регрессия-3.1\"><span class=\"toc-item-num\">3.1&nbsp;&nbsp;</span>Линейная регрессия</a></span></li><li><span><a href=\"#Дерево-решений\" data-toc-modified-id=\"Дерево-решений-3.2\"><span class=\"toc-item-num\">3.2&nbsp;&nbsp;</span>Дерево решений</a></span></li><li><span><a href=\"#Случайный-лес\" data-toc-modified-id=\"Случайный-лес-3.3\"><span class=\"toc-item-num\">3.3&nbsp;&nbsp;</span>Случайный лес</a></span></li><li><span><a href=\"#CatBoost\" data-toc-modified-id=\"CatBoost-3.4\"><span class=\"toc-item-num\">3.4&nbsp;&nbsp;</span>CatBoost</a></span></li><li><span><a href=\"#LightGBM\" data-toc-modified-id=\"LightGBM-3.5\"><span class=\"toc-item-num\">3.5&nbsp;&nbsp;</span>LightGBM</a></span></li><li><span><a href=\"#XGBoost\" data-toc-modified-id=\"XGBoost-3.6\"><span class=\"toc-item-num\">3.6&nbsp;&nbsp;</span>XGBoost</a></span></li></ul></li><li><span><a href=\"#Тестирование\" data-toc-modified-id=\"Тестирование-4\"><span class=\"toc-item-num\">4&nbsp;&nbsp;</span>Тестирование</a></span></li></ul></div>"
   ]
  },
  {
   "cell_type": "markdown",
   "metadata": {},
   "source": [
    "#  Прогнозирование заказов такси"
   ]
  },
  {
   "cell_type": "markdown",
   "metadata": {},
   "source": [
    "Компания «Чётенькое такси» собрала исторические данные о заказах такси в аэропортах. Чтобы привлекать больше водителей в период пиковой нагрузки, нужно спрогнозировать количество заказов такси на следующий час. Постройте модель для такого предсказания.\n",
    "\n",
    "Значение метрики *RMSE* на тестовой выборке должно быть не больше 48.\n"
   ]
  },
  {
   "cell_type": "markdown",
   "metadata": {},
   "source": [
    "## Подготовка"
   ]
  },
  {
   "cell_type": "code",
   "execution_count": 1,
   "metadata": {},
   "outputs": [],
   "source": [
    "import pandas as pd\n",
    "import matplotlib.pyplot as plt\n",
    "import numpy as np\n",
    "\n",
    "from sklearn.model_selection import train_test_split\n",
    "from sklearn.model_selection import TimeSeriesSplit \n",
    "from statsmodels.tsa.seasonal import seasonal_decompose\n",
    "\n",
    "from sklearn.linear_model import LinearRegression\n",
    "from sklearn.tree import DecisionTreeRegressor\n",
    "from sklearn.ensemble import RandomForestRegressor\n",
    "\n",
    "from catboost import CatBoostRegressor\n",
    "from lightgbm import LGBMRegressor\n",
    "\n",
    "from sklearn.metrics import mean_squared_error\n",
    "from sklearn.model_selection import cross_val_score\n",
    "from sklearn.model_selection import GridSearchCV"
   ]
  },
  {
   "cell_type": "code",
   "execution_count": 2,
   "metadata": {},
   "outputs": [
    {
     "data": {
      "text/html": [
       "<div>\n",
       "<style scoped>\n",
       "    .dataframe tbody tr th:only-of-type {\n",
       "        vertical-align: middle;\n",
       "    }\n",
       "\n",
       "    .dataframe tbody tr th {\n",
       "        vertical-align: top;\n",
       "    }\n",
       "\n",
       "    .dataframe thead th {\n",
       "        text-align: right;\n",
       "    }\n",
       "</style>\n",
       "<table border=\"1\" class=\"dataframe\">\n",
       "  <thead>\n",
       "    <tr style=\"text-align: right;\">\n",
       "      <th></th>\n",
       "      <th>datetime</th>\n",
       "      <th>num_orders</th>\n",
       "    </tr>\n",
       "  </thead>\n",
       "  <tbody>\n",
       "    <tr>\n",
       "      <th>0</th>\n",
       "      <td>2018-03-01 00:00:00</td>\n",
       "      <td>9</td>\n",
       "    </tr>\n",
       "    <tr>\n",
       "      <th>1</th>\n",
       "      <td>2018-03-01 00:10:00</td>\n",
       "      <td>14</td>\n",
       "    </tr>\n",
       "    <tr>\n",
       "      <th>2</th>\n",
       "      <td>2018-03-01 00:20:00</td>\n",
       "      <td>28</td>\n",
       "    </tr>\n",
       "    <tr>\n",
       "      <th>3</th>\n",
       "      <td>2018-03-01 00:30:00</td>\n",
       "      <td>20</td>\n",
       "    </tr>\n",
       "    <tr>\n",
       "      <th>4</th>\n",
       "      <td>2018-03-01 00:40:00</td>\n",
       "      <td>32</td>\n",
       "    </tr>\n",
       "  </tbody>\n",
       "</table>\n",
       "</div>"
      ],
      "text/plain": [
       "              datetime  num_orders\n",
       "0  2018-03-01 00:00:00           9\n",
       "1  2018-03-01 00:10:00          14\n",
       "2  2018-03-01 00:20:00          28\n",
       "3  2018-03-01 00:30:00          20\n",
       "4  2018-03-01 00:40:00          32"
      ]
     },
     "metadata": {},
     "output_type": "display_data"
    },
    {
     "name": "stdout",
     "output_type": "stream",
     "text": [
      "<class 'pandas.core.frame.DataFrame'>\n",
      "RangeIndex: 26496 entries, 0 to 26495\n",
      "Data columns (total 2 columns):\n",
      " #   Column      Non-Null Count  Dtype \n",
      "---  ------      --------------  ----- \n",
      " 0   datetime    26496 non-null  object\n",
      " 1   num_orders  26496 non-null  int64 \n",
      "dtypes: int64(1), object(1)\n",
      "memory usage: 414.1+ KB\n"
     ]
    }
   ],
   "source": [
    "data = pd.read_csv('/datasets/taxi.csv')\n",
    "display(data.head())\n",
    "data.info()"
   ]
  },
  {
   "cell_type": "code",
   "execution_count": 27,
   "metadata": {},
   "outputs": [
    {
     "name": "stdout",
     "output_type": "stream",
     "text": [
      "0\n"
     ]
    }
   ],
   "source": [
    "print(data.duplicated().sum())"
   ]
  },
  {
   "cell_type": "markdown",
   "metadata": {},
   "source": [
    "Дубликатов нет. Переведем формат столбца 'datetime' во временной"
   ]
  },
  {
   "cell_type": "code",
   "execution_count": 15,
   "metadata": {},
   "outputs": [],
   "source": [
    "data['datetime'] = pd.to_datetime(data['datetime'], format = '%Y%m%d %H:%M:%S')"
   ]
  },
  {
   "cell_type": "markdown",
   "metadata": {},
   "source": [
    "Сделаем столбец 'datetime' индексами нашей таблицы"
   ]
  },
  {
   "cell_type": "code",
   "execution_count": 16,
   "metadata": {},
   "outputs": [],
   "source": [
    "data = data.set_index('datetime')"
   ]
  },
  {
   "cell_type": "code",
   "execution_count": 17,
   "metadata": {},
   "outputs": [
    {
     "data": {
      "text/html": [
       "<div>\n",
       "<style scoped>\n",
       "    .dataframe tbody tr th:only-of-type {\n",
       "        vertical-align: middle;\n",
       "    }\n",
       "\n",
       "    .dataframe tbody tr th {\n",
       "        vertical-align: top;\n",
       "    }\n",
       "\n",
       "    .dataframe thead th {\n",
       "        text-align: right;\n",
       "    }\n",
       "</style>\n",
       "<table border=\"1\" class=\"dataframe\">\n",
       "  <thead>\n",
       "    <tr style=\"text-align: right;\">\n",
       "      <th></th>\n",
       "      <th>num_orders</th>\n",
       "    </tr>\n",
       "    <tr>\n",
       "      <th>datetime</th>\n",
       "      <th></th>\n",
       "    </tr>\n",
       "  </thead>\n",
       "  <tbody>\n",
       "    <tr>\n",
       "      <th>2018-03-01 00:00:00</th>\n",
       "      <td>9</td>\n",
       "    </tr>\n",
       "    <tr>\n",
       "      <th>2018-03-01 00:10:00</th>\n",
       "      <td>14</td>\n",
       "    </tr>\n",
       "    <tr>\n",
       "      <th>2018-03-01 00:20:00</th>\n",
       "      <td>28</td>\n",
       "    </tr>\n",
       "    <tr>\n",
       "      <th>2018-03-01 00:30:00</th>\n",
       "      <td>20</td>\n",
       "    </tr>\n",
       "    <tr>\n",
       "      <th>2018-03-01 00:40:00</th>\n",
       "      <td>32</td>\n",
       "    </tr>\n",
       "    <tr>\n",
       "      <th>...</th>\n",
       "      <td>...</td>\n",
       "    </tr>\n",
       "    <tr>\n",
       "      <th>2018-08-31 23:10:00</th>\n",
       "      <td>32</td>\n",
       "    </tr>\n",
       "    <tr>\n",
       "      <th>2018-08-31 23:20:00</th>\n",
       "      <td>24</td>\n",
       "    </tr>\n",
       "    <tr>\n",
       "      <th>2018-08-31 23:30:00</th>\n",
       "      <td>27</td>\n",
       "    </tr>\n",
       "    <tr>\n",
       "      <th>2018-08-31 23:40:00</th>\n",
       "      <td>39</td>\n",
       "    </tr>\n",
       "    <tr>\n",
       "      <th>2018-08-31 23:50:00</th>\n",
       "      <td>53</td>\n",
       "    </tr>\n",
       "  </tbody>\n",
       "</table>\n",
       "<p>26496 rows × 1 columns</p>\n",
       "</div>"
      ],
      "text/plain": [
       "                     num_orders\n",
       "datetime                       \n",
       "2018-03-01 00:00:00           9\n",
       "2018-03-01 00:10:00          14\n",
       "2018-03-01 00:20:00          28\n",
       "2018-03-01 00:30:00          20\n",
       "2018-03-01 00:40:00          32\n",
       "...                         ...\n",
       "2018-08-31 23:10:00          32\n",
       "2018-08-31 23:20:00          24\n",
       "2018-08-31 23:30:00          27\n",
       "2018-08-31 23:40:00          39\n",
       "2018-08-31 23:50:00          53\n",
       "\n",
       "[26496 rows x 1 columns]"
      ]
     },
     "execution_count": 17,
     "metadata": {},
     "output_type": "execute_result"
    }
   ],
   "source": [
    "data"
   ]
  },
  {
   "cell_type": "code",
   "execution_count": 20,
   "metadata": {},
   "outputs": [],
   "source": [
    "a = data['2018-03-01 00:00:00':'2018-03-01 00:00:00'].drop(['num_orders'], axis=1)"
   ]
  },
  {
   "cell_type": "code",
   "execution_count": 30,
   "metadata": {},
   "outputs": [],
   "source": [
    "data = data.sort_index()"
   ]
  },
  {
   "cell_type": "code",
   "execution_count": 31,
   "metadata": {},
   "outputs": [
    {
     "data": {
      "text/plain": [
       "True"
      ]
     },
     "execution_count": 31,
     "metadata": {},
     "output_type": "execute_result"
    }
   ],
   "source": [
    "data.index.is_monotonic"
   ]
  },
  {
   "cell_type": "markdown",
   "metadata": {},
   "source": [
    "Даты расположены в хронологическом порядке. Сделаем ресемплирование по 1 часу, ведь нас интересует информация по часам"
   ]
  },
  {
   "cell_type": "code",
   "execution_count": 32,
   "metadata": {},
   "outputs": [],
   "source": [
    "data = data.resample('1H').sum()"
   ]
  },
  {
   "cell_type": "markdown",
   "metadata": {},
   "source": [
    "## Анализ"
   ]
  },
  {
   "cell_type": "code",
   "execution_count": 33,
   "metadata": {},
   "outputs": [
    {
     "data": {
      "text/plain": [
       "<AxesSubplot:xlabel='datetime'>"
      ]
     },
     "execution_count": 33,
     "metadata": {},
     "output_type": "execute_result"
    },
    {
     "data": {
      "image/png": "[encoded data removed]",
      "text/plain": [
       "<Figure size 720x360 with 1 Axes>"
      ]
     },
     "metadata": {
      "needs_background": "light"
     },
     "output_type": "display_data"
    }
   ],
   "source": [
    "data.plot(figsize=(10,5))"
   ]
  },
  {
   "cell_type": "code",
   "execution_count": 34,
   "metadata": {},
   "outputs": [],
   "source": [
    "data['rolling_mean'] = data.rolling(10).mean()"
   ]
  },
  {
   "cell_type": "code",
   "execution_count": 35,
   "metadata": {},
   "outputs": [
    {
     "data": {
      "text/plain": [
       "<AxesSubplot:xlabel='datetime'>"
      ]
     },
     "execution_count": 35,
     "metadata": {},
     "output_type": "execute_result"
    },
    {
     "data": {
      "image/png": "[encoded data removed]",
      "text/plain": [
       "<Figure size 720x360 with 1 Axes>"
      ]
     },
     "metadata": {
      "needs_background": "light"
     },
     "output_type": "display_data"
    }
   ],
   "source": [
    "data.plot(figsize=(10,5))"
   ]
  },
  {
   "cell_type": "code",
   "execution_count": 36,
   "metadata": {},
   "outputs": [],
   "source": [
    "data = data.drop('rolling_mean', axis=1)"
   ]
  },
  {
   "cell_type": "code",
   "execution_count": 37,
   "metadata": {},
   "outputs": [
    {
     "data": {
      "image/png": "[encoded data removed]",
      "text/plain": [
       "<Figure size 432x576 with 3 Axes>"
      ]
     },
     "metadata": {
      "needs_background": "light"
     },
     "output_type": "display_data"
    }
   ],
   "source": [
    "decomposed = seasonal_decompose(data)\n",
    "plt.figure(figsize=(6, 8))\n",
    "plt.subplot(311)\n",
    "decomposed.trend.plot(ax=plt.gca())\n",
    "plt.title('Trend')\n",
    "plt.subplot(312)\n",
    "decomposed.seasonal.plot(ax=plt.gca())\n",
    "plt.title('Seasonality')\n",
    "plt.subplot(313)\n",
    "decomposed.resid.plot(ax=plt.gca())\n",
    "plt.title('Residuals')\n",
    "plt.tight_layout()"
   ]
  },
  {
   "cell_type": "code",
   "execution_count": 38,
   "metadata": {},
   "outputs": [
    {
     "data": {
      "text/plain": [
       "<AxesSubplot:xlabel='datetime'>"
      ]
     },
     "execution_count": 38,
     "metadata": {},
     "output_type": "execute_result"
    },
    {
     "data": {
      "image/png": "[encoded data removed]",
      "text/plain": [
       "<Figure size 720x576 with 1 Axes>"
      ]
     },
     "metadata": {
      "needs_background": "light"
     },
     "output_type": "display_data"
    }
   ],
   "source": [
    "decomposed.seasonal['2018-03-01':'2018-03-10'].plot(figsize=(10, 8))"
   ]
  },
  {
   "cell_type": "markdown",
   "metadata": {},
   "source": [
    "Даны данные с марта по август 2018 года. Наблюдается тренд на увеличение заказов такси в более теплое время года. В августе самое большое количество заказов. Видимо, люди летают в отпуск в \"бархатный\" cезон. Для сезонности у нас мало данных, но можно сказать, что рост количества заказов такси происходит в период с 20:00 до 2:00"
   ]
  },
  {
   "cell_type": "markdown",
   "metadata": {},
   "source": [
    "## Обучение"
   ]
  },
  {
   "cell_type": "markdown",
   "metadata": {},
   "source": [
    "Добавим признки в наши данные. Добавим информацию о месяце, числе месяца и дне недели. А так же отстающие значения"
   ]
  },
  {
   "cell_type": "code",
   "execution_count": 40,
   "metadata": {},
   "outputs": [],
   "source": [
    "def make_features(data, max_lag):\n",
    "    data['month'] = data.index.month\n",
    "    data['day'] = data.index.day\n",
    "    data['dayofweek'] = data.index.dayofweek\n",
    "    data['is_weekend'] = data.dayofweek.isin([5,6])*1\n",
    "    data['hour'] = data.index.hour\n",
    "    \n",
    "    for lag in range(1, max_lag + 1):\n",
    "        data['lag_{}'.format(lag)] = data['num_orders'].shift(lag)"
   ]
  },
  {
   "cell_type": "code",
   "execution_count": 41,
   "metadata": {},
   "outputs": [],
   "source": [
    "make_features(data, 7)"
   ]
  },
  {
   "cell_type": "code",
   "execution_count": 42,
   "metadata": {},
   "outputs": [],
   "source": [
    "data['rolling_mean'] = data['num_orders'].rolling(24).mean()"
   ]
  },
  {
   "cell_type": "code",
   "execution_count": 43,
   "metadata": {},
   "outputs": [
    {
     "data": {
      "text/html": [
       "<div>\n",
       "<style scoped>\n",
       "    .dataframe tbody tr th:only-of-type {\n",
       "        vertical-align: middle;\n",
       "    }\n",
       "\n",
       "    .dataframe tbody tr th {\n",
       "        vertical-align: top;\n",
       "    }\n",
       "\n",
       "    .dataframe thead th {\n",
       "        text-align: right;\n",
       "    }\n",
       "</style>\n",
       "<table border=\"1\" class=\"dataframe\">\n",
       "  <thead>\n",
       "    <tr style=\"text-align: right;\">\n",
       "      <th></th>\n",
       "      <th>num_orders</th>\n",
       "      <th>month</th>\n",
       "      <th>day</th>\n",
       "      <th>dayofweek</th>\n",
       "      <th>is_weekend</th>\n",
       "      <th>hour</th>\n",
       "      <th>lag_1</th>\n",
       "      <th>lag_2</th>\n",
       "      <th>lag_3</th>\n",
       "      <th>lag_4</th>\n",
       "      <th>lag_5</th>\n",
       "      <th>lag_6</th>\n",
       "      <th>lag_7</th>\n",
       "      <th>rolling_mean</th>\n",
       "    </tr>\n",
       "    <tr>\n",
       "      <th>datetime</th>\n",
       "      <th></th>\n",
       "      <th></th>\n",
       "      <th></th>\n",
       "      <th></th>\n",
       "      <th></th>\n",
       "      <th></th>\n",
       "      <th></th>\n",
       "      <th></th>\n",
       "      <th></th>\n",
       "      <th></th>\n",
       "      <th></th>\n",
       "      <th></th>\n",
       "      <th></th>\n",
       "      <th></th>\n",
       "    </tr>\n",
       "  </thead>\n",
       "  <tbody>\n",
       "    <tr>\n",
       "      <th>2018-03-01 00:00:00</th>\n",
       "      <td>124</td>\n",
       "      <td>3</td>\n",
       "      <td>1</td>\n",
       "      <td>3</td>\n",
       "      <td>0</td>\n",
       "      <td>0</td>\n",
       "      <td>NaN</td>\n",
       "      <td>NaN</td>\n",
       "      <td>NaN</td>\n",
       "      <td>NaN</td>\n",
       "      <td>NaN</td>\n",
       "      <td>NaN</td>\n",
       "      <td>NaN</td>\n",
       "      <td>NaN</td>\n",
       "    </tr>\n",
       "    <tr>\n",
       "      <th>2018-03-01 01:00:00</th>\n",
       "      <td>85</td>\n",
       "      <td>3</td>\n",
       "      <td>1</td>\n",
       "      <td>3</td>\n",
       "      <td>0</td>\n",
       "      <td>1</td>\n",
       "      <td>124.0</td>\n",
       "      <td>NaN</td>\n",
       "      <td>NaN</td>\n",
       "      <td>NaN</td>\n",
       "      <td>NaN</td>\n",
       "      <td>NaN</td>\n",
       "      <td>NaN</td>\n",
       "      <td>NaN</td>\n",
       "    </tr>\n",
       "    <tr>\n",
       "      <th>2018-03-01 02:00:00</th>\n",
       "      <td>71</td>\n",
       "      <td>3</td>\n",
       "      <td>1</td>\n",
       "      <td>3</td>\n",
       "      <td>0</td>\n",
       "      <td>2</td>\n",
       "      <td>85.0</td>\n",
       "      <td>124.0</td>\n",
       "      <td>NaN</td>\n",
       "      <td>NaN</td>\n",
       "      <td>NaN</td>\n",
       "      <td>NaN</td>\n",
       "      <td>NaN</td>\n",
       "      <td>NaN</td>\n",
       "    </tr>\n",
       "    <tr>\n",
       "      <th>2018-03-01 03:00:00</th>\n",
       "      <td>66</td>\n",
       "      <td>3</td>\n",
       "      <td>1</td>\n",
       "      <td>3</td>\n",
       "      <td>0</td>\n",
       "      <td>3</td>\n",
       "      <td>71.0</td>\n",
       "      <td>85.0</td>\n",
       "      <td>124.0</td>\n",
       "      <td>NaN</td>\n",
       "      <td>NaN</td>\n",
       "      <td>NaN</td>\n",
       "      <td>NaN</td>\n",
       "      <td>NaN</td>\n",
       "    </tr>\n",
       "    <tr>\n",
       "      <th>2018-03-01 04:00:00</th>\n",
       "      <td>43</td>\n",
       "      <td>3</td>\n",
       "      <td>1</td>\n",
       "      <td>3</td>\n",
       "      <td>0</td>\n",
       "      <td>4</td>\n",
       "      <td>66.0</td>\n",
       "      <td>71.0</td>\n",
       "      <td>85.0</td>\n",
       "      <td>124.0</td>\n",
       "      <td>NaN</td>\n",
       "      <td>NaN</td>\n",
       "      <td>NaN</td>\n",
       "      <td>NaN</td>\n",
       "    </tr>\n",
       "    <tr>\n",
       "      <th>...</th>\n",
       "      <td>...</td>\n",
       "      <td>...</td>\n",
       "      <td>...</td>\n",
       "      <td>...</td>\n",
       "      <td>...</td>\n",
       "      <td>...</td>\n",
       "      <td>...</td>\n",
       "      <td>...</td>\n",
       "      <td>...</td>\n",
       "      <td>...</td>\n",
       "      <td>...</td>\n",
       "      <td>...</td>\n",
       "      <td>...</td>\n",
       "      <td>...</td>\n",
       "    </tr>\n",
       "    <tr>\n",
       "      <th>2018-08-31 19:00:00</th>\n",
       "      <td>136</td>\n",
       "      <td>8</td>\n",
       "      <td>31</td>\n",
       "      <td>4</td>\n",
       "      <td>0</td>\n",
       "      <td>19</td>\n",
       "      <td>207.0</td>\n",
       "      <td>217.0</td>\n",
       "      <td>197.0</td>\n",
       "      <td>116.0</td>\n",
       "      <td>133.0</td>\n",
       "      <td>166.0</td>\n",
       "      <td>136.0</td>\n",
       "      <td>167.541667</td>\n",
       "    </tr>\n",
       "    <tr>\n",
       "      <th>2018-08-31 20:00:00</th>\n",
       "      <td>154</td>\n",
       "      <td>8</td>\n",
       "      <td>31</td>\n",
       "      <td>4</td>\n",
       "      <td>0</td>\n",
       "      <td>20</td>\n",
       "      <td>136.0</td>\n",
       "      <td>207.0</td>\n",
       "      <td>217.0</td>\n",
       "      <td>197.0</td>\n",
       "      <td>116.0</td>\n",
       "      <td>133.0</td>\n",
       "      <td>166.0</td>\n",
       "      <td>168.041667</td>\n",
       "    </tr>\n",
       "    <tr>\n",
       "      <th>2018-08-31 21:00:00</th>\n",
       "      <td>159</td>\n",
       "      <td>8</td>\n",
       "      <td>31</td>\n",
       "      <td>4</td>\n",
       "      <td>0</td>\n",
       "      <td>21</td>\n",
       "      <td>154.0</td>\n",
       "      <td>136.0</td>\n",
       "      <td>207.0</td>\n",
       "      <td>217.0</td>\n",
       "      <td>197.0</td>\n",
       "      <td>116.0</td>\n",
       "      <td>133.0</td>\n",
       "      <td>166.416667</td>\n",
       "    </tr>\n",
       "    <tr>\n",
       "      <th>2018-08-31 22:00:00</th>\n",
       "      <td>223</td>\n",
       "      <td>8</td>\n",
       "      <td>31</td>\n",
       "      <td>4</td>\n",
       "      <td>0</td>\n",
       "      <td>22</td>\n",
       "      <td>159.0</td>\n",
       "      <td>154.0</td>\n",
       "      <td>136.0</td>\n",
       "      <td>207.0</td>\n",
       "      <td>217.0</td>\n",
       "      <td>197.0</td>\n",
       "      <td>116.0</td>\n",
       "      <td>169.125000</td>\n",
       "    </tr>\n",
       "    <tr>\n",
       "      <th>2018-08-31 23:00:00</th>\n",
       "      <td>205</td>\n",
       "      <td>8</td>\n",
       "      <td>31</td>\n",
       "      <td>4</td>\n",
       "      <td>0</td>\n",
       "      <td>23</td>\n",
       "      <td>223.0</td>\n",
       "      <td>159.0</td>\n",
       "      <td>154.0</td>\n",
       "      <td>136.0</td>\n",
       "      <td>207.0</td>\n",
       "      <td>217.0</td>\n",
       "      <td>197.0</td>\n",
       "      <td>167.416667</td>\n",
       "    </tr>\n",
       "  </tbody>\n",
       "</table>\n",
       "<p>4416 rows × 14 columns</p>\n",
       "</div>"
      ],
      "text/plain": [
       "                     num_orders  month  day  dayofweek  is_weekend  hour  \\\n",
       "datetime                                                                   \n",
       "2018-03-01 00:00:00         124      3    1          3           0     0   \n",
       "2018-03-01 01:00:00          85      3    1          3           0     1   \n",
       "2018-03-01 02:00:00          71      3    1          3           0     2   \n",
       "2018-03-01 03:00:00          66      3    1          3           0     3   \n",
       "2018-03-01 04:00:00          43      3    1          3           0     4   \n",
       "...                         ...    ...  ...        ...         ...   ...   \n",
       "2018-08-31 19:00:00         136      8   31          4           0    19   \n",
       "2018-08-31 20:00:00         154      8   31          4           0    20   \n",
       "2018-08-31 21:00:00         159      8   31          4           0    21   \n",
       "2018-08-31 22:00:00         223      8   31          4           0    22   \n",
       "2018-08-31 23:00:00         205      8   31          4           0    23   \n",
       "\n",
       "                     lag_1  lag_2  lag_3  lag_4  lag_5  lag_6  lag_7  \\\n",
       "datetime                                                               \n",
       "2018-03-01 00:00:00    NaN    NaN    NaN    NaN    NaN    NaN    NaN   \n",
       "2018-03-01 01:00:00  124.0    NaN    NaN    NaN    NaN    NaN    NaN   \n",
       "2018-03-01 02:00:00   85.0  124.0    NaN    NaN    NaN    NaN    NaN   \n",
       "2018-03-01 03:00:00   71.0   85.0  124.0    NaN    NaN    NaN    NaN   \n",
       "2018-03-01 04:00:00   66.0   71.0   85.0  124.0    NaN    NaN    NaN   \n",
       "...                    ...    ...    ...    ...    ...    ...    ...   \n",
       "2018-08-31 19:00:00  207.0  217.0  197.0  116.0  133.0  166.0  136.0   \n",
       "2018-08-31 20:00:00  136.0  207.0  217.0  197.0  116.0  133.0  166.0   \n",
       "2018-08-31 21:00:00  154.0  136.0  207.0  217.0  197.0  116.0  133.0   \n",
       "2018-08-31 22:00:00  159.0  154.0  136.0  207.0  217.0  197.0  116.0   \n",
       "2018-08-31 23:00:00  223.0  159.0  154.0  136.0  207.0  217.0  197.0   \n",
       "\n",
       "                     rolling_mean  \n",
       "datetime                           \n",
       "2018-03-01 00:00:00           NaN  \n",
       "2018-03-01 01:00:00           NaN  \n",
       "2018-03-01 02:00:00           NaN  \n",
       "2018-03-01 03:00:00           NaN  \n",
       "2018-03-01 04:00:00           NaN  \n",
       "...                           ...  \n",
       "2018-08-31 19:00:00    167.541667  \n",
       "2018-08-31 20:00:00    168.041667  \n",
       "2018-08-31 21:00:00    166.416667  \n",
       "2018-08-31 22:00:00    169.125000  \n",
       "2018-08-31 23:00:00    167.416667  \n",
       "\n",
       "[4416 rows x 14 columns]"
      ]
     },
     "execution_count": 43,
     "metadata": {},
     "output_type": "execute_result"
    }
   ],
   "source": [
    "data"
   ]
  },
  {
   "cell_type": "markdown",
   "metadata": {},
   "source": [
    "Удалим строки с пропущенными значениями"
   ]
  },
  {
   "cell_type": "code",
   "execution_count": 45,
   "metadata": {},
   "outputs": [],
   "source": [
    "data = data.dropna()"
   ]
  },
  {
   "cell_type": "markdown",
   "metadata": {},
   "source": [
    "Проверим"
   ]
  },
  {
   "cell_type": "code",
   "execution_count": 46,
   "metadata": {},
   "outputs": [
    {
     "data": {
      "text/html": [
       "<div>\n",
       "<style scoped>\n",
       "    .dataframe tbody tr th:only-of-type {\n",
       "        vertical-align: middle;\n",
       "    }\n",
       "\n",
       "    .dataframe tbody tr th {\n",
       "        vertical-align: top;\n",
       "    }\n",
       "\n",
       "    .dataframe thead th {\n",
       "        text-align: right;\n",
       "    }\n",
       "</style>\n",
       "<table border=\"1\" class=\"dataframe\">\n",
       "  <thead>\n",
       "    <tr style=\"text-align: right;\">\n",
       "      <th></th>\n",
       "      <th>num_orders</th>\n",
       "      <th>month</th>\n",
       "      <th>day</th>\n",
       "      <th>dayofweek</th>\n",
       "      <th>is_weekend</th>\n",
       "      <th>hour</th>\n",
       "      <th>lag_1</th>\n",
       "      <th>lag_2</th>\n",
       "      <th>lag_3</th>\n",
       "      <th>lag_4</th>\n",
       "      <th>lag_5</th>\n",
       "      <th>lag_6</th>\n",
       "      <th>lag_7</th>\n",
       "      <th>rolling_mean</th>\n",
       "    </tr>\n",
       "    <tr>\n",
       "      <th>datetime</th>\n",
       "      <th></th>\n",
       "      <th></th>\n",
       "      <th></th>\n",
       "      <th></th>\n",
       "      <th></th>\n",
       "      <th></th>\n",
       "      <th></th>\n",
       "      <th></th>\n",
       "      <th></th>\n",
       "      <th></th>\n",
       "      <th></th>\n",
       "      <th></th>\n",
       "      <th></th>\n",
       "      <th></th>\n",
       "    </tr>\n",
       "  </thead>\n",
       "  <tbody>\n",
       "    <tr>\n",
       "      <th>2018-03-01 23:00:00</th>\n",
       "      <td>58</td>\n",
       "      <td>3</td>\n",
       "      <td>1</td>\n",
       "      <td>3</td>\n",
       "      <td>0</td>\n",
       "      <td>23</td>\n",
       "      <td>113.0</td>\n",
       "      <td>66.0</td>\n",
       "      <td>61.0</td>\n",
       "      <td>45.0</td>\n",
       "      <td>73.0</td>\n",
       "      <td>44.0</td>\n",
       "      <td>43.0</td>\n",
       "      <td>56.833333</td>\n",
       "    </tr>\n",
       "    <tr>\n",
       "      <th>2018-03-02 00:00:00</th>\n",
       "      <td>90</td>\n",
       "      <td>3</td>\n",
       "      <td>2</td>\n",
       "      <td>4</td>\n",
       "      <td>0</td>\n",
       "      <td>0</td>\n",
       "      <td>58.0</td>\n",
       "      <td>113.0</td>\n",
       "      <td>66.0</td>\n",
       "      <td>61.0</td>\n",
       "      <td>45.0</td>\n",
       "      <td>73.0</td>\n",
       "      <td>44.0</td>\n",
       "      <td>55.416667</td>\n",
       "    </tr>\n",
       "    <tr>\n",
       "      <th>2018-03-02 01:00:00</th>\n",
       "      <td>120</td>\n",
       "      <td>3</td>\n",
       "      <td>2</td>\n",
       "      <td>4</td>\n",
       "      <td>0</td>\n",
       "      <td>1</td>\n",
       "      <td>90.0</td>\n",
       "      <td>58.0</td>\n",
       "      <td>113.0</td>\n",
       "      <td>66.0</td>\n",
       "      <td>61.0</td>\n",
       "      <td>45.0</td>\n",
       "      <td>73.0</td>\n",
       "      <td>56.875000</td>\n",
       "    </tr>\n",
       "    <tr>\n",
       "      <th>2018-03-02 02:00:00</th>\n",
       "      <td>75</td>\n",
       "      <td>3</td>\n",
       "      <td>2</td>\n",
       "      <td>4</td>\n",
       "      <td>0</td>\n",
       "      <td>2</td>\n",
       "      <td>120.0</td>\n",
       "      <td>90.0</td>\n",
       "      <td>58.0</td>\n",
       "      <td>113.0</td>\n",
       "      <td>66.0</td>\n",
       "      <td>61.0</td>\n",
       "      <td>45.0</td>\n",
       "      <td>57.041667</td>\n",
       "    </tr>\n",
       "    <tr>\n",
       "      <th>2018-03-02 03:00:00</th>\n",
       "      <td>64</td>\n",
       "      <td>3</td>\n",
       "      <td>2</td>\n",
       "      <td>4</td>\n",
       "      <td>0</td>\n",
       "      <td>3</td>\n",
       "      <td>75.0</td>\n",
       "      <td>120.0</td>\n",
       "      <td>90.0</td>\n",
       "      <td>58.0</td>\n",
       "      <td>113.0</td>\n",
       "      <td>66.0</td>\n",
       "      <td>61.0</td>\n",
       "      <td>56.958333</td>\n",
       "    </tr>\n",
       "    <tr>\n",
       "      <th>...</th>\n",
       "      <td>...</td>\n",
       "      <td>...</td>\n",
       "      <td>...</td>\n",
       "      <td>...</td>\n",
       "      <td>...</td>\n",
       "      <td>...</td>\n",
       "      <td>...</td>\n",
       "      <td>...</td>\n",
       "      <td>...</td>\n",
       "      <td>...</td>\n",
       "      <td>...</td>\n",
       "      <td>...</td>\n",
       "      <td>...</td>\n",
       "      <td>...</td>\n",
       "    </tr>\n",
       "    <tr>\n",
       "      <th>2018-08-31 19:00:00</th>\n",
       "      <td>136</td>\n",
       "      <td>8</td>\n",
       "      <td>31</td>\n",
       "      <td>4</td>\n",
       "      <td>0</td>\n",
       "      <td>19</td>\n",
       "      <td>207.0</td>\n",
       "      <td>217.0</td>\n",
       "      <td>197.0</td>\n",
       "      <td>116.0</td>\n",
       "      <td>133.0</td>\n",
       "      <td>166.0</td>\n",
       "      <td>136.0</td>\n",
       "      <td>167.541667</td>\n",
       "    </tr>\n",
       "    <tr>\n",
       "      <th>2018-08-31 20:00:00</th>\n",
       "      <td>154</td>\n",
       "      <td>8</td>\n",
       "      <td>31</td>\n",
       "      <td>4</td>\n",
       "      <td>0</td>\n",
       "      <td>20</td>\n",
       "      <td>136.0</td>\n",
       "      <td>207.0</td>\n",
       "      <td>217.0</td>\n",
       "      <td>197.0</td>\n",
       "      <td>116.0</td>\n",
       "      <td>133.0</td>\n",
       "      <td>166.0</td>\n",
       "      <td>168.041667</td>\n",
       "    </tr>\n",
       "    <tr>\n",
       "      <th>2018-08-31 21:00:00</th>\n",
       "      <td>159</td>\n",
       "      <td>8</td>\n",
       "      <td>31</td>\n",
       "      <td>4</td>\n",
       "      <td>0</td>\n",
       "      <td>21</td>\n",
       "      <td>154.0</td>\n",
       "      <td>136.0</td>\n",
       "      <td>207.0</td>\n",
       "      <td>217.0</td>\n",
       "      <td>197.0</td>\n",
       "      <td>116.0</td>\n",
       "      <td>133.0</td>\n",
       "      <td>166.416667</td>\n",
       "    </tr>\n",
       "    <tr>\n",
       "      <th>2018-08-31 22:00:00</th>\n",
       "      <td>223</td>\n",
       "      <td>8</td>\n",
       "      <td>31</td>\n",
       "      <td>4</td>\n",
       "      <td>0</td>\n",
       "      <td>22</td>\n",
       "      <td>159.0</td>\n",
       "      <td>154.0</td>\n",
       "      <td>136.0</td>\n",
       "      <td>207.0</td>\n",
       "      <td>217.0</td>\n",
       "      <td>197.0</td>\n",
       "      <td>116.0</td>\n",
       "      <td>169.125000</td>\n",
       "    </tr>\n",
       "    <tr>\n",
       "      <th>2018-08-31 23:00:00</th>\n",
       "      <td>205</td>\n",
       "      <td>8</td>\n",
       "      <td>31</td>\n",
       "      <td>4</td>\n",
       "      <td>0</td>\n",
       "      <td>23</td>\n",
       "      <td>223.0</td>\n",
       "      <td>159.0</td>\n",
       "      <td>154.0</td>\n",
       "      <td>136.0</td>\n",
       "      <td>207.0</td>\n",
       "      <td>217.0</td>\n",
       "      <td>197.0</td>\n",
       "      <td>167.416667</td>\n",
       "    </tr>\n",
       "  </tbody>\n",
       "</table>\n",
       "<p>4393 rows × 14 columns</p>\n",
       "</div>"
      ],
      "text/plain": [
       "                     num_orders  month  day  dayofweek  is_weekend  hour  \\\n",
       "datetime                                                                   \n",
       "2018-03-01 23:00:00          58      3    1          3           0    23   \n",
       "2018-03-02 00:00:00          90      3    2          4           0     0   \n",
       "2018-03-02 01:00:00         120      3    2          4           0     1   \n",
       "2018-03-02 02:00:00          75      3    2          4           0     2   \n",
       "2018-03-02 03:00:00          64      3    2          4           0     3   \n",
       "...                         ...    ...  ...        ...         ...   ...   \n",
       "2018-08-31 19:00:00         136      8   31          4           0    19   \n",
       "2018-08-31 20:00:00         154      8   31          4           0    20   \n",
       "2018-08-31 21:00:00         159      8   31          4           0    21   \n",
       "2018-08-31 22:00:00         223      8   31          4           0    22   \n",
       "2018-08-31 23:00:00         205      8   31          4           0    23   \n",
       "\n",
       "                     lag_1  lag_2  lag_3  lag_4  lag_5  lag_6  lag_7  \\\n",
       "datetime                                                               \n",
       "2018-03-01 23:00:00  113.0   66.0   61.0   45.0   73.0   44.0   43.0   \n",
       "2018-03-02 00:00:00   58.0  113.0   66.0   61.0   45.0   73.0   44.0   \n",
       "2018-03-02 01:00:00   90.0   58.0  113.0   66.0   61.0   45.0   73.0   \n",
       "2018-03-02 02:00:00  120.0   90.0   58.0  113.0   66.0   61.0   45.0   \n",
       "2018-03-02 03:00:00   75.0  120.0   90.0   58.0  113.0   66.0   61.0   \n",
       "...                    ...    ...    ...    ...    ...    ...    ...   \n",
       "2018-08-31 19:00:00  207.0  217.0  197.0  116.0  133.0  166.0  136.0   \n",
       "2018-08-31 20:00:00  136.0  207.0  217.0  197.0  116.0  133.0  166.0   \n",
       "2018-08-31 21:00:00  154.0  136.0  207.0  217.0  197.0  116.0  133.0   \n",
       "2018-08-31 22:00:00  159.0  154.0  136.0  207.0  217.0  197.0  116.0   \n",
       "2018-08-31 23:00:00  223.0  159.0  154.0  136.0  207.0  217.0  197.0   \n",
       "\n",
       "                     rolling_mean  \n",
       "datetime                           \n",
       "2018-03-01 23:00:00     56.833333  \n",
       "2018-03-02 00:00:00     55.416667  \n",
       "2018-03-02 01:00:00     56.875000  \n",
       "2018-03-02 02:00:00     57.041667  \n",
       "2018-03-02 03:00:00     56.958333  \n",
       "...                           ...  \n",
       "2018-08-31 19:00:00    167.541667  \n",
       "2018-08-31 20:00:00    168.041667  \n",
       "2018-08-31 21:00:00    166.416667  \n",
       "2018-08-31 22:00:00    169.125000  \n",
       "2018-08-31 23:00:00    167.416667  \n",
       "\n",
       "[4393 rows x 14 columns]"
      ]
     },
     "execution_count": 46,
     "metadata": {},
     "output_type": "execute_result"
    }
   ],
   "source": [
    "data"
   ]
  },
  {
   "cell_type": "markdown",
   "metadata": {},
   "source": [
    "Разделим данные на тренировочную и тестовую выборки "
   ]
  },
  {
   "cell_type": "code",
   "execution_count": 47,
   "metadata": {},
   "outputs": [],
   "source": [
    "features = data.drop(['num_orders'], axis=1)\n",
    "target = data['num_orders'] \n",
    "\n",
    "cat_features = ['month', 'day', 'dayofweek', 'is_weekend']\n",
    "for c in cat_features:\n",
    "    features[c] = features[c].astype('category')\n",
    "    \n",
    "\n",
    "features_train, features_test, target_train, target_test = train_test_split(\n",
    "    features, target, test_size=0.1, shuffle=False)"
   ]
  },
  {
   "cell_type": "code",
   "execution_count": 48,
   "metadata": {},
   "outputs": [
    {
     "name": "stdout",
     "output_type": "stream",
     "text": [
      "<class 'pandas.core.frame.DataFrame'>\n",
      "DatetimeIndex: 4393 entries, 2018-03-01 23:00:00 to 2018-08-31 23:00:00\n",
      "Freq: H\n",
      "Data columns (total 13 columns):\n",
      " #   Column        Non-Null Count  Dtype   \n",
      "---  ------        --------------  -----   \n",
      " 0   month         4393 non-null   category\n",
      " 1   day           4393 non-null   category\n",
      " 2   dayofweek     4393 non-null   category\n",
      " 3   is_weekend    4393 non-null   category\n",
      " 4   hour          4393 non-null   int64   \n",
      " 5   lag_1         4393 non-null   float64 \n",
      " 6   lag_2         4393 non-null   float64 \n",
      " 7   lag_3         4393 non-null   float64 \n",
      " 8   lag_4         4393 non-null   float64 \n",
      " 9   lag_5         4393 non-null   float64 \n",
      " 10  lag_6         4393 non-null   float64 \n",
      " 11  lag_7         4393 non-null   float64 \n",
      " 12  rolling_mean  4393 non-null   float64 \n",
      "dtypes: category(4), float64(8), int64(1)\n",
      "memory usage: 362.3 KB\n"
     ]
    }
   ],
   "source": [
    "features.info()"
   ]
  },
  {
   "cell_type": "code",
   "execution_count": 49,
   "metadata": {},
   "outputs": [
    {
     "data": {
      "text/plain": [
       "(3953, 13)"
      ]
     },
     "execution_count": 49,
     "metadata": {},
     "output_type": "execute_result"
    }
   ],
   "source": [
    "features_train.shape"
   ]
  },
  {
   "cell_type": "code",
   "execution_count": 50,
   "metadata": {},
   "outputs": [
    {
     "data": {
      "text/plain": [
       "(440, 13)"
      ]
     },
     "execution_count": 50,
     "metadata": {},
     "output_type": "execute_result"
    }
   ],
   "source": [
    "features_test.shape"
   ]
  },
  {
   "cell_type": "markdown",
   "metadata": {},
   "source": [
    "Данные готовы к дальнейшей работе"
   ]
  },
  {
   "cell_type": "markdown",
   "metadata": {},
   "source": [
    "### Линейная регрессия"
   ]
  },
  {
   "cell_type": "code",
   "execution_count": 51,
   "metadata": {},
   "outputs": [
    {
     "name": "stdout",
     "output_type": "stream",
     "text": [
      "[ -741.1670136   -827.29736326  -892.50132804  -991.18490296\n",
      " -1498.71209593]\n",
      "31.467007178300744\n"
     ]
    }
   ],
   "source": [
    "model_LR = LinearRegression()\n",
    "scores_LR = cross_val_score(model_LR, features_train, target_train, scoring='neg_mean_squared_error', \n",
    "                                          cv=TimeSeriesSplit(n_splits=5))\n",
    "print(scores_LR)\n",
    "print((scores_LR.mean()*(-1))**0.5)"
   ]
  },
  {
   "cell_type": "markdown",
   "metadata": {},
   "source": [
    "### Дерево решений"
   ]
  },
  {
   "cell_type": "code",
   "execution_count": 52,
   "metadata": {},
   "outputs": [
    {
     "name": "stdout",
     "output_type": "stream",
     "text": [
      "CPU times: user 847 ms, sys: 23.9 ms, total: 871 ms\n",
      "Wall time: 882 ms\n"
     ]
    },
    {
     "data": {
      "text/plain": [
       "{'max_depth': 7, 'max_features': 'sqrt', 'random_state': 148}"
      ]
     },
     "execution_count": 52,
     "metadata": {},
     "output_type": "execute_result"
    }
   ],
   "source": [
    "%%time\n",
    "grid = { \n",
    "    'max_features': ['sqrt', 'log2'],\n",
    "    'max_depth' : range(1,11), \n",
    "    'random_state' : [148],}\n",
    "model_DT = DecisionTreeRegressor()\n",
    "gsc = GridSearchCV(estimator=DecisionTreeRegressor(), param_grid=grid, scoring='neg_mean_squared_error', \n",
    "                   cv=TimeSeriesSplit(n_splits=5))\n",
    "gsc.fit(features_train, target_train)\n",
    "gsc.best_params_"
   ]
  },
  {
   "cell_type": "code",
   "execution_count": 53,
   "metadata": {},
   "outputs": [
    {
     "name": "stdout",
     "output_type": "stream",
     "text": [
      "RMSE: 32.064381379121684\n"
     ]
    },
    {
     "data": {
      "text/plain": [
       "DecisionTreeRegressor(max_depth=7, max_features='sqrt', random_state=148)"
      ]
     },
     "execution_count": 53,
     "metadata": {},
     "output_type": "execute_result"
    }
   ],
   "source": [
    "print('RMSE:', (gsc.best_score_ *(-1))**0.5)\n",
    "gsc.best_estimator_"
   ]
  },
  {
   "cell_type": "markdown",
   "metadata": {},
   "source": [
    "### Случайный лес\n"
   ]
  },
  {
   "cell_type": "code",
   "execution_count": 54,
   "metadata": {},
   "outputs": [
    {
     "name": "stdout",
     "output_type": "stream",
     "text": [
      "CPU times: user 25.7 s, sys: 85 ms, total: 25.8 s\n",
      "Wall time: 25.8 s\n"
     ]
    },
    {
     "data": {
      "text/plain": [
       "{'max_depth': 10,\n",
       " 'max_features': 'sqrt',\n",
       " 'n_estimators': 41,\n",
       " 'random_state': 148}"
      ]
     },
     "execution_count": 54,
     "metadata": {},
     "output_type": "execute_result"
    }
   ],
   "source": [
    "%%time\n",
    "grid = { \n",
    "    'n_estimators': range(1,50, 10),\n",
    "    'max_features': ['sqrt', 'log2'],\n",
    "    'max_depth' : range(1,11),\n",
    "    'random_state' : [148]}\n",
    "model_RF = RandomForestRegressor()\n",
    "gsc = GridSearchCV(estimator=RandomForestRegressor(), param_grid=grid, scoring='neg_mean_squared_error', \n",
    "                   cv=TimeSeriesSplit(n_splits=5))\n",
    "gsc.fit(features_train, target_train)\n",
    "gsc.best_params_"
   ]
  },
  {
   "cell_type": "code",
   "execution_count": 55,
   "metadata": {},
   "outputs": [
    {
     "name": "stdout",
     "output_type": "stream",
     "text": [
      "RMSE: 26.6223457793723\n"
     ]
    },
    {
     "data": {
      "text/plain": [
       "RandomForestRegressor(max_depth=10, max_features='sqrt', n_estimators=41,\n",
       "                      random_state=148)"
      ]
     },
     "execution_count": 55,
     "metadata": {},
     "output_type": "execute_result"
    }
   ],
   "source": [
    "print('RMSE:', (gsc.best_score_ *(-1))**0.5)\n",
    "gsc.best_estimator_"
   ]
  },
  {
   "cell_type": "markdown",
   "metadata": {},
   "source": [
    "### CatBoost"
   ]
  },
  {
   "cell_type": "code",
   "execution_count": 56,
   "metadata": {},
   "outputs": [],
   "source": [
    "cat_features = ['month', 'day', 'dayofweek', 'is_weekend']"
   ]
  },
  {
   "cell_type": "code",
   "execution_count": 57,
   "metadata": {},
   "outputs": [],
   "source": [
    "grid = { \n",
    "    'learning_rate': [0.0001, 0.001, 0.01, 0.1, 1.0],\n",
    "    'depth': range(4,11),\n",
    "    'l2_leaf_reg': [1, 3, 5, 7, 9],\n",
    "    'n_estimators': range(1,50, 10)\n",
    "}\n"
   ]
  },
  {
   "cell_type": "code",
   "execution_count": 58,
   "metadata": {},
   "outputs": [
    {
     "name": "stdout",
     "output_type": "stream",
     "text": [
      "CPU times: user 10min 11s, sys: 45.7 s, total: 10min 56s\n",
      "Wall time: 23min 25s\n"
     ]
    },
    {
     "data": {
      "text/plain": [
       "{'depth': 8, 'l2_leaf_reg': 1, 'learning_rate': 0.1, 'n_estimators': 41}"
      ]
     },
     "execution_count": 58,
     "metadata": {},
     "output_type": "execute_result"
    }
   ],
   "source": [
    "%%time\n",
    "gsc = GridSearchCV(estimator=CatBoostRegressor(verbose=False), param_grid=grid, \n",
    "                   cv= TimeSeriesSplit(n_splits=5), scoring='neg_mean_squared_error')\n",
    "gsc.fit(features_train, target_train, cat_features=cat_features)\n",
    "gsc.best_params_"
   ]
  },
  {
   "cell_type": "code",
   "execution_count": 59,
   "metadata": {
    "scrolled": true
   },
   "outputs": [
    {
     "name": "stdout",
     "output_type": "stream",
     "text": [
      "-723.5983091007914\n",
      "RMSE: 26.89978269616302\n"
     ]
    },
    {
     "data": {
      "text/plain": [
       "<catboost.core.CatBoostRegressor at 0x7f10e67480d0>"
      ]
     },
     "execution_count": 59,
     "metadata": {},
     "output_type": "execute_result"
    }
   ],
   "source": [
    "print(gsc.best_score_)\n",
    "print('RMSE:', (gsc.best_score_ *(-1))**0.5)\n",
    "gsc.best_estimator_"
   ]
  },
  {
   "cell_type": "markdown",
   "metadata": {},
   "source": [
    "### LightGBM"
   ]
  },
  {
   "cell_type": "code",
   "execution_count": 60,
   "metadata": {},
   "outputs": [],
   "source": [
    "grid = { \n",
    "    'max_depth': range(3,8,2),\n",
    "    'learning_rate': [0.0001, 0.001, 0.01, 0.1, 1.0],\n",
    "    'n_estimators': range(1,50, 10),\n",
    "    'boosting_type': ['gbdt', 'dart', 'goss']\n",
    "} \n"
   ]
  },
  {
   "cell_type": "code",
   "execution_count": 64,
   "metadata": {},
   "outputs": [
    {
     "data": {
      "text/plain": [
       "47.670042227714916"
      ]
     },
     "execution_count": 64,
     "metadata": {},
     "output_type": "execute_result"
    }
   ],
   "source": [
    "model = CatBoostRegressor(verbose=False, learning_rate=0.1, depth=8, n_estimators=41, random_state=148, l2_leaf_reg=1)\n",
    "model.fit(features_train, target_train, cat_features=cat_features)\n",
    "prediction = model.predict(features_test)\n",
    "mean_squared_error(target_test, prediction)**0.5"
   ]
  },
  {
   "cell_type": "code",
   "execution_count": 61,
   "metadata": {
    "scrolled": true
   },
   "outputs": [
    {
     "name": "stdout",
     "output_type": "stream",
     "text": [
      "CPU times: user 6min 21s, sys: 3.03 s, total: 6min 24s\n",
      "Wall time: 6min 28s\n"
     ]
    },
    {
     "data": {
      "text/plain": [
       "{'boosting_type': 'gbdt',\n",
       " 'learning_rate': 0.1,\n",
       " 'max_depth': 7,\n",
       " 'n_estimators': 41}"
      ]
     },
     "execution_count": 61,
     "metadata": {},
     "output_type": "execute_result"
    }
   ],
   "source": [
    "%%time\n",
    "gsc = GridSearchCV(estimator=LGBMRegressor(), param_grid=grid, cv= TimeSeriesSplit(n_splits=5), \n",
    "                     scoring='neg_mean_squared_error')\n",
    "gsc.fit(features_train, target_train)\n",
    "gsc.best_params_"
   ]
  },
  {
   "cell_type": "code",
   "execution_count": 62,
   "metadata": {},
   "outputs": [
    {
     "name": "stdout",
     "output_type": "stream",
     "text": [
      "-630.6529775593772\n",
      "RMSE: 25.11280505159424\n"
     ]
    },
    {
     "data": {
      "text/plain": [
       "LGBMRegressor(max_depth=7, n_estimators=41)"
      ]
     },
     "execution_count": 62,
     "metadata": {},
     "output_type": "execute_result"
    }
   ],
   "source": [
    "print(gsc.best_score_)\n",
    "print('RMSE:', (gsc.best_score_ *(-1))**0.5)\n",
    "gsc.best_estimator_"
   ]
  },
  {
   "cell_type": "code",
   "execution_count": 65,
   "metadata": {},
   "outputs": [],
   "source": [
    "from sklearn.preprocessing import StandardScaler\n",
    "scaler = StandardScaler()\n",
    "scaler.fit(features_train)\n",
    "features_train_scaled = pd.DataFrame(scaler.fit_transform(features_train), columns=features_train.columns)\n",
    "features_test_scaled = pd.DataFrame(scaler.transform(features_test), columns=features_test.columns)"
   ]
  },
  {
   "cell_type": "code",
   "execution_count": 63,
   "metadata": {},
   "outputs": [
    {
     "data": {
      "text/plain": [
       "45.70964090003668"
      ]
     },
     "execution_count": 63,
     "metadata": {},
     "output_type": "execute_result"
    }
   ],
   "source": [
    "model = LGBMRegressor(boosting_type='gbdt', learning_rate= 0.1, max_depth= 7, n_estimators=41)\n",
    "model.fit(features_train_scaled, target_train)\n",
    "prediction = model.predict(features_test)\n",
    "mean_squared_error(target_test, prediction)**0.5"
   ]
  },
  {
   "cell_type": "code",
   "execution_count": 106,
   "metadata": {},
   "outputs": [],
   "source": [
    "features = data.drop(['num_orders'], axis=1)\n",
    "target = data['num_orders'] \n",
    "    \n",
    "features_train, features_test, target_train, target_test = train_test_split(\n",
    "    features, target, test_size=0.1, shuffle=False)"
   ]
  },
  {
   "cell_type": "markdown",
   "metadata": {},
   "source": [
    "### XGBoost\n"
   ]
  },
  {
   "cell_type": "code",
   "execution_count": 107,
   "metadata": {},
   "outputs": [],
   "source": [
    "grid = { \n",
    "    'max_depth': range(3,8,2),\n",
    "    'n_estimators': range(1,50, 10),\n",
    "    'learning_rate': [0.0001, 0.001, 0.01, 0.1, 1.0]\n",
    "} "
   ]
  },
  {
   "cell_type": "code",
   "execution_count": 108,
   "metadata": {},
   "outputs": [
    {
     "name": "stdout",
     "output_type": "stream",
     "text": [
      "CPU times: user 1min 53s, sys: 850 ms, total: 1min 54s\n",
      "Wall time: 1min 55s\n"
     ]
    },
    {
     "data": {
      "text/plain": [
       "{'learning_rate': 0.1, 'max_depth': 5, 'n_estimators': 41}"
      ]
     },
     "execution_count": 108,
     "metadata": {},
     "output_type": "execute_result"
    }
   ],
   "source": [
    "%%time\n",
    "from xgboost import XGBRegressor\n",
    "gsc = GridSearchCV(estimator=XGBRegressor(), param_grid=grid, cv= TimeSeriesSplit(n_splits=5), \n",
    "                     scoring='neg_mean_squared_error')\n",
    "gsc.fit(features_train, target_train)\n",
    "gsc.best_params_"
   ]
  },
  {
   "cell_type": "code",
   "execution_count": 109,
   "metadata": {},
   "outputs": [
    {
     "name": "stdout",
     "output_type": "stream",
     "text": [
      "-658.0652774224661\n",
      "RMSE: 25.65278303464297\n"
     ]
    },
    {
     "data": {
      "text/plain": [
       "XGBRegressor(base_score=0.5, booster='gbtree', colsample_bylevel=1,\n",
       "             colsample_bynode=1, colsample_bytree=1, enable_categorical=False,\n",
       "             gamma=0, gpu_id=-1, importance_type=None,\n",
       "             interaction_constraints='', learning_rate=0.1, max_delta_step=0,\n",
       "             max_depth=5, min_child_weight=1, missing=nan,\n",
       "             monotone_constraints='()', n_estimators=41, n_jobs=8,\n",
       "             num_parallel_tree=1, predictor='auto', random_state=0, reg_alpha=0,\n",
       "             reg_lambda=1, scale_pos_weight=1, subsample=1, tree_method='exact',\n",
       "             validate_parameters=1, verbosity=None)"
      ]
     },
     "execution_count": 109,
     "metadata": {},
     "output_type": "execute_result"
    }
   ],
   "source": [
    "print(gsc.best_score_)\n",
    "print('RMSE:', (gsc.best_score_ *(-1))**0.5)\n",
    "gsc.best_estimator_"
   ]
  },
  {
   "cell_type": "markdown",
   "metadata": {},
   "source": [
    "Лучший показатель на валидационной выборке у нас получсился при использовании линейной регресии. Градиентные бустинги показали примерно одинаковый результат. Проверим на тестовой выборке"
   ]
  },
  {
   "cell_type": "markdown",
   "metadata": {},
   "source": [
    "## Тестирование"
   ]
  },
  {
   "cell_type": "code",
   "execution_count": 112,
   "metadata": {},
   "outputs": [
    {
     "data": {
      "text/plain": [
       "42.785465999221096"
      ]
     },
     "execution_count": 112,
     "metadata": {},
     "output_type": "execute_result"
    }
   ],
   "source": [
    "model = LGBMRegressor(boosting_type='gbdt', learning_rate= 0.1, max_depth= 7, n_estimators=41)\n",
    "model.fit(features_train, target_train)\n",
    "prediction = model.predict(features_test)\n",
    "mean_squared_error(target_test, prediction)**0.5"
   ]
  },
  {
   "cell_type": "code",
   "execution_count": 113,
   "metadata": {},
   "outputs": [],
   "source": [
    "a1=target_test.reset_index(drop=True)"
   ]
  },
  {
   "cell_type": "code",
   "execution_count": 114,
   "metadata": {},
   "outputs": [
    {
     "data": {
      "image/png": "[encoded data removed]",
      "text/plain": [
       "<Figure size 1080x432 with 1 Axes>"
      ]
     },
     "metadata": {
      "needs_background": "light"
     },
     "output_type": "display_data"
    }
   ],
   "source": [
    "fig, ax = plt.subplots(1, 1, figsize=(15, 6))\n",
    "ax.plot(a1, label='target')\n",
    "ax.plot(pd.DataFrame(prediction), label='prediciton')\n",
    "plt.legend()\n",
    "plt.show()"
   ]
  },
  {
   "cell_type": "markdown",
   "metadata": {},
   "source": [
    "График с предсказнием LightGBM. Лучшая модель получилась у LightGBM. Ошибка на тестовой выборке получилась ~ 42.78. По условию задачи, RMSE не должна быть больше 48"
   ]
  }
 ],
 "metadata": {
  "ExecuteTimeLog": [
   {
    "duration": 758,
    "start_time": "2022-05-30T18:39:27.624Z"
   },
   {
    "duration": 128,
    "start_time": "2022-05-30T18:39:44.432Z"
   },
   {
    "duration": 769,
    "start_time": "2022-06-02T14:43:11.937Z"
   },
   {
    "duration": 133,
    "start_time": "2022-06-02T14:43:27.726Z"
   },
   {
    "duration": 14,
    "start_time": "2022-06-02T14:43:51.838Z"
   },
   {
    "duration": 64,
    "start_time": "2022-06-02T14:44:03.998Z"
   },
   {
    "duration": 62,
    "start_time": "2022-06-02T14:44:18.910Z"
   },
   {
    "duration": 54,
    "start_time": "2022-06-02T14:44:24.977Z"
   },
   {
    "duration": 11,
    "start_time": "2022-06-02T14:44:27.046Z"
   },
   {
    "duration": 81,
    "start_time": "2022-06-02T14:45:00.110Z"
   },
   {
    "duration": 10,
    "start_time": "2022-06-02T14:46:43.621Z"
   },
   {
    "duration": 7,
    "start_time": "2022-06-02T14:47:26.029Z"
   },
   {
    "duration": 8,
    "start_time": "2022-06-02T14:47:30.117Z"
   },
   {
    "duration": 1624,
    "start_time": "2022-06-02T14:47:33.349Z"
   },
   {
    "duration": 10,
    "start_time": "2022-06-02T14:47:56.917Z"
   },
   {
    "duration": 10,
    "start_time": "2022-06-02T14:48:02.867Z"
   },
   {
    "duration": 11,
    "start_time": "2022-06-02T14:48:04.988Z"
   },
   {
    "duration": 17,
    "start_time": "2022-06-02T14:48:07.260Z"
   },
   {
    "duration": 13,
    "start_time": "2022-06-02T14:48:07.684Z"
   },
   {
    "duration": 8,
    "start_time": "2022-06-02T14:49:39.324Z"
   },
   {
    "duration": 10,
    "start_time": "2022-06-02T14:50:22.051Z"
   },
   {
    "duration": 4,
    "start_time": "2022-06-02T14:50:26.548Z"
   },
   {
    "duration": 3,
    "start_time": "2022-06-02T14:50:27.491Z"
   },
   {
    "duration": 4,
    "start_time": "2022-06-02T14:50:32.876Z"
   },
   {
    "duration": 9,
    "start_time": "2022-06-02T14:50:49.075Z"
   },
   {
    "duration": 9,
    "start_time": "2022-06-02T14:51:04.667Z"
   },
   {
    "duration": 8,
    "start_time": "2022-06-02T14:51:10.667Z"
   },
   {
    "duration": 2,
    "start_time": "2022-06-02T14:51:23.214Z"
   },
   {
    "duration": 78,
    "start_time": "2022-06-02T14:51:23.219Z"
   },
   {
    "duration": 11,
    "start_time": "2022-06-02T14:51:23.299Z"
   },
   {
    "duration": 16,
    "start_time": "2022-06-02T14:51:23.312Z"
   },
   {
    "duration": 18,
    "start_time": "2022-06-02T14:51:23.330Z"
   },
   {
    "duration": 3,
    "start_time": "2022-06-02T14:51:28.659Z"
   },
   {
    "duration": 4,
    "start_time": "2022-06-02T14:51:29.435Z"
   },
   {
    "duration": 3,
    "start_time": "2022-06-02T14:51:32.611Z"
   },
   {
    "duration": 4,
    "start_time": "2022-06-02T14:51:36.627Z"
   },
   {
    "duration": 4,
    "start_time": "2022-06-02T14:52:37.243Z"
   },
   {
    "duration": 9,
    "start_time": "2022-06-02T14:53:12.995Z"
   },
   {
    "duration": 2,
    "start_time": "2022-06-02T14:53:16.556Z"
   },
   {
    "duration": 69,
    "start_time": "2022-06-02T14:53:16.561Z"
   },
   {
    "duration": 11,
    "start_time": "2022-06-02T14:53:16.632Z"
   },
   {
    "duration": 9,
    "start_time": "2022-06-02T14:53:18.443Z"
   },
   {
    "duration": 4,
    "start_time": "2022-06-02T14:53:19.898Z"
   },
   {
    "duration": 3,
    "start_time": "2022-06-02T14:53:20.218Z"
   },
   {
    "duration": 4,
    "start_time": "2022-06-02T14:53:20.514Z"
   },
   {
    "duration": 3,
    "start_time": "2022-06-02T14:53:20.906Z"
   },
   {
    "duration": 5,
    "start_time": "2022-06-02T14:53:21.258Z"
   },
   {
    "duration": 59,
    "start_time": "2022-06-02T14:54:01.163Z"
   },
   {
    "duration": 8,
    "start_time": "2022-06-02T14:54:04.690Z"
   },
   {
    "duration": 11,
    "start_time": "2022-06-02T14:54:06.018Z"
   },
   {
    "duration": 4,
    "start_time": "2022-06-02T14:54:06.634Z"
   },
   {
    "duration": 3,
    "start_time": "2022-06-02T14:54:06.834Z"
   },
   {
    "duration": 4,
    "start_time": "2022-06-02T14:54:07.026Z"
   },
   {
    "duration": 3,
    "start_time": "2022-06-02T14:54:07.386Z"
   },
   {
    "duration": 4,
    "start_time": "2022-06-02T14:54:07.642Z"
   },
   {
    "duration": 2,
    "start_time": "2022-06-02T14:54:18.052Z"
   },
   {
    "duration": 60,
    "start_time": "2022-06-02T14:54:18.056Z"
   },
   {
    "duration": 8,
    "start_time": "2022-06-02T14:54:18.117Z"
   },
   {
    "duration": 9,
    "start_time": "2022-06-02T14:54:18.127Z"
   },
   {
    "duration": 5,
    "start_time": "2022-06-02T14:54:18.138Z"
   },
   {
    "duration": 4,
    "start_time": "2022-06-02T14:54:18.145Z"
   },
   {
    "duration": 5,
    "start_time": "2022-06-02T14:54:18.151Z"
   },
   {
    "duration": 8,
    "start_time": "2022-06-02T14:54:18.157Z"
   },
   {
    "duration": 15,
    "start_time": "2022-06-02T14:54:18.166Z"
   },
   {
    "duration": 53,
    "start_time": "2022-06-02T14:54:28.098Z"
   },
   {
    "duration": 3,
    "start_time": "2022-06-02T14:54:31.915Z"
   },
   {
    "duration": 61,
    "start_time": "2022-06-02T14:54:31.920Z"
   },
   {
    "duration": 14,
    "start_time": "2022-06-02T14:54:31.983Z"
   },
   {
    "duration": 9,
    "start_time": "2022-06-02T14:54:31.999Z"
   },
   {
    "duration": 17,
    "start_time": "2022-06-02T14:54:32.010Z"
   },
   {
    "duration": 11,
    "start_time": "2022-06-02T14:54:32.029Z"
   },
   {
    "duration": 12,
    "start_time": "2022-06-02T14:54:32.041Z"
   },
   {
    "duration": 8,
    "start_time": "2022-06-02T14:54:32.065Z"
   },
   {
    "duration": 24,
    "start_time": "2022-06-02T14:54:55.130Z"
   },
   {
    "duration": 6,
    "start_time": "2022-06-02T14:55:29.650Z"
   },
   {
    "duration": 9,
    "start_time": "2022-06-02T14:55:34.314Z"
   },
   {
    "duration": 6,
    "start_time": "2022-06-02T14:55:56.969Z"
   },
   {
    "duration": 9,
    "start_time": "2022-06-02T14:55:57.658Z"
   },
   {
    "duration": 8,
    "start_time": "2022-06-02T14:56:01.775Z"
   },
   {
    "duration": 11,
    "start_time": "2022-06-02T14:56:02.079Z"
   },
   {
    "duration": 2,
    "start_time": "2022-06-02T14:56:07.108Z"
   },
   {
    "duration": 65,
    "start_time": "2022-06-02T14:56:07.112Z"
   },
   {
    "duration": 10,
    "start_time": "2022-06-02T14:56:07.179Z"
   },
   {
    "duration": 8,
    "start_time": "2022-06-02T14:56:07.191Z"
   },
   {
    "duration": 7,
    "start_time": "2022-06-02T14:56:07.201Z"
   },
   {
    "duration": 6,
    "start_time": "2022-06-02T14:56:07.209Z"
   },
   {
    "duration": 12,
    "start_time": "2022-06-02T14:56:07.216Z"
   },
   {
    "duration": 11,
    "start_time": "2022-06-02T14:56:07.229Z"
   },
   {
    "duration": 27,
    "start_time": "2022-06-02T14:56:07.241Z"
   },
   {
    "duration": 9,
    "start_time": "2022-06-02T14:56:07.269Z"
   },
   {
    "duration": 7,
    "start_time": "2022-06-02T14:58:50.722Z"
   },
   {
    "duration": 10,
    "start_time": "2022-06-02T14:58:50.944Z"
   },
   {
    "duration": 223,
    "start_time": "2022-06-02T14:59:11.496Z"
   },
   {
    "duration": 288,
    "start_time": "2022-06-02T15:03:06.882Z"
   },
   {
    "duration": 6,
    "start_time": "2022-06-02T15:03:30.151Z"
   },
   {
    "duration": 273,
    "start_time": "2022-06-02T15:03:34.198Z"
   },
   {
    "duration": 41,
    "start_time": "2022-06-02T15:03:48.071Z"
   },
   {
    "duration": 342,
    "start_time": "2022-06-02T15:05:44.902Z"
   },
   {
    "duration": 339,
    "start_time": "2022-06-02T15:08:39.710Z"
   },
   {
    "duration": 3,
    "start_time": "2022-06-02T15:12:23.166Z"
   },
   {
    "duration": 65,
    "start_time": "2022-06-02T15:12:23.171Z"
   },
   {
    "duration": 11,
    "start_time": "2022-06-02T15:12:23.237Z"
   },
   {
    "duration": 10,
    "start_time": "2022-06-02T15:12:23.250Z"
   },
   {
    "duration": 6,
    "start_time": "2022-06-02T15:12:23.261Z"
   },
   {
    "duration": 10,
    "start_time": "2022-06-02T15:12:23.269Z"
   },
   {
    "duration": 8,
    "start_time": "2022-06-02T15:12:23.281Z"
   },
   {
    "duration": 10,
    "start_time": "2022-06-02T15:12:23.290Z"
   },
   {
    "duration": 325,
    "start_time": "2022-06-02T15:12:23.302Z"
   },
   {
    "duration": 4,
    "start_time": "2022-06-02T15:12:23.630Z"
   },
   {
    "duration": 274,
    "start_time": "2022-06-02T15:12:23.636Z"
   },
   {
    "duration": 4,
    "start_time": "2022-06-02T15:13:02.068Z"
   },
   {
    "duration": 10,
    "start_time": "2022-06-02T15:13:05.604Z"
   },
   {
    "duration": 3,
    "start_time": "2022-06-02T15:16:53.419Z"
   },
   {
    "duration": 16,
    "start_time": "2022-06-02T15:16:53.906Z"
   },
   {
    "duration": 3,
    "start_time": "2022-06-02T15:17:00.013Z"
   },
   {
    "duration": 63,
    "start_time": "2022-06-02T15:17:00.017Z"
   },
   {
    "duration": 10,
    "start_time": "2022-06-02T15:17:00.082Z"
   },
   {
    "duration": 48,
    "start_time": "2022-06-02T15:17:00.093Z"
   },
   {
    "duration": 118,
    "start_time": "2022-06-02T15:17:00.144Z"
   },
   {
    "duration": 15,
    "start_time": "2022-06-02T15:17:00.264Z"
   },
   {
    "duration": 35,
    "start_time": "2022-06-02T15:17:00.281Z"
   },
   {
    "duration": 0,
    "start_time": "2022-06-02T15:17:00.318Z"
   },
   {
    "duration": 0,
    "start_time": "2022-06-02T15:17:00.319Z"
   },
   {
    "duration": 0,
    "start_time": "2022-06-02T15:17:00.320Z"
   },
   {
    "duration": 0,
    "start_time": "2022-06-02T15:17:00.321Z"
   },
   {
    "duration": 0,
    "start_time": "2022-06-02T15:17:00.322Z"
   },
   {
    "duration": 3,
    "start_time": "2022-06-02T15:17:04.179Z"
   },
   {
    "duration": 56,
    "start_time": "2022-06-02T15:17:04.184Z"
   },
   {
    "duration": 10,
    "start_time": "2022-06-02T15:17:04.242Z"
   },
   {
    "duration": 9,
    "start_time": "2022-06-02T15:17:04.254Z"
   },
   {
    "duration": 4,
    "start_time": "2022-06-02T15:17:04.264Z"
   },
   {
    "duration": 4,
    "start_time": "2022-06-02T15:17:04.269Z"
   },
   {
    "duration": 14,
    "start_time": "2022-06-02T15:17:04.275Z"
   },
   {
    "duration": 0,
    "start_time": "2022-06-02T15:17:04.290Z"
   },
   {
    "duration": 0,
    "start_time": "2022-06-02T15:17:04.292Z"
   },
   {
    "duration": 0,
    "start_time": "2022-06-02T15:17:04.293Z"
   },
   {
    "duration": 0,
    "start_time": "2022-06-02T15:17:04.294Z"
   },
   {
    "duration": 0,
    "start_time": "2022-06-02T15:17:04.295Z"
   },
   {
    "duration": 2,
    "start_time": "2022-06-02T15:17:15.290Z"
   },
   {
    "duration": 3,
    "start_time": "2022-06-02T15:17:20.610Z"
   },
   {
    "duration": 53,
    "start_time": "2022-06-02T15:17:20.994Z"
   },
   {
    "duration": 11,
    "start_time": "2022-06-02T15:17:22.289Z"
   },
   {
    "duration": 9,
    "start_time": "2022-06-02T15:17:22.969Z"
   },
   {
    "duration": 4,
    "start_time": "2022-06-02T15:17:24.785Z"
   },
   {
    "duration": 3,
    "start_time": "2022-06-02T15:17:25.953Z"
   },
   {
    "duration": 9,
    "start_time": "2022-06-02T15:17:26.569Z"
   },
   {
    "duration": 7,
    "start_time": "2022-06-02T15:17:34.154Z"
   },
   {
    "duration": 8,
    "start_time": "2022-06-02T15:17:36.425Z"
   },
   {
    "duration": 7,
    "start_time": "2022-06-02T15:17:46.571Z"
   },
   {
    "duration": 3,
    "start_time": "2022-06-02T15:17:50.619Z"
   },
   {
    "duration": 56,
    "start_time": "2022-06-02T15:17:50.624Z"
   },
   {
    "duration": 12,
    "start_time": "2022-06-02T15:17:50.682Z"
   },
   {
    "duration": 9,
    "start_time": "2022-06-02T15:17:50.696Z"
   },
   {
    "duration": 6,
    "start_time": "2022-06-02T15:17:50.707Z"
   },
   {
    "duration": 3,
    "start_time": "2022-06-02T15:17:52.010Z"
   },
   {
    "duration": 3,
    "start_time": "2022-06-02T15:17:53.082Z"
   },
   {
    "duration": 7,
    "start_time": "2022-06-02T15:17:54.633Z"
   },
   {
    "duration": 227,
    "start_time": "2022-06-02T15:17:56.705Z"
   },
   {
    "duration": 6,
    "start_time": "2022-06-02T15:17:56.936Z"
   },
   {
    "duration": 267,
    "start_time": "2022-06-02T15:17:57.161Z"
   },
   {
    "duration": 5,
    "start_time": "2022-06-02T15:17:59.105Z"
   },
   {
    "duration": 5,
    "start_time": "2022-06-02T15:21:12.123Z"
   },
   {
    "duration": 265,
    "start_time": "2022-06-02T15:21:12.936Z"
   },
   {
    "duration": 7,
    "start_time": "2022-06-02T15:21:39.088Z"
   },
   {
    "duration": 252,
    "start_time": "2022-06-02T15:21:40.576Z"
   },
   {
    "duration": 5,
    "start_time": "2022-06-02T15:21:44.920Z"
   },
   {
    "duration": 337,
    "start_time": "2022-06-02T15:21:46.280Z"
   },
   {
    "duration": 6,
    "start_time": "2022-06-02T15:21:49.977Z"
   },
   {
    "duration": 245,
    "start_time": "2022-06-02T15:21:51.240Z"
   },
   {
    "duration": 5,
    "start_time": "2022-06-02T15:22:34.535Z"
   },
   {
    "duration": 3,
    "start_time": "2022-06-02T15:22:35.016Z"
   },
   {
    "duration": 3,
    "start_time": "2022-06-02T15:23:13.817Z"
   },
   {
    "duration": 74,
    "start_time": "2022-06-02T15:23:13.822Z"
   },
   {
    "duration": 11,
    "start_time": "2022-06-02T15:23:13.898Z"
   },
   {
    "duration": 15,
    "start_time": "2022-06-02T15:23:13.911Z"
   },
   {
    "duration": 26,
    "start_time": "2022-06-02T15:23:13.928Z"
   },
   {
    "duration": 18,
    "start_time": "2022-06-02T15:23:13.956Z"
   },
   {
    "duration": 23,
    "start_time": "2022-06-02T15:23:13.975Z"
   },
   {
    "duration": 27,
    "start_time": "2022-06-02T15:23:13.999Z"
   },
   {
    "duration": 254,
    "start_time": "2022-06-02T15:23:14.028Z"
   },
   {
    "duration": 5,
    "start_time": "2022-06-02T15:23:14.285Z"
   },
   {
    "duration": 292,
    "start_time": "2022-06-02T15:23:14.291Z"
   },
   {
    "duration": 5,
    "start_time": "2022-06-02T15:23:14.585Z"
   },
   {
    "duration": 35,
    "start_time": "2022-06-02T15:24:01.640Z"
   },
   {
    "duration": 3,
    "start_time": "2022-06-02T15:24:18.295Z"
   },
   {
    "duration": 3,
    "start_time": "2022-06-02T15:25:08.478Z"
   },
   {
    "duration": 4,
    "start_time": "2022-06-02T15:25:22.935Z"
   },
   {
    "duration": 355,
    "start_time": "2022-06-02T15:25:23.487Z"
   },
   {
    "duration": 3,
    "start_time": "2022-06-02T15:25:45.127Z"
   },
   {
    "duration": 6,
    "start_time": "2022-06-02T15:25:45.647Z"
   },
   {
    "duration": 18,
    "start_time": "2022-06-02T15:25:53.062Z"
   },
   {
    "duration": 6,
    "start_time": "2022-06-02T15:27:48.470Z"
   },
   {
    "duration": 18,
    "start_time": "2022-06-02T15:27:51.613Z"
   },
   {
    "duration": 8,
    "start_time": "2022-06-02T15:28:07.006Z"
   },
   {
    "duration": 18,
    "start_time": "2022-06-02T15:28:10.374Z"
   },
   {
    "duration": 48,
    "start_time": "2022-06-02T15:28:33.470Z"
   },
   {
    "duration": 7,
    "start_time": "2022-06-02T15:32:14.405Z"
   },
   {
    "duration": 736,
    "start_time": "2022-06-02T15:32:25.877Z"
   },
   {
    "duration": 5,
    "start_time": "2022-06-02T15:32:31.611Z"
   },
   {
    "duration": 18,
    "start_time": "2022-06-02T15:32:45.316Z"
   },
   {
    "duration": 19,
    "start_time": "2022-06-02T15:32:49.244Z"
   },
   {
    "duration": 7,
    "start_time": "2022-06-02T15:33:07.413Z"
   },
   {
    "duration": 18,
    "start_time": "2022-06-02T15:33:11.172Z"
   },
   {
    "duration": 19,
    "start_time": "2022-06-02T15:33:18.748Z"
   },
   {
    "duration": 17,
    "start_time": "2022-06-02T15:33:26.237Z"
   },
   {
    "duration": 40,
    "start_time": "2022-06-02T15:34:45.747Z"
   },
   {
    "duration": 8,
    "start_time": "2022-06-02T15:34:59.252Z"
   },
   {
    "duration": 15,
    "start_time": "2022-06-02T15:35:04.635Z"
   },
   {
    "duration": 18,
    "start_time": "2022-06-02T15:35:10.404Z"
   },
   {
    "duration": 16,
    "start_time": "2022-06-02T15:35:21.060Z"
   },
   {
    "duration": 6,
    "start_time": "2022-06-02T15:35:31.684Z"
   },
   {
    "duration": 9,
    "start_time": "2022-06-02T15:35:44.843Z"
   },
   {
    "duration": 17,
    "start_time": "2022-06-02T15:35:45.875Z"
   },
   {
    "duration": 8,
    "start_time": "2022-06-02T15:35:49.051Z"
   },
   {
    "duration": 3,
    "start_time": "2022-06-02T15:36:01.734Z"
   },
   {
    "duration": 101,
    "start_time": "2022-06-02T15:36:01.738Z"
   },
   {
    "duration": 11,
    "start_time": "2022-06-02T15:36:01.841Z"
   },
   {
    "duration": 23,
    "start_time": "2022-06-02T15:36:01.854Z"
   },
   {
    "duration": 20,
    "start_time": "2022-06-02T15:36:01.879Z"
   },
   {
    "duration": 11,
    "start_time": "2022-06-02T15:36:01.901Z"
   },
   {
    "duration": 15,
    "start_time": "2022-06-02T15:36:01.914Z"
   },
   {
    "duration": 23,
    "start_time": "2022-06-02T15:36:01.931Z"
   },
   {
    "duration": 243,
    "start_time": "2022-06-02T15:36:01.956Z"
   },
   {
    "duration": 5,
    "start_time": "2022-06-02T15:36:02.201Z"
   },
   {
    "duration": 279,
    "start_time": "2022-06-02T15:36:02.208Z"
   },
   {
    "duration": 4,
    "start_time": "2022-06-02T15:36:02.488Z"
   },
   {
    "duration": 13,
    "start_time": "2022-06-02T15:36:02.494Z"
   },
   {
    "duration": 20,
    "start_time": "2022-06-02T15:36:02.509Z"
   },
   {
    "duration": 7,
    "start_time": "2022-06-02T15:36:02.531Z"
   },
   {
    "duration": 41,
    "start_time": "2022-06-02T15:36:02.540Z"
   },
   {
    "duration": 12,
    "start_time": "2022-06-02T15:36:02.583Z"
   },
   {
    "duration": 31,
    "start_time": "2022-06-02T15:36:22.363Z"
   },
   {
    "duration": 2,
    "start_time": "2022-06-02T15:36:43.771Z"
   },
   {
    "duration": 447,
    "start_time": "2022-06-02T15:41:09.386Z"
   },
   {
    "duration": 1426,
    "start_time": "2022-06-03T17:03:56.490Z"
   },
   {
    "duration": 13,
    "start_time": "2022-06-03T17:04:02.353Z"
   },
   {
    "duration": 292,
    "start_time": "2022-06-03T17:04:02.368Z"
   },
   {
    "duration": 16,
    "start_time": "2022-06-03T17:04:02.665Z"
   },
   {
    "duration": 17,
    "start_time": "2022-06-03T17:04:02.684Z"
   },
   {
    "duration": 6,
    "start_time": "2022-06-03T17:04:02.702Z"
   },
   {
    "duration": 7,
    "start_time": "2022-06-03T17:04:02.710Z"
   },
   {
    "duration": 47,
    "start_time": "2022-06-03T17:04:02.720Z"
   },
   {
    "duration": 32,
    "start_time": "2022-06-03T17:04:02.770Z"
   },
   {
    "duration": 805,
    "start_time": "2022-06-03T17:04:02.804Z"
   },
   {
    "duration": 23,
    "start_time": "2022-06-03T17:04:03.612Z"
   },
   {
    "duration": 399,
    "start_time": "2022-06-03T17:04:03.644Z"
   },
   {
    "duration": 14,
    "start_time": "2022-06-03T17:04:04.052Z"
   },
   {
    "duration": 20,
    "start_time": "2022-06-03T17:04:04.072Z"
   },
   {
    "duration": 19,
    "start_time": "2022-06-03T17:04:04.094Z"
   },
   {
    "duration": 6,
    "start_time": "2022-06-03T17:04:04.115Z"
   },
   {
    "duration": 69,
    "start_time": "2022-06-03T17:04:04.122Z"
   },
   {
    "duration": 8,
    "start_time": "2022-06-03T17:04:04.193Z"
   },
   {
    "duration": 2,
    "start_time": "2022-06-03T17:04:14.963Z"
   },
   {
    "duration": 12,
    "start_time": "2022-06-03T17:04:18.051Z"
   },
   {
    "duration": 35,
    "start_time": "2022-06-03T17:05:27.562Z"
   },
   {
    "duration": 155,
    "start_time": "2022-06-03T17:05:45.309Z"
   },
   {
    "duration": 31,
    "start_time": "2022-06-03T17:12:12.971Z"
   },
   {
    "duration": 27,
    "start_time": "2022-06-03T17:12:58.570Z"
   },
   {
    "duration": 24,
    "start_time": "2022-06-03T17:13:48.362Z"
   },
   {
    "duration": 13,
    "start_time": "2022-06-03T17:14:29.950Z"
   },
   {
    "duration": 13,
    "start_time": "2022-06-03T17:14:38.791Z"
   },
   {
    "duration": 19,
    "start_time": "2022-06-03T17:14:58.686Z"
   },
   {
    "duration": 4,
    "start_time": "2022-06-03T17:15:28.469Z"
   },
   {
    "duration": 5,
    "start_time": "2022-06-03T17:15:32.709Z"
   },
   {
    "duration": 19,
    "start_time": "2022-06-03T17:22:00.075Z"
   },
   {
    "duration": 18,
    "start_time": "2022-06-03T17:25:02.177Z"
   },
   {
    "duration": 20,
    "start_time": "2022-06-03T17:25:34.048Z"
   },
   {
    "duration": 2080,
    "start_time": "2022-06-03T17:26:33.950Z"
   },
   {
    "duration": 14,
    "start_time": "2022-06-03T18:12:03.190Z"
   },
   {
    "duration": 64,
    "start_time": "2022-06-03T18:12:22.021Z"
   },
   {
    "duration": 19,
    "start_time": "2022-06-03T18:13:46.971Z"
   },
   {
    "duration": 76,
    "start_time": "2022-06-03T18:13:50.908Z"
   },
   {
    "duration": 4,
    "start_time": "2022-06-03T18:14:00.308Z"
   },
   {
    "duration": 6,
    "start_time": "2022-06-03T18:14:04.068Z"
   },
   {
    "duration": 65,
    "start_time": "2022-06-03T18:14:24.997Z"
   },
   {
    "duration": 96,
    "start_time": "2022-06-03T18:14:30.564Z"
   },
   {
    "duration": 52,
    "start_time": "2022-06-03T18:14:42.294Z"
   },
   {
    "duration": 4,
    "start_time": "2022-06-03T18:14:51.894Z"
   },
   {
    "duration": 95,
    "start_time": "2022-06-03T18:14:51.899Z"
   },
   {
    "duration": 10,
    "start_time": "2022-06-03T18:14:51.996Z"
   },
   {
    "duration": 8,
    "start_time": "2022-06-03T18:14:52.008Z"
   },
   {
    "duration": 48,
    "start_time": "2022-06-03T18:14:52.017Z"
   },
   {
    "duration": 15,
    "start_time": "2022-06-03T18:14:52.066Z"
   },
   {
    "duration": 10,
    "start_time": "2022-06-03T18:14:52.083Z"
   },
   {
    "duration": 24,
    "start_time": "2022-06-03T18:14:52.095Z"
   },
   {
    "duration": 269,
    "start_time": "2022-06-03T18:14:52.121Z"
   },
   {
    "duration": 5,
    "start_time": "2022-06-03T18:14:52.391Z"
   },
   {
    "duration": 313,
    "start_time": "2022-06-03T18:14:52.398Z"
   },
   {
    "duration": 12,
    "start_time": "2022-06-03T18:14:52.713Z"
   },
   {
    "duration": 38,
    "start_time": "2022-06-03T18:14:52.730Z"
   },
   {
    "duration": 40,
    "start_time": "2022-06-03T18:14:52.771Z"
   },
   {
    "duration": 40,
    "start_time": "2022-06-03T18:14:52.813Z"
   },
   {
    "duration": 34,
    "start_time": "2022-06-03T18:14:52.866Z"
   },
   {
    "duration": 69,
    "start_time": "2022-06-03T18:14:52.902Z"
   },
   {
    "duration": 17,
    "start_time": "2022-06-03T18:14:52.974Z"
   },
   {
    "duration": 78,
    "start_time": "2022-06-03T18:15:26.006Z"
   },
   {
    "duration": 59,
    "start_time": "2022-06-03T18:15:48.078Z"
   },
   {
    "duration": 3,
    "start_time": "2022-06-03T18:15:51.870Z"
   },
   {
    "duration": 77,
    "start_time": "2022-06-03T18:15:51.875Z"
   },
   {
    "duration": 14,
    "start_time": "2022-06-03T18:15:51.958Z"
   },
   {
    "duration": 8,
    "start_time": "2022-06-03T18:15:51.974Z"
   },
   {
    "duration": 8,
    "start_time": "2022-06-03T18:15:51.983Z"
   },
   {
    "duration": 10,
    "start_time": "2022-06-03T18:15:51.992Z"
   },
   {
    "duration": 8,
    "start_time": "2022-06-03T18:15:52.004Z"
   },
   {
    "duration": 16,
    "start_time": "2022-06-03T18:15:52.015Z"
   },
   {
    "duration": 269,
    "start_time": "2022-06-03T18:15:52.034Z"
   },
   {
    "duration": 5,
    "start_time": "2022-06-03T18:15:52.306Z"
   },
   {
    "duration": 296,
    "start_time": "2022-06-03T18:15:52.312Z"
   },
   {
    "duration": 4,
    "start_time": "2022-06-03T18:15:52.610Z"
   },
   {
    "duration": 42,
    "start_time": "2022-06-03T18:15:52.636Z"
   },
   {
    "duration": 22,
    "start_time": "2022-06-03T18:15:52.680Z"
   },
   {
    "duration": 15,
    "start_time": "2022-06-03T18:15:52.704Z"
   },
   {
    "duration": 73,
    "start_time": "2022-06-03T18:15:52.721Z"
   },
   {
    "duration": 17,
    "start_time": "2022-06-03T18:15:52.796Z"
   },
   {
    "duration": 11,
    "start_time": "2022-06-03T18:15:52.815Z"
   },
   {
    "duration": 113,
    "start_time": "2022-06-03T18:15:52.827Z"
   },
   {
    "duration": 50,
    "start_time": "2022-06-03T18:16:27.660Z"
   },
   {
    "duration": 107,
    "start_time": "2022-06-03T18:19:07.378Z"
   },
   {
    "duration": 251,
    "start_time": "2022-06-03T18:19:15.084Z"
   },
   {
    "duration": 15,
    "start_time": "2022-06-03T18:21:17.587Z"
   },
   {
    "duration": 10,
    "start_time": "2022-06-03T18:21:23.410Z"
   },
   {
    "duration": 11,
    "start_time": "2022-06-03T18:21:27.462Z"
   },
   {
    "duration": 5865,
    "start_time": "2022-06-03T18:22:27.914Z"
   },
   {
    "duration": 583,
    "start_time": "2022-06-03T18:22:37.856Z"
   },
   {
    "duration": 11,
    "start_time": "2022-06-03T18:22:41.393Z"
   },
   {
    "duration": 23642,
    "start_time": "2022-06-03T18:22:46.030Z"
   },
   {
    "duration": 163,
    "start_time": "2022-06-03T18:24:17.122Z"
   },
   {
    "duration": 22034,
    "start_time": "2022-06-03T18:25:35.081Z"
   },
   {
    "duration": 20931,
    "start_time": "2022-06-03T18:27:25.075Z"
   },
   {
    "duration": 23035,
    "start_time": "2022-06-03T18:28:31.258Z"
   },
   {
    "duration": 3,
    "start_time": "2022-06-03T18:33:42.215Z"
   },
   {
    "duration": 25508,
    "start_time": "2022-06-03T18:33:42.799Z"
   },
   {
    "duration": 279102,
    "start_time": "2022-06-03T18:34:08.888Z"
   },
   {
    "duration": 5,
    "start_time": "2022-06-03T18:40:12.464Z"
   },
   {
    "duration": 54,
    "start_time": "2022-06-03T18:40:13.255Z"
   },
   {
    "duration": 3,
    "start_time": "2022-06-03T18:41:26.684Z"
   },
   {
    "duration": 43214,
    "start_time": "2022-06-03T18:41:27.259Z"
   },
   {
    "duration": 1123,
    "start_time": "2022-06-04T17:27:33.431Z"
   },
   {
    "duration": 168,
    "start_time": "2022-06-04T17:27:34.556Z"
   },
   {
    "duration": 10,
    "start_time": "2022-06-04T17:27:34.726Z"
   },
   {
    "duration": 9,
    "start_time": "2022-06-04T17:27:34.738Z"
   },
   {
    "duration": 6,
    "start_time": "2022-06-04T17:27:34.748Z"
   },
   {
    "duration": 4,
    "start_time": "2022-06-04T17:27:34.756Z"
   },
   {
    "duration": 7,
    "start_time": "2022-06-04T17:27:34.762Z"
   },
   {
    "duration": 11,
    "start_time": "2022-06-04T17:27:34.770Z"
   },
   {
    "duration": 602,
    "start_time": "2022-06-04T17:27:34.783Z"
   },
   {
    "duration": 6,
    "start_time": "2022-06-04T17:27:35.387Z"
   },
   {
    "duration": 261,
    "start_time": "2022-06-04T17:27:35.394Z"
   },
   {
    "duration": 5,
    "start_time": "2022-06-04T17:27:35.657Z"
   },
   {
    "duration": 11,
    "start_time": "2022-06-04T17:27:35.663Z"
   },
   {
    "duration": 18,
    "start_time": "2022-06-04T17:27:35.675Z"
   },
   {
    "duration": 5,
    "start_time": "2022-06-04T17:27:35.695Z"
   },
   {
    "duration": 29,
    "start_time": "2022-06-04T17:27:35.702Z"
   },
   {
    "duration": 8,
    "start_time": "2022-06-04T17:27:35.733Z"
   },
   {
    "duration": 11,
    "start_time": "2022-06-04T17:27:35.743Z"
   },
   {
    "duration": 36,
    "start_time": "2022-06-04T17:27:38.392Z"
   },
   {
    "duration": 4,
    "start_time": "2022-06-04T17:27:59.132Z"
   },
   {
    "duration": 56,
    "start_time": "2022-06-04T17:27:59.138Z"
   },
   {
    "duration": 14,
    "start_time": "2022-06-04T17:27:59.196Z"
   },
   {
    "duration": 14,
    "start_time": "2022-06-04T17:27:59.212Z"
   },
   {
    "duration": 4,
    "start_time": "2022-06-04T17:27:59.228Z"
   },
   {
    "duration": 29,
    "start_time": "2022-06-04T17:27:59.234Z"
   },
   {
    "duration": 8,
    "start_time": "2022-06-04T17:27:59.264Z"
   },
   {
    "duration": 10,
    "start_time": "2022-06-04T17:27:59.274Z"
   },
   {
    "duration": 226,
    "start_time": "2022-06-04T17:27:59.286Z"
   },
   {
    "duration": 9,
    "start_time": "2022-06-04T17:27:59.515Z"
   },
   {
    "duration": 243,
    "start_time": "2022-06-04T17:27:59.526Z"
   },
   {
    "duration": 3,
    "start_time": "2022-06-04T17:27:59.771Z"
   },
   {
    "duration": 10,
    "start_time": "2022-06-04T17:27:59.776Z"
   },
   {
    "duration": 27,
    "start_time": "2022-06-04T17:27:59.787Z"
   },
   {
    "duration": 14,
    "start_time": "2022-06-04T17:27:59.815Z"
   },
   {
    "duration": 17,
    "start_time": "2022-06-04T17:27:59.830Z"
   },
   {
    "duration": 8,
    "start_time": "2022-06-04T17:27:59.848Z"
   },
   {
    "duration": 6,
    "start_time": "2022-06-04T17:27:59.857Z"
   },
   {
    "duration": 30,
    "start_time": "2022-06-04T17:27:59.864Z"
   },
   {
    "duration": 563,
    "start_time": "2022-06-04T17:27:59.895Z"
   },
   {
    "duration": 10,
    "start_time": "2022-06-04T17:28:00.461Z"
   },
   {
    "duration": 19468,
    "start_time": "2022-06-04T17:28:00.472Z"
   },
   {
    "duration": 120,
    "start_time": "2022-06-04T17:28:19.941Z"
   },
   {
    "duration": 3,
    "start_time": "2022-06-04T17:28:20.063Z"
   },
   {
    "duration": 424046,
    "start_time": "2022-06-04T17:28:20.067Z"
   },
   {
    "duration": 30,
    "start_time": "2022-06-04T17:35:24.115Z"
   },
   {
    "duration": 0,
    "start_time": "2022-06-04T17:35:24.147Z"
   },
   {
    "duration": 0,
    "start_time": "2022-06-04T17:35:24.148Z"
   },
   {
    "duration": 0,
    "start_time": "2022-06-04T17:35:24.149Z"
   },
   {
    "duration": 303,
    "start_time": "2022-06-04T17:39:54.810Z"
   },
   {
    "duration": 364,
    "start_time": "2022-06-04T17:40:45.117Z"
   },
   {
    "duration": 29,
    "start_time": "2022-06-04T17:40:53.722Z"
   },
   {
    "duration": 482,
    "start_time": "2022-06-04T17:41:10.395Z"
   },
   {
    "duration": 16,
    "start_time": "2022-06-04T17:41:11.995Z"
   },
   {
    "duration": 102,
    "start_time": "2022-06-04T17:41:55.502Z"
   },
   {
    "duration": 16,
    "start_time": "2022-06-04T17:42:12.027Z"
   },
   {
    "duration": 30,
    "start_time": "2022-06-04T17:42:42.317Z"
   },
   {
    "duration": 497,
    "start_time": "2022-06-04T17:42:46.427Z"
   },
   {
    "duration": 15,
    "start_time": "2022-06-04T17:42:47.202Z"
   },
   {
    "duration": 18664,
    "start_time": "2022-06-04T17:42:52.621Z"
   },
   {
    "duration": 108,
    "start_time": "2022-06-04T17:43:11.287Z"
   },
   {
    "duration": 284,
    "start_time": "2022-06-04T17:43:18.196Z"
   },
   {
    "duration": 3,
    "start_time": "2022-06-04T17:44:18.562Z"
   },
   {
    "duration": 57624,
    "start_time": "2022-06-04T17:44:39.007Z"
   },
   {
    "duration": 3,
    "start_time": "2022-06-04T17:46:16.345Z"
   },
   {
    "duration": 123,
    "start_time": "2022-06-04T17:48:47.807Z"
   },
   {
    "duration": 603403,
    "start_time": "2022-06-04T17:49:37.895Z"
   },
   {
    "duration": 591,
    "start_time": "2022-06-04T17:59:42.240Z"
   },
   {
    "duration": 1258,
    "start_time": "2022-06-04T18:04:21.660Z"
   },
   {
    "duration": 66,
    "start_time": "2022-06-04T18:04:24.398Z"
   },
   {
    "duration": 4,
    "start_time": "2022-06-04T18:04:30.704Z"
   },
   {
    "duration": 75,
    "start_time": "2022-06-04T18:04:30.710Z"
   },
   {
    "duration": 13,
    "start_time": "2022-06-04T18:04:30.787Z"
   },
   {
    "duration": 12,
    "start_time": "2022-06-04T18:04:30.801Z"
   },
   {
    "duration": 11,
    "start_time": "2022-06-04T18:04:30.815Z"
   },
   {
    "duration": 18,
    "start_time": "2022-06-04T18:04:30.834Z"
   },
   {
    "duration": 10,
    "start_time": "2022-06-04T18:04:30.854Z"
   },
   {
    "duration": 13,
    "start_time": "2022-06-04T18:04:30.866Z"
   },
   {
    "duration": 479,
    "start_time": "2022-06-04T18:04:30.881Z"
   },
   {
    "duration": 6,
    "start_time": "2022-06-04T18:04:31.362Z"
   },
   {
    "duration": 309,
    "start_time": "2022-06-04T18:04:31.370Z"
   },
   {
    "duration": 3,
    "start_time": "2022-06-04T18:04:31.681Z"
   },
   {
    "duration": 10,
    "start_time": "2022-06-04T18:04:31.686Z"
   },
   {
    "duration": 19,
    "start_time": "2022-06-04T18:04:31.699Z"
   },
   {
    "duration": 19,
    "start_time": "2022-06-04T18:04:31.726Z"
   },
   {
    "duration": 23,
    "start_time": "2022-06-04T18:04:31.749Z"
   },
   {
    "duration": 18,
    "start_time": "2022-06-04T18:04:31.774Z"
   },
   {
    "duration": 23,
    "start_time": "2022-06-04T18:04:31.794Z"
   },
   {
    "duration": 76,
    "start_time": "2022-06-04T18:04:31.820Z"
   },
   {
    "duration": 596,
    "start_time": "2022-06-04T18:04:31.898Z"
   },
   {
    "duration": 181,
    "start_time": "2022-06-04T18:04:32.495Z"
   },
   {
    "duration": 0,
    "start_time": "2022-06-04T18:04:32.678Z"
   },
   {
    "duration": 0,
    "start_time": "2022-06-04T18:04:32.679Z"
   },
   {
    "duration": 0,
    "start_time": "2022-06-04T18:04:32.681Z"
   },
   {
    "duration": 0,
    "start_time": "2022-06-04T18:04:32.682Z"
   },
   {
    "duration": 0,
    "start_time": "2022-06-04T18:04:32.683Z"
   },
   {
    "duration": 11,
    "start_time": "2022-06-04T18:04:43.194Z"
   },
   {
    "duration": 20106,
    "start_time": "2022-06-04T18:04:45.394Z"
   },
   {
    "duration": 111,
    "start_time": "2022-06-04T18:05:17.156Z"
   },
   {
    "duration": 136,
    "start_time": "2022-06-04T18:05:22.507Z"
   },
   {
    "duration": 4,
    "start_time": "2022-06-04T18:05:28.706Z"
   },
   {
    "duration": 206119,
    "start_time": "2022-06-04T18:05:29.860Z"
   },
   {
    "duration": 313269,
    "start_time": "2022-06-04T18:16:44.307Z"
   },
   {
    "duration": 25453,
    "start_time": "2022-06-04T18:22:04.614Z"
   },
   {
    "duration": 229775,
    "start_time": "2022-06-04T18:22:31.914Z"
   },
   {
    "duration": 323,
    "start_time": "2022-06-04T18:26:25.727Z"
   },
   {
    "duration": 50,
    "start_time": "2022-06-04T18:28:46.111Z"
   },
   {
    "duration": 20,
    "start_time": "2022-06-04T18:29:27.901Z"
   },
   {
    "duration": 3,
    "start_time": "2022-06-04T18:30:46.555Z"
   },
   {
    "duration": 24754,
    "start_time": "2022-06-04T18:30:49.051Z"
   },
   {
    "duration": 24789,
    "start_time": "2022-06-04T18:32:00.417Z"
   },
   {
    "duration": 20453,
    "start_time": "2022-06-04T18:33:17.097Z"
   },
   {
    "duration": 4,
    "start_time": "2022-06-04T18:33:43.015Z"
   },
   {
    "duration": 21667,
    "start_time": "2022-06-04T18:33:46.783Z"
   },
   {
    "duration": 41,
    "start_time": "2022-06-04T18:34:15.302Z"
   },
   {
    "duration": 49,
    "start_time": "2022-06-04T18:34:22.403Z"
   },
   {
    "duration": 18,
    "start_time": "2022-06-04T18:34:30.297Z"
   },
   {
    "duration": 30,
    "start_time": "2022-06-04T18:34:34.896Z"
   },
   {
    "duration": 34,
    "start_time": "2022-06-04T18:34:42.437Z"
   },
   {
    "duration": 76438,
    "start_time": "2022-06-04T18:34:47.789Z"
   },
   {
    "duration": 21126,
    "start_time": "2022-06-04T18:36:06.403Z"
   },
   {
    "duration": 17,
    "start_time": "2022-06-04T18:36:30.706Z"
   },
   {
    "duration": 181777,
    "start_time": "2022-06-04T18:36:55.412Z"
   },
   {
    "duration": 23251,
    "start_time": "2022-06-04T18:40:12.842Z"
   },
   {
    "duration": 429,
    "start_time": "2022-06-04T18:40:56.211Z"
   },
   {
    "duration": 4,
    "start_time": "2022-06-04T18:41:01.202Z"
   },
   {
    "duration": 25303,
    "start_time": "2022-06-04T18:41:01.623Z"
   },
   {
    "duration": 3,
    "start_time": "2022-06-04T18:41:42.559Z"
   },
   {
    "duration": 15785,
    "start_time": "2022-06-04T18:41:43.112Z"
   },
   {
    "duration": 95646,
    "start_time": "2022-06-04T18:42:57.638Z"
   },
   {
    "duration": 57,
    "start_time": "2022-06-04T18:44:38.494Z"
   },
   {
    "duration": 29597,
    "start_time": "2022-06-04T18:44:53.285Z"
   },
   {
    "duration": 11,
    "start_time": "2022-06-04T18:45:30.605Z"
   },
   {
    "duration": 26,
    "start_time": "2022-06-04T18:45:34.643Z"
   },
   {
    "duration": 46342,
    "start_time": "2022-06-04T18:45:42.389Z"
   },
   {
    "duration": 6482,
    "start_time": "2022-06-04T18:47:12.148Z"
   },
   {
    "duration": 246,
    "start_time": "2022-06-04T18:48:34.535Z"
   },
   {
    "duration": 3,
    "start_time": "2022-06-04T18:48:42.044Z"
   },
   {
    "duration": 152,
    "start_time": "2022-06-04T18:48:57.241Z"
   },
   {
    "duration": 18388,
    "start_time": "2022-06-04T18:48:58.710Z"
   },
   {
    "duration": 1894,
    "start_time": "2022-06-04T18:49:20.198Z"
   },
   {
    "duration": 881774,
    "start_time": "2022-06-04T18:49:28.557Z"
   },
   {
    "duration": 88,
    "start_time": "2022-06-04T19:04:49.143Z"
   },
   {
    "duration": 3,
    "start_time": "2022-06-04T19:04:56.038Z"
   },
   {
    "duration": 10,
    "start_time": "2022-06-04T19:04:56.494Z"
   },
   {
    "duration": 4,
    "start_time": "2022-06-04T19:05:12.046Z"
   },
   {
    "duration": 10,
    "start_time": "2022-06-04T19:05:21.022Z"
   },
   {
    "duration": 4,
    "start_time": "2022-06-04T19:05:27.606Z"
   },
   {
    "duration": 11,
    "start_time": "2022-06-04T19:05:34.246Z"
   },
   {
    "duration": 10,
    "start_time": "2022-06-04T19:06:46.297Z"
   },
   {
    "duration": 10,
    "start_time": "2022-06-04T19:06:56.501Z"
   },
   {
    "duration": 23,
    "start_time": "2022-06-04T19:07:34.786Z"
   },
   {
    "duration": 11945,
    "start_time": "2022-06-04T19:07:39.901Z"
   },
   {
    "duration": 61689,
    "start_time": "2022-06-04T19:08:12.958Z"
   },
   {
    "duration": 2,
    "start_time": "2022-06-04T19:09:19.718Z"
   },
   {
    "duration": 3,
    "start_time": "2022-06-04T19:09:22.924Z"
   },
   {
    "duration": 112615,
    "start_time": "2022-06-04T19:09:26.524Z"
   },
   {
    "duration": 11392,
    "start_time": "2022-06-04T19:12:26.133Z"
   },
   {
    "duration": 5,
    "start_time": "2022-06-04T19:13:16.886Z"
   },
   {
    "duration": 16,
    "start_time": "2022-06-04T19:13:19.737Z"
   },
   {
    "duration": 6,
    "start_time": "2022-06-04T19:13:29.709Z"
   },
   {
    "duration": 17,
    "start_time": "2022-06-04T19:13:30.039Z"
   },
   {
    "duration": 6,
    "start_time": "2022-06-04T19:13:36.591Z"
   },
   {
    "duration": 16,
    "start_time": "2022-06-04T19:13:37.892Z"
   },
   {
    "duration": 5,
    "start_time": "2022-06-04T19:15:03.737Z"
   },
   {
    "duration": 10,
    "start_time": "2022-06-04T19:15:04.300Z"
   },
   {
    "duration": 361,
    "start_time": "2022-06-04T19:15:46.052Z"
   },
   {
    "duration": 17091,
    "start_time": "2022-06-04T19:16:20.046Z"
   },
   {
    "duration": 18,
    "start_time": "2022-06-04T19:19:06.037Z"
   },
   {
    "duration": 19,
    "start_time": "2022-06-04T19:19:31.545Z"
   },
   {
    "duration": 12,
    "start_time": "2022-06-04T19:26:19.982Z"
   },
   {
    "duration": 15,
    "start_time": "2022-06-04T19:26:33.980Z"
   },
   {
    "duration": 14,
    "start_time": "2022-06-04T19:26:36.954Z"
   },
   {
    "duration": 327,
    "start_time": "2022-06-04T19:26:47.546Z"
   },
   {
    "duration": 293,
    "start_time": "2022-06-04T19:27:09.843Z"
   },
   {
    "duration": 389,
    "start_time": "2022-06-04T19:27:17.234Z"
   },
   {
    "duration": 2632,
    "start_time": "2022-06-04T19:27:23.084Z"
   },
   {
    "duration": 266,
    "start_time": "2022-06-04T19:27:46.299Z"
   },
   {
    "duration": 243,
    "start_time": "2022-06-04T19:27:49.380Z"
   },
   {
    "duration": 262,
    "start_time": "2022-06-04T19:27:58.619Z"
   },
   {
    "duration": 1142,
    "start_time": "2022-06-06T11:17:20.232Z"
   },
   {
    "duration": 143,
    "start_time": "2022-06-06T11:17:23.535Z"
   },
   {
    "duration": 12,
    "start_time": "2022-06-06T11:17:25.073Z"
   },
   {
    "duration": 9,
    "start_time": "2022-06-06T11:17:25.743Z"
   },
   {
    "duration": 4,
    "start_time": "2022-06-06T11:17:26.518Z"
   },
   {
    "duration": 3,
    "start_time": "2022-06-06T11:17:26.750Z"
   },
   {
    "duration": 3,
    "start_time": "2022-06-06T11:17:26.975Z"
   },
   {
    "duration": 9,
    "start_time": "2022-06-06T11:17:27.782Z"
   },
   {
    "duration": 622,
    "start_time": "2022-06-06T11:17:29.502Z"
   },
   {
    "duration": 6,
    "start_time": "2022-06-06T11:17:31.710Z"
   },
   {
    "duration": 301,
    "start_time": "2022-06-06T11:17:32.102Z"
   },
   {
    "duration": 53,
    "start_time": "2022-06-06T11:19:35.509Z"
   },
   {
    "duration": 136,
    "start_time": "2022-06-06T11:20:19.894Z"
   },
   {
    "duration": 11,
    "start_time": "2022-06-06T11:20:42.526Z"
   },
   {
    "duration": 13,
    "start_time": "2022-06-06T11:20:49.981Z"
   },
   {
    "duration": 3,
    "start_time": "2022-06-06T11:20:59.094Z"
   },
   {
    "duration": 12,
    "start_time": "2022-06-06T11:21:02.671Z"
   },
   {
    "duration": 10,
    "start_time": "2022-06-06T11:21:16.772Z"
   },
   {
    "duration": 14,
    "start_time": "2022-06-06T11:21:52.332Z"
   },
   {
    "duration": 3,
    "start_time": "2022-06-06T11:22:19.829Z"
   },
   {
    "duration": 8,
    "start_time": "2022-06-06T11:22:21.156Z"
   },
   {
    "duration": 14,
    "start_time": "2022-06-06T11:22:24.886Z"
   },
   {
    "duration": 4,
    "start_time": "2022-06-06T11:22:40.669Z"
   },
   {
    "duration": 775,
    "start_time": "2022-06-06T11:22:49.164Z"
   },
   {
    "duration": 288,
    "start_time": "2022-06-06T11:23:08.325Z"
   },
   {
    "duration": 716,
    "start_time": "2022-06-06T11:23:13.062Z"
   },
   {
    "duration": 441,
    "start_time": "2022-06-06T11:23:27.805Z"
   },
   {
    "duration": 831,
    "start_time": "2022-06-06T11:23:36.205Z"
   },
   {
    "duration": 208,
    "start_time": "2022-06-06T11:25:56.155Z"
   },
   {
    "duration": 223,
    "start_time": "2022-06-06T11:26:16.540Z"
   },
   {
    "duration": 229,
    "start_time": "2022-06-06T11:26:22.371Z"
   },
   {
    "duration": 193,
    "start_time": "2022-06-06T11:29:38.852Z"
   },
   {
    "duration": 5,
    "start_time": "2022-06-06T11:31:22.598Z"
   },
   {
    "duration": 59,
    "start_time": "2022-06-06T11:31:22.604Z"
   },
   {
    "duration": 13,
    "start_time": "2022-06-06T11:31:22.664Z"
   },
   {
    "duration": 9,
    "start_time": "2022-06-06T11:31:22.679Z"
   },
   {
    "duration": 6,
    "start_time": "2022-06-06T11:31:22.689Z"
   },
   {
    "duration": 5,
    "start_time": "2022-06-06T11:31:22.696Z"
   },
   {
    "duration": 5,
    "start_time": "2022-06-06T11:31:22.703Z"
   },
   {
    "duration": 9,
    "start_time": "2022-06-06T11:31:22.710Z"
   },
   {
    "duration": 251,
    "start_time": "2022-06-06T11:31:22.720Z"
   },
   {
    "duration": 5,
    "start_time": "2022-06-06T11:31:22.973Z"
   },
   {
    "duration": 290,
    "start_time": "2022-06-06T11:31:22.980Z"
   },
   {
    "duration": 3,
    "start_time": "2022-06-06T11:31:23.273Z"
   },
   {
    "duration": 817,
    "start_time": "2022-06-06T11:31:23.278Z"
   },
   {
    "duration": 189,
    "start_time": "2022-06-06T11:31:24.097Z"
   },
   {
    "duration": 3,
    "start_time": "2022-06-06T11:31:24.288Z"
   },
   {
    "duration": 13,
    "start_time": "2022-06-06T11:31:24.293Z"
   },
   {
    "duration": 16,
    "start_time": "2022-06-06T11:31:24.307Z"
   },
   {
    "duration": 7,
    "start_time": "2022-06-06T11:31:24.324Z"
   },
   {
    "duration": 19,
    "start_time": "2022-06-06T11:31:24.332Z"
   },
   {
    "duration": 9,
    "start_time": "2022-06-06T13:25:20.089Z"
   },
   {
    "duration": 16,
    "start_time": "2022-06-06T13:25:27.873Z"
   },
   {
    "duration": 16,
    "start_time": "2022-06-06T13:25:33.159Z"
   },
   {
    "duration": 9,
    "start_time": "2022-06-06T13:25:37.888Z"
   },
   {
    "duration": 15,
    "start_time": "2022-06-06T13:26:10.984Z"
   },
   {
    "duration": 14,
    "start_time": "2022-06-06T13:26:33.057Z"
   },
   {
    "duration": 10,
    "start_time": "2022-06-06T13:26:36.847Z"
   },
   {
    "duration": 15,
    "start_time": "2022-06-06T13:26:38.568Z"
   },
   {
    "duration": 8,
    "start_time": "2022-06-06T13:26:42.553Z"
   },
   {
    "duration": 16,
    "start_time": "2022-06-06T13:26:43.264Z"
   },
   {
    "duration": 10,
    "start_time": "2022-06-06T13:30:19.679Z"
   },
   {
    "duration": 5,
    "start_time": "2022-06-06T13:30:30.055Z"
   },
   {
    "duration": 14,
    "start_time": "2022-06-06T13:30:30.542Z"
   },
   {
    "duration": 9,
    "start_time": "2022-06-06T13:30:38.127Z"
   },
   {
    "duration": 13,
    "start_time": "2022-06-06T13:30:47.982Z"
   },
   {
    "duration": 44,
    "start_time": "2022-06-06T13:31:06.551Z"
   },
   {
    "duration": 6,
    "start_time": "2022-06-06T13:31:12.422Z"
   },
   {
    "duration": 13,
    "start_time": "2022-06-06T13:31:12.616Z"
   },
   {
    "duration": 4,
    "start_time": "2022-06-06T13:31:57.086Z"
   },
   {
    "duration": 486,
    "start_time": "2022-06-06T13:31:57.838Z"
   },
   {
    "duration": 4,
    "start_time": "2022-06-06T13:32:20.622Z"
   },
   {
    "duration": 16,
    "start_time": "2022-06-06T13:32:21.078Z"
   },
   {
    "duration": 4,
    "start_time": "2022-06-06T13:32:50.542Z"
   },
   {
    "duration": 8,
    "start_time": "2022-06-06T13:32:51.062Z"
   },
   {
    "duration": 9,
    "start_time": "2022-06-06T13:32:56.708Z"
   },
   {
    "duration": 18,
    "start_time": "2022-06-06T13:32:58.918Z"
   },
   {
    "duration": 6,
    "start_time": "2022-06-06T13:33:03.966Z"
   },
   {
    "duration": 17,
    "start_time": "2022-06-06T13:33:04.933Z"
   },
   {
    "duration": 9,
    "start_time": "2022-06-06T13:33:06.973Z"
   },
   {
    "duration": 31,
    "start_time": "2022-06-06T13:33:08.925Z"
   },
   {
    "duration": 7,
    "start_time": "2022-06-06T13:33:14.597Z"
   },
   {
    "duration": 17,
    "start_time": "2022-06-06T13:33:14.788Z"
   },
   {
    "duration": 4,
    "start_time": "2022-06-06T13:33:26.890Z"
   },
   {
    "duration": 71,
    "start_time": "2022-06-06T13:33:26.896Z"
   },
   {
    "duration": 12,
    "start_time": "2022-06-06T13:33:26.969Z"
   },
   {
    "duration": 22,
    "start_time": "2022-06-06T13:33:26.983Z"
   },
   {
    "duration": 14,
    "start_time": "2022-06-06T13:33:27.007Z"
   },
   {
    "duration": 11,
    "start_time": "2022-06-06T13:33:27.023Z"
   },
   {
    "duration": 11,
    "start_time": "2022-06-06T13:33:27.035Z"
   },
   {
    "duration": 9,
    "start_time": "2022-06-06T13:33:27.048Z"
   },
   {
    "duration": 305,
    "start_time": "2022-06-06T13:33:27.059Z"
   },
   {
    "duration": 8,
    "start_time": "2022-06-06T13:33:27.366Z"
   },
   {
    "duration": 426,
    "start_time": "2022-06-06T13:33:27.376Z"
   },
   {
    "duration": 6,
    "start_time": "2022-06-06T13:33:27.804Z"
   },
   {
    "duration": 841,
    "start_time": "2022-06-06T13:33:27.816Z"
   },
   {
    "duration": 227,
    "start_time": "2022-06-06T13:33:28.659Z"
   },
   {
    "duration": 4,
    "start_time": "2022-06-06T13:33:28.889Z"
   },
   {
    "duration": 22,
    "start_time": "2022-06-06T13:33:28.901Z"
   },
   {
    "duration": 34,
    "start_time": "2022-06-06T13:33:28.925Z"
   },
   {
    "duration": 16,
    "start_time": "2022-06-06T13:33:28.960Z"
   },
   {
    "duration": 28,
    "start_time": "2022-06-06T13:33:28.977Z"
   },
   {
    "duration": 13,
    "start_time": "2022-06-06T13:33:29.011Z"
   },
   {
    "duration": 153,
    "start_time": "2022-06-06T13:33:29.025Z"
   },
   {
    "duration": 524,
    "start_time": "2022-06-06T13:33:29.180Z"
   },
   {
    "duration": 13,
    "start_time": "2022-06-06T13:33:29.706Z"
   },
   {
    "duration": 19722,
    "start_time": "2022-06-06T13:33:29.720Z"
   },
   {
    "duration": 276,
    "start_time": "2022-06-06T13:33:49.445Z"
   },
   {
    "duration": 3,
    "start_time": "2022-06-06T13:33:49.725Z"
   },
   {
    "duration": 18849,
    "start_time": "2022-06-06T13:33:49.729Z"
   },
   {
    "duration": 341,
    "start_time": "2022-06-06T13:34:08.581Z"
   },
   {
    "duration": 3,
    "start_time": "2022-06-06T13:34:08.924Z"
   },
   {
    "duration": 20344,
    "start_time": "2022-06-06T13:34:08.929Z"
   },
   {
    "duration": 447,
    "start_time": "2022-06-06T13:34:29.274Z"
   },
   {
    "duration": 0,
    "start_time": "2022-06-06T13:34:29.724Z"
   },
   {
    "duration": 0,
    "start_time": "2022-06-06T13:34:29.725Z"
   },
   {
    "duration": 0,
    "start_time": "2022-06-06T13:34:29.726Z"
   },
   {
    "duration": 0,
    "start_time": "2022-06-06T13:34:29.727Z"
   },
   {
    "duration": 0,
    "start_time": "2022-06-06T13:34:29.728Z"
   },
   {
    "duration": 0,
    "start_time": "2022-06-06T13:34:29.729Z"
   },
   {
    "duration": 0,
    "start_time": "2022-06-06T13:34:29.730Z"
   },
   {
    "duration": 0,
    "start_time": "2022-06-06T13:34:29.733Z"
   },
   {
    "duration": 0,
    "start_time": "2022-06-06T13:34:29.734Z"
   },
   {
    "duration": 0,
    "start_time": "2022-06-06T13:34:29.735Z"
   },
   {
    "duration": 0,
    "start_time": "2022-06-06T13:34:29.736Z"
   },
   {
    "duration": 0,
    "start_time": "2022-06-06T13:34:29.737Z"
   },
   {
    "duration": 0,
    "start_time": "2022-06-06T13:34:29.738Z"
   },
   {
    "duration": 0,
    "start_time": "2022-06-06T13:34:29.739Z"
   },
   {
    "duration": 0,
    "start_time": "2022-06-06T13:34:29.740Z"
   },
   {
    "duration": 0,
    "start_time": "2022-06-06T13:34:29.741Z"
   },
   {
    "duration": 0,
    "start_time": "2022-06-06T13:34:29.743Z"
   },
   {
    "duration": 0,
    "start_time": "2022-06-06T13:34:29.744Z"
   },
   {
    "duration": 0,
    "start_time": "2022-06-06T13:34:29.746Z"
   },
   {
    "duration": 0,
    "start_time": "2022-06-06T13:34:29.800Z"
   },
   {
    "duration": 0,
    "start_time": "2022-06-06T13:34:29.803Z"
   },
   {
    "duration": 0,
    "start_time": "2022-06-06T13:34:29.804Z"
   },
   {
    "duration": 0,
    "start_time": "2022-06-06T13:34:29.806Z"
   },
   {
    "duration": 0,
    "start_time": "2022-06-06T13:34:29.809Z"
   },
   {
    "duration": 0,
    "start_time": "2022-06-06T13:34:29.810Z"
   },
   {
    "duration": 0,
    "start_time": "2022-06-06T13:34:29.810Z"
   },
   {
    "duration": 0,
    "start_time": "2022-06-06T13:34:29.811Z"
   },
   {
    "duration": 4,
    "start_time": "2022-06-06T13:34:35.834Z"
   },
   {
    "duration": 69,
    "start_time": "2022-06-06T13:34:35.840Z"
   },
   {
    "duration": 14,
    "start_time": "2022-06-06T13:34:35.910Z"
   },
   {
    "duration": 12,
    "start_time": "2022-06-06T13:34:35.928Z"
   },
   {
    "duration": 5,
    "start_time": "2022-06-06T13:34:35.942Z"
   },
   {
    "duration": 7,
    "start_time": "2022-06-06T13:34:35.949Z"
   },
   {
    "duration": 6,
    "start_time": "2022-06-06T13:34:35.958Z"
   },
   {
    "duration": 9,
    "start_time": "2022-06-06T13:34:35.965Z"
   },
   {
    "duration": 283,
    "start_time": "2022-06-06T13:34:35.976Z"
   },
   {
    "duration": 5,
    "start_time": "2022-06-06T13:34:36.261Z"
   },
   {
    "duration": 307,
    "start_time": "2022-06-06T13:34:36.268Z"
   },
   {
    "duration": 4,
    "start_time": "2022-06-06T13:34:36.576Z"
   },
   {
    "duration": 801,
    "start_time": "2022-06-06T13:34:36.581Z"
   },
   {
    "duration": 271,
    "start_time": "2022-06-06T13:34:37.384Z"
   },
   {
    "duration": 5,
    "start_time": "2022-06-06T13:34:37.657Z"
   },
   {
    "duration": 40,
    "start_time": "2022-06-06T13:34:37.664Z"
   },
   {
    "duration": 29,
    "start_time": "2022-06-06T13:34:37.707Z"
   },
   {
    "duration": 7,
    "start_time": "2022-06-06T13:34:37.738Z"
   },
   {
    "duration": 16,
    "start_time": "2022-06-06T13:34:37.747Z"
   },
   {
    "duration": 10,
    "start_time": "2022-06-06T13:34:37.765Z"
   },
   {
    "duration": 37,
    "start_time": "2022-06-06T13:34:41.414Z"
   },
   {
    "duration": 602,
    "start_time": "2022-06-06T13:34:43.636Z"
   },
   {
    "duration": 9,
    "start_time": "2022-06-06T13:34:49.373Z"
   },
   {
    "duration": 18996,
    "start_time": "2022-06-06T13:34:52.719Z"
   },
   {
    "duration": 127,
    "start_time": "2022-06-06T13:35:47.789Z"
   },
   {
    "duration": 4,
    "start_time": "2022-06-06T13:35:50.324Z"
   },
   {
    "duration": 22285,
    "start_time": "2022-06-06T13:35:50.778Z"
   },
   {
    "duration": 287,
    "start_time": "2022-06-06T13:36:35.392Z"
   },
   {
    "duration": 3,
    "start_time": "2022-06-06T13:36:48.156Z"
   },
   {
    "duration": 1461713,
    "start_time": "2022-06-06T13:36:48.965Z"
   },
   {
    "duration": 320149,
    "start_time": "2022-06-06T14:01:22.507Z"
   },
   {
    "duration": 3,
    "start_time": "2022-06-06T14:06:42.658Z"
   },
   {
    "duration": 2,
    "start_time": "2022-06-06T14:06:55.993Z"
   },
   {
    "duration": 566324,
    "start_time": "2022-06-06T14:06:56.796Z"
   },
   {
    "duration": 7,
    "start_time": "2022-06-06T14:16:30.615Z"
   },
   {
    "duration": 324301,
    "start_time": "2022-06-06T14:16:31.263Z"
   },
   {
    "duration": 28,
    "start_time": "2022-06-06T14:22:21.035Z"
   },
   {
    "duration": 11,
    "start_time": "2022-06-06T14:22:25.025Z"
   },
   {
    "duration": 10,
    "start_time": "2022-06-06T14:22:30.139Z"
   },
   {
    "duration": 3,
    "start_time": "2022-06-06T14:22:41.716Z"
   },
   {
    "duration": 131307,
    "start_time": "2022-06-06T14:22:51.077Z"
   },
   {
    "duration": 7,
    "start_time": "2022-06-06T14:25:31.230Z"
   },
   {
    "duration": 15,
    "start_time": "2022-06-06T14:26:06.131Z"
   },
   {
    "duration": 61,
    "start_time": "2022-06-06T14:26:06.978Z"
   },
   {
    "duration": 1493,
    "start_time": "2022-06-06T14:26:11.192Z"
   },
   {
    "duration": 155,
    "start_time": "2022-06-06T14:26:12.687Z"
   },
   {
    "duration": 16,
    "start_time": "2022-06-06T14:26:12.844Z"
   },
   {
    "duration": 13,
    "start_time": "2022-06-06T14:26:12.863Z"
   },
   {
    "duration": 6,
    "start_time": "2022-06-06T14:26:12.878Z"
   },
   {
    "duration": 16,
    "start_time": "2022-06-06T14:26:12.885Z"
   },
   {
    "duration": 9,
    "start_time": "2022-06-06T14:26:12.903Z"
   },
   {
    "duration": 13,
    "start_time": "2022-06-06T14:26:12.914Z"
   },
   {
    "duration": 288,
    "start_time": "2022-06-06T14:26:12.929Z"
   },
   {
    "duration": 6,
    "start_time": "2022-06-06T14:26:13.220Z"
   },
   {
    "duration": 340,
    "start_time": "2022-06-06T14:26:13.228Z"
   },
   {
    "duration": 3,
    "start_time": "2022-06-06T14:26:13.570Z"
   },
   {
    "duration": 773,
    "start_time": "2022-06-06T14:26:13.575Z"
   },
   {
    "duration": 556,
    "start_time": "2022-06-06T14:26:14.350Z"
   },
   {
    "duration": 4,
    "start_time": "2022-06-06T14:26:14.908Z"
   },
   {
    "duration": 11,
    "start_time": "2022-06-06T14:26:14.914Z"
   },
   {
    "duration": 75,
    "start_time": "2022-06-06T14:26:14.927Z"
   },
   {
    "duration": 8,
    "start_time": "2022-06-06T14:26:15.004Z"
   },
   {
    "duration": 31,
    "start_time": "2022-06-06T14:26:15.015Z"
   },
   {
    "duration": 57,
    "start_time": "2022-06-06T14:26:15.048Z"
   },
   {
    "duration": 95,
    "start_time": "2022-06-06T14:26:15.108Z"
   },
   {
    "duration": 1105,
    "start_time": "2022-06-06T14:26:15.205Z"
   },
   {
    "duration": 9,
    "start_time": "2022-06-06T14:26:16.311Z"
   },
   {
    "duration": 19953,
    "start_time": "2022-06-06T14:26:16.322Z"
   },
   {
    "duration": 125,
    "start_time": "2022-06-06T14:26:36.276Z"
   },
   {
    "duration": 3,
    "start_time": "2022-06-06T14:26:36.402Z"
   },
   {
    "duration": 20421,
    "start_time": "2022-06-06T14:26:36.407Z"
   },
   {
    "duration": 254,
    "start_time": "2022-06-06T14:26:56.832Z"
   },
   {
    "duration": 4,
    "start_time": "2022-06-06T14:26:57.088Z"
   },
   {
    "duration": 10,
    "start_time": "2022-06-06T14:26:57.093Z"
   },
   {
    "duration": 65,
    "start_time": "2022-06-06T14:27:22.622Z"
   },
   {
    "duration": 3,
    "start_time": "2022-06-06T14:28:17.133Z"
   },
   {
    "duration": 1486,
    "start_time": "2022-06-06T14:28:28.326Z"
   },
   {
    "duration": 154,
    "start_time": "2022-06-06T14:28:29.814Z"
   },
   {
    "duration": 12,
    "start_time": "2022-06-06T14:28:29.970Z"
   },
   {
    "duration": 9,
    "start_time": "2022-06-06T14:28:29.984Z"
   },
   {
    "duration": 6,
    "start_time": "2022-06-06T14:28:29.995Z"
   },
   {
    "duration": 12,
    "start_time": "2022-06-06T14:28:30.003Z"
   },
   {
    "duration": 19,
    "start_time": "2022-06-06T14:28:30.017Z"
   },
   {
    "duration": 37,
    "start_time": "2022-06-06T14:28:30.038Z"
   },
   {
    "duration": 279,
    "start_time": "2022-06-06T14:28:30.076Z"
   },
   {
    "duration": 7,
    "start_time": "2022-06-06T14:28:30.358Z"
   },
   {
    "duration": 340,
    "start_time": "2022-06-06T14:28:30.367Z"
   },
   {
    "duration": 5,
    "start_time": "2022-06-06T14:28:30.709Z"
   },
   {
    "duration": 816,
    "start_time": "2022-06-06T14:28:30.716Z"
   },
   {
    "duration": 312,
    "start_time": "2022-06-06T14:28:31.535Z"
   },
   {
    "duration": 4,
    "start_time": "2022-06-06T14:28:31.850Z"
   },
   {
    "duration": 16,
    "start_time": "2022-06-06T14:28:31.856Z"
   },
   {
    "duration": 37,
    "start_time": "2022-06-06T14:28:31.874Z"
   },
   {
    "duration": 19,
    "start_time": "2022-06-06T14:28:31.914Z"
   },
   {
    "duration": 27,
    "start_time": "2022-06-06T14:28:31.935Z"
   },
   {
    "duration": 11,
    "start_time": "2022-06-06T14:28:31.963Z"
   },
   {
    "duration": 56,
    "start_time": "2022-06-06T14:28:31.975Z"
   },
   {
    "duration": 523,
    "start_time": "2022-06-06T14:28:32.033Z"
   },
   {
    "duration": 10,
    "start_time": "2022-06-06T14:28:32.558Z"
   },
   {
    "duration": 17605,
    "start_time": "2022-06-06T14:28:32.570Z"
   },
   {
    "duration": 115,
    "start_time": "2022-06-06T14:28:50.176Z"
   },
   {
    "duration": 3,
    "start_time": "2022-06-06T14:28:50.299Z"
   },
   {
    "duration": 20122,
    "start_time": "2022-06-06T14:28:50.304Z"
   },
   {
    "duration": 229,
    "start_time": "2022-06-06T14:29:10.429Z"
   },
   {
    "duration": 3,
    "start_time": "2022-06-06T14:29:10.660Z"
   },
   {
    "duration": 3,
    "start_time": "2022-06-06T14:29:13.561Z"
   },
   {
    "duration": 3215,
    "start_time": "2022-06-06T14:29:14.272Z"
   },
   {
    "duration": 4,
    "start_time": "2022-06-06T14:29:30.358Z"
   },
   {
    "duration": 136161,
    "start_time": "2022-06-06T14:29:34.147Z"
   },
   {
    "duration": 30,
    "start_time": "2022-06-06T14:32:05.577Z"
   },
   {
    "duration": 3,
    "start_time": "2022-06-06T14:32:08.656Z"
   },
   {
    "duration": 1013791,
    "start_time": "2022-06-06T14:32:09.144Z"
   },
   {
    "duration": 9941,
    "start_time": "2022-06-06T14:49:09.276Z"
   },
   {
    "duration": 11,
    "start_time": "2022-06-06T14:49:22.948Z"
   },
   {
    "duration": 5,
    "start_time": "2022-06-06T14:49:29.111Z"
   },
   {
    "duration": 11,
    "start_time": "2022-06-06T14:49:29.532Z"
   },
   {
    "duration": 4,
    "start_time": "2022-06-06T14:49:56.916Z"
   },
   {
    "duration": 4,
    "start_time": "2022-06-06T14:50:04.912Z"
   },
   {
    "duration": 4,
    "start_time": "2022-06-06T14:50:19.731Z"
   },
   {
    "duration": 10,
    "start_time": "2022-06-06T14:50:24.459Z"
   },
   {
    "duration": 5,
    "start_time": "2022-06-06T14:50:25.043Z"
   },
   {
    "duration": 4,
    "start_time": "2022-06-06T14:50:25.787Z"
   },
   {
    "duration": 4,
    "start_time": "2022-06-06T14:50:26.511Z"
   },
   {
    "duration": 7,
    "start_time": "2022-06-06T14:50:31.659Z"
   },
   {
    "duration": 5,
    "start_time": "2022-06-06T14:50:32.012Z"
   },
   {
    "duration": 4,
    "start_time": "2022-06-06T14:50:32.531Z"
   },
   {
    "duration": 4,
    "start_time": "2022-06-06T14:50:33.475Z"
   },
   {
    "duration": 10,
    "start_time": "2022-06-06T14:50:37.428Z"
   },
   {
    "duration": 4,
    "start_time": "2022-06-06T14:50:38.203Z"
   },
   {
    "duration": 4,
    "start_time": "2022-06-06T14:50:38.787Z"
   },
   {
    "duration": 3,
    "start_time": "2022-06-06T14:50:39.410Z"
   },
   {
    "duration": 5,
    "start_time": "2022-06-06T14:50:52.883Z"
   },
   {
    "duration": 11,
    "start_time": "2022-06-06T14:50:53.339Z"
   },
   {
    "duration": 33,
    "start_time": "2022-06-06T14:51:09.227Z"
   },
   {
    "duration": 5,
    "start_time": "2022-06-06T14:51:13.763Z"
   },
   {
    "duration": 11,
    "start_time": "2022-06-06T14:51:14.963Z"
   },
   {
    "duration": 4,
    "start_time": "2022-06-06T14:51:43.811Z"
   },
   {
    "duration": 4,
    "start_time": "2022-06-06T14:52:00.178Z"
   },
   {
    "duration": 5,
    "start_time": "2022-06-06T14:52:00.370Z"
   },
   {
    "duration": 4,
    "start_time": "2022-06-06T14:52:16.931Z"
   },
   {
    "duration": 4,
    "start_time": "2022-06-06T14:52:18.714Z"
   },
   {
    "duration": 4,
    "start_time": "2022-06-06T14:52:20.242Z"
   },
   {
    "duration": 35,
    "start_time": "2022-06-06T14:52:56.353Z"
   },
   {
    "duration": 27,
    "start_time": "2022-06-06T14:53:27.330Z"
   },
   {
    "duration": 11,
    "start_time": "2022-06-06T14:53:34.007Z"
   },
   {
    "duration": 12,
    "start_time": "2022-06-06T14:53:38.903Z"
   },
   {
    "duration": 5,
    "start_time": "2022-06-06T14:54:04.855Z"
   },
   {
    "duration": 70,
    "start_time": "2022-06-06T14:54:04.862Z"
   },
   {
    "duration": 13,
    "start_time": "2022-06-06T14:54:04.934Z"
   },
   {
    "duration": 10,
    "start_time": "2022-06-06T14:54:04.949Z"
   },
   {
    "duration": 8,
    "start_time": "2022-06-06T14:54:04.961Z"
   },
   {
    "duration": 9,
    "start_time": "2022-06-06T14:54:04.999Z"
   },
   {
    "duration": 10,
    "start_time": "2022-06-06T14:54:05.010Z"
   },
   {
    "duration": 11,
    "start_time": "2022-06-06T14:54:05.022Z"
   },
   {
    "duration": 270,
    "start_time": "2022-06-06T14:54:05.035Z"
   },
   {
    "duration": 5,
    "start_time": "2022-06-06T14:54:05.308Z"
   },
   {
    "duration": 394,
    "start_time": "2022-06-06T14:54:05.314Z"
   },
   {
    "duration": 4,
    "start_time": "2022-06-06T14:54:05.710Z"
   },
   {
    "duration": 738,
    "start_time": "2022-06-06T14:54:05.716Z"
   },
   {
    "duration": 214,
    "start_time": "2022-06-06T14:54:06.455Z"
   },
   {
    "duration": 4,
    "start_time": "2022-06-06T14:54:06.671Z"
   },
   {
    "duration": 17,
    "start_time": "2022-06-06T14:54:06.676Z"
   },
   {
    "duration": 18,
    "start_time": "2022-06-06T14:54:06.701Z"
   },
   {
    "duration": 10,
    "start_time": "2022-06-06T14:54:06.721Z"
   },
   {
    "duration": 18,
    "start_time": "2022-06-06T14:54:06.733Z"
   },
   {
    "duration": 11,
    "start_time": "2022-06-06T14:54:06.753Z"
   },
   {
    "duration": 7,
    "start_time": "2022-06-06T14:54:06.765Z"
   },
   {
    "duration": 27,
    "start_time": "2022-06-06T14:54:06.774Z"
   },
   {
    "duration": 7,
    "start_time": "2022-06-06T14:54:06.803Z"
   },
   {
    "duration": 38,
    "start_time": "2022-06-06T14:54:06.811Z"
   },
   {
    "duration": 745,
    "start_time": "2022-06-06T14:54:06.851Z"
   },
   {
    "duration": 12,
    "start_time": "2022-06-06T14:54:07.599Z"
   },
   {
    "duration": 22824,
    "start_time": "2022-06-06T14:54:07.613Z"
   },
   {
    "duration": 161,
    "start_time": "2022-06-06T14:54:30.440Z"
   },
   {
    "duration": 4,
    "start_time": "2022-06-06T14:54:30.603Z"
   },
   {
    "duration": 22966,
    "start_time": "2022-06-06T14:54:30.609Z"
   },
   {
    "duration": 268,
    "start_time": "2022-06-06T14:54:53.577Z"
   },
   {
    "duration": 4,
    "start_time": "2022-06-06T14:54:53.847Z"
   },
   {
    "duration": 27804,
    "start_time": "2022-06-06T14:54:53.852Z"
   },
   {
    "duration": 251,
    "start_time": "2022-06-06T14:55:21.658Z"
   },
   {
    "duration": 4,
    "start_time": "2022-06-06T14:55:21.911Z"
   },
   {
    "duration": 43554,
    "start_time": "2022-06-06T14:55:21.916Z"
   },
   {
    "duration": 147,
    "start_time": "2022-06-06T14:56:05.472Z"
   },
   {
    "duration": 0,
    "start_time": "2022-06-06T14:56:05.621Z"
   },
   {
    "duration": 0,
    "start_time": "2022-06-06T14:56:05.623Z"
   },
   {
    "duration": 0,
    "start_time": "2022-06-06T14:56:05.624Z"
   },
   {
    "duration": 0,
    "start_time": "2022-06-06T14:56:05.626Z"
   },
   {
    "duration": 0,
    "start_time": "2022-06-06T14:56:05.630Z"
   },
   {
    "duration": 322,
    "start_time": "2022-06-06T14:56:10.384Z"
   },
   {
    "duration": 2,
    "start_time": "2022-06-06T14:56:14.560Z"
   },
   {
    "duration": 35389,
    "start_time": "2022-06-06T14:56:15.050Z"
   },
   {
    "duration": 3,
    "start_time": "2022-06-06T14:57:57.144Z"
   },
   {
    "duration": 23252,
    "start_time": "2022-06-06T14:57:57.635Z"
   },
   {
    "duration": 3894,
    "start_time": "2022-06-06T14:58:42.551Z"
   },
   {
    "duration": 6844,
    "start_time": "2022-06-06T14:58:57.761Z"
   },
   {
    "duration": 547073,
    "start_time": "2022-06-06T14:59:06.769Z"
   },
   {
    "duration": 248,
    "start_time": "2022-06-06T15:08:54.678Z"
   },
   {
    "duration": 3,
    "start_time": "2022-06-06T15:08:57.546Z"
   },
   {
    "duration": 100806,
    "start_time": "2022-06-06T15:08:58.404Z"
   },
   {
    "duration": 66,
    "start_time": "2022-06-06T15:11:20.041Z"
   },
   {
    "duration": 3,
    "start_time": "2022-06-06T15:11:22.345Z"
   },
   {
    "duration": 1089773,
    "start_time": "2022-06-06T15:11:22.505Z"
   },
   {
    "duration": 4,
    "start_time": "2022-06-06T15:29:38.496Z"
   },
   {
    "duration": 588860,
    "start_time": "2022-06-06T15:29:40.346Z"
   },
   {
    "duration": 867,
    "start_time": "2022-06-06T15:40:11.252Z"
   },
   {
    "duration": 12,
    "start_time": "2022-06-06T15:40:14.698Z"
   },
   {
    "duration": 6,
    "start_time": "2022-06-06T15:40:22.955Z"
   },
   {
    "duration": 11,
    "start_time": "2022-06-06T15:40:23.211Z"
   },
   {
    "duration": 11,
    "start_time": "2022-06-06T15:41:17.069Z"
   },
   {
    "duration": 12,
    "start_time": "2022-06-06T15:41:24.979Z"
   },
   {
    "duration": 5,
    "start_time": "2022-06-06T15:41:42.315Z"
   },
   {
    "duration": 449,
    "start_time": "2022-06-06T15:42:05.201Z"
   },
   {
    "duration": 6,
    "start_time": "2022-06-06T15:42:11.251Z"
   },
   {
    "duration": 236,
    "start_time": "2022-06-06T15:42:11.643Z"
   },
   {
    "duration": 8,
    "start_time": "2022-06-06T15:43:11.332Z"
   },
   {
    "duration": 323,
    "start_time": "2022-06-06T15:43:15.901Z"
   },
   {
    "duration": 7,
    "start_time": "2022-06-06T15:43:17.403Z"
   },
   {
    "duration": 270,
    "start_time": "2022-06-06T15:43:17.810Z"
   },
   {
    "duration": 17,
    "start_time": "2022-06-06T15:43:35.244Z"
   },
   {
    "duration": 4,
    "start_time": "2022-06-06T15:44:00.109Z"
   },
   {
    "duration": 4,
    "start_time": "2022-06-06T15:44:08.108Z"
   },
   {
    "duration": 228,
    "start_time": "2022-06-06T15:44:08.949Z"
   },
   {
    "duration": 277,
    "start_time": "2022-06-06T15:44:17.932Z"
   },
   {
    "duration": 7,
    "start_time": "2022-06-06T15:44:20.652Z"
   },
   {
    "duration": 219,
    "start_time": "2022-06-06T15:44:21.756Z"
   },
   {
    "duration": 235,
    "start_time": "2022-06-06T15:44:34.136Z"
   },
   {
    "duration": 283,
    "start_time": "2022-06-06T15:44:47.157Z"
   },
   {
    "duration": 302,
    "start_time": "2022-06-06T15:45:09.271Z"
   },
   {
    "duration": 11,
    "start_time": "2022-06-06T15:46:06.172Z"
   },
   {
    "duration": 274,
    "start_time": "2022-06-06T15:46:08.602Z"
   },
   {
    "duration": 11,
    "start_time": "2022-06-06T15:46:19.846Z"
   },
   {
    "duration": 341,
    "start_time": "2022-06-06T15:46:22.951Z"
   },
   {
    "duration": 10,
    "start_time": "2022-06-06T15:46:27.498Z"
   },
   {
    "duration": 273,
    "start_time": "2022-06-06T15:46:32.543Z"
   },
   {
    "duration": 178,
    "start_time": "2022-06-06T15:47:11.631Z"
   },
   {
    "duration": 5,
    "start_time": "2022-06-06T15:47:43.448Z"
   },
   {
    "duration": 6,
    "start_time": "2022-06-06T15:47:44.159Z"
   },
   {
    "duration": 8,
    "start_time": "2022-06-06T15:48:02.344Z"
   },
   {
    "duration": 5,
    "start_time": "2022-06-06T15:48:06.229Z"
   },
   {
    "duration": 79,
    "start_time": "2022-06-06T15:48:06.237Z"
   },
   {
    "duration": 13,
    "start_time": "2022-06-06T15:48:06.318Z"
   },
   {
    "duration": 16,
    "start_time": "2022-06-06T15:48:06.334Z"
   },
   {
    "duration": 12,
    "start_time": "2022-06-06T15:48:06.353Z"
   },
   {
    "duration": 7,
    "start_time": "2022-06-06T15:48:06.367Z"
   },
   {
    "duration": 11,
    "start_time": "2022-06-06T15:48:06.376Z"
   },
   {
    "duration": 11,
    "start_time": "2022-06-06T15:48:06.401Z"
   },
   {
    "duration": 291,
    "start_time": "2022-06-06T15:48:06.415Z"
   },
   {
    "duration": 7,
    "start_time": "2022-06-06T15:48:06.710Z"
   },
   {
    "duration": 321,
    "start_time": "2022-06-06T15:48:06.720Z"
   },
   {
    "duration": 4,
    "start_time": "2022-06-06T15:48:07.043Z"
   },
   {
    "duration": 909,
    "start_time": "2022-06-06T15:48:07.049Z"
   },
   {
    "duration": 207,
    "start_time": "2022-06-06T15:48:07.960Z"
   },
   {
    "duration": 6,
    "start_time": "2022-06-06T15:48:08.168Z"
   },
   {
    "duration": 6,
    "start_time": "2022-06-06T15:48:11.288Z"
   },
   {
    "duration": 5,
    "start_time": "2022-06-06T15:48:11.680Z"
   },
   {
    "duration": 9,
    "start_time": "2022-06-06T15:48:13.975Z"
   },
   {
    "duration": 34,
    "start_time": "2022-06-06T15:48:31.407Z"
   },
   {
    "duration": 11,
    "start_time": "2022-06-06T15:48:33.399Z"
   },
   {
    "duration": 6,
    "start_time": "2022-06-06T15:49:11.207Z"
   },
   {
    "duration": 5,
    "start_time": "2022-06-06T15:49:11.632Z"
   },
   {
    "duration": 15,
    "start_time": "2022-06-06T15:49:12.115Z"
   },
   {
    "duration": 287,
    "start_time": "2022-06-06T15:49:14.640Z"
   },
   {
    "duration": 10,
    "start_time": "2022-06-06T15:49:42.544Z"
   },
   {
    "duration": 30,
    "start_time": "2022-06-06T15:49:45.207Z"
   },
   {
    "duration": 8,
    "start_time": "2022-06-06T15:49:46.953Z"
   },
   {
    "duration": 29,
    "start_time": "2022-06-06T15:49:47.864Z"
   },
   {
    "duration": 5,
    "start_time": "2022-06-06T15:49:53.405Z"
   },
   {
    "duration": 5,
    "start_time": "2022-06-06T15:49:54.183Z"
   },
   {
    "duration": 9,
    "start_time": "2022-06-06T15:49:54.960Z"
   },
   {
    "duration": 239,
    "start_time": "2022-06-06T15:49:59.401Z"
   },
   {
    "duration": 8,
    "start_time": "2022-06-06T15:50:17.583Z"
   },
   {
    "duration": 5,
    "start_time": "2022-06-06T15:50:21.445Z"
   },
   {
    "duration": 75,
    "start_time": "2022-06-06T15:50:21.452Z"
   },
   {
    "duration": 18,
    "start_time": "2022-06-06T15:50:21.529Z"
   },
   {
    "duration": 16,
    "start_time": "2022-06-06T15:50:21.550Z"
   },
   {
    "duration": 11,
    "start_time": "2022-06-06T15:50:21.568Z"
   },
   {
    "duration": 4,
    "start_time": "2022-06-06T15:50:21.599Z"
   },
   {
    "duration": 8,
    "start_time": "2022-06-06T15:50:21.606Z"
   },
   {
    "duration": 13,
    "start_time": "2022-06-06T15:50:21.616Z"
   },
   {
    "duration": 330,
    "start_time": "2022-06-06T15:50:21.631Z"
   },
   {
    "duration": 6,
    "start_time": "2022-06-06T15:50:21.963Z"
   },
   {
    "duration": 430,
    "start_time": "2022-06-06T15:50:21.970Z"
   },
   {
    "duration": 5,
    "start_time": "2022-06-06T15:50:22.402Z"
   },
   {
    "duration": 804,
    "start_time": "2022-06-06T15:50:22.409Z"
   },
   {
    "duration": 215,
    "start_time": "2022-06-06T15:50:23.215Z"
   },
   {
    "duration": 4,
    "start_time": "2022-06-06T15:50:23.432Z"
   },
   {
    "duration": 5,
    "start_time": "2022-06-06T15:50:23.438Z"
   },
   {
    "duration": 8,
    "start_time": "2022-06-06T15:50:24.744Z"
   },
   {
    "duration": 20,
    "start_time": "2022-06-06T15:50:29.184Z"
   },
   {
    "duration": 8,
    "start_time": "2022-06-06T15:50:35.991Z"
   },
   {
    "duration": 18,
    "start_time": "2022-06-06T15:50:36.832Z"
   },
   {
    "duration": 9,
    "start_time": "2022-06-06T15:52:18.984Z"
   },
   {
    "duration": 4,
    "start_time": "2022-06-06T15:52:19.408Z"
   },
   {
    "duration": 4,
    "start_time": "2022-06-06T15:52:20.089Z"
   },
   {
    "duration": 5,
    "start_time": "2022-06-06T15:52:20.642Z"
   },
   {
    "duration": 33,
    "start_time": "2022-06-06T15:52:23.851Z"
   },
   {
    "duration": 13,
    "start_time": "2022-06-06T15:52:25.920Z"
   },
   {
    "duration": 5,
    "start_time": "2022-06-06T15:52:29.553Z"
   },
   {
    "duration": 4,
    "start_time": "2022-06-06T15:52:30.065Z"
   },
   {
    "duration": 11,
    "start_time": "2022-06-06T15:52:30.489Z"
   },
   {
    "duration": 338,
    "start_time": "2022-06-06T15:52:33.536Z"
   },
   {
    "duration": 620,
    "start_time": "2022-06-06T15:52:42.385Z"
   },
   {
    "duration": 12,
    "start_time": "2022-06-06T15:52:47.833Z"
   },
   {
    "duration": 23139,
    "start_time": "2022-06-06T15:52:50.320Z"
   },
   {
    "duration": 171,
    "start_time": "2022-06-06T15:53:47.561Z"
   },
   {
    "duration": 4,
    "start_time": "2022-06-06T15:53:57.281Z"
   },
   {
    "duration": 525886,
    "start_time": "2022-06-06T15:54:03.708Z"
   },
   {
    "duration": 541,
    "start_time": "2022-06-06T16:04:00.626Z"
   },
   {
    "duration": 4,
    "start_time": "2022-06-06T16:04:05.160Z"
   },
   {
    "duration": 803627,
    "start_time": "2022-06-06T16:04:05.587Z"
   },
   {
    "duration": 1286,
    "start_time": "2022-06-06T16:19:22.733Z"
   },
   {
    "duration": 5,
    "start_time": "2022-06-06T16:19:29.924Z"
   },
   {
    "duration": 628041,
    "start_time": "2022-06-06T16:19:30.380Z"
   },
   {
    "duration": 17571,
    "start_time": "2022-06-06T16:30:59.736Z"
   },
   {
    "duration": 14,
    "start_time": "2022-06-06T16:31:20.775Z"
   },
   {
    "duration": 6,
    "start_time": "2022-06-06T16:31:40.608Z"
   },
   {
    "duration": 5,
    "start_time": "2022-06-06T16:31:41.375Z"
   },
   {
    "duration": 12,
    "start_time": "2022-06-06T16:31:41.958Z"
   },
   {
    "duration": 333,
    "start_time": "2022-06-06T16:31:47.527Z"
   },
   {
    "duration": 28859,
    "start_time": "2022-06-06T16:32:37.758Z"
   },
   {
    "duration": 33384,
    "start_time": "2022-06-06T16:34:31.526Z"
   },
   {
    "duration": 13,
    "start_time": "2022-06-06T16:35:45.534Z"
   },
   {
    "duration": 21,
    "start_time": "2022-06-06T16:36:03.012Z"
   },
   {
    "duration": 6,
    "start_time": "2022-06-06T16:36:21.662Z"
   },
   {
    "duration": 18,
    "start_time": "2022-06-06T16:36:31.715Z"
   },
   {
    "duration": 7,
    "start_time": "2022-06-06T16:38:22.864Z"
   },
   {
    "duration": 17,
    "start_time": "2022-06-06T16:38:23.512Z"
   },
   {
    "duration": 10,
    "start_time": "2022-06-06T16:38:30.189Z"
   },
   {
    "duration": 8,
    "start_time": "2022-06-06T16:38:32.850Z"
   },
   {
    "duration": 15,
    "start_time": "2022-06-06T16:38:33.489Z"
   },
   {
    "duration": 846,
    "start_time": "2022-06-06T16:39:24.364Z"
   },
   {
    "duration": 159,
    "start_time": "2022-06-06T16:40:19.112Z"
   },
   {
    "duration": 23,
    "start_time": "2022-06-06T16:40:41.692Z"
   },
   {
    "duration": 333,
    "start_time": "2022-06-06T16:40:52.482Z"
   },
   {
    "duration": 11,
    "start_time": "2022-06-06T16:40:55.212Z"
   },
   {
    "duration": 9,
    "start_time": "2022-06-06T16:41:26.931Z"
   },
   {
    "duration": 11,
    "start_time": "2022-06-06T16:42:04.654Z"
   },
   {
    "duration": 7,
    "start_time": "2022-06-06T16:42:12.331Z"
   },
   {
    "duration": 76,
    "start_time": "2022-06-06T16:42:13.043Z"
   },
   {
    "duration": 10,
    "start_time": "2022-06-06T16:45:19.483Z"
   },
   {
    "duration": 4,
    "start_time": "2022-06-06T16:45:33.938Z"
   },
   {
    "duration": 10,
    "start_time": "2022-06-06T16:45:39.642Z"
   },
   {
    "duration": 12,
    "start_time": "2022-06-06T16:45:43.511Z"
   },
   {
    "duration": 28,
    "start_time": "2022-06-06T16:45:50.138Z"
   },
   {
    "duration": 927,
    "start_time": "2022-06-06T16:46:43.582Z"
   },
   {
    "duration": 924,
    "start_time": "2022-06-06T16:46:52.418Z"
   },
   {
    "duration": 13,
    "start_time": "2022-06-06T16:47:21.335Z"
   },
   {
    "duration": 12,
    "start_time": "2022-06-06T16:48:07.479Z"
   },
   {
    "duration": 21,
    "start_time": "2022-06-06T16:48:19.690Z"
   },
   {
    "duration": 11,
    "start_time": "2022-06-06T16:48:23.737Z"
   },
   {
    "duration": 14,
    "start_time": "2022-06-06T16:48:35.054Z"
   },
   {
    "duration": 1351,
    "start_time": "2022-06-06T16:49:38.274Z"
   },
   {
    "duration": 18,
    "start_time": "2022-06-06T16:53:46.377Z"
   },
   {
    "duration": 28,
    "start_time": "2022-06-06T16:54:03.246Z"
   },
   {
    "duration": 58,
    "start_time": "2022-06-06T16:57:28.045Z"
   },
   {
    "duration": 3,
    "start_time": "2022-06-06T16:57:31.260Z"
   },
   {
    "duration": 69,
    "start_time": "2022-06-06T16:57:32.357Z"
   },
   {
    "duration": 33110,
    "start_time": "2022-06-06T16:58:11.603Z"
   },
   {
    "duration": 18,
    "start_time": "2022-06-06T16:59:15.220Z"
   },
   {
    "duration": 12,
    "start_time": "2022-06-06T16:59:21.835Z"
   },
   {
    "duration": 13,
    "start_time": "2022-06-06T16:59:39.363Z"
   },
   {
    "duration": 15,
    "start_time": "2022-06-06T16:59:45.882Z"
   },
   {
    "duration": 40,
    "start_time": "2022-06-06T17:00:00.603Z"
   },
   {
    "duration": 58,
    "start_time": "2022-06-06T17:00:05.198Z"
   },
   {
    "duration": 5,
    "start_time": "2022-06-06T17:00:09.827Z"
   },
   {
    "duration": 1638489,
    "start_time": "2022-06-06T17:00:10.475Z"
   },
   {
    "duration": 3,
    "start_time": "2022-06-06T17:27:41.482Z"
   },
   {
    "duration": 587092,
    "start_time": "2022-06-06T17:27:41.841Z"
   },
   {
    "duration": 4,
    "start_time": "2022-06-06T17:37:39.690Z"
   },
   {
    "duration": 2262,
    "start_time": "2022-06-06T17:37:40.312Z"
   },
   {
    "duration": 32059,
    "start_time": "2022-06-06T17:37:48.070Z"
   },
   {
    "duration": 488955,
    "start_time": "2022-06-06T17:38:23.258Z"
   },
   {
    "duration": 10,
    "start_time": "2022-06-06T17:47:10.359Z"
   },
   {
    "duration": 70,
    "start_time": "2022-06-06T17:47:16.775Z"
   },
   {
    "duration": 8,
    "start_time": "2022-06-06T17:47:30.023Z"
   },
   {
    "duration": 1437,
    "start_time": "2022-06-06T17:47:35.133Z"
   },
   {
    "duration": 67,
    "start_time": "2022-06-06T17:47:36.572Z"
   },
   {
    "duration": 13,
    "start_time": "2022-06-06T17:47:36.641Z"
   },
   {
    "duration": 10,
    "start_time": "2022-06-06T17:47:36.656Z"
   },
   {
    "duration": 12,
    "start_time": "2022-06-06T17:47:36.668Z"
   },
   {
    "duration": 5,
    "start_time": "2022-06-06T17:47:36.682Z"
   },
   {
    "duration": 5,
    "start_time": "2022-06-06T17:47:36.710Z"
   },
   {
    "duration": 14,
    "start_time": "2022-06-06T17:47:36.717Z"
   },
   {
    "duration": 292,
    "start_time": "2022-06-06T17:47:36.733Z"
   },
   {
    "duration": 5,
    "start_time": "2022-06-06T17:47:37.029Z"
   },
   {
    "duration": 407,
    "start_time": "2022-06-06T17:47:37.036Z"
   },
   {
    "duration": 5,
    "start_time": "2022-06-06T17:47:37.445Z"
   },
   {
    "duration": 814,
    "start_time": "2022-06-06T17:47:37.453Z"
   },
   {
    "duration": 305,
    "start_time": "2022-06-06T17:47:38.269Z"
   },
   {
    "duration": 6,
    "start_time": "2022-06-06T17:47:38.576Z"
   },
   {
    "duration": 7,
    "start_time": "2022-06-06T17:47:38.583Z"
   },
   {
    "duration": 26,
    "start_time": "2022-06-06T17:47:38.592Z"
   },
   {
    "duration": 21,
    "start_time": "2022-06-06T17:47:38.620Z"
   },
   {
    "duration": 120,
    "start_time": "2022-06-06T17:47:40.263Z"
   },
   {
    "duration": 4,
    "start_time": "2022-06-06T17:47:51.744Z"
   },
   {
    "duration": 8,
    "start_time": "2022-06-06T17:47:54.212Z"
   },
   {
    "duration": 21,
    "start_time": "2022-06-06T17:47:55.014Z"
   },
   {
    "duration": 12,
    "start_time": "2022-06-06T17:48:00.903Z"
   },
   {
    "duration": 4,
    "start_time": "2022-06-06T17:48:04.650Z"
   },
   {
    "duration": 4,
    "start_time": "2022-06-06T17:48:05.848Z"
   },
   {
    "duration": 5,
    "start_time": "2022-06-06T17:48:06.210Z"
   },
   {
    "duration": 11,
    "start_time": "2022-06-06T17:48:07.948Z"
   },
   {
    "duration": 35,
    "start_time": "2022-06-06T17:48:24.015Z"
   },
   {
    "duration": 10,
    "start_time": "2022-06-06T17:48:27.884Z"
   },
   {
    "duration": 683,
    "start_time": "2022-06-06T17:48:34.892Z"
   },
   {
    "duration": 11,
    "start_time": "2022-06-06T17:48:37.712Z"
   },
   {
    "duration": 26691,
    "start_time": "2022-06-06T17:48:57.719Z"
   },
   {
    "duration": 21,
    "start_time": "2022-06-06T17:49:46.793Z"
   },
   {
    "duration": 26289,
    "start_time": "2022-06-06T17:49:48.900Z"
   },
   {
    "duration": 236,
    "start_time": "2022-06-06T17:50:32.030Z"
   },
   {
    "duration": 3,
    "start_time": "2022-06-06T17:50:38.461Z"
   },
   {
    "duration": 641456,
    "start_time": "2022-06-06T17:50:39.657Z"
   },
   {
    "duration": 362,
    "start_time": "2022-06-06T18:01:53.257Z"
   },
   {
    "duration": 3,
    "start_time": "2022-06-06T18:02:03.218Z"
   },
   {
    "duration": 1163381,
    "start_time": "2022-06-06T18:02:10.694Z"
   },
   {
    "duration": 3,
    "start_time": "2022-06-06T18:21:40.588Z"
   },
   {
    "duration": 97702,
    "start_time": "2022-06-06T18:21:41.788Z"
   },
   {
    "duration": 35,
    "start_time": "2022-06-06T18:23:31.483Z"
   },
   {
    "duration": 3,
    "start_time": "2022-06-06T18:23:35.731Z"
   },
   {
    "duration": 48492,
    "start_time": "2022-06-06T18:23:36.673Z"
   },
   {
    "duration": 160443,
    "start_time": "2022-06-06T18:24:29.523Z"
   },
   {
    "duration": 3,
    "start_time": "2022-06-06T18:27:14.730Z"
   },
   {
    "duration": 3,
    "start_time": "2022-06-06T18:27:15.572Z"
   },
   {
    "duration": 4,
    "start_time": "2022-06-06T18:27:19.041Z"
   },
   {
    "duration": 1922,
    "start_time": "2022-06-06T18:27:19.459Z"
   },
   {
    "duration": 3,
    "start_time": "2022-06-06T18:27:25.881Z"
   },
   {
    "duration": 1674893,
    "start_time": "2022-06-06T18:27:26.074Z"
   },
   {
    "duration": 33603,
    "start_time": "2022-06-06T18:55:23.202Z"
   },
   {
    "duration": 1290460,
    "start_time": "2022-06-06T18:56:22.907Z"
   },
   {
    "duration": 1495,
    "start_time": "2022-06-06T21:06:57.238Z"
   },
   {
    "duration": 202,
    "start_time": "2022-06-06T21:06:58.735Z"
   },
   {
    "duration": 12,
    "start_time": "2022-06-06T21:06:58.938Z"
   },
   {
    "duration": 17,
    "start_time": "2022-06-06T21:06:58.953Z"
   },
   {
    "duration": 15,
    "start_time": "2022-06-06T21:06:58.972Z"
   },
   {
    "duration": 13,
    "start_time": "2022-06-06T21:06:58.988Z"
   },
   {
    "duration": 27,
    "start_time": "2022-06-06T21:06:59.003Z"
   },
   {
    "duration": 17,
    "start_time": "2022-06-06T21:06:59.031Z"
   },
   {
    "duration": 258,
    "start_time": "2022-06-06T21:06:59.050Z"
   },
   {
    "duration": 6,
    "start_time": "2022-06-06T21:06:59.311Z"
   },
   {
    "duration": 285,
    "start_time": "2022-06-06T21:06:59.326Z"
   },
   {
    "duration": 4,
    "start_time": "2022-06-06T21:06:59.612Z"
   },
   {
    "duration": 725,
    "start_time": "2022-06-06T21:06:59.617Z"
   },
   {
    "duration": 275,
    "start_time": "2022-06-06T21:07:00.344Z"
   },
   {
    "duration": 10,
    "start_time": "2022-06-06T21:07:00.621Z"
   },
   {
    "duration": 22,
    "start_time": "2022-06-06T21:07:00.633Z"
   },
   {
    "duration": 30,
    "start_time": "2022-06-06T21:07:00.657Z"
   },
   {
    "duration": 36,
    "start_time": "2022-06-06T21:07:00.689Z"
   },
   {
    "duration": 13,
    "start_time": "2022-06-06T21:07:00.727Z"
   },
   {
    "duration": 18,
    "start_time": "2022-06-06T21:07:00.742Z"
   },
   {
    "duration": 24,
    "start_time": "2022-06-06T21:07:00.761Z"
   },
   {
    "duration": 11,
    "start_time": "2022-06-06T21:07:00.787Z"
   },
   {
    "duration": 16,
    "start_time": "2022-06-06T21:07:00.800Z"
   },
   {
    "duration": 9,
    "start_time": "2022-06-06T21:07:00.817Z"
   },
   {
    "duration": 7,
    "start_time": "2022-06-06T21:07:00.828Z"
   },
   {
    "duration": 37,
    "start_time": "2022-06-06T21:07:00.836Z"
   },
   {
    "duration": 10,
    "start_time": "2022-06-06T21:07:00.875Z"
   },
   {
    "duration": 555,
    "start_time": "2022-06-06T21:07:07.274Z"
   },
   {
    "duration": 13,
    "start_time": "2022-06-06T21:07:12.629Z"
   },
   {
    "duration": 21401,
    "start_time": "2022-06-06T21:07:15.087Z"
   },
   {
    "duration": 193,
    "start_time": "2022-06-06T21:07:43.399Z"
   },
   {
    "duration": 3,
    "start_time": "2022-06-06T21:07:45.183Z"
   },
   {
    "duration": 471825,
    "start_time": "2022-06-06T21:07:46.383Z"
   },
   {
    "duration": 298,
    "start_time": "2022-06-06T21:16:38.348Z"
   },
   {
    "duration": 3,
    "start_time": "2022-06-06T21:16:51.837Z"
   },
   {
    "duration": 674854,
    "start_time": "2022-06-06T21:16:52.588Z"
   },
   {
    "duration": 52808,
    "start_time": "2022-06-06T21:28:47.224Z"
   },
   {
    "duration": 4,
    "start_time": "2022-06-06T21:29:45.287Z"
   },
   {
    "duration": 997266,
    "start_time": "2022-06-06T21:29:47.295Z"
   },
   {
    "duration": 37415,
    "start_time": "2022-06-06T21:46:48.217Z"
   },
   {
    "duration": 11,
    "start_time": "2022-06-06T21:47:27.768Z"
   },
   {
    "duration": 10,
    "start_time": "2022-06-06T21:47:39.835Z"
   },
   {
    "duration": 10,
    "start_time": "2022-06-06T21:47:44.073Z"
   },
   {
    "duration": 123,
    "start_time": "2022-06-06T21:47:49.513Z"
   },
   {
    "duration": 10,
    "start_time": "2022-06-06T21:47:53.305Z"
   },
   {
    "duration": 9,
    "start_time": "2022-06-06T21:47:58.757Z"
   },
   {
    "duration": 10,
    "start_time": "2022-06-06T21:48:02.776Z"
   },
   {
    "duration": 6,
    "start_time": "2022-06-06T21:48:12.834Z"
   },
   {
    "duration": 11,
    "start_time": "2022-06-06T21:48:40.280Z"
   },
   {
    "duration": 34598,
    "start_time": "2022-06-06T21:49:36.066Z"
   },
   {
    "duration": 9,
    "start_time": "2022-06-06T21:53:11.942Z"
   },
   {
    "duration": 10,
    "start_time": "2022-06-06T21:55:54.597Z"
   },
   {
    "duration": 138,
    "start_time": "2022-06-06T21:57:43.974Z"
   },
   {
    "duration": 502,
    "start_time": "2022-06-06T21:58:52.916Z"
   },
   {
    "duration": 332,
    "start_time": "2022-06-06T21:59:03.877Z"
   },
   {
    "duration": 356,
    "start_time": "2022-06-06T22:00:29.780Z"
   },
   {
    "duration": 364,
    "start_time": "2022-06-06T22:00:35.452Z"
   },
   {
    "duration": 221,
    "start_time": "2022-06-06T22:00:48.804Z"
   },
   {
    "duration": 225,
    "start_time": "2022-06-06T22:00:54.676Z"
   },
   {
    "duration": 443,
    "start_time": "2022-06-06T22:00:58.331Z"
   },
   {
    "duration": 20,
    "start_time": "2022-06-06T22:02:09.427Z"
   },
   {
    "duration": 19,
    "start_time": "2022-06-06T22:02:16.491Z"
   },
   {
    "duration": 300,
    "start_time": "2022-06-06T22:02:19.091Z"
   },
   {
    "duration": 156,
    "start_time": "2022-06-06T22:02:46.739Z"
   },
   {
    "duration": 178,
    "start_time": "2022-06-06T22:03:01.842Z"
   },
   {
    "duration": 117,
    "start_time": "2022-06-06T22:05:32.186Z"
   },
   {
    "duration": 102,
    "start_time": "2022-06-06T22:07:14.657Z"
   },
   {
    "duration": 121,
    "start_time": "2022-06-06T22:08:17.306Z"
   },
   {
    "duration": 113,
    "start_time": "2022-06-06T22:08:48.681Z"
   },
   {
    "duration": 15,
    "start_time": "2022-06-06T22:08:51.921Z"
   },
   {
    "duration": 98,
    "start_time": "2022-06-06T22:09:23.337Z"
   },
   {
    "duration": 101,
    "start_time": "2022-06-06T22:09:26.536Z"
   },
   {
    "duration": 22,
    "start_time": "2022-06-06T22:09:35.321Z"
   },
   {
    "duration": 220,
    "start_time": "2022-06-06T22:09:38.040Z"
   },
   {
    "duration": 263,
    "start_time": "2022-06-06T22:09:48.872Z"
   },
   {
    "duration": 274,
    "start_time": "2022-06-06T22:09:53.639Z"
   },
   {
    "duration": 218,
    "start_time": "2022-06-06T22:09:59.637Z"
   },
   {
    "duration": 184,
    "start_time": "2022-06-06T22:10:05.368Z"
   },
   {
    "duration": 38,
    "start_time": "2022-06-06T22:12:21.407Z"
   },
   {
    "duration": 11,
    "start_time": "2022-06-06T22:15:40.870Z"
   },
   {
    "duration": 112,
    "start_time": "2022-06-06T22:15:51.861Z"
   },
   {
    "duration": 9,
    "start_time": "2022-06-06T22:16:00.710Z"
   },
   {
    "duration": 6,
    "start_time": "2022-06-06T22:16:38.638Z"
   },
   {
    "duration": 142,
    "start_time": "2022-06-06T22:16:53.256Z"
   },
   {
    "duration": 277,
    "start_time": "2022-06-06T22:16:58.341Z"
   },
   {
    "duration": 153,
    "start_time": "2022-06-06T22:17:02.461Z"
   },
   {
    "duration": 132,
    "start_time": "2022-06-06T22:17:05.348Z"
   },
   {
    "duration": 3,
    "start_time": "2022-06-06T22:17:17.597Z"
   },
   {
    "duration": 126,
    "start_time": "2022-06-06T22:17:30.989Z"
   },
   {
    "duration": 136,
    "start_time": "2022-06-06T22:18:17.704Z"
   },
   {
    "duration": 3,
    "start_time": "2022-06-06T22:19:32.836Z"
   },
   {
    "duration": 127,
    "start_time": "2022-06-06T22:19:33.100Z"
   },
   {
    "duration": 5,
    "start_time": "2022-06-06T22:19:37.252Z"
   },
   {
    "duration": 10,
    "start_time": "2022-06-06T22:19:37.508Z"
   },
   {
    "duration": 3,
    "start_time": "2022-06-06T22:19:37.996Z"
   },
   {
    "duration": 116,
    "start_time": "2022-06-06T22:19:38.803Z"
   },
   {
    "duration": 37591,
    "start_time": "2022-06-06T22:19:42.342Z"
   },
   {
    "duration": 171,
    "start_time": "2022-06-06T22:20:19.935Z"
   },
   {
    "duration": 4,
    "start_time": "2022-06-06T22:20:20.108Z"
   },
   {
    "duration": 124,
    "start_time": "2022-06-06T22:20:44.476Z"
   },
   {
    "duration": 121,
    "start_time": "2022-06-06T22:22:09.380Z"
   },
   {
    "duration": 119,
    "start_time": "2022-06-06T22:22:20.203Z"
   },
   {
    "duration": 145,
    "start_time": "2022-06-06T22:22:32.331Z"
   },
   {
    "duration": 140,
    "start_time": "2022-06-06T22:22:47.692Z"
   },
   {
    "duration": 143,
    "start_time": "2022-06-06T22:23:05.499Z"
   },
   {
    "duration": 12,
    "start_time": "2022-06-06T22:23:15.339Z"
   },
   {
    "duration": 4,
    "start_time": "2022-06-06T22:23:16.122Z"
   },
   {
    "duration": 178,
    "start_time": "2022-06-06T22:23:16.708Z"
   },
   {
    "duration": 34924,
    "start_time": "2022-06-06T22:23:19.035Z"
   },
   {
    "duration": 165,
    "start_time": "2022-06-06T22:23:55.018Z"
   },
   {
    "duration": 12,
    "start_time": "2022-06-06T22:24:02.898Z"
   },
   {
    "duration": 3,
    "start_time": "2022-06-06T22:24:03.547Z"
   },
   {
    "duration": 171,
    "start_time": "2022-06-06T22:24:03.738Z"
   },
   {
    "duration": 1489,
    "start_time": "2022-06-08T12:24:16.680Z"
   },
   {
    "duration": 164,
    "start_time": "2022-06-08T12:24:18.177Z"
   },
   {
    "duration": 24,
    "start_time": "2022-06-08T12:24:18.343Z"
   },
   {
    "duration": 34,
    "start_time": "2022-06-08T12:24:18.374Z"
   },
   {
    "duration": 10,
    "start_time": "2022-06-08T12:24:18.411Z"
   },
   {
    "duration": 7,
    "start_time": "2022-06-08T12:24:18.423Z"
   },
   {
    "duration": 4,
    "start_time": "2022-06-08T12:24:18.432Z"
   },
   {
    "duration": 8,
    "start_time": "2022-06-08T12:24:18.438Z"
   },
   {
    "duration": 257,
    "start_time": "2022-06-08T12:24:18.448Z"
   },
   {
    "duration": 5,
    "start_time": "2022-06-08T12:24:18.707Z"
   },
   {
    "duration": 312,
    "start_time": "2022-06-08T12:24:18.713Z"
   },
   {
    "duration": 4,
    "start_time": "2022-06-08T12:24:19.026Z"
   },
   {
    "duration": 742,
    "start_time": "2022-06-08T12:24:19.032Z"
   },
   {
    "duration": 256,
    "start_time": "2022-06-08T12:24:19.776Z"
   },
   {
    "duration": 4,
    "start_time": "2022-06-08T12:26:09.190Z"
   },
   {
    "duration": 135,
    "start_time": "2022-06-08T12:31:15.576Z"
   },
   {
    "duration": 4,
    "start_time": "2022-06-08T12:32:06.488Z"
   },
   {
    "duration": 10,
    "start_time": "2022-06-08T12:32:07.400Z"
   },
   {
    "duration": 657,
    "start_time": "2022-06-08T12:32:08.859Z"
   },
   {
    "duration": 3,
    "start_time": "2022-06-08T12:32:37.409Z"
   },
   {
    "duration": 70,
    "start_time": "2022-06-08T12:32:37.415Z"
   },
   {
    "duration": 11,
    "start_time": "2022-06-08T12:32:37.487Z"
   },
   {
    "duration": 10,
    "start_time": "2022-06-08T12:32:37.500Z"
   },
   {
    "duration": 4,
    "start_time": "2022-06-08T12:32:37.512Z"
   },
   {
    "duration": 4,
    "start_time": "2022-06-08T12:32:37.518Z"
   },
   {
    "duration": 6,
    "start_time": "2022-06-08T12:32:37.523Z"
   },
   {
    "duration": 17,
    "start_time": "2022-06-08T12:32:37.559Z"
   },
   {
    "duration": 238,
    "start_time": "2022-06-08T12:32:37.578Z"
   },
   {
    "duration": 6,
    "start_time": "2022-06-08T12:32:37.817Z"
   },
   {
    "duration": 284,
    "start_time": "2022-06-08T12:32:37.824Z"
   },
   {
    "duration": 4,
    "start_time": "2022-06-08T12:32:38.110Z"
   },
   {
    "duration": 743,
    "start_time": "2022-06-08T12:32:38.115Z"
   },
   {
    "duration": 188,
    "start_time": "2022-06-08T12:32:38.868Z"
   },
   {
    "duration": 11,
    "start_time": "2022-06-08T12:32:39.064Z"
   },
   {
    "duration": 18,
    "start_time": "2022-06-08T12:32:39.080Z"
   },
   {
    "duration": 32,
    "start_time": "2022-06-08T12:32:41.761Z"
   },
   {
    "duration": 774,
    "start_time": "2022-06-08T12:32:56.935Z"
   },
   {
    "duration": 727,
    "start_time": "2022-06-08T12:33:09.191Z"
   },
   {
    "duration": 608,
    "start_time": "2022-06-08T12:33:11.913Z"
   },
   {
    "duration": 626,
    "start_time": "2022-06-08T12:33:15.998Z"
   },
   {
    "duration": 605,
    "start_time": "2022-06-08T12:33:19.110Z"
   },
   {
    "duration": 5,
    "start_time": "2022-06-08T12:33:43.646Z"
   },
   {
    "duration": 26,
    "start_time": "2022-06-08T12:33:45.679Z"
   },
   {
    "duration": 9,
    "start_time": "2022-06-08T12:33:52.665Z"
   },
   {
    "duration": 34,
    "start_time": "2022-06-08T12:33:54.053Z"
   },
   {
    "duration": 8,
    "start_time": "2022-06-08T12:34:30.987Z"
   },
   {
    "duration": 4,
    "start_time": "2022-06-08T12:34:31.397Z"
   },
   {
    "duration": 4,
    "start_time": "2022-06-08T12:34:31.985Z"
   },
   {
    "duration": 4,
    "start_time": "2022-06-08T12:34:32.441Z"
   },
   {
    "duration": 54,
    "start_time": "2022-06-08T12:34:37.821Z"
   },
   {
    "duration": 86,
    "start_time": "2022-06-08T12:34:44.697Z"
   },
   {
    "duration": 18,
    "start_time": "2022-06-08T12:34:45.798Z"
   },
   {
    "duration": 806,
    "start_time": "2022-06-08T12:35:01.778Z"
   },
   {
    "duration": 13,
    "start_time": "2022-06-08T12:35:05.925Z"
   },
   {
    "duration": 19,
    "start_time": "2022-06-08T12:35:16.564Z"
   },
   {
    "duration": 55,
    "start_time": "2022-06-08T12:35:29.621Z"
   },
   {
    "duration": 13,
    "start_time": "2022-06-08T12:35:30.178Z"
   },
   {
    "duration": 712,
    "start_time": "2022-06-08T12:35:31.797Z"
   },
   {
    "duration": 12,
    "start_time": "2022-06-08T12:35:33.780Z"
   },
   {
    "duration": 27000,
    "start_time": "2022-06-08T12:35:35.333Z"
   },
   {
    "duration": 213,
    "start_time": "2022-06-08T12:36:48.883Z"
   },
   {
    "duration": 207,
    "start_time": "2022-06-08T12:36:53.132Z"
   },
   {
    "duration": 208,
    "start_time": "2022-06-08T12:36:55.677Z"
   },
   {
    "duration": 99,
    "start_time": "2022-06-08T12:37:53.568Z"
   },
   {
    "duration": 10,
    "start_time": "2022-06-08T12:37:54.481Z"
   },
   {
    "duration": 3,
    "start_time": "2022-06-08T12:41:47.840Z"
   },
   {
    "duration": 3,
    "start_time": "2022-06-08T12:41:48.520Z"
   },
   {
    "duration": 293354,
    "start_time": "2022-06-08T12:41:53.937Z"
   },
   {
    "duration": 66,
    "start_time": "2022-06-08T12:46:52.679Z"
   },
   {
    "duration": 3,
    "start_time": "2022-06-08T12:46:56.053Z"
   },
   {
    "duration": 3,
    "start_time": "2022-06-08T12:46:56.437Z"
   },
   {
    "duration": 657663,
    "start_time": "2022-06-08T12:46:56.766Z"
   },
   {
    "duration": 620,
    "start_time": "2022-06-08T12:58:05.297Z"
   },
   {
    "duration": 15,
    "start_time": "2022-06-08T12:59:33.592Z"
   },
   {
    "duration": 38,
    "start_time": "2022-06-08T12:59:41.272Z"
   },
   {
    "duration": 14,
    "start_time": "2022-06-08T12:59:46.560Z"
   },
   {
    "duration": 126,
    "start_time": "2022-06-08T12:59:51.839Z"
   },
   {
    "duration": 13,
    "start_time": "2022-06-08T12:59:52.975Z"
   },
   {
    "duration": 797,
    "start_time": "2022-06-08T12:59:54.623Z"
   },
   {
    "duration": 18,
    "start_time": "2022-06-08T12:59:59.200Z"
   },
   {
    "duration": 3,
    "start_time": "2022-06-08T13:00:19.583Z"
   },
   {
    "duration": 1224998,
    "start_time": "2022-06-08T13:00:21.463Z"
   },
   {
    "duration": 16,
    "start_time": "2022-06-08T13:20:46.462Z"
   },
   {
    "duration": 323,
    "start_time": "2022-06-08T13:22:35.741Z"
   },
   {
    "duration": 2,
    "start_time": "2022-06-08T13:22:46.117Z"
   },
   {
    "duration": 3,
    "start_time": "2022-06-08T13:22:58.820Z"
   },
   {
    "duration": 544,
    "start_time": "2022-06-08T13:22:59.509Z"
   },
   {
    "duration": 5763,
    "start_time": "2022-06-08T13:24:03.525Z"
   },
   {
    "duration": 371,
    "start_time": "2022-06-08T13:24:44.333Z"
   },
   {
    "duration": 8,
    "start_time": "2022-06-08T13:27:56.378Z"
   },
   {
    "duration": 3,
    "start_time": "2022-06-08T13:28:00.402Z"
   },
   {
    "duration": 325,
    "start_time": "2022-06-08T13:28:00.626Z"
   },
   {
    "duration": 95414,
    "start_time": "2022-06-08T13:28:07.074Z"
   },
   {
    "duration": 1657,
    "start_time": "2022-06-08T13:29:57.737Z"
   },
   {
    "duration": 10,
    "start_time": "2022-06-08T13:30:02.082Z"
   },
   {
    "duration": 9,
    "start_time": "2022-06-08T13:30:17.865Z"
   },
   {
    "duration": 9,
    "start_time": "2022-06-08T13:30:23.050Z"
   },
   {
    "duration": 2,
    "start_time": "2022-06-08T13:31:52.281Z"
   },
   {
    "duration": 10,
    "start_time": "2022-06-08T13:32:07.864Z"
   },
   {
    "duration": 10,
    "start_time": "2022-06-08T13:32:16.817Z"
   },
   {
    "duration": 9,
    "start_time": "2022-06-08T13:32:20.929Z"
   },
   {
    "duration": 5,
    "start_time": "2022-06-08T13:32:29.288Z"
   },
   {
    "duration": 10,
    "start_time": "2022-06-08T13:32:30.264Z"
   },
   {
    "duration": 4,
    "start_time": "2022-06-08T13:32:37.424Z"
   },
   {
    "duration": 154,
    "start_time": "2022-06-08T13:32:37.945Z"
   },
   {
    "duration": 1861,
    "start_time": "2022-06-08T13:32:40.729Z"
   },
   {
    "duration": 330,
    "start_time": "2022-06-08T13:33:52.424Z"
   },
   {
    "duration": 242,
    "start_time": "2022-06-08T13:35:12.913Z"
   },
   {
    "duration": 12,
    "start_time": "2022-06-08T13:35:54.761Z"
   },
   {
    "duration": 34,
    "start_time": "2022-06-08T13:40:11.797Z"
   },
   {
    "duration": 14,
    "start_time": "2022-06-08T13:40:13.445Z"
   },
   {
    "duration": 2118,
    "start_time": "2022-06-09T12:07:02.293Z"
   },
   {
    "duration": 172,
    "start_time": "2022-06-09T12:07:04.415Z"
   },
   {
    "duration": 20,
    "start_time": "2022-06-09T12:07:04.593Z"
   },
   {
    "duration": 16,
    "start_time": "2022-06-09T12:07:04.617Z"
   },
   {
    "duration": 14,
    "start_time": "2022-06-09T12:07:04.635Z"
   },
   {
    "duration": 40,
    "start_time": "2022-06-09T12:07:04.652Z"
   },
   {
    "duration": 14,
    "start_time": "2022-06-09T12:07:04.695Z"
   },
   {
    "duration": 13,
    "start_time": "2022-06-09T12:07:04.711Z"
   },
   {
    "duration": 297,
    "start_time": "2022-06-09T12:07:04.726Z"
   },
   {
    "duration": 7,
    "start_time": "2022-06-09T12:07:05.026Z"
   },
   {
    "duration": 456,
    "start_time": "2022-06-09T12:07:05.035Z"
   },
   {
    "duration": 4,
    "start_time": "2022-06-09T12:07:05.495Z"
   },
   {
    "duration": 858,
    "start_time": "2022-06-09T12:07:05.500Z"
   },
   {
    "duration": 231,
    "start_time": "2022-06-09T12:07:06.360Z"
   },
   {
    "duration": 4,
    "start_time": "2022-06-09T12:07:06.593Z"
   },
   {
    "duration": 24,
    "start_time": "2022-06-09T12:07:06.599Z"
   },
   {
    "duration": 18,
    "start_time": "2022-06-09T12:07:06.625Z"
   },
   {
    "duration": 56,
    "start_time": "2022-06-09T12:07:06.645Z"
   },
   {
    "duration": 14,
    "start_time": "2022-06-09T12:07:06.704Z"
   },
   {
    "duration": 16,
    "start_time": "2022-06-09T12:07:06.721Z"
   },
   {
    "duration": 45,
    "start_time": "2022-06-09T12:07:06.740Z"
   },
   {
    "duration": 211,
    "start_time": "2022-06-09T12:07:22.665Z"
   },
   {
    "duration": 11,
    "start_time": "2022-06-09T12:07:33.908Z"
   },
   {
    "duration": 17,
    "start_time": "2022-06-09T12:07:35.474Z"
   },
   {
    "duration": 4,
    "start_time": "2022-06-09T12:07:37.455Z"
   },
   {
    "duration": 10,
    "start_time": "2022-06-09T12:07:37.743Z"
   },
   {
    "duration": 6,
    "start_time": "2022-06-09T12:07:39.979Z"
   },
   {
    "duration": 774,
    "start_time": "2022-06-09T12:07:46.396Z"
   },
   {
    "duration": 886,
    "start_time": "2022-06-09T12:08:01.550Z"
   },
   {
    "duration": 11,
    "start_time": "2022-06-09T12:08:36.084Z"
   },
   {
    "duration": 6,
    "start_time": "2022-06-09T12:08:39.104Z"
   },
   {
    "duration": 9,
    "start_time": "2022-06-09T12:09:07.411Z"
   },
   {
    "duration": 6,
    "start_time": "2022-06-09T12:09:19.266Z"
   },
   {
    "duration": 5,
    "start_time": "2022-06-09T12:09:23.892Z"
   },
   {
    "duration": 4,
    "start_time": "2022-06-09T12:09:29.635Z"
   },
   {
    "duration": 1153,
    "start_time": "2022-06-09T12:10:10.666Z"
   },
   {
    "duration": 1103,
    "start_time": "2022-06-09T12:10:21.868Z"
   },
   {
    "duration": 10,
    "start_time": "2022-06-09T12:11:51.891Z"
   },
   {
    "duration": 14,
    "start_time": "2022-06-09T12:11:56.758Z"
   },
   {
    "duration": 11,
    "start_time": "2022-06-09T12:12:02.002Z"
   },
   {
    "duration": 17,
    "start_time": "2022-06-09T12:12:28.664Z"
   },
   {
    "duration": 4,
    "start_time": "2022-06-09T12:13:31.579Z"
   },
   {
    "duration": 4,
    "start_time": "2022-06-09T12:13:39.854Z"
   },
   {
    "duration": 4,
    "start_time": "2022-06-09T12:13:47.690Z"
   },
   {
    "duration": 7,
    "start_time": "2022-06-09T12:13:53.973Z"
   },
   {
    "duration": 6,
    "start_time": "2022-06-09T12:14:01.480Z"
   },
   {
    "duration": 857,
    "start_time": "2022-06-09T12:14:35.860Z"
   },
   {
    "duration": 28689,
    "start_time": "2022-06-09T12:14:57.743Z"
   },
   {
    "duration": 24,
    "start_time": "2022-06-09T12:15:30.745Z"
   },
   {
    "duration": 881,
    "start_time": "2022-06-09T12:15:42.058Z"
   },
   {
    "duration": 5,
    "start_time": "2022-06-09T12:15:43.609Z"
   },
   {
    "duration": 28336,
    "start_time": "2022-06-09T12:15:50.175Z"
   },
   {
    "duration": 7,
    "start_time": "2022-06-09T12:16:46.097Z"
   },
   {
    "duration": 4,
    "start_time": "2022-06-09T12:17:09.763Z"
   },
   {
    "duration": 4,
    "start_time": "2022-06-09T12:17:39.113Z"
   },
   {
    "duration": 19296,
    "start_time": "2022-06-09T12:17:39.761Z"
   },
   {
    "duration": 66600,
    "start_time": "2022-06-09T12:18:03.276Z"
   },
   {
    "duration": 3,
    "start_time": "2022-06-09T12:19:26.481Z"
   },
   {
    "duration": 3040,
    "start_time": "2022-06-09T12:19:27.009Z"
   },
   {
    "duration": 3,
    "start_time": "2022-06-09T12:19:40.784Z"
   },
   {
    "duration": 6,
    "start_time": "2022-06-09T12:19:41.078Z"
   },
   {
    "duration": 3141,
    "start_time": "2022-06-09T12:19:41.379Z"
   },
   {
    "duration": 9704,
    "start_time": "2022-06-09T12:19:54.018Z"
   },
   {
    "duration": 5674,
    "start_time": "2022-06-09T12:20:09.418Z"
   },
   {
    "duration": 828259,
    "start_time": "2022-06-09T12:20:21.705Z"
   },
   {
    "duration": 20,
    "start_time": "2022-06-09T12:34:09.971Z"
   },
   {
    "duration": 0,
    "start_time": "2022-06-09T12:34:09.995Z"
   },
   {
    "duration": 0,
    "start_time": "2022-06-09T12:34:09.996Z"
   },
   {
    "duration": 0,
    "start_time": "2022-06-09T12:34:09.997Z"
   },
   {
    "duration": 0,
    "start_time": "2022-06-09T12:34:09.999Z"
   },
   {
    "duration": 0,
    "start_time": "2022-06-09T12:34:10.000Z"
   },
   {
    "duration": 0,
    "start_time": "2022-06-09T12:34:10.001Z"
   },
   {
    "duration": 0,
    "start_time": "2022-06-09T12:34:10.003Z"
   },
   {
    "duration": 7,
    "start_time": "2022-06-09T13:53:39.547Z"
   },
   {
    "duration": 860806,
    "start_time": "2022-06-09T13:54:11.007Z"
   },
   {
    "duration": 12,
    "start_time": "2022-06-09T14:08:31.816Z"
   },
   {
    "duration": 3,
    "start_time": "2022-06-09T14:08:39.558Z"
   },
   {
    "duration": 8092,
    "start_time": "2022-06-09T14:08:40.250Z"
   },
   {
    "duration": 3,
    "start_time": "2022-06-09T14:08:52.300Z"
   },
   {
    "duration": 3,
    "start_time": "2022-06-09T14:08:53.053Z"
   },
   {
    "duration": 3959,
    "start_time": "2022-06-09T14:08:54.289Z"
   },
   {
    "duration": 9,
    "start_time": "2022-06-09T14:09:02.191Z"
   },
   {
    "duration": 4,
    "start_time": "2022-06-09T14:09:02.392Z"
   },
   {
    "duration": 21549,
    "start_time": "2022-06-09T14:09:02.902Z"
   },
   {
    "duration": 0,
    "start_time": "2022-06-09T14:09:24.452Z"
   },
   {
    "duration": 22336,
    "start_time": "2022-06-09T14:09:31.180Z"
   },
   {
    "duration": 3654,
    "start_time": "2022-06-09T14:10:01.558Z"
   },
   {
    "duration": 3,
    "start_time": "2022-06-09T14:10:11.996Z"
   },
   {
    "duration": 6,
    "start_time": "2022-06-09T14:10:13.269Z"
   },
   {
    "duration": 873571,
    "start_time": "2022-06-09T14:10:13.790Z"
   },
   {
    "duration": 14,
    "start_time": "2022-06-09T14:31:49.500Z"
   },
   {
    "duration": 19,
    "start_time": "2022-06-09T14:31:55.764Z"
   },
   {
    "duration": 8,
    "start_time": "2022-06-09T14:35:26.603Z"
   },
   {
    "duration": 647,
    "start_time": "2022-06-09T14:35:38.105Z"
   },
   {
    "duration": 892,
    "start_time": "2022-06-09T14:36:20.292Z"
   },
   {
    "duration": 715,
    "start_time": "2022-06-09T14:36:27.202Z"
   },
   {
    "duration": 610,
    "start_time": "2022-06-09T14:36:32.393Z"
   },
   {
    "duration": 4,
    "start_time": "2022-06-09T14:48:13.044Z"
   },
   {
    "duration": 78,
    "start_time": "2022-06-09T14:48:13.051Z"
   },
   {
    "duration": 13,
    "start_time": "2022-06-09T14:48:13.130Z"
   },
   {
    "duration": 8,
    "start_time": "2022-06-09T14:48:13.145Z"
   },
   {
    "duration": 5,
    "start_time": "2022-06-09T14:48:13.154Z"
   },
   {
    "duration": 8,
    "start_time": "2022-06-09T14:48:13.160Z"
   },
   {
    "duration": 28,
    "start_time": "2022-06-09T14:48:13.170Z"
   },
   {
    "duration": 10,
    "start_time": "2022-06-09T14:48:13.200Z"
   },
   {
    "duration": 8,
    "start_time": "2022-06-09T14:48:14.397Z"
   },
   {
    "duration": 12,
    "start_time": "2022-06-09T14:48:27.501Z"
   },
   {
    "duration": 7,
    "start_time": "2022-06-09T14:49:50.061Z"
   },
   {
    "duration": 4,
    "start_time": "2022-06-09T14:49:56.100Z"
   },
   {
    "duration": 65,
    "start_time": "2022-06-09T14:49:56.106Z"
   },
   {
    "duration": 17,
    "start_time": "2022-06-09T14:49:56.173Z"
   },
   {
    "duration": 13,
    "start_time": "2022-06-09T14:49:56.193Z"
   },
   {
    "duration": 5,
    "start_time": "2022-06-09T14:49:56.208Z"
   },
   {
    "duration": 5,
    "start_time": "2022-06-09T14:49:56.215Z"
   },
   {
    "duration": 7,
    "start_time": "2022-06-09T14:49:56.221Z"
   },
   {
    "duration": 10,
    "start_time": "2022-06-09T14:49:56.229Z"
   },
   {
    "duration": 6,
    "start_time": "2022-06-09T14:49:56.241Z"
   },
   {
    "duration": 272,
    "start_time": "2022-06-09T14:49:56.250Z"
   },
   {
    "duration": 5,
    "start_time": "2022-06-09T14:49:56.524Z"
   },
   {
    "duration": 291,
    "start_time": "2022-06-09T14:49:56.531Z"
   },
   {
    "duration": 5,
    "start_time": "2022-06-09T14:49:56.824Z"
   },
   {
    "duration": 20,
    "start_time": "2022-06-09T14:49:56.830Z"
   },
   {
    "duration": 0,
    "start_time": "2022-06-09T14:49:56.852Z"
   },
   {
    "duration": 0,
    "start_time": "2022-06-09T14:49:56.853Z"
   },
   {
    "duration": 0,
    "start_time": "2022-06-09T14:49:56.865Z"
   },
   {
    "duration": 0,
    "start_time": "2022-06-09T14:49:56.866Z"
   },
   {
    "duration": 0,
    "start_time": "2022-06-09T14:49:56.869Z"
   },
   {
    "duration": 0,
    "start_time": "2022-06-09T14:49:56.870Z"
   },
   {
    "duration": 0,
    "start_time": "2022-06-09T14:49:56.870Z"
   },
   {
    "duration": 0,
    "start_time": "2022-06-09T14:49:56.872Z"
   },
   {
    "duration": 0,
    "start_time": "2022-06-09T14:49:56.873Z"
   },
   {
    "duration": 0,
    "start_time": "2022-06-09T14:49:56.874Z"
   },
   {
    "duration": 0,
    "start_time": "2022-06-09T14:49:56.875Z"
   },
   {
    "duration": 0,
    "start_time": "2022-06-09T14:49:56.875Z"
   },
   {
    "duration": 798,
    "start_time": "2022-06-09T14:49:58.006Z"
   },
   {
    "duration": 921,
    "start_time": "2022-06-09T14:50:00.994Z"
   },
   {
    "duration": 5,
    "start_time": "2022-06-09T14:50:05.840Z"
   },
   {
    "duration": 11007,
    "start_time": "2022-06-09T14:50:07.148Z"
   },
   {
    "duration": 5,
    "start_time": "2022-06-09T14:53:46.410Z"
   },
   {
    "duration": 75,
    "start_time": "2022-06-09T14:53:46.418Z"
   },
   {
    "duration": 22,
    "start_time": "2022-06-09T14:53:46.495Z"
   },
   {
    "duration": 10,
    "start_time": "2022-06-09T14:53:46.519Z"
   },
   {
    "duration": 10,
    "start_time": "2022-06-09T14:53:46.532Z"
   },
   {
    "duration": 7,
    "start_time": "2022-06-09T14:53:46.544Z"
   },
   {
    "duration": 34,
    "start_time": "2022-06-09T14:53:46.554Z"
   },
   {
    "duration": 39,
    "start_time": "2022-06-09T14:53:46.590Z"
   },
   {
    "duration": 428,
    "start_time": "2022-06-09T14:53:46.631Z"
   },
   {
    "duration": 13,
    "start_time": "2022-06-09T14:53:47.064Z"
   },
   {
    "duration": 369,
    "start_time": "2022-06-09T14:53:47.080Z"
   },
   {
    "duration": 4,
    "start_time": "2022-06-09T14:53:47.451Z"
   },
   {
    "duration": 870,
    "start_time": "2022-06-09T14:53:47.457Z"
   },
   {
    "duration": 220,
    "start_time": "2022-06-09T14:53:48.328Z"
   },
   {
    "duration": 5,
    "start_time": "2022-06-09T14:53:48.550Z"
   },
   {
    "duration": 58,
    "start_time": "2022-06-09T14:53:48.558Z"
   },
   {
    "duration": 5,
    "start_time": "2022-06-09T14:53:48.617Z"
   },
   {
    "duration": 31,
    "start_time": "2022-06-09T14:53:48.623Z"
   },
   {
    "duration": 3,
    "start_time": "2022-06-09T14:53:48.657Z"
   },
   {
    "duration": 28,
    "start_time": "2022-06-09T14:54:02.461Z"
   },
   {
    "duration": 30,
    "start_time": "2022-06-09T14:54:03.992Z"
   },
   {
    "duration": 13,
    "start_time": "2022-06-09T14:54:07.259Z"
   },
   {
    "duration": 17,
    "start_time": "2022-06-09T14:54:09.330Z"
   },
   {
    "duration": 5,
    "start_time": "2022-06-09T14:54:09.563Z"
   },
   {
    "duration": 4,
    "start_time": "2022-06-09T14:54:09.946Z"
   },
   {
    "duration": 747,
    "start_time": "2022-06-09T14:54:13.030Z"
   },
   {
    "duration": 839,
    "start_time": "2022-06-09T14:54:15.590Z"
   },
   {
    "duration": 5,
    "start_time": "2022-06-09T14:54:24.394Z"
   },
   {
    "duration": 28625,
    "start_time": "2022-06-09T14:54:30.861Z"
   },
   {
    "duration": 5,
    "start_time": "2022-06-09T14:55:04.194Z"
   },
   {
    "duration": 5,
    "start_time": "2022-06-09T14:55:21.627Z"
   },
   {
    "duration": 6,
    "start_time": "2022-06-09T14:55:23.229Z"
   },
   {
    "duration": 6,
    "start_time": "2022-06-09T14:55:31.713Z"
   },
   {
    "duration": 81,
    "start_time": "2022-06-09T14:55:31.721Z"
   },
   {
    "duration": 16,
    "start_time": "2022-06-09T14:55:31.805Z"
   },
   {
    "duration": 36,
    "start_time": "2022-06-09T14:55:31.823Z"
   },
   {
    "duration": 29,
    "start_time": "2022-06-09T14:55:31.861Z"
   },
   {
    "duration": 26,
    "start_time": "2022-06-09T14:55:31.892Z"
   },
   {
    "duration": 8,
    "start_time": "2022-06-09T14:55:31.920Z"
   },
   {
    "duration": 11,
    "start_time": "2022-06-09T14:55:31.929Z"
   },
   {
    "duration": 390,
    "start_time": "2022-06-09T14:55:31.943Z"
   },
   {
    "duration": 5,
    "start_time": "2022-06-09T14:55:32.334Z"
   },
   {
    "duration": 308,
    "start_time": "2022-06-09T14:55:32.341Z"
   },
   {
    "duration": 4,
    "start_time": "2022-06-09T14:55:32.651Z"
   },
   {
    "duration": 763,
    "start_time": "2022-06-09T14:55:32.657Z"
   },
   {
    "duration": 286,
    "start_time": "2022-06-09T14:55:33.422Z"
   },
   {
    "duration": 6,
    "start_time": "2022-06-09T14:55:33.710Z"
   },
   {
    "duration": 25,
    "start_time": "2022-06-09T14:55:33.718Z"
   },
   {
    "duration": 26,
    "start_time": "2022-06-09T14:55:33.745Z"
   },
   {
    "duration": 39,
    "start_time": "2022-06-09T14:55:33.775Z"
   },
   {
    "duration": 2,
    "start_time": "2022-06-09T14:55:33.815Z"
   },
   {
    "duration": 8,
    "start_time": "2022-06-09T14:55:34.946Z"
   },
   {
    "duration": 36,
    "start_time": "2022-06-09T14:55:37.346Z"
   },
   {
    "duration": 20,
    "start_time": "2022-06-09T14:55:40.084Z"
   },
   {
    "duration": 23,
    "start_time": "2022-06-09T14:55:41.954Z"
   },
   {
    "duration": 4,
    "start_time": "2022-06-09T14:55:43.058Z"
   },
   {
    "duration": 6,
    "start_time": "2022-06-09T14:55:43.286Z"
   },
   {
    "duration": 527,
    "start_time": "2022-06-09T14:55:44.939Z"
   },
   {
    "duration": 862,
    "start_time": "2022-06-09T14:55:47.850Z"
   },
   {
    "duration": 6,
    "start_time": "2022-06-09T14:55:49.998Z"
   },
   {
    "duration": 28744,
    "start_time": "2022-06-09T14:55:52.194Z"
   },
   {
    "duration": 5,
    "start_time": "2022-06-09T14:56:20.940Z"
   },
   {
    "duration": 5,
    "start_time": "2022-06-09T14:56:28.190Z"
   },
   {
    "duration": 3,
    "start_time": "2022-06-09T14:56:32.044Z"
   },
   {
    "duration": 3,
    "start_time": "2022-06-09T14:56:32.946Z"
   },
   {
    "duration": 869842,
    "start_time": "2022-06-09T14:56:34.114Z"
   },
   {
    "duration": 8,
    "start_time": "2022-06-09T15:11:03.958Z"
   },
   {
    "duration": 407,
    "start_time": "2022-06-09T15:11:44.340Z"
   },
   {
    "duration": 489,
    "start_time": "2022-06-09T15:12:03.108Z"
   },
   {
    "duration": 41,
    "start_time": "2022-06-09T15:12:48.376Z"
   },
   {
    "duration": 11,
    "start_time": "2022-06-09T15:12:52.812Z"
   },
   {
    "duration": 239,
    "start_time": "2022-06-09T15:12:58.062Z"
   },
   {
    "duration": 876,
    "start_time": "2022-06-09T15:13:08.116Z"
   },
   {
    "duration": 15,
    "start_time": "2022-06-09T15:13:40.108Z"
   },
   {
    "duration": 10,
    "start_time": "2022-06-09T15:13:58.486Z"
   },
   {
    "duration": 28,
    "start_time": "2022-06-09T15:14:05.596Z"
   },
   {
    "duration": 14,
    "start_time": "2022-06-09T15:14:11.259Z"
   },
   {
    "duration": 27,
    "start_time": "2022-06-09T15:14:13.140Z"
   },
   {
    "duration": 8,
    "start_time": "2022-06-09T15:14:15.830Z"
   },
   {
    "duration": 26,
    "start_time": "2022-06-09T15:14:17.131Z"
   },
   {
    "duration": 10,
    "start_time": "2022-06-09T15:14:18.811Z"
   },
   {
    "duration": 828,
    "start_time": "2022-06-09T15:14:23.155Z"
   },
   {
    "duration": 903,
    "start_time": "2022-06-09T15:14:26.790Z"
   },
   {
    "duration": 5,
    "start_time": "2022-06-09T15:14:29.155Z"
   },
   {
    "duration": 15,
    "start_time": "2022-06-09T15:14:31.748Z"
   },
   {
    "duration": 29449,
    "start_time": "2022-06-09T15:14:37.355Z"
   },
   {
    "duration": 5,
    "start_time": "2022-06-09T15:15:06.806Z"
   },
   {
    "duration": 3,
    "start_time": "2022-06-09T15:15:16.227Z"
   },
   {
    "duration": 4,
    "start_time": "2022-06-09T15:15:17.042Z"
   },
   {
    "duration": 837546,
    "start_time": "2022-06-09T15:15:18.563Z"
   },
   {
    "duration": 5,
    "start_time": "2022-06-09T15:29:16.112Z"
   },
   {
    "duration": 394,
    "start_time": "2022-06-09T15:29:16.119Z"
   },
   {
    "duration": 7,
    "start_time": "2022-06-09T15:29:44.852Z"
   },
   {
    "duration": 34,
    "start_time": "2022-06-09T15:29:46.778Z"
   },
   {
    "duration": 3,
    "start_time": "2022-06-09T15:29:52.459Z"
   },
   {
    "duration": 98,
    "start_time": "2022-06-09T15:29:52.464Z"
   },
   {
    "duration": 27,
    "start_time": "2022-06-09T15:29:52.563Z"
   },
   {
    "duration": 18,
    "start_time": "2022-06-09T15:29:52.594Z"
   },
   {
    "duration": 11,
    "start_time": "2022-06-09T15:29:52.614Z"
   },
   {
    "duration": 7,
    "start_time": "2022-06-09T15:29:52.627Z"
   },
   {
    "duration": 6,
    "start_time": "2022-06-09T15:29:52.636Z"
   },
   {
    "duration": 11,
    "start_time": "2022-06-09T15:29:52.644Z"
   },
   {
    "duration": 262,
    "start_time": "2022-06-09T15:29:52.658Z"
   },
   {
    "duration": 6,
    "start_time": "2022-06-09T15:29:52.922Z"
   },
   {
    "duration": 306,
    "start_time": "2022-06-09T15:29:52.930Z"
   },
   {
    "duration": 4,
    "start_time": "2022-06-09T15:29:53.238Z"
   },
   {
    "duration": 764,
    "start_time": "2022-06-09T15:29:53.244Z"
   },
   {
    "duration": 213,
    "start_time": "2022-06-09T15:29:54.009Z"
   },
   {
    "duration": 3,
    "start_time": "2022-06-09T15:29:54.224Z"
   },
   {
    "duration": 15,
    "start_time": "2022-06-09T15:29:54.229Z"
   },
   {
    "duration": 4,
    "start_time": "2022-06-09T15:29:54.246Z"
   },
   {
    "duration": 38,
    "start_time": "2022-06-09T15:29:54.265Z"
   },
   {
    "duration": 2,
    "start_time": "2022-06-09T15:29:54.305Z"
   },
   {
    "duration": 9,
    "start_time": "2022-06-09T15:29:55.452Z"
   },
   {
    "duration": 34,
    "start_time": "2022-06-09T15:29:58.565Z"
   },
   {
    "duration": 16,
    "start_time": "2022-06-09T15:30:00.868Z"
   },
   {
    "duration": 14,
    "start_time": "2022-06-09T15:30:03.131Z"
   },
   {
    "duration": 4,
    "start_time": "2022-06-09T15:30:04.405Z"
   },
   {
    "duration": 4,
    "start_time": "2022-06-09T15:30:04.532Z"
   },
   {
    "duration": 580,
    "start_time": "2022-06-09T15:30:06.212Z"
   },
   {
    "duration": 900,
    "start_time": "2022-06-09T15:30:08.421Z"
   },
   {
    "duration": 6,
    "start_time": "2022-06-09T15:30:20.329Z"
   },
   {
    "duration": 19,
    "start_time": "2022-06-09T15:30:21.356Z"
   },
   {
    "duration": 238,
    "start_time": "2022-06-09T15:30:58.489Z"
   },
   {
    "duration": 5,
    "start_time": "2022-06-09T15:33:00.026Z"
   },
   {
    "duration": 118,
    "start_time": "2022-06-09T15:33:00.033Z"
   },
   {
    "duration": 24,
    "start_time": "2022-06-09T15:33:00.153Z"
   },
   {
    "duration": 26,
    "start_time": "2022-06-09T15:33:00.185Z"
   },
   {
    "duration": 31,
    "start_time": "2022-06-09T15:33:00.213Z"
   },
   {
    "duration": 50,
    "start_time": "2022-06-09T15:33:00.246Z"
   },
   {
    "duration": 23,
    "start_time": "2022-06-09T15:33:00.298Z"
   },
   {
    "duration": 23,
    "start_time": "2022-06-09T15:33:00.323Z"
   },
   {
    "duration": 403,
    "start_time": "2022-06-09T15:33:00.347Z"
   },
   {
    "duration": 19,
    "start_time": "2022-06-09T15:33:00.753Z"
   },
   {
    "duration": 337,
    "start_time": "2022-06-09T15:33:00.782Z"
   },
   {
    "duration": 4,
    "start_time": "2022-06-09T15:33:01.121Z"
   },
   {
    "duration": 790,
    "start_time": "2022-06-09T15:33:01.127Z"
   },
   {
    "duration": 218,
    "start_time": "2022-06-09T15:33:01.919Z"
   },
   {
    "duration": 3,
    "start_time": "2022-06-09T15:33:02.139Z"
   },
   {
    "duration": 63,
    "start_time": "2022-06-09T15:33:02.143Z"
   },
   {
    "duration": 18,
    "start_time": "2022-06-09T15:33:02.208Z"
   },
   {
    "duration": 48,
    "start_time": "2022-06-09T15:33:02.228Z"
   },
   {
    "duration": 23,
    "start_time": "2022-06-09T15:33:02.278Z"
   },
   {
    "duration": 29,
    "start_time": "2022-06-09T15:33:02.303Z"
   },
   {
    "duration": 11,
    "start_time": "2022-06-09T15:33:32.515Z"
   },
   {
    "duration": 14,
    "start_time": "2022-06-09T15:33:41.726Z"
   },
   {
    "duration": 11,
    "start_time": "2022-06-09T15:34:10.611Z"
   },
   {
    "duration": 15,
    "start_time": "2022-06-09T15:34:41.930Z"
   },
   {
    "duration": 13,
    "start_time": "2022-06-09T15:34:55.546Z"
   },
   {
    "duration": 28,
    "start_time": "2022-06-09T15:35:07.254Z"
   },
   {
    "duration": 64,
    "start_time": "2022-06-09T15:36:07.397Z"
   },
   {
    "duration": 16,
    "start_time": "2022-06-09T15:36:53.138Z"
   },
   {
    "duration": 38,
    "start_time": "2022-06-09T15:37:19.562Z"
   },
   {
    "duration": 14,
    "start_time": "2022-06-09T15:37:44.602Z"
   },
   {
    "duration": 31,
    "start_time": "2022-06-09T15:37:57.361Z"
   },
   {
    "duration": 19,
    "start_time": "2022-06-09T15:39:09.792Z"
   },
   {
    "duration": 24,
    "start_time": "2022-06-09T15:39:19.293Z"
   },
   {
    "duration": 9,
    "start_time": "2022-06-09T15:39:28.041Z"
   },
   {
    "duration": 33,
    "start_time": "2022-06-09T15:39:38.170Z"
   },
   {
    "duration": 19,
    "start_time": "2022-06-09T15:39:41.657Z"
   },
   {
    "duration": 17,
    "start_time": "2022-06-09T15:39:43.480Z"
   },
   {
    "duration": 5,
    "start_time": "2022-06-09T15:39:44.487Z"
   },
   {
    "duration": 4,
    "start_time": "2022-06-09T15:39:44.639Z"
   },
   {
    "duration": 642,
    "start_time": "2022-06-09T15:39:46.064Z"
   },
   {
    "duration": 923,
    "start_time": "2022-06-09T15:39:48.531Z"
   },
   {
    "duration": 5,
    "start_time": "2022-06-09T15:39:54.336Z"
   },
   {
    "duration": 25,
    "start_time": "2022-06-09T15:39:55.484Z"
   },
   {
    "duration": 30353,
    "start_time": "2022-06-09T15:39:59.692Z"
   },
   {
    "duration": 22,
    "start_time": "2022-06-09T15:40:48.903Z"
   },
   {
    "duration": 6,
    "start_time": "2022-06-09T15:40:53.090Z"
   },
   {
    "duration": 74,
    "start_time": "2022-06-09T15:40:53.098Z"
   },
   {
    "duration": 18,
    "start_time": "2022-06-09T15:40:53.178Z"
   },
   {
    "duration": 33,
    "start_time": "2022-06-09T15:40:53.198Z"
   },
   {
    "duration": 28,
    "start_time": "2022-06-09T15:40:53.233Z"
   },
   {
    "duration": 32,
    "start_time": "2022-06-09T15:40:53.263Z"
   },
   {
    "duration": 41,
    "start_time": "2022-06-09T15:40:53.297Z"
   },
   {
    "duration": 27,
    "start_time": "2022-06-09T15:40:53.340Z"
   },
   {
    "duration": 284,
    "start_time": "2022-06-09T15:40:53.370Z"
   },
   {
    "duration": 21,
    "start_time": "2022-06-09T15:40:53.657Z"
   },
   {
    "duration": 305,
    "start_time": "2022-06-09T15:40:53.688Z"
   },
   {
    "duration": 3,
    "start_time": "2022-06-09T15:40:53.995Z"
   },
   {
    "duration": 819,
    "start_time": "2022-06-09T15:40:54.000Z"
   },
   {
    "duration": 200,
    "start_time": "2022-06-09T15:40:54.821Z"
   },
   {
    "duration": 4,
    "start_time": "2022-06-09T15:40:55.023Z"
   },
   {
    "duration": 31,
    "start_time": "2022-06-09T15:40:55.028Z"
   },
   {
    "duration": 12,
    "start_time": "2022-06-09T15:40:55.061Z"
   },
   {
    "duration": 45,
    "start_time": "2022-06-09T15:40:55.075Z"
   },
   {
    "duration": 2,
    "start_time": "2022-06-09T15:40:55.122Z"
   },
   {
    "duration": 23,
    "start_time": "2022-06-09T15:40:55.126Z"
   },
   {
    "duration": 19,
    "start_time": "2022-06-09T15:40:57.174Z"
   },
   {
    "duration": 24,
    "start_time": "2022-06-09T15:41:05.400Z"
   },
   {
    "duration": 10,
    "start_time": "2022-06-09T15:41:12.600Z"
   },
   {
    "duration": 33,
    "start_time": "2022-06-09T15:41:17.104Z"
   },
   {
    "duration": 15,
    "start_time": "2022-06-09T15:41:19.088Z"
   },
   {
    "duration": 560,
    "start_time": "2022-06-09T15:41:22.713Z"
   },
   {
    "duration": 842,
    "start_time": "2022-06-09T15:41:24.953Z"
   },
   {
    "duration": 14,
    "start_time": "2022-06-09T15:41:33.512Z"
   },
   {
    "duration": 28758,
    "start_time": "2022-06-09T15:41:53.416Z"
   },
   {
    "duration": 4,
    "start_time": "2022-06-09T15:42:22.178Z"
   },
   {
    "duration": 29,
    "start_time": "2022-06-09T15:42:22.183Z"
   },
   {
    "duration": 793237,
    "start_time": "2022-06-09T15:42:22.214Z"
   },
   {
    "duration": 5,
    "start_time": "2022-06-09T15:55:35.453Z"
   },
   {
    "duration": 869,
    "start_time": "2022-06-09T15:56:00.144Z"
   },
   {
    "duration": 4,
    "start_time": "2022-06-09T15:56:31.648Z"
   },
   {
    "duration": 1817652,
    "start_time": "2022-06-09T15:56:34.293Z"
   },
   {
    "duration": 9,
    "start_time": "2022-06-09T16:26:51.947Z"
   },
   {
    "duration": 3,
    "start_time": "2022-06-09T16:26:55.893Z"
   },
   {
    "duration": 625,
    "start_time": "2022-06-09T16:26:56.403Z"
   },
   {
    "duration": 7,
    "start_time": "2022-06-09T16:27:41.851Z"
   },
   {
    "duration": 5,
    "start_time": "2022-06-09T16:27:42.474Z"
   },
   {
    "duration": 1133399,
    "start_time": "2022-06-09T16:27:42.992Z"
   },
   {
    "duration": 12,
    "start_time": "2022-06-09T16:46:36.393Z"
   },
   {
    "duration": 1475,
    "start_time": "2022-06-09T16:47:01.756Z"
   },
   {
    "duration": 71,
    "start_time": "2022-06-09T16:47:03.234Z"
   },
   {
    "duration": 12,
    "start_time": "2022-06-09T16:47:03.307Z"
   },
   {
    "duration": 16,
    "start_time": "2022-06-09T16:47:03.321Z"
   },
   {
    "duration": 36,
    "start_time": "2022-06-09T16:47:03.339Z"
   },
   {
    "duration": 12,
    "start_time": "2022-06-09T16:47:03.376Z"
   },
   {
    "duration": 18,
    "start_time": "2022-06-09T16:47:03.389Z"
   },
   {
    "duration": 23,
    "start_time": "2022-06-09T16:47:03.409Z"
   },
   {
    "duration": 302,
    "start_time": "2022-06-09T16:47:03.434Z"
   },
   {
    "duration": 6,
    "start_time": "2022-06-09T16:47:03.739Z"
   },
   {
    "duration": 389,
    "start_time": "2022-06-09T16:47:03.746Z"
   },
   {
    "duration": 4,
    "start_time": "2022-06-09T16:47:04.136Z"
   },
   {
    "duration": 747,
    "start_time": "2022-06-09T16:47:04.142Z"
   },
   {
    "duration": 197,
    "start_time": "2022-06-09T16:47:04.891Z"
   },
   {
    "duration": 4,
    "start_time": "2022-06-09T16:47:05.090Z"
   },
   {
    "duration": 30,
    "start_time": "2022-06-09T16:47:05.097Z"
   },
   {
    "duration": 4,
    "start_time": "2022-06-09T16:47:05.129Z"
   },
   {
    "duration": 57,
    "start_time": "2022-06-09T16:47:05.134Z"
   },
   {
    "duration": 6,
    "start_time": "2022-06-09T16:47:05.192Z"
   },
   {
    "duration": 26,
    "start_time": "2022-06-09T16:47:05.200Z"
   },
   {
    "duration": 49,
    "start_time": "2022-06-09T16:47:05.227Z"
   },
   {
    "duration": 26,
    "start_time": "2022-06-09T16:47:05.279Z"
   },
   {
    "duration": 28,
    "start_time": "2022-06-09T16:47:05.307Z"
   },
   {
    "duration": 14,
    "start_time": "2022-06-09T16:47:05.337Z"
   },
   {
    "duration": 16,
    "start_time": "2022-06-09T16:47:05.353Z"
   },
   {
    "duration": 25,
    "start_time": "2022-06-09T16:47:05.378Z"
   },
   {
    "duration": 783,
    "start_time": "2022-06-09T16:47:05.405Z"
   },
   {
    "duration": 961,
    "start_time": "2022-06-09T16:47:06.280Z"
   },
   {
    "duration": 7,
    "start_time": "2022-06-09T16:47:07.243Z"
   },
   {
    "duration": 28,
    "start_time": "2022-06-09T16:47:07.252Z"
   },
   {
    "duration": 29008,
    "start_time": "2022-06-09T16:47:07.283Z"
   },
   {
    "duration": 5,
    "start_time": "2022-06-09T16:47:36.292Z"
   },
   {
    "duration": 6,
    "start_time": "2022-06-09T16:47:36.298Z"
   },
   {
    "duration": 5,
    "start_time": "2022-06-09T16:47:36.306Z"
   },
   {
    "duration": 734577,
    "start_time": "2022-06-09T16:47:36.313Z"
   },
   {
    "duration": 4,
    "start_time": "2022-06-09T16:59:50.892Z"
   },
   {
    "duration": 717,
    "start_time": "2022-06-09T16:59:50.898Z"
   },
   {
    "duration": 3,
    "start_time": "2022-06-09T16:59:51.617Z"
   },
   {
    "duration": 1341723,
    "start_time": "2022-06-09T16:59:51.621Z"
   },
   {
    "duration": 12,
    "start_time": "2022-06-09T17:22:13.347Z"
   },
   {
    "duration": 0,
    "start_time": "2022-06-09T17:22:13.361Z"
   },
   {
    "duration": 0,
    "start_time": "2022-06-09T17:22:13.363Z"
   },
   {
    "duration": 0,
    "start_time": "2022-06-09T17:22:13.368Z"
   },
   {
    "duration": 10,
    "start_time": "2022-06-09T17:22:59.507Z"
   },
   {
    "duration": 24,
    "start_time": "2022-06-09T17:24:25.707Z"
   },
   {
    "duration": 22,
    "start_time": "2022-06-09T17:24:30.730Z"
   },
   {
    "duration": 25,
    "start_time": "2022-06-09T17:24:50.662Z"
   },
   {
    "duration": 4,
    "start_time": "2022-06-09T17:24:52.511Z"
   },
   {
    "duration": 6,
    "start_time": "2022-06-09T17:25:03.580Z"
   },
   {
    "duration": 17,
    "start_time": "2022-06-09T17:25:11.484Z"
   },
   {
    "duration": 3,
    "start_time": "2022-06-09T17:25:20.134Z"
   },
   {
    "duration": 20,
    "start_time": "2022-06-09T17:25:32.880Z"
   },
   {
    "duration": 5,
    "start_time": "2022-06-09T17:25:37.118Z"
   },
   {
    "duration": 19,
    "start_time": "2022-06-09T17:25:48.792Z"
   },
   {
    "duration": 21,
    "start_time": "2022-06-09T17:26:41.150Z"
   },
   {
    "duration": 3,
    "start_time": "2022-06-09T17:26:51.358Z"
   },
   {
    "duration": 8,
    "start_time": "2022-06-09T17:26:51.791Z"
   },
   {
    "duration": 6,
    "start_time": "2022-06-09T17:27:16.809Z"
   },
   {
    "duration": 86,
    "start_time": "2022-06-09T17:27:16.817Z"
   },
   {
    "duration": 17,
    "start_time": "2022-06-09T17:27:16.906Z"
   },
   {
    "duration": 18,
    "start_time": "2022-06-09T17:27:16.925Z"
   },
   {
    "duration": 5,
    "start_time": "2022-06-09T17:27:16.946Z"
   },
   {
    "duration": 4,
    "start_time": "2022-06-09T17:27:16.953Z"
   },
   {
    "duration": 5,
    "start_time": "2022-06-09T17:27:16.976Z"
   },
   {
    "duration": 48,
    "start_time": "2022-06-09T17:27:16.985Z"
   },
   {
    "duration": 286,
    "start_time": "2022-06-09T17:27:17.035Z"
   },
   {
    "duration": 5,
    "start_time": "2022-06-09T17:27:17.323Z"
   },
   {
    "duration": 393,
    "start_time": "2022-06-09T17:27:17.330Z"
   },
   {
    "duration": 5,
    "start_time": "2022-06-09T17:27:17.725Z"
   },
   {
    "duration": 796,
    "start_time": "2022-06-09T17:27:17.731Z"
   },
   {
    "duration": 387,
    "start_time": "2022-06-09T17:27:18.530Z"
   },
   {
    "duration": 8,
    "start_time": "2022-06-09T17:27:18.921Z"
   },
   {
    "duration": 44,
    "start_time": "2022-06-09T17:27:18.933Z"
   },
   {
    "duration": 34,
    "start_time": "2022-06-09T17:27:18.982Z"
   },
   {
    "duration": 39,
    "start_time": "2022-06-09T17:27:19.018Z"
   },
   {
    "duration": 3,
    "start_time": "2022-06-09T17:27:19.060Z"
   },
   {
    "duration": 67,
    "start_time": "2022-06-09T17:27:19.065Z"
   },
   {
    "duration": 25,
    "start_time": "2022-06-09T17:27:21.638Z"
   },
   {
    "duration": 11,
    "start_time": "2022-06-09T17:27:26.209Z"
   },
   {
    "duration": 15,
    "start_time": "2022-06-09T17:27:29.641Z"
   },
   {
    "duration": 5,
    "start_time": "2022-06-09T17:27:31.691Z"
   },
   {
    "duration": 10,
    "start_time": "2022-06-09T17:27:31.885Z"
   },
   {
    "duration": 873,
    "start_time": "2022-06-09T17:27:34.092Z"
   },
   {
    "duration": 1061,
    "start_time": "2022-06-09T17:28:53.727Z"
   },
   {
    "duration": 12,
    "start_time": "2022-06-09T17:28:55.869Z"
   },
   {
    "duration": 31467,
    "start_time": "2022-06-09T17:28:59.894Z"
   },
   {
    "duration": 7,
    "start_time": "2022-06-09T17:29:31.363Z"
   },
   {
    "duration": 8,
    "start_time": "2022-06-09T17:29:44.723Z"
   },
   {
    "duration": 6,
    "start_time": "2022-06-09T17:29:45.106Z"
   },
   {
    "duration": 1059541,
    "start_time": "2022-06-09T17:29:45.813Z"
   },
   {
    "duration": 15,
    "start_time": "2022-06-09T17:47:25.357Z"
   },
   {
    "duration": 11,
    "start_time": "2022-06-09T17:48:22.999Z"
   },
   {
    "duration": 6,
    "start_time": "2022-06-09T17:48:23.995Z"
   },
   {
    "duration": 15,
    "start_time": "2022-06-09T17:48:25.502Z"
   },
   {
    "duration": 5,
    "start_time": "2022-06-09T17:48:26.312Z"
   },
   {
    "duration": 56,
    "start_time": "2022-06-09T17:48:28.688Z"
   },
   {
    "duration": 3,
    "start_time": "2022-06-09T17:48:33.494Z"
   },
   {
    "duration": 12,
    "start_time": "2022-06-09T17:48:35.118Z"
   },
   {
    "duration": 36,
    "start_time": "2022-06-09T17:48:35.807Z"
   },
   {
    "duration": 11,
    "start_time": "2022-06-09T17:48:38.136Z"
   },
   {
    "duration": 31,
    "start_time": "2022-06-09T17:48:40.090Z"
   },
   {
    "duration": 5,
    "start_time": "2022-06-09T17:48:41.050Z"
   },
   {
    "duration": 4,
    "start_time": "2022-06-09T17:48:41.244Z"
   },
   {
    "duration": 537,
    "start_time": "2022-06-09T17:48:45.585Z"
   },
   {
    "duration": 1013,
    "start_time": "2022-06-09T17:48:50.711Z"
   },
   {
    "duration": 7,
    "start_time": "2022-06-09T17:48:52.690Z"
   },
   {
    "duration": 36235,
    "start_time": "2022-06-09T17:48:54.530Z"
   },
   {
    "duration": 1757,
    "start_time": "2022-06-09T17:49:30.768Z"
   },
   {
    "duration": 7,
    "start_time": "2022-06-09T17:50:10.508Z"
   },
   {
    "duration": 3,
    "start_time": "2022-06-09T17:50:11.954Z"
   },
   {
    "duration": 4,
    "start_time": "2022-06-09T17:50:12.306Z"
   },
   {
    "duration": 11,
    "start_time": "2022-06-09T17:51:53.286Z"
   },
   {
    "duration": 98,
    "start_time": "2022-06-09T17:51:53.301Z"
   },
   {
    "duration": 17,
    "start_time": "2022-06-09T17:51:53.405Z"
   },
   {
    "duration": 14,
    "start_time": "2022-06-09T17:51:53.424Z"
   },
   {
    "duration": 8,
    "start_time": "2022-06-09T17:51:53.440Z"
   },
   {
    "duration": 9,
    "start_time": "2022-06-09T17:51:53.450Z"
   },
   {
    "duration": 42,
    "start_time": "2022-06-09T17:51:53.464Z"
   },
   {
    "duration": 15,
    "start_time": "2022-06-09T17:51:53.508Z"
   },
   {
    "duration": 306,
    "start_time": "2022-06-09T17:51:53.526Z"
   },
   {
    "duration": 7,
    "start_time": "2022-06-09T17:51:53.834Z"
   },
   {
    "duration": 395,
    "start_time": "2022-06-09T17:51:53.844Z"
   },
   {
    "duration": 4,
    "start_time": "2022-06-09T17:51:54.241Z"
   },
   {
    "duration": 1039,
    "start_time": "2022-06-09T17:51:54.248Z"
   },
   {
    "duration": 228,
    "start_time": "2022-06-09T17:51:55.294Z"
   },
   {
    "duration": 4,
    "start_time": "2022-06-09T17:51:55.525Z"
   },
   {
    "duration": 9,
    "start_time": "2022-06-09T17:51:55.532Z"
   },
   {
    "duration": 38,
    "start_time": "2022-06-09T17:51:55.543Z"
   },
   {
    "duration": 10,
    "start_time": "2022-06-09T17:51:55.593Z"
   },
   {
    "duration": 49,
    "start_time": "2022-06-09T17:51:55.610Z"
   },
   {
    "duration": 10,
    "start_time": "2022-06-09T17:51:55.661Z"
   },
   {
    "duration": 43,
    "start_time": "2022-06-09T17:51:55.673Z"
   },
   {
    "duration": 36,
    "start_time": "2022-06-09T17:51:55.718Z"
   },
   {
    "duration": 16,
    "start_time": "2022-06-09T17:51:55.757Z"
   },
   {
    "duration": 56,
    "start_time": "2022-06-09T17:51:55.775Z"
   },
   {
    "duration": 5,
    "start_time": "2022-06-09T17:51:55.834Z"
   },
   {
    "duration": 12,
    "start_time": "2022-06-09T17:51:55.841Z"
   },
   {
    "duration": 638,
    "start_time": "2022-06-09T17:51:55.854Z"
   },
   {
    "duration": 1137,
    "start_time": "2022-06-09T17:51:56.504Z"
   },
   {
    "duration": 18,
    "start_time": "2022-06-09T17:51:57.646Z"
   },
   {
    "duration": 36766,
    "start_time": "2022-06-09T17:51:57.670Z"
   },
   {
    "duration": 8,
    "start_time": "2022-06-09T17:52:34.439Z"
   },
   {
    "duration": 25,
    "start_time": "2022-06-09T17:52:34.449Z"
   },
   {
    "duration": 38,
    "start_time": "2022-06-09T17:52:34.482Z"
   },
   {
    "duration": 1387279,
    "start_time": "2022-06-09T17:52:34.523Z"
   },
   {
    "duration": 8,
    "start_time": "2022-06-09T18:16:56.247Z"
   },
   {
    "duration": 7,
    "start_time": "2022-06-09T18:16:59.630Z"
   },
   {
    "duration": 2327566,
    "start_time": "2022-06-09T18:17:00.351Z"
   },
   {
    "duration": 18,
    "start_time": "2022-06-09T18:55:47.919Z"
   },
   {
    "duration": 2111,
    "start_time": "2022-06-10T13:29:03.642Z"
   },
   {
    "duration": 183,
    "start_time": "2022-06-10T13:29:05.755Z"
   },
   {
    "duration": 15,
    "start_time": "2022-06-10T13:29:05.940Z"
   },
   {
    "duration": 16,
    "start_time": "2022-06-10T13:29:05.957Z"
   },
   {
    "duration": 12,
    "start_time": "2022-06-10T13:29:05.975Z"
   },
   {
    "duration": 6,
    "start_time": "2022-06-10T13:29:05.990Z"
   },
   {
    "duration": 12,
    "start_time": "2022-06-10T13:29:05.998Z"
   },
   {
    "duration": 12,
    "start_time": "2022-06-10T13:29:06.012Z"
   },
   {
    "duration": 297,
    "start_time": "2022-06-10T13:29:06.026Z"
   },
   {
    "duration": 7,
    "start_time": "2022-06-10T13:29:06.326Z"
   },
   {
    "duration": 447,
    "start_time": "2022-06-10T13:29:06.335Z"
   },
   {
    "duration": 4,
    "start_time": "2022-06-10T13:29:06.785Z"
   },
   {
    "duration": 888,
    "start_time": "2022-06-10T13:29:06.791Z"
   },
   {
    "duration": 223,
    "start_time": "2022-06-10T13:29:07.681Z"
   },
   {
    "duration": 4,
    "start_time": "2022-06-10T13:29:43.195Z"
   },
   {
    "duration": 14,
    "start_time": "2022-06-10T13:29:45.011Z"
   },
   {
    "duration": 5,
    "start_time": "2022-06-10T13:29:47.018Z"
   },
   {
    "duration": 28,
    "start_time": "2022-06-10T13:29:47.603Z"
   },
   {
    "duration": 7,
    "start_time": "2022-06-10T13:30:01.611Z"
   },
   {
    "duration": 37,
    "start_time": "2022-06-10T13:30:02.003Z"
   },
   {
    "duration": 10,
    "start_time": "2022-06-10T13:30:03.595Z"
   },
   {
    "duration": 15,
    "start_time": "2022-06-10T13:30:05.794Z"
   },
   {
    "duration": 9,
    "start_time": "2022-06-10T13:30:06.867Z"
   },
   {
    "duration": 5,
    "start_time": "2022-06-10T13:30:07.025Z"
   },
   {
    "duration": 556,
    "start_time": "2022-06-10T13:30:08.810Z"
   },
   {
    "duration": 1016,
    "start_time": "2022-06-10T13:30:10.890Z"
   },
   {
    "duration": 10,
    "start_time": "2022-06-10T13:30:13.642Z"
   },
   {
    "duration": 32625,
    "start_time": "2022-06-10T13:30:15.819Z"
   },
   {
    "duration": 13,
    "start_time": "2022-06-10T13:30:48.446Z"
   },
   {
    "duration": 3,
    "start_time": "2022-06-10T13:34:58.025Z"
   },
   {
    "duration": 3,
    "start_time": "2022-06-10T13:34:58.249Z"
   },
   {
    "duration": 777929,
    "start_time": "2022-06-10T13:34:59.289Z"
   },
   {
    "duration": 5,
    "start_time": "2022-06-10T13:47:57.220Z"
   },
   {
    "duration": 5,
    "start_time": "2022-06-10T13:48:03.563Z"
   },
   {
    "duration": 9273,
    "start_time": "2022-06-10T13:48:03.717Z"
   },
   {
    "duration": 3,
    "start_time": "2022-06-10T13:48:19.317Z"
   },
   {
    "duration": 45368,
    "start_time": "2022-06-10T13:48:20.030Z"
   },
   {
    "duration": 489,
    "start_time": "2022-06-10T13:51:16.523Z"
   },
   {
    "duration": 12,
    "start_time": "2022-06-10T13:51:46.218Z"
   },
   {
    "duration": 7,
    "start_time": "2022-06-10T13:51:49.763Z"
   },
   {
    "duration": 159,
    "start_time": "2022-06-10T13:51:49.773Z"
   },
   {
    "duration": 12,
    "start_time": "2022-06-10T13:51:49.934Z"
   },
   {
    "duration": 9,
    "start_time": "2022-06-10T13:51:49.948Z"
   },
   {
    "duration": 23,
    "start_time": "2022-06-10T13:51:49.959Z"
   },
   {
    "duration": 11,
    "start_time": "2022-06-10T13:51:49.984Z"
   },
   {
    "duration": 7,
    "start_time": "2022-06-10T13:51:49.997Z"
   },
   {
    "duration": 12,
    "start_time": "2022-06-10T13:51:50.006Z"
   },
   {
    "duration": 254,
    "start_time": "2022-06-10T13:51:50.020Z"
   },
   {
    "duration": 6,
    "start_time": "2022-06-10T13:51:50.277Z"
   },
   {
    "duration": 328,
    "start_time": "2022-06-10T13:51:50.285Z"
   },
   {
    "duration": 4,
    "start_time": "2022-06-10T13:51:50.615Z"
   },
   {
    "duration": 801,
    "start_time": "2022-06-10T13:51:50.621Z"
   },
   {
    "duration": 210,
    "start_time": "2022-06-10T13:51:51.424Z"
   },
   {
    "duration": 5,
    "start_time": "2022-06-10T13:51:51.635Z"
   },
   {
    "duration": 18,
    "start_time": "2022-06-10T13:51:52.669Z"
   },
   {
    "duration": 5,
    "start_time": "2022-06-10T13:51:53.962Z"
   },
   {
    "duration": 23,
    "start_time": "2022-06-10T13:51:54.807Z"
   },
   {
    "duration": 12,
    "start_time": "2022-06-10T13:53:07.386Z"
   },
   {
    "duration": 17,
    "start_time": "2022-06-10T13:53:12.059Z"
   },
   {
    "duration": 4,
    "start_time": "2022-06-10T13:53:13.579Z"
   },
   {
    "duration": 5,
    "start_time": "2022-06-10T13:53:14.810Z"
   },
   {
    "duration": 30,
    "start_time": "2022-06-10T13:53:17.531Z"
   },
   {
    "duration": 26,
    "start_time": "2022-06-10T13:53:18.965Z"
   },
   {
    "duration": 5,
    "start_time": "2022-06-10T13:53:32.082Z"
   },
   {
    "duration": 85,
    "start_time": "2022-06-10T13:53:32.089Z"
   },
   {
    "duration": 12,
    "start_time": "2022-06-10T13:53:32.175Z"
   },
   {
    "duration": 15,
    "start_time": "2022-06-10T13:53:32.189Z"
   },
   {
    "duration": 29,
    "start_time": "2022-06-10T13:53:32.205Z"
   },
   {
    "duration": 41,
    "start_time": "2022-06-10T13:53:32.236Z"
   },
   {
    "duration": 49,
    "start_time": "2022-06-10T13:53:32.279Z"
   },
   {
    "duration": 26,
    "start_time": "2022-06-10T13:53:32.329Z"
   },
   {
    "duration": 231,
    "start_time": "2022-06-10T13:53:32.357Z"
   },
   {
    "duration": 6,
    "start_time": "2022-06-10T13:53:32.591Z"
   },
   {
    "duration": 368,
    "start_time": "2022-06-10T13:53:32.599Z"
   },
   {
    "duration": 4,
    "start_time": "2022-06-10T13:53:32.969Z"
   },
   {
    "duration": 710,
    "start_time": "2022-06-10T13:53:32.974Z"
   },
   {
    "duration": 201,
    "start_time": "2022-06-10T13:53:33.686Z"
   },
   {
    "duration": 4,
    "start_time": "2022-06-10T13:53:33.889Z"
   },
   {
    "duration": 20,
    "start_time": "2022-06-10T13:53:33.894Z"
   },
   {
    "duration": 5,
    "start_time": "2022-06-10T13:53:33.916Z"
   },
   {
    "duration": 36,
    "start_time": "2022-06-10T13:53:33.922Z"
   },
   {
    "duration": 2,
    "start_time": "2022-06-10T13:53:33.960Z"
   },
   {
    "duration": 11,
    "start_time": "2022-06-10T13:53:33.964Z"
   },
   {
    "duration": 23,
    "start_time": "2022-06-10T13:53:33.976Z"
   },
   {
    "duration": 17,
    "start_time": "2022-06-10T13:53:34.000Z"
   },
   {
    "duration": 23,
    "start_time": "2022-06-10T13:53:34.020Z"
   },
   {
    "duration": 4,
    "start_time": "2022-06-10T13:53:34.059Z"
   },
   {
    "duration": 34,
    "start_time": "2022-06-10T13:53:34.064Z"
   },
   {
    "duration": 48,
    "start_time": "2022-06-10T13:53:35.042Z"
   },
   {
    "duration": 791,
    "start_time": "2022-06-10T13:53:38.634Z"
   },
   {
    "duration": 5,
    "start_time": "2022-06-10T13:53:40.746Z"
   },
   {
    "duration": 28125,
    "start_time": "2022-06-10T13:53:42.171Z"
   },
   {
    "duration": 6,
    "start_time": "2022-06-10T13:54:43.210Z"
   },
   {
    "duration": 3,
    "start_time": "2022-06-10T13:54:44.770Z"
   },
   {
    "duration": 3,
    "start_time": "2022-06-10T13:54:45.610Z"
   },
   {
    "duration": 13156,
    "start_time": "2022-06-10T13:54:46.617Z"
   },
   {
    "duration": 17,
    "start_time": "2022-06-10T13:54:59.775Z"
   },
   {
    "duration": 0,
    "start_time": "2022-06-10T13:54:59.794Z"
   },
   {
    "duration": 0,
    "start_time": "2022-06-10T13:54:59.795Z"
   },
   {
    "duration": 3,
    "start_time": "2022-06-10T13:55:08.530Z"
   },
   {
    "duration": 4,
    "start_time": "2022-06-10T13:55:08.762Z"
   },
   {
    "duration": 1404858,
    "start_time": "2022-06-10T13:55:09.019Z"
   },
   {
    "duration": 5,
    "start_time": "2022-06-10T14:18:33.879Z"
   },
   {
    "duration": 16,
    "start_time": "2022-06-10T14:18:33.886Z"
   },
   {
    "duration": 16,
    "start_time": "2022-06-10T14:18:33.904Z"
   },
   {
    "duration": 246940,
    "start_time": "2022-06-10T14:18:33.922Z"
   },
   {
    "duration": 5,
    "start_time": "2022-06-10T14:22:40.863Z"
   },
   {
    "duration": 18,
    "start_time": "2022-06-10T14:22:40.870Z"
   },
   {
    "duration": 9,
    "start_time": "2022-06-10T14:22:40.890Z"
   },
   {
    "duration": 115861,
    "start_time": "2022-06-10T14:22:40.901Z"
   },
   {
    "duration": 9,
    "start_time": "2022-06-10T14:24:36.764Z"
   },
   {
    "duration": 2,
    "start_time": "2022-06-10T14:24:36.775Z"
   },
   {
    "duration": 27,
    "start_time": "2022-06-10T14:24:36.779Z"
   },
   {
    "duration": 299,
    "start_time": "2022-06-10T14:36:47.371Z"
   },
   {
    "duration": 4,
    "start_time": "2022-06-10T14:36:55.186Z"
   },
   {
    "duration": 187,
    "start_time": "2022-06-10T14:36:56.186Z"
   },
   {
    "duration": 27,
    "start_time": "2022-06-10T14:39:24.875Z"
   },
   {
    "duration": 38,
    "start_time": "2022-06-10T14:39:50.866Z"
   },
   {
    "duration": 11,
    "start_time": "2022-06-10T14:40:02.338Z"
   },
   {
    "duration": 2994,
    "start_time": "2022-06-10T14:40:24.474Z"
   },
   {
    "duration": 25,
    "start_time": "2022-06-10T14:46:42.175Z"
   },
   {
    "duration": 7,
    "start_time": "2022-06-12T13:48:01.219Z"
   },
   {
    "duration": 1590,
    "start_time": "2022-06-12T13:48:10.423Z"
   },
   {
    "duration": 219,
    "start_time": "2022-06-12T13:48:12.015Z"
   },
   {
    "duration": 12,
    "start_time": "2022-06-12T13:48:12.236Z"
   },
   {
    "duration": 9,
    "start_time": "2022-06-12T13:48:12.250Z"
   },
   {
    "duration": 7,
    "start_time": "2022-06-12T13:48:12.260Z"
   },
   {
    "duration": 5,
    "start_time": "2022-06-12T13:48:12.268Z"
   },
   {
    "duration": 7,
    "start_time": "2022-06-12T13:48:12.275Z"
   },
   {
    "duration": 9,
    "start_time": "2022-06-12T13:48:12.284Z"
   },
   {
    "duration": 267,
    "start_time": "2022-06-12T13:48:12.294Z"
   },
   {
    "duration": 8,
    "start_time": "2022-06-12T13:48:12.565Z"
   },
   {
    "duration": 428,
    "start_time": "2022-06-12T13:48:12.575Z"
   },
   {
    "duration": 5,
    "start_time": "2022-06-12T13:48:13.005Z"
   },
   {
    "duration": 728,
    "start_time": "2022-06-12T13:48:13.012Z"
   },
   {
    "duration": 200,
    "start_time": "2022-06-12T13:48:13.741Z"
   },
   {
    "duration": 3,
    "start_time": "2022-06-12T13:48:13.943Z"
   },
   {
    "duration": 6,
    "start_time": "2022-06-12T13:48:13.948Z"
   },
   {
    "duration": 16,
    "start_time": "2022-06-12T13:48:13.955Z"
   },
   {
    "duration": 3,
    "start_time": "2022-06-12T13:48:13.973Z"
   },
   {
    "duration": 27,
    "start_time": "2022-06-12T13:48:13.978Z"
   },
   {
    "duration": 2,
    "start_time": "2022-06-12T13:48:14.007Z"
   },
   {
    "duration": 11,
    "start_time": "2022-06-12T13:48:14.023Z"
   },
   {
    "duration": 27,
    "start_time": "2022-06-12T13:48:14.036Z"
   },
   {
    "duration": 3309,
    "start_time": "2022-06-12T13:48:18.630Z"
   },
   {
    "duration": 4,
    "start_time": "2022-06-12T13:48:40.062Z"
   },
   {
    "duration": 66,
    "start_time": "2022-06-12T13:48:40.068Z"
   },
   {
    "duration": 12,
    "start_time": "2022-06-12T13:48:40.135Z"
   },
   {
    "duration": 9,
    "start_time": "2022-06-12T13:48:40.148Z"
   },
   {
    "duration": 6,
    "start_time": "2022-06-12T13:48:40.159Z"
   },
   {
    "duration": 5,
    "start_time": "2022-06-12T13:48:40.166Z"
   },
   {
    "duration": 6,
    "start_time": "2022-06-12T13:48:40.173Z"
   },
   {
    "duration": 9,
    "start_time": "2022-06-12T13:48:40.180Z"
   },
   {
    "duration": 351,
    "start_time": "2022-06-12T13:48:40.190Z"
   },
   {
    "duration": 5,
    "start_time": "2022-06-12T13:48:40.544Z"
   },
   {
    "duration": 257,
    "start_time": "2022-06-12T13:48:40.550Z"
   },
   {
    "duration": 4,
    "start_time": "2022-06-12T13:48:40.808Z"
   },
   {
    "duration": 687,
    "start_time": "2022-06-12T13:48:40.826Z"
   },
   {
    "duration": 181,
    "start_time": "2022-06-12T13:48:41.515Z"
   },
   {
    "duration": 2,
    "start_time": "2022-06-12T13:48:41.698Z"
   },
   {
    "duration": 24,
    "start_time": "2022-06-12T13:48:41.702Z"
   },
   {
    "duration": 13,
    "start_time": "2022-06-12T13:48:41.727Z"
   },
   {
    "duration": 3,
    "start_time": "2022-06-12T13:48:41.742Z"
   },
   {
    "duration": 23,
    "start_time": "2022-06-12T13:48:41.747Z"
   },
   {
    "duration": 2,
    "start_time": "2022-06-12T13:48:41.771Z"
   },
   {
    "duration": 7,
    "start_time": "2022-06-12T13:48:41.776Z"
   },
   {
    "duration": 49,
    "start_time": "2022-06-12T13:48:41.785Z"
   },
   {
    "duration": 10,
    "start_time": "2022-06-12T13:48:41.836Z"
   },
   {
    "duration": 13,
    "start_time": "2022-06-12T13:48:41.847Z"
   },
   {
    "duration": 3,
    "start_time": "2022-06-12T13:48:41.862Z"
   },
   {
    "duration": 6,
    "start_time": "2022-06-12T13:48:41.866Z"
   },
   {
    "duration": 80,
    "start_time": "2022-06-12T13:48:41.873Z"
   },
   {
    "duration": 952,
    "start_time": "2022-06-12T13:48:41.958Z"
   },
   {
    "duration": 11,
    "start_time": "2022-06-12T13:48:42.912Z"
   },
   {
    "duration": 25803,
    "start_time": "2022-06-12T13:48:42.924Z"
   },
   {
    "duration": 6,
    "start_time": "2022-06-12T13:49:08.731Z"
   },
   {
    "duration": 11,
    "start_time": "2022-06-12T13:49:08.743Z"
   },
   {
    "duration": 9,
    "start_time": "2022-06-12T13:49:08.756Z"
   },
   {
    "duration": 1405021,
    "start_time": "2022-06-12T13:49:08.767Z"
   },
   {
    "duration": 5,
    "start_time": "2022-06-12T14:12:33.790Z"
   },
   {
    "duration": 7,
    "start_time": "2022-06-12T14:12:33.797Z"
   },
   {
    "duration": 388233,
    "start_time": "2022-06-12T14:12:33.805Z"
   },
   {
    "duration": 6,
    "start_time": "2022-06-12T14:19:02.040Z"
   },
   {
    "duration": 421,
    "start_time": "2022-06-12T14:19:47.303Z"
   },
   {
    "duration": 523,
    "start_time": "2022-06-12T14:20:40.208Z"
   },
   {
    "duration": 17,
    "start_time": "2022-06-12T14:30:21.771Z"
   },
   {
    "duration": 3703,
    "start_time": "2022-06-18T17:51:49.968Z"
   },
   {
    "duration": 199,
    "start_time": "2022-06-18T17:51:53.673Z"
   },
   {
    "duration": 352,
    "start_time": "2022-06-18T17:52:00.918Z"
   },
   {
    "duration": 14,
    "start_time": "2022-06-18T17:52:07.354Z"
   },
   {
    "duration": 6,
    "start_time": "2022-06-18T17:52:17.192Z"
   },
   {
    "duration": 7,
    "start_time": "2022-06-18T17:52:24.194Z"
   },
   {
    "duration": 7,
    "start_time": "2022-06-18T17:52:33.922Z"
   },
   {
    "duration": 9,
    "start_time": "2022-06-18T17:52:37.396Z"
   },
   {
    "duration": 11,
    "start_time": "2022-06-18T17:52:39.913Z"
   },
   {
    "duration": 10,
    "start_time": "2022-06-18T17:52:44.301Z"
   },
   {
    "duration": 6,
    "start_time": "2022-06-18T17:52:47.601Z"
   },
   {
    "duration": 9,
    "start_time": "2022-06-18T17:52:49.706Z"
   },
   {
    "duration": 10,
    "start_time": "2022-06-18T17:52:53.825Z"
   },
   {
    "duration": 6,
    "start_time": "2022-06-18T17:53:03.884Z"
   },
   {
    "duration": 10,
    "start_time": "2022-06-18T17:54:37.117Z"
   },
   {
    "duration": 14,
    "start_time": "2022-06-18T17:54:37.754Z"
   },
   {
    "duration": 26,
    "start_time": "2022-06-18T17:54:54.151Z"
   },
   {
    "duration": 423,
    "start_time": "2022-06-18T17:55:06.517Z"
   },
   {
    "duration": 18,
    "start_time": "2022-06-18T17:55:14.686Z"
   },
   {
    "duration": 6,
    "start_time": "2022-06-18T17:55:59.990Z"
   },
   {
    "duration": 11,
    "start_time": "2022-06-18T17:56:03.754Z"
   }
  ],
  "kernelspec": {
   "display_name": "Python 3 (ipykernel)",
   "language": "python",
   "name": "python3"
  },
  "language_info": {
   "codemirror_mode": {
    "name": "ipython",
    "version": 3
   },
   "file_extension": ".py",
   "mimetype": "text/x-python",
   "name": "python",
   "nbconvert_exporter": "python",
   "pygments_lexer": "ipython3",
   "version": "3.7.8"
  },
  "toc": {
   "base_numbering": 1,
   "nav_menu": {},
   "number_sections": true,
   "sideBar": true,
   "skip_h1_title": true,
   "title_cell": "Содержание",
   "title_sidebar": "Contents",
   "toc_cell": true,
   "toc_position": {
    "height": "calc(100% - 180px)",
    "left": "10px",
    "top": "150px",
    "width": "219.306px"
   },
   "toc_section_display": true,
   "toc_window_display": true
  }
 },
 "nbformat": 4,
 "nbformat_minor": 2
}
