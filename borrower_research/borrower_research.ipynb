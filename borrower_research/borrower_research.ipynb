{
 "cells": [
  {
   "cell_type": "markdown",
   "metadata": {},
   "source": [
    "## Открываем файл с данными и изучаем общую информацию"
   ]
  },
  {
   "cell_type": "code",
   "execution_count": 76,
   "metadata": {},
   "outputs": [
    {
     "data": {
      "text/html": [
       "<div>\n",
       "<style scoped>\n",
       "    .dataframe tbody tr th:only-of-type {\n",
       "        vertical-align: middle;\n",
       "    }\n",
       "\n",
       "    .dataframe tbody tr th {\n",
       "        vertical-align: top;\n",
       "    }\n",
       "\n",
       "    .dataframe thead th {\n",
       "        text-align: right;\n",
       "    }\n",
       "</style>\n",
       "<table border=\"1\" class=\"dataframe\">\n",
       "  <thead>\n",
       "    <tr style=\"text-align: right;\">\n",
       "      <th></th>\n",
       "      <th>children</th>\n",
       "      <th>days_employed</th>\n",
       "      <th>dob_years</th>\n",
       "      <th>education</th>\n",
       "      <th>education_id</th>\n",
       "      <th>family_status</th>\n",
       "      <th>family_status_id</th>\n",
       "      <th>gender</th>\n",
       "      <th>income_type</th>\n",
       "      <th>debt</th>\n",
       "      <th>total_income</th>\n",
       "      <th>purpose</th>\n",
       "    </tr>\n",
       "  </thead>\n",
       "  <tbody>\n",
       "    <tr>\n",
       "      <td>0</td>\n",
       "      <td>1</td>\n",
       "      <td>-8437.673028</td>\n",
       "      <td>42</td>\n",
       "      <td>высшее</td>\n",
       "      <td>0</td>\n",
       "      <td>женат / замужем</td>\n",
       "      <td>0</td>\n",
       "      <td>F</td>\n",
       "      <td>сотрудник</td>\n",
       "      <td>0</td>\n",
       "      <td>253875.639453</td>\n",
       "      <td>покупка жилья</td>\n",
       "    </tr>\n",
       "    <tr>\n",
       "      <td>1</td>\n",
       "      <td>1</td>\n",
       "      <td>-4024.803754</td>\n",
       "      <td>36</td>\n",
       "      <td>среднее</td>\n",
       "      <td>1</td>\n",
       "      <td>женат / замужем</td>\n",
       "      <td>0</td>\n",
       "      <td>F</td>\n",
       "      <td>сотрудник</td>\n",
       "      <td>0</td>\n",
       "      <td>112080.014102</td>\n",
       "      <td>приобретение автомобиля</td>\n",
       "    </tr>\n",
       "    <tr>\n",
       "      <td>2</td>\n",
       "      <td>0</td>\n",
       "      <td>-5623.422610</td>\n",
       "      <td>33</td>\n",
       "      <td>Среднее</td>\n",
       "      <td>1</td>\n",
       "      <td>женат / замужем</td>\n",
       "      <td>0</td>\n",
       "      <td>M</td>\n",
       "      <td>сотрудник</td>\n",
       "      <td>0</td>\n",
       "      <td>145885.952297</td>\n",
       "      <td>покупка жилья</td>\n",
       "    </tr>\n",
       "    <tr>\n",
       "      <td>3</td>\n",
       "      <td>3</td>\n",
       "      <td>-4124.747207</td>\n",
       "      <td>32</td>\n",
       "      <td>среднее</td>\n",
       "      <td>1</td>\n",
       "      <td>женат / замужем</td>\n",
       "      <td>0</td>\n",
       "      <td>M</td>\n",
       "      <td>сотрудник</td>\n",
       "      <td>0</td>\n",
       "      <td>267628.550329</td>\n",
       "      <td>дополнительное образование</td>\n",
       "    </tr>\n",
       "    <tr>\n",
       "      <td>4</td>\n",
       "      <td>0</td>\n",
       "      <td>340266.072047</td>\n",
       "      <td>53</td>\n",
       "      <td>среднее</td>\n",
       "      <td>1</td>\n",
       "      <td>гражданский брак</td>\n",
       "      <td>1</td>\n",
       "      <td>F</td>\n",
       "      <td>пенсионер</td>\n",
       "      <td>0</td>\n",
       "      <td>158616.077870</td>\n",
       "      <td>сыграть свадьбу</td>\n",
       "    </tr>\n",
       "    <tr>\n",
       "      <td>5</td>\n",
       "      <td>0</td>\n",
       "      <td>-926.185831</td>\n",
       "      <td>27</td>\n",
       "      <td>высшее</td>\n",
       "      <td>0</td>\n",
       "      <td>гражданский брак</td>\n",
       "      <td>1</td>\n",
       "      <td>M</td>\n",
       "      <td>компаньон</td>\n",
       "      <td>0</td>\n",
       "      <td>255763.565419</td>\n",
       "      <td>покупка жилья</td>\n",
       "    </tr>\n",
       "    <tr>\n",
       "      <td>6</td>\n",
       "      <td>0</td>\n",
       "      <td>-2879.202052</td>\n",
       "      <td>43</td>\n",
       "      <td>высшее</td>\n",
       "      <td>0</td>\n",
       "      <td>женат / замужем</td>\n",
       "      <td>0</td>\n",
       "      <td>F</td>\n",
       "      <td>компаньон</td>\n",
       "      <td>0</td>\n",
       "      <td>240525.971920</td>\n",
       "      <td>операции с жильем</td>\n",
       "    </tr>\n",
       "    <tr>\n",
       "      <td>7</td>\n",
       "      <td>0</td>\n",
       "      <td>-152.779569</td>\n",
       "      <td>50</td>\n",
       "      <td>СРЕДНЕЕ</td>\n",
       "      <td>1</td>\n",
       "      <td>женат / замужем</td>\n",
       "      <td>0</td>\n",
       "      <td>M</td>\n",
       "      <td>сотрудник</td>\n",
       "      <td>0</td>\n",
       "      <td>135823.934197</td>\n",
       "      <td>образование</td>\n",
       "    </tr>\n",
       "    <tr>\n",
       "      <td>8</td>\n",
       "      <td>2</td>\n",
       "      <td>-6929.865299</td>\n",
       "      <td>35</td>\n",
       "      <td>ВЫСШЕЕ</td>\n",
       "      <td>0</td>\n",
       "      <td>гражданский брак</td>\n",
       "      <td>1</td>\n",
       "      <td>F</td>\n",
       "      <td>сотрудник</td>\n",
       "      <td>0</td>\n",
       "      <td>95856.832424</td>\n",
       "      <td>на проведение свадьбы</td>\n",
       "    </tr>\n",
       "    <tr>\n",
       "      <td>9</td>\n",
       "      <td>0</td>\n",
       "      <td>-2188.756445</td>\n",
       "      <td>41</td>\n",
       "      <td>среднее</td>\n",
       "      <td>1</td>\n",
       "      <td>женат / замужем</td>\n",
       "      <td>0</td>\n",
       "      <td>M</td>\n",
       "      <td>сотрудник</td>\n",
       "      <td>0</td>\n",
       "      <td>144425.938277</td>\n",
       "      <td>покупка жилья для семьи</td>\n",
       "    </tr>\n",
       "  </tbody>\n",
       "</table>\n",
       "</div>"
      ],
      "text/plain": [
       "   children  days_employed  dob_years education  education_id  \\\n",
       "0         1   -8437.673028         42    высшее             0   \n",
       "1         1   -4024.803754         36   среднее             1   \n",
       "2         0   -5623.422610         33   Среднее             1   \n",
       "3         3   -4124.747207         32   среднее             1   \n",
       "4         0  340266.072047         53   среднее             1   \n",
       "5         0    -926.185831         27    высшее             0   \n",
       "6         0   -2879.202052         43    высшее             0   \n",
       "7         0    -152.779569         50   СРЕДНЕЕ             1   \n",
       "8         2   -6929.865299         35    ВЫСШЕЕ             0   \n",
       "9         0   -2188.756445         41   среднее             1   \n",
       "\n",
       "      family_status  family_status_id gender income_type  debt   total_income  \\\n",
       "0   женат / замужем                 0      F   сотрудник     0  253875.639453   \n",
       "1   женат / замужем                 0      F   сотрудник     0  112080.014102   \n",
       "2   женат / замужем                 0      M   сотрудник     0  145885.952297   \n",
       "3   женат / замужем                 0      M   сотрудник     0  267628.550329   \n",
       "4  гражданский брак                 1      F   пенсионер     0  158616.077870   \n",
       "5  гражданский брак                 1      M   компаньон     0  255763.565419   \n",
       "6   женат / замужем                 0      F   компаньон     0  240525.971920   \n",
       "7   женат / замужем                 0      M   сотрудник     0  135823.934197   \n",
       "8  гражданский брак                 1      F   сотрудник     0   95856.832424   \n",
       "9   женат / замужем                 0      M   сотрудник     0  144425.938277   \n",
       "\n",
       "                      purpose  \n",
       "0               покупка жилья  \n",
       "1     приобретение автомобиля  \n",
       "2               покупка жилья  \n",
       "3  дополнительное образование  \n",
       "4             сыграть свадьбу  \n",
       "5               покупка жилья  \n",
       "6           операции с жильем  \n",
       "7                 образование  \n",
       "8       на проведение свадьбы  \n",
       "9     покупка жилья для семьи  "
      ]
     },
     "metadata": {},
     "output_type": "display_data"
    },
    {
     "name": "stdout",
     "output_type": "stream",
     "text": [
      "<class 'pandas.core.frame.DataFrame'>\n",
      "RangeIndex: 21525 entries, 0 to 21524\n",
      "Data columns (total 12 columns):\n",
      "children            21525 non-null int64\n",
      "days_employed       19351 non-null float64\n",
      "dob_years           21525 non-null int64\n",
      "education           21525 non-null object\n",
      "education_id        21525 non-null int64\n",
      "family_status       21525 non-null object\n",
      "family_status_id    21525 non-null int64\n",
      "gender              21525 non-null object\n",
      "income_type         21525 non-null object\n",
      "debt                21525 non-null int64\n",
      "total_income        19351 non-null float64\n",
      "purpose             21525 non-null object\n",
      "dtypes: float64(2), int64(5), object(5)\n",
      "memory usage: 2.0+ MB\n"
     ]
    }
   ],
   "source": [
    "import pandas as pd\n",
    "df = pd.read_csv('/datasets/data.csv')\n",
    "display(df.head(10))\n",
    "df.info()"
   ]
  },
  {
   "cell_type": "markdown",
   "metadata": {},
   "source": [
    "**Вывод**"
   ]
  },
  {
   "cell_type": "markdown",
   "metadata": {},
   "source": [
    "Первое, что бросается в глаза, это отрицательные и пропущенные значения в days_employed. days_employed(трудовой стаж) в некоторых ячейках указан в отрицательном диапазоне. А где указан положительно, то указан, видимо не в днях, а в час, может быть. Потому что, к примеру, клиент банка под номером 4 имеет стаж 340266 дней, это 932 года, а 340266 часов это почти 39 лет. А вот значения, со знаком минус, как раз, дни. \n",
    "\n",
    "Но лучше уточнять такие вопросы у тех, кто данные предоставляет. Нулевые значения встречаются, по всей видимости, по причине не внимательного заполнения данных менеджерами банка при обработке заявки на кредит.\n",
    "\n",
    "В столбце total_income тоже встречаются нулевые значения. Это. скорее всего, тоже ошибка при заполнении данных менеджерами банка. Человеческий фактор. Но при всех \"косяках\" в данных с ними можно работать.\n",
    "\n",
    "Еще, строковые значения в некоторых столбцах заполнены разынм регистром. Но эта проблема легко решается при предобработке данных (приводим все к одному регистру)."
   ]
  },
  {
   "cell_type": "markdown",
   "metadata": {},
   "source": [
    "## Предобработка данных"
   ]
  },
  {
   "cell_type": "markdown",
   "metadata": {},
   "source": [
    "### Обработка пропусков"
   ]
  },
  {
   "cell_type": "code",
   "execution_count": 77,
   "metadata": {
    "scrolled": false
   },
   "outputs": [
    {
     "data": {
      "text/plain": [
       "children               0\n",
       "days_employed       2174\n",
       "dob_years              0\n",
       "education              0\n",
       "education_id           0\n",
       "family_status          0\n",
       "family_status_id       0\n",
       "gender                 0\n",
       "income_type            0\n",
       "debt                   0\n",
       "total_income        2174\n",
       "purpose                0\n",
       "dtype: int64"
      ]
     },
     "execution_count": 77,
     "metadata": {},
     "output_type": "execute_result"
    }
   ],
   "source": [
    "df.isna().sum() #считаем, сколько есть пропусков и где они"
   ]
  },
  {
   "cell_type": "markdown",
   "metadata": {},
   "source": [
    "Получается, что в столбцах days_employed и total_income по 2174 пропуска в каждом, что было видно при вызове функции df.info(). Пропуски, как мне кажется, логичнее заменить медианой. Но чтобы это сделать, нужно снала привести столбец days_employed к показателю дни, и чтобы не былот отрицательдных значений.\n",
    "\n",
    "Возможно, пропуски появились по причине человеческого фактора. Ведь информацию о клиентах банка заполняют банковские менеджеры, а люди часто ошибаются."
   ]
  },
  {
   "cell_type": "code",
   "execution_count": 78,
   "metadata": {},
   "outputs": [
    {
     "data": {
      "text/html": [
       "<div>\n",
       "<style scoped>\n",
       "    .dataframe tbody tr th:only-of-type {\n",
       "        vertical-align: middle;\n",
       "    }\n",
       "\n",
       "    .dataframe tbody tr th {\n",
       "        vertical-align: top;\n",
       "    }\n",
       "\n",
       "    .dataframe thead th {\n",
       "        text-align: right;\n",
       "    }\n",
       "</style>\n",
       "<table border=\"1\" class=\"dataframe\">\n",
       "  <thead>\n",
       "    <tr style=\"text-align: right;\">\n",
       "      <th></th>\n",
       "      <th>children</th>\n",
       "      <th>days_employed</th>\n",
       "      <th>dob_years</th>\n",
       "      <th>education</th>\n",
       "      <th>education_id</th>\n",
       "      <th>family_status</th>\n",
       "      <th>family_status_id</th>\n",
       "      <th>gender</th>\n",
       "      <th>income_type</th>\n",
       "      <th>debt</th>\n",
       "      <th>total_income</th>\n",
       "      <th>purpose</th>\n",
       "    </tr>\n",
       "  </thead>\n",
       "  <tbody>\n",
       "    <tr>\n",
       "      <td>0</td>\n",
       "      <td>1</td>\n",
       "      <td>8437.673028</td>\n",
       "      <td>42</td>\n",
       "      <td>высшее</td>\n",
       "      <td>0</td>\n",
       "      <td>женат / замужем</td>\n",
       "      <td>0</td>\n",
       "      <td>F</td>\n",
       "      <td>сотрудник</td>\n",
       "      <td>0</td>\n",
       "      <td>253875.639453</td>\n",
       "      <td>покупка жилья</td>\n",
       "    </tr>\n",
       "    <tr>\n",
       "      <td>1</td>\n",
       "      <td>1</td>\n",
       "      <td>4024.803754</td>\n",
       "      <td>36</td>\n",
       "      <td>среднее</td>\n",
       "      <td>1</td>\n",
       "      <td>женат / замужем</td>\n",
       "      <td>0</td>\n",
       "      <td>F</td>\n",
       "      <td>сотрудник</td>\n",
       "      <td>0</td>\n",
       "      <td>112080.014102</td>\n",
       "      <td>приобретение автомобиля</td>\n",
       "    </tr>\n",
       "    <tr>\n",
       "      <td>2</td>\n",
       "      <td>0</td>\n",
       "      <td>5623.422610</td>\n",
       "      <td>33</td>\n",
       "      <td>Среднее</td>\n",
       "      <td>1</td>\n",
       "      <td>женат / замужем</td>\n",
       "      <td>0</td>\n",
       "      <td>M</td>\n",
       "      <td>сотрудник</td>\n",
       "      <td>0</td>\n",
       "      <td>145885.952297</td>\n",
       "      <td>покупка жилья</td>\n",
       "    </tr>\n",
       "    <tr>\n",
       "      <td>3</td>\n",
       "      <td>3</td>\n",
       "      <td>4124.747207</td>\n",
       "      <td>32</td>\n",
       "      <td>среднее</td>\n",
       "      <td>1</td>\n",
       "      <td>женат / замужем</td>\n",
       "      <td>0</td>\n",
       "      <td>M</td>\n",
       "      <td>сотрудник</td>\n",
       "      <td>0</td>\n",
       "      <td>267628.550329</td>\n",
       "      <td>дополнительное образование</td>\n",
       "    </tr>\n",
       "    <tr>\n",
       "      <td>4</td>\n",
       "      <td>0</td>\n",
       "      <td>14177.753002</td>\n",
       "      <td>53</td>\n",
       "      <td>среднее</td>\n",
       "      <td>1</td>\n",
       "      <td>гражданский брак</td>\n",
       "      <td>1</td>\n",
       "      <td>F</td>\n",
       "      <td>пенсионер</td>\n",
       "      <td>0</td>\n",
       "      <td>158616.077870</td>\n",
       "      <td>сыграть свадьбу</td>\n",
       "    </tr>\n",
       "    <tr>\n",
       "      <td>5</td>\n",
       "      <td>0</td>\n",
       "      <td>926.185831</td>\n",
       "      <td>27</td>\n",
       "      <td>высшее</td>\n",
       "      <td>0</td>\n",
       "      <td>гражданский брак</td>\n",
       "      <td>1</td>\n",
       "      <td>M</td>\n",
       "      <td>компаньон</td>\n",
       "      <td>0</td>\n",
       "      <td>255763.565419</td>\n",
       "      <td>покупка жилья</td>\n",
       "    </tr>\n",
       "    <tr>\n",
       "      <td>6</td>\n",
       "      <td>0</td>\n",
       "      <td>2879.202052</td>\n",
       "      <td>43</td>\n",
       "      <td>высшее</td>\n",
       "      <td>0</td>\n",
       "      <td>женат / замужем</td>\n",
       "      <td>0</td>\n",
       "      <td>F</td>\n",
       "      <td>компаньон</td>\n",
       "      <td>0</td>\n",
       "      <td>240525.971920</td>\n",
       "      <td>операции с жильем</td>\n",
       "    </tr>\n",
       "    <tr>\n",
       "      <td>7</td>\n",
       "      <td>0</td>\n",
       "      <td>152.779569</td>\n",
       "      <td>50</td>\n",
       "      <td>СРЕДНЕЕ</td>\n",
       "      <td>1</td>\n",
       "      <td>женат / замужем</td>\n",
       "      <td>0</td>\n",
       "      <td>M</td>\n",
       "      <td>сотрудник</td>\n",
       "      <td>0</td>\n",
       "      <td>135823.934197</td>\n",
       "      <td>образование</td>\n",
       "    </tr>\n",
       "    <tr>\n",
       "      <td>8</td>\n",
       "      <td>2</td>\n",
       "      <td>6929.865299</td>\n",
       "      <td>35</td>\n",
       "      <td>ВЫСШЕЕ</td>\n",
       "      <td>0</td>\n",
       "      <td>гражданский брак</td>\n",
       "      <td>1</td>\n",
       "      <td>F</td>\n",
       "      <td>сотрудник</td>\n",
       "      <td>0</td>\n",
       "      <td>95856.832424</td>\n",
       "      <td>на проведение свадьбы</td>\n",
       "    </tr>\n",
       "    <tr>\n",
       "      <td>9</td>\n",
       "      <td>0</td>\n",
       "      <td>2188.756445</td>\n",
       "      <td>41</td>\n",
       "      <td>среднее</td>\n",
       "      <td>1</td>\n",
       "      <td>женат / замужем</td>\n",
       "      <td>0</td>\n",
       "      <td>M</td>\n",
       "      <td>сотрудник</td>\n",
       "      <td>0</td>\n",
       "      <td>144425.938277</td>\n",
       "      <td>покупка жилья для семьи</td>\n",
       "    </tr>\n",
       "  </tbody>\n",
       "</table>\n",
       "</div>"
      ],
      "text/plain": [
       "   children  days_employed  dob_years education  education_id  \\\n",
       "0         1    8437.673028         42    высшее             0   \n",
       "1         1    4024.803754         36   среднее             1   \n",
       "2         0    5623.422610         33   Среднее             1   \n",
       "3         3    4124.747207         32   среднее             1   \n",
       "4         0   14177.753002         53   среднее             1   \n",
       "5         0     926.185831         27    высшее             0   \n",
       "6         0    2879.202052         43    высшее             0   \n",
       "7         0     152.779569         50   СРЕДНЕЕ             1   \n",
       "8         2    6929.865299         35    ВЫСШЕЕ             0   \n",
       "9         0    2188.756445         41   среднее             1   \n",
       "\n",
       "      family_status  family_status_id gender income_type  debt   total_income  \\\n",
       "0   женат / замужем                 0      F   сотрудник     0  253875.639453   \n",
       "1   женат / замужем                 0      F   сотрудник     0  112080.014102   \n",
       "2   женат / замужем                 0      M   сотрудник     0  145885.952297   \n",
       "3   женат / замужем                 0      M   сотрудник     0  267628.550329   \n",
       "4  гражданский брак                 1      F   пенсионер     0  158616.077870   \n",
       "5  гражданский брак                 1      M   компаньон     0  255763.565419   \n",
       "6   женат / замужем                 0      F   компаньон     0  240525.971920   \n",
       "7   женат / замужем                 0      M   сотрудник     0  135823.934197   \n",
       "8  гражданский брак                 1      F   сотрудник     0   95856.832424   \n",
       "9   женат / замужем                 0      M   сотрудник     0  144425.938277   \n",
       "\n",
       "                      purpose  \n",
       "0               покупка жилья  \n",
       "1     приобретение автомобиля  \n",
       "2               покупка жилья  \n",
       "3  дополнительное образование  \n",
       "4             сыграть свадьбу  \n",
       "5               покупка жилья  \n",
       "6           операции с жильем  \n",
       "7                 образование  \n",
       "8       на проведение свадьбы  \n",
       "9     покупка жилья для семьи  "
      ]
     },
     "metadata": {},
     "output_type": "display_data"
    }
   ],
   "source": [
    "def day(i): #пишем функцию, которая приводит к дням\n",
    "    if i>0: #если значение в days_employed положительное, значит указано в часах.\n",
    "        return i/24 #часы переводим в дни\n",
    "    return -i #если значение в days_employed, значит указано в днях, нужно просто убрать знак минус\n",
    "df['days_employed']=df['days_employed'].apply(day) #редактируем столбец days_employed, применив к каждому значению столбца ф-ю day\n",
    "display(df.head(10)) #проверям: работает"
   ]
  },
  {
   "cell_type": "code",
   "execution_count": 79,
   "metadata": {
    "scrolled": false
   },
   "outputs": [
    {
     "name": "stdout",
     "output_type": "stream",
     "text": [
      "<class 'pandas.core.frame.DataFrame'>\n",
      "RangeIndex: 21525 entries, 0 to 21524\n",
      "Data columns (total 12 columns):\n",
      "children            21525 non-null int64\n",
      "days_employed       21525 non-null float64\n",
      "dob_years           21525 non-null int64\n",
      "education           21525 non-null object\n",
      "education_id        21525 non-null int64\n",
      "family_status       21525 non-null object\n",
      "family_status_id    21525 non-null int64\n",
      "gender              21525 non-null object\n",
      "income_type         21525 non-null object\n",
      "debt                21525 non-null int64\n",
      "total_income        21525 non-null float64\n",
      "purpose             21525 non-null object\n",
      "dtypes: float64(2), int64(5), object(5)\n",
      "memory usage: 2.0+ MB\n"
     ]
    }
   ],
   "source": [
    "df['days_employed']=df['days_employed'].fillna(df['days_employed'].median())# заменяем Nan на медиану в стаже и уровне дохода\n",
    "df['total_income']=df['total_income'].fillna(df['total_income'].median())\n",
    "df.info()#проверяем"
   ]
  },
  {
   "cell_type": "markdown",
   "metadata": {},
   "source": [
    "**Вывод**\n"
   ]
  },
  {
   "cell_type": "markdown",
   "metadata": {},
   "source": [
    "Я привел значени столбца days_employed к дням. После чего, заменил пропуски в столбцах days_employed и total_income на медианное значение этих столбцов."
   ]
  },
  {
   "cell_type": "markdown",
   "metadata": {},
   "source": [
    "### Замена типа данных"
   ]
  },
  {
   "cell_type": "code",
   "execution_count": 80,
   "metadata": {},
   "outputs": [
    {
     "name": "stdout",
     "output_type": "stream",
     "text": [
      "<class 'pandas.core.frame.DataFrame'>\n",
      "RangeIndex: 21525 entries, 0 to 21524\n",
      "Data columns (total 12 columns):\n",
      "children            21525 non-null int64\n",
      "days_employed       21525 non-null int64\n",
      "dob_years           21525 non-null int64\n",
      "education           21525 non-null object\n",
      "education_id        21525 non-null int64\n",
      "family_status       21525 non-null object\n",
      "family_status_id    21525 non-null int64\n",
      "gender              21525 non-null object\n",
      "income_type         21525 non-null object\n",
      "debt                21525 non-null int64\n",
      "total_income        21525 non-null int64\n",
      "purpose             21525 non-null object\n",
      "dtypes: int64(7), object(5)\n",
      "memory usage: 2.0+ MB\n"
     ]
    }
   ],
   "source": [
    "df['days_employed'] = df['days_employed'].astype('int')#меняем тип данных столбцах days_employed и total_income с float64 на int\n",
    "df['total_income'] = df['total_income'].astype('int')\n",
    "df['dob_years'] = df['dob_years'].astype('int')\n",
    "df.info()"
   ]
  },
  {
   "cell_type": "markdown",
   "metadata": {},
   "source": [
    "**Вывод**"
   ]
  },
  {
   "cell_type": "markdown",
   "metadata": {},
   "source": [
    "В столбцах days_employed и total_income поменял тип данных вещественных на целочисленные, при помощи метода astype()"
   ]
  },
  {
   "cell_type": "markdown",
   "metadata": {},
   "source": [
    "### Обработка дубликатов"
   ]
  },
  {
   "cell_type": "code",
   "execution_count": 81,
   "metadata": {},
   "outputs": [
    {
     "data": {
      "text/plain": [
       "71"
      ]
     },
     "execution_count": 81,
     "metadata": {},
     "output_type": "execute_result"
    }
   ],
   "source": [
    "df['education'] = df['education'].str.lower() #приведем все столбцы, в которых есть текст, к нижнему регистру.\n",
    "df['income_type'] = df['income_type'].str.lower()\n",
    "df['purpose'] = df['purpose'].str.lower()\n",
    "df['gender'] = df['gender'].str.lower()\n",
    "df['family_status'] = df['family_status'].str.lower()\n",
    "df.duplicated().sum() #и посчитает кол-во дубликатов."
   ]
  },
  {
   "cell_type": "markdown",
   "metadata": {},
   "source": [
    "Дубликатов 71 строка. Например, возраст, образование, .По отношению ко всей таблице, это 0,33% от всех данных. Это незначительно количество можно удалить без вреда для исследования."
   ]
  },
  {
   "cell_type": "code",
   "execution_count": 82,
   "metadata": {
    "scrolled": true
   },
   "outputs": [
    {
     "data": {
      "text/html": [
       "<div>\n",
       "<style scoped>\n",
       "    .dataframe tbody tr th:only-of-type {\n",
       "        vertical-align: middle;\n",
       "    }\n",
       "\n",
       "    .dataframe tbody tr th {\n",
       "        vertical-align: top;\n",
       "    }\n",
       "\n",
       "    .dataframe thead th {\n",
       "        text-align: right;\n",
       "    }\n",
       "</style>\n",
       "<table border=\"1\" class=\"dataframe\">\n",
       "  <thead>\n",
       "    <tr style=\"text-align: right;\">\n",
       "      <th></th>\n",
       "      <th>children</th>\n",
       "      <th>days_employed</th>\n",
       "      <th>dob_years</th>\n",
       "      <th>education</th>\n",
       "      <th>education_id</th>\n",
       "      <th>family_status</th>\n",
       "      <th>family_status_id</th>\n",
       "      <th>gender</th>\n",
       "      <th>income_type</th>\n",
       "      <th>debt</th>\n",
       "      <th>total_income</th>\n",
       "      <th>purpose</th>\n",
       "    </tr>\n",
       "  </thead>\n",
       "  <tbody>\n",
       "    <tr>\n",
       "      <td>2849</td>\n",
       "      <td>0</td>\n",
       "      <td>2194</td>\n",
       "      <td>41</td>\n",
       "      <td>среднее</td>\n",
       "      <td>1</td>\n",
       "      <td>женат / замужем</td>\n",
       "      <td>0</td>\n",
       "      <td>f</td>\n",
       "      <td>сотрудник</td>\n",
       "      <td>0</td>\n",
       "      <td>145017</td>\n",
       "      <td>покупка жилья для семьи</td>\n",
       "    </tr>\n",
       "    <tr>\n",
       "      <td>3290</td>\n",
       "      <td>0</td>\n",
       "      <td>2194</td>\n",
       "      <td>58</td>\n",
       "      <td>среднее</td>\n",
       "      <td>1</td>\n",
       "      <td>гражданский брак</td>\n",
       "      <td>1</td>\n",
       "      <td>f</td>\n",
       "      <td>пенсионер</td>\n",
       "      <td>0</td>\n",
       "      <td>145017</td>\n",
       "      <td>сыграть свадьбу</td>\n",
       "    </tr>\n",
       "    <tr>\n",
       "      <td>4182</td>\n",
       "      <td>1</td>\n",
       "      <td>2194</td>\n",
       "      <td>34</td>\n",
       "      <td>высшее</td>\n",
       "      <td>0</td>\n",
       "      <td>гражданский брак</td>\n",
       "      <td>1</td>\n",
       "      <td>f</td>\n",
       "      <td>сотрудник</td>\n",
       "      <td>0</td>\n",
       "      <td>145017</td>\n",
       "      <td>свадьба</td>\n",
       "    </tr>\n",
       "    <tr>\n",
       "      <td>4851</td>\n",
       "      <td>0</td>\n",
       "      <td>2194</td>\n",
       "      <td>60</td>\n",
       "      <td>среднее</td>\n",
       "      <td>1</td>\n",
       "      <td>гражданский брак</td>\n",
       "      <td>1</td>\n",
       "      <td>f</td>\n",
       "      <td>пенсионер</td>\n",
       "      <td>0</td>\n",
       "      <td>145017</td>\n",
       "      <td>свадьба</td>\n",
       "    </tr>\n",
       "    <tr>\n",
       "      <td>5557</td>\n",
       "      <td>0</td>\n",
       "      <td>2194</td>\n",
       "      <td>58</td>\n",
       "      <td>среднее</td>\n",
       "      <td>1</td>\n",
       "      <td>гражданский брак</td>\n",
       "      <td>1</td>\n",
       "      <td>f</td>\n",
       "      <td>пенсионер</td>\n",
       "      <td>0</td>\n",
       "      <td>145017</td>\n",
       "      <td>сыграть свадьбу</td>\n",
       "    </tr>\n",
       "  </tbody>\n",
       "</table>\n",
       "</div>"
      ],
      "text/plain": [
       "      children  days_employed  dob_years education  education_id  \\\n",
       "2849         0           2194         41   среднее             1   \n",
       "3290         0           2194         58   среднее             1   \n",
       "4182         1           2194         34    высшее             0   \n",
       "4851         0           2194         60   среднее             1   \n",
       "5557         0           2194         58   среднее             1   \n",
       "\n",
       "         family_status  family_status_id gender income_type  debt  \\\n",
       "2849   женат / замужем                 0      f   сотрудник     0   \n",
       "3290  гражданский брак                 1      f   пенсионер     0   \n",
       "4182  гражданский брак                 1      f   сотрудник     0   \n",
       "4851  гражданский брак                 1      f   пенсионер     0   \n",
       "5557  гражданский брак                 1      f   пенсионер     0   \n",
       "\n",
       "      total_income                  purpose  \n",
       "2849        145017  покупка жилья для семьи  \n",
       "3290        145017          сыграть свадьбу  \n",
       "4182        145017                  свадьба  \n",
       "4851        145017                  свадьба  \n",
       "5557        145017          сыграть свадьбу  "
      ]
     },
     "metadata": {},
     "output_type": "display_data"
    }
   ],
   "source": [
    "duplicated=df[df.duplicated()].head()\n",
    "display(duplicated)"
   ]
  },
  {
   "cell_type": "markdown",
   "metadata": {},
   "source": [
    "В этих строка не все значения одинаковые. Например возраст, кол-во детей у некоторых строк отличается. Но, все равно, примем за дубликаты, потому что на общую картину это не повлияет.\n",
    "\n",
    "Дубликаты появились по нескольким причинам. Одна из них заполнение пропущеных значение в столбцах медианой. Вторая причина - повторное обращение одного и того же клиента в банк - сделали две одинакове заявки, но изменили причину, например, со \"свадьба\" на \"сыграть свадьбу\"."
   ]
  },
  {
   "cell_type": "code",
   "execution_count": 83,
   "metadata": {
    "scrolled": true
   },
   "outputs": [
    {
     "data": {
      "text/plain": [
       "0"
      ]
     },
     "execution_count": 83,
     "metadata": {},
     "output_type": "execute_result"
    }
   ],
   "source": [
    "df = df.drop_duplicates().reset_index(drop=True) #удаляем дубликаты с обновлением индексации\n",
    "df.duplicated().sum() #проверяем кол-во дубликатов после их удаления"
   ]
  },
  {
   "cell_type": "markdown",
   "metadata": {},
   "source": [
    "**Вывод**"
   ]
  },
  {
   "cell_type": "markdown",
   "metadata": {},
   "source": [
    "Я посчитал количество дубликатов при помощи метода duplicated().sum() и удалил их при помощи метода drop_duplicates().reset_index(drop=True) с обновлением индексации и удалением старой.\n",
    "\n",
    "Перед этим, привел все значения в стоблцах, которые заполнены строковыми величинами, к нижему регистру. Сделал для всех столбцов, где данные представлены строковыми значениям. Вдруг, где-то в середине датафрейма, где я не вижу, написано ЗаБоРчИкОм:) После этого, посчитал количество дубликтов. \n",
    "\n",
    "Далее я обнаружил, что найденные строки-дубликаты одинаковы не по всем значениям(возраст, количество детей). Но посчитав отношение этих строк к общему датафрейму(0,33%), решил их удалить, ведь их удаление не повредит результату исследования, по причине своего маленького количества."
   ]
  },
  {
   "cell_type": "markdown",
   "metadata": {},
   "source": [
    "### Лемматизация"
   ]
  },
  {
   "cell_type": "code",
   "execution_count": 84,
   "metadata": {
    "scrolled": true
   },
   "outputs": [
    {
     "name": "stdout",
     "output_type": "stream",
     "text": [
      "покупка жилье\n",
      "приобретение автомобиль\n",
      "дополнительный образование\n",
      "сыграть свадьба\n",
      "операция с жилье\n",
      "образование\n",
      "на проведение свадьба\n",
      "покупка жилье для семья\n",
      "покупка недвижимость\n",
      "покупка коммерческий недвижимость\n",
      "покупка жилой недвижимость\n",
      "строительство собственный недвижимость\n",
      "недвижимость\n",
      "строительство недвижимость\n",
      "на покупка подержать автомобиль\n",
      "на покупка свой автомобиль\n",
      "операция с коммерческий недвижимость\n",
      "строительство жилой недвижимость\n",
      "жилье\n",
      "операция со свой недвижимость\n",
      "автомобиль\n",
      "заниматься образование\n",
      "сделка с подержанный автомобиль\n",
      "получение образование\n",
      "автомобиль\n",
      "свадьба\n",
      "получение дополнительный образование\n",
      "покупка свой жилье\n",
      "операция с недвижимость\n",
      "получение высокий образование\n",
      "свой автомобиль\n",
      "сделка с автомобиль\n",
      "профильный образование\n",
      "высокий образование\n",
      "покупка жилье для сдача\n",
      "на покупка автомобиль\n",
      "ремонт жилье\n",
      "заниматься высокий образование\n",
      "\n"
     ]
    }
   ],
   "source": [
    "from pymystem3 import Mystem\n",
    "m = Mystem()\n",
    "reasons = df['purpose'].unique()\n",
    "s=''\n",
    "for text in reasons:\n",
    "    l = ''.join(m.lemmatize(text))\n",
    "    s+=(l)\n",
    "print(s)"
   ]
  },
  {
   "cell_type": "markdown",
   "metadata": {},
   "source": [
    "**Вывод**"
   ]
  },
  {
   "cell_type": "markdown",
   "metadata": {},
   "source": [
    "Проведя лемматизацию, я выделил четыре основные причины кредитования по ключевым словам: \"автомобиль\", \"свадьба\", \"недвижимость\"(\"жилье\") и \"образование\"."
   ]
  },
  {
   "cell_type": "markdown",
   "metadata": {},
   "source": [
    "### Категоризация данных"
   ]
  },
  {
   "cell_type": "markdown",
   "metadata": {},
   "source": [
    "**2.5.1 Зависимость между наличием детей и возвратом кредита в срок**"
   ]
  },
  {
   "cell_type": "code",
   "execution_count": 85,
   "metadata": {},
   "outputs": [],
   "source": [
    "def children(child): #функция, для категоризации по кол-ву детей. где:\n",
    "    if child==0:\n",
    "        return 1 # 1- нет детей\n",
    "    if 0<child<=2:\n",
    "        return 2 # 2- 1-2 ребенка\n",
    "    return 3     # 3- 3 и более детей"
   ]
  },
  {
   "cell_type": "code",
   "execution_count": 86,
   "metadata": {},
   "outputs": [],
   "source": [
    "#dict_children = df[['children', 'debt', 'total_income']]#делаем датафрейм из трех столбцов исходного\n",
    "#none_children = dict_children[dict_children['children']==0]\n",
    "#none_children = none_children[none_children['debt']!=0]\n",
    "#more_none_children = dict_children[dict_children['children']!=0]\n",
    "#more_none_children = more_none_children[more_none_children['debt']!=0]\n",
    "#print('Количество заемщиков с детьми, имевеших задоженности по кредитам:', len(more_none_children))\n",
    "#print('Количество заемщиков без детей, имевеших задоженности по кредитам:', len(none_children))"
   ]
  },
  {
   "cell_type": "code",
   "execution_count": 87,
   "metadata": {
    "scrolled": true
   },
   "outputs": [
    {
     "data": {
      "text/html": [
       "<div>\n",
       "<style scoped>\n",
       "    .dataframe tbody tr th:only-of-type {\n",
       "        vertical-align: middle;\n",
       "    }\n",
       "\n",
       "    .dataframe tbody tr th {\n",
       "        vertical-align: top;\n",
       "    }\n",
       "\n",
       "    .dataframe thead tr th {\n",
       "        text-align: left;\n",
       "    }\n",
       "\n",
       "    .dataframe thead tr:last-of-type th {\n",
       "        text-align: right;\n",
       "    }\n",
       "</style>\n",
       "<table border=\"1\" class=\"dataframe\">\n",
       "  <thead>\n",
       "    <tr>\n",
       "      <th></th>\n",
       "      <th>count</th>\n",
       "      <th>sum</th>\n",
       "      <th>percentage_of_debt</th>\n",
       "    </tr>\n",
       "    <tr>\n",
       "      <th></th>\n",
       "      <th>debt</th>\n",
       "      <th>debt</th>\n",
       "      <th></th>\n",
       "    </tr>\n",
       "    <tr>\n",
       "      <th>child_level</th>\n",
       "      <th></th>\n",
       "      <th></th>\n",
       "      <th></th>\n",
       "    </tr>\n",
       "  </thead>\n",
       "  <tbody>\n",
       "    <tr>\n",
       "      <td>1</td>\n",
       "      <td>14091</td>\n",
       "      <td>1063</td>\n",
       "      <td>7.543822</td>\n",
       "    </tr>\n",
       "    <tr>\n",
       "      <td>2</td>\n",
       "      <td>6860</td>\n",
       "      <td>638</td>\n",
       "      <td>9.300292</td>\n",
       "    </tr>\n",
       "    <tr>\n",
       "      <td>3</td>\n",
       "      <td>503</td>\n",
       "      <td>40</td>\n",
       "      <td>7.952286</td>\n",
       "    </tr>\n",
       "  </tbody>\n",
       "</table>\n",
       "</div>"
      ],
      "text/plain": [
       "             count   sum percentage_of_debt\n",
       "              debt  debt                   \n",
       "child_level                                \n",
       "1            14091  1063           7.543822\n",
       "2             6860   638           9.300292\n",
       "3              503    40           7.952286"
      ]
     },
     "metadata": {},
     "output_type": "display_data"
    }
   ],
   "source": [
    "dict_children1 = df[['children', 'debt']] #добавляем столбец с категорией по кол-ву детей\n",
    "dict_children1.loc[:,'child_level'] = dict_children1.loc[:, 'children'].apply(children)\n",
    "dict_children2=dict_children1[['child_level', 'debt']]\n",
    "count_of_children2 = dict_children2.pivot_table(index='child_level', \n",
    "                                      aggfunc=['count', 'sum'])#делаем сводную таблицу\n",
    "count_of_children2['percentage_of_debt'] = (count_of_children2[('sum','debt')]*100)/count_of_children2[('count','debt')]\n",
    "# % людей с задолженностями\n",
    "\n",
    "display(count_of_children2)"
   ]
  },
  {
   "cell_type": "markdown",
   "metadata": {},
   "source": [
    "**2.5.2 Зависимость между семейным положением и возвратом кредита в срок**"
   ]
  },
  {
   "cell_type": "code",
   "execution_count": 88,
   "metadata": {
    "scrolled": false
   },
   "outputs": [
    {
     "data": {
      "text/html": [
       "<div>\n",
       "<style scoped>\n",
       "    .dataframe tbody tr th:only-of-type {\n",
       "        vertical-align: middle;\n",
       "    }\n",
       "\n",
       "    .dataframe tbody tr th {\n",
       "        vertical-align: top;\n",
       "    }\n",
       "\n",
       "    .dataframe thead tr th {\n",
       "        text-align: left;\n",
       "    }\n",
       "\n",
       "    .dataframe thead tr:last-of-type th {\n",
       "        text-align: right;\n",
       "    }\n",
       "</style>\n",
       "<table border=\"1\" class=\"dataframe\">\n",
       "  <thead>\n",
       "    <tr>\n",
       "      <th></th>\n",
       "      <th></th>\n",
       "      <th>count</th>\n",
       "      <th>sum</th>\n",
       "      <th>percentage_of_debt</th>\n",
       "    </tr>\n",
       "    <tr>\n",
       "      <th></th>\n",
       "      <th></th>\n",
       "      <th>debt</th>\n",
       "      <th>debt</th>\n",
       "      <th></th>\n",
       "    </tr>\n",
       "    <tr>\n",
       "      <th>family_status</th>\n",
       "      <th>family_status_id</th>\n",
       "      <th></th>\n",
       "      <th></th>\n",
       "      <th></th>\n",
       "    </tr>\n",
       "  </thead>\n",
       "  <tbody>\n",
       "    <tr>\n",
       "      <td>вдовец / вдова</td>\n",
       "      <td>2</td>\n",
       "      <td>959</td>\n",
       "      <td>63</td>\n",
       "      <td>6.569343</td>\n",
       "    </tr>\n",
       "    <tr>\n",
       "      <td>в разводе</td>\n",
       "      <td>3</td>\n",
       "      <td>1195</td>\n",
       "      <td>85</td>\n",
       "      <td>7.112971</td>\n",
       "    </tr>\n",
       "    <tr>\n",
       "      <td>женат / замужем</td>\n",
       "      <td>0</td>\n",
       "      <td>12339</td>\n",
       "      <td>931</td>\n",
       "      <td>7.545182</td>\n",
       "    </tr>\n",
       "    <tr>\n",
       "      <td>гражданский брак</td>\n",
       "      <td>1</td>\n",
       "      <td>4151</td>\n",
       "      <td>388</td>\n",
       "      <td>9.347145</td>\n",
       "    </tr>\n",
       "    <tr>\n",
       "      <td>не женат / не замужем</td>\n",
       "      <td>4</td>\n",
       "      <td>2810</td>\n",
       "      <td>274</td>\n",
       "      <td>9.750890</td>\n",
       "    </tr>\n",
       "  </tbody>\n",
       "</table>\n",
       "</div>"
      ],
      "text/plain": [
       "                                        count  sum percentage_of_debt\n",
       "                                         debt debt                   \n",
       "family_status         family_status_id                               \n",
       "вдовец / вдова        2                   959   63           6.569343\n",
       "в разводе             3                  1195   85           7.112971\n",
       "женат / замужем       0                 12339  931           7.545182\n",
       "гражданский брак      1                  4151  388           9.347145\n",
       "не женат / не замужем 4                  2810  274           9.750890"
      ]
     },
     "metadata": {},
     "output_type": "display_data"
    }
   ],
   "source": [
    "dict_family = df[['family_status', 'family_status_id', 'debt']]#делаем датафрейм из трех столбцов исходного\n",
    "count_of_id = dict_family.pivot_table(index=['family_status', 'family_status_id', ], \n",
    "                                      aggfunc=['count', 'sum'])#делаем сводную таблицу\n",
    "count_of_id['percentage_of_debt'] = (count_of_id[('sum','debt')]*100)/count_of_id[('count','debt')]# % людей с задолженностями\n",
    "\n",
    "count_of_id = count_of_id.sort_values(by=('percentage_of_debt'))# сортировка по % задоженностей\n",
    "display(count_of_id)"
   ]
  },
  {
   "cell_type": "markdown",
   "metadata": {},
   "source": [
    "**Вывод**"
   ]
  },
  {
   "cell_type": "markdown",
   "metadata": {},
   "source": [
    "'count debt' - количество человек, соответствующее статусу в столбце 'family_status'.\n",
    "\n",
    "'sum debt' - количество человек, имевших задолженности по выплате кредитов.\n",
    "\n",
    "'percentage_of_debt' - процентное отношение 'count debt' к 'sum debt' в %, где 'count debt' это 100%. "
   ]
  },
  {
   "cell_type": "markdown",
   "metadata": {},
   "source": [
    "**2.5.3 Зависимость между уровнем дохода и возвратом кредита в срок**"
   ]
  },
  {
   "cell_type": "markdown",
   "metadata": {},
   "source": [
    "Для ответа на этот вопрос необходимо сделать словарь по уровню дохода. Средняя зарплата в России в августе 2021 года, согласно Росстату, составляет 52 тыс. руб. Округлим до 50 тыс. руб.\n",
    "\n",
    "На основании этого, выделим три основные группы:\n",
    "\n",
    "low - уровень дохода до 50 тыс. руб. включительно\n",
    "\n",
    "middle - 51-150 тыс. руб.\n",
    "\n",
    "high - >150 тыс. руб.\n",
    "\n",
    "Для создания класса по уровню дохода испрользуем фунцию salary(money)"
   ]
  },
  {
   "cell_type": "code",
   "execution_count": 89,
   "metadata": {},
   "outputs": [],
   "source": [
    "def salary(money): #функция, для категоризации по уровню дохода.\n",
    "    if money<=50000:\n",
    "        return 'low'    #low - уровень дохода до 50 тыс. руб. включительно\n",
    "    if 51000<money<=150000:\n",
    "        return 'middle' #middle - 51-150 тыс. руб.\n",
    "    return 'high'       #high - >150 тыс. руб."
   ]
  },
  {
   "cell_type": "code",
   "execution_count": 90,
   "metadata": {},
   "outputs": [
    {
     "data": {
      "text/html": [
       "<div>\n",
       "<style scoped>\n",
       "    .dataframe tbody tr th:only-of-type {\n",
       "        vertical-align: middle;\n",
       "    }\n",
       "\n",
       "    .dataframe tbody tr th {\n",
       "        vertical-align: top;\n",
       "    }\n",
       "\n",
       "    .dataframe thead th {\n",
       "        text-align: right;\n",
       "    }\n",
       "</style>\n",
       "<table border=\"1\" class=\"dataframe\">\n",
       "  <thead>\n",
       "    <tr style=\"text-align: right;\">\n",
       "      <th></th>\n",
       "      <th>total_income</th>\n",
       "      <th>debt</th>\n",
       "      <th>salary_level</th>\n",
       "    </tr>\n",
       "  </thead>\n",
       "  <tbody>\n",
       "    <tr>\n",
       "      <td>0</td>\n",
       "      <td>253875</td>\n",
       "      <td>0</td>\n",
       "      <td>high</td>\n",
       "    </tr>\n",
       "    <tr>\n",
       "      <td>1</td>\n",
       "      <td>112080</td>\n",
       "      <td>0</td>\n",
       "      <td>middle</td>\n",
       "    </tr>\n",
       "    <tr>\n",
       "      <td>2</td>\n",
       "      <td>145885</td>\n",
       "      <td>0</td>\n",
       "      <td>middle</td>\n",
       "    </tr>\n",
       "    <tr>\n",
       "      <td>3</td>\n",
       "      <td>267628</td>\n",
       "      <td>0</td>\n",
       "      <td>high</td>\n",
       "    </tr>\n",
       "    <tr>\n",
       "      <td>4</td>\n",
       "      <td>158616</td>\n",
       "      <td>0</td>\n",
       "      <td>high</td>\n",
       "    </tr>\n",
       "  </tbody>\n",
       "</table>\n",
       "</div>"
      ],
      "text/plain": [
       "   total_income  debt salary_level\n",
       "0        253875     0         high\n",
       "1        112080     0       middle\n",
       "2        145885     0       middle\n",
       "3        267628     0         high\n",
       "4        158616     0         high"
      ]
     },
     "metadata": {},
     "output_type": "display_data"
    }
   ],
   "source": [
    "dict_salary = df[['total_income', 'debt']]#делаем датафрейм из двух столбцов исходного\n",
    "dict_salary.loc[:,'salary_level'] = dict_salary.loc[:,'total_income'].apply(salary)#создаем столбец 'salary_level' и применяем к нему \n",
    "#функцию salary\n",
    "display(dict_salary.head())#проверяем. конуструкцию loc применил для избежания ошибки  value is trying \n",
    "#to be set on a copy of a slice from a DataFrame."
   ]
  },
  {
   "cell_type": "code",
   "execution_count": 91,
   "metadata": {},
   "outputs": [
    {
     "data": {
      "text/plain": [
       "middle    11862\n",
       "high       9220\n",
       "low         372\n",
       "Name: salary_level, dtype: int64"
      ]
     },
     "execution_count": 91,
     "metadata": {},
     "output_type": "execute_result"
    }
   ],
   "source": [
    "dict_salary['salary_level'].value_counts() #cчитаем количество человек в группах"
   ]
  },
  {
   "cell_type": "code",
   "execution_count": 92,
   "metadata": {},
   "outputs": [
    {
     "data": {
      "text/html": [
       "<div>\n",
       "<style scoped>\n",
       "    .dataframe tbody tr th:only-of-type {\n",
       "        vertical-align: middle;\n",
       "    }\n",
       "\n",
       "    .dataframe tbody tr th {\n",
       "        vertical-align: top;\n",
       "    }\n",
       "\n",
       "    .dataframe thead tr th {\n",
       "        text-align: left;\n",
       "    }\n",
       "\n",
       "    .dataframe thead tr:last-of-type th {\n",
       "        text-align: right;\n",
       "    }\n",
       "</style>\n",
       "<table border=\"1\" class=\"dataframe\">\n",
       "  <thead>\n",
       "    <tr>\n",
       "      <th></th>\n",
       "      <th>count</th>\n",
       "      <th>sum</th>\n",
       "      <th>percentage_of_debt</th>\n",
       "    </tr>\n",
       "    <tr>\n",
       "      <th></th>\n",
       "      <th>debt</th>\n",
       "      <th>debt</th>\n",
       "      <th></th>\n",
       "    </tr>\n",
       "    <tr>\n",
       "      <th>salary_level</th>\n",
       "      <th></th>\n",
       "      <th></th>\n",
       "      <th></th>\n",
       "    </tr>\n",
       "  </thead>\n",
       "  <tbody>\n",
       "    <tr>\n",
       "      <td>high</td>\n",
       "      <td>9220</td>\n",
       "      <td>729</td>\n",
       "      <td>7.906725</td>\n",
       "    </tr>\n",
       "    <tr>\n",
       "      <td>low</td>\n",
       "      <td>372</td>\n",
       "      <td>23</td>\n",
       "      <td>6.182796</td>\n",
       "    </tr>\n",
       "    <tr>\n",
       "      <td>middle</td>\n",
       "      <td>11862</td>\n",
       "      <td>989</td>\n",
       "      <td>8.337548</td>\n",
       "    </tr>\n",
       "  </tbody>\n",
       "</table>\n",
       "</div>"
      ],
      "text/plain": [
       "              count  sum percentage_of_debt\n",
       "               debt debt                   \n",
       "salary_level                               \n",
       "high           9220  729           7.906725\n",
       "low             372   23           6.182796\n",
       "middle        11862  989           8.337548"
      ]
     },
     "metadata": {},
     "output_type": "display_data"
    }
   ],
   "source": [
    "dict_salary1=dict_salary[['debt', 'salary_level']]#создаем новую таблицу, уже без total_income, чтобы создать читаемую\n",
    "count_of_salary = dict_salary1.pivot_table(index=['salary_level'], #сводную таблицу\n",
    "                                      aggfunc=['count', 'sum'])\n",
    "count_of_salary['percentage_of_debt'] = (count_of_salary[('sum','debt')]*100)/count_of_salary[('count','debt')]\n",
    "display(count_of_salary)"
   ]
  },
  {
   "cell_type": "markdown",
   "metadata": {},
   "source": [
    "**2.5.4 Как разные цели кредита влияют на его возврат в срок**"
   ]
  },
  {
   "cell_type": "code",
   "execution_count": 93,
   "metadata": {},
   "outputs": [
    {
     "data": {
      "text/html": [
       "<div>\n",
       "<style scoped>\n",
       "    .dataframe tbody tr th:only-of-type {\n",
       "        vertical-align: middle;\n",
       "    }\n",
       "\n",
       "    .dataframe tbody tr th {\n",
       "        vertical-align: top;\n",
       "    }\n",
       "\n",
       "    .dataframe thead th {\n",
       "        text-align: right;\n",
       "    }\n",
       "</style>\n",
       "<table border=\"1\" class=\"dataframe\">\n",
       "  <thead>\n",
       "    <tr style=\"text-align: right;\">\n",
       "      <th></th>\n",
       "      <th>debt</th>\n",
       "      <th>purpose</th>\n",
       "    </tr>\n",
       "  </thead>\n",
       "  <tbody>\n",
       "    <tr>\n",
       "      <td>0</td>\n",
       "      <td>0</td>\n",
       "      <td>покупка жилья</td>\n",
       "    </tr>\n",
       "    <tr>\n",
       "      <td>1</td>\n",
       "      <td>0</td>\n",
       "      <td>приобретение автомобиля</td>\n",
       "    </tr>\n",
       "    <tr>\n",
       "      <td>2</td>\n",
       "      <td>0</td>\n",
       "      <td>покупка жилья</td>\n",
       "    </tr>\n",
       "    <tr>\n",
       "      <td>3</td>\n",
       "      <td>0</td>\n",
       "      <td>дополнительное образование</td>\n",
       "    </tr>\n",
       "    <tr>\n",
       "      <td>4</td>\n",
       "      <td>0</td>\n",
       "      <td>сыграть свадьбу</td>\n",
       "    </tr>\n",
       "  </tbody>\n",
       "</table>\n",
       "</div>"
      ],
      "text/plain": [
       "   debt                     purpose\n",
       "0     0               покупка жилья\n",
       "1     0     приобретение автомобиля\n",
       "2     0               покупка жилья\n",
       "3     0  дополнительное образование\n",
       "4     0             сыграть свадьбу"
      ]
     },
     "metadata": {},
     "output_type": "display_data"
    }
   ],
   "source": [
    "purpose_stem=[\"автомобиль\", \"свадьба\", \"недвижимость\", \"жилье\", \"образование\" ]\n",
    "dict_purpose= df[['debt', 'purpose']]#создаем таблицу на основании столбцов 'debt', 'purpose'\n",
    "display(dict_purpose.head())"
   ]
  },
  {
   "cell_type": "code",
   "execution_count": 94,
   "metadata": {},
   "outputs": [
    {
     "data": {
      "text/html": [
       "<div>\n",
       "<style scoped>\n",
       "    .dataframe tbody tr th:only-of-type {\n",
       "        vertical-align: middle;\n",
       "    }\n",
       "\n",
       "    .dataframe tbody tr th {\n",
       "        vertical-align: top;\n",
       "    }\n",
       "\n",
       "    .dataframe thead th {\n",
       "        text-align: right;\n",
       "    }\n",
       "</style>\n",
       "<table border=\"1\" class=\"dataframe\">\n",
       "  <thead>\n",
       "    <tr style=\"text-align: right;\">\n",
       "      <th></th>\n",
       "      <th>debt</th>\n",
       "      <th>purpose</th>\n",
       "      <th>purpose1</th>\n",
       "    </tr>\n",
       "  </thead>\n",
       "  <tbody>\n",
       "    <tr>\n",
       "      <td>0</td>\n",
       "      <td>0</td>\n",
       "      <td>покупка жилья</td>\n",
       "      <td>[покупка,  , жилье, \\n]</td>\n",
       "    </tr>\n",
       "    <tr>\n",
       "      <td>1</td>\n",
       "      <td>0</td>\n",
       "      <td>приобретение автомобиля</td>\n",
       "      <td>[приобретение,  , автомобиль, \\n]</td>\n",
       "    </tr>\n",
       "    <tr>\n",
       "      <td>2</td>\n",
       "      <td>0</td>\n",
       "      <td>покупка жилья</td>\n",
       "      <td>[покупка,  , жилье, \\n]</td>\n",
       "    </tr>\n",
       "    <tr>\n",
       "      <td>3</td>\n",
       "      <td>0</td>\n",
       "      <td>дополнительное образование</td>\n",
       "      <td>[дополнительный,  , образование, \\n]</td>\n",
       "    </tr>\n",
       "    <tr>\n",
       "      <td>4</td>\n",
       "      <td>0</td>\n",
       "      <td>сыграть свадьбу</td>\n",
       "      <td>[сыграть,  , свадьба, \\n]</td>\n",
       "    </tr>\n",
       "  </tbody>\n",
       "</table>\n",
       "</div>"
      ],
      "text/plain": [
       "   debt                     purpose                              purpose1\n",
       "0     0               покупка жилья               [покупка,  , жилье, \\n]\n",
       "1     0     приобретение автомобиля     [приобретение,  , автомобиль, \\n]\n",
       "2     0               покупка жилья               [покупка,  , жилье, \\n]\n",
       "3     0  дополнительное образование  [дополнительный,  , образование, \\n]\n",
       "4     0             сыграть свадьбу             [сыграть,  , свадьба, \\n]"
      ]
     },
     "metadata": {},
     "output_type": "display_data"
    }
   ],
   "source": [
    "def lemm(x): #использую лемматизацию для того, чтобы привести причины для взятия кредита к исходным словам. чтобы объеденить их\n",
    "    l=m.lemmatize(x)\n",
    "    return l\n",
    "dict_purpose.loc[:,'purpose1'] = dict_purpose.loc[:, 'purpose'].apply(lemm)\n",
    "display(dict_purpose.head())"
   ]
  },
  {
   "cell_type": "code",
   "execution_count": 95,
   "metadata": {},
   "outputs": [
    {
     "data": {
      "text/html": [
       "<div>\n",
       "<style scoped>\n",
       "    .dataframe tbody tr th:only-of-type {\n",
       "        vertical-align: middle;\n",
       "    }\n",
       "\n",
       "    .dataframe tbody tr th {\n",
       "        vertical-align: top;\n",
       "    }\n",
       "\n",
       "    .dataframe thead tr th {\n",
       "        text-align: left;\n",
       "    }\n",
       "\n",
       "    .dataframe thead tr:last-of-type th {\n",
       "        text-align: right;\n",
       "    }\n",
       "</style>\n",
       "<table border=\"1\" class=\"dataframe\">\n",
       "  <thead>\n",
       "    <tr>\n",
       "      <th></th>\n",
       "      <th>count</th>\n",
       "      <th>sum</th>\n",
       "      <th>percentage_of_debt</th>\n",
       "    </tr>\n",
       "    <tr>\n",
       "      <th></th>\n",
       "      <th>debt</th>\n",
       "      <th>debt</th>\n",
       "      <th></th>\n",
       "    </tr>\n",
       "    <tr>\n",
       "      <th>purpose2</th>\n",
       "      <th></th>\n",
       "      <th></th>\n",
       "      <th></th>\n",
       "    </tr>\n",
       "  </thead>\n",
       "  <tbody>\n",
       "    <tr>\n",
       "      <td>автомобиль</td>\n",
       "      <td>4306</td>\n",
       "      <td>403</td>\n",
       "      <td>9.359034</td>\n",
       "    </tr>\n",
       "    <tr>\n",
       "      <td>недвижимость</td>\n",
       "      <td>10811</td>\n",
       "      <td>782</td>\n",
       "      <td>7.233373</td>\n",
       "    </tr>\n",
       "    <tr>\n",
       "      <td>образование</td>\n",
       "      <td>4013</td>\n",
       "      <td>370</td>\n",
       "      <td>9.220035</td>\n",
       "    </tr>\n",
       "    <tr>\n",
       "      <td>свадьба</td>\n",
       "      <td>2324</td>\n",
       "      <td>186</td>\n",
       "      <td>8.003442</td>\n",
       "    </tr>\n",
       "  </tbody>\n",
       "</table>\n",
       "</div>"
      ],
      "text/plain": [
       "              count  sum percentage_of_debt\n",
       "               debt debt                   \n",
       "purpose2                                   \n",
       "автомобиль     4306  403           9.359034\n",
       "недвижимость  10811  782           7.233373\n",
       "образование    4013  370           9.220035\n",
       "свадьба        2324  186           8.003442"
      ]
     },
     "metadata": {},
     "output_type": "display_data"
    }
   ],
   "source": [
    "for k in range(len(dict_purpose)): #заменяю причины на группы  (проведение свадьбы->свадьба)\n",
    "    for i in purpose_stem:\n",
    "        if i in dict_purpose.loc[k, 'purpose1']:\n",
    "            dict_purpose.loc[k,'purpose2']=i\n",
    "for k in range(len(dict_purpose)):\n",
    "    if dict_purpose.loc[k, 'purpose2']=='жилье': #объединяю недвижимость и жилье\n",
    "        dict_purpose.loc[k, 'purpose2']='недвижимость'\n",
    "dict_purpose=dict_purpose[['debt', 'purpose2']] #делаю обновленную таблицу и считаю количество причин кредита\n",
    "dict_purpose['purpose2'].value_counts()\n",
    "count_of_purpose = dict_purpose.pivot_table(index=['purpose2'], #сводная таблица\n",
    "                                      aggfunc=['count', 'sum'])\n",
    "count_of_purpose['percentage_of_debt'] = (count_of_purpose[('sum','debt')]*100)/count_of_purpose[('count','debt')]\n",
    "display(count_of_purpose)"
   ]
  },
  {
   "cell_type": "markdown",
   "metadata": {},
   "source": [
    "## Ответы на вопросы исследования"
   ]
  },
  {
   "cell_type": "markdown",
   "metadata": {},
   "source": [
    "- Есть ли зависимость между наличием детей и возвратом кредита в срок?"
   ]
  },
  {
   "cell_type": "code",
   "execution_count": 96,
   "metadata": {},
   "outputs": [
    {
     "data": {
      "text/html": [
       "<div>\n",
       "<style scoped>\n",
       "    .dataframe tbody tr th:only-of-type {\n",
       "        vertical-align: middle;\n",
       "    }\n",
       "\n",
       "    .dataframe tbody tr th {\n",
       "        vertical-align: top;\n",
       "    }\n",
       "\n",
       "    .dataframe thead tr th {\n",
       "        text-align: left;\n",
       "    }\n",
       "\n",
       "    .dataframe thead tr:last-of-type th {\n",
       "        text-align: right;\n",
       "    }\n",
       "</style>\n",
       "<table border=\"1\" class=\"dataframe\">\n",
       "  <thead>\n",
       "    <tr>\n",
       "      <th></th>\n",
       "      <th>count</th>\n",
       "      <th>sum</th>\n",
       "      <th>percentage_of_debt</th>\n",
       "    </tr>\n",
       "    <tr>\n",
       "      <th></th>\n",
       "      <th>debt</th>\n",
       "      <th>debt</th>\n",
       "      <th></th>\n",
       "    </tr>\n",
       "    <tr>\n",
       "      <th>child_level</th>\n",
       "      <th></th>\n",
       "      <th></th>\n",
       "      <th></th>\n",
       "    </tr>\n",
       "  </thead>\n",
       "  <tbody>\n",
       "    <tr>\n",
       "      <td>1</td>\n",
       "      <td>14091</td>\n",
       "      <td>1063</td>\n",
       "      <td>7.543822</td>\n",
       "    </tr>\n",
       "    <tr>\n",
       "      <td>2</td>\n",
       "      <td>6860</td>\n",
       "      <td>638</td>\n",
       "      <td>9.300292</td>\n",
       "    </tr>\n",
       "    <tr>\n",
       "      <td>3</td>\n",
       "      <td>503</td>\n",
       "      <td>40</td>\n",
       "      <td>7.952286</td>\n",
       "    </tr>\n",
       "  </tbody>\n",
       "</table>\n",
       "</div>"
      ],
      "text/plain": [
       "             count   sum percentage_of_debt\n",
       "              debt  debt                   \n",
       "child_level                                \n",
       "1            14091  1063           7.543822\n",
       "2             6860   638           9.300292\n",
       "3              503    40           7.952286"
      ]
     },
     "metadata": {},
     "output_type": "display_data"
    }
   ],
   "source": [
    "display(count_of_children2)"
   ]
  },
  {
   "cell_type": "markdown",
   "metadata": {},
   "source": [
    "**Вывод**"
   ]
  },
  {
   "cell_type": "markdown",
   "metadata": {},
   "source": [
    "'count debt' - количество человек с определенным кол-вом детей.\n",
    "\n",
    "'sum debt' - количество человек, имевших задолженности по выплате кредитов.\n",
    "\n",
    "'percentage_of_debt' - процентное отношение 'count debt' к 'sum debt' в %, где 'count debt' это 100%.\n",
    "\n",
    "child_level:\n",
    "\n",
    "1 - нет детей,\n",
    "\n",
    "2 - 1-2 ребенка,\n",
    "\n",
    "3 - 3 и более детей.\n",
    "\n",
    "На основании провденного исследования, можно заметить, что:\n",
    "\n",
    "1) Если у кредитора нет детей, то вероятность просрочки по платежу меньше всего.\n",
    "\n",
    "2) Если у кредитора не более 2х детей, то вертояность просрочки самая большая.\n",
    "\n",
    "3) Если у кредитора 3 и более детей, то вертоятность просрочки почти такая же, как у кредиторов без детей.\n",
    "\n",
    "Эти выводы отличаются от моих предыдущих по этому вопросу. Я понял, что граммотная категоризация данных, это очень важно:)"
   ]
  },
  {
   "cell_type": "markdown",
   "metadata": {},
   "source": [
    "- Есть ли зависимость между семейным положением и возвратом кредита в срок?"
   ]
  },
  {
   "cell_type": "code",
   "execution_count": 98,
   "metadata": {
    "scrolled": true
   },
   "outputs": [
    {
     "data": {
      "text/html": [
       "<div>\n",
       "<style scoped>\n",
       "    .dataframe tbody tr th:only-of-type {\n",
       "        vertical-align: middle;\n",
       "    }\n",
       "\n",
       "    .dataframe tbody tr th {\n",
       "        vertical-align: top;\n",
       "    }\n",
       "\n",
       "    .dataframe thead tr th {\n",
       "        text-align: left;\n",
       "    }\n",
       "\n",
       "    .dataframe thead tr:last-of-type th {\n",
       "        text-align: right;\n",
       "    }\n",
       "</style>\n",
       "<table border=\"1\" class=\"dataframe\">\n",
       "  <thead>\n",
       "    <tr>\n",
       "      <th></th>\n",
       "      <th></th>\n",
       "      <th>count</th>\n",
       "      <th>sum</th>\n",
       "      <th>percentage_of_debt</th>\n",
       "    </tr>\n",
       "    <tr>\n",
       "      <th></th>\n",
       "      <th></th>\n",
       "      <th>debt</th>\n",
       "      <th>debt</th>\n",
       "      <th></th>\n",
       "    </tr>\n",
       "    <tr>\n",
       "      <th>family_status</th>\n",
       "      <th>family_status_id</th>\n",
       "      <th></th>\n",
       "      <th></th>\n",
       "      <th></th>\n",
       "    </tr>\n",
       "  </thead>\n",
       "  <tbody>\n",
       "    <tr>\n",
       "      <td>вдовец / вдова</td>\n",
       "      <td>2</td>\n",
       "      <td>959</td>\n",
       "      <td>63</td>\n",
       "      <td>6.569343</td>\n",
       "    </tr>\n",
       "    <tr>\n",
       "      <td>в разводе</td>\n",
       "      <td>3</td>\n",
       "      <td>1195</td>\n",
       "      <td>85</td>\n",
       "      <td>7.112971</td>\n",
       "    </tr>\n",
       "    <tr>\n",
       "      <td>женат / замужем</td>\n",
       "      <td>0</td>\n",
       "      <td>12339</td>\n",
       "      <td>931</td>\n",
       "      <td>7.545182</td>\n",
       "    </tr>\n",
       "    <tr>\n",
       "      <td>гражданский брак</td>\n",
       "      <td>1</td>\n",
       "      <td>4151</td>\n",
       "      <td>388</td>\n",
       "      <td>9.347145</td>\n",
       "    </tr>\n",
       "    <tr>\n",
       "      <td>не женат / не замужем</td>\n",
       "      <td>4</td>\n",
       "      <td>2810</td>\n",
       "      <td>274</td>\n",
       "      <td>9.750890</td>\n",
       "    </tr>\n",
       "  </tbody>\n",
       "</table>\n",
       "</div>"
      ],
      "text/plain": [
       "                                        count  sum percentage_of_debt\n",
       "                                         debt debt                   \n",
       "family_status         family_status_id                               \n",
       "вдовец / вдова        2                   959   63           6.569343\n",
       "в разводе             3                  1195   85           7.112971\n",
       "женат / замужем       0                 12339  931           7.545182\n",
       "гражданский брак      1                  4151  388           9.347145\n",
       "не женат / не замужем 4                  2810  274           9.750890"
      ]
     },
     "metadata": {},
     "output_type": "display_data"
    }
   ],
   "source": [
    "display(count_of_id)"
   ]
  },
  {
   "cell_type": "markdown",
   "metadata": {},
   "source": [
    "**Вывод**"
   ]
  },
  {
   "cell_type": "markdown",
   "metadata": {},
   "source": [
    "'count debt' - количество человек, соответствующее статусу в столбце 'family_status'.\n",
    "\n",
    "'sum debt' - количество человек, имевших задолженности по выплате кредитов.\n",
    "\n",
    "'percentage_of_debt' - процентное отношение 'count debt' к 'sum debt' в %, где 'count debt' это 100%. \n",
    "\n",
    "По сводной таблице видно, какой id какому семейному статусу соответсвует, и их количество.\n",
    "\n",
    "Также видно, у скольких из них были задоженности по кредитам, а в столбце \"percentage_of_debt\" отображен процент людей, имевших задолженности.\n",
    "\n",
    "Сортировка таблицы по проценту людей с задолженностями по кредитам.\n",
    "\n",
    "Заметно, что у людей вдовцов и в разводе, процент по задолженностям меньше, чем у женатых или холостых людей. Вообще, можно поделить людей на две категории: В браке и нет. И если выводить среднее значение задолженностей по кредитам людей в браке, то будет: \n",
    "\n",
    "**(percentage_of_debt(женат / замужем)+percentage_of_debt(гражданский брак))/2=8,45%** - женатые \n",
    "\n",
    "**(percentage_of_debt(вдовец / вдова)+percentage_of_debt(в разводе)+percentage_of_debt(не женат / не замужем))/3=8,16%** - одинокие\n",
    "\n",
    "Из этого делаю вывод: зависимости между семейным положением и возвратом кредита в срок нет."
   ]
  },
  {
   "cell_type": "markdown",
   "metadata": {},
   "source": [
    "- Есть ли зависимость между уровнем дохода и возвратом кредита в срок?"
   ]
  },
  {
   "cell_type": "code",
   "execution_count": 75,
   "metadata": {},
   "outputs": [
    {
     "data": {
      "text/html": [
       "<div>\n",
       "<style scoped>\n",
       "    .dataframe tbody tr th:only-of-type {\n",
       "        vertical-align: middle;\n",
       "    }\n",
       "\n",
       "    .dataframe tbody tr th {\n",
       "        vertical-align: top;\n",
       "    }\n",
       "\n",
       "    .dataframe thead tr th {\n",
       "        text-align: left;\n",
       "    }\n",
       "\n",
       "    .dataframe thead tr:last-of-type th {\n",
       "        text-align: right;\n",
       "    }\n",
       "</style>\n",
       "<table border=\"1\" class=\"dataframe\">\n",
       "  <thead>\n",
       "    <tr>\n",
       "      <th></th>\n",
       "      <th>count</th>\n",
       "      <th>sum</th>\n",
       "      <th>percentage_of_debt</th>\n",
       "    </tr>\n",
       "    <tr>\n",
       "      <th></th>\n",
       "      <th>debt</th>\n",
       "      <th>debt</th>\n",
       "      <th></th>\n",
       "    </tr>\n",
       "    <tr>\n",
       "      <th>salary_level</th>\n",
       "      <th></th>\n",
       "      <th></th>\n",
       "      <th></th>\n",
       "    </tr>\n",
       "  </thead>\n",
       "  <tbody>\n",
       "    <tr>\n",
       "      <td>high</td>\n",
       "      <td>9220</td>\n",
       "      <td>729</td>\n",
       "      <td>7.906725</td>\n",
       "    </tr>\n",
       "    <tr>\n",
       "      <td>low</td>\n",
       "      <td>372</td>\n",
       "      <td>23</td>\n",
       "      <td>6.182796</td>\n",
       "    </tr>\n",
       "    <tr>\n",
       "      <td>middle</td>\n",
       "      <td>11862</td>\n",
       "      <td>989</td>\n",
       "      <td>8.337548</td>\n",
       "    </tr>\n",
       "  </tbody>\n",
       "</table>\n",
       "</div>"
      ],
      "text/plain": [
       "              count  sum percentage_of_debt\n",
       "               debt debt                   \n",
       "salary_level                               \n",
       "high           9220  729           7.906725\n",
       "low             372   23           6.182796\n",
       "middle        11862  989           8.337548"
      ]
     },
     "metadata": {},
     "output_type": "display_data"
    }
   ],
   "source": [
    "display(count_of_salary)"
   ]
  },
  {
   "cell_type": "markdown",
   "metadata": {},
   "source": [
    "**Вывод**"
   ]
  },
  {
   "cell_type": "markdown",
   "metadata": {},
   "source": [
    "'count debt' - количество человек, соответствующее статусу в столбце 'salary_level'.\n",
    "\n",
    "'sum debt' - количество человек, имевших задолженности по выплате кредитов.\n",
    "\n",
    "'percentage_of_debt' - процентное отношение 'count debt' к 'sum debt' в %, где 'count debt' это 100%.\n",
    "\n",
    "Аналогично подсчету в разделе \"семейное положение\", считаем процентоное отношение людей, имевших задолженность по выплатам.\n",
    "Интересно получилось, у людей с уровнем дохода из низкой категории процент задолжнности самый маленький.\n",
    "\n",
    "Разница между max и min значением всего 1,2%. Поэтому можно сделать вывод, что уровень дохода немного влияет на возврат кредита в срок."
   ]
  },
  {
   "cell_type": "markdown",
   "metadata": {},
   "source": [
    "- Как разные цели кредита влияют на его возврат в срок?"
   ]
  },
  {
   "cell_type": "markdown",
   "metadata": {},
   "source": [
    "Из категорий целей кридита, п. 2.4, выделяем основы слов при помощи стемминга. Это нужно для того, чтобы можно было отнести, к примеру, \"сыграть свадьбу\" и \"свадьба\" к одной категории, а не к разным."
   ]
  },
  {
   "cell_type": "code",
   "execution_count": 99,
   "metadata": {},
   "outputs": [
    {
     "data": {
      "text/html": [
       "<div>\n",
       "<style scoped>\n",
       "    .dataframe tbody tr th:only-of-type {\n",
       "        vertical-align: middle;\n",
       "    }\n",
       "\n",
       "    .dataframe tbody tr th {\n",
       "        vertical-align: top;\n",
       "    }\n",
       "\n",
       "    .dataframe thead tr th {\n",
       "        text-align: left;\n",
       "    }\n",
       "\n",
       "    .dataframe thead tr:last-of-type th {\n",
       "        text-align: right;\n",
       "    }\n",
       "</style>\n",
       "<table border=\"1\" class=\"dataframe\">\n",
       "  <thead>\n",
       "    <tr>\n",
       "      <th></th>\n",
       "      <th>count</th>\n",
       "      <th>sum</th>\n",
       "      <th>percentage_of_debt</th>\n",
       "    </tr>\n",
       "    <tr>\n",
       "      <th></th>\n",
       "      <th>debt</th>\n",
       "      <th>debt</th>\n",
       "      <th></th>\n",
       "    </tr>\n",
       "    <tr>\n",
       "      <th>purpose2</th>\n",
       "      <th></th>\n",
       "      <th></th>\n",
       "      <th></th>\n",
       "    </tr>\n",
       "  </thead>\n",
       "  <tbody>\n",
       "    <tr>\n",
       "      <td>автомобиль</td>\n",
       "      <td>4306</td>\n",
       "      <td>403</td>\n",
       "      <td>9.359034</td>\n",
       "    </tr>\n",
       "    <tr>\n",
       "      <td>недвижимость</td>\n",
       "      <td>10811</td>\n",
       "      <td>782</td>\n",
       "      <td>7.233373</td>\n",
       "    </tr>\n",
       "    <tr>\n",
       "      <td>образование</td>\n",
       "      <td>4013</td>\n",
       "      <td>370</td>\n",
       "      <td>9.220035</td>\n",
       "    </tr>\n",
       "    <tr>\n",
       "      <td>свадьба</td>\n",
       "      <td>2324</td>\n",
       "      <td>186</td>\n",
       "      <td>8.003442</td>\n",
       "    </tr>\n",
       "  </tbody>\n",
       "</table>\n",
       "</div>"
      ],
      "text/plain": [
       "              count  sum percentage_of_debt\n",
       "               debt debt                   \n",
       "purpose2                                   \n",
       "автомобиль     4306  403           9.359034\n",
       "недвижимость  10811  782           7.233373\n",
       "образование    4013  370           9.220035\n",
       "свадьба        2324  186           8.003442"
      ]
     },
     "metadata": {},
     "output_type": "display_data"
    }
   ],
   "source": [
    "display(count_of_purpose)"
   ]
  },
  {
   "cell_type": "markdown",
   "metadata": {},
   "source": [
    "**Вывод**"
   ]
  },
  {
   "cell_type": "markdown",
   "metadata": {},
   "source": [
    "'count debt' - количество причин.\n",
    "\n",
    "'sum debt' - количество человек, имевших задолженности по выплате кредитов.\n",
    "\n",
    "'percentage_of_debt' - процентное отношение 'count debt' к 'sum debt' в %, где 'count debt' это 100%.\n",
    "\n",
    "Аналогично предыдущим выводам, выводим процент должников по причинам кредита. Здесь уже разница между max и min 2,1%.\n",
    "\n",
    "Больше всего просрочек у тех, кто берет кредит на автомобиль или образование.\n",
    "\n",
    "Реже просрачивают платежи те, кто берет на свадьбу.\n",
    "\n",
    "Меньше всех просрачивают те, что берет кредит на преобретение или ремонт недвижимости.\n",
    "\n",
    "Из этого делаю вывод, разные цели кредита немного, но влияют на его возврат в срок."
   ]
  },
  {
   "cell_type": "markdown",
   "metadata": {},
   "source": [
    "## Общий вывод"
   ]
  },
  {
   "cell_type": "markdown",
   "metadata": {},
   "source": [
    "Полученные данные содержали некоторые артефакты.\n",
    "\n",
    "days_employed(трудовой стаж) в некоторых ячейках указан в отрицательном диапазоне. А где указан положительно, то указан, видимо не в днях, а в час. Потому что, к примеру, клиент банка под номером 4 имеет стаж 340266 дней, это 932 года, а 340266 часов это почти 39 лет. А вот значения, со знаком минус, как раз, дни. Я конвертировал все к одному виду - к дням. \n",
    "\n",
    "Далее, в столбце education(образование) данные заполнены в разном регистре. Все столобцы, которые содержат строковые данные,  я привел к нижнему регистру, для корректной работы над ними.\n",
    "\n",
    "Затем, обработал пропуски, столбцах days_employed и btotal_income. Заполнил их медианой этих столбцов. Заменил тип данных с float на int.\n",
    "\n",
    "Затем принялся за обработку дубликатов. Их было не много, всего 0,33% от всех данных. Но, как верно было замечено, от дубликатов нужно избавляться вне зависимости от их количества:)\n",
    "    \n",
    "Сделал лемматизацию в колонке с целью кредита, чтобы дальше можно было сгруппировать кредиторов по целям.\n",
    "    \n",
    "Далее, я категоризировал кредиторов по тем вопросам, на которые просил ответить заказчик: \n",
    "\n",
    "- наличие детей,\n",
    "    \n",
    "- семейное положение,\n",
    "    \n",
    "- уровень дохода,\n",
    "    \n",
    "- цель кредита.\n",
    "\n",
    "После группировки, я посчитал количество кредиторов в каждой группе имевших задолженности по кредитам, и не имевших задолженности. Это и стало ключевым фактором в ислледовании. Посчитал процентное соотношение должников к не должникам, и опирался на эти данные чтобы сделать выводы по каждому из вопросов:\n",
    "    \n",
    "1) Наличие детей влияет на возврат кредита в срок. \n",
    "\n",
    "2) Семейное положение не влияет на возврат кредита в срок. Так как статусов семейного положения целых 5, я объеденил их в 2. Посчитав средний процент должников в каждой категории, я обнаружил, что они почти одинаковые (разница 0,3%).\n",
    "\n",
    "3) Уровень дохода немного, но влияет возвратом кредита в срок. В процентом соотношении разница совсем небольшая - 1,2%. Причем, чем выше уровень дохода, тем меньше вероятность возврат кредита в срок.\n",
    "\n",
    "4) Разные цели кредита тоже немного, но влияют на возврат в срок. Больше всего просрочек у тех, кто берет кредит на автомобиль или образование. Реже просрачивают платежи те, кто берет на свадьбу. Меньше всех просрачивают те, что берет кредит на приобретение или ремонт недвижимости. \n",
    "    \n",
    "Рекомендация заказчику.\n",
    "    \n",
    "На основании предоставленных данных, можно сделать модель идеального кредитора - проверить все столбцы на просрочку платежей, и вывести, при каких условиях вероятность просрочки будет 0%, а при каких 100%."
   ]
  }
 ],
 "metadata": {
  "ExecuteTimeLog": [
   {
    "duration": 528,
    "start_time": "2022-01-19T15:54:59.071Z"
   },
   {
    "duration": 319,
    "start_time": "2022-01-19T15:55:09.830Z"
   },
   {
    "duration": 65,
    "start_time": "2022-01-19T15:55:13.736Z"
   },
   {
    "duration": 65,
    "start_time": "2022-01-19T15:56:20.783Z"
   },
   {
    "duration": 60,
    "start_time": "2022-01-19T15:56:27.088Z"
   },
   {
    "duration": 52,
    "start_time": "2022-01-19T15:57:20.839Z"
   },
   {
    "duration": 61,
    "start_time": "2022-01-19T15:59:22.303Z"
   },
   {
    "duration": 62,
    "start_time": "2022-01-19T16:01:58.200Z"
   },
   {
    "duration": 60,
    "start_time": "2022-01-19T16:02:11.115Z"
   },
   {
    "duration": 50,
    "start_time": "2022-01-19T16:02:48.448Z"
   },
   {
    "duration": 62,
    "start_time": "2022-01-19T16:04:07.405Z"
   },
   {
    "duration": 67,
    "start_time": "2022-01-19T16:06:25.517Z"
   },
   {
    "duration": 58,
    "start_time": "2022-01-19T16:06:37.582Z"
   },
   {
    "duration": 62,
    "start_time": "2022-01-19T16:10:56.134Z"
   },
   {
    "duration": 58,
    "start_time": "2022-01-19T16:19:44.002Z"
   },
   {
    "duration": 58,
    "start_time": "2022-01-19T16:19:51.201Z"
   },
   {
    "duration": 58,
    "start_time": "2022-01-19T16:21:12.913Z"
   },
   {
    "duration": 64,
    "start_time": "2022-01-19T16:21:48.370Z"
   },
   {
    "duration": 62,
    "start_time": "2022-01-19T16:23:07.161Z"
   },
   {
    "duration": 64,
    "start_time": "2022-01-19T16:31:29.084Z"
   },
   {
    "duration": 66,
    "start_time": "2022-01-19T16:31:53.693Z"
   },
   {
    "duration": 73,
    "start_time": "2022-01-19T16:33:46.156Z"
   },
   {
    "duration": 65,
    "start_time": "2022-01-19T16:34:36.637Z"
   },
   {
    "duration": 67,
    "start_time": "2022-01-19T16:35:04.444Z"
   },
   {
    "duration": 66,
    "start_time": "2022-01-19T16:35:13.820Z"
   },
   {
    "duration": 68,
    "start_time": "2022-01-19T16:35:19.724Z"
   },
   {
    "duration": 70,
    "start_time": "2022-01-19T16:36:01.337Z"
   },
   {
    "duration": 66,
    "start_time": "2022-01-19T16:37:49.595Z"
   },
   {
    "duration": 60,
    "start_time": "2022-01-19T16:37:51.970Z"
   },
   {
    "duration": 4861,
    "start_time": "2022-01-19T16:40:51.817Z"
   },
   {
    "duration": 4891,
    "start_time": "2022-01-19T16:41:00.481Z"
   },
   {
    "duration": 6,
    "start_time": "2022-01-19T16:41:35.161Z"
   },
   {
    "duration": 5,
    "start_time": "2022-01-19T16:42:09.183Z"
   },
   {
    "duration": 6,
    "start_time": "2022-01-19T16:42:24.079Z"
   },
   {
    "duration": 61,
    "start_time": "2022-01-19T16:42:36.794Z"
   },
   {
    "duration": 61,
    "start_time": "2022-01-19T16:42:40.455Z"
   },
   {
    "duration": 60,
    "start_time": "2022-01-19T16:43:22.496Z"
   },
   {
    "duration": 20,
    "start_time": "2022-01-19T16:43:24.999Z"
   },
   {
    "duration": 6,
    "start_time": "2022-01-19T16:43:32.648Z"
   },
   {
    "duration": 19,
    "start_time": "2022-01-19T16:44:15.759Z"
   },
   {
    "duration": 17,
    "start_time": "2022-01-19T16:44:48.071Z"
   },
   {
    "duration": 8,
    "start_time": "2022-01-19T16:44:54.392Z"
   },
   {
    "duration": 62,
    "start_time": "2022-01-19T16:45:42.406Z"
   },
   {
    "duration": 78,
    "start_time": "2022-01-19T16:46:00.926Z"
   },
   {
    "duration": 71,
    "start_time": "2022-01-19T16:46:21.622Z"
   },
   {
    "duration": 68,
    "start_time": "2022-01-19T16:46:29.310Z"
   },
   {
    "duration": 5,
    "start_time": "2022-01-19T16:58:55.153Z"
   },
   {
    "duration": 4,
    "start_time": "2022-01-19T16:59:07.545Z"
   },
   {
    "duration": 3,
    "start_time": "2022-01-19T16:59:13.545Z"
   },
   {
    "duration": 4,
    "start_time": "2022-01-19T16:59:16.920Z"
   },
   {
    "duration": 10,
    "start_time": "2022-01-19T16:59:42.673Z"
   },
   {
    "duration": 204,
    "start_time": "2022-01-19T17:00:42.367Z"
   },
   {
    "duration": 204,
    "start_time": "2022-01-19T17:00:45.025Z"
   },
   {
    "duration": 23,
    "start_time": "2022-01-19T17:00:50.210Z"
   },
   {
    "duration": 17,
    "start_time": "2022-01-19T17:01:00.402Z"
   },
   {
    "duration": 18,
    "start_time": "2022-01-19T17:01:08.153Z"
   },
   {
    "duration": 18,
    "start_time": "2022-01-19T17:01:10.744Z"
   },
   {
    "duration": 17,
    "start_time": "2022-01-19T17:01:13.016Z"
   },
   {
    "duration": 17,
    "start_time": "2022-01-19T17:01:14.993Z"
   },
   {
    "duration": 57,
    "start_time": "2022-01-19T17:01:28.062Z"
   },
   {
    "duration": 8,
    "start_time": "2022-01-19T17:01:28.120Z"
   },
   {
    "duration": 16,
    "start_time": "2022-01-19T17:01:30.401Z"
   },
   {
    "duration": 6,
    "start_time": "2022-01-19T17:10:09.364Z"
   },
   {
    "duration": 12,
    "start_time": "2022-01-19T17:10:20.036Z"
   },
   {
    "duration": 5,
    "start_time": "2022-01-19T17:13:02.466Z"
   },
   {
    "duration": 12,
    "start_time": "2022-01-19T17:13:21.347Z"
   },
   {
    "duration": 59,
    "start_time": "2022-01-19T17:13:38.484Z"
   },
   {
    "duration": 195,
    "start_time": "2022-01-19T17:13:54.315Z"
   },
   {
    "duration": 13,
    "start_time": "2022-01-19T17:14:16.603Z"
   },
   {
    "duration": 22,
    "start_time": "2022-01-19T17:14:27.723Z"
   },
   {
    "duration": 22,
    "start_time": "2022-01-19T17:14:42.356Z"
   },
   {
    "duration": 1117,
    "start_time": "2022-01-19T17:14:52.282Z"
   },
   {
    "duration": 202,
    "start_time": "2022-01-19T17:15:04.450Z"
   },
   {
    "duration": 216,
    "start_time": "2022-01-19T17:15:12.338Z"
   },
   {
    "duration": 276,
    "start_time": "2022-01-19T17:15:17.787Z"
   },
   {
    "duration": 214,
    "start_time": "2022-01-19T17:15:30.538Z"
   },
   {
    "duration": 229,
    "start_time": "2022-01-19T17:15:33.906Z"
   },
   {
    "duration": 188,
    "start_time": "2022-01-19T17:15:41.826Z"
   },
   {
    "duration": 203,
    "start_time": "2022-01-19T17:16:13.297Z"
   },
   {
    "duration": 199,
    "start_time": "2022-01-19T17:16:23.449Z"
   },
   {
    "duration": 63,
    "start_time": "2022-01-19T17:16:27.479Z"
   },
   {
    "duration": 10,
    "start_time": "2022-01-19T17:16:27.544Z"
   },
   {
    "duration": 18,
    "start_time": "2022-01-19T17:16:27.556Z"
   },
   {
    "duration": 13,
    "start_time": "2022-01-19T17:16:31.945Z"
   },
   {
    "duration": 3,
    "start_time": "2022-01-19T17:16:38.113Z"
   },
   {
    "duration": 4,
    "start_time": "2022-01-19T17:16:44.272Z"
   },
   {
    "duration": 4,
    "start_time": "2022-01-19T17:16:51.377Z"
   },
   {
    "duration": 10,
    "start_time": "2022-01-19T17:17:41.273Z"
   },
   {
    "duration": 13,
    "start_time": "2022-01-19T17:17:45.033Z"
   },
   {
    "duration": 226,
    "start_time": "2022-01-19T17:18:49.785Z"
   },
   {
    "duration": 191,
    "start_time": "2022-01-19T17:19:09.857Z"
   },
   {
    "duration": 18,
    "start_time": "2022-01-19T17:19:22.608Z"
   },
   {
    "duration": 17,
    "start_time": "2022-01-19T17:19:44.146Z"
   },
   {
    "duration": 17,
    "start_time": "2022-01-19T17:21:31.127Z"
   },
   {
    "duration": 12,
    "start_time": "2022-01-19T17:21:50.946Z"
   },
   {
    "duration": 13,
    "start_time": "2022-01-19T17:26:33.030Z"
   },
   {
    "duration": 18,
    "start_time": "2022-01-19T17:27:29.285Z"
   },
   {
    "duration": 11,
    "start_time": "2022-01-19T17:27:35.772Z"
   },
   {
    "duration": 14,
    "start_time": "2022-01-19T17:29:18.995Z"
   },
   {
    "duration": 28,
    "start_time": "2022-01-19T17:30:01.940Z"
   },
   {
    "duration": 32,
    "start_time": "2022-01-19T17:30:39.060Z"
   },
   {
    "duration": 5,
    "start_time": "2022-01-19T17:32:06.355Z"
   },
   {
    "duration": 20,
    "start_time": "2022-01-19T17:33:58.466Z"
   },
   {
    "duration": 58,
    "start_time": "2022-01-19T17:35:26.220Z"
   },
   {
    "duration": 234,
    "start_time": "2022-01-19T17:36:28.659Z"
   },
   {
    "duration": 53,
    "start_time": "2022-01-19T17:36:41.017Z"
   },
   {
    "duration": 54,
    "start_time": "2022-01-19T17:36:48.705Z"
   },
   {
    "duration": 52,
    "start_time": "2022-01-19T17:36:53.737Z"
   },
   {
    "duration": 56,
    "start_time": "2022-01-19T17:37:12.097Z"
   },
   {
    "duration": 50,
    "start_time": "2022-01-19T17:37:23.872Z"
   },
   {
    "duration": 47,
    "start_time": "2022-01-19T17:37:30.809Z"
   },
   {
    "duration": 70,
    "start_time": "2022-01-19T17:39:05.545Z"
   },
   {
    "duration": 63,
    "start_time": "2022-01-19T17:39:15.242Z"
   },
   {
    "duration": 71,
    "start_time": "2022-01-19T17:39:17.672Z"
   },
   {
    "duration": 70,
    "start_time": "2022-01-19T17:39:25.072Z"
   },
   {
    "duration": 73,
    "start_time": "2022-01-19T17:41:32.857Z"
   },
   {
    "duration": 58,
    "start_time": "2022-01-19T17:41:40.110Z"
   },
   {
    "duration": 8,
    "start_time": "2022-01-19T17:41:40.170Z"
   },
   {
    "duration": 33,
    "start_time": "2022-01-19T17:41:40.179Z"
   },
   {
    "duration": 11,
    "start_time": "2022-01-19T17:41:40.214Z"
   },
   {
    "duration": 11,
    "start_time": "2022-01-19T17:41:40.227Z"
   },
   {
    "duration": 80,
    "start_time": "2022-01-19T17:41:43.362Z"
   },
   {
    "duration": 60,
    "start_time": "2022-01-19T17:42:07.720Z"
   },
   {
    "duration": 49,
    "start_time": "2022-01-19T17:42:19.825Z"
   },
   {
    "duration": 63,
    "start_time": "2022-01-19T17:42:27.703Z"
   },
   {
    "duration": 94,
    "start_time": "2022-01-19T17:42:40.968Z"
   },
   {
    "duration": 98,
    "start_time": "2022-01-19T17:42:43.664Z"
   },
   {
    "duration": 51,
    "start_time": "2022-01-19T17:46:07.015Z"
   },
   {
    "duration": 58,
    "start_time": "2022-01-19T17:48:43.974Z"
   },
   {
    "duration": 23,
    "start_time": "2022-01-19T17:51:26.492Z"
   },
   {
    "duration": 81,
    "start_time": "2022-01-19T17:51:34.861Z"
   },
   {
    "duration": 64,
    "start_time": "2022-01-19T17:53:37.300Z"
   },
   {
    "duration": 22,
    "start_time": "2022-01-19T17:53:40.835Z"
   },
   {
    "duration": 71,
    "start_time": "2022-01-19T17:55:55.203Z"
   },
   {
    "duration": 21,
    "start_time": "2022-01-19T17:56:07.883Z"
   },
   {
    "duration": 36,
    "start_time": "2022-01-19T17:56:16.315Z"
   },
   {
    "duration": 10,
    "start_time": "2022-01-19T17:57:09.675Z"
   },
   {
    "duration": 14,
    "start_time": "2022-01-19T17:57:19.722Z"
   },
   {
    "duration": 193,
    "start_time": "2022-01-19T18:05:58.727Z"
   },
   {
    "duration": 3164,
    "start_time": "2022-01-19T18:07:30.393Z"
   },
   {
    "duration": 29,
    "start_time": "2022-01-19T18:09:46.968Z"
   },
   {
    "duration": 6,
    "start_time": "2022-01-19T18:10:01.726Z"
   },
   {
    "duration": 683,
    "start_time": "2022-01-19T18:11:38.389Z"
   },
   {
    "duration": 676,
    "start_time": "2022-01-19T18:12:08.789Z"
   },
   {
    "duration": 652,
    "start_time": "2022-01-19T18:12:21.405Z"
   },
   {
    "duration": 690,
    "start_time": "2022-01-19T18:13:09.188Z"
   },
   {
    "duration": 680,
    "start_time": "2022-01-19T18:13:12.108Z"
   },
   {
    "duration": 696,
    "start_time": "2022-01-19T18:13:15.964Z"
   },
   {
    "duration": 626,
    "start_time": "2022-01-19T18:13:29.108Z"
   },
   {
    "duration": 65,
    "start_time": "2022-01-19T18:13:32.705Z"
   },
   {
    "duration": 9,
    "start_time": "2022-01-19T18:13:32.772Z"
   },
   {
    "duration": 41,
    "start_time": "2022-01-19T18:13:32.783Z"
   },
   {
    "duration": 12,
    "start_time": "2022-01-19T18:13:32.826Z"
   },
   {
    "duration": 12,
    "start_time": "2022-01-19T18:13:32.839Z"
   },
   {
    "duration": 91,
    "start_time": "2022-01-19T18:13:32.852Z"
   },
   {
    "duration": 24,
    "start_time": "2022-01-19T18:13:32.944Z"
   },
   {
    "duration": 48,
    "start_time": "2022-01-19T18:13:32.970Z"
   },
   {
    "duration": 706,
    "start_time": "2022-01-19T18:13:36.013Z"
   },
   {
    "duration": 694,
    "start_time": "2022-01-19T18:13:41.564Z"
   },
   {
    "duration": 70,
    "start_time": "2022-01-19T18:13:48.276Z"
   },
   {
    "duration": 702,
    "start_time": "2022-01-19T18:13:55.739Z"
   },
   {
    "duration": 625,
    "start_time": "2022-01-19T18:14:02.908Z"
   },
   {
    "duration": 223,
    "start_time": "2022-01-19T18:14:24.571Z"
   },
   {
    "duration": 204,
    "start_time": "2022-01-19T18:14:47.021Z"
   },
   {
    "duration": 686,
    "start_time": "2022-01-19T18:15:09.404Z"
   },
   {
    "duration": 662,
    "start_time": "2022-01-19T18:15:16.539Z"
   },
   {
    "duration": 689,
    "start_time": "2022-01-19T18:15:47.260Z"
   },
   {
    "duration": 693,
    "start_time": "2022-01-19T18:17:16.202Z"
   },
   {
    "duration": 74,
    "start_time": "2022-01-19T18:17:46.050Z"
   },
   {
    "duration": 713,
    "start_time": "2022-01-19T18:17:49.937Z"
   },
   {
    "duration": 693,
    "start_time": "2022-01-19T18:19:42.489Z"
   },
   {
    "duration": 625,
    "start_time": "2022-01-19T18:27:26.253Z"
   },
   {
    "duration": 67,
    "start_time": "2022-01-19T18:28:42.773Z"
   },
   {
    "duration": 696,
    "start_time": "2022-01-19T18:28:50.780Z"
   },
   {
    "duration": 664,
    "start_time": "2022-01-19T18:29:05.933Z"
   },
   {
    "duration": 683,
    "start_time": "2022-01-19T18:29:20.173Z"
   },
   {
    "duration": 680,
    "start_time": "2022-01-19T18:29:37.981Z"
   },
   {
    "duration": 699,
    "start_time": "2022-01-19T18:29:42.293Z"
   },
   {
    "duration": 652,
    "start_time": "2022-01-19T18:29:54.685Z"
   },
   {
    "duration": 685,
    "start_time": "2022-01-19T18:30:14.052Z"
   },
   {
    "duration": 638,
    "start_time": "2022-01-19T18:30:29.068Z"
   },
   {
    "duration": 692,
    "start_time": "2022-01-19T18:30:35.356Z"
   },
   {
    "duration": 657,
    "start_time": "2022-01-19T18:30:58.708Z"
   },
   {
    "duration": 626,
    "start_time": "2022-01-19T18:34:30.850Z"
   },
   {
    "duration": 4595,
    "start_time": "2022-01-19T18:48:15.525Z"
   },
   {
    "duration": 20,
    "start_time": "2022-01-19T18:48:32.294Z"
   },
   {
    "duration": 5844,
    "start_time": "2022-01-19T18:50:59.245Z"
   },
   {
    "duration": 66,
    "start_time": "2022-01-19T18:51:46.610Z"
   },
   {
    "duration": 9,
    "start_time": "2022-01-19T18:51:46.678Z"
   },
   {
    "duration": 40,
    "start_time": "2022-01-19T18:51:46.689Z"
   },
   {
    "duration": 12,
    "start_time": "2022-01-19T18:51:46.731Z"
   },
   {
    "duration": 13,
    "start_time": "2022-01-19T18:51:46.744Z"
   },
   {
    "duration": 100,
    "start_time": "2022-01-19T18:51:46.758Z"
   },
   {
    "duration": 21,
    "start_time": "2022-01-19T18:51:46.859Z"
   },
   {
    "duration": 52,
    "start_time": "2022-01-19T18:51:46.882Z"
   },
   {
    "duration": 680,
    "start_time": "2022-01-19T18:51:46.936Z"
   },
   {
    "duration": 4697,
    "start_time": "2022-01-19T18:51:49.803Z"
   },
   {
    "duration": 10,
    "start_time": "2022-01-19T18:52:34.182Z"
   },
   {
    "duration": 8,
    "start_time": "2022-01-19T18:52:53.964Z"
   },
   {
    "duration": 9,
    "start_time": "2022-01-19T18:53:20.267Z"
   },
   {
    "duration": 7,
    "start_time": "2022-01-19T18:53:43.786Z"
   },
   {
    "duration": 194,
    "start_time": "2022-01-19T18:54:42.426Z"
   },
   {
    "duration": 9,
    "start_time": "2022-01-19T18:54:51.674Z"
   },
   {
    "duration": 8,
    "start_time": "2022-01-19T18:55:00.914Z"
   },
   {
    "duration": 8,
    "start_time": "2022-01-19T18:56:38.035Z"
   },
   {
    "duration": 11,
    "start_time": "2022-01-19T19:01:18.841Z"
   },
   {
    "duration": 6,
    "start_time": "2022-01-19T19:07:30.797Z"
   },
   {
    "duration": 202,
    "start_time": "2022-01-19T19:07:40.981Z"
   },
   {
    "duration": 213,
    "start_time": "2022-01-19T19:07:45.197Z"
   },
   {
    "duration": 6,
    "start_time": "2022-01-19T19:08:01.093Z"
   },
   {
    "duration": 7,
    "start_time": "2022-01-19T19:08:09.780Z"
   },
   {
    "duration": 15,
    "start_time": "2022-01-19T19:08:35.925Z"
   },
   {
    "duration": 10,
    "start_time": "2022-01-19T19:08:47.733Z"
   },
   {
    "duration": 8,
    "start_time": "2022-01-19T19:08:59.276Z"
   },
   {
    "duration": 194,
    "start_time": "2022-01-19T19:21:11.776Z"
   },
   {
    "duration": 194,
    "start_time": "2022-01-19T19:23:32.400Z"
   },
   {
    "duration": 23,
    "start_time": "2022-01-19T19:23:39.049Z"
   },
   {
    "duration": 18,
    "start_time": "2022-01-19T19:24:09.736Z"
   },
   {
    "duration": 23,
    "start_time": "2022-01-19T19:26:13.255Z"
   },
   {
    "duration": 23,
    "start_time": "2022-01-19T19:29:19.806Z"
   },
   {
    "duration": 14,
    "start_time": "2022-01-19T19:30:08.791Z"
   },
   {
    "duration": 18,
    "start_time": "2022-01-19T19:34:11.451Z"
   },
   {
    "duration": 206,
    "start_time": "2022-01-19T19:34:42.980Z"
   },
   {
    "duration": 18,
    "start_time": "2022-01-19T19:34:45.804Z"
   },
   {
    "duration": 22,
    "start_time": "2022-01-19T19:36:17.251Z"
   },
   {
    "duration": 11,
    "start_time": "2022-01-19T19:36:23.645Z"
   },
   {
    "duration": 10,
    "start_time": "2022-01-19T19:37:33.419Z"
   },
   {
    "duration": 10,
    "start_time": "2022-01-19T19:37:50.227Z"
   },
   {
    "duration": 9,
    "start_time": "2022-01-19T19:38:04.893Z"
   },
   {
    "duration": 4659,
    "start_time": "2022-01-19T19:39:28.882Z"
   },
   {
    "duration": 21,
    "start_time": "2022-01-19T19:41:04.468Z"
   },
   {
    "duration": 19,
    "start_time": "2022-01-19T19:41:18.978Z"
   },
   {
    "duration": 17,
    "start_time": "2022-01-19T19:42:17.761Z"
   },
   {
    "duration": 16,
    "start_time": "2022-01-19T19:42:34.792Z"
   },
   {
    "duration": 17,
    "start_time": "2022-01-19T19:43:23.329Z"
   },
   {
    "duration": 19,
    "start_time": "2022-01-19T19:43:40.105Z"
   },
   {
    "duration": 16,
    "start_time": "2022-01-19T19:43:48.376Z"
   },
   {
    "duration": 4832,
    "start_time": "2022-01-19T19:44:07.489Z"
   },
   {
    "duration": 21,
    "start_time": "2022-01-19T19:44:33.738Z"
   },
   {
    "duration": 24,
    "start_time": "2022-01-19T19:45:04.097Z"
   },
   {
    "duration": 18,
    "start_time": "2022-01-19T19:45:18.760Z"
   },
   {
    "duration": 16,
    "start_time": "2022-01-19T19:45:26.416Z"
   },
   {
    "duration": 16,
    "start_time": "2022-01-19T19:49:00.400Z"
   },
   {
    "duration": 12,
    "start_time": "2022-01-19T19:49:15.903Z"
   },
   {
    "duration": 16,
    "start_time": "2022-01-19T19:49:41.887Z"
   },
   {
    "duration": 16,
    "start_time": "2022-01-19T19:50:16.216Z"
   },
   {
    "duration": 25,
    "start_time": "2022-01-19T19:50:52.647Z"
   },
   {
    "duration": 223,
    "start_time": "2022-01-19T19:52:47.878Z"
   },
   {
    "duration": 221,
    "start_time": "2022-01-19T19:52:54.917Z"
   },
   {
    "duration": 227,
    "start_time": "2022-01-19T19:53:00.661Z"
   },
   {
    "duration": 203,
    "start_time": "2022-01-19T19:53:10.237Z"
   },
   {
    "duration": 33,
    "start_time": "2022-01-19T19:53:49.493Z"
   },
   {
    "duration": 207,
    "start_time": "2022-01-19T19:54:47.566Z"
   },
   {
    "duration": 28,
    "start_time": "2022-01-19T19:55:57.349Z"
   },
   {
    "duration": 207,
    "start_time": "2022-01-19T19:56:38.196Z"
   },
   {
    "duration": 216,
    "start_time": "2022-01-19T19:56:43.028Z"
   },
   {
    "duration": 218,
    "start_time": "2022-01-19T19:56:46.115Z"
   },
   {
    "duration": 26,
    "start_time": "2022-01-19T19:56:52.115Z"
   },
   {
    "duration": 221,
    "start_time": "2022-01-19T19:57:08.011Z"
   },
   {
    "duration": 26,
    "start_time": "2022-01-19T19:57:10.123Z"
   },
   {
    "duration": 197,
    "start_time": "2022-01-19T19:57:20.763Z"
   },
   {
    "duration": 202,
    "start_time": "2022-01-19T19:57:25.436Z"
   },
   {
    "duration": 26,
    "start_time": "2022-01-19T19:57:27.835Z"
   },
   {
    "duration": 25,
    "start_time": "2022-01-19T19:57:41.363Z"
   },
   {
    "duration": 217,
    "start_time": "2022-01-19T19:57:54.666Z"
   },
   {
    "duration": 213,
    "start_time": "2022-01-19T19:58:11.798Z"
   },
   {
    "duration": 239,
    "start_time": "2022-01-19T19:58:19.843Z"
   },
   {
    "duration": 214,
    "start_time": "2022-01-19T19:58:27.436Z"
   },
   {
    "duration": 243,
    "start_time": "2022-01-19T19:58:31.291Z"
   },
   {
    "duration": 217,
    "start_time": "2022-01-19T19:59:08.932Z"
   },
   {
    "duration": 226,
    "start_time": "2022-01-19T19:59:21.610Z"
   },
   {
    "duration": 25,
    "start_time": "2022-01-19T20:00:22.243Z"
   },
   {
    "duration": 74,
    "start_time": "2022-01-19T20:04:32.257Z"
   },
   {
    "duration": 211,
    "start_time": "2022-01-19T20:04:36.632Z"
   },
   {
    "duration": 219,
    "start_time": "2022-01-19T20:05:03.496Z"
   },
   {
    "duration": 484,
    "start_time": "2022-01-19T20:05:18.351Z"
   },
   {
    "duration": 235,
    "start_time": "2022-01-19T20:05:25.007Z"
   },
   {
    "duration": 26,
    "start_time": "2022-01-19T20:05:37.559Z"
   },
   {
    "duration": 29,
    "start_time": "2022-01-19T20:06:15.910Z"
   },
   {
    "duration": 25,
    "start_time": "2022-01-19T20:06:27.263Z"
   },
   {
    "duration": 28,
    "start_time": "2022-01-19T20:07:25.918Z"
   },
   {
    "duration": 67,
    "start_time": "2022-01-19T20:08:29.733Z"
   },
   {
    "duration": 65,
    "start_time": "2022-01-19T20:08:53.902Z"
   },
   {
    "duration": 68,
    "start_time": "2022-01-19T20:09:20.895Z"
   },
   {
    "duration": 60,
    "start_time": "2022-01-19T20:09:26.086Z"
   },
   {
    "duration": 40,
    "start_time": "2022-01-19T20:09:37.174Z"
   },
   {
    "duration": 29,
    "start_time": "2022-01-19T20:11:33.709Z"
   },
   {
    "duration": 39,
    "start_time": "2022-01-19T20:21:09.064Z"
   },
   {
    "duration": 121,
    "start_time": "2022-01-20T16:49:12.163Z"
   },
   {
    "duration": 471,
    "start_time": "2022-01-20T16:50:42.603Z"
   },
   {
    "duration": 1679,
    "start_time": "2022-01-20T16:50:47.278Z"
   },
   {
    "duration": 12,
    "start_time": "2022-01-20T16:50:48.960Z"
   },
   {
    "duration": 33,
    "start_time": "2022-01-20T16:50:48.975Z"
   },
   {
    "duration": 55,
    "start_time": "2022-01-20T16:50:49.011Z"
   },
   {
    "duration": 19,
    "start_time": "2022-01-20T16:50:49.068Z"
   },
   {
    "duration": 149,
    "start_time": "2022-01-20T16:50:49.090Z"
   },
   {
    "duration": 46,
    "start_time": "2022-01-20T16:50:49.258Z"
   },
   {
    "duration": 76,
    "start_time": "2022-01-20T16:50:49.307Z"
   },
   {
    "duration": 950,
    "start_time": "2022-01-20T16:50:49.385Z"
   },
   {
    "duration": 28,
    "start_time": "2022-01-20T16:50:50.337Z"
   },
   {
    "duration": 110,
    "start_time": "2022-01-20T16:50:50.369Z"
   },
   {
    "duration": 13,
    "start_time": "2022-01-20T16:50:52.043Z"
   },
   {
    "duration": 118,
    "start_time": "2022-01-20T16:52:06.466Z"
   },
   {
    "duration": 16,
    "start_time": "2022-01-20T16:52:10.490Z"
   },
   {
    "duration": 14,
    "start_time": "2022-01-20T16:52:28.146Z"
   },
   {
    "duration": 14,
    "start_time": "2022-01-20T16:52:45.059Z"
   },
   {
    "duration": 70,
    "start_time": "2022-01-20T16:54:27.706Z"
   },
   {
    "duration": 51,
    "start_time": "2022-01-20T16:57:27.049Z"
   },
   {
    "duration": 41,
    "start_time": "2022-01-20T16:59:15.567Z"
   },
   {
    "duration": 18,
    "start_time": "2022-01-20T17:13:02.794Z"
   },
   {
    "duration": 8,
    "start_time": "2022-01-20T17:13:36.417Z"
   },
   {
    "duration": 7,
    "start_time": "2022-01-20T17:13:42.329Z"
   },
   {
    "duration": 12,
    "start_time": "2022-01-20T17:14:30.617Z"
   },
   {
    "duration": 10,
    "start_time": "2022-01-20T17:14:35.977Z"
   },
   {
    "duration": 18,
    "start_time": "2022-01-20T17:15:33.058Z"
   },
   {
    "duration": 12,
    "start_time": "2022-01-20T17:15:44.968Z"
   },
   {
    "duration": 16,
    "start_time": "2022-01-20T17:15:51.913Z"
   },
   {
    "duration": 4,
    "start_time": "2022-01-20T17:29:15.011Z"
   },
   {
    "duration": 7,
    "start_time": "2022-01-20T17:31:17.424Z"
   },
   {
    "duration": 12,
    "start_time": "2022-01-20T17:31:22.483Z"
   },
   {
    "duration": 1982,
    "start_time": "2022-01-20T17:32:13.529Z"
   },
   {
    "duration": 680,
    "start_time": "2022-01-20T17:32:48.953Z"
   },
   {
    "duration": 4,
    "start_time": "2022-01-20T17:33:02.682Z"
   },
   {
    "duration": 717,
    "start_time": "2022-01-20T17:33:04.818Z"
   },
   {
    "duration": 5,
    "start_time": "2022-01-20T17:33:10.985Z"
   },
   {
    "duration": 4,
    "start_time": "2022-01-20T17:33:18.938Z"
   },
   {
    "duration": 737,
    "start_time": "2022-01-20T17:33:20.490Z"
   },
   {
    "duration": 4,
    "start_time": "2022-01-20T17:33:40.121Z"
   },
   {
    "duration": 5,
    "start_time": "2022-01-20T17:33:42.200Z"
   },
   {
    "duration": 25,
    "start_time": "2022-01-20T17:33:44.729Z"
   },
   {
    "duration": 29,
    "start_time": "2022-01-20T17:33:50.866Z"
   },
   {
    "duration": 5,
    "start_time": "2022-01-20T17:34:12.993Z"
   },
   {
    "duration": 25,
    "start_time": "2022-01-20T17:34:14.809Z"
   },
   {
    "duration": 37,
    "start_time": "2022-01-20T17:35:53.969Z"
   },
   {
    "duration": 27,
    "start_time": "2022-01-20T17:36:09.545Z"
   },
   {
    "duration": 870,
    "start_time": "2022-01-20T17:36:38.208Z"
   },
   {
    "duration": 12,
    "start_time": "2022-01-20T17:36:39.081Z"
   },
   {
    "duration": 33,
    "start_time": "2022-01-20T17:36:39.096Z"
   },
   {
    "duration": 24,
    "start_time": "2022-01-20T17:36:39.161Z"
   },
   {
    "duration": 22,
    "start_time": "2022-01-20T17:36:39.188Z"
   },
   {
    "duration": 167,
    "start_time": "2022-01-20T17:36:39.213Z"
   },
   {
    "duration": 48,
    "start_time": "2022-01-20T17:36:39.383Z"
   },
   {
    "duration": 87,
    "start_time": "2022-01-20T17:36:39.435Z"
   },
   {
    "duration": 961,
    "start_time": "2022-01-20T17:36:39.525Z"
   },
   {
    "duration": 21,
    "start_time": "2022-01-20T17:36:40.489Z"
   },
   {
    "duration": 88,
    "start_time": "2022-01-20T17:36:40.512Z"
   },
   {
    "duration": 15,
    "start_time": "2022-01-20T17:36:40.602Z"
   },
   {
    "duration": 68,
    "start_time": "2022-01-20T17:36:40.619Z"
   },
   {
    "duration": 6,
    "start_time": "2022-01-20T17:36:40.690Z"
   },
   {
    "duration": 9682,
    "start_time": "2022-01-20T17:36:42.388Z"
   },
   {
    "duration": 35,
    "start_time": "2022-01-20T17:37:39.333Z"
   },
   {
    "duration": 23,
    "start_time": "2022-01-20T17:39:08.299Z"
   },
   {
    "duration": 21,
    "start_time": "2022-01-20T17:39:58.787Z"
   },
   {
    "duration": 739,
    "start_time": "2022-01-20T17:40:50.379Z"
   },
   {
    "duration": 11244,
    "start_time": "2022-01-20T17:40:59.915Z"
   },
   {
    "duration": 24,
    "start_time": "2022-01-20T17:41:52.867Z"
   },
   {
    "duration": 74,
    "start_time": "2022-01-20T17:42:37.972Z"
   },
   {
    "duration": 26,
    "start_time": "2022-01-20T17:42:47.962Z"
   },
   {
    "duration": 27,
    "start_time": "2022-01-20T17:42:57.242Z"
   },
   {
    "duration": 11,
    "start_time": "2022-01-20T17:44:14.665Z"
   },
   {
    "duration": 26,
    "start_time": "2022-01-20T17:45:44.033Z"
   },
   {
    "duration": 31,
    "start_time": "2022-01-20T17:45:56.202Z"
   },
   {
    "duration": 31,
    "start_time": "2022-01-20T17:47:43.856Z"
   },
   {
    "duration": 36,
    "start_time": "2022-01-20T17:49:13.680Z"
   },
   {
    "duration": 1501,
    "start_time": "2022-01-20T17:49:21.536Z"
   },
   {
    "duration": 52,
    "start_time": "2022-01-20T17:49:29.584Z"
   },
   {
    "duration": 38,
    "start_time": "2022-01-20T17:55:27.373Z"
   },
   {
    "duration": 1302,
    "start_time": "2022-01-20T18:01:08.554Z"
   },
   {
    "duration": 977,
    "start_time": "2022-01-20T18:01:37.434Z"
   },
   {
    "duration": 36,
    "start_time": "2022-01-20T18:03:19.162Z"
   },
   {
    "duration": 16,
    "start_time": "2022-01-20T18:10:31.966Z"
   },
   {
    "duration": 1238,
    "start_time": "2022-01-20T18:19:53.387Z"
   },
   {
    "duration": 568,
    "start_time": "2022-01-20T18:20:24.411Z"
   },
   {
    "duration": 394,
    "start_time": "2022-01-20T18:20:30.834Z"
   },
   {
    "duration": 427,
    "start_time": "2022-01-20T18:20:38.170Z"
   },
   {
    "duration": 386,
    "start_time": "2022-01-20T18:20:40.570Z"
   },
   {
    "duration": 374,
    "start_time": "2022-01-20T18:21:32.850Z"
   },
   {
    "duration": 366,
    "start_time": "2022-01-20T18:22:34.337Z"
   },
   {
    "duration": 407,
    "start_time": "2022-01-20T18:22:41.186Z"
   },
   {
    "duration": 415,
    "start_time": "2022-01-20T18:25:11.985Z"
   },
   {
    "duration": 7,
    "start_time": "2022-01-20T18:25:28.080Z"
   },
   {
    "duration": 137,
    "start_time": "2022-01-20T18:32:04.311Z"
   },
   {
    "duration": 416,
    "start_time": "2022-01-20T18:32:08.398Z"
   },
   {
    "duration": 389,
    "start_time": "2022-01-20T18:32:27.703Z"
   },
   {
    "duration": 15,
    "start_time": "2022-01-20T18:32:36.854Z"
   },
   {
    "duration": 406,
    "start_time": "2022-01-20T18:32:41.590Z"
   },
   {
    "duration": 368,
    "start_time": "2022-01-20T18:33:33.214Z"
   },
   {
    "duration": 4307,
    "start_time": "2022-01-20T18:35:57.036Z"
   },
   {
    "duration": 1682,
    "start_time": "2022-01-20T18:36:59.108Z"
   },
   {
    "duration": 366,
    "start_time": "2022-01-20T18:37:34.604Z"
   },
   {
    "duration": 834,
    "start_time": "2022-01-20T18:37:37.844Z"
   },
   {
    "duration": 2605,
    "start_time": "2022-01-20T18:37:45.571Z"
   },
   {
    "duration": 1757,
    "start_time": "2022-01-20T18:39:22.940Z"
   },
   {
    "duration": 96,
    "start_time": "2022-01-20T18:39:27.422Z"
   },
   {
    "duration": 40,
    "start_time": "2022-01-20T18:39:27.522Z"
   },
   {
    "duration": 32,
    "start_time": "2022-01-20T18:39:27.565Z"
   },
   {
    "duration": 18,
    "start_time": "2022-01-20T18:39:27.600Z"
   },
   {
    "duration": 55,
    "start_time": "2022-01-20T18:39:27.621Z"
   },
   {
    "duration": 118,
    "start_time": "2022-01-20T18:39:27.679Z"
   },
   {
    "duration": 34,
    "start_time": "2022-01-20T18:39:27.799Z"
   },
   {
    "duration": 68,
    "start_time": "2022-01-20T18:39:27.837Z"
   },
   {
    "duration": 1071,
    "start_time": "2022-01-20T18:39:27.908Z"
   },
   {
    "duration": 16,
    "start_time": "2022-01-20T18:39:28.981Z"
   },
   {
    "duration": 82,
    "start_time": "2022-01-20T18:39:29.000Z"
   },
   {
    "duration": 14,
    "start_time": "2022-01-20T18:39:29.084Z"
   },
   {
    "duration": 86,
    "start_time": "2022-01-20T18:39:29.101Z"
   },
   {
    "duration": 4,
    "start_time": "2022-01-20T18:39:29.189Z"
   },
   {
    "duration": 67,
    "start_time": "2022-01-20T18:39:29.195Z"
   },
   {
    "duration": 12,
    "start_time": "2022-01-20T18:39:29.265Z"
   },
   {
    "duration": 80,
    "start_time": "2022-01-20T18:39:29.281Z"
   },
   {
    "duration": 17,
    "start_time": "2022-01-20T18:39:29.364Z"
   },
   {
    "duration": 8,
    "start_time": "2022-01-20T18:39:29.384Z"
   },
   {
    "duration": 26,
    "start_time": "2022-01-20T18:39:40.916Z"
   },
   {
    "duration": 10,
    "start_time": "2022-01-20T18:39:49.994Z"
   },
   {
    "duration": 36,
    "start_time": "2022-01-20T18:39:50.451Z"
   },
   {
    "duration": 15,
    "start_time": "2022-01-20T18:39:52.530Z"
   },
   {
    "duration": 8,
    "start_time": "2022-01-20T18:39:53.075Z"
   },
   {
    "duration": 4606,
    "start_time": "2022-01-20T18:39:54.411Z"
   },
   {
    "duration": 5,
    "start_time": "2022-01-20T18:47:18.664Z"
   },
   {
    "duration": 123,
    "start_time": "2022-01-20T18:49:35.559Z"
   },
   {
    "duration": 5,
    "start_time": "2022-01-20T18:49:55.551Z"
   },
   {
    "duration": 1788,
    "start_time": "2022-01-20T18:49:57.367Z"
   },
   {
    "duration": 4,
    "start_time": "2022-01-20T18:52:46.646Z"
   },
   {
    "duration": 1845,
    "start_time": "2022-01-20T18:52:48.006Z"
   },
   {
    "duration": 5,
    "start_time": "2022-01-20T18:53:07.957Z"
   },
   {
    "duration": 1803,
    "start_time": "2022-01-20T18:53:08.613Z"
   },
   {
    "duration": 371,
    "start_time": "2022-01-20T18:54:01.789Z"
   },
   {
    "duration": 12,
    "start_time": "2022-01-20T18:56:20.796Z"
   },
   {
    "duration": 25,
    "start_time": "2022-01-20T18:56:32.443Z"
   },
   {
    "duration": 25,
    "start_time": "2022-01-20T18:57:01.380Z"
   },
   {
    "duration": 16,
    "start_time": "2022-01-20T18:57:16.308Z"
   },
   {
    "duration": 15,
    "start_time": "2022-01-20T18:57:23.484Z"
   },
   {
    "duration": 24,
    "start_time": "2022-01-20T18:57:27.307Z"
   },
   {
    "duration": 29,
    "start_time": "2022-01-20T18:57:42.236Z"
   },
   {
    "duration": 6,
    "start_time": "2022-01-20T19:00:22.658Z"
   },
   {
    "duration": 564,
    "start_time": "2022-01-20T19:08:42.744Z"
   },
   {
    "duration": 858,
    "start_time": "2022-01-20T19:08:50.213Z"
   },
   {
    "duration": 14,
    "start_time": "2022-01-20T19:08:51.073Z"
   },
   {
    "duration": 33,
    "start_time": "2022-01-20T19:08:51.090Z"
   },
   {
    "duration": 19,
    "start_time": "2022-01-20T19:08:51.161Z"
   },
   {
    "duration": 19,
    "start_time": "2022-01-20T19:08:51.182Z"
   },
   {
    "duration": 139,
    "start_time": "2022-01-20T19:08:51.204Z"
   },
   {
    "duration": 38,
    "start_time": "2022-01-20T19:08:51.345Z"
   },
   {
    "duration": 77,
    "start_time": "2022-01-20T19:08:51.386Z"
   },
   {
    "duration": 952,
    "start_time": "2022-01-20T19:08:51.466Z"
   },
   {
    "duration": 18,
    "start_time": "2022-01-20T19:08:52.422Z"
   },
   {
    "duration": 63,
    "start_time": "2022-01-20T19:08:52.461Z"
   },
   {
    "duration": 44,
    "start_time": "2022-01-20T19:08:52.528Z"
   },
   {
    "duration": 83,
    "start_time": "2022-01-20T19:08:52.576Z"
   },
   {
    "duration": 6,
    "start_time": "2022-01-20T19:08:52.662Z"
   },
   {
    "duration": 32,
    "start_time": "2022-01-20T19:08:52.671Z"
   },
   {
    "duration": 54,
    "start_time": "2022-01-20T19:08:52.705Z"
   },
   {
    "duration": 34,
    "start_time": "2022-01-20T19:08:52.762Z"
   },
   {
    "duration": 15,
    "start_time": "2022-01-20T19:08:52.798Z"
   },
   {
    "duration": 788,
    "start_time": "2022-01-20T19:08:52.815Z"
   },
   {
    "duration": -133,
    "start_time": "2022-01-20T19:12:31.083Z"
   },
   {
    "duration": -136,
    "start_time": "2022-01-20T19:12:31.088Z"
   },
   {
    "duration": 14235,
    "start_time": "2022-01-20T19:12:33.038Z"
   },
   {
    "duration": 368,
    "start_time": "2022-01-20T19:13:19.238Z"
   },
   {
    "duration": 11,
    "start_time": "2022-01-20T19:13:42.982Z"
   },
   {
    "duration": 11,
    "start_time": "2022-01-20T19:14:26.103Z"
   },
   {
    "duration": 11,
    "start_time": "2022-01-20T19:14:37.919Z"
   },
   {
    "duration": 12,
    "start_time": "2022-01-20T19:18:35.356Z"
   },
   {
    "duration": 3205,
    "start_time": "2022-01-20T19:20:42.771Z"
   },
   {
    "duration": 1621,
    "start_time": "2022-01-20T19:23:35.498Z"
   },
   {
    "duration": 657,
    "start_time": "2022-01-20T19:24:18.234Z"
   },
   {
    "duration": 96,
    "start_time": "2022-01-20T19:24:58.437Z"
   },
   {
    "duration": 29,
    "start_time": "2022-01-20T19:24:58.536Z"
   },
   {
    "duration": 32,
    "start_time": "2022-01-20T19:24:58.568Z"
   },
   {
    "duration": 18,
    "start_time": "2022-01-20T19:24:58.602Z"
   },
   {
    "duration": 20,
    "start_time": "2022-01-20T19:24:58.660Z"
   },
   {
    "duration": 121,
    "start_time": "2022-01-20T19:24:58.682Z"
   },
   {
    "duration": 34,
    "start_time": "2022-01-20T19:24:58.805Z"
   },
   {
    "duration": 54,
    "start_time": "2022-01-20T19:24:58.862Z"
   },
   {
    "duration": 948,
    "start_time": "2022-01-20T19:24:58.919Z"
   },
   {
    "duration": 16,
    "start_time": "2022-01-20T19:24:59.870Z"
   },
   {
    "duration": 88,
    "start_time": "2022-01-20T19:24:59.888Z"
   },
   {
    "duration": 13,
    "start_time": "2022-01-20T19:24:59.979Z"
   },
   {
    "duration": 80,
    "start_time": "2022-01-20T19:24:59.994Z"
   },
   {
    "duration": 5,
    "start_time": "2022-01-20T19:25:00.077Z"
   },
   {
    "duration": 33,
    "start_time": "2022-01-20T19:25:00.085Z"
   },
   {
    "duration": 48,
    "start_time": "2022-01-20T19:25:00.121Z"
   },
   {
    "duration": 39,
    "start_time": "2022-01-20T19:25:00.172Z"
   },
   {
    "duration": 58,
    "start_time": "2022-01-20T19:25:00.214Z"
   },
   {
    "duration": 10,
    "start_time": "2022-01-20T19:25:00.275Z"
   },
   {
    "duration": 4258,
    "start_time": "2022-01-20T19:25:03.178Z"
   },
   {
    "duration": 4092,
    "start_time": "2022-01-20T19:25:24.202Z"
   },
   {
    "duration": 9286,
    "start_time": "2022-01-20T19:28:30.544Z"
   },
   {
    "duration": 9094,
    "start_time": "2022-01-20T19:28:52.736Z"
   },
   {
    "duration": 9061,
    "start_time": "2022-01-20T19:29:06.368Z"
   },
   {
    "duration": 10247,
    "start_time": "2022-01-20T19:30:13.791Z"
   },
   {
    "duration": 10005,
    "start_time": "2022-01-20T19:32:15.143Z"
   },
   {
    "duration": 9260,
    "start_time": "2022-01-20T19:32:59.463Z"
   },
   {
    "duration": 1325,
    "start_time": "2022-01-20T19:33:24.119Z"
   },
   {
    "duration": 17,
    "start_time": "2022-01-20T19:33:43.335Z"
   },
   {
    "duration": 13491,
    "start_time": "2022-01-20T19:35:39.910Z"
   },
   {
    "duration": 20,
    "start_time": "2022-01-20T19:35:53.404Z"
   },
   {
    "duration": 37883,
    "start_time": "2022-01-20T19:36:42.049Z"
   },
   {
    "duration": 27,
    "start_time": "2022-01-20T19:37:19.935Z"
   },
   {
    "duration": 419,
    "start_time": "2022-01-20T19:39:48.988Z"
   },
   {
    "duration": 38882,
    "start_time": "2022-01-20T19:42:09.588Z"
   },
   {
    "duration": 18,
    "start_time": "2022-01-20T19:42:48.473Z"
   },
   {
    "duration": 8883,
    "start_time": "2022-01-20T19:43:23.755Z"
   },
   {
    "duration": 5,
    "start_time": "2022-01-20T19:43:52.795Z"
   },
   {
    "duration": 8728,
    "start_time": "2022-01-20T19:44:03.602Z"
   },
   {
    "duration": 15,
    "start_time": "2022-01-20T19:44:26.314Z"
   },
   {
    "duration": 4239,
    "start_time": "2022-01-20T19:44:27.769Z"
   },
   {
    "duration": 44790,
    "start_time": "2022-01-20T19:44:35.881Z"
   },
   {
    "duration": 17,
    "start_time": "2022-01-20T19:48:57.920Z"
   },
   {
    "duration": 30,
    "start_time": "2022-01-20T19:50:08.783Z"
   },
   {
    "duration": 32,
    "start_time": "2022-01-20T19:50:41.871Z"
   },
   {
    "duration": 95,
    "start_time": "2022-01-20T19:55:25.894Z"
   },
   {
    "duration": 31,
    "start_time": "2022-01-20T19:55:39.621Z"
   },
   {
    "duration": 110,
    "start_time": "2022-01-25T17:12:43.394Z"
   },
   {
    "duration": 336,
    "start_time": "2022-01-25T17:55:48.576Z"
   },
   {
    "duration": 952,
    "start_time": "2022-01-25T17:55:54.528Z"
   },
   {
    "duration": 13,
    "start_time": "2022-01-25T17:55:55.482Z"
   },
   {
    "duration": 31,
    "start_time": "2022-01-25T17:55:55.498Z"
   },
   {
    "duration": 47,
    "start_time": "2022-01-25T17:55:55.532Z"
   },
   {
    "duration": 21,
    "start_time": "2022-01-25T17:55:55.582Z"
   },
   {
    "duration": 129,
    "start_time": "2022-01-25T17:55:55.605Z"
   },
   {
    "duration": 55,
    "start_time": "2022-01-25T17:55:55.736Z"
   },
   {
    "duration": 49,
    "start_time": "2022-01-25T17:55:55.795Z"
   },
   {
    "duration": 967,
    "start_time": "2022-01-25T17:55:55.869Z"
   },
   {
    "duration": 4,
    "start_time": "2022-01-25T17:55:56.839Z"
   },
   {
    "duration": 5,
    "start_time": "2022-01-25T17:56:09.939Z"
   },
   {
    "duration": 4887,
    "start_time": "2022-01-25T17:56:11.756Z"
   },
   {
    "duration": 5135,
    "start_time": "2022-01-25T17:56:28.100Z"
   },
   {
    "duration": 4980,
    "start_time": "2022-01-25T17:56:47.979Z"
   },
   {
    "duration": 317,
    "start_time": "2022-01-25T17:58:55.455Z"
   },
   {
    "duration": 28000,
    "start_time": "2022-01-25T18:03:33.216Z"
   },
   {
    "duration": 91,
    "start_time": "2022-01-25T18:04:11.333Z"
   },
   {
    "duration": 12,
    "start_time": "2022-01-25T18:04:11.427Z"
   },
   {
    "duration": 49,
    "start_time": "2022-01-25T18:04:11.442Z"
   },
   {
    "duration": 18,
    "start_time": "2022-01-25T18:04:11.493Z"
   },
   {
    "duration": 18,
    "start_time": "2022-01-25T18:04:11.513Z"
   },
   {
    "duration": 122,
    "start_time": "2022-01-25T18:04:11.534Z"
   },
   {
    "duration": 44,
    "start_time": "2022-01-25T18:04:11.658Z"
   },
   {
    "duration": 65,
    "start_time": "2022-01-25T18:04:11.705Z"
   },
   {
    "duration": 986,
    "start_time": "2022-01-25T18:04:11.773Z"
   },
   {
    "duration": 10,
    "start_time": "2022-01-25T18:04:12.761Z"
   },
   {
    "duration": 42518,
    "start_time": "2022-01-25T18:04:16.089Z"
   },
   {
    "duration": -185,
    "start_time": "2022-01-25T18:04:58.795Z"
   },
   {
    "duration": 1277,
    "start_time": "2022-01-25T18:05:05.810Z"
   },
   {
    "duration": 101,
    "start_time": "2022-01-25T18:05:15.669Z"
   },
   {
    "duration": 12,
    "start_time": "2022-01-25T18:05:15.773Z"
   },
   {
    "duration": 31,
    "start_time": "2022-01-25T18:05:15.787Z"
   },
   {
    "duration": 55,
    "start_time": "2022-01-25T18:05:15.820Z"
   },
   {
    "duration": 19,
    "start_time": "2022-01-25T18:05:15.877Z"
   },
   {
    "duration": 155,
    "start_time": "2022-01-25T18:05:15.899Z"
   },
   {
    "duration": 41,
    "start_time": "2022-01-25T18:05:16.057Z"
   },
   {
    "duration": 74,
    "start_time": "2022-01-25T18:05:16.101Z"
   },
   {
    "duration": 970,
    "start_time": "2022-01-25T18:05:16.179Z"
   },
   {
    "duration": 16,
    "start_time": "2022-01-25T18:05:17.153Z"
   },
   {
    "duration": 6,
    "start_time": "2022-01-25T18:05:17.173Z"
   },
   {
    "duration": 51278,
    "start_time": "2022-01-25T18:05:18.426Z"
   },
   {
    "duration": 57029,
    "start_time": "2022-01-25T18:14:08.340Z"
   },
   {
    "duration": 7181,
    "start_time": "2022-01-25T18:18:33.123Z"
   },
   {
    "duration": 25,
    "start_time": "2022-01-25T18:19:10.548Z"
   },
   {
    "duration": 98,
    "start_time": "2022-01-25T18:21:27.507Z"
   },
   {
    "duration": 48,
    "start_time": "2022-01-25T18:21:56.409Z"
   },
   {
    "duration": 28,
    "start_time": "2022-01-25T18:26:11.441Z"
   },
   {
    "duration": 26,
    "start_time": "2022-01-25T18:26:31.846Z"
   },
   {
    "duration": 3,
    "start_time": "2022-01-25T18:26:37.831Z"
   },
   {
    "duration": 331,
    "start_time": "2022-01-25T18:28:06.408Z"
   },
   {
    "duration": 45,
    "start_time": "2022-01-25T18:28:27.456Z"
   },
   {
    "duration": 51,
    "start_time": "2022-01-25T18:28:44.447Z"
   },
   {
    "duration": 46,
    "start_time": "2022-01-25T18:29:25.215Z"
   },
   {
    "duration": 308,
    "start_time": "2022-01-25T18:30:13.214Z"
   },
   {
    "duration": 46,
    "start_time": "2022-01-25T18:30:23.366Z"
   },
   {
    "duration": 47,
    "start_time": "2022-01-25T18:31:12.887Z"
   },
   {
    "duration": 54,
    "start_time": "2022-01-25T18:31:40.262Z"
   },
   {
    "duration": 93,
    "start_time": "2022-01-25T18:32:48.494Z"
   },
   {
    "duration": 90,
    "start_time": "2022-01-25T18:34:36.301Z"
   },
   {
    "duration": 4,
    "start_time": "2022-01-25T18:36:17.813Z"
   },
   {
    "duration": 26,
    "start_time": "2022-01-25T18:36:18.820Z"
   },
   {
    "duration": 24,
    "start_time": "2022-01-25T18:36:27.837Z"
   },
   {
    "duration": 10,
    "start_time": "2022-01-25T18:36:31.468Z"
   },
   {
    "duration": 38,
    "start_time": "2022-01-25T18:36:32.796Z"
   },
   {
    "duration": 43,
    "start_time": "2022-01-25T18:38:21.442Z"
   },
   {
    "duration": 12,
    "start_time": "2022-01-25T18:38:54.188Z"
   },
   {
    "duration": 4832,
    "start_time": "2022-01-25T18:38:55.420Z"
   },
   {
    "duration": 50215,
    "start_time": "2022-01-25T18:39:02.004Z"
   },
   {
    "duration": 56,
    "start_time": "2022-01-25T18:40:16.579Z"
   },
   {
    "duration": 12,
    "start_time": "2022-01-25T18:40:22.019Z"
   },
   {
    "duration": 4,
    "start_time": "2022-01-25T18:40:57.986Z"
   },
   {
    "duration": 91,
    "start_time": "2022-01-25T18:46:51.768Z"
   },
   {
    "duration": 14,
    "start_time": "2022-01-25T18:48:37.944Z"
   },
   {
    "duration": 12,
    "start_time": "2022-01-25T18:49:14.335Z"
   },
   {
    "duration": 111,
    "start_time": "2022-01-25T18:50:59.017Z"
   },
   {
    "duration": 14,
    "start_time": "2022-01-25T18:50:59.131Z"
   },
   {
    "duration": 59,
    "start_time": "2022-01-25T18:50:59.149Z"
   },
   {
    "duration": 23,
    "start_time": "2022-01-25T18:50:59.211Z"
   },
   {
    "duration": 49,
    "start_time": "2022-01-25T18:50:59.236Z"
   },
   {
    "duration": 144,
    "start_time": "2022-01-25T18:50:59.289Z"
   },
   {
    "duration": 61,
    "start_time": "2022-01-25T18:50:59.436Z"
   },
   {
    "duration": 71,
    "start_time": "2022-01-25T18:50:59.501Z"
   },
   {
    "duration": 1083,
    "start_time": "2022-01-25T18:50:59.577Z"
   },
   {
    "duration": 7,
    "start_time": "2022-01-25T18:51:00.671Z"
   },
   {
    "duration": 22,
    "start_time": "2022-01-25T18:51:00.684Z"
   },
   {
    "duration": 69,
    "start_time": "2022-01-25T18:51:00.709Z"
   },
   {
    "duration": 62,
    "start_time": "2022-01-25T18:51:00.781Z"
   },
   {
    "duration": 4,
    "start_time": "2022-01-25T18:51:00.846Z"
   },
   {
    "duration": 41,
    "start_time": "2022-01-25T18:51:00.870Z"
   },
   {
    "duration": 10,
    "start_time": "2022-01-25T18:51:00.914Z"
   },
   {
    "duration": 86,
    "start_time": "2022-01-25T18:51:00.927Z"
   },
   {
    "duration": 20,
    "start_time": "2022-01-25T18:51:01.016Z"
   },
   {
    "duration": 4999,
    "start_time": "2022-01-25T18:51:01.039Z"
   },
   {
    "duration": 54083,
    "start_time": "2022-01-25T18:51:06.041Z"
   },
   {
    "duration": 13,
    "start_time": "2022-01-25T18:52:00.127Z"
   },
   {
    "duration": 93,
    "start_time": "2022-01-25T18:52:00.143Z"
   },
   {
    "duration": 14,
    "start_time": "2022-01-25T18:52:07.902Z"
   },
   {
    "duration": 14,
    "start_time": "2022-01-25T18:52:53.406Z"
   },
   {
    "duration": 17,
    "start_time": "2022-01-25T19:29:14.514Z"
   },
   {
    "duration": -368,
    "start_time": "2022-01-25T19:29:33.448Z"
   },
   {
    "duration": 15,
    "start_time": "2022-01-25T19:29:40.636Z"
   }
  ],
  "kernelspec": {
   "display_name": "Python 3 (ipykernel)",
   "language": "python",
   "name": "python3"
  },
  "language_info": {
   "codemirror_mode": {
    "name": "ipython",
    "version": 3
   },
   "file_extension": ".py",
   "mimetype": "text/x-python",
   "name": "python",
   "nbconvert_exporter": "python",
   "pygments_lexer": "ipython3",
   "version": "3.7.8"
  },
  "toc": {
   "base_numbering": 1,
   "nav_menu": {},
   "number_sections": true,
   "sideBar": true,
   "skip_h1_title": true,
   "title_cell": "Table of Contents",
   "title_sidebar": "Contents",
   "toc_cell": false,
   "toc_position": {
    "height": "calc(100% - 180px)",
    "left": "10px",
    "top": "150px",
    "width": "293.542px"
   },
   "toc_section_display": true,
   "toc_window_display": true
  }
 },
 "nbformat": 4,
 "nbformat_minor": 2
}
