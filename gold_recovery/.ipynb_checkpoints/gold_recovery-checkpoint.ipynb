{
 "cells": [
  {
   "cell_type": "markdown",
   "metadata": {},
   "source": [
    "# Восстановление золота из руды"
   ]
  },
  {
   "cell_type": "markdown",
   "metadata": {},
   "source": [
    "Подготовьте прототип модели машинного обучения для «Цифры». Компания разрабатывает решения для эффективной работы промышленных предприятий.\n",
    "\n",
    "Модель должна предсказать коэффициент восстановления золота из золотосодержащей руды. Используйте данные с параметрами добычи и очистки. \n",
    "\n",
    "Модель поможет оптимизировать производство, чтобы не запускать предприятие с убыточными характеристиками.\n",
    "\n",
    "Вам нужно:\n",
    "\n",
    "1. Подготовить данные;\n",
    "2. Провести исследовательский анализ данных;\n",
    "3. Построить и обучить модель.\n",
    "\n",
    "Чтобы выполнить проект, обращайтесь к библиотекам *pandas*, *matplotlib* и *sklearn.* Вам поможет их документация."
   ]
  },
  {
   "cell_type": "markdown",
   "metadata": {},
   "source": [
    "## Подготовка данных"
   ]
  },
  {
   "cell_type": "markdown",
   "metadata": {},
   "source": [
    "### Изучение данных"
   ]
  },
  {
   "cell_type": "code",
   "execution_count": 1,
   "metadata": {},
   "outputs": [],
   "source": [
    "import pandas as pd\n",
    "import matplotlib.pyplot as plt\n",
    "import numpy as np\n",
    "from sklearn.linear_model import LinearRegression\n",
    "from sklearn.tree import DecisionTreeRegressor\n",
    "from sklearn.ensemble import RandomForestRegressor\n",
    "from sklearn.metrics import mean_squared_error, make_scorer, mean_absolute_error, r2_score\n",
    "from sklearn.model_selection import cross_val_score, cross_validate\n",
    "from sklearn.model_selection import GridSearchCV\n"
   ]
  },
  {
   "cell_type": "code",
   "execution_count": 2,
   "metadata": {
    "scrolled": false
   },
   "outputs": [
    {
     "data": {
      "text/html": [
       "<div>\n",
       "<style scoped>\n",
       "    .dataframe tbody tr th:only-of-type {\n",
       "        vertical-align: middle;\n",
       "    }\n",
       "\n",
       "    .dataframe tbody tr th {\n",
       "        vertical-align: top;\n",
       "    }\n",
       "\n",
       "    .dataframe thead th {\n",
       "        text-align: right;\n",
       "    }\n",
       "</style>\n",
       "<table border=\"1\" class=\"dataframe\">\n",
       "  <thead>\n",
       "    <tr style=\"text-align: right;\">\n",
       "      <th></th>\n",
       "      <th>date</th>\n",
       "      <th>final.output.concentrate_ag</th>\n",
       "      <th>final.output.concentrate_pb</th>\n",
       "      <th>final.output.concentrate_sol</th>\n",
       "      <th>final.output.concentrate_au</th>\n",
       "      <th>final.output.recovery</th>\n",
       "      <th>final.output.tail_ag</th>\n",
       "      <th>final.output.tail_pb</th>\n",
       "      <th>final.output.tail_sol</th>\n",
       "      <th>final.output.tail_au</th>\n",
       "      <th>...</th>\n",
       "      <th>secondary_cleaner.state.floatbank4_a_air</th>\n",
       "      <th>secondary_cleaner.state.floatbank4_a_level</th>\n",
       "      <th>secondary_cleaner.state.floatbank4_b_air</th>\n",
       "      <th>secondary_cleaner.state.floatbank4_b_level</th>\n",
       "      <th>secondary_cleaner.state.floatbank5_a_air</th>\n",
       "      <th>secondary_cleaner.state.floatbank5_a_level</th>\n",
       "      <th>secondary_cleaner.state.floatbank5_b_air</th>\n",
       "      <th>secondary_cleaner.state.floatbank5_b_level</th>\n",
       "      <th>secondary_cleaner.state.floatbank6_a_air</th>\n",
       "      <th>secondary_cleaner.state.floatbank6_a_level</th>\n",
       "    </tr>\n",
       "  </thead>\n",
       "  <tbody>\n",
       "    <tr>\n",
       "      <th>0</th>\n",
       "      <td>2016-01-15 00:00:00</td>\n",
       "      <td>6.055403</td>\n",
       "      <td>9.889648</td>\n",
       "      <td>5.507324</td>\n",
       "      <td>42.192020</td>\n",
       "      <td>70.541216</td>\n",
       "      <td>10.411962</td>\n",
       "      <td>0.895447</td>\n",
       "      <td>16.904297</td>\n",
       "      <td>2.143149</td>\n",
       "      <td>...</td>\n",
       "      <td>14.016835</td>\n",
       "      <td>-502.488007</td>\n",
       "      <td>12.099931</td>\n",
       "      <td>-504.715942</td>\n",
       "      <td>9.925633</td>\n",
       "      <td>-498.310211</td>\n",
       "      <td>8.079666</td>\n",
       "      <td>-500.470978</td>\n",
       "      <td>14.151341</td>\n",
       "      <td>-605.841980</td>\n",
       "    </tr>\n",
       "    <tr>\n",
       "      <th>1</th>\n",
       "      <td>2016-01-15 01:00:00</td>\n",
       "      <td>6.029369</td>\n",
       "      <td>9.968944</td>\n",
       "      <td>5.257781</td>\n",
       "      <td>42.701629</td>\n",
       "      <td>69.266198</td>\n",
       "      <td>10.462676</td>\n",
       "      <td>0.927452</td>\n",
       "      <td>16.634514</td>\n",
       "      <td>2.224930</td>\n",
       "      <td>...</td>\n",
       "      <td>13.992281</td>\n",
       "      <td>-505.503262</td>\n",
       "      <td>11.950531</td>\n",
       "      <td>-501.331529</td>\n",
       "      <td>10.039245</td>\n",
       "      <td>-500.169983</td>\n",
       "      <td>7.984757</td>\n",
       "      <td>-500.582168</td>\n",
       "      <td>13.998353</td>\n",
       "      <td>-599.787184</td>\n",
       "    </tr>\n",
       "    <tr>\n",
       "      <th>2</th>\n",
       "      <td>2016-01-15 02:00:00</td>\n",
       "      <td>6.055926</td>\n",
       "      <td>10.213995</td>\n",
       "      <td>5.383759</td>\n",
       "      <td>42.657501</td>\n",
       "      <td>68.116445</td>\n",
       "      <td>10.507046</td>\n",
       "      <td>0.953716</td>\n",
       "      <td>16.208849</td>\n",
       "      <td>2.257889</td>\n",
       "      <td>...</td>\n",
       "      <td>14.015015</td>\n",
       "      <td>-502.520901</td>\n",
       "      <td>11.912783</td>\n",
       "      <td>-501.133383</td>\n",
       "      <td>10.070913</td>\n",
       "      <td>-500.129135</td>\n",
       "      <td>8.013877</td>\n",
       "      <td>-500.517572</td>\n",
       "      <td>14.028663</td>\n",
       "      <td>-601.427363</td>\n",
       "    </tr>\n",
       "    <tr>\n",
       "      <th>3</th>\n",
       "      <td>2016-01-15 03:00:00</td>\n",
       "      <td>6.047977</td>\n",
       "      <td>9.977019</td>\n",
       "      <td>4.858634</td>\n",
       "      <td>42.689819</td>\n",
       "      <td>68.347543</td>\n",
       "      <td>10.422762</td>\n",
       "      <td>0.883763</td>\n",
       "      <td>16.532835</td>\n",
       "      <td>2.146849</td>\n",
       "      <td>...</td>\n",
       "      <td>14.036510</td>\n",
       "      <td>-500.857308</td>\n",
       "      <td>11.999550</td>\n",
       "      <td>-501.193686</td>\n",
       "      <td>9.970366</td>\n",
       "      <td>-499.201640</td>\n",
       "      <td>7.977324</td>\n",
       "      <td>-500.255908</td>\n",
       "      <td>14.005551</td>\n",
       "      <td>-599.996129</td>\n",
       "    </tr>\n",
       "    <tr>\n",
       "      <th>4</th>\n",
       "      <td>2016-01-15 04:00:00</td>\n",
       "      <td>6.148599</td>\n",
       "      <td>10.142511</td>\n",
       "      <td>4.939416</td>\n",
       "      <td>42.774141</td>\n",
       "      <td>66.927016</td>\n",
       "      <td>10.360302</td>\n",
       "      <td>0.792826</td>\n",
       "      <td>16.525686</td>\n",
       "      <td>2.055292</td>\n",
       "      <td>...</td>\n",
       "      <td>14.027298</td>\n",
       "      <td>-499.838632</td>\n",
       "      <td>11.953070</td>\n",
       "      <td>-501.053894</td>\n",
       "      <td>9.925709</td>\n",
       "      <td>-501.686727</td>\n",
       "      <td>7.894242</td>\n",
       "      <td>-500.356035</td>\n",
       "      <td>13.996647</td>\n",
       "      <td>-601.496691</td>\n",
       "    </tr>\n",
       "  </tbody>\n",
       "</table>\n",
       "<p>5 rows × 87 columns</p>\n",
       "</div>"
      ],
      "text/plain": [
       "                  date  final.output.concentrate_ag  \\\n",
       "0  2016-01-15 00:00:00                     6.055403   \n",
       "1  2016-01-15 01:00:00                     6.029369   \n",
       "2  2016-01-15 02:00:00                     6.055926   \n",
       "3  2016-01-15 03:00:00                     6.047977   \n",
       "4  2016-01-15 04:00:00                     6.148599   \n",
       "\n",
       "   final.output.concentrate_pb  final.output.concentrate_sol  \\\n",
       "0                     9.889648                      5.507324   \n",
       "1                     9.968944                      5.257781   \n",
       "2                    10.213995                      5.383759   \n",
       "3                     9.977019                      4.858634   \n",
       "4                    10.142511                      4.939416   \n",
       "\n",
       "   final.output.concentrate_au  final.output.recovery  final.output.tail_ag  \\\n",
       "0                    42.192020              70.541216             10.411962   \n",
       "1                    42.701629              69.266198             10.462676   \n",
       "2                    42.657501              68.116445             10.507046   \n",
       "3                    42.689819              68.347543             10.422762   \n",
       "4                    42.774141              66.927016             10.360302   \n",
       "\n",
       "   final.output.tail_pb  final.output.tail_sol  final.output.tail_au  ...  \\\n",
       "0              0.895447              16.904297              2.143149  ...   \n",
       "1              0.927452              16.634514              2.224930  ...   \n",
       "2              0.953716              16.208849              2.257889  ...   \n",
       "3              0.883763              16.532835              2.146849  ...   \n",
       "4              0.792826              16.525686              2.055292  ...   \n",
       "\n",
       "   secondary_cleaner.state.floatbank4_a_air  \\\n",
       "0                                 14.016835   \n",
       "1                                 13.992281   \n",
       "2                                 14.015015   \n",
       "3                                 14.036510   \n",
       "4                                 14.027298   \n",
       "\n",
       "   secondary_cleaner.state.floatbank4_a_level  \\\n",
       "0                                 -502.488007   \n",
       "1                                 -505.503262   \n",
       "2                                 -502.520901   \n",
       "3                                 -500.857308   \n",
       "4                                 -499.838632   \n",
       "\n",
       "   secondary_cleaner.state.floatbank4_b_air  \\\n",
       "0                                 12.099931   \n",
       "1                                 11.950531   \n",
       "2                                 11.912783   \n",
       "3                                 11.999550   \n",
       "4                                 11.953070   \n",
       "\n",
       "   secondary_cleaner.state.floatbank4_b_level  \\\n",
       "0                                 -504.715942   \n",
       "1                                 -501.331529   \n",
       "2                                 -501.133383   \n",
       "3                                 -501.193686   \n",
       "4                                 -501.053894   \n",
       "\n",
       "   secondary_cleaner.state.floatbank5_a_air  \\\n",
       "0                                  9.925633   \n",
       "1                                 10.039245   \n",
       "2                                 10.070913   \n",
       "3                                  9.970366   \n",
       "4                                  9.925709   \n",
       "\n",
       "   secondary_cleaner.state.floatbank5_a_level  \\\n",
       "0                                 -498.310211   \n",
       "1                                 -500.169983   \n",
       "2                                 -500.129135   \n",
       "3                                 -499.201640   \n",
       "4                                 -501.686727   \n",
       "\n",
       "   secondary_cleaner.state.floatbank5_b_air  \\\n",
       "0                                  8.079666   \n",
       "1                                  7.984757   \n",
       "2                                  8.013877   \n",
       "3                                  7.977324   \n",
       "4                                  7.894242   \n",
       "\n",
       "   secondary_cleaner.state.floatbank5_b_level  \\\n",
       "0                                 -500.470978   \n",
       "1                                 -500.582168   \n",
       "2                                 -500.517572   \n",
       "3                                 -500.255908   \n",
       "4                                 -500.356035   \n",
       "\n",
       "   secondary_cleaner.state.floatbank6_a_air  \\\n",
       "0                                 14.151341   \n",
       "1                                 13.998353   \n",
       "2                                 14.028663   \n",
       "3                                 14.005551   \n",
       "4                                 13.996647   \n",
       "\n",
       "   secondary_cleaner.state.floatbank6_a_level  \n",
       "0                                 -605.841980  \n",
       "1                                 -599.787184  \n",
       "2                                 -601.427363  \n",
       "3                                 -599.996129  \n",
       "4                                 -601.496691  \n",
       "\n",
       "[5 rows x 87 columns]"
      ]
     },
     "metadata": {},
     "output_type": "display_data"
    },
    {
     "name": "stdout",
     "output_type": "stream",
     "text": [
      "<class 'pandas.core.frame.DataFrame'>\n",
      "RangeIndex: 14149 entries, 0 to 14148\n",
      "Data columns (total 87 columns):\n",
      " #   Column                                              Non-Null Count  Dtype  \n",
      "---  ------                                              --------------  -----  \n",
      " 0   date                                                14149 non-null  object \n",
      " 1   final.output.concentrate_ag                         14148 non-null  float64\n",
      " 2   final.output.concentrate_pb                         14148 non-null  float64\n",
      " 3   final.output.concentrate_sol                        13938 non-null  float64\n",
      " 4   final.output.concentrate_au                         14149 non-null  float64\n",
      " 5   final.output.recovery                               14149 non-null  float64\n",
      " 6   final.output.tail_ag                                14149 non-null  float64\n",
      " 7   final.output.tail_pb                                14049 non-null  float64\n",
      " 8   final.output.tail_sol                               14144 non-null  float64\n",
      " 9   final.output.tail_au                                14149 non-null  float64\n",
      " 10  primary_cleaner.input.sulfate                       14129 non-null  float64\n",
      " 11  primary_cleaner.input.depressant                    14117 non-null  float64\n",
      " 12  primary_cleaner.input.feed_size                     14149 non-null  float64\n",
      " 13  primary_cleaner.input.xanthate                      14049 non-null  float64\n",
      " 14  primary_cleaner.output.concentrate_ag               14149 non-null  float64\n",
      " 15  primary_cleaner.output.concentrate_pb               14063 non-null  float64\n",
      " 16  primary_cleaner.output.concentrate_sol              13863 non-null  float64\n",
      " 17  primary_cleaner.output.concentrate_au               14149 non-null  float64\n",
      " 18  primary_cleaner.output.tail_ag                      14148 non-null  float64\n",
      " 19  primary_cleaner.output.tail_pb                      14134 non-null  float64\n",
      " 20  primary_cleaner.output.tail_sol                     14103 non-null  float64\n",
      " 21  primary_cleaner.output.tail_au                      14149 non-null  float64\n",
      " 22  primary_cleaner.state.floatbank8_a_air              14145 non-null  float64\n",
      " 23  primary_cleaner.state.floatbank8_a_level            14148 non-null  float64\n",
      " 24  primary_cleaner.state.floatbank8_b_air              14145 non-null  float64\n",
      " 25  primary_cleaner.state.floatbank8_b_level            14148 non-null  float64\n",
      " 26  primary_cleaner.state.floatbank8_c_air              14147 non-null  float64\n",
      " 27  primary_cleaner.state.floatbank8_c_level            14148 non-null  float64\n",
      " 28  primary_cleaner.state.floatbank8_d_air              14146 non-null  float64\n",
      " 29  primary_cleaner.state.floatbank8_d_level            14148 non-null  float64\n",
      " 30  rougher.calculation.sulfate_to_au_concentrate       14148 non-null  float64\n",
      " 31  rougher.calculation.floatbank10_sulfate_to_au_feed  14148 non-null  float64\n",
      " 32  rougher.calculation.floatbank11_sulfate_to_au_feed  14148 non-null  float64\n",
      " 33  rougher.calculation.au_pb_ratio                     14149 non-null  float64\n",
      " 34  rougher.input.feed_ag                               14149 non-null  float64\n",
      " 35  rougher.input.feed_pb                               14049 non-null  float64\n",
      " 36  rougher.input.feed_rate                             14141 non-null  float64\n",
      " 37  rougher.input.feed_size                             14005 non-null  float64\n",
      " 38  rougher.input.feed_sol                              14071 non-null  float64\n",
      " 39  rougher.input.feed_au                               14149 non-null  float64\n",
      " 40  rougher.input.floatbank10_sulfate                   14120 non-null  float64\n",
      " 41  rougher.input.floatbank10_xanthate                  14141 non-null  float64\n",
      " 42  rougher.input.floatbank11_sulfate                   14113 non-null  float64\n",
      " 43  rougher.input.floatbank11_xanthate                  13721 non-null  float64\n",
      " 44  rougher.output.concentrate_ag                       14149 non-null  float64\n",
      " 45  rougher.output.concentrate_pb                       14149 non-null  float64\n",
      " 46  rougher.output.concentrate_sol                      14127 non-null  float64\n",
      " 47  rougher.output.concentrate_au                       14149 non-null  float64\n",
      " 48  rougher.output.recovery                             14149 non-null  float64\n",
      " 49  rougher.output.tail_ag                              14148 non-null  float64\n",
      " 50  rougher.output.tail_pb                              14149 non-null  float64\n",
      " 51  rougher.output.tail_sol                             14149 non-null  float64\n",
      " 52  rougher.output.tail_au                              14149 non-null  float64\n",
      " 53  rougher.state.floatbank10_a_air                     14148 non-null  float64\n",
      " 54  rougher.state.floatbank10_a_level                   14148 non-null  float64\n",
      " 55  rougher.state.floatbank10_b_air                     14148 non-null  float64\n",
      " 56  rougher.state.floatbank10_b_level                   14148 non-null  float64\n",
      " 57  rougher.state.floatbank10_c_air                     14148 non-null  float64\n",
      " 58  rougher.state.floatbank10_c_level                   14148 non-null  float64\n",
      " 59  rougher.state.floatbank10_d_air                     14149 non-null  float64\n",
      " 60  rougher.state.floatbank10_d_level                   14149 non-null  float64\n",
      " 61  rougher.state.floatbank10_e_air                     13713 non-null  float64\n",
      " 62  rougher.state.floatbank10_e_level                   14149 non-null  float64\n",
      " 63  rougher.state.floatbank10_f_air                     14149 non-null  float64\n",
      " 64  rougher.state.floatbank10_f_level                   14149 non-null  float64\n",
      " 65  secondary_cleaner.output.tail_ag                    14147 non-null  float64\n",
      " 66  secondary_cleaner.output.tail_pb                    14139 non-null  float64\n",
      " 67  secondary_cleaner.output.tail_sol                   12544 non-null  float64\n",
      " 68  secondary_cleaner.output.tail_au                    14149 non-null  float64\n",
      " 69  secondary_cleaner.state.floatbank2_a_air            13932 non-null  float64\n",
      " 70  secondary_cleaner.state.floatbank2_a_level          14148 non-null  float64\n",
      " 71  secondary_cleaner.state.floatbank2_b_air            14128 non-null  float64\n",
      " 72  secondary_cleaner.state.floatbank2_b_level          14148 non-null  float64\n",
      " 73  secondary_cleaner.state.floatbank3_a_air            14145 non-null  float64\n",
      " 74  secondary_cleaner.state.floatbank3_a_level          14148 non-null  float64\n",
      " 75  secondary_cleaner.state.floatbank3_b_air            14148 non-null  float64\n",
      " 76  secondary_cleaner.state.floatbank3_b_level          14148 non-null  float64\n",
      " 77  secondary_cleaner.state.floatbank4_a_air            14143 non-null  float64\n",
      " 78  secondary_cleaner.state.floatbank4_a_level          14148 non-null  float64\n",
      " 79  secondary_cleaner.state.floatbank4_b_air            14148 non-null  float64\n",
      " 80  secondary_cleaner.state.floatbank4_b_level          14148 non-null  float64\n",
      " 81  secondary_cleaner.state.floatbank5_a_air            14148 non-null  float64\n",
      " 82  secondary_cleaner.state.floatbank5_a_level          14148 non-null  float64\n",
      " 83  secondary_cleaner.state.floatbank5_b_air            14148 non-null  float64\n",
      " 84  secondary_cleaner.state.floatbank5_b_level          14148 non-null  float64\n",
      " 85  secondary_cleaner.state.floatbank6_a_air            14147 non-null  float64\n",
      " 86  secondary_cleaner.state.floatbank6_a_level          14148 non-null  float64\n",
      "dtypes: float64(86), object(1)\n",
      "memory usage: 9.4+ MB\n"
     ]
    }
   ],
   "source": [
    "train = pd.read_csv('/datasets/gold_recovery_train_new.csv')\n",
    "test = pd.read_csv('/datasets/gold_recovery_test_new.csv')\n",
    "full = pd.read_csv('/datasets/gold_recovery_full_new.csv')\n",
    "display(train.head())\n",
    "train.info()"
   ]
  },
  {
   "cell_type": "code",
   "execution_count": 3,
   "metadata": {},
   "outputs": [
    {
     "data": {
      "text/html": [
       "<div>\n",
       "<style scoped>\n",
       "    .dataframe tbody tr th:only-of-type {\n",
       "        vertical-align: middle;\n",
       "    }\n",
       "\n",
       "    .dataframe tbody tr th {\n",
       "        vertical-align: top;\n",
       "    }\n",
       "\n",
       "    .dataframe thead th {\n",
       "        text-align: right;\n",
       "    }\n",
       "</style>\n",
       "<table border=\"1\" class=\"dataframe\">\n",
       "  <thead>\n",
       "    <tr style=\"text-align: right;\">\n",
       "      <th></th>\n",
       "      <th>date</th>\n",
       "      <th>primary_cleaner.input.sulfate</th>\n",
       "      <th>primary_cleaner.input.depressant</th>\n",
       "      <th>primary_cleaner.input.feed_size</th>\n",
       "      <th>primary_cleaner.input.xanthate</th>\n",
       "      <th>primary_cleaner.state.floatbank8_a_air</th>\n",
       "      <th>primary_cleaner.state.floatbank8_a_level</th>\n",
       "      <th>primary_cleaner.state.floatbank8_b_air</th>\n",
       "      <th>primary_cleaner.state.floatbank8_b_level</th>\n",
       "      <th>primary_cleaner.state.floatbank8_c_air</th>\n",
       "      <th>...</th>\n",
       "      <th>secondary_cleaner.state.floatbank4_a_air</th>\n",
       "      <th>secondary_cleaner.state.floatbank4_a_level</th>\n",
       "      <th>secondary_cleaner.state.floatbank4_b_air</th>\n",
       "      <th>secondary_cleaner.state.floatbank4_b_level</th>\n",
       "      <th>secondary_cleaner.state.floatbank5_a_air</th>\n",
       "      <th>secondary_cleaner.state.floatbank5_a_level</th>\n",
       "      <th>secondary_cleaner.state.floatbank5_b_air</th>\n",
       "      <th>secondary_cleaner.state.floatbank5_b_level</th>\n",
       "      <th>secondary_cleaner.state.floatbank6_a_air</th>\n",
       "      <th>secondary_cleaner.state.floatbank6_a_level</th>\n",
       "    </tr>\n",
       "  </thead>\n",
       "  <tbody>\n",
       "    <tr>\n",
       "      <th>0</th>\n",
       "      <td>2016-09-01 00:59:59</td>\n",
       "      <td>210.800909</td>\n",
       "      <td>14.993118</td>\n",
       "      <td>8.080000</td>\n",
       "      <td>1.005021</td>\n",
       "      <td>1398.981301</td>\n",
       "      <td>-500.225577</td>\n",
       "      <td>1399.144926</td>\n",
       "      <td>-499.919735</td>\n",
       "      <td>1400.102998</td>\n",
       "      <td>...</td>\n",
       "      <td>12.023554</td>\n",
       "      <td>-497.795834</td>\n",
       "      <td>8.016656</td>\n",
       "      <td>-501.289139</td>\n",
       "      <td>7.946562</td>\n",
       "      <td>-432.317850</td>\n",
       "      <td>4.872511</td>\n",
       "      <td>-500.037437</td>\n",
       "      <td>26.705889</td>\n",
       "      <td>-499.709414</td>\n",
       "    </tr>\n",
       "    <tr>\n",
       "      <th>1</th>\n",
       "      <td>2016-09-01 01:59:59</td>\n",
       "      <td>215.392455</td>\n",
       "      <td>14.987471</td>\n",
       "      <td>8.080000</td>\n",
       "      <td>0.990469</td>\n",
       "      <td>1398.777912</td>\n",
       "      <td>-500.057435</td>\n",
       "      <td>1398.055362</td>\n",
       "      <td>-499.778182</td>\n",
       "      <td>1396.151033</td>\n",
       "      <td>...</td>\n",
       "      <td>12.058140</td>\n",
       "      <td>-498.695773</td>\n",
       "      <td>8.130979</td>\n",
       "      <td>-499.634209</td>\n",
       "      <td>7.958270</td>\n",
       "      <td>-525.839648</td>\n",
       "      <td>4.878850</td>\n",
       "      <td>-500.162375</td>\n",
       "      <td>25.019940</td>\n",
       "      <td>-499.819438</td>\n",
       "    </tr>\n",
       "    <tr>\n",
       "      <th>2</th>\n",
       "      <td>2016-09-01 02:59:59</td>\n",
       "      <td>215.259946</td>\n",
       "      <td>12.884934</td>\n",
       "      <td>7.786667</td>\n",
       "      <td>0.996043</td>\n",
       "      <td>1398.493666</td>\n",
       "      <td>-500.868360</td>\n",
       "      <td>1398.860436</td>\n",
       "      <td>-499.764529</td>\n",
       "      <td>1398.075709</td>\n",
       "      <td>...</td>\n",
       "      <td>11.962366</td>\n",
       "      <td>-498.767484</td>\n",
       "      <td>8.096893</td>\n",
       "      <td>-500.827423</td>\n",
       "      <td>8.071056</td>\n",
       "      <td>-500.801673</td>\n",
       "      <td>4.905125</td>\n",
       "      <td>-499.828510</td>\n",
       "      <td>24.994862</td>\n",
       "      <td>-500.622559</td>\n",
       "    </tr>\n",
       "    <tr>\n",
       "      <th>3</th>\n",
       "      <td>2016-09-01 03:59:59</td>\n",
       "      <td>215.336236</td>\n",
       "      <td>12.006805</td>\n",
       "      <td>7.640000</td>\n",
       "      <td>0.863514</td>\n",
       "      <td>1399.618111</td>\n",
       "      <td>-498.863574</td>\n",
       "      <td>1397.440120</td>\n",
       "      <td>-499.211024</td>\n",
       "      <td>1400.129303</td>\n",
       "      <td>...</td>\n",
       "      <td>12.033091</td>\n",
       "      <td>-498.350935</td>\n",
       "      <td>8.074946</td>\n",
       "      <td>-499.474407</td>\n",
       "      <td>7.897085</td>\n",
       "      <td>-500.868509</td>\n",
       "      <td>4.931400</td>\n",
       "      <td>-499.963623</td>\n",
       "      <td>24.948919</td>\n",
       "      <td>-498.709987</td>\n",
       "    </tr>\n",
       "    <tr>\n",
       "      <th>4</th>\n",
       "      <td>2016-09-01 04:59:59</td>\n",
       "      <td>199.099327</td>\n",
       "      <td>10.682530</td>\n",
       "      <td>7.530000</td>\n",
       "      <td>0.805575</td>\n",
       "      <td>1401.268123</td>\n",
       "      <td>-500.808305</td>\n",
       "      <td>1398.128818</td>\n",
       "      <td>-499.504543</td>\n",
       "      <td>1402.172226</td>\n",
       "      <td>...</td>\n",
       "      <td>12.025367</td>\n",
       "      <td>-500.786497</td>\n",
       "      <td>8.054678</td>\n",
       "      <td>-500.397500</td>\n",
       "      <td>8.107890</td>\n",
       "      <td>-509.526725</td>\n",
       "      <td>4.957674</td>\n",
       "      <td>-500.360026</td>\n",
       "      <td>25.003331</td>\n",
       "      <td>-500.856333</td>\n",
       "    </tr>\n",
       "  </tbody>\n",
       "</table>\n",
       "<p>5 rows × 53 columns</p>\n",
       "</div>"
      ],
      "text/plain": [
       "                  date  primary_cleaner.input.sulfate  \\\n",
       "0  2016-09-01 00:59:59                     210.800909   \n",
       "1  2016-09-01 01:59:59                     215.392455   \n",
       "2  2016-09-01 02:59:59                     215.259946   \n",
       "3  2016-09-01 03:59:59                     215.336236   \n",
       "4  2016-09-01 04:59:59                     199.099327   \n",
       "\n",
       "   primary_cleaner.input.depressant  primary_cleaner.input.feed_size  \\\n",
       "0                         14.993118                         8.080000   \n",
       "1                         14.987471                         8.080000   \n",
       "2                         12.884934                         7.786667   \n",
       "3                         12.006805                         7.640000   \n",
       "4                         10.682530                         7.530000   \n",
       "\n",
       "   primary_cleaner.input.xanthate  primary_cleaner.state.floatbank8_a_air  \\\n",
       "0                        1.005021                             1398.981301   \n",
       "1                        0.990469                             1398.777912   \n",
       "2                        0.996043                             1398.493666   \n",
       "3                        0.863514                             1399.618111   \n",
       "4                        0.805575                             1401.268123   \n",
       "\n",
       "   primary_cleaner.state.floatbank8_a_level  \\\n",
       "0                               -500.225577   \n",
       "1                               -500.057435   \n",
       "2                               -500.868360   \n",
       "3                               -498.863574   \n",
       "4                               -500.808305   \n",
       "\n",
       "   primary_cleaner.state.floatbank8_b_air  \\\n",
       "0                             1399.144926   \n",
       "1                             1398.055362   \n",
       "2                             1398.860436   \n",
       "3                             1397.440120   \n",
       "4                             1398.128818   \n",
       "\n",
       "   primary_cleaner.state.floatbank8_b_level  \\\n",
       "0                               -499.919735   \n",
       "1                               -499.778182   \n",
       "2                               -499.764529   \n",
       "3                               -499.211024   \n",
       "4                               -499.504543   \n",
       "\n",
       "   primary_cleaner.state.floatbank8_c_air  ...  \\\n",
       "0                             1400.102998  ...   \n",
       "1                             1396.151033  ...   \n",
       "2                             1398.075709  ...   \n",
       "3                             1400.129303  ...   \n",
       "4                             1402.172226  ...   \n",
       "\n",
       "   secondary_cleaner.state.floatbank4_a_air  \\\n",
       "0                                 12.023554   \n",
       "1                                 12.058140   \n",
       "2                                 11.962366   \n",
       "3                                 12.033091   \n",
       "4                                 12.025367   \n",
       "\n",
       "   secondary_cleaner.state.floatbank4_a_level  \\\n",
       "0                                 -497.795834   \n",
       "1                                 -498.695773   \n",
       "2                                 -498.767484   \n",
       "3                                 -498.350935   \n",
       "4                                 -500.786497   \n",
       "\n",
       "   secondary_cleaner.state.floatbank4_b_air  \\\n",
       "0                                  8.016656   \n",
       "1                                  8.130979   \n",
       "2                                  8.096893   \n",
       "3                                  8.074946   \n",
       "4                                  8.054678   \n",
       "\n",
       "   secondary_cleaner.state.floatbank4_b_level  \\\n",
       "0                                 -501.289139   \n",
       "1                                 -499.634209   \n",
       "2                                 -500.827423   \n",
       "3                                 -499.474407   \n",
       "4                                 -500.397500   \n",
       "\n",
       "   secondary_cleaner.state.floatbank5_a_air  \\\n",
       "0                                  7.946562   \n",
       "1                                  7.958270   \n",
       "2                                  8.071056   \n",
       "3                                  7.897085   \n",
       "4                                  8.107890   \n",
       "\n",
       "   secondary_cleaner.state.floatbank5_a_level  \\\n",
       "0                                 -432.317850   \n",
       "1                                 -525.839648   \n",
       "2                                 -500.801673   \n",
       "3                                 -500.868509   \n",
       "4                                 -509.526725   \n",
       "\n",
       "   secondary_cleaner.state.floatbank5_b_air  \\\n",
       "0                                  4.872511   \n",
       "1                                  4.878850   \n",
       "2                                  4.905125   \n",
       "3                                  4.931400   \n",
       "4                                  4.957674   \n",
       "\n",
       "   secondary_cleaner.state.floatbank5_b_level  \\\n",
       "0                                 -500.037437   \n",
       "1                                 -500.162375   \n",
       "2                                 -499.828510   \n",
       "3                                 -499.963623   \n",
       "4                                 -500.360026   \n",
       "\n",
       "   secondary_cleaner.state.floatbank6_a_air  \\\n",
       "0                                 26.705889   \n",
       "1                                 25.019940   \n",
       "2                                 24.994862   \n",
       "3                                 24.948919   \n",
       "4                                 25.003331   \n",
       "\n",
       "   secondary_cleaner.state.floatbank6_a_level  \n",
       "0                                 -499.709414  \n",
       "1                                 -499.819438  \n",
       "2                                 -500.622559  \n",
       "3                                 -498.709987  \n",
       "4                                 -500.856333  \n",
       "\n",
       "[5 rows x 53 columns]"
      ]
     },
     "metadata": {},
     "output_type": "display_data"
    },
    {
     "name": "stdout",
     "output_type": "stream",
     "text": [
      "<class 'pandas.core.frame.DataFrame'>\n",
      "RangeIndex: 5290 entries, 0 to 5289\n",
      "Data columns (total 53 columns):\n",
      " #   Column                                      Non-Null Count  Dtype  \n",
      "---  ------                                      --------------  -----  \n",
      " 0   date                                        5290 non-null   object \n",
      " 1   primary_cleaner.input.sulfate               5286 non-null   float64\n",
      " 2   primary_cleaner.input.depressant            5285 non-null   float64\n",
      " 3   primary_cleaner.input.feed_size             5290 non-null   float64\n",
      " 4   primary_cleaner.input.xanthate              5286 non-null   float64\n",
      " 5   primary_cleaner.state.floatbank8_a_air      5290 non-null   float64\n",
      " 6   primary_cleaner.state.floatbank8_a_level    5290 non-null   float64\n",
      " 7   primary_cleaner.state.floatbank8_b_air      5290 non-null   float64\n",
      " 8   primary_cleaner.state.floatbank8_b_level    5290 non-null   float64\n",
      " 9   primary_cleaner.state.floatbank8_c_air      5290 non-null   float64\n",
      " 10  primary_cleaner.state.floatbank8_c_level    5290 non-null   float64\n",
      " 11  primary_cleaner.state.floatbank8_d_air      5290 non-null   float64\n",
      " 12  primary_cleaner.state.floatbank8_d_level    5290 non-null   float64\n",
      " 13  rougher.input.feed_ag                       5290 non-null   float64\n",
      " 14  rougher.input.feed_pb                       5290 non-null   float64\n",
      " 15  rougher.input.feed_rate                     5287 non-null   float64\n",
      " 16  rougher.input.feed_size                     5289 non-null   float64\n",
      " 17  rougher.input.feed_sol                      5269 non-null   float64\n",
      " 18  rougher.input.feed_au                       5290 non-null   float64\n",
      " 19  rougher.input.floatbank10_sulfate           5285 non-null   float64\n",
      " 20  rougher.input.floatbank10_xanthate          5290 non-null   float64\n",
      " 21  rougher.input.floatbank11_sulfate           5282 non-null   float64\n",
      " 22  rougher.input.floatbank11_xanthate          5265 non-null   float64\n",
      " 23  rougher.state.floatbank10_a_air             5290 non-null   float64\n",
      " 24  rougher.state.floatbank10_a_level           5290 non-null   float64\n",
      " 25  rougher.state.floatbank10_b_air             5290 non-null   float64\n",
      " 26  rougher.state.floatbank10_b_level           5290 non-null   float64\n",
      " 27  rougher.state.floatbank10_c_air             5290 non-null   float64\n",
      " 28  rougher.state.floatbank10_c_level           5290 non-null   float64\n",
      " 29  rougher.state.floatbank10_d_air             5290 non-null   float64\n",
      " 30  rougher.state.floatbank10_d_level           5290 non-null   float64\n",
      " 31  rougher.state.floatbank10_e_air             5290 non-null   float64\n",
      " 32  rougher.state.floatbank10_e_level           5290 non-null   float64\n",
      " 33  rougher.state.floatbank10_f_air             5290 non-null   float64\n",
      " 34  rougher.state.floatbank10_f_level           5290 non-null   float64\n",
      " 35  secondary_cleaner.state.floatbank2_a_air    5287 non-null   float64\n",
      " 36  secondary_cleaner.state.floatbank2_a_level  5290 non-null   float64\n",
      " 37  secondary_cleaner.state.floatbank2_b_air    5288 non-null   float64\n",
      " 38  secondary_cleaner.state.floatbank2_b_level  5290 non-null   float64\n",
      " 39  secondary_cleaner.state.floatbank3_a_air    5281 non-null   float64\n",
      " 40  secondary_cleaner.state.floatbank3_a_level  5290 non-null   float64\n",
      " 41  secondary_cleaner.state.floatbank3_b_air    5290 non-null   float64\n",
      " 42  secondary_cleaner.state.floatbank3_b_level  5290 non-null   float64\n",
      " 43  secondary_cleaner.state.floatbank4_a_air    5290 non-null   float64\n",
      " 44  secondary_cleaner.state.floatbank4_a_level  5290 non-null   float64\n",
      " 45  secondary_cleaner.state.floatbank4_b_air    5290 non-null   float64\n",
      " 46  secondary_cleaner.state.floatbank4_b_level  5290 non-null   float64\n",
      " 47  secondary_cleaner.state.floatbank5_a_air    5290 non-null   float64\n",
      " 48  secondary_cleaner.state.floatbank5_a_level  5290 non-null   float64\n",
      " 49  secondary_cleaner.state.floatbank5_b_air    5290 non-null   float64\n",
      " 50  secondary_cleaner.state.floatbank5_b_level  5290 non-null   float64\n",
      " 51  secondary_cleaner.state.floatbank6_a_air    5290 non-null   float64\n",
      " 52  secondary_cleaner.state.floatbank6_a_level  5290 non-null   float64\n",
      "dtypes: float64(52), object(1)\n",
      "memory usage: 2.1+ MB\n"
     ]
    }
   ],
   "source": [
    "display(test.head())\n",
    "test.info()"
   ]
  },
  {
   "cell_type": "code",
   "execution_count": 4,
   "metadata": {
    "scrolled": false
   },
   "outputs": [
    {
     "data": {
      "text/html": [
       "<div>\n",
       "<style scoped>\n",
       "    .dataframe tbody tr th:only-of-type {\n",
       "        vertical-align: middle;\n",
       "    }\n",
       "\n",
       "    .dataframe tbody tr th {\n",
       "        vertical-align: top;\n",
       "    }\n",
       "\n",
       "    .dataframe thead th {\n",
       "        text-align: right;\n",
       "    }\n",
       "</style>\n",
       "<table border=\"1\" class=\"dataframe\">\n",
       "  <thead>\n",
       "    <tr style=\"text-align: right;\">\n",
       "      <th></th>\n",
       "      <th>date</th>\n",
       "      <th>final.output.concentrate_ag</th>\n",
       "      <th>final.output.concentrate_pb</th>\n",
       "      <th>final.output.concentrate_sol</th>\n",
       "      <th>final.output.concentrate_au</th>\n",
       "      <th>final.output.recovery</th>\n",
       "      <th>final.output.tail_ag</th>\n",
       "      <th>final.output.tail_pb</th>\n",
       "      <th>final.output.tail_sol</th>\n",
       "      <th>final.output.tail_au</th>\n",
       "      <th>...</th>\n",
       "      <th>secondary_cleaner.state.floatbank4_a_air</th>\n",
       "      <th>secondary_cleaner.state.floatbank4_a_level</th>\n",
       "      <th>secondary_cleaner.state.floatbank4_b_air</th>\n",
       "      <th>secondary_cleaner.state.floatbank4_b_level</th>\n",
       "      <th>secondary_cleaner.state.floatbank5_a_air</th>\n",
       "      <th>secondary_cleaner.state.floatbank5_a_level</th>\n",
       "      <th>secondary_cleaner.state.floatbank5_b_air</th>\n",
       "      <th>secondary_cleaner.state.floatbank5_b_level</th>\n",
       "      <th>secondary_cleaner.state.floatbank6_a_air</th>\n",
       "      <th>secondary_cleaner.state.floatbank6_a_level</th>\n",
       "    </tr>\n",
       "  </thead>\n",
       "  <tbody>\n",
       "    <tr>\n",
       "      <th>0</th>\n",
       "      <td>2016-01-15 00:00:00</td>\n",
       "      <td>6.055403</td>\n",
       "      <td>9.889648</td>\n",
       "      <td>5.507324</td>\n",
       "      <td>42.192020</td>\n",
       "      <td>70.541216</td>\n",
       "      <td>10.411962</td>\n",
       "      <td>0.895447</td>\n",
       "      <td>16.904297</td>\n",
       "      <td>2.143149</td>\n",
       "      <td>...</td>\n",
       "      <td>14.016835</td>\n",
       "      <td>-502.488007</td>\n",
       "      <td>12.099931</td>\n",
       "      <td>-504.715942</td>\n",
       "      <td>9.925633</td>\n",
       "      <td>-498.310211</td>\n",
       "      <td>8.079666</td>\n",
       "      <td>-500.470978</td>\n",
       "      <td>14.151341</td>\n",
       "      <td>-605.841980</td>\n",
       "    </tr>\n",
       "    <tr>\n",
       "      <th>1</th>\n",
       "      <td>2016-01-15 01:00:00</td>\n",
       "      <td>6.029369</td>\n",
       "      <td>9.968944</td>\n",
       "      <td>5.257781</td>\n",
       "      <td>42.701629</td>\n",
       "      <td>69.266198</td>\n",
       "      <td>10.462676</td>\n",
       "      <td>0.927452</td>\n",
       "      <td>16.634514</td>\n",
       "      <td>2.224930</td>\n",
       "      <td>...</td>\n",
       "      <td>13.992281</td>\n",
       "      <td>-505.503262</td>\n",
       "      <td>11.950531</td>\n",
       "      <td>-501.331529</td>\n",
       "      <td>10.039245</td>\n",
       "      <td>-500.169983</td>\n",
       "      <td>7.984757</td>\n",
       "      <td>-500.582168</td>\n",
       "      <td>13.998353</td>\n",
       "      <td>-599.787184</td>\n",
       "    </tr>\n",
       "    <tr>\n",
       "      <th>2</th>\n",
       "      <td>2016-01-15 02:00:00</td>\n",
       "      <td>6.055926</td>\n",
       "      <td>10.213995</td>\n",
       "      <td>5.383759</td>\n",
       "      <td>42.657501</td>\n",
       "      <td>68.116445</td>\n",
       "      <td>10.507046</td>\n",
       "      <td>0.953716</td>\n",
       "      <td>16.208849</td>\n",
       "      <td>2.257889</td>\n",
       "      <td>...</td>\n",
       "      <td>14.015015</td>\n",
       "      <td>-502.520901</td>\n",
       "      <td>11.912783</td>\n",
       "      <td>-501.133383</td>\n",
       "      <td>10.070913</td>\n",
       "      <td>-500.129135</td>\n",
       "      <td>8.013877</td>\n",
       "      <td>-500.517572</td>\n",
       "      <td>14.028663</td>\n",
       "      <td>-601.427363</td>\n",
       "    </tr>\n",
       "    <tr>\n",
       "      <th>3</th>\n",
       "      <td>2016-01-15 03:00:00</td>\n",
       "      <td>6.047977</td>\n",
       "      <td>9.977019</td>\n",
       "      <td>4.858634</td>\n",
       "      <td>42.689819</td>\n",
       "      <td>68.347543</td>\n",
       "      <td>10.422762</td>\n",
       "      <td>0.883763</td>\n",
       "      <td>16.532835</td>\n",
       "      <td>2.146849</td>\n",
       "      <td>...</td>\n",
       "      <td>14.036510</td>\n",
       "      <td>-500.857308</td>\n",
       "      <td>11.999550</td>\n",
       "      <td>-501.193686</td>\n",
       "      <td>9.970366</td>\n",
       "      <td>-499.201640</td>\n",
       "      <td>7.977324</td>\n",
       "      <td>-500.255908</td>\n",
       "      <td>14.005551</td>\n",
       "      <td>-599.996129</td>\n",
       "    </tr>\n",
       "    <tr>\n",
       "      <th>4</th>\n",
       "      <td>2016-01-15 04:00:00</td>\n",
       "      <td>6.148599</td>\n",
       "      <td>10.142511</td>\n",
       "      <td>4.939416</td>\n",
       "      <td>42.774141</td>\n",
       "      <td>66.927016</td>\n",
       "      <td>10.360302</td>\n",
       "      <td>0.792826</td>\n",
       "      <td>16.525686</td>\n",
       "      <td>2.055292</td>\n",
       "      <td>...</td>\n",
       "      <td>14.027298</td>\n",
       "      <td>-499.838632</td>\n",
       "      <td>11.953070</td>\n",
       "      <td>-501.053894</td>\n",
       "      <td>9.925709</td>\n",
       "      <td>-501.686727</td>\n",
       "      <td>7.894242</td>\n",
       "      <td>-500.356035</td>\n",
       "      <td>13.996647</td>\n",
       "      <td>-601.496691</td>\n",
       "    </tr>\n",
       "  </tbody>\n",
       "</table>\n",
       "<p>5 rows × 87 columns</p>\n",
       "</div>"
      ],
      "text/plain": [
       "                  date  final.output.concentrate_ag  \\\n",
       "0  2016-01-15 00:00:00                     6.055403   \n",
       "1  2016-01-15 01:00:00                     6.029369   \n",
       "2  2016-01-15 02:00:00                     6.055926   \n",
       "3  2016-01-15 03:00:00                     6.047977   \n",
       "4  2016-01-15 04:00:00                     6.148599   \n",
       "\n",
       "   final.output.concentrate_pb  final.output.concentrate_sol  \\\n",
       "0                     9.889648                      5.507324   \n",
       "1                     9.968944                      5.257781   \n",
       "2                    10.213995                      5.383759   \n",
       "3                     9.977019                      4.858634   \n",
       "4                    10.142511                      4.939416   \n",
       "\n",
       "   final.output.concentrate_au  final.output.recovery  final.output.tail_ag  \\\n",
       "0                    42.192020              70.541216             10.411962   \n",
       "1                    42.701629              69.266198             10.462676   \n",
       "2                    42.657501              68.116445             10.507046   \n",
       "3                    42.689819              68.347543             10.422762   \n",
       "4                    42.774141              66.927016             10.360302   \n",
       "\n",
       "   final.output.tail_pb  final.output.tail_sol  final.output.tail_au  ...  \\\n",
       "0              0.895447              16.904297              2.143149  ...   \n",
       "1              0.927452              16.634514              2.224930  ...   \n",
       "2              0.953716              16.208849              2.257889  ...   \n",
       "3              0.883763              16.532835              2.146849  ...   \n",
       "4              0.792826              16.525686              2.055292  ...   \n",
       "\n",
       "   secondary_cleaner.state.floatbank4_a_air  \\\n",
       "0                                 14.016835   \n",
       "1                                 13.992281   \n",
       "2                                 14.015015   \n",
       "3                                 14.036510   \n",
       "4                                 14.027298   \n",
       "\n",
       "   secondary_cleaner.state.floatbank4_a_level  \\\n",
       "0                                 -502.488007   \n",
       "1                                 -505.503262   \n",
       "2                                 -502.520901   \n",
       "3                                 -500.857308   \n",
       "4                                 -499.838632   \n",
       "\n",
       "   secondary_cleaner.state.floatbank4_b_air  \\\n",
       "0                                 12.099931   \n",
       "1                                 11.950531   \n",
       "2                                 11.912783   \n",
       "3                                 11.999550   \n",
       "4                                 11.953070   \n",
       "\n",
       "   secondary_cleaner.state.floatbank4_b_level  \\\n",
       "0                                 -504.715942   \n",
       "1                                 -501.331529   \n",
       "2                                 -501.133383   \n",
       "3                                 -501.193686   \n",
       "4                                 -501.053894   \n",
       "\n",
       "   secondary_cleaner.state.floatbank5_a_air  \\\n",
       "0                                  9.925633   \n",
       "1                                 10.039245   \n",
       "2                                 10.070913   \n",
       "3                                  9.970366   \n",
       "4                                  9.925709   \n",
       "\n",
       "   secondary_cleaner.state.floatbank5_a_level  \\\n",
       "0                                 -498.310211   \n",
       "1                                 -500.169983   \n",
       "2                                 -500.129135   \n",
       "3                                 -499.201640   \n",
       "4                                 -501.686727   \n",
       "\n",
       "   secondary_cleaner.state.floatbank5_b_air  \\\n",
       "0                                  8.079666   \n",
       "1                                  7.984757   \n",
       "2                                  8.013877   \n",
       "3                                  7.977324   \n",
       "4                                  7.894242   \n",
       "\n",
       "   secondary_cleaner.state.floatbank5_b_level  \\\n",
       "0                                 -500.470978   \n",
       "1                                 -500.582168   \n",
       "2                                 -500.517572   \n",
       "3                                 -500.255908   \n",
       "4                                 -500.356035   \n",
       "\n",
       "   secondary_cleaner.state.floatbank6_a_air  \\\n",
       "0                                 14.151341   \n",
       "1                                 13.998353   \n",
       "2                                 14.028663   \n",
       "3                                 14.005551   \n",
       "4                                 13.996647   \n",
       "\n",
       "   secondary_cleaner.state.floatbank6_a_level  \n",
       "0                                 -605.841980  \n",
       "1                                 -599.787184  \n",
       "2                                 -601.427363  \n",
       "3                                 -599.996129  \n",
       "4                                 -601.496691  \n",
       "\n",
       "[5 rows x 87 columns]"
      ]
     },
     "metadata": {},
     "output_type": "display_data"
    },
    {
     "name": "stdout",
     "output_type": "stream",
     "text": [
      "<class 'pandas.core.frame.DataFrame'>\n",
      "RangeIndex: 19439 entries, 0 to 19438\n",
      "Data columns (total 87 columns):\n",
      " #   Column                                              Non-Null Count  Dtype  \n",
      "---  ------                                              --------------  -----  \n",
      " 0   date                                                19439 non-null  object \n",
      " 1   final.output.concentrate_ag                         19438 non-null  float64\n",
      " 2   final.output.concentrate_pb                         19438 non-null  float64\n",
      " 3   final.output.concentrate_sol                        19228 non-null  float64\n",
      " 4   final.output.concentrate_au                         19439 non-null  float64\n",
      " 5   final.output.recovery                               19439 non-null  float64\n",
      " 6   final.output.tail_ag                                19438 non-null  float64\n",
      " 7   final.output.tail_pb                                19338 non-null  float64\n",
      " 8   final.output.tail_sol                               19433 non-null  float64\n",
      " 9   final.output.tail_au                                19439 non-null  float64\n",
      " 10  primary_cleaner.input.sulfate                       19415 non-null  float64\n",
      " 11  primary_cleaner.input.depressant                    19402 non-null  float64\n",
      " 12  primary_cleaner.input.feed_size                     19439 non-null  float64\n",
      " 13  primary_cleaner.input.xanthate                      19335 non-null  float64\n",
      " 14  primary_cleaner.output.concentrate_ag               19439 non-null  float64\n",
      " 15  primary_cleaner.output.concentrate_pb               19323 non-null  float64\n",
      " 16  primary_cleaner.output.concentrate_sol              19069 non-null  float64\n",
      " 17  primary_cleaner.output.concentrate_au               19439 non-null  float64\n",
      " 18  primary_cleaner.output.tail_ag                      19435 non-null  float64\n",
      " 19  primary_cleaner.output.tail_pb                      19418 non-null  float64\n",
      " 20  primary_cleaner.output.tail_sol                     19377 non-null  float64\n",
      " 21  primary_cleaner.output.tail_au                      19439 non-null  float64\n",
      " 22  primary_cleaner.state.floatbank8_a_air              19435 non-null  float64\n",
      " 23  primary_cleaner.state.floatbank8_a_level            19438 non-null  float64\n",
      " 24  primary_cleaner.state.floatbank8_b_air              19435 non-null  float64\n",
      " 25  primary_cleaner.state.floatbank8_b_level            19438 non-null  float64\n",
      " 26  primary_cleaner.state.floatbank8_c_air              19437 non-null  float64\n",
      " 27  primary_cleaner.state.floatbank8_c_level            19438 non-null  float64\n",
      " 28  primary_cleaner.state.floatbank8_d_air              19436 non-null  float64\n",
      " 29  primary_cleaner.state.floatbank8_d_level            19438 non-null  float64\n",
      " 30  rougher.calculation.sulfate_to_au_concentrate       19437 non-null  float64\n",
      " 31  rougher.calculation.floatbank10_sulfate_to_au_feed  19437 non-null  float64\n",
      " 32  rougher.calculation.floatbank11_sulfate_to_au_feed  19437 non-null  float64\n",
      " 33  rougher.calculation.au_pb_ratio                     19439 non-null  float64\n",
      " 34  rougher.input.feed_ag                               19439 non-null  float64\n",
      " 35  rougher.input.feed_pb                               19339 non-null  float64\n",
      " 36  rougher.input.feed_rate                             19428 non-null  float64\n",
      " 37  rougher.input.feed_size                             19294 non-null  float64\n",
      " 38  rougher.input.feed_sol                              19340 non-null  float64\n",
      " 39  rougher.input.feed_au                               19439 non-null  float64\n",
      " 40  rougher.input.floatbank10_sulfate                   19405 non-null  float64\n",
      " 41  rougher.input.floatbank10_xanthate                  19431 non-null  float64\n",
      " 42  rougher.input.floatbank11_sulfate                   19395 non-null  float64\n",
      " 43  rougher.input.floatbank11_xanthate                  18986 non-null  float64\n",
      " 44  rougher.output.concentrate_ag                       19439 non-null  float64\n",
      " 45  rougher.output.concentrate_pb                       19439 non-null  float64\n",
      " 46  rougher.output.concentrate_sol                      19416 non-null  float64\n",
      " 47  rougher.output.concentrate_au                       19439 non-null  float64\n",
      " 48  rougher.output.recovery                             19439 non-null  float64\n",
      " 49  rougher.output.tail_ag                              19438 non-null  float64\n",
      " 50  rougher.output.tail_pb                              19439 non-null  float64\n",
      " 51  rougher.output.tail_sol                             19439 non-null  float64\n",
      " 52  rougher.output.tail_au                              19439 non-null  float64\n",
      " 53  rougher.state.floatbank10_a_air                     19438 non-null  float64\n",
      " 54  rougher.state.floatbank10_a_level                   19438 non-null  float64\n",
      " 55  rougher.state.floatbank10_b_air                     19438 non-null  float64\n",
      " 56  rougher.state.floatbank10_b_level                   19438 non-null  float64\n",
      " 57  rougher.state.floatbank10_c_air                     19438 non-null  float64\n",
      " 58  rougher.state.floatbank10_c_level                   19438 non-null  float64\n",
      " 59  rougher.state.floatbank10_d_air                     19439 non-null  float64\n",
      " 60  rougher.state.floatbank10_d_level                   19439 non-null  float64\n",
      " 61  rougher.state.floatbank10_e_air                     19003 non-null  float64\n",
      " 62  rougher.state.floatbank10_e_level                   19439 non-null  float64\n",
      " 63  rougher.state.floatbank10_f_air                     19439 non-null  float64\n",
      " 64  rougher.state.floatbank10_f_level                   19439 non-null  float64\n",
      " 65  secondary_cleaner.output.tail_ag                    19437 non-null  float64\n",
      " 66  secondary_cleaner.output.tail_pb                    19427 non-null  float64\n",
      " 67  secondary_cleaner.output.tail_sol                   17691 non-null  float64\n",
      " 68  secondary_cleaner.output.tail_au                    19439 non-null  float64\n",
      " 69  secondary_cleaner.state.floatbank2_a_air            19219 non-null  float64\n",
      " 70  secondary_cleaner.state.floatbank2_a_level          19438 non-null  float64\n",
      " 71  secondary_cleaner.state.floatbank2_b_air            19416 non-null  float64\n",
      " 72  secondary_cleaner.state.floatbank2_b_level          19438 non-null  float64\n",
      " 73  secondary_cleaner.state.floatbank3_a_air            19426 non-null  float64\n",
      " 74  secondary_cleaner.state.floatbank3_a_level          19438 non-null  float64\n",
      " 75  secondary_cleaner.state.floatbank3_b_air            19438 non-null  float64\n",
      " 76  secondary_cleaner.state.floatbank3_b_level          19438 non-null  float64\n",
      " 77  secondary_cleaner.state.floatbank4_a_air            19433 non-null  float64\n",
      " 78  secondary_cleaner.state.floatbank4_a_level          19438 non-null  float64\n",
      " 79  secondary_cleaner.state.floatbank4_b_air            19438 non-null  float64\n",
      " 80  secondary_cleaner.state.floatbank4_b_level          19438 non-null  float64\n",
      " 81  secondary_cleaner.state.floatbank5_a_air            19438 non-null  float64\n",
      " 82  secondary_cleaner.state.floatbank5_a_level          19438 non-null  float64\n",
      " 83  secondary_cleaner.state.floatbank5_b_air            19438 non-null  float64\n",
      " 84  secondary_cleaner.state.floatbank5_b_level          19438 non-null  float64\n",
      " 85  secondary_cleaner.state.floatbank6_a_air            19437 non-null  float64\n",
      " 86  secondary_cleaner.state.floatbank6_a_level          19438 non-null  float64\n",
      "dtypes: float64(86), object(1)\n",
      "memory usage: 12.9+ MB\n"
     ]
    }
   ],
   "source": [
    "display(full.head())\n",
    "full.info()"
   ]
  },
  {
   "cell_type": "markdown",
   "metadata": {},
   "source": [
    "Во всех таблицах есть пропуски, вернемся к ним во время предобработки данных."
   ]
  },
  {
   "cell_type": "markdown",
   "metadata": {},
   "source": [
    "Проверим, что эффективность обогащения рассчитана правильно. Вычислим её на обучающей выборке для признака ***rougher.output.recovery*** при помощи самостоятельно написанной функции. MAE между нашими расчётами и значением признака покажет правильность исходных рассчетов"
   ]
  },
  {
   "cell_type": "code",
   "execution_count": 5,
   "metadata": {},
   "outputs": [
    {
     "data": {
      "text/html": [
       "<div>\n",
       "<style scoped>\n",
       "    .dataframe tbody tr th:only-of-type {\n",
       "        vertical-align: middle;\n",
       "    }\n",
       "\n",
       "    .dataframe tbody tr th {\n",
       "        vertical-align: top;\n",
       "    }\n",
       "\n",
       "    .dataframe thead th {\n",
       "        text-align: right;\n",
       "    }\n",
       "</style>\n",
       "<table border=\"1\" class=\"dataframe\">\n",
       "  <thead>\n",
       "    <tr style=\"text-align: right;\">\n",
       "      <th></th>\n",
       "      <th>rougher.input.feed_au</th>\n",
       "      <th>rougher.input.floatbank10_sulfate</th>\n",
       "      <th>rougher.input.floatbank10_xanthate</th>\n",
       "      <th>rougher.input.floatbank11_sulfate</th>\n",
       "      <th>rougher.input.floatbank11_xanthate</th>\n",
       "      <th>rougher.output.concentrate_ag</th>\n",
       "      <th>rougher.output.concentrate_pb</th>\n",
       "      <th>rougher.output.concentrate_sol</th>\n",
       "      <th>rougher.output.concentrate_au</th>\n",
       "      <th>rougher.output.recovery</th>\n",
       "      <th>rougher.output.tail_ag</th>\n",
       "      <th>rougher.output.tail_pb</th>\n",
       "      <th>rougher.output.tail_sol</th>\n",
       "      <th>rougher.output.tail_au</th>\n",
       "    </tr>\n",
       "  </thead>\n",
       "  <tbody>\n",
       "    <tr>\n",
       "      <th>0</th>\n",
       "      <td>6.486150</td>\n",
       "      <td>11.986616</td>\n",
       "      <td>6.007990</td>\n",
       "      <td>11.836743</td>\n",
       "      <td>6.005818</td>\n",
       "      <td>11.500771</td>\n",
       "      <td>7.101074</td>\n",
       "      <td>28.029297</td>\n",
       "      <td>19.793808</td>\n",
       "      <td>87.107763</td>\n",
       "      <td>5.008018</td>\n",
       "      <td>0.508728</td>\n",
       "      <td>19.154297</td>\n",
       "      <td>1.170244</td>\n",
       "    </tr>\n",
       "    <tr>\n",
       "      <th>1</th>\n",
       "      <td>6.478583</td>\n",
       "      <td>11.971193</td>\n",
       "      <td>6.005766</td>\n",
       "      <td>11.996163</td>\n",
       "      <td>6.012594</td>\n",
       "      <td>11.615865</td>\n",
       "      <td>7.278807</td>\n",
       "      <td>28.067063</td>\n",
       "      <td>20.050975</td>\n",
       "      <td>86.843261</td>\n",
       "      <td>4.955378</td>\n",
       "      <td>0.536689</td>\n",
       "      <td>18.965234</td>\n",
       "      <td>1.184827</td>\n",
       "    </tr>\n",
       "    <tr>\n",
       "      <th>2</th>\n",
       "      <td>6.362222</td>\n",
       "      <td>11.920603</td>\n",
       "      <td>6.197377</td>\n",
       "      <td>11.920305</td>\n",
       "      <td>6.204633</td>\n",
       "      <td>11.695753</td>\n",
       "      <td>7.216833</td>\n",
       "      <td>27.454037</td>\n",
       "      <td>19.737170</td>\n",
       "      <td>86.842308</td>\n",
       "      <td>4.843460</td>\n",
       "      <td>0.546416</td>\n",
       "      <td>18.808533</td>\n",
       "      <td>1.162562</td>\n",
       "    </tr>\n",
       "    <tr>\n",
       "      <th>3</th>\n",
       "      <td>6.118189</td>\n",
       "      <td>11.630094</td>\n",
       "      <td>6.203177</td>\n",
       "      <td>11.692450</td>\n",
       "      <td>6.196578</td>\n",
       "      <td>11.915047</td>\n",
       "      <td>7.175616</td>\n",
       "      <td>27.341277</td>\n",
       "      <td>19.320810</td>\n",
       "      <td>87.226430</td>\n",
       "      <td>4.655288</td>\n",
       "      <td>0.542525</td>\n",
       "      <td>19.330200</td>\n",
       "      <td>1.079755</td>\n",
       "    </tr>\n",
       "    <tr>\n",
       "      <th>4</th>\n",
       "      <td>5.663707</td>\n",
       "      <td>10.957755</td>\n",
       "      <td>6.198826</td>\n",
       "      <td>10.960521</td>\n",
       "      <td>6.194897</td>\n",
       "      <td>12.411054</td>\n",
       "      <td>7.240205</td>\n",
       "      <td>27.041023</td>\n",
       "      <td>19.216101</td>\n",
       "      <td>86.688794</td>\n",
       "      <td>4.552800</td>\n",
       "      <td>0.515438</td>\n",
       "      <td>19.267422</td>\n",
       "      <td>1.012642</td>\n",
       "    </tr>\n",
       "    <tr>\n",
       "      <th>...</th>\n",
       "      <td>...</td>\n",
       "      <td>...</td>\n",
       "      <td>...</td>\n",
       "      <td>...</td>\n",
       "      <td>...</td>\n",
       "      <td>...</td>\n",
       "      <td>...</td>\n",
       "      <td>...</td>\n",
       "      <td>...</td>\n",
       "      <td>...</td>\n",
       "      <td>...</td>\n",
       "      <td>...</td>\n",
       "      <td>...</td>\n",
       "      <td>...</td>\n",
       "    </tr>\n",
       "    <tr>\n",
       "      <th>14144</th>\n",
       "      <td>5.335862</td>\n",
       "      <td>7.762770</td>\n",
       "      <td>9.158609</td>\n",
       "      <td>7.766744</td>\n",
       "      <td>9.156069</td>\n",
       "      <td>11.124896</td>\n",
       "      <td>10.984003</td>\n",
       "      <td>30.068876</td>\n",
       "      <td>18.603550</td>\n",
       "      <td>89.574376</td>\n",
       "      <td>4.207261</td>\n",
       "      <td>0.612935</td>\n",
       "      <td>16.666590</td>\n",
       "      <td>0.748633</td>\n",
       "    </tr>\n",
       "    <tr>\n",
       "      <th>14145</th>\n",
       "      <td>4.838619</td>\n",
       "      <td>7.356687</td>\n",
       "      <td>9.304952</td>\n",
       "      <td>7.095508</td>\n",
       "      <td>9.297924</td>\n",
       "      <td>11.425983</td>\n",
       "      <td>10.888213</td>\n",
       "      <td>29.783972</td>\n",
       "      <td>18.441436</td>\n",
       "      <td>87.724007</td>\n",
       "      <td>4.177943</td>\n",
       "      <td>0.650557</td>\n",
       "      <td>16.960649</td>\n",
       "      <td>0.771582</td>\n",
       "    </tr>\n",
       "    <tr>\n",
       "      <th>14146</th>\n",
       "      <td>4.525061</td>\n",
       "      <td>6.586020</td>\n",
       "      <td>9.299606</td>\n",
       "      <td>6.584130</td>\n",
       "      <td>9.300133</td>\n",
       "      <td>8.523497</td>\n",
       "      <td>8.955135</td>\n",
       "      <td>22.786467</td>\n",
       "      <td>15.111231</td>\n",
       "      <td>88.890579</td>\n",
       "      <td>4.050010</td>\n",
       "      <td>0.636095</td>\n",
       "      <td>18.323080</td>\n",
       "      <td>0.685059</td>\n",
       "    </tr>\n",
       "    <tr>\n",
       "      <th>14147</th>\n",
       "      <td>4.362781</td>\n",
       "      <td>6.210119</td>\n",
       "      <td>9.297709</td>\n",
       "      <td>6.209517</td>\n",
       "      <td>9.297194</td>\n",
       "      <td>11.658799</td>\n",
       "      <td>10.655377</td>\n",
       "      <td>29.052742</td>\n",
       "      <td>17.834772</td>\n",
       "      <td>89.858126</td>\n",
       "      <td>3.902494</td>\n",
       "      <td>0.625609</td>\n",
       "      <td>19.423740</td>\n",
       "      <td>0.567130</td>\n",
       "    </tr>\n",
       "    <tr>\n",
       "      <th>14148</th>\n",
       "      <td>4.365491</td>\n",
       "      <td>6.146982</td>\n",
       "      <td>9.308612</td>\n",
       "      <td>6.168939</td>\n",
       "      <td>9.309852</td>\n",
       "      <td>11.959486</td>\n",
       "      <td>10.702148</td>\n",
       "      <td>29.078235</td>\n",
       "      <td>17.804134</td>\n",
       "      <td>89.514960</td>\n",
       "      <td>3.925473</td>\n",
       "      <td>0.638677</td>\n",
       "      <td>19.946673</td>\n",
       "      <td>0.586439</td>\n",
       "    </tr>\n",
       "  </tbody>\n",
       "</table>\n",
       "<p>14149 rows × 14 columns</p>\n",
       "</div>"
      ],
      "text/plain": [
       "       rougher.input.feed_au  rougher.input.floatbank10_sulfate  \\\n",
       "0                   6.486150                          11.986616   \n",
       "1                   6.478583                          11.971193   \n",
       "2                   6.362222                          11.920603   \n",
       "3                   6.118189                          11.630094   \n",
       "4                   5.663707                          10.957755   \n",
       "...                      ...                                ...   \n",
       "14144               5.335862                           7.762770   \n",
       "14145               4.838619                           7.356687   \n",
       "14146               4.525061                           6.586020   \n",
       "14147               4.362781                           6.210119   \n",
       "14148               4.365491                           6.146982   \n",
       "\n",
       "       rougher.input.floatbank10_xanthate  rougher.input.floatbank11_sulfate  \\\n",
       "0                                6.007990                          11.836743   \n",
       "1                                6.005766                          11.996163   \n",
       "2                                6.197377                          11.920305   \n",
       "3                                6.203177                          11.692450   \n",
       "4                                6.198826                          10.960521   \n",
       "...                                   ...                                ...   \n",
       "14144                            9.158609                           7.766744   \n",
       "14145                            9.304952                           7.095508   \n",
       "14146                            9.299606                           6.584130   \n",
       "14147                            9.297709                           6.209517   \n",
       "14148                            9.308612                           6.168939   \n",
       "\n",
       "       rougher.input.floatbank11_xanthate  rougher.output.concentrate_ag  \\\n",
       "0                                6.005818                      11.500771   \n",
       "1                                6.012594                      11.615865   \n",
       "2                                6.204633                      11.695753   \n",
       "3                                6.196578                      11.915047   \n",
       "4                                6.194897                      12.411054   \n",
       "...                                   ...                            ...   \n",
       "14144                            9.156069                      11.124896   \n",
       "14145                            9.297924                      11.425983   \n",
       "14146                            9.300133                       8.523497   \n",
       "14147                            9.297194                      11.658799   \n",
       "14148                            9.309852                      11.959486   \n",
       "\n",
       "       rougher.output.concentrate_pb  rougher.output.concentrate_sol  \\\n",
       "0                           7.101074                       28.029297   \n",
       "1                           7.278807                       28.067063   \n",
       "2                           7.216833                       27.454037   \n",
       "3                           7.175616                       27.341277   \n",
       "4                           7.240205                       27.041023   \n",
       "...                              ...                             ...   \n",
       "14144                      10.984003                       30.068876   \n",
       "14145                      10.888213                       29.783972   \n",
       "14146                       8.955135                       22.786467   \n",
       "14147                      10.655377                       29.052742   \n",
       "14148                      10.702148                       29.078235   \n",
       "\n",
       "       rougher.output.concentrate_au  rougher.output.recovery  \\\n",
       "0                          19.793808                87.107763   \n",
       "1                          20.050975                86.843261   \n",
       "2                          19.737170                86.842308   \n",
       "3                          19.320810                87.226430   \n",
       "4                          19.216101                86.688794   \n",
       "...                              ...                      ...   \n",
       "14144                      18.603550                89.574376   \n",
       "14145                      18.441436                87.724007   \n",
       "14146                      15.111231                88.890579   \n",
       "14147                      17.834772                89.858126   \n",
       "14148                      17.804134                89.514960   \n",
       "\n",
       "       rougher.output.tail_ag  rougher.output.tail_pb  \\\n",
       "0                    5.008018                0.508728   \n",
       "1                    4.955378                0.536689   \n",
       "2                    4.843460                0.546416   \n",
       "3                    4.655288                0.542525   \n",
       "4                    4.552800                0.515438   \n",
       "...                       ...                     ...   \n",
       "14144                4.207261                0.612935   \n",
       "14145                4.177943                0.650557   \n",
       "14146                4.050010                0.636095   \n",
       "14147                3.902494                0.625609   \n",
       "14148                3.925473                0.638677   \n",
       "\n",
       "       rougher.output.tail_sol  rougher.output.tail_au  \n",
       "0                    19.154297                1.170244  \n",
       "1                    18.965234                1.184827  \n",
       "2                    18.808533                1.162562  \n",
       "3                    19.330200                1.079755  \n",
       "4                    19.267422                1.012642  \n",
       "...                        ...                     ...  \n",
       "14144                16.666590                0.748633  \n",
       "14145                16.960649                0.771582  \n",
       "14146                18.323080                0.685059  \n",
       "14147                19.423740                0.567130  \n",
       "14148                19.946673                0.586439  \n",
       "\n",
       "[14149 rows x 14 columns]"
      ]
     },
     "execution_count": 5,
     "metadata": {},
     "output_type": "execute_result"
    }
   ],
   "source": [
    "train.loc[:,'rougher.input.feed_au':'rougher.output.tail_au']"
   ]
  },
  {
   "cell_type": "code",
   "execution_count": 6,
   "metadata": {},
   "outputs": [],
   "source": [
    "def rougher(row):\n",
    "    c = row['rougher.output.concentrate_au']\n",
    "    f = row['rougher.input.feed_au']\n",
    "    t = row['rougher.output.tail_au']\n",
    "    return (c*(f-t))/(f*(c-t))*100"
   ]
  },
  {
   "cell_type": "code",
   "execution_count": 7,
   "metadata": {},
   "outputs": [
    {
     "data": {
      "text/plain": [
       "9.73512347450521e-15"
      ]
     },
     "execution_count": 7,
     "metadata": {},
     "output_type": "execute_result"
    }
   ],
   "source": [
    "train['rougher_new'] = train.apply(rougher, axis=1)\n",
    "mean_absolute_error(train['rougher_new'], train['rougher.output.recovery'] )"
   ]
  },
  {
   "cell_type": "markdown",
   "metadata": {},
   "source": [
    "Значение MAE получилось очень маленьким. Это связано с тем, что при подсчете в функции **def rougher(row)** Python оставляет больше цифр после запятой. Больше, чем у чисел в таблице **train**. Можно считать, что эффективность обогащения рассчитана правильно, т.к. у МАЕ очень маленькое значение."
   ]
  },
  {
   "cell_type": "markdown",
   "metadata": {},
   "source": [
    "### Обработка пропусков"
   ]
  },
  {
   "cell_type": "code",
   "execution_count": 8,
   "metadata": {},
   "outputs": [
    {
     "data": {
      "text/plain": [
       "4100"
      ]
     },
     "execution_count": 8,
     "metadata": {},
     "output_type": "execute_result"
    }
   ],
   "source": [
    "train.isna().sum().sum()"
   ]
  },
  {
   "cell_type": "markdown",
   "metadata": {},
   "source": [
    "В таблице **train** очень много столбцов, поэтому посчитали общее количество пропусков. Их получилось 4100 штук."
   ]
  },
  {
   "cell_type": "code",
   "execution_count": 9,
   "metadata": {},
   "outputs": [
    {
     "data": {
      "text/plain": [
       "date                                           0\n",
       "primary_cleaner.input.sulfate                  4\n",
       "primary_cleaner.input.depressant               5\n",
       "primary_cleaner.input.feed_size                0\n",
       "primary_cleaner.input.xanthate                 4\n",
       "primary_cleaner.state.floatbank8_a_air         0\n",
       "primary_cleaner.state.floatbank8_a_level       0\n",
       "primary_cleaner.state.floatbank8_b_air         0\n",
       "primary_cleaner.state.floatbank8_b_level       0\n",
       "primary_cleaner.state.floatbank8_c_air         0\n",
       "primary_cleaner.state.floatbank8_c_level       0\n",
       "primary_cleaner.state.floatbank8_d_air         0\n",
       "primary_cleaner.state.floatbank8_d_level       0\n",
       "rougher.input.feed_ag                          0\n",
       "rougher.input.feed_pb                          0\n",
       "rougher.input.feed_rate                        3\n",
       "rougher.input.feed_size                        1\n",
       "rougher.input.feed_sol                        21\n",
       "rougher.input.feed_au                          0\n",
       "rougher.input.floatbank10_sulfate              5\n",
       "rougher.input.floatbank10_xanthate             0\n",
       "rougher.input.floatbank11_sulfate              8\n",
       "rougher.input.floatbank11_xanthate            25\n",
       "rougher.state.floatbank10_a_air                0\n",
       "rougher.state.floatbank10_a_level              0\n",
       "rougher.state.floatbank10_b_air                0\n",
       "rougher.state.floatbank10_b_level              0\n",
       "rougher.state.floatbank10_c_air                0\n",
       "rougher.state.floatbank10_c_level              0\n",
       "rougher.state.floatbank10_d_air                0\n",
       "rougher.state.floatbank10_d_level              0\n",
       "rougher.state.floatbank10_e_air                0\n",
       "rougher.state.floatbank10_e_level              0\n",
       "rougher.state.floatbank10_f_air                0\n",
       "rougher.state.floatbank10_f_level              0\n",
       "secondary_cleaner.state.floatbank2_a_air       3\n",
       "secondary_cleaner.state.floatbank2_a_level     0\n",
       "secondary_cleaner.state.floatbank2_b_air       2\n",
       "secondary_cleaner.state.floatbank2_b_level     0\n",
       "secondary_cleaner.state.floatbank3_a_air       9\n",
       "secondary_cleaner.state.floatbank3_a_level     0\n",
       "secondary_cleaner.state.floatbank3_b_air       0\n",
       "secondary_cleaner.state.floatbank3_b_level     0\n",
       "secondary_cleaner.state.floatbank4_a_air       0\n",
       "secondary_cleaner.state.floatbank4_a_level     0\n",
       "secondary_cleaner.state.floatbank4_b_air       0\n",
       "secondary_cleaner.state.floatbank4_b_level     0\n",
       "secondary_cleaner.state.floatbank5_a_air       0\n",
       "secondary_cleaner.state.floatbank5_a_level     0\n",
       "secondary_cleaner.state.floatbank5_b_air       0\n",
       "secondary_cleaner.state.floatbank5_b_level     0\n",
       "secondary_cleaner.state.floatbank6_a_air       0\n",
       "secondary_cleaner.state.floatbank6_a_level     0\n",
       "dtype: int64"
      ]
     },
     "execution_count": 9,
     "metadata": {},
     "output_type": "execute_result"
    }
   ],
   "source": [
    "test.isna().sum()"
   ]
  },
  {
   "cell_type": "code",
   "execution_count": 10,
   "metadata": {},
   "outputs": [
    {
     "data": {
      "text/plain": [
       "90"
      ]
     },
     "execution_count": 10,
     "metadata": {},
     "output_type": "execute_result"
    }
   ],
   "source": [
    "test.isna().sum().sum()"
   ]
  },
  {
   "cell_type": "markdown",
   "metadata": {},
   "source": [
    "В таблице **test** всего 90 пропусков. Но при изучении таблицы я обратил внимание, что данные фиксирутся каждый час. Из-за этого данные в строках очень похожи, и соседние строки отличаются совсем чуть-чуть. Поэтому заменим пропуски на значения из предыдущих строк."
   ]
  },
  {
   "cell_type": "code",
   "execution_count": 11,
   "metadata": {},
   "outputs": [
    {
     "data": {
      "text/html": [
       "<div>\n",
       "<style scoped>\n",
       "    .dataframe tbody tr th:only-of-type {\n",
       "        vertical-align: middle;\n",
       "    }\n",
       "\n",
       "    .dataframe tbody tr th {\n",
       "        vertical-align: top;\n",
       "    }\n",
       "\n",
       "    .dataframe thead th {\n",
       "        text-align: right;\n",
       "    }\n",
       "</style>\n",
       "<table border=\"1\" class=\"dataframe\">\n",
       "  <thead>\n",
       "    <tr style=\"text-align: right;\">\n",
       "      <th></th>\n",
       "      <th>date</th>\n",
       "      <th>final.output.concentrate_ag</th>\n",
       "      <th>final.output.concentrate_pb</th>\n",
       "      <th>final.output.concentrate_sol</th>\n",
       "      <th>final.output.concentrate_au</th>\n",
       "      <th>final.output.recovery</th>\n",
       "      <th>final.output.tail_ag</th>\n",
       "      <th>final.output.tail_pb</th>\n",
       "      <th>final.output.tail_sol</th>\n",
       "      <th>final.output.tail_au</th>\n",
       "      <th>...</th>\n",
       "      <th>secondary_cleaner.state.floatbank4_a_level</th>\n",
       "      <th>secondary_cleaner.state.floatbank4_b_air</th>\n",
       "      <th>secondary_cleaner.state.floatbank4_b_level</th>\n",
       "      <th>secondary_cleaner.state.floatbank5_a_air</th>\n",
       "      <th>secondary_cleaner.state.floatbank5_a_level</th>\n",
       "      <th>secondary_cleaner.state.floatbank5_b_air</th>\n",
       "      <th>secondary_cleaner.state.floatbank5_b_level</th>\n",
       "      <th>secondary_cleaner.state.floatbank6_a_air</th>\n",
       "      <th>secondary_cleaner.state.floatbank6_a_level</th>\n",
       "      <th>rougher_new</th>\n",
       "    </tr>\n",
       "  </thead>\n",
       "  <tbody>\n",
       "    <tr>\n",
       "      <th>0</th>\n",
       "      <td>2016-01-15 00:00:00</td>\n",
       "      <td>6.055403</td>\n",
       "      <td>9.889648</td>\n",
       "      <td>5.507324</td>\n",
       "      <td>42.192020</td>\n",
       "      <td>70.541216</td>\n",
       "      <td>10.411962</td>\n",
       "      <td>0.895447</td>\n",
       "      <td>16.904297</td>\n",
       "      <td>2.143149</td>\n",
       "      <td>...</td>\n",
       "      <td>-502.488007</td>\n",
       "      <td>12.099931</td>\n",
       "      <td>-504.715942</td>\n",
       "      <td>9.925633</td>\n",
       "      <td>-498.310211</td>\n",
       "      <td>8.079666</td>\n",
       "      <td>-500.470978</td>\n",
       "      <td>14.151341</td>\n",
       "      <td>-605.841980</td>\n",
       "      <td>87.107763</td>\n",
       "    </tr>\n",
       "    <tr>\n",
       "      <th>1</th>\n",
       "      <td>2016-01-15 01:00:00</td>\n",
       "      <td>6.029369</td>\n",
       "      <td>9.968944</td>\n",
       "      <td>5.257781</td>\n",
       "      <td>42.701629</td>\n",
       "      <td>69.266198</td>\n",
       "      <td>10.462676</td>\n",
       "      <td>0.927452</td>\n",
       "      <td>16.634514</td>\n",
       "      <td>2.224930</td>\n",
       "      <td>...</td>\n",
       "      <td>-505.503262</td>\n",
       "      <td>11.950531</td>\n",
       "      <td>-501.331529</td>\n",
       "      <td>10.039245</td>\n",
       "      <td>-500.169983</td>\n",
       "      <td>7.984757</td>\n",
       "      <td>-500.582168</td>\n",
       "      <td>13.998353</td>\n",
       "      <td>-599.787184</td>\n",
       "      <td>86.843261</td>\n",
       "    </tr>\n",
       "    <tr>\n",
       "      <th>2</th>\n",
       "      <td>2016-01-15 02:00:00</td>\n",
       "      <td>6.055926</td>\n",
       "      <td>10.213995</td>\n",
       "      <td>5.383759</td>\n",
       "      <td>42.657501</td>\n",
       "      <td>68.116445</td>\n",
       "      <td>10.507046</td>\n",
       "      <td>0.953716</td>\n",
       "      <td>16.208849</td>\n",
       "      <td>2.257889</td>\n",
       "      <td>...</td>\n",
       "      <td>-502.520901</td>\n",
       "      <td>11.912783</td>\n",
       "      <td>-501.133383</td>\n",
       "      <td>10.070913</td>\n",
       "      <td>-500.129135</td>\n",
       "      <td>8.013877</td>\n",
       "      <td>-500.517572</td>\n",
       "      <td>14.028663</td>\n",
       "      <td>-601.427363</td>\n",
       "      <td>86.842308</td>\n",
       "    </tr>\n",
       "    <tr>\n",
       "      <th>3</th>\n",
       "      <td>2016-01-15 03:00:00</td>\n",
       "      <td>6.047977</td>\n",
       "      <td>9.977019</td>\n",
       "      <td>4.858634</td>\n",
       "      <td>42.689819</td>\n",
       "      <td>68.347543</td>\n",
       "      <td>10.422762</td>\n",
       "      <td>0.883763</td>\n",
       "      <td>16.532835</td>\n",
       "      <td>2.146849</td>\n",
       "      <td>...</td>\n",
       "      <td>-500.857308</td>\n",
       "      <td>11.999550</td>\n",
       "      <td>-501.193686</td>\n",
       "      <td>9.970366</td>\n",
       "      <td>-499.201640</td>\n",
       "      <td>7.977324</td>\n",
       "      <td>-500.255908</td>\n",
       "      <td>14.005551</td>\n",
       "      <td>-599.996129</td>\n",
       "      <td>87.226430</td>\n",
       "    </tr>\n",
       "    <tr>\n",
       "      <th>4</th>\n",
       "      <td>2016-01-15 04:00:00</td>\n",
       "      <td>6.148599</td>\n",
       "      <td>10.142511</td>\n",
       "      <td>4.939416</td>\n",
       "      <td>42.774141</td>\n",
       "      <td>66.927016</td>\n",
       "      <td>10.360302</td>\n",
       "      <td>0.792826</td>\n",
       "      <td>16.525686</td>\n",
       "      <td>2.055292</td>\n",
       "      <td>...</td>\n",
       "      <td>-499.838632</td>\n",
       "      <td>11.953070</td>\n",
       "      <td>-501.053894</td>\n",
       "      <td>9.925709</td>\n",
       "      <td>-501.686727</td>\n",
       "      <td>7.894242</td>\n",
       "      <td>-500.356035</td>\n",
       "      <td>13.996647</td>\n",
       "      <td>-601.496691</td>\n",
       "      <td>86.688794</td>\n",
       "    </tr>\n",
       "    <tr>\n",
       "      <th>5</th>\n",
       "      <td>2016-01-15 05:00:00</td>\n",
       "      <td>6.482968</td>\n",
       "      <td>10.049416</td>\n",
       "      <td>5.480257</td>\n",
       "      <td>41.633678</td>\n",
       "      <td>69.465816</td>\n",
       "      <td>10.182708</td>\n",
       "      <td>0.664118</td>\n",
       "      <td>16.999638</td>\n",
       "      <td>1.918586</td>\n",
       "      <td>...</td>\n",
       "      <td>-500.970168</td>\n",
       "      <td>11.883350</td>\n",
       "      <td>-500.395298</td>\n",
       "      <td>10.054147</td>\n",
       "      <td>-496.374715</td>\n",
       "      <td>7.965083</td>\n",
       "      <td>-499.364752</td>\n",
       "      <td>14.017067</td>\n",
       "      <td>-599.707915</td>\n",
       "      <td>88.156912</td>\n",
       "    </tr>\n",
       "    <tr>\n",
       "      <th>6</th>\n",
       "      <td>2016-01-15 06:00:00</td>\n",
       "      <td>6.533849</td>\n",
       "      <td>10.058141</td>\n",
       "      <td>4.569100</td>\n",
       "      <td>41.995316</td>\n",
       "      <td>69.300835</td>\n",
       "      <td>10.304598</td>\n",
       "      <td>0.807342</td>\n",
       "      <td>16.723575</td>\n",
       "      <td>2.058913</td>\n",
       "      <td>...</td>\n",
       "      <td>-500.971133</td>\n",
       "      <td>12.091543</td>\n",
       "      <td>-500.501426</td>\n",
       "      <td>10.003247</td>\n",
       "      <td>-497.083180</td>\n",
       "      <td>8.010890</td>\n",
       "      <td>-500.002423</td>\n",
       "      <td>14.029649</td>\n",
       "      <td>-600.905470</td>\n",
       "      <td>88.168065</td>\n",
       "    </tr>\n",
       "    <tr>\n",
       "      <th>7</th>\n",
       "      <td>2016-01-15 07:00:00</td>\n",
       "      <td>6.130823</td>\n",
       "      <td>9.935481</td>\n",
       "      <td>4.389813</td>\n",
       "      <td>42.452727</td>\n",
       "      <td>70.230976</td>\n",
       "      <td>10.443288</td>\n",
       "      <td>0.949346</td>\n",
       "      <td>16.689959</td>\n",
       "      <td>2.143437</td>\n",
       "      <td>...</td>\n",
       "      <td>-501.819696</td>\n",
       "      <td>12.101324</td>\n",
       "      <td>-500.583446</td>\n",
       "      <td>9.873169</td>\n",
       "      <td>-499.171928</td>\n",
       "      <td>7.993381</td>\n",
       "      <td>-499.794518</td>\n",
       "      <td>13.984498</td>\n",
       "      <td>-600.411070</td>\n",
       "      <td>87.668336</td>\n",
       "    </tr>\n",
       "    <tr>\n",
       "      <th>8</th>\n",
       "      <td>2016-01-15 08:00:00</td>\n",
       "      <td>5.834140</td>\n",
       "      <td>10.071156</td>\n",
       "      <td>4.876389</td>\n",
       "      <td>43.404078</td>\n",
       "      <td>69.688595</td>\n",
       "      <td>10.420140</td>\n",
       "      <td>1.065453</td>\n",
       "      <td>17.201948</td>\n",
       "      <td>2.209881</td>\n",
       "      <td>...</td>\n",
       "      <td>-504.252450</td>\n",
       "      <td>12.060738</td>\n",
       "      <td>-501.174549</td>\n",
       "      <td>10.033838</td>\n",
       "      <td>-501.178133</td>\n",
       "      <td>7.881604</td>\n",
       "      <td>-499.729434</td>\n",
       "      <td>13.967135</td>\n",
       "      <td>-599.061188</td>\n",
       "      <td>87.035862</td>\n",
       "    </tr>\n",
       "    <tr>\n",
       "      <th>9</th>\n",
       "      <td>2016-01-15 09:00:00</td>\n",
       "      <td>5.687063</td>\n",
       "      <td>9.980404</td>\n",
       "      <td>5.282514</td>\n",
       "      <td>43.235220</td>\n",
       "      <td>70.279619</td>\n",
       "      <td>10.487013</td>\n",
       "      <td>1.159805</td>\n",
       "      <td>17.483979</td>\n",
       "      <td>2.209593</td>\n",
       "      <td>...</td>\n",
       "      <td>-503.195299</td>\n",
       "      <td>12.052233</td>\n",
       "      <td>-500.928547</td>\n",
       "      <td>9.962574</td>\n",
       "      <td>-502.986357</td>\n",
       "      <td>7.979219</td>\n",
       "      <td>-500.146835</td>\n",
       "      <td>13.981614</td>\n",
       "      <td>-598.070855</td>\n",
       "      <td>87.650868</td>\n",
       "    </tr>\n",
       "    <tr>\n",
       "      <th>10</th>\n",
       "      <td>2016-01-15 10:00:00</td>\n",
       "      <td>5.706261</td>\n",
       "      <td>10.242511</td>\n",
       "      <td>5.214161</td>\n",
       "      <td>43.487291</td>\n",
       "      <td>70.973641</td>\n",
       "      <td>10.473539</td>\n",
       "      <td>1.171183</td>\n",
       "      <td>17.717049</td>\n",
       "      <td>2.200997</td>\n",
       "      <td>...</td>\n",
       "      <td>-504.170807</td>\n",
       "      <td>11.995903</td>\n",
       "      <td>-501.269181</td>\n",
       "      <td>10.043100</td>\n",
       "      <td>-498.529996</td>\n",
       "      <td>8.002633</td>\n",
       "      <td>-499.761922</td>\n",
       "      <td>14.004767</td>\n",
       "      <td>-599.595324</td>\n",
       "      <td>88.280699</td>\n",
       "    </tr>\n",
       "    <tr>\n",
       "      <th>11</th>\n",
       "      <td>2016-01-15 11:00:00</td>\n",
       "      <td>5.582300</td>\n",
       "      <td>10.029878</td>\n",
       "      <td>5.751567</td>\n",
       "      <td>43.467440</td>\n",
       "      <td>71.380681</td>\n",
       "      <td>10.394314</td>\n",
       "      <td>1.087722</td>\n",
       "      <td>18.059770</td>\n",
       "      <td>2.098777</td>\n",
       "      <td>...</td>\n",
       "      <td>-503.940828</td>\n",
       "      <td>12.022296</td>\n",
       "      <td>-501.238477</td>\n",
       "      <td>10.020094</td>\n",
       "      <td>-500.061845</td>\n",
       "      <td>7.964024</td>\n",
       "      <td>-499.283982</td>\n",
       "      <td>14.003011</td>\n",
       "      <td>-599.879856</td>\n",
       "      <td>88.499117</td>\n",
       "    </tr>\n",
       "    <tr>\n",
       "      <th>12</th>\n",
       "      <td>2016-01-15 12:00:00</td>\n",
       "      <td>5.664983</td>\n",
       "      <td>10.168953</td>\n",
       "      <td>5.484318</td>\n",
       "      <td>43.339714</td>\n",
       "      <td>72.659046</td>\n",
       "      <td>10.475957</td>\n",
       "      <td>1.050592</td>\n",
       "      <td>17.525656</td>\n",
       "      <td>2.064422</td>\n",
       "      <td>...</td>\n",
       "      <td>-503.675714</td>\n",
       "      <td>11.928745</td>\n",
       "      <td>-500.583183</td>\n",
       "      <td>9.970359</td>\n",
       "      <td>-498.822343</td>\n",
       "      <td>8.016377</td>\n",
       "      <td>-499.013145</td>\n",
       "      <td>14.000032</td>\n",
       "      <td>-600.024741</td>\n",
       "      <td>89.299981</td>\n",
       "    </tr>\n",
       "    <tr>\n",
       "      <th>13</th>\n",
       "      <td>2016-01-15 13:00:00</td>\n",
       "      <td>5.474776</td>\n",
       "      <td>9.813218</td>\n",
       "      <td>5.587525</td>\n",
       "      <td>44.099758</td>\n",
       "      <td>73.588844</td>\n",
       "      <td>10.378293</td>\n",
       "      <td>0.900833</td>\n",
       "      <td>17.464201</td>\n",
       "      <td>1.975039</td>\n",
       "      <td>...</td>\n",
       "      <td>-504.947519</td>\n",
       "      <td>12.014060</td>\n",
       "      <td>-500.647565</td>\n",
       "      <td>10.000087</td>\n",
       "      <td>-499.306972</td>\n",
       "      <td>8.002007</td>\n",
       "      <td>-499.970754</td>\n",
       "      <td>14.019977</td>\n",
       "      <td>-599.986714</td>\n",
       "      <td>89.519701</td>\n",
       "    </tr>\n",
       "    <tr>\n",
       "      <th>14</th>\n",
       "      <td>2016-01-15 14:00:00</td>\n",
       "      <td>5.437716</td>\n",
       "      <td>9.781181</td>\n",
       "      <td>6.057627</td>\n",
       "      <td>44.284117</td>\n",
       "      <td>70.847012</td>\n",
       "      <td>10.324415</td>\n",
       "      <td>0.961210</td>\n",
       "      <td>18.185262</td>\n",
       "      <td>2.161256</td>\n",
       "      <td>...</td>\n",
       "      <td>-502.995300</td>\n",
       "      <td>11.980055</td>\n",
       "      <td>-500.607751</td>\n",
       "      <td>9.964501</td>\n",
       "      <td>-499.261719</td>\n",
       "      <td>8.065048</td>\n",
       "      <td>-499.492395</td>\n",
       "      <td>13.997801</td>\n",
       "      <td>-600.621416</td>\n",
       "      <td>87.235441</td>\n",
       "    </tr>\n",
       "    <tr>\n",
       "      <th>15</th>\n",
       "      <td>2016-01-15 15:00:00</td>\n",
       "      <td>5.454277</td>\n",
       "      <td>10.019066</td>\n",
       "      <td>5.744694</td>\n",
       "      <td>44.081600</td>\n",
       "      <td>68.753219</td>\n",
       "      <td>10.352547</td>\n",
       "      <td>1.137378</td>\n",
       "      <td>18.431646</td>\n",
       "      <td>2.336759</td>\n",
       "      <td>...</td>\n",
       "      <td>-503.202022</td>\n",
       "      <td>11.994299</td>\n",
       "      <td>-500.337803</td>\n",
       "      <td>10.037149</td>\n",
       "      <td>-499.395047</td>\n",
       "      <td>8.056439</td>\n",
       "      <td>-499.479716</td>\n",
       "      <td>13.977626</td>\n",
       "      <td>-600.075029</td>\n",
       "      <td>85.136294</td>\n",
       "    </tr>\n",
       "    <tr>\n",
       "      <th>16</th>\n",
       "      <td>2016-01-15 16:00:00</td>\n",
       "      <td>5.410126</td>\n",
       "      <td>10.868937</td>\n",
       "      <td>6.258693</td>\n",
       "      <td>43.440341</td>\n",
       "      <td>67.839536</td>\n",
       "      <td>10.382891</td>\n",
       "      <td>1.239738</td>\n",
       "      <td>18.544924</td>\n",
       "      <td>2.423143</td>\n",
       "      <td>...</td>\n",
       "      <td>-503.471307</td>\n",
       "      <td>11.966426</td>\n",
       "      <td>-500.656842</td>\n",
       "      <td>10.051620</td>\n",
       "      <td>-498.318772</td>\n",
       "      <td>8.018091</td>\n",
       "      <td>-499.696138</td>\n",
       "      <td>13.958937</td>\n",
       "      <td>-599.213013</td>\n",
       "      <td>85.443505</td>\n",
       "    </tr>\n",
       "    <tr>\n",
       "      <th>17</th>\n",
       "      <td>2016-01-15 17:00:00</td>\n",
       "      <td>5.572499</td>\n",
       "      <td>10.841483</td>\n",
       "      <td>6.841936</td>\n",
       "      <td>42.844534</td>\n",
       "      <td>69.633763</td>\n",
       "      <td>10.349616</td>\n",
       "      <td>1.179975</td>\n",
       "      <td>18.748028</td>\n",
       "      <td>2.327442</td>\n",
       "      <td>...</td>\n",
       "      <td>-541.569984</td>\n",
       "      <td>12.021831</td>\n",
       "      <td>-545.572166</td>\n",
       "      <td>10.021058</td>\n",
       "      <td>-501.386982</td>\n",
       "      <td>7.947110</td>\n",
       "      <td>-500.062750</td>\n",
       "      <td>14.014991</td>\n",
       "      <td>-600.670573</td>\n",
       "      <td>86.489827</td>\n",
       "    </tr>\n",
       "    <tr>\n",
       "      <th>18</th>\n",
       "      <td>2016-01-15 18:00:00</td>\n",
       "      <td>5.719113</td>\n",
       "      <td>10.621027</td>\n",
       "      <td>6.459561</td>\n",
       "      <td>42.435181</td>\n",
       "      <td>68.786981</td>\n",
       "      <td>10.286797</td>\n",
       "      <td>1.171459</td>\n",
       "      <td>19.131121</td>\n",
       "      <td>2.314786</td>\n",
       "      <td>...</td>\n",
       "      <td>-503.152258</td>\n",
       "      <td>12.016724</td>\n",
       "      <td>-501.136446</td>\n",
       "      <td>10.041864</td>\n",
       "      <td>-499.338844</td>\n",
       "      <td>8.007022</td>\n",
       "      <td>-500.279583</td>\n",
       "      <td>14.001271</td>\n",
       "      <td>-602.072365</td>\n",
       "      <td>85.462226</td>\n",
       "    </tr>\n",
       "    <tr>\n",
       "      <th>19</th>\n",
       "      <td>2016-01-15 19:00:00</td>\n",
       "      <td>5.658943</td>\n",
       "      <td>10.436002</td>\n",
       "      <td>5.942418</td>\n",
       "      <td>42.509402</td>\n",
       "      <td>70.348300</td>\n",
       "      <td>10.232392</td>\n",
       "      <td>1.174845</td>\n",
       "      <td>19.498566</td>\n",
       "      <td>2.272460</td>\n",
       "      <td>...</td>\n",
       "      <td>-509.808331</td>\n",
       "      <td>12.087669</td>\n",
       "      <td>-510.782166</td>\n",
       "      <td>10.032043</td>\n",
       "      <td>-499.128183</td>\n",
       "      <td>8.016140</td>\n",
       "      <td>-499.806844</td>\n",
       "      <td>13.949790</td>\n",
       "      <td>-600.140776</td>\n",
       "      <td>86.241795</td>\n",
       "    </tr>\n",
       "    <tr>\n",
       "      <th>20</th>\n",
       "      <td>2016-01-15 20:00:00</td>\n",
       "      <td>5.682227</td>\n",
       "      <td>10.659174</td>\n",
       "      <td>6.115570</td>\n",
       "      <td>42.359456</td>\n",
       "      <td>70.159212</td>\n",
       "      <td>10.380373</td>\n",
       "      <td>1.323817</td>\n",
       "      <td>19.085562</td>\n",
       "      <td>2.409968</td>\n",
       "      <td>...</td>\n",
       "      <td>-550.240978</td>\n",
       "      <td>11.953813</td>\n",
       "      <td>-550.149839</td>\n",
       "      <td>9.990842</td>\n",
       "      <td>-498.389342</td>\n",
       "      <td>8.054376</td>\n",
       "      <td>-500.157986</td>\n",
       "      <td>14.012039</td>\n",
       "      <td>-599.151759</td>\n",
       "      <td>86.582578</td>\n",
       "    </tr>\n",
       "    <tr>\n",
       "      <th>21</th>\n",
       "      <td>2016-01-15 21:00:00</td>\n",
       "      <td>5.935933</td>\n",
       "      <td>10.755414</td>\n",
       "      <td>6.590334</td>\n",
       "      <td>41.660254</td>\n",
       "      <td>70.170722</td>\n",
       "      <td>10.408560</td>\n",
       "      <td>1.368093</td>\n",
       "      <td>19.235532</td>\n",
       "      <td>2.428912</td>\n",
       "      <td>...</td>\n",
       "      <td>-551.629578</td>\n",
       "      <td>11.998520</td>\n",
       "      <td>-550.406603</td>\n",
       "      <td>10.016843</td>\n",
       "      <td>-501.493066</td>\n",
       "      <td>7.962699</td>\n",
       "      <td>-499.445532</td>\n",
       "      <td>14.004658</td>\n",
       "      <td>-600.347249</td>\n",
       "      <td>86.824119</td>\n",
       "    </tr>\n",
       "    <tr>\n",
       "      <th>22</th>\n",
       "      <td>2016-01-15 22:00:00</td>\n",
       "      <td>6.118749</td>\n",
       "      <td>10.483007</td>\n",
       "      <td>6.546983</td>\n",
       "      <td>41.406172</td>\n",
       "      <td>69.823900</td>\n",
       "      <td>10.322077</td>\n",
       "      <td>1.270956</td>\n",
       "      <td>19.384247</td>\n",
       "      <td>2.245145</td>\n",
       "      <td>...</td>\n",
       "      <td>-541.642068</td>\n",
       "      <td>11.993920</td>\n",
       "      <td>-550.493894</td>\n",
       "      <td>9.985232</td>\n",
       "      <td>-499.796583</td>\n",
       "      <td>7.985524</td>\n",
       "      <td>-499.872153</td>\n",
       "      <td>13.973257</td>\n",
       "      <td>-600.054998</td>\n",
       "      <td>88.132239</td>\n",
       "    </tr>\n",
       "    <tr>\n",
       "      <th>23</th>\n",
       "      <td>2016-01-15 23:00:00</td>\n",
       "      <td>5.723934</td>\n",
       "      <td>9.885626</td>\n",
       "      <td>5.497308</td>\n",
       "      <td>42.835030</td>\n",
       "      <td>64.708674</td>\n",
       "      <td>10.298495</td>\n",
       "      <td>1.126586</td>\n",
       "      <td>19.032958</td>\n",
       "      <td>2.173152</td>\n",
       "      <td>...</td>\n",
       "      <td>-551.234266</td>\n",
       "      <td>12.061748</td>\n",
       "      <td>-550.293577</td>\n",
       "      <td>10.055894</td>\n",
       "      <td>-500.347054</td>\n",
       "      <td>8.022863</td>\n",
       "      <td>-500.435095</td>\n",
       "      <td>13.948462</td>\n",
       "      <td>-599.696711</td>\n",
       "      <td>85.910498</td>\n",
       "    </tr>\n",
       "    <tr>\n",
       "      <th>24</th>\n",
       "      <td>2016-01-16 00:00:00</td>\n",
       "      <td>5.522219</td>\n",
       "      <td>10.333510</td>\n",
       "      <td>4.720684</td>\n",
       "      <td>42.964605</td>\n",
       "      <td>67.238839</td>\n",
       "      <td>10.053812</td>\n",
       "      <td>0.505495</td>\n",
       "      <td>18.253275</td>\n",
       "      <td>1.813911</td>\n",
       "      <td>...</td>\n",
       "      <td>-551.557836</td>\n",
       "      <td>11.970346</td>\n",
       "      <td>-550.917279</td>\n",
       "      <td>10.024791</td>\n",
       "      <td>-500.350298</td>\n",
       "      <td>7.997472</td>\n",
       "      <td>-499.453616</td>\n",
       "      <td>14.034649</td>\n",
       "      <td>-600.172333</td>\n",
       "      <td>86.262377</td>\n",
       "    </tr>\n",
       "  </tbody>\n",
       "</table>\n",
       "<p>25 rows × 88 columns</p>\n",
       "</div>"
      ],
      "text/plain": [
       "                   date  final.output.concentrate_ag  \\\n",
       "0   2016-01-15 00:00:00                     6.055403   \n",
       "1   2016-01-15 01:00:00                     6.029369   \n",
       "2   2016-01-15 02:00:00                     6.055926   \n",
       "3   2016-01-15 03:00:00                     6.047977   \n",
       "4   2016-01-15 04:00:00                     6.148599   \n",
       "5   2016-01-15 05:00:00                     6.482968   \n",
       "6   2016-01-15 06:00:00                     6.533849   \n",
       "7   2016-01-15 07:00:00                     6.130823   \n",
       "8   2016-01-15 08:00:00                     5.834140   \n",
       "9   2016-01-15 09:00:00                     5.687063   \n",
       "10  2016-01-15 10:00:00                     5.706261   \n",
       "11  2016-01-15 11:00:00                     5.582300   \n",
       "12  2016-01-15 12:00:00                     5.664983   \n",
       "13  2016-01-15 13:00:00                     5.474776   \n",
       "14  2016-01-15 14:00:00                     5.437716   \n",
       "15  2016-01-15 15:00:00                     5.454277   \n",
       "16  2016-01-15 16:00:00                     5.410126   \n",
       "17  2016-01-15 17:00:00                     5.572499   \n",
       "18  2016-01-15 18:00:00                     5.719113   \n",
       "19  2016-01-15 19:00:00                     5.658943   \n",
       "20  2016-01-15 20:00:00                     5.682227   \n",
       "21  2016-01-15 21:00:00                     5.935933   \n",
       "22  2016-01-15 22:00:00                     6.118749   \n",
       "23  2016-01-15 23:00:00                     5.723934   \n",
       "24  2016-01-16 00:00:00                     5.522219   \n",
       "\n",
       "    final.output.concentrate_pb  final.output.concentrate_sol  \\\n",
       "0                      9.889648                      5.507324   \n",
       "1                      9.968944                      5.257781   \n",
       "2                     10.213995                      5.383759   \n",
       "3                      9.977019                      4.858634   \n",
       "4                     10.142511                      4.939416   \n",
       "5                     10.049416                      5.480257   \n",
       "6                     10.058141                      4.569100   \n",
       "7                      9.935481                      4.389813   \n",
       "8                     10.071156                      4.876389   \n",
       "9                      9.980404                      5.282514   \n",
       "10                    10.242511                      5.214161   \n",
       "11                    10.029878                      5.751567   \n",
       "12                    10.168953                      5.484318   \n",
       "13                     9.813218                      5.587525   \n",
       "14                     9.781181                      6.057627   \n",
       "15                    10.019066                      5.744694   \n",
       "16                    10.868937                      6.258693   \n",
       "17                    10.841483                      6.841936   \n",
       "18                    10.621027                      6.459561   \n",
       "19                    10.436002                      5.942418   \n",
       "20                    10.659174                      6.115570   \n",
       "21                    10.755414                      6.590334   \n",
       "22                    10.483007                      6.546983   \n",
       "23                     9.885626                      5.497308   \n",
       "24                    10.333510                      4.720684   \n",
       "\n",
       "    final.output.concentrate_au  final.output.recovery  final.output.tail_ag  \\\n",
       "0                     42.192020              70.541216             10.411962   \n",
       "1                     42.701629              69.266198             10.462676   \n",
       "2                     42.657501              68.116445             10.507046   \n",
       "3                     42.689819              68.347543             10.422762   \n",
       "4                     42.774141              66.927016             10.360302   \n",
       "5                     41.633678              69.465816             10.182708   \n",
       "6                     41.995316              69.300835             10.304598   \n",
       "7                     42.452727              70.230976             10.443288   \n",
       "8                     43.404078              69.688595             10.420140   \n",
       "9                     43.235220              70.279619             10.487013   \n",
       "10                    43.487291              70.973641             10.473539   \n",
       "11                    43.467440              71.380681             10.394314   \n",
       "12                    43.339714              72.659046             10.475957   \n",
       "13                    44.099758              73.588844             10.378293   \n",
       "14                    44.284117              70.847012             10.324415   \n",
       "15                    44.081600              68.753219             10.352547   \n",
       "16                    43.440341              67.839536             10.382891   \n",
       "17                    42.844534              69.633763             10.349616   \n",
       "18                    42.435181              68.786981             10.286797   \n",
       "19                    42.509402              70.348300             10.232392   \n",
       "20                    42.359456              70.159212             10.380373   \n",
       "21                    41.660254              70.170722             10.408560   \n",
       "22                    41.406172              69.823900             10.322077   \n",
       "23                    42.835030              64.708674             10.298495   \n",
       "24                    42.964605              67.238839             10.053812   \n",
       "\n",
       "    final.output.tail_pb  final.output.tail_sol  final.output.tail_au  ...  \\\n",
       "0               0.895447              16.904297              2.143149  ...   \n",
       "1               0.927452              16.634514              2.224930  ...   \n",
       "2               0.953716              16.208849              2.257889  ...   \n",
       "3               0.883763              16.532835              2.146849  ...   \n",
       "4               0.792826              16.525686              2.055292  ...   \n",
       "5               0.664118              16.999638              1.918586  ...   \n",
       "6               0.807342              16.723575              2.058913  ...   \n",
       "7               0.949346              16.689959              2.143437  ...   \n",
       "8               1.065453              17.201948              2.209881  ...   \n",
       "9               1.159805              17.483979              2.209593  ...   \n",
       "10              1.171183              17.717049              2.200997  ...   \n",
       "11              1.087722              18.059770              2.098777  ...   \n",
       "12              1.050592              17.525656              2.064422  ...   \n",
       "13              0.900833              17.464201              1.975039  ...   \n",
       "14              0.961210              18.185262              2.161256  ...   \n",
       "15              1.137378              18.431646              2.336759  ...   \n",
       "16              1.239738              18.544924              2.423143  ...   \n",
       "17              1.179975              18.748028              2.327442  ...   \n",
       "18              1.171459              19.131121              2.314786  ...   \n",
       "19              1.174845              19.498566              2.272460  ...   \n",
       "20              1.323817              19.085562              2.409968  ...   \n",
       "21              1.368093              19.235532              2.428912  ...   \n",
       "22              1.270956              19.384247              2.245145  ...   \n",
       "23              1.126586              19.032958              2.173152  ...   \n",
       "24              0.505495              18.253275              1.813911  ...   \n",
       "\n",
       "    secondary_cleaner.state.floatbank4_a_level  \\\n",
       "0                                  -502.488007   \n",
       "1                                  -505.503262   \n",
       "2                                  -502.520901   \n",
       "3                                  -500.857308   \n",
       "4                                  -499.838632   \n",
       "5                                  -500.970168   \n",
       "6                                  -500.971133   \n",
       "7                                  -501.819696   \n",
       "8                                  -504.252450   \n",
       "9                                  -503.195299   \n",
       "10                                 -504.170807   \n",
       "11                                 -503.940828   \n",
       "12                                 -503.675714   \n",
       "13                                 -504.947519   \n",
       "14                                 -502.995300   \n",
       "15                                 -503.202022   \n",
       "16                                 -503.471307   \n",
       "17                                 -541.569984   \n",
       "18                                 -503.152258   \n",
       "19                                 -509.808331   \n",
       "20                                 -550.240978   \n",
       "21                                 -551.629578   \n",
       "22                                 -541.642068   \n",
       "23                                 -551.234266   \n",
       "24                                 -551.557836   \n",
       "\n",
       "    secondary_cleaner.state.floatbank4_b_air  \\\n",
       "0                                  12.099931   \n",
       "1                                  11.950531   \n",
       "2                                  11.912783   \n",
       "3                                  11.999550   \n",
       "4                                  11.953070   \n",
       "5                                  11.883350   \n",
       "6                                  12.091543   \n",
       "7                                  12.101324   \n",
       "8                                  12.060738   \n",
       "9                                  12.052233   \n",
       "10                                 11.995903   \n",
       "11                                 12.022296   \n",
       "12                                 11.928745   \n",
       "13                                 12.014060   \n",
       "14                                 11.980055   \n",
       "15                                 11.994299   \n",
       "16                                 11.966426   \n",
       "17                                 12.021831   \n",
       "18                                 12.016724   \n",
       "19                                 12.087669   \n",
       "20                                 11.953813   \n",
       "21                                 11.998520   \n",
       "22                                 11.993920   \n",
       "23                                 12.061748   \n",
       "24                                 11.970346   \n",
       "\n",
       "    secondary_cleaner.state.floatbank4_b_level  \\\n",
       "0                                  -504.715942   \n",
       "1                                  -501.331529   \n",
       "2                                  -501.133383   \n",
       "3                                  -501.193686   \n",
       "4                                  -501.053894   \n",
       "5                                  -500.395298   \n",
       "6                                  -500.501426   \n",
       "7                                  -500.583446   \n",
       "8                                  -501.174549   \n",
       "9                                  -500.928547   \n",
       "10                                 -501.269181   \n",
       "11                                 -501.238477   \n",
       "12                                 -500.583183   \n",
       "13                                 -500.647565   \n",
       "14                                 -500.607751   \n",
       "15                                 -500.337803   \n",
       "16                                 -500.656842   \n",
       "17                                 -545.572166   \n",
       "18                                 -501.136446   \n",
       "19                                 -510.782166   \n",
       "20                                 -550.149839   \n",
       "21                                 -550.406603   \n",
       "22                                 -550.493894   \n",
       "23                                 -550.293577   \n",
       "24                                 -550.917279   \n",
       "\n",
       "    secondary_cleaner.state.floatbank5_a_air  \\\n",
       "0                                   9.925633   \n",
       "1                                  10.039245   \n",
       "2                                  10.070913   \n",
       "3                                   9.970366   \n",
       "4                                   9.925709   \n",
       "5                                  10.054147   \n",
       "6                                  10.003247   \n",
       "7                                   9.873169   \n",
       "8                                  10.033838   \n",
       "9                                   9.962574   \n",
       "10                                 10.043100   \n",
       "11                                 10.020094   \n",
       "12                                  9.970359   \n",
       "13                                 10.000087   \n",
       "14                                  9.964501   \n",
       "15                                 10.037149   \n",
       "16                                 10.051620   \n",
       "17                                 10.021058   \n",
       "18                                 10.041864   \n",
       "19                                 10.032043   \n",
       "20                                  9.990842   \n",
       "21                                 10.016843   \n",
       "22                                  9.985232   \n",
       "23                                 10.055894   \n",
       "24                                 10.024791   \n",
       "\n",
       "    secondary_cleaner.state.floatbank5_a_level  \\\n",
       "0                                  -498.310211   \n",
       "1                                  -500.169983   \n",
       "2                                  -500.129135   \n",
       "3                                  -499.201640   \n",
       "4                                  -501.686727   \n",
       "5                                  -496.374715   \n",
       "6                                  -497.083180   \n",
       "7                                  -499.171928   \n",
       "8                                  -501.178133   \n",
       "9                                  -502.986357   \n",
       "10                                 -498.529996   \n",
       "11                                 -500.061845   \n",
       "12                                 -498.822343   \n",
       "13                                 -499.306972   \n",
       "14                                 -499.261719   \n",
       "15                                 -499.395047   \n",
       "16                                 -498.318772   \n",
       "17                                 -501.386982   \n",
       "18                                 -499.338844   \n",
       "19                                 -499.128183   \n",
       "20                                 -498.389342   \n",
       "21                                 -501.493066   \n",
       "22                                 -499.796583   \n",
       "23                                 -500.347054   \n",
       "24                                 -500.350298   \n",
       "\n",
       "    secondary_cleaner.state.floatbank5_b_air  \\\n",
       "0                                   8.079666   \n",
       "1                                   7.984757   \n",
       "2                                   8.013877   \n",
       "3                                   7.977324   \n",
       "4                                   7.894242   \n",
       "5                                   7.965083   \n",
       "6                                   8.010890   \n",
       "7                                   7.993381   \n",
       "8                                   7.881604   \n",
       "9                                   7.979219   \n",
       "10                                  8.002633   \n",
       "11                                  7.964024   \n",
       "12                                  8.016377   \n",
       "13                                  8.002007   \n",
       "14                                  8.065048   \n",
       "15                                  8.056439   \n",
       "16                                  8.018091   \n",
       "17                                  7.947110   \n",
       "18                                  8.007022   \n",
       "19                                  8.016140   \n",
       "20                                  8.054376   \n",
       "21                                  7.962699   \n",
       "22                                  7.985524   \n",
       "23                                  8.022863   \n",
       "24                                  7.997472   \n",
       "\n",
       "    secondary_cleaner.state.floatbank5_b_level  \\\n",
       "0                                  -500.470978   \n",
       "1                                  -500.582168   \n",
       "2                                  -500.517572   \n",
       "3                                  -500.255908   \n",
       "4                                  -500.356035   \n",
       "5                                  -499.364752   \n",
       "6                                  -500.002423   \n",
       "7                                  -499.794518   \n",
       "8                                  -499.729434   \n",
       "9                                  -500.146835   \n",
       "10                                 -499.761922   \n",
       "11                                 -499.283982   \n",
       "12                                 -499.013145   \n",
       "13                                 -499.970754   \n",
       "14                                 -499.492395   \n",
       "15                                 -499.479716   \n",
       "16                                 -499.696138   \n",
       "17                                 -500.062750   \n",
       "18                                 -500.279583   \n",
       "19                                 -499.806844   \n",
       "20                                 -500.157986   \n",
       "21                                 -499.445532   \n",
       "22                                 -499.872153   \n",
       "23                                 -500.435095   \n",
       "24                                 -499.453616   \n",
       "\n",
       "    secondary_cleaner.state.floatbank6_a_air  \\\n",
       "0                                  14.151341   \n",
       "1                                  13.998353   \n",
       "2                                  14.028663   \n",
       "3                                  14.005551   \n",
       "4                                  13.996647   \n",
       "5                                  14.017067   \n",
       "6                                  14.029649   \n",
       "7                                  13.984498   \n",
       "8                                  13.967135   \n",
       "9                                  13.981614   \n",
       "10                                 14.004767   \n",
       "11                                 14.003011   \n",
       "12                                 14.000032   \n",
       "13                                 14.019977   \n",
       "14                                 13.997801   \n",
       "15                                 13.977626   \n",
       "16                                 13.958937   \n",
       "17                                 14.014991   \n",
       "18                                 14.001271   \n",
       "19                                 13.949790   \n",
       "20                                 14.012039   \n",
       "21                                 14.004658   \n",
       "22                                 13.973257   \n",
       "23                                 13.948462   \n",
       "24                                 14.034649   \n",
       "\n",
       "    secondary_cleaner.state.floatbank6_a_level  rougher_new  \n",
       "0                                  -605.841980    87.107763  \n",
       "1                                  -599.787184    86.843261  \n",
       "2                                  -601.427363    86.842308  \n",
       "3                                  -599.996129    87.226430  \n",
       "4                                  -601.496691    86.688794  \n",
       "5                                  -599.707915    88.156912  \n",
       "6                                  -600.905470    88.168065  \n",
       "7                                  -600.411070    87.668336  \n",
       "8                                  -599.061188    87.035862  \n",
       "9                                  -598.070855    87.650868  \n",
       "10                                 -599.595324    88.280699  \n",
       "11                                 -599.879856    88.499117  \n",
       "12                                 -600.024741    89.299981  \n",
       "13                                 -599.986714    89.519701  \n",
       "14                                 -600.621416    87.235441  \n",
       "15                                 -600.075029    85.136294  \n",
       "16                                 -599.213013    85.443505  \n",
       "17                                 -600.670573    86.489827  \n",
       "18                                 -602.072365    85.462226  \n",
       "19                                 -600.140776    86.241795  \n",
       "20                                 -599.151759    86.582578  \n",
       "21                                 -600.347249    86.824119  \n",
       "22                                 -600.054998    88.132239  \n",
       "23                                 -599.696711    85.910498  \n",
       "24                                 -600.172333    86.262377  \n",
       "\n",
       "[25 rows x 88 columns]"
      ]
     },
     "execution_count": 11,
     "metadata": {},
     "output_type": "execute_result"
    }
   ],
   "source": [
    "train.head(25)"
   ]
  },
  {
   "cell_type": "code",
   "execution_count": 12,
   "metadata": {},
   "outputs": [],
   "source": [
    "train = train.fillna(method='ffill')\n",
    "test = test.fillna(method='ffill')\n",
    "full = full.fillna(method='ffill')"
   ]
  },
  {
   "cell_type": "code",
   "execution_count": 13,
   "metadata": {},
   "outputs": [
    {
     "name": "stdout",
     "output_type": "stream",
     "text": [
      "Пропусков в таблице train: 0\n",
      "Пропусков в таблице test: 0\n",
      "Пропусков в таблице full: 0\n"
     ]
    }
   ],
   "source": [
    "print('Пропусков в таблице train:', train.isna().sum().sum())\n",
    "print('Пропусков в таблице test:', test.isna().sum().sum())\n",
    "print('Пропусков в таблице full:', full.isna().sum().sum())"
   ]
  },
  {
   "cell_type": "code",
   "execution_count": 14,
   "metadata": {},
   "outputs": [
    {
     "name": "stdout",
     "output_type": "stream",
     "text": [
      "Пропусков в таблице train: 0\n",
      "Пропусков в таблице test: 0\n",
      "Пропусков в таблице full: 0\n"
     ]
    }
   ],
   "source": [
    "print('Пропусков в таблице train:', train.duplicated().sum())\n",
    "print('Пропусков в таблице test:', test.duplicated().sum())\n",
    "print('Пропусков в таблице full:', full.duplicated().sum())"
   ]
  },
  {
   "cell_type": "markdown",
   "metadata": {},
   "source": [
    "Дубликатов не обнаружено. Данные уже закодированы, пропуски заполнены. Данные готовы к работе."
   ]
  },
  {
   "cell_type": "markdown",
   "metadata": {},
   "source": [
    "## Анализ данных"
   ]
  },
  {
   "cell_type": "markdown",
   "metadata": {},
   "source": [
    "### Изменение концентрации металлов в сырье после очисток"
   ]
  },
  {
   "cell_type": "code",
   "execution_count": 15,
   "metadata": {},
   "outputs": [],
   "source": [
    "concentrate_ag = full[['rougher.output.concentrate_ag', \n",
    "                       'primary_cleaner.output.concentrate_ag',\n",
    "                       'final.output.concentrate_ag']]\n",
    "concentrate_pb = full[['rougher.output.concentrate_pb', \n",
    "                       'primary_cleaner.output.concentrate_pb',\n",
    "                       'final.output.concentrate_pb']]\n",
    "concentrate_au = full[['rougher.output.concentrate_au',\n",
    "                       'primary_cleaner.output.concentrate_au',\n",
    "                       'final.output.concentrate_au',]]"
   ]
  },
  {
   "cell_type": "code",
   "execution_count": 16,
   "metadata": {},
   "outputs": [
    {
     "data": {
      "image/png": "[encoded data removed]",
      "text/plain": [
       "<Figure size 720x432 with 1 Axes>"
      ]
     },
     "metadata": {
      "needs_background": "light"
     },
     "output_type": "display_data"
    }
   ],
   "source": [
    "plt.figure(figsize=(10, 6))\n",
    "h1 = concentrate_ag['rougher.output.concentrate_ag'].hist(bins=20, alpha=0.5)\n",
    "h2 = concentrate_ag['primary_cleaner.output.concentrate_ag'].hist(bins=20, alpha=0.5)\n",
    "h3 = concentrate_ag['final.output.concentrate_ag'].hist(bins=20, alpha=0.5)\n",
    "plt.title('Гистограмма концентрации металла Ag (серебро)'+ \"\\n\")\n",
    "plt.xlabel('Концентрация')\n",
    "plt.ylabel('Количество')\n",
    "plt.legend(['флотация', 'первичная очистка', 'финальный концентрат'])\n",
    "plt.show()\n"
   ]
  },
  {
   "cell_type": "markdown",
   "metadata": {},
   "source": [
    "Для металла Ag (серебро) мы видим, что по мере очисток его концентрация уменьшается. И достигает в большинстве случаев равно 5"
   ]
  },
  {
   "cell_type": "code",
   "execution_count": 17,
   "metadata": {},
   "outputs": [
    {
     "data": {
      "image/png": "[encoded data removed]",
      "text/plain": [
       "<Figure size 720x432 with 1 Axes>"
      ]
     },
     "metadata": {
      "needs_background": "light"
     },
     "output_type": "display_data"
    }
   ],
   "source": [
    "plt.figure(figsize=(10, 6))\n",
    "h1 = concentrate_pb['rougher.output.concentrate_pb'].hist(bins=20, alpha=0.5)\n",
    "h2 = concentrate_pb['primary_cleaner.output.concentrate_pb'].hist(bins=20, alpha=0.5)\n",
    "h3 = concentrate_pb['final.output.concentrate_pb'].hist(bins=20, alpha=0.5)\n",
    "plt.title('Гистограмма концентрации металла Pb (свинец)'+ \"\\n\")\n",
    "plt.xlabel('Концентрация')\n",
    "plt.ylabel('Количество')\n",
    "plt.legend(['флотация', 'первичная очистка', 'финальный концентрат'])\n",
    "plt.show()"
   ]
  },
  {
   "cell_type": "markdown",
   "metadata": {},
   "source": [
    "Количества свинца наоборот, растет, что странно. В основном, держится на отметке 11"
   ]
  },
  {
   "cell_type": "code",
   "execution_count": 18,
   "metadata": {},
   "outputs": [
    {
     "data": {
      "image/png": "[encoded data removed]",
      "text/plain": [
       "<Figure size 720x432 with 1 Axes>"
      ]
     },
     "metadata": {
      "needs_background": "light"
     },
     "output_type": "display_data"
    }
   ],
   "source": [
    "plt.figure(figsize=(10, 6))\n",
    "h1 = concentrate_au['rougher.output.concentrate_au'].hist(bins=20, alpha=0.5)\n",
    "h2 = concentrate_au['primary_cleaner.output.concentrate_au'].hist(bins=20, alpha=0.5)\n",
    "h3 = concentrate_au['final.output.concentrate_au'].hist(bins=20, alpha=0.5)\n",
    "plt.title('Гистограмма концентрации металла Au (золото)'+ \"\\n\")\n",
    "plt.xlabel('Концентрация')\n",
    "plt.ylabel('Количество')\n",
    "plt.legend(['флотация', 'первичная очистка', 'финальный концентрат'])\n",
    "plt.show()"
   ]
  },
  {
   "cell_type": "markdown",
   "metadata": {},
   "source": [
    "Концентрация золота, как и ожидалось, после всех очисток выросла. И выросла почти в 2 раза. Финальный концентрат в большинстве случаев равен 45 "
   ]
  },
  {
   "cell_type": "markdown",
   "metadata": {},
   "source": [
    "### Cравнение показателей в выборках"
   ]
  },
  {
   "cell_type": "markdown",
   "metadata": {},
   "source": [
    "Сравним размеры распределения гранул сырья в обучающей и тестовой выборках"
   ]
  },
  {
   "cell_type": "code",
   "execution_count": 19,
   "metadata": {},
   "outputs": [
    {
     "data": {
      "image/png": "[encoded data removed]",
      "text/plain": [
       "<Figure size 720x432 with 1 Axes>"
      ]
     },
     "metadata": {
      "needs_background": "light"
     },
     "output_type": "display_data"
    }
   ],
   "source": [
    "plt.figure(figsize=(10, 6))\n",
    "h1 = train['primary_cleaner.input.feed_size'].hist(bins=20, alpha=0.5, range=(5, 10))\n",
    "h2 = test['primary_cleaner.input.feed_size'].hist(bins=20, alpha=0.5, range=(5, 10))\n",
    "plt.title('Гистограмма распределения размеров гранул сырья')\n",
    "plt.xlabel('Концентрация')\n",
    "plt.ylabel('Количество')\n",
    "plt.legend(['train', 'test'])\n",
    "plt.show()"
   ]
  },
  {
   "cell_type": "markdown",
   "metadata": {},
   "source": [
    "В обеих выборках нормальное распределение. Значит это не повредит предсказаниям модели"
   ]
  },
  {
   "cell_type": "markdown",
   "metadata": {},
   "source": [
    "### Концентрация веществ на разных стадиях"
   ]
  },
  {
   "cell_type": "code",
   "execution_count": 20,
   "metadata": {},
   "outputs": [
    {
     "data": {
      "text/plain": [
       "<Figure size 720x432 with 0 Axes>"
      ]
     },
     "metadata": {},
     "output_type": "display_data"
    },
    {
     "data": {
      "image/png": "[encoded data removed]",
      "text/plain": [
       "<Figure size 720x432 with 1 Axes>"
      ]
     },
     "metadata": {
      "needs_background": "light"
     },
     "output_type": "display_data"
    }
   ],
   "source": [
    "rougher = full.loc[:,['rougher.output.concentrate_ag',\n",
    "             'rougher.output.concentrate_pb',\n",
    "             'rougher.output.concentrate_sol',\n",
    "             'rougher.output.concentrate_au']]\n",
    "rougher.loc['Total'] = rougher.sum(numeric_only=True)\n",
    "plt.figure(figsize=(10, 6))\n",
    "h1 = rougher[-1:].plot(kind='bar', figsize=(10, 6))\n",
    "plt.title('Суммарная концентрация металлов в сырье')\n",
    "plt.xlabel('Металл')\n",
    "plt.ylabel('Концентрация')\n",
    "plt.legend(['Ag(Серебро)', 'Pb(свинец)', 'Sol(Силумин)', 'Au(золото)'])\n",
    "plt.show()"
   ]
  },
  {
   "cell_type": "code",
   "execution_count": 21,
   "metadata": {},
   "outputs": [
    {
     "data": {
      "image/png": "[encoded data removed]",
      "text/plain": [
       "<Figure size 720x432 with 1 Axes>"
      ]
     },
     "metadata": {
      "needs_background": "light"
     },
     "output_type": "display_data"
    }
   ],
   "source": [
    "primary_cleaner = full.loc[:,[\n",
    "             'primary_cleaner.output.concentrate_ag',\n",
    "             'primary_cleaner.output.concentrate_pb',\n",
    "             'primary_cleaner.output.concentrate_sol',\n",
    "             'primary_cleaner.output.concentrate_au',]]\n",
    "primary_cleaner.loc['Total'] = primary_cleaner.sum(numeric_only=True)\n",
    "#plt.figure(figsize=(10, 6))\n",
    "h1 = primary_cleaner[-1:].plot(kind='bar', figsize=(10, 6))\n",
    "plt.title('Суммарная концентрация металлов в черновом концентрате')\n",
    "plt.xlabel('Металл')\n",
    "plt.ylabel('Концентрация')\n",
    "plt.legend(['Ag(Серебро)', 'Pb(свинец)', 'Sol(Силумин)', 'Au(золото)'])\n",
    "plt.show()"
   ]
  },
  {
   "cell_type": "code",
   "execution_count": 22,
   "metadata": {},
   "outputs": [
    {
     "data": {
      "text/plain": [
       "<Figure size 720x432 with 0 Axes>"
      ]
     },
     "metadata": {},
     "output_type": "display_data"
    },
    {
     "data": {
      "image/png": "[encoded data removed]",
      "text/plain": [
       "<Figure size 720x432 with 1 Axes>"
      ]
     },
     "metadata": {
      "needs_background": "light"
     },
     "output_type": "display_data"
    }
   ],
   "source": [
    "final = full.loc[:,[\n",
    "             'final.output.concentrate_ag',\n",
    "             'final.output.concentrate_pb',\n",
    "             'final.output.concentrate_sol',\n",
    "             'final.output.concentrate_au',]]\n",
    "final.loc['Total'] = final.sum(numeric_only=True)\n",
    "plt.figure(figsize=(10, 6))\n",
    "h1 = final[-1:].plot(kind='bar', figsize=(10, 6))\n",
    "plt.title('Суммарная концентрация металлов в финальном концентрате')\n",
    "plt.xlabel('Металл')\n",
    "plt.ylabel('Концентрация')\n",
    "plt.legend(['Ag(Серебро)', 'Pb(свинец)', 'Sol(Силумин)', 'Au(золото)'])\n",
    "plt.show()"
   ]
  },
  {
   "cell_type": "markdown",
   "metadata": {},
   "source": [
    "Пока что в глаза ничего не бросается. Количество стронних металлов по мере очисток уменьшается, а золото прибавляется."
   ]
  },
  {
   "cell_type": "code",
   "execution_count": 23,
   "metadata": {},
   "outputs": [
    {
     "data": {
      "text/plain": [
       "array([[<AxesSubplot:title={'center':'rougher.output.concentrate_ag'}>,\n",
       "        <AxesSubplot:title={'center':'rougher.output.concentrate_pb'}>],\n",
       "       [<AxesSubplot:title={'center':'rougher.output.concentrate_sol'}>,\n",
       "        <AxesSubplot:title={'center':'rougher.output.concentrate_au'}>]],\n",
       "      dtype=object)"
      ]
     },
     "execution_count": 23,
     "metadata": {},
     "output_type": "execute_result"
    },
    {
     "data": {
      "image/png": "[encoded data removed]",
      "text/plain": [
       "<Figure size 432x288 with 4 Axes>"
      ]
     },
     "metadata": {
      "needs_background": "light"
     },
     "output_type": "display_data"
    }
   ],
   "source": [
    "rougher = rougher.drop('Total')\n",
    "rougher.hist()"
   ]
  },
  {
   "cell_type": "code",
   "execution_count": 24,
   "metadata": {},
   "outputs": [
    {
     "data": {
      "text/plain": [
       "array([[<AxesSubplot:title={'center':'final.output.concentrate_ag'}>,\n",
       "        <AxesSubplot:title={'center':'final.output.concentrate_pb'}>],\n",
       "       [<AxesSubplot:title={'center':'final.output.concentrate_sol'}>,\n",
       "        <AxesSubplot:title={'center':'final.output.concentrate_au'}>]],\n",
       "      dtype=object)"
      ]
     },
     "execution_count": 24,
     "metadata": {},
     "output_type": "execute_result"
    },
    {
     "data": {
      "image/png": "[encoded data removed]",
      "text/plain": [
       "<Figure size 432x288 with 4 Axes>"
      ]
     },
     "metadata": {
      "needs_background": "light"
     },
     "output_type": "display_data"
    }
   ],
   "source": [
    "final = final.drop('Total')\n",
    "final.hist()"
   ]
  },
  {
   "cell_type": "code",
   "execution_count": 25,
   "metadata": {},
   "outputs": [
    {
     "data": {
      "text/plain": [
       "array([[<AxesSubplot:title={'center':'primary_cleaner.output.concentrate_ag'}>,\n",
       "        <AxesSubplot:title={'center':'primary_cleaner.output.concentrate_pb'}>],\n",
       "       [<AxesSubplot:title={'center':'primary_cleaner.output.concentrate_sol'}>,\n",
       "        <AxesSubplot:title={'center':'primary_cleaner.output.concentrate_au'}>]],\n",
       "      dtype=object)"
      ]
     },
     "execution_count": 25,
     "metadata": {},
     "output_type": "execute_result"
    },
    {
     "data": {
      "image/png": "[encoded data removed]",
      "text/plain": [
       "<Figure size 432x288 with 4 Axes>"
      ]
     },
     "metadata": {
      "needs_background": "light"
     },
     "output_type": "display_data"
    }
   ],
   "source": [
    "primary_cleaner.hist()"
   ]
  },
  {
   "cell_type": "code",
   "execution_count": 26,
   "metadata": {},
   "outputs": [
    {
     "data": {
      "text/html": [
       "<div>\n",
       "<style scoped>\n",
       "    .dataframe tbody tr th:only-of-type {\n",
       "        vertical-align: middle;\n",
       "    }\n",
       "\n",
       "    .dataframe tbody tr th {\n",
       "        vertical-align: top;\n",
       "    }\n",
       "\n",
       "    .dataframe thead th {\n",
       "        text-align: right;\n",
       "    }\n",
       "</style>\n",
       "<table border=\"1\" class=\"dataframe\">\n",
       "  <thead>\n",
       "    <tr style=\"text-align: right;\">\n",
       "      <th></th>\n",
       "      <th>rougher.output.concentrate_ag</th>\n",
       "      <th>rougher.output.concentrate_pb</th>\n",
       "      <th>rougher.output.concentrate_sol</th>\n",
       "      <th>rougher.output.concentrate_au</th>\n",
       "    </tr>\n",
       "  </thead>\n",
       "  <tbody>\n",
       "    <tr>\n",
       "      <th>7528</th>\n",
       "      <td>0.000000</td>\n",
       "      <td>0.00000</td>\n",
       "      <td>0.000000</td>\n",
       "      <td>0.000000</td>\n",
       "    </tr>\n",
       "    <tr>\n",
       "      <th>15534</th>\n",
       "      <td>0.000000</td>\n",
       "      <td>0.00000</td>\n",
       "      <td>0.000000</td>\n",
       "      <td>0.000000</td>\n",
       "    </tr>\n",
       "    <tr>\n",
       "      <th>15535</th>\n",
       "      <td>0.000000</td>\n",
       "      <td>0.00000</td>\n",
       "      <td>0.000000</td>\n",
       "      <td>0.000000</td>\n",
       "    </tr>\n",
       "    <tr>\n",
       "      <th>15536</th>\n",
       "      <td>0.000000</td>\n",
       "      <td>0.00000</td>\n",
       "      <td>0.000000</td>\n",
       "      <td>0.000000</td>\n",
       "    </tr>\n",
       "    <tr>\n",
       "      <th>15537</th>\n",
       "      <td>0.000000</td>\n",
       "      <td>0.00000</td>\n",
       "      <td>0.000000</td>\n",
       "      <td>0.000000</td>\n",
       "    </tr>\n",
       "    <tr>\n",
       "      <th>...</th>\n",
       "      <td>...</td>\n",
       "      <td>...</td>\n",
       "      <td>...</td>\n",
       "      <td>...</td>\n",
       "    </tr>\n",
       "    <tr>\n",
       "      <th>16229</th>\n",
       "      <td>0.010000</td>\n",
       "      <td>0.01000</td>\n",
       "      <td>0.010000</td>\n",
       "      <td>0.010000</td>\n",
       "    </tr>\n",
       "    <tr>\n",
       "      <th>16228</th>\n",
       "      <td>0.010000</td>\n",
       "      <td>0.01000</td>\n",
       "      <td>0.010000</td>\n",
       "      <td>0.010000</td>\n",
       "    </tr>\n",
       "    <tr>\n",
       "      <th>16227</th>\n",
       "      <td>0.010000</td>\n",
       "      <td>0.01000</td>\n",
       "      <td>0.010000</td>\n",
       "      <td>0.010000</td>\n",
       "    </tr>\n",
       "    <tr>\n",
       "      <th>16226</th>\n",
       "      <td>0.010000</td>\n",
       "      <td>0.01000</td>\n",
       "      <td>0.010000</td>\n",
       "      <td>0.010000</td>\n",
       "    </tr>\n",
       "    <tr>\n",
       "      <th>1929</th>\n",
       "      <td>0.351874</td>\n",
       "      <td>0.21436</td>\n",
       "      <td>0.879593</td>\n",
       "      <td>0.570819</td>\n",
       "    </tr>\n",
       "  </tbody>\n",
       "</table>\n",
       "<p>400 rows × 4 columns</p>\n",
       "</div>"
      ],
      "text/plain": [
       "       rougher.output.concentrate_ag  rougher.output.concentrate_pb  \\\n",
       "7528                        0.000000                        0.00000   \n",
       "15534                       0.000000                        0.00000   \n",
       "15535                       0.000000                        0.00000   \n",
       "15536                       0.000000                        0.00000   \n",
       "15537                       0.000000                        0.00000   \n",
       "...                              ...                            ...   \n",
       "16229                       0.010000                        0.01000   \n",
       "16228                       0.010000                        0.01000   \n",
       "16227                       0.010000                        0.01000   \n",
       "16226                       0.010000                        0.01000   \n",
       "1929                        0.351874                        0.21436   \n",
       "\n",
       "       rougher.output.concentrate_sol  rougher.output.concentrate_au  \n",
       "7528                         0.000000                       0.000000  \n",
       "15534                        0.000000                       0.000000  \n",
       "15535                        0.000000                       0.000000  \n",
       "15536                        0.000000                       0.000000  \n",
       "15537                        0.000000                       0.000000  \n",
       "...                               ...                            ...  \n",
       "16229                        0.010000                       0.010000  \n",
       "16228                        0.010000                       0.010000  \n",
       "16227                        0.010000                       0.010000  \n",
       "16226                        0.010000                       0.010000  \n",
       "1929                         0.879593                       0.570819  \n",
       "\n",
       "[400 rows x 4 columns]"
      ]
     },
     "execution_count": 26,
     "metadata": {},
     "output_type": "execute_result"
    }
   ],
   "source": [
    "rougher.sort_values(by='rougher.output.concentrate_au').head(400)"
   ]
  },
  {
   "cell_type": "code",
   "execution_count": 27,
   "metadata": {},
   "outputs": [
    {
     "data": {
      "text/plain": [
       "0.000000     394\n",
       "13.791368     11\n",
       "20.341888      6\n",
       "18.652372      6\n",
       "0.010000       5\n",
       "            ... \n",
       "19.622257      1\n",
       "18.384403      1\n",
       "20.725496      1\n",
       "23.975396      1\n",
       "20.557015      1\n",
       "Name: rougher.output.concentrate_au, Length: 19015, dtype: int64"
      ]
     },
     "execution_count": 27,
     "metadata": {},
     "output_type": "execute_result"
    }
   ],
   "source": [
    "rougher['rougher.output.concentrate_au'].value_counts()"
   ]
  },
  {
   "cell_type": "markdown",
   "metadata": {},
   "source": [
    "По гистограммам видно, что в таблицах много строк, которые заполнены просто нулями. Удалим такие строки"
   ]
  },
  {
   "cell_type": "code",
   "execution_count": 28,
   "metadata": {},
   "outputs": [],
   "source": [
    "train = train[train['rougher.output.concentrate_au']>0]\n",
    "full = full[full['rougher.output.concentrate_au']>0]"
   ]
  },
  {
   "cell_type": "markdown",
   "metadata": {},
   "source": [
    "## Модель"
   ]
  },
  {
   "cell_type": "markdown",
   "metadata": {},
   "source": [
    "Фунция, для вычисления sMAPE"
   ]
  },
  {
   "cell_type": "code",
   "execution_count": 29,
   "metadata": {},
   "outputs": [],
   "source": [
    "def smape(target, prediction):\n",
    "    return 1/len(target) * np.sum(2 * np.abs(prediction-target) / (np.abs(target) + np.abs(prediction))*100)"
   ]
  },
  {
   "cell_type": "markdown",
   "metadata": {},
   "source": [
    "Фунция, для вычисления итоговой sMAPE"
   ]
  },
  {
   "cell_type": "code",
   "execution_count": 30,
   "metadata": {},
   "outputs": [],
   "source": [
    "def total_smape(rougher, final):\n",
    "    return 0.25*rougher+0.75*final"
   ]
  },
  {
   "cell_type": "markdown",
   "metadata": {},
   "source": [
    "Так как выборки test и train разные по размеру, удали из тренировочной выборки столбцы, которых нет в тестовой."
   ]
  },
  {
   "cell_type": "code",
   "execution_count": 31,
   "metadata": {},
   "outputs": [],
   "source": [
    "test_r = test.join(full[['rougher.output.recovery']])\n",
    "train_r = train"
   ]
  },
  {
   "cell_type": "code",
   "execution_count": 32,
   "metadata": {},
   "outputs": [],
   "source": [
    "train_columns = train_r.columns\n",
    "test_columns = test_r.columns\n",
    "for i in train_columns:\n",
    "    if i not in test_columns:\n",
    "        train_r = train_r.drop([i], axis=1)"
   ]
  },
  {
   "cell_type": "code",
   "execution_count": 33,
   "metadata": {},
   "outputs": [],
   "source": [
    "train_r = train_r.drop(['date'], axis=1)\n",
    "test_r = test_r.drop(['date'], axis=1)"
   ]
  },
  {
   "cell_type": "markdown",
   "metadata": {},
   "source": [
    "Так как нам нужно предсказать два параметра, мы будем использовать две модели"
   ]
  },
  {
   "cell_type": "markdown",
   "metadata": {},
   "source": [
    "### Модель для предсказания параметра *rougher.output.recovery*"
   ]
  },
  {
   "cell_type": "markdown",
   "metadata": {},
   "source": [
    "Выделим признаки"
   ]
  },
  {
   "cell_type": "code",
   "execution_count": 34,
   "metadata": {},
   "outputs": [],
   "source": [
    "features_train_r = train_r.drop(['rougher.output.recovery'], axis=1)\n",
    "target_train_r = train_r['rougher.output.recovery']\n",
    "\n",
    "features_test_r = test_r.drop(['rougher.output.recovery'], axis=1)\n",
    "target_test_r  = test_r['rougher.output.recovery']"
   ]
  },
  {
   "cell_type": "markdown",
   "metadata": {},
   "source": [
    "#### Линейная регрессия"
   ]
  },
  {
   "cell_type": "markdown",
   "metadata": {},
   "source": [
    "Сделаем нашу метрику оценки для кросс-валидации"
   ]
  },
  {
   "cell_type": "code",
   "execution_count": 35,
   "metadata": {},
   "outputs": [],
   "source": [
    "my_scorer = make_scorer(smape, greater_is_better = False)"
   ]
  },
  {
   "cell_type": "code",
   "execution_count": 36,
   "metadata": {
    "scrolled": false
   },
   "outputs": [
    {
     "name": "stdout",
     "output_type": "stream",
     "text": [
      "[-9.64676481 -7.28709163 -5.65090069 -4.87064613 -9.1143934 ]\n",
      "-7.313959332552945\n"
     ]
    }
   ],
   "source": [
    "model_l_r = LinearRegression()\n",
    "scores = cross_val_score(model_l_r, features_train_r, target_train_r, scoring=my_scorer)\n",
    "print(scores)\n",
    "print(scores.mean())"
   ]
  },
  {
   "cell_type": "code",
   "execution_count": 37,
   "metadata": {},
   "outputs": [
    {
     "data": {
      "text/plain": [
       "9.629371134037568"
      ]
     },
     "execution_count": 37,
     "metadata": {},
     "output_type": "execute_result"
    }
   ],
   "source": [
    "model_l_r.fit(features_train_r, target_train_r)\n",
    "prediction_l_r = model_l_r.predict(features_test_r)\n",
    "smape(target_test_r, prediction_l_r)"
   ]
  },
  {
   "cell_type": "markdown",
   "metadata": {},
   "source": [
    "После проведения кросс валидации результат  не плохой. Но после обучения модели, и тестирования на тестовых данных, ошибка сильно выросла. Модель не подходит"
   ]
  },
  {
   "cell_type": "markdown",
   "metadata": {},
   "source": [
    "#### Дерево решений"
   ]
  },
  {
   "cell_type": "code",
   "execution_count": 38,
   "metadata": {},
   "outputs": [],
   "source": [
    "grid = { \n",
    "    'max_features': ['sqrt', 'log2'],\n",
    "    'max_depth' : [4,5,6,7,8], \n",
    "    'random_state' : [100],\n",
    "}\n"
   ]
  },
  {
   "cell_type": "code",
   "execution_count": 39,
   "metadata": {},
   "outputs": [
    {
     "data": {
      "text/plain": [
       "GridSearchCV(cv=5, estimator=DecisionTreeRegressor(),\n",
       "             param_grid={'max_depth': [4, 5, 6, 7, 8],\n",
       "                         'max_features': ['sqrt', 'log2'],\n",
       "                         'random_state': [100]},\n",
       "             scoring=make_scorer(smape, greater_is_better=False))"
      ]
     },
     "execution_count": 39,
     "metadata": {},
     "output_type": "execute_result"
    }
   ],
   "source": [
    "rf_cv = GridSearchCV(estimator=DecisionTreeRegressor(), param_grid=grid, cv= 5, scoring=my_scorer)\n",
    "rf_cv.fit(features_train_r, target_train_r)"
   ]
  },
  {
   "cell_type": "code",
   "execution_count": 40,
   "metadata": {},
   "outputs": [
    {
     "data": {
      "text/plain": [
       "{'max_depth': 5, 'max_features': 'log2', 'random_state': 100}"
      ]
     },
     "execution_count": 40,
     "metadata": {},
     "output_type": "execute_result"
    }
   ],
   "source": [
    "rf_cv.best_params_"
   ]
  },
  {
   "cell_type": "markdown",
   "metadata": {},
   "source": [
    "Провели кросс-валидацию и выявили лучшие гиперпараметры для модели. Проверим, как на них будет работать модель"
   ]
  },
  {
   "cell_type": "code",
   "execution_count": 41,
   "metadata": {},
   "outputs": [
    {
     "name": "stdout",
     "output_type": "stream",
     "text": [
      "[-8.08844037 -6.81932286 -5.56829869 -5.43013931 -6.68094747]\n",
      "-6.5174297376040995\n"
     ]
    }
   ],
   "source": [
    "model_t_r = DecisionTreeRegressor(max_depth= 5, max_features='log2', random_state= 100)\n",
    "scores = cross_val_score(model_t_r, features_train_r, target_train_r, scoring=my_scorer)\n",
    "print(scores)\n",
    "print(scores.mean())"
   ]
  },
  {
   "cell_type": "code",
   "execution_count": 42,
   "metadata": {},
   "outputs": [
    {
     "data": {
      "text/plain": [
       "8.847269668027806"
      ]
     },
     "execution_count": 42,
     "metadata": {},
     "output_type": "execute_result"
    }
   ],
   "source": [
    "model_t_r = DecisionTreeRegressor(max_depth= 5, max_features='log2', random_state= 100)\n",
    "model_t_r.fit(features_train_r, target_train_r)\n",
    "prediction_t_r = model_t_r.predict(features_test_r)\n",
    "smape(target_test_r, prediction_t_r)"
   ]
  },
  {
   "cell_type": "markdown",
   "metadata": {},
   "source": [
    "#### Случайны лес"
   ]
  },
  {
   "cell_type": "code",
   "execution_count": 43,
   "metadata": {},
   "outputs": [],
   "source": [
    "grid = { \n",
    "    'n_estimators': [10,20,30],\n",
    "    'max_features': ['sqrt', 'log2'],\n",
    "    'max_depth' : [4,5,6,7,8],\n",
    "    'random_state' : [100]\n",
    "}"
   ]
  },
  {
   "cell_type": "code",
   "execution_count": 44,
   "metadata": {},
   "outputs": [
    {
     "data": {
      "text/plain": [
       "GridSearchCV(cv=5, estimator=RandomForestRegressor(),\n",
       "             param_grid={'max_depth': [4, 5, 6, 7, 8],\n",
       "                         'max_features': ['sqrt', 'log2'],\n",
       "                         'n_estimators': [10, 20, 30], 'random_state': [100]},\n",
       "             scoring=make_scorer(smape, greater_is_better=False))"
      ]
     },
     "execution_count": 44,
     "metadata": {},
     "output_type": "execute_result"
    }
   ],
   "source": [
    "rf_cv = GridSearchCV(estimator=RandomForestRegressor(), param_grid=grid, cv= 5, scoring=my_scorer)\n",
    "rf_cv.fit(features_train_r, target_train_r)"
   ]
  },
  {
   "cell_type": "code",
   "execution_count": 45,
   "metadata": {},
   "outputs": [
    {
     "data": {
      "text/plain": [
       "{'max_depth': 5,\n",
       " 'max_features': 'log2',\n",
       " 'n_estimators': 30,\n",
       " 'random_state': 100}"
      ]
     },
     "execution_count": 45,
     "metadata": {},
     "output_type": "execute_result"
    }
   ],
   "source": [
    "rf_cv.best_params_"
   ]
  },
  {
   "cell_type": "markdown",
   "metadata": {},
   "source": [
    "Провели кросс-валидацию и выявили лучшие гиперпараметры для модели. Проверим, как на них будет работать модель"
   ]
  },
  {
   "cell_type": "code",
   "execution_count": 46,
   "metadata": {
    "scrolled": true
   },
   "outputs": [
    {
     "name": "stdout",
     "output_type": "stream",
     "text": [
      "[-8.64000131 -6.31578865 -4.68433156 -4.79619974 -5.87184357]\n",
      "-6.061632969513644\n"
     ]
    }
   ],
   "source": [
    "model_f_r = RandomForestRegressor(max_depth= 5, n_estimators=30 ,max_features='log2', random_state=100)\n",
    "scores = cross_val_score(model_f_r , features_train_r, target_train_r, scoring=my_scorer)\n",
    "print(scores)\n",
    "print(scores.mean())"
   ]
  },
  {
   "cell_type": "code",
   "execution_count": 47,
   "metadata": {},
   "outputs": [
    {
     "data": {
      "text/plain": [
       "8.608430642543478"
      ]
     },
     "execution_count": 47,
     "metadata": {},
     "output_type": "execute_result"
    }
   ],
   "source": [
    "model_f_r  = RandomForestRegressor(max_depth= 4, max_features='log2', n_estimators=10, random_state=100)\n",
    "model_f_r.fit(features_train_r, target_train_r)\n",
    "prediction_f_r = model_f_r.predict(features_test_r)\n",
    "smape_f_r = smape(target_test_r, prediction_f_r)\n",
    "smape_f_r"
   ]
  },
  {
   "cell_type": "markdown",
   "metadata": {},
   "source": [
    "Ошибка уже более менее приемлема. Лучшая модель - модель случайного леса (model_f_r)"
   ]
  },
  {
   "cell_type": "markdown",
   "metadata": {},
   "source": [
    "### Модель для предсказания параметра *final.output.recovery*"
   ]
  },
  {
   "cell_type": "code",
   "execution_count": 48,
   "metadata": {},
   "outputs": [],
   "source": [
    "test_f = test.join(full[['final.output.recovery']])\n",
    "train_f = train\n",
    "train_columns = train_f.columns\n",
    "test_columns = test_f.columns\n",
    "for i in train_columns:\n",
    "    if i not in test_columns:\n",
    "        train_f = train_f.drop([i], axis=1)\n",
    "train_f = train_f.drop(['date'], axis=1)\n",
    "test_f = test_f.drop(['date'], axis=1)"
   ]
  },
  {
   "cell_type": "code",
   "execution_count": 49,
   "metadata": {},
   "outputs": [],
   "source": [
    "features_train_f = train_f.drop(['final.output.recovery'], axis=1)\n",
    "target_train_f = train_f['final.output.recovery']\n",
    "\n",
    "features_test_f = test_f.drop(['final.output.recovery'], axis=1)\n",
    "target_test_f  = test_f['final.output.recovery']"
   ]
  },
  {
   "cell_type": "markdown",
   "metadata": {},
   "source": [
    "#### Линейная регрессия"
   ]
  },
  {
   "cell_type": "code",
   "execution_count": 50,
   "metadata": {},
   "outputs": [
    {
     "name": "stdout",
     "output_type": "stream",
     "text": [
      "[-14.12527145 -11.11647622 -10.95246716 -10.38521088 -14.66690146]\n",
      "-12.249265437136126\n"
     ]
    }
   ],
   "source": [
    "model_l_f = LinearRegression()\n",
    "scores = cross_val_score(model_l_f, features_train_f, target_train_f, scoring=my_scorer)\n",
    "print(scores)\n",
    "print(scores.mean())"
   ]
  },
  {
   "cell_type": "code",
   "execution_count": 51,
   "metadata": {},
   "outputs": [
    {
     "data": {
      "text/plain": [
       "28.287398431762558"
      ]
     },
     "execution_count": 51,
     "metadata": {},
     "output_type": "execute_result"
    }
   ],
   "source": [
    "model_l_f.fit(features_train_f, target_train_f)\n",
    "prediction_l_f = model_l_r.predict(features_test_f)\n",
    "smape(target_test_f, prediction_l_f)"
   ]
  },
  {
   "cell_type": "markdown",
   "metadata": {},
   "source": [
    "Ошибка большая, не подходит"
   ]
  },
  {
   "cell_type": "markdown",
   "metadata": {},
   "source": [
    "#### Дерево решений"
   ]
  },
  {
   "cell_type": "code",
   "execution_count": 52,
   "metadata": {},
   "outputs": [
    {
     "data": {
      "text/plain": [
       "{'max_depth': 3, 'max_features': 'log2', 'random_state': 100}"
      ]
     },
     "execution_count": 52,
     "metadata": {},
     "output_type": "execute_result"
    }
   ],
   "source": [
    "grid = { \n",
    "    'max_features': ['sqrt', 'log2'],\n",
    "    'max_depth' : range(1,11), \n",
    "    'random_state' : [100],\n",
    "}\n",
    "rf_cv = GridSearchCV(estimator=DecisionTreeRegressor(), param_grid=grid, cv= 5, scoring=my_scorer)\n",
    "rf_cv.fit(features_train_f, target_train_f)\n",
    "rf_cv.best_params_"
   ]
  },
  {
   "cell_type": "code",
   "execution_count": 53,
   "metadata": {},
   "outputs": [
    {
     "name": "stdout",
     "output_type": "stream",
     "text": [
      "[ -9.99811655  -9.49656807 -10.78858271 -10.79965569 -11.0564621 ]\n",
      "-10.427877022011211\n"
     ]
    }
   ],
   "source": [
    "model_t_f = DecisionTreeRegressor(max_depth= 3, max_features='log2', random_state= 100)\n",
    "scores = cross_val_score(model_t_f, features_train_f, target_train_f, scoring=my_scorer)\n",
    "print(scores)\n",
    "print(scores.mean())"
   ]
  },
  {
   "cell_type": "code",
   "execution_count": 54,
   "metadata": {},
   "outputs": [
    {
     "data": {
      "text/plain": [
       "11.768368040357883"
      ]
     },
     "execution_count": 54,
     "metadata": {},
     "output_type": "execute_result"
    }
   ],
   "source": [
    "model_t_f = DecisionTreeRegressor(max_depth= 3, max_features='log2', random_state= 100)\n",
    "model_t_f.fit(features_train_f, target_train_f)\n",
    "prediction_t_f = model_t_f.predict(features_test_f)\n",
    "smape_t_f = smape(target_test_f, prediction_t_f )\n",
    "smape_t_f"
   ]
  },
  {
   "cell_type": "markdown",
   "metadata": {},
   "source": [
    "<div class=\"alert alert-info\"> <b>🎓 Комментарий студента:</b> Почему-то на константной модели ошибка получилось меньше. Првильно ли я оформил константную модель?</div>\n"
   ]
  },
  {
   "cell_type": "code",
   "execution_count": 55,
   "metadata": {},
   "outputs": [],
   "source": [
    "pred_r = pd.Series(target_train_f.mean(), index=target_test_f)"
   ]
  },
  {
   "cell_type": "code",
   "execution_count": 67,
   "metadata": {},
   "outputs": [
    {
     "data": {
      "text/plain": [
       "0.02772844419657173"
      ]
     },
     "execution_count": 67,
     "metadata": {},
     "output_type": "execute_result"
    }
   ],
   "source": [
    "smape(target_test_f, pred_r)"
   ]
  },
  {
   "cell_type": "markdown",
   "metadata": {},
   "source": [
    "<div class=\"alert alert-warning\">\n",
    "<b>🤔 Рекомендация:</b> \n",
    "Если так посчитать, то нормальное значение выходит. Он считал сам с собой.\n",
    "    \n",
    "smape(target_test_f, pred_r.to_array())\n",
    "10.406371804806447\n",
    "    \n",
    "</div>"
   ]
  },
  {
   "cell_type": "markdown",
   "metadata": {},
   "source": [
    "#### Случайны лес\n"
   ]
  },
  {
   "cell_type": "code",
   "execution_count": 57,
   "metadata": {},
   "outputs": [],
   "source": [
    "grid = { \n",
    "    'n_estimators': [10,20,30],\n",
    "    'max_features': ['sqrt', 'log2'],\n",
    "    'max_depth' : [4,5,6,7,8],\n",
    "    'random_state' : [100]\n",
    "}"
   ]
  },
  {
   "cell_type": "code",
   "execution_count": 58,
   "metadata": {},
   "outputs": [
    {
     "data": {
      "text/plain": [
       "GridSearchCV(cv=5, estimator=RandomForestRegressor(),\n",
       "             param_grid={'max_depth': [4, 5, 6, 7, 8],\n",
       "                         'max_features': ['sqrt', 'log2'],\n",
       "                         'n_estimators': [10, 20, 30], 'random_state': [100]},\n",
       "             scoring=make_scorer(smape, greater_is_better=False))"
      ]
     },
     "execution_count": 58,
     "metadata": {},
     "output_type": "execute_result"
    }
   ],
   "source": [
    "rf_cv = GridSearchCV(estimator=RandomForestRegressor(), param_grid=grid, cv= 5, scoring=my_scorer)\n",
    "rf_cv.fit(features_train_f, target_train_f)"
   ]
  },
  {
   "cell_type": "code",
   "execution_count": 59,
   "metadata": {},
   "outputs": [
    {
     "data": {
      "text/plain": [
       "{'max_depth': 5,\n",
       " 'max_features': 'sqrt',\n",
       " 'n_estimators': 30,\n",
       " 'random_state': 100}"
      ]
     },
     "execution_count": 59,
     "metadata": {},
     "output_type": "execute_result"
    }
   ],
   "source": [
    "rf_cv.best_params_"
   ]
  },
  {
   "cell_type": "code",
   "execution_count": 60,
   "metadata": {},
   "outputs": [
    {
     "name": "stdout",
     "output_type": "stream",
     "text": [
      "[ -9.65120639 -10.15541069  -9.83201632 -10.22068675 -10.01233587]\n",
      "-9.974331203460796\n"
     ]
    }
   ],
   "source": [
    "model_f_f = RandomForestRegressor(max_depth= 5, n_estimators=30, max_features='sqrt' , random_state=100)\n",
    "scores = cross_val_score(model_f_f , features_train_f, target_train_f, scoring=my_scorer)\n",
    "print(scores)\n",
    "print(scores.mean())"
   ]
  },
  {
   "cell_type": "code",
   "execution_count": 61,
   "metadata": {},
   "outputs": [
    {
     "data": {
      "text/plain": [
       "27.14239459869421"
      ]
     },
     "execution_count": 61,
     "metadata": {},
     "output_type": "execute_result"
    }
   ],
   "source": [
    "model_f_f  = RandomForestRegressor(max_depth= 5, n_estimators=30 ,max_features='sqrt' , random_state=100)\n",
    "model_f_f.fit(features_train_f, target_train_f)\n",
    "prediction_f_f = model_f_r.predict(features_test_f)\n",
    "smape_f_f = smape(target_test_f, prediction_f_f)\n",
    "smape_f_f"
   ]
  },
  {
   "cell_type": "markdown",
   "metadata": {},
   "source": [
    "Лушая модель - модель дерева решений"
   ]
  },
  {
   "cell_type": "markdown",
   "metadata": {},
   "source": [
    "#### Итоговый результат"
   ]
  },
  {
   "cell_type": "code",
   "execution_count": 62,
   "metadata": {},
   "outputs": [
    {
     "data": {
      "text/plain": [
       "10.97838369090428"
      ]
     },
     "execution_count": 62,
     "metadata": {},
     "output_type": "execute_result"
    }
   ],
   "source": [
    "total_smape(smape_f_r, smape_t_f)"
   ]
  },
  {
   "cell_type": "code",
   "execution_count": 63,
   "metadata": {},
   "outputs": [],
   "source": [
    "def total_smape(r, f):\n",
    "    return 0.25*r+0.75*f"
   ]
  },
  {
   "cell_type": "markdown",
   "metadata": {},
   "source": [
    "Мы предсказывали два параметра, и для каждого из них строили модель. \n",
    "\n",
    "При помощи кросс-валидации для подбора гиперпамаметров и вычисления ошибок были выбраны лучшие модели:\n",
    "- для параметра rougher.output.recovery это модель случайного леса с гиперпараметрами {'max_depth': 5,\n",
    " 'max_features': 'log2',\n",
    " 'n_estimators': 30,\n",
    " 'random_state': 100}\n",
    "- для параметра final.output.recovery это модель дерева решений с гиперпараметрами {'max_depth': 3, 'max_features': 'log2', 'random_state': 100}\n",
    "\n",
    "После определения лучших моделей для предсказания, результат итоговой метрики, который складывается из предсказаний моделей для каждого параметра, получился 10.978. Значит, при предсказании параметров при помощи нашей метрики, ошибка +-10.978"
   ]
  },
  {
   "cell_type": "markdown",
   "metadata": {},
   "source": [
    "<div class=\"alert alert-warning\">\n",
    "<b>🤔 Рекомендация:</b> Было бы здорово написать более развернутый вывод, а также сравнить модель с константной\n",
    "</div>"
   ]
  },
  {
   "cell_type": "markdown",
   "metadata": {},
   "source": [
    "<div style=\"background-color:MintCream; border:solid CadetBlue 2px; padding: 20px\">\n",
    "<b>Итоговый комментарий:</b>Мне особенно понравилось, как ты справился с анализом и обработкой данных. С обучением моделей  все тоже неплохо, но нужно исправить пару вещей:\n",
    "    <li>нельзя дополнять тестовые данные данными, которые не доступны в момент использования модели</li>\n",
    "    <li>разобраться с параметром greater_is_better функции make_scorer</li>\n",
    "    <li>исправить ошибку исполнения одной из ячеек</li>\n",
    "    \n",
    "    Жду твою работу на повторную проверку\n",
    "<div>"
   ]
  },
  {
   "cell_type": "markdown",
   "metadata": {},
   "source": [
    "## Чек-лист готовности проекта"
   ]
  },
  {
   "cell_type": "markdown",
   "metadata": {},
   "source": [
    "- [x]  Jupyter Notebook открыт\n",
    "- [ ]  Весь код выполняется без ошибок\n",
    "- [ ]  Ячейки с кодом расположены в порядке выполнения\n",
    "- [ ]  Выполнен шаг 1: данные подготовлены\n",
    "    - [ ]  Проверена формула вычисления эффективности обогащения\n",
    "    - [ ]  Проанализированы признаки, недоступные в тестовой выборке\n",
    "    - [ ]  Проведена предобработка данных\n",
    "- [ ]  Выполнен шаг 2: данные проанализированы\n",
    "    - [ ]  Исследовано изменение концентрации элементов на каждом этапе\n",
    "    - [ ]  Проанализированы распределения размеров гранул на обучающей и тестовой выборках\n",
    "    - [ ]  Исследованы суммарные концентрации\n",
    "- [ ]  Выполнен шаг 3: построена модель прогнозирования\n",
    "    - [ ]  Написана функция для вычисления итогового *sMAPE*\n",
    "    - [ ]  Обучено и проверено несколько моделей\n",
    "    - [ ]  Выбрана лучшая модель, её качество проверено на тестовой выборке"
   ]
  }
 ],
 "metadata": {
  "ExecuteTimeLog": [
   {
    "duration": 472,
    "start_time": "2022-04-18T14:10:03.552Z"
   },
   {
    "duration": 153,
    "start_time": "2022-04-18T14:10:27.264Z"
   },
   {
    "duration": 3,
    "start_time": "2022-04-18T14:10:52.568Z"
   },
   {
    "duration": 90,
    "start_time": "2022-04-18T14:10:53.088Z"
   },
   {
    "duration": 75,
    "start_time": "2022-04-18T14:11:17.128Z"
   },
   {
    "duration": 98,
    "start_time": "2022-04-18T14:11:34.944Z"
   },
   {
    "duration": 135,
    "start_time": "2022-04-18T14:11:38.216Z"
   },
   {
    "duration": 69,
    "start_time": "2022-04-18T14:11:42.759Z"
   },
   {
    "duration": 344,
    "start_time": "2022-04-18T14:11:55.184Z"
   },
   {
    "duration": 391,
    "start_time": "2022-04-18T14:11:58.623Z"
   },
   {
    "duration": 911,
    "start_time": "2022-04-18T14:12:50.999Z"
   },
   {
    "duration": 599,
    "start_time": "2022-04-18T14:13:01.208Z"
   },
   {
    "duration": 583,
    "start_time": "2022-04-18T14:13:44.774Z"
   },
   {
    "duration": 1019,
    "start_time": "2022-04-18T14:13:49.382Z"
   },
   {
    "duration": 55,
    "start_time": "2022-04-18T14:14:05.598Z"
   },
   {
    "duration": 62,
    "start_time": "2022-04-18T14:14:46.927Z"
   },
   {
    "duration": 668,
    "start_time": "2022-04-18T14:26:56.330Z"
   },
   {
    "duration": 28,
    "start_time": "2022-04-18T14:28:28.873Z"
   },
   {
    "duration": 33,
    "start_time": "2022-04-18T14:44:05.106Z"
   },
   {
    "duration": 26,
    "start_time": "2022-04-18T14:46:56.456Z"
   },
   {
    "duration": 6,
    "start_time": "2022-04-18T14:47:09.008Z"
   },
   {
    "duration": 894,
    "start_time": "2022-04-18T14:48:21.240Z"
   },
   {
    "duration": 36,
    "start_time": "2022-04-18T14:48:41.055Z"
   },
   {
    "duration": 22,
    "start_time": "2022-04-18T14:50:41.646Z"
   },
   {
    "duration": 14,
    "start_time": "2022-04-18T14:52:24.741Z"
   },
   {
    "duration": 10,
    "start_time": "2022-04-18T14:52:27.526Z"
   },
   {
    "duration": 12,
    "start_time": "2022-04-18T14:52:29.502Z"
   },
   {
    "duration": 12,
    "start_time": "2022-04-18T14:52:43.903Z"
   },
   {
    "duration": 11,
    "start_time": "2022-04-18T14:52:50.326Z"
   },
   {
    "duration": 11,
    "start_time": "2022-04-18T14:52:57.398Z"
   },
   {
    "duration": 1484,
    "start_time": "2022-04-18T14:53:35.253Z"
   },
   {
    "duration": 10,
    "start_time": "2022-04-18T14:53:45.959Z"
   },
   {
    "duration": 207,
    "start_time": "2022-04-18T14:54:10.117Z"
   },
   {
    "duration": 136,
    "start_time": "2022-04-18T14:54:22.381Z"
   },
   {
    "duration": 26,
    "start_time": "2022-04-18T14:54:46.349Z"
   },
   {
    "duration": 22,
    "start_time": "2022-04-18T14:55:59.303Z"
   },
   {
    "duration": 2523,
    "start_time": "2022-04-18T15:01:48.349Z"
   },
   {
    "duration": 14,
    "start_time": "2022-04-18T15:01:54.253Z"
   },
   {
    "duration": 22,
    "start_time": "2022-04-18T15:03:35.292Z"
   },
   {
    "duration": 12,
    "start_time": "2022-04-18T15:06:00.075Z"
   },
   {
    "duration": 30,
    "start_time": "2022-04-18T15:16:18.863Z"
   },
   {
    "duration": 4,
    "start_time": "2022-04-18T15:17:24.528Z"
   },
   {
    "duration": 3,
    "start_time": "2022-04-18T15:24:33.210Z"
   },
   {
    "duration": 3,
    "start_time": "2022-04-18T15:25:33.858Z"
   },
   {
    "duration": 3,
    "start_time": "2022-04-18T15:27:34.897Z"
   },
   {
    "duration": 216,
    "start_time": "2022-04-18T15:27:59.737Z"
   },
   {
    "duration": 24,
    "start_time": "2022-04-18T15:28:06.288Z"
   },
   {
    "duration": 5,
    "start_time": "2022-04-18T15:30:01.528Z"
   },
   {
    "duration": 5,
    "start_time": "2022-04-18T15:30:20.071Z"
   },
   {
    "duration": 4,
    "start_time": "2022-04-18T15:54:30.118Z"
   },
   {
    "duration": 4,
    "start_time": "2022-04-18T15:54:35.532Z"
   },
   {
    "duration": 3,
    "start_time": "2022-04-18T15:54:44.452Z"
   },
   {
    "duration": 4,
    "start_time": "2022-04-18T15:56:13.917Z"
   },
   {
    "duration": 3,
    "start_time": "2022-04-18T15:56:18.069Z"
   },
   {
    "duration": 4,
    "start_time": "2022-04-18T15:56:22.484Z"
   },
   {
    "duration": 4,
    "start_time": "2022-04-18T15:56:25.628Z"
   },
   {
    "duration": 4,
    "start_time": "2022-04-18T15:56:28.188Z"
   },
   {
    "duration": 4,
    "start_time": "2022-04-18T15:56:31.076Z"
   },
   {
    "duration": 4,
    "start_time": "2022-04-18T15:56:33.149Z"
   },
   {
    "duration": 6,
    "start_time": "2022-04-18T15:56:42.908Z"
   },
   {
    "duration": 4,
    "start_time": "2022-04-18T15:58:54.773Z"
   },
   {
    "duration": 215,
    "start_time": "2022-04-18T15:58:55.260Z"
   },
   {
    "duration": 5,
    "start_time": "2022-04-18T15:58:55.612Z"
   },
   {
    "duration": 3,
    "start_time": "2022-04-18T15:58:59.469Z"
   },
   {
    "duration": 970,
    "start_time": "2022-04-18T15:58:59.474Z"
   },
   {
    "duration": 32,
    "start_time": "2022-04-18T15:59:00.446Z"
   },
   {
    "duration": 82,
    "start_time": "2022-04-18T15:59:00.480Z"
   },
   {
    "duration": 24,
    "start_time": "2022-04-18T15:59:00.564Z"
   },
   {
    "duration": 12,
    "start_time": "2022-04-18T15:59:00.589Z"
   },
   {
    "duration": 4,
    "start_time": "2022-04-18T15:59:04.180Z"
   },
   {
    "duration": 375,
    "start_time": "2022-04-18T15:59:04.661Z"
   },
   {
    "duration": 8,
    "start_time": "2022-04-18T15:59:05.051Z"
   },
   {
    "duration": 4,
    "start_time": "2022-04-18T15:59:18.739Z"
   },
   {
    "duration": 364,
    "start_time": "2022-04-18T15:59:19.028Z"
   },
   {
    "duration": 7,
    "start_time": "2022-04-18T15:59:19.395Z"
   },
   {
    "duration": 6,
    "start_time": "2022-04-18T15:59:20.843Z"
   },
   {
    "duration": 6,
    "start_time": "2022-04-18T16:02:00.107Z"
   },
   {
    "duration": 214,
    "start_time": "2022-04-18T16:02:01.370Z"
   },
   {
    "duration": 6,
    "start_time": "2022-04-18T16:02:01.586Z"
   },
   {
    "duration": 207,
    "start_time": "2022-04-18T16:02:05.952Z"
   },
   {
    "duration": 150,
    "start_time": "2022-04-18T16:03:50.603Z"
   },
   {
    "duration": 10,
    "start_time": "2022-04-18T16:33:29.245Z"
   },
   {
    "duration": 9,
    "start_time": "2022-04-18T16:33:32.750Z"
   },
   {
    "duration": 9,
    "start_time": "2022-04-18T16:34:23.821Z"
   },
   {
    "duration": 9,
    "start_time": "2022-04-18T16:34:40.621Z"
   },
   {
    "duration": 12,
    "start_time": "2022-04-18T16:34:51.773Z"
   },
   {
    "duration": 12,
    "start_time": "2022-04-18T16:34:59.237Z"
   },
   {
    "duration": 9,
    "start_time": "2022-04-18T16:35:07.990Z"
   },
   {
    "duration": 10,
    "start_time": "2022-04-18T16:35:11.758Z"
   },
   {
    "duration": 19,
    "start_time": "2022-04-18T16:35:26.637Z"
   },
   {
    "duration": 9,
    "start_time": "2022-04-18T16:35:34.781Z"
   },
   {
    "duration": 7,
    "start_time": "2022-04-18T16:37:23.685Z"
   },
   {
    "duration": 9,
    "start_time": "2022-04-18T16:37:29.942Z"
   },
   {
    "duration": 5,
    "start_time": "2022-04-18T16:37:35.324Z"
   },
   {
    "duration": 9,
    "start_time": "2022-04-18T16:43:45.409Z"
   },
   {
    "duration": 8,
    "start_time": "2022-04-18T16:44:07.857Z"
   },
   {
    "duration": 5,
    "start_time": "2022-04-18T16:45:35.194Z"
   },
   {
    "duration": 8,
    "start_time": "2022-04-18T16:46:34.088Z"
   },
   {
    "duration": 29,
    "start_time": "2022-04-18T16:46:36.416Z"
   },
   {
    "duration": 40,
    "start_time": "2022-04-18T16:47:12.360Z"
   },
   {
    "duration": 48,
    "start_time": "2022-04-18T16:47:22.897Z"
   },
   {
    "duration": 10,
    "start_time": "2022-04-18T16:50:26.216Z"
   },
   {
    "duration": 49,
    "start_time": "2022-04-18T16:50:30.816Z"
   },
   {
    "duration": 11,
    "start_time": "2022-04-18T16:50:39.807Z"
   },
   {
    "duration": 15,
    "start_time": "2022-04-18T16:50:51.748Z"
   },
   {
    "duration": 10,
    "start_time": "2022-04-18T16:50:52.156Z"
   },
   {
    "duration": 174,
    "start_time": "2022-04-18T16:51:35.928Z"
   },
   {
    "duration": 10,
    "start_time": "2022-04-18T16:51:39.207Z"
   },
   {
    "duration": 12,
    "start_time": "2022-04-18T16:52:07.607Z"
   },
   {
    "duration": 131,
    "start_time": "2022-04-18T16:52:14.062Z"
   },
   {
    "duration": 30,
    "start_time": "2022-04-18T16:52:18.406Z"
   },
   {
    "duration": 246,
    "start_time": "2022-04-18T16:52:51.287Z"
   },
   {
    "duration": 163,
    "start_time": "2022-04-18T16:53:17.814Z"
   },
   {
    "duration": 1558,
    "start_time": "2022-04-20T15:26:08.519Z"
   },
   {
    "duration": 891,
    "start_time": "2022-04-20T15:26:10.080Z"
   },
   {
    "duration": 52,
    "start_time": "2022-04-20T15:26:10.973Z"
   },
   {
    "duration": 76,
    "start_time": "2022-04-20T15:26:11.028Z"
   },
   {
    "duration": 30,
    "start_time": "2022-04-20T15:26:11.107Z"
   },
   {
    "duration": 14,
    "start_time": "2022-04-20T15:26:11.139Z"
   },
   {
    "duration": 413,
    "start_time": "2022-04-20T15:26:11.155Z"
   },
   {
    "duration": 21,
    "start_time": "2022-04-20T15:26:11.571Z"
   },
   {
    "duration": 11,
    "start_time": "2022-04-20T15:26:11.594Z"
   },
   {
    "duration": 9,
    "start_time": "2022-04-20T15:26:11.610Z"
   },
   {
    "duration": 89,
    "start_time": "2022-04-20T15:26:11.621Z"
   },
   {
    "duration": 23,
    "start_time": "2022-04-20T15:26:11.712Z"
   },
   {
    "duration": 12,
    "start_time": "2022-04-20T15:26:11.738Z"
   },
   {
    "duration": 255,
    "start_time": "2022-04-20T15:26:11.753Z"
   },
   {
    "duration": 151,
    "start_time": "2022-04-20T15:26:22.697Z"
   },
   {
    "duration": 22,
    "start_time": "2022-04-20T15:26:26.562Z"
   },
   {
    "duration": 14,
    "start_time": "2022-04-20T15:31:04.777Z"
   },
   {
    "duration": 28,
    "start_time": "2022-04-20T15:31:56.175Z"
   },
   {
    "duration": 20,
    "start_time": "2022-04-20T15:31:56.624Z"
   },
   {
    "duration": 398,
    "start_time": "2022-04-20T15:32:07.264Z"
   },
   {
    "duration": 26,
    "start_time": "2022-04-20T15:32:19.400Z"
   },
   {
    "duration": 21,
    "start_time": "2022-04-20T15:32:26.759Z"
   },
   {
    "duration": 22,
    "start_time": "2022-04-20T15:32:32.015Z"
   },
   {
    "duration": 9,
    "start_time": "2022-04-20T15:40:21.169Z"
   },
   {
    "duration": 12,
    "start_time": "2022-04-20T15:40:23.690Z"
   },
   {
    "duration": 13,
    "start_time": "2022-04-20T15:40:26.483Z"
   },
   {
    "duration": 8,
    "start_time": "2022-04-20T15:42:52.992Z"
   },
   {
    "duration": 15,
    "start_time": "2022-04-20T15:43:00.058Z"
   },
   {
    "duration": 14,
    "start_time": "2022-04-20T15:43:15.561Z"
   },
   {
    "duration": 15,
    "start_time": "2022-04-20T15:43:20.465Z"
   },
   {
    "duration": 1135,
    "start_time": "2022-04-20T15:43:34.058Z"
   },
   {
    "duration": 217,
    "start_time": "2022-04-20T15:47:43.536Z"
   },
   {
    "duration": 226,
    "start_time": "2022-04-20T15:47:47.783Z"
   },
   {
    "duration": 554,
    "start_time": "2022-04-20T15:47:57.967Z"
   },
   {
    "duration": 907,
    "start_time": "2022-04-20T15:48:09.127Z"
   },
   {
    "duration": 630,
    "start_time": "2022-04-20T15:49:55.334Z"
   },
   {
    "duration": 317,
    "start_time": "2022-04-20T15:50:10.814Z"
   },
   {
    "duration": 0,
    "start_time": "2022-04-20T15:50:40.926Z"
   },
   {
    "duration": 1146,
    "start_time": "2022-04-20T15:51:10.205Z"
   },
   {
    "duration": 8,
    "start_time": "2022-04-20T15:52:56.837Z"
   },
   {
    "duration": 186,
    "start_time": "2022-04-20T15:54:59.067Z"
   },
   {
    "duration": 19,
    "start_time": "2022-04-20T15:55:29.340Z"
   },
   {
    "duration": 19,
    "start_time": "2022-04-20T15:55:39.460Z"
   },
   {
    "duration": 9,
    "start_time": "2022-04-20T15:56:26.804Z"
   },
   {
    "duration": 599,
    "start_time": "2022-04-20T15:56:28.219Z"
   },
   {
    "duration": 188,
    "start_time": "2022-04-20T15:56:42.980Z"
   },
   {
    "duration": 9,
    "start_time": "2022-04-20T15:56:54.363Z"
   },
   {
    "duration": 183,
    "start_time": "2022-04-20T15:57:00.172Z"
   },
   {
    "duration": 185,
    "start_time": "2022-04-20T15:57:12.667Z"
   },
   {
    "duration": 17,
    "start_time": "2022-04-20T15:57:28.330Z"
   },
   {
    "duration": 51419,
    "start_time": "2022-04-20T15:59:26.777Z"
   },
   {
    "duration": 8,
    "start_time": "2022-04-20T16:00:18.859Z"
   },
   {
    "duration": 747,
    "start_time": "2022-04-20T16:00:18.881Z"
   },
   {
    "duration": 9,
    "start_time": "2022-04-20T16:00:19.809Z"
   },
   {
    "duration": 632,
    "start_time": "2022-04-20T16:00:20.553Z"
   },
   {
    "duration": 16,
    "start_time": "2022-04-20T16:01:29.393Z"
   },
   {
    "duration": 507,
    "start_time": "2022-04-20T16:02:45.983Z"
   },
   {
    "duration": 454,
    "start_time": "2022-04-20T16:03:45.616Z"
   },
   {
    "duration": 396,
    "start_time": "2022-04-20T16:03:53.016Z"
   },
   {
    "duration": 640,
    "start_time": "2022-04-20T16:04:03.913Z"
   },
   {
    "duration": 927,
    "start_time": "2022-04-20T16:04:29.119Z"
   },
   {
    "duration": 908,
    "start_time": "2022-04-20T16:04:39.635Z"
   },
   {
    "duration": 926,
    "start_time": "2022-04-20T16:04:50.632Z"
   },
   {
    "duration": 927,
    "start_time": "2022-04-20T16:04:57.119Z"
   },
   {
    "duration": 757,
    "start_time": "2022-04-20T16:11:28.492Z"
   },
   {
    "duration": 90,
    "start_time": "2022-04-20T16:13:41.612Z"
   },
   {
    "duration": 32,
    "start_time": "2022-04-20T16:14:11.010Z"
   },
   {
    "duration": 8,
    "start_time": "2022-04-20T16:14:37.603Z"
   },
   {
    "duration": 609,
    "start_time": "2022-04-20T16:14:47.107Z"
   },
   {
    "duration": 846,
    "start_time": "2022-04-20T16:14:48.139Z"
   },
   {
    "duration": 175,
    "start_time": "2022-04-20T16:15:21.036Z"
   },
   {
    "duration": 636,
    "start_time": "2022-04-20T16:16:01.740Z"
   },
   {
    "duration": 4,
    "start_time": "2022-04-20T16:18:05.036Z"
   },
   {
    "duration": 413,
    "start_time": "2022-04-20T16:18:56.019Z"
   },
   {
    "duration": 425,
    "start_time": "2022-04-20T16:19:25.050Z"
   },
   {
    "duration": 450,
    "start_time": "2022-04-20T16:20:58.241Z"
   },
   {
    "duration": 431,
    "start_time": "2022-04-20T16:21:12.225Z"
   },
   {
    "duration": 416,
    "start_time": "2022-04-20T16:22:14.761Z"
   },
   {
    "duration": 422,
    "start_time": "2022-04-20T16:22:50.409Z"
   },
   {
    "duration": 422,
    "start_time": "2022-04-20T16:23:02.929Z"
   },
   {
    "duration": 421,
    "start_time": "2022-04-20T16:24:26.935Z"
   },
   {
    "duration": 422,
    "start_time": "2022-04-20T16:24:31.513Z"
   },
   {
    "duration": 469,
    "start_time": "2022-04-20T16:25:26.327Z"
   },
   {
    "duration": 424,
    "start_time": "2022-04-20T16:25:39.271Z"
   },
   {
    "duration": 426,
    "start_time": "2022-04-20T16:25:42.583Z"
   },
   {
    "duration": 493,
    "start_time": "2022-04-20T16:25:48.711Z"
   },
   {
    "duration": 446,
    "start_time": "2022-04-20T16:25:55.262Z"
   },
   {
    "duration": 1445,
    "start_time": "2022-04-20T16:26:04.989Z"
   },
   {
    "duration": 429,
    "start_time": "2022-04-20T16:26:11.255Z"
   },
   {
    "duration": 434,
    "start_time": "2022-04-20T16:27:21.486Z"
   },
   {
    "duration": 977,
    "start_time": "2022-04-20T16:28:02.262Z"
   },
   {
    "duration": 465,
    "start_time": "2022-04-20T16:28:36.382Z"
   },
   {
    "duration": 204,
    "start_time": "2022-04-20T16:38:07.502Z"
   },
   {
    "duration": 361,
    "start_time": "2022-04-20T16:40:10.113Z"
   },
   {
    "duration": 361,
    "start_time": "2022-04-20T16:40:37.818Z"
   },
   {
    "duration": 496,
    "start_time": "2022-04-20T16:42:11.376Z"
   },
   {
    "duration": 249,
    "start_time": "2022-04-20T16:42:43.128Z"
   },
   {
    "duration": 246,
    "start_time": "2022-04-20T16:42:56.305Z"
   },
   {
    "duration": 361,
    "start_time": "2022-04-20T16:43:03.049Z"
   },
   {
    "duration": 355,
    "start_time": "2022-04-20T16:43:09.632Z"
   },
   {
    "duration": 140,
    "start_time": "2022-04-20T16:43:52.809Z"
   },
   {
    "duration": 361,
    "start_time": "2022-04-20T16:46:29.743Z"
   },
   {
    "duration": 358,
    "start_time": "2022-04-20T16:46:37.590Z"
   },
   {
    "duration": 35,
    "start_time": "2022-04-20T16:52:39.260Z"
   },
   {
    "duration": 190,
    "start_time": "2022-04-20T17:06:14.528Z"
   },
   {
    "duration": 262,
    "start_time": "2022-04-20T17:06:18.000Z"
   },
   {
    "duration": 14,
    "start_time": "2022-04-20T17:06:36.368Z"
   },
   {
    "duration": 23,
    "start_time": "2022-04-20T17:06:39.015Z"
   },
   {
    "duration": 297,
    "start_time": "2022-04-20T17:06:48.064Z"
   },
   {
    "duration": 251,
    "start_time": "2022-04-20T17:06:58.481Z"
   },
   {
    "duration": 133,
    "start_time": "2022-04-20T17:07:56.215Z"
   },
   {
    "duration": 849,
    "start_time": "2022-04-20T17:07:59.559Z"
   },
   {
    "duration": 879,
    "start_time": "2022-04-20T17:08:34.615Z"
   },
   {
    "duration": 23,
    "start_time": "2022-04-20T17:11:28.654Z"
   },
   {
    "duration": 56,
    "start_time": "2022-04-20T17:11:47.205Z"
   },
   {
    "duration": 140,
    "start_time": "2022-04-20T17:13:52.357Z"
   },
   {
    "duration": 122,
    "start_time": "2022-04-20T17:14:01.404Z"
   },
   {
    "duration": 16,
    "start_time": "2022-04-20T17:14:06.956Z"
   },
   {
    "duration": 12,
    "start_time": "2022-04-20T17:14:13.956Z"
   },
   {
    "duration": 12,
    "start_time": "2022-04-20T17:14:23.756Z"
   },
   {
    "duration": 13,
    "start_time": "2022-04-20T17:14:58.524Z"
   },
   {
    "duration": 12,
    "start_time": "2022-04-20T17:15:07.276Z"
   },
   {
    "duration": 18,
    "start_time": "2022-04-20T17:16:46.812Z"
   },
   {
    "duration": 28,
    "start_time": "2022-04-20T17:17:06.883Z"
   },
   {
    "duration": 14,
    "start_time": "2022-04-20T17:17:56.051Z"
   },
   {
    "duration": 35,
    "start_time": "2022-04-20T17:18:07.731Z"
   },
   {
    "duration": 1854,
    "start_time": "2022-04-20T17:18:21.218Z"
   },
   {
    "duration": 1949,
    "start_time": "2022-04-20T17:18:30.786Z"
   },
   {
    "duration": 1839,
    "start_time": "2022-04-20T17:18:35.066Z"
   },
   {
    "duration": 13,
    "start_time": "2022-04-20T17:18:44.282Z"
   },
   {
    "duration": 10,
    "start_time": "2022-04-20T17:18:49.857Z"
   },
   {
    "duration": 1535,
    "start_time": "2022-04-20T17:18:56.282Z"
   },
   {
    "duration": 28,
    "start_time": "2022-04-20T17:19:01.730Z"
   },
   {
    "duration": 19,
    "start_time": "2022-04-20T17:19:05.818Z"
   },
   {
    "duration": 26,
    "start_time": "2022-04-20T17:19:11.201Z"
   },
   {
    "duration": 18,
    "start_time": "2022-04-20T17:19:22.546Z"
   },
   {
    "duration": 391,
    "start_time": "2022-04-20T17:19:37.729Z"
   },
   {
    "duration": 398,
    "start_time": "2022-04-20T17:19:53.322Z"
   },
   {
    "duration": 12,
    "start_time": "2022-04-20T17:21:51.993Z"
   },
   {
    "duration": 252,
    "start_time": "2022-04-20T17:21:53.513Z"
   },
   {
    "duration": 252,
    "start_time": "2022-04-20T17:23:07.168Z"
   },
   {
    "duration": 487,
    "start_time": "2022-04-20T17:24:05.128Z"
   },
   {
    "duration": 270,
    "start_time": "2022-04-20T17:24:16.217Z"
   },
   {
    "duration": 137,
    "start_time": "2022-04-20T17:31:32.573Z"
   },
   {
    "duration": 274,
    "start_time": "2022-04-20T17:31:40.125Z"
   },
   {
    "duration": 263,
    "start_time": "2022-04-20T17:31:56.532Z"
   },
   {
    "duration": 385,
    "start_time": "2022-04-20T17:33:16.756Z"
   },
   {
    "duration": 267,
    "start_time": "2022-04-20T17:34:09.748Z"
   },
   {
    "duration": 273,
    "start_time": "2022-04-20T17:34:28.755Z"
   },
   {
    "duration": 276,
    "start_time": "2022-04-20T17:34:54.339Z"
   },
   {
    "duration": 276,
    "start_time": "2022-04-20T17:34:56.739Z"
   },
   {
    "duration": 285,
    "start_time": "2022-04-20T17:35:09.291Z"
   },
   {
    "duration": 269,
    "start_time": "2022-04-20T17:35:15.515Z"
   },
   {
    "duration": 274,
    "start_time": "2022-04-20T17:35:18.139Z"
   },
   {
    "duration": 265,
    "start_time": "2022-04-20T17:35:30.723Z"
   },
   {
    "duration": 278,
    "start_time": "2022-04-20T17:35:34.875Z"
   },
   {
    "duration": 289,
    "start_time": "2022-04-20T17:36:11.227Z"
   },
   {
    "duration": 290,
    "start_time": "2022-04-20T17:36:37.043Z"
   },
   {
    "duration": 278,
    "start_time": "2022-04-20T17:37:28.090Z"
   },
   {
    "duration": 309,
    "start_time": "2022-04-20T17:37:38.722Z"
   },
   {
    "duration": 352,
    "start_time": "2022-04-20T17:37:51.346Z"
   },
   {
    "duration": 348,
    "start_time": "2022-04-20T17:38:29.290Z"
   },
   {
    "duration": 367,
    "start_time": "2022-04-20T17:38:51.602Z"
   },
   {
    "duration": 5311,
    "start_time": "2022-04-20T17:38:59.844Z"
   },
   {
    "duration": 288,
    "start_time": "2022-04-20T17:41:11.480Z"
   },
   {
    "duration": 302,
    "start_time": "2022-04-20T17:41:28.800Z"
   },
   {
    "duration": 329,
    "start_time": "2022-04-20T17:41:33.696Z"
   },
   {
    "duration": 442,
    "start_time": "2022-04-20T17:42:30.904Z"
   },
   {
    "duration": 355,
    "start_time": "2022-04-20T17:42:51.464Z"
   },
   {
    "duration": 17,
    "start_time": "2022-04-20T17:44:01.647Z"
   },
   {
    "duration": 17,
    "start_time": "2022-04-20T17:44:06.222Z"
   },
   {
    "duration": 278,
    "start_time": "2022-04-20T17:44:13.647Z"
   },
   {
    "duration": 304,
    "start_time": "2022-04-20T17:44:30.280Z"
   },
   {
    "duration": 364,
    "start_time": "2022-04-20T17:44:55.382Z"
   },
   {
    "duration": 268,
    "start_time": "2022-04-20T17:47:07.742Z"
   },
   {
    "duration": 255,
    "start_time": "2022-04-20T17:47:25.838Z"
   },
   {
    "duration": 283,
    "start_time": "2022-04-20T17:48:42.702Z"
   },
   {
    "duration": 324,
    "start_time": "2022-04-20T17:50:11.693Z"
   },
   {
    "duration": 102,
    "start_time": "2022-04-20T17:50:20.880Z"
   },
   {
    "duration": 327,
    "start_time": "2022-04-20T17:50:23.532Z"
   },
   {
    "duration": 17,
    "start_time": "2022-04-20T18:03:41.328Z"
   },
   {
    "duration": 324,
    "start_time": "2022-04-20T18:03:49.344Z"
   },
   {
    "duration": 5,
    "start_time": "2022-04-20T18:06:30.687Z"
   },
   {
    "duration": 20,
    "start_time": "2022-04-20T18:06:33.638Z"
   },
   {
    "duration": 300,
    "start_time": "2022-04-20T18:07:00.718Z"
   },
   {
    "duration": 18,
    "start_time": "2022-04-20T18:07:06.332Z"
   },
   {
    "duration": 337,
    "start_time": "2022-04-20T18:07:13.789Z"
   },
   {
    "duration": 21,
    "start_time": "2022-04-20T18:07:31.239Z"
   },
   {
    "duration": 326,
    "start_time": "2022-04-20T18:07:32.957Z"
   },
   {
    "duration": 5860,
    "start_time": "2022-04-20T18:07:55.981Z"
   },
   {
    "duration": 5057,
    "start_time": "2022-04-20T18:08:31.886Z"
   },
   {
    "duration": 13,
    "start_time": "2022-04-20T18:09:19.236Z"
   },
   {
    "duration": 18,
    "start_time": "2022-04-20T18:09:23.165Z"
   },
   {
    "duration": 6392,
    "start_time": "2022-04-20T18:09:31.333Z"
   },
   {
    "duration": 23,
    "start_time": "2022-04-20T18:10:26.861Z"
   },
   {
    "duration": 226,
    "start_time": "2022-04-20T18:11:07.757Z"
   },
   {
    "duration": 17,
    "start_time": "2022-04-20T18:11:55.955Z"
   },
   {
    "duration": 26,
    "start_time": "2022-04-20T18:11:57.740Z"
   },
   {
    "duration": 318,
    "start_time": "2022-04-20T18:12:03.348Z"
   },
   {
    "duration": 26,
    "start_time": "2022-04-20T18:12:17.099Z"
   },
   {
    "duration": 288,
    "start_time": "2022-04-20T18:12:17.556Z"
   },
   {
    "duration": 22,
    "start_time": "2022-04-20T18:12:25.403Z"
   },
   {
    "duration": 237,
    "start_time": "2022-04-20T18:12:25.563Z"
   },
   {
    "duration": 21,
    "start_time": "2022-04-20T18:12:28.419Z"
   },
   {
    "duration": 231,
    "start_time": "2022-04-20T18:12:28.579Z"
   },
   {
    "duration": 27,
    "start_time": "2022-04-20T18:12:36.883Z"
   },
   {
    "duration": 4894,
    "start_time": "2022-04-20T18:12:49.628Z"
   },
   {
    "duration": 22,
    "start_time": "2022-04-20T18:13:24.819Z"
   },
   {
    "duration": 226,
    "start_time": "2022-04-20T18:13:46.155Z"
   },
   {
    "duration": 313,
    "start_time": "2022-04-20T18:14:00.363Z"
   },
   {
    "duration": 96,
    "start_time": "2022-04-20T18:14:27.803Z"
   },
   {
    "duration": 9,
    "start_time": "2022-04-20T18:14:32.242Z"
   },
   {
    "duration": 6,
    "start_time": "2022-04-20T18:15:11.331Z"
   },
   {
    "duration": 6,
    "start_time": "2022-04-20T18:15:16.650Z"
   },
   {
    "duration": 12,
    "start_time": "2022-04-20T18:15:37.986Z"
   },
   {
    "duration": 24,
    "start_time": "2022-04-20T18:15:42.985Z"
   },
   {
    "duration": 44,
    "start_time": "2022-04-20T18:17:51.426Z"
   },
   {
    "duration": 4,
    "start_time": "2022-04-20T18:25:10.993Z"
   },
   {
    "duration": 1038,
    "start_time": "2022-04-20T18:25:11.001Z"
   },
   {
    "duration": 61,
    "start_time": "2022-04-20T18:25:12.042Z"
   },
   {
    "duration": 83,
    "start_time": "2022-04-20T18:25:12.107Z"
   },
   {
    "duration": 30,
    "start_time": "2022-04-20T18:25:12.193Z"
   },
   {
    "duration": 6,
    "start_time": "2022-04-20T18:25:12.225Z"
   },
   {
    "duration": 370,
    "start_time": "2022-04-20T18:25:12.233Z"
   },
   {
    "duration": 10,
    "start_time": "2022-04-20T18:25:12.605Z"
   },
   {
    "duration": 9,
    "start_time": "2022-04-20T18:25:12.617Z"
   },
   {
    "duration": 8,
    "start_time": "2022-04-20T18:25:12.630Z"
   },
   {
    "duration": 121,
    "start_time": "2022-04-20T18:25:12.640Z"
   },
   {
    "duration": 40,
    "start_time": "2022-04-20T18:25:12.770Z"
   },
   {
    "duration": 20,
    "start_time": "2022-04-20T18:25:12.813Z"
   },
   {
    "duration": 423,
    "start_time": "2022-04-20T18:25:12.835Z"
   },
   {
    "duration": 8,
    "start_time": "2022-04-20T18:25:13.260Z"
   },
   {
    "duration": 428,
    "start_time": "2022-04-20T18:25:13.283Z"
   },
   {
    "duration": 433,
    "start_time": "2022-04-20T18:25:13.714Z"
   },
   {
    "duration": 453,
    "start_time": "2022-04-20T18:25:14.149Z"
   },
   {
    "duration": 372,
    "start_time": "2022-04-20T18:25:14.604Z"
   },
   {
    "duration": 281,
    "start_time": "2022-04-20T18:25:14.982Z"
   },
   {
    "duration": 289,
    "start_time": "2022-04-20T18:25:15.265Z"
   },
   {
    "duration": 311,
    "start_time": "2022-04-20T18:25:15.556Z"
   },
   {
    "duration": 372,
    "start_time": "2022-04-20T18:25:15.869Z"
   },
   {
    "duration": 343,
    "start_time": "2022-04-20T18:25:16.243Z"
   },
   {
    "duration": 342,
    "start_time": "2022-04-20T18:25:16.588Z"
   },
   {
    "duration": 22,
    "start_time": "2022-04-20T18:25:44.158Z"
   },
   {
    "duration": 3,
    "start_time": "2022-04-20T18:25:47.990Z"
   },
   {
    "duration": 22,
    "start_time": "2022-04-20T18:25:49.933Z"
   },
   {
    "duration": 56,
    "start_time": "2022-04-20T18:29:16.172Z"
   },
   {
    "duration": 25,
    "start_time": "2022-04-20T18:29:20.004Z"
   },
   {
    "duration": 124,
    "start_time": "2022-04-20T18:29:53.700Z"
   },
   {
    "duration": 22,
    "start_time": "2022-04-20T18:29:53.924Z"
   },
   {
    "duration": 22,
    "start_time": "2022-04-20T18:30:15.748Z"
   },
   {
    "duration": 20,
    "start_time": "2022-04-20T18:30:15.948Z"
   },
   {
    "duration": 25,
    "start_time": "2022-04-20T18:30:19.677Z"
   },
   {
    "duration": 20,
    "start_time": "2022-04-20T18:30:25.059Z"
   },
   {
    "duration": 22,
    "start_time": "2022-04-20T18:30:31.315Z"
   },
   {
    "duration": 19,
    "start_time": "2022-04-20T18:30:32.227Z"
   },
   {
    "duration": 15,
    "start_time": "2022-04-20T18:30:37.971Z"
   },
   {
    "duration": 17,
    "start_time": "2022-04-20T18:30:38.323Z"
   },
   {
    "duration": 7,
    "start_time": "2022-04-20T18:31:16.755Z"
   },
   {
    "duration": 18,
    "start_time": "2022-04-20T18:31:19.091Z"
   },
   {
    "duration": 8,
    "start_time": "2022-04-20T18:31:23.115Z"
   },
   {
    "duration": 17,
    "start_time": "2022-04-20T18:31:23.243Z"
   },
   {
    "duration": 11,
    "start_time": "2022-04-20T18:32:19.707Z"
   },
   {
    "duration": 34,
    "start_time": "2022-04-20T18:32:21.756Z"
   },
   {
    "duration": 439,
    "start_time": "2022-04-20T18:32:28.107Z"
   },
   {
    "duration": 23,
    "start_time": "2022-04-20T18:33:08.003Z"
   },
   {
    "duration": 222,
    "start_time": "2022-04-20T18:34:33.691Z"
   },
   {
    "duration": 169,
    "start_time": "2022-04-20T18:34:37.227Z"
   },
   {
    "duration": 174,
    "start_time": "2022-04-20T18:34:48.549Z"
   },
   {
    "duration": 107,
    "start_time": "2022-04-20T18:35:05.186Z"
   },
   {
    "duration": 8,
    "start_time": "2022-04-20T18:35:08.426Z"
   },
   {
    "duration": 6,
    "start_time": "2022-04-20T18:40:21.173Z"
   },
   {
    "duration": 7,
    "start_time": "2022-04-20T18:40:25.937Z"
   },
   {
    "duration": 1592,
    "start_time": "2022-04-23T07:56:11.499Z"
   },
   {
    "duration": 798,
    "start_time": "2022-04-23T07:56:13.093Z"
   },
   {
    "duration": 32,
    "start_time": "2022-04-23T07:56:13.893Z"
   },
   {
    "duration": 60,
    "start_time": "2022-04-23T07:56:13.928Z"
   },
   {
    "duration": 23,
    "start_time": "2022-04-23T07:56:13.989Z"
   },
   {
    "duration": 8,
    "start_time": "2022-04-23T07:56:14.014Z"
   },
   {
    "duration": 252,
    "start_time": "2022-04-23T07:56:14.024Z"
   },
   {
    "duration": 7,
    "start_time": "2022-04-23T07:56:14.278Z"
   },
   {
    "duration": 6,
    "start_time": "2022-04-23T07:56:14.287Z"
   },
   {
    "duration": 8,
    "start_time": "2022-04-23T07:56:14.295Z"
   },
   {
    "duration": 54,
    "start_time": "2022-04-23T07:56:14.304Z"
   },
   {
    "duration": 29,
    "start_time": "2022-04-23T07:56:14.360Z"
   },
   {
    "duration": 14,
    "start_time": "2022-04-23T07:56:14.391Z"
   },
   {
    "duration": 241,
    "start_time": "2022-04-23T07:56:14.407Z"
   },
   {
    "duration": 5,
    "start_time": "2022-04-23T07:56:14.650Z"
   },
   {
    "duration": 266,
    "start_time": "2022-04-23T07:56:14.657Z"
   },
   {
    "duration": 250,
    "start_time": "2022-04-23T07:56:14.925Z"
   },
   {
    "duration": 325,
    "start_time": "2022-04-23T07:56:15.177Z"
   },
   {
    "duration": 206,
    "start_time": "2022-04-23T07:56:15.504Z"
   },
   {
    "duration": 163,
    "start_time": "2022-04-23T07:56:15.711Z"
   },
   {
    "duration": 184,
    "start_time": "2022-04-23T07:56:15.876Z"
   },
   {
    "duration": 182,
    "start_time": "2022-04-23T07:56:16.062Z"
   },
   {
    "duration": 270,
    "start_time": "2022-04-23T07:56:16.247Z"
   },
   {
    "duration": 258,
    "start_time": "2022-04-23T07:56:16.519Z"
   },
   {
    "duration": 338,
    "start_time": "2022-04-23T07:56:16.779Z"
   },
   {
    "duration": 3,
    "start_time": "2022-04-23T07:56:17.119Z"
   },
   {
    "duration": 32,
    "start_time": "2022-04-23T07:56:17.124Z"
   },
   {
    "duration": 20,
    "start_time": "2022-04-23T07:56:17.160Z"
   },
   {
    "duration": 3250,
    "start_time": "2022-04-23T07:56:17.183Z"
   },
   {
    "duration": 188,
    "start_time": "2022-04-23T07:58:58.279Z"
   },
   {
    "duration": 202,
    "start_time": "2022-04-23T07:59:13.534Z"
   },
   {
    "duration": 174,
    "start_time": "2022-04-23T07:59:26.975Z"
   },
   {
    "duration": 110,
    "start_time": "2022-04-23T08:01:29.445Z"
   },
   {
    "duration": 12,
    "start_time": "2022-04-23T08:01:30.028Z"
   },
   {
    "duration": 24,
    "start_time": "2022-04-23T08:01:55.221Z"
   },
   {
    "duration": 10,
    "start_time": "2022-04-23T08:01:55.805Z"
   },
   {
    "duration": 132,
    "start_time": "2022-04-23T08:03:33.052Z"
   },
   {
    "duration": 10,
    "start_time": "2022-04-23T08:03:33.668Z"
   },
   {
    "duration": 5,
    "start_time": "2022-04-23T08:03:58.980Z"
   },
   {
    "duration": 105,
    "start_time": "2022-04-23T08:04:04.667Z"
   },
   {
    "duration": 3,
    "start_time": "2022-04-23T08:04:16.623Z"
   },
   {
    "duration": 755,
    "start_time": "2022-04-23T08:04:16.628Z"
   },
   {
    "duration": 28,
    "start_time": "2022-04-23T08:04:17.385Z"
   },
   {
    "duration": 45,
    "start_time": "2022-04-23T08:04:17.414Z"
   },
   {
    "duration": 19,
    "start_time": "2022-04-23T08:04:17.460Z"
   },
   {
    "duration": 5,
    "start_time": "2022-04-23T08:04:17.481Z"
   },
   {
    "duration": 211,
    "start_time": "2022-04-23T08:04:17.488Z"
   },
   {
    "duration": 7,
    "start_time": "2022-04-23T08:04:17.701Z"
   },
   {
    "duration": 6,
    "start_time": "2022-04-23T08:04:17.711Z"
   },
   {
    "duration": 5,
    "start_time": "2022-04-23T08:04:17.719Z"
   },
   {
    "duration": 28,
    "start_time": "2022-04-23T08:04:17.747Z"
   },
   {
    "duration": 25,
    "start_time": "2022-04-23T08:04:17.776Z"
   },
   {
    "duration": 14,
    "start_time": "2022-04-23T08:04:17.802Z"
   },
   {
    "duration": 242,
    "start_time": "2022-04-23T08:04:17.817Z"
   },
   {
    "duration": 5,
    "start_time": "2022-04-23T08:04:18.061Z"
   },
   {
    "duration": 234,
    "start_time": "2022-04-23T08:04:18.068Z"
   },
   {
    "duration": 238,
    "start_time": "2022-04-23T08:04:18.303Z"
   },
   {
    "duration": 239,
    "start_time": "2022-04-23T08:04:18.546Z"
   },
   {
    "duration": 198,
    "start_time": "2022-04-23T08:04:18.787Z"
   },
   {
    "duration": 150,
    "start_time": "2022-04-23T08:04:18.987Z"
   },
   {
    "duration": 169,
    "start_time": "2022-04-23T08:04:19.139Z"
   },
   {
    "duration": 173,
    "start_time": "2022-04-23T08:04:19.309Z"
   },
   {
    "duration": 215,
    "start_time": "2022-04-23T08:04:19.484Z"
   },
   {
    "duration": 196,
    "start_time": "2022-04-23T08:04:19.702Z"
   },
   {
    "duration": 194,
    "start_time": "2022-04-23T08:04:19.900Z"
   },
   {
    "duration": 133,
    "start_time": "2022-04-23T08:04:20.095Z"
   },
   {
    "duration": 23,
    "start_time": "2022-04-23T08:04:20.229Z"
   },
   {
    "duration": 10,
    "start_time": "2022-04-23T08:04:22.387Z"
   },
   {
    "duration": 12,
    "start_time": "2022-04-23T08:04:23.915Z"
   },
   {
    "duration": 481,
    "start_time": "2022-04-23T08:04:38.227Z"
   },
   {
    "duration": 374,
    "start_time": "2022-04-23T08:04:53.548Z"
   },
   {
    "duration": 393,
    "start_time": "2022-04-23T08:04:59.908Z"
   },
   {
    "duration": 396,
    "start_time": "2022-04-23T08:05:07.995Z"
   },
   {
    "duration": 545,
    "start_time": "2022-04-23T08:05:13.611Z"
   },
   {
    "duration": 426,
    "start_time": "2022-04-23T08:05:39.187Z"
   },
   {
    "duration": 530,
    "start_time": "2022-04-23T08:05:41.195Z"
   },
   {
    "duration": 232,
    "start_time": "2022-04-23T08:07:01.988Z"
   },
   {
    "duration": 393,
    "start_time": "2022-04-23T08:07:11.988Z"
   },
   {
    "duration": 6,
    "start_time": "2022-04-23T08:08:22.123Z"
   },
   {
    "duration": 18,
    "start_time": "2022-04-23T08:08:25.075Z"
   },
   {
    "duration": 393,
    "start_time": "2022-04-23T08:08:31.732Z"
   },
   {
    "duration": 394,
    "start_time": "2022-04-23T08:09:09.411Z"
   },
   {
    "duration": 383,
    "start_time": "2022-04-23T08:09:33.266Z"
   },
   {
    "duration": 385,
    "start_time": "2022-04-23T08:10:23.371Z"
   },
   {
    "duration": 392,
    "start_time": "2022-04-23T08:10:29.018Z"
   },
   {
    "duration": 385,
    "start_time": "2022-04-23T08:10:38.849Z"
   },
   {
    "duration": 541,
    "start_time": "2022-04-23T08:11:04.579Z"
   },
   {
    "duration": 16,
    "start_time": "2022-04-23T08:11:14.608Z"
   },
   {
    "duration": 383,
    "start_time": "2022-04-23T08:12:28.826Z"
   },
   {
    "duration": 163,
    "start_time": "2022-04-23T08:12:59.561Z"
   },
   {
    "duration": 385,
    "start_time": "2022-04-23T08:14:02.049Z"
   },
   {
    "duration": 371,
    "start_time": "2022-04-23T08:14:26.936Z"
   },
   {
    "duration": 15,
    "start_time": "2022-04-23T08:15:36.247Z"
   },
   {
    "duration": 3,
    "start_time": "2022-04-23T08:15:49.122Z"
   },
   {
    "duration": 650,
    "start_time": "2022-04-23T08:15:49.128Z"
   },
   {
    "duration": 30,
    "start_time": "2022-04-23T08:15:49.780Z"
   },
   {
    "duration": 59,
    "start_time": "2022-04-23T08:15:49.812Z"
   },
   {
    "duration": 18,
    "start_time": "2022-04-23T08:15:49.873Z"
   },
   {
    "duration": 6,
    "start_time": "2022-04-23T08:15:49.893Z"
   },
   {
    "duration": 220,
    "start_time": "2022-04-23T08:15:49.900Z"
   },
   {
    "duration": 9,
    "start_time": "2022-04-23T08:15:50.122Z"
   },
   {
    "duration": 21,
    "start_time": "2022-04-23T08:15:50.133Z"
   },
   {
    "duration": 6,
    "start_time": "2022-04-23T08:15:50.158Z"
   },
   {
    "duration": 28,
    "start_time": "2022-04-23T08:15:50.166Z"
   },
   {
    "duration": 55,
    "start_time": "2022-04-23T08:15:50.196Z"
   },
   {
    "duration": 15,
    "start_time": "2022-04-23T08:15:50.252Z"
   },
   {
    "duration": 228,
    "start_time": "2022-04-23T08:15:50.268Z"
   },
   {
    "duration": 6,
    "start_time": "2022-04-23T08:15:50.497Z"
   },
   {
    "duration": 323,
    "start_time": "2022-04-23T08:15:50.504Z"
   },
   {
    "duration": 360,
    "start_time": "2022-04-23T08:15:50.829Z"
   },
   {
    "duration": 364,
    "start_time": "2022-04-23T08:15:51.190Z"
   },
   {
    "duration": 208,
    "start_time": "2022-04-23T08:15:51.556Z"
   },
   {
    "duration": 160,
    "start_time": "2022-04-23T08:15:51.765Z"
   },
   {
    "duration": 160,
    "start_time": "2022-04-23T08:15:51.927Z"
   },
   {
    "duration": 173,
    "start_time": "2022-04-23T08:15:52.089Z"
   },
   {
    "duration": 212,
    "start_time": "2022-04-23T08:15:52.264Z"
   },
   {
    "duration": 196,
    "start_time": "2022-04-23T08:15:52.477Z"
   },
   {
    "duration": 200,
    "start_time": "2022-04-23T08:15:52.675Z"
   },
   {
    "duration": 147,
    "start_time": "2022-04-23T08:15:52.877Z"
   },
   {
    "duration": 25,
    "start_time": "2022-04-23T08:15:53.026Z"
   },
   {
    "duration": 10,
    "start_time": "2022-04-23T08:15:53.056Z"
   },
   {
    "duration": 687,
    "start_time": "2022-04-23T08:15:53.068Z"
   },
   {
    "duration": 405,
    "start_time": "2022-04-23T08:15:53.757Z"
   },
   {
    "duration": 180,
    "start_time": "2022-04-23T08:15:54.164Z"
   },
   {
    "duration": 165,
    "start_time": "2022-04-23T08:15:58.215Z"
   },
   {
    "duration": 36,
    "start_time": "2022-04-23T08:15:58.448Z"
   },
   {
    "duration": 4060,
    "start_time": "2022-04-23T08:16:10.776Z"
   },
   {
    "duration": 17,
    "start_time": "2022-04-23T08:17:30.239Z"
   },
   {
    "duration": 110,
    "start_time": "2022-04-23T08:17:48.671Z"
   },
   {
    "duration": 5,
    "start_time": "2022-04-23T08:20:01.198Z"
   },
   {
    "duration": 166,
    "start_time": "2022-04-23T08:20:12.781Z"
   },
   {
    "duration": 119,
    "start_time": "2022-04-23T08:20:20.277Z"
   },
   {
    "duration": 109,
    "start_time": "2022-04-23T08:20:29.917Z"
   },
   {
    "duration": 3,
    "start_time": "2022-04-23T08:20:33.561Z"
   },
   {
    "duration": 669,
    "start_time": "2022-04-23T08:20:33.567Z"
   },
   {
    "duration": 29,
    "start_time": "2022-04-23T08:20:34.247Z"
   },
   {
    "duration": 32,
    "start_time": "2022-04-23T08:20:34.278Z"
   },
   {
    "duration": 37,
    "start_time": "2022-04-23T08:20:34.312Z"
   },
   {
    "duration": 3,
    "start_time": "2022-04-23T08:20:34.350Z"
   },
   {
    "duration": 206,
    "start_time": "2022-04-23T08:20:34.355Z"
   },
   {
    "duration": 8,
    "start_time": "2022-04-23T08:20:34.563Z"
   },
   {
    "duration": 7,
    "start_time": "2022-04-23T08:20:34.574Z"
   },
   {
    "duration": 7,
    "start_time": "2022-04-23T08:20:34.583Z"
   },
   {
    "duration": 29,
    "start_time": "2022-04-23T08:20:34.592Z"
   },
   {
    "duration": 49,
    "start_time": "2022-04-23T08:20:34.622Z"
   },
   {
    "duration": 14,
    "start_time": "2022-04-23T08:20:34.673Z"
   },
   {
    "duration": 239,
    "start_time": "2022-04-23T08:20:34.688Z"
   },
   {
    "duration": 6,
    "start_time": "2022-04-23T08:20:34.929Z"
   },
   {
    "duration": 242,
    "start_time": "2022-04-23T08:20:34.947Z"
   },
   {
    "duration": 242,
    "start_time": "2022-04-23T08:20:35.190Z"
   },
   {
    "duration": 256,
    "start_time": "2022-04-23T08:20:35.433Z"
   },
   {
    "duration": 442,
    "start_time": "2022-04-23T08:20:35.691Z"
   },
   {
    "duration": 243,
    "start_time": "2022-04-23T08:20:36.136Z"
   },
   {
    "duration": 166,
    "start_time": "2022-04-23T08:20:36.381Z"
   },
   {
    "duration": 178,
    "start_time": "2022-04-23T08:20:36.549Z"
   },
   {
    "duration": 218,
    "start_time": "2022-04-23T08:20:36.729Z"
   },
   {
    "duration": 201,
    "start_time": "2022-04-23T08:20:36.951Z"
   },
   {
    "duration": 195,
    "start_time": "2022-04-23T08:20:37.154Z"
   },
   {
    "duration": 145,
    "start_time": "2022-04-23T08:20:37.351Z"
   },
   {
    "duration": 12,
    "start_time": "2022-04-23T08:20:37.498Z"
   },
   {
    "duration": 10,
    "start_time": "2022-04-23T08:20:37.512Z"
   },
   {
    "duration": 419,
    "start_time": "2022-04-23T08:20:37.524Z"
   },
   {
    "duration": 375,
    "start_time": "2022-04-23T08:20:37.947Z"
   },
   {
    "duration": 173,
    "start_time": "2022-04-23T08:20:38.324Z"
   },
   {
    "duration": 35,
    "start_time": "2022-04-23T08:20:38.498Z"
   },
   {
    "duration": 2915,
    "start_time": "2022-04-23T08:20:38.535Z"
   },
   {
    "duration": 17,
    "start_time": "2022-04-23T08:20:41.452Z"
   },
   {
    "duration": 107,
    "start_time": "2022-04-23T08:20:43.933Z"
   },
   {
    "duration": 244,
    "start_time": "2022-04-23T08:21:19.076Z"
   },
   {
    "duration": 4618,
    "start_time": "2022-04-23T08:21:25.509Z"
   },
   {
    "duration": 113,
    "start_time": "2022-04-23T08:22:43.324Z"
   },
   {
    "duration": 9,
    "start_time": "2022-04-23T08:23:01.660Z"
   },
   {
    "duration": 8,
    "start_time": "2022-04-23T08:23:58.677Z"
   },
   {
    "duration": 2886,
    "start_time": "2022-04-23T08:24:06.924Z"
   },
   {
    "duration": 2938,
    "start_time": "2022-04-23T08:26:03.892Z"
   },
   {
    "duration": 3122,
    "start_time": "2022-04-23T08:27:20.435Z"
   },
   {
    "duration": 3101,
    "start_time": "2022-04-23T08:28:29.579Z"
   },
   {
    "duration": 14,
    "start_time": "2022-04-23T08:28:43.530Z"
   },
   {
    "duration": 2370,
    "start_time": "2022-04-23T08:29:08.026Z"
   },
   {
    "duration": 3369,
    "start_time": "2022-04-23T08:29:15.810Z"
   },
   {
    "duration": 126,
    "start_time": "2022-04-23T08:29:31.811Z"
   },
   {
    "duration": 2373,
    "start_time": "2022-04-23T08:29:34.922Z"
   },
   {
    "duration": 2360,
    "start_time": "2022-04-23T08:29:52.090Z"
   },
   {
    "duration": 3,
    "start_time": "2022-04-23T08:30:27.493Z"
   },
   {
    "duration": 683,
    "start_time": "2022-04-23T08:30:27.497Z"
   },
   {
    "duration": 29,
    "start_time": "2022-04-23T08:30:28.182Z"
   },
   {
    "duration": 57,
    "start_time": "2022-04-23T08:30:28.213Z"
   },
   {
    "duration": 17,
    "start_time": "2022-04-23T08:30:28.272Z"
   },
   {
    "duration": 9,
    "start_time": "2022-04-23T08:30:28.291Z"
   },
   {
    "duration": 218,
    "start_time": "2022-04-23T08:30:28.301Z"
   },
   {
    "duration": 8,
    "start_time": "2022-04-23T08:30:28.520Z"
   },
   {
    "duration": 19,
    "start_time": "2022-04-23T08:30:28.530Z"
   },
   {
    "duration": 5,
    "start_time": "2022-04-23T08:30:28.551Z"
   },
   {
    "duration": 27,
    "start_time": "2022-04-23T08:30:28.558Z"
   },
   {
    "duration": 25,
    "start_time": "2022-04-23T08:30:28.587Z"
   },
   {
    "duration": 40,
    "start_time": "2022-04-23T08:30:28.613Z"
   },
   {
    "duration": 234,
    "start_time": "2022-04-23T08:30:28.655Z"
   },
   {
    "duration": 6,
    "start_time": "2022-04-23T08:30:28.891Z"
   },
   {
    "duration": 251,
    "start_time": "2022-04-23T08:30:28.898Z"
   },
   {
    "duration": 245,
    "start_time": "2022-04-23T08:30:29.151Z"
   },
   {
    "duration": 254,
    "start_time": "2022-04-23T08:30:29.397Z"
   },
   {
    "duration": 205,
    "start_time": "2022-04-23T08:30:29.652Z"
   },
   {
    "duration": 164,
    "start_time": "2022-04-23T08:30:29.859Z"
   },
   {
    "duration": 169,
    "start_time": "2022-04-23T08:30:30.025Z"
   },
   {
    "duration": 257,
    "start_time": "2022-04-23T08:30:30.198Z"
   },
   {
    "duration": 900,
    "start_time": "2022-04-23T08:30:30.457Z"
   },
   {
    "duration": 303,
    "start_time": "2022-04-23T08:30:31.362Z"
   },
   {
    "duration": 298,
    "start_time": "2022-04-23T08:30:31.667Z"
   },
   {
    "duration": 147,
    "start_time": "2022-04-23T08:30:31.967Z"
   },
   {
    "duration": 9,
    "start_time": "2022-04-23T08:30:32.116Z"
   },
   {
    "duration": 28,
    "start_time": "2022-04-23T08:30:32.126Z"
   },
   {
    "duration": 404,
    "start_time": "2022-04-23T08:30:32.156Z"
   },
   {
    "duration": 380,
    "start_time": "2022-04-23T08:30:32.561Z"
   },
   {
    "duration": 175,
    "start_time": "2022-04-23T08:30:32.942Z"
   },
   {
    "duration": 2,
    "start_time": "2022-04-23T08:30:33.118Z"
   },
   {
    "duration": 11,
    "start_time": "2022-04-23T08:30:33.121Z"
   },
   {
    "duration": 295,
    "start_time": "2022-04-23T08:30:33.148Z"
   },
   {
    "duration": 16,
    "start_time": "2022-04-23T08:31:20.801Z"
   },
   {
    "duration": 2475,
    "start_time": "2022-04-23T08:31:22.977Z"
   },
   {
    "duration": 154,
    "start_time": "2022-04-23T08:32:00.777Z"
   },
   {
    "duration": 8,
    "start_time": "2022-04-23T08:32:35.105Z"
   },
   {
    "duration": 111,
    "start_time": "2022-04-23T08:32:39.521Z"
   },
   {
    "duration": 3003,
    "start_time": "2022-04-23T08:32:48.993Z"
   },
   {
    "duration": 12,
    "start_time": "2022-04-23T08:33:21.633Z"
   },
   {
    "duration": 83,
    "start_time": "2022-04-23T08:33:21.960Z"
   },
   {
    "duration": 81,
    "start_time": "2022-04-23T08:33:27.864Z"
   },
   {
    "duration": 2556,
    "start_time": "2022-04-23T08:33:29.880Z"
   },
   {
    "duration": 12,
    "start_time": "2022-04-23T08:33:41.984Z"
   },
   {
    "duration": 3,
    "start_time": "2022-04-23T08:33:48.728Z"
   },
   {
    "duration": 83,
    "start_time": "2022-04-23T08:33:48.960Z"
   },
   {
    "duration": 84,
    "start_time": "2022-04-23T08:33:54.768Z"
   },
   {
    "duration": 3,
    "start_time": "2022-04-23T08:33:58.804Z"
   },
   {
    "duration": 630,
    "start_time": "2022-04-23T08:33:58.809Z"
   },
   {
    "duration": 28,
    "start_time": "2022-04-23T08:33:59.447Z"
   },
   {
    "duration": 34,
    "start_time": "2022-04-23T08:33:59.477Z"
   },
   {
    "duration": 48,
    "start_time": "2022-04-23T08:33:59.513Z"
   },
   {
    "duration": 4,
    "start_time": "2022-04-23T08:33:59.563Z"
   },
   {
    "duration": 211,
    "start_time": "2022-04-23T08:33:59.569Z"
   },
   {
    "duration": 8,
    "start_time": "2022-04-23T08:33:59.782Z"
   },
   {
    "duration": 12,
    "start_time": "2022-04-23T08:33:59.792Z"
   },
   {
    "duration": 5,
    "start_time": "2022-04-23T08:33:59.806Z"
   },
   {
    "duration": 49,
    "start_time": "2022-04-23T08:33:59.813Z"
   },
   {
    "duration": 26,
    "start_time": "2022-04-23T08:33:59.864Z"
   },
   {
    "duration": 15,
    "start_time": "2022-04-23T08:33:59.892Z"
   },
   {
    "duration": 249,
    "start_time": "2022-04-23T08:33:59.909Z"
   },
   {
    "duration": 5,
    "start_time": "2022-04-23T08:34:00.159Z"
   },
   {
    "duration": 244,
    "start_time": "2022-04-23T08:34:00.166Z"
   },
   {
    "duration": 244,
    "start_time": "2022-04-23T08:34:00.412Z"
   },
   {
    "duration": 250,
    "start_time": "2022-04-23T08:34:00.658Z"
   },
   {
    "duration": 208,
    "start_time": "2022-04-23T08:34:00.909Z"
   },
   {
    "duration": 174,
    "start_time": "2022-04-23T08:34:01.119Z"
   },
   {
    "duration": 178,
    "start_time": "2022-04-23T08:34:01.295Z"
   },
   {
    "duration": 176,
    "start_time": "2022-04-23T08:34:01.475Z"
   },
   {
    "duration": 231,
    "start_time": "2022-04-23T08:34:01.653Z"
   },
   {
    "duration": 215,
    "start_time": "2022-04-23T08:34:01.888Z"
   },
   {
    "duration": 197,
    "start_time": "2022-04-23T08:34:02.104Z"
   },
   {
    "duration": 155,
    "start_time": "2022-04-23T08:34:02.302Z"
   },
   {
    "duration": 10,
    "start_time": "2022-04-23T08:34:02.458Z"
   },
   {
    "duration": 12,
    "start_time": "2022-04-23T08:34:02.470Z"
   },
   {
    "duration": 425,
    "start_time": "2022-04-23T08:34:02.484Z"
   },
   {
    "duration": 380,
    "start_time": "2022-04-23T08:34:02.910Z"
   },
   {
    "duration": 171,
    "start_time": "2022-04-23T08:34:03.291Z"
   },
   {
    "duration": 3,
    "start_time": "2022-04-23T08:34:03.463Z"
   },
   {
    "duration": 18,
    "start_time": "2022-04-23T08:34:03.467Z"
   },
   {
    "duration": 2417,
    "start_time": "2022-04-23T08:34:03.486Z"
   },
   {
    "duration": 116,
    "start_time": "2022-04-23T08:34:05.905Z"
   },
   {
    "duration": 9,
    "start_time": "2022-04-23T08:34:06.023Z"
   },
   {
    "duration": 180,
    "start_time": "2022-04-23T08:34:06.047Z"
   },
   {
    "duration": 4243,
    "start_time": "2022-04-23T08:34:06.229Z"
   },
   {
    "duration": 40,
    "start_time": "2022-04-23T08:34:10.474Z"
   },
   {
    "duration": 11,
    "start_time": "2022-04-23T08:34:43.377Z"
   },
   {
    "duration": 88,
    "start_time": "2022-04-23T08:34:43.799Z"
   },
   {
    "duration": 3214,
    "start_time": "2022-04-23T08:34:44.799Z"
   },
   {
    "duration": 112,
    "start_time": "2022-04-23T08:35:01.648Z"
   },
   {
    "duration": 84,
    "start_time": "2022-04-23T08:35:01.968Z"
   },
   {
    "duration": 5,
    "start_time": "2022-04-23T08:35:05.576Z"
   },
   {
    "duration": 91,
    "start_time": "2022-04-23T08:35:05.992Z"
   },
   {
    "duration": 3,
    "start_time": "2022-04-23T08:35:24.035Z"
   },
   {
    "duration": 639,
    "start_time": "2022-04-23T08:35:24.039Z"
   },
   {
    "duration": 30,
    "start_time": "2022-04-23T08:35:24.680Z"
   },
   {
    "duration": 53,
    "start_time": "2022-04-23T08:35:24.713Z"
   },
   {
    "duration": 17,
    "start_time": "2022-04-23T08:35:24.768Z"
   },
   {
    "duration": 4,
    "start_time": "2022-04-23T08:35:24.788Z"
   },
   {
    "duration": 236,
    "start_time": "2022-04-23T08:35:24.793Z"
   },
   {
    "duration": 7,
    "start_time": "2022-04-23T08:35:25.031Z"
   },
   {
    "duration": 12,
    "start_time": "2022-04-23T08:35:25.040Z"
   },
   {
    "duration": 7,
    "start_time": "2022-04-23T08:35:25.054Z"
   },
   {
    "duration": 28,
    "start_time": "2022-04-23T08:35:25.062Z"
   },
   {
    "duration": 25,
    "start_time": "2022-04-23T08:35:25.092Z"
   },
   {
    "duration": 15,
    "start_time": "2022-04-23T08:35:25.147Z"
   },
   {
    "duration": 227,
    "start_time": "2022-04-23T08:35:25.164Z"
   },
   {
    "duration": 7,
    "start_time": "2022-04-23T08:35:25.392Z"
   },
   {
    "duration": 243,
    "start_time": "2022-04-23T08:35:25.401Z"
   },
   {
    "duration": 234,
    "start_time": "2022-04-23T08:35:25.647Z"
   },
   {
    "duration": 247,
    "start_time": "2022-04-23T08:35:25.883Z"
   },
   {
    "duration": 203,
    "start_time": "2022-04-23T08:35:26.132Z"
   },
   {
    "duration": 156,
    "start_time": "2022-04-23T08:35:26.337Z"
   },
   {
    "duration": 166,
    "start_time": "2022-04-23T08:35:26.495Z"
   },
   {
    "duration": 172,
    "start_time": "2022-04-23T08:35:26.662Z"
   },
   {
    "duration": 202,
    "start_time": "2022-04-23T08:35:26.836Z"
   },
   {
    "duration": 190,
    "start_time": "2022-04-23T08:35:27.048Z"
   },
   {
    "duration": 193,
    "start_time": "2022-04-23T08:35:27.239Z"
   },
   {
    "duration": 131,
    "start_time": "2022-04-23T08:35:27.434Z"
   },
   {
    "duration": 10,
    "start_time": "2022-04-23T08:35:27.567Z"
   },
   {
    "duration": 11,
    "start_time": "2022-04-23T08:35:27.579Z"
   },
   {
    "duration": 424,
    "start_time": "2022-04-23T08:35:27.592Z"
   },
   {
    "duration": 373,
    "start_time": "2022-04-23T08:35:28.017Z"
   },
   {
    "duration": 164,
    "start_time": "2022-04-23T08:35:28.392Z"
   },
   {
    "duration": 2,
    "start_time": "2022-04-23T08:35:28.557Z"
   },
   {
    "duration": 306,
    "start_time": "2022-04-23T08:36:48.543Z"
   },
   {
    "duration": 806,
    "start_time": "2022-04-23T08:36:58.439Z"
   },
   {
    "duration": 355,
    "start_time": "2022-04-23T08:37:05.510Z"
   },
   {
    "duration": 309,
    "start_time": "2022-04-23T08:37:13.751Z"
   },
   {
    "duration": 3,
    "start_time": "2022-04-23T08:37:19.314Z"
   },
   {
    "duration": 719,
    "start_time": "2022-04-23T08:37:19.319Z"
   },
   {
    "duration": 32,
    "start_time": "2022-04-23T08:37:20.040Z"
   },
   {
    "duration": 32,
    "start_time": "2022-04-23T08:37:20.074Z"
   },
   {
    "duration": 45,
    "start_time": "2022-04-23T08:37:20.108Z"
   },
   {
    "duration": 5,
    "start_time": "2022-04-23T08:37:20.155Z"
   },
   {
    "duration": 207,
    "start_time": "2022-04-23T08:37:20.162Z"
   },
   {
    "duration": 8,
    "start_time": "2022-04-23T08:37:20.370Z"
   },
   {
    "duration": 7,
    "start_time": "2022-04-23T08:37:20.380Z"
   },
   {
    "duration": 8,
    "start_time": "2022-04-23T08:37:20.389Z"
   },
   {
    "duration": 56,
    "start_time": "2022-04-23T08:37:20.398Z"
   },
   {
    "duration": 24,
    "start_time": "2022-04-23T08:37:20.455Z"
   },
   {
    "duration": 15,
    "start_time": "2022-04-23T08:37:20.480Z"
   },
   {
    "duration": 251,
    "start_time": "2022-04-23T08:37:20.496Z"
   },
   {
    "duration": 6,
    "start_time": "2022-04-23T08:37:20.749Z"
   },
   {
    "duration": 241,
    "start_time": "2022-04-23T08:37:20.756Z"
   },
   {
    "duration": 242,
    "start_time": "2022-04-23T08:37:20.999Z"
   },
   {
    "duration": 377,
    "start_time": "2022-04-23T08:37:21.247Z"
   },
   {
    "duration": 208,
    "start_time": "2022-04-23T08:37:21.626Z"
   },
   {
    "duration": 161,
    "start_time": "2022-04-23T08:37:21.836Z"
   },
   {
    "duration": 167,
    "start_time": "2022-04-23T08:37:21.999Z"
   },
   {
    "duration": 180,
    "start_time": "2022-04-23T08:37:22.168Z"
   },
   {
    "duration": 212,
    "start_time": "2022-04-23T08:37:22.350Z"
   },
   {
    "duration": 195,
    "start_time": "2022-04-23T08:37:22.564Z"
   },
   {
    "duration": 198,
    "start_time": "2022-04-23T08:37:22.760Z"
   },
   {
    "duration": 136,
    "start_time": "2022-04-23T08:37:22.960Z"
   },
   {
    "duration": 11,
    "start_time": "2022-04-23T08:37:23.098Z"
   },
   {
    "duration": 11,
    "start_time": "2022-04-23T08:37:23.111Z"
   },
   {
    "duration": 320,
    "start_time": "2022-04-23T08:37:23.124Z"
   },
   {
    "duration": 305,
    "start_time": "2022-04-23T08:37:23.446Z"
   },
   {
    "duration": 18,
    "start_time": "2022-04-23T08:37:40.878Z"
   },
   {
    "duration": 30,
    "start_time": "2022-04-23T08:37:49.158Z"
   },
   {
    "duration": 287,
    "start_time": "2022-04-23T08:39:19.054Z"
   },
   {
    "duration": 16,
    "start_time": "2022-04-23T08:39:38.070Z"
   },
   {
    "duration": 1759,
    "start_time": "2022-04-23T08:39:45.149Z"
   },
   {
    "duration": 119,
    "start_time": "2022-04-23T08:39:48.103Z"
   },
   {
    "duration": 140,
    "start_time": "2022-04-23T08:40:01.341Z"
   },
   {
    "duration": 147,
    "start_time": "2022-04-23T08:40:04.973Z"
   },
   {
    "duration": 2002,
    "start_time": "2022-04-23T08:40:26.590Z"
   },
   {
    "duration": 12,
    "start_time": "2022-04-23T08:40:38.045Z"
   },
   {
    "duration": 98,
    "start_time": "2022-04-23T08:40:43.142Z"
   },
   {
    "duration": 152,
    "start_time": "2022-04-23T08:40:45.181Z"
   },
   {
    "duration": 155,
    "start_time": "2022-04-23T08:41:05.949Z"
   },
   {
    "duration": 136,
    "start_time": "2022-04-23T08:41:12.381Z"
   },
   {
    "duration": 190,
    "start_time": "2022-04-23T08:41:15.462Z"
   },
   {
    "duration": 195,
    "start_time": "2022-04-23T08:41:26.853Z"
   },
   {
    "duration": 133,
    "start_time": "2022-04-23T08:41:34.573Z"
   },
   {
    "duration": 125,
    "start_time": "2022-04-23T08:41:39.669Z"
   },
   {
    "duration": 126,
    "start_time": "2022-04-23T08:41:44.277Z"
   },
   {
    "duration": 133,
    "start_time": "2022-04-23T08:41:53.950Z"
   },
   {
    "duration": 162,
    "start_time": "2022-04-23T08:42:34.581Z"
   },
   {
    "duration": 281,
    "start_time": "2022-04-23T08:42:57.909Z"
   },
   {
    "duration": 307,
    "start_time": "2022-04-23T08:43:05.540Z"
   },
   {
    "duration": 295,
    "start_time": "2022-04-23T08:43:24.652Z"
   },
   {
    "duration": 11,
    "start_time": "2022-04-23T08:43:33.380Z"
   },
   {
    "duration": 153,
    "start_time": "2022-04-23T08:43:56.845Z"
   },
   {
    "duration": 224,
    "start_time": "2022-04-23T08:44:12.940Z"
   },
   {
    "duration": 12,
    "start_time": "2022-04-23T08:44:23.588Z"
   },
   {
    "duration": 13,
    "start_time": "2022-04-23T08:44:34.036Z"
   },
   {
    "duration": 731,
    "start_time": "2022-04-23T08:44:43.708Z"
   },
   {
    "duration": 11,
    "start_time": "2022-04-23T08:44:52.212Z"
   },
   {
    "duration": 470,
    "start_time": "2022-04-23T08:45:03.020Z"
   },
   {
    "duration": 16,
    "start_time": "2022-04-23T08:45:03.492Z"
   },
   {
    "duration": 14,
    "start_time": "2022-04-23T08:45:34.235Z"
   },
   {
    "duration": 14,
    "start_time": "2022-04-23T08:46:06.235Z"
   },
   {
    "duration": 125,
    "start_time": "2022-04-23T08:46:10.356Z"
   },
   {
    "duration": 13,
    "start_time": "2022-04-23T08:46:12.923Z"
   },
   {
    "duration": 14,
    "start_time": "2022-04-23T08:46:16.947Z"
   },
   {
    "duration": 13,
    "start_time": "2022-04-23T08:46:18.667Z"
   },
   {
    "duration": 4,
    "start_time": "2022-04-23T08:46:22.518Z"
   },
   {
    "duration": 663,
    "start_time": "2022-04-23T08:46:22.524Z"
   },
   {
    "duration": 30,
    "start_time": "2022-04-23T08:46:23.189Z"
   },
   {
    "duration": 67,
    "start_time": "2022-04-23T08:46:23.222Z"
   },
   {
    "duration": 18,
    "start_time": "2022-04-23T08:46:23.291Z"
   },
   {
    "duration": 4,
    "start_time": "2022-04-23T08:46:23.311Z"
   },
   {
    "duration": 224,
    "start_time": "2022-04-23T08:46:23.317Z"
   },
   {
    "duration": 10,
    "start_time": "2022-04-23T08:46:23.542Z"
   },
   {
    "duration": 8,
    "start_time": "2022-04-23T08:46:23.554Z"
   },
   {
    "duration": 6,
    "start_time": "2022-04-23T08:46:23.564Z"
   },
   {
    "duration": 29,
    "start_time": "2022-04-23T08:46:23.571Z"
   },
   {
    "duration": 55,
    "start_time": "2022-04-23T08:46:23.601Z"
   },
   {
    "duration": 15,
    "start_time": "2022-04-23T08:46:23.657Z"
   },
   {
    "duration": 245,
    "start_time": "2022-04-23T08:46:23.674Z"
   },
   {
    "duration": 6,
    "start_time": "2022-04-23T08:46:23.921Z"
   },
   {
    "duration": 268,
    "start_time": "2022-04-23T08:46:23.930Z"
   },
   {
    "duration": 266,
    "start_time": "2022-04-23T08:46:24.200Z"
   },
   {
    "duration": 398,
    "start_time": "2022-04-23T08:46:24.468Z"
   },
   {
    "duration": 309,
    "start_time": "2022-04-23T08:46:24.868Z"
   },
   {
    "duration": 174,
    "start_time": "2022-04-23T08:46:25.179Z"
   },
   {
    "duration": 158,
    "start_time": "2022-04-23T08:46:25.354Z"
   },
   {
    "duration": 175,
    "start_time": "2022-04-23T08:46:25.513Z"
   },
   {
    "duration": 317,
    "start_time": "2022-04-23T08:46:25.690Z"
   },
   {
    "duration": 10,
    "start_time": "2022-04-23T08:47:00.795Z"
   },
   {
    "duration": 7,
    "start_time": "2022-04-23T08:48:08.203Z"
   },
   {
    "duration": 11,
    "start_time": "2022-04-23T08:48:27.611Z"
   },
   {
    "duration": 10,
    "start_time": "2022-04-23T08:48:32.187Z"
   },
   {
    "duration": 3,
    "start_time": "2022-04-23T08:48:43.291Z"
   },
   {
    "duration": 681,
    "start_time": "2022-04-23T08:48:43.296Z"
   },
   {
    "duration": 32,
    "start_time": "2022-04-23T08:48:43.979Z"
   },
   {
    "duration": 54,
    "start_time": "2022-04-23T08:48:44.013Z"
   },
   {
    "duration": 18,
    "start_time": "2022-04-23T08:48:44.069Z"
   },
   {
    "duration": 4,
    "start_time": "2022-04-23T08:48:44.089Z"
   },
   {
    "duration": 342,
    "start_time": "2022-04-23T08:48:44.095Z"
   },
   {
    "duration": 14,
    "start_time": "2022-04-23T08:48:44.440Z"
   },
   {
    "duration": 8,
    "start_time": "2022-04-23T08:48:44.457Z"
   },
   {
    "duration": 7,
    "start_time": "2022-04-23T08:48:44.467Z"
   },
   {
    "duration": 41,
    "start_time": "2022-04-23T08:48:44.476Z"
   },
   {
    "duration": 49,
    "start_time": "2022-04-23T08:48:44.519Z"
   },
   {
    "duration": 16,
    "start_time": "2022-04-23T08:48:44.570Z"
   },
   {
    "duration": 244,
    "start_time": "2022-04-23T08:48:44.588Z"
   },
   {
    "duration": 5,
    "start_time": "2022-04-23T08:48:44.834Z"
   },
   {
    "duration": 370,
    "start_time": "2022-04-23T08:48:44.848Z"
   },
   {
    "duration": 273,
    "start_time": "2022-04-23T08:48:45.220Z"
   },
   {
    "duration": 255,
    "start_time": "2022-04-23T08:48:45.495Z"
   },
   {
    "duration": 208,
    "start_time": "2022-04-23T08:48:45.752Z"
   },
   {
    "duration": 167,
    "start_time": "2022-04-23T08:48:45.962Z"
   },
   {
    "duration": 164,
    "start_time": "2022-04-23T08:48:46.130Z"
   },
   {
    "duration": 180,
    "start_time": "2022-04-23T08:48:46.296Z"
   },
   {
    "duration": 322,
    "start_time": "2022-04-23T08:48:46.478Z"
   },
   {
    "duration": 10,
    "start_time": "2022-04-23T08:48:46.803Z"
   },
   {
    "duration": 0,
    "start_time": "2022-04-23T08:48:46.815Z"
   },
   {
    "duration": 11,
    "start_time": "2022-04-23T08:48:53.346Z"
   },
   {
    "duration": 11,
    "start_time": "2022-04-23T08:48:58.769Z"
   },
   {
    "duration": 15,
    "start_time": "2022-04-23T08:49:04.769Z"
   },
   {
    "duration": 17,
    "start_time": "2022-04-23T08:49:08.827Z"
   },
   {
    "duration": 19,
    "start_time": "2022-04-23T08:49:11.202Z"
   },
   {
    "duration": 19,
    "start_time": "2022-04-23T08:49:14.411Z"
   },
   {
    "duration": 18,
    "start_time": "2022-04-23T08:49:17.739Z"
   },
   {
    "duration": 14,
    "start_time": "2022-04-23T08:49:21.289Z"
   },
   {
    "duration": 278,
    "start_time": "2022-04-23T08:49:58.226Z"
   },
   {
    "duration": 332,
    "start_time": "2022-04-23T08:50:17.177Z"
   },
   {
    "duration": 6,
    "start_time": "2022-04-23T08:50:49.049Z"
   },
   {
    "duration": 18,
    "start_time": "2022-04-23T08:50:55.537Z"
   },
   {
    "duration": 16,
    "start_time": "2022-04-23T08:50:57.809Z"
   },
   {
    "duration": 13,
    "start_time": "2022-04-23T08:51:11.865Z"
   },
   {
    "duration": 392,
    "start_time": "2022-04-23T08:51:17.613Z"
   },
   {
    "duration": 7,
    "start_time": "2022-04-23T08:51:54.281Z"
   },
   {
    "duration": 109,
    "start_time": "2022-04-23T08:52:48.511Z"
   },
   {
    "duration": 7,
    "start_time": "2022-04-23T08:54:18.808Z"
   },
   {
    "duration": 11,
    "start_time": "2022-04-23T08:55:10.800Z"
   },
   {
    "duration": 8,
    "start_time": "2022-04-23T08:55:11.703Z"
   },
   {
    "duration": 10,
    "start_time": "2022-04-23T08:55:36.631Z"
   },
   {
    "duration": 8,
    "start_time": "2022-04-23T08:55:37.470Z"
   },
   {
    "duration": 11,
    "start_time": "2022-04-23T08:56:03.959Z"
   },
   {
    "duration": 7,
    "start_time": "2022-04-23T08:56:04.511Z"
   },
   {
    "duration": 102,
    "start_time": "2022-04-23T08:56:15.543Z"
   },
   {
    "duration": 15,
    "start_time": "2022-04-23T08:56:19.175Z"
   },
   {
    "duration": 9,
    "start_time": "2022-04-23T08:56:28.783Z"
   },
   {
    "duration": 13,
    "start_time": "2022-04-23T08:56:31.576Z"
   },
   {
    "duration": 38,
    "start_time": "2022-04-23T08:56:37.159Z"
   },
   {
    "duration": 9,
    "start_time": "2022-04-23T08:56:37.518Z"
   },
   {
    "duration": 9,
    "start_time": "2022-04-23T08:56:44.751Z"
   },
   {
    "duration": 468,
    "start_time": "2022-04-23T08:56:54.911Z"
   },
   {
    "duration": 31,
    "start_time": "2022-04-23T08:57:17.695Z"
   },
   {
    "duration": 49,
    "start_time": "2022-04-23T08:57:22.039Z"
   },
   {
    "duration": 30,
    "start_time": "2022-04-23T08:57:24.376Z"
   },
   {
    "duration": 37,
    "start_time": "2022-04-23T08:57:45.867Z"
   },
   {
    "duration": 7,
    "start_time": "2022-04-23T08:58:01.862Z"
   },
   {
    "duration": 38,
    "start_time": "2022-04-23T08:58:04.654Z"
   },
   {
    "duration": 10,
    "start_time": "2022-04-23T08:58:51.351Z"
   },
   {
    "duration": 9,
    "start_time": "2022-04-23T08:58:57.063Z"
   },
   {
    "duration": 38,
    "start_time": "2022-04-23T08:59:01.382Z"
   },
   {
    "duration": 7,
    "start_time": "2022-04-23T08:59:22.214Z"
   },
   {
    "duration": 9,
    "start_time": "2022-04-23T08:59:28.894Z"
   },
   {
    "duration": 8,
    "start_time": "2022-04-23T08:59:32.431Z"
   },
   {
    "duration": 1865,
    "start_time": "2022-04-23T08:59:58.877Z"
   },
   {
    "duration": 24,
    "start_time": "2022-04-23T09:00:12.021Z"
   },
   {
    "duration": 16,
    "start_time": "2022-04-23T09:00:30.101Z"
   },
   {
    "duration": 19,
    "start_time": "2022-04-23T09:01:11.349Z"
   },
   {
    "duration": 26,
    "start_time": "2022-04-23T09:01:18.781Z"
   },
   {
    "duration": 9,
    "start_time": "2022-04-23T09:01:28.549Z"
   },
   {
    "duration": 36,
    "start_time": "2022-04-23T09:01:33.932Z"
   },
   {
    "duration": 9,
    "start_time": "2022-04-23T09:01:52.789Z"
   },
   {
    "duration": 38,
    "start_time": "2022-04-23T09:01:55.580Z"
   },
   {
    "duration": 11,
    "start_time": "2022-04-23T09:02:13.429Z"
   },
   {
    "duration": 28,
    "start_time": "2022-04-23T09:02:15.509Z"
   },
   {
    "duration": 7,
    "start_time": "2022-04-23T09:02:48.797Z"
   },
   {
    "duration": 4,
    "start_time": "2022-04-23T09:22:57.515Z"
   },
   {
    "duration": 3,
    "start_time": "2022-04-23T09:23:05.363Z"
   },
   {
    "duration": 3,
    "start_time": "2022-04-23T09:23:11.531Z"
   },
   {
    "duration": 107,
    "start_time": "2022-04-23T09:25:10.898Z"
   },
   {
    "duration": 3,
    "start_time": "2022-04-23T09:25:28.809Z"
   },
   {
    "duration": 49,
    "start_time": "2022-04-23T09:29:19.648Z"
   },
   {
    "duration": 27,
    "start_time": "2022-04-23T09:30:05.984Z"
   },
   {
    "duration": 16,
    "start_time": "2022-04-23T09:30:45.992Z"
   },
   {
    "duration": 17,
    "start_time": "2022-04-23T09:31:11.103Z"
   },
   {
    "duration": 28,
    "start_time": "2022-04-23T09:31:13.663Z"
   },
   {
    "duration": 15,
    "start_time": "2022-04-23T09:31:35.112Z"
   },
   {
    "duration": 10,
    "start_time": "2022-04-23T09:38:01.757Z"
   },
   {
    "duration": 7,
    "start_time": "2022-04-23T09:38:13.637Z"
   },
   {
    "duration": 10,
    "start_time": "2022-04-23T09:38:17.660Z"
   },
   {
    "duration": 35,
    "start_time": "2022-04-23T09:38:58.444Z"
   },
   {
    "duration": 101,
    "start_time": "2022-04-23T09:40:03.396Z"
   },
   {
    "duration": 27,
    "start_time": "2022-04-23T09:41:06.731Z"
   },
   {
    "duration": 5,
    "start_time": "2022-04-23T09:41:40.348Z"
   },
   {
    "duration": 14,
    "start_time": "2022-04-23T09:41:43.490Z"
   },
   {
    "duration": 17,
    "start_time": "2022-04-23T09:41:48.557Z"
   },
   {
    "duration": 4,
    "start_time": "2022-04-23T09:41:51.039Z"
   },
   {
    "duration": 627,
    "start_time": "2022-04-23T09:41:51.044Z"
   },
   {
    "duration": 27,
    "start_time": "2022-04-23T09:41:51.673Z"
   },
   {
    "duration": 56,
    "start_time": "2022-04-23T09:41:51.702Z"
   },
   {
    "duration": 17,
    "start_time": "2022-04-23T09:41:51.759Z"
   },
   {
    "duration": 4,
    "start_time": "2022-04-23T09:41:51.778Z"
   },
   {
    "duration": 221,
    "start_time": "2022-04-23T09:41:51.784Z"
   },
   {
    "duration": 7,
    "start_time": "2022-04-23T09:41:52.007Z"
   },
   {
    "duration": 6,
    "start_time": "2022-04-23T09:41:52.016Z"
   },
   {
    "duration": 28,
    "start_time": "2022-04-23T09:41:52.024Z"
   },
   {
    "duration": 26,
    "start_time": "2022-04-23T09:41:52.053Z"
   },
   {
    "duration": 24,
    "start_time": "2022-04-23T09:41:52.081Z"
   },
   {
    "duration": 13,
    "start_time": "2022-04-23T09:41:52.107Z"
   },
   {
    "duration": 221,
    "start_time": "2022-04-23T09:41:52.148Z"
   },
   {
    "duration": 7,
    "start_time": "2022-04-23T09:41:55.074Z"
   },
   {
    "duration": 23,
    "start_time": "2022-04-23T09:41:56.210Z"
   },
   {
    "duration": 35,
    "start_time": "2022-04-23T09:42:02.243Z"
   },
   {
    "duration": 40,
    "start_time": "2022-04-23T09:42:06.044Z"
   },
   {
    "duration": 112,
    "start_time": "2022-04-23T09:42:21.547Z"
   },
   {
    "duration": 14,
    "start_time": "2022-04-23T09:43:01.427Z"
   },
   {
    "duration": 4,
    "start_time": "2022-04-23T09:43:04.086Z"
   },
   {
    "duration": 665,
    "start_time": "2022-04-23T09:43:04.093Z"
   },
   {
    "duration": 31,
    "start_time": "2022-04-23T09:43:04.760Z"
   },
   {
    "duration": 56,
    "start_time": "2022-04-23T09:43:04.794Z"
   },
   {
    "duration": 19,
    "start_time": "2022-04-23T09:43:04.852Z"
   },
   {
    "duration": 5,
    "start_time": "2022-04-23T09:43:04.872Z"
   },
   {
    "duration": 220,
    "start_time": "2022-04-23T09:43:04.878Z"
   },
   {
    "duration": 8,
    "start_time": "2022-04-23T09:43:05.100Z"
   },
   {
    "duration": 7,
    "start_time": "2022-04-23T09:43:05.110Z"
   },
   {
    "duration": 30,
    "start_time": "2022-04-23T09:43:05.120Z"
   },
   {
    "duration": 32,
    "start_time": "2022-04-23T09:43:05.152Z"
   },
   {
    "duration": 24,
    "start_time": "2022-04-23T09:43:05.186Z"
   },
   {
    "duration": 36,
    "start_time": "2022-04-23T09:43:05.212Z"
   },
   {
    "duration": 235,
    "start_time": "2022-04-23T09:43:05.250Z"
   },
   {
    "duration": 16,
    "start_time": "2022-04-23T09:43:05.487Z"
   },
   {
    "duration": 6,
    "start_time": "2022-04-23T09:43:05.506Z"
   },
   {
    "duration": 435,
    "start_time": "2022-04-23T09:43:05.514Z"
   },
   {
    "duration": 526,
    "start_time": "2022-04-23T09:43:05.951Z"
   },
   {
    "duration": 575,
    "start_time": "2022-04-23T09:43:06.479Z"
   },
   {
    "duration": 215,
    "start_time": "2022-04-23T09:43:07.056Z"
   },
   {
    "duration": 158,
    "start_time": "2022-04-23T09:43:07.273Z"
   },
   {
    "duration": 158,
    "start_time": "2022-04-23T09:43:07.433Z"
   },
   {
    "duration": 185,
    "start_time": "2022-04-23T09:43:07.592Z"
   },
   {
    "duration": 800,
    "start_time": "2022-04-23T09:43:07.778Z"
   },
   {
    "duration": 512,
    "start_time": "2022-04-23T09:43:08.580Z"
   },
   {
    "duration": 601,
    "start_time": "2022-04-23T09:43:09.094Z"
   },
   {
    "duration": 15,
    "start_time": "2022-04-23T09:43:09.747Z"
   },
   {
    "duration": 7,
    "start_time": "2022-04-23T09:43:09.765Z"
   },
   {
    "duration": 11,
    "start_time": "2022-04-23T09:43:09.773Z"
   },
   {
    "duration": 3,
    "start_time": "2022-04-23T09:43:09.785Z"
   },
   {
    "duration": 58,
    "start_time": "2022-04-23T09:43:09.790Z"
   },
   {
    "duration": 9,
    "start_time": "2022-04-23T09:43:09.850Z"
   },
   {
    "duration": 292,
    "start_time": "2022-04-23T09:43:09.861Z"
   },
   {
    "duration": 313,
    "start_time": "2022-04-23T09:44:51.035Z"
   },
   {
    "duration": 263,
    "start_time": "2022-04-23T09:46:40.594Z"
   },
   {
    "duration": 228,
    "start_time": "2022-04-23T09:46:45.721Z"
   },
   {
    "duration": 306,
    "start_time": "2022-04-23T09:46:54.545Z"
   },
   {
    "duration": 4,
    "start_time": "2022-04-23T09:48:51.452Z"
   },
   {
    "duration": 662,
    "start_time": "2022-04-23T09:48:51.458Z"
   },
   {
    "duration": 37,
    "start_time": "2022-04-23T09:48:52.122Z"
   },
   {
    "duration": 35,
    "start_time": "2022-04-23T09:48:52.161Z"
   },
   {
    "duration": 51,
    "start_time": "2022-04-23T09:48:52.198Z"
   },
   {
    "duration": 4,
    "start_time": "2022-04-23T09:48:52.251Z"
   },
   {
    "duration": 344,
    "start_time": "2022-04-23T09:48:52.258Z"
   },
   {
    "duration": 11,
    "start_time": "2022-04-23T09:48:52.604Z"
   },
   {
    "duration": 9,
    "start_time": "2022-04-23T09:48:52.617Z"
   },
   {
    "duration": 8,
    "start_time": "2022-04-23T09:48:52.647Z"
   },
   {
    "duration": 45,
    "start_time": "2022-04-23T09:48:52.657Z"
   },
   {
    "duration": 50,
    "start_time": "2022-04-23T09:48:52.704Z"
   },
   {
    "duration": 22,
    "start_time": "2022-04-23T09:48:52.757Z"
   },
   {
    "duration": 348,
    "start_time": "2022-04-23T09:48:52.781Z"
   },
   {
    "duration": 8,
    "start_time": "2022-04-23T09:48:53.132Z"
   },
   {
    "duration": 421,
    "start_time": "2022-04-23T09:48:53.149Z"
   },
   {
    "duration": 417,
    "start_time": "2022-04-23T09:48:53.573Z"
   },
   {
    "duration": 455,
    "start_time": "2022-04-23T09:48:53.993Z"
   },
   {
    "duration": 346,
    "start_time": "2022-04-23T09:48:54.450Z"
   },
   {
    "duration": 199,
    "start_time": "2022-04-23T09:48:54.799Z"
   },
   {
    "duration": 168,
    "start_time": "2022-04-23T09:48:55.000Z"
   },
   {
    "duration": 187,
    "start_time": "2022-04-23T09:48:55.169Z"
   },
   {
    "duration": 422,
    "start_time": "2022-04-23T09:48:55.358Z"
   },
   {
    "duration": 347,
    "start_time": "2022-04-23T09:48:55.781Z"
   },
   {
    "duration": 319,
    "start_time": "2022-04-23T09:48:56.130Z"
   },
   {
    "duration": 15,
    "start_time": "2022-04-23T09:48:56.450Z"
   },
   {
    "duration": 6,
    "start_time": "2022-04-23T09:48:56.466Z"
   },
   {
    "duration": 12,
    "start_time": "2022-04-23T09:48:56.475Z"
   },
   {
    "duration": 3,
    "start_time": "2022-04-23T09:48:56.489Z"
   },
   {
    "duration": 7,
    "start_time": "2022-04-23T09:48:56.493Z"
   },
   {
    "duration": 10,
    "start_time": "2022-04-23T09:48:56.502Z"
   },
   {
    "duration": 101,
    "start_time": "2022-04-23T09:48:56.513Z"
   },
   {
    "duration": 0,
    "start_time": "2022-04-23T09:48:56.616Z"
   },
   {
    "duration": 41,
    "start_time": "2022-04-23T09:49:12.249Z"
   },
   {
    "duration": 10,
    "start_time": "2022-04-23T09:49:15.752Z"
   },
   {
    "duration": 26,
    "start_time": "2022-04-23T09:49:23.633Z"
   },
   {
    "duration": 13,
    "start_time": "2022-04-23T09:52:12.040Z"
   },
   {
    "duration": 26,
    "start_time": "2022-04-23T09:52:16.127Z"
   },
   {
    "duration": 29,
    "start_time": "2022-04-23T09:52:23.103Z"
   },
   {
    "duration": 62,
    "start_time": "2022-04-23T09:55:09.510Z"
   },
   {
    "duration": 54,
    "start_time": "2022-04-23T09:55:40.471Z"
   },
   {
    "duration": 68,
    "start_time": "2022-04-23T09:55:55.199Z"
   },
   {
    "duration": 60,
    "start_time": "2022-04-23T09:56:03.503Z"
   },
   {
    "duration": 36,
    "start_time": "2022-04-23T09:56:09.606Z"
   },
   {
    "duration": 41,
    "start_time": "2022-04-23T09:56:18.398Z"
   },
   {
    "duration": 496,
    "start_time": "2022-04-23T09:56:52.983Z"
   },
   {
    "duration": 43,
    "start_time": "2022-04-23T09:57:08.325Z"
   },
   {
    "duration": 481,
    "start_time": "2022-04-23T09:57:22.798Z"
   },
   {
    "duration": 10,
    "start_time": "2022-04-23T09:58:14.709Z"
   },
   {
    "duration": 15,
    "start_time": "2022-04-23T09:58:43.037Z"
   },
   {
    "duration": 467,
    "start_time": "2022-04-23T09:59:00.814Z"
   },
   {
    "duration": 11,
    "start_time": "2022-04-23T09:59:01.980Z"
   },
   {
    "duration": 12,
    "start_time": "2022-04-23T09:59:31.014Z"
   },
   {
    "duration": 165,
    "start_time": "2022-04-23T09:59:39.093Z"
   },
   {
    "duration": 36,
    "start_time": "2022-04-23T10:00:12.476Z"
   },
   {
    "duration": 25,
    "start_time": "2022-04-23T10:00:19.580Z"
   },
   {
    "duration": 24,
    "start_time": "2022-04-23T10:00:25.877Z"
   },
   {
    "duration": 25,
    "start_time": "2022-04-23T10:00:37.716Z"
   },
   {
    "duration": 8,
    "start_time": "2022-04-23T10:01:37.308Z"
   },
   {
    "duration": 11,
    "start_time": "2022-04-23T10:01:44.027Z"
   },
   {
    "duration": 14,
    "start_time": "2022-04-23T10:02:00.277Z"
   },
   {
    "duration": 15,
    "start_time": "2022-04-23T10:02:11.859Z"
   },
   {
    "duration": 786,
    "start_time": "2022-04-23T10:02:51.891Z"
   },
   {
    "duration": 4,
    "start_time": "2022-04-23T10:02:57.030Z"
   },
   {
    "duration": 641,
    "start_time": "2022-04-23T10:02:57.036Z"
   },
   {
    "duration": 28,
    "start_time": "2022-04-23T10:02:57.679Z"
   },
   {
    "duration": 51,
    "start_time": "2022-04-23T10:02:57.709Z"
   },
   {
    "duration": 18,
    "start_time": "2022-04-23T10:02:57.762Z"
   },
   {
    "duration": 10,
    "start_time": "2022-04-23T10:02:57.781Z"
   },
   {
    "duration": 228,
    "start_time": "2022-04-23T10:02:57.792Z"
   },
   {
    "duration": 8,
    "start_time": "2022-04-23T10:02:58.022Z"
   },
   {
    "duration": 19,
    "start_time": "2022-04-23T10:02:58.032Z"
   },
   {
    "duration": 7,
    "start_time": "2022-04-23T10:02:58.053Z"
   },
   {
    "duration": 49,
    "start_time": "2022-04-23T10:02:58.062Z"
   },
   {
    "duration": 46,
    "start_time": "2022-04-23T10:02:58.113Z"
   },
   {
    "duration": 19,
    "start_time": "2022-04-23T10:02:58.161Z"
   },
   {
    "duration": 322,
    "start_time": "2022-04-23T10:02:58.181Z"
   },
   {
    "duration": 7,
    "start_time": "2022-04-23T10:02:58.505Z"
   },
   {
    "duration": 349,
    "start_time": "2022-04-23T10:02:58.514Z"
   },
   {
    "duration": 375,
    "start_time": "2022-04-23T10:02:58.865Z"
   },
   {
    "duration": 249,
    "start_time": "2022-04-23T10:02:59.247Z"
   },
   {
    "duration": 206,
    "start_time": "2022-04-23T10:02:59.497Z"
   },
   {
    "duration": 169,
    "start_time": "2022-04-23T10:02:59.705Z"
   },
   {
    "duration": 164,
    "start_time": "2022-04-23T10:02:59.876Z"
   },
   {
    "duration": 192,
    "start_time": "2022-04-23T10:03:00.042Z"
   },
   {
    "duration": 480,
    "start_time": "2022-04-23T10:03:00.236Z"
   },
   {
    "duration": 457,
    "start_time": "2022-04-23T10:03:00.720Z"
   },
   {
    "duration": 322,
    "start_time": "2022-04-23T10:03:01.178Z"
   },
   {
    "duration": 20,
    "start_time": "2022-04-23T10:03:01.502Z"
   },
   {
    "duration": 23,
    "start_time": "2022-04-23T10:03:01.524Z"
   },
   {
    "duration": 11,
    "start_time": "2022-04-23T10:03:01.549Z"
   },
   {
    "duration": 3,
    "start_time": "2022-04-23T10:03:01.562Z"
   },
   {
    "duration": 5,
    "start_time": "2022-04-23T10:03:01.567Z"
   },
   {
    "duration": 3,
    "start_time": "2022-04-23T10:03:03.602Z"
   },
   {
    "duration": 273,
    "start_time": "2022-04-23T10:03:04.186Z"
   },
   {
    "duration": 447,
    "start_time": "2022-04-23T10:03:28.227Z"
   },
   {
    "duration": 3,
    "start_time": "2022-04-23T10:03:34.022Z"
   },
   {
    "duration": 672,
    "start_time": "2022-04-23T10:03:34.027Z"
   },
   {
    "duration": 28,
    "start_time": "2022-04-23T10:03:34.701Z"
   },
   {
    "duration": 35,
    "start_time": "2022-04-23T10:03:34.748Z"
   },
   {
    "duration": 18,
    "start_time": "2022-04-23T10:03:34.785Z"
   },
   {
    "duration": 12,
    "start_time": "2022-04-23T10:03:34.805Z"
   },
   {
    "duration": 307,
    "start_time": "2022-04-23T10:03:34.819Z"
   },
   {
    "duration": 7,
    "start_time": "2022-04-23T10:03:35.128Z"
   },
   {
    "duration": 6,
    "start_time": "2022-04-23T10:03:35.149Z"
   },
   {
    "duration": 5,
    "start_time": "2022-04-23T10:03:35.157Z"
   },
   {
    "duration": 44,
    "start_time": "2022-04-23T10:03:35.164Z"
   },
   {
    "duration": 52,
    "start_time": "2022-04-23T10:03:35.210Z"
   },
   {
    "duration": 14,
    "start_time": "2022-04-23T10:03:35.264Z"
   },
   {
    "duration": 229,
    "start_time": "2022-04-23T10:03:35.280Z"
   },
   {
    "duration": 6,
    "start_time": "2022-04-23T10:03:35.511Z"
   },
   {
    "duration": 235,
    "start_time": "2022-04-23T10:03:35.519Z"
   },
   {
    "duration": 237,
    "start_time": "2022-04-23T10:03:35.756Z"
   },
   {
    "duration": 275,
    "start_time": "2022-04-23T10:03:35.995Z"
   },
   {
    "duration": 312,
    "start_time": "2022-04-23T10:03:36.272Z"
   },
   {
    "duration": 243,
    "start_time": "2022-04-23T10:03:36.586Z"
   },
   {
    "duration": 160,
    "start_time": "2022-04-23T10:03:36.831Z"
   },
   {
    "duration": 172,
    "start_time": "2022-04-23T10:03:36.993Z"
   },
   {
    "duration": 314,
    "start_time": "2022-04-23T10:03:37.167Z"
   },
   {
    "duration": 893,
    "start_time": "2022-04-23T10:03:37.484Z"
   },
   {
    "duration": 308,
    "start_time": "2022-04-23T10:03:38.378Z"
   },
   {
    "duration": 15,
    "start_time": "2022-04-23T10:03:38.687Z"
   },
   {
    "duration": 9,
    "start_time": "2022-04-23T10:03:38.703Z"
   },
   {
    "duration": 35,
    "start_time": "2022-04-23T10:03:38.713Z"
   },
   {
    "duration": 3,
    "start_time": "2022-04-23T10:03:38.750Z"
   },
   {
    "duration": 6,
    "start_time": "2022-04-23T10:03:38.754Z"
   },
   {
    "duration": 480,
    "start_time": "2022-04-23T10:03:39.546Z"
   },
   {
    "duration": 747,
    "start_time": "2022-04-23T10:03:59.276Z"
   },
   {
    "duration": 3,
    "start_time": "2022-04-23T10:04:02.286Z"
   },
   {
    "duration": 668,
    "start_time": "2022-04-23T10:04:02.290Z"
   },
   {
    "duration": 34,
    "start_time": "2022-04-23T10:04:02.959Z"
   },
   {
    "duration": 63,
    "start_time": "2022-04-23T10:04:02.995Z"
   },
   {
    "duration": 27,
    "start_time": "2022-04-23T10:04:03.060Z"
   },
   {
    "duration": 4,
    "start_time": "2022-04-23T10:04:03.089Z"
   },
   {
    "duration": 243,
    "start_time": "2022-04-23T10:04:03.095Z"
   },
   {
    "duration": 12,
    "start_time": "2022-04-23T10:04:03.340Z"
   },
   {
    "duration": 7,
    "start_time": "2022-04-23T10:04:03.354Z"
   },
   {
    "duration": 5,
    "start_time": "2022-04-23T10:04:03.362Z"
   },
   {
    "duration": 31,
    "start_time": "2022-04-23T10:04:03.369Z"
   },
   {
    "duration": 53,
    "start_time": "2022-04-23T10:04:03.402Z"
   },
   {
    "duration": 15,
    "start_time": "2022-04-23T10:04:03.457Z"
   },
   {
    "duration": 231,
    "start_time": "2022-04-23T10:04:03.473Z"
   },
   {
    "duration": 5,
    "start_time": "2022-04-23T10:04:03.706Z"
   },
   {
    "duration": 244,
    "start_time": "2022-04-23T10:04:03.713Z"
   },
   {
    "duration": 248,
    "start_time": "2022-04-23T10:04:03.959Z"
   },
   {
    "duration": 246,
    "start_time": "2022-04-23T10:04:04.208Z"
   },
   {
    "duration": 205,
    "start_time": "2022-04-23T10:04:04.456Z"
   },
   {
    "duration": 168,
    "start_time": "2022-04-23T10:04:04.662Z"
   },
   {
    "duration": 169,
    "start_time": "2022-04-23T10:04:04.831Z"
   },
   {
    "duration": 186,
    "start_time": "2022-04-23T10:04:05.002Z"
   },
   {
    "duration": 337,
    "start_time": "2022-04-23T10:04:05.190Z"
   },
   {
    "duration": 343,
    "start_time": "2022-04-23T10:04:05.530Z"
   },
   {
    "duration": 330,
    "start_time": "2022-04-23T10:04:05.875Z"
   },
   {
    "duration": 18,
    "start_time": "2022-04-23T10:04:06.207Z"
   },
   {
    "duration": 23,
    "start_time": "2022-04-23T10:04:06.227Z"
   },
   {
    "duration": 16,
    "start_time": "2022-04-23T10:04:06.252Z"
   },
   {
    "duration": 4,
    "start_time": "2022-04-23T10:04:06.270Z"
   },
   {
    "duration": 5,
    "start_time": "2022-04-23T10:04:06.276Z"
   },
   {
    "duration": 330,
    "start_time": "2022-04-23T10:04:06.283Z"
   },
   {
    "duration": 9,
    "start_time": "2022-04-23T10:04:10.826Z"
   },
   {
    "duration": 289,
    "start_time": "2022-04-23T10:04:15.266Z"
   },
   {
    "duration": 453,
    "start_time": "2022-04-23T10:04:29.898Z"
   },
   {
    "duration": 3,
    "start_time": "2022-04-23T10:04:55.139Z"
   },
   {
    "duration": 257,
    "start_time": "2022-04-23T10:04:59.194Z"
   },
   {
    "duration": 4,
    "start_time": "2022-04-23T10:05:22.330Z"
   },
   {
    "duration": 9,
    "start_time": "2022-04-23T10:05:35.729Z"
   },
   {
    "duration": 180,
    "start_time": "2022-04-23T10:08:23.977Z"
   },
   {
    "duration": 149,
    "start_time": "2022-04-23T10:08:29.848Z"
   },
   {
    "duration": 189,
    "start_time": "2022-04-23T10:08:47.857Z"
   },
   {
    "duration": 2161,
    "start_time": "2022-04-23T10:08:53.600Z"
   },
   {
    "duration": 153594,
    "start_time": "2022-04-23T10:09:10.888Z"
   },
   {
    "duration": 5627,
    "start_time": "2022-04-23T10:14:16.926Z"
   },
   {
    "duration": 259023,
    "start_time": "2022-04-23T10:16:56.254Z"
   },
   {
    "duration": 183333,
    "start_time": "2022-04-23T10:21:30.076Z"
   },
   {
    "duration": 161763,
    "start_time": "2022-04-23T10:24:48.363Z"
   },
   {
    "duration": 552,
    "start_time": "2022-04-23T10:28:27.554Z"
   },
   {
    "duration": 2575,
    "start_time": "2022-04-23T10:29:02.432Z"
   },
   {
    "duration": 121,
    "start_time": "2022-04-23T10:29:11.543Z"
   },
   {
    "duration": 121,
    "start_time": "2022-04-23T10:29:14.791Z"
   },
   {
    "duration": 2864,
    "start_time": "2022-04-23T10:29:19.231Z"
   },
   {
    "duration": 5236,
    "start_time": "2022-04-23T10:29:44.664Z"
   },
   {
    "duration": 1155,
    "start_time": "2022-04-23T10:30:40.264Z"
   },
   {
    "duration": 5390,
    "start_time": "2022-04-23T10:30:43.607Z"
   },
   {
    "duration": 5861,
    "start_time": "2022-04-23T10:31:05.303Z"
   },
   {
    "duration": 5,
    "start_time": "2022-04-23T10:31:26.879Z"
   },
   {
    "duration": 2260,
    "start_time": "2022-04-23T10:32:04.990Z"
   },
   {
    "duration": 3991,
    "start_time": "2022-04-23T10:33:00.206Z"
   },
   {
    "duration": 22687,
    "start_time": "2022-04-23T10:33:07.245Z"
   },
   {
    "duration": 6,
    "start_time": "2022-04-23T10:44:54.449Z"
   },
   {
    "duration": 10,
    "start_time": "2022-04-23T10:45:34.752Z"
   },
   {
    "duration": 3,
    "start_time": "2022-04-23T10:46:01.913Z"
   },
   {
    "duration": 11,
    "start_time": "2022-04-23T10:46:10.248Z"
   },
   {
    "duration": 10,
    "start_time": "2022-04-23T10:46:40.528Z"
   },
   {
    "duration": 9,
    "start_time": "2022-04-23T10:46:55.711Z"
   },
   {
    "duration": 16,
    "start_time": "2022-04-23T10:46:58.503Z"
   },
   {
    "duration": 11,
    "start_time": "2022-04-23T10:47:03.664Z"
   },
   {
    "duration": 15,
    "start_time": "2022-04-23T10:47:15.994Z"
   },
   {
    "duration": 8,
    "start_time": "2022-04-23T10:47:32.056Z"
   },
   {
    "duration": 11,
    "start_time": "2022-04-23T10:47:35.072Z"
   },
   {
    "duration": 3,
    "start_time": "2022-04-23T10:49:26.961Z"
   },
   {
    "duration": 754,
    "start_time": "2022-04-23T10:49:38.598Z"
   },
   {
    "duration": 599,
    "start_time": "2022-04-23T10:49:44.059Z"
   },
   {
    "duration": 981,
    "start_time": "2022-04-23T10:49:55.471Z"
   },
   {
    "duration": 5337,
    "start_time": "2022-04-23T10:50:05.502Z"
   },
   {
    "duration": 111,
    "start_time": "2022-04-23T10:59:25.378Z"
   },
   {
    "duration": 242,
    "start_time": "2022-04-23T11:00:02.883Z"
   },
   {
    "duration": 109,
    "start_time": "2022-04-23T11:00:06.778Z"
   },
   {
    "duration": 11,
    "start_time": "2022-04-23T11:00:10.610Z"
   },
   {
    "duration": 4,
    "start_time": "2022-04-23T11:04:38.016Z"
   },
   {
    "duration": 5,
    "start_time": "2022-04-23T11:05:01.049Z"
   },
   {
    "duration": 10,
    "start_time": "2022-04-23T11:07:02.688Z"
   },
   {
    "duration": 13,
    "start_time": "2022-04-23T11:07:17.967Z"
   },
   {
    "duration": 19,
    "start_time": "2022-04-23T11:07:41.878Z"
   },
   {
    "duration": 175,
    "start_time": "2022-04-23T11:08:08.232Z"
   },
   {
    "duration": 5,
    "start_time": "2022-04-23T11:08:12.302Z"
   },
   {
    "duration": 360,
    "start_time": "2022-04-23T11:08:54.887Z"
   },
   {
    "duration": 7,
    "start_time": "2022-04-23T11:08:56.575Z"
   },
   {
    "duration": 110,
    "start_time": "2022-04-23T11:10:46.909Z"
   },
   {
    "duration": 3858,
    "start_time": "2022-04-23T11:12:44.805Z"
   },
   {
    "duration": 3935,
    "start_time": "2022-04-23T11:12:57.004Z"
   },
   {
    "duration": 25528,
    "start_time": "2022-04-23T11:13:08.484Z"
   },
   {
    "duration": 1963,
    "start_time": "2022-04-23T11:14:51.196Z"
   },
   {
    "duration": 3780,
    "start_time": "2022-04-23T11:14:54.796Z"
   },
   {
    "duration": 22099,
    "start_time": "2022-04-23T11:15:00.860Z"
   },
   {
    "duration": 21,
    "start_time": "2022-04-23T11:16:00.005Z"
   },
   {
    "duration": 48,
    "start_time": "2022-04-23T11:16:06.035Z"
   },
   {
    "duration": 23,
    "start_time": "2022-04-23T11:16:19.307Z"
   },
   {
    "duration": 40,
    "start_time": "2022-04-23T11:16:20.476Z"
   },
   {
    "duration": 15,
    "start_time": "2022-04-23T11:16:34.427Z"
   },
   {
    "duration": 1974,
    "start_time": "2022-04-23T11:17:12.874Z"
   },
   {
    "duration": 4361,
    "start_time": "2022-04-23T11:17:17.604Z"
   },
   {
    "duration": 19693,
    "start_time": "2022-04-23T11:17:21.967Z"
   },
   {
    "duration": 0,
    "start_time": "2022-04-23T11:17:41.663Z"
   },
   {
    "duration": 25741,
    "start_time": "2022-04-23T11:17:44.124Z"
   },
   {
    "duration": 104,
    "start_time": "2022-04-23T11:18:25.786Z"
   },
   {
    "duration": 103,
    "start_time": "2022-04-23T11:18:48.235Z"
   },
   {
    "duration": 53070,
    "start_time": "2022-04-23T11:19:10.106Z"
   },
   {
    "duration": 14245,
    "start_time": "2022-04-23T11:20:39.043Z"
   },
   {
    "duration": 45253,
    "start_time": "2022-04-23T11:21:03.178Z"
   },
   {
    "duration": 798,
    "start_time": "2022-04-23T11:22:00.738Z"
   },
   {
    "duration": 570814,
    "start_time": "2022-04-23T11:23:05.529Z"
   },
   {
    "duration": 595069,
    "start_time": "2022-04-23T11:32:42.702Z"
   },
   {
    "duration": 5241,
    "start_time": "2022-04-23T11:45:17.799Z"
   },
   {
    "duration": 5610,
    "start_time": "2022-04-23T11:45:44.313Z"
   },
   {
    "duration": 5289,
    "start_time": "2022-04-23T11:45:57.671Z"
   },
   {
    "duration": 551,
    "start_time": "2022-04-23T11:46:17.559Z"
   },
   {
    "duration": 120,
    "start_time": "2022-04-23T11:46:21.742Z"
   },
   {
    "duration": 29,
    "start_time": "2022-04-23T11:46:24.598Z"
   },
   {
    "duration": 16,
    "start_time": "2022-04-23T11:46:32.448Z"
   },
   {
    "duration": 794,
    "start_time": "2022-04-23T11:46:50.709Z"
   },
   {
    "duration": 221,
    "start_time": "2022-04-23T11:47:00.222Z"
   },
   {
    "duration": 555,
    "start_time": "2022-04-23T11:47:03.015Z"
   },
   {
    "duration": 257,
    "start_time": "2022-04-23T11:47:25.662Z"
   },
   {
    "duration": 108976,
    "start_time": "2022-04-23T11:49:41.685Z"
   },
   {
    "duration": 3421,
    "start_time": "2022-04-23T11:51:33.228Z"
   },
   {
    "duration": 3901,
    "start_time": "2022-04-23T11:51:38.124Z"
   },
   {
    "duration": 134242,
    "start_time": "2022-04-23T11:51:43.061Z"
   },
   {
    "duration": 2538,
    "start_time": "2022-04-23T11:55:22.115Z"
   },
   {
    "duration": 6843,
    "start_time": "2022-04-23T11:56:05.864Z"
   },
   {
    "duration": 381372,
    "start_time": "2022-04-23T11:56:46.731Z"
   },
   {
    "duration": 14610,
    "start_time": "2022-04-23T12:16:36.594Z"
   },
   {
    "duration": 3983,
    "start_time": "2022-04-23T12:17:35.185Z"
   },
   {
    "duration": 4,
    "start_time": "2022-04-23T12:17:41.737Z"
   },
   {
    "duration": 4759,
    "start_time": "2022-04-23T12:18:18.592Z"
   },
   {
    "duration": 4,
    "start_time": "2022-04-23T12:24:50.509Z"
   },
   {
    "duration": 7,
    "start_time": "2022-04-23T12:25:52.961Z"
   },
   {
    "duration": 5,
    "start_time": "2022-04-23T12:28:57.691Z"
   },
   {
    "duration": 4,
    "start_time": "2022-04-23T12:29:00.675Z"
   },
   {
    "duration": 4,
    "start_time": "2022-04-23T12:29:07.086Z"
   },
   {
    "duration": 720,
    "start_time": "2022-04-23T12:29:07.091Z"
   },
   {
    "duration": 48,
    "start_time": "2022-04-23T12:29:07.812Z"
   },
   {
    "duration": 34,
    "start_time": "2022-04-23T12:29:07.862Z"
   },
   {
    "duration": 18,
    "start_time": "2022-04-23T12:29:07.897Z"
   },
   {
    "duration": 5,
    "start_time": "2022-04-23T12:29:07.916Z"
   },
   {
    "duration": 227,
    "start_time": "2022-04-23T12:29:07.950Z"
   },
   {
    "duration": 9,
    "start_time": "2022-04-23T12:29:08.180Z"
   },
   {
    "duration": 8,
    "start_time": "2022-04-23T12:29:08.192Z"
   },
   {
    "duration": 5,
    "start_time": "2022-04-23T12:29:08.202Z"
   },
   {
    "duration": 62,
    "start_time": "2022-04-23T12:29:08.209Z"
   },
   {
    "duration": 26,
    "start_time": "2022-04-23T12:29:08.273Z"
   },
   {
    "duration": 15,
    "start_time": "2022-04-23T12:29:08.300Z"
   },
   {
    "duration": 375,
    "start_time": "2022-04-23T12:29:08.316Z"
   },
   {
    "duration": 8,
    "start_time": "2022-04-23T12:29:08.694Z"
   },
   {
    "duration": 439,
    "start_time": "2022-04-23T12:29:08.704Z"
   },
   {
    "duration": 389,
    "start_time": "2022-04-23T12:29:09.148Z"
   },
   {
    "duration": 273,
    "start_time": "2022-04-23T12:29:09.539Z"
   },
   {
    "duration": 222,
    "start_time": "2022-04-23T12:29:09.814Z"
   },
   {
    "duration": 246,
    "start_time": "2022-04-23T12:29:10.047Z"
   },
   {
    "duration": 277,
    "start_time": "2022-04-23T12:29:10.295Z"
   },
   {
    "duration": 290,
    "start_time": "2022-04-23T12:29:10.575Z"
   },
   {
    "duration": 554,
    "start_time": "2022-04-23T12:29:10.868Z"
   },
   {
    "duration": 351,
    "start_time": "2022-04-23T12:29:11.426Z"
   },
   {
    "duration": 331,
    "start_time": "2022-04-23T12:29:11.779Z"
   },
   {
    "duration": 14,
    "start_time": "2022-04-23T12:29:12.112Z"
   },
   {
    "duration": 26,
    "start_time": "2022-04-23T12:29:12.127Z"
   },
   {
    "duration": 13,
    "start_time": "2022-04-23T12:29:12.155Z"
   },
   {
    "duration": 5,
    "start_time": "2022-04-23T12:29:12.170Z"
   },
   {
    "duration": 7,
    "start_time": "2022-04-23T12:29:12.177Z"
   },
   {
    "duration": 7,
    "start_time": "2022-04-23T12:29:12.185Z"
   },
   {
    "duration": 482,
    "start_time": "2022-04-23T12:29:12.194Z"
   },
   {
    "duration": 12,
    "start_time": "2022-04-23T12:29:12.679Z"
   },
   {
    "duration": 12,
    "start_time": "2022-04-23T12:29:14.594Z"
   },
   {
    "duration": 121,
    "start_time": "2022-04-23T12:32:11.770Z"
   },
   {
    "duration": 9,
    "start_time": "2022-04-23T12:32:58.393Z"
   },
   {
    "duration": 2707,
    "start_time": "2022-04-23T12:33:15.861Z"
   },
   {
    "duration": 5043,
    "start_time": "2022-04-23T12:33:30.448Z"
   },
   {
    "duration": 11,
    "start_time": "2022-04-23T12:33:43.584Z"
   },
   {
    "duration": 2923,
    "start_time": "2022-04-23T12:33:46.248Z"
   },
   {
    "duration": 35630,
    "start_time": "2022-04-23T12:34:04.968Z"
   },
   {
    "duration": 6000,
    "start_time": "2022-04-23T12:34:46.688Z"
   },
   {
    "duration": 6235,
    "start_time": "2022-04-23T12:34:59.536Z"
   },
   {
    "duration": 6188,
    "start_time": "2022-04-23T12:35:08.392Z"
   },
   {
    "duration": 288200,
    "start_time": "2022-04-23T12:35:37.489Z"
   },
   {
    "duration": 328,
    "start_time": "2022-04-23T12:53:30.224Z"
   },
   {
    "duration": 4,
    "start_time": "2022-04-23T12:53:46.703Z"
   },
   {
    "duration": 1135,
    "start_time": "2022-04-23T12:53:52.638Z"
   },
   {
    "duration": 716,
    "start_time": "2022-04-23T12:55:10.144Z"
   },
   {
    "duration": 455,
    "start_time": "2022-04-23T12:55:32.818Z"
   },
   {
    "duration": 1053,
    "start_time": "2022-04-23T12:56:36.110Z"
   },
   {
    "duration": 1283,
    "start_time": "2022-04-23T12:57:02.934Z"
   },
   {
    "duration": 89120,
    "start_time": "2022-04-23T12:57:17.834Z"
   },
   {
    "duration": 1283,
    "start_time": "2022-04-23T13:03:29.979Z"
   },
   {
    "duration": 1262,
    "start_time": "2022-04-23T13:04:53.282Z"
   },
   {
    "duration": 1683,
    "start_time": "2022-04-23T13:05:11.066Z"
   },
   {
    "duration": 362,
    "start_time": "2022-04-23T13:05:25.794Z"
   },
   {
    "duration": 587,
    "start_time": "2022-04-23T13:05:30.565Z"
   },
   {
    "duration": 704,
    "start_time": "2022-04-23T13:05:41.856Z"
   },
   {
    "duration": 1261,
    "start_time": "2022-04-23T13:05:58.330Z"
   },
   {
    "duration": 668,
    "start_time": "2022-04-23T13:07:15.281Z"
   },
   {
    "duration": 699,
    "start_time": "2022-04-23T13:17:11.164Z"
   },
   {
    "duration": 1262,
    "start_time": "2022-04-23T13:17:23.789Z"
   },
   {
    "duration": 75946,
    "start_time": "2022-04-23T13:17:31.964Z"
   },
   {
    "duration": 830,
    "start_time": "2022-04-23T13:21:25.731Z"
   },
   {
    "duration": 7312,
    "start_time": "2022-04-23T13:28:22.861Z"
   },
   {
    "duration": 10073,
    "start_time": "2022-04-23T13:28:50.536Z"
   },
   {
    "duration": 540247,
    "start_time": "2022-04-23T13:29:09.841Z"
   },
   {
    "duration": 27220,
    "start_time": "2022-04-23T13:44:47.720Z"
   },
   {
    "duration": 9604,
    "start_time": "2022-04-23T13:49:21.687Z"
   },
   {
    "duration": 12,
    "start_time": "2022-04-23T13:49:45.311Z"
   },
   {
    "duration": 27530,
    "start_time": "2022-04-23T13:49:53.159Z"
   },
   {
    "duration": 26840,
    "start_time": "2022-04-23T13:51:26.047Z"
   },
   {
    "duration": 11,
    "start_time": "2022-04-23T13:55:51.761Z"
   },
   {
    "duration": 20,
    "start_time": "2022-04-23T13:56:26.541Z"
   },
   {
    "duration": 17,
    "start_time": "2022-04-23T13:56:59.437Z"
   },
   {
    "duration": 16,
    "start_time": "2022-04-23T13:58:43.012Z"
   },
   {
    "duration": 4,
    "start_time": "2022-04-23T13:59:40.804Z"
   },
   {
    "duration": 4,
    "start_time": "2022-04-23T13:59:48.851Z"
   },
   {
    "duration": 7,
    "start_time": "2022-04-23T14:01:57.765Z"
   },
   {
    "duration": 45,
    "start_time": "2022-04-23T18:53:14.180Z"
   },
   {
    "duration": 1818,
    "start_time": "2022-04-23T18:53:26.308Z"
   },
   {
    "duration": 728,
    "start_time": "2022-04-23T18:53:28.128Z"
   },
   {
    "duration": 29,
    "start_time": "2022-04-23T18:53:28.858Z"
   },
   {
    "duration": 32,
    "start_time": "2022-04-23T18:53:28.889Z"
   },
   {
    "duration": 48,
    "start_time": "2022-04-23T18:53:28.923Z"
   },
   {
    "duration": 3,
    "start_time": "2022-04-23T18:53:28.974Z"
   },
   {
    "duration": 377,
    "start_time": "2022-04-23T18:53:28.979Z"
   },
   {
    "duration": 11,
    "start_time": "2022-04-23T18:53:29.359Z"
   },
   {
    "duration": 8,
    "start_time": "2022-04-23T18:53:29.372Z"
   },
   {
    "duration": 11,
    "start_time": "2022-04-23T18:53:29.383Z"
   },
   {
    "duration": 51,
    "start_time": "2022-04-23T18:53:29.396Z"
   },
   {
    "duration": 31,
    "start_time": "2022-04-23T18:53:29.450Z"
   },
   {
    "duration": 14,
    "start_time": "2022-04-23T18:53:29.483Z"
   },
   {
    "duration": 251,
    "start_time": "2022-04-23T18:53:29.498Z"
   },
   {
    "duration": 6,
    "start_time": "2022-04-23T18:53:29.752Z"
   },
   {
    "duration": 267,
    "start_time": "2022-04-23T18:53:29.760Z"
   },
   {
    "duration": 253,
    "start_time": "2022-04-23T18:53:30.029Z"
   },
   {
    "duration": 333,
    "start_time": "2022-04-23T18:53:30.284Z"
   },
   {
    "duration": 216,
    "start_time": "2022-04-23T18:53:30.618Z"
   },
   {
    "duration": 176,
    "start_time": "2022-04-23T18:53:30.836Z"
   },
   {
    "duration": 174,
    "start_time": "2022-04-23T18:53:31.014Z"
   },
   {
    "duration": 222,
    "start_time": "2022-04-23T18:53:31.190Z"
   },
   {
    "duration": 475,
    "start_time": "2022-04-23T18:53:31.415Z"
   },
   {
    "duration": 461,
    "start_time": "2022-04-23T18:53:31.892Z"
   },
   {
    "duration": 578,
    "start_time": "2022-04-23T18:53:32.356Z"
   },
   {
    "duration": 23,
    "start_time": "2022-04-23T18:53:32.936Z"
   },
   {
    "duration": 8,
    "start_time": "2022-04-23T18:53:32.961Z"
   },
   {
    "duration": 19,
    "start_time": "2022-04-23T18:53:32.972Z"
   },
   {
    "duration": 3,
    "start_time": "2022-04-23T18:53:32.992Z"
   },
   {
    "duration": 7,
    "start_time": "2022-04-23T18:53:32.997Z"
   },
   {
    "duration": 4,
    "start_time": "2022-04-23T18:53:33.005Z"
   },
   {
    "duration": 333,
    "start_time": "2022-04-23T18:53:33.011Z"
   },
   {
    "duration": 13,
    "start_time": "2022-04-23T18:53:33.347Z"
   },
   {
    "duration": 3095,
    "start_time": "2022-04-23T18:53:33.362Z"
   },
   {
    "duration": 793,
    "start_time": "2022-04-23T18:53:36.468Z"
   },
   {
    "duration": 6768,
    "start_time": "2022-04-23T18:53:37.267Z"
   },
   {
    "duration": 1465,
    "start_time": "2022-04-23T18:53:44.037Z"
   },
   {
    "duration": 82,
    "start_time": "2022-04-23T18:53:45.504Z"
   },
   {
    "duration": 0,
    "start_time": "2022-04-23T18:53:45.588Z"
   },
   {
    "duration": 25469,
    "start_time": "2022-04-23T18:53:55.745Z"
   },
   {
    "duration": 324089,
    "start_time": "2022-04-23T18:54:41.944Z"
   },
   {
    "duration": 76361,
    "start_time": "2022-04-23T19:00:32.367Z"
   },
   {
    "duration": 28602,
    "start_time": "2022-04-23T19:02:23.686Z"
   },
   {
    "duration": 10,
    "start_time": "2022-04-23T19:12:58.393Z"
   },
   {
    "duration": 9,
    "start_time": "2022-04-23T19:14:19.200Z"
   },
   {
    "duration": 9,
    "start_time": "2022-04-23T19:14:51.880Z"
   },
   {
    "duration": 13,
    "start_time": "2022-04-23T19:17:21.406Z"
   },
   {
    "duration": 10,
    "start_time": "2022-04-23T19:17:47.799Z"
   },
   {
    "duration": 12,
    "start_time": "2022-04-23T19:17:54.808Z"
   },
   {
    "duration": 45,
    "start_time": "2022-04-23T19:17:59.992Z"
   },
   {
    "duration": 17,
    "start_time": "2022-04-23T19:20:44.717Z"
   },
   {
    "duration": 66708,
    "start_time": "2022-04-23T19:20:53.478Z"
   },
   {
    "duration": 8087,
    "start_time": "2022-04-23T19:36:38.889Z"
   },
   {
    "duration": 4427,
    "start_time": "2022-04-23T19:36:50.100Z"
   },
   {
    "duration": 5107,
    "start_time": "2022-04-23T19:37:16.917Z"
   },
   {
    "duration": 18,
    "start_time": "2022-04-23T19:37:35.588Z"
   },
   {
    "duration": 134,
    "start_time": "2022-04-23T19:41:40.182Z"
   },
   {
    "duration": 1699,
    "start_time": "2022-04-23T19:42:03.840Z"
   },
   {
    "duration": 1676,
    "start_time": "2022-04-23T19:42:26.600Z"
   },
   {
    "duration": 4813,
    "start_time": "2022-04-23T19:43:11.768Z"
   },
   {
    "duration": 971,
    "start_time": "2022-04-23T19:43:50.288Z"
   },
   {
    "duration": 358,
    "start_time": "2022-04-23T19:44:01.736Z"
   },
   {
    "duration": 1256,
    "start_time": "2022-04-23T19:44:07.047Z"
   },
   {
    "duration": 8,
    "start_time": "2022-04-23T19:45:23.671Z"
   },
   {
    "duration": 33,
    "start_time": "2022-04-23T19:45:28.239Z"
   },
   {
    "duration": 16,
    "start_time": "2022-04-23T19:45:52.665Z"
   },
   {
    "duration": 13,
    "start_time": "2022-04-23T19:46:02.223Z"
   },
   {
    "duration": 33,
    "start_time": "2022-04-23T19:46:04.885Z"
   },
   {
    "duration": 139,
    "start_time": "2022-04-23T19:46:10.622Z"
   },
   {
    "duration": 15,
    "start_time": "2022-04-23T19:46:15.126Z"
   },
   {
    "duration": 24,
    "start_time": "2022-04-23T19:46:15.710Z"
   },
   {
    "duration": 1392,
    "start_time": "2022-04-23T19:46:35.267Z"
   },
   {
    "duration": 4224,
    "start_time": "2022-04-23T19:47:31.126Z"
   },
   {
    "duration": 3186,
    "start_time": "2022-04-23T19:47:46.397Z"
   },
   {
    "duration": 25,
    "start_time": "2022-04-23T19:52:34.963Z"
   },
   {
    "duration": 28,
    "start_time": "2022-04-23T19:53:09.723Z"
   },
   {
    "duration": 7,
    "start_time": "2022-04-23T19:53:24.380Z"
   },
   {
    "duration": 7,
    "start_time": "2022-04-23T19:53:32.939Z"
   },
   {
    "duration": 20,
    "start_time": "2022-04-23T19:54:58.642Z"
   },
   {
    "duration": 8,
    "start_time": "2022-04-23T19:57:00.586Z"
   },
   {
    "duration": 7,
    "start_time": "2022-04-23T19:57:09.401Z"
   },
   {
    "duration": 15,
    "start_time": "2022-04-23T19:57:31.810Z"
   },
   {
    "duration": 25,
    "start_time": "2022-04-23T19:57:38.130Z"
   },
   {
    "duration": 4,
    "start_time": "2022-04-23T19:58:09.771Z"
   },
   {
    "duration": 24,
    "start_time": "2022-04-23T19:58:17.682Z"
   },
   {
    "duration": 286,
    "start_time": "2022-04-23T20:00:53.088Z"
   },
   {
    "duration": 3255,
    "start_time": "2022-04-23T20:01:42.208Z"
   },
   {
    "duration": 12,
    "start_time": "2022-04-23T20:09:30.365Z"
   },
   {
    "duration": 25360,
    "start_time": "2022-04-23T20:10:03.596Z"
   },
   {
    "duration": 29834,
    "start_time": "2022-04-23T20:10:31.124Z"
   },
   {
    "duration": 30397,
    "start_time": "2022-04-23T20:13:16.473Z"
   },
   {
    "duration": 309927,
    "start_time": "2022-04-23T20:17:02.608Z"
   },
   {
    "duration": 90079,
    "start_time": "2022-04-23T20:22:54.942Z"
   },
   {
    "duration": 19560,
    "start_time": "2022-04-23T20:24:45.837Z"
   },
   {
    "duration": 1329,
    "start_time": "2022-04-24T07:18:46.201Z"
   },
   {
    "duration": 4,
    "start_time": "2022-04-24T07:18:54.666Z"
   },
   {
    "duration": 33,
    "start_time": "2022-04-24T07:18:56.714Z"
   },
   {
    "duration": 3,
    "start_time": "2022-04-24T07:19:05.674Z"
   },
   {
    "duration": 9,
    "start_time": "2022-04-24T07:19:13.010Z"
   },
   {
    "duration": 2407,
    "start_time": "2022-04-24T15:00:53.568Z"
   },
   {
    "duration": 1031,
    "start_time": "2022-04-24T15:00:55.978Z"
   },
   {
    "duration": 70,
    "start_time": "2022-04-24T15:00:57.012Z"
   },
   {
    "duration": 65,
    "start_time": "2022-04-24T15:00:57.086Z"
   },
   {
    "duration": 50,
    "start_time": "2022-04-24T15:00:57.182Z"
   },
   {
    "duration": 6,
    "start_time": "2022-04-24T15:00:57.234Z"
   },
   {
    "duration": 427,
    "start_time": "2022-04-24T15:00:57.242Z"
   },
   {
    "duration": 15,
    "start_time": "2022-04-24T15:00:57.672Z"
   },
   {
    "duration": 19,
    "start_time": "2022-04-24T15:00:57.690Z"
   },
   {
    "duration": 12,
    "start_time": "2022-04-24T15:00:57.718Z"
   },
   {
    "duration": 87,
    "start_time": "2022-04-24T15:00:57.733Z"
   },
   {
    "duration": 67,
    "start_time": "2022-04-24T15:00:57.823Z"
   },
   {
    "duration": 26,
    "start_time": "2022-04-24T15:00:57.893Z"
   },
   {
    "duration": 435,
    "start_time": "2022-04-24T15:00:57.922Z"
   },
   {
    "duration": 7,
    "start_time": "2022-04-24T15:00:58.362Z"
   },
   {
    "duration": 567,
    "start_time": "2022-04-24T15:00:58.383Z"
   },
   {
    "duration": 536,
    "start_time": "2022-04-24T15:00:58.952Z"
   },
   {
    "duration": 639,
    "start_time": "2022-04-24T15:00:59.491Z"
   },
   {
    "duration": 410,
    "start_time": "2022-04-24T15:01:00.133Z"
   },
   {
    "duration": 379,
    "start_time": "2022-04-24T15:01:00.546Z"
   },
   {
    "duration": 358,
    "start_time": "2022-04-24T15:01:00.927Z"
   },
   {
    "duration": 359,
    "start_time": "2022-04-24T15:01:01.288Z"
   },
   {
    "duration": 655,
    "start_time": "2022-04-24T15:01:01.650Z"
   },
   {
    "duration": 651,
    "start_time": "2022-04-24T15:01:02.308Z"
   },
   {
    "duration": 743,
    "start_time": "2022-04-24T15:01:02.962Z"
   },
   {
    "duration": 21,
    "start_time": "2022-04-24T15:01:03.708Z"
   },
   {
    "duration": 10,
    "start_time": "2022-04-24T15:01:03.731Z"
   },
   {
    "duration": 29,
    "start_time": "2022-04-24T15:01:07.044Z"
   },
   {
    "duration": 8,
    "start_time": "2022-04-24T15:01:09.251Z"
   },
   {
    "duration": 6,
    "start_time": "2022-04-24T15:01:09.610Z"
   },
   {
    "duration": 5,
    "start_time": "2022-04-24T15:01:11.852Z"
   },
   {
    "duration": 717,
    "start_time": "2022-04-24T15:01:12.827Z"
   },
   {
    "duration": 14,
    "start_time": "2022-04-24T15:01:17.955Z"
   },
   {
    "duration": 5,
    "start_time": "2022-04-24T15:05:31.193Z"
   },
   {
    "duration": 165,
    "start_time": "2022-04-24T15:05:54.049Z"
   },
   {
    "duration": 15,
    "start_time": "2022-04-24T15:07:40.039Z"
   },
   {
    "duration": 94678,
    "start_time": "2022-04-24T15:08:00.648Z"
   },
   {
    "duration": 5,
    "start_time": "2022-04-24T15:11:03.887Z"
   },
   {
    "duration": 958565,
    "start_time": "2022-04-24T15:11:04.313Z"
   },
   {
    "duration": 9,
    "start_time": "2022-04-24T15:27:17.194Z"
   },
   {
    "duration": 74558,
    "start_time": "2022-04-24T15:27:18.228Z"
   },
   {
    "duration": 67742,
    "start_time": "2022-04-24T15:28:45.452Z"
   },
   {
    "duration": 21117,
    "start_time": "2022-04-24T15:29:55.698Z"
   },
   {
    "duration": 6,
    "start_time": "2022-04-24T15:30:29.018Z"
   },
   {
    "duration": 31,
    "start_time": "2022-04-24T15:31:59.769Z"
   },
   {
    "duration": 21947,
    "start_time": "2022-04-24T15:33:42.464Z"
   },
   {
    "duration": 17,
    "start_time": "2022-04-24T15:34:28.832Z"
   },
   {
    "duration": 20112,
    "start_time": "2022-04-24T15:34:37.166Z"
   },
   {
    "duration": 13,
    "start_time": "2022-04-24T15:35:10.502Z"
   },
   {
    "duration": 113,
    "start_time": "2022-04-24T15:36:45.398Z"
   },
   {
    "duration": 696,
    "start_time": "2022-04-24T15:36:58.607Z"
   },
   {
    "duration": 735,
    "start_time": "2022-04-24T15:37:35.499Z"
   },
   {
    "duration": 8,
    "start_time": "2022-04-24T15:37:47.269Z"
   },
   {
    "duration": 20944,
    "start_time": "2022-04-24T15:42:16.922Z"
   },
   {
    "duration": 5,
    "start_time": "2022-04-24T15:42:41.674Z"
   },
   {
    "duration": 1387,
    "start_time": "2022-04-24T15:42:45.729Z"
   },
   {
    "duration": 17,
    "start_time": "2022-04-24T15:44:40.049Z"
   },
   {
    "duration": 4797,
    "start_time": "2022-04-24T15:45:10.706Z"
   },
   {
    "duration": 8377,
    "start_time": "2022-04-24T15:45:27.377Z"
   },
   {
    "duration": 2712,
    "start_time": "2022-04-24T15:45:53.362Z"
   },
   {
    "duration": 7910,
    "start_time": "2022-04-24T15:46:00.704Z"
   },
   {
    "duration": 8240,
    "start_time": "2022-04-24T15:46:21.977Z"
   },
   {
    "duration": 7238,
    "start_time": "2022-04-24T15:48:17.784Z"
   },
   {
    "duration": 18,
    "start_time": "2022-04-24T15:50:35.208Z"
   },
   {
    "duration": 30026,
    "start_time": "2022-04-24T15:51:02.819Z"
   },
   {
    "duration": 1370,
    "start_time": "2022-04-24T15:52:47.719Z"
   },
   {
    "duration": 1377,
    "start_time": "2022-04-24T15:54:00.328Z"
   },
   {
    "duration": 1326,
    "start_time": "2022-04-24T15:54:06.782Z"
   },
   {
    "duration": 1385,
    "start_time": "2022-04-24T15:54:25.854Z"
   },
   {
    "duration": 1575,
    "start_time": "2022-04-24T15:54:36.950Z"
   },
   {
    "duration": 1619,
    "start_time": "2022-04-24T15:54:46.718Z"
   },
   {
    "duration": 1403,
    "start_time": "2022-04-24T15:55:18.606Z"
   },
   {
    "duration": 1545,
    "start_time": "2022-04-24T15:56:40.741Z"
   },
   {
    "duration": 30331,
    "start_time": "2022-04-24T15:56:54.652Z"
   },
   {
    "duration": 1378,
    "start_time": "2022-04-24T15:57:34.335Z"
   },
   {
    "duration": 5819,
    "start_time": "2022-04-24T16:01:02.212Z"
   },
   {
    "duration": 28212,
    "start_time": "2022-04-24T16:01:29.916Z"
   },
   {
    "duration": 1358,
    "start_time": "2022-04-24T16:02:04.330Z"
   },
   {
    "duration": 1338,
    "start_time": "2022-04-24T16:02:44.075Z"
   },
   {
    "duration": 965,
    "start_time": "2022-04-24T16:05:06.331Z"
   },
   {
    "duration": 4173,
    "start_time": "2022-04-24T16:05:14.923Z"
   },
   {
    "duration": 1403,
    "start_time": "2022-04-24T16:05:44.578Z"
   },
   {
    "duration": 772,
    "start_time": "2022-04-24T16:05:53.530Z"
   },
   {
    "duration": 18660,
    "start_time": "2022-04-24T16:12:12.840Z"
   },
   {
    "duration": 8,
    "start_time": "2022-04-24T16:12:35.286Z"
   },
   {
    "duration": 1527,
    "start_time": "2022-04-24T16:12:36.751Z"
   },
   {
    "duration": 1522,
    "start_time": "2022-04-24T16:13:08.118Z"
   },
   {
    "duration": 7364,
    "start_time": "2022-04-24T16:13:29.661Z"
   },
   {
    "duration": 7797,
    "start_time": "2022-04-24T16:13:46.758Z"
   },
   {
    "duration": 1252,
    "start_time": "2022-04-24T16:14:30.229Z"
   },
   {
    "duration": 4734,
    "start_time": "2022-04-24T16:15:56.189Z"
   },
   {
    "duration": 5534,
    "start_time": "2022-04-24T16:16:11.500Z"
   },
   {
    "duration": 5434,
    "start_time": "2022-04-24T16:16:21.884Z"
   },
   {
    "duration": 1243,
    "start_time": "2022-04-24T16:18:00.844Z"
   },
   {
    "duration": 16397,
    "start_time": "2022-04-24T16:22:25.217Z"
   },
   {
    "duration": 18599,
    "start_time": "2022-04-24T16:22:48.122Z"
   },
   {
    "duration": 5,
    "start_time": "2022-04-24T16:23:13.457Z"
   },
   {
    "duration": 1297,
    "start_time": "2022-04-24T16:23:15.569Z"
   },
   {
    "duration": 5662,
    "start_time": "2022-04-24T16:23:41.480Z"
   },
   {
    "duration": 1468,
    "start_time": "2022-04-24T16:23:53.256Z"
   },
   {
    "duration": 3152,
    "start_time": "2022-04-24T16:24:22.649Z"
   },
   {
    "duration": 342,
    "start_time": "2022-04-24T16:24:30.048Z"
   },
   {
    "duration": 2430,
    "start_time": "2022-04-24T16:24:59.856Z"
   },
   {
    "duration": 902,
    "start_time": "2022-04-24T16:25:04.785Z"
   },
   {
    "duration": 711,
    "start_time": "2022-04-24T16:25:11.984Z"
   },
   {
    "duration": 2162,
    "start_time": "2022-04-24T16:25:23.528Z"
   },
   {
    "duration": 769,
    "start_time": "2022-04-24T16:25:27.912Z"
   },
   {
    "duration": 18797,
    "start_time": "2022-04-24T16:25:35.368Z"
   },
   {
    "duration": 5,
    "start_time": "2022-04-24T16:25:56.128Z"
   },
   {
    "duration": 1245,
    "start_time": "2022-04-24T16:25:57.784Z"
   },
   {
    "duration": 4817,
    "start_time": "2022-04-24T16:26:03.176Z"
   },
   {
    "duration": 1375,
    "start_time": "2022-04-24T16:26:32.871Z"
   },
   {
    "duration": 4,
    "start_time": "2022-04-24T16:26:54.767Z"
   },
   {
    "duration": 592178,
    "start_time": "2022-04-24T16:26:57.783Z"
   },
   {
    "duration": 117309,
    "start_time": "2022-04-24T16:36:51.179Z"
   },
   {
    "duration": 20656,
    "start_time": "2022-04-24T16:38:49.395Z"
   },
   {
    "duration": 8,
    "start_time": "2022-04-24T16:39:12.247Z"
   },
   {
    "duration": 1230,
    "start_time": "2022-04-24T16:39:20.615Z"
   },
   {
    "duration": 5223,
    "start_time": "2022-04-24T16:39:22.893Z"
   },
   {
    "duration": 18443,
    "start_time": "2022-04-24T16:39:43.743Z"
   },
   {
    "duration": 5,
    "start_time": "2022-04-24T16:40:06.831Z"
   },
   {
    "duration": 768,
    "start_time": "2022-04-24T16:40:12.735Z"
   },
   {
    "duration": 4899,
    "start_time": "2022-04-24T16:40:15.944Z"
   },
   {
    "duration": 4706,
    "start_time": "2022-04-24T16:41:44.824Z"
   },
   {
    "duration": 4727,
    "start_time": "2022-04-24T16:42:04.895Z"
   },
   {
    "duration": 5154,
    "start_time": "2022-04-24T16:44:53.911Z"
   },
   {
    "duration": 674,
    "start_time": "2022-04-24T16:45:07.822Z"
   },
   {
    "duration": 3788,
    "start_time": "2022-04-24T16:45:08.499Z"
   },
   {
    "duration": 23779,
    "start_time": "2022-04-24T16:47:41.655Z"
   },
   {
    "duration": 21717,
    "start_time": "2022-04-24T16:48:14.791Z"
   },
   {
    "duration": 6,
    "start_time": "2022-04-24T16:48:36.511Z"
   },
   {
    "duration": 825,
    "start_time": "2022-04-24T16:48:36.520Z"
   },
   {
    "duration": 5378,
    "start_time": "2022-04-24T16:48:49.917Z"
   },
   {
    "duration": 2854,
    "start_time": "2022-04-24T16:53:06.829Z"
   },
   {
    "duration": 2517,
    "start_time": "2022-04-24T16:53:39.685Z"
   },
   {
    "duration": 602,
    "start_time": "2022-04-24T16:53:42.286Z"
   },
   {
    "duration": 2535,
    "start_time": "2022-04-24T16:53:45.749Z"
   },
   {
    "duration": 28,
    "start_time": "2022-04-24T16:55:19.141Z"
   },
   {
    "duration": 7,
    "start_time": "2022-04-24T16:55:37.087Z"
   },
   {
    "duration": 985,
    "start_time": "2022-04-24T16:55:37.097Z"
   },
   {
    "duration": 67,
    "start_time": "2022-04-24T16:55:38.084Z"
   },
   {
    "duration": 80,
    "start_time": "2022-04-24T16:55:38.154Z"
   },
   {
    "duration": 64,
    "start_time": "2022-04-24T16:55:38.236Z"
   },
   {
    "duration": 4,
    "start_time": "2022-04-24T16:55:38.303Z"
   },
   {
    "duration": 734,
    "start_time": "2022-04-24T16:55:38.310Z"
   },
   {
    "duration": 15,
    "start_time": "2022-04-24T16:55:39.047Z"
   },
   {
    "duration": 13,
    "start_time": "2022-04-24T16:55:39.084Z"
   },
   {
    "duration": 21,
    "start_time": "2022-04-24T16:55:39.101Z"
   },
   {
    "duration": 92,
    "start_time": "2022-04-24T16:55:39.125Z"
   },
   {
    "duration": 34,
    "start_time": "2022-04-24T16:55:39.220Z"
   },
   {
    "duration": 41,
    "start_time": "2022-04-24T16:55:39.256Z"
   },
   {
    "duration": 416,
    "start_time": "2022-04-24T16:55:39.300Z"
   },
   {
    "duration": 11,
    "start_time": "2022-04-24T16:55:39.719Z"
   },
   {
    "duration": 636,
    "start_time": "2022-04-24T16:55:39.732Z"
   },
   {
    "duration": 569,
    "start_time": "2022-04-24T16:55:40.370Z"
   },
   {
    "duration": 576,
    "start_time": "2022-04-24T16:55:40.942Z"
   },
   {
    "duration": 475,
    "start_time": "2022-04-24T16:55:41.520Z"
   },
   {
    "duration": 307,
    "start_time": "2022-04-24T16:55:41.998Z"
   },
   {
    "duration": 336,
    "start_time": "2022-04-24T16:55:42.308Z"
   },
   {
    "duration": 339,
    "start_time": "2022-04-24T16:55:42.647Z"
   },
   {
    "duration": 650,
    "start_time": "2022-04-24T16:55:42.988Z"
   },
   {
    "duration": 815,
    "start_time": "2022-04-24T16:55:43.644Z"
   },
   {
    "duration": 661,
    "start_time": "2022-04-24T16:55:44.462Z"
   },
   {
    "duration": 22,
    "start_time": "2022-04-24T16:55:45.126Z"
   },
   {
    "duration": 33,
    "start_time": "2022-04-24T16:55:45.151Z"
   },
   {
    "duration": 21,
    "start_time": "2022-04-24T16:55:45.187Z"
   },
   {
    "duration": 4,
    "start_time": "2022-04-24T16:55:45.210Z"
   },
   {
    "duration": 8,
    "start_time": "2022-04-24T16:55:45.216Z"
   },
   {
    "duration": 15,
    "start_time": "2022-04-24T16:55:45.227Z"
   },
   {
    "duration": 519,
    "start_time": "2022-04-24T16:55:45.244Z"
   },
   {
    "duration": 20,
    "start_time": "2022-04-24T16:55:52.900Z"
   },
   {
    "duration": 18,
    "start_time": "2022-04-24T16:55:58.028Z"
   },
   {
    "duration": 48,
    "start_time": "2022-04-24T16:56:03.089Z"
   },
   {
    "duration": 25,
    "start_time": "2022-04-24T16:56:09.149Z"
   },
   {
    "duration": 49,
    "start_time": "2022-04-24T16:56:11.039Z"
   },
   {
    "duration": 2964,
    "start_time": "2022-04-24T16:56:59.420Z"
   },
   {
    "duration": 444,
    "start_time": "2022-04-24T16:57:25.045Z"
   },
   {
    "duration": 6,
    "start_time": "2022-04-24T16:58:14.279Z"
   },
   {
    "duration": 912,
    "start_time": "2022-04-24T16:58:14.288Z"
   },
   {
    "duration": 90,
    "start_time": "2022-04-24T16:58:15.203Z"
   },
   {
    "duration": 65,
    "start_time": "2022-04-24T16:58:15.297Z"
   },
   {
    "duration": 30,
    "start_time": "2022-04-24T16:58:15.382Z"
   },
   {
    "duration": 7,
    "start_time": "2022-04-24T16:58:15.415Z"
   },
   {
    "duration": 468,
    "start_time": "2022-04-24T16:58:15.424Z"
   },
   {
    "duration": 13,
    "start_time": "2022-04-24T16:58:15.895Z"
   },
   {
    "duration": 9,
    "start_time": "2022-04-24T16:58:15.911Z"
   },
   {
    "duration": 17,
    "start_time": "2022-04-24T16:58:15.924Z"
   },
   {
    "duration": 76,
    "start_time": "2022-04-24T16:58:15.944Z"
   },
   {
    "duration": 31,
    "start_time": "2022-04-24T16:58:16.023Z"
   },
   {
    "duration": 40,
    "start_time": "2022-04-24T16:58:16.057Z"
   },
   {
    "duration": 442,
    "start_time": "2022-04-24T16:58:16.100Z"
   },
   {
    "duration": 8,
    "start_time": "2022-04-24T16:58:16.545Z"
   },
   {
    "duration": 571,
    "start_time": "2022-04-24T16:58:16.555Z"
   },
   {
    "duration": 537,
    "start_time": "2022-04-24T16:58:17.129Z"
   },
   {
    "duration": 571,
    "start_time": "2022-04-24T16:58:17.669Z"
   },
   {
    "duration": 545,
    "start_time": "2022-04-24T16:58:18.243Z"
   },
   {
    "duration": 322,
    "start_time": "2022-04-24T16:58:18.791Z"
   },
   {
    "duration": 300,
    "start_time": "2022-04-24T16:58:19.116Z"
   },
   {
    "duration": 300,
    "start_time": "2022-04-24T16:58:19.419Z"
   },
   {
    "duration": 627,
    "start_time": "2022-04-24T16:58:19.721Z"
   },
   {
    "duration": 658,
    "start_time": "2022-04-24T16:58:20.351Z"
   },
   {
    "duration": 597,
    "start_time": "2022-04-24T16:58:21.012Z"
   },
   {
    "duration": 20,
    "start_time": "2022-04-24T16:58:21.611Z"
   },
   {
    "duration": 12,
    "start_time": "2022-04-24T16:58:21.634Z"
   },
   {
    "duration": 20,
    "start_time": "2022-04-24T16:58:21.681Z"
   },
   {
    "duration": 3,
    "start_time": "2022-04-24T16:58:21.705Z"
   },
   {
    "duration": 8,
    "start_time": "2022-04-24T16:58:21.711Z"
   },
   {
    "duration": 8,
    "start_time": "2022-04-24T16:58:21.722Z"
   },
   {
    "duration": 541,
    "start_time": "2022-04-24T16:58:21.732Z"
   },
   {
    "duration": 23,
    "start_time": "2022-04-24T16:58:22.275Z"
   },
   {
    "duration": 2556,
    "start_time": "2022-04-24T17:02:13.369Z"
   },
   {
    "duration": 3269,
    "start_time": "2022-04-24T17:02:35.818Z"
   },
   {
    "duration": 1134,
    "start_time": "2022-04-24T17:03:40.618Z"
   },
   {
    "duration": 427,
    "start_time": "2022-04-24T17:04:03.273Z"
   },
   {
    "duration": 3865,
    "start_time": "2022-04-24T17:04:37.433Z"
   },
   {
    "duration": 435,
    "start_time": "2022-04-24T17:04:52.449Z"
   },
   {
    "duration": 628,
    "start_time": "2022-04-24T17:05:03.474Z"
   },
   {
    "duration": 5444,
    "start_time": "2022-04-24T17:05:08.762Z"
   },
   {
    "duration": 535,
    "start_time": "2022-04-24T17:05:39.665Z"
   },
   {
    "duration": 5562,
    "start_time": "2022-04-24T17:08:59.448Z"
   },
   {
    "duration": 5,
    "start_time": "2022-04-24T17:09:05.354Z"
   },
   {
    "duration": 1319,
    "start_time": "2022-04-24T17:09:05.607Z"
   },
   {
    "duration": 96,
    "start_time": "2022-04-24T17:11:17.102Z"
   },
   {
    "duration": 8,
    "start_time": "2022-04-24T17:11:22.198Z"
   },
   {
    "duration": 22,
    "start_time": "2022-04-24T17:11:22.877Z"
   },
   {
    "duration": 4,
    "start_time": "2022-04-24T17:11:37.726Z"
   },
   {
    "duration": 17,
    "start_time": "2022-04-24T17:11:39.254Z"
   },
   {
    "duration": 4,
    "start_time": "2022-04-24T17:11:45.022Z"
   },
   {
    "duration": 16,
    "start_time": "2022-04-24T17:11:45.213Z"
   },
   {
    "duration": 13,
    "start_time": "2022-04-24T17:11:50.598Z"
   },
   {
    "duration": 4,
    "start_time": "2022-04-24T17:11:54.942Z"
   },
   {
    "duration": 4484,
    "start_time": "2022-04-24T17:11:55.397Z"
   },
   {
    "duration": 5,
    "start_time": "2022-04-24T17:12:15.958Z"
   },
   {
    "duration": 17,
    "start_time": "2022-04-24T17:13:22.045Z"
   },
   {
    "duration": 83,
    "start_time": "2022-04-24T17:13:27.365Z"
   },
   {
    "duration": 378,
    "start_time": "2022-04-24T17:13:49.773Z"
   },
   {
    "duration": 5,
    "start_time": "2022-04-24T17:14:46.908Z"
   },
   {
    "duration": 11,
    "start_time": "2022-04-24T17:14:51.941Z"
   },
   {
    "duration": 12,
    "start_time": "2022-04-24T17:15:25.988Z"
   },
   {
    "duration": 7565,
    "start_time": "2022-04-24T17:15:38.150Z"
   },
   {
    "duration": 6,
    "start_time": "2022-04-24T17:16:05.812Z"
   },
   {
    "duration": 4026,
    "start_time": "2022-04-24T17:16:06.238Z"
   },
   {
    "duration": 4,
    "start_time": "2022-04-24T17:17:21.564Z"
   },
   {
    "duration": 129145,
    "start_time": "2022-04-24T17:17:21.989Z"
   },
   {
    "duration": 7,
    "start_time": "2022-04-24T17:20:19.210Z"
   },
   {
    "duration": 17,
    "start_time": "2022-04-24T17:21:11.930Z"
   },
   {
    "duration": 17,
    "start_time": "2022-04-24T17:21:17.859Z"
   },
   {
    "duration": 20,
    "start_time": "2022-04-24T17:21:36.922Z"
   },
   {
    "duration": 16,
    "start_time": "2022-04-24T17:21:43.082Z"
   },
   {
    "duration": 14,
    "start_time": "2022-04-24T17:21:50.673Z"
   },
   {
    "duration": 14,
    "start_time": "2022-04-24T17:22:08.795Z"
   },
   {
    "duration": 7827,
    "start_time": "2022-04-24T17:22:12.785Z"
   },
   {
    "duration": 1630,
    "start_time": "2022-04-24T17:22:43.193Z"
   },
   {
    "duration": 5836,
    "start_time": "2022-04-24T17:23:08.714Z"
   },
   {
    "duration": 7864,
    "start_time": "2022-04-24T17:23:21.194Z"
   },
   {
    "duration": 1395,
    "start_time": "2022-04-24T17:23:29.061Z"
   },
   {
    "duration": 8326,
    "start_time": "2022-04-24T17:23:51.993Z"
   },
   {
    "duration": 7968,
    "start_time": "2022-04-24T17:24:11.642Z"
   },
   {
    "duration": 10049,
    "start_time": "2022-04-24T17:26:30.112Z"
   },
   {
    "duration": 1551,
    "start_time": "2022-04-24T17:26:40.164Z"
   },
   {
    "duration": 7702,
    "start_time": "2022-04-24T17:26:51.025Z"
   },
   {
    "duration": 1447,
    "start_time": "2022-04-24T17:26:58.730Z"
   },
   {
    "duration": 31,
    "start_time": "2022-04-24T17:28:55.311Z"
   },
   {
    "duration": 4,
    "start_time": "2022-04-24T17:29:03.390Z"
   },
   {
    "duration": 4232,
    "start_time": "2022-04-24T17:29:03.742Z"
   },
   {
    "duration": 12,
    "start_time": "2022-04-24T17:29:22.486Z"
   },
   {
    "duration": 10,
    "start_time": "2022-04-24T17:29:28.550Z"
   },
   {
    "duration": 13,
    "start_time": "2022-04-24T17:29:59.998Z"
   },
   {
    "duration": 4,
    "start_time": "2022-04-24T19:30:14.277Z"
   },
   {
    "duration": 1238,
    "start_time": "2022-04-24T19:30:14.290Z"
   },
   {
    "duration": 84,
    "start_time": "2022-04-24T19:30:15.532Z"
   },
   {
    "duration": 89,
    "start_time": "2022-04-24T19:30:15.619Z"
   },
   {
    "duration": 31,
    "start_time": "2022-04-24T19:30:15.711Z"
   },
   {
    "duration": 4,
    "start_time": "2022-04-24T19:30:15.747Z"
   },
   {
    "duration": 463,
    "start_time": "2022-04-24T19:30:15.782Z"
   },
   {
    "duration": 13,
    "start_time": "2022-04-24T19:30:16.248Z"
   },
   {
    "duration": 27,
    "start_time": "2022-04-24T19:30:16.263Z"
   },
   {
    "duration": 10,
    "start_time": "2022-04-24T19:30:16.292Z"
   },
   {
    "duration": 90,
    "start_time": "2022-04-24T19:30:16.304Z"
   },
   {
    "duration": 27,
    "start_time": "2022-04-24T19:30:16.397Z"
   },
   {
    "duration": 25,
    "start_time": "2022-04-24T19:30:16.427Z"
   },
   {
    "duration": 557,
    "start_time": "2022-04-24T19:30:16.481Z"
   },
   {
    "duration": 10,
    "start_time": "2022-04-24T19:30:17.045Z"
   },
   {
    "duration": 552,
    "start_time": "2022-04-24T19:30:17.057Z"
   },
   {
    "duration": 539,
    "start_time": "2022-04-24T19:30:17.613Z"
   },
   {
    "duration": 506,
    "start_time": "2022-04-24T19:30:18.154Z"
   },
   {
    "duration": 424,
    "start_time": "2022-04-24T19:30:18.663Z"
   },
   {
    "duration": 315,
    "start_time": "2022-04-24T19:30:19.090Z"
   },
   {
    "duration": 290,
    "start_time": "2022-04-24T19:30:19.408Z"
   },
   {
    "duration": 326,
    "start_time": "2022-04-24T19:30:19.700Z"
   },
   {
    "duration": 635,
    "start_time": "2022-04-24T19:30:20.028Z"
   },
   {
    "duration": 668,
    "start_time": "2022-04-24T19:30:20.665Z"
   },
   {
    "duration": 881,
    "start_time": "2022-04-24T19:30:21.335Z"
   },
   {
    "duration": 26,
    "start_time": "2022-04-24T19:30:22.218Z"
   },
   {
    "duration": 36,
    "start_time": "2022-04-24T19:30:22.247Z"
   },
   {
    "duration": 22,
    "start_time": "2022-04-24T19:30:22.287Z"
   },
   {
    "duration": 4,
    "start_time": "2022-04-24T19:30:22.311Z"
   },
   {
    "duration": 7,
    "start_time": "2022-04-24T19:30:22.317Z"
   },
   {
    "duration": 6,
    "start_time": "2022-04-24T19:30:22.326Z"
   },
   {
    "duration": 463,
    "start_time": "2022-04-24T19:30:22.334Z"
   },
   {
    "duration": 21,
    "start_time": "2022-04-24T19:30:22.799Z"
   },
   {
    "duration": 3167,
    "start_time": "2022-04-24T19:30:22.823Z"
   },
   {
    "duration": 698,
    "start_time": "2022-04-24T19:30:26.102Z"
   },
   {
    "duration": 4,
    "start_time": "2022-04-24T19:30:26.803Z"
   },
   {
    "duration": 92,
    "start_time": "2022-04-24T19:30:26.810Z"
   },
   {
    "duration": 5,
    "start_time": "2022-04-24T19:30:52.202Z"
   },
   {
    "duration": 6,
    "start_time": "2022-04-24T19:31:42.028Z"
   },
   {
    "duration": 15,
    "start_time": "2022-04-24T19:31:46.895Z"
   },
   {
    "duration": 6,
    "start_time": "2022-04-24T19:32:16.139Z"
   },
   {
    "duration": 15,
    "start_time": "2022-04-24T19:32:17.116Z"
   },
   {
    "duration": 12,
    "start_time": "2022-04-24T19:32:54.531Z"
   },
   {
    "duration": 105,
    "start_time": "2022-04-24T19:33:06.339Z"
   },
   {
    "duration": 113,
    "start_time": "2022-04-24T19:33:10.099Z"
   },
   {
    "duration": 112,
    "start_time": "2022-04-24T19:33:13.667Z"
   },
   {
    "duration": 4,
    "start_time": "2022-04-24T19:33:40.347Z"
   },
   {
    "duration": 4074,
    "start_time": "2022-04-24T19:33:41.034Z"
   },
   {
    "duration": 6,
    "start_time": "2022-04-24T19:33:50.722Z"
   },
   {
    "duration": 78,
    "start_time": "2022-04-24T19:33:54.291Z"
   },
   {
    "duration": 424,
    "start_time": "2022-04-24T19:33:57.603Z"
   },
   {
    "duration": 12,
    "start_time": "2022-04-24T19:35:20.026Z"
   },
   {
    "duration": 5434,
    "start_time": "2022-04-24T19:35:24.699Z"
   },
   {
    "duration": 5,
    "start_time": "2022-04-24T19:35:34.883Z"
   },
   {
    "duration": 61,
    "start_time": "2022-04-24T19:35:35.626Z"
   },
   {
    "duration": 87,
    "start_time": "2022-04-24T19:35:38.738Z"
   },
   {
    "duration": 400,
    "start_time": "2022-04-24T19:35:41.138Z"
   },
   {
    "duration": 3060,
    "start_time": "2022-04-24T19:35:55.633Z"
   },
   {
    "duration": 367,
    "start_time": "2022-04-24T19:35:59.625Z"
   },
   {
    "duration": 120698,
    "start_time": "2022-04-24T19:36:45.930Z"
   },
   {
    "duration": 0,
    "start_time": "2022-04-24T19:38:46.631Z"
   },
   {
    "duration": 635,
    "start_time": "2022-04-24T19:38:49.313Z"
   },
   {
    "duration": 5,
    "start_time": "2022-04-24T19:38:59.168Z"
   },
   {
    "duration": 178732,
    "start_time": "2022-04-24T19:38:59.498Z"
   },
   {
    "duration": 5,
    "start_time": "2022-04-24T19:43:00.567Z"
   },
   {
    "duration": 7,
    "start_time": "2022-04-24T19:43:09.934Z"
   },
   {
    "duration": 2519,
    "start_time": "2022-04-24T19:43:17.263Z"
   },
   {
    "duration": 459,
    "start_time": "2022-04-24T19:43:25.925Z"
   },
   {
    "duration": 5,
    "start_time": "2022-04-24T19:55:09.699Z"
   },
   {
    "duration": 16,
    "start_time": "2022-04-24T19:55:44.754Z"
   },
   {
    "duration": 7,
    "start_time": "2022-04-24T19:55:49.034Z"
   },
   {
    "duration": 42,
    "start_time": "2022-04-24T19:55:52.306Z"
   },
   {
    "duration": 4528,
    "start_time": "2022-04-24T19:57:16.762Z"
   },
   {
    "duration": 2363,
    "start_time": "2022-04-24T19:57:24.026Z"
   },
   {
    "duration": 6,
    "start_time": "2022-04-24T19:57:37.026Z"
   },
   {
    "duration": 4498,
    "start_time": "2022-04-24T19:57:37.321Z"
   },
   {
    "duration": 6,
    "start_time": "2022-04-24T19:57:41.823Z"
   },
   {
    "duration": 101,
    "start_time": "2022-04-24T19:57:53.922Z"
   },
   {
    "duration": 580,
    "start_time": "2022-04-24T19:57:55.321Z"
   },
   {
    "duration": 631,
    "start_time": "2022-04-24T19:58:05.017Z"
   },
   {
    "duration": 4,
    "start_time": "2022-04-24T19:58:17.049Z"
   },
   {
    "duration": 4590,
    "start_time": "2022-04-24T19:58:17.337Z"
   },
   {
    "duration": 6,
    "start_time": "2022-04-24T19:58:31.091Z"
   },
   {
    "duration": 105,
    "start_time": "2022-04-24T19:58:37.736Z"
   },
   {
    "duration": 593,
    "start_time": "2022-04-24T19:58:57.839Z"
   },
   {
    "duration": 103,
    "start_time": "2022-04-24T19:59:00.368Z"
   },
   {
    "duration": 616,
    "start_time": "2022-04-24T19:59:00.857Z"
   },
   {
    "duration": 108,
    "start_time": "2022-04-24T19:59:14.121Z"
   },
   {
    "duration": 471,
    "start_time": "2022-04-24T19:59:14.352Z"
   },
   {
    "duration": 4449,
    "start_time": "2022-04-24T19:59:28.816Z"
   },
   {
    "duration": 17,
    "start_time": "2022-04-24T19:59:33.269Z"
   },
   {
    "duration": 118,
    "start_time": "2022-04-24T19:59:40.128Z"
   },
   {
    "duration": 430,
    "start_time": "2022-04-24T19:59:41.040Z"
   },
   {
    "duration": 4,
    "start_time": "2022-04-24T20:00:00.112Z"
   },
   {
    "duration": 140814,
    "start_time": "2022-04-24T20:00:00.728Z"
   },
   {
    "duration": 6,
    "start_time": "2022-04-24T20:02:21.545Z"
   },
   {
    "duration": 150,
    "start_time": "2022-04-24T20:02:21.554Z"
   },
   {
    "duration": 2836,
    "start_time": "2022-04-24T20:03:25.078Z"
   },
   {
    "duration": 663,
    "start_time": "2022-04-24T20:03:37.439Z"
   },
   {
    "duration": 3,
    "start_time": "2022-04-24T20:04:50.966Z"
   },
   {
    "duration": 1657,
    "start_time": "2022-04-25T15:35:51.574Z"
   },
   {
    "duration": 658,
    "start_time": "2022-04-25T15:35:53.233Z"
   },
   {
    "duration": 30,
    "start_time": "2022-04-25T15:35:53.892Z"
   },
   {
    "duration": 55,
    "start_time": "2022-04-25T15:35:53.924Z"
   },
   {
    "duration": 20,
    "start_time": "2022-04-25T15:35:53.980Z"
   },
   {
    "duration": 10,
    "start_time": "2022-04-25T15:35:54.001Z"
   },
   {
    "duration": 251,
    "start_time": "2022-04-25T15:35:54.013Z"
   },
   {
    "duration": 7,
    "start_time": "2022-04-25T15:35:54.266Z"
   },
   {
    "duration": 6,
    "start_time": "2022-04-25T15:35:54.275Z"
   },
   {
    "duration": 5,
    "start_time": "2022-04-25T15:35:54.284Z"
   },
   {
    "duration": 29,
    "start_time": "2022-04-25T15:35:54.291Z"
   },
   {
    "duration": 60,
    "start_time": "2022-04-25T15:35:54.322Z"
   },
   {
    "duration": 13,
    "start_time": "2022-04-25T15:35:54.384Z"
   },
   {
    "duration": 242,
    "start_time": "2022-04-25T15:35:54.399Z"
   },
   {
    "duration": 11,
    "start_time": "2022-04-25T15:35:54.643Z"
   },
   {
    "duration": 264,
    "start_time": "2022-04-25T15:35:54.656Z"
   },
   {
    "duration": 254,
    "start_time": "2022-04-25T15:35:54.922Z"
   },
   {
    "duration": 329,
    "start_time": "2022-04-25T15:35:55.178Z"
   },
   {
    "duration": 210,
    "start_time": "2022-04-25T15:35:55.509Z"
   },
   {
    "duration": 158,
    "start_time": "2022-04-25T15:35:55.721Z"
   },
   {
    "duration": 171,
    "start_time": "2022-04-25T15:35:55.880Z"
   },
   {
    "duration": 180,
    "start_time": "2022-04-25T15:35:56.055Z"
   },
   {
    "duration": 328,
    "start_time": "2022-04-25T15:35:56.237Z"
   },
   {
    "duration": 328,
    "start_time": "2022-04-25T15:35:56.567Z"
   },
   {
    "duration": 400,
    "start_time": "2022-04-25T15:35:56.897Z"
   },
   {
    "duration": 15,
    "start_time": "2022-04-25T15:35:57.298Z"
   },
   {
    "duration": 7,
    "start_time": "2022-04-25T15:35:57.314Z"
   },
   {
    "duration": 40,
    "start_time": "2022-04-25T15:35:57.324Z"
   },
   {
    "duration": 3,
    "start_time": "2022-04-25T15:35:57.366Z"
   },
   {
    "duration": 5,
    "start_time": "2022-04-25T15:35:57.371Z"
   },
   {
    "duration": 280,
    "start_time": "2022-04-25T15:35:57.377Z"
   },
   {
    "duration": 15,
    "start_time": "2022-04-25T15:36:00.142Z"
   },
   {
    "duration": 2185,
    "start_time": "2022-04-25T15:36:01.870Z"
   },
   {
    "duration": 809,
    "start_time": "2022-04-25T15:36:11.148Z"
   },
   {
    "duration": 3,
    "start_time": "2022-04-25T15:36:18.357Z"
   },
   {
    "duration": 108,
    "start_time": "2022-04-25T15:36:18.909Z"
   },
   {
    "duration": 4,
    "start_time": "2022-04-25T15:37:52.973Z"
   },
   {
    "duration": 3201,
    "start_time": "2022-04-25T15:38:01.701Z"
   },
   {
    "duration": 3,
    "start_time": "2022-04-25T15:38:09.236Z"
   },
   {
    "duration": 340,
    "start_time": "2022-04-25T15:38:21.669Z"
   },
   {
    "duration": 60,
    "start_time": "2022-04-25T15:38:34.164Z"
   },
   {
    "duration": 60,
    "start_time": "2022-04-25T15:38:45.565Z"
   },
   {
    "duration": 3,
    "start_time": "2022-04-25T15:39:18.540Z"
   },
   {
    "duration": 3,
    "start_time": "2022-04-25T15:39:22.763Z"
   },
   {
    "duration": 2754,
    "start_time": "2022-04-25T15:39:24.188Z"
   },
   {
    "duration": 3,
    "start_time": "2022-04-25T15:39:29.124Z"
   },
   {
    "duration": 236,
    "start_time": "2022-04-25T15:39:30.843Z"
   },
   {
    "duration": 60,
    "start_time": "2022-04-25T15:39:42.204Z"
   },
   {
    "duration": 3,
    "start_time": "2022-04-25T15:39:50.932Z"
   },
   {
    "duration": 89204,
    "start_time": "2022-04-25T15:39:51.843Z"
   },
   {
    "duration": 8,
    "start_time": "2022-04-25T15:41:21.049Z"
   },
   {
    "duration": 927,
    "start_time": "2022-04-25T15:41:31.787Z"
   },
   {
    "duration": 441,
    "start_time": "2022-04-25T15:41:33.762Z"
   },
   {
    "duration": 227,
    "start_time": "2022-04-25T15:41:41.619Z"
   },
   {
    "duration": 3,
    "start_time": "2022-04-25T15:42:36.602Z"
   },
   {
    "duration": 2812,
    "start_time": "2022-04-25T15:42:37.057Z"
   },
   {
    "duration": 4,
    "start_time": "2022-04-25T15:42:41.402Z"
   },
   {
    "duration": 236,
    "start_time": "2022-04-25T15:42:58.994Z"
   },
   {
    "duration": 58,
    "start_time": "2022-04-25T15:43:00.226Z"
   },
   {
    "duration": 60,
    "start_time": "2022-04-25T15:43:02.305Z"
   },
   {
    "duration": 2501,
    "start_time": "2022-04-25T15:43:18.954Z"
   },
   {
    "duration": 58,
    "start_time": "2022-04-25T15:43:23.986Z"
   },
   {
    "duration": 879,
    "start_time": "2022-04-25T15:43:31.323Z"
   },
   {
    "duration": 3,
    "start_time": "2022-04-25T15:43:51.218Z"
   },
   {
    "duration": 299543,
    "start_time": "2022-04-25T15:43:51.698Z"
   },
   {
    "duration": 0,
    "start_time": "2022-04-25T15:48:51.243Z"
   },
   {
    "duration": 3,
    "start_time": "2022-04-25T15:49:03.272Z"
   },
   {
    "duration": 12852,
    "start_time": "2022-04-25T15:49:03.791Z"
   },
   {
    "duration": 3,
    "start_time": "2022-04-25T15:49:20.567Z"
   },
   {
    "duration": 14246,
    "start_time": "2022-04-25T15:49:21.023Z"
   },
   {
    "duration": 4,
    "start_time": "2022-04-25T15:49:38.615Z"
   },
   {
    "duration": 1812,
    "start_time": "2022-04-25T15:49:42.183Z"
   },
   {
    "duration": 458,
    "start_time": "2022-04-25T15:49:58.991Z"
   },
   {
    "duration": 3,
    "start_time": "2022-04-25T15:50:07.727Z"
   },
   {
    "duration": 69544,
    "start_time": "2022-04-25T15:50:08.112Z"
   },
   {
    "duration": 4,
    "start_time": "2022-04-25T15:52:14.356Z"
   },
   {
    "duration": 740,
    "start_time": "2022-04-25T15:52:14.362Z"
   },
   {
    "duration": 27,
    "start_time": "2022-04-25T15:52:15.104Z"
   },
   {
    "duration": 48,
    "start_time": "2022-04-25T15:52:15.133Z"
   },
   {
    "duration": 16,
    "start_time": "2022-04-25T15:52:15.183Z"
   },
   {
    "duration": 13,
    "start_time": "2022-04-25T15:52:15.201Z"
   },
   {
    "duration": 242,
    "start_time": "2022-04-25T15:52:15.215Z"
   },
   {
    "duration": 8,
    "start_time": "2022-04-25T15:52:15.458Z"
   },
   {
    "duration": 27,
    "start_time": "2022-04-25T15:52:15.468Z"
   },
   {
    "duration": 15,
    "start_time": "2022-04-25T15:52:15.496Z"
   },
   {
    "duration": 42,
    "start_time": "2022-04-25T15:52:15.512Z"
   },
   {
    "duration": 46,
    "start_time": "2022-04-25T15:52:15.556Z"
   },
   {
    "duration": 18,
    "start_time": "2022-04-25T15:52:15.603Z"
   },
   {
    "duration": 226,
    "start_time": "2022-04-25T15:52:15.622Z"
   },
   {
    "duration": 5,
    "start_time": "2022-04-25T15:52:15.850Z"
   },
   {
    "duration": 236,
    "start_time": "2022-04-25T15:52:15.857Z"
   },
   {
    "duration": 232,
    "start_time": "2022-04-25T15:52:16.095Z"
   },
   {
    "duration": 248,
    "start_time": "2022-04-25T15:52:16.329Z"
   },
   {
    "duration": 205,
    "start_time": "2022-04-25T15:52:16.579Z"
   },
   {
    "duration": 155,
    "start_time": "2022-04-25T15:52:16.785Z"
   },
   {
    "duration": 272,
    "start_time": "2022-04-25T15:52:16.942Z"
   },
   {
    "duration": 172,
    "start_time": "2022-04-25T15:52:17.215Z"
   },
   {
    "duration": 309,
    "start_time": "2022-04-25T15:52:17.389Z"
   },
   {
    "duration": 307,
    "start_time": "2022-04-25T15:52:17.701Z"
   },
   {
    "duration": 301,
    "start_time": "2022-04-25T15:52:18.010Z"
   },
   {
    "duration": 13,
    "start_time": "2022-04-25T15:52:18.313Z"
   },
   {
    "duration": 6,
    "start_time": "2022-04-25T15:52:18.328Z"
   },
   {
    "duration": 31,
    "start_time": "2022-04-25T15:52:18.335Z"
   },
   {
    "duration": 3,
    "start_time": "2022-04-25T15:52:18.368Z"
   },
   {
    "duration": 13,
    "start_time": "2022-04-25T15:52:18.372Z"
   },
   {
    "duration": 281,
    "start_time": "2022-04-25T15:52:18.386Z"
   },
   {
    "duration": 15,
    "start_time": "2022-04-25T15:52:22.351Z"
   },
   {
    "duration": 1610,
    "start_time": "2022-04-25T15:52:23.646Z"
   },
   {
    "duration": 195,
    "start_time": "2022-04-25T15:52:26.566Z"
   },
   {
    "duration": 3,
    "start_time": "2022-04-25T15:52:57.141Z"
   },
   {
    "duration": 2771,
    "start_time": "2022-04-25T15:53:01.750Z"
   },
   {
    "duration": 4,
    "start_time": "2022-04-25T15:53:15.965Z"
   },
   {
    "duration": 230,
    "start_time": "2022-04-25T15:53:53.614Z"
   },
   {
    "duration": 65,
    "start_time": "2022-04-25T15:54:24.998Z"
   },
   {
    "duration": 3,
    "start_time": "2022-04-25T15:54:29.309Z"
   },
   {
    "duration": 28666,
    "start_time": "2022-04-25T15:54:30.678Z"
   },
   {
    "duration": 62,
    "start_time": "2022-04-25T15:55:02.021Z"
   },
   {
    "duration": 57,
    "start_time": "2022-04-25T15:55:08.550Z"
   },
   {
    "duration": 231,
    "start_time": "2022-04-25T15:55:11.724Z"
   },
   {
    "duration": 58,
    "start_time": "2022-04-25T15:55:12.764Z"
   },
   {
    "duration": 3,
    "start_time": "2022-04-25T15:55:20.819Z"
   },
   {
    "duration": 88442,
    "start_time": "2022-04-25T15:55:22.502Z"
   },
   {
    "duration": 4,
    "start_time": "2022-04-25T15:56:59.412Z"
   },
   {
    "duration": 893,
    "start_time": "2022-04-25T15:57:23.748Z"
   },
   {
    "duration": 223,
    "start_time": "2022-04-25T15:57:33.812Z"
   },
   {
    "duration": 3,
    "start_time": "2022-04-25T15:57:39.820Z"
   },
   {
    "duration": 2788,
    "start_time": "2022-04-25T15:57:40.204Z"
   },
   {
    "duration": 3,
    "start_time": "2022-04-25T15:57:44.068Z"
   },
   {
    "duration": 233,
    "start_time": "2022-04-25T15:57:47.508Z"
   },
   {
    "duration": 60,
    "start_time": "2022-04-25T15:57:48.804Z"
   },
   {
    "duration": 3,
    "start_time": "2022-04-25T15:59:38.435Z"
   },
   {
    "duration": 244,
    "start_time": "2022-04-25T15:59:39.051Z"
   },
   {
    "duration": 58,
    "start_time": "2022-04-25T15:59:40.675Z"
   },
   {
    "duration": 3,
    "start_time": "2022-04-25T15:59:48.627Z"
   },
   {
    "duration": 236,
    "start_time": "2022-04-25T15:59:48.956Z"
   },
   {
    "duration": 60,
    "start_time": "2022-04-25T15:59:49.860Z"
   },
   {
    "duration": 3,
    "start_time": "2022-04-25T15:59:55.382Z"
   },
   {
    "duration": 238,
    "start_time": "2022-04-25T15:59:55.739Z"
   },
   {
    "duration": 60,
    "start_time": "2022-04-25T15:59:56.547Z"
   },
   {
    "duration": 3,
    "start_time": "2022-04-25T16:00:54.932Z"
   },
   {
    "duration": 2883,
    "start_time": "2022-04-25T16:00:55.291Z"
   },
   {
    "duration": 4,
    "start_time": "2022-04-25T16:00:58.176Z"
   },
   {
    "duration": 10,
    "start_time": "2022-04-25T16:00:58.181Z"
   },
   {
    "duration": 3928,
    "start_time": "2022-04-25T16:01:04.116Z"
   },
   {
    "duration": 75,
    "start_time": "2022-04-25T16:01:12.683Z"
   },
   {
    "duration": 3,
    "start_time": "2022-04-25T16:01:15.289Z"
   },
   {
    "duration": 89834,
    "start_time": "2022-04-25T16:01:15.603Z"
   },
   {
    "duration": 4,
    "start_time": "2022-04-25T16:02:45.439Z"
   },
   {
    "duration": 1108,
    "start_time": "2022-04-25T16:02:45.454Z"
   },
   {
    "duration": 228,
    "start_time": "2022-04-25T16:02:46.565Z"
   },
   {
    "duration": 3,
    "start_time": "2022-04-25T16:03:01.858Z"
   },
   {
    "duration": 8,
    "start_time": "2022-04-25T16:03:02.314Z"
   },
   {
    "duration": 2844,
    "start_time": "2022-04-25T16:03:08.706Z"
   },
   {
    "duration": 321,
    "start_time": "2022-04-25T16:04:10.945Z"
   },
   {
    "duration": 77,
    "start_time": "2022-04-25T16:04:52.032Z"
   },
   {
    "duration": 1978,
    "start_time": "2022-04-25T16:07:29.481Z"
   },
   {
    "duration": 152,
    "start_time": "2022-04-25T16:07:44.209Z"
   },
   {
    "duration": 3,
    "start_time": "2022-04-25T16:09:11.368Z"
   },
   {
    "duration": 4893,
    "start_time": "2022-04-25T16:09:11.599Z"
   },
   {
    "duration": 3,
    "start_time": "2022-04-25T16:09:24.575Z"
   },
   {
    "duration": 91823,
    "start_time": "2022-04-25T16:09:24.736Z"
   },
   {
    "duration": 4,
    "start_time": "2022-04-25T16:11:00.951Z"
   },
   {
    "duration": 1739,
    "start_time": "2022-04-25T16:11:08.903Z"
   },
   {
    "duration": 233,
    "start_time": "2022-04-25T16:11:12.176Z"
   },
   {
    "duration": 228,
    "start_time": "2022-04-25T16:11:17.527Z"
   },
   {
    "duration": 2,
    "start_time": "2022-04-25T16:13:12.663Z"
   },
   {
    "duration": 3,
    "start_time": "2022-04-25T16:13:28.950Z"
   },
   {
    "duration": 236,
    "start_time": "2022-04-25T16:13:46.510Z"
   },
   {
    "duration": 236,
    "start_time": "2022-04-25T16:14:00.982Z"
   },
   {
    "duration": 2,
    "start_time": "2022-04-25T16:14:15.295Z"
   },
   {
    "duration": 2,
    "start_time": "2022-04-25T16:14:21.326Z"
   },
   {
    "duration": 243,
    "start_time": "2022-04-25T16:14:46.117Z"
   },
   {
    "duration": 4,
    "start_time": "2022-04-25T16:15:04.454Z"
   },
   {
    "duration": 15,
    "start_time": "2022-04-25T16:16:12.799Z"
   },
   {
    "duration": 3,
    "start_time": "2022-04-25T16:16:18.083Z"
   },
   {
    "duration": 676,
    "start_time": "2022-04-25T16:16:18.088Z"
   },
   {
    "duration": 28,
    "start_time": "2022-04-25T16:16:18.765Z"
   },
   {
    "duration": 31,
    "start_time": "2022-04-25T16:16:18.795Z"
   },
   {
    "duration": 42,
    "start_time": "2022-04-25T16:16:18.828Z"
   },
   {
    "duration": 8,
    "start_time": "2022-04-25T16:16:18.871Z"
   },
   {
    "duration": 232,
    "start_time": "2022-04-25T16:16:18.880Z"
   },
   {
    "duration": 10,
    "start_time": "2022-04-25T16:16:19.114Z"
   },
   {
    "duration": 8,
    "start_time": "2022-04-25T16:16:19.127Z"
   },
   {
    "duration": 8,
    "start_time": "2022-04-25T16:16:19.155Z"
   },
   {
    "duration": 44,
    "start_time": "2022-04-25T16:16:19.165Z"
   },
   {
    "duration": 28,
    "start_time": "2022-04-25T16:16:19.211Z"
   },
   {
    "duration": 25,
    "start_time": "2022-04-25T16:16:19.241Z"
   },
   {
    "duration": 254,
    "start_time": "2022-04-25T16:16:19.268Z"
   },
   {
    "duration": 6,
    "start_time": "2022-04-25T16:16:19.524Z"
   },
   {
    "duration": 370,
    "start_time": "2022-04-25T16:16:19.531Z"
   },
   {
    "duration": 250,
    "start_time": "2022-04-25T16:16:19.902Z"
   },
   {
    "duration": 253,
    "start_time": "2022-04-25T16:16:20.153Z"
   },
   {
    "duration": 225,
    "start_time": "2022-04-25T16:16:20.407Z"
   },
   {
    "duration": 183,
    "start_time": "2022-04-25T16:16:20.634Z"
   },
   {
    "duration": 165,
    "start_time": "2022-04-25T16:16:20.819Z"
   },
   {
    "duration": 179,
    "start_time": "2022-04-25T16:16:20.986Z"
   },
   {
    "duration": 321,
    "start_time": "2022-04-25T16:16:21.167Z"
   },
   {
    "duration": 469,
    "start_time": "2022-04-25T16:16:21.491Z"
   },
   {
    "duration": 322,
    "start_time": "2022-04-25T16:16:21.961Z"
   },
   {
    "duration": 14,
    "start_time": "2022-04-25T16:16:22.285Z"
   },
   {
    "duration": 31,
    "start_time": "2022-04-25T16:16:22.300Z"
   },
   {
    "duration": 13,
    "start_time": "2022-04-25T16:16:22.332Z"
   },
   {
    "duration": 7,
    "start_time": "2022-04-25T16:16:22.347Z"
   },
   {
    "duration": 6,
    "start_time": "2022-04-25T16:16:22.355Z"
   },
   {
    "duration": 18,
    "start_time": "2022-04-25T16:16:22.363Z"
   },
   {
    "duration": 15,
    "start_time": "2022-04-25T16:16:24.383Z"
   },
   {
    "duration": 24,
    "start_time": "2022-04-25T16:16:56.733Z"
   },
   {
    "duration": 4,
    "start_time": "2022-04-25T16:17:29.706Z"
   },
   {
    "duration": 668,
    "start_time": "2022-04-25T16:17:29.712Z"
   },
   {
    "duration": 29,
    "start_time": "2022-04-25T16:17:30.382Z"
   },
   {
    "duration": 54,
    "start_time": "2022-04-25T16:17:30.413Z"
   },
   {
    "duration": 19,
    "start_time": "2022-04-25T16:17:30.469Z"
   },
   {
    "duration": 7,
    "start_time": "2022-04-25T16:17:30.489Z"
   },
   {
    "duration": 235,
    "start_time": "2022-04-25T16:17:30.498Z"
   },
   {
    "duration": 8,
    "start_time": "2022-04-25T16:17:30.735Z"
   },
   {
    "duration": 7,
    "start_time": "2022-04-25T16:17:30.756Z"
   },
   {
    "duration": 14,
    "start_time": "2022-04-25T16:17:30.764Z"
   },
   {
    "duration": 38,
    "start_time": "2022-04-25T16:17:30.780Z"
   },
   {
    "duration": 38,
    "start_time": "2022-04-25T16:17:30.820Z"
   },
   {
    "duration": 15,
    "start_time": "2022-04-25T16:17:30.860Z"
   },
   {
    "duration": 250,
    "start_time": "2022-04-25T16:17:30.877Z"
   },
   {
    "duration": 5,
    "start_time": "2022-04-25T16:17:31.129Z"
   },
   {
    "duration": 301,
    "start_time": "2022-04-25T16:17:31.136Z"
   },
   {
    "duration": 250,
    "start_time": "2022-04-25T16:17:31.439Z"
   },
   {
    "duration": 254,
    "start_time": "2022-04-25T16:17:31.691Z"
   },
   {
    "duration": 214,
    "start_time": "2022-04-25T16:17:31.946Z"
   },
   {
    "duration": 165,
    "start_time": "2022-04-25T16:17:32.161Z"
   },
   {
    "duration": 163,
    "start_time": "2022-04-25T16:17:32.327Z"
   },
   {
    "duration": 175,
    "start_time": "2022-04-25T16:17:32.492Z"
   },
   {
    "duration": 471,
    "start_time": "2022-04-25T16:17:32.669Z"
   },
   {
    "duration": 327,
    "start_time": "2022-04-25T16:17:33.143Z"
   },
   {
    "duration": 320,
    "start_time": "2022-04-25T16:17:33.472Z"
   },
   {
    "duration": 14,
    "start_time": "2022-04-25T16:17:33.793Z"
   },
   {
    "duration": 7,
    "start_time": "2022-04-25T16:17:33.809Z"
   },
   {
    "duration": 13,
    "start_time": "2022-04-25T16:17:33.817Z"
   },
   {
    "duration": 24,
    "start_time": "2022-04-25T16:17:33.832Z"
   },
   {
    "duration": 8,
    "start_time": "2022-04-25T16:17:33.857Z"
   },
   {
    "duration": 8,
    "start_time": "2022-04-25T16:17:34.797Z"
   },
   {
    "duration": 25,
    "start_time": "2022-04-25T16:17:37.453Z"
   },
   {
    "duration": 13,
    "start_time": "2022-04-25T16:20:36.260Z"
   },
   {
    "duration": 14,
    "start_time": "2022-04-25T16:20:51.060Z"
   },
   {
    "duration": 25,
    "start_time": "2022-04-25T16:21:24.611Z"
   },
   {
    "duration": 19,
    "start_time": "2022-04-25T16:21:39.091Z"
   },
   {
    "duration": 13,
    "start_time": "2022-04-25T16:22:31.363Z"
   },
   {
    "duration": 13,
    "start_time": "2022-04-25T16:22:51.714Z"
   },
   {
    "duration": 5,
    "start_time": "2022-04-25T16:23:19.426Z"
   },
   {
    "duration": 26,
    "start_time": "2022-04-25T16:23:23.058Z"
   },
   {
    "duration": 14,
    "start_time": "2022-04-25T16:23:29.970Z"
   },
   {
    "duration": 5,
    "start_time": "2022-04-25T16:23:35.424Z"
   },
   {
    "duration": 711,
    "start_time": "2022-04-25T16:23:35.431Z"
   },
   {
    "duration": 38,
    "start_time": "2022-04-25T16:23:36.144Z"
   },
   {
    "duration": 35,
    "start_time": "2022-04-25T16:23:36.185Z"
   },
   {
    "duration": 52,
    "start_time": "2022-04-25T16:23:36.222Z"
   },
   {
    "duration": 20,
    "start_time": "2022-04-25T16:23:36.276Z"
   },
   {
    "duration": 246,
    "start_time": "2022-04-25T16:23:36.298Z"
   },
   {
    "duration": 13,
    "start_time": "2022-04-25T16:23:36.546Z"
   },
   {
    "duration": 12,
    "start_time": "2022-04-25T16:23:36.563Z"
   },
   {
    "duration": 26,
    "start_time": "2022-04-25T16:23:36.577Z"
   },
   {
    "duration": 84,
    "start_time": "2022-04-25T16:23:36.604Z"
   },
   {
    "duration": 66,
    "start_time": "2022-04-25T16:23:36.689Z"
   },
   {
    "duration": 15,
    "start_time": "2022-04-25T16:23:36.757Z"
   },
   {
    "duration": 264,
    "start_time": "2022-04-25T16:23:36.773Z"
   },
   {
    "duration": 6,
    "start_time": "2022-04-25T16:23:37.039Z"
   },
   {
    "duration": 285,
    "start_time": "2022-04-25T16:23:37.047Z"
   },
   {
    "duration": 255,
    "start_time": "2022-04-25T16:23:37.334Z"
   },
   {
    "duration": 264,
    "start_time": "2022-04-25T16:23:37.591Z"
   },
   {
    "duration": 215,
    "start_time": "2022-04-25T16:23:37.857Z"
   },
   {
    "duration": 173,
    "start_time": "2022-04-25T16:23:38.074Z"
   },
   {
    "duration": 166,
    "start_time": "2022-04-25T16:23:38.248Z"
   },
   {
    "duration": 360,
    "start_time": "2022-04-25T16:23:38.416Z"
   },
   {
    "duration": 339,
    "start_time": "2022-04-25T16:23:38.777Z"
   },
   {
    "duration": 352,
    "start_time": "2022-04-25T16:23:39.120Z"
   },
   {
    "duration": 325,
    "start_time": "2022-04-25T16:23:39.473Z"
   },
   {
    "duration": 15,
    "start_time": "2022-04-25T16:23:39.800Z"
   },
   {
    "duration": 16,
    "start_time": "2022-04-25T16:23:39.817Z"
   },
   {
    "duration": 30,
    "start_time": "2022-04-25T16:23:39.834Z"
   },
   {
    "duration": 24,
    "start_time": "2022-04-25T16:23:39.866Z"
   },
   {
    "duration": 20,
    "start_time": "2022-04-25T16:23:39.892Z"
   },
   {
    "duration": 19,
    "start_time": "2022-04-25T16:23:39.914Z"
   },
   {
    "duration": 20,
    "start_time": "2022-04-25T16:23:39.935Z"
   },
   {
    "duration": 28,
    "start_time": "2022-04-25T16:23:41.490Z"
   },
   {
    "duration": 15,
    "start_time": "2022-04-25T16:23:45.802Z"
   },
   {
    "duration": 1509,
    "start_time": "2022-04-25T16:23:47.850Z"
   },
   {
    "duration": 278,
    "start_time": "2022-04-25T16:23:50.282Z"
   },
   {
    "duration": 13,
    "start_time": "2022-04-25T16:26:43.801Z"
   },
   {
    "duration": 3,
    "start_time": "2022-04-25T16:26:50.414Z"
   },
   {
    "duration": 653,
    "start_time": "2022-04-25T16:26:50.419Z"
   },
   {
    "duration": 28,
    "start_time": "2022-04-25T16:26:51.074Z"
   },
   {
    "duration": 58,
    "start_time": "2022-04-25T16:26:51.103Z"
   },
   {
    "duration": 18,
    "start_time": "2022-04-25T16:26:51.163Z"
   },
   {
    "duration": 8,
    "start_time": "2022-04-25T16:26:51.182Z"
   },
   {
    "duration": 234,
    "start_time": "2022-04-25T16:26:51.191Z"
   },
   {
    "duration": 7,
    "start_time": "2022-04-25T16:26:51.427Z"
   },
   {
    "duration": 22,
    "start_time": "2022-04-25T16:26:51.436Z"
   },
   {
    "duration": 6,
    "start_time": "2022-04-25T16:26:51.459Z"
   },
   {
    "duration": 27,
    "start_time": "2022-04-25T16:26:51.468Z"
   },
   {
    "duration": 29,
    "start_time": "2022-04-25T16:26:51.497Z"
   },
   {
    "duration": 31,
    "start_time": "2022-04-25T16:26:51.528Z"
   },
   {
    "duration": 231,
    "start_time": "2022-04-25T16:26:51.561Z"
   },
   {
    "duration": 5,
    "start_time": "2022-04-25T16:26:51.794Z"
   },
   {
    "duration": 242,
    "start_time": "2022-04-25T16:26:51.801Z"
   },
   {
    "duration": 254,
    "start_time": "2022-04-25T16:26:52.045Z"
   },
   {
    "duration": 247,
    "start_time": "2022-04-25T16:26:52.301Z"
   },
   {
    "duration": 200,
    "start_time": "2022-04-25T16:26:52.554Z"
   },
   {
    "duration": 342,
    "start_time": "2022-04-25T16:26:52.756Z"
   },
   {
    "duration": 161,
    "start_time": "2022-04-25T16:26:53.100Z"
   },
   {
    "duration": 174,
    "start_time": "2022-04-25T16:26:53.262Z"
   },
   {
    "duration": 319,
    "start_time": "2022-04-25T16:26:53.438Z"
   },
   {
    "duration": 320,
    "start_time": "2022-04-25T16:26:53.758Z"
   },
   {
    "duration": 307,
    "start_time": "2022-04-25T16:26:54.080Z"
   },
   {
    "duration": 14,
    "start_time": "2022-04-25T16:26:54.389Z"
   },
   {
    "duration": 6,
    "start_time": "2022-04-25T16:26:54.404Z"
   },
   {
    "duration": 11,
    "start_time": "2022-04-25T16:26:54.412Z"
   },
   {
    "duration": 3,
    "start_time": "2022-04-25T16:26:54.455Z"
   },
   {
    "duration": 10,
    "start_time": "2022-04-25T16:26:54.460Z"
   },
   {
    "duration": 9,
    "start_time": "2022-04-25T16:26:55.288Z"
   },
   {
    "duration": 10,
    "start_time": "2022-04-25T16:26:57.072Z"
   },
   {
    "duration": 26,
    "start_time": "2022-04-25T16:27:00.777Z"
   },
   {
    "duration": 9,
    "start_time": "2022-04-25T16:27:48.769Z"
   },
   {
    "duration": 1728,
    "start_time": "2022-04-25T16:27:50.328Z"
   },
   {
    "duration": 2,
    "start_time": "2022-04-25T16:28:15.017Z"
   },
   {
    "duration": 1516,
    "start_time": "2022-04-25T16:28:15.440Z"
   },
   {
    "duration": 398,
    "start_time": "2022-04-25T16:28:16.958Z"
   },
   {
    "duration": 280,
    "start_time": "2022-04-25T16:31:38.494Z"
   },
   {
    "duration": 4,
    "start_time": "2022-04-25T16:31:41.747Z"
   },
   {
    "duration": 666,
    "start_time": "2022-04-25T16:31:41.753Z"
   },
   {
    "duration": 59,
    "start_time": "2022-04-25T16:31:42.421Z"
   },
   {
    "duration": 52,
    "start_time": "2022-04-25T16:31:42.483Z"
   },
   {
    "duration": 32,
    "start_time": "2022-04-25T16:31:42.554Z"
   },
   {
    "duration": 4,
    "start_time": "2022-04-25T16:31:42.588Z"
   },
   {
    "duration": 232,
    "start_time": "2022-04-25T16:31:42.594Z"
   },
   {
    "duration": 8,
    "start_time": "2022-04-25T16:31:42.828Z"
   },
   {
    "duration": 19,
    "start_time": "2022-04-25T16:31:42.838Z"
   },
   {
    "duration": 5,
    "start_time": "2022-04-25T16:31:42.860Z"
   },
   {
    "duration": 29,
    "start_time": "2022-04-25T16:31:42.867Z"
   },
   {
    "duration": 25,
    "start_time": "2022-04-25T16:31:42.898Z"
   },
   {
    "duration": 41,
    "start_time": "2022-04-25T16:31:42.925Z"
   },
   {
    "duration": 236,
    "start_time": "2022-04-25T16:31:42.968Z"
   },
   {
    "duration": 7,
    "start_time": "2022-04-25T16:31:43.206Z"
   },
   {
    "duration": 257,
    "start_time": "2022-04-25T16:31:43.215Z"
   },
   {
    "duration": 254,
    "start_time": "2022-04-25T16:31:43.474Z"
   },
   {
    "duration": 261,
    "start_time": "2022-04-25T16:31:43.730Z"
   },
   {
    "duration": 210,
    "start_time": "2022-04-25T16:31:43.993Z"
   },
   {
    "duration": 377,
    "start_time": "2022-04-25T16:31:44.205Z"
   },
   {
    "duration": 170,
    "start_time": "2022-04-25T16:31:44.584Z"
   },
   {
    "duration": 185,
    "start_time": "2022-04-25T16:31:44.756Z"
   },
   {
    "duration": 362,
    "start_time": "2022-04-25T16:31:44.943Z"
   },
   {
    "duration": 380,
    "start_time": "2022-04-25T16:31:45.308Z"
   },
   {
    "duration": 331,
    "start_time": "2022-04-25T16:31:45.690Z"
   },
   {
    "duration": 15,
    "start_time": "2022-04-25T16:31:46.022Z"
   },
   {
    "duration": 22,
    "start_time": "2022-04-25T16:31:46.039Z"
   },
   {
    "duration": 19,
    "start_time": "2022-04-25T16:31:46.064Z"
   },
   {
    "duration": 4,
    "start_time": "2022-04-25T16:31:46.085Z"
   },
   {
    "duration": 17,
    "start_time": "2022-04-25T16:31:46.090Z"
   },
   {
    "duration": 262,
    "start_time": "2022-04-25T16:31:48.126Z"
   },
   {
    "duration": 9,
    "start_time": "2022-04-25T16:31:50.334Z"
   },
   {
    "duration": 3,
    "start_time": "2022-04-25T16:31:51.309Z"
   },
   {
    "duration": 2592,
    "start_time": "2022-04-25T16:31:56.565Z"
   },
   {
    "duration": 399,
    "start_time": "2022-04-25T16:31:59.164Z"
   },
   {
    "duration": 3,
    "start_time": "2022-04-25T16:32:05.546Z"
   },
   {
    "duration": 684,
    "start_time": "2022-04-25T16:32:05.552Z"
   },
   {
    "duration": 39,
    "start_time": "2022-04-25T16:32:06.238Z"
   },
   {
    "duration": 34,
    "start_time": "2022-04-25T16:32:06.279Z"
   },
   {
    "duration": 43,
    "start_time": "2022-04-25T16:32:06.315Z"
   },
   {
    "duration": 6,
    "start_time": "2022-04-25T16:32:06.359Z"
   },
   {
    "duration": 243,
    "start_time": "2022-04-25T16:32:06.366Z"
   },
   {
    "duration": 8,
    "start_time": "2022-04-25T16:32:06.611Z"
   },
   {
    "duration": 8,
    "start_time": "2022-04-25T16:32:06.622Z"
   },
   {
    "duration": 27,
    "start_time": "2022-04-25T16:32:06.633Z"
   },
   {
    "duration": 32,
    "start_time": "2022-04-25T16:32:06.661Z"
   },
   {
    "duration": 29,
    "start_time": "2022-04-25T16:32:06.695Z"
   },
   {
    "duration": 41,
    "start_time": "2022-04-25T16:32:06.726Z"
   },
   {
    "duration": 239,
    "start_time": "2022-04-25T16:32:06.768Z"
   },
   {
    "duration": 6,
    "start_time": "2022-04-25T16:32:07.009Z"
   },
   {
    "duration": 270,
    "start_time": "2022-04-25T16:32:07.017Z"
   },
   {
    "duration": 268,
    "start_time": "2022-04-25T16:32:07.289Z"
   },
   {
    "duration": 268,
    "start_time": "2022-04-25T16:32:07.559Z"
   },
   {
    "duration": 218,
    "start_time": "2022-04-25T16:32:07.829Z"
   },
   {
    "duration": 173,
    "start_time": "2022-04-25T16:32:08.049Z"
   },
   {
    "duration": 178,
    "start_time": "2022-04-25T16:32:08.224Z"
   },
   {
    "duration": 396,
    "start_time": "2022-04-25T16:32:08.403Z"
   },
   {
    "duration": 328,
    "start_time": "2022-04-25T16:32:08.801Z"
   },
   {
    "duration": 343,
    "start_time": "2022-04-25T16:32:09.133Z"
   },
   {
    "duration": 329,
    "start_time": "2022-04-25T16:32:09.477Z"
   },
   {
    "duration": 15,
    "start_time": "2022-04-25T16:32:09.808Z"
   },
   {
    "duration": 7,
    "start_time": "2022-04-25T16:32:09.824Z"
   },
   {
    "duration": 31,
    "start_time": "2022-04-25T16:32:09.833Z"
   },
   {
    "duration": 3,
    "start_time": "2022-04-25T16:32:09.866Z"
   },
   {
    "duration": 19,
    "start_time": "2022-04-25T16:32:09.871Z"
   },
   {
    "duration": 278,
    "start_time": "2022-04-25T16:32:09.892Z"
   },
   {
    "duration": 8,
    "start_time": "2022-04-25T16:32:10.172Z"
   },
   {
    "duration": 12,
    "start_time": "2022-04-25T16:32:10.182Z"
   },
   {
    "duration": 2861,
    "start_time": "2022-04-25T16:32:10.196Z"
   },
   {
    "duration": 704,
    "start_time": "2022-04-25T16:32:13.066Z"
   },
   {
    "duration": 82,
    "start_time": "2022-04-25T16:32:13.773Z"
   },
   {
    "duration": 3060,
    "start_time": "2022-04-25T16:32:13.874Z"
   },
   {
    "duration": 4,
    "start_time": "2022-04-25T16:32:16.936Z"
   },
   {
    "duration": 6,
    "start_time": "2022-04-25T16:32:16.942Z"
   },
   {
    "duration": 252,
    "start_time": "2022-04-25T16:32:16.956Z"
   },
   {
    "duration": 73,
    "start_time": "2022-04-25T16:32:17.210Z"
   },
   {
    "duration": 3,
    "start_time": "2022-04-25T16:32:17.285Z"
   },
   {
    "duration": 92786,
    "start_time": "2022-04-25T16:32:17.290Z"
   },
   {
    "duration": 4,
    "start_time": "2022-04-25T16:33:50.077Z"
   },
   {
    "duration": 964,
    "start_time": "2022-04-25T16:33:50.083Z"
   },
   {
    "duration": 243,
    "start_time": "2022-04-25T16:33:51.055Z"
   },
   {
    "duration": 3,
    "start_time": "2022-04-25T16:33:51.300Z"
   },
   {
    "duration": 12,
    "start_time": "2022-04-25T16:33:51.305Z"
   },
   {
    "duration": 3037,
    "start_time": "2022-04-25T16:33:51.319Z"
   },
   {
    "duration": 818,
    "start_time": "2022-04-25T16:33:54.358Z"
   },
   {
    "duration": 3254,
    "start_time": "2022-04-25T16:33:55.263Z"
   },
   {
    "duration": 324,
    "start_time": "2022-04-25T16:33:58.518Z"
   },
   {
    "duration": 81,
    "start_time": "2022-04-25T16:33:58.844Z"
   },
   {
    "duration": 3,
    "start_time": "2022-04-25T16:33:58.926Z"
   },
   {
    "duration": 96482,
    "start_time": "2022-04-25T16:33:58.931Z"
   },
   {
    "duration": 4,
    "start_time": "2022-04-25T16:35:35.415Z"
   },
   {
    "duration": 1865,
    "start_time": "2022-04-25T16:35:35.421Z"
   },
   {
    "duration": 242,
    "start_time": "2022-04-25T16:35:37.288Z"
   },
   {
    "duration": 2,
    "start_time": "2022-04-25T16:35:37.532Z"
   },
   {
    "duration": 10,
    "start_time": "2022-04-25T16:35:37.536Z"
   },
   {
    "duration": 136,
    "start_time": "2022-04-25T16:37:54.573Z"
   },
   {
    "duration": 136,
    "start_time": "2022-04-25T16:38:13.668Z"
   },
   {
    "duration": 1515,
    "start_time": "2022-04-26T10:55:57.063Z"
   },
   {
    "duration": 2121,
    "start_time": "2022-04-26T10:55:58.580Z"
   },
   {
    "duration": 31,
    "start_time": "2022-04-26T10:56:00.703Z"
   },
   {
    "duration": 34,
    "start_time": "2022-04-26T10:56:00.737Z"
   },
   {
    "duration": 31,
    "start_time": "2022-04-26T10:56:00.793Z"
   },
   {
    "duration": 18,
    "start_time": "2022-04-26T10:56:00.826Z"
   },
   {
    "duration": 311,
    "start_time": "2022-04-26T10:56:00.846Z"
   },
   {
    "duration": 10,
    "start_time": "2022-04-26T10:56:01.159Z"
   },
   {
    "duration": 26,
    "start_time": "2022-04-26T10:56:01.171Z"
   },
   {
    "duration": 7,
    "start_time": "2022-04-26T10:56:01.201Z"
   },
   {
    "duration": 34,
    "start_time": "2022-04-26T10:56:01.214Z"
   },
   {
    "duration": 44,
    "start_time": "2022-04-26T10:56:01.251Z"
   },
   {
    "duration": 19,
    "start_time": "2022-04-26T10:56:01.297Z"
   },
   {
    "duration": 267,
    "start_time": "2022-04-26T10:56:01.318Z"
   },
   {
    "duration": 13,
    "start_time": "2022-04-26T10:56:01.592Z"
   },
   {
    "duration": 320,
    "start_time": "2022-04-26T10:56:01.611Z"
   },
   {
    "duration": 267,
    "start_time": "2022-04-26T10:56:01.933Z"
   },
   {
    "duration": 341,
    "start_time": "2022-04-26T10:56:02.201Z"
   },
   {
    "duration": 215,
    "start_time": "2022-04-26T10:56:02.544Z"
   },
   {
    "duration": 174,
    "start_time": "2022-04-26T10:56:02.761Z"
   },
   {
    "duration": 174,
    "start_time": "2022-04-26T10:56:02.937Z"
   },
   {
    "duration": 188,
    "start_time": "2022-04-26T10:56:03.113Z"
   },
   {
    "duration": 332,
    "start_time": "2022-04-26T10:56:03.303Z"
   },
   {
    "duration": 351,
    "start_time": "2022-04-26T10:56:03.637Z"
   },
   {
    "duration": 347,
    "start_time": "2022-04-26T10:56:03.989Z"
   },
   {
    "duration": 20,
    "start_time": "2022-04-26T10:56:04.339Z"
   },
   {
    "duration": 8,
    "start_time": "2022-04-26T10:56:04.362Z"
   },
   {
    "duration": 21,
    "start_time": "2022-04-26T10:56:04.393Z"
   },
   {
    "duration": 6,
    "start_time": "2022-04-26T10:56:04.417Z"
   },
   {
    "duration": 7,
    "start_time": "2022-04-26T10:56:04.425Z"
   },
   {
    "duration": 493,
    "start_time": "2022-04-26T10:56:04.434Z"
   },
   {
    "duration": 7,
    "start_time": "2022-04-26T10:56:04.931Z"
   },
   {
    "duration": 9,
    "start_time": "2022-04-26T10:56:04.940Z"
   },
   {
    "duration": 3461,
    "start_time": "2022-04-26T10:56:04.951Z"
   },
   {
    "duration": 877,
    "start_time": "2022-04-26T10:56:08.418Z"
   },
   {
    "duration": 3,
    "start_time": "2022-04-26T10:56:09.300Z"
   },
   {
    "duration": 3503,
    "start_time": "2022-04-26T10:56:09.308Z"
   },
   {
    "duration": 5,
    "start_time": "2022-04-26T10:56:12.813Z"
   },
   {
    "duration": 14,
    "start_time": "2022-04-26T10:56:12.820Z"
   },
   {
    "duration": 317,
    "start_time": "2022-04-26T10:56:12.836Z"
   },
   {
    "duration": 260,
    "start_time": "2022-04-26T10:56:13.155Z"
   },
   {
    "duration": 0,
    "start_time": "2022-04-26T10:56:13.417Z"
   },
   {
    "duration": 0,
    "start_time": "2022-04-26T10:56:13.418Z"
   },
   {
    "duration": 0,
    "start_time": "2022-04-26T10:56:13.420Z"
   },
   {
    "duration": 0,
    "start_time": "2022-04-26T10:56:13.421Z"
   },
   {
    "duration": 0,
    "start_time": "2022-04-26T10:56:13.423Z"
   },
   {
    "duration": 0,
    "start_time": "2022-04-26T10:56:13.424Z"
   },
   {
    "duration": 0,
    "start_time": "2022-04-26T10:56:13.426Z"
   },
   {
    "duration": 0,
    "start_time": "2022-04-26T10:56:13.427Z"
   },
   {
    "duration": 0,
    "start_time": "2022-04-26T10:56:13.428Z"
   },
   {
    "duration": 0,
    "start_time": "2022-04-26T10:56:13.429Z"
   },
   {
    "duration": 0,
    "start_time": "2022-04-26T10:56:13.431Z"
   },
   {
    "duration": 0,
    "start_time": "2022-04-26T10:56:13.432Z"
   },
   {
    "duration": 0,
    "start_time": "2022-04-26T10:56:13.434Z"
   },
   {
    "duration": 0,
    "start_time": "2022-04-26T10:56:13.435Z"
   },
   {
    "duration": 0,
    "start_time": "2022-04-26T10:56:13.437Z"
   },
   {
    "duration": 0,
    "start_time": "2022-04-26T10:56:13.438Z"
   },
   {
    "duration": 0,
    "start_time": "2022-04-26T10:56:13.440Z"
   },
   {
    "duration": 0,
    "start_time": "2022-04-26T10:56:13.441Z"
   },
   {
    "duration": 160,
    "start_time": "2022-04-26T11:01:51.338Z"
   },
   {
    "duration": 219,
    "start_time": "2022-04-26T11:07:40.826Z"
   },
   {
    "duration": 178,
    "start_time": "2022-04-26T11:07:51.129Z"
   },
   {
    "duration": 19,
    "start_time": "2022-04-26T11:13:24.341Z"
   },
   {
    "duration": 66,
    "start_time": "2022-04-26T11:15:44.873Z"
   },
   {
    "duration": 114,
    "start_time": "2022-04-26T12:41:46.413Z"
   },
   {
    "duration": 3198,
    "start_time": "2022-04-26T12:41:49.184Z"
   },
   {
    "duration": 1326,
    "start_time": "2022-04-26T12:41:52.386Z"
   },
   {
    "duration": 89,
    "start_time": "2022-04-26T12:41:53.714Z"
   },
   {
    "duration": 91,
    "start_time": "2022-04-26T12:41:53.807Z"
   },
   {
    "duration": 42,
    "start_time": "2022-04-26T12:41:53.900Z"
   },
   {
    "duration": 6,
    "start_time": "2022-04-26T12:41:53.945Z"
   },
   {
    "duration": 408,
    "start_time": "2022-04-26T12:41:53.953Z"
   },
   {
    "duration": 28,
    "start_time": "2022-04-26T12:41:54.364Z"
   },
   {
    "duration": 13,
    "start_time": "2022-04-26T12:41:54.395Z"
   },
   {
    "duration": 10,
    "start_time": "2022-04-26T12:41:54.412Z"
   },
   {
    "duration": 87,
    "start_time": "2022-04-26T12:41:54.425Z"
   },
   {
    "duration": 49,
    "start_time": "2022-04-26T12:41:54.514Z"
   },
   {
    "duration": 43,
    "start_time": "2022-04-26T12:41:54.566Z"
   },
   {
    "duration": 517,
    "start_time": "2022-04-26T12:41:54.612Z"
   },
   {
    "duration": 10,
    "start_time": "2022-04-26T12:41:55.133Z"
   },
   {
    "duration": 642,
    "start_time": "2022-04-26T12:41:55.145Z"
   },
   {
    "duration": 611,
    "start_time": "2022-04-26T12:41:55.789Z"
   },
   {
    "duration": 740,
    "start_time": "2022-04-26T12:41:56.403Z"
   },
   {
    "duration": 485,
    "start_time": "2022-04-26T12:41:57.146Z"
   },
   {
    "duration": 120,
    "start_time": "2022-04-26T12:42:00.143Z"
   },
   {
    "duration": 273,
    "start_time": "2022-04-26T12:42:25.745Z"
   },
   {
    "duration": 275,
    "start_time": "2022-04-26T12:42:29.448Z"
   },
   {
    "duration": 367,
    "start_time": "2022-04-26T12:42:40.257Z"
   },
   {
    "duration": 391,
    "start_time": "2022-04-26T12:42:46.457Z"
   },
   {
    "duration": 777,
    "start_time": "2022-04-26T12:42:49.408Z"
   },
   {
    "duration": 632,
    "start_time": "2022-04-26T12:42:50.640Z"
   },
   {
    "duration": 657,
    "start_time": "2022-04-26T12:42:51.275Z"
   },
   {
    "duration": 22,
    "start_time": "2022-04-26T12:42:53.135Z"
   },
   {
    "duration": 10,
    "start_time": "2022-04-26T12:42:53.367Z"
   },
   {
    "duration": 30,
    "start_time": "2022-04-26T12:42:56.023Z"
   },
   {
    "duration": 5,
    "start_time": "2022-04-26T12:43:15.696Z"
   },
   {
    "duration": 4,
    "start_time": "2022-04-26T12:43:16.632Z"
   },
   {
    "duration": 3730,
    "start_time": "2022-04-26T12:47:49.358Z"
   },
   {
    "duration": 3402,
    "start_time": "2022-04-26T12:47:59.068Z"
   },
   {
    "duration": 6,
    "start_time": "2022-04-26T12:48:12.612Z"
   },
   {
    "duration": 855,
    "start_time": "2022-04-26T12:48:12.620Z"
   },
   {
    "duration": 53,
    "start_time": "2022-04-26T12:48:13.478Z"
   },
   {
    "duration": 73,
    "start_time": "2022-04-26T12:48:13.534Z"
   },
   {
    "duration": 28,
    "start_time": "2022-04-26T12:48:13.609Z"
   },
   {
    "duration": 9,
    "start_time": "2022-04-26T12:48:13.641Z"
   },
   {
    "duration": 384,
    "start_time": "2022-04-26T12:48:13.652Z"
   },
   {
    "duration": 11,
    "start_time": "2022-04-26T12:48:14.038Z"
   },
   {
    "duration": 9,
    "start_time": "2022-04-26T12:48:14.052Z"
   },
   {
    "duration": 38,
    "start_time": "2022-04-26T12:48:14.063Z"
   },
   {
    "duration": 49,
    "start_time": "2022-04-26T12:48:14.104Z"
   },
   {
    "duration": 57,
    "start_time": "2022-04-26T12:48:14.156Z"
   },
   {
    "duration": 21,
    "start_time": "2022-04-26T12:48:14.215Z"
   },
   {
    "duration": 402,
    "start_time": "2022-04-26T12:48:14.239Z"
   },
   {
    "duration": 9,
    "start_time": "2022-04-26T12:48:14.644Z"
   },
   {
    "duration": 545,
    "start_time": "2022-04-26T12:48:14.655Z"
   },
   {
    "duration": 436,
    "start_time": "2022-04-26T12:48:15.203Z"
   },
   {
    "duration": 445,
    "start_time": "2022-04-26T12:48:15.642Z"
   },
   {
    "duration": 369,
    "start_time": "2022-04-26T12:48:16.094Z"
   },
   {
    "duration": 287,
    "start_time": "2022-04-26T12:48:16.466Z"
   },
   {
    "duration": 288,
    "start_time": "2022-04-26T12:48:16.755Z"
   },
   {
    "duration": 410,
    "start_time": "2022-04-26T12:48:17.045Z"
   },
   {
    "duration": 563,
    "start_time": "2022-04-26T12:48:17.457Z"
   },
   {
    "duration": 568,
    "start_time": "2022-04-26T12:48:18.025Z"
   },
   {
    "duration": 536,
    "start_time": "2022-04-26T12:48:18.596Z"
   },
   {
    "duration": 21,
    "start_time": "2022-04-26T12:48:19.134Z"
   },
   {
    "duration": 40,
    "start_time": "2022-04-26T12:48:19.158Z"
   },
   {
    "duration": 19,
    "start_time": "2022-04-26T12:48:19.200Z"
   },
   {
    "duration": 5,
    "start_time": "2022-04-26T12:48:19.221Z"
   },
   {
    "duration": 15,
    "start_time": "2022-04-26T12:48:19.228Z"
   },
   {
    "duration": 3389,
    "start_time": "2022-04-26T12:48:20.254Z"
   },
   {
    "duration": 12,
    "start_time": "2022-04-26T12:49:34.080Z"
   },
   {
    "duration": 23,
    "start_time": "2022-04-26T12:49:42.254Z"
   },
   {
    "duration": 5,
    "start_time": "2022-04-26T12:49:57.804Z"
   },
   {
    "duration": 894,
    "start_time": "2022-04-26T12:49:57.811Z"
   },
   {
    "duration": 45,
    "start_time": "2022-04-26T12:49:58.707Z"
   },
   {
    "duration": 82,
    "start_time": "2022-04-26T12:49:58.755Z"
   },
   {
    "duration": 28,
    "start_time": "2022-04-26T12:49:58.839Z"
   },
   {
    "duration": 28,
    "start_time": "2022-04-26T12:49:58.869Z"
   },
   {
    "duration": 587,
    "start_time": "2022-04-26T12:49:58.900Z"
   },
   {
    "duration": 15,
    "start_time": "2022-04-26T12:49:59.493Z"
   },
   {
    "duration": 12,
    "start_time": "2022-04-26T12:49:59.511Z"
   },
   {
    "duration": 10,
    "start_time": "2022-04-26T12:49:59.529Z"
   },
   {
    "duration": 106,
    "start_time": "2022-04-26T12:49:59.542Z"
   },
   {
    "duration": 50,
    "start_time": "2022-04-26T12:49:59.651Z"
   },
   {
    "duration": 27,
    "start_time": "2022-04-26T12:49:59.704Z"
   },
   {
    "duration": 512,
    "start_time": "2022-04-26T12:49:59.734Z"
   },
   {
    "duration": 11,
    "start_time": "2022-04-26T12:50:00.249Z"
   },
   {
    "duration": 447,
    "start_time": "2022-04-26T12:50:00.262Z"
   },
   {
    "duration": 552,
    "start_time": "2022-04-26T12:50:00.711Z"
   },
   {
    "duration": 592,
    "start_time": "2022-04-26T12:50:01.266Z"
   },
   {
    "duration": 479,
    "start_time": "2022-04-26T12:50:01.860Z"
   },
   {
    "duration": 301,
    "start_time": "2022-04-26T12:50:02.341Z"
   },
   {
    "duration": 301,
    "start_time": "2022-04-26T12:50:02.644Z"
   },
   {
    "duration": 311,
    "start_time": "2022-04-26T12:50:02.947Z"
   },
   {
    "duration": 660,
    "start_time": "2022-04-26T12:50:03.261Z"
   },
   {
    "duration": 570,
    "start_time": "2022-04-26T12:50:03.923Z"
   },
   {
    "duration": 777,
    "start_time": "2022-04-26T12:50:04.496Z"
   },
   {
    "duration": 29,
    "start_time": "2022-04-26T12:50:05.275Z"
   },
   {
    "duration": 9,
    "start_time": "2022-04-26T12:50:05.306Z"
   },
   {
    "duration": 18,
    "start_time": "2022-04-26T12:50:05.319Z"
   },
   {
    "duration": 10,
    "start_time": "2022-04-26T12:50:05.339Z"
   },
   {
    "duration": 6,
    "start_time": "2022-04-26T12:50:05.351Z"
   },
   {
    "duration": 20,
    "start_time": "2022-04-26T12:50:15.646Z"
   },
   {
    "duration": 19,
    "start_time": "2022-04-26T12:50:24.926Z"
   },
   {
    "duration": 18,
    "start_time": "2022-04-26T12:50:38.455Z"
   },
   {
    "duration": 20,
    "start_time": "2022-04-26T12:51:09.181Z"
   },
   {
    "duration": 12,
    "start_time": "2022-04-26T12:51:21.486Z"
   },
   {
    "duration": 21,
    "start_time": "2022-04-26T12:51:24.110Z"
   },
   {
    "duration": 21,
    "start_time": "2022-04-26T12:51:37.190Z"
   },
   {
    "duration": 20,
    "start_time": "2022-04-26T12:51:51.470Z"
   },
   {
    "duration": 202,
    "start_time": "2022-04-26T12:53:05.413Z"
   },
   {
    "duration": 23,
    "start_time": "2022-04-26T12:53:08.949Z"
   },
   {
    "duration": 212,
    "start_time": "2022-04-26T12:53:12.253Z"
   },
   {
    "duration": 17,
    "start_time": "2022-04-26T12:53:14.461Z"
   },
   {
    "duration": 48,
    "start_time": "2022-04-26T12:53:19.293Z"
   },
   {
    "duration": 14,
    "start_time": "2022-04-26T12:55:19.764Z"
   },
   {
    "duration": 9,
    "start_time": "2022-04-26T12:55:24.891Z"
   },
   {
    "duration": 8,
    "start_time": "2022-04-26T12:55:53.084Z"
   },
   {
    "duration": 9,
    "start_time": "2022-04-26T12:56:00.156Z"
   },
   {
    "duration": 9,
    "start_time": "2022-04-26T12:56:22.156Z"
   },
   {
    "duration": 26,
    "start_time": "2022-04-26T12:56:22.283Z"
   },
   {
    "duration": 63,
    "start_time": "2022-04-26T12:57:25.123Z"
   },
   {
    "duration": 26,
    "start_time": "2022-04-26T12:57:34.111Z"
   },
   {
    "duration": 6,
    "start_time": "2022-04-26T12:57:36.907Z"
   },
   {
    "duration": 1259,
    "start_time": "2022-04-26T12:57:36.916Z"
   },
   {
    "duration": 86,
    "start_time": "2022-04-26T12:57:38.178Z"
   },
   {
    "duration": 86,
    "start_time": "2022-04-26T12:57:38.269Z"
   },
   {
    "duration": 61,
    "start_time": "2022-04-26T12:57:38.358Z"
   },
   {
    "duration": 11,
    "start_time": "2022-04-26T12:57:38.422Z"
   },
   {
    "duration": 576,
    "start_time": "2022-04-26T12:57:38.437Z"
   },
   {
    "duration": 16,
    "start_time": "2022-04-26T12:57:39.016Z"
   },
   {
    "duration": 20,
    "start_time": "2022-04-26T12:57:39.035Z"
   },
   {
    "duration": 38,
    "start_time": "2022-04-26T12:57:39.060Z"
   },
   {
    "duration": 56,
    "start_time": "2022-04-26T12:57:39.101Z"
   },
   {
    "duration": 61,
    "start_time": "2022-04-26T12:57:39.160Z"
   },
   {
    "duration": 21,
    "start_time": "2022-04-26T12:57:39.224Z"
   },
   {
    "duration": 485,
    "start_time": "2022-04-26T12:57:39.247Z"
   },
   {
    "duration": 8,
    "start_time": "2022-04-26T12:57:39.734Z"
   },
   {
    "duration": 530,
    "start_time": "2022-04-26T12:57:39.745Z"
   },
   {
    "duration": 522,
    "start_time": "2022-04-26T12:57:40.278Z"
   },
   {
    "duration": 511,
    "start_time": "2022-04-26T12:57:40.803Z"
   },
   {
    "duration": 403,
    "start_time": "2022-04-26T12:57:41.318Z"
   },
   {
    "duration": 287,
    "start_time": "2022-04-26T12:57:41.723Z"
   },
   {
    "duration": 308,
    "start_time": "2022-04-26T12:57:42.013Z"
   },
   {
    "duration": 337,
    "start_time": "2022-04-26T12:57:42.323Z"
   },
   {
    "duration": 629,
    "start_time": "2022-04-26T12:57:42.663Z"
   },
   {
    "duration": 826,
    "start_time": "2022-04-26T12:57:43.295Z"
   },
   {
    "duration": 604,
    "start_time": "2022-04-26T12:57:44.124Z"
   },
   {
    "duration": 27,
    "start_time": "2022-04-26T12:57:44.730Z"
   },
   {
    "duration": 36,
    "start_time": "2022-04-26T12:57:44.759Z"
   },
   {
    "duration": 20,
    "start_time": "2022-04-26T12:57:44.801Z"
   },
   {
    "duration": 6,
    "start_time": "2022-04-26T12:57:44.823Z"
   },
   {
    "duration": 11,
    "start_time": "2022-04-26T12:57:44.831Z"
   },
   {
    "duration": 119,
    "start_time": "2022-04-26T12:57:44.844Z"
   },
   {
    "duration": 28,
    "start_time": "2022-04-26T12:57:50.723Z"
   },
   {
    "duration": 23,
    "start_time": "2022-04-26T12:57:59.931Z"
   },
   {
    "duration": 7,
    "start_time": "2022-04-26T12:58:02.913Z"
   },
   {
    "duration": 1095,
    "start_time": "2022-04-26T12:58:02.923Z"
   },
   {
    "duration": 47,
    "start_time": "2022-04-26T12:58:04.021Z"
   },
   {
    "duration": 76,
    "start_time": "2022-04-26T12:58:04.094Z"
   },
   {
    "duration": 42,
    "start_time": "2022-04-26T12:58:04.176Z"
   },
   {
    "duration": 12,
    "start_time": "2022-04-26T12:58:04.221Z"
   },
   {
    "duration": 533,
    "start_time": "2022-04-26T12:58:04.236Z"
   },
   {
    "duration": 28,
    "start_time": "2022-04-26T12:58:04.771Z"
   },
   {
    "duration": 36,
    "start_time": "2022-04-26T12:58:04.802Z"
   },
   {
    "duration": 28,
    "start_time": "2022-04-26T12:58:04.841Z"
   },
   {
    "duration": 80,
    "start_time": "2022-04-26T12:58:04.872Z"
   },
   {
    "duration": 54,
    "start_time": "2022-04-26T12:58:04.955Z"
   },
   {
    "duration": 25,
    "start_time": "2022-04-26T12:58:05.013Z"
   },
   {
    "duration": 466,
    "start_time": "2022-04-26T12:58:05.043Z"
   },
   {
    "duration": 11,
    "start_time": "2022-04-26T12:58:05.512Z"
   },
   {
    "duration": 552,
    "start_time": "2022-04-26T12:58:05.526Z"
   },
   {
    "duration": 679,
    "start_time": "2022-04-26T12:58:06.080Z"
   },
   {
    "duration": 549,
    "start_time": "2022-04-26T12:58:06.763Z"
   },
   {
    "duration": 518,
    "start_time": "2022-04-26T12:58:07.326Z"
   },
   {
    "duration": 342,
    "start_time": "2022-04-26T12:58:07.846Z"
   },
   {
    "duration": 322,
    "start_time": "2022-04-26T12:58:08.190Z"
   },
   {
    "duration": 352,
    "start_time": "2022-04-26T12:58:08.516Z"
   },
   {
    "duration": 703,
    "start_time": "2022-04-26T12:58:08.871Z"
   },
   {
    "duration": 922,
    "start_time": "2022-04-26T12:58:09.577Z"
   },
   {
    "duration": 657,
    "start_time": "2022-04-26T12:58:10.502Z"
   },
   {
    "duration": 40,
    "start_time": "2022-04-26T12:58:11.162Z"
   },
   {
    "duration": 16,
    "start_time": "2022-04-26T12:58:11.229Z"
   },
   {
    "duration": 24,
    "start_time": "2022-04-26T12:58:11.248Z"
   },
   {
    "duration": 6,
    "start_time": "2022-04-26T12:58:11.275Z"
   },
   {
    "duration": 41,
    "start_time": "2022-04-26T12:58:11.283Z"
   },
   {
    "duration": 97,
    "start_time": "2022-04-26T12:58:11.326Z"
   },
   {
    "duration": 14,
    "start_time": "2022-04-26T12:58:12.586Z"
   },
   {
    "duration": 38,
    "start_time": "2022-04-26T12:59:29.314Z"
   },
   {
    "duration": 37,
    "start_time": "2022-04-26T12:59:34.019Z"
   },
   {
    "duration": 38,
    "start_time": "2022-04-26T12:59:36.970Z"
   },
   {
    "duration": 19,
    "start_time": "2022-04-26T12:59:56.595Z"
   },
   {
    "duration": 24,
    "start_time": "2022-04-26T13:00:08.202Z"
   },
   {
    "duration": 8,
    "start_time": "2022-04-26T13:00:58.225Z"
   },
   {
    "duration": 888,
    "start_time": "2022-04-26T13:00:58.240Z"
   },
   {
    "duration": 75,
    "start_time": "2022-04-26T13:00:59.131Z"
   },
   {
    "duration": 55,
    "start_time": "2022-04-26T13:00:59.210Z"
   },
   {
    "duration": 63,
    "start_time": "2022-04-26T13:00:59.269Z"
   },
   {
    "duration": 9,
    "start_time": "2022-04-26T13:00:59.334Z"
   },
   {
    "duration": 566,
    "start_time": "2022-04-26T13:00:59.346Z"
   },
   {
    "duration": 11,
    "start_time": "2022-04-26T13:00:59.915Z"
   },
   {
    "duration": 8,
    "start_time": "2022-04-26T13:00:59.929Z"
   },
   {
    "duration": 10,
    "start_time": "2022-04-26T13:00:59.940Z"
   },
   {
    "duration": 87,
    "start_time": "2022-04-26T13:00:59.954Z"
   },
   {
    "duration": 53,
    "start_time": "2022-04-26T13:01:00.044Z"
   },
   {
    "duration": 24,
    "start_time": "2022-04-26T13:01:00.100Z"
   },
   {
    "duration": 430,
    "start_time": "2022-04-26T13:01:00.126Z"
   },
   {
    "duration": 8,
    "start_time": "2022-04-26T13:01:00.558Z"
   },
   {
    "duration": 688,
    "start_time": "2022-04-26T13:01:00.569Z"
   },
   {
    "duration": 689,
    "start_time": "2022-04-26T13:01:01.260Z"
   },
   {
    "duration": 702,
    "start_time": "2022-04-26T13:01:01.952Z"
   },
   {
    "duration": 456,
    "start_time": "2022-04-26T13:01:02.657Z"
   },
   {
    "duration": 338,
    "start_time": "2022-04-26T13:01:03.116Z"
   },
   {
    "duration": 326,
    "start_time": "2022-04-26T13:01:03.457Z"
   },
   {
    "duration": 445,
    "start_time": "2022-04-26T13:01:03.786Z"
   },
   {
    "duration": 859,
    "start_time": "2022-04-26T13:01:04.235Z"
   },
   {
    "duration": 670,
    "start_time": "2022-04-26T13:01:05.098Z"
   },
   {
    "duration": 604,
    "start_time": "2022-04-26T13:01:05.771Z"
   },
   {
    "duration": 36,
    "start_time": "2022-04-26T13:01:06.377Z"
   },
   {
    "duration": 10,
    "start_time": "2022-04-26T13:01:06.417Z"
   },
   {
    "duration": 40,
    "start_time": "2022-04-26T13:01:06.430Z"
   },
   {
    "duration": 21,
    "start_time": "2022-04-26T13:01:06.475Z"
   },
   {
    "duration": 12,
    "start_time": "2022-04-26T13:01:06.498Z"
   },
   {
    "duration": 121,
    "start_time": "2022-04-26T13:01:06.513Z"
   },
   {
    "duration": 23,
    "start_time": "2022-04-26T13:01:10.129Z"
   },
   {
    "duration": 9,
    "start_time": "2022-04-26T13:01:40.433Z"
   },
   {
    "duration": 4,
    "start_time": "2022-04-26T13:01:42.249Z"
   },
   {
    "duration": 45,
    "start_time": "2022-04-26T13:01:42.633Z"
   },
   {
    "duration": 23,
    "start_time": "2022-04-26T13:02:18.809Z"
   },
   {
    "duration": 7,
    "start_time": "2022-04-26T13:02:48.721Z"
   },
   {
    "duration": 41,
    "start_time": "2022-04-26T13:02:52.320Z"
   },
   {
    "duration": 7,
    "start_time": "2022-04-26T13:03:02.673Z"
   },
   {
    "duration": 47,
    "start_time": "2022-04-26T13:03:11.786Z"
   },
   {
    "duration": 43,
    "start_time": "2022-04-26T13:03:15.129Z"
   },
   {
    "duration": 8,
    "start_time": "2022-04-26T13:03:19.537Z"
   },
   {
    "duration": 8,
    "start_time": "2022-04-26T13:03:24.440Z"
   },
   {
    "duration": 37,
    "start_time": "2022-04-26T13:03:27.520Z"
   },
   {
    "duration": 8,
    "start_time": "2022-04-26T13:03:32.545Z"
   },
   {
    "duration": 5,
    "start_time": "2022-04-26T13:03:38.160Z"
   },
   {
    "duration": 53,
    "start_time": "2022-04-26T13:03:38.385Z"
   },
   {
    "duration": 4,
    "start_time": "2022-04-26T13:04:09.336Z"
   },
   {
    "duration": 451,
    "start_time": "2022-04-26T13:04:09.791Z"
   },
   {
    "duration": 11,
    "start_time": "2022-04-26T13:04:24.039Z"
   },
   {
    "duration": 7,
    "start_time": "2022-04-26T13:05:31.781Z"
   },
   {
    "duration": 850,
    "start_time": "2022-04-26T13:05:31.791Z"
   },
   {
    "duration": 61,
    "start_time": "2022-04-26T13:05:32.644Z"
   },
   {
    "duration": 92,
    "start_time": "2022-04-26T13:05:32.708Z"
   },
   {
    "duration": 32,
    "start_time": "2022-04-26T13:05:32.802Z"
   },
   {
    "duration": 7,
    "start_time": "2022-04-26T13:05:32.837Z"
   },
   {
    "duration": 377,
    "start_time": "2022-04-26T13:05:32.847Z"
   },
   {
    "duration": 11,
    "start_time": "2022-04-26T13:05:33.226Z"
   },
   {
    "duration": 15,
    "start_time": "2022-04-26T13:05:33.239Z"
   },
   {
    "duration": 39,
    "start_time": "2022-04-26T13:05:33.258Z"
   },
   {
    "duration": 49,
    "start_time": "2022-04-26T13:05:33.299Z"
   },
   {
    "duration": 60,
    "start_time": "2022-04-26T13:05:33.350Z"
   },
   {
    "duration": 22,
    "start_time": "2022-04-26T13:05:33.412Z"
   },
   {
    "duration": 412,
    "start_time": "2022-04-26T13:05:33.437Z"
   },
   {
    "duration": 8,
    "start_time": "2022-04-26T13:05:33.851Z"
   },
   {
    "duration": 421,
    "start_time": "2022-04-26T13:05:33.861Z"
   },
   {
    "duration": 439,
    "start_time": "2022-04-26T13:05:34.284Z"
   },
   {
    "duration": 442,
    "start_time": "2022-04-26T13:05:34.725Z"
   },
   {
    "duration": 375,
    "start_time": "2022-04-26T13:05:35.169Z"
   },
   {
    "duration": 281,
    "start_time": "2022-04-26T13:05:35.547Z"
   },
   {
    "duration": 278,
    "start_time": "2022-04-26T13:05:35.830Z"
   },
   {
    "duration": 311,
    "start_time": "2022-04-26T13:05:36.110Z"
   },
   {
    "duration": 555,
    "start_time": "2022-04-26T13:05:36.424Z"
   },
   {
    "duration": 765,
    "start_time": "2022-04-26T13:05:36.981Z"
   },
   {
    "duration": 559,
    "start_time": "2022-04-26T13:05:37.748Z"
   },
   {
    "duration": 23,
    "start_time": "2022-04-26T13:05:38.310Z"
   },
   {
    "duration": 10,
    "start_time": "2022-04-26T13:05:38.335Z"
   },
   {
    "duration": 55,
    "start_time": "2022-04-26T13:05:38.349Z"
   },
   {
    "duration": 5,
    "start_time": "2022-04-26T13:05:38.406Z"
   },
   {
    "duration": 3,
    "start_time": "2022-04-26T13:05:39.991Z"
   },
   {
    "duration": 10,
    "start_time": "2022-04-26T13:05:47.479Z"
   },
   {
    "duration": 37,
    "start_time": "2022-04-26T13:05:54.943Z"
   },
   {
    "duration": 39,
    "start_time": "2022-04-26T13:06:05.000Z"
   },
   {
    "duration": 24,
    "start_time": "2022-04-26T13:06:20.706Z"
   },
   {
    "duration": 5,
    "start_time": "2022-04-26T13:06:28.910Z"
   },
   {
    "duration": 825,
    "start_time": "2022-04-26T13:06:28.919Z"
   },
   {
    "duration": 64,
    "start_time": "2022-04-26T13:06:29.747Z"
   },
   {
    "duration": 103,
    "start_time": "2022-04-26T13:06:29.816Z"
   },
   {
    "duration": 35,
    "start_time": "2022-04-26T13:06:29.922Z"
   },
   {
    "duration": 11,
    "start_time": "2022-04-26T13:06:29.960Z"
   },
   {
    "duration": 379,
    "start_time": "2022-04-26T13:06:29.973Z"
   },
   {
    "duration": 11,
    "start_time": "2022-04-26T13:06:30.354Z"
   },
   {
    "duration": 35,
    "start_time": "2022-04-26T13:06:30.369Z"
   },
   {
    "duration": 30,
    "start_time": "2022-04-26T13:06:30.406Z"
   },
   {
    "duration": 68,
    "start_time": "2022-04-26T13:06:30.438Z"
   },
   {
    "duration": 57,
    "start_time": "2022-04-26T13:06:30.508Z"
   },
   {
    "duration": 21,
    "start_time": "2022-04-26T13:06:30.567Z"
   },
   {
    "duration": 385,
    "start_time": "2022-04-26T13:06:30.590Z"
   },
   {
    "duration": 16,
    "start_time": "2022-04-26T13:06:30.977Z"
   },
   {
    "duration": 469,
    "start_time": "2022-04-26T13:06:30.996Z"
   },
   {
    "duration": 537,
    "start_time": "2022-04-26T13:06:31.468Z"
   },
   {
    "duration": 456,
    "start_time": "2022-04-26T13:06:32.008Z"
   },
   {
    "duration": 379,
    "start_time": "2022-04-26T13:06:32.466Z"
   },
   {
    "duration": 278,
    "start_time": "2022-04-26T13:06:32.848Z"
   },
   {
    "duration": 275,
    "start_time": "2022-04-26T13:06:33.129Z"
   },
   {
    "duration": 305,
    "start_time": "2022-04-26T13:06:33.406Z"
   },
   {
    "duration": 552,
    "start_time": "2022-04-26T13:06:33.713Z"
   },
   {
    "duration": 584,
    "start_time": "2022-04-26T13:06:34.269Z"
   },
   {
    "duration": 865,
    "start_time": "2022-04-26T13:06:34.856Z"
   },
   {
    "duration": 73,
    "start_time": "2022-04-26T13:06:35.723Z"
   },
   {
    "duration": 10,
    "start_time": "2022-04-26T13:06:35.798Z"
   },
   {
    "duration": 18,
    "start_time": "2022-04-26T13:06:35.810Z"
   },
   {
    "duration": 5,
    "start_time": "2022-04-26T13:06:35.830Z"
   },
   {
    "duration": 4,
    "start_time": "2022-04-26T13:06:35.893Z"
   },
   {
    "duration": 24,
    "start_time": "2022-04-26T13:06:38.223Z"
   },
   {
    "duration": 96,
    "start_time": "2022-04-26T13:06:43.542Z"
   },
   {
    "duration": 21,
    "start_time": "2022-04-26T13:06:46.950Z"
   },
   {
    "duration": 5,
    "start_time": "2022-04-26T13:07:00.157Z"
   },
   {
    "duration": 1105,
    "start_time": "2022-04-26T13:07:00.165Z"
   },
   {
    "duration": 64,
    "start_time": "2022-04-26T13:07:01.273Z"
   },
   {
    "duration": 78,
    "start_time": "2022-04-26T13:07:01.341Z"
   },
   {
    "duration": 28,
    "start_time": "2022-04-26T13:07:01.422Z"
   },
   {
    "duration": 36,
    "start_time": "2022-04-26T13:07:01.453Z"
   },
   {
    "duration": 572,
    "start_time": "2022-04-26T13:07:01.491Z"
   },
   {
    "duration": 28,
    "start_time": "2022-04-26T13:07:02.065Z"
   },
   {
    "duration": 14,
    "start_time": "2022-04-26T13:07:02.099Z"
   },
   {
    "duration": 10,
    "start_time": "2022-04-26T13:07:02.115Z"
   },
   {
    "duration": 87,
    "start_time": "2022-04-26T13:07:02.127Z"
   },
   {
    "duration": 26,
    "start_time": "2022-04-26T13:07:02.216Z"
   },
   {
    "duration": 20,
    "start_time": "2022-04-26T13:07:02.244Z"
   },
   {
    "duration": 533,
    "start_time": "2022-04-26T13:07:02.266Z"
   },
   {
    "duration": 12,
    "start_time": "2022-04-26T13:07:02.801Z"
   },
   {
    "duration": 661,
    "start_time": "2022-04-26T13:07:02.816Z"
   },
   {
    "duration": 669,
    "start_time": "2022-04-26T13:07:03.480Z"
   },
   {
    "duration": 690,
    "start_time": "2022-04-26T13:07:04.152Z"
   },
   {
    "duration": 567,
    "start_time": "2022-04-26T13:07:04.845Z"
   },
   {
    "duration": 409,
    "start_time": "2022-04-26T13:07:05.415Z"
   },
   {
    "duration": 342,
    "start_time": "2022-04-26T13:07:05.827Z"
   },
   {
    "duration": 352,
    "start_time": "2022-04-26T13:07:06.171Z"
   },
   {
    "duration": 640,
    "start_time": "2022-04-26T13:07:06.525Z"
   },
   {
    "duration": 663,
    "start_time": "2022-04-26T13:07:07.170Z"
   },
   {
    "duration": 576,
    "start_time": "2022-04-26T13:07:07.836Z"
   },
   {
    "duration": 30,
    "start_time": "2022-04-26T13:07:08.416Z"
   },
   {
    "duration": 10,
    "start_time": "2022-04-26T13:07:08.449Z"
   },
   {
    "duration": 59,
    "start_time": "2022-04-26T13:07:08.462Z"
   },
   {
    "duration": 4,
    "start_time": "2022-04-26T13:07:08.524Z"
   },
   {
    "duration": 7,
    "start_time": "2022-04-26T13:07:08.531Z"
   },
   {
    "duration": 115,
    "start_time": "2022-04-26T13:07:08.541Z"
   },
   {
    "duration": 22,
    "start_time": "2022-04-26T13:07:10.015Z"
   },
   {
    "duration": 39,
    "start_time": "2022-04-26T13:07:15.374Z"
   },
   {
    "duration": 11,
    "start_time": "2022-04-26T13:07:18.911Z"
   },
   {
    "duration": 6,
    "start_time": "2022-04-26T13:07:25.950Z"
   },
   {
    "duration": 6,
    "start_time": "2022-04-26T13:07:36.069Z"
   },
   {
    "duration": 10,
    "start_time": "2022-04-26T13:07:51.286Z"
   },
   {
    "duration": 6,
    "start_time": "2022-04-26T13:07:54.494Z"
   },
   {
    "duration": 47,
    "start_time": "2022-04-26T13:07:54.950Z"
   },
   {
    "duration": 51,
    "start_time": "2022-04-26T13:08:49.517Z"
   },
   {
    "duration": 25,
    "start_time": "2022-04-26T13:09:00.869Z"
   },
   {
    "duration": 39,
    "start_time": "2022-04-26T13:09:18.749Z"
   },
   {
    "duration": 8,
    "start_time": "2022-04-26T13:09:35.620Z"
   },
   {
    "duration": 47,
    "start_time": "2022-04-26T13:09:43.181Z"
   },
   {
    "duration": 6,
    "start_time": "2022-04-26T13:10:17.605Z"
   },
   {
    "duration": 4,
    "start_time": "2022-04-26T13:10:19.643Z"
   },
   {
    "duration": 46,
    "start_time": "2022-04-26T13:10:19.875Z"
   },
   {
    "duration": 5,
    "start_time": "2022-04-26T13:11:56.435Z"
   },
   {
    "duration": 833,
    "start_time": "2022-04-26T13:11:56.442Z"
   },
   {
    "duration": 50,
    "start_time": "2022-04-26T13:11:57.292Z"
   },
   {
    "duration": 73,
    "start_time": "2022-04-26T13:11:57.345Z"
   },
   {
    "duration": 27,
    "start_time": "2022-04-26T13:11:57.420Z"
   },
   {
    "duration": 9,
    "start_time": "2022-04-26T13:11:57.449Z"
   },
   {
    "duration": 381,
    "start_time": "2022-04-26T13:11:57.460Z"
   },
   {
    "duration": 11,
    "start_time": "2022-04-26T13:11:57.843Z"
   },
   {
    "duration": 10,
    "start_time": "2022-04-26T13:11:57.858Z"
   },
   {
    "duration": 10,
    "start_time": "2022-04-26T13:11:57.894Z"
   },
   {
    "duration": 48,
    "start_time": "2022-04-26T13:11:57.907Z"
   },
   {
    "duration": 56,
    "start_time": "2022-04-26T13:11:57.958Z"
   },
   {
    "duration": 20,
    "start_time": "2022-04-26T13:11:58.017Z"
   },
   {
    "duration": 420,
    "start_time": "2022-04-26T13:11:58.039Z"
   },
   {
    "duration": 8,
    "start_time": "2022-04-26T13:11:58.461Z"
   },
   {
    "duration": 433,
    "start_time": "2022-04-26T13:11:58.471Z"
   },
   {
    "duration": 697,
    "start_time": "2022-04-26T13:11:58.906Z"
   },
   {
    "duration": 461,
    "start_time": "2022-04-26T13:11:59.606Z"
   },
   {
    "duration": 396,
    "start_time": "2022-04-26T13:12:00.069Z"
   },
   {
    "duration": 283,
    "start_time": "2022-04-26T13:12:00.467Z"
   },
   {
    "duration": 321,
    "start_time": "2022-04-26T13:12:00.753Z"
   },
   {
    "duration": 381,
    "start_time": "2022-04-26T13:12:01.077Z"
   },
   {
    "duration": 761,
    "start_time": "2022-04-26T13:12:01.461Z"
   },
   {
    "duration": 596,
    "start_time": "2022-04-26T13:12:02.226Z"
   },
   {
    "duration": 601,
    "start_time": "2022-04-26T13:12:02.825Z"
   },
   {
    "duration": 27,
    "start_time": "2022-04-26T13:12:03.429Z"
   },
   {
    "duration": 34,
    "start_time": "2022-04-26T13:12:03.459Z"
   },
   {
    "duration": 22,
    "start_time": "2022-04-26T13:12:03.497Z"
   },
   {
    "duration": 6,
    "start_time": "2022-04-26T13:12:03.522Z"
   },
   {
    "duration": 9,
    "start_time": "2022-04-26T13:12:03.531Z"
   },
   {
    "duration": 112,
    "start_time": "2022-04-26T13:12:03.543Z"
   },
   {
    "duration": 29,
    "start_time": "2022-04-26T13:12:04.531Z"
   },
   {
    "duration": 10,
    "start_time": "2022-04-26T13:12:06.603Z"
   },
   {
    "duration": 5,
    "start_time": "2022-04-26T13:12:07.123Z"
   },
   {
    "duration": 5,
    "start_time": "2022-04-26T13:12:08.002Z"
   },
   {
    "duration": 62,
    "start_time": "2022-04-26T13:12:08.459Z"
   },
   {
    "duration": 48,
    "start_time": "2022-04-26T13:13:19.956Z"
   },
   {
    "duration": 46,
    "start_time": "2022-04-26T13:13:35.819Z"
   },
   {
    "duration": 7,
    "start_time": "2022-04-26T13:14:08.706Z"
   },
   {
    "duration": 1228,
    "start_time": "2022-04-26T13:14:08.717Z"
   },
   {
    "duration": 59,
    "start_time": "2022-04-26T13:14:09.948Z"
   },
   {
    "duration": 55,
    "start_time": "2022-04-26T13:14:10.010Z"
   },
   {
    "duration": 35,
    "start_time": "2022-04-26T13:14:10.093Z"
   },
   {
    "duration": 24,
    "start_time": "2022-04-26T13:14:10.130Z"
   },
   {
    "duration": 365,
    "start_time": "2022-04-26T13:14:10.157Z"
   },
   {
    "duration": 12,
    "start_time": "2022-04-26T13:14:10.525Z"
   },
   {
    "duration": 12,
    "start_time": "2022-04-26T13:14:10.539Z"
   },
   {
    "duration": 7,
    "start_time": "2022-04-26T13:14:10.555Z"
   },
   {
    "duration": 72,
    "start_time": "2022-04-26T13:14:10.594Z"
   },
   {
    "duration": 24,
    "start_time": "2022-04-26T13:14:10.669Z"
   },
   {
    "duration": 20,
    "start_time": "2022-04-26T13:14:10.695Z"
   },
   {
    "duration": 402,
    "start_time": "2022-04-26T13:14:10.717Z"
   },
   {
    "duration": 7,
    "start_time": "2022-04-26T13:14:11.122Z"
   },
   {
    "duration": 455,
    "start_time": "2022-04-26T13:14:11.132Z"
   },
   {
    "duration": 442,
    "start_time": "2022-04-26T13:14:11.589Z"
   },
   {
    "duration": 444,
    "start_time": "2022-04-26T13:14:12.033Z"
   },
   {
    "duration": 360,
    "start_time": "2022-04-26T13:14:12.479Z"
   },
   {
    "duration": 276,
    "start_time": "2022-04-26T13:14:12.841Z"
   },
   {
    "duration": 283,
    "start_time": "2022-04-26T13:14:13.119Z"
   },
   {
    "duration": 566,
    "start_time": "2022-04-26T13:14:13.405Z"
   },
   {
    "duration": 562,
    "start_time": "2022-04-26T13:14:13.974Z"
   },
   {
    "duration": 563,
    "start_time": "2022-04-26T13:14:14.538Z"
   },
   {
    "duration": 551,
    "start_time": "2022-04-26T13:14:15.103Z"
   },
   {
    "duration": 37,
    "start_time": "2022-04-26T13:14:15.657Z"
   },
   {
    "duration": 11,
    "start_time": "2022-04-26T13:14:15.697Z"
   },
   {
    "duration": 20,
    "start_time": "2022-04-26T13:14:15.715Z"
   },
   {
    "duration": 5,
    "start_time": "2022-04-26T13:14:15.737Z"
   },
   {
    "duration": 6,
    "start_time": "2022-04-26T13:14:15.744Z"
   },
   {
    "duration": 100,
    "start_time": "2022-04-26T13:14:15.793Z"
   },
   {
    "duration": 24,
    "start_time": "2022-04-26T13:14:16.987Z"
   },
   {
    "duration": 22,
    "start_time": "2022-04-26T13:14:28.987Z"
   },
   {
    "duration": 4,
    "start_time": "2022-04-26T13:15:49.444Z"
   },
   {
    "duration": 22,
    "start_time": "2022-04-26T13:15:50.027Z"
   },
   {
    "duration": 6,
    "start_time": "2022-04-26T13:15:53.073Z"
   },
   {
    "duration": 1285,
    "start_time": "2022-04-26T13:15:53.083Z"
   },
   {
    "duration": 71,
    "start_time": "2022-04-26T13:15:54.371Z"
   },
   {
    "duration": 87,
    "start_time": "2022-04-26T13:15:54.445Z"
   },
   {
    "duration": 31,
    "start_time": "2022-04-26T13:15:54.535Z"
   },
   {
    "duration": 29,
    "start_time": "2022-04-26T13:15:54.568Z"
   },
   {
    "duration": 468,
    "start_time": "2022-04-26T13:15:54.600Z"
   },
   {
    "duration": 23,
    "start_time": "2022-04-26T13:15:55.070Z"
   },
   {
    "duration": 15,
    "start_time": "2022-04-26T13:15:55.099Z"
   },
   {
    "duration": 10,
    "start_time": "2022-04-26T13:15:55.117Z"
   },
   {
    "duration": 90,
    "start_time": "2022-04-26T13:15:55.129Z"
   },
   {
    "duration": 28,
    "start_time": "2022-04-26T13:15:55.222Z"
   },
   {
    "duration": 46,
    "start_time": "2022-04-26T13:15:55.253Z"
   },
   {
    "duration": 405,
    "start_time": "2022-04-26T13:15:55.302Z"
   },
   {
    "duration": 8,
    "start_time": "2022-04-26T13:15:55.710Z"
   },
   {
    "duration": 487,
    "start_time": "2022-04-26T13:15:55.720Z"
   },
   {
    "duration": 454,
    "start_time": "2022-04-26T13:15:56.210Z"
   },
   {
    "duration": 527,
    "start_time": "2022-04-26T13:15:56.666Z"
   },
   {
    "duration": 395,
    "start_time": "2022-04-26T13:15:57.195Z"
   },
   {
    "duration": 322,
    "start_time": "2022-04-26T13:15:57.594Z"
   },
   {
    "duration": 321,
    "start_time": "2022-04-26T13:15:57.919Z"
   },
   {
    "duration": 319,
    "start_time": "2022-04-26T13:15:58.243Z"
   },
   {
    "duration": 617,
    "start_time": "2022-04-26T13:15:58.564Z"
   },
   {
    "duration": 758,
    "start_time": "2022-04-26T13:15:59.186Z"
   },
   {
    "duration": 804,
    "start_time": "2022-04-26T13:15:59.946Z"
   },
   {
    "duration": 40,
    "start_time": "2022-04-26T13:16:00.754Z"
   },
   {
    "duration": 16,
    "start_time": "2022-04-26T13:16:00.796Z"
   },
   {
    "duration": 38,
    "start_time": "2022-04-26T13:16:00.814Z"
   },
   {
    "duration": 29,
    "start_time": "2022-04-26T13:16:00.855Z"
   },
   {
    "duration": 31,
    "start_time": "2022-04-26T13:16:00.887Z"
   },
   {
    "duration": 142,
    "start_time": "2022-04-26T13:16:00.921Z"
   },
   {
    "duration": 30,
    "start_time": "2022-04-26T13:16:02.091Z"
   },
   {
    "duration": 9,
    "start_time": "2022-04-26T13:16:04.106Z"
   },
   {
    "duration": 5,
    "start_time": "2022-04-26T13:16:04.522Z"
   },
   {
    "duration": 3,
    "start_time": "2022-04-26T13:16:05.242Z"
   },
   {
    "duration": 45,
    "start_time": "2022-04-26T13:16:05.762Z"
   },
   {
    "duration": 10,
    "start_time": "2022-04-26T13:16:30.154Z"
   },
   {
    "duration": 4,
    "start_time": "2022-04-26T13:16:30.962Z"
   },
   {
    "duration": 46,
    "start_time": "2022-04-26T13:16:31.545Z"
   },
   {
    "duration": 37,
    "start_time": "2022-04-26T13:18:40.466Z"
   },
   {
    "duration": 38,
    "start_time": "2022-04-26T13:18:44.938Z"
   },
   {
    "duration": 12,
    "start_time": "2022-04-26T13:18:49.546Z"
   },
   {
    "duration": 18,
    "start_time": "2022-04-26T13:18:52.242Z"
   },
   {
    "duration": 15,
    "start_time": "2022-04-26T13:19:03.850Z"
   },
   {
    "duration": 7,
    "start_time": "2022-04-26T13:19:08.586Z"
   },
   {
    "duration": 57,
    "start_time": "2022-04-26T13:19:20.138Z"
   },
   {
    "duration": 26,
    "start_time": "2022-04-26T13:19:23.674Z"
   },
   {
    "duration": 46,
    "start_time": "2022-04-26T13:19:51.610Z"
   },
   {
    "duration": 46,
    "start_time": "2022-04-26T13:20:07.402Z"
   },
   {
    "duration": 4,
    "start_time": "2022-04-26T13:20:57.625Z"
   },
   {
    "duration": 1551,
    "start_time": "2022-04-26T13:20:58.200Z"
   },
   {
    "duration": 11,
    "start_time": "2022-04-26T13:21:05.017Z"
   },
   {
    "duration": 63,
    "start_time": "2022-04-26T13:23:01.146Z"
   },
   {
    "duration": 4,
    "start_time": "2022-04-26T13:25:00.537Z"
   },
   {
    "duration": 53,
    "start_time": "2022-04-26T13:25:01.184Z"
   },
   {
    "duration": 5,
    "start_time": "2022-04-26T13:26:14.015Z"
   },
   {
    "duration": 22,
    "start_time": "2022-04-26T13:26:14.567Z"
   },
   {
    "duration": 5,
    "start_time": "2022-04-26T13:26:24.790Z"
   },
   {
    "duration": 875,
    "start_time": "2022-04-26T13:26:24.797Z"
   },
   {
    "duration": 54,
    "start_time": "2022-04-26T13:26:25.675Z"
   },
   {
    "duration": 73,
    "start_time": "2022-04-26T13:26:25.732Z"
   },
   {
    "duration": 28,
    "start_time": "2022-04-26T13:26:25.807Z"
   },
   {
    "duration": 8,
    "start_time": "2022-04-26T13:26:25.837Z"
   },
   {
    "duration": 380,
    "start_time": "2022-04-26T13:26:25.847Z"
   },
   {
    "duration": 10,
    "start_time": "2022-04-26T13:26:26.229Z"
   },
   {
    "duration": 9,
    "start_time": "2022-04-26T13:26:26.241Z"
   },
   {
    "duration": 40,
    "start_time": "2022-04-26T13:26:26.254Z"
   },
   {
    "duration": 47,
    "start_time": "2022-04-26T13:26:26.297Z"
   },
   {
    "duration": 52,
    "start_time": "2022-04-26T13:26:26.347Z"
   },
   {
    "duration": 21,
    "start_time": "2022-04-26T13:26:26.402Z"
   },
   {
    "duration": 688,
    "start_time": "2022-04-26T13:26:26.425Z"
   },
   {
    "duration": 8,
    "start_time": "2022-04-26T13:26:27.115Z"
   },
   {
    "duration": 441,
    "start_time": "2022-04-26T13:26:27.126Z"
   },
   {
    "duration": 443,
    "start_time": "2022-04-26T13:26:27.569Z"
   },
   {
    "duration": 478,
    "start_time": "2022-04-26T13:26:28.015Z"
   },
   {
    "duration": 382,
    "start_time": "2022-04-26T13:26:28.495Z"
   },
   {
    "duration": 283,
    "start_time": "2022-04-26T13:26:28.880Z"
   },
   {
    "duration": 291,
    "start_time": "2022-04-26T13:26:29.166Z"
   },
   {
    "duration": 313,
    "start_time": "2022-04-26T13:26:29.459Z"
   },
   {
    "duration": 604,
    "start_time": "2022-04-26T13:26:29.775Z"
   },
   {
    "duration": 585,
    "start_time": "2022-04-26T13:26:30.382Z"
   },
   {
    "duration": 555,
    "start_time": "2022-04-26T13:26:30.970Z"
   },
   {
    "duration": 20,
    "start_time": "2022-04-26T13:26:31.527Z"
   },
   {
    "duration": 22,
    "start_time": "2022-04-26T13:26:31.549Z"
   },
   {
    "duration": 36,
    "start_time": "2022-04-26T13:26:31.576Z"
   },
   {
    "duration": 5,
    "start_time": "2022-04-26T13:26:31.614Z"
   },
   {
    "duration": 10,
    "start_time": "2022-04-26T13:26:31.621Z"
   },
   {
    "duration": 104,
    "start_time": "2022-04-26T13:26:31.633Z"
   },
   {
    "duration": 28,
    "start_time": "2022-04-26T13:26:36.493Z"
   },
   {
    "duration": 9,
    "start_time": "2022-04-26T13:26:39.319Z"
   },
   {
    "duration": 4,
    "start_time": "2022-04-26T13:26:40.191Z"
   },
   {
    "duration": 58,
    "start_time": "2022-04-26T13:26:40.647Z"
   },
   {
    "duration": 5,
    "start_time": "2022-04-26T13:31:14.615Z"
   },
   {
    "duration": 21,
    "start_time": "2022-04-26T13:31:15.645Z"
   },
   {
    "duration": 5,
    "start_time": "2022-04-26T13:31:18.509Z"
   },
   {
    "duration": 850,
    "start_time": "2022-04-26T13:31:18.518Z"
   },
   {
    "duration": 61,
    "start_time": "2022-04-26T13:31:19.371Z"
   },
   {
    "duration": 77,
    "start_time": "2022-04-26T13:31:19.435Z"
   },
   {
    "duration": 33,
    "start_time": "2022-04-26T13:31:19.514Z"
   },
   {
    "duration": 9,
    "start_time": "2022-04-26T13:31:19.549Z"
   },
   {
    "duration": 589,
    "start_time": "2022-04-26T13:31:19.561Z"
   },
   {
    "duration": 14,
    "start_time": "2022-04-26T13:31:20.152Z"
   },
   {
    "duration": 34,
    "start_time": "2022-04-26T13:31:20.172Z"
   },
   {
    "duration": 9,
    "start_time": "2022-04-26T13:31:20.209Z"
   },
   {
    "duration": 76,
    "start_time": "2022-04-26T13:31:20.221Z"
   },
   {
    "duration": 30,
    "start_time": "2022-04-26T13:31:20.300Z"
   },
   {
    "duration": 21,
    "start_time": "2022-04-26T13:31:20.332Z"
   },
   {
    "duration": 419,
    "start_time": "2022-04-26T13:31:20.355Z"
   },
   {
    "duration": 16,
    "start_time": "2022-04-26T13:31:20.777Z"
   },
   {
    "duration": 437,
    "start_time": "2022-04-26T13:31:20.795Z"
   },
   {
    "duration": 436,
    "start_time": "2022-04-26T13:31:21.235Z"
   },
   {
    "duration": 458,
    "start_time": "2022-04-26T13:31:21.673Z"
   },
   {
    "duration": 378,
    "start_time": "2022-04-26T13:31:22.133Z"
   },
   {
    "duration": 286,
    "start_time": "2022-04-26T13:31:22.515Z"
   },
   {
    "duration": 282,
    "start_time": "2022-04-26T13:31:22.803Z"
   },
   {
    "duration": 308,
    "start_time": "2022-04-26T13:31:23.088Z"
   },
   {
    "duration": 564,
    "start_time": "2022-04-26T13:31:23.398Z"
   },
   {
    "duration": 905,
    "start_time": "2022-04-26T13:31:23.967Z"
   },
   {
    "duration": 555,
    "start_time": "2022-04-26T13:31:24.875Z"
   },
   {
    "duration": 21,
    "start_time": "2022-04-26T13:31:25.433Z"
   },
   {
    "duration": 38,
    "start_time": "2022-04-26T13:31:25.456Z"
   },
   {
    "duration": 20,
    "start_time": "2022-04-26T13:31:25.497Z"
   },
   {
    "duration": 4,
    "start_time": "2022-04-26T13:31:25.520Z"
   },
   {
    "duration": 13,
    "start_time": "2022-04-26T13:31:25.527Z"
   },
   {
    "duration": 132,
    "start_time": "2022-04-26T13:31:25.542Z"
   },
   {
    "duration": 27,
    "start_time": "2022-04-26T13:31:26.614Z"
   },
   {
    "duration": 12,
    "start_time": "2022-04-26T13:31:28.685Z"
   },
   {
    "duration": 5,
    "start_time": "2022-04-26T13:31:29.333Z"
   },
   {
    "duration": 64,
    "start_time": "2022-04-26T13:31:29.693Z"
   },
   {
    "duration": 7,
    "start_time": "2022-04-26T13:31:37.806Z"
   },
   {
    "duration": 8,
    "start_time": "2022-04-26T13:31:54.406Z"
   },
   {
    "duration": 8,
    "start_time": "2022-04-26T13:32:12.870Z"
   },
   {
    "duration": 36,
    "start_time": "2022-04-26T13:32:33.494Z"
   },
   {
    "duration": 5,
    "start_time": "2022-04-26T13:32:36.583Z"
   },
   {
    "duration": 9,
    "start_time": "2022-04-26T13:32:37.261Z"
   },
   {
    "duration": 22,
    "start_time": "2022-04-26T13:32:41.086Z"
   },
   {
    "duration": 5,
    "start_time": "2022-04-26T13:32:46.388Z"
   },
   {
    "duration": 898,
    "start_time": "2022-04-26T13:32:46.396Z"
   },
   {
    "duration": 48,
    "start_time": "2022-04-26T13:32:47.296Z"
   },
   {
    "duration": 79,
    "start_time": "2022-04-26T13:32:47.348Z"
   },
   {
    "duration": 29,
    "start_time": "2022-04-26T13:32:47.429Z"
   },
   {
    "duration": 38,
    "start_time": "2022-04-26T13:32:47.460Z"
   },
   {
    "duration": 357,
    "start_time": "2022-04-26T13:32:47.501Z"
   },
   {
    "duration": 11,
    "start_time": "2022-04-26T13:32:47.860Z"
   },
   {
    "duration": 9,
    "start_time": "2022-04-26T13:32:47.892Z"
   },
   {
    "duration": 8,
    "start_time": "2022-04-26T13:32:47.904Z"
   },
   {
    "duration": 78,
    "start_time": "2022-04-26T13:32:47.915Z"
   },
   {
    "duration": 26,
    "start_time": "2022-04-26T13:32:47.996Z"
   },
   {
    "duration": 22,
    "start_time": "2022-04-26T13:32:48.025Z"
   },
   {
    "duration": 415,
    "start_time": "2022-04-26T13:32:48.050Z"
   },
   {
    "duration": 9,
    "start_time": "2022-04-26T13:32:48.467Z"
   },
   {
    "duration": 436,
    "start_time": "2022-04-26T13:32:48.493Z"
   },
   {
    "duration": 444,
    "start_time": "2022-04-26T13:32:48.932Z"
   },
   {
    "duration": 451,
    "start_time": "2022-04-26T13:32:49.379Z"
   },
   {
    "duration": 373,
    "start_time": "2022-04-26T13:32:49.832Z"
   },
   {
    "duration": 288,
    "start_time": "2022-04-26T13:32:50.207Z"
   },
   {
    "duration": 280,
    "start_time": "2022-04-26T13:32:50.497Z"
   },
   {
    "duration": 314,
    "start_time": "2022-04-26T13:32:50.779Z"
   },
   {
    "duration": 563,
    "start_time": "2022-04-26T13:32:51.095Z"
   },
   {
    "duration": 567,
    "start_time": "2022-04-26T13:32:51.662Z"
   },
   {
    "duration": 545,
    "start_time": "2022-04-26T13:32:52.231Z"
   },
   {
    "duration": 29,
    "start_time": "2022-04-26T13:32:52.778Z"
   },
   {
    "duration": 9,
    "start_time": "2022-04-26T13:32:52.809Z"
   },
   {
    "duration": 22,
    "start_time": "2022-04-26T13:32:52.820Z"
   },
   {
    "duration": 6,
    "start_time": "2022-04-26T13:32:52.844Z"
   },
   {
    "duration": 5,
    "start_time": "2022-04-26T13:32:52.893Z"
   },
   {
    "duration": 113,
    "start_time": "2022-04-26T13:32:52.901Z"
   },
   {
    "duration": 5,
    "start_time": "2022-04-26T13:32:53.637Z"
   },
   {
    "duration": 9,
    "start_time": "2022-04-26T13:32:54.549Z"
   },
   {
    "duration": 41,
    "start_time": "2022-04-26T13:33:00.485Z"
   },
   {
    "duration": 12,
    "start_time": "2022-04-26T13:33:04.086Z"
   },
   {
    "duration": 26,
    "start_time": "2022-04-26T13:33:06.357Z"
   },
   {
    "duration": 25,
    "start_time": "2022-04-26T13:33:12.941Z"
   },
   {
    "duration": 6,
    "start_time": "2022-04-26T13:33:29.204Z"
   },
   {
    "duration": 1344,
    "start_time": "2022-04-26T13:33:29.214Z"
   },
   {
    "duration": 84,
    "start_time": "2022-04-26T13:33:30.561Z"
   },
   {
    "duration": 81,
    "start_time": "2022-04-26T13:33:30.648Z"
   },
   {
    "duration": 30,
    "start_time": "2022-04-26T13:33:30.731Z"
   },
   {
    "duration": 31,
    "start_time": "2022-04-26T13:33:30.764Z"
   },
   {
    "duration": 602,
    "start_time": "2022-04-26T13:33:30.798Z"
   },
   {
    "duration": 11,
    "start_time": "2022-04-26T13:33:31.402Z"
   },
   {
    "duration": 10,
    "start_time": "2022-04-26T13:33:31.415Z"
   },
   {
    "duration": 17,
    "start_time": "2022-04-26T13:33:31.429Z"
   },
   {
    "duration": 87,
    "start_time": "2022-04-26T13:33:31.448Z"
   },
   {
    "duration": 30,
    "start_time": "2022-04-26T13:33:31.537Z"
   },
   {
    "duration": 42,
    "start_time": "2022-04-26T13:33:31.570Z"
   },
   {
    "duration": 516,
    "start_time": "2022-04-26T13:33:31.616Z"
   },
   {
    "duration": 10,
    "start_time": "2022-04-26T13:33:32.135Z"
   },
   {
    "duration": 430,
    "start_time": "2022-04-26T13:33:32.147Z"
   },
   {
    "duration": 809,
    "start_time": "2022-04-26T13:33:32.580Z"
   },
   {
    "duration": 728,
    "start_time": "2022-04-26T13:33:33.394Z"
   },
   {
    "duration": 550,
    "start_time": "2022-04-26T13:33:34.125Z"
   },
   {
    "duration": 400,
    "start_time": "2022-04-26T13:33:34.679Z"
   },
   {
    "duration": 413,
    "start_time": "2022-04-26T13:33:35.092Z"
   },
   {
    "duration": 437,
    "start_time": "2022-04-26T13:33:35.507Z"
   },
   {
    "duration": 573,
    "start_time": "2022-04-26T13:33:35.947Z"
   },
   {
    "duration": 1004,
    "start_time": "2022-04-26T13:33:36.522Z"
   },
   {
    "duration": 567,
    "start_time": "2022-04-26T13:33:37.529Z"
   },
   {
    "duration": 23,
    "start_time": "2022-04-26T13:33:38.098Z"
   },
   {
    "duration": 10,
    "start_time": "2022-04-26T13:33:38.123Z"
   },
   {
    "duration": 19,
    "start_time": "2022-04-26T13:33:38.137Z"
   },
   {
    "duration": 34,
    "start_time": "2022-04-26T13:33:38.159Z"
   },
   {
    "duration": 8,
    "start_time": "2022-04-26T13:33:38.196Z"
   },
   {
    "duration": 8,
    "start_time": "2022-04-26T13:33:39.180Z"
   },
   {
    "duration": 88,
    "start_time": "2022-04-26T13:33:39.828Z"
   },
   {
    "duration": 12,
    "start_time": "2022-04-26T13:33:40.540Z"
   },
   {
    "duration": 9,
    "start_time": "2022-04-26T13:33:48.973Z"
   },
   {
    "duration": 3,
    "start_time": "2022-04-26T13:33:49.981Z"
   },
   {
    "duration": 1629,
    "start_time": "2022-04-26T13:33:50.565Z"
   },
   {
    "duration": 317,
    "start_time": "2022-04-26T13:34:03.277Z"
   },
   {
    "duration": 4,
    "start_time": "2022-04-26T13:34:10.180Z"
   },
   {
    "duration": 3008,
    "start_time": "2022-04-26T13:34:10.637Z"
   },
   {
    "duration": 6,
    "start_time": "2022-04-26T13:34:13.649Z"
   },
   {
    "duration": 240,
    "start_time": "2022-04-26T13:34:22.053Z"
   },
   {
    "duration": 58,
    "start_time": "2022-04-26T13:34:30.590Z"
   },
   {
    "duration": 4,
    "start_time": "2022-04-26T13:34:34.064Z"
   },
   {
    "duration": 105745,
    "start_time": "2022-04-26T13:34:36.081Z"
   },
   {
    "duration": 8,
    "start_time": "2022-04-26T13:36:21.829Z"
   },
   {
    "duration": 4882,
    "start_time": "2022-04-26T13:36:42.500Z"
   },
   {
    "duration": 369,
    "start_time": "2022-04-26T13:36:47.385Z"
   },
   {
    "duration": 25,
    "start_time": "2022-04-26T13:36:59.004Z"
   },
   {
    "duration": 19,
    "start_time": "2022-04-26T13:38:38.389Z"
   },
   {
    "duration": 13,
    "start_time": "2022-04-26T13:38:38.715Z"
   },
   {
    "duration": 6,
    "start_time": "2022-04-26T13:38:46.697Z"
   },
   {
    "duration": 891,
    "start_time": "2022-04-26T13:38:46.706Z"
   },
   {
    "duration": 50,
    "start_time": "2022-04-26T13:38:47.600Z"
   },
   {
    "duration": 82,
    "start_time": "2022-04-26T13:38:47.653Z"
   },
   {
    "duration": 55,
    "start_time": "2022-04-26T13:38:47.738Z"
   },
   {
    "duration": 5,
    "start_time": "2022-04-26T13:38:47.796Z"
   },
   {
    "duration": 391,
    "start_time": "2022-04-26T13:38:47.803Z"
   },
   {
    "duration": 13,
    "start_time": "2022-04-26T13:38:48.197Z"
   },
   {
    "duration": 10,
    "start_time": "2022-04-26T13:38:48.212Z"
   },
   {
    "duration": 8,
    "start_time": "2022-04-26T13:38:48.228Z"
   },
   {
    "duration": 119,
    "start_time": "2022-04-26T13:38:48.239Z"
   },
   {
    "duration": 58,
    "start_time": "2022-04-26T13:38:48.361Z"
   },
   {
    "duration": 30,
    "start_time": "2022-04-26T13:38:48.422Z"
   },
   {
    "duration": 528,
    "start_time": "2022-04-26T13:38:48.455Z"
   },
   {
    "duration": 10,
    "start_time": "2022-04-26T13:38:48.994Z"
   },
   {
    "duration": 447,
    "start_time": "2022-04-26T13:38:49.006Z"
   },
   {
    "duration": 483,
    "start_time": "2022-04-26T13:38:49.457Z"
   },
   {
    "duration": 462,
    "start_time": "2022-04-26T13:38:49.943Z"
   },
   {
    "duration": 559,
    "start_time": "2022-04-26T13:38:50.407Z"
   },
   {
    "duration": 289,
    "start_time": "2022-04-26T13:38:50.969Z"
   },
   {
    "duration": 308,
    "start_time": "2022-04-26T13:38:51.261Z"
   },
   {
    "duration": 321,
    "start_time": "2022-04-26T13:38:51.572Z"
   },
   {
    "duration": 773,
    "start_time": "2022-04-26T13:38:51.896Z"
   },
   {
    "duration": 808,
    "start_time": "2022-04-26T13:38:52.672Z"
   },
   {
    "duration": 763,
    "start_time": "2022-04-26T13:38:53.483Z"
   },
   {
    "duration": 44,
    "start_time": "2022-04-26T13:38:54.249Z"
   },
   {
    "duration": 13,
    "start_time": "2022-04-26T13:38:54.296Z"
   },
   {
    "duration": 22,
    "start_time": "2022-04-26T13:38:54.315Z"
   },
   {
    "duration": 6,
    "start_time": "2022-04-26T13:38:54.339Z"
   },
   {
    "duration": 45,
    "start_time": "2022-04-26T13:38:54.348Z"
   },
   {
    "duration": 8,
    "start_time": "2022-04-26T13:38:57.460Z"
   },
   {
    "duration": 89,
    "start_time": "2022-04-26T13:38:58.500Z"
   },
   {
    "duration": 15,
    "start_time": "2022-04-26T13:39:11.700Z"
   },
   {
    "duration": 26,
    "start_time": "2022-04-26T13:39:18.603Z"
   },
   {
    "duration": 6,
    "start_time": "2022-04-26T13:39:21.866Z"
   },
   {
    "duration": 879,
    "start_time": "2022-04-26T13:39:21.876Z"
   },
   {
    "duration": 62,
    "start_time": "2022-04-26T13:39:22.758Z"
   },
   {
    "duration": 78,
    "start_time": "2022-04-26T13:39:22.823Z"
   },
   {
    "duration": 40,
    "start_time": "2022-04-26T13:39:22.905Z"
   },
   {
    "duration": 9,
    "start_time": "2022-04-26T13:39:22.949Z"
   },
   {
    "duration": 598,
    "start_time": "2022-04-26T13:39:22.961Z"
   },
   {
    "duration": 31,
    "start_time": "2022-04-26T13:39:23.562Z"
   },
   {
    "duration": 14,
    "start_time": "2022-04-26T13:39:23.598Z"
   },
   {
    "duration": 14,
    "start_time": "2022-04-26T13:39:23.615Z"
   },
   {
    "duration": 96,
    "start_time": "2022-04-26T13:39:23.631Z"
   },
   {
    "duration": 38,
    "start_time": "2022-04-26T13:39:23.729Z"
   },
   {
    "duration": 46,
    "start_time": "2022-04-26T13:39:23.769Z"
   },
   {
    "duration": 431,
    "start_time": "2022-04-26T13:39:23.819Z"
   },
   {
    "duration": 8,
    "start_time": "2022-04-26T13:39:24.252Z"
   },
   {
    "duration": 440,
    "start_time": "2022-04-26T13:39:24.262Z"
   },
   {
    "duration": 446,
    "start_time": "2022-04-26T13:39:24.705Z"
   },
   {
    "duration": 472,
    "start_time": "2022-04-26T13:39:25.153Z"
   },
   {
    "duration": 665,
    "start_time": "2022-04-26T13:39:25.628Z"
   },
   {
    "duration": 408,
    "start_time": "2022-04-26T13:39:26.296Z"
   },
   {
    "duration": 401,
    "start_time": "2022-04-26T13:39:26.707Z"
   },
   {
    "duration": 449,
    "start_time": "2022-04-26T13:39:27.111Z"
   },
   {
    "duration": 780,
    "start_time": "2022-04-26T13:39:27.563Z"
   },
   {
    "duration": 1206,
    "start_time": "2022-04-26T13:39:28.349Z"
   },
   {
    "duration": 570,
    "start_time": "2022-04-26T13:39:29.557Z"
   },
   {
    "duration": 21,
    "start_time": "2022-04-26T13:39:30.130Z"
   },
   {
    "duration": 10,
    "start_time": "2022-04-26T13:39:30.154Z"
   },
   {
    "duration": 22,
    "start_time": "2022-04-26T13:39:30.194Z"
   },
   {
    "duration": 6,
    "start_time": "2022-04-26T13:39:30.219Z"
   },
   {
    "duration": 13,
    "start_time": "2022-04-26T13:39:30.228Z"
   },
   {
    "duration": 16,
    "start_time": "2022-04-26T13:39:30.244Z"
   },
   {
    "duration": 158,
    "start_time": "2022-04-26T13:39:30.263Z"
   },
   {
    "duration": 11,
    "start_time": "2022-04-26T13:39:36.508Z"
   },
   {
    "duration": 10,
    "start_time": "2022-04-26T13:39:38.979Z"
   },
   {
    "duration": 5,
    "start_time": "2022-04-26T13:39:39.915Z"
   },
   {
    "duration": 2054,
    "start_time": "2022-04-26T13:39:40.243Z"
   },
   {
    "duration": 403,
    "start_time": "2022-04-26T13:39:45.299Z"
   },
   {
    "duration": 4,
    "start_time": "2022-04-26T13:39:47.052Z"
   },
   {
    "duration": 4444,
    "start_time": "2022-04-26T13:39:47.571Z"
   },
   {
    "duration": 7,
    "start_time": "2022-04-26T13:39:52.018Z"
   },
   {
    "duration": 271,
    "start_time": "2022-04-26T13:39:52.028Z"
   },
   {
    "duration": 60,
    "start_time": "2022-04-26T13:39:52.303Z"
   },
   {
    "duration": 5,
    "start_time": "2022-04-26T13:39:57.076Z"
   },
   {
    "duration": 104054,
    "start_time": "2022-04-26T13:39:57.499Z"
   },
   {
    "duration": 6,
    "start_time": "2022-04-26T13:41:41.556Z"
   },
   {
    "duration": 3702,
    "start_time": "2022-04-26T13:41:52.835Z"
   },
   {
    "duration": 251,
    "start_time": "2022-04-26T13:41:57.506Z"
   },
   {
    "duration": 160,
    "start_time": "2022-04-26T13:42:01.106Z"
   },
   {
    "duration": 13,
    "start_time": "2022-04-26T13:42:05.195Z"
   },
   {
    "duration": 1800,
    "start_time": "2022-04-26T13:42:08.210Z"
   },
   {
    "duration": 408,
    "start_time": "2022-04-26T13:42:10.095Z"
   },
   {
    "duration": 5,
    "start_time": "2022-04-26T13:42:21.347Z"
   },
   {
    "duration": 106336,
    "start_time": "2022-04-26T13:42:21.962Z"
   },
   {
    "duration": 6,
    "start_time": "2022-04-26T13:44:08.300Z"
   },
   {
    "duration": 1959,
    "start_time": "2022-04-26T13:44:08.310Z"
   },
   {
    "duration": 264,
    "start_time": "2022-04-26T13:44:10.272Z"
   },
   {
    "duration": 4,
    "start_time": "2022-04-26T13:44:10.539Z"
   },
   {
    "duration": 8,
    "start_time": "2022-04-26T13:44:10.546Z"
   },
   {
    "duration": 6,
    "start_time": "2022-04-26T13:44:45.817Z"
   },
   {
    "duration": 4,
    "start_time": "2022-04-26T13:44:47.273Z"
   },
   {
    "duration": 3237,
    "start_time": "2022-04-26T13:45:05.306Z"
   },
   {
    "duration": 315,
    "start_time": "2022-04-26T13:45:08.546Z"
   },
   {
    "duration": 90,
    "start_time": "2022-04-26T13:45:08.863Z"
   },
   {
    "duration": 415,
    "start_time": "2022-04-26T13:45:13.514Z"
   },
   {
    "duration": 112,
    "start_time": "2022-04-26T13:45:23.994Z"
   },
   {
    "duration": 4557,
    "start_time": "2022-04-26T13:45:55.194Z"
   },
   {
    "duration": 1155,
    "start_time": "2022-04-26T13:46:03.793Z"
   },
   {
    "duration": 4,
    "start_time": "2022-04-26T13:46:32.985Z"
   },
   {
    "duration": 7,
    "start_time": "2022-04-26T13:46:33.336Z"
   },
   {
    "duration": 105,
    "start_time": "2022-04-26T13:47:29.937Z"
   },
   {
    "duration": 7,
    "start_time": "2022-04-26T13:47:35.680Z"
   },
   {
    "duration": 5,
    "start_time": "2022-04-26T13:50:07.567Z"
   },
   {
    "duration": 1393,
    "start_time": "2022-04-26T13:50:07.575Z"
   },
   {
    "duration": 75,
    "start_time": "2022-04-26T13:50:08.971Z"
   },
   {
    "duration": 99,
    "start_time": "2022-04-26T13:50:09.051Z"
   },
   {
    "duration": 61,
    "start_time": "2022-04-26T13:50:09.153Z"
   },
   {
    "duration": 21,
    "start_time": "2022-04-26T13:50:09.217Z"
   },
   {
    "duration": 579,
    "start_time": "2022-04-26T13:50:09.241Z"
   },
   {
    "duration": 15,
    "start_time": "2022-04-26T13:50:09.822Z"
   },
   {
    "duration": 11,
    "start_time": "2022-04-26T13:50:09.840Z"
   },
   {
    "duration": 39,
    "start_time": "2022-04-26T13:50:09.857Z"
   },
   {
    "duration": 71,
    "start_time": "2022-04-26T13:50:09.899Z"
   },
   {
    "duration": 26,
    "start_time": "2022-04-26T13:50:09.995Z"
   },
   {
    "duration": 21,
    "start_time": "2022-04-26T13:50:10.023Z"
   },
   {
    "duration": 416,
    "start_time": "2022-04-26T13:50:10.047Z"
   },
   {
    "duration": 8,
    "start_time": "2022-04-26T13:50:10.465Z"
   },
   {
    "duration": 433,
    "start_time": "2022-04-26T13:50:10.475Z"
   },
   {
    "duration": 449,
    "start_time": "2022-04-26T13:50:10.911Z"
   },
   {
    "duration": 466,
    "start_time": "2022-04-26T13:50:11.363Z"
   },
   {
    "duration": 377,
    "start_time": "2022-04-26T13:50:11.832Z"
   },
   {
    "duration": 287,
    "start_time": "2022-04-26T13:50:12.212Z"
   },
   {
    "duration": 291,
    "start_time": "2022-04-26T13:50:12.502Z"
   },
   {
    "duration": 311,
    "start_time": "2022-04-26T13:50:12.795Z"
   },
   {
    "duration": 564,
    "start_time": "2022-04-26T13:50:13.109Z"
   },
   {
    "duration": 682,
    "start_time": "2022-04-26T13:50:13.676Z"
   },
   {
    "duration": 550,
    "start_time": "2022-04-26T13:50:14.361Z"
   },
   {
    "duration": 22,
    "start_time": "2022-04-26T13:50:14.913Z"
   },
   {
    "duration": 10,
    "start_time": "2022-04-26T13:50:14.937Z"
   },
   {
    "duration": 54,
    "start_time": "2022-04-26T13:50:14.953Z"
   },
   {
    "duration": 5,
    "start_time": "2022-04-26T13:50:15.009Z"
   },
   {
    "duration": 15,
    "start_time": "2022-04-26T13:50:15.017Z"
   },
   {
    "duration": 15,
    "start_time": "2022-04-26T13:50:15.034Z"
   },
   {
    "duration": 115,
    "start_time": "2022-04-26T13:50:15.052Z"
   },
   {
    "duration": 9,
    "start_time": "2022-04-26T13:50:15.169Z"
   },
   {
    "duration": 9,
    "start_time": "2022-04-26T13:50:15.193Z"
   },
   {
    "duration": 7,
    "start_time": "2022-04-26T13:50:15.206Z"
   },
   {
    "duration": 1587,
    "start_time": "2022-04-26T13:50:15.215Z"
   },
   {
    "duration": 502,
    "start_time": "2022-04-26T13:50:16.805Z"
   },
   {
    "duration": 5,
    "start_time": "2022-04-26T13:50:17.310Z"
   },
   {
    "duration": 3192,
    "start_time": "2022-04-26T13:50:17.317Z"
   },
   {
    "duration": 6,
    "start_time": "2022-04-26T13:50:20.512Z"
   },
   {
    "duration": 7,
    "start_time": "2022-04-26T13:50:20.521Z"
   },
   {
    "duration": 364,
    "start_time": "2022-04-26T13:50:20.531Z"
   },
   {
    "duration": 100,
    "start_time": "2022-04-26T13:50:20.898Z"
   },
   {
    "duration": 6,
    "start_time": "2022-04-26T13:50:21.002Z"
   },
   {
    "duration": 94306,
    "start_time": "2022-04-26T13:50:21.009Z"
   },
   {
    "duration": 5,
    "start_time": "2022-04-26T13:51:55.317Z"
   },
   {
    "duration": 3483,
    "start_time": "2022-04-26T13:51:55.324Z"
   },
   {
    "duration": 263,
    "start_time": "2022-04-26T13:51:58.810Z"
   },
   {
    "duration": 119,
    "start_time": "2022-04-26T13:51:59.076Z"
   },
   {
    "duration": 9,
    "start_time": "2022-04-26T13:51:59.197Z"
   },
   {
    "duration": 2100,
    "start_time": "2022-04-26T13:51:59.209Z"
   },
   {
    "duration": 501,
    "start_time": "2022-04-26T13:52:01.395Z"
   },
   {
    "duration": 4461,
    "start_time": "2022-04-26T13:52:01.899Z"
   },
   {
    "duration": 466,
    "start_time": "2022-04-26T13:52:06.363Z"
   },
   {
    "duration": 165,
    "start_time": "2022-04-26T13:52:06.832Z"
   },
   {
    "duration": 5,
    "start_time": "2022-04-26T13:52:06.999Z"
   },
   {
    "duration": 113250,
    "start_time": "2022-04-26T13:52:07.006Z"
   },
   {
    "duration": 0,
    "start_time": "2022-04-26T13:54:00.260Z"
   },
   {
    "duration": 0,
    "start_time": "2022-04-26T13:54:00.262Z"
   },
   {
    "duration": 0,
    "start_time": "2022-04-26T13:54:00.264Z"
   },
   {
    "duration": 0,
    "start_time": "2022-04-26T13:54:00.266Z"
   },
   {
    "duration": 0,
    "start_time": "2022-04-26T13:54:00.268Z"
   },
   {
    "duration": 7,
    "start_time": "2022-04-26T13:55:02.645Z"
   },
   {
    "duration": 919,
    "start_time": "2022-04-26T13:55:02.656Z"
   },
   {
    "duration": 63,
    "start_time": "2022-04-26T13:55:03.578Z"
   },
   {
    "duration": 100,
    "start_time": "2022-04-26T13:55:03.645Z"
   },
   {
    "duration": 55,
    "start_time": "2022-04-26T13:55:03.747Z"
   },
   {
    "duration": 20,
    "start_time": "2022-04-26T13:55:03.805Z"
   },
   {
    "duration": 393,
    "start_time": "2022-04-26T13:55:03.827Z"
   },
   {
    "duration": 16,
    "start_time": "2022-04-26T13:55:04.222Z"
   },
   {
    "duration": 12,
    "start_time": "2022-04-26T13:55:04.241Z"
   },
   {
    "duration": 37,
    "start_time": "2022-04-26T13:55:04.259Z"
   },
   {
    "duration": 151,
    "start_time": "2022-04-26T13:55:04.299Z"
   },
   {
    "duration": 52,
    "start_time": "2022-04-26T13:55:04.452Z"
   },
   {
    "duration": 30,
    "start_time": "2022-04-26T13:55:04.507Z"
   },
   {
    "duration": 498,
    "start_time": "2022-04-26T13:55:04.540Z"
   },
   {
    "duration": 11,
    "start_time": "2022-04-26T13:55:05.041Z"
   },
   {
    "duration": 558,
    "start_time": "2022-04-26T13:55:05.055Z"
   },
   {
    "duration": 454,
    "start_time": "2022-04-26T13:55:05.615Z"
   },
   {
    "duration": 452,
    "start_time": "2022-04-26T13:55:06.071Z"
   },
   {
    "duration": 377,
    "start_time": "2022-04-26T13:55:06.525Z"
   },
   {
    "duration": 388,
    "start_time": "2022-04-26T13:55:06.905Z"
   },
   {
    "duration": 416,
    "start_time": "2022-04-26T13:55:07.296Z"
   },
   {
    "duration": 312,
    "start_time": "2022-04-26T13:55:07.715Z"
   },
   {
    "duration": 558,
    "start_time": "2022-04-26T13:55:08.030Z"
   },
   {
    "duration": 566,
    "start_time": "2022-04-26T13:55:08.590Z"
   },
   {
    "duration": 963,
    "start_time": "2022-04-26T13:55:09.158Z"
   },
   {
    "duration": 21,
    "start_time": "2022-04-26T13:55:10.123Z"
   },
   {
    "duration": 12,
    "start_time": "2022-04-26T13:55:10.147Z"
   },
   {
    "duration": 26,
    "start_time": "2022-04-26T13:55:10.193Z"
   },
   {
    "duration": 6,
    "start_time": "2022-04-26T13:55:10.222Z"
   },
   {
    "duration": 6,
    "start_time": "2022-04-26T13:55:10.231Z"
   },
   {
    "duration": 19,
    "start_time": "2022-04-26T13:55:10.240Z"
   },
   {
    "duration": 132,
    "start_time": "2022-04-26T13:55:10.261Z"
   },
   {
    "duration": 9,
    "start_time": "2022-04-26T13:55:10.395Z"
   },
   {
    "duration": 11,
    "start_time": "2022-04-26T13:55:10.406Z"
   },
   {
    "duration": 8,
    "start_time": "2022-04-26T13:55:10.419Z"
   },
   {
    "duration": 2174,
    "start_time": "2022-04-26T13:55:10.430Z"
   },
   {
    "duration": 384,
    "start_time": "2022-04-26T13:55:12.609Z"
   },
   {
    "duration": 5,
    "start_time": "2022-04-26T13:55:12.996Z"
   },
   {
    "duration": 3106,
    "start_time": "2022-04-26T13:55:13.004Z"
   },
   {
    "duration": 5,
    "start_time": "2022-04-26T13:55:16.112Z"
   },
   {
    "duration": 467,
    "start_time": "2022-04-26T13:55:16.120Z"
   },
   {
    "duration": 63,
    "start_time": "2022-04-26T13:55:16.589Z"
   },
   {
    "duration": 5,
    "start_time": "2022-04-26T13:55:16.655Z"
   },
   {
    "duration": 95054,
    "start_time": "2022-04-26T13:55:16.663Z"
   },
   {
    "duration": 7,
    "start_time": "2022-04-26T13:56:51.720Z"
   },
   {
    "duration": 3396,
    "start_time": "2022-04-26T13:56:51.730Z"
   },
   {
    "duration": 265,
    "start_time": "2022-04-26T13:56:55.129Z"
   },
   {
    "duration": 121,
    "start_time": "2022-04-26T13:56:55.397Z"
   },
   {
    "duration": 10,
    "start_time": "2022-04-26T13:56:55.520Z"
   },
   {
    "duration": 1671,
    "start_time": "2022-04-26T13:56:55.532Z"
   },
   {
    "duration": 393,
    "start_time": "2022-04-26T13:56:57.207Z"
   },
   {
    "duration": 3100,
    "start_time": "2022-04-26T13:56:57.603Z"
   },
   {
    "duration": 436,
    "start_time": "2022-04-26T13:57:00.706Z"
   },
   {
    "duration": 118,
    "start_time": "2022-04-26T13:57:01.145Z"
   },
   {
    "duration": 5,
    "start_time": "2022-04-26T13:57:01.266Z"
   },
   {
    "duration": 139747,
    "start_time": "2022-04-26T13:57:01.273Z"
   },
   {
    "duration": 7,
    "start_time": "2022-04-26T13:59:21.023Z"
   },
   {
    "duration": 4596,
    "start_time": "2022-04-26T13:59:21.032Z"
   },
   {
    "duration": 1151,
    "start_time": "2022-04-26T13:59:25.631Z"
   },
   {
    "duration": 4,
    "start_time": "2022-04-26T13:59:26.792Z"
   },
   {
    "duration": 8,
    "start_time": "2022-04-26T13:59:26.799Z"
   },
   {
    "duration": 51,
    "start_time": "2022-04-26T13:59:58.563Z"
   },
   {
    "duration": 295,
    "start_time": "2022-04-26T14:00:06.483Z"
   },
   {
    "duration": 5,
    "start_time": "2022-04-26T14:00:48.036Z"
   },
   {
    "duration": 6,
    "start_time": "2022-04-26T14:00:59.908Z"
   },
   {
    "duration": 215,
    "start_time": "2022-04-26T14:01:30.109Z"
   },
   {
    "duration": 51,
    "start_time": "2022-04-26T14:01:32.571Z"
   },
   {
    "duration": 5794,
    "start_time": "2022-04-26T14:02:08.026Z"
   },
   {
    "duration": 215,
    "start_time": "2022-04-26T14:02:18.307Z"
   },
   {
    "duration": 46,
    "start_time": "2022-04-26T14:02:21.555Z"
   },
   {
    "duration": 61,
    "start_time": "2022-04-26T14:02:24.179Z"
   },
   {
    "duration": 6719,
    "start_time": "2022-04-26T14:02:56.979Z"
   },
   {
    "duration": 1163,
    "start_time": "2022-04-26T14:03:33.115Z"
   },
   {
    "duration": 4,
    "start_time": "2022-04-26T14:04:13.569Z"
   },
   {
    "duration": 6,
    "start_time": "2022-04-26T14:04:13.921Z"
   },
   {
    "duration": 224,
    "start_time": "2022-04-26T14:04:42.921Z"
   },
   {
    "duration": 123,
    "start_time": "2022-04-26T14:14:36.598Z"
   },
   {
    "duration": 151,
    "start_time": "2022-04-26T14:14:47.832Z"
   },
   {
    "duration": 132,
    "start_time": "2022-04-26T14:14:54.149Z"
   },
   {
    "duration": 108,
    "start_time": "2022-04-26T14:15:16.269Z"
   },
   {
    "duration": 117,
    "start_time": "2022-04-26T14:15:27.598Z"
   },
   {
    "duration": 100,
    "start_time": "2022-04-26T14:15:30.254Z"
   },
   {
    "duration": 211,
    "start_time": "2022-04-26T14:15:34.437Z"
   },
   {
    "duration": 42,
    "start_time": "2022-04-26T14:15:36.413Z"
   },
   {
    "duration": 88,
    "start_time": "2022-04-26T14:15:51.854Z"
   },
   {
    "duration": 3387,
    "start_time": "2022-04-26T14:16:00.094Z"
   },
   {
    "duration": 11,
    "start_time": "2022-04-26T14:16:16.085Z"
   },
   {
    "duration": 18,
    "start_time": "2022-04-26T14:16:18.909Z"
   },
   {
    "duration": 642,
    "start_time": "2022-04-26T14:16:41.254Z"
   },
   {
    "duration": 7,
    "start_time": "2022-04-26T14:17:50.668Z"
   },
   {
    "duration": 5,
    "start_time": "2022-04-26T14:18:02.892Z"
   },
   {
    "duration": 4,
    "start_time": "2022-04-26T14:18:03.476Z"
   },
   {
    "duration": 447,
    "start_time": "2022-04-26T14:18:04.157Z"
   },
   {
    "duration": 5,
    "start_time": "2022-04-26T14:18:44.411Z"
   },
   {
    "duration": 3078,
    "start_time": "2022-04-26T14:18:44.804Z"
   },
   {
    "duration": 211,
    "start_time": "2022-04-26T14:21:05.610Z"
   },
   {
    "duration": 88,
    "start_time": "2022-04-26T14:24:25.506Z"
   },
   {
    "duration": 12,
    "start_time": "2022-04-26T14:24:26.249Z"
   },
   {
    "duration": 5,
    "start_time": "2022-04-26T14:24:26.929Z"
   },
   {
    "duration": 4,
    "start_time": "2022-04-26T14:24:27.449Z"
   },
   {
    "duration": 4132,
    "start_time": "2022-04-26T14:24:27.876Z"
   },
   {
    "duration": 11,
    "start_time": "2022-04-26T14:25:15.458Z"
   },
   {
    "duration": 4,
    "start_time": "2022-04-26T14:25:16.139Z"
   },
   {
    "duration": 4,
    "start_time": "2022-04-26T14:25:16.585Z"
   },
   {
    "duration": 3446,
    "start_time": "2022-04-26T14:25:17.104Z"
   },
   {
    "duration": 3488,
    "start_time": "2022-04-26T14:25:30.114Z"
   },
   {
    "duration": 0,
    "start_time": "2022-04-26T14:25:33.604Z"
   },
   {
    "duration": 0,
    "start_time": "2022-04-26T14:25:33.606Z"
   },
   {
    "duration": 0,
    "start_time": "2022-04-26T14:25:33.607Z"
   },
   {
    "duration": 27,
    "start_time": "2022-04-26T14:26:03.757Z"
   },
   {
    "duration": 5,
    "start_time": "2022-04-26T14:26:04.688Z"
   },
   {
    "duration": 5,
    "start_time": "2022-04-26T14:26:05.272Z"
   },
   {
    "duration": 2772,
    "start_time": "2022-04-26T14:26:05.729Z"
   },
   {
    "duration": 15,
    "start_time": "2022-04-26T14:26:47.177Z"
   },
   {
    "duration": 5,
    "start_time": "2022-04-26T14:26:47.832Z"
   },
   {
    "duration": 4,
    "start_time": "2022-04-26T14:26:48.216Z"
   },
   {
    "duration": 3638,
    "start_time": "2022-04-26T14:26:49.096Z"
   },
   {
    "duration": 13,
    "start_time": "2022-04-26T14:26:59.631Z"
   },
   {
    "duration": 83,
    "start_time": "2022-04-26T14:27:29.184Z"
   },
   {
    "duration": 20,
    "start_time": "2022-04-26T14:27:30.384Z"
   },
   {
    "duration": 89,
    "start_time": "2022-04-26T14:27:41.320Z"
   },
   {
    "duration": 19,
    "start_time": "2022-04-26T14:27:42.064Z"
   },
   {
    "duration": 5,
    "start_time": "2022-04-26T14:27:46.119Z"
   },
   {
    "duration": 5,
    "start_time": "2022-04-26T14:27:46.607Z"
   },
   {
    "duration": 3510,
    "start_time": "2022-04-26T14:27:47.056Z"
   },
   {
    "duration": 20,
    "start_time": "2022-04-26T14:27:50.569Z"
   },
   {
    "duration": 84,
    "start_time": "2022-04-26T14:28:38.472Z"
   },
   {
    "duration": 19,
    "start_time": "2022-04-26T14:28:40.056Z"
   },
   {
    "duration": 39,
    "start_time": "2022-04-26T14:28:55.143Z"
   },
   {
    "duration": 20,
    "start_time": "2022-04-26T14:29:02.536Z"
   },
   {
    "duration": 28,
    "start_time": "2022-04-26T14:29:58.551Z"
   },
   {
    "duration": 28,
    "start_time": "2022-04-26T14:30:14.631Z"
   },
   {
    "duration": 5,
    "start_time": "2022-04-26T14:30:46.031Z"
   },
   {
    "duration": 4,
    "start_time": "2022-04-26T14:30:46.414Z"
   },
   {
    "duration": 3191,
    "start_time": "2022-04-26T14:30:46.807Z"
   },
   {
    "duration": 31,
    "start_time": "2022-04-26T14:30:52.776Z"
   },
   {
    "duration": 89,
    "start_time": "2022-04-26T14:31:03.448Z"
   },
   {
    "duration": 20,
    "start_time": "2022-04-26T14:31:05.943Z"
   },
   {
    "duration": 40,
    "start_time": "2022-04-26T14:31:24.103Z"
   },
   {
    "duration": 20,
    "start_time": "2022-04-26T14:31:31.823Z"
   },
   {
    "duration": 18,
    "start_time": "2022-04-26T14:31:46.255Z"
   },
   {
    "duration": 16,
    "start_time": "2022-04-26T14:32:12.695Z"
   },
   {
    "duration": 5,
    "start_time": "2022-04-26T14:34:31.311Z"
   },
   {
    "duration": 8,
    "start_time": "2022-04-26T14:34:36.279Z"
   },
   {
    "duration": 10,
    "start_time": "2022-04-26T14:35:37.502Z"
   },
   {
    "duration": 83,
    "start_time": "2022-04-26T14:35:45.742Z"
   },
   {
    "duration": 80,
    "start_time": "2022-04-26T14:38:14.292Z"
   },
   {
    "duration": 3141,
    "start_time": "2022-04-27T08:36:12.234Z"
   },
   {
    "duration": 1183,
    "start_time": "2022-04-27T08:36:15.379Z"
   },
   {
    "duration": 59,
    "start_time": "2022-04-27T08:36:16.564Z"
   },
   {
    "duration": 96,
    "start_time": "2022-04-27T08:36:16.627Z"
   },
   {
    "duration": 33,
    "start_time": "2022-04-27T08:36:16.725Z"
   },
   {
    "duration": 6,
    "start_time": "2022-04-27T08:36:16.760Z"
   },
   {
    "duration": 508,
    "start_time": "2022-04-27T08:36:16.794Z"
   },
   {
    "duration": 14,
    "start_time": "2022-04-27T08:36:17.305Z"
   },
   {
    "duration": 37,
    "start_time": "2022-04-27T08:36:17.321Z"
   },
   {
    "duration": 12,
    "start_time": "2022-04-27T08:36:17.365Z"
   },
   {
    "duration": 90,
    "start_time": "2022-04-27T08:36:17.380Z"
   },
   {
    "duration": 56,
    "start_time": "2022-04-27T08:36:17.472Z"
   },
   {
    "duration": 24,
    "start_time": "2022-04-27T08:36:17.531Z"
   },
   {
    "duration": 476,
    "start_time": "2022-04-27T08:36:17.558Z"
   },
   {
    "duration": 11,
    "start_time": "2022-04-27T08:36:18.038Z"
   },
   {
    "duration": 687,
    "start_time": "2022-04-27T08:36:18.051Z"
   },
   {
    "duration": 486,
    "start_time": "2022-04-27T08:36:18.741Z"
   },
   {
    "duration": 579,
    "start_time": "2022-04-27T08:36:19.231Z"
   },
   {
    "duration": 392,
    "start_time": "2022-04-27T08:36:19.812Z"
   },
   {
    "duration": 300,
    "start_time": "2022-04-27T08:36:20.208Z"
   },
   {
    "duration": 295,
    "start_time": "2022-04-27T08:36:20.511Z"
   },
   {
    "duration": 388,
    "start_time": "2022-04-27T08:36:20.809Z"
   },
   {
    "duration": 553,
    "start_time": "2022-04-27T08:36:21.199Z"
   },
   {
    "duration": 568,
    "start_time": "2022-04-27T08:36:21.754Z"
   },
   {
    "duration": 645,
    "start_time": "2022-04-27T08:36:22.324Z"
   },
   {
    "duration": 39,
    "start_time": "2022-04-27T08:36:22.972Z"
   },
   {
    "duration": 10,
    "start_time": "2022-04-27T08:36:23.013Z"
   },
   {
    "duration": 27,
    "start_time": "2022-04-27T08:36:23.029Z"
   },
   {
    "duration": 5,
    "start_time": "2022-04-27T08:36:23.058Z"
   },
   {
    "duration": 32,
    "start_time": "2022-04-27T08:36:23.065Z"
   },
   {
    "duration": 22,
    "start_time": "2022-04-27T08:36:23.099Z"
   },
   {
    "duration": 83,
    "start_time": "2022-04-27T08:36:23.123Z"
   },
   {
    "duration": 9,
    "start_time": "2022-04-27T08:36:23.208Z"
   },
   {
    "duration": 8,
    "start_time": "2022-04-27T08:36:23.219Z"
   },
   {
    "duration": 6,
    "start_time": "2022-04-27T08:36:23.230Z"
   },
   {
    "duration": 2459,
    "start_time": "2022-04-27T08:36:23.238Z"
   },
   {
    "duration": 408,
    "start_time": "2022-04-27T08:36:25.700Z"
   },
   {
    "duration": 86,
    "start_time": "2022-04-27T08:36:26.110Z"
   },
   {
    "duration": 3135,
    "start_time": "2022-04-27T08:36:26.204Z"
   },
   {
    "duration": 5,
    "start_time": "2022-04-27T08:36:29.341Z"
   },
   {
    "duration": 267,
    "start_time": "2022-04-27T08:36:29.348Z"
   },
   {
    "duration": 58,
    "start_time": "2022-04-27T08:36:29.617Z"
   },
   {
    "duration": 27,
    "start_time": "2022-04-27T08:36:29.678Z"
   },
   {
    "duration": 102795,
    "start_time": "2022-04-27T08:36:29.709Z"
   },
   {
    "duration": 7,
    "start_time": "2022-04-27T08:38:12.507Z"
   },
   {
    "duration": 3719,
    "start_time": "2022-04-27T08:38:12.519Z"
   },
   {
    "duration": 272,
    "start_time": "2022-04-27T08:38:16.241Z"
   },
   {
    "duration": 105,
    "start_time": "2022-04-27T08:38:16.515Z"
   },
   {
    "duration": 8,
    "start_time": "2022-04-27T08:38:16.622Z"
   },
   {
    "duration": 4586,
    "start_time": "2022-04-27T08:38:16.632Z"
   },
   {
    "duration": 315,
    "start_time": "2022-04-27T08:38:21.221Z"
   },
   {
    "duration": 6763,
    "start_time": "2022-04-27T08:38:21.594Z"
   },
   {
    "duration": 215,
    "start_time": "2022-04-27T08:38:28.360Z"
   },
   {
    "duration": 59,
    "start_time": "2022-04-27T08:38:28.577Z"
   },
   {
    "duration": 5,
    "start_time": "2022-04-27T08:38:28.638Z"
   },
   {
    "duration": 85,
    "start_time": "2022-04-27T08:38:28.646Z"
   },
   {
    "duration": 4,
    "start_time": "2022-04-27T08:38:28.734Z"
   },
   {
    "duration": 113909,
    "start_time": "2022-04-27T08:38:28.740Z"
   },
   {
    "duration": 6,
    "start_time": "2022-04-27T08:40:22.652Z"
   },
   {
    "duration": 5208,
    "start_time": "2022-04-27T08:40:22.660Z"
   },
   {
    "duration": 1524,
    "start_time": "2022-04-27T08:40:27.870Z"
   },
   {
    "duration": 5,
    "start_time": "2022-04-27T08:40:29.406Z"
   },
   {
    "duration": 20,
    "start_time": "2022-04-27T08:40:29.414Z"
   },
   {
    "duration": 9,
    "start_time": "2022-04-27T08:41:40.212Z"
   },
   {
    "duration": 7,
    "start_time": "2022-04-27T08:44:02.352Z"
   },
   {
    "duration": 9,
    "start_time": "2022-04-27T08:44:26.922Z"
   },
   {
    "duration": 51,
    "start_time": "2022-04-27T08:45:01.524Z"
   }
  ],
  "kernelspec": {
   "display_name": "Python 3 (ipykernel)",
   "language": "python",
   "name": "python3"
  },
  "language_info": {
   "codemirror_mode": {
    "name": "ipython",
    "version": 3
   },
   "file_extension": ".py",
   "mimetype": "text/x-python",
   "name": "python",
   "nbconvert_exporter": "python",
   "pygments_lexer": "ipython3",
   "version": "3.9.1"
  },
  "toc": {
   "base_numbering": 1,
   "nav_menu": {},
   "number_sections": true,
   "sideBar": true,
   "skip_h1_title": true,
   "title_cell": "Содержание",
   "title_sidebar": "Contents",
   "toc_cell": true,
   "toc_position": {
    "height": "calc(100% - 180px)",
    "left": "10px",
    "top": "150px",
    "width": "226.771px"
   },
   "toc_section_display": true,
   "toc_window_display": true
  }
 },
 "nbformat": 4,
 "nbformat_minor": 2
}
