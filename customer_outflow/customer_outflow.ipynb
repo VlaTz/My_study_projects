{
 "cells": [
  {
   "cell_type": "markdown",
   "metadata": {
    "toc": true
   },
   "source": [
    "<h1>Содержание<span class=\"tocSkip\"></span></h1>\n",
    "<div class=\"toc\"><ul class=\"toc-item\"><li><span><a href=\"#Подготовка-данных\" data-toc-modified-id=\"Подготовка-данных-1\"><span class=\"toc-item-num\">1&nbsp;&nbsp;</span>Подготовка данных</a></span></li><li><span><a href=\"#Исследование-задачи\" data-toc-modified-id=\"Исследование-задачи-2\"><span class=\"toc-item-num\">2&nbsp;&nbsp;</span>Исследование задачи</a></span></li><li><span><a href=\"#Борьба-с-дисбалансом\" data-toc-modified-id=\"Борьба-с-дисбалансом-3\"><span class=\"toc-item-num\">3&nbsp;&nbsp;</span>Борьба с дисбалансом</a></span><ul class=\"toc-item\"><li><span><a href=\"#Увеличение-выборки\" data-toc-modified-id=\"Увеличение-выборки-3.1\"><span class=\"toc-item-num\">3.1&nbsp;&nbsp;</span>Увеличение выборки</a></span></li><li><span><a href=\"#Уменьшение-выборки\" data-toc-modified-id=\"Уменьшение-выборки-3.2\"><span class=\"toc-item-num\">3.2&nbsp;&nbsp;</span>Уменьшение выборки</a></span></li><li><span><a href=\"#Взвешивание-классов\" data-toc-modified-id=\"Взвешивание-классов-3.3\"><span class=\"toc-item-num\">3.3&nbsp;&nbsp;</span>Взвешивание классов</a></span></li></ul></li><li><span><a href=\"#Тестирование-модели\" data-toc-modified-id=\"Тестирование-модели-4\"><span class=\"toc-item-num\">4&nbsp;&nbsp;</span>Тестирование модели</a></span></li><li><span><a href=\"#Чек-лист-готовности-проекта\" data-toc-modified-id=\"Чек-лист-готовности-проекта-5\"><span class=\"toc-item-num\">5&nbsp;&nbsp;</span>Чек-лист готовности проекта</a></span></li></ul></div>"
   ]
  },
  {
   "cell_type": "markdown",
   "metadata": {},
   "source": [
    "## Подготовка данных"
   ]
  },
  {
   "cell_type": "code",
   "execution_count": 1,
   "metadata": {},
   "outputs": [],
   "source": [
    "import pandas as pd\n",
    "import numpy as np\n",
    "from sklearn.preprocessing import StandardScaler, OrdinalEncoder, OneHotEncoder\n",
    "from sklearn.model_selection import train_test_split\n",
    "from sklearn.tree import DecisionTreeClassifier\n",
    "from sklearn.ensemble import RandomForestClassifier\n",
    "from sklearn.linear_model import LogisticRegression\n",
    "from sklearn.metrics import f1_score, roc_curve, roc_auc_score\n",
    "from sklearn.utils import shuffle\n",
    "from numpy import array "
   ]
  },
  {
   "cell_type": "code",
   "execution_count": 2,
   "metadata": {},
   "outputs": [
    {
     "data": {
      "text/html": [
       "<div>\n",
       "<style scoped>\n",
       "    .dataframe tbody tr th:only-of-type {\n",
       "        vertical-align: middle;\n",
       "    }\n",
       "\n",
       "    .dataframe tbody tr th {\n",
       "        vertical-align: top;\n",
       "    }\n",
       "\n",
       "    .dataframe thead th {\n",
       "        text-align: right;\n",
       "    }\n",
       "</style>\n",
       "<table border=\"1\" class=\"dataframe\">\n",
       "  <thead>\n",
       "    <tr style=\"text-align: right;\">\n",
       "      <th></th>\n",
       "      <th>RowNumber</th>\n",
       "      <th>CustomerId</th>\n",
       "      <th>Surname</th>\n",
       "      <th>CreditScore</th>\n",
       "      <th>Geography</th>\n",
       "      <th>Gender</th>\n",
       "      <th>Age</th>\n",
       "      <th>Tenure</th>\n",
       "      <th>Balance</th>\n",
       "      <th>NumOfProducts</th>\n",
       "      <th>HasCrCard</th>\n",
       "      <th>IsActiveMember</th>\n",
       "      <th>EstimatedSalary</th>\n",
       "      <th>Exited</th>\n",
       "    </tr>\n",
       "  </thead>\n",
       "  <tbody>\n",
       "    <tr>\n",
       "      <th>0</th>\n",
       "      <td>1</td>\n",
       "      <td>15634602</td>\n",
       "      <td>Hargrave</td>\n",
       "      <td>619</td>\n",
       "      <td>France</td>\n",
       "      <td>Female</td>\n",
       "      <td>42</td>\n",
       "      <td>2.0</td>\n",
       "      <td>0.00</td>\n",
       "      <td>1</td>\n",
       "      <td>1</td>\n",
       "      <td>1</td>\n",
       "      <td>101348.88</td>\n",
       "      <td>1</td>\n",
       "    </tr>\n",
       "    <tr>\n",
       "      <th>1</th>\n",
       "      <td>2</td>\n",
       "      <td>15647311</td>\n",
       "      <td>Hill</td>\n",
       "      <td>608</td>\n",
       "      <td>Spain</td>\n",
       "      <td>Female</td>\n",
       "      <td>41</td>\n",
       "      <td>1.0</td>\n",
       "      <td>83807.86</td>\n",
       "      <td>1</td>\n",
       "      <td>0</td>\n",
       "      <td>1</td>\n",
       "      <td>112542.58</td>\n",
       "      <td>0</td>\n",
       "    </tr>\n",
       "    <tr>\n",
       "      <th>2</th>\n",
       "      <td>3</td>\n",
       "      <td>15619304</td>\n",
       "      <td>Onio</td>\n",
       "      <td>502</td>\n",
       "      <td>France</td>\n",
       "      <td>Female</td>\n",
       "      <td>42</td>\n",
       "      <td>8.0</td>\n",
       "      <td>159660.80</td>\n",
       "      <td>3</td>\n",
       "      <td>1</td>\n",
       "      <td>0</td>\n",
       "      <td>113931.57</td>\n",
       "      <td>1</td>\n",
       "    </tr>\n",
       "    <tr>\n",
       "      <th>3</th>\n",
       "      <td>4</td>\n",
       "      <td>15701354</td>\n",
       "      <td>Boni</td>\n",
       "      <td>699</td>\n",
       "      <td>France</td>\n",
       "      <td>Female</td>\n",
       "      <td>39</td>\n",
       "      <td>1.0</td>\n",
       "      <td>0.00</td>\n",
       "      <td>2</td>\n",
       "      <td>0</td>\n",
       "      <td>0</td>\n",
       "      <td>93826.63</td>\n",
       "      <td>0</td>\n",
       "    </tr>\n",
       "    <tr>\n",
       "      <th>4</th>\n",
       "      <td>5</td>\n",
       "      <td>15737888</td>\n",
       "      <td>Mitchell</td>\n",
       "      <td>850</td>\n",
       "      <td>Spain</td>\n",
       "      <td>Female</td>\n",
       "      <td>43</td>\n",
       "      <td>2.0</td>\n",
       "      <td>125510.82</td>\n",
       "      <td>1</td>\n",
       "      <td>1</td>\n",
       "      <td>1</td>\n",
       "      <td>79084.10</td>\n",
       "      <td>0</td>\n",
       "    </tr>\n",
       "  </tbody>\n",
       "</table>\n",
       "</div>"
      ],
      "text/plain": [
       "   RowNumber  CustomerId   Surname  CreditScore Geography  Gender  Age  \\\n",
       "0          1    15634602  Hargrave          619    France  Female   42   \n",
       "1          2    15647311      Hill          608     Spain  Female   41   \n",
       "2          3    15619304      Onio          502    France  Female   42   \n",
       "3          4    15701354      Boni          699    France  Female   39   \n",
       "4          5    15737888  Mitchell          850     Spain  Female   43   \n",
       "\n",
       "   Tenure    Balance  NumOfProducts  HasCrCard  IsActiveMember  \\\n",
       "0     2.0       0.00              1          1               1   \n",
       "1     1.0   83807.86              1          0               1   \n",
       "2     8.0  159660.80              3          1               0   \n",
       "3     1.0       0.00              2          0               0   \n",
       "4     2.0  125510.82              1          1               1   \n",
       "\n",
       "   EstimatedSalary  Exited  \n",
       "0        101348.88       1  \n",
       "1        112542.58       0  \n",
       "2        113931.57       1  \n",
       "3         93826.63       0  \n",
       "4         79084.10       0  "
      ]
     },
     "metadata": {},
     "output_type": "display_data"
    },
    {
     "name": "stdout",
     "output_type": "stream",
     "text": [
      "<class 'pandas.core.frame.DataFrame'>\n",
      "RangeIndex: 10000 entries, 0 to 9999\n",
      "Data columns (total 14 columns):\n",
      " #   Column           Non-Null Count  Dtype  \n",
      "---  ------           --------------  -----  \n",
      " 0   RowNumber        10000 non-null  int64  \n",
      " 1   CustomerId       10000 non-null  int64  \n",
      " 2   Surname          10000 non-null  object \n",
      " 3   CreditScore      10000 non-null  int64  \n",
      " 4   Geography        10000 non-null  object \n",
      " 5   Gender           10000 non-null  object \n",
      " 6   Age              10000 non-null  int64  \n",
      " 7   Tenure           9091 non-null   float64\n",
      " 8   Balance          10000 non-null  float64\n",
      " 9   NumOfProducts    10000 non-null  int64  \n",
      " 10  HasCrCard        10000 non-null  int64  \n",
      " 11  IsActiveMember   10000 non-null  int64  \n",
      " 12  EstimatedSalary  10000 non-null  float64\n",
      " 13  Exited           10000 non-null  int64  \n",
      "dtypes: float64(3), int64(8), object(3)\n",
      "memory usage: 1.1+ MB\n"
     ]
    },
    {
     "data": {
      "text/plain": [
       "None"
      ]
     },
     "metadata": {},
     "output_type": "display_data"
    },
    {
     "data": {
      "text/html": [
       "<div>\n",
       "<style scoped>\n",
       "    .dataframe tbody tr th:only-of-type {\n",
       "        vertical-align: middle;\n",
       "    }\n",
       "\n",
       "    .dataframe tbody tr th {\n",
       "        vertical-align: top;\n",
       "    }\n",
       "\n",
       "    .dataframe thead th {\n",
       "        text-align: right;\n",
       "    }\n",
       "</style>\n",
       "<table border=\"1\" class=\"dataframe\">\n",
       "  <thead>\n",
       "    <tr style=\"text-align: right;\">\n",
       "      <th></th>\n",
       "      <th>RowNumber</th>\n",
       "      <th>CustomerId</th>\n",
       "      <th>CreditScore</th>\n",
       "      <th>Age</th>\n",
       "      <th>Tenure</th>\n",
       "      <th>Balance</th>\n",
       "      <th>NumOfProducts</th>\n",
       "      <th>HasCrCard</th>\n",
       "      <th>IsActiveMember</th>\n",
       "      <th>EstimatedSalary</th>\n",
       "      <th>Exited</th>\n",
       "    </tr>\n",
       "  </thead>\n",
       "  <tbody>\n",
       "    <tr>\n",
       "      <th>count</th>\n",
       "      <td>10000.00000</td>\n",
       "      <td>1.000000e+04</td>\n",
       "      <td>10000.000000</td>\n",
       "      <td>10000.000000</td>\n",
       "      <td>9091.000000</td>\n",
       "      <td>10000.000000</td>\n",
       "      <td>10000.000000</td>\n",
       "      <td>10000.00000</td>\n",
       "      <td>10000.000000</td>\n",
       "      <td>10000.000000</td>\n",
       "      <td>10000.000000</td>\n",
       "    </tr>\n",
       "    <tr>\n",
       "      <th>mean</th>\n",
       "      <td>5000.50000</td>\n",
       "      <td>1.569094e+07</td>\n",
       "      <td>650.528800</td>\n",
       "      <td>38.921800</td>\n",
       "      <td>4.997690</td>\n",
       "      <td>76485.889288</td>\n",
       "      <td>1.530200</td>\n",
       "      <td>0.70550</td>\n",
       "      <td>0.515100</td>\n",
       "      <td>100090.239881</td>\n",
       "      <td>0.203700</td>\n",
       "    </tr>\n",
       "    <tr>\n",
       "      <th>std</th>\n",
       "      <td>2886.89568</td>\n",
       "      <td>7.193619e+04</td>\n",
       "      <td>96.653299</td>\n",
       "      <td>10.487806</td>\n",
       "      <td>2.894723</td>\n",
       "      <td>62397.405202</td>\n",
       "      <td>0.581654</td>\n",
       "      <td>0.45584</td>\n",
       "      <td>0.499797</td>\n",
       "      <td>57510.492818</td>\n",
       "      <td>0.402769</td>\n",
       "    </tr>\n",
       "    <tr>\n",
       "      <th>min</th>\n",
       "      <td>1.00000</td>\n",
       "      <td>1.556570e+07</td>\n",
       "      <td>350.000000</td>\n",
       "      <td>18.000000</td>\n",
       "      <td>0.000000</td>\n",
       "      <td>0.000000</td>\n",
       "      <td>1.000000</td>\n",
       "      <td>0.00000</td>\n",
       "      <td>0.000000</td>\n",
       "      <td>11.580000</td>\n",
       "      <td>0.000000</td>\n",
       "    </tr>\n",
       "    <tr>\n",
       "      <th>25%</th>\n",
       "      <td>2500.75000</td>\n",
       "      <td>1.562853e+07</td>\n",
       "      <td>584.000000</td>\n",
       "      <td>32.000000</td>\n",
       "      <td>2.000000</td>\n",
       "      <td>0.000000</td>\n",
       "      <td>1.000000</td>\n",
       "      <td>0.00000</td>\n",
       "      <td>0.000000</td>\n",
       "      <td>51002.110000</td>\n",
       "      <td>0.000000</td>\n",
       "    </tr>\n",
       "    <tr>\n",
       "      <th>50%</th>\n",
       "      <td>5000.50000</td>\n",
       "      <td>1.569074e+07</td>\n",
       "      <td>652.000000</td>\n",
       "      <td>37.000000</td>\n",
       "      <td>5.000000</td>\n",
       "      <td>97198.540000</td>\n",
       "      <td>1.000000</td>\n",
       "      <td>1.00000</td>\n",
       "      <td>1.000000</td>\n",
       "      <td>100193.915000</td>\n",
       "      <td>0.000000</td>\n",
       "    </tr>\n",
       "    <tr>\n",
       "      <th>75%</th>\n",
       "      <td>7500.25000</td>\n",
       "      <td>1.575323e+07</td>\n",
       "      <td>718.000000</td>\n",
       "      <td>44.000000</td>\n",
       "      <td>7.000000</td>\n",
       "      <td>127644.240000</td>\n",
       "      <td>2.000000</td>\n",
       "      <td>1.00000</td>\n",
       "      <td>1.000000</td>\n",
       "      <td>149388.247500</td>\n",
       "      <td>0.000000</td>\n",
       "    </tr>\n",
       "    <tr>\n",
       "      <th>max</th>\n",
       "      <td>10000.00000</td>\n",
       "      <td>1.581569e+07</td>\n",
       "      <td>850.000000</td>\n",
       "      <td>92.000000</td>\n",
       "      <td>10.000000</td>\n",
       "      <td>250898.090000</td>\n",
       "      <td>4.000000</td>\n",
       "      <td>1.00000</td>\n",
       "      <td>1.000000</td>\n",
       "      <td>199992.480000</td>\n",
       "      <td>1.000000</td>\n",
       "    </tr>\n",
       "  </tbody>\n",
       "</table>\n",
       "</div>"
      ],
      "text/plain": [
       "         RowNumber    CustomerId   CreditScore           Age       Tenure  \\\n",
       "count  10000.00000  1.000000e+04  10000.000000  10000.000000  9091.000000   \n",
       "mean    5000.50000  1.569094e+07    650.528800     38.921800     4.997690   \n",
       "std     2886.89568  7.193619e+04     96.653299     10.487806     2.894723   \n",
       "min        1.00000  1.556570e+07    350.000000     18.000000     0.000000   \n",
       "25%     2500.75000  1.562853e+07    584.000000     32.000000     2.000000   \n",
       "50%     5000.50000  1.569074e+07    652.000000     37.000000     5.000000   \n",
       "75%     7500.25000  1.575323e+07    718.000000     44.000000     7.000000   \n",
       "max    10000.00000  1.581569e+07    850.000000     92.000000    10.000000   \n",
       "\n",
       "             Balance  NumOfProducts    HasCrCard  IsActiveMember  \\\n",
       "count   10000.000000   10000.000000  10000.00000    10000.000000   \n",
       "mean    76485.889288       1.530200      0.70550        0.515100   \n",
       "std     62397.405202       0.581654      0.45584        0.499797   \n",
       "min         0.000000       1.000000      0.00000        0.000000   \n",
       "25%         0.000000       1.000000      0.00000        0.000000   \n",
       "50%     97198.540000       1.000000      1.00000        1.000000   \n",
       "75%    127644.240000       2.000000      1.00000        1.000000   \n",
       "max    250898.090000       4.000000      1.00000        1.000000   \n",
       "\n",
       "       EstimatedSalary        Exited  \n",
       "count     10000.000000  10000.000000  \n",
       "mean     100090.239881      0.203700  \n",
       "std       57510.492818      0.402769  \n",
       "min          11.580000      0.000000  \n",
       "25%       51002.110000      0.000000  \n",
       "50%      100193.915000      0.000000  \n",
       "75%      149388.247500      0.000000  \n",
       "max      199992.480000      1.000000  "
      ]
     },
     "metadata": {},
     "output_type": "display_data"
    }
   ],
   "source": [
    "data = pd.read_csv('/datasets/Churn.csv')\n",
    "display(data.head())\n",
    "display(data.info())\n",
    "display(data.describe())"
   ]
  },
  {
   "cell_type": "markdown",
   "metadata": {},
   "source": [
    "Видим, что в столбце Tenure(сколько лет человек является клиентом банка) есть 909 пропусков. Эти пропуски не заполнить ни средним, ни медианой. Удалим эти пропуски. Для работы нам будут не нужны три столбца - RowNumber, CustomerId, Surname т.к модель по ним обучиться не сможет. Удалим их"
   ]
  },
  {
   "cell_type": "code",
   "execution_count": 3,
   "metadata": {},
   "outputs": [],
   "source": [
    "data = data.dropna()\n",
    "data = data.drop(['RowNumber', 'CustomerId', 'Surname'], axis=1)"
   ]
  },
  {
   "cell_type": "code",
   "execution_count": 4,
   "metadata": {},
   "outputs": [
    {
     "data": {
      "text/plain": [
       "0"
      ]
     },
     "execution_count": 4,
     "metadata": {},
     "output_type": "execute_result"
    }
   ],
   "source": [
    "data.duplicated().sum()"
   ]
  },
  {
   "cell_type": "markdown",
   "metadata": {},
   "source": [
    "Дубликатов нет. Преобразуем категориальные признаки к числовым."
   ]
  },
  {
   "cell_type": "code",
   "execution_count": 5,
   "metadata": {},
   "outputs": [],
   "source": [
    "data = pd.get_dummies(data, drop_first=True)"
   ]
  },
  {
   "cell_type": "code",
   "execution_count": 7,
   "metadata": {},
   "outputs": [
    {
     "data": {
      "text/html": [
       "<div>\n",
       "<style scoped>\n",
       "    .dataframe tbody tr th:only-of-type {\n",
       "        vertical-align: middle;\n",
       "    }\n",
       "\n",
       "    .dataframe tbody tr th {\n",
       "        vertical-align: top;\n",
       "    }\n",
       "\n",
       "    .dataframe thead th {\n",
       "        text-align: right;\n",
       "    }\n",
       "</style>\n",
       "<table border=\"1\" class=\"dataframe\">\n",
       "  <thead>\n",
       "    <tr style=\"text-align: right;\">\n",
       "      <th></th>\n",
       "      <th>CreditScore</th>\n",
       "      <th>Age</th>\n",
       "      <th>Tenure</th>\n",
       "      <th>Balance</th>\n",
       "      <th>NumOfProducts</th>\n",
       "      <th>HasCrCard</th>\n",
       "      <th>IsActiveMember</th>\n",
       "      <th>EstimatedSalary</th>\n",
       "      <th>Exited</th>\n",
       "      <th>Geography_Germany</th>\n",
       "      <th>Geography_Spain</th>\n",
       "      <th>Gender_Male</th>\n",
       "    </tr>\n",
       "  </thead>\n",
       "  <tbody>\n",
       "    <tr>\n",
       "      <th>0</th>\n",
       "      <td>619</td>\n",
       "      <td>42</td>\n",
       "      <td>2.0</td>\n",
       "      <td>0.00</td>\n",
       "      <td>1</td>\n",
       "      <td>1</td>\n",
       "      <td>1</td>\n",
       "      <td>101348.88</td>\n",
       "      <td>1</td>\n",
       "      <td>0</td>\n",
       "      <td>0</td>\n",
       "      <td>0</td>\n",
       "    </tr>\n",
       "    <tr>\n",
       "      <th>1</th>\n",
       "      <td>608</td>\n",
       "      <td>41</td>\n",
       "      <td>1.0</td>\n",
       "      <td>83807.86</td>\n",
       "      <td>1</td>\n",
       "      <td>0</td>\n",
       "      <td>1</td>\n",
       "      <td>112542.58</td>\n",
       "      <td>0</td>\n",
       "      <td>0</td>\n",
       "      <td>1</td>\n",
       "      <td>0</td>\n",
       "    </tr>\n",
       "    <tr>\n",
       "      <th>2</th>\n",
       "      <td>502</td>\n",
       "      <td>42</td>\n",
       "      <td>8.0</td>\n",
       "      <td>159660.80</td>\n",
       "      <td>3</td>\n",
       "      <td>1</td>\n",
       "      <td>0</td>\n",
       "      <td>113931.57</td>\n",
       "      <td>1</td>\n",
       "      <td>0</td>\n",
       "      <td>0</td>\n",
       "      <td>0</td>\n",
       "    </tr>\n",
       "    <tr>\n",
       "      <th>3</th>\n",
       "      <td>699</td>\n",
       "      <td>39</td>\n",
       "      <td>1.0</td>\n",
       "      <td>0.00</td>\n",
       "      <td>2</td>\n",
       "      <td>0</td>\n",
       "      <td>0</td>\n",
       "      <td>93826.63</td>\n",
       "      <td>0</td>\n",
       "      <td>0</td>\n",
       "      <td>0</td>\n",
       "      <td>0</td>\n",
       "    </tr>\n",
       "    <tr>\n",
       "      <th>4</th>\n",
       "      <td>850</td>\n",
       "      <td>43</td>\n",
       "      <td>2.0</td>\n",
       "      <td>125510.82</td>\n",
       "      <td>1</td>\n",
       "      <td>1</td>\n",
       "      <td>1</td>\n",
       "      <td>79084.10</td>\n",
       "      <td>0</td>\n",
       "      <td>0</td>\n",
       "      <td>1</td>\n",
       "      <td>0</td>\n",
       "    </tr>\n",
       "    <tr>\n",
       "      <th>...</th>\n",
       "      <td>...</td>\n",
       "      <td>...</td>\n",
       "      <td>...</td>\n",
       "      <td>...</td>\n",
       "      <td>...</td>\n",
       "      <td>...</td>\n",
       "      <td>...</td>\n",
       "      <td>...</td>\n",
       "      <td>...</td>\n",
       "      <td>...</td>\n",
       "      <td>...</td>\n",
       "      <td>...</td>\n",
       "    </tr>\n",
       "    <tr>\n",
       "      <th>9994</th>\n",
       "      <td>800</td>\n",
       "      <td>29</td>\n",
       "      <td>2.0</td>\n",
       "      <td>0.00</td>\n",
       "      <td>2</td>\n",
       "      <td>0</td>\n",
       "      <td>0</td>\n",
       "      <td>167773.55</td>\n",
       "      <td>0</td>\n",
       "      <td>0</td>\n",
       "      <td>0</td>\n",
       "      <td>0</td>\n",
       "    </tr>\n",
       "    <tr>\n",
       "      <th>9995</th>\n",
       "      <td>771</td>\n",
       "      <td>39</td>\n",
       "      <td>5.0</td>\n",
       "      <td>0.00</td>\n",
       "      <td>2</td>\n",
       "      <td>1</td>\n",
       "      <td>0</td>\n",
       "      <td>96270.64</td>\n",
       "      <td>0</td>\n",
       "      <td>0</td>\n",
       "      <td>0</td>\n",
       "      <td>1</td>\n",
       "    </tr>\n",
       "    <tr>\n",
       "      <th>9996</th>\n",
       "      <td>516</td>\n",
       "      <td>35</td>\n",
       "      <td>10.0</td>\n",
       "      <td>57369.61</td>\n",
       "      <td>1</td>\n",
       "      <td>1</td>\n",
       "      <td>1</td>\n",
       "      <td>101699.77</td>\n",
       "      <td>0</td>\n",
       "      <td>0</td>\n",
       "      <td>0</td>\n",
       "      <td>1</td>\n",
       "    </tr>\n",
       "    <tr>\n",
       "      <th>9997</th>\n",
       "      <td>709</td>\n",
       "      <td>36</td>\n",
       "      <td>7.0</td>\n",
       "      <td>0.00</td>\n",
       "      <td>1</td>\n",
       "      <td>0</td>\n",
       "      <td>1</td>\n",
       "      <td>42085.58</td>\n",
       "      <td>1</td>\n",
       "      <td>0</td>\n",
       "      <td>0</td>\n",
       "      <td>0</td>\n",
       "    </tr>\n",
       "    <tr>\n",
       "      <th>9998</th>\n",
       "      <td>772</td>\n",
       "      <td>42</td>\n",
       "      <td>3.0</td>\n",
       "      <td>75075.31</td>\n",
       "      <td>2</td>\n",
       "      <td>1</td>\n",
       "      <td>0</td>\n",
       "      <td>92888.52</td>\n",
       "      <td>1</td>\n",
       "      <td>1</td>\n",
       "      <td>0</td>\n",
       "      <td>1</td>\n",
       "    </tr>\n",
       "  </tbody>\n",
       "</table>\n",
       "<p>9091 rows × 12 columns</p>\n",
       "</div>"
      ],
      "text/plain": [
       "      CreditScore  Age  Tenure    Balance  NumOfProducts  HasCrCard  \\\n",
       "0             619   42     2.0       0.00              1          1   \n",
       "1             608   41     1.0   83807.86              1          0   \n",
       "2             502   42     8.0  159660.80              3          1   \n",
       "3             699   39     1.0       0.00              2          0   \n",
       "4             850   43     2.0  125510.82              1          1   \n",
       "...           ...  ...     ...        ...            ...        ...   \n",
       "9994          800   29     2.0       0.00              2          0   \n",
       "9995          771   39     5.0       0.00              2          1   \n",
       "9996          516   35    10.0   57369.61              1          1   \n",
       "9997          709   36     7.0       0.00              1          0   \n",
       "9998          772   42     3.0   75075.31              2          1   \n",
       "\n",
       "      IsActiveMember  EstimatedSalary  Exited  Geography_Germany  \\\n",
       "0                  1        101348.88       1                  0   \n",
       "1                  1        112542.58       0                  0   \n",
       "2                  0        113931.57       1                  0   \n",
       "3                  0         93826.63       0                  0   \n",
       "4                  1         79084.10       0                  0   \n",
       "...              ...              ...     ...                ...   \n",
       "9994               0        167773.55       0                  0   \n",
       "9995               0         96270.64       0                  0   \n",
       "9996               1        101699.77       0                  0   \n",
       "9997               1         42085.58       1                  0   \n",
       "9998               0         92888.52       1                  1   \n",
       "\n",
       "      Geography_Spain  Gender_Male  \n",
       "0                   0            0  \n",
       "1                   1            0  \n",
       "2                   0            0  \n",
       "3                   0            0  \n",
       "4                   1            0  \n",
       "...               ...          ...  \n",
       "9994                0            0  \n",
       "9995                0            1  \n",
       "9996                0            1  \n",
       "9997                0            0  \n",
       "9998                0            1  \n",
       "\n",
       "[9091 rows x 12 columns]"
      ]
     },
     "execution_count": 7,
     "metadata": {},
     "output_type": "execute_result"
    }
   ],
   "source": [
    "encoder = OneHotEncoder()\n",
    "encoder.fit_transform(data).toarray()\n",
    "data"
   ]
  },
  {
   "cell_type": "markdown",
   "metadata": {},
   "source": [
    "Разделим данные на 3 выборки"
   ]
  },
  {
   "cell_type": "code",
   "execution_count": 8,
   "metadata": {},
   "outputs": [],
   "source": [
    "data_train, data_1 = train_test_split(data, test_size=0.4, random_state=148)\n",
    "data_valid, data_test = train_test_split(data_1, test_size=0.5, random_state=148)\n",
    "\n",
    "features_train = data_train.drop(['Exited'], axis=1) \n",
    "target_train = data_train['Exited'] \n",
    "\n",
    "features_valid = data_valid.drop(['Exited'], axis=1) \n",
    "target_valid= data_valid['Exited'] \n",
    "\n",
    "features_test = data_test.drop(['Exited'], axis=1) \n",
    "target_test = data_test['Exited'] "
   ]
  },
  {
   "cell_type": "markdown",
   "metadata": {},
   "source": [
    "Масштабируем признаки"
   ]
  },
  {
   "cell_type": "code",
   "execution_count": 9,
   "metadata": {},
   "outputs": [],
   "source": [
    "scaler = StandardScaler()\n",
    "numeric = ['CreditScore', 'Age', 'Balance', 'Tenure', 'EstimatedSalary']\n",
    "scaler.fit(features_train[numeric])\n",
    "features_train[numeric] = scaler.transform(features_train[numeric])\n",
    "features_valid[numeric] = scaler.transform(features_valid[numeric])\n",
    "features_test[numeric] = scaler.transform(features_test[numeric])"
   ]
  },
  {
   "cell_type": "markdown",
   "metadata": {},
   "source": [
    "## Исследование задачи"
   ]
  },
  {
   "cell_type": "code",
   "execution_count": 10,
   "metadata": {},
   "outputs": [
    {
     "name": "stdout",
     "output_type": "stream",
     "text": [
      "0    0.796062\n",
      "1    0.203938\n",
      "Name: Exited, dtype: float64\n"
     ]
    },
    {
     "data": {
      "image/png": "[encoded data removed]",
      "text/plain": [
       "<Figure size 432x288 with 1 Axes>"
      ]
     },
     "metadata": {
      "needs_background": "light"
     },
     "output_type": "display_data"
    }
   ],
   "source": [
    "data['Exited'].value_counts(normalize=True).plot(kind='bar')\n",
    "print(data['Exited'].value_counts(normalize=True))"
   ]
  },
  {
   "cell_type": "markdown",
   "metadata": {},
   "source": [
    "Дисбаланс классов.В основном(почти 80%) преобладает отрицательный класс. Попробуем обучить наши модели без изменения дисбаланса классов. \n",
    "\n",
    "Обучающее дерево:"
   ]
  },
  {
   "cell_type": "code",
   "execution_count": 11,
   "metadata": {},
   "outputs": [
    {
     "name": "stdout",
     "output_type": "stream",
     "text": [
      "AUC ROC: 0.6875982882097984\n",
      "F1: 0.5065963060686017\n"
     ]
    }
   ],
   "source": [
    "model = DecisionTreeClassifier(random_state=148)\n",
    "model.fit(features_train, target_train)\n",
    "predict_valid = model.predict(features_valid)\n",
    "proba = model.predict_proba(features_valid)\n",
    "probabilities_one_valid = proba[:, 1]\n",
    "auc_roc = roc_auc_score(target_valid, probabilities_one_valid)\n",
    "print('AUC ROC:', auc_roc)\n",
    "print('F1:', f1_score(target_valid, predict_valid))"
   ]
  },
  {
   "cell_type": "markdown",
   "metadata": {},
   "source": [
    "Cлучайный лес"
   ]
  },
  {
   "cell_type": "code",
   "execution_count": 12,
   "metadata": {},
   "outputs": [
    {
     "name": "stdout",
     "output_type": "stream",
     "text": [
      "AUC ROC: 0.8530631218070601\n",
      "F1: 0.5741935483870968\n"
     ]
    }
   ],
   "source": [
    "model = RandomForestClassifier(random_state=148)\n",
    "model.fit(features_train, target_train)\n",
    "predict_valid = model.predict(features_valid)\n",
    "proba = model.predict_proba(features_valid)\n",
    "probabilities_one_valid = proba[:, 1]\n",
    "auc_roc = roc_auc_score(target_valid, probabilities_one_valid)\n",
    "print('AUC ROC:', auc_roc)\n",
    "print('F1:', f1_score(target_valid, predict_valid))"
   ]
  },
  {
   "cell_type": "markdown",
   "metadata": {},
   "source": [
    "Логистическая регрессия"
   ]
  },
  {
   "cell_type": "code",
   "execution_count": 13,
   "metadata": {},
   "outputs": [
    {
     "name": "stdout",
     "output_type": "stream",
     "text": [
      "AUC ROC: 0.7655220028602896\n",
      "F1: 0.332688588007737\n"
     ]
    }
   ],
   "source": [
    "model = LogisticRegression(random_state=148, solver='liblinear')\n",
    "model.fit(features_train, target_train)\n",
    "predict_valid = model.predict(features_valid)\n",
    "proba = model.predict_proba(features_valid)\n",
    "probabilities_one_valid = proba[:, 1]\n",
    "auc_roc = roc_auc_score(target_valid, probabilities_one_valid)\n",
    "print('AUC ROC:', auc_roc)\n",
    "print('F1:', f1_score(target_valid, predict_valid))"
   ]
  },
  {
   "cell_type": "markdown",
   "metadata": {},
   "source": [
    "Лучшие показатели AUC ROC и F1 у случайного леса. Попробуем поменять гиперпараметры, чтобы улучшить модель"
   ]
  },
  {
   "cell_type": "code",
   "execution_count": 14,
   "metadata": {},
   "outputs": [
    {
     "name": "stdout",
     "output_type": "stream",
     "text": [
      "RandomForestClassifier(max_depth=14, random_state=148)\n",
      "0.5857605177993528\n"
     ]
    }
   ],
   "source": [
    "best_model = None\n",
    "best_f1 = 0\n",
    "for i in range(1,101,1):\n",
    "    model = RandomForestClassifier(random_state=148, max_depth=i)\n",
    "    model.fit(features_train, target_train)\n",
    "    predictions = model.predict(features_valid)\n",
    "    f1 = f1_score(target_valid, predictions)\n",
    "    if f1 > best_f1:\n",
    "        best_model= model\n",
    "        best_f1 = f1\n",
    "print(best_model, best_f1, sep='\\n')"
   ]
  },
  {
   "cell_type": "markdown",
   "metadata": {},
   "source": [
    "Лучшая глубина 14"
   ]
  },
  {
   "cell_type": "code",
   "execution_count": 15,
   "metadata": {},
   "outputs": [
    {
     "name": "stdout",
     "output_type": "stream",
     "text": [
      "RandomForestClassifier(max_depth=14, n_estimators=48, random_state=148)\n",
      "0.5955414012738853\n"
     ]
    }
   ],
   "source": [
    "best_model = None\n",
    "best_f1 = 0\n",
    "for i in range(1,101,1):\n",
    "    model = RandomForestClassifier(random_state=148, max_depth=14, n_estimators=i)\n",
    "    model.fit(features_train, target_train)\n",
    "    predictions = model.predict(features_valid)\n",
    "    f1 = f1_score(target_valid, predictions)\n",
    "    if f1 > best_f1:\n",
    "        best_model= model\n",
    "        best_f1 = f1\n",
    "print(best_model, best_f1, sep='\\n')"
   ]
  },
  {
   "cell_type": "markdown",
   "metadata": {},
   "source": [
    "Лучшие гиперпараметры: глубина - 16, число деревьев - 48"
   ]
  },
  {
   "cell_type": "code",
   "execution_count": 16,
   "metadata": {},
   "outputs": [
    {
     "name": "stdout",
     "output_type": "stream",
     "text": [
      "AUC ROC: 0.8540631272865422\n",
      "F1: 0.5955414012738853\n"
     ]
    }
   ],
   "source": [
    "best_model = RandomForestClassifier(random_state=148, max_depth=14, n_estimators=48)\n",
    "best_model.fit(features_train, target_train)\n",
    "predict_valid = best_model.predict(features_valid)\n",
    "proba = best_model.predict_proba(features_valid)\n",
    "probabilities_one_valid = proba[:, 1]\n",
    "auc_roc_v = roc_auc_score(target_valid, probabilities_one_valid)\n",
    "f1_v = f1_score(target_valid, predict_valid)\n",
    "print('AUC ROC:', auc_roc_v)\n",
    "print('F1:', f1_v)"
   ]
  },
  {
   "cell_type": "markdown",
   "metadata": {},
   "source": [
    "У лучшей модели(случайный лес с гиперпараметрами max_depth=16, n_estimators=43), метрики равны: \n",
    "\n",
    "- AUC ROC: 0.8540631272865422\n",
    "- F1: 0.5955414012738853\n",
    "\n",
    "После изменения гиперпараметров, значение AUC ROC немного повысилась. Но наш целевой показатель это F1-мера, и он вырос. Ориентируемся по нему. Чтобы повысить показатель метрики, будем бороться с дисбалансом классов"
   ]
  },
  {
   "cell_type": "markdown",
   "metadata": {},
   "source": [
    "## Борьба с дисбалансом"
   ]
  },
  {
   "cell_type": "markdown",
   "metadata": {},
   "source": [
    "### Увеличение выборки"
   ]
  },
  {
   "cell_type": "code",
   "execution_count": 17,
   "metadata": {},
   "outputs": [],
   "source": [
    "def upsample(features, target, repeat):\n",
    "    features_zeros = features[target == 0]\n",
    "    features_ones = features[target == 1]\n",
    "    target_zeros = target[target == 0]\n",
    "    target_ones = target[target == 1]\n",
    "\n",
    "    features_upsampled = pd.concat([features_zeros] + [features_ones] * repeat)\n",
    "    target_upsampled = pd.concat([target_zeros] + [target_ones] * repeat)\n",
    "    \n",
    "    features_upsampled, target_upsampled = shuffle(\n",
    "        features_upsampled, target_upsampled, random_state=12345)\n",
    "    \n",
    "    return features_upsampled, target_upsampled"
   ]
  },
  {
   "cell_type": "code",
   "execution_count": 18,
   "metadata": {},
   "outputs": [],
   "source": [
    "features_upsampled, target_upsampled = upsample(features_train, target_train, 10)"
   ]
  },
  {
   "cell_type": "code",
   "execution_count": 19,
   "metadata": {},
   "outputs": [
    {
     "name": "stdout",
     "output_type": "stream",
     "text": [
      "F1: 0.6012738853503186\n",
      "AUC ROC: 0.8420694542618498\n"
     ]
    }
   ],
   "source": [
    "best_model_upsample= RandomForestClassifier(random_state=148, max_depth=14, n_estimators=48)\n",
    "best_model_upsample.fit(features_upsampled, target_upsampled)\n",
    "predict = best_model_upsample.predict(features_valid)\n",
    "f1_up_v = f1_score(target_valid, predict)\n",
    "print(\"F1:\", f1_up_v)\n",
    "proba = best_model_upsample.predict_proba(features_valid)\n",
    "probabilities_one_valid = proba[:, 1]\n",
    "auc_roc_up_v = roc_auc_score(target_valid, probabilities_one_valid)\n",
    "print('AUC ROC:', auc_roc_up_v)"
   ]
  },
  {
   "cell_type": "markdown",
   "metadata": {},
   "source": [
    "После увеличения выборки, F1-мера и AUC ROC снизились. Но целевой показатель в допустимом диапазоне."
   ]
  },
  {
   "cell_type": "markdown",
   "metadata": {},
   "source": [
    "### Уменьшение выборки"
   ]
  },
  {
   "cell_type": "code",
   "execution_count": 20,
   "metadata": {},
   "outputs": [],
   "source": [
    "def downsample(features, target, fraction):\n",
    "    features_zeros = features[target == 0]\n",
    "    features_ones = features[target == 1]\n",
    "    target_zeros = target[target == 0]\n",
    "    target_ones = target[target == 1]\n",
    "\n",
    "    features_downsampled = pd.concat(\n",
    "        [features_zeros.sample(frac=fraction, random_state=12345)] + [features_ones])\n",
    "    target_downsampled = pd.concat(\n",
    "        [target_zeros.sample(frac=fraction, random_state=12345)] + [target_ones])\n",
    "    \n",
    "    features_downsampled, target_downsampled = shuffle(\n",
    "        features_downsampled, target_downsampled, random_state=12345)\n",
    "    \n",
    "    return features_downsampled, target_downsampled\n",
    "\n",
    "features_downsampled, target_downsampled = downsample(features_train, target_train, 0.1)\n"
   ]
  },
  {
   "cell_type": "code",
   "execution_count": 21,
   "metadata": {},
   "outputs": [
    {
     "name": "stdout",
     "output_type": "stream",
     "text": [
      "F1: 0.47425474254742545\n",
      "AUC ROC: 0.8303616275522971\n"
     ]
    }
   ],
   "source": [
    "best_model_downsample = RandomForestClassifier(random_state=148, max_depth=14, n_estimators=48)\n",
    "best_model_downsample.fit(features_downsampled, target_downsampled)\n",
    "predict = best_model_downsample.predict(features_valid)\n",
    "f1_down_v = f1_score(target_valid, predict)\n",
    "print(\"F1:\", f1_down_v)\n",
    "proba = best_model_downsample.predict_proba(features_valid)\n",
    "probabilities_one_valid = proba[:, 1]\n",
    "auc_roc_down_v = roc_auc_score(target_valid, probabilities_one_valid)\n",
    "print('AUC ROC:', auc_roc_down_v)"
   ]
  },
  {
   "cell_type": "markdown",
   "metadata": {},
   "source": [
    "Уменьшение выборки тоже не помогло. F-1 сильно уменьшилась,  и AUC ROC стало меньше."
   ]
  },
  {
   "cell_type": "markdown",
   "metadata": {},
   "source": [
    "### Взвешивание классов"
   ]
  },
  {
   "cell_type": "code",
   "execution_count": 22,
   "metadata": {},
   "outputs": [
    {
     "name": "stdout",
     "output_type": "stream",
     "text": [
      "F1: 0.5858267716535434\n",
      "AUC ROC: 0.8507142504890437\n"
     ]
    }
   ],
   "source": [
    "best_model_class = RandomForestClassifier(random_state=148, max_depth=14, n_estimators=48, class_weight='balanced')\n",
    "best_model_class.fit(features_train, target_train)\n",
    "predicted_valid = best_model_class.predict(features_valid)\n",
    "print(\"F1:\", f1_score(target_valid, predicted_valid))\n",
    "proba = best_model_class.predict_proba(features_valid)\n",
    "probabilities_one_valid = proba[:, 1]\n",
    "auc_roc = roc_auc_score(target_valid, probabilities_one_valid)\n",
    "print('AUC ROC:', auc_roc)"
   ]
  },
  {
   "cell_type": "markdown",
   "metadata": {},
   "source": [
    "Взвешивание классов не подходит, F1 уменьшилась"
   ]
  },
  {
   "cell_type": "markdown",
   "metadata": {},
   "source": [
    "Переподбирать порог на тестовом сете не имеет смысла, т.к. модель переобучится, но уже на тестовом сете, и будет плохо воспринимать любые новые данные. Но мы этого уже не узнаем, потому что другого тестового сета у нас нет. Поэтому изменять порог мы не будем"
   ]
  },
  {
   "cell_type": "markdown",
   "metadata": {},
   "source": [
    "## Тестирование модели"
   ]
  },
  {
   "cell_type": "code",
   "execution_count": 23,
   "metadata": {},
   "outputs": [
    {
     "name": "stdout",
     "output_type": "stream",
     "text": [
      "F1: 0.5672131147540984\n",
      "AUC ROC: 0.8496414526948877\n"
     ]
    }
   ],
   "source": [
    "predict_valid = best_model.predict(features_test)\n",
    "proba = best_model.predict_proba(features_test)\n",
    "probabilities_one_valid = proba[:, 1]\n",
    "auc_roc_t = roc_auc_score(target_test, probabilities_one_valid)\n",
    "f1_t = f1_score(target_test, predict_valid)\n",
    "print('F1:', f1_t)\n",
    "print('AUC ROC:', auc_roc_t )"
   ]
  },
  {
   "cell_type": "code",
   "execution_count": 24,
   "metadata": {},
   "outputs": [
    {
     "name": "stdout",
     "output_type": "stream",
     "text": [
      "F1: 0.6041666666666666\n",
      "AUC ROC: 0.844514758636896\n"
     ]
    }
   ],
   "source": [
    "predict = best_model_upsample.predict(features_test)\n",
    "f1_up_t = f1_score(target_test, predict)\n",
    "print(\"F1:\", f1_up_t)\n",
    "proba = best_model_upsample.predict_proba(features_test)\n",
    "probabilities_one_test = proba[:, 1]\n",
    "auc_roc_up_t = roc_auc_score(target_test, probabilities_one_test)\n",
    "print('AUC ROC:', auc_roc_up_t)"
   ]
  },
  {
   "cell_type": "code",
   "execution_count": 25,
   "metadata": {},
   "outputs": [
    {
     "name": "stdout",
     "output_type": "stream",
     "text": [
      "F1: 0.46671149966375247\n",
      "AUC ROC: 0.8284847750496604\n"
     ]
    }
   ],
   "source": [
    "predict = best_model_downsample.predict(features_test)\n",
    "f1_down_t = f1_score(target_test, predict)\n",
    "print(\"F1:\", f1_down_t)\n",
    "proba = best_model_downsample.predict_proba(features_test)\n",
    "probabilities_one_test = proba[:, 1]\n",
    "auc_roc_down_t = roc_auc_score(target_test, probabilities_one_test)\n",
    "print('AUC ROC:', auc_roc_down_t)"
   ]
  },
  {
   "cell_type": "code",
   "execution_count": 26,
   "metadata": {
    "scrolled": true
   },
   "outputs": [
    {
     "data": {
      "text/html": [
       "<div>\n",
       "<style scoped>\n",
       "    .dataframe tbody tr th:only-of-type {\n",
       "        vertical-align: middle;\n",
       "    }\n",
       "\n",
       "    .dataframe tbody tr th {\n",
       "        vertical-align: top;\n",
       "    }\n",
       "\n",
       "    .dataframe thead th {\n",
       "        text-align: right;\n",
       "    }\n",
       "</style>\n",
       "<table border=\"1\" class=\"dataframe\">\n",
       "  <thead>\n",
       "    <tr style=\"text-align: right;\">\n",
       "      <th></th>\n",
       "      <th>model</th>\n",
       "      <th>f_1</th>\n",
       "      <th>auc_roc</th>\n",
       "    </tr>\n",
       "  </thead>\n",
       "  <tbody>\n",
       "    <tr>\n",
       "      <th>0</th>\n",
       "      <td>random_forest_valid</td>\n",
       "      <td>0.595541</td>\n",
       "      <td>0.854063</td>\n",
       "    </tr>\n",
       "    <tr>\n",
       "      <th>1</th>\n",
       "      <td>random_forest_valid_upsample</td>\n",
       "      <td>0.601274</td>\n",
       "      <td>0.842069</td>\n",
       "    </tr>\n",
       "    <tr>\n",
       "      <th>2</th>\n",
       "      <td>random_forest_valid_downsample</td>\n",
       "      <td>0.474255</td>\n",
       "      <td>0.830362</td>\n",
       "    </tr>\n",
       "    <tr>\n",
       "      <th>3</th>\n",
       "      <td></td>\n",
       "      <td></td>\n",
       "      <td></td>\n",
       "    </tr>\n",
       "    <tr>\n",
       "      <th>4</th>\n",
       "      <td>random_forest_test</td>\n",
       "      <td>0.567213</td>\n",
       "      <td>0.849641</td>\n",
       "    </tr>\n",
       "    <tr>\n",
       "      <th>5</th>\n",
       "      <td>random_forest_test_upsample</td>\n",
       "      <td>0.604167</td>\n",
       "      <td>0.844515</td>\n",
       "    </tr>\n",
       "    <tr>\n",
       "      <th>6</th>\n",
       "      <td>random_forest_test_downsample</td>\n",
       "      <td>0.466711</td>\n",
       "      <td>0.828485</td>\n",
       "    </tr>\n",
       "  </tbody>\n",
       "</table>\n",
       "</div>"
      ],
      "text/plain": [
       "                            model       f_1   auc_roc\n",
       "0             random_forest_valid  0.595541  0.854063\n",
       "1    random_forest_valid_upsample  0.601274  0.842069\n",
       "2  random_forest_valid_downsample  0.474255  0.830362\n",
       "3                                                    \n",
       "4              random_forest_test  0.567213  0.849641\n",
       "5     random_forest_test_upsample  0.604167  0.844515\n",
       "6   random_forest_test_downsample  0.466711  0.828485"
      ]
     },
     "execution_count": 26,
     "metadata": {},
     "output_type": "execute_result"
    }
   ],
   "source": [
    "metric = ['model' ,'f_1', 'auc_roc']\n",
    "means = [['random_forest_valid', f1_v, auc_roc_v], ['random_forest_valid_upsample', f1_up_v, auc_roc_up_v], \n",
    "         ['random_forest_valid_downsample', f1_down_v, auc_roc_down_v], ['', '', ''], \n",
    "         ['random_forest_test', f1_t, auc_roc_t], ['random_forest_test_upsample', f1_up_t, auc_roc_up_t],\n",
    "         ['random_forest_test_downsample', f1_down_t, auc_roc_down_t]]\n",
    "table = pd.DataFrame(data=means, columns=metric)\n",
    "table"
   ]
  },
  {
   "cell_type": "markdown",
   "metadata": {},
   "source": [
    "Лучшие метрики получились у моделей, обученных по увеличенным выборкам (best_model_upsample). Целевой показатель достигнут: F1>0.59. Несмотря на то, что F1-мера менялась очень сильно, метрика AUC ROC практически всегда оставалась на одном уровне."
   ]
  }
 ],
 "metadata": {
  "ExecuteTimeLog": [
   {
    "duration": 543,
    "start_time": "2022-03-30T17:19:43.464Z"
   },
   {
    "duration": 47,
    "start_time": "2022-03-30T17:19:54.768Z"
   },
   {
    "duration": 72,
    "start_time": "2022-03-30T17:19:58.015Z"
   },
   {
    "duration": 54,
    "start_time": "2022-03-30T17:20:24.696Z"
   },
   {
    "duration": 78,
    "start_time": "2022-03-30T17:20:35.464Z"
   },
   {
    "duration": 42,
    "start_time": "2022-03-30T17:20:50.024Z"
   },
   {
    "duration": 60,
    "start_time": "2022-03-30T17:21:07.528Z"
   },
   {
    "duration": 1256,
    "start_time": "2022-03-30T17:23:57.047Z"
   },
   {
    "duration": 68,
    "start_time": "2022-03-30T17:24:24.151Z"
   },
   {
    "duration": 205,
    "start_time": "2022-03-30T17:24:47.853Z"
   },
   {
    "duration": 167,
    "start_time": "2022-03-30T17:24:54.046Z"
   },
   {
    "duration": 5,
    "start_time": "2022-03-30T17:29:09.164Z"
   },
   {
    "duration": 27,
    "start_time": "2022-03-30T17:29:13.572Z"
   },
   {
    "duration": 27,
    "start_time": "2022-03-30T17:29:23.428Z"
   },
   {
    "duration": 11,
    "start_time": "2022-03-30T17:29:28.781Z"
   },
   {
    "duration": 10,
    "start_time": "2022-03-30T17:29:58.251Z"
   },
   {
    "duration": 12,
    "start_time": "2022-03-30T17:30:25.098Z"
   },
   {
    "duration": 4,
    "start_time": "2022-03-30T17:30:30.436Z"
   },
   {
    "duration": 121,
    "start_time": "2022-03-30T17:30:30.442Z"
   },
   {
    "duration": 22,
    "start_time": "2022-03-30T17:30:33.892Z"
   },
   {
    "duration": 19,
    "start_time": "2022-03-30T17:31:01.090Z"
   },
   {
    "duration": 25,
    "start_time": "2022-03-30T17:31:27.163Z"
   },
   {
    "duration": 27,
    "start_time": "2022-03-30T17:31:31.739Z"
   },
   {
    "duration": 4,
    "start_time": "2022-03-30T17:31:34.364Z"
   },
   {
    "duration": 20,
    "start_time": "2022-03-30T17:31:37.146Z"
   },
   {
    "duration": 25,
    "start_time": "2022-03-30T17:31:38.930Z"
   },
   {
    "duration": 14,
    "start_time": "2022-03-30T17:31:53.787Z"
   },
   {
    "duration": 4,
    "start_time": "2022-03-30T17:32:07.691Z"
   },
   {
    "duration": 166,
    "start_time": "2022-03-30T17:32:08.212Z"
   },
   {
    "duration": 6,
    "start_time": "2022-03-30T17:32:10.843Z"
   },
   {
    "duration": 14,
    "start_time": "2022-03-30T17:32:11.395Z"
   },
   {
    "duration": 3,
    "start_time": "2022-03-30T17:33:09.562Z"
   },
   {
    "duration": 151,
    "start_time": "2022-03-30T17:33:14.590Z"
   },
   {
    "duration": 6,
    "start_time": "2022-03-30T17:33:17.602Z"
   },
   {
    "duration": 10,
    "start_time": "2022-03-30T17:33:18.154Z"
   },
   {
    "duration": 3,
    "start_time": "2022-03-30T17:33:21.361Z"
   },
   {
    "duration": 109,
    "start_time": "2022-03-30T17:33:21.850Z"
   },
   {
    "duration": 6,
    "start_time": "2022-03-30T17:33:22.819Z"
   },
   {
    "duration": 11,
    "start_time": "2022-03-30T17:33:23.210Z"
   },
   {
    "duration": 10,
    "start_time": "2022-03-30T17:33:34.753Z"
   },
   {
    "duration": 17,
    "start_time": "2022-03-30T17:33:38.090Z"
   },
   {
    "duration": 10,
    "start_time": "2022-03-30T17:33:41.466Z"
   },
   {
    "duration": 4,
    "start_time": "2022-03-30T17:34:07.130Z"
   },
   {
    "duration": 125,
    "start_time": "2022-03-30T17:34:08.554Z"
   },
   {
    "duration": 5,
    "start_time": "2022-03-30T17:34:10.857Z"
   },
   {
    "duration": 33,
    "start_time": "2022-03-30T17:34:12.354Z"
   },
   {
    "duration": 21,
    "start_time": "2022-03-30T17:34:43.251Z"
   },
   {
    "duration": 13,
    "start_time": "2022-03-30T17:35:08.315Z"
   },
   {
    "duration": 36,
    "start_time": "2022-03-30T17:35:09.323Z"
   },
   {
    "duration": 7,
    "start_time": "2022-03-30T17:35:36.818Z"
   },
   {
    "duration": 60,
    "start_time": "2022-03-30T17:35:37.562Z"
   },
   {
    "duration": 7,
    "start_time": "2022-03-30T17:35:48.881Z"
   },
   {
    "duration": 60,
    "start_time": "2022-03-30T17:35:49.882Z"
   },
   {
    "duration": 9,
    "start_time": "2022-03-30T17:35:54.065Z"
   },
   {
    "duration": 63,
    "start_time": "2022-03-30T17:35:54.618Z"
   },
   {
    "duration": 3,
    "start_time": "2022-03-30T17:35:58.675Z"
   },
   {
    "duration": 129,
    "start_time": "2022-03-30T17:35:58.681Z"
   },
   {
    "duration": 4,
    "start_time": "2022-03-30T17:36:00.322Z"
   },
   {
    "duration": 31,
    "start_time": "2022-03-30T17:36:00.778Z"
   },
   {
    "duration": 14,
    "start_time": "2022-03-30T17:37:14.281Z"
   },
   {
    "duration": 37,
    "start_time": "2022-03-30T17:37:15.514Z"
   },
   {
    "duration": 11,
    "start_time": "2022-03-30T17:37:23.160Z"
   },
   {
    "duration": 3,
    "start_time": "2022-03-30T17:37:23.482Z"
   },
   {
    "duration": 5,
    "start_time": "2022-03-30T17:37:25.656Z"
   },
   {
    "duration": 3,
    "start_time": "2022-03-30T17:37:29.913Z"
   },
   {
    "duration": 117,
    "start_time": "2022-03-30T17:37:29.919Z"
   },
   {
    "duration": 16,
    "start_time": "2022-03-30T17:37:33.890Z"
   },
   {
    "duration": 3,
    "start_time": "2022-03-30T17:37:34.312Z"
   },
   {
    "duration": 5,
    "start_time": "2022-03-30T17:37:42.128Z"
   },
   {
    "duration": 11,
    "start_time": "2022-03-30T17:38:33.387Z"
   },
   {
    "duration": 4,
    "start_time": "2022-03-30T17:38:39.988Z"
   },
   {
    "duration": 139,
    "start_time": "2022-03-30T17:38:39.994Z"
   },
   {
    "duration": 11,
    "start_time": "2022-03-30T17:38:46.224Z"
   },
   {
    "duration": 4,
    "start_time": "2022-03-30T17:38:51.673Z"
   },
   {
    "duration": 4,
    "start_time": "2022-03-30T17:38:55.377Z"
   },
   {
    "duration": 124,
    "start_time": "2022-03-30T17:38:55.383Z"
   },
   {
    "duration": 31,
    "start_time": "2022-03-30T17:39:01.432Z"
   },
   {
    "duration": 21,
    "start_time": "2022-03-30T17:39:11.289Z"
   },
   {
    "duration": 4,
    "start_time": "2022-03-30T17:39:19.657Z"
   },
   {
    "duration": 17,
    "start_time": "2022-03-30T17:39:20.200Z"
   },
   {
    "duration": 8,
    "start_time": "2022-03-30T17:39:37.808Z"
   },
   {
    "duration": 4,
    "start_time": "2022-03-30T17:40:06.505Z"
   },
   {
    "duration": 14,
    "start_time": "2022-03-30T17:41:16.856Z"
   },
   {
    "duration": 34,
    "start_time": "2022-03-30T17:41:20.943Z"
   },
   {
    "duration": 53,
    "start_time": "2022-03-30T17:41:31.255Z"
   },
   {
    "duration": 31,
    "start_time": "2022-03-30T17:41:34.752Z"
   },
   {
    "duration": 8,
    "start_time": "2022-03-30T17:41:58.160Z"
   },
   {
    "duration": 9,
    "start_time": "2022-03-30T17:42:06.263Z"
   },
   {
    "duration": 4,
    "start_time": "2022-03-30T17:42:11.464Z"
   },
   {
    "duration": 9,
    "start_time": "2022-03-30T17:42:14.111Z"
   },
   {
    "duration": 124,
    "start_time": "2022-03-30T17:42:22.768Z"
   },
   {
    "duration": 8,
    "start_time": "2022-03-30T17:42:33.270Z"
   },
   {
    "duration": 7,
    "start_time": "2022-03-30T17:42:36.838Z"
   },
   {
    "duration": 31,
    "start_time": "2022-03-30T17:43:25.918Z"
   },
   {
    "duration": 35,
    "start_time": "2022-03-30T17:43:48.199Z"
   },
   {
    "duration": 3,
    "start_time": "2022-03-30T17:43:59.334Z"
   },
   {
    "duration": 112,
    "start_time": "2022-03-30T17:43:59.340Z"
   },
   {
    "duration": 49,
    "start_time": "2022-03-30T17:43:59.454Z"
   },
   {
    "duration": 26,
    "start_time": "2022-03-30T17:46:01.095Z"
   },
   {
    "duration": 21,
    "start_time": "2022-03-30T17:46:12.415Z"
   },
   {
    "duration": 36,
    "start_time": "2022-03-30T17:46:19.223Z"
   },
   {
    "duration": 23,
    "start_time": "2022-03-30T17:46:37.310Z"
   },
   {
    "duration": 37,
    "start_time": "2022-03-30T17:47:24.774Z"
   },
   {
    "duration": 31,
    "start_time": "2022-03-30T17:47:33.982Z"
   },
   {
    "duration": 36,
    "start_time": "2022-03-30T17:47:42.245Z"
   },
   {
    "duration": 3,
    "start_time": "2022-03-30T17:47:44.934Z"
   },
   {
    "duration": 114,
    "start_time": "2022-03-30T17:47:44.939Z"
   },
   {
    "duration": 33,
    "start_time": "2022-03-30T17:47:49.413Z"
   },
   {
    "duration": 37,
    "start_time": "2022-03-30T17:47:52.749Z"
   },
   {
    "duration": 30,
    "start_time": "2022-03-30T17:47:55.277Z"
   },
   {
    "duration": 10,
    "start_time": "2022-03-30T17:48:02.798Z"
   },
   {
    "duration": 28,
    "start_time": "2022-03-30T17:48:04.772Z"
   },
   {
    "duration": 33,
    "start_time": "2022-03-30T17:48:12.525Z"
   },
   {
    "duration": 12,
    "start_time": "2022-03-30T17:48:19.397Z"
   },
   {
    "duration": 22,
    "start_time": "2022-03-30T17:48:22.348Z"
   },
   {
    "duration": 3,
    "start_time": "2022-03-30T17:48:30.589Z"
   },
   {
    "duration": 170,
    "start_time": "2022-03-30T17:48:30.595Z"
   },
   {
    "duration": 51,
    "start_time": "2022-03-30T17:48:32.037Z"
   },
   {
    "duration": 4,
    "start_time": "2022-03-30T17:48:53.083Z"
   },
   {
    "duration": 123,
    "start_time": "2022-03-30T17:48:53.089Z"
   },
   {
    "duration": 12,
    "start_time": "2022-03-30T17:48:53.215Z"
   },
   {
    "duration": 14,
    "start_time": "2022-03-30T17:49:11.420Z"
   },
   {
    "duration": 20,
    "start_time": "2022-03-30T17:49:15.933Z"
   },
   {
    "duration": 27,
    "start_time": "2022-03-30T17:57:54.426Z"
   },
   {
    "duration": 21,
    "start_time": "2022-03-30T18:03:32.999Z"
   },
   {
    "duration": 4,
    "start_time": "2022-03-30T18:04:29.439Z"
   },
   {
    "duration": 4,
    "start_time": "2022-03-30T18:04:53.789Z"
   },
   {
    "duration": 36,
    "start_time": "2022-03-30T18:07:31.695Z"
   },
   {
    "duration": 38,
    "start_time": "2022-03-30T18:08:12.217Z"
   },
   {
    "duration": 38,
    "start_time": "2022-03-30T18:08:56.662Z"
   },
   {
    "duration": 44,
    "start_time": "2022-03-30T18:09:19.774Z"
   },
   {
    "duration": 4,
    "start_time": "2022-03-30T18:10:37.965Z"
   },
   {
    "duration": 28,
    "start_time": "2022-03-30T18:11:33.917Z"
   },
   {
    "duration": 24,
    "start_time": "2022-03-30T18:11:38.613Z"
   },
   {
    "duration": 44,
    "start_time": "2022-03-30T18:12:10.420Z"
   },
   {
    "duration": 41,
    "start_time": "2022-03-30T18:12:46.172Z"
   },
   {
    "duration": 47,
    "start_time": "2022-03-30T18:12:52.756Z"
   },
   {
    "duration": 30,
    "start_time": "2022-03-30T18:13:32.307Z"
   },
   {
    "duration": 5,
    "start_time": "2022-03-30T18:13:36.749Z"
   },
   {
    "duration": 148,
    "start_time": "2022-03-30T18:13:36.757Z"
   },
   {
    "duration": 12,
    "start_time": "2022-03-30T18:13:36.908Z"
   },
   {
    "duration": 13,
    "start_time": "2022-03-30T18:13:36.923Z"
   },
   {
    "duration": 65,
    "start_time": "2022-03-30T18:13:36.938Z"
   },
   {
    "duration": 27,
    "start_time": "2022-03-30T18:13:37.005Z"
   },
   {
    "duration": 30,
    "start_time": "2022-03-30T18:13:38.947Z"
   },
   {
    "duration": 56,
    "start_time": "2022-03-30T18:13:45.988Z"
   },
   {
    "duration": 54,
    "start_time": "2022-03-30T18:14:22.492Z"
   },
   {
    "duration": 3,
    "start_time": "2022-03-30T18:14:26.059Z"
   },
   {
    "duration": 121,
    "start_time": "2022-03-30T18:14:26.065Z"
   },
   {
    "duration": 11,
    "start_time": "2022-03-30T18:14:26.189Z"
   },
   {
    "duration": 13,
    "start_time": "2022-03-30T18:14:26.203Z"
   },
   {
    "duration": 66,
    "start_time": "2022-03-30T18:14:26.218Z"
   },
   {
    "duration": 28,
    "start_time": "2022-03-30T18:14:26.286Z"
   },
   {
    "duration": 77,
    "start_time": "2022-03-30T18:14:26.316Z"
   },
   {
    "duration": 16,
    "start_time": "2022-03-30T18:23:01.328Z"
   },
   {
    "duration": 27,
    "start_time": "2022-03-30T18:23:47.513Z"
   },
   {
    "duration": 14,
    "start_time": "2022-03-30T18:23:51.368Z"
   },
   {
    "duration": 30,
    "start_time": "2022-03-30T18:24:04.111Z"
   },
   {
    "duration": 14,
    "start_time": "2022-03-30T18:24:28.647Z"
   },
   {
    "duration": 29,
    "start_time": "2022-03-30T18:24:29.687Z"
   },
   {
    "duration": 47,
    "start_time": "2022-03-30T18:24:33.511Z"
   },
   {
    "duration": 29,
    "start_time": "2022-03-30T18:24:37.919Z"
   },
   {
    "duration": 15,
    "start_time": "2022-03-30T18:24:41.774Z"
   },
   {
    "duration": 13,
    "start_time": "2022-03-30T18:28:06.156Z"
   },
   {
    "duration": 7,
    "start_time": "2022-03-30T18:28:11.133Z"
   },
   {
    "duration": 22,
    "start_time": "2022-03-30T18:28:57.422Z"
   },
   {
    "duration": 34,
    "start_time": "2022-03-30T18:29:03.997Z"
   },
   {
    "duration": 16,
    "start_time": "2022-03-30T18:30:40.788Z"
   },
   {
    "duration": 15,
    "start_time": "2022-03-30T18:31:02.900Z"
   },
   {
    "duration": 16,
    "start_time": "2022-03-30T18:31:22.964Z"
   },
   {
    "duration": 48,
    "start_time": "2022-03-30T18:38:04.940Z"
   },
   {
    "duration": 1137,
    "start_time": "2022-03-30T18:38:10.787Z"
   },
   {
    "duration": 89,
    "start_time": "2022-03-30T18:38:11.927Z"
   },
   {
    "duration": 12,
    "start_time": "2022-03-30T18:38:12.018Z"
   },
   {
    "duration": 8,
    "start_time": "2022-03-30T18:38:12.033Z"
   },
   {
    "duration": 38,
    "start_time": "2022-03-30T18:38:12.043Z"
   },
   {
    "duration": 20,
    "start_time": "2022-03-30T18:38:12.082Z"
   },
   {
    "duration": 8,
    "start_time": "2022-03-30T18:38:12.104Z"
   },
   {
    "duration": 84,
    "start_time": "2022-03-30T18:38:12.114Z"
   },
   {
    "duration": 0,
    "start_time": "2022-03-30T18:38:12.200Z"
   },
   {
    "duration": 15,
    "start_time": "2022-03-30T18:38:56.891Z"
   },
   {
    "duration": 17,
    "start_time": "2022-03-30T18:39:05.899Z"
   },
   {
    "duration": 11,
    "start_time": "2022-03-30T18:39:49.156Z"
   },
   {
    "duration": 16,
    "start_time": "2022-03-30T18:39:57.043Z"
   },
   {
    "duration": 17,
    "start_time": "2022-03-30T18:40:29.810Z"
   },
   {
    "duration": 3,
    "start_time": "2022-03-30T18:40:37.298Z"
   },
   {
    "duration": 79,
    "start_time": "2022-03-30T18:40:37.303Z"
   },
   {
    "duration": 8,
    "start_time": "2022-03-30T18:40:37.383Z"
   },
   {
    "duration": 8,
    "start_time": "2022-03-30T18:40:37.393Z"
   },
   {
    "duration": 21,
    "start_time": "2022-03-30T18:40:37.403Z"
   },
   {
    "duration": 39,
    "start_time": "2022-03-30T18:40:37.425Z"
   },
   {
    "duration": 9,
    "start_time": "2022-03-30T18:40:37.466Z"
   },
   {
    "duration": 9,
    "start_time": "2022-03-30T18:40:39.434Z"
   },
   {
    "duration": 10,
    "start_time": "2022-03-30T18:40:39.658Z"
   },
   {
    "duration": 15,
    "start_time": "2022-03-30T18:40:40.498Z"
   },
   {
    "duration": 14,
    "start_time": "2022-03-30T18:41:11.682Z"
   },
   {
    "duration": 15,
    "start_time": "2022-03-30T18:41:12.554Z"
   },
   {
    "duration": 18,
    "start_time": "2022-03-30T18:41:18.450Z"
   },
   {
    "duration": 16,
    "start_time": "2022-03-30T18:41:41.945Z"
   },
   {
    "duration": 17,
    "start_time": "2022-03-30T18:41:42.533Z"
   },
   {
    "duration": 3,
    "start_time": "2022-03-30T18:41:48.075Z"
   },
   {
    "duration": 76,
    "start_time": "2022-03-30T18:41:48.080Z"
   },
   {
    "duration": 7,
    "start_time": "2022-03-30T18:41:48.157Z"
   },
   {
    "duration": 8,
    "start_time": "2022-03-30T18:41:48.166Z"
   },
   {
    "duration": 20,
    "start_time": "2022-03-30T18:41:48.175Z"
   },
   {
    "duration": 18,
    "start_time": "2022-03-30T18:41:48.197Z"
   },
   {
    "duration": 7,
    "start_time": "2022-03-30T18:41:48.217Z"
   },
   {
    "duration": 15,
    "start_time": "2022-03-30T18:41:54.001Z"
   },
   {
    "duration": 16,
    "start_time": "2022-03-30T18:42:00.257Z"
   },
   {
    "duration": 15,
    "start_time": "2022-03-30T18:42:07.674Z"
   },
   {
    "duration": 16,
    "start_time": "2022-03-30T18:42:15.226Z"
   },
   {
    "duration": 23,
    "start_time": "2022-03-30T18:45:41.712Z"
   },
   {
    "duration": 6,
    "start_time": "2022-03-30T18:47:51.077Z"
   },
   {
    "duration": 579,
    "start_time": "2022-03-30T18:48:11.975Z"
   },
   {
    "duration": 129,
    "start_time": "2022-03-30T18:48:31.743Z"
   },
   {
    "duration": 97,
    "start_time": "2022-03-30T18:48:37.375Z"
   },
   {
    "duration": 55,
    "start_time": "2022-03-30T18:49:46.334Z"
   },
   {
    "duration": 4,
    "start_time": "2022-03-30T18:50:11.743Z"
   },
   {
    "duration": 23,
    "start_time": "2022-03-30T18:50:44.767Z"
   },
   {
    "duration": 11,
    "start_time": "2022-03-30T18:50:56.887Z"
   },
   {
    "duration": 31,
    "start_time": "2022-03-30T18:50:59.222Z"
   },
   {
    "duration": 35,
    "start_time": "2022-03-30T18:51:39.438Z"
   },
   {
    "duration": 30,
    "start_time": "2022-03-30T18:51:42.966Z"
   },
   {
    "duration": 3,
    "start_time": "2022-03-30T18:54:59.548Z"
   },
   {
    "duration": 33,
    "start_time": "2022-03-30T18:55:34.972Z"
   },
   {
    "duration": 3,
    "start_time": "2022-03-30T18:56:01.092Z"
   },
   {
    "duration": 37,
    "start_time": "2022-03-30T19:00:06.603Z"
   },
   {
    "duration": 35,
    "start_time": "2022-03-30T19:00:11.234Z"
   },
   {
    "duration": 37,
    "start_time": "2022-03-30T19:01:59.066Z"
   },
   {
    "duration": 33,
    "start_time": "2022-03-30T19:02:29.018Z"
   },
   {
    "duration": 33,
    "start_time": "2022-03-30T19:02:45.642Z"
   },
   {
    "duration": 39,
    "start_time": "2022-03-30T19:05:38.680Z"
   },
   {
    "duration": 4,
    "start_time": "2022-03-30T19:05:52.393Z"
   },
   {
    "duration": 33,
    "start_time": "2022-03-30T19:05:59.617Z"
   },
   {
    "duration": 34,
    "start_time": "2022-03-30T19:06:04.352Z"
   },
   {
    "duration": 38,
    "start_time": "2022-03-30T19:06:19.096Z"
   },
   {
    "duration": 36,
    "start_time": "2022-03-30T19:06:51.249Z"
   },
   {
    "duration": 672,
    "start_time": "2022-03-30T19:13:50.845Z"
   },
   {
    "duration": 941,
    "start_time": "2022-03-30T19:14:44.325Z"
   },
   {
    "duration": 135,
    "start_time": "2022-03-30T19:16:12.309Z"
   },
   {
    "duration": 57,
    "start_time": "2022-03-30T19:16:15.907Z"
   },
   {
    "duration": 156,
    "start_time": "2022-03-30T19:17:11.651Z"
   },
   {
    "duration": 182,
    "start_time": "2022-03-30T19:24:12.225Z"
   },
   {
    "duration": 190,
    "start_time": "2022-03-30T19:24:18.480Z"
   },
   {
    "duration": 15384,
    "start_time": "2022-03-30T19:24:57.833Z"
   },
   {
    "duration": 60776,
    "start_time": "2022-03-30T19:25:32.281Z"
   },
   {
    "duration": 15326,
    "start_time": "2022-03-30T19:27:09.320Z"
   },
   {
    "duration": 319058,
    "start_time": "2022-03-30T19:28:29.760Z"
   },
   {
    "duration": 21385,
    "start_time": "2022-03-30T19:34:00.806Z"
   },
   {
    "duration": 7440,
    "start_time": "2022-03-30T19:34:46.765Z"
   },
   {
    "duration": 52542,
    "start_time": "2022-03-30T19:34:58.109Z"
   },
   {
    "duration": 11892,
    "start_time": "2022-03-30T19:35:59.108Z"
   },
   {
    "duration": 630,
    "start_time": "2022-03-30T19:36:59.132Z"
   },
   {
    "duration": 731,
    "start_time": "2022-03-30T19:38:41.196Z"
   },
   {
    "duration": 70925,
    "start_time": "2022-03-30T19:39:07.699Z"
   },
   {
    "duration": 117503,
    "start_time": "2022-03-30T19:41:04.706Z"
   },
   {
    "duration": 24,
    "start_time": "2022-03-30T19:43:38.169Z"
   },
   {
    "duration": 1654,
    "start_time": "2022-03-31T13:10:11.787Z"
   },
   {
    "duration": 138,
    "start_time": "2022-03-31T13:10:13.443Z"
   },
   {
    "duration": 14,
    "start_time": "2022-03-31T13:10:13.584Z"
   },
   {
    "duration": 28,
    "start_time": "2022-03-31T13:10:13.602Z"
   },
   {
    "duration": 45,
    "start_time": "2022-03-31T13:10:13.632Z"
   },
   {
    "duration": 28,
    "start_time": "2022-03-31T13:10:13.679Z"
   },
   {
    "duration": 15,
    "start_time": "2022-03-31T13:10:13.709Z"
   },
   {
    "duration": 279,
    "start_time": "2022-03-31T13:10:13.726Z"
   },
   {
    "duration": 0,
    "start_time": "2022-03-31T13:10:14.008Z"
   },
   {
    "duration": 0,
    "start_time": "2022-03-31T13:10:14.010Z"
   },
   {
    "duration": 0,
    "start_time": "2022-03-31T13:10:14.012Z"
   },
   {
    "duration": 0,
    "start_time": "2022-03-31T13:10:14.014Z"
   },
   {
    "duration": 0,
    "start_time": "2022-03-31T13:10:14.016Z"
   },
   {
    "duration": 0,
    "start_time": "2022-03-31T13:10:14.017Z"
   },
   {
    "duration": 24,
    "start_time": "2022-03-31T13:10:33.703Z"
   },
   {
    "duration": 813,
    "start_time": "2022-03-31T13:10:35.326Z"
   },
   {
    "duration": 55,
    "start_time": "2022-03-31T13:10:37.526Z"
   },
   {
    "duration": 1066,
    "start_time": "2022-03-31T13:10:38.790Z"
   },
   {
    "duration": 62,
    "start_time": "2022-03-31T13:10:41.422Z"
   },
   {
    "duration": 217971,
    "start_time": "2022-03-31T13:10:42.653Z"
   },
   {
    "duration": 36,
    "start_time": "2022-03-31T13:50:37.654Z"
   },
   {
    "duration": 4,
    "start_time": "2022-03-31T13:50:51.440Z"
   },
   {
    "duration": 116,
    "start_time": "2022-03-31T13:50:51.447Z"
   },
   {
    "duration": 15,
    "start_time": "2022-03-31T13:50:51.565Z"
   },
   {
    "duration": 12,
    "start_time": "2022-03-31T13:50:51.583Z"
   },
   {
    "duration": 34,
    "start_time": "2022-03-31T13:50:51.597Z"
   },
   {
    "duration": 62,
    "start_time": "2022-03-31T13:50:51.633Z"
   },
   {
    "duration": 13,
    "start_time": "2022-03-31T13:50:51.697Z"
   },
   {
    "duration": 21,
    "start_time": "2022-03-31T13:50:51.713Z"
   },
   {
    "duration": 196,
    "start_time": "2022-03-31T13:50:51.736Z"
   },
   {
    "duration": 70,
    "start_time": "2022-03-31T13:50:51.936Z"
   },
   {
    "duration": 1015,
    "start_time": "2022-03-31T13:50:52.008Z"
   },
   {
    "duration": 150,
    "start_time": "2022-03-31T13:50:53.025Z"
   },
   {
    "duration": 188655,
    "start_time": "2022-03-31T13:50:53.178Z"
   },
   {
    "duration": 49,
    "start_time": "2022-03-31T13:54:01.836Z"
   },
   {
    "duration": 5,
    "start_time": "2022-03-31T16:09:06.609Z"
   },
   {
    "duration": 110,
    "start_time": "2022-03-31T16:09:06.618Z"
   },
   {
    "duration": 12,
    "start_time": "2022-03-31T16:09:06.730Z"
   },
   {
    "duration": 34,
    "start_time": "2022-03-31T16:09:06.744Z"
   },
   {
    "duration": 36,
    "start_time": "2022-03-31T16:09:06.780Z"
   },
   {
    "duration": 27,
    "start_time": "2022-03-31T16:09:06.818Z"
   },
   {
    "duration": 37,
    "start_time": "2022-03-31T16:09:06.847Z"
   },
   {
    "duration": 26,
    "start_time": "2022-03-31T16:09:06.886Z"
   },
   {
    "duration": 187,
    "start_time": "2022-03-31T16:09:06.914Z"
   },
   {
    "duration": 53,
    "start_time": "2022-03-31T16:09:07.103Z"
   },
   {
    "duration": 998,
    "start_time": "2022-03-31T16:09:07.175Z"
   },
   {
    "duration": 109,
    "start_time": "2022-03-31T16:09:08.175Z"
   },
   {
    "duration": 187106,
    "start_time": "2022-03-31T16:09:08.375Z"
   },
   {
    "duration": 35,
    "start_time": "2022-03-31T16:12:15.483Z"
   },
   {
    "duration": 6,
    "start_time": "2022-03-31T16:12:36.837Z"
   },
   {
    "duration": 34,
    "start_time": "2022-03-31T16:13:20.237Z"
   },
   {
    "duration": 6,
    "start_time": "2022-03-31T16:13:39.685Z"
   },
   {
    "duration": 6,
    "start_time": "2022-03-31T16:13:46.602Z"
   },
   {
    "duration": 12,
    "start_time": "2022-03-31T16:13:47.030Z"
   },
   {
    "duration": 652,
    "start_time": "2022-03-31T16:15:43.249Z"
   },
   {
    "duration": 380,
    "start_time": "2022-03-31T16:15:50.672Z"
   },
   {
    "duration": 379,
    "start_time": "2022-03-31T16:16:34.931Z"
   },
   {
    "duration": 22,
    "start_time": "2022-03-31T16:16:43.153Z"
   },
   {
    "duration": 396,
    "start_time": "2022-03-31T16:16:48.709Z"
   },
   {
    "duration": 14,
    "start_time": "2022-03-31T16:18:55.831Z"
   },
   {
    "duration": 396,
    "start_time": "2022-03-31T16:19:10.627Z"
   },
   {
    "duration": 102,
    "start_time": "2022-03-31T16:19:31.752Z"
   },
   {
    "duration": 15,
    "start_time": "2022-03-31T16:19:37.234Z"
   },
   {
    "duration": 99,
    "start_time": "2022-03-31T16:19:37.777Z"
   },
   {
    "duration": 32,
    "start_time": "2022-03-31T16:20:37.443Z"
   },
   {
    "duration": 105,
    "start_time": "2022-03-31T16:21:03.472Z"
   },
   {
    "duration": 22,
    "start_time": "2022-03-31T16:21:11.080Z"
   },
   {
    "duration": 90,
    "start_time": "2022-03-31T16:21:15.906Z"
   },
   {
    "duration": 38,
    "start_time": "2022-03-31T16:21:29.001Z"
   },
   {
    "duration": 191,
    "start_time": "2022-03-31T16:23:02.610Z"
   },
   {
    "duration": 187,
    "start_time": "2022-03-31T16:23:07.102Z"
   },
   {
    "duration": 191,
    "start_time": "2022-03-31T16:23:27.907Z"
   },
   {
    "duration": 34,
    "start_time": "2022-03-31T16:23:29.154Z"
   },
   {
    "duration": 196,
    "start_time": "2022-03-31T16:23:53.119Z"
   },
   {
    "duration": 38,
    "start_time": "2022-03-31T16:23:54.487Z"
   },
   {
    "duration": 5,
    "start_time": "2022-03-31T16:23:57.654Z"
   },
   {
    "duration": 13,
    "start_time": "2022-03-31T16:23:58.445Z"
   },
   {
    "duration": 552,
    "start_time": "2022-03-31T16:24:00.779Z"
   },
   {
    "duration": 17,
    "start_time": "2022-03-31T16:24:05.597Z"
   },
   {
    "duration": 104,
    "start_time": "2022-03-31T16:24:08.402Z"
   },
   {
    "duration": 33,
    "start_time": "2022-03-31T16:27:43.229Z"
   },
   {
    "duration": 401,
    "start_time": "2022-03-31T16:28:19.105Z"
   },
   {
    "duration": 103,
    "start_time": "2022-03-31T16:28:30.287Z"
   },
   {
    "duration": 485,
    "start_time": "2022-03-31T16:28:44.133Z"
   },
   {
    "duration": 407,
    "start_time": "2022-03-31T16:28:54.968Z"
   },
   {
    "duration": 141,
    "start_time": "2022-03-31T16:29:16.823Z"
   },
   {
    "duration": 558,
    "start_time": "2022-03-31T16:29:51.128Z"
   },
   {
    "duration": 100,
    "start_time": "2022-03-31T16:29:58.057Z"
   },
   {
    "duration": 4,
    "start_time": "2022-03-31T16:30:07.218Z"
   },
   {
    "duration": 113,
    "start_time": "2022-03-31T16:30:07.225Z"
   },
   {
    "duration": 11,
    "start_time": "2022-03-31T16:30:07.341Z"
   },
   {
    "duration": 13,
    "start_time": "2022-03-31T16:30:07.375Z"
   },
   {
    "duration": 36,
    "start_time": "2022-03-31T16:30:07.391Z"
   },
   {
    "duration": 56,
    "start_time": "2022-03-31T16:30:07.429Z"
   },
   {
    "duration": 15,
    "start_time": "2022-03-31T16:30:07.487Z"
   },
   {
    "duration": 31,
    "start_time": "2022-03-31T16:30:07.505Z"
   },
   {
    "duration": 294,
    "start_time": "2022-03-31T16:30:07.538Z"
   },
   {
    "duration": 87,
    "start_time": "2022-03-31T16:30:07.835Z"
   },
   {
    "duration": 1472,
    "start_time": "2022-03-31T16:30:07.927Z"
   },
   {
    "duration": 189,
    "start_time": "2022-03-31T16:30:09.402Z"
   },
   {
    "duration": 299,
    "start_time": "2022-03-31T16:30:09.675Z"
   },
   {
    "duration": 56,
    "start_time": "2022-03-31T16:30:09.977Z"
   },
   {
    "duration": 8,
    "start_time": "2022-03-31T16:30:10.036Z"
   },
   {
    "duration": 50,
    "start_time": "2022-03-31T16:30:10.047Z"
   },
   {
    "duration": 580,
    "start_time": "2022-03-31T16:30:10.100Z"
   },
   {
    "duration": 17,
    "start_time": "2022-03-31T16:30:10.683Z"
   },
   {
    "duration": 153,
    "start_time": "2022-03-31T16:30:11.700Z"
   },
   {
    "duration": 19,
    "start_time": "2022-03-31T16:30:42.666Z"
   },
   {
    "duration": 296,
    "start_time": "2022-03-31T16:31:33.367Z"
   },
   {
    "duration": 15,
    "start_time": "2022-03-31T16:32:12.931Z"
   },
   {
    "duration": 5,
    "start_time": "2022-03-31T16:32:24.259Z"
   },
   {
    "duration": 12,
    "start_time": "2022-03-31T16:32:32.641Z"
   },
   {
    "duration": 47,
    "start_time": "2022-03-31T16:33:42.465Z"
   },
   {
    "duration": 48,
    "start_time": "2022-03-31T16:34:31.391Z"
   },
   {
    "duration": 74,
    "start_time": "2022-03-31T16:34:39.517Z"
   },
   {
    "duration": 106,
    "start_time": "2022-03-31T16:35:47.025Z"
   },
   {
    "duration": 121,
    "start_time": "2022-03-31T16:35:55.410Z"
   },
   {
    "duration": 74,
    "start_time": "2022-03-31T16:36:25.850Z"
   },
   {
    "duration": 76,
    "start_time": "2022-03-31T16:36:32.261Z"
   },
   {
    "duration": 219,
    "start_time": "2022-03-31T16:46:42.056Z"
   },
   {
    "duration": 224,
    "start_time": "2022-03-31T16:47:18.887Z"
   },
   {
    "duration": 196,
    "start_time": "2022-03-31T16:47:57.205Z"
   },
   {
    "duration": 195,
    "start_time": "2022-03-31T16:48:40.558Z"
   },
   {
    "duration": 46,
    "start_time": "2022-03-31T16:50:28.254Z"
   },
   {
    "duration": 41,
    "start_time": "2022-03-31T16:50:50.629Z"
   },
   {
    "duration": 51,
    "start_time": "2022-03-31T16:50:59.956Z"
   },
   {
    "duration": 38,
    "start_time": "2022-03-31T16:51:43.476Z"
   },
   {
    "duration": 212,
    "start_time": "2022-03-31T16:52:00.195Z"
   },
   {
    "duration": 33,
    "start_time": "2022-03-31T16:52:03.561Z"
   },
   {
    "duration": 35,
    "start_time": "2022-03-31T16:52:22.893Z"
   },
   {
    "duration": 37,
    "start_time": "2022-03-31T16:52:34.525Z"
   },
   {
    "duration": 427,
    "start_time": "2022-03-31T16:54:17.145Z"
   },
   {
    "duration": 397,
    "start_time": "2022-03-31T16:54:52.405Z"
   },
   {
    "duration": 25,
    "start_time": "2022-03-31T17:00:54.356Z"
   },
   {
    "duration": 7,
    "start_time": "2022-03-31T17:01:02.552Z"
   },
   {
    "duration": 23,
    "start_time": "2022-03-31T17:01:05.023Z"
   },
   {
    "duration": 8,
    "start_time": "2022-03-31T17:04:02.423Z"
   },
   {
    "duration": 28,
    "start_time": "2022-03-31T17:04:31.090Z"
   },
   {
    "duration": 27,
    "start_time": "2022-03-31T17:05:14.758Z"
   },
   {
    "duration": 10,
    "start_time": "2022-03-31T17:05:31.548Z"
   },
   {
    "duration": 7,
    "start_time": "2022-03-31T17:05:38.548Z"
   },
   {
    "duration": 22,
    "start_time": "2022-03-31T17:05:47.711Z"
   },
   {
    "duration": 7,
    "start_time": "2022-03-31T17:05:58.021Z"
   },
   {
    "duration": 8,
    "start_time": "2022-03-31T17:06:04.229Z"
   },
   {
    "duration": 8,
    "start_time": "2022-03-31T17:06:14.161Z"
   },
   {
    "duration": 18,
    "start_time": "2022-03-31T17:09:27.533Z"
   },
   {
    "duration": 14,
    "start_time": "2022-03-31T17:10:04.733Z"
   },
   {
    "duration": 8,
    "start_time": "2022-03-31T17:11:26.056Z"
   },
   {
    "duration": 8,
    "start_time": "2022-03-31T17:11:28.940Z"
   },
   {
    "duration": 22,
    "start_time": "2022-03-31T17:11:41.441Z"
   },
   {
    "duration": 8,
    "start_time": "2022-03-31T17:12:04.249Z"
   },
   {
    "duration": 7,
    "start_time": "2022-03-31T17:12:10.179Z"
   },
   {
    "duration": 25,
    "start_time": "2022-03-31T17:12:15.499Z"
   },
   {
    "duration": 149,
    "start_time": "2022-03-31T17:12:57.967Z"
   },
   {
    "duration": 147,
    "start_time": "2022-03-31T17:13:41.081Z"
   },
   {
    "duration": 34,
    "start_time": "2022-03-31T17:13:44.861Z"
   },
   {
    "duration": 37,
    "start_time": "2022-03-31T17:13:54.031Z"
   },
   {
    "duration": 34,
    "start_time": "2022-03-31T17:13:59.484Z"
   },
   {
    "duration": 34,
    "start_time": "2022-03-31T17:14:16.038Z"
   },
   {
    "duration": 36,
    "start_time": "2022-03-31T17:14:41.890Z"
   },
   {
    "duration": 36,
    "start_time": "2022-03-31T17:15:01.112Z"
   },
   {
    "duration": 175,
    "start_time": "2022-03-31T17:15:45.125Z"
   },
   {
    "duration": 176,
    "start_time": "2022-03-31T17:15:53.056Z"
   },
   {
    "duration": 180,
    "start_time": "2022-03-31T17:16:21.123Z"
   },
   {
    "duration": 177,
    "start_time": "2022-03-31T17:18:54.173Z"
   },
   {
    "duration": 311,
    "start_time": "2022-03-31T17:19:29.175Z"
   },
   {
    "duration": 5,
    "start_time": "2022-03-31T17:19:35.484Z"
   },
   {
    "duration": 141,
    "start_time": "2022-03-31T17:19:35.493Z"
   },
   {
    "duration": 38,
    "start_time": "2022-03-31T17:19:35.638Z"
   },
   {
    "duration": 25,
    "start_time": "2022-03-31T17:19:35.679Z"
   },
   {
    "duration": 39,
    "start_time": "2022-03-31T17:19:35.707Z"
   },
   {
    "duration": 44,
    "start_time": "2022-03-31T17:19:35.748Z"
   },
   {
    "duration": 14,
    "start_time": "2022-03-31T17:19:35.794Z"
   },
   {
    "duration": 22,
    "start_time": "2022-03-31T17:19:35.810Z"
   },
   {
    "duration": 197,
    "start_time": "2022-03-31T17:19:35.835Z"
   },
   {
    "duration": 73,
    "start_time": "2022-03-31T17:19:36.035Z"
   },
   {
    "duration": 1028,
    "start_time": "2022-03-31T17:19:36.113Z"
   },
   {
    "duration": 132,
    "start_time": "2022-03-31T17:19:37.143Z"
   },
   {
    "duration": 287,
    "start_time": "2022-03-31T17:19:37.279Z"
   },
   {
    "duration": 38,
    "start_time": "2022-03-31T17:19:37.573Z"
   },
   {
    "duration": 6,
    "start_time": "2022-03-31T17:19:37.614Z"
   },
   {
    "duration": 31,
    "start_time": "2022-03-31T17:19:37.623Z"
   },
   {
    "duration": 405,
    "start_time": "2022-03-31T17:19:37.656Z"
   },
   {
    "duration": 19,
    "start_time": "2022-03-31T17:19:38.064Z"
   },
   {
    "duration": 113,
    "start_time": "2022-03-31T17:19:38.085Z"
   },
   {
    "duration": 224,
    "start_time": "2022-03-31T17:19:38.201Z"
   },
   {
    "duration": 90,
    "start_time": "2022-03-31T17:19:38.428Z"
   },
   {
    "duration": 224,
    "start_time": "2022-03-31T17:19:38.521Z"
   },
   {
    "duration": 317,
    "start_time": "2022-03-31T17:19:38.748Z"
   },
   {
    "duration": 38,
    "start_time": "2022-03-31T17:19:39.073Z"
   },
   {
    "duration": 111202,
    "start_time": "2022-03-31T17:19:39.114Z"
   },
   {
    "duration": 0,
    "start_time": "2022-03-31T17:21:30.319Z"
   },
   {
    "duration": 290,
    "start_time": "2022-03-31T17:21:32.511Z"
   },
   {
    "duration": 283,
    "start_time": "2022-03-31T17:22:35.080Z"
   },
   {
    "duration": 286,
    "start_time": "2022-03-31T17:23:05.988Z"
   },
   {
    "duration": 282,
    "start_time": "2022-03-31T17:23:19.580Z"
   },
   {
    "duration": 295,
    "start_time": "2022-03-31T17:24:14.456Z"
   },
   {
    "duration": 453,
    "start_time": "2022-03-31T17:24:30.872Z"
   },
   {
    "duration": 55,
    "start_time": "2022-03-31T17:24:48.498Z"
   },
   {
    "duration": 6,
    "start_time": "2022-03-31T17:29:13.903Z"
   },
   {
    "duration": 112,
    "start_time": "2022-03-31T17:29:13.914Z"
   },
   {
    "duration": 11,
    "start_time": "2022-03-31T17:29:14.028Z"
   },
   {
    "duration": 39,
    "start_time": "2022-03-31T17:29:14.041Z"
   },
   {
    "duration": 37,
    "start_time": "2022-03-31T17:29:14.083Z"
   },
   {
    "duration": 52,
    "start_time": "2022-03-31T17:29:14.122Z"
   },
   {
    "duration": 14,
    "start_time": "2022-03-31T17:29:14.177Z"
   },
   {
    "duration": 23,
    "start_time": "2022-03-31T17:29:14.193Z"
   },
   {
    "duration": 189,
    "start_time": "2022-03-31T17:29:14.218Z"
   },
   {
    "duration": 70,
    "start_time": "2022-03-31T17:29:14.410Z"
   },
   {
    "duration": 1006,
    "start_time": "2022-03-31T17:29:14.485Z"
   },
   {
    "duration": 182,
    "start_time": "2022-03-31T17:29:15.493Z"
   },
   {
    "duration": 288,
    "start_time": "2022-03-31T17:29:15.679Z"
   },
   {
    "duration": 35,
    "start_time": "2022-03-31T17:29:15.969Z"
   },
   {
    "duration": 5,
    "start_time": "2022-03-31T17:29:16.006Z"
   },
   {
    "duration": 15,
    "start_time": "2022-03-31T17:29:16.014Z"
   },
   {
    "duration": 424,
    "start_time": "2022-03-31T17:29:16.031Z"
   },
   {
    "duration": 21,
    "start_time": "2022-03-31T17:29:16.457Z"
   },
   {
    "duration": 106,
    "start_time": "2022-03-31T17:29:16.481Z"
   },
   {
    "duration": 4,
    "start_time": "2022-03-31T17:29:16.589Z"
   },
   {
    "duration": 93,
    "start_time": "2022-03-31T17:29:16.595Z"
   },
   {
    "duration": 220,
    "start_time": "2022-03-31T17:29:16.690Z"
   },
   {
    "duration": 311,
    "start_time": "2022-03-31T17:29:16.912Z"
   },
   {
    "duration": 48,
    "start_time": "2022-03-31T17:29:17.225Z"
   },
   {
    "duration": 0,
    "start_time": "2022-03-31T17:29:52.213Z"
   },
   {
    "duration": 0,
    "start_time": "2022-03-31T17:29:52.215Z"
   },
   {
    "duration": 0,
    "start_time": "2022-03-31T17:29:52.216Z"
   },
   {
    "duration": 0,
    "start_time": "2022-03-31T17:29:52.217Z"
   },
   {
    "duration": 0,
    "start_time": "2022-03-31T17:29:52.219Z"
   },
   {
    "duration": 0,
    "start_time": "2022-03-31T17:29:52.220Z"
   },
   {
    "duration": 0,
    "start_time": "2022-03-31T17:29:52.221Z"
   },
   {
    "duration": 0,
    "start_time": "2022-03-31T17:29:52.222Z"
   },
   {
    "duration": 0,
    "start_time": "2022-03-31T17:29:52.223Z"
   },
   {
    "duration": 0,
    "start_time": "2022-03-31T17:29:52.224Z"
   },
   {
    "duration": 0,
    "start_time": "2022-03-31T17:29:52.226Z"
   },
   {
    "duration": 0,
    "start_time": "2022-03-31T17:29:52.227Z"
   },
   {
    "duration": 0,
    "start_time": "2022-03-31T17:29:52.228Z"
   },
   {
    "duration": 0,
    "start_time": "2022-03-31T17:29:52.230Z"
   },
   {
    "duration": 0,
    "start_time": "2022-03-31T17:29:52.231Z"
   },
   {
    "duration": 0,
    "start_time": "2022-03-31T17:29:52.233Z"
   },
   {
    "duration": 0,
    "start_time": "2022-03-31T17:29:52.274Z"
   },
   {
    "duration": 0,
    "start_time": "2022-03-31T17:29:52.276Z"
   },
   {
    "duration": 0,
    "start_time": "2022-03-31T17:29:52.277Z"
   },
   {
    "duration": 0,
    "start_time": "2022-03-31T17:29:52.279Z"
   },
   {
    "duration": 0,
    "start_time": "2022-03-31T17:29:52.280Z"
   },
   {
    "duration": 0,
    "start_time": "2022-03-31T17:29:52.282Z"
   },
   {
    "duration": 0,
    "start_time": "2022-03-31T17:29:52.283Z"
   },
   {
    "duration": 0,
    "start_time": "2022-03-31T17:29:52.285Z"
   },
   {
    "duration": 0,
    "start_time": "2022-03-31T17:29:52.286Z"
   },
   {
    "duration": 6,
    "start_time": "2022-03-31T17:30:14.702Z"
   },
   {
    "duration": 119,
    "start_time": "2022-03-31T17:30:14.711Z"
   },
   {
    "duration": 12,
    "start_time": "2022-03-31T17:30:14.832Z"
   },
   {
    "duration": 33,
    "start_time": "2022-03-31T17:30:14.846Z"
   },
   {
    "duration": 36,
    "start_time": "2022-03-31T17:30:14.882Z"
   },
   {
    "duration": 53,
    "start_time": "2022-03-31T17:30:14.920Z"
   },
   {
    "duration": 13,
    "start_time": "2022-03-31T17:30:14.976Z"
   },
   {
    "duration": 25,
    "start_time": "2022-03-31T17:30:14.991Z"
   },
   {
    "duration": 201,
    "start_time": "2022-03-31T17:30:15.019Z"
   },
   {
    "duration": 67,
    "start_time": "2022-03-31T17:30:15.222Z"
   },
   {
    "duration": 1022,
    "start_time": "2022-03-31T17:30:15.291Z"
   },
   {
    "duration": 159,
    "start_time": "2022-03-31T17:30:16.315Z"
   },
   {
    "duration": 302,
    "start_time": "2022-03-31T17:30:16.478Z"
   },
   {
    "duration": 36,
    "start_time": "2022-03-31T17:30:19.780Z"
   },
   {
    "duration": 5,
    "start_time": "2022-03-31T17:30:27.092Z"
   },
   {
    "duration": 12,
    "start_time": "2022-03-31T17:30:28.065Z"
   },
   {
    "duration": 395,
    "start_time": "2022-03-31T17:30:28.495Z"
   },
   {
    "duration": 13,
    "start_time": "2022-03-31T17:30:44.138Z"
   },
   {
    "duration": 102,
    "start_time": "2022-03-31T17:30:45.039Z"
   },
   {
    "duration": 101,
    "start_time": "2022-03-31T17:31:36.488Z"
   },
   {
    "duration": 401,
    "start_time": "2022-03-31T17:32:38.238Z"
   },
   {
    "duration": 5,
    "start_time": "2022-03-31T17:32:53.857Z"
   },
   {
    "duration": 128,
    "start_time": "2022-03-31T17:32:53.865Z"
   },
   {
    "duration": 11,
    "start_time": "2022-03-31T17:32:53.996Z"
   },
   {
    "duration": 12,
    "start_time": "2022-03-31T17:32:54.010Z"
   },
   {
    "duration": 65,
    "start_time": "2022-03-31T17:32:54.025Z"
   },
   {
    "duration": 27,
    "start_time": "2022-03-31T17:32:54.092Z"
   },
   {
    "duration": 13,
    "start_time": "2022-03-31T17:32:54.121Z"
   },
   {
    "duration": 47,
    "start_time": "2022-03-31T17:32:54.136Z"
   },
   {
    "duration": 241,
    "start_time": "2022-03-31T17:32:54.185Z"
   },
   {
    "duration": 67,
    "start_time": "2022-03-31T17:32:54.428Z"
   },
   {
    "duration": 1040,
    "start_time": "2022-03-31T17:32:54.499Z"
   },
   {
    "duration": 134,
    "start_time": "2022-03-31T17:32:55.542Z"
   },
   {
    "duration": 286,
    "start_time": "2022-03-31T17:32:55.680Z"
   },
   {
    "duration": 40,
    "start_time": "2022-03-31T17:32:55.968Z"
   },
   {
    "duration": 5,
    "start_time": "2022-03-31T17:32:56.011Z"
   },
   {
    "duration": 22,
    "start_time": "2022-03-31T17:32:56.019Z"
   },
   {
    "duration": 445,
    "start_time": "2022-03-31T17:32:56.043Z"
   },
   {
    "duration": 410,
    "start_time": "2022-03-31T17:32:56.490Z"
   },
   {
    "duration": 13,
    "start_time": "2022-03-31T17:33:08.073Z"
   },
   {
    "duration": 96,
    "start_time": "2022-03-31T17:33:09.003Z"
   },
   {
    "duration": 98,
    "start_time": "2022-03-31T17:33:55.217Z"
   },
   {
    "duration": 80773,
    "start_time": "2022-03-31T17:35:44.058Z"
   },
   {
    "duration": 50271,
    "start_time": "2022-03-31T17:37:19.843Z"
   },
   {
    "duration": 420,
    "start_time": "2022-03-31T17:38:23.582Z"
   },
   {
    "duration": 407,
    "start_time": "2022-03-31T17:38:33.817Z"
   },
   {
    "duration": 10092,
    "start_time": "2022-03-31T17:38:59.299Z"
   },
   {
    "duration": 19341,
    "start_time": "2022-03-31T17:39:13.334Z"
   },
   {
    "duration": 9196,
    "start_time": "2022-03-31T17:39:48.762Z"
   },
   {
    "duration": 48602,
    "start_time": "2022-03-31T17:40:01.044Z"
   },
   {
    "duration": 3963,
    "start_time": "2022-03-31T17:40:56.969Z"
   },
   {
    "duration": 414,
    "start_time": "2022-03-31T17:41:05.717Z"
   },
   {
    "duration": 58,
    "start_time": "2022-03-31T17:41:09.965Z"
   },
   {
    "duration": 6,
    "start_time": "2022-03-31T17:41:14.058Z"
   },
   {
    "duration": 12,
    "start_time": "2022-03-31T17:41:14.509Z"
   },
   {
    "duration": 394,
    "start_time": "2022-03-31T17:41:14.972Z"
   },
   {
    "duration": 985,
    "start_time": "2022-03-31T17:41:33.623Z"
   },
   {
    "duration": 879,
    "start_time": "2022-03-31T17:41:41.834Z"
   },
   {
    "duration": 201,
    "start_time": "2022-03-31T17:42:01.168Z"
   },
   {
    "duration": 211,
    "start_time": "2022-03-31T17:42:08.101Z"
   },
   {
    "duration": 600,
    "start_time": "2022-03-31T17:42:50.494Z"
   },
   {
    "duration": 602,
    "start_time": "2022-03-31T17:43:06.607Z"
   },
   {
    "duration": 604,
    "start_time": "2022-03-31T17:44:22.144Z"
   },
   {
    "duration": 603,
    "start_time": "2022-03-31T17:45:07.940Z"
   },
   {
    "duration": 60,
    "start_time": "2022-03-31T17:45:48.462Z"
   },
   {
    "duration": 534,
    "start_time": "2022-03-31T17:45:57.601Z"
   },
   {
    "duration": 63,
    "start_time": "2022-03-31T17:45:59.214Z"
   },
   {
    "duration": 614,
    "start_time": "2022-03-31T17:46:09.761Z"
   },
   {
    "duration": 8,
    "start_time": "2022-03-31T17:46:35.193Z"
   },
   {
    "duration": 26,
    "start_time": "2022-03-31T17:46:41.140Z"
   },
   {
    "duration": 23,
    "start_time": "2022-03-31T17:47:44.609Z"
   },
   {
    "duration": 169,
    "start_time": "2022-03-31T17:47:47.092Z"
   },
   {
    "duration": 53,
    "start_time": "2022-03-31T17:47:50.043Z"
   },
   {
    "duration": 1095,
    "start_time": "2022-03-31T17:47:52.014Z"
   },
   {
    "duration": 93,
    "start_time": "2022-03-31T17:47:54.882Z"
   },
   {
    "duration": 422,
    "start_time": "2022-03-31T17:48:01.237Z"
   },
   {
    "duration": 61,
    "start_time": "2022-03-31T17:48:04.191Z"
   },
   {
    "duration": 26,
    "start_time": "2022-03-31T17:48:09.994Z"
   },
   {
    "duration": 89896,
    "start_time": "2022-03-31T17:49:55.077Z"
   },
   {
    "duration": 49887,
    "start_time": "2022-03-31T17:52:17.338Z"
   },
   {
    "duration": 57,
    "start_time": "2022-03-31T17:53:30.795Z"
   },
   {
    "duration": 5,
    "start_time": "2022-03-31T17:54:12.759Z"
   },
   {
    "duration": 11,
    "start_time": "2022-03-31T17:54:15.171Z"
   },
   {
    "duration": 908,
    "start_time": "2022-03-31T17:54:15.717Z"
   },
   {
    "duration": 15,
    "start_time": "2022-03-31T17:54:56.219Z"
   },
   {
    "duration": 201,
    "start_time": "2022-03-31T17:54:58.987Z"
   },
   {
    "duration": 621,
    "start_time": "2022-03-31T17:55:21.630Z"
   },
   {
    "duration": 394,
    "start_time": "2022-03-31T17:59:34.046Z"
   },
   {
    "duration": 463,
    "start_time": "2022-03-31T18:00:11.686Z"
   },
   {
    "duration": 229,
    "start_time": "2022-03-31T18:00:50.597Z"
   },
   {
    "duration": 879,
    "start_time": "2022-03-31T18:01:37.869Z"
   },
   {
    "duration": 60,
    "start_time": "2022-03-31T18:02:09.969Z"
   },
   {
    "duration": 424,
    "start_time": "2022-03-31T18:04:07.931Z"
   },
   {
    "duration": 197,
    "start_time": "2022-03-31T18:04:26.360Z"
   },
   {
    "duration": 53,
    "start_time": "2022-03-31T18:05:12.844Z"
   },
   {
    "duration": 452,
    "start_time": "2022-03-31T18:06:20.264Z"
   },
   {
    "duration": 441,
    "start_time": "2022-03-31T18:06:33.172Z"
   },
   {
    "duration": 57,
    "start_time": "2022-03-31T18:09:51.017Z"
   },
   {
    "duration": 57,
    "start_time": "2022-03-31T18:10:32.718Z"
   },
   {
    "duration": 851,
    "start_time": "2022-03-31T18:10:47.007Z"
   },
   {
    "duration": 861,
    "start_time": "2022-03-31T18:10:55.262Z"
   },
   {
    "duration": 192,
    "start_time": "2022-03-31T18:11:20.359Z"
   },
   {
    "duration": 191,
    "start_time": "2022-03-31T18:11:34.971Z"
   },
   {
    "duration": 86,
    "start_time": "2022-03-31T18:12:24.081Z"
   },
   {
    "duration": 672,
    "start_time": "2022-03-31T18:12:30.130Z"
   },
   {
    "duration": 60,
    "start_time": "2022-03-31T18:12:58.369Z"
   },
   {
    "duration": 59,
    "start_time": "2022-03-31T18:13:18.520Z"
   },
   {
    "duration": 54,
    "start_time": "2022-03-31T18:13:43.092Z"
   },
   {
    "duration": 53,
    "start_time": "2022-03-31T18:14:01.011Z"
   },
   {
    "duration": 12,
    "start_time": "2022-03-31T18:17:23.866Z"
   },
   {
    "duration": 6,
    "start_time": "2022-03-31T18:17:37.361Z"
   },
   {
    "duration": 12,
    "start_time": "2022-03-31T18:17:41.294Z"
   },
   {
    "duration": 11,
    "start_time": "2022-03-31T18:17:47.704Z"
   },
   {
    "duration": 13,
    "start_time": "2022-03-31T18:19:44.247Z"
   },
   {
    "duration": 57,
    "start_time": "2022-03-31T18:20:07.981Z"
   },
   {
    "duration": 17,
    "start_time": "2022-03-31T18:20:11.635Z"
   },
   {
    "duration": 13,
    "start_time": "2022-03-31T18:20:29.601Z"
   },
   {
    "duration": 20,
    "start_time": "2022-03-31T18:21:01.303Z"
   },
   {
    "duration": 14,
    "start_time": "2022-03-31T18:21:39.239Z"
   },
   {
    "duration": 18,
    "start_time": "2022-03-31T18:21:59.849Z"
   },
   {
    "duration": 18,
    "start_time": "2022-03-31T18:22:26.476Z"
   },
   {
    "duration": 14,
    "start_time": "2022-03-31T18:23:03.819Z"
   },
   {
    "duration": 14,
    "start_time": "2022-03-31T18:23:05.541Z"
   },
   {
    "duration": 221,
    "start_time": "2022-03-31T18:23:16.559Z"
   },
   {
    "duration": 212,
    "start_time": "2022-03-31T18:23:31.118Z"
   },
   {
    "duration": 62,
    "start_time": "2022-03-31T18:23:48.122Z"
   },
   {
    "duration": 54,
    "start_time": "2022-03-31T18:23:50.158Z"
   },
   {
    "duration": 430,
    "start_time": "2022-03-31T18:25:13.672Z"
   },
   {
    "duration": 552,
    "start_time": "2022-03-31T18:25:37.456Z"
   },
   {
    "duration": 914,
    "start_time": "2022-03-31T18:26:32.176Z"
   },
   {
    "duration": 61,
    "start_time": "2022-03-31T18:26:54.300Z"
   },
   {
    "duration": 60,
    "start_time": "2022-03-31T18:27:15.824Z"
   },
   {
    "duration": 62,
    "start_time": "2022-03-31T18:27:23.396Z"
   },
   {
    "duration": 56,
    "start_time": "2022-03-31T18:27:35.623Z"
   },
   {
    "duration": 14,
    "start_time": "2022-03-31T18:27:39.424Z"
   },
   {
    "duration": 19,
    "start_time": "2022-03-31T18:28:19.886Z"
   },
   {
    "duration": 14,
    "start_time": "2022-03-31T18:29:03.688Z"
   },
   {
    "duration": 5,
    "start_time": "2022-03-31T18:31:34.615Z"
   },
   {
    "duration": 118,
    "start_time": "2022-03-31T18:31:34.624Z"
   },
   {
    "duration": 34,
    "start_time": "2022-03-31T18:31:34.745Z"
   },
   {
    "duration": 13,
    "start_time": "2022-03-31T18:31:34.782Z"
   },
   {
    "duration": 36,
    "start_time": "2022-03-31T18:31:34.798Z"
   },
   {
    "duration": 62,
    "start_time": "2022-03-31T18:31:34.837Z"
   },
   {
    "duration": 15,
    "start_time": "2022-03-31T18:31:34.901Z"
   },
   {
    "duration": 55,
    "start_time": "2022-03-31T18:31:34.919Z"
   },
   {
    "duration": 183,
    "start_time": "2022-03-31T18:31:34.976Z"
   },
   {
    "duration": 63,
    "start_time": "2022-03-31T18:31:35.162Z"
   },
   {
    "duration": 1055,
    "start_time": "2022-03-31T18:31:35.231Z"
   },
   {
    "duration": 189,
    "start_time": "2022-03-31T18:31:36.289Z"
   },
   {
    "duration": 93036,
    "start_time": "2022-03-31T18:31:36.482Z"
   },
   {
    "duration": 47376,
    "start_time": "2022-03-31T18:33:09.520Z"
   },
   {
    "duration": 449,
    "start_time": "2022-03-31T18:33:56.898Z"
   },
   {
    "duration": 6,
    "start_time": "2022-03-31T18:33:57.349Z"
   },
   {
    "duration": 22,
    "start_time": "2022-03-31T18:33:57.357Z"
   },
   {
    "duration": 991,
    "start_time": "2022-03-31T18:33:57.382Z"
   },
   {
    "duration": 15,
    "start_time": "2022-03-31T18:33:58.375Z"
   },
   {
    "duration": 216,
    "start_time": "2022-03-31T18:33:58.392Z"
   },
   {
    "duration": 450,
    "start_time": "2022-03-31T18:33:58.610Z"
   },
   {
    "duration": 66,
    "start_time": "2022-03-31T18:33:59.062Z"
   },
   {
    "duration": 82,
    "start_time": "2022-03-31T18:33:59.130Z"
   },
   {
    "duration": 63,
    "start_time": "2022-03-31T18:33:59.214Z"
   },
   {
    "duration": 14,
    "start_time": "2022-03-31T18:33:59.279Z"
   },
   {
    "duration": 691,
    "start_time": "2022-03-31T18:34:31.710Z"
   },
   {
    "duration": 40693,
    "start_time": "2022-03-31T18:35:27.782Z"
   },
   {
    "duration": 5,
    "start_time": "2022-03-31T18:36:31.681Z"
   },
   {
    "duration": 130,
    "start_time": "2022-03-31T18:36:31.690Z"
   },
   {
    "duration": 12,
    "start_time": "2022-03-31T18:36:31.822Z"
   },
   {
    "duration": 38,
    "start_time": "2022-03-31T18:36:31.836Z"
   },
   {
    "duration": 38,
    "start_time": "2022-03-31T18:36:31.877Z"
   },
   {
    "duration": 29,
    "start_time": "2022-03-31T18:36:31.917Z"
   },
   {
    "duration": 37,
    "start_time": "2022-03-31T18:36:31.948Z"
   },
   {
    "duration": 23,
    "start_time": "2022-03-31T18:36:31.987Z"
   },
   {
    "duration": 201,
    "start_time": "2022-03-31T18:36:32.012Z"
   },
   {
    "duration": 66,
    "start_time": "2022-03-31T18:36:32.215Z"
   },
   {
    "duration": 1022,
    "start_time": "2022-03-31T18:36:32.285Z"
   },
   {
    "duration": 166,
    "start_time": "2022-03-31T18:36:33.310Z"
   },
   {
    "duration": 95605,
    "start_time": "2022-03-31T18:36:33.480Z"
   },
   {
    "duration": 52679,
    "start_time": "2022-03-31T18:38:09.087Z"
   },
   {
    "duration": 461,
    "start_time": "2022-03-31T18:39:01.773Z"
   },
   {
    "duration": 6,
    "start_time": "2022-03-31T18:39:02.236Z"
   },
   {
    "duration": 31,
    "start_time": "2022-03-31T18:39:02.244Z"
   },
   {
    "duration": 910,
    "start_time": "2022-03-31T18:39:02.277Z"
   },
   {
    "duration": 12,
    "start_time": "2022-03-31T18:39:03.189Z"
   },
   {
    "duration": 219,
    "start_time": "2022-03-31T18:39:03.204Z"
   },
   {
    "duration": 468,
    "start_time": "2022-03-31T18:39:03.425Z"
   },
   {
    "duration": 60,
    "start_time": "2022-03-31T18:39:03.896Z"
   },
   {
    "duration": 62,
    "start_time": "2022-03-31T18:39:03.974Z"
   },
   {
    "duration": 102,
    "start_time": "2022-03-31T18:39:04.039Z"
   },
   {
    "duration": 31,
    "start_time": "2022-03-31T18:39:04.144Z"
   },
   {
    "duration": 676,
    "start_time": "2022-03-31T18:40:03.243Z"
   },
   {
    "duration": 1333,
    "start_time": "2022-04-01T11:50:51.737Z"
   },
   {
    "duration": 107,
    "start_time": "2022-04-01T11:50:53.072Z"
   },
   {
    "duration": 9,
    "start_time": "2022-04-01T11:50:53.181Z"
   },
   {
    "duration": 10,
    "start_time": "2022-04-01T11:50:53.192Z"
   },
   {
    "duration": 48,
    "start_time": "2022-04-01T11:50:53.204Z"
   },
   {
    "duration": 23,
    "start_time": "2022-04-01T11:50:53.254Z"
   },
   {
    "duration": 22,
    "start_time": "2022-04-01T11:50:53.278Z"
   },
   {
    "duration": 34,
    "start_time": "2022-04-01T11:50:53.302Z"
   },
   {
    "duration": 19,
    "start_time": "2022-04-01T11:50:53.338Z"
   },
   {
    "duration": 427,
    "start_time": "2022-04-01T11:50:53.359Z"
   },
   {
    "duration": 49,
    "start_time": "2022-04-01T11:50:53.788Z"
   },
   {
    "duration": 774,
    "start_time": "2022-04-01T11:50:53.839Z"
   },
   {
    "duration": 118,
    "start_time": "2022-04-01T11:50:54.615Z"
   },
   {
    "duration": 67435,
    "start_time": "2022-04-01T11:50:54.738Z"
   },
   {
    "duration": 34776,
    "start_time": "2022-04-01T11:52:02.175Z"
   },
   {
    "duration": 340,
    "start_time": "2022-04-01T11:52:36.953Z"
   },
   {
    "duration": 4,
    "start_time": "2022-04-01T11:52:37.295Z"
   },
   {
    "duration": 14,
    "start_time": "2022-04-01T11:52:37.301Z"
   },
   {
    "duration": 583,
    "start_time": "2022-04-01T11:52:37.317Z"
   },
   {
    "duration": 10,
    "start_time": "2022-04-01T11:52:37.902Z"
   },
   {
    "duration": 175,
    "start_time": "2022-04-01T11:52:37.913Z"
   },
   {
    "duration": 339,
    "start_time": "2022-04-01T11:52:38.090Z"
   },
   {
    "duration": 53,
    "start_time": "2022-04-01T11:52:38.431Z"
   },
   {
    "duration": 70,
    "start_time": "2022-04-01T11:52:38.486Z"
   },
   {
    "duration": 50,
    "start_time": "2022-04-01T11:52:38.558Z"
   },
   {
    "duration": 23,
    "start_time": "2022-04-01T11:52:38.610Z"
   },
   {
    "duration": 98,
    "start_time": "2022-04-01T12:28:31.592Z"
   },
   {
    "duration": 1150,
    "start_time": "2022-04-01T16:49:10.796Z"
   },
   {
    "duration": 89,
    "start_time": "2022-04-01T16:49:11.997Z"
   },
   {
    "duration": 10,
    "start_time": "2022-04-01T16:49:16.048Z"
   },
   {
    "duration": 10,
    "start_time": "2022-04-01T16:49:16.496Z"
   },
   {
    "duration": 24,
    "start_time": "2022-04-01T16:49:18.025Z"
   },
   {
    "duration": 24,
    "start_time": "2022-04-01T16:49:28.118Z"
   },
   {
    "duration": 437,
    "start_time": "2022-04-01T16:49:40.112Z"
   },
   {
    "duration": 24,
    "start_time": "2022-04-01T16:50:21.736Z"
   },
   {
    "duration": 29,
    "start_time": "2022-04-01T16:50:42.112Z"
   },
   {
    "duration": 21,
    "start_time": "2022-04-01T16:52:02.136Z"
   },
   {
    "duration": 335,
    "start_time": "2022-04-01T16:52:09.408Z"
   },
   {
    "duration": 9,
    "start_time": "2022-04-01T16:54:55.040Z"
   },
   {
    "duration": 4,
    "start_time": "2022-04-01T16:55:17.094Z"
   },
   {
    "duration": 336,
    "start_time": "2022-04-01T16:55:20.662Z"
   },
   {
    "duration": 205,
    "start_time": "2022-04-01T16:55:51.839Z"
   },
   {
    "duration": 171,
    "start_time": "2022-04-01T16:56:01.702Z"
   },
   {
    "duration": 190,
    "start_time": "2022-04-01T16:56:05.302Z"
   },
   {
    "duration": 41,
    "start_time": "2022-04-01T16:58:33.420Z"
   },
   {
    "duration": 19,
    "start_time": "2022-04-01T16:58:55.214Z"
   },
   {
    "duration": 37,
    "start_time": "2022-04-01T16:58:58.973Z"
   },
   {
    "duration": 46,
    "start_time": "2022-04-01T16:59:05.037Z"
   },
   {
    "duration": 4,
    "start_time": "2022-04-01T16:59:35.225Z"
   },
   {
    "duration": 82,
    "start_time": "2022-04-01T16:59:35.231Z"
   },
   {
    "duration": 9,
    "start_time": "2022-04-01T16:59:35.314Z"
   },
   {
    "duration": 8,
    "start_time": "2022-04-01T16:59:35.325Z"
   },
   {
    "duration": 23,
    "start_time": "2022-04-01T16:59:35.335Z"
   },
   {
    "duration": 42,
    "start_time": "2022-04-01T16:59:37.573Z"
   },
   {
    "duration": 422,
    "start_time": "2022-04-01T16:59:56.421Z"
   },
   {
    "duration": 347,
    "start_time": "2022-04-01T17:00:03.885Z"
   },
   {
    "duration": 10,
    "start_time": "2022-04-01T17:00:08.780Z"
   },
   {
    "duration": 336,
    "start_time": "2022-04-01T17:00:11.669Z"
   },
   {
    "duration": 14,
    "start_time": "2022-04-01T17:00:30.190Z"
   },
   {
    "duration": 13,
    "start_time": "2022-04-01T17:00:35.055Z"
   },
   {
    "duration": 18,
    "start_time": "2022-04-01T17:02:06.012Z"
   },
   {
    "duration": 42,
    "start_time": "2022-04-01T17:02:24.540Z"
   },
   {
    "duration": 3,
    "start_time": "2022-04-01T17:02:37.928Z"
   },
   {
    "duration": 83,
    "start_time": "2022-04-01T17:02:37.933Z"
   },
   {
    "duration": 8,
    "start_time": "2022-04-01T17:02:38.018Z"
   },
   {
    "duration": 12,
    "start_time": "2022-04-01T17:02:38.028Z"
   },
   {
    "duration": 25,
    "start_time": "2022-04-01T17:02:38.042Z"
   },
   {
    "duration": 2,
    "start_time": "2022-04-01T17:02:42.381Z"
   },
   {
    "duration": 35,
    "start_time": "2022-04-01T17:03:19.820Z"
   },
   {
    "duration": 47,
    "start_time": "2022-04-01T17:03:31.499Z"
   },
   {
    "duration": 38,
    "start_time": "2022-04-01T17:03:35.036Z"
   },
   {
    "duration": 2,
    "start_time": "2022-04-01T17:03:43.892Z"
   },
   {
    "duration": 39,
    "start_time": "2022-04-01T17:03:44.508Z"
   },
   {
    "duration": 20,
    "start_time": "2022-04-01T17:03:47.044Z"
   },
   {
    "duration": 3,
    "start_time": "2022-04-01T17:03:49.975Z"
   },
   {
    "duration": 77,
    "start_time": "2022-04-01T17:03:49.980Z"
   },
   {
    "duration": 8,
    "start_time": "2022-04-01T17:03:50.058Z"
   },
   {
    "duration": 8,
    "start_time": "2022-04-01T17:03:50.068Z"
   },
   {
    "duration": 21,
    "start_time": "2022-04-01T17:03:52.684Z"
   },
   {
    "duration": 4,
    "start_time": "2022-04-01T17:04:01.803Z"
   },
   {
    "duration": 77,
    "start_time": "2022-04-01T17:04:04.204Z"
   },
   {
    "duration": 9,
    "start_time": "2022-04-01T17:04:07.803Z"
   },
   {
    "duration": 9,
    "start_time": "2022-04-01T17:04:08.387Z"
   },
   {
    "duration": 24,
    "start_time": "2022-04-01T17:04:09.811Z"
   },
   {
    "duration": 2,
    "start_time": "2022-04-01T17:04:14.091Z"
   },
   {
    "duration": 36,
    "start_time": "2022-04-01T17:04:14.676Z"
   },
   {
    "duration": 225,
    "start_time": "2022-04-01T17:04:51.268Z"
   },
   {
    "duration": 14,
    "start_time": "2022-04-01T17:05:39.795Z"
   },
   {
    "duration": 271,
    "start_time": "2022-04-01T17:10:13.402Z"
   },
   {
    "duration": 4,
    "start_time": "2022-04-01T17:10:36.468Z"
   },
   {
    "duration": 85,
    "start_time": "2022-04-01T17:10:36.474Z"
   },
   {
    "duration": 10,
    "start_time": "2022-04-01T17:10:36.560Z"
   },
   {
    "duration": 9,
    "start_time": "2022-04-01T17:10:36.572Z"
   },
   {
    "duration": 41,
    "start_time": "2022-04-01T17:10:36.582Z"
   },
   {
    "duration": 3,
    "start_time": "2022-04-01T17:10:36.625Z"
   },
   {
    "duration": 3,
    "start_time": "2022-04-01T17:10:50.641Z"
   },
   {
    "duration": 4,
    "start_time": "2022-04-01T17:10:54.377Z"
   },
   {
    "duration": 75,
    "start_time": "2022-04-01T17:10:54.634Z"
   },
   {
    "duration": 9,
    "start_time": "2022-04-01T17:10:56.225Z"
   },
   {
    "duration": 10,
    "start_time": "2022-04-01T17:10:56.585Z"
   },
   {
    "duration": 2,
    "start_time": "2022-04-01T17:10:57.393Z"
   },
   {
    "duration": 3,
    "start_time": "2022-04-01T17:10:57.753Z"
   },
   {
    "duration": 253,
    "start_time": "2022-04-01T17:10:58.722Z"
   },
   {
    "duration": 24,
    "start_time": "2022-04-01T17:11:04.593Z"
   },
   {
    "duration": 2,
    "start_time": "2022-04-01T17:11:45.603Z"
   },
   {
    "duration": 3,
    "start_time": "2022-04-01T17:11:46.089Z"
   },
   {
    "duration": 260,
    "start_time": "2022-04-01T17:11:46.674Z"
   },
   {
    "duration": 16,
    "start_time": "2022-04-01T17:14:46.015Z"
   },
   {
    "duration": 19,
    "start_time": "2022-04-01T17:14:59.183Z"
   },
   {
    "duration": 248,
    "start_time": "2022-04-01T17:15:03.047Z"
   },
   {
    "duration": 237,
    "start_time": "2022-04-01T17:15:11.967Z"
   },
   {
    "duration": 24,
    "start_time": "2022-04-01T17:15:21.735Z"
   },
   {
    "duration": 3,
    "start_time": "2022-04-01T17:15:23.583Z"
   },
   {
    "duration": 248,
    "start_time": "2022-04-01T17:15:23.974Z"
   },
   {
    "duration": 10,
    "start_time": "2022-04-01T17:15:35.135Z"
   },
   {
    "duration": 3,
    "start_time": "2022-04-01T17:15:36.367Z"
   },
   {
    "duration": 236,
    "start_time": "2022-04-01T17:15:36.654Z"
   },
   {
    "duration": 36,
    "start_time": "2022-04-01T17:15:49.110Z"
   },
   {
    "duration": 4,
    "start_time": "2022-04-01T17:18:16.480Z"
   },
   {
    "duration": 97,
    "start_time": "2022-04-01T17:18:16.486Z"
   },
   {
    "duration": 25,
    "start_time": "2022-04-01T17:18:16.585Z"
   },
   {
    "duration": 11,
    "start_time": "2022-04-01T17:18:16.613Z"
   },
   {
    "duration": 12,
    "start_time": "2022-04-01T17:18:17.916Z"
   },
   {
    "duration": 2,
    "start_time": "2022-04-01T17:18:18.989Z"
   },
   {
    "duration": 240,
    "start_time": "2022-04-01T17:18:22.100Z"
   },
   {
    "duration": 11,
    "start_time": "2022-04-01T17:18:29.524Z"
   },
   {
    "duration": 33,
    "start_time": "2022-04-01T17:18:31.308Z"
   },
   {
    "duration": 550,
    "start_time": "2022-04-01T17:18:32.124Z"
   },
   {
    "duration": 40,
    "start_time": "2022-04-01T17:18:34.228Z"
   },
   {
    "duration": 687,
    "start_time": "2022-04-01T17:18:35.204Z"
   },
   {
    "duration": 109,
    "start_time": "2022-04-01T17:18:37.900Z"
   },
   {
    "duration": 61095,
    "start_time": "2022-04-01T17:18:41.332Z"
   },
   {
    "duration": 31156,
    "start_time": "2022-04-01T17:21:25.147Z"
   },
   {
    "duration": 30708,
    "start_time": "2022-04-01T17:22:25.065Z"
   },
   {
    "duration": 334,
    "start_time": "2022-04-01T17:23:18.914Z"
   },
   {
    "duration": 19,
    "start_time": "2022-04-01T17:23:34.257Z"
   },
   {
    "duration": 4,
    "start_time": "2022-04-01T17:23:38.665Z"
   },
   {
    "duration": 12,
    "start_time": "2022-04-01T17:23:39.057Z"
   },
   {
    "duration": 545,
    "start_time": "2022-04-01T17:23:39.545Z"
   },
   {
    "duration": 11,
    "start_time": "2022-04-01T17:23:46.648Z"
   },
   {
    "duration": 159,
    "start_time": "2022-04-01T17:23:53.817Z"
   },
   {
    "duration": 336,
    "start_time": "2022-04-01T17:24:12.081Z"
   },
   {
    "duration": 52,
    "start_time": "2022-04-01T17:24:20.969Z"
   },
   {
    "duration": 57,
    "start_time": "2022-04-01T17:24:22.073Z"
   },
   {
    "duration": 48,
    "start_time": "2022-04-01T17:24:23.432Z"
   },
   {
    "duration": 9,
    "start_time": "2022-04-01T17:24:25.249Z"
   },
   {
    "duration": 328,
    "start_time": "2022-04-01T17:26:24.202Z"
   },
   {
    "duration": 325,
    "start_time": "2022-04-01T17:28:19.846Z"
   },
   {
    "duration": 53,
    "start_time": "2022-04-01T17:28:23.246Z"
   },
   {
    "duration": 54,
    "start_time": "2022-04-01T17:28:24.710Z"
   },
   {
    "duration": 48,
    "start_time": "2022-04-01T17:28:30.254Z"
   },
   {
    "duration": 9,
    "start_time": "2022-04-01T17:28:31.880Z"
   },
   {
    "duration": 1588,
    "start_time": "2022-04-02T14:11:29.802Z"
   },
   {
    "duration": 129,
    "start_time": "2022-04-02T14:11:31.392Z"
   },
   {
    "duration": 15,
    "start_time": "2022-04-02T14:11:31.524Z"
   },
   {
    "duration": 35,
    "start_time": "2022-04-02T14:11:31.542Z"
   },
   {
    "duration": 13,
    "start_time": "2022-04-02T14:11:31.580Z"
   },
   {
    "duration": 27,
    "start_time": "2022-04-02T14:11:31.595Z"
   },
   {
    "duration": 313,
    "start_time": "2022-04-02T14:11:31.624Z"
   },
   {
    "duration": 29,
    "start_time": "2022-04-02T14:11:31.939Z"
   },
   {
    "duration": 34,
    "start_time": "2022-04-02T14:11:31.970Z"
   },
   {
    "duration": 772,
    "start_time": "2022-04-02T14:11:32.008Z"
   },
   {
    "duration": 53,
    "start_time": "2022-04-02T14:11:32.782Z"
   },
   {
    "duration": 943,
    "start_time": "2022-04-02T14:11:32.837Z"
   },
   {
    "duration": 88,
    "start_time": "2022-04-02T14:11:33.782Z"
   },
   {
    "duration": 83149,
    "start_time": "2022-04-02T14:11:33.874Z"
   },
   {
    "duration": 42653,
    "start_time": "2022-04-02T14:12:57.025Z"
   },
   {
    "duration": 450,
    "start_time": "2022-04-02T14:13:39.680Z"
   },
   {
    "duration": 6,
    "start_time": "2022-04-02T14:13:40.132Z"
   },
   {
    "duration": 34,
    "start_time": "2022-04-02T14:13:40.140Z"
   },
   {
    "duration": 845,
    "start_time": "2022-04-02T14:13:40.176Z"
   },
   {
    "duration": 18,
    "start_time": "2022-04-02T14:13:41.024Z"
   },
   {
    "duration": 233,
    "start_time": "2022-04-02T14:13:41.045Z"
   },
   {
    "duration": 436,
    "start_time": "2022-04-02T14:13:41.280Z"
   },
   {
    "duration": 69,
    "start_time": "2022-04-02T14:13:41.719Z"
   },
   {
    "duration": 59,
    "start_time": "2022-04-02T14:13:41.790Z"
   },
   {
    "duration": 68,
    "start_time": "2022-04-02T14:13:41.851Z"
   },
   {
    "duration": 14,
    "start_time": "2022-04-02T14:13:41.921Z"
   },
   {
    "duration": 95,
    "start_time": "2022-04-02T14:13:43.182Z"
   }
  ],
  "kernelspec": {
   "display_name": "Python 3 (ipykernel)",
   "language": "python",
   "name": "python3"
  },
  "language_info": {
   "codemirror_mode": {
    "name": "ipython",
    "version": 3
   },
   "file_extension": ".py",
   "mimetype": "text/x-python",
   "name": "python",
   "nbconvert_exporter": "python",
   "pygments_lexer": "ipython3",
   "version": "3.7.8"
  },
  "toc": {
   "base_numbering": 1,
   "nav_menu": {},
   "number_sections": true,
   "sideBar": true,
   "skip_h1_title": true,
   "title_cell": "Содержание",
   "title_sidebar": "Contents",
   "toc_cell": true,
   "toc_position": {},
   "toc_section_display": true,
   "toc_window_display": true
  }
 },
 "nbformat": 4,
 "nbformat_minor": 2
}
