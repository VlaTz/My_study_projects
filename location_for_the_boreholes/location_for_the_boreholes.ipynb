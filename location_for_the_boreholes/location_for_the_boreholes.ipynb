{
 "cells": [
  {
   "cell_type": "markdown",
   "metadata": {},
   "source": [
    "## Загрузка и подготовка данных"
   ]
  },
  {
   "cell_type": "code",
   "execution_count": 90,
   "metadata": {},
   "outputs": [],
   "source": [
    "import pandas as pd\n",
    "from sklearn.linear_model import LinearRegression\n",
    "from sklearn.model_selection import train_test_split\n",
    "from sklearn.metrics import mean_squared_error\n",
    "import matplotlib.pyplot as plt\n",
    "from numpy.random import RandomState\n",
    "from scipy import stats as st\n",
    "import numpy as np"
   ]
  },
  {
   "cell_type": "code",
   "execution_count": 91,
   "metadata": {},
   "outputs": [
    {
     "data": {
      "text/html": [
       "<div>\n",
       "<style scoped>\n",
       "    .dataframe tbody tr th:only-of-type {\n",
       "        vertical-align: middle;\n",
       "    }\n",
       "\n",
       "    .dataframe tbody tr th {\n",
       "        vertical-align: top;\n",
       "    }\n",
       "\n",
       "    .dataframe thead th {\n",
       "        text-align: right;\n",
       "    }\n",
       "</style>\n",
       "<table border=\"1\" class=\"dataframe\">\n",
       "  <thead>\n",
       "    <tr style=\"text-align: right;\">\n",
       "      <th></th>\n",
       "      <th>id</th>\n",
       "      <th>f0</th>\n",
       "      <th>f1</th>\n",
       "      <th>f2</th>\n",
       "      <th>product</th>\n",
       "    </tr>\n",
       "  </thead>\n",
       "  <tbody>\n",
       "    <tr>\n",
       "      <th>0</th>\n",
       "      <td>txEyH</td>\n",
       "      <td>0.705745</td>\n",
       "      <td>-0.497823</td>\n",
       "      <td>1.221170</td>\n",
       "      <td>105.280062</td>\n",
       "    </tr>\n",
       "    <tr>\n",
       "      <th>1</th>\n",
       "      <td>2acmU</td>\n",
       "      <td>1.334711</td>\n",
       "      <td>-0.340164</td>\n",
       "      <td>4.365080</td>\n",
       "      <td>73.037750</td>\n",
       "    </tr>\n",
       "    <tr>\n",
       "      <th>2</th>\n",
       "      <td>409Wp</td>\n",
       "      <td>1.022732</td>\n",
       "      <td>0.151990</td>\n",
       "      <td>1.419926</td>\n",
       "      <td>85.265647</td>\n",
       "    </tr>\n",
       "    <tr>\n",
       "      <th>3</th>\n",
       "      <td>iJLyR</td>\n",
       "      <td>-0.032172</td>\n",
       "      <td>0.139033</td>\n",
       "      <td>2.978566</td>\n",
       "      <td>168.620776</td>\n",
       "    </tr>\n",
       "    <tr>\n",
       "      <th>4</th>\n",
       "      <td>Xdl7t</td>\n",
       "      <td>1.988431</td>\n",
       "      <td>0.155413</td>\n",
       "      <td>4.751769</td>\n",
       "      <td>154.036647</td>\n",
       "    </tr>\n",
       "    <tr>\n",
       "      <th>...</th>\n",
       "      <td>...</td>\n",
       "      <td>...</td>\n",
       "      <td>...</td>\n",
       "      <td>...</td>\n",
       "      <td>...</td>\n",
       "    </tr>\n",
       "    <tr>\n",
       "      <th>99995</th>\n",
       "      <td>DLsed</td>\n",
       "      <td>0.971957</td>\n",
       "      <td>0.370953</td>\n",
       "      <td>6.075346</td>\n",
       "      <td>110.744026</td>\n",
       "    </tr>\n",
       "    <tr>\n",
       "      <th>99996</th>\n",
       "      <td>QKivN</td>\n",
       "      <td>1.392429</td>\n",
       "      <td>-0.382606</td>\n",
       "      <td>1.273912</td>\n",
       "      <td>122.346843</td>\n",
       "    </tr>\n",
       "    <tr>\n",
       "      <th>99997</th>\n",
       "      <td>3rnvd</td>\n",
       "      <td>1.029585</td>\n",
       "      <td>0.018787</td>\n",
       "      <td>-1.348308</td>\n",
       "      <td>64.375443</td>\n",
       "    </tr>\n",
       "    <tr>\n",
       "      <th>99998</th>\n",
       "      <td>7kl59</td>\n",
       "      <td>0.998163</td>\n",
       "      <td>-0.528582</td>\n",
       "      <td>1.583869</td>\n",
       "      <td>74.040764</td>\n",
       "    </tr>\n",
       "    <tr>\n",
       "      <th>99999</th>\n",
       "      <td>1CWhH</td>\n",
       "      <td>1.764754</td>\n",
       "      <td>-0.266417</td>\n",
       "      <td>5.722849</td>\n",
       "      <td>149.633246</td>\n",
       "    </tr>\n",
       "  </tbody>\n",
       "</table>\n",
       "<p>100000 rows × 5 columns</p>\n",
       "</div>"
      ],
      "text/plain": [
       "          id        f0        f1        f2     product\n",
       "0      txEyH  0.705745 -0.497823  1.221170  105.280062\n",
       "1      2acmU  1.334711 -0.340164  4.365080   73.037750\n",
       "2      409Wp  1.022732  0.151990  1.419926   85.265647\n",
       "3      iJLyR -0.032172  0.139033  2.978566  168.620776\n",
       "4      Xdl7t  1.988431  0.155413  4.751769  154.036647\n",
       "...      ...       ...       ...       ...         ...\n",
       "99995  DLsed  0.971957  0.370953  6.075346  110.744026\n",
       "99996  QKivN  1.392429 -0.382606  1.273912  122.346843\n",
       "99997  3rnvd  1.029585  0.018787 -1.348308   64.375443\n",
       "99998  7kl59  0.998163 -0.528582  1.583869   74.040764\n",
       "99999  1CWhH  1.764754 -0.266417  5.722849  149.633246\n",
       "\n",
       "[100000 rows x 5 columns]"
      ]
     },
     "metadata": {},
     "output_type": "display_data"
    },
    {
     "name": "stdout",
     "output_type": "stream",
     "text": [
      "<class 'pandas.core.frame.DataFrame'>\n",
      "RangeIndex: 100000 entries, 0 to 99999\n",
      "Data columns (total 5 columns):\n",
      " #   Column   Non-Null Count   Dtype  \n",
      "---  ------   --------------   -----  \n",
      " 0   id       100000 non-null  object \n",
      " 1   f0       100000 non-null  float64\n",
      " 2   f1       100000 non-null  float64\n",
      " 3   f2       100000 non-null  float64\n",
      " 4   product  100000 non-null  float64\n",
      "dtypes: float64(4), object(1)\n",
      "memory usage: 3.8+ MB\n"
     ]
    }
   ],
   "source": [
    "data1 = pd.read_csv('/datasets/geo_data_0.csv')\n",
    "data2 = pd.read_csv('/datasets/geo_data_1.csv')\n",
    "data3 = pd.read_csv('/datasets/geo_data_2.csv')\n",
    "display(data1)\n",
    "data1.info()"
   ]
  },
  {
   "cell_type": "code",
   "execution_count": 92,
   "metadata": {},
   "outputs": [
    {
     "data": {
      "text/html": [
       "<div>\n",
       "<style scoped>\n",
       "    .dataframe tbody tr th:only-of-type {\n",
       "        vertical-align: middle;\n",
       "    }\n",
       "\n",
       "    .dataframe tbody tr th {\n",
       "        vertical-align: top;\n",
       "    }\n",
       "\n",
       "    .dataframe thead th {\n",
       "        text-align: right;\n",
       "    }\n",
       "</style>\n",
       "<table border=\"1\" class=\"dataframe\">\n",
       "  <thead>\n",
       "    <tr style=\"text-align: right;\">\n",
       "      <th></th>\n",
       "      <th>id</th>\n",
       "      <th>f0</th>\n",
       "      <th>f1</th>\n",
       "      <th>f2</th>\n",
       "      <th>product</th>\n",
       "    </tr>\n",
       "  </thead>\n",
       "  <tbody>\n",
       "    <tr>\n",
       "      <th>0</th>\n",
       "      <td>kBEdx</td>\n",
       "      <td>-15.001348</td>\n",
       "      <td>-8.276000</td>\n",
       "      <td>-0.005876</td>\n",
       "      <td>3.179103</td>\n",
       "    </tr>\n",
       "    <tr>\n",
       "      <th>1</th>\n",
       "      <td>62mP7</td>\n",
       "      <td>14.272088</td>\n",
       "      <td>-3.475083</td>\n",
       "      <td>0.999183</td>\n",
       "      <td>26.953261</td>\n",
       "    </tr>\n",
       "    <tr>\n",
       "      <th>2</th>\n",
       "      <td>vyE1P</td>\n",
       "      <td>6.263187</td>\n",
       "      <td>-5.948386</td>\n",
       "      <td>5.001160</td>\n",
       "      <td>134.766305</td>\n",
       "    </tr>\n",
       "    <tr>\n",
       "      <th>3</th>\n",
       "      <td>KcrkZ</td>\n",
       "      <td>-13.081196</td>\n",
       "      <td>-11.506057</td>\n",
       "      <td>4.999415</td>\n",
       "      <td>137.945408</td>\n",
       "    </tr>\n",
       "    <tr>\n",
       "      <th>4</th>\n",
       "      <td>AHL4O</td>\n",
       "      <td>12.702195</td>\n",
       "      <td>-8.147433</td>\n",
       "      <td>5.004363</td>\n",
       "      <td>134.766305</td>\n",
       "    </tr>\n",
       "    <tr>\n",
       "      <th>...</th>\n",
       "      <td>...</td>\n",
       "      <td>...</td>\n",
       "      <td>...</td>\n",
       "      <td>...</td>\n",
       "      <td>...</td>\n",
       "    </tr>\n",
       "    <tr>\n",
       "      <th>99995</th>\n",
       "      <td>QywKC</td>\n",
       "      <td>9.535637</td>\n",
       "      <td>-6.878139</td>\n",
       "      <td>1.998296</td>\n",
       "      <td>53.906522</td>\n",
       "    </tr>\n",
       "    <tr>\n",
       "      <th>99996</th>\n",
       "      <td>ptvty</td>\n",
       "      <td>-10.160631</td>\n",
       "      <td>-12.558096</td>\n",
       "      <td>5.005581</td>\n",
       "      <td>137.945408</td>\n",
       "    </tr>\n",
       "    <tr>\n",
       "      <th>99997</th>\n",
       "      <td>09gWa</td>\n",
       "      <td>-7.378891</td>\n",
       "      <td>-3.084104</td>\n",
       "      <td>4.998651</td>\n",
       "      <td>137.945408</td>\n",
       "    </tr>\n",
       "    <tr>\n",
       "      <th>99998</th>\n",
       "      <td>rqwUm</td>\n",
       "      <td>0.665714</td>\n",
       "      <td>-6.152593</td>\n",
       "      <td>1.000146</td>\n",
       "      <td>30.132364</td>\n",
       "    </tr>\n",
       "    <tr>\n",
       "      <th>99999</th>\n",
       "      <td>relB0</td>\n",
       "      <td>-3.426139</td>\n",
       "      <td>-7.794274</td>\n",
       "      <td>-0.003299</td>\n",
       "      <td>3.179103</td>\n",
       "    </tr>\n",
       "  </tbody>\n",
       "</table>\n",
       "<p>100000 rows × 5 columns</p>\n",
       "</div>"
      ],
      "text/plain": [
       "          id         f0         f1        f2     product\n",
       "0      kBEdx -15.001348  -8.276000 -0.005876    3.179103\n",
       "1      62mP7  14.272088  -3.475083  0.999183   26.953261\n",
       "2      vyE1P   6.263187  -5.948386  5.001160  134.766305\n",
       "3      KcrkZ -13.081196 -11.506057  4.999415  137.945408\n",
       "4      AHL4O  12.702195  -8.147433  5.004363  134.766305\n",
       "...      ...        ...        ...       ...         ...\n",
       "99995  QywKC   9.535637  -6.878139  1.998296   53.906522\n",
       "99996  ptvty -10.160631 -12.558096  5.005581  137.945408\n",
       "99997  09gWa  -7.378891  -3.084104  4.998651  137.945408\n",
       "99998  rqwUm   0.665714  -6.152593  1.000146   30.132364\n",
       "99999  relB0  -3.426139  -7.794274 -0.003299    3.179103\n",
       "\n",
       "[100000 rows x 5 columns]"
      ]
     },
     "metadata": {},
     "output_type": "display_data"
    },
    {
     "name": "stdout",
     "output_type": "stream",
     "text": [
      "<class 'pandas.core.frame.DataFrame'>\n",
      "RangeIndex: 100000 entries, 0 to 99999\n",
      "Data columns (total 5 columns):\n",
      " #   Column   Non-Null Count   Dtype  \n",
      "---  ------   --------------   -----  \n",
      " 0   id       100000 non-null  object \n",
      " 1   f0       100000 non-null  float64\n",
      " 2   f1       100000 non-null  float64\n",
      " 3   f2       100000 non-null  float64\n",
      " 4   product  100000 non-null  float64\n",
      "dtypes: float64(4), object(1)\n",
      "memory usage: 3.8+ MB\n"
     ]
    }
   ],
   "source": [
    "display(data2)\n",
    "data2.info()"
   ]
  },
  {
   "cell_type": "code",
   "execution_count": 93,
   "metadata": {},
   "outputs": [
    {
     "data": {
      "text/html": [
       "<div>\n",
       "<style scoped>\n",
       "    .dataframe tbody tr th:only-of-type {\n",
       "        vertical-align: middle;\n",
       "    }\n",
       "\n",
       "    .dataframe tbody tr th {\n",
       "        vertical-align: top;\n",
       "    }\n",
       "\n",
       "    .dataframe thead th {\n",
       "        text-align: right;\n",
       "    }\n",
       "</style>\n",
       "<table border=\"1\" class=\"dataframe\">\n",
       "  <thead>\n",
       "    <tr style=\"text-align: right;\">\n",
       "      <th></th>\n",
       "      <th>id</th>\n",
       "      <th>f0</th>\n",
       "      <th>f1</th>\n",
       "      <th>f2</th>\n",
       "      <th>product</th>\n",
       "    </tr>\n",
       "  </thead>\n",
       "  <tbody>\n",
       "    <tr>\n",
       "      <th>0</th>\n",
       "      <td>fwXo0</td>\n",
       "      <td>-1.146987</td>\n",
       "      <td>0.963328</td>\n",
       "      <td>-0.828965</td>\n",
       "      <td>27.758673</td>\n",
       "    </tr>\n",
       "    <tr>\n",
       "      <th>1</th>\n",
       "      <td>WJtFt</td>\n",
       "      <td>0.262778</td>\n",
       "      <td>0.269839</td>\n",
       "      <td>-2.530187</td>\n",
       "      <td>56.069697</td>\n",
       "    </tr>\n",
       "    <tr>\n",
       "      <th>2</th>\n",
       "      <td>ovLUW</td>\n",
       "      <td>0.194587</td>\n",
       "      <td>0.289035</td>\n",
       "      <td>-5.586433</td>\n",
       "      <td>62.871910</td>\n",
       "    </tr>\n",
       "    <tr>\n",
       "      <th>3</th>\n",
       "      <td>q6cA6</td>\n",
       "      <td>2.236060</td>\n",
       "      <td>-0.553760</td>\n",
       "      <td>0.930038</td>\n",
       "      <td>114.572842</td>\n",
       "    </tr>\n",
       "    <tr>\n",
       "      <th>4</th>\n",
       "      <td>WPMUX</td>\n",
       "      <td>-0.515993</td>\n",
       "      <td>1.716266</td>\n",
       "      <td>5.899011</td>\n",
       "      <td>149.600746</td>\n",
       "    </tr>\n",
       "    <tr>\n",
       "      <th>...</th>\n",
       "      <td>...</td>\n",
       "      <td>...</td>\n",
       "      <td>...</td>\n",
       "      <td>...</td>\n",
       "      <td>...</td>\n",
       "    </tr>\n",
       "    <tr>\n",
       "      <th>99995</th>\n",
       "      <td>4GxBu</td>\n",
       "      <td>-1.777037</td>\n",
       "      <td>1.125220</td>\n",
       "      <td>6.263374</td>\n",
       "      <td>172.327046</td>\n",
       "    </tr>\n",
       "    <tr>\n",
       "      <th>99996</th>\n",
       "      <td>YKFjq</td>\n",
       "      <td>-1.261523</td>\n",
       "      <td>-0.894828</td>\n",
       "      <td>2.524545</td>\n",
       "      <td>138.748846</td>\n",
       "    </tr>\n",
       "    <tr>\n",
       "      <th>99997</th>\n",
       "      <td>tKPY3</td>\n",
       "      <td>-1.199934</td>\n",
       "      <td>-2.957637</td>\n",
       "      <td>5.219411</td>\n",
       "      <td>157.080080</td>\n",
       "    </tr>\n",
       "    <tr>\n",
       "      <th>99998</th>\n",
       "      <td>nmxp2</td>\n",
       "      <td>-2.419896</td>\n",
       "      <td>2.417221</td>\n",
       "      <td>-5.548444</td>\n",
       "      <td>51.795253</td>\n",
       "    </tr>\n",
       "    <tr>\n",
       "      <th>99999</th>\n",
       "      <td>V9kWn</td>\n",
       "      <td>-2.551421</td>\n",
       "      <td>-2.025625</td>\n",
       "      <td>6.090891</td>\n",
       "      <td>102.775767</td>\n",
       "    </tr>\n",
       "  </tbody>\n",
       "</table>\n",
       "<p>100000 rows × 5 columns</p>\n",
       "</div>"
      ],
      "text/plain": [
       "          id        f0        f1        f2     product\n",
       "0      fwXo0 -1.146987  0.963328 -0.828965   27.758673\n",
       "1      WJtFt  0.262778  0.269839 -2.530187   56.069697\n",
       "2      ovLUW  0.194587  0.289035 -5.586433   62.871910\n",
       "3      q6cA6  2.236060 -0.553760  0.930038  114.572842\n",
       "4      WPMUX -0.515993  1.716266  5.899011  149.600746\n",
       "...      ...       ...       ...       ...         ...\n",
       "99995  4GxBu -1.777037  1.125220  6.263374  172.327046\n",
       "99996  YKFjq -1.261523 -0.894828  2.524545  138.748846\n",
       "99997  tKPY3 -1.199934 -2.957637  5.219411  157.080080\n",
       "99998  nmxp2 -2.419896  2.417221 -5.548444   51.795253\n",
       "99999  V9kWn -2.551421 -2.025625  6.090891  102.775767\n",
       "\n",
       "[100000 rows x 5 columns]"
      ]
     },
     "metadata": {},
     "output_type": "display_data"
    },
    {
     "name": "stdout",
     "output_type": "stream",
     "text": [
      "<class 'pandas.core.frame.DataFrame'>\n",
      "RangeIndex: 100000 entries, 0 to 99999\n",
      "Data columns (total 5 columns):\n",
      " #   Column   Non-Null Count   Dtype  \n",
      "---  ------   --------------   -----  \n",
      " 0   id       100000 non-null  object \n",
      " 1   f0       100000 non-null  float64\n",
      " 2   f1       100000 non-null  float64\n",
      " 3   f2       100000 non-null  float64\n",
      " 4   product  100000 non-null  float64\n",
      "dtypes: float64(4), object(1)\n",
      "memory usage: 3.8+ MB\n"
     ]
    }
   ],
   "source": [
    "display(data3)\n",
    "data3.info()"
   ]
  },
  {
   "cell_type": "markdown",
   "metadata": {},
   "source": [
    "В данных нет пропусков. Не понятно, что означают метрики. Но, по условию задачи, это не важно."
   ]
  },
  {
   "cell_type": "code",
   "execution_count": 94,
   "metadata": {},
   "outputs": [
    {
     "name": "stdout",
     "output_type": "stream",
     "text": [
      "0\n",
      "0\n",
      "0\n"
     ]
    }
   ],
   "source": [
    "print(data1.duplicated().sum())\n",
    "print(data2.duplicated().sum())\n",
    "print(data3.duplicated().sum())"
   ]
  },
  {
   "cell_type": "markdown",
   "metadata": {},
   "source": [
    "Дубликатов не обнаружено. Удалим стобцы с id. Для обучнения модели он не нужен"
   ]
  },
  {
   "cell_type": "code",
   "execution_count": 95,
   "metadata": {},
   "outputs": [],
   "source": [
    "data11 = data1.drop(['id'], axis=1)\n",
    "data22 = data2.drop(['id'], axis=1)\n",
    "data33 = data3.drop(['id'], axis=1)"
   ]
  },
  {
   "cell_type": "code",
   "execution_count": 96,
   "metadata": {},
   "outputs": [
    {
     "data": {
      "text/html": [
       "<div>\n",
       "<style scoped>\n",
       "    .dataframe tbody tr th:only-of-type {\n",
       "        vertical-align: middle;\n",
       "    }\n",
       "\n",
       "    .dataframe tbody tr th {\n",
       "        vertical-align: top;\n",
       "    }\n",
       "\n",
       "    .dataframe thead th {\n",
       "        text-align: right;\n",
       "    }\n",
       "</style>\n",
       "<table border=\"1\" class=\"dataframe\">\n",
       "  <thead>\n",
       "    <tr style=\"text-align: right;\">\n",
       "      <th></th>\n",
       "      <th>f0</th>\n",
       "      <th>f1</th>\n",
       "      <th>f2</th>\n",
       "      <th>product</th>\n",
       "    </tr>\n",
       "  </thead>\n",
       "  <tbody>\n",
       "    <tr>\n",
       "      <th>0</th>\n",
       "      <td>-1.146987</td>\n",
       "      <td>0.963328</td>\n",
       "      <td>-0.828965</td>\n",
       "      <td>27.758673</td>\n",
       "    </tr>\n",
       "    <tr>\n",
       "      <th>1</th>\n",
       "      <td>0.262778</td>\n",
       "      <td>0.269839</td>\n",
       "      <td>-2.530187</td>\n",
       "      <td>56.069697</td>\n",
       "    </tr>\n",
       "    <tr>\n",
       "      <th>2</th>\n",
       "      <td>0.194587</td>\n",
       "      <td>0.289035</td>\n",
       "      <td>-5.586433</td>\n",
       "      <td>62.871910</td>\n",
       "    </tr>\n",
       "    <tr>\n",
       "      <th>3</th>\n",
       "      <td>2.236060</td>\n",
       "      <td>-0.553760</td>\n",
       "      <td>0.930038</td>\n",
       "      <td>114.572842</td>\n",
       "    </tr>\n",
       "    <tr>\n",
       "      <th>4</th>\n",
       "      <td>-0.515993</td>\n",
       "      <td>1.716266</td>\n",
       "      <td>5.899011</td>\n",
       "      <td>149.600746</td>\n",
       "    </tr>\n",
       "    <tr>\n",
       "      <th>...</th>\n",
       "      <td>...</td>\n",
       "      <td>...</td>\n",
       "      <td>...</td>\n",
       "      <td>...</td>\n",
       "    </tr>\n",
       "    <tr>\n",
       "      <th>99995</th>\n",
       "      <td>-1.777037</td>\n",
       "      <td>1.125220</td>\n",
       "      <td>6.263374</td>\n",
       "      <td>172.327046</td>\n",
       "    </tr>\n",
       "    <tr>\n",
       "      <th>99996</th>\n",
       "      <td>-1.261523</td>\n",
       "      <td>-0.894828</td>\n",
       "      <td>2.524545</td>\n",
       "      <td>138.748846</td>\n",
       "    </tr>\n",
       "    <tr>\n",
       "      <th>99997</th>\n",
       "      <td>-1.199934</td>\n",
       "      <td>-2.957637</td>\n",
       "      <td>5.219411</td>\n",
       "      <td>157.080080</td>\n",
       "    </tr>\n",
       "    <tr>\n",
       "      <th>99998</th>\n",
       "      <td>-2.419896</td>\n",
       "      <td>2.417221</td>\n",
       "      <td>-5.548444</td>\n",
       "      <td>51.795253</td>\n",
       "    </tr>\n",
       "    <tr>\n",
       "      <th>99999</th>\n",
       "      <td>-2.551421</td>\n",
       "      <td>-2.025625</td>\n",
       "      <td>6.090891</td>\n",
       "      <td>102.775767</td>\n",
       "    </tr>\n",
       "  </tbody>\n",
       "</table>\n",
       "<p>100000 rows × 4 columns</p>\n",
       "</div>"
      ],
      "text/plain": [
       "             f0        f1        f2     product\n",
       "0     -1.146987  0.963328 -0.828965   27.758673\n",
       "1      0.262778  0.269839 -2.530187   56.069697\n",
       "2      0.194587  0.289035 -5.586433   62.871910\n",
       "3      2.236060 -0.553760  0.930038  114.572842\n",
       "4     -0.515993  1.716266  5.899011  149.600746\n",
       "...         ...       ...       ...         ...\n",
       "99995 -1.777037  1.125220  6.263374  172.327046\n",
       "99996 -1.261523 -0.894828  2.524545  138.748846\n",
       "99997 -1.199934 -2.957637  5.219411  157.080080\n",
       "99998 -2.419896  2.417221 -5.548444   51.795253\n",
       "99999 -2.551421 -2.025625  6.090891  102.775767\n",
       "\n",
       "[100000 rows x 4 columns]"
      ]
     },
     "execution_count": 96,
     "metadata": {},
     "output_type": "execute_result"
    }
   ],
   "source": [
    "data33"
   ]
  },
  {
   "cell_type": "code",
   "execution_count": 97,
   "metadata": {},
   "outputs": [],
   "source": [
    "data11 = pd.get_dummies(data11)"
   ]
  },
  {
   "cell_type": "code",
   "execution_count": 98,
   "metadata": {},
   "outputs": [
    {
     "data": {
      "text/html": [
       "<div>\n",
       "<style scoped>\n",
       "    .dataframe tbody tr th:only-of-type {\n",
       "        vertical-align: middle;\n",
       "    }\n",
       "\n",
       "    .dataframe tbody tr th {\n",
       "        vertical-align: top;\n",
       "    }\n",
       "\n",
       "    .dataframe thead th {\n",
       "        text-align: right;\n",
       "    }\n",
       "</style>\n",
       "<table border=\"1\" class=\"dataframe\">\n",
       "  <thead>\n",
       "    <tr style=\"text-align: right;\">\n",
       "      <th></th>\n",
       "      <th>f0</th>\n",
       "      <th>f1</th>\n",
       "      <th>f2</th>\n",
       "      <th>product</th>\n",
       "    </tr>\n",
       "  </thead>\n",
       "  <tbody>\n",
       "    <tr>\n",
       "      <th>0</th>\n",
       "      <td>0.705745</td>\n",
       "      <td>-0.497823</td>\n",
       "      <td>1.221170</td>\n",
       "      <td>105.280062</td>\n",
       "    </tr>\n",
       "    <tr>\n",
       "      <th>1</th>\n",
       "      <td>1.334711</td>\n",
       "      <td>-0.340164</td>\n",
       "      <td>4.365080</td>\n",
       "      <td>73.037750</td>\n",
       "    </tr>\n",
       "    <tr>\n",
       "      <th>2</th>\n",
       "      <td>1.022732</td>\n",
       "      <td>0.151990</td>\n",
       "      <td>1.419926</td>\n",
       "      <td>85.265647</td>\n",
       "    </tr>\n",
       "    <tr>\n",
       "      <th>3</th>\n",
       "      <td>-0.032172</td>\n",
       "      <td>0.139033</td>\n",
       "      <td>2.978566</td>\n",
       "      <td>168.620776</td>\n",
       "    </tr>\n",
       "    <tr>\n",
       "      <th>4</th>\n",
       "      <td>1.988431</td>\n",
       "      <td>0.155413</td>\n",
       "      <td>4.751769</td>\n",
       "      <td>154.036647</td>\n",
       "    </tr>\n",
       "    <tr>\n",
       "      <th>...</th>\n",
       "      <td>...</td>\n",
       "      <td>...</td>\n",
       "      <td>...</td>\n",
       "      <td>...</td>\n",
       "    </tr>\n",
       "    <tr>\n",
       "      <th>99995</th>\n",
       "      <td>0.971957</td>\n",
       "      <td>0.370953</td>\n",
       "      <td>6.075346</td>\n",
       "      <td>110.744026</td>\n",
       "    </tr>\n",
       "    <tr>\n",
       "      <th>99996</th>\n",
       "      <td>1.392429</td>\n",
       "      <td>-0.382606</td>\n",
       "      <td>1.273912</td>\n",
       "      <td>122.346843</td>\n",
       "    </tr>\n",
       "    <tr>\n",
       "      <th>99997</th>\n",
       "      <td>1.029585</td>\n",
       "      <td>0.018787</td>\n",
       "      <td>-1.348308</td>\n",
       "      <td>64.375443</td>\n",
       "    </tr>\n",
       "    <tr>\n",
       "      <th>99998</th>\n",
       "      <td>0.998163</td>\n",
       "      <td>-0.528582</td>\n",
       "      <td>1.583869</td>\n",
       "      <td>74.040764</td>\n",
       "    </tr>\n",
       "    <tr>\n",
       "      <th>99999</th>\n",
       "      <td>1.764754</td>\n",
       "      <td>-0.266417</td>\n",
       "      <td>5.722849</td>\n",
       "      <td>149.633246</td>\n",
       "    </tr>\n",
       "  </tbody>\n",
       "</table>\n",
       "<p>100000 rows × 4 columns</p>\n",
       "</div>"
      ],
      "text/plain": [
       "             f0        f1        f2     product\n",
       "0      0.705745 -0.497823  1.221170  105.280062\n",
       "1      1.334711 -0.340164  4.365080   73.037750\n",
       "2      1.022732  0.151990  1.419926   85.265647\n",
       "3     -0.032172  0.139033  2.978566  168.620776\n",
       "4      1.988431  0.155413  4.751769  154.036647\n",
       "...         ...       ...       ...         ...\n",
       "99995  0.971957  0.370953  6.075346  110.744026\n",
       "99996  1.392429 -0.382606  1.273912  122.346843\n",
       "99997  1.029585  0.018787 -1.348308   64.375443\n",
       "99998  0.998163 -0.528582  1.583869   74.040764\n",
       "99999  1.764754 -0.266417  5.722849  149.633246\n",
       "\n",
       "[100000 rows x 4 columns]"
      ]
     },
     "execution_count": 98,
     "metadata": {},
     "output_type": "execute_result"
    }
   ],
   "source": [
    "data11"
   ]
  },
  {
   "cell_type": "markdown",
   "metadata": {},
   "source": [
    "Предоставленные данные уже закодированы."
   ]
  },
  {
   "cell_type": "markdown",
   "metadata": {},
   "source": [
    "## Обучение и проверка модели"
   ]
  },
  {
   "cell_type": "markdown",
   "metadata": {},
   "source": [
    "Согласно условиям задачи, для обучения модели подходит только линейная регрессия (остальные — недостаточно предсказуемые)."
   ]
  },
  {
   "cell_type": "markdown",
   "metadata": {},
   "source": [
    "### Для 1 региона"
   ]
  },
  {
   "cell_type": "code",
   "execution_count": 99,
   "metadata": {},
   "outputs": [],
   "source": [
    "features_1 = data11.drop(['product'], axis=1)\n",
    "target_1 = data11['product']"
   ]
  },
  {
   "cell_type": "code",
   "execution_count": 100,
   "metadata": {},
   "outputs": [],
   "source": [
    "features_train_1, features_valid_1, target_train_1, target_valid_1 = train_test_split(\n",
    "    features_1, target_1, test_size=0.25, random_state=14)"
   ]
  },
  {
   "cell_type": "code",
   "execution_count": 101,
   "metadata": {},
   "outputs": [
    {
     "name": "stdout",
     "output_type": "stream",
     "text": [
      "RMSE модели 1: 37.64172219212394\n",
      "Cредний запас предсказанного сырья 92.56331572920227\n"
     ]
    }
   ],
   "source": [
    "target_valid_1 = target_valid_1.reset_index(drop=True)\n",
    "model_1 = LinearRegression()\n",
    "model_1.fit(features_train_1, target_train_1)\n",
    "prediction_valid_1 = model_1.predict(features_valid_1)\n",
    "result_1 = mean_squared_error(target_valid_1, prediction_valid_1)**0.5\n",
    "print('RMSE модели 1:', result_1)\n",
    "print('Cредний запас предсказанного сырья', prediction_valid_1.mean())"
   ]
  },
  {
   "cell_type": "markdown",
   "metadata": {},
   "source": [
    "### Для 2 региона"
   ]
  },
  {
   "cell_type": "code",
   "execution_count": 102,
   "metadata": {},
   "outputs": [
    {
     "name": "stdout",
     "output_type": "stream",
     "text": [
      "RMSE модели 2: 0.8925967602874482\n",
      "Cредний запас предсказанного сырья 68.89452655451875\n"
     ]
    }
   ],
   "source": [
    "features_2 = data22.drop(['product'], axis=1)\n",
    "target_2 = data22['product']\n",
    "features_train_2, features_valid_2, target_train_2, target_valid_2 = train_test_split(\n",
    "    features_2, target_2, test_size=0.25, random_state=14)\n",
    "target_valid_2 = target_valid_2.reset_index(drop=True)\n",
    "model_2 = LinearRegression()\n",
    "model_2.fit(features_train_2, target_train_2)\n",
    "prediction_valid_2 = model_2.predict(features_valid_2)\n",
    "result_2 = mean_squared_error(target_valid_2, prediction_valid_2)**0.5\n",
    "print('RMSE модели 2:', result_2)\n",
    "print('Cредний запас предсказанного сырья', prediction_valid_2.mean())"
   ]
  },
  {
   "cell_type": "markdown",
   "metadata": {},
   "source": [
    "### Для 3 региона\n"
   ]
  },
  {
   "cell_type": "code",
   "execution_count": 103,
   "metadata": {},
   "outputs": [
    {
     "name": "stdout",
     "output_type": "stream",
     "text": [
      "RMSE модели 3: 39.824525086273866\n",
      "Cредний запас предсказанного сырья 95.04162515658933\n"
     ]
    }
   ],
   "source": [
    "features_3 = data33.drop(['product'], axis=1)\n",
    "target_3 = data33['product']\n",
    "features_train_3, features_valid_3, target_train_3, target_valid_3 = train_test_split(\n",
    "    features_3, target_3, test_size=0.25, random_state=14)\n",
    "target_valid_3 = target_valid_3.reset_index(drop=True)\n",
    "model_3 = LinearRegression()\n",
    "model_3.fit(features_train_3, target_train_3)\n",
    "prediction_valid_3 = model_3.predict(features_valid_3)\n",
    "result_3 = mean_squared_error(target_valid_3, prediction_valid_3)**0.5\n",
    "print('RMSE модели 3:', result_3)\n",
    "print('Cредний запас предсказанного сырья', prediction_valid_3.mean())\n"
   ]
  },
  {
   "cell_type": "code",
   "execution_count": 104,
   "metadata": {},
   "outputs": [
    {
     "name": "stdout",
     "output_type": "stream",
     "text": [
      "Получили следующие результаты после обучения моделей:\n"
     ]
    },
    {
     "data": {
      "text/html": [
       "<div>\n",
       "<style scoped>\n",
       "    .dataframe tbody tr th:only-of-type {\n",
       "        vertical-align: middle;\n",
       "    }\n",
       "\n",
       "    .dataframe tbody tr th {\n",
       "        vertical-align: top;\n",
       "    }\n",
       "\n",
       "    .dataframe thead tr th {\n",
       "        text-align: left;\n",
       "    }\n",
       "</style>\n",
       "<table border=\"1\" class=\"dataframe\">\n",
       "  <thead>\n",
       "    <tr>\n",
       "      <th></th>\n",
       "      <th>Регион</th>\n",
       "      <th>RMSE модели</th>\n",
       "      <th>Cредний запас предсказанного сырья</th>\n",
       "    </tr>\n",
       "  </thead>\n",
       "  <tbody>\n",
       "    <tr>\n",
       "      <th>0</th>\n",
       "      <td>1</td>\n",
       "      <td>37.641722</td>\n",
       "      <td>92.563316</td>\n",
       "    </tr>\n",
       "    <tr>\n",
       "      <th>1</th>\n",
       "      <td>2</td>\n",
       "      <td>0.892597</td>\n",
       "      <td>68.894527</td>\n",
       "    </tr>\n",
       "    <tr>\n",
       "      <th>2</th>\n",
       "      <td>3</td>\n",
       "      <td>39.824525</td>\n",
       "      <td>95.041625</td>\n",
       "    </tr>\n",
       "  </tbody>\n",
       "</table>\n",
       "</div>"
      ],
      "text/plain": [
       "  Регион RMSE модели Cредний запас предсказанного сырья\n",
       "0      1   37.641722                          92.563316\n",
       "1      2    0.892597                          68.894527\n",
       "2      3   39.824525                          95.041625"
      ]
     },
     "execution_count": 104,
     "metadata": {},
     "output_type": "execute_result"
    }
   ],
   "source": [
    "rmse_mean = pd.DataFrame(data=[['1', result_1, prediction_valid_1.mean()], \n",
    "                               ['2', result_2, prediction_valid_2.mean()], \n",
    "                               ['3', result_3, prediction_valid_3.mean()]], \n",
    "                         columns=[['Регион', 'RMSE модели', 'Cредний запас предсказанного сырья']])\n",
    "print('Получили следующие результаты после обучения моделей:')\n",
    "rmse_mean"
   ]
  },
  {
   "cell_type": "markdown",
   "metadata": {},
   "source": [
    "Получается, что лучшее предсказание у нас получилось по второму региону, RMSE которого равна 0.892597. Но во втором регионе и самый минимальный средний запас сырья. Однако, хоть у других регионов  средний запас больше, но и RMSE больше. Значит, например, для 1 региона, мы можем ошибаться на +-37 единиц. Значит, что запас сырья может быть как 92, так и 92-37=55. "
   ]
  },
  {
   "cell_type": "markdown",
   "metadata": {},
   "source": [
    "## Подготовка к расчёту прибыли"
   ]
  },
  {
   "cell_type": "markdown",
   "metadata": {},
   "source": [
    "Ключевые значения для расчётов:"
   ]
  },
  {
   "cell_type": "code",
   "execution_count": 120,
   "metadata": {},
   "outputs": [
    {
     "data": {
      "text/plain": [
       "111.11111111111111"
      ]
     },
     "execution_count": 120,
     "metadata": {},
     "output_type": "execute_result"
    }
   ],
   "source": [
    "BOREHOLES= 500 # исследуемое количество скважин при разведке \n",
    "BEST_BOREHOLES= 200 # количество лучших скважин\n",
    "BUDGET = 10000000000 # бюджет на разработку скважин в регионе \n",
    "PROFIT = 450000 # доход с каждой единицы продукта\n",
    "MIN_PROFIT_FOR_REGION = BUDGET/PROFIT # минимальный объем добычи на регион для 200 скважин\n",
    "MIN_PROFIT_FOR_BOREHOLE = MIN_PROFIT_FOR_REGION/BEST_BOREHOLES # минимальный объем добычи на регион для 200 скважин\n",
    "MIN_PROFIT_FOR_BOREHOLE"
   ]
  },
  {
   "cell_type": "markdown",
   "metadata": {},
   "source": [
    "Чтобы окупить бюджет на расходы (10 млрд.), каждая из 200 скважин должна вырабатывать минимум 111,112 тысяч баррелей. Среднее для каждого из регионов меньше, чем минимальный объем добычи. Но мы сравниваем со средним. А мы будем выбирать 200 лучших сважин, объем которых будет выше, чем средний объем по региону."
   ]
  },
  {
   "cell_type": "markdown",
   "metadata": {},
   "source": [
    "## Расчёт прибыли и рисков "
   ]
  },
  {
   "cell_type": "code",
   "execution_count": 121,
   "metadata": {},
   "outputs": [],
   "source": [
    "def money(target, prediction):\n",
    "    prediction_valid = prediction.sort_values(ascending=False)\n",
    "    selected = target[prediction_valid.index][:200]\n",
    "    global PROFIT\n",
    "    global BUDGET\n",
    "    return (selected.sum()*profit-budget)/1000000000"
   ]
  },
  {
   "cell_type": "code",
   "execution_count": 122,
   "metadata": {},
   "outputs": [],
   "source": [
    "state = RandomState(14)"
   ]
  },
  {
   "cell_type": "markdown",
   "metadata": {},
   "source": [
    "**Регион 1**"
   ]
  },
  {
   "cell_type": "code",
   "execution_count": 123,
   "metadata": {},
   "outputs": [
    {
     "data": {
      "text/plain": [
       "0.46710561923987265"
      ]
     },
     "execution_count": 123,
     "metadata": {},
     "output_type": "execute_result"
    }
   ],
   "source": [
    "prediction_valid_1 = pd.Series(prediction_valid_1)\n",
    "values_1 = []\n",
    "for i in range(1000):\n",
    "    target = target_valid_1.sample(500, replace=True, random_state=state)   \n",
    "    probs = prediction_valid_1[target.index]\n",
    "    values_1.append(money(target, probs))\n",
    "values_1 = pd.Series(values_1)\n",
    "values_1.mean()"
   ]
  },
  {
   "cell_type": "markdown",
   "metadata": {},
   "source": [
    "95%-й Доверительный интервал для региона 1:"
   ]
  },
  {
   "cell_type": "code",
   "execution_count": 124,
   "metadata": {},
   "outputs": [
    {
     "name": "stdout",
     "output_type": "stream",
     "text": [
      "-0.05790326671323156\n",
      "1.017560704948621\n"
     ]
    }
   ],
   "source": [
    "lower_1 = values_1.quantile(0.025)\n",
    "upper_1 = values_1.quantile(0.975)\n",
    "print(lower_1)\n",
    "print(upper_1)"
   ]
  },
  {
   "cell_type": "markdown",
   "metadata": {},
   "source": [
    "**Регион 2**"
   ]
  },
  {
   "cell_type": "code",
   "execution_count": 125,
   "metadata": {},
   "outputs": [
    {
     "data": {
      "text/plain": [
       "0.48448940048518757"
      ]
     },
     "execution_count": 125,
     "metadata": {},
     "output_type": "execute_result"
    }
   ],
   "source": [
    "prediction_valid_2 = pd.Series(prediction_valid_2)\n",
    "values_2 = []\n",
    "for i in range(1000):\n",
    "    target = target_valid_2.sample(500, replace=True, random_state=state)\n",
    "    probs = prediction_valid_2[target.index]\n",
    "    values_2.append(money(target, probs))\n",
    "values_2 = pd.Series(values_2)\n",
    "values_2.mean()"
   ]
  },
  {
   "cell_type": "markdown",
   "metadata": {},
   "source": [
    "95%-й Доверительный интервал для региона 2:"
   ]
  },
  {
   "cell_type": "code",
   "execution_count": 126,
   "metadata": {},
   "outputs": [
    {
     "name": "stdout",
     "output_type": "stream",
     "text": [
      "0.07240151090591998\n",
      "0.8929323798418827\n"
     ]
    }
   ],
   "source": [
    "lower_2 = values_2.quantile(0.025)\n",
    "upper_2 = values_2.quantile(0.975)\n",
    "print(lower_2)\n",
    "print(upper_2)"
   ]
  },
  {
   "cell_type": "markdown",
   "metadata": {},
   "source": [
    "**Регион 3**"
   ]
  },
  {
   "cell_type": "code",
   "execution_count": 127,
   "metadata": {},
   "outputs": [
    {
     "data": {
      "text/plain": [
       "0.4213813881289648"
      ]
     },
     "execution_count": 127,
     "metadata": {},
     "output_type": "execute_result"
    }
   ],
   "source": [
    "values_3 = []\n",
    "prediction_valid_3 = pd.Series(prediction_valid_3)\n",
    "for i in range(1000):\n",
    "    target = target_valid_3.sample(500, replace=True, random_state=state)\n",
    "    probs = prediction_valid_3[target.index]\n",
    "    values_3.append(money(target, probs))\n",
    "values_3 = pd.Series(values_3)\n",
    "values_3.mean()"
   ]
  },
  {
   "cell_type": "markdown",
   "metadata": {},
   "source": [
    "95%-й Доверительный интервал для региона 3:"
   ]
  },
  {
   "cell_type": "code",
   "execution_count": 128,
   "metadata": {},
   "outputs": [
    {
     "name": "stdout",
     "output_type": "stream",
     "text": [
      "-0.1326805297204353\n",
      "0.9608777101621837\n"
     ]
    }
   ],
   "source": [
    "lower_3 = values_3.quantile(0.025)\n",
    "upper_3 = values_3.quantile(0.975)\n",
    "print(lower_3)\n",
    "print(upper_3)"
   ]
  },
  {
   "cell_type": "code",
   "execution_count": 129,
   "metadata": {},
   "outputs": [
    {
     "data": {
      "text/html": [
       "<div>\n",
       "<style scoped>\n",
       "    .dataframe tbody tr th:only-of-type {\n",
       "        vertical-align: middle;\n",
       "    }\n",
       "\n",
       "    .dataframe tbody tr th {\n",
       "        vertical-align: top;\n",
       "    }\n",
       "\n",
       "    .dataframe thead tr th {\n",
       "        text-align: left;\n",
       "    }\n",
       "</style>\n",
       "<table border=\"1\" class=\"dataframe\">\n",
       "  <thead>\n",
       "    <tr>\n",
       "      <th></th>\n",
       "      <th>Регион</th>\n",
       "      <th>Средняя прибыль с одной скважины, млрд. руб.</th>\n",
       "      <th>Доверительный интервал начало</th>\n",
       "      <th>Доверительный интервал конец</th>\n",
       "    </tr>\n",
       "  </thead>\n",
       "  <tbody>\n",
       "    <tr>\n",
       "      <th>0</th>\n",
       "      <td>1</td>\n",
       "      <td>0.467106</td>\n",
       "      <td>-0.057903</td>\n",
       "      <td>1.017561</td>\n",
       "    </tr>\n",
       "    <tr>\n",
       "      <th>1</th>\n",
       "      <td>2</td>\n",
       "      <td>0.484489</td>\n",
       "      <td>0.072402</td>\n",
       "      <td>0.892932</td>\n",
       "    </tr>\n",
       "    <tr>\n",
       "      <th>2</th>\n",
       "      <td>3</td>\n",
       "      <td>0.421381</td>\n",
       "      <td>-0.132681</td>\n",
       "      <td>0.960878</td>\n",
       "    </tr>\n",
       "  </tbody>\n",
       "</table>\n",
       "</div>"
      ],
      "text/plain": [
       "  Регион Средняя прибыль с одной скважины, млрд. руб.  \\\n",
       "0      1                                     0.467106   \n",
       "1      2                                     0.484489   \n",
       "2      3                                     0.421381   \n",
       "\n",
       "  Доверительный интервал начало Доверительный интервал конец  \n",
       "0                     -0.057903                     1.017561  \n",
       "1                      0.072402                     0.892932  \n",
       "2                     -0.132681                     0.960878  "
      ]
     },
     "execution_count": 129,
     "metadata": {},
     "output_type": "execute_result"
    }
   ],
   "source": [
    "region_money = pd.DataFrame(data=[['1', values_1.mean(), lower_1, upper_1], \n",
    "                               ['2', values_2.mean(), lower_2, upper_2], \n",
    "                               ['3', values_3.mean(), lower_3, upper_3]], \n",
    "                         columns=[['Регион', 'Средняя прибыль с одной скважины, млрд. руб.', \n",
    "                                   'Доверительный интервал начало', 'Доверительный интервал конец']])\n",
    "region_money"
   ]
  },
  {
   "cell_type": "markdown",
   "metadata": {},
   "source": [
    "Тут в глаза бросается то, что у второго региона интервал начинается с положительной выручки, а у других регионов нет Значит, что в минимум в 95% случаев при работе во втором регионе не будет убытка.\n"
   ]
  },
  {
   "cell_type": "markdown",
   "metadata": {},
   "source": [
    "**Рассчет рисков**"
   ]
  },
  {
   "cell_type": "code",
   "execution_count": 130,
   "metadata": {},
   "outputs": [
    {
     "name": "stdout",
     "output_type": "stream",
     "text": [
      "Для региона 1 риск убытков равен 3.5000000000000004 %\n",
      "Для региона 2 риск убытков равен 0.8 %\n",
      "Для региона 3 риск убытков равен 6.3 %\n"
     ]
    }
   ],
   "source": [
    "print('Для региона 1 риск убытков равен', (values_1 < 0).mean()*100, '%')\n",
    "print('Для региона 2 риск убытков равен', (values_2 < 0).mean()*100, '%')\n",
    "print('Для региона 3 риск убытков равен', (values_3 < 0).mean()*100, '%')"
   ]
  },
  {
   "cell_type": "markdown",
   "metadata": {},
   "source": [
    "Для разработки скважин оптималный выбор это Регион 2.\n",
    "\n",
    "RMSE модели, обученной по данным второго региона минимальна : 0.892597.\n",
    "\n",
    "Несмотря на то, у этого региона самый минимальный средний предсказанный объем на скважину, после того, как мы 1000 раз выбрали 500 случайных скважин, 200 лучших скважин из этих 500 показали среднюю прибыль около 480 млн. руб. \n",
    "\n",
    "Данные для этого региона лежат в 95% доверительном интервале. Риск убытков равен 0,8% - минимальный среди трех регионов.\n",
    "\n",
    "Если в этом регионе выберут 500 случайных скважин, а затем 200 лучших из этих 500, то с вероятность 99,2% это будет успешный выбор, который принесет прибыль.\n",
    "\n",
    "\n"
   ]
  }
 ],
 "metadata": {
  "ExecuteTimeLog": [
   {
    "duration": 555,
    "start_time": "2022-04-12T13:54:56.297Z"
   },
   {
    "duration": 510,
    "start_time": "2022-04-12T13:55:54.778Z"
   },
   {
    "duration": 489,
    "start_time": "2022-04-12T13:57:05.048Z"
   },
   {
    "duration": 554,
    "start_time": "2022-04-12T13:57:15.618Z"
   },
   {
    "duration": 480,
    "start_time": "2022-04-12T13:57:19.737Z"
   },
   {
    "duration": 516,
    "start_time": "2022-04-12T13:57:27.561Z"
   },
   {
    "duration": 2056,
    "start_time": "2022-04-12T13:57:38.393Z"
   },
   {
    "duration": 83,
    "start_time": "2022-04-12T14:03:14.639Z"
   },
   {
    "duration": 77,
    "start_time": "2022-04-12T14:03:22.094Z"
   },
   {
    "duration": 217,
    "start_time": "2022-04-12T14:03:37.463Z"
   },
   {
    "duration": 108,
    "start_time": "2022-04-12T14:03:53.880Z"
   },
   {
    "duration": 9,
    "start_time": "2022-04-12T14:06:15.231Z"
   },
   {
    "duration": 21,
    "start_time": "2022-04-12T14:06:18.439Z"
   },
   {
    "duration": 27,
    "start_time": "2022-04-12T14:06:28.366Z"
   },
   {
    "duration": 3,
    "start_time": "2022-04-12T14:06:41.432Z"
   },
   {
    "duration": 537,
    "start_time": "2022-04-12T14:06:41.438Z"
   },
   {
    "duration": 237,
    "start_time": "2022-04-12T14:06:41.977Z"
   },
   {
    "duration": 9,
    "start_time": "2022-04-12T14:06:44.496Z"
   },
   {
    "duration": 15,
    "start_time": "2022-04-12T14:06:47.439Z"
   },
   {
    "duration": 17,
    "start_time": "2022-04-12T14:07:23.502Z"
   },
   {
    "duration": 4,
    "start_time": "2022-04-12T14:07:26.543Z"
   },
   {
    "duration": 522,
    "start_time": "2022-04-12T14:07:26.549Z"
   },
   {
    "duration": 261,
    "start_time": "2022-04-12T14:07:27.073Z"
   },
   {
    "duration": 13,
    "start_time": "2022-04-12T14:07:28.430Z"
   },
   {
    "duration": 16,
    "start_time": "2022-04-12T14:07:33.526Z"
   },
   {
    "duration": 15,
    "start_time": "2022-04-12T14:07:36.087Z"
   },
   {
    "duration": 15,
    "start_time": "2022-04-12T14:07:38.263Z"
   },
   {
    "duration": 16,
    "start_time": "2022-04-12T14:07:52.790Z"
   },
   {
    "duration": 21,
    "start_time": "2022-04-12T14:07:59.894Z"
   },
   {
    "duration": 11,
    "start_time": "2022-04-12T14:08:40.238Z"
   },
   {
    "duration": 15,
    "start_time": "2022-04-12T14:08:41.054Z"
   },
   {
    "duration": 4,
    "start_time": "2022-04-12T14:08:45.007Z"
   },
   {
    "duration": 545,
    "start_time": "2022-04-12T14:08:45.014Z"
   },
   {
    "duration": 235,
    "start_time": "2022-04-12T14:08:45.562Z"
   },
   {
    "duration": 24,
    "start_time": "2022-04-12T14:08:45.800Z"
   },
   {
    "duration": 39,
    "start_time": "2022-04-12T14:08:45.826Z"
   },
   {
    "duration": 15,
    "start_time": "2022-04-12T14:08:47.862Z"
   },
   {
    "duration": 12,
    "start_time": "2022-04-12T14:08:51.918Z"
   },
   {
    "duration": 16,
    "start_time": "2022-04-12T14:08:52.822Z"
   },
   {
    "duration": 1029,
    "start_time": "2022-04-12T14:12:52.733Z"
   },
   {
    "duration": 4,
    "start_time": "2022-04-12T14:13:53.740Z"
   },
   {
    "duration": 6,
    "start_time": "2022-04-12T14:16:12.741Z"
   },
   {
    "duration": 13,
    "start_time": "2022-04-12T14:16:16.307Z"
   },
   {
    "duration": 8,
    "start_time": "2022-04-12T14:16:21.107Z"
   },
   {
    "duration": 15,
    "start_time": "2022-04-12T14:16:24.484Z"
   },
   {
    "duration": 98,
    "start_time": "2022-04-12T14:18:33.467Z"
   },
   {
    "duration": 17,
    "start_time": "2022-04-12T14:18:59.050Z"
   },
   {
    "duration": 193,
    "start_time": "2022-04-12T14:18:59.931Z"
   },
   {
    "duration": 21,
    "start_time": "2022-04-12T14:19:09.362Z"
   },
   {
    "duration": 31,
    "start_time": "2022-04-12T14:19:45.004Z"
   },
   {
    "duration": 15,
    "start_time": "2022-04-12T14:22:27.330Z"
   },
   {
    "duration": 1810,
    "start_time": "2022-04-12T14:23:09.867Z"
   },
   {
    "duration": 28,
    "start_time": "2022-04-12T14:23:13.529Z"
   },
   {
    "duration": 13,
    "start_time": "2022-04-12T14:23:24.233Z"
   },
   {
    "duration": 613,
    "start_time": "2022-04-12T14:24:48.041Z"
   },
   {
    "duration": 559,
    "start_time": "2022-04-12T14:25:18.297Z"
   },
   {
    "duration": 18,
    "start_time": "2022-04-12T14:25:23.556Z"
   },
   {
    "duration": 906,
    "start_time": "2022-04-12T14:25:26.633Z"
   },
   {
    "duration": 740,
    "start_time": "2022-04-12T14:25:44.345Z"
   },
   {
    "duration": 104,
    "start_time": "2022-04-12T14:26:53.352Z"
   },
   {
    "duration": 27,
    "start_time": "2022-04-12T14:26:56.400Z"
   },
   {
    "duration": 12,
    "start_time": "2022-04-12T14:27:37.400Z"
   },
   {
    "duration": 6,
    "start_time": "2022-04-12T14:27:49.200Z"
   },
   {
    "duration": 17,
    "start_time": "2022-04-12T14:27:49.559Z"
   },
   {
    "duration": 24,
    "start_time": "2022-04-12T14:27:49.848Z"
   },
   {
    "duration": 22,
    "start_time": "2022-04-12T14:28:32.112Z"
   },
   {
    "duration": 38,
    "start_time": "2022-04-12T14:28:33.472Z"
   },
   {
    "duration": 60,
    "start_time": "2022-04-12T14:29:26.367Z"
   },
   {
    "duration": 6,
    "start_time": "2022-04-12T14:36:28.069Z"
   },
   {
    "duration": 5,
    "start_time": "2022-04-12T14:36:34.653Z"
   },
   {
    "duration": 112,
    "start_time": "2022-04-12T14:38:13.756Z"
   },
   {
    "duration": 19,
    "start_time": "2022-04-12T14:38:16.868Z"
   },
   {
    "duration": 19,
    "start_time": "2022-04-12T14:38:25.067Z"
   },
   {
    "duration": 21,
    "start_time": "2022-04-12T14:38:29.251Z"
   },
   {
    "duration": 21,
    "start_time": "2022-04-12T14:38:50.164Z"
   },
   {
    "duration": 32,
    "start_time": "2022-04-12T14:39:09.851Z"
   },
   {
    "duration": 80,
    "start_time": "2022-04-12T14:39:30.547Z"
   },
   {
    "duration": 9,
    "start_time": "2022-04-12T14:42:06.505Z"
   },
   {
    "duration": 19,
    "start_time": "2022-04-12T14:42:09.777Z"
   },
   {
    "duration": 13,
    "start_time": "2022-04-12T14:42:34.627Z"
   },
   {
    "duration": 17,
    "start_time": "2022-04-12T14:43:01.963Z"
   },
   {
    "duration": 17,
    "start_time": "2022-04-12T14:44:36.672Z"
   },
   {
    "duration": 4,
    "start_time": "2022-04-12T15:06:53.113Z"
   },
   {
    "duration": 6,
    "start_time": "2022-04-12T15:07:41.818Z"
   },
   {
    "duration": 4,
    "start_time": "2022-04-12T15:08:28.162Z"
   },
   {
    "duration": 7,
    "start_time": "2022-04-12T15:09:19.761Z"
   },
   {
    "duration": 4,
    "start_time": "2022-04-12T15:09:24.202Z"
   },
   {
    "duration": 544,
    "start_time": "2022-04-12T15:09:24.210Z"
   },
   {
    "duration": 254,
    "start_time": "2022-04-12T15:09:24.756Z"
   },
   {
    "duration": 20,
    "start_time": "2022-04-12T15:09:25.014Z"
   },
   {
    "duration": 21,
    "start_time": "2022-04-12T15:09:25.036Z"
   },
   {
    "duration": 16,
    "start_time": "2022-04-12T15:09:25.059Z"
   },
   {
    "duration": 21,
    "start_time": "2022-04-12T15:09:25.077Z"
   },
   {
    "duration": 32,
    "start_time": "2022-04-12T15:09:25.100Z"
   },
   {
    "duration": 17,
    "start_time": "2022-04-12T15:09:25.135Z"
   },
   {
    "duration": 86,
    "start_time": "2022-04-12T15:09:25.154Z"
   },
   {
    "duration": 99,
    "start_time": "2022-04-12T15:09:25.326Z"
   },
   {
    "duration": 118,
    "start_time": "2022-04-12T15:09:25.429Z"
   },
   {
    "duration": 106,
    "start_time": "2022-04-12T15:09:25.627Z"
   },
   {
    "duration": 7,
    "start_time": "2022-04-12T15:09:31.241Z"
   },
   {
    "duration": 6,
    "start_time": "2022-04-12T15:09:49.331Z"
   },
   {
    "duration": 7,
    "start_time": "2022-04-12T15:09:51.537Z"
   },
   {
    "duration": 6,
    "start_time": "2022-04-12T15:10:12.097Z"
   },
   {
    "duration": 7,
    "start_time": "2022-04-12T15:13:13.928Z"
   },
   {
    "duration": 6,
    "start_time": "2022-04-12T15:17:11.847Z"
   },
   {
    "duration": 8,
    "start_time": "2022-04-12T15:17:14.767Z"
   },
   {
    "duration": 7,
    "start_time": "2022-04-12T15:17:35.846Z"
   },
   {
    "duration": 7,
    "start_time": "2022-04-12T15:17:38.830Z"
   },
   {
    "duration": 8,
    "start_time": "2022-04-12T15:17:52.097Z"
   },
   {
    "duration": 6,
    "start_time": "2022-04-12T15:19:50.344Z"
   },
   {
    "duration": 7,
    "start_time": "2022-04-12T15:20:26.701Z"
   },
   {
    "duration": 5,
    "start_time": "2022-04-12T15:20:31.919Z"
   },
   {
    "duration": 7,
    "start_time": "2022-04-12T15:21:16.322Z"
   },
   {
    "duration": 8,
    "start_time": "2022-04-12T15:23:19.788Z"
   },
   {
    "duration": 4,
    "start_time": "2022-04-12T15:24:42.205Z"
   },
   {
    "duration": 6,
    "start_time": "2022-04-12T15:24:45.931Z"
   },
   {
    "duration": 6,
    "start_time": "2022-04-12T15:33:15.553Z"
   },
   {
    "duration": 4,
    "start_time": "2022-04-12T15:35:15.967Z"
   },
   {
    "duration": 8,
    "start_time": "2022-04-12T15:35:18.336Z"
   },
   {
    "duration": 14,
    "start_time": "2022-04-12T15:35:34.616Z"
   },
   {
    "duration": 13,
    "start_time": "2022-04-12T15:35:53.295Z"
   },
   {
    "duration": 12,
    "start_time": "2022-04-12T15:36:15.287Z"
   },
   {
    "duration": 16,
    "start_time": "2022-04-12T15:36:26.798Z"
   },
   {
    "duration": 20,
    "start_time": "2022-04-12T15:36:59.815Z"
   },
   {
    "duration": 9,
    "start_time": "2022-04-12T15:37:21.543Z"
   },
   {
    "duration": 9,
    "start_time": "2022-04-12T15:37:24.430Z"
   },
   {
    "duration": 16,
    "start_time": "2022-04-12T15:37:36.528Z"
   },
   {
    "duration": 13,
    "start_time": "2022-04-12T15:37:39.318Z"
   },
   {
    "duration": 10,
    "start_time": "2022-04-12T15:37:49.046Z"
   },
   {
    "duration": 9,
    "start_time": "2022-04-12T15:38:03.734Z"
   },
   {
    "duration": 9,
    "start_time": "2022-04-12T15:38:08.014Z"
   },
   {
    "duration": 9,
    "start_time": "2022-04-12T15:38:11.518Z"
   },
   {
    "duration": 4,
    "start_time": "2022-04-12T15:38:16.273Z"
   },
   {
    "duration": 528,
    "start_time": "2022-04-12T15:38:16.280Z"
   },
   {
    "duration": 238,
    "start_time": "2022-04-12T15:38:16.826Z"
   },
   {
    "duration": 14,
    "start_time": "2022-04-12T15:38:17.066Z"
   },
   {
    "duration": 18,
    "start_time": "2022-04-12T15:38:17.083Z"
   },
   {
    "duration": 33,
    "start_time": "2022-04-12T15:38:17.103Z"
   },
   {
    "duration": 16,
    "start_time": "2022-04-12T15:38:17.138Z"
   },
   {
    "duration": 7,
    "start_time": "2022-04-12T15:38:17.156Z"
   },
   {
    "duration": 17,
    "start_time": "2022-04-12T15:38:17.165Z"
   },
   {
    "duration": 142,
    "start_time": "2022-04-12T15:38:17.184Z"
   },
   {
    "duration": 120,
    "start_time": "2022-04-12T15:38:17.332Z"
   },
   {
    "duration": 181,
    "start_time": "2022-04-12T15:38:17.458Z"
   },
   {
    "duration": 184,
    "start_time": "2022-04-12T15:38:17.643Z"
   },
   {
    "duration": 20,
    "start_time": "2022-04-12T15:38:17.830Z"
   },
   {
    "duration": 16,
    "start_time": "2022-04-12T15:38:19.173Z"
   },
   {
    "duration": 12,
    "start_time": "2022-04-12T15:38:28.446Z"
   },
   {
    "duration": 16,
    "start_time": "2022-04-12T15:38:41.294Z"
   },
   {
    "duration": 11,
    "start_time": "2022-04-12T15:38:49.791Z"
   },
   {
    "duration": 13,
    "start_time": "2022-04-12T15:39:00.430Z"
   },
   {
    "duration": 13,
    "start_time": "2022-04-12T15:39:08.693Z"
   },
   {
    "duration": 4,
    "start_time": "2022-04-12T15:39:11.880Z"
   },
   {
    "duration": 556,
    "start_time": "2022-04-12T15:39:11.888Z"
   },
   {
    "duration": 240,
    "start_time": "2022-04-12T15:39:12.446Z"
   },
   {
    "duration": 12,
    "start_time": "2022-04-12T15:39:12.688Z"
   },
   {
    "duration": 36,
    "start_time": "2022-04-12T15:39:12.703Z"
   },
   {
    "duration": 21,
    "start_time": "2022-04-12T15:39:12.742Z"
   },
   {
    "duration": 19,
    "start_time": "2022-04-12T15:39:12.765Z"
   },
   {
    "duration": 22,
    "start_time": "2022-04-12T15:39:12.786Z"
   },
   {
    "duration": 14,
    "start_time": "2022-04-12T15:39:12.825Z"
   },
   {
    "duration": 90,
    "start_time": "2022-04-12T15:39:12.842Z"
   },
   {
    "duration": 194,
    "start_time": "2022-04-12T15:39:12.938Z"
   },
   {
    "duration": 116,
    "start_time": "2022-04-12T15:39:13.136Z"
   },
   {
    "duration": 110,
    "start_time": "2022-04-12T15:39:13.327Z"
   },
   {
    "duration": 9,
    "start_time": "2022-04-12T15:39:13.439Z"
   },
   {
    "duration": 20,
    "start_time": "2022-04-12T15:39:13.450Z"
   },
   {
    "duration": 10,
    "start_time": "2022-04-12T15:39:18.038Z"
   },
   {
    "duration": 10,
    "start_time": "2022-04-12T15:39:22.062Z"
   },
   {
    "duration": 4,
    "start_time": "2022-04-12T15:40:04.817Z"
   },
   {
    "duration": 535,
    "start_time": "2022-04-12T15:40:04.824Z"
   },
   {
    "duration": 264,
    "start_time": "2022-04-12T15:40:05.361Z"
   },
   {
    "duration": 12,
    "start_time": "2022-04-12T15:40:05.628Z"
   },
   {
    "duration": 28,
    "start_time": "2022-04-12T15:40:05.643Z"
   },
   {
    "duration": 32,
    "start_time": "2022-04-12T15:40:05.674Z"
   },
   {
    "duration": 19,
    "start_time": "2022-04-12T15:40:05.708Z"
   },
   {
    "duration": 7,
    "start_time": "2022-04-12T15:40:05.730Z"
   },
   {
    "duration": 25,
    "start_time": "2022-04-12T15:40:05.739Z"
   },
   {
    "duration": 159,
    "start_time": "2022-04-12T15:40:05.766Z"
   },
   {
    "duration": 122,
    "start_time": "2022-04-12T15:40:05.931Z"
   },
   {
    "duration": 203,
    "start_time": "2022-04-12T15:40:06.125Z"
   },
   {
    "duration": 104,
    "start_time": "2022-04-12T15:40:06.333Z"
   },
   {
    "duration": 54,
    "start_time": "2022-04-12T15:40:06.439Z"
   },
   {
    "duration": 12,
    "start_time": "2022-04-12T15:40:07.590Z"
   },
   {
    "duration": 10,
    "start_time": "2022-04-12T15:40:35.092Z"
   },
   {
    "duration": 13,
    "start_time": "2022-04-12T15:40:56.205Z"
   },
   {
    "duration": 8,
    "start_time": "2022-04-12T15:41:40.669Z"
   },
   {
    "duration": 11,
    "start_time": "2022-04-12T15:41:42.063Z"
   },
   {
    "duration": 12,
    "start_time": "2022-04-12T15:41:55.037Z"
   },
   {
    "duration": 8,
    "start_time": "2022-04-12T15:42:02.069Z"
   },
   {
    "duration": 8,
    "start_time": "2022-04-12T15:42:43.972Z"
   },
   {
    "duration": 8,
    "start_time": "2022-04-12T15:43:04.693Z"
   },
   {
    "duration": 7,
    "start_time": "2022-04-12T15:43:17.117Z"
   },
   {
    "duration": 11,
    "start_time": "2022-04-12T15:43:18.052Z"
   },
   {
    "duration": 10,
    "start_time": "2022-04-12T15:43:25.901Z"
   },
   {
    "duration": 6,
    "start_time": "2022-04-12T15:44:41.925Z"
   },
   {
    "duration": 8,
    "start_time": "2022-04-12T15:44:50.453Z"
   },
   {
    "duration": 8,
    "start_time": "2022-04-12T15:45:10.980Z"
   },
   {
    "duration": 7,
    "start_time": "2022-04-12T15:45:28.037Z"
   },
   {
    "duration": 10,
    "start_time": "2022-04-12T15:45:28.756Z"
   },
   {
    "duration": 10,
    "start_time": "2022-04-12T15:45:30.764Z"
   },
   {
    "duration": 4,
    "start_time": "2022-04-12T15:53:16.857Z"
   },
   {
    "duration": 5,
    "start_time": "2022-04-12T15:54:19.904Z"
   },
   {
    "duration": 5,
    "start_time": "2022-04-12T15:54:35.504Z"
   },
   {
    "duration": 11,
    "start_time": "2022-04-12T16:03:46.942Z"
   },
   {
    "duration": 8,
    "start_time": "2022-04-12T16:03:54.917Z"
   },
   {
    "duration": 7,
    "start_time": "2022-04-12T16:04:16.325Z"
   },
   {
    "duration": 6,
    "start_time": "2022-04-12T16:04:47.293Z"
   },
   {
    "duration": 1693,
    "start_time": "2022-04-12T16:04:52.477Z"
   },
   {
    "duration": 8,
    "start_time": "2022-04-12T16:05:08.469Z"
   },
   {
    "duration": 7,
    "start_time": "2022-04-12T16:05:15.701Z"
   },
   {
    "duration": 5,
    "start_time": "2022-04-12T16:05:31.312Z"
   },
   {
    "duration": 553,
    "start_time": "2022-04-12T16:05:31.319Z"
   },
   {
    "duration": 283,
    "start_time": "2022-04-12T16:05:31.875Z"
   },
   {
    "duration": 11,
    "start_time": "2022-04-12T16:05:32.160Z"
   },
   {
    "duration": 33,
    "start_time": "2022-04-12T16:05:32.174Z"
   },
   {
    "duration": 23,
    "start_time": "2022-04-12T16:05:32.209Z"
   },
   {
    "duration": 21,
    "start_time": "2022-04-12T16:05:32.235Z"
   },
   {
    "duration": 18,
    "start_time": "2022-04-12T16:05:32.259Z"
   },
   {
    "duration": 22,
    "start_time": "2022-04-12T16:05:32.279Z"
   },
   {
    "duration": 40,
    "start_time": "2022-04-12T16:05:32.304Z"
   },
   {
    "duration": 204,
    "start_time": "2022-04-12T16:05:32.349Z"
   },
   {
    "duration": 193,
    "start_time": "2022-04-12T16:05:32.556Z"
   },
   {
    "duration": 178,
    "start_time": "2022-04-12T16:05:32.753Z"
   },
   {
    "duration": 7,
    "start_time": "2022-04-12T16:05:32.933Z"
   },
   {
    "duration": 24,
    "start_time": "2022-04-12T16:05:32.943Z"
   },
   {
    "duration": 15,
    "start_time": "2022-04-12T16:05:32.969Z"
   },
   {
    "duration": 40,
    "start_time": "2022-04-12T16:05:32.986Z"
   },
   {
    "duration": 8,
    "start_time": "2022-04-12T16:05:33.028Z"
   },
   {
    "duration": 7,
    "start_time": "2022-04-12T16:05:35.021Z"
   },
   {
    "duration": 5,
    "start_time": "2022-04-12T16:05:35.765Z"
   },
   {
    "duration": 6,
    "start_time": "2022-04-12T16:05:47.924Z"
   },
   {
    "duration": 8,
    "start_time": "2022-04-12T16:06:22.141Z"
   },
   {
    "duration": 5,
    "start_time": "2022-04-12T16:11:58.395Z"
   },
   {
    "duration": 6,
    "start_time": "2022-04-12T16:13:00.074Z"
   },
   {
    "duration": 14,
    "start_time": "2022-04-12T16:13:01.081Z"
   },
   {
    "duration": 17,
    "start_time": "2022-04-12T16:13:05.913Z"
   },
   {
    "duration": 5,
    "start_time": "2022-04-12T16:13:25.210Z"
   },
   {
    "duration": 10,
    "start_time": "2022-04-12T16:13:25.793Z"
   },
   {
    "duration": 5,
    "start_time": "2022-04-12T16:13:41.969Z"
   },
   {
    "duration": 11,
    "start_time": "2022-04-12T16:13:42.329Z"
   },
   {
    "duration": 5,
    "start_time": "2022-04-12T16:14:26.202Z"
   },
   {
    "duration": 10,
    "start_time": "2022-04-12T16:14:26.498Z"
   },
   {
    "duration": 5,
    "start_time": "2022-04-12T16:14:42.968Z"
   },
   {
    "duration": 10,
    "start_time": "2022-04-12T16:14:46.697Z"
   },
   {
    "duration": 4,
    "start_time": "2022-04-12T16:15:11.185Z"
   },
   {
    "duration": 15,
    "start_time": "2022-04-12T16:20:57.071Z"
   },
   {
    "duration": 22,
    "start_time": "2022-04-12T16:21:04.303Z"
   },
   {
    "duration": 12,
    "start_time": "2022-04-12T16:21:41.824Z"
   },
   {
    "duration": 5,
    "start_time": "2022-04-12T16:22:07.670Z"
   },
   {
    "duration": 14,
    "start_time": "2022-04-12T16:22:12.175Z"
   },
   {
    "duration": 15,
    "start_time": "2022-04-12T16:26:57.244Z"
   },
   {
    "duration": 14,
    "start_time": "2022-04-12T16:27:05.284Z"
   },
   {
    "duration": 13,
    "start_time": "2022-04-12T16:27:21.235Z"
   },
   {
    "duration": 8,
    "start_time": "2022-04-12T16:27:24.740Z"
   },
   {
    "duration": 15,
    "start_time": "2022-04-12T16:27:33.883Z"
   },
   {
    "duration": 6,
    "start_time": "2022-04-12T16:29:30.203Z"
   },
   {
    "duration": 31,
    "start_time": "2022-04-12T16:30:05.730Z"
   },
   {
    "duration": 28,
    "start_time": "2022-04-12T16:31:08.540Z"
   },
   {
    "duration": 5,
    "start_time": "2022-04-12T16:31:36.620Z"
   },
   {
    "duration": 28,
    "start_time": "2022-04-12T16:31:38.043Z"
   },
   {
    "duration": 6,
    "start_time": "2022-04-12T16:32:15.881Z"
   },
   {
    "duration": 15,
    "start_time": "2022-04-12T16:32:16.404Z"
   },
   {
    "duration": 5,
    "start_time": "2022-04-12T16:32:46.362Z"
   },
   {
    "duration": 31,
    "start_time": "2022-04-12T16:32:47.201Z"
   },
   {
    "duration": 7,
    "start_time": "2022-04-12T16:33:01.761Z"
   },
   {
    "duration": 9,
    "start_time": "2022-04-12T16:33:14.993Z"
   },
   {
    "duration": 5,
    "start_time": "2022-04-12T16:33:34.282Z"
   },
   {
    "duration": 19,
    "start_time": "2022-04-12T16:33:34.738Z"
   },
   {
    "duration": 5,
    "start_time": "2022-04-12T16:33:46.378Z"
   },
   {
    "duration": 17,
    "start_time": "2022-04-12T16:33:46.865Z"
   },
   {
    "duration": 5,
    "start_time": "2022-04-12T16:34:54.793Z"
   },
   {
    "duration": 19,
    "start_time": "2022-04-12T16:34:55.248Z"
   },
   {
    "duration": 6,
    "start_time": "2022-04-12T16:35:06.889Z"
   },
   {
    "duration": 12,
    "start_time": "2022-04-12T16:35:07.282Z"
   },
   {
    "duration": 15,
    "start_time": "2022-04-12T16:37:04.144Z"
   },
   {
    "duration": 14,
    "start_time": "2022-04-12T16:37:22.336Z"
   },
   {
    "duration": 1714,
    "start_time": "2022-04-12T16:37:32.552Z"
   },
   {
    "duration": 24,
    "start_time": "2022-04-12T16:37:38.095Z"
   },
   {
    "duration": 1615,
    "start_time": "2022-04-12T16:38:32.896Z"
   },
   {
    "duration": 4,
    "start_time": "2022-04-12T16:38:52.926Z"
   },
   {
    "duration": 2299,
    "start_time": "2022-04-12T16:38:53.510Z"
   },
   {
    "duration": 23,
    "start_time": "2022-04-12T16:38:56.430Z"
   },
   {
    "duration": 1660,
    "start_time": "2022-04-12T16:39:01.815Z"
   },
   {
    "duration": 23,
    "start_time": "2022-04-12T16:39:04.152Z"
   },
   {
    "duration": 6,
    "start_time": "2022-04-12T16:39:34.919Z"
   },
   {
    "duration": 4,
    "start_time": "2022-04-12T16:39:35.862Z"
   },
   {
    "duration": 1721,
    "start_time": "2022-04-12T16:39:36.286Z"
   },
   {
    "duration": 27,
    "start_time": "2022-04-12T16:39:38.010Z"
   },
   {
    "duration": 5,
    "start_time": "2022-04-12T16:40:29.951Z"
   },
   {
    "duration": 5,
    "start_time": "2022-04-12T16:40:30.821Z"
   },
   {
    "duration": 1595,
    "start_time": "2022-04-12T16:40:31.248Z"
   },
   {
    "duration": 24,
    "start_time": "2022-04-12T16:40:33.582Z"
   },
   {
    "duration": 1697,
    "start_time": "2022-04-12T16:41:15.766Z"
   },
   {
    "duration": 1606,
    "start_time": "2022-04-12T16:41:28.966Z"
   },
   {
    "duration": 1592,
    "start_time": "2022-04-12T16:41:46.964Z"
   },
   {
    "duration": 1583,
    "start_time": "2022-04-12T16:42:01.133Z"
   },
   {
    "duration": 1625,
    "start_time": "2022-04-12T16:42:08.173Z"
   },
   {
    "duration": 1642,
    "start_time": "2022-04-12T16:42:10.405Z"
   },
   {
    "duration": 1605,
    "start_time": "2022-04-12T16:42:16.341Z"
   },
   {
    "duration": 1597,
    "start_time": "2022-04-12T16:42:17.948Z"
   },
   {
    "duration": 1656,
    "start_time": "2022-04-12T16:42:19.547Z"
   },
   {
    "duration": 5,
    "start_time": "2022-04-12T16:42:53.341Z"
   },
   {
    "duration": 8,
    "start_time": "2022-04-12T16:43:18.669Z"
   },
   {
    "duration": 9,
    "start_time": "2022-04-12T16:43:39.549Z"
   },
   {
    "duration": 8,
    "start_time": "2022-04-12T16:43:43.637Z"
   },
   {
    "duration": 6,
    "start_time": "2022-04-12T16:45:47.693Z"
   },
   {
    "duration": 4,
    "start_time": "2022-04-12T16:45:48.277Z"
   },
   {
    "duration": 1482,
    "start_time": "2022-04-12T16:45:48.596Z"
   },
   {
    "duration": 6,
    "start_time": "2022-04-12T16:49:33.716Z"
   },
   {
    "duration": 4,
    "start_time": "2022-04-12T16:49:34.034Z"
   },
   {
    "duration": 1521,
    "start_time": "2022-04-12T16:49:34.266Z"
   },
   {
    "duration": 1895,
    "start_time": "2022-04-12T16:49:38.673Z"
   },
   {
    "duration": 1598,
    "start_time": "2022-04-12T16:49:41.235Z"
   },
   {
    "duration": 5,
    "start_time": "2022-04-12T16:49:50.180Z"
   },
   {
    "duration": 657,
    "start_time": "2022-04-12T16:49:50.188Z"
   },
   {
    "duration": 259,
    "start_time": "2022-04-12T16:49:50.848Z"
   },
   {
    "duration": 24,
    "start_time": "2022-04-12T16:49:51.110Z"
   },
   {
    "duration": 20,
    "start_time": "2022-04-12T16:49:51.138Z"
   },
   {
    "duration": 20,
    "start_time": "2022-04-12T16:49:51.161Z"
   },
   {
    "duration": 16,
    "start_time": "2022-04-12T16:49:51.183Z"
   },
   {
    "duration": 8,
    "start_time": "2022-04-12T16:49:51.225Z"
   },
   {
    "duration": 17,
    "start_time": "2022-04-12T16:49:51.237Z"
   },
   {
    "duration": 73,
    "start_time": "2022-04-12T16:49:51.256Z"
   },
   {
    "duration": 192,
    "start_time": "2022-04-12T16:49:51.333Z"
   },
   {
    "duration": 197,
    "start_time": "2022-04-12T16:49:51.529Z"
   },
   {
    "duration": 109,
    "start_time": "2022-04-12T16:49:51.730Z"
   },
   {
    "duration": 10,
    "start_time": "2022-04-12T16:49:51.842Z"
   },
   {
    "duration": 5,
    "start_time": "2022-04-12T16:49:53.619Z"
   },
   {
    "duration": 3,
    "start_time": "2022-04-12T16:49:54.427Z"
   },
   {
    "duration": 1527,
    "start_time": "2022-04-12T16:49:54.722Z"
   },
   {
    "duration": 1615,
    "start_time": "2022-04-12T16:49:57.514Z"
   },
   {
    "duration": 1509,
    "start_time": "2022-04-12T16:50:00.234Z"
   },
   {
    "duration": 11,
    "start_time": "2022-04-12T16:50:42.971Z"
   },
   {
    "duration": 10,
    "start_time": "2022-04-12T16:51:18.955Z"
   },
   {
    "duration": 11,
    "start_time": "2022-04-12T16:51:20.803Z"
   },
   {
    "duration": 1506,
    "start_time": "2022-04-12T16:51:21.682Z"
   },
   {
    "duration": 11,
    "start_time": "2022-04-12T16:51:24.338Z"
   },
   {
    "duration": 12,
    "start_time": "2022-04-12T16:51:25.049Z"
   },
   {
    "duration": 10,
    "start_time": "2022-04-12T16:51:25.834Z"
   },
   {
    "duration": 18,
    "start_time": "2022-04-12T16:51:42.722Z"
   },
   {
    "duration": 102,
    "start_time": "2022-04-12T16:52:12.779Z"
   },
   {
    "duration": 18,
    "start_time": "2022-04-12T16:52:24.714Z"
   },
   {
    "duration": 18,
    "start_time": "2022-04-12T16:52:34.441Z"
   },
   {
    "duration": 17,
    "start_time": "2022-04-12T16:52:59.146Z"
   },
   {
    "duration": 13,
    "start_time": "2022-04-12T16:55:07.165Z"
   },
   {
    "duration": 24,
    "start_time": "2022-04-12T16:55:41.618Z"
   },
   {
    "duration": 26,
    "start_time": "2022-04-12T16:56:02.858Z"
   },
   {
    "duration": 7,
    "start_time": "2022-04-12T16:56:17.620Z"
   },
   {
    "duration": 629,
    "start_time": "2022-04-12T16:56:17.630Z"
   },
   {
    "duration": 250,
    "start_time": "2022-04-12T16:56:18.262Z"
   },
   {
    "duration": 14,
    "start_time": "2022-04-12T16:56:18.524Z"
   },
   {
    "duration": 18,
    "start_time": "2022-04-12T16:56:18.541Z"
   },
   {
    "duration": 17,
    "start_time": "2022-04-12T16:56:18.561Z"
   },
   {
    "duration": 45,
    "start_time": "2022-04-12T16:56:18.581Z"
   },
   {
    "duration": 6,
    "start_time": "2022-04-12T16:56:18.628Z"
   },
   {
    "duration": 17,
    "start_time": "2022-04-12T16:56:18.636Z"
   },
   {
    "duration": 72,
    "start_time": "2022-04-12T16:56:18.656Z"
   },
   {
    "duration": 199,
    "start_time": "2022-04-12T16:56:18.826Z"
   },
   {
    "duration": 99,
    "start_time": "2022-04-12T16:56:19.027Z"
   },
   {
    "duration": 107,
    "start_time": "2022-04-12T16:56:19.129Z"
   },
   {
    "duration": 7,
    "start_time": "2022-04-12T16:56:19.239Z"
   },
   {
    "duration": 10,
    "start_time": "2022-04-12T16:56:19.249Z"
   },
   {
    "duration": 17,
    "start_time": "2022-04-12T16:56:19.261Z"
   },
   {
    "duration": 7,
    "start_time": "2022-04-12T16:56:24.872Z"
   },
   {
    "duration": 8,
    "start_time": "2022-04-12T16:56:30.449Z"
   },
   {
    "duration": 5,
    "start_time": "2022-04-12T16:58:09.792Z"
   },
   {
    "duration": 24,
    "start_time": "2022-04-12T16:58:13.224Z"
   },
   {
    "duration": 32,
    "start_time": "2022-04-12T16:58:35.534Z"
   },
   {
    "duration": 5,
    "start_time": "2022-04-12T16:59:20.440Z"
   },
   {
    "duration": 12,
    "start_time": "2022-04-12T16:59:21.215Z"
   },
   {
    "duration": 24,
    "start_time": "2022-04-12T16:59:29.936Z"
   },
   {
    "duration": 8,
    "start_time": "2022-04-12T17:00:33.871Z"
   },
   {
    "duration": 16,
    "start_time": "2022-04-12T17:00:48.717Z"
   },
   {
    "duration": 6,
    "start_time": "2022-04-12T17:00:52.382Z"
   },
   {
    "duration": 27,
    "start_time": "2022-04-12T17:00:54.005Z"
   },
   {
    "duration": 14,
    "start_time": "2022-04-12T17:00:58.933Z"
   },
   {
    "duration": 26,
    "start_time": "2022-04-12T17:01:22.694Z"
   },
   {
    "duration": 6,
    "start_time": "2022-04-12T17:01:29.766Z"
   },
   {
    "duration": 13,
    "start_time": "2022-04-12T17:01:30.182Z"
   },
   {
    "duration": 102,
    "start_time": "2022-04-12T17:01:30.638Z"
   },
   {
    "duration": 84,
    "start_time": "2022-04-12T17:01:34.045Z"
   },
   {
    "duration": 51,
    "start_time": "2022-04-12T17:01:58.781Z"
   },
   {
    "duration": 29,
    "start_time": "2022-04-12T17:02:05.910Z"
   },
   {
    "duration": 6,
    "start_time": "2022-04-12T17:02:18.333Z"
   },
   {
    "duration": 14,
    "start_time": "2022-04-12T17:02:18.916Z"
   },
   {
    "duration": 14,
    "start_time": "2022-04-12T17:02:35.815Z"
   },
   {
    "duration": 6,
    "start_time": "2022-04-12T17:02:39.573Z"
   },
   {
    "duration": 15,
    "start_time": "2022-04-12T17:02:40.158Z"
   },
   {
    "duration": 13,
    "start_time": "2022-04-12T17:02:56.887Z"
   },
   {
    "duration": 1619,
    "start_time": "2022-04-12T17:02:59.676Z"
   },
   {
    "duration": 2381,
    "start_time": "2022-04-12T17:03:03.245Z"
   },
   {
    "duration": 2059,
    "start_time": "2022-04-12T17:03:24.518Z"
   },
   {
    "duration": 102,
    "start_time": "2022-04-12T17:03:56.325Z"
   },
   {
    "duration": 32,
    "start_time": "2022-04-12T17:04:05.278Z"
   },
   {
    "duration": 18,
    "start_time": "2022-04-12T17:04:08.421Z"
   },
   {
    "duration": 7,
    "start_time": "2022-04-12T17:04:12.900Z"
   },
   {
    "duration": 5,
    "start_time": "2022-04-12T17:04:16.724Z"
   },
   {
    "duration": 13,
    "start_time": "2022-04-12T17:04:17.148Z"
   },
   {
    "duration": 6,
    "start_time": "2022-04-12T17:04:20.905Z"
   },
   {
    "duration": 1786,
    "start_time": "2022-04-12T17:04:20.915Z"
   },
   {
    "duration": 1812,
    "start_time": "2022-04-12T17:04:24.244Z"
   },
   {
    "duration": 1599,
    "start_time": "2022-04-12T17:04:26.971Z"
   },
   {
    "duration": 1867,
    "start_time": "2022-04-12T17:04:40.948Z"
   },
   {
    "duration": 5,
    "start_time": "2022-04-12T17:05:53.740Z"
   },
   {
    "duration": 5,
    "start_time": "2022-04-12T17:05:54.419Z"
   },
   {
    "duration": 30,
    "start_time": "2022-04-12T17:05:54.652Z"
   },
   {
    "duration": 5,
    "start_time": "2022-04-12T17:05:59.444Z"
   },
   {
    "duration": 5,
    "start_time": "2022-04-12T17:05:59.611Z"
   },
   {
    "duration": 1803,
    "start_time": "2022-04-12T17:06:00.093Z"
   },
   {
    "duration": 6,
    "start_time": "2022-04-12T17:07:14.059Z"
   },
   {
    "duration": 4,
    "start_time": "2022-04-12T17:07:14.803Z"
   },
   {
    "duration": 30,
    "start_time": "2022-04-12T17:07:15.100Z"
   },
   {
    "duration": 10,
    "start_time": "2022-04-12T17:07:23.459Z"
   },
   {
    "duration": 9,
    "start_time": "2022-04-12T17:07:30.235Z"
   },
   {
    "duration": 7,
    "start_time": "2022-04-12T17:09:31.546Z"
   },
   {
    "duration": 6,
    "start_time": "2022-04-12T17:09:53.859Z"
   },
   {
    "duration": 528,
    "start_time": "2022-04-12T17:09:53.870Z"
   },
   {
    "duration": 280,
    "start_time": "2022-04-12T17:09:54.401Z"
   },
   {
    "duration": 12,
    "start_time": "2022-04-12T17:09:54.685Z"
   },
   {
    "duration": 40,
    "start_time": "2022-04-12T17:09:54.699Z"
   },
   {
    "duration": 22,
    "start_time": "2022-04-12T17:09:54.741Z"
   },
   {
    "duration": 22,
    "start_time": "2022-04-12T17:09:54.765Z"
   },
   {
    "duration": 9,
    "start_time": "2022-04-12T17:09:54.789Z"
   },
   {
    "duration": 38,
    "start_time": "2022-04-12T17:09:54.800Z"
   },
   {
    "duration": 97,
    "start_time": "2022-04-12T17:09:54.842Z"
   },
   {
    "duration": 128,
    "start_time": "2022-04-12T17:09:54.942Z"
   },
   {
    "duration": 123,
    "start_time": "2022-04-12T17:09:55.127Z"
   },
   {
    "duration": 180,
    "start_time": "2022-04-12T17:09:55.253Z"
   },
   {
    "duration": 12,
    "start_time": "2022-04-12T17:09:55.436Z"
   },
   {
    "duration": 6,
    "start_time": "2022-04-12T17:09:57.353Z"
   },
   {
    "duration": 5,
    "start_time": "2022-04-12T17:09:57.746Z"
   },
   {
    "duration": 7,
    "start_time": "2022-04-12T17:09:58.161Z"
   },
   {
    "duration": 9,
    "start_time": "2022-04-12T17:09:59.234Z"
   },
   {
    "duration": 42,
    "start_time": "2022-04-12T17:10:02.092Z"
   },
   {
    "duration": 41,
    "start_time": "2022-04-12T17:11:16.379Z"
   },
   {
    "duration": 42,
    "start_time": "2022-04-12T17:11:36.356Z"
   },
   {
    "duration": 4,
    "start_time": "2022-04-12T17:11:45.041Z"
   },
   {
    "duration": 8,
    "start_time": "2022-04-12T17:11:49.842Z"
   },
   {
    "duration": 5,
    "start_time": "2022-04-12T17:12:53.690Z"
   },
   {
    "duration": 2058,
    "start_time": "2022-04-12T17:12:55.770Z"
   },
   {
    "duration": 1959,
    "start_time": "2022-04-12T17:12:59.913Z"
   },
   {
    "duration": 1958,
    "start_time": "2022-04-12T17:13:03.713Z"
   },
   {
    "duration": 5,
    "start_time": "2022-04-12T17:13:40.960Z"
   },
   {
    "duration": 536,
    "start_time": "2022-04-12T17:13:40.968Z"
   },
   {
    "duration": 262,
    "start_time": "2022-04-12T17:13:41.524Z"
   },
   {
    "duration": 11,
    "start_time": "2022-04-12T17:13:41.788Z"
   },
   {
    "duration": 34,
    "start_time": "2022-04-12T17:13:41.802Z"
   },
   {
    "duration": 35,
    "start_time": "2022-04-12T17:13:41.838Z"
   },
   {
    "duration": 23,
    "start_time": "2022-04-12T17:13:41.875Z"
   },
   {
    "duration": 27,
    "start_time": "2022-04-12T17:13:41.901Z"
   },
   {
    "duration": 36,
    "start_time": "2022-04-12T17:13:41.931Z"
   },
   {
    "duration": 68,
    "start_time": "2022-04-12T17:13:41.970Z"
   },
   {
    "duration": 99,
    "start_time": "2022-04-12T17:13:42.127Z"
   },
   {
    "duration": 122,
    "start_time": "2022-04-12T17:13:42.228Z"
   },
   {
    "duration": 109,
    "start_time": "2022-04-12T17:13:42.427Z"
   },
   {
    "duration": 13,
    "start_time": "2022-04-12T17:13:42.539Z"
   },
   {
    "duration": 5,
    "start_time": "2022-04-12T17:13:45.185Z"
   },
   {
    "duration": 4,
    "start_time": "2022-04-12T17:13:46.744Z"
   },
   {
    "duration": 2203,
    "start_time": "2022-04-12T17:13:47.160Z"
   },
   {
    "duration": 2244,
    "start_time": "2022-04-12T17:13:58.968Z"
   },
   {
    "duration": 1945,
    "start_time": "2022-04-12T17:14:26.296Z"
   },
   {
    "duration": 1958,
    "start_time": "2022-04-12T17:14:30.224Z"
   },
   {
    "duration": 5,
    "start_time": "2022-04-12T17:14:36.267Z"
   },
   {
    "duration": 564,
    "start_time": "2022-04-12T17:14:36.275Z"
   },
   {
    "duration": 240,
    "start_time": "2022-04-12T17:14:36.842Z"
   },
   {
    "duration": 15,
    "start_time": "2022-04-12T17:14:37.085Z"
   },
   {
    "duration": 23,
    "start_time": "2022-04-12T17:14:37.124Z"
   },
   {
    "duration": 21,
    "start_time": "2022-04-12T17:14:37.150Z"
   },
   {
    "duration": 30,
    "start_time": "2022-04-12T17:14:37.174Z"
   },
   {
    "duration": 24,
    "start_time": "2022-04-12T17:14:37.207Z"
   },
   {
    "duration": 19,
    "start_time": "2022-04-12T17:14:37.234Z"
   },
   {
    "duration": 74,
    "start_time": "2022-04-12T17:14:37.256Z"
   },
   {
    "duration": 108,
    "start_time": "2022-04-12T17:14:37.423Z"
   },
   {
    "duration": 118,
    "start_time": "2022-04-12T17:14:37.535Z"
   },
   {
    "duration": 109,
    "start_time": "2022-04-12T17:14:37.727Z"
   },
   {
    "duration": 7,
    "start_time": "2022-04-12T17:14:37.839Z"
   },
   {
    "duration": 8,
    "start_time": "2022-04-12T17:14:37.848Z"
   },
   {
    "duration": 6,
    "start_time": "2022-04-12T17:14:37.858Z"
   },
   {
    "duration": 5,
    "start_time": "2022-04-12T17:14:43.447Z"
   },
   {
    "duration": 1949,
    "start_time": "2022-04-12T17:14:44.032Z"
   },
   {
    "duration": 1958,
    "start_time": "2022-04-12T17:14:47.728Z"
   },
   {
    "duration": 1956,
    "start_time": "2022-04-12T17:14:51.423Z"
   },
   {
    "duration": 20,
    "start_time": "2022-04-12T17:16:09.544Z"
   },
   {
    "duration": 1928,
    "start_time": "2022-04-12T17:16:15.536Z"
   },
   {
    "duration": 2359,
    "start_time": "2022-04-12T17:16:19.815Z"
   },
   {
    "duration": 2007,
    "start_time": "2022-04-12T17:16:53.152Z"
   },
   {
    "duration": 1941,
    "start_time": "2022-04-12T17:17:24.672Z"
   },
   {
    "duration": 1949,
    "start_time": "2022-04-12T17:17:26.616Z"
   },
   {
    "duration": 2044,
    "start_time": "2022-04-12T17:17:28.567Z"
   },
   {
    "duration": 136,
    "start_time": "2022-04-12T17:17:35.892Z"
   },
   {
    "duration": 2030,
    "start_time": "2022-04-12T17:17:41.047Z"
   },
   {
    "duration": 1954,
    "start_time": "2022-04-12T17:17:43.079Z"
   },
   {
    "duration": 1976,
    "start_time": "2022-04-12T17:17:45.035Z"
   },
   {
    "duration": 6,
    "start_time": "2022-04-12T17:19:09.673Z"
   },
   {
    "duration": 548,
    "start_time": "2022-04-12T17:19:09.683Z"
   },
   {
    "duration": 251,
    "start_time": "2022-04-12T17:19:10.234Z"
   },
   {
    "duration": 10,
    "start_time": "2022-04-12T17:19:10.489Z"
   },
   {
    "duration": 42,
    "start_time": "2022-04-12T17:19:10.502Z"
   },
   {
    "duration": 25,
    "start_time": "2022-04-12T17:19:10.547Z"
   },
   {
    "duration": 25,
    "start_time": "2022-04-12T17:19:10.576Z"
   },
   {
    "duration": 23,
    "start_time": "2022-04-12T17:19:10.604Z"
   },
   {
    "duration": 15,
    "start_time": "2022-04-12T17:19:10.631Z"
   },
   {
    "duration": 84,
    "start_time": "2022-04-12T17:19:10.649Z"
   },
   {
    "duration": 115,
    "start_time": "2022-04-12T17:19:10.736Z"
   },
   {
    "duration": 121,
    "start_time": "2022-04-12T17:19:10.927Z"
   },
   {
    "duration": 182,
    "start_time": "2022-04-12T17:19:11.052Z"
   },
   {
    "duration": 6,
    "start_time": "2022-04-12T17:19:11.237Z"
   },
   {
    "duration": 16,
    "start_time": "2022-04-12T17:19:11.246Z"
   },
   {
    "duration": 7,
    "start_time": "2022-04-12T17:19:11.265Z"
   },
   {
    "duration": 1948,
    "start_time": "2022-04-12T17:19:11.274Z"
   },
   {
    "duration": 2022,
    "start_time": "2022-04-12T17:19:13.224Z"
   },
   {
    "duration": 2021,
    "start_time": "2022-04-12T17:19:15.250Z"
   },
   {
    "duration": 6,
    "start_time": "2022-04-12T17:21:49.752Z"
   },
   {
    "duration": 9,
    "start_time": "2022-04-12T17:21:52.630Z"
   },
   {
    "duration": 4836,
    "start_time": "2022-04-12T17:23:01.118Z"
   },
   {
    "duration": 1909,
    "start_time": "2022-04-12T17:23:21.158Z"
   },
   {
    "duration": 7,
    "start_time": "2022-04-12T17:23:32.957Z"
   },
   {
    "duration": 6,
    "start_time": "2022-04-12T17:23:37.109Z"
   },
   {
    "duration": 8,
    "start_time": "2022-04-12T17:24:12.932Z"
   },
   {
    "duration": 10,
    "start_time": "2022-04-12T17:24:22.500Z"
   },
   {
    "duration": 9,
    "start_time": "2022-04-12T17:24:34.534Z"
   },
   {
    "duration": 8,
    "start_time": "2022-04-12T17:25:00.861Z"
   },
   {
    "duration": 12,
    "start_time": "2022-04-12T17:26:49.973Z"
   },
   {
    "duration": 6,
    "start_time": "2022-04-12T17:27:04.268Z"
   },
   {
    "duration": 5,
    "start_time": "2022-04-12T17:27:31.213Z"
   },
   {
    "duration": 6,
    "start_time": "2022-04-12T17:27:40.133Z"
   },
   {
    "duration": 5,
    "start_time": "2022-04-12T17:27:56.148Z"
   },
   {
    "duration": 5,
    "start_time": "2022-04-12T17:28:09.829Z"
   },
   {
    "duration": 4,
    "start_time": "2022-04-12T17:28:10.252Z"
   },
   {
    "duration": 4,
    "start_time": "2022-04-12T17:28:10.581Z"
   },
   {
    "duration": 6,
    "start_time": "2022-04-12T17:29:15.940Z"
   },
   {
    "duration": 5,
    "start_time": "2022-04-12T17:30:11.878Z"
   },
   {
    "duration": 5,
    "start_time": "2022-04-12T17:30:12.300Z"
   },
   {
    "duration": 6,
    "start_time": "2022-04-12T17:30:12.619Z"
   },
   {
    "duration": 1932,
    "start_time": "2022-04-12T17:30:27.827Z"
   },
   {
    "duration": 7,
    "start_time": "2022-04-12T17:30:30.971Z"
   },
   {
    "duration": 6,
    "start_time": "2022-04-12T17:35:10.292Z"
   },
   {
    "duration": 6,
    "start_time": "2022-04-12T17:36:48.401Z"
   },
   {
    "duration": 5,
    "start_time": "2022-04-12T17:42:30.340Z"
   },
   {
    "duration": 523,
    "start_time": "2022-04-12T17:42:30.347Z"
   },
   {
    "duration": 238,
    "start_time": "2022-04-12T17:42:30.873Z"
   },
   {
    "duration": 12,
    "start_time": "2022-04-12T17:42:31.125Z"
   },
   {
    "duration": 26,
    "start_time": "2022-04-12T17:42:31.141Z"
   },
   {
    "duration": 11,
    "start_time": "2022-04-12T17:42:31.170Z"
   },
   {
    "duration": 29,
    "start_time": "2022-04-12T17:42:31.183Z"
   },
   {
    "duration": 6,
    "start_time": "2022-04-12T17:42:31.224Z"
   },
   {
    "duration": 16,
    "start_time": "2022-04-12T17:42:31.233Z"
   },
   {
    "duration": 81,
    "start_time": "2022-04-12T17:42:31.252Z"
   },
   {
    "duration": 189,
    "start_time": "2022-04-12T17:42:31.338Z"
   },
   {
    "duration": 195,
    "start_time": "2022-04-12T17:42:31.532Z"
   },
   {
    "duration": 104,
    "start_time": "2022-04-12T17:42:31.732Z"
   },
   {
    "duration": 14,
    "start_time": "2022-04-12T17:42:31.838Z"
   },
   {
    "duration": 14,
    "start_time": "2022-04-12T17:42:31.854Z"
   },
   {
    "duration": 32,
    "start_time": "2022-04-12T17:42:31.870Z"
   },
   {
    "duration": 1938,
    "start_time": "2022-04-12T17:42:31.905Z"
   },
   {
    "duration": 7,
    "start_time": "2022-04-12T17:42:33.845Z"
   },
   {
    "duration": 1933,
    "start_time": "2022-04-12T17:42:33.854Z"
   },
   {
    "duration": 8,
    "start_time": "2022-04-12T17:42:35.789Z"
   },
   {
    "duration": 1930,
    "start_time": "2022-04-12T17:42:35.799Z"
   },
   {
    "duration": 8,
    "start_time": "2022-04-12T17:42:37.731Z"
   },
   {
    "duration": 8,
    "start_time": "2022-04-12T17:42:37.741Z"
   },
   {
    "duration": 9,
    "start_time": "2022-04-12T17:42:37.751Z"
   },
   {
    "duration": 8,
    "start_time": "2022-04-12T17:42:37.762Z"
   },
   {
    "duration": 19,
    "start_time": "2022-04-12T17:43:33.663Z"
   },
   {
    "duration": 18,
    "start_time": "2022-04-12T17:46:49.406Z"
   },
   {
    "duration": 18,
    "start_time": "2022-04-12T17:46:56.797Z"
   },
   {
    "duration": 18,
    "start_time": "2022-04-12T17:48:21.869Z"
   },
   {
    "duration": 118,
    "start_time": "2022-04-12T17:49:33.348Z"
   },
   {
    "duration": 462,
    "start_time": "2022-04-12T17:50:43.926Z"
   },
   {
    "duration": 34,
    "start_time": "2022-04-12T17:50:50.380Z"
   },
   {
    "duration": 33,
    "start_time": "2022-04-12T17:50:53.782Z"
   },
   {
    "duration": 18,
    "start_time": "2022-04-12T17:51:37.483Z"
   },
   {
    "duration": 4,
    "start_time": "2022-04-12T17:52:04.332Z"
   },
   {
    "duration": 8,
    "start_time": "2022-04-12T17:52:06.987Z"
   },
   {
    "duration": 11,
    "start_time": "2022-04-12T17:52:19.787Z"
   },
   {
    "duration": 5,
    "start_time": "2022-04-12T17:52:26.764Z"
   },
   {
    "duration": 10,
    "start_time": "2022-04-12T17:52:29.675Z"
   },
   {
    "duration": 13,
    "start_time": "2022-04-12T17:52:48.356Z"
   },
   {
    "duration": 17,
    "start_time": "2022-04-12T17:53:19.763Z"
   },
   {
    "duration": 17,
    "start_time": "2022-04-12T17:53:23.683Z"
   },
   {
    "duration": 4,
    "start_time": "2022-04-12T17:53:29.363Z"
   },
   {
    "duration": 8,
    "start_time": "2022-04-12T17:53:31.274Z"
   },
   {
    "duration": 34,
    "start_time": "2022-04-12T17:53:34.058Z"
   },
   {
    "duration": 13,
    "start_time": "2022-04-12T17:53:41.778Z"
   },
   {
    "duration": 18,
    "start_time": "2022-04-12T17:53:45.242Z"
   },
   {
    "duration": 17,
    "start_time": "2022-04-12T17:54:12.676Z"
   },
   {
    "duration": 4,
    "start_time": "2022-04-12T17:54:24.370Z"
   },
   {
    "duration": 18,
    "start_time": "2022-04-12T17:54:27.065Z"
   },
   {
    "duration": 24,
    "start_time": "2022-04-12T17:54:44.410Z"
   },
   {
    "duration": 18,
    "start_time": "2022-04-12T17:54:49.106Z"
   },
   {
    "duration": 16,
    "start_time": "2022-04-12T17:54:54.266Z"
   },
   {
    "duration": 16,
    "start_time": "2022-04-12T17:54:59.970Z"
   },
   {
    "duration": 16,
    "start_time": "2022-04-12T17:55:05.578Z"
   },
   {
    "duration": 17,
    "start_time": "2022-04-12T17:55:29.018Z"
   },
   {
    "duration": 23,
    "start_time": "2022-04-12T17:55:51.938Z"
   },
   {
    "duration": 7,
    "start_time": "2022-04-12T17:56:29.578Z"
   },
   {
    "duration": 5,
    "start_time": "2022-04-12T17:56:33.466Z"
   },
   {
    "duration": 5,
    "start_time": "2022-04-12T17:58:45.161Z"
   },
   {
    "duration": 478,
    "start_time": "2022-04-12T17:58:45.168Z"
   },
   {
    "duration": 36,
    "start_time": "2022-04-12T17:58:45.649Z"
   },
   {
    "duration": 62,
    "start_time": "2022-04-12T17:58:45.688Z"
   },
   {
    "duration": 229,
    "start_time": "2022-04-12T17:58:45.752Z"
   },
   {
    "duration": 12,
    "start_time": "2022-04-12T17:58:45.983Z"
   },
   {
    "duration": 38,
    "start_time": "2022-04-12T17:58:45.998Z"
   },
   {
    "duration": 15,
    "start_time": "2022-04-12T17:58:46.038Z"
   },
   {
    "duration": 16,
    "start_time": "2022-04-12T17:58:46.055Z"
   },
   {
    "duration": 7,
    "start_time": "2022-04-12T17:58:46.075Z"
   },
   {
    "duration": 48,
    "start_time": "2022-04-12T17:58:46.084Z"
   },
   {
    "duration": 94,
    "start_time": "2022-04-12T17:58:46.134Z"
   },
   {
    "duration": 122,
    "start_time": "2022-04-12T17:58:46.231Z"
   },
   {
    "duration": 119,
    "start_time": "2022-04-12T17:58:46.427Z"
   },
   {
    "duration": 177,
    "start_time": "2022-04-12T17:58:46.549Z"
   },
   {
    "duration": 9,
    "start_time": "2022-04-12T17:58:46.729Z"
   },
   {
    "duration": 10,
    "start_time": "2022-04-12T17:58:46.740Z"
   },
   {
    "duration": 13,
    "start_time": "2022-04-12T17:58:46.752Z"
   },
   {
    "duration": 2805,
    "start_time": "2022-04-12T17:58:46.768Z"
   },
   {
    "duration": 10,
    "start_time": "2022-04-12T17:58:49.575Z"
   },
   {
    "duration": 1930,
    "start_time": "2022-04-12T17:58:49.587Z"
   },
   {
    "duration": 12,
    "start_time": "2022-04-12T17:58:51.519Z"
   },
   {
    "duration": 1930,
    "start_time": "2022-04-12T17:58:51.534Z"
   },
   {
    "duration": 8,
    "start_time": "2022-04-12T17:58:53.466Z"
   },
   {
    "duration": 40,
    "start_time": "2022-04-12T17:58:53.476Z"
   },
   {
    "duration": 14,
    "start_time": "2022-04-12T17:58:53.519Z"
   },
   {
    "duration": 27,
    "start_time": "2022-04-12T17:58:53.536Z"
   },
   {
    "duration": 35,
    "start_time": "2022-04-12T17:58:53.568Z"
   },
   {
    "duration": 5,
    "start_time": "2022-04-12T17:59:05.713Z"
   },
   {
    "duration": 689,
    "start_time": "2022-04-12T17:59:05.721Z"
   },
   {
    "duration": 56,
    "start_time": "2022-04-12T17:59:06.412Z"
   },
   {
    "duration": 70,
    "start_time": "2022-04-12T17:59:06.471Z"
   },
   {
    "duration": 313,
    "start_time": "2022-04-12T17:59:06.544Z"
   },
   {
    "duration": 17,
    "start_time": "2022-04-12T17:59:06.859Z"
   },
   {
    "duration": 24,
    "start_time": "2022-04-12T17:59:06.880Z"
   },
   {
    "duration": 31,
    "start_time": "2022-04-12T17:59:06.907Z"
   },
   {
    "duration": 33,
    "start_time": "2022-04-12T17:59:06.941Z"
   },
   {
    "duration": 8,
    "start_time": "2022-04-12T17:59:06.979Z"
   },
   {
    "duration": 48,
    "start_time": "2022-04-12T17:59:06.989Z"
   },
   {
    "duration": 185,
    "start_time": "2022-04-12T17:59:07.040Z"
   },
   {
    "duration": 74,
    "start_time": "2022-04-12T17:59:07.228Z"
   },
   {
    "duration": 97,
    "start_time": "2022-04-12T17:59:07.353Z"
   },
   {
    "duration": 176,
    "start_time": "2022-04-12T17:59:07.454Z"
   },
   {
    "duration": 9,
    "start_time": "2022-04-12T17:59:07.633Z"
   },
   {
    "duration": 16,
    "start_time": "2022-04-12T17:59:07.644Z"
   },
   {
    "duration": 8,
    "start_time": "2022-04-12T17:59:07.662Z"
   },
   {
    "duration": 1939,
    "start_time": "2022-04-12T17:59:07.673Z"
   },
   {
    "duration": 16,
    "start_time": "2022-04-12T17:59:09.615Z"
   },
   {
    "duration": 2828,
    "start_time": "2022-04-12T17:59:09.633Z"
   },
   {
    "duration": 9,
    "start_time": "2022-04-12T17:59:12.464Z"
   },
   {
    "duration": 2037,
    "start_time": "2022-04-12T17:59:12.475Z"
   },
   {
    "duration": 18,
    "start_time": "2022-04-12T17:59:14.514Z"
   },
   {
    "duration": 19,
    "start_time": "2022-04-12T17:59:14.535Z"
   },
   {
    "duration": 7,
    "start_time": "2022-04-12T17:59:14.557Z"
   },
   {
    "duration": 8,
    "start_time": "2022-04-12T17:59:14.566Z"
   },
   {
    "duration": 5,
    "start_time": "2022-04-12T17:59:14.626Z"
   },
   {
    "duration": 2131,
    "start_time": "2022-04-13T16:30:21.028Z"
   },
   {
    "duration": 471,
    "start_time": "2022-04-13T16:30:23.162Z"
   },
   {
    "duration": 46,
    "start_time": "2022-04-13T16:30:23.635Z"
   },
   {
    "duration": 36,
    "start_time": "2022-04-13T16:30:23.684Z"
   },
   {
    "duration": 251,
    "start_time": "2022-04-13T16:30:23.722Z"
   },
   {
    "duration": 15,
    "start_time": "2022-04-13T16:30:23.975Z"
   },
   {
    "duration": 24,
    "start_time": "2022-04-13T16:30:23.992Z"
   },
   {
    "duration": 35,
    "start_time": "2022-04-13T16:30:24.019Z"
   },
   {
    "duration": 16,
    "start_time": "2022-04-13T16:30:24.057Z"
   },
   {
    "duration": 10,
    "start_time": "2022-04-13T16:30:24.077Z"
   },
   {
    "duration": 22,
    "start_time": "2022-04-13T16:30:24.090Z"
   },
   {
    "duration": 373,
    "start_time": "2022-04-13T16:30:24.114Z"
   },
   {
    "duration": 0,
    "start_time": "2022-04-13T16:30:24.489Z"
   },
   {
    "duration": 0,
    "start_time": "2022-04-13T16:30:24.491Z"
   },
   {
    "duration": 0,
    "start_time": "2022-04-13T16:30:24.493Z"
   },
   {
    "duration": 0,
    "start_time": "2022-04-13T16:30:24.494Z"
   },
   {
    "duration": 0,
    "start_time": "2022-04-13T16:30:24.496Z"
   },
   {
    "duration": 0,
    "start_time": "2022-04-13T16:30:24.497Z"
   },
   {
    "duration": 0,
    "start_time": "2022-04-13T16:30:24.499Z"
   },
   {
    "duration": 0,
    "start_time": "2022-04-13T16:30:24.500Z"
   },
   {
    "duration": 0,
    "start_time": "2022-04-13T16:30:24.502Z"
   },
   {
    "duration": 0,
    "start_time": "2022-04-13T16:30:24.503Z"
   },
   {
    "duration": 0,
    "start_time": "2022-04-13T16:30:24.504Z"
   },
   {
    "duration": 0,
    "start_time": "2022-04-13T16:30:24.506Z"
   },
   {
    "duration": 0,
    "start_time": "2022-04-13T16:30:24.507Z"
   },
   {
    "duration": 0,
    "start_time": "2022-04-13T16:30:24.508Z"
   },
   {
    "duration": 0,
    "start_time": "2022-04-13T16:30:24.510Z"
   },
   {
    "duration": 0,
    "start_time": "2022-04-13T16:30:24.511Z"
   },
   {
    "duration": 36,
    "start_time": "2022-04-13T16:30:48.717Z"
   },
   {
    "duration": 66,
    "start_time": "2022-04-13T16:30:50.788Z"
   },
   {
    "duration": 76,
    "start_time": "2022-04-13T16:30:52.677Z"
   },
   {
    "duration": 19,
    "start_time": "2022-04-13T16:30:53.124Z"
   },
   {
    "duration": 8,
    "start_time": "2022-04-13T16:30:58.612Z"
   },
   {
    "duration": 5,
    "start_time": "2022-04-13T16:31:01.497Z"
   },
   {
    "duration": 747,
    "start_time": "2022-04-13T16:31:01.505Z"
   },
   {
    "duration": 40,
    "start_time": "2022-04-13T16:31:02.255Z"
   },
   {
    "duration": 79,
    "start_time": "2022-04-13T16:31:02.300Z"
   },
   {
    "duration": 231,
    "start_time": "2022-04-13T16:31:02.383Z"
   },
   {
    "duration": 13,
    "start_time": "2022-04-13T16:31:02.616Z"
   },
   {
    "duration": 38,
    "start_time": "2022-04-13T16:31:02.632Z"
   },
   {
    "duration": 20,
    "start_time": "2022-04-13T16:31:02.674Z"
   },
   {
    "duration": 20,
    "start_time": "2022-04-13T16:31:02.697Z"
   },
   {
    "duration": 7,
    "start_time": "2022-04-13T16:31:02.752Z"
   },
   {
    "duration": 25,
    "start_time": "2022-04-13T16:31:02.762Z"
   },
   {
    "duration": 162,
    "start_time": "2022-04-13T16:31:02.790Z"
   },
   {
    "duration": 198,
    "start_time": "2022-04-13T16:31:02.955Z"
   },
   {
    "duration": 123,
    "start_time": "2022-04-13T16:31:03.156Z"
   },
   {
    "duration": 170,
    "start_time": "2022-04-13T16:31:03.282Z"
   },
   {
    "duration": 15,
    "start_time": "2022-04-13T16:31:03.455Z"
   },
   {
    "duration": 14,
    "start_time": "2022-04-13T16:31:03.472Z"
   },
   {
    "duration": 15,
    "start_time": "2022-04-13T16:31:03.488Z"
   },
   {
    "duration": 1885,
    "start_time": "2022-04-13T16:31:03.505Z"
   },
   {
    "duration": 11,
    "start_time": "2022-04-13T16:31:05.393Z"
   },
   {
    "duration": 2823,
    "start_time": "2022-04-13T16:31:05.407Z"
   },
   {
    "duration": 19,
    "start_time": "2022-04-13T16:31:08.233Z"
   },
   {
    "duration": 1969,
    "start_time": "2022-04-13T16:31:08.255Z"
   },
   {
    "duration": 7,
    "start_time": "2022-04-13T16:31:10.227Z"
   },
   {
    "duration": 17,
    "start_time": "2022-04-13T16:31:10.252Z"
   },
   {
    "duration": 12,
    "start_time": "2022-04-13T16:31:10.271Z"
   },
   {
    "duration": 18,
    "start_time": "2022-04-13T16:31:10.285Z"
   },
   {
    "duration": 14,
    "start_time": "2022-04-13T16:31:10.307Z"
   },
   {
    "duration": 92,
    "start_time": "2022-04-13T16:31:44.261Z"
   },
   {
    "duration": 7,
    "start_time": "2022-04-13T16:31:46.692Z"
   },
   {
    "duration": 11,
    "start_time": "2022-04-13T16:31:53.533Z"
   },
   {
    "duration": 9,
    "start_time": "2022-04-13T16:32:01.293Z"
   },
   {
    "duration": 10,
    "start_time": "2022-04-13T16:34:43.691Z"
   },
   {
    "duration": 7,
    "start_time": "2022-04-13T16:43:44.354Z"
   },
   {
    "duration": 8,
    "start_time": "2022-04-13T16:50:23.846Z"
   },
   {
    "duration": 8,
    "start_time": "2022-04-13T16:50:27.215Z"
   },
   {
    "duration": 8,
    "start_time": "2022-04-13T16:51:13.566Z"
   },
   {
    "duration": 14,
    "start_time": "2022-04-13T16:51:21.479Z"
   },
   {
    "duration": 6,
    "start_time": "2022-04-13T16:51:28.847Z"
   },
   {
    "duration": 7,
    "start_time": "2022-04-13T16:51:35.134Z"
   },
   {
    "duration": 7,
    "start_time": "2022-04-13T16:51:50.126Z"
   },
   {
    "duration": 8,
    "start_time": "2022-04-13T16:52:24.765Z"
   },
   {
    "duration": 91,
    "start_time": "2022-04-13T16:53:21.589Z"
   },
   {
    "duration": 99,
    "start_time": "2022-04-13T16:53:42.286Z"
   },
   {
    "duration": 2853,
    "start_time": "2022-04-13T16:53:55.294Z"
   },
   {
    "duration": 7,
    "start_time": "2022-04-13T16:53:59.733Z"
   },
   {
    "duration": 1986,
    "start_time": "2022-04-13T16:54:01.518Z"
   },
   {
    "duration": 8,
    "start_time": "2022-04-13T16:54:03.506Z"
   },
   {
    "duration": 1883,
    "start_time": "2022-04-13T16:54:03.516Z"
   },
   {
    "duration": 7,
    "start_time": "2022-04-13T16:54:05.401Z"
   },
   {
    "duration": 85,
    "start_time": "2022-04-13T16:54:06.476Z"
   },
   {
    "duration": 90,
    "start_time": "2022-04-13T16:54:10.276Z"
   },
   {
    "duration": 87,
    "start_time": "2022-04-13T16:54:13.677Z"
   },
   {
    "duration": 18,
    "start_time": "2022-04-13T16:54:35.276Z"
   },
   {
    "duration": 11,
    "start_time": "2022-04-13T16:59:17.402Z"
   },
   {
    "duration": 6,
    "start_time": "2022-04-13T16:59:38.651Z"
   },
   {
    "duration": 6,
    "start_time": "2022-04-13T16:59:39.034Z"
   },
   {
    "duration": 100,
    "start_time": "2022-04-13T16:59:54.179Z"
   },
   {
    "duration": 7,
    "start_time": "2022-04-13T16:59:57.298Z"
   },
   {
    "duration": 92,
    "start_time": "2022-04-13T17:00:52.722Z"
   },
   {
    "duration": 234,
    "start_time": "2022-04-13T17:01:07.346Z"
   },
   {
    "duration": 134,
    "start_time": "2022-04-13T17:01:11.563Z"
   },
   {
    "duration": 101,
    "start_time": "2022-04-13T17:01:19.147Z"
   },
   {
    "duration": 90,
    "start_time": "2022-04-13T17:01:39.195Z"
   },
   {
    "duration": 88,
    "start_time": "2022-04-13T17:02:04.004Z"
   },
   {
    "duration": 8,
    "start_time": "2022-04-13T17:02:15.418Z"
   },
   {
    "duration": 9,
    "start_time": "2022-04-13T17:02:37.402Z"
   },
   {
    "duration": 6,
    "start_time": "2022-04-13T17:02:44.706Z"
   },
   {
    "duration": 8,
    "start_time": "2022-04-13T17:02:53.721Z"
   },
   {
    "duration": 5,
    "start_time": "2022-04-13T17:02:59.818Z"
   },
   {
    "duration": 5,
    "start_time": "2022-04-13T17:03:03.386Z"
   },
   {
    "duration": 9,
    "start_time": "2022-04-13T17:03:05.203Z"
   },
   {
    "duration": 4,
    "start_time": "2022-04-13T17:03:08.462Z"
   },
   {
    "duration": 465,
    "start_time": "2022-04-13T17:03:08.469Z"
   },
   {
    "duration": 46,
    "start_time": "2022-04-13T17:03:08.936Z"
   },
   {
    "duration": 70,
    "start_time": "2022-04-13T17:03:08.985Z"
   },
   {
    "duration": 285,
    "start_time": "2022-04-13T17:03:09.057Z"
   },
   {
    "duration": 16,
    "start_time": "2022-04-13T17:03:09.353Z"
   },
   {
    "duration": 23,
    "start_time": "2022-04-13T17:03:09.371Z"
   },
   {
    "duration": 13,
    "start_time": "2022-04-13T17:03:09.397Z"
   },
   {
    "duration": 48,
    "start_time": "2022-04-13T17:03:09.412Z"
   },
   {
    "duration": 8,
    "start_time": "2022-04-13T17:03:09.467Z"
   },
   {
    "duration": 19,
    "start_time": "2022-04-13T17:03:09.477Z"
   },
   {
    "duration": 68,
    "start_time": "2022-04-13T17:03:09.499Z"
   },
   {
    "duration": 120,
    "start_time": "2022-04-13T17:03:09.653Z"
   },
   {
    "duration": 190,
    "start_time": "2022-04-13T17:03:09.776Z"
   },
   {
    "duration": 190,
    "start_time": "2022-04-13T17:03:09.969Z"
   },
   {
    "duration": 7,
    "start_time": "2022-04-13T17:03:10.161Z"
   },
   {
    "duration": 8,
    "start_time": "2022-04-13T17:03:10.170Z"
   },
   {
    "duration": 6,
    "start_time": "2022-04-13T17:03:10.180Z"
   },
   {
    "duration": 1915,
    "start_time": "2022-04-13T17:03:10.187Z"
   },
   {
    "duration": 9,
    "start_time": "2022-04-13T17:03:12.105Z"
   },
   {
    "duration": 1885,
    "start_time": "2022-04-13T17:03:12.116Z"
   },
   {
    "duration": 7,
    "start_time": "2022-04-13T17:03:14.003Z"
   },
   {
    "duration": 1869,
    "start_time": "2022-04-13T17:03:14.012Z"
   },
   {
    "duration": 7,
    "start_time": "2022-04-13T17:03:15.883Z"
   },
   {
    "duration": 25,
    "start_time": "2022-04-13T17:03:15.892Z"
   },
   {
    "duration": 38,
    "start_time": "2022-04-13T17:03:15.919Z"
   },
   {
    "duration": 9,
    "start_time": "2022-04-13T17:03:15.959Z"
   },
   {
    "duration": 11,
    "start_time": "2022-04-13T17:03:15.973Z"
   },
   {
    "duration": 20,
    "start_time": "2022-04-13T17:03:15.986Z"
   },
   {
    "duration": 6,
    "start_time": "2022-04-13T17:10:39.667Z"
   },
   {
    "duration": 6,
    "start_time": "2022-04-13T17:11:04.855Z"
   },
   {
    "duration": 5,
    "start_time": "2022-04-13T17:11:13.670Z"
   },
   {
    "duration": 5,
    "start_time": "2022-04-13T17:11:17.237Z"
   },
   {
    "duration": 1950,
    "start_time": "2022-04-13T17:11:18.141Z"
   },
   {
    "duration": 8,
    "start_time": "2022-04-13T17:11:22.653Z"
   },
   {
    "duration": 1928,
    "start_time": "2022-04-13T17:11:24.725Z"
   },
   {
    "duration": 7,
    "start_time": "2022-04-13T17:11:26.656Z"
   },
   {
    "duration": 2037,
    "start_time": "2022-04-13T17:11:27.157Z"
   },
   {
    "duration": 8,
    "start_time": "2022-04-13T17:11:29.197Z"
   },
   {
    "duration": 18,
    "start_time": "2022-04-13T17:11:30.886Z"
   },
   {
    "duration": 9,
    "start_time": "2022-04-13T17:11:33.742Z"
   }
  ],
  "kernelspec": {
   "display_name": "Python 3 (ipykernel)",
   "language": "python",
   "name": "python3"
  },
  "language_info": {
   "codemirror_mode": {
    "name": "ipython",
    "version": 3
   },
   "file_extension": ".py",
   "mimetype": "text/x-python",
   "name": "python",
   "nbconvert_exporter": "python",
   "pygments_lexer": "ipython3",
   "version": "3.9.1"
  },
  "toc": {
   "base_numbering": 1,
   "nav_menu": {},
   "number_sections": true,
   "sideBar": true,
   "skip_h1_title": true,
   "title_cell": "Table of Contents",
   "title_sidebar": "Contents",
   "toc_cell": false,
   "toc_position": {},
   "toc_section_display": true,
   "toc_window_display": false
  }
 },
 "nbformat": 4,
 "nbformat_minor": 2
}
