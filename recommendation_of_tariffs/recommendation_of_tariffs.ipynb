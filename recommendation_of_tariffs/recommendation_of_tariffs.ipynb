{
 "cells": [
  {
   "cell_type": "markdown",
   "metadata": {},
   "source": [
    "## Открываем и изучаем файл"
   ]
  },
  {
   "cell_type": "code",
   "execution_count": 1,
   "metadata": {},
   "outputs": [],
   "source": [
    "import pandas as pd\n",
    "from sklearn.tree import DecisionTreeClassifier\n",
    "from sklearn.metrics import accuracy_score\n",
    "from sklearn.model_selection import train_test_split\n",
    "from sklearn.ensemble import RandomForestClassifier\n",
    "from sklearn.linear_model import LogisticRegression"
   ]
  },
  {
   "cell_type": "code",
   "execution_count": 2,
   "metadata": {},
   "outputs": [
    {
     "data": {
      "text/html": [
       "<div>\n",
       "<style scoped>\n",
       "    .dataframe tbody tr th:only-of-type {\n",
       "        vertical-align: middle;\n",
       "    }\n",
       "\n",
       "    .dataframe tbody tr th {\n",
       "        vertical-align: top;\n",
       "    }\n",
       "\n",
       "    .dataframe thead th {\n",
       "        text-align: right;\n",
       "    }\n",
       "</style>\n",
       "<table border=\"1\" class=\"dataframe\">\n",
       "  <thead>\n",
       "    <tr style=\"text-align: right;\">\n",
       "      <th></th>\n",
       "      <th>calls</th>\n",
       "      <th>minutes</th>\n",
       "      <th>messages</th>\n",
       "      <th>mb_used</th>\n",
       "      <th>is_ultra</th>\n",
       "    </tr>\n",
       "  </thead>\n",
       "  <tbody>\n",
       "    <tr>\n",
       "      <th>0</th>\n",
       "      <td>40.0</td>\n",
       "      <td>311.90</td>\n",
       "      <td>83.0</td>\n",
       "      <td>19915.42</td>\n",
       "      <td>0</td>\n",
       "    </tr>\n",
       "    <tr>\n",
       "      <th>1</th>\n",
       "      <td>85.0</td>\n",
       "      <td>516.75</td>\n",
       "      <td>56.0</td>\n",
       "      <td>22696.96</td>\n",
       "      <td>0</td>\n",
       "    </tr>\n",
       "    <tr>\n",
       "      <th>2</th>\n",
       "      <td>77.0</td>\n",
       "      <td>467.66</td>\n",
       "      <td>86.0</td>\n",
       "      <td>21060.45</td>\n",
       "      <td>0</td>\n",
       "    </tr>\n",
       "    <tr>\n",
       "      <th>3</th>\n",
       "      <td>106.0</td>\n",
       "      <td>745.53</td>\n",
       "      <td>81.0</td>\n",
       "      <td>8437.39</td>\n",
       "      <td>1</td>\n",
       "    </tr>\n",
       "    <tr>\n",
       "      <th>4</th>\n",
       "      <td>66.0</td>\n",
       "      <td>418.74</td>\n",
       "      <td>1.0</td>\n",
       "      <td>14502.75</td>\n",
       "      <td>0</td>\n",
       "    </tr>\n",
       "    <tr>\n",
       "      <th>5</th>\n",
       "      <td>58.0</td>\n",
       "      <td>344.56</td>\n",
       "      <td>21.0</td>\n",
       "      <td>15823.37</td>\n",
       "      <td>0</td>\n",
       "    </tr>\n",
       "    <tr>\n",
       "      <th>6</th>\n",
       "      <td>57.0</td>\n",
       "      <td>431.64</td>\n",
       "      <td>20.0</td>\n",
       "      <td>3738.90</td>\n",
       "      <td>1</td>\n",
       "    </tr>\n",
       "    <tr>\n",
       "      <th>7</th>\n",
       "      <td>15.0</td>\n",
       "      <td>132.40</td>\n",
       "      <td>6.0</td>\n",
       "      <td>21911.60</td>\n",
       "      <td>0</td>\n",
       "    </tr>\n",
       "    <tr>\n",
       "      <th>8</th>\n",
       "      <td>7.0</td>\n",
       "      <td>43.39</td>\n",
       "      <td>3.0</td>\n",
       "      <td>2538.67</td>\n",
       "      <td>1</td>\n",
       "    </tr>\n",
       "    <tr>\n",
       "      <th>9</th>\n",
       "      <td>90.0</td>\n",
       "      <td>665.41</td>\n",
       "      <td>38.0</td>\n",
       "      <td>17358.61</td>\n",
       "      <td>0</td>\n",
       "    </tr>\n",
       "  </tbody>\n",
       "</table>\n",
       "</div>"
      ],
      "text/plain": [
       "   calls  minutes  messages   mb_used  is_ultra\n",
       "0   40.0   311.90      83.0  19915.42         0\n",
       "1   85.0   516.75      56.0  22696.96         0\n",
       "2   77.0   467.66      86.0  21060.45         0\n",
       "3  106.0   745.53      81.0   8437.39         1\n",
       "4   66.0   418.74       1.0  14502.75         0\n",
       "5   58.0   344.56      21.0  15823.37         0\n",
       "6   57.0   431.64      20.0   3738.90         1\n",
       "7   15.0   132.40       6.0  21911.60         0\n",
       "8    7.0    43.39       3.0   2538.67         1\n",
       "9   90.0   665.41      38.0  17358.61         0"
      ]
     },
     "metadata": {},
     "output_type": "display_data"
    },
    {
     "name": "stdout",
     "output_type": "stream",
     "text": [
      "<class 'pandas.core.frame.DataFrame'>\n",
      "RangeIndex: 3214 entries, 0 to 3213\n",
      "Data columns (total 5 columns):\n",
      " #   Column    Non-Null Count  Dtype  \n",
      "---  ------    --------------  -----  \n",
      " 0   calls     3214 non-null   float64\n",
      " 1   minutes   3214 non-null   float64\n",
      " 2   messages  3214 non-null   float64\n",
      " 3   mb_used   3214 non-null   float64\n",
      " 4   is_ultra  3214 non-null   int64  \n",
      "dtypes: float64(4), int64(1)\n",
      "memory usage: 125.7 KB\n"
     ]
    },
    {
     "data": {
      "text/html": [
       "<div>\n",
       "<style scoped>\n",
       "    .dataframe tbody tr th:only-of-type {\n",
       "        vertical-align: middle;\n",
       "    }\n",
       "\n",
       "    .dataframe tbody tr th {\n",
       "        vertical-align: top;\n",
       "    }\n",
       "\n",
       "    .dataframe thead th {\n",
       "        text-align: right;\n",
       "    }\n",
       "</style>\n",
       "<table border=\"1\" class=\"dataframe\">\n",
       "  <thead>\n",
       "    <tr style=\"text-align: right;\">\n",
       "      <th></th>\n",
       "      <th>calls</th>\n",
       "      <th>minutes</th>\n",
       "      <th>messages</th>\n",
       "      <th>mb_used</th>\n",
       "      <th>is_ultra</th>\n",
       "    </tr>\n",
       "  </thead>\n",
       "  <tbody>\n",
       "    <tr>\n",
       "      <th>count</th>\n",
       "      <td>3214.000000</td>\n",
       "      <td>3214.000000</td>\n",
       "      <td>3214.000000</td>\n",
       "      <td>3214.000000</td>\n",
       "      <td>3214.000000</td>\n",
       "    </tr>\n",
       "    <tr>\n",
       "      <th>mean</th>\n",
       "      <td>63.038892</td>\n",
       "      <td>438.208787</td>\n",
       "      <td>38.281269</td>\n",
       "      <td>17207.673836</td>\n",
       "      <td>0.306472</td>\n",
       "    </tr>\n",
       "    <tr>\n",
       "      <th>std</th>\n",
       "      <td>33.236368</td>\n",
       "      <td>234.569872</td>\n",
       "      <td>36.148326</td>\n",
       "      <td>7570.968246</td>\n",
       "      <td>0.461100</td>\n",
       "    </tr>\n",
       "    <tr>\n",
       "      <th>min</th>\n",
       "      <td>0.000000</td>\n",
       "      <td>0.000000</td>\n",
       "      <td>0.000000</td>\n",
       "      <td>0.000000</td>\n",
       "      <td>0.000000</td>\n",
       "    </tr>\n",
       "    <tr>\n",
       "      <th>25%</th>\n",
       "      <td>40.000000</td>\n",
       "      <td>274.575000</td>\n",
       "      <td>9.000000</td>\n",
       "      <td>12491.902500</td>\n",
       "      <td>0.000000</td>\n",
       "    </tr>\n",
       "    <tr>\n",
       "      <th>50%</th>\n",
       "      <td>62.000000</td>\n",
       "      <td>430.600000</td>\n",
       "      <td>30.000000</td>\n",
       "      <td>16943.235000</td>\n",
       "      <td>0.000000</td>\n",
       "    </tr>\n",
       "    <tr>\n",
       "      <th>75%</th>\n",
       "      <td>82.000000</td>\n",
       "      <td>571.927500</td>\n",
       "      <td>57.000000</td>\n",
       "      <td>21424.700000</td>\n",
       "      <td>1.000000</td>\n",
       "    </tr>\n",
       "    <tr>\n",
       "      <th>max</th>\n",
       "      <td>244.000000</td>\n",
       "      <td>1632.060000</td>\n",
       "      <td>224.000000</td>\n",
       "      <td>49745.730000</td>\n",
       "      <td>1.000000</td>\n",
       "    </tr>\n",
       "  </tbody>\n",
       "</table>\n",
       "</div>"
      ],
      "text/plain": [
       "             calls      minutes     messages       mb_used     is_ultra\n",
       "count  3214.000000  3214.000000  3214.000000   3214.000000  3214.000000\n",
       "mean     63.038892   438.208787    38.281269  17207.673836     0.306472\n",
       "std      33.236368   234.569872    36.148326   7570.968246     0.461100\n",
       "min       0.000000     0.000000     0.000000      0.000000     0.000000\n",
       "25%      40.000000   274.575000     9.000000  12491.902500     0.000000\n",
       "50%      62.000000   430.600000    30.000000  16943.235000     0.000000\n",
       "75%      82.000000   571.927500    57.000000  21424.700000     1.000000\n",
       "max     244.000000  1632.060000   224.000000  49745.730000     1.000000"
      ]
     },
     "execution_count": 2,
     "metadata": {},
     "output_type": "execute_result"
    }
   ],
   "source": [
    "df = pd.read_csv('/datasets/users_behavior.csv')\n",
    "display(df.head(10))\n",
    "df.info()\n",
    "df.describe()"
   ]
  },
  {
   "cell_type": "code",
   "execution_count": 3,
   "metadata": {},
   "outputs": [
    {
     "data": {
      "text/plain": [
       "0"
      ]
     },
     "execution_count": 3,
     "metadata": {},
     "output_type": "execute_result"
    }
   ],
   "source": [
    "df.duplicated().sum()"
   ]
  },
  {
   "cell_type": "markdown",
   "metadata": {},
   "source": [
    "Датасет без пропусков и дубликатов."
   ]
  },
  {
   "cell_type": "markdown",
   "metadata": {},
   "source": [
    "## Разбиваем данные на выборки"
   ]
  },
  {
   "cell_type": "markdown",
   "metadata": {},
   "source": [
    "Разобьем на выборки."
   ]
  },
  {
   "cell_type": "code",
   "execution_count": 4,
   "metadata": {},
   "outputs": [],
   "source": [
    "df_train, df_1 = train_test_split(df, test_size=0.4, random_state=1488)\n",
    "df_valid, df_test = train_test_split(df_1, test_size=0.5, random_state=1488)\n",
    "train_features = df_train.drop(['is_ultra'], axis=1) \n",
    "train_target = df_train['is_ultra'] \n",
    "valid_features = df_valid.drop(['is_ultra'], axis=1) \n",
    "valid_target = df_valid['is_ultra'] \n",
    "test_features = df_test.drop(['is_ultra'], axis=1) \n",
    "test_target = df_test['is_ultra'] "
   ]
  },
  {
   "cell_type": "markdown",
   "metadata": {},
   "source": [
    "Итого у нас теперь три выборки:\n",
    "- обучающая - df_train\n",
    "- валидационная - df_valid\n",
    "- тестовая - df_test"
   ]
  },
  {
   "cell_type": "markdown",
   "metadata": {},
   "source": [
    "## Исследуем модели"
   ]
  },
  {
   "cell_type": "markdown",
   "metadata": {},
   "source": [
    "Перед нами стоит задача классификации, потому будем работать с методами классификации"
   ]
  },
  {
   "cell_type": "markdown",
   "metadata": {},
   "source": [
    "### Обучающее дерево"
   ]
  },
  {
   "cell_type": "code",
   "execution_count": 5,
   "metadata": {
    "scrolled": true
   },
   "outputs": [
    {
     "name": "stdout",
     "output_type": "stream",
     "text": [
      "6\n",
      "DecisionTreeClassifier(max_depth=6, random_state=1488)\n",
      "0.8118195956454122\n"
     ]
    }
   ],
   "source": [
    "best_tree = 0\n",
    "best_model_t = None\n",
    "best_accuracy = 0\n",
    "for i in range(1,100):\n",
    "    model_t = DecisionTreeClassifier(random_state=1488, max_depth=i)\n",
    "    model_t.fit(train_features, train_target)\n",
    "    valid_predictions = model_t.predict(valid_features)\n",
    "    valid_accuracy = accuracy_score(valid_target, valid_predictions)\n",
    "    if valid_accuracy > best_accuracy:\n",
    "        best_depth = i\n",
    "        best_model_t = model_t\n",
    "        best_accuracy = valid_accuracy\n",
    "print(best_depth, best_model_t, best_accuracy, sep='\\n')"
   ]
  },
  {
   "cell_type": "markdown",
   "metadata": {},
   "source": [
    "Лучшая глубина 6, доля правильных ответов для валидационной воборки = 81,18%. Модель обучается быстро, хоть и обучилась 10 раз по разной глубине дерева. Проверим, какой результат будет у других моделей."
   ]
  },
  {
   "cell_type": "markdown",
   "metadata": {},
   "source": [
    "### Случайный лес\n"
   ]
  },
  {
   "cell_type": "code",
   "execution_count": 6,
   "metadata": {},
   "outputs": [
    {
     "name": "stdout",
     "output_type": "stream",
     "text": [
      "7\n",
      "RandomForestClassifier(max_depth=5, n_estimators=7, random_state=1488)\n",
      "0.8180404354587869\n"
     ]
    }
   ],
   "source": [
    "best_tree = 0\n",
    "best_model_f = None\n",
    "best_accuracy = 0\n",
    "for i in range(1,20):\n",
    "    for depth in range (1, 111):\n",
    "        model_f = RandomForestClassifier(random_state=1488, n_estimators=i, max_depth=depth)\n",
    "        model_f.fit(train_features, train_target)\n",
    "        valid_predictions = model_f.predict(valid_features)\n",
    "        valid_accuracy = accuracy_score(valid_target, valid_predictions)\n",
    "        if valid_accuracy > best_accuracy:\n",
    "            best_tree = i\n",
    "            best_model_f = model_f\n",
    "            best_accuracy = valid_accuracy\n",
    "print(best_tree, best_model_f, best_accuracy, sep='\\n')"
   ]
  },
  {
   "cell_type": "markdown",
   "metadata": {},
   "source": [
    "Выбрали лучшее дерево из леса. Доля правильных ответов 81,8%. Это больше, чем при работе с одним деревом. Но процесс обучения намного дольше. "
   ]
  },
  {
   "cell_type": "markdown",
   "metadata": {},
   "source": [
    "### Логистическая регрессия\n"
   ]
  },
  {
   "cell_type": "code",
   "execution_count": 7,
   "metadata": {},
   "outputs": [
    {
     "data": {
      "text/plain": [
       "0.7620528771384136"
      ]
     },
     "execution_count": 7,
     "metadata": {},
     "output_type": "execute_result"
    }
   ],
   "source": [
    "model_l = LogisticRegression(random_state=1488)\n",
    "model_l.fit(train_features, train_target)\n",
    "valid_predictions = model_l.predict(valid_features)\n",
    "valid_accuracy = accuracy_score(valid_target, valid_predictions)\n",
    "valid_accuracy"
   ]
  },
  {
   "cell_type": "markdown",
   "metadata": {},
   "source": [
    "Для логистической регрессии доля верных предсказаний 76,2%. Это меньше, чем у дерева или случайного леса."
   ]
  },
  {
   "cell_type": "markdown",
   "metadata": {},
   "source": [
    "## Проверяем модель на тестовой выборке"
   ]
  },
  {
   "cell_type": "markdown",
   "metadata": {},
   "source": [
    "Обучающее дерево"
   ]
  },
  {
   "cell_type": "code",
   "execution_count": 8,
   "metadata": {},
   "outputs": [
    {
     "data": {
      "text/plain": [
       "0.80248833592535"
      ]
     },
     "execution_count": 8,
     "metadata": {},
     "output_type": "execute_result"
    }
   ],
   "source": [
    "ttest_predictions = best_model_t.predict(test_features)\n",
    "ttest_accuracy = accuracy_score(test_target, ttest_predictions)\n",
    "ttest_accuracy "
   ]
  },
  {
   "cell_type": "markdown",
   "metadata": {},
   "source": [
    "Случайный лес"
   ]
  },
  {
   "cell_type": "code",
   "execution_count": 9,
   "metadata": {},
   "outputs": [
    {
     "data": {
      "text/plain": [
       "0.8055987558320373"
      ]
     },
     "execution_count": 9,
     "metadata": {},
     "output_type": "execute_result"
    }
   ],
   "source": [
    "ftest_predictions = best_model_f.predict(test_features)\n",
    "ftest_accuracy = accuracy_score(test_target, ftest_predictions)\n",
    "ftest_accuracy "
   ]
  },
  {
   "cell_type": "markdown",
   "metadata": {},
   "source": [
    "Логистическая регрессия"
   ]
  },
  {
   "cell_type": "code",
   "execution_count": 10,
   "metadata": {},
   "outputs": [
    {
     "data": {
      "text/plain": [
       "0.7620528771384136"
      ]
     },
     "execution_count": 10,
     "metadata": {},
     "output_type": "execute_result"
    }
   ],
   "source": [
    "ltest_predictions = model_l.predict(test_features)\n",
    "ltest_accuracy = accuracy_score(test_target, ltest_predictions)\n",
    "ltest_accuracy "
   ]
  },
  {
   "cell_type": "markdown",
   "metadata": {},
   "source": [
    "При тестировнии на валидационных выборках, модели обучающего дерева и случайного леса показали почти одинаковый результат(разница 0,62%). Но при тестировании на тестовой выборке, модели показали разницу в 5,6%, в пользу обучающего дерева. Делаем вывод, что более правильно будет использовать модель обучающего дерева."
   ]
  },
  {
   "cell_type": "code",
   "execution_count": 14,
   "metadata": {},
   "outputs": [
    {
     "data": {
      "text/plain": [
       "0.3110419906687367"
      ]
     },
     "execution_count": 14,
     "metadata": {},
     "output_type": "execute_result"
    }
   ],
   "source": [
    "(ftest_accuracy - ttest_accuracy)*100"
   ]
  },
  {
   "cell_type": "markdown",
   "metadata": {},
   "source": [
    "## Проверяем модель на адекватность"
   ]
  },
  {
   "cell_type": "code",
   "execution_count": 13,
   "metadata": {},
   "outputs": [
    {
     "data": {
      "text/plain": [
       "0.6820539419087137"
      ]
     },
     "execution_count": 13,
     "metadata": {},
     "output_type": "execute_result"
    }
   ],
   "source": [
    "import numpy as np\n",
    "from sklearn.dummy import DummyClassifier\n",
    "X = train_features\n",
    "y = train_target\n",
    "dummy_clf = DummyClassifier(strategy=\"most_frequent\")\n",
    "dummy_clf.fit(X, y)\n",
    "dummy_clf.predict(X)\n",
    "dummy_clf.score(X, y)"
   ]
  },
  {
   "cell_type": "markdown",
   "metadata": {},
   "source": [
    "Проверил при помощи DummyClassifier. Обученая нами модель предсказывает лучше, чем он. Выходит, что она в целом работает и выдаёт результат лучше случайного."
   ]
  }
 ],
 "metadata": {
  "ExecuteTimeLog": [
   {
    "duration": 1422,
    "start_time": "2022-03-18T15:13:41.227Z"
   },
   {
    "duration": 42,
    "start_time": "2022-03-18T15:14:04.293Z"
   },
   {
    "duration": 12,
    "start_time": "2022-03-18T15:14:21.332Z"
   },
   {
    "duration": 34,
    "start_time": "2022-03-18T15:14:38.653Z"
   },
   {
    "duration": 7,
    "start_time": "2022-03-18T15:15:12.681Z"
   },
   {
    "duration": 3,
    "start_time": "2022-03-18T15:18:37.977Z"
   },
   {
    "duration": 364,
    "start_time": "2022-03-18T15:19:08.640Z"
   },
   {
    "duration": 2,
    "start_time": "2022-03-18T15:20:08.316Z"
   },
   {
    "duration": 3,
    "start_time": "2022-03-18T15:20:41.931Z"
   },
   {
    "duration": 6,
    "start_time": "2022-03-18T15:24:55.899Z"
   },
   {
    "duration": 3,
    "start_time": "2022-03-18T15:25:01.021Z"
   },
   {
    "duration": 49,
    "start_time": "2022-03-18T15:25:01.029Z"
   },
   {
    "duration": 7,
    "start_time": "2022-03-18T15:25:01.081Z"
   },
   {
    "duration": 4,
    "start_time": "2022-03-18T15:25:03.136Z"
   },
   {
    "duration": 12,
    "start_time": "2022-03-18T15:25:09.059Z"
   },
   {
    "duration": 6,
    "start_time": "2022-03-18T15:25:15.064Z"
   },
   {
    "duration": 6,
    "start_time": "2022-03-18T15:25:27.738Z"
   },
   {
    "duration": 11,
    "start_time": "2022-03-18T15:25:34.948Z"
   },
   {
    "duration": 12,
    "start_time": "2022-03-18T15:25:59.882Z"
   },
   {
    "duration": 11,
    "start_time": "2022-03-18T15:28:22.195Z"
   },
   {
    "duration": 44,
    "start_time": "2022-03-18T15:33:13.977Z"
   },
   {
    "duration": 8,
    "start_time": "2022-03-18T15:33:17.378Z"
   },
   {
    "duration": 4,
    "start_time": "2022-03-18T15:33:23.555Z"
   },
   {
    "duration": 5,
    "start_time": "2022-03-18T15:33:54.851Z"
   },
   {
    "duration": 115,
    "start_time": "2022-03-18T15:34:45.642Z"
   },
   {
    "duration": 14,
    "start_time": "2022-03-18T15:34:50.510Z"
   },
   {
    "duration": 5,
    "start_time": "2022-03-18T15:35:21.425Z"
   },
   {
    "duration": 14,
    "start_time": "2022-03-18T15:35:22.259Z"
   },
   {
    "duration": 6,
    "start_time": "2022-03-18T15:36:01.882Z"
   },
   {
    "duration": 15,
    "start_time": "2022-03-18T15:36:13.205Z"
   },
   {
    "duration": 4,
    "start_time": "2022-03-18T15:37:07.477Z"
   },
   {
    "duration": 6,
    "start_time": "2022-03-18T15:37:49.665Z"
   },
   {
    "duration": 5,
    "start_time": "2022-03-18T15:37:50.181Z"
   },
   {
    "duration": 13,
    "start_time": "2022-03-18T15:37:50.904Z"
   },
   {
    "duration": 3,
    "start_time": "2022-03-18T15:38:18.141Z"
   },
   {
    "duration": 48,
    "start_time": "2022-03-18T15:38:18.145Z"
   },
   {
    "duration": 7,
    "start_time": "2022-03-18T15:38:18.195Z"
   },
   {
    "duration": 12,
    "start_time": "2022-03-18T15:38:18.204Z"
   },
   {
    "duration": 7,
    "start_time": "2022-03-18T15:38:20.522Z"
   },
   {
    "duration": 7,
    "start_time": "2022-03-18T15:44:03.425Z"
   },
   {
    "duration": 4,
    "start_time": "2022-03-18T15:44:15.587Z"
   },
   {
    "duration": 22,
    "start_time": "2022-03-18T15:45:01.585Z"
   },
   {
    "duration": 4,
    "start_time": "2022-03-18T15:46:08.673Z"
   },
   {
    "duration": 5,
    "start_time": "2022-03-18T15:46:15.007Z"
   },
   {
    "duration": 22,
    "start_time": "2022-03-18T15:46:32.713Z"
   },
   {
    "duration": 5,
    "start_time": "2022-03-18T15:46:33.295Z"
   },
   {
    "duration": 8,
    "start_time": "2022-03-18T15:46:37.746Z"
   },
   {
    "duration": 22,
    "start_time": "2022-03-18T15:46:38.888Z"
   },
   {
    "duration": 5,
    "start_time": "2022-03-18T15:46:39.232Z"
   },
   {
    "duration": 18,
    "start_time": "2022-03-18T15:47:43.625Z"
   },
   {
    "duration": 5,
    "start_time": "2022-03-18T15:47:44.122Z"
   },
   {
    "duration": 9,
    "start_time": "2022-03-18T15:52:07.582Z"
   },
   {
    "duration": 9,
    "start_time": "2022-03-18T15:53:01.214Z"
   },
   {
    "duration": 3,
    "start_time": "2022-03-18T15:53:04.768Z"
   },
   {
    "duration": 37,
    "start_time": "2022-03-18T15:53:04.776Z"
   },
   {
    "duration": 6,
    "start_time": "2022-03-18T15:53:04.815Z"
   },
   {
    "duration": 9,
    "start_time": "2022-03-18T15:53:08.213Z"
   },
   {
    "duration": 22,
    "start_time": "2022-03-18T15:53:11.452Z"
   },
   {
    "duration": 9,
    "start_time": "2022-03-18T15:54:20.940Z"
   },
   {
    "duration": 18,
    "start_time": "2022-03-18T16:02:29.327Z"
   },
   {
    "duration": 18,
    "start_time": "2022-03-18T16:03:30.078Z"
   },
   {
    "duration": 13,
    "start_time": "2022-03-18T16:04:24.890Z"
   },
   {
    "duration": 17,
    "start_time": "2022-03-18T16:07:52.287Z"
   },
   {
    "duration": 14,
    "start_time": "2022-03-18T16:07:53.534Z"
   },
   {
    "duration": 4,
    "start_time": "2022-03-18T16:08:08.519Z"
   },
   {
    "duration": 4,
    "start_time": "2022-03-18T16:08:15.231Z"
   },
   {
    "duration": 5,
    "start_time": "2022-03-18T16:08:23.717Z"
   },
   {
    "duration": 4,
    "start_time": "2022-03-18T16:11:10.728Z"
   },
   {
    "duration": 4,
    "start_time": "2022-03-18T16:11:16.289Z"
   },
   {
    "duration": 5,
    "start_time": "2022-03-18T16:11:44.421Z"
   },
   {
    "duration": 3,
    "start_time": "2022-03-18T16:11:49.342Z"
   },
   {
    "duration": 168,
    "start_time": "2022-03-18T16:39:07.418Z"
   },
   {
    "duration": 21,
    "start_time": "2022-03-18T16:39:12.792Z"
   },
   {
    "duration": 45,
    "start_time": "2022-03-18T16:39:21.740Z"
   },
   {
    "duration": 44,
    "start_time": "2022-03-18T16:40:00.248Z"
   },
   {
    "duration": 45,
    "start_time": "2022-03-18T16:40:07.823Z"
   },
   {
    "duration": 47,
    "start_time": "2022-03-18T16:40:13.209Z"
   },
   {
    "duration": 34,
    "start_time": "2022-03-18T16:40:38.951Z"
   },
   {
    "duration": 46,
    "start_time": "2022-03-18T16:40:54.337Z"
   },
   {
    "duration": 68,
    "start_time": "2022-03-18T16:40:58.299Z"
   },
   {
    "duration": 116,
    "start_time": "2022-03-18T16:41:02.671Z"
   },
   {
    "duration": 62,
    "start_time": "2022-03-18T16:41:06.431Z"
   },
   {
    "duration": 12,
    "start_time": "2022-03-18T16:42:53.858Z"
   },
   {
    "duration": 6,
    "start_time": "2022-03-18T16:43:14.739Z"
   },
   {
    "duration": 8,
    "start_time": "2022-03-18T16:43:19.057Z"
   },
   {
    "duration": 64,
    "start_time": "2022-03-18T16:46:23.152Z"
   },
   {
    "duration": 8,
    "start_time": "2022-03-18T16:46:28.936Z"
   },
   {
    "duration": 12,
    "start_time": "2022-03-18T16:49:42.983Z"
   },
   {
    "duration": 62,
    "start_time": "2022-03-18T16:50:19.304Z"
   },
   {
    "duration": 7,
    "start_time": "2022-03-18T16:50:22.590Z"
   },
   {
    "duration": 10,
    "start_time": "2022-03-18T16:50:29.808Z"
   },
   {
    "duration": 12,
    "start_time": "2022-03-18T16:50:38.615Z"
   },
   {
    "duration": 231,
    "start_time": "2022-03-18T16:50:45.445Z"
   },
   {
    "duration": 270,
    "start_time": "2022-03-18T16:56:22.787Z"
   },
   {
    "duration": 70,
    "start_time": "2022-03-18T16:56:31.646Z"
   },
   {
    "duration": 1088,
    "start_time": "2022-03-18T16:56:37.842Z"
   },
   {
    "duration": 20147,
    "start_time": "2022-03-18T16:56:47.208Z"
   },
   {
    "duration": 160,
    "start_time": "2022-03-18T17:00:57.288Z"
   },
   {
    "duration": 41516,
    "start_time": "2022-03-18T17:01:15.630Z"
   },
   {
    "duration": 1707,
    "start_time": "2022-03-18T17:02:02.799Z"
   },
   {
    "duration": 63195,
    "start_time": "2022-03-18T17:02:24.826Z"
   },
   {
    "duration": 24952,
    "start_time": "2022-03-18T17:03:29.681Z"
   },
   {
    "duration": 42510,
    "start_time": "2022-03-18T17:05:44.618Z"
   },
   {
    "duration": 25337,
    "start_time": "2022-03-18T17:07:01.723Z"
   },
   {
    "duration": 3,
    "start_time": "2022-03-18T17:09:52.530Z"
   },
   {
    "duration": 36,
    "start_time": "2022-03-18T17:12:58.628Z"
   },
   {
    "duration": 3,
    "start_time": "2022-03-18T17:14:38.639Z"
   },
   {
    "duration": 38,
    "start_time": "2022-03-18T17:14:38.646Z"
   },
   {
    "duration": 7,
    "start_time": "2022-03-18T17:14:38.686Z"
   },
   {
    "duration": 9,
    "start_time": "2022-03-18T17:14:38.695Z"
   },
   {
    "duration": 1081,
    "start_time": "2022-03-18T17:14:38.706Z"
   },
   {
    "duration": 9,
    "start_time": "2022-03-18T17:14:39.789Z"
   },
   {
    "duration": 24970,
    "start_time": "2022-03-18T17:14:39.799Z"
   },
   {
    "duration": 20,
    "start_time": "2022-03-18T17:17:35.626Z"
   },
   {
    "duration": 4,
    "start_time": "2022-03-18T17:17:45.444Z"
   },
   {
    "duration": 30,
    "start_time": "2022-03-18T17:17:51.727Z"
   },
   {
    "duration": 1123,
    "start_time": "2022-03-18T17:21:12.715Z"
   },
   {
    "duration": 1127,
    "start_time": "2022-03-18T17:21:25.420Z"
   },
   {
    "duration": 1148,
    "start_time": "2022-03-18T17:21:36.446Z"
   },
   {
    "duration": 25696,
    "start_time": "2022-03-18T17:21:55.005Z"
   },
   {
    "duration": 35,
    "start_time": "2022-03-18T17:22:40.350Z"
   },
   {
    "duration": 12,
    "start_time": "2022-03-18T17:22:56.754Z"
   },
   {
    "duration": 22,
    "start_time": "2022-03-18T17:22:57.735Z"
   },
   {
    "duration": 10,
    "start_time": "2022-03-18T17:22:59.039Z"
   },
   {
    "duration": 33,
    "start_time": "2022-03-18T17:23:15.230Z"
   },
   {
    "duration": 11,
    "start_time": "2022-03-18T17:23:34.721Z"
   },
   {
    "duration": 21,
    "start_time": "2022-03-18T17:23:35.361Z"
   },
   {
    "duration": 45,
    "start_time": "2022-03-18T17:23:36.050Z"
   },
   {
    "duration": 15,
    "start_time": "2022-03-18T17:23:52.904Z"
   },
   {
    "duration": 22,
    "start_time": "2022-03-18T17:23:53.607Z"
   },
   {
    "duration": 45,
    "start_time": "2022-03-18T17:23:54.348Z"
   },
   {
    "duration": 25,
    "start_time": "2022-03-18T17:24:05.033Z"
   },
   {
    "duration": 15,
    "start_time": "2022-03-18T17:24:56.835Z"
   },
   {
    "duration": 11,
    "start_time": "2022-03-18T17:25:07.721Z"
   },
   {
    "duration": 11,
    "start_time": "2022-03-18T17:25:28.715Z"
   },
   {
    "duration": 27,
    "start_time": "2022-03-18T17:25:41.208Z"
   },
   {
    "duration": 30,
    "start_time": "2022-03-18T17:25:45.135Z"
   },
   {
    "duration": 31,
    "start_time": "2022-03-18T17:26:11.290Z"
   },
   {
    "duration": 7,
    "start_time": "2022-03-18T17:27:12.489Z"
   },
   {
    "duration": 407,
    "start_time": "2022-03-18T17:40:09.920Z"
   },
   {
    "duration": 445,
    "start_time": "2022-03-18T17:40:48.513Z"
   },
   {
    "duration": 436,
    "start_time": "2022-03-18T17:41:10.848Z"
   },
   {
    "duration": 476,
    "start_time": "2022-03-18T17:41:19.889Z"
   },
   {
    "duration": 424,
    "start_time": "2022-03-18T17:41:34.091Z"
   },
   {
    "duration": 443,
    "start_time": "2022-03-18T17:42:48.578Z"
   },
   {
    "duration": 421,
    "start_time": "2022-03-18T17:44:36.345Z"
   },
   {
    "duration": 11,
    "start_time": "2022-03-18T18:15:22.783Z"
   },
   {
    "duration": 166,
    "start_time": "2022-03-18T18:16:59.067Z"
   },
   {
    "duration": 88973,
    "start_time": "2022-03-18T18:19:04.478Z"
   },
   {
    "duration": 33,
    "start_time": "2022-03-18T18:23:19.484Z"
   },
   {
    "duration": 11,
    "start_time": "2022-03-18T18:23:23.401Z"
   },
   {
    "duration": 24,
    "start_time": "2022-03-18T18:23:24.815Z"
   },
   {
    "duration": 31,
    "start_time": "2022-03-18T18:23:26.096Z"
   },
   {
    "duration": 3,
    "start_time": "2022-03-18T18:45:05.911Z"
   },
   {
    "duration": 48,
    "start_time": "2022-03-18T18:45:05.916Z"
   },
   {
    "duration": 6,
    "start_time": "2022-03-18T18:45:05.966Z"
   },
   {
    "duration": 23,
    "start_time": "2022-03-18T18:45:05.974Z"
   },
   {
    "duration": 1116,
    "start_time": "2022-03-18T18:45:05.999Z"
   },
   {
    "duration": 90310,
    "start_time": "2022-03-18T18:45:07.117Z"
   },
   {
    "duration": 33,
    "start_time": "2022-03-18T18:46:37.431Z"
   },
   {
    "duration": 12,
    "start_time": "2022-03-18T18:46:37.465Z"
   },
   {
    "duration": 21,
    "start_time": "2022-03-18T18:46:37.479Z"
   },
   {
    "duration": 57,
    "start_time": "2022-03-18T18:46:37.502Z"
   },
   {
    "duration": 443,
    "start_time": "2022-03-18T18:46:37.561Z"
   },
   {
    "duration": 269676,
    "start_time": "2022-03-18T18:47:34.920Z"
   },
   {
    "duration": 5,
    "start_time": "2022-03-18T18:53:00.231Z"
   },
   {
    "duration": 7,
    "start_time": "2022-03-18T18:54:05.965Z"
   },
   {
    "duration": 7,
    "start_time": "2022-03-18T18:54:22.033Z"
   },
   {
    "duration": 5,
    "start_time": "2022-03-18T18:54:41.210Z"
   },
   {
    "duration": 6,
    "start_time": "2022-03-18T18:54:47.977Z"
   },
   {
    "duration": 7,
    "start_time": "2022-03-18T18:55:02.713Z"
   },
   {
    "duration": 17,
    "start_time": "2022-03-18T18:57:16.677Z"
   },
   {
    "duration": 17,
    "start_time": "2022-03-18T19:02:22.418Z"
   },
   {
    "duration": 17,
    "start_time": "2022-03-18T19:04:26.611Z"
   },
   {
    "duration": 16,
    "start_time": "2022-03-18T19:11:38.650Z"
   },
   {
    "duration": 18,
    "start_time": "2022-03-18T19:14:44.075Z"
   },
   {
    "duration": 17,
    "start_time": "2022-03-18T19:15:12.709Z"
   },
   {
    "duration": 17,
    "start_time": "2022-03-18T19:16:05.804Z"
   },
   {
    "duration": 16,
    "start_time": "2022-03-18T19:16:10.587Z"
   },
   {
    "duration": 17,
    "start_time": "2022-03-18T19:16:16.708Z"
   },
   {
    "duration": 1339,
    "start_time": "2022-03-19T16:31:16.588Z"
   },
   {
    "duration": 33,
    "start_time": "2022-03-19T16:31:20.354Z"
   },
   {
    "duration": 51,
    "start_time": "2022-03-19T16:31:30.833Z"
   },
   {
    "duration": 143,
    "start_time": "2022-03-19T16:31:55.721Z"
   },
   {
    "duration": 4,
    "start_time": "2022-03-19T16:34:05.243Z"
   },
   {
    "duration": 52,
    "start_time": "2022-03-19T16:34:05.248Z"
   },
   {
    "duration": 6,
    "start_time": "2022-03-19T16:34:05.301Z"
   },
   {
    "duration": 10,
    "start_time": "2022-03-19T16:34:05.309Z"
   },
   {
    "duration": 106,
    "start_time": "2022-03-19T16:34:05.320Z"
   },
   {
    "duration": 0,
    "start_time": "2022-03-19T16:34:05.427Z"
   },
   {
    "duration": 0,
    "start_time": "2022-03-19T16:34:05.429Z"
   },
   {
    "duration": 969,
    "start_time": "2022-03-19T16:34:26.728Z"
   },
   {
    "duration": 82498,
    "start_time": "2022-03-19T16:34:29.816Z"
   },
   {
    "duration": 33,
    "start_time": "2022-03-19T16:36:01.727Z"
   },
   {
    "duration": 7,
    "start_time": "2022-03-19T16:36:04.263Z"
   },
   {
    "duration": 9,
    "start_time": "2022-03-19T16:36:07.863Z"
   },
   {
    "duration": 7,
    "start_time": "2022-03-19T16:36:12.239Z"
   },
   {
    "duration": 5,
    "start_time": "2022-03-19T16:38:39.543Z"
   },
   {
    "duration": 4,
    "start_time": "2022-03-19T16:39:10.326Z"
   },
   {
    "duration": 6,
    "start_time": "2022-03-19T16:49:54.650Z"
   },
   {
    "duration": 6,
    "start_time": "2022-03-19T16:50:30.945Z"
   },
   {
    "duration": 7,
    "start_time": "2022-03-19T16:50:38.537Z"
   },
   {
    "duration": 6,
    "start_time": "2022-03-19T16:51:41.010Z"
   },
   {
    "duration": 6,
    "start_time": "2022-03-19T16:51:52.073Z"
   },
   {
    "duration": 6,
    "start_time": "2022-03-19T16:54:09.320Z"
   },
   {
    "duration": 15,
    "start_time": "2022-03-19T16:57:50.302Z"
   },
   {
    "duration": 6,
    "start_time": "2022-03-19T16:58:32.150Z"
   },
   {
    "duration": 6,
    "start_time": "2022-03-19T17:00:10.624Z"
   },
   {
    "duration": 7,
    "start_time": "2022-03-19T17:00:29.957Z"
   },
   {
    "duration": 6,
    "start_time": "2022-03-19T17:01:05.405Z"
   },
   {
    "duration": 6,
    "start_time": "2022-03-19T17:02:27.244Z"
   },
   {
    "duration": 15,
    "start_time": "2022-03-19T17:02:34.220Z"
   },
   {
    "duration": 7,
    "start_time": "2022-03-19T17:02:35.357Z"
   },
   {
    "duration": 6,
    "start_time": "2022-03-19T17:03:00.596Z"
   },
   {
    "duration": 6,
    "start_time": "2022-03-19T17:03:14.404Z"
   },
   {
    "duration": 6,
    "start_time": "2022-03-19T17:03:39.411Z"
   },
   {
    "duration": 5,
    "start_time": "2022-03-19T17:06:10.963Z"
   },
   {
    "duration": 6,
    "start_time": "2022-03-19T17:07:41.011Z"
   },
   {
    "duration": 6,
    "start_time": "2022-03-19T17:08:10.106Z"
   },
   {
    "duration": 3,
    "start_time": "2022-03-19T17:12:04.012Z"
   },
   {
    "duration": 62,
    "start_time": "2022-03-19T17:12:04.018Z"
   },
   {
    "duration": 7,
    "start_time": "2022-03-19T17:12:04.082Z"
   },
   {
    "duration": 9,
    "start_time": "2022-03-19T17:12:04.091Z"
   },
   {
    "duration": 1107,
    "start_time": "2022-03-19T17:12:04.102Z"
   },
   {
    "duration": 84985,
    "start_time": "2022-03-19T17:12:05.210Z"
   },
   {
    "duration": 31,
    "start_time": "2022-03-19T17:13:30.197Z"
   },
   {
    "duration": 7,
    "start_time": "2022-03-19T17:13:30.229Z"
   },
   {
    "duration": 9,
    "start_time": "2022-03-19T17:13:30.262Z"
   },
   {
    "duration": 30,
    "start_time": "2022-03-19T17:13:30.273Z"
   },
   {
    "duration": 16,
    "start_time": "2022-03-19T17:13:30.304Z"
   },
   {
    "duration": 30,
    "start_time": "2022-03-19T17:13:30.321Z"
   },
   {
    "duration": 7,
    "start_time": "2022-03-19T17:14:53.431Z"
   },
   {
    "duration": 1183,
    "start_time": "2022-03-20T06:01:13.887Z"
   },
   {
    "duration": 60,
    "start_time": "2022-03-20T06:01:15.073Z"
   },
   {
    "duration": 8,
    "start_time": "2022-03-20T06:01:15.135Z"
   },
   {
    "duration": 10,
    "start_time": "2022-03-20T06:01:15.145Z"
   },
   {
    "duration": 1013,
    "start_time": "2022-03-20T06:01:15.156Z"
   },
   {
    "duration": 77220,
    "start_time": "2022-03-20T06:01:16.170Z"
   },
   {
    "duration": 26,
    "start_time": "2022-03-20T06:02:33.391Z"
   },
   {
    "duration": 17,
    "start_time": "2022-03-20T06:02:33.420Z"
   },
   {
    "duration": 6,
    "start_time": "2022-03-20T06:02:33.439Z"
   },
   {
    "duration": 9,
    "start_time": "2022-03-20T06:02:33.447Z"
   },
   {
    "duration": 5,
    "start_time": "2022-03-20T06:02:33.457Z"
   },
   {
    "duration": 15,
    "start_time": "2022-03-20T06:02:33.463Z"
   },
   {
    "duration": 5,
    "start_time": "2022-03-20T06:02:33.479Z"
   },
   {
    "duration": 4,
    "start_time": "2022-03-20T06:02:49.554Z"
   }
  ],
  "kernelspec": {
   "display_name": "Python 3 (ipykernel)",
   "language": "python",
   "name": "python3"
  },
  "language_info": {
   "codemirror_mode": {
    "name": "ipython",
    "version": 3
   },
   "file_extension": ".py",
   "mimetype": "text/x-python",
   "name": "python",
   "nbconvert_exporter": "python",
   "pygments_lexer": "ipython3",
   "version": "3.7.8"
  },
  "toc": {
   "base_numbering": 1,
   "nav_menu": {},
   "number_sections": true,
   "sideBar": true,
   "skip_h1_title": true,
   "title_cell": "Table of Contents",
   "title_sidebar": "Contents",
   "toc_cell": false,
   "toc_position": {},
   "toc_section_display": true,
   "toc_window_display": true
  }
 },
 "nbformat": 4,
 "nbformat_minor": 2
}
