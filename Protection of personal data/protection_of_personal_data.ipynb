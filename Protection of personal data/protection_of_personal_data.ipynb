{
 "cells": [
  {
   "cell_type": "markdown",
   "metadata": {
    "toc": true
   },
   "source": [
    "<h1>Содержание<span class=\"tocSkip\"></span></h1>\n",
    "<div class=\"toc\"><ul class=\"toc-item\"><li><span><a href=\"#Загрузка-данных\" data-toc-modified-id=\"Загрузка-данных-1\"><span class=\"toc-item-num\">1&nbsp;&nbsp;</span>Загрузка данных</a></span></li><li><span><a href=\"#Умножение-матриц\" data-toc-modified-id=\"Умножение-матриц-2\"><span class=\"toc-item-num\">2&nbsp;&nbsp;</span>Умножение матриц</a></span></li><li><span><a href=\"#Алгоритм-преобразования\" data-toc-modified-id=\"Алгоритм-преобразования-3\"><span class=\"toc-item-num\">3&nbsp;&nbsp;</span>Алгоритм преобразования</a></span></li><li><span><a href=\"#Проверка-алгоритма\" data-toc-modified-id=\"Проверка-алгоритма-4\"><span class=\"toc-item-num\">4&nbsp;&nbsp;</span>Проверка алгоритма</a></span></li><li><span><a href=\"#Чек-лист-проверки\" data-toc-modified-id=\"Чек-лист-проверки-5\"><span class=\"toc-item-num\">5&nbsp;&nbsp;</span>Чек-лист проверки</a></span></li></ul></div>"
   ]
  },
  {
   "cell_type": "markdown",
   "metadata": {},
   "source": [
    "# Защита персональных данных клиентов"
   ]
  },
  {
   "cell_type": "markdown",
   "metadata": {},
   "source": [
    "Вам нужно защитить данные клиентов страховой компании «Хоть потоп». Разработайте такой метод преобразования данных, чтобы по ним было сложно восстановить персональную информацию. Обоснуйте корректность его работы.\n",
    "\n",
    "Нужно защитить данные, чтобы при преобразовании качество моделей машинного обучения не ухудшилось. Подбирать наилучшую модель не требуется."
   ]
  },
  {
   "cell_type": "markdown",
   "metadata": {},
   "source": [
    "## Загрузка данных"
   ]
  },
  {
   "cell_type": "code",
   "execution_count": 514,
   "metadata": {},
   "outputs": [],
   "source": [
    "import pandas as pd\n",
    "import numpy as np\n",
    "from sklearn.linear_model import LinearRegression\n",
    "from sklearn.model_selection import train_test_split\n",
    "from sklearn.metrics import r2_score"
   ]
  },
  {
   "cell_type": "code",
   "execution_count": 515,
   "metadata": {},
   "outputs": [
    {
     "data": {
      "text/html": [
       "<div>\n",
       "<style scoped>\n",
       "    .dataframe tbody tr th:only-of-type {\n",
       "        vertical-align: middle;\n",
       "    }\n",
       "\n",
       "    .dataframe tbody tr th {\n",
       "        vertical-align: top;\n",
       "    }\n",
       "\n",
       "    .dataframe thead th {\n",
       "        text-align: right;\n",
       "    }\n",
       "</style>\n",
       "<table border=\"1\" class=\"dataframe\">\n",
       "  <thead>\n",
       "    <tr style=\"text-align: right;\">\n",
       "      <th></th>\n",
       "      <th>Пол</th>\n",
       "      <th>Возраст</th>\n",
       "      <th>Зарплата</th>\n",
       "      <th>Члены семьи</th>\n",
       "      <th>Страховые выплаты</th>\n",
       "    </tr>\n",
       "  </thead>\n",
       "  <tbody>\n",
       "    <tr>\n",
       "      <th>0</th>\n",
       "      <td>1</td>\n",
       "      <td>41.0</td>\n",
       "      <td>49600.0</td>\n",
       "      <td>1</td>\n",
       "      <td>0</td>\n",
       "    </tr>\n",
       "    <tr>\n",
       "      <th>1</th>\n",
       "      <td>0</td>\n",
       "      <td>46.0</td>\n",
       "      <td>38000.0</td>\n",
       "      <td>1</td>\n",
       "      <td>1</td>\n",
       "    </tr>\n",
       "    <tr>\n",
       "      <th>2</th>\n",
       "      <td>0</td>\n",
       "      <td>29.0</td>\n",
       "      <td>21000.0</td>\n",
       "      <td>0</td>\n",
       "      <td>0</td>\n",
       "    </tr>\n",
       "    <tr>\n",
       "      <th>3</th>\n",
       "      <td>0</td>\n",
       "      <td>21.0</td>\n",
       "      <td>41700.0</td>\n",
       "      <td>2</td>\n",
       "      <td>0</td>\n",
       "    </tr>\n",
       "    <tr>\n",
       "      <th>4</th>\n",
       "      <td>1</td>\n",
       "      <td>28.0</td>\n",
       "      <td>26100.0</td>\n",
       "      <td>0</td>\n",
       "      <td>0</td>\n",
       "    </tr>\n",
       "    <tr>\n",
       "      <th>...</th>\n",
       "      <td>...</td>\n",
       "      <td>...</td>\n",
       "      <td>...</td>\n",
       "      <td>...</td>\n",
       "      <td>...</td>\n",
       "    </tr>\n",
       "    <tr>\n",
       "      <th>4995</th>\n",
       "      <td>0</td>\n",
       "      <td>28.0</td>\n",
       "      <td>35700.0</td>\n",
       "      <td>2</td>\n",
       "      <td>0</td>\n",
       "    </tr>\n",
       "    <tr>\n",
       "      <th>4996</th>\n",
       "      <td>0</td>\n",
       "      <td>34.0</td>\n",
       "      <td>52400.0</td>\n",
       "      <td>1</td>\n",
       "      <td>0</td>\n",
       "    </tr>\n",
       "    <tr>\n",
       "      <th>4997</th>\n",
       "      <td>0</td>\n",
       "      <td>20.0</td>\n",
       "      <td>33900.0</td>\n",
       "      <td>2</td>\n",
       "      <td>0</td>\n",
       "    </tr>\n",
       "    <tr>\n",
       "      <th>4998</th>\n",
       "      <td>1</td>\n",
       "      <td>22.0</td>\n",
       "      <td>32700.0</td>\n",
       "      <td>3</td>\n",
       "      <td>0</td>\n",
       "    </tr>\n",
       "    <tr>\n",
       "      <th>4999</th>\n",
       "      <td>1</td>\n",
       "      <td>28.0</td>\n",
       "      <td>40600.0</td>\n",
       "      <td>1</td>\n",
       "      <td>0</td>\n",
       "    </tr>\n",
       "  </tbody>\n",
       "</table>\n",
       "<p>5000 rows × 5 columns</p>\n",
       "</div>"
      ],
      "text/plain": [
       "      Пол  Возраст  Зарплата  Члены семьи  Страховые выплаты\n",
       "0       1     41.0   49600.0            1                  0\n",
       "1       0     46.0   38000.0            1                  1\n",
       "2       0     29.0   21000.0            0                  0\n",
       "3       0     21.0   41700.0            2                  0\n",
       "4       1     28.0   26100.0            0                  0\n",
       "...   ...      ...       ...          ...                ...\n",
       "4995    0     28.0   35700.0            2                  0\n",
       "4996    0     34.0   52400.0            1                  0\n",
       "4997    0     20.0   33900.0            2                  0\n",
       "4998    1     22.0   32700.0            3                  0\n",
       "4999    1     28.0   40600.0            1                  0\n",
       "\n",
       "[5000 rows x 5 columns]"
      ]
     },
     "metadata": {},
     "output_type": "display_data"
    },
    {
     "name": "stdout",
     "output_type": "stream",
     "text": [
      "<class 'pandas.core.frame.DataFrame'>\n",
      "RangeIndex: 5000 entries, 0 to 4999\n",
      "Data columns (total 5 columns):\n",
      " #   Column             Non-Null Count  Dtype  \n",
      "---  ------             --------------  -----  \n",
      " 0   Пол                5000 non-null   int64  \n",
      " 1   Возраст            5000 non-null   float64\n",
      " 2   Зарплата           5000 non-null   float64\n",
      " 3   Члены семьи        5000 non-null   int64  \n",
      " 4   Страховые выплаты  5000 non-null   int64  \n",
      "dtypes: float64(2), int64(3)\n",
      "memory usage: 195.4 KB\n"
     ]
    }
   ],
   "source": [
    "data = pd.read_csv('/datasets/insurance.csv')\n",
    "display(data)\n",
    "data.info()"
   ]
  },
  {
   "cell_type": "code",
   "execution_count": 516,
   "metadata": {},
   "outputs": [
    {
     "data": {
      "text/plain": [
       "Пол                  0\n",
       "Возраст              0\n",
       "Зарплата             0\n",
       "Члены семьи          0\n",
       "Страховые выплаты    0\n",
       "dtype: int64"
      ]
     },
     "execution_count": 516,
     "metadata": {},
     "output_type": "execute_result"
    }
   ],
   "source": [
    "data.isna().sum()"
   ]
  },
  {
   "cell_type": "markdown",
   "metadata": {},
   "source": [
    "В данных нет пропусков"
   ]
  },
  {
   "cell_type": "code",
   "execution_count": 517,
   "metadata": {},
   "outputs": [
    {
     "data": {
      "text/plain": [
       "153"
      ]
     },
     "execution_count": 517,
     "metadata": {},
     "output_type": "execute_result"
    }
   ],
   "source": [
    "data.duplicated().sum()"
   ]
  },
  {
   "cell_type": "code",
   "execution_count": 518,
   "metadata": {},
   "outputs": [
    {
     "data": {
      "text/html": [
       "<div>\n",
       "<style scoped>\n",
       "    .dataframe tbody tr th:only-of-type {\n",
       "        vertical-align: middle;\n",
       "    }\n",
       "\n",
       "    .dataframe tbody tr th {\n",
       "        vertical-align: top;\n",
       "    }\n",
       "\n",
       "    .dataframe thead th {\n",
       "        text-align: right;\n",
       "    }\n",
       "</style>\n",
       "<table border=\"1\" class=\"dataframe\">\n",
       "  <thead>\n",
       "    <tr style=\"text-align: right;\">\n",
       "      <th></th>\n",
       "      <th>Пол</th>\n",
       "      <th>Возраст</th>\n",
       "      <th>Зарплата</th>\n",
       "      <th>Члены семьи</th>\n",
       "      <th>Страховые выплаты</th>\n",
       "    </tr>\n",
       "  </thead>\n",
       "  <tbody>\n",
       "    <tr>\n",
       "      <th>281</th>\n",
       "      <td>1</td>\n",
       "      <td>39.0</td>\n",
       "      <td>48100.0</td>\n",
       "      <td>1</td>\n",
       "      <td>0</td>\n",
       "    </tr>\n",
       "    <tr>\n",
       "      <th>488</th>\n",
       "      <td>1</td>\n",
       "      <td>24.0</td>\n",
       "      <td>32900.0</td>\n",
       "      <td>1</td>\n",
       "      <td>0</td>\n",
       "    </tr>\n",
       "    <tr>\n",
       "      <th>513</th>\n",
       "      <td>0</td>\n",
       "      <td>31.0</td>\n",
       "      <td>37400.0</td>\n",
       "      <td>2</td>\n",
       "      <td>0</td>\n",
       "    </tr>\n",
       "    <tr>\n",
       "      <th>718</th>\n",
       "      <td>1</td>\n",
       "      <td>22.0</td>\n",
       "      <td>32600.0</td>\n",
       "      <td>1</td>\n",
       "      <td>0</td>\n",
       "    </tr>\n",
       "    <tr>\n",
       "      <th>785</th>\n",
       "      <td>0</td>\n",
       "      <td>20.0</td>\n",
       "      <td>35800.0</td>\n",
       "      <td>0</td>\n",
       "      <td>0</td>\n",
       "    </tr>\n",
       "    <tr>\n",
       "      <th>869</th>\n",
       "      <td>1</td>\n",
       "      <td>24.0</td>\n",
       "      <td>33100.0</td>\n",
       "      <td>1</td>\n",
       "      <td>0</td>\n",
       "    </tr>\n",
       "    <tr>\n",
       "      <th>887</th>\n",
       "      <td>1</td>\n",
       "      <td>19.0</td>\n",
       "      <td>35500.0</td>\n",
       "      <td>0</td>\n",
       "      <td>0</td>\n",
       "    </tr>\n",
       "    <tr>\n",
       "      <th>1004</th>\n",
       "      <td>1</td>\n",
       "      <td>29.0</td>\n",
       "      <td>42400.0</td>\n",
       "      <td>0</td>\n",
       "      <td>0</td>\n",
       "    </tr>\n",
       "    <tr>\n",
       "      <th>1089</th>\n",
       "      <td>0</td>\n",
       "      <td>27.0</td>\n",
       "      <td>46800.0</td>\n",
       "      <td>2</td>\n",
       "      <td>0</td>\n",
       "    </tr>\n",
       "    <tr>\n",
       "      <th>1091</th>\n",
       "      <td>1</td>\n",
       "      <td>41.0</td>\n",
       "      <td>34000.0</td>\n",
       "      <td>1</td>\n",
       "      <td>0</td>\n",
       "    </tr>\n",
       "  </tbody>\n",
       "</table>\n",
       "</div>"
      ],
      "text/plain": [
       "      Пол  Возраст  Зарплата  Члены семьи  Страховые выплаты\n",
       "281     1     39.0   48100.0            1                  0\n",
       "488     1     24.0   32900.0            1                  0\n",
       "513     0     31.0   37400.0            2                  0\n",
       "718     1     22.0   32600.0            1                  0\n",
       "785     0     20.0   35800.0            0                  0\n",
       "869     1     24.0   33100.0            1                  0\n",
       "887     1     19.0   35500.0            0                  0\n",
       "1004    1     29.0   42400.0            0                  0\n",
       "1089    0     27.0   46800.0            2                  0\n",
       "1091    1     41.0   34000.0            1                  0"
      ]
     },
     "execution_count": 518,
     "metadata": {},
     "output_type": "execute_result"
    }
   ],
   "source": [
    "data[data.duplicated()].head(10)"
   ]
  },
  {
   "cell_type": "markdown",
   "metadata": {},
   "source": [
    "И нет дубликатов"
   ]
  },
  {
   "cell_type": "markdown",
   "metadata": {},
   "source": [
    "## Умножение матриц"
   ]
  },
  {
   "cell_type": "markdown",
   "metadata": {},
   "source": [
    "Выделим признаки и ключевой признак. Разделим наш датафрэйм на обучающую и валдивационную выборки"
   ]
  },
  {
   "cell_type": "code",
   "execution_count": 519,
   "metadata": {},
   "outputs": [],
   "source": [
    "features = data.drop(['Страховые выплаты'], axis=1)\n",
    "target = data['Страховые выплаты']\n",
    "features_train, features_valid, target_train, target_valid = train_test_split(features, target, \n",
    "                                                                              test_size=0.25, random_state=123)"
   ]
  },
  {
   "cell_type": "code",
   "execution_count": 520,
   "metadata": {},
   "outputs": [
    {
     "data": {
      "text/plain": [
       "0.43018469990933306"
      ]
     },
     "execution_count": 520,
     "metadata": {},
     "output_type": "execute_result"
    }
   ],
   "source": [
    "model = LinearRegression()\n",
    "model.fit(features_train, target_train)\n",
    "predicted_valid = model.predict(features_valid)\n",
    "score_1 = r2_score(target_valid, predicted_valid)\n",
    "score_1"
   ]
  },
  {
   "cell_type": "markdown",
   "metadata": {},
   "source": [
    "Создадим случайную квадратную матрицу, размеры который равны количеству признаков"
   ]
  },
  {
   "cell_type": "code",
   "execution_count": 521,
   "metadata": {},
   "outputs": [
    {
     "data": {
      "text/plain": [
       "array([[0.44452536, 0.10787037, 0.74189122, 0.32883339],\n",
       "       [0.83044996, 0.41112999, 0.99970197, 0.21707797],\n",
       "       [0.54189067, 0.49023941, 0.5755197 , 0.36539704],\n",
       "       [0.69668663, 0.52287202, 0.89327045, 0.0708507 ]])"
      ]
     },
     "execution_count": 521,
     "metadata": {},
     "output_type": "execute_result"
    }
   ],
   "source": [
    "matrix = np.random.random((4, 4))\n",
    "matrix"
   ]
  },
  {
   "cell_type": "code",
   "execution_count": 522,
   "metadata": {},
   "outputs": [
    {
     "data": {
      "text/plain": [
       "array([[-4.29371053,  8.15171257,  0.11280289, -5.62957982],\n",
       "       [-0.19074578, -3.80232019,  1.7995489 ,  3.25436018],\n",
       "       [ 3.35409937, -4.08861792, -1.31833137,  3.75893797],\n",
       "       [ 1.3406855 , -0.54792349,  2.23151519, -1.93800606]])"
      ]
     },
     "execution_count": 522,
     "metadata": {},
     "output_type": "execute_result"
    }
   ],
   "source": [
    "matrix_inv = np.linalg.inv(matrix)\n",
    "matrix_inv"
   ]
  },
  {
   "cell_type": "code",
   "execution_count": 523,
   "metadata": {},
   "outputs": [
    {
     "data": {
      "text/plain": [
       "array([[ 1.00000000e+00,  6.70525839e-16,  6.66741128e-17,\n",
       "         9.38691021e-17],\n",
       "       [-5.87086319e-16,  1.00000000e+00, -7.04608872e-17,\n",
       "        -6.66260942e-16],\n",
       "       [-1.84485089e-16,  1.13655830e-15,  1.00000000e+00,\n",
       "        -4.39953416e-16],\n",
       "       [-8.40064157e-16,  6.05913929e-16, -3.32032605e-16,\n",
       "         1.00000000e+00]])"
      ]
     },
     "execution_count": 523,
     "metadata": {},
     "output_type": "execute_result"
    }
   ],
   "source": [
    "matrix @ matrix_inv"
   ]
  },
  {
   "cell_type": "markdown",
   "metadata": {},
   "source": [
    "Наша матрица matrix обратима, потому что для нее можно найти обратную матрицу. Умножим признаки на обратимую матрицу"
   ]
  },
  {
   "cell_type": "code",
   "execution_count": 524,
   "metadata": {},
   "outputs": [],
   "source": [
    "features = data.drop(['Страховые выплаты'], axis=1)\n",
    "target = data['Страховые выплаты']\n",
    "features = features @ matrix\n",
    "features_train, features_valid, target_train, target_valid = train_test_split(features, target, \n",
    "                                                                              test_size=0.25, random_state=123)"
   ]
  },
  {
   "cell_type": "code",
   "execution_count": 525,
   "metadata": {},
   "outputs": [
    {
     "data": {
      "text/plain": [
       "0.43018469990879227"
      ]
     },
     "execution_count": 525,
     "metadata": {},
     "output_type": "execute_result"
    }
   ],
   "source": [
    "model = LinearRegression()\n",
    "model.fit(features_train, target_train)\n",
    "predicted_valid = model.predict(features_valid)\n",
    "score_2 = r2_score(target_valid, predicted_valid)\n",
    "score_2"
   ]
  },
  {
   "cell_type": "code",
   "execution_count": 526,
   "metadata": {},
   "outputs": [
    {
     "data": {
      "text/plain": [
       "5.407896352949138e-13"
      ]
     },
     "execution_count": 526,
     "metadata": {},
     "output_type": "execute_result"
    }
   ],
   "source": [
    "score_1-score_2"
   ]
  },
  {
   "cell_type": "markdown",
   "metadata": {},
   "source": [
    "Умножение признаков на обратимую матрицу не повлияло на результат предсказания линейной регресии"
   ]
  },
  {
   "cell_type": "markdown",
   "metadata": {},
   "source": [
    "## Алгоритм преобразования"
   ]
  },
  {
   "cell_type": "markdown",
   "metadata": {},
   "source": [
    "**Алгоритм**"
   ]
  },
  {
   "cell_type": "code",
   "execution_count": 527,
   "metadata": {},
   "outputs": [],
   "source": [
    "def algorithm(features):\n",
    "    import random\n",
    "    m = []\n",
    "    for i in range(4):\n",
    "        matrix = np.random.random((4, 4))\n",
    "        m.append(matrix)\n",
    "    for i in range(len(m)):\n",
    "        features = features @ m[i]\n",
    "    return features"
   ]
  },
  {
   "cell_type": "markdown",
   "metadata": {},
   "source": [
    "**Обоснование**\n",
    "\n",
    "Создаем 4 случайные обратимые матрицы и умнажаем признаки (данные, которые нужно зашифровать) на каждую из этих матриц. Алгоритм хорош тем, что матрицы генирируются случайно, следовательно, нет определенного закона составления матриц"
   ]
  },
  {
   "cell_type": "markdown",
   "metadata": {},
   "source": [
    "## Проверка алгоритма"
   ]
  },
  {
   "cell_type": "code",
   "execution_count": 528,
   "metadata": {},
   "outputs": [],
   "source": [
    "features = data.drop(['Страховые выплаты'], axis=1)\n",
    "features = algorithm(features)\n",
    "target = data['Страховые выплаты']\n",
    "features_train, features_valid, target_train, target_valid = train_test_split(features, target, \n",
    "                                                                              test_size=0.25, random_state=123)"
   ]
  },
  {
   "cell_type": "code",
   "execution_count": 529,
   "metadata": {},
   "outputs": [
    {
     "data": {
      "text/plain": [
       "0.43018470094162053"
      ]
     },
     "execution_count": 529,
     "metadata": {},
     "output_type": "execute_result"
    }
   ],
   "source": [
    "model = LinearRegression()\n",
    "model.fit(features_train, target_train)\n",
    "predicted_valid = model.predict(features_valid)\n",
    "score_3 = r2_score(target_valid, predicted_valid)\n",
    "score_3"
   ]
  },
  {
   "cell_type": "code",
   "execution_count": 530,
   "metadata": {},
   "outputs": [
    {
     "data": {
      "text/plain": [
       "1.0322874777202173e-09"
      ]
     },
     "execution_count": 530,
     "metadata": {},
     "output_type": "execute_result"
    }
   ],
   "source": [
    "score_3 - score_1"
   ]
  },
  {
   "cell_type": "markdown",
   "metadata": {},
   "source": [
    "Преобразование признаков по нашему алгоритму не изменило точность предсказания модели."
   ]
  }
 ],
 "metadata": {
  "ExecuteTimeLog": [
   {
    "duration": 426,
    "start_time": "2022-05-07T11:20:05.253Z"
   },
   {
    "duration": 33,
    "start_time": "2022-05-07T11:20:26.987Z"
   },
   {
    "duration": 21,
    "start_time": "2022-05-07T11:20:41.490Z"
   },
   {
    "duration": 70,
    "start_time": "2022-05-07T11:20:49.724Z"
   },
   {
    "duration": 6,
    "start_time": "2022-05-07T11:20:54.011Z"
   },
   {
    "duration": 7,
    "start_time": "2022-05-07T11:21:06.275Z"
   },
   {
    "duration": 7,
    "start_time": "2022-05-07T11:21:10.715Z"
   },
   {
    "duration": 5,
    "start_time": "2022-05-07T11:21:16.692Z"
   },
   {
    "duration": 6,
    "start_time": "2022-05-07T11:21:30.155Z"
   },
   {
    "duration": 100,
    "start_time": "2022-05-07T11:22:05.027Z"
   },
   {
    "duration": 1763,
    "start_time": "2022-05-07T11:22:15.187Z"
   },
   {
    "duration": 1741,
    "start_time": "2022-05-07T11:22:30.891Z"
   },
   {
    "duration": 4,
    "start_time": "2022-05-07T11:22:46.235Z"
   },
   {
    "duration": 5,
    "start_time": "2022-05-07T11:22:51.522Z"
   },
   {
    "duration": 5,
    "start_time": "2022-05-07T11:22:53.891Z"
   },
   {
    "duration": 10,
    "start_time": "2022-05-07T11:22:59.506Z"
   },
   {
    "duration": 6,
    "start_time": "2022-05-07T11:23:02.747Z"
   },
   {
    "duration": 14,
    "start_time": "2022-05-07T11:24:31.811Z"
   },
   {
    "duration": 11,
    "start_time": "2022-05-07T11:24:59.008Z"
   },
   {
    "duration": 18,
    "start_time": "2022-05-07T11:25:17.498Z"
   },
   {
    "duration": 28,
    "start_time": "2022-05-07T11:25:27.330Z"
   },
   {
    "duration": 6,
    "start_time": "2022-05-07T11:25:55.681Z"
   },
   {
    "duration": 6,
    "start_time": "2022-05-07T11:26:51.937Z"
   },
   {
    "duration": 102,
    "start_time": "2022-05-07T11:27:11.857Z"
   },
   {
    "duration": 195,
    "start_time": "2022-05-11T16:24:12.561Z"
   },
   {
    "duration": 1131,
    "start_time": "2022-05-11T16:24:20.863Z"
   },
   {
    "duration": 3,
    "start_time": "2022-05-11T16:24:24.264Z"
   },
   {
    "duration": 52,
    "start_time": "2022-05-11T16:24:24.269Z"
   },
   {
    "duration": 6,
    "start_time": "2022-05-11T16:24:24.322Z"
   },
   {
    "duration": 6,
    "start_time": "2022-05-11T16:24:24.330Z"
   },
   {
    "duration": 10,
    "start_time": "2022-05-11T16:24:24.338Z"
   },
   {
    "duration": 3,
    "start_time": "2022-05-11T16:25:39.741Z"
   },
   {
    "duration": 89,
    "start_time": "2022-05-11T16:27:06.525Z"
   },
   {
    "duration": 9,
    "start_time": "2022-05-11T16:27:15.678Z"
   },
   {
    "duration": 183,
    "start_time": "2022-05-11T16:29:54.605Z"
   },
   {
    "duration": 221,
    "start_time": "2022-05-11T16:30:05.156Z"
   },
   {
    "duration": 6,
    "start_time": "2022-05-11T16:30:21.836Z"
   },
   {
    "duration": 12,
    "start_time": "2022-05-11T16:30:26.348Z"
   },
   {
    "duration": 11,
    "start_time": "2022-05-11T16:30:32.316Z"
   },
   {
    "duration": 4,
    "start_time": "2022-05-11T16:30:35.724Z"
   },
   {
    "duration": 6,
    "start_time": "2022-05-11T16:30:40.172Z"
   },
   {
    "duration": 5,
    "start_time": "2022-05-11T16:31:11.028Z"
   },
   {
    "duration": 8,
    "start_time": "2022-05-11T16:32:30.531Z"
   },
   {
    "duration": 3,
    "start_time": "2022-05-11T16:33:58.802Z"
   },
   {
    "duration": 8,
    "start_time": "2022-05-11T16:34:29.818Z"
   },
   {
    "duration": 2,
    "start_time": "2022-05-11T16:39:36.832Z"
   },
   {
    "duration": 8,
    "start_time": "2022-05-11T16:40:34.048Z"
   },
   {
    "duration": 205,
    "start_time": "2022-05-11T16:40:39.335Z"
   },
   {
    "duration": 4,
    "start_time": "2022-05-11T16:40:43.359Z"
   },
   {
    "duration": 5,
    "start_time": "2022-05-11T16:41:01.513Z"
   },
   {
    "duration": 3,
    "start_time": "2022-05-11T16:41:05.495Z"
   },
   {
    "duration": 2,
    "start_time": "2022-05-11T16:41:18.831Z"
   },
   {
    "duration": 3,
    "start_time": "2022-05-11T16:41:19.870Z"
   },
   {
    "duration": 3,
    "start_time": "2022-05-11T16:54:33.895Z"
   },
   {
    "duration": 4,
    "start_time": "2022-05-11T16:54:46.864Z"
   },
   {
    "duration": 6,
    "start_time": "2022-05-11T16:54:47.321Z"
   },
   {
    "duration": 4,
    "start_time": "2022-05-11T16:55:06.881Z"
   },
   {
    "duration": 10,
    "start_time": "2022-05-11T16:56:14.945Z"
   },
   {
    "duration": 7,
    "start_time": "2022-05-11T16:57:10.326Z"
   },
   {
    "duration": 9,
    "start_time": "2022-05-11T16:57:26.448Z"
   },
   {
    "duration": 10,
    "start_time": "2022-05-11T16:58:08.296Z"
   },
   {
    "duration": 3,
    "start_time": "2022-05-11T16:58:18.512Z"
   },
   {
    "duration": 45,
    "start_time": "2022-05-11T16:58:18.518Z"
   },
   {
    "duration": 8,
    "start_time": "2022-05-11T16:58:18.565Z"
   },
   {
    "duration": 11,
    "start_time": "2022-05-11T16:58:18.575Z"
   },
   {
    "duration": 17,
    "start_time": "2022-05-11T16:58:18.587Z"
   },
   {
    "duration": 6,
    "start_time": "2022-05-11T16:58:18.606Z"
   },
   {
    "duration": 12,
    "start_time": "2022-05-11T16:58:18.614Z"
   },
   {
    "duration": 6,
    "start_time": "2022-05-11T16:58:18.628Z"
   },
   {
    "duration": 7,
    "start_time": "2022-05-11T16:58:18.636Z"
   },
   {
    "duration": 64,
    "start_time": "2022-05-11T16:58:18.646Z"
   },
   {
    "duration": 94,
    "start_time": "2022-05-11T16:58:18.712Z"
   },
   {
    "duration": 10,
    "start_time": "2022-05-11T16:58:53.904Z"
   },
   {
    "duration": 3,
    "start_time": "2022-05-11T16:59:02.687Z"
   },
   {
    "duration": 37,
    "start_time": "2022-05-11T16:59:02.692Z"
   },
   {
    "duration": 6,
    "start_time": "2022-05-11T16:59:02.731Z"
   },
   {
    "duration": 9,
    "start_time": "2022-05-11T16:59:02.739Z"
   },
   {
    "duration": 17,
    "start_time": "2022-05-11T16:59:02.750Z"
   },
   {
    "duration": 7,
    "start_time": "2022-05-11T16:59:02.769Z"
   },
   {
    "duration": 8,
    "start_time": "2022-05-11T16:59:05.551Z"
   },
   {
    "duration": 5,
    "start_time": "2022-05-11T16:59:07.335Z"
   },
   {
    "duration": 4,
    "start_time": "2022-05-11T16:59:08.055Z"
   },
   {
    "duration": 8,
    "start_time": "2022-05-11T16:59:08.799Z"
   },
   {
    "duration": 10,
    "start_time": "2022-05-11T16:59:16.519Z"
   },
   {
    "duration": 9,
    "start_time": "2022-05-11T16:59:19.895Z"
   },
   {
    "duration": 5,
    "start_time": "2022-05-11T16:59:26.999Z"
   },
   {
    "duration": 5,
    "start_time": "2022-05-11T16:59:34.359Z"
   },
   {
    "duration": 4,
    "start_time": "2022-05-11T16:59:51.326Z"
   },
   {
    "duration": 4,
    "start_time": "2022-05-11T17:00:04.367Z"
   },
   {
    "duration": 10,
    "start_time": "2022-05-11T17:13:24.433Z"
   },
   {
    "duration": 5,
    "start_time": "2022-05-11T17:13:47.297Z"
   },
   {
    "duration": 4,
    "start_time": "2022-05-11T17:16:42.177Z"
   },
   {
    "duration": 8,
    "start_time": "2022-05-11T17:36:23.272Z"
   },
   {
    "duration": 3,
    "start_time": "2022-05-11T17:36:33.224Z"
   },
   {
    "duration": 7,
    "start_time": "2022-05-11T17:36:38.515Z"
   },
   {
    "duration": 3,
    "start_time": "2022-05-11T17:37:02.159Z"
   },
   {
    "duration": 11,
    "start_time": "2022-05-11T17:37:09.655Z"
   },
   {
    "duration": 8,
    "start_time": "2022-05-11T17:37:38.295Z"
   },
   {
    "duration": 2,
    "start_time": "2022-05-11T17:37:41.087Z"
   },
   {
    "duration": 9,
    "start_time": "2022-05-11T17:37:43.519Z"
   },
   {
    "duration": 4,
    "start_time": "2022-05-11T17:38:05.639Z"
   },
   {
    "duration": 10,
    "start_time": "2022-05-11T17:38:09.599Z"
   },
   {
    "duration": 3,
    "start_time": "2022-05-11T17:38:23.638Z"
   },
   {
    "duration": 4,
    "start_time": "2022-05-11T17:38:28.182Z"
   },
   {
    "duration": 14,
    "start_time": "2022-05-11T17:38:41.904Z"
   },
   {
    "duration": 5,
    "start_time": "2022-05-11T17:38:54.262Z"
   },
   {
    "duration": 8,
    "start_time": "2022-05-11T17:39:09.566Z"
   },
   {
    "duration": 5,
    "start_time": "2022-05-11T17:39:12.518Z"
   },
   {
    "duration": 42,
    "start_time": "2022-05-11T17:39:24.878Z"
   },
   {
    "duration": 4,
    "start_time": "2022-05-11T17:42:08.717Z"
   },
   {
    "duration": 6,
    "start_time": "2022-05-11T17:42:22.341Z"
   },
   {
    "duration": 7,
    "start_time": "2022-05-11T17:42:32.333Z"
   },
   {
    "duration": 9,
    "start_time": "2022-05-11T17:42:39.077Z"
   },
   {
    "duration": 14,
    "start_time": "2022-05-11T17:42:54.389Z"
   },
   {
    "duration": 12,
    "start_time": "2022-05-11T17:43:30.659Z"
   },
   {
    "duration": 7,
    "start_time": "2022-05-11T17:43:41.516Z"
   },
   {
    "duration": 8,
    "start_time": "2022-05-11T17:43:41.973Z"
   },
   {
    "duration": 11,
    "start_time": "2022-05-11T17:43:52.293Z"
   },
   {
    "duration": 7,
    "start_time": "2022-05-11T17:43:58.644Z"
   },
   {
    "duration": 10,
    "start_time": "2022-05-11T17:43:59.132Z"
   },
   {
    "duration": 8,
    "start_time": "2022-05-11T17:44:02.085Z"
   },
   {
    "duration": 3,
    "start_time": "2022-05-11T17:44:48.382Z"
   },
   {
    "duration": 40,
    "start_time": "2022-05-11T17:44:48.387Z"
   },
   {
    "duration": 6,
    "start_time": "2022-05-11T17:44:48.429Z"
   },
   {
    "duration": 12,
    "start_time": "2022-05-11T17:44:48.436Z"
   },
   {
    "duration": 15,
    "start_time": "2022-05-11T17:44:48.450Z"
   },
   {
    "duration": 5,
    "start_time": "2022-05-11T17:44:48.466Z"
   },
   {
    "duration": 14,
    "start_time": "2022-05-11T17:44:48.472Z"
   },
   {
    "duration": 4,
    "start_time": "2022-05-11T17:44:48.487Z"
   },
   {
    "duration": 11,
    "start_time": "2022-05-11T17:44:48.492Z"
   },
   {
    "duration": 9,
    "start_time": "2022-05-11T17:44:48.505Z"
   },
   {
    "duration": 88,
    "start_time": "2022-05-11T17:44:48.516Z"
   },
   {
    "duration": 11,
    "start_time": "2022-05-11T17:44:48.606Z"
   },
   {
    "duration": 83,
    "start_time": "2022-05-11T17:44:48.618Z"
   },
   {
    "duration": 9,
    "start_time": "2022-05-11T17:44:48.703Z"
   },
   {
    "duration": 13,
    "start_time": "2022-05-11T17:45:04.555Z"
   },
   {
    "duration": 3,
    "start_time": "2022-05-11T17:45:23.043Z"
   },
   {
    "duration": 18,
    "start_time": "2022-05-11T17:45:23.596Z"
   },
   {
    "duration": 4,
    "start_time": "2022-05-11T17:45:33.533Z"
   },
   {
    "duration": 32,
    "start_time": "2022-05-11T17:45:33.539Z"
   },
   {
    "duration": 4,
    "start_time": "2022-05-11T17:45:33.573Z"
   },
   {
    "duration": 10,
    "start_time": "2022-05-11T17:45:33.578Z"
   },
   {
    "duration": 10,
    "start_time": "2022-05-11T17:45:33.590Z"
   },
   {
    "duration": 5,
    "start_time": "2022-05-11T17:45:33.601Z"
   },
   {
    "duration": 15,
    "start_time": "2022-05-11T17:45:33.607Z"
   },
   {
    "duration": 5,
    "start_time": "2022-05-11T17:45:33.623Z"
   },
   {
    "duration": 8,
    "start_time": "2022-05-11T17:45:33.630Z"
   },
   {
    "duration": 60,
    "start_time": "2022-05-11T17:45:33.640Z"
   },
   {
    "duration": 7,
    "start_time": "2022-05-11T17:45:33.702Z"
   },
   {
    "duration": 96,
    "start_time": "2022-05-11T17:45:33.710Z"
   },
   {
    "duration": 5,
    "start_time": "2022-05-11T17:45:33.808Z"
   },
   {
    "duration": 7,
    "start_time": "2022-05-11T17:45:33.815Z"
   },
   {
    "duration": 16,
    "start_time": "2022-05-11T17:45:36.251Z"
   },
   {
    "duration": 10,
    "start_time": "2022-05-11T17:46:25.163Z"
   },
   {
    "duration": 3,
    "start_time": "2022-05-11T17:46:36.963Z"
   },
   {
    "duration": 3,
    "start_time": "2022-05-11T17:46:49.213Z"
   },
   {
    "duration": 37,
    "start_time": "2022-05-11T17:46:49.218Z"
   },
   {
    "duration": 5,
    "start_time": "2022-05-11T17:46:49.256Z"
   },
   {
    "duration": 8,
    "start_time": "2022-05-11T17:46:49.262Z"
   },
   {
    "duration": 9,
    "start_time": "2022-05-11T17:46:49.271Z"
   },
   {
    "duration": 5,
    "start_time": "2022-05-11T17:46:49.282Z"
   },
   {
    "duration": 8,
    "start_time": "2022-05-11T17:46:49.288Z"
   },
   {
    "duration": 14,
    "start_time": "2022-05-11T17:46:49.300Z"
   },
   {
    "duration": 17,
    "start_time": "2022-05-11T17:46:49.316Z"
   },
   {
    "duration": 10,
    "start_time": "2022-05-11T17:46:49.335Z"
   },
   {
    "duration": 9,
    "start_time": "2022-05-11T17:46:49.404Z"
   },
   {
    "duration": 92,
    "start_time": "2022-05-11T17:46:49.416Z"
   },
   {
    "duration": 4,
    "start_time": "2022-05-11T17:46:51.690Z"
   },
   {
    "duration": 3,
    "start_time": "2022-05-11T17:48:43.067Z"
   },
   {
    "duration": 9,
    "start_time": "2022-05-11T17:48:43.850Z"
   },
   {
    "duration": 3,
    "start_time": "2022-05-11T17:49:23.163Z"
   },
   {
    "duration": 46,
    "start_time": "2022-05-11T17:49:23.168Z"
   },
   {
    "duration": 6,
    "start_time": "2022-05-11T17:49:23.216Z"
   },
   {
    "duration": 7,
    "start_time": "2022-05-11T17:49:23.223Z"
   },
   {
    "duration": 11,
    "start_time": "2022-05-11T17:49:23.232Z"
   },
   {
    "duration": 6,
    "start_time": "2022-05-11T17:49:23.244Z"
   },
   {
    "duration": 9,
    "start_time": "2022-05-11T17:49:23.251Z"
   },
   {
    "duration": 4,
    "start_time": "2022-05-11T17:49:23.262Z"
   },
   {
    "duration": 5,
    "start_time": "2022-05-11T17:49:23.300Z"
   },
   {
    "duration": 7,
    "start_time": "2022-05-11T17:49:23.308Z"
   },
   {
    "duration": 83,
    "start_time": "2022-05-11T17:49:23.317Z"
   },
   {
    "duration": 12,
    "start_time": "2022-05-11T17:49:23.402Z"
   },
   {
    "duration": 84,
    "start_time": "2022-05-11T17:49:23.416Z"
   },
   {
    "duration": 3,
    "start_time": "2022-05-11T17:49:27.018Z"
   },
   {
    "duration": 14,
    "start_time": "2022-05-11T17:49:29.970Z"
   },
   {
    "duration": 3,
    "start_time": "2022-05-11T17:49:37.010Z"
   },
   {
    "duration": 12,
    "start_time": "2022-05-11T17:49:37.497Z"
   },
   {
    "duration": 3,
    "start_time": "2022-05-11T17:49:50.210Z"
   },
   {
    "duration": 7,
    "start_time": "2022-05-11T17:49:50.698Z"
   },
   {
    "duration": 9,
    "start_time": "2022-05-11T17:49:52.154Z"
   },
   {
    "duration": 3,
    "start_time": "2022-05-11T17:50:17.915Z"
   },
   {
    "duration": 3,
    "start_time": "2022-05-11T17:50:48.083Z"
   },
   {
    "duration": 34,
    "start_time": "2022-05-11T17:50:48.087Z"
   },
   {
    "duration": 5,
    "start_time": "2022-05-11T17:50:48.122Z"
   },
   {
    "duration": 5,
    "start_time": "2022-05-11T17:50:48.128Z"
   },
   {
    "duration": 9,
    "start_time": "2022-05-11T17:50:48.135Z"
   },
   {
    "duration": 5,
    "start_time": "2022-05-11T17:50:48.145Z"
   },
   {
    "duration": 11,
    "start_time": "2022-05-11T17:50:48.151Z"
   },
   {
    "duration": 4,
    "start_time": "2022-05-11T17:50:48.163Z"
   },
   {
    "duration": 6,
    "start_time": "2022-05-11T17:50:48.168Z"
   },
   {
    "duration": 26,
    "start_time": "2022-05-11T17:50:48.175Z"
   },
   {
    "duration": 8,
    "start_time": "2022-05-11T17:50:48.203Z"
   },
   {
    "duration": 88,
    "start_time": "2022-05-11T17:50:48.213Z"
   },
   {
    "duration": 4,
    "start_time": "2022-05-11T17:50:48.302Z"
   },
   {
    "duration": 4,
    "start_time": "2022-05-11T17:50:48.308Z"
   },
   {
    "duration": 10,
    "start_time": "2022-05-11T17:50:48.314Z"
   },
   {
    "duration": 8,
    "start_time": "2022-05-11T17:50:48.326Z"
   },
   {
    "duration": 3,
    "start_time": "2022-05-11T17:50:56.131Z"
   },
   {
    "duration": 45,
    "start_time": "2022-05-11T17:50:56.136Z"
   },
   {
    "duration": 5,
    "start_time": "2022-05-11T17:50:56.182Z"
   },
   {
    "duration": 10,
    "start_time": "2022-05-11T17:50:56.189Z"
   },
   {
    "duration": 10,
    "start_time": "2022-05-11T17:50:56.200Z"
   },
   {
    "duration": 5,
    "start_time": "2022-05-11T17:50:56.212Z"
   },
   {
    "duration": 9,
    "start_time": "2022-05-11T17:50:56.218Z"
   },
   {
    "duration": 3,
    "start_time": "2022-05-11T17:50:56.228Z"
   },
   {
    "duration": 7,
    "start_time": "2022-05-11T17:50:56.233Z"
   },
   {
    "duration": 58,
    "start_time": "2022-05-11T17:50:56.243Z"
   },
   {
    "duration": 7,
    "start_time": "2022-05-11T17:50:56.304Z"
   },
   {
    "duration": 89,
    "start_time": "2022-05-11T17:50:56.312Z"
   },
   {
    "duration": 3,
    "start_time": "2022-05-11T17:50:56.403Z"
   },
   {
    "duration": 5,
    "start_time": "2022-05-11T17:50:56.408Z"
   },
   {
    "duration": 14,
    "start_time": "2022-05-11T17:50:56.414Z"
   },
   {
    "duration": 0,
    "start_time": "2022-05-11T17:50:56.429Z"
   },
   {
    "duration": 3,
    "start_time": "2022-05-11T17:51:22.617Z"
   },
   {
    "duration": 6,
    "start_time": "2022-05-11T17:51:23.945Z"
   },
   {
    "duration": 3,
    "start_time": "2022-05-11T17:51:26.971Z"
   },
   {
    "duration": 33,
    "start_time": "2022-05-11T17:51:26.976Z"
   },
   {
    "duration": 5,
    "start_time": "2022-05-11T17:51:27.011Z"
   },
   {
    "duration": 6,
    "start_time": "2022-05-11T17:51:27.017Z"
   },
   {
    "duration": 9,
    "start_time": "2022-05-11T17:51:27.025Z"
   },
   {
    "duration": 5,
    "start_time": "2022-05-11T17:51:27.036Z"
   },
   {
    "duration": 8,
    "start_time": "2022-05-11T17:51:27.043Z"
   },
   {
    "duration": 5,
    "start_time": "2022-05-11T17:51:27.052Z"
   },
   {
    "duration": 44,
    "start_time": "2022-05-11T17:51:27.058Z"
   },
   {
    "duration": 6,
    "start_time": "2022-05-11T17:51:27.104Z"
   },
   {
    "duration": 90,
    "start_time": "2022-05-11T17:51:27.112Z"
   },
   {
    "duration": 9,
    "start_time": "2022-05-11T17:51:27.204Z"
   },
   {
    "duration": 3,
    "start_time": "2022-05-11T17:51:27.214Z"
   },
   {
    "duration": 3,
    "start_time": "2022-05-11T17:51:27.219Z"
   },
   {
    "duration": 9,
    "start_time": "2022-05-11T17:51:27.224Z"
   },
   {
    "duration": 8,
    "start_time": "2022-05-11T17:51:27.234Z"
   },
   {
    "duration": 3,
    "start_time": "2022-05-11T17:51:45.481Z"
   },
   {
    "duration": 10,
    "start_time": "2022-05-11T17:51:52.617Z"
   },
   {
    "duration": 6,
    "start_time": "2022-05-11T17:52:09.842Z"
   },
   {
    "duration": 10,
    "start_time": "2022-05-11T17:52:10.489Z"
   },
   {
    "duration": 8,
    "start_time": "2022-05-11T17:52:12.274Z"
   },
   {
    "duration": 3,
    "start_time": "2022-05-11T17:52:21.379Z"
   },
   {
    "duration": 34,
    "start_time": "2022-05-11T17:52:21.384Z"
   },
   {
    "duration": 5,
    "start_time": "2022-05-11T17:52:21.420Z"
   },
   {
    "duration": 15,
    "start_time": "2022-05-11T17:52:21.427Z"
   },
   {
    "duration": 12,
    "start_time": "2022-05-11T17:52:21.444Z"
   },
   {
    "duration": 6,
    "start_time": "2022-05-11T17:52:21.458Z"
   },
   {
    "duration": 11,
    "start_time": "2022-05-11T17:52:21.466Z"
   },
   {
    "duration": 27,
    "start_time": "2022-05-11T17:52:21.478Z"
   },
   {
    "duration": 7,
    "start_time": "2022-05-11T17:52:21.506Z"
   },
   {
    "duration": 15,
    "start_time": "2022-05-11T17:52:21.515Z"
   },
   {
    "duration": 8,
    "start_time": "2022-05-11T17:52:21.600Z"
   },
   {
    "duration": 95,
    "start_time": "2022-05-11T17:52:21.610Z"
   },
   {
    "duration": 4,
    "start_time": "2022-05-11T17:52:21.707Z"
   },
   {
    "duration": 6,
    "start_time": "2022-05-11T17:52:21.713Z"
   },
   {
    "duration": 10,
    "start_time": "2022-05-11T17:52:21.720Z"
   },
   {
    "duration": 14,
    "start_time": "2022-05-11T17:52:21.731Z"
   },
   {
    "duration": 12,
    "start_time": "2022-05-11T17:52:21.747Z"
   },
   {
    "duration": 10,
    "start_time": "2022-05-11T17:52:21.760Z"
   },
   {
    "duration": 7,
    "start_time": "2022-05-11T17:52:55.928Z"
   },
   {
    "duration": 10,
    "start_time": "2022-05-11T17:52:56.313Z"
   },
   {
    "duration": 11,
    "start_time": "2022-05-11T17:52:57.776Z"
   },
   {
    "duration": 7,
    "start_time": "2022-05-11T17:52:59.464Z"
   },
   {
    "duration": 9,
    "start_time": "2022-05-11T17:53:00.176Z"
   },
   {
    "duration": 8,
    "start_time": "2022-05-11T17:53:01.017Z"
   },
   {
    "duration": 6,
    "start_time": "2022-05-11T17:53:02.480Z"
   },
   {
    "duration": 10,
    "start_time": "2022-05-11T17:53:02.640Z"
   },
   {
    "duration": 8,
    "start_time": "2022-05-11T17:53:03.352Z"
   },
   {
    "duration": 3,
    "start_time": "2022-05-11T17:55:46.959Z"
   },
   {
    "duration": 34,
    "start_time": "2022-05-11T17:55:46.963Z"
   },
   {
    "duration": 5,
    "start_time": "2022-05-11T17:55:46.999Z"
   },
   {
    "duration": 10,
    "start_time": "2022-05-11T17:55:47.005Z"
   },
   {
    "duration": 11,
    "start_time": "2022-05-11T17:55:47.016Z"
   },
   {
    "duration": 5,
    "start_time": "2022-05-11T17:55:47.028Z"
   },
   {
    "duration": 8,
    "start_time": "2022-05-11T17:55:47.035Z"
   },
   {
    "duration": 3,
    "start_time": "2022-05-11T17:55:47.045Z"
   },
   {
    "duration": 7,
    "start_time": "2022-05-11T17:55:47.049Z"
   },
   {
    "duration": 4,
    "start_time": "2022-05-11T17:55:50.158Z"
   },
   {
    "duration": 4,
    "start_time": "2022-05-11T17:56:00.599Z"
   },
   {
    "duration": 4,
    "start_time": "2022-05-11T17:56:23.366Z"
   },
   {
    "duration": 4,
    "start_time": "2022-05-11T17:56:25.287Z"
   },
   {
    "duration": 4,
    "start_time": "2022-05-11T17:56:26.551Z"
   },
   {
    "duration": 4,
    "start_time": "2022-05-11T17:56:28.399Z"
   },
   {
    "duration": 5,
    "start_time": "2022-05-11T17:56:29.630Z"
   },
   {
    "duration": 5,
    "start_time": "2022-05-11T17:56:30.703Z"
   },
   {
    "duration": 4,
    "start_time": "2022-05-11T17:56:31.702Z"
   },
   {
    "duration": 3,
    "start_time": "2022-05-11T17:56:32.711Z"
   },
   {
    "duration": 4,
    "start_time": "2022-05-11T17:56:51.455Z"
   },
   {
    "duration": 8,
    "start_time": "2022-05-11T17:56:53.375Z"
   },
   {
    "duration": 9,
    "start_time": "2022-05-11T17:56:53.854Z"
   },
   {
    "duration": 8,
    "start_time": "2022-05-11T17:56:55.223Z"
   },
   {
    "duration": 6,
    "start_time": "2022-05-11T17:59:42.293Z"
   },
   {
    "duration": 5,
    "start_time": "2022-05-11T17:59:45.053Z"
   },
   {
    "duration": 4,
    "start_time": "2022-05-11T17:59:46.869Z"
   },
   {
    "duration": 4,
    "start_time": "2022-05-11T17:59:47.773Z"
   },
   {
    "duration": 4,
    "start_time": "2022-05-11T17:59:48.581Z"
   },
   {
    "duration": 5,
    "start_time": "2022-05-11T17:59:49.365Z"
   },
   {
    "duration": 4,
    "start_time": "2022-05-11T17:59:51.405Z"
   },
   {
    "duration": 5,
    "start_time": "2022-05-11T17:59:52.381Z"
   },
   {
    "duration": 5,
    "start_time": "2022-05-11T17:59:53.256Z"
   },
   {
    "duration": 5,
    "start_time": "2022-05-11T17:59:54.133Z"
   },
   {
    "duration": 5,
    "start_time": "2022-05-11T17:59:54.973Z"
   },
   {
    "duration": 5,
    "start_time": "2022-05-11T17:59:56.173Z"
   },
   {
    "duration": 3,
    "start_time": "2022-05-11T18:00:31.565Z"
   },
   {
    "duration": 16,
    "start_time": "2022-05-11T18:00:33.181Z"
   },
   {
    "duration": 18,
    "start_time": "2022-05-11T18:01:05.293Z"
   },
   {
    "duration": 7,
    "start_time": "2022-05-11T18:01:12.077Z"
   },
   {
    "duration": 6,
    "start_time": "2022-05-11T18:01:27.869Z"
   },
   {
    "duration": 6,
    "start_time": "2022-05-11T18:01:35.716Z"
   },
   {
    "duration": 4,
    "start_time": "2022-05-11T18:02:56.260Z"
   },
   {
    "duration": 13,
    "start_time": "2022-05-11T18:02:57.948Z"
   },
   {
    "duration": 10,
    "start_time": "2022-05-11T18:03:09.332Z"
   },
   {
    "duration": 6,
    "start_time": "2022-05-11T18:03:32.980Z"
   },
   {
    "duration": 10,
    "start_time": "2022-05-11T18:03:38.883Z"
   },
   {
    "duration": 10,
    "start_time": "2022-05-11T18:03:41.836Z"
   },
   {
    "duration": 10,
    "start_time": "2022-05-11T18:03:46.403Z"
   },
   {
    "duration": 6,
    "start_time": "2022-05-11T18:03:52.539Z"
   },
   {
    "duration": 9,
    "start_time": "2022-05-11T18:04:20.819Z"
   },
   {
    "duration": 10,
    "start_time": "2022-05-11T18:04:28.707Z"
   },
   {
    "duration": 7,
    "start_time": "2022-05-11T18:04:45.051Z"
   },
   {
    "duration": 10,
    "start_time": "2022-05-11T18:04:54.619Z"
   },
   {
    "duration": 3,
    "start_time": "2022-05-11T18:05:44.660Z"
   },
   {
    "duration": 34,
    "start_time": "2022-05-11T18:05:44.665Z"
   },
   {
    "duration": 5,
    "start_time": "2022-05-11T18:05:44.700Z"
   },
   {
    "duration": 6,
    "start_time": "2022-05-11T18:05:44.707Z"
   },
   {
    "duration": 9,
    "start_time": "2022-05-11T18:05:44.715Z"
   },
   {
    "duration": 5,
    "start_time": "2022-05-11T18:05:44.726Z"
   },
   {
    "duration": 17,
    "start_time": "2022-05-11T18:05:44.732Z"
   },
   {
    "duration": 4,
    "start_time": "2022-05-11T18:05:44.750Z"
   },
   {
    "duration": 6,
    "start_time": "2022-05-11T18:05:44.755Z"
   },
   {
    "duration": 7,
    "start_time": "2022-05-11T18:05:44.801Z"
   },
   {
    "duration": 6,
    "start_time": "2022-05-11T18:05:48.786Z"
   },
   {
    "duration": 8,
    "start_time": "2022-05-11T18:05:50.442Z"
   },
   {
    "duration": 3,
    "start_time": "2022-05-11T18:05:52.394Z"
   },
   {
    "duration": 9,
    "start_time": "2022-05-11T18:06:01.859Z"
   },
   {
    "duration": 4,
    "start_time": "2022-05-11T18:06:48.026Z"
   },
   {
    "duration": 9,
    "start_time": "2022-05-11T18:07:10.170Z"
   },
   {
    "duration": 10,
    "start_time": "2022-05-11T18:07:11.402Z"
   },
   {
    "duration": 9,
    "start_time": "2022-05-11T18:07:12.898Z"
   },
   {
    "duration": 8,
    "start_time": "2022-05-11T18:07:17.793Z"
   },
   {
    "duration": 11,
    "start_time": "2022-05-11T18:07:18.185Z"
   },
   {
    "duration": 10,
    "start_time": "2022-05-11T18:07:19.937Z"
   },
   {
    "duration": 3,
    "start_time": "2022-05-11T18:07:29.762Z"
   },
   {
    "duration": 35,
    "start_time": "2022-05-11T18:07:29.767Z"
   },
   {
    "duration": 5,
    "start_time": "2022-05-11T18:07:29.803Z"
   },
   {
    "duration": 7,
    "start_time": "2022-05-11T18:07:29.809Z"
   },
   {
    "duration": 10,
    "start_time": "2022-05-11T18:07:29.818Z"
   },
   {
    "duration": 5,
    "start_time": "2022-05-11T18:07:29.830Z"
   },
   {
    "duration": 10,
    "start_time": "2022-05-11T18:07:29.836Z"
   },
   {
    "duration": 4,
    "start_time": "2022-05-11T18:07:29.847Z"
   },
   {
    "duration": 7,
    "start_time": "2022-05-11T18:07:29.852Z"
   },
   {
    "duration": 6,
    "start_time": "2022-05-11T18:07:29.901Z"
   },
   {
    "duration": 10,
    "start_time": "2022-05-11T18:07:29.908Z"
   },
   {
    "duration": 89,
    "start_time": "2022-05-11T18:07:29.920Z"
   },
   {
    "duration": 14,
    "start_time": "2022-05-11T18:07:30.011Z"
   },
   {
    "duration": 9,
    "start_time": "2022-05-11T18:07:30.027Z"
   },
   {
    "duration": 7,
    "start_time": "2022-05-11T18:07:30.037Z"
   },
   {
    "duration": 10,
    "start_time": "2022-05-11T18:07:30.045Z"
   },
   {
    "duration": 52,
    "start_time": "2022-05-11T18:07:30.056Z"
   },
   {
    "duration": 90,
    "start_time": "2022-05-11T18:07:30.110Z"
   },
   {
    "duration": 3,
    "start_time": "2022-05-11T18:07:30.202Z"
   },
   {
    "duration": 2,
    "start_time": "2022-05-11T18:08:35.578Z"
   },
   {
    "duration": 36,
    "start_time": "2022-05-11T18:08:35.582Z"
   },
   {
    "duration": 6,
    "start_time": "2022-05-11T18:08:35.619Z"
   },
   {
    "duration": 7,
    "start_time": "2022-05-11T18:08:35.626Z"
   },
   {
    "duration": 10,
    "start_time": "2022-05-11T18:08:35.635Z"
   },
   {
    "duration": 5,
    "start_time": "2022-05-11T18:08:35.646Z"
   },
   {
    "duration": 8,
    "start_time": "2022-05-11T18:08:35.652Z"
   },
   {
    "duration": 3,
    "start_time": "2022-05-11T18:08:35.662Z"
   },
   {
    "duration": 35,
    "start_time": "2022-05-11T18:08:35.666Z"
   },
   {
    "duration": 10,
    "start_time": "2022-05-11T18:08:35.703Z"
   },
   {
    "duration": 85,
    "start_time": "2022-05-11T18:08:35.715Z"
   },
   {
    "duration": 10,
    "start_time": "2022-05-11T18:08:35.802Z"
   },
   {
    "duration": 9,
    "start_time": "2022-05-11T18:08:35.813Z"
   },
   {
    "duration": 3,
    "start_time": "2022-05-11T18:08:46.417Z"
   },
   {
    "duration": 5,
    "start_time": "2022-05-11T18:09:14.537Z"
   },
   {
    "duration": 4,
    "start_time": "2022-05-11T18:09:49.504Z"
   },
   {
    "duration": 5,
    "start_time": "2022-05-11T18:09:57.256Z"
   },
   {
    "duration": 5,
    "start_time": "2022-05-11T18:09:58.200Z"
   },
   {
    "duration": 6,
    "start_time": "2022-05-11T18:10:07.248Z"
   },
   {
    "duration": 6,
    "start_time": "2022-05-11T18:10:07.673Z"
   },
   {
    "duration": 9,
    "start_time": "2022-05-11T18:11:08.561Z"
   },
   {
    "duration": 8,
    "start_time": "2022-05-11T18:11:45.673Z"
   },
   {
    "duration": 5,
    "start_time": "2022-05-11T18:11:50.048Z"
   },
   {
    "duration": 5,
    "start_time": "2022-05-11T18:11:51.705Z"
   },
   {
    "duration": 6,
    "start_time": "2022-05-11T18:11:53.552Z"
   },
   {
    "duration": 4,
    "start_time": "2022-05-11T18:11:53.776Z"
   },
   {
    "duration": 5,
    "start_time": "2022-05-11T18:11:55.303Z"
   },
   {
    "duration": 4,
    "start_time": "2022-05-11T18:11:55.824Z"
   },
   {
    "duration": 5,
    "start_time": "2022-05-11T18:16:45.512Z"
   },
   {
    "duration": 5,
    "start_time": "2022-05-11T18:16:48.294Z"
   },
   {
    "duration": 8,
    "start_time": "2022-05-11T18:16:56.726Z"
   },
   {
    "duration": 8,
    "start_time": "2022-05-11T18:17:14.110Z"
   },
   {
    "duration": 8,
    "start_time": "2022-05-11T18:17:23.582Z"
   },
   {
    "duration": 9,
    "start_time": "2022-05-11T18:17:28.382Z"
   },
   {
    "duration": 8,
    "start_time": "2022-05-11T18:17:33.118Z"
   },
   {
    "duration": 7,
    "start_time": "2022-05-11T18:21:14.109Z"
   },
   {
    "duration": 5,
    "start_time": "2022-05-11T18:21:20.204Z"
   },
   {
    "duration": 5,
    "start_time": "2022-05-11T18:21:27.700Z"
   },
   {
    "duration": 5,
    "start_time": "2022-05-11T18:21:35.156Z"
   },
   {
    "duration": 4,
    "start_time": "2022-05-11T18:21:35.804Z"
   },
   {
    "duration": 3,
    "start_time": "2022-05-11T18:22:02.108Z"
   },
   {
    "duration": 6,
    "start_time": "2022-05-11T18:22:06.715Z"
   },
   {
    "duration": 11,
    "start_time": "2022-05-11T18:22:07.267Z"
   },
   {
    "duration": 6,
    "start_time": "2022-05-11T18:22:59.227Z"
   },
   {
    "duration": 8,
    "start_time": "2022-05-11T18:22:59.484Z"
   },
   {
    "duration": 3,
    "start_time": "2022-05-11T18:23:03.542Z"
   },
   {
    "duration": 49,
    "start_time": "2022-05-11T18:23:03.547Z"
   },
   {
    "duration": 8,
    "start_time": "2022-05-11T18:23:03.598Z"
   },
   {
    "duration": 9,
    "start_time": "2022-05-11T18:23:03.607Z"
   },
   {
    "duration": 15,
    "start_time": "2022-05-11T18:23:03.618Z"
   },
   {
    "duration": 6,
    "start_time": "2022-05-11T18:23:03.635Z"
   },
   {
    "duration": 10,
    "start_time": "2022-05-11T18:23:03.643Z"
   },
   {
    "duration": 4,
    "start_time": "2022-05-11T18:23:03.655Z"
   },
   {
    "duration": 41,
    "start_time": "2022-05-11T18:23:03.661Z"
   },
   {
    "duration": 15,
    "start_time": "2022-05-11T18:23:03.704Z"
   },
   {
    "duration": 84,
    "start_time": "2022-05-11T18:23:03.721Z"
   },
   {
    "duration": 13,
    "start_time": "2022-05-11T18:23:03.806Z"
   },
   {
    "duration": 21,
    "start_time": "2022-05-11T18:23:03.821Z"
   },
   {
    "duration": 7,
    "start_time": "2022-05-11T18:23:03.845Z"
   },
   {
    "duration": 4,
    "start_time": "2022-05-11T18:23:03.854Z"
   },
   {
    "duration": 10,
    "start_time": "2022-05-11T18:23:03.859Z"
   },
   {
    "duration": 30,
    "start_time": "2022-05-11T18:23:03.871Z"
   },
   {
    "duration": 18,
    "start_time": "2022-05-11T18:23:03.903Z"
   },
   {
    "duration": 89,
    "start_time": "2022-05-11T18:23:03.923Z"
   },
   {
    "duration": 10,
    "start_time": "2022-05-11T18:23:04.014Z"
   },
   {
    "duration": 9,
    "start_time": "2022-05-11T18:23:17.811Z"
   },
   {
    "duration": 14,
    "start_time": "2022-05-11T18:23:26.436Z"
   },
   {
    "duration": 4,
    "start_time": "2022-05-11T18:23:38.747Z"
   },
   {
    "duration": 41,
    "start_time": "2022-05-11T18:23:38.753Z"
   },
   {
    "duration": 6,
    "start_time": "2022-05-11T18:23:38.796Z"
   },
   {
    "duration": 7,
    "start_time": "2022-05-11T18:23:38.804Z"
   },
   {
    "duration": 9,
    "start_time": "2022-05-11T18:23:38.814Z"
   },
   {
    "duration": 5,
    "start_time": "2022-05-11T18:23:38.825Z"
   },
   {
    "duration": 10,
    "start_time": "2022-05-11T18:23:38.831Z"
   },
   {
    "duration": 4,
    "start_time": "2022-05-11T18:23:38.843Z"
   },
   {
    "duration": 7,
    "start_time": "2022-05-11T18:23:38.848Z"
   },
   {
    "duration": 4,
    "start_time": "2022-05-11T18:23:38.901Z"
   },
   {
    "duration": 13,
    "start_time": "2022-05-11T18:23:38.907Z"
   },
   {
    "duration": 86,
    "start_time": "2022-05-11T18:23:38.921Z"
   },
   {
    "duration": 3,
    "start_time": "2022-05-11T18:23:39.009Z"
   },
   {
    "duration": 9,
    "start_time": "2022-05-11T18:23:44.891Z"
   },
   {
    "duration": 9,
    "start_time": "2022-05-11T18:23:49.795Z"
   },
   {
    "duration": 4,
    "start_time": "2022-05-11T18:23:55.147Z"
   },
   {
    "duration": 3,
    "start_time": "2022-05-11T18:24:41.523Z"
   },
   {
    "duration": 10,
    "start_time": "2022-05-11T18:24:48.554Z"
   },
   {
    "duration": 11,
    "start_time": "2022-05-11T18:25:02.931Z"
   },
   {
    "duration": 10,
    "start_time": "2022-05-11T18:25:03.642Z"
   },
   {
    "duration": 5,
    "start_time": "2022-05-11T18:25:15.674Z"
   },
   {
    "duration": 9,
    "start_time": "2022-05-11T18:25:33.482Z"
   },
   {
    "duration": 2,
    "start_time": "2022-05-11T18:25:46.924Z"
   },
   {
    "duration": 34,
    "start_time": "2022-05-11T18:25:46.928Z"
   },
   {
    "duration": 5,
    "start_time": "2022-05-11T18:25:46.963Z"
   },
   {
    "duration": 7,
    "start_time": "2022-05-11T18:25:46.970Z"
   },
   {
    "duration": 10,
    "start_time": "2022-05-11T18:25:46.978Z"
   },
   {
    "duration": 5,
    "start_time": "2022-05-11T18:25:46.990Z"
   },
   {
    "duration": 10,
    "start_time": "2022-05-11T18:25:46.996Z"
   },
   {
    "duration": 3,
    "start_time": "2022-05-11T18:25:47.008Z"
   },
   {
    "duration": 5,
    "start_time": "2022-05-11T18:25:47.013Z"
   },
   {
    "duration": 6,
    "start_time": "2022-05-11T18:25:47.020Z"
   },
   {
    "duration": 76,
    "start_time": "2022-05-11T18:25:47.028Z"
   },
   {
    "duration": 95,
    "start_time": "2022-05-11T18:25:47.106Z"
   },
   {
    "duration": 3,
    "start_time": "2022-05-11T18:25:47.203Z"
   },
   {
    "duration": 5,
    "start_time": "2022-05-11T18:25:47.208Z"
   },
   {
    "duration": 7,
    "start_time": "2022-05-11T18:25:47.214Z"
   },
   {
    "duration": 83,
    "start_time": "2022-05-11T18:25:47.223Z"
   },
   {
    "duration": 93,
    "start_time": "2022-05-11T18:25:47.308Z"
   },
   {
    "duration": 5,
    "start_time": "2022-05-11T18:25:47.403Z"
   },
   {
    "duration": 10,
    "start_time": "2022-05-11T18:25:47.410Z"
   },
   {
    "duration": 4,
    "start_time": "2022-05-11T18:25:47.421Z"
   },
   {
    "duration": 4,
    "start_time": "2022-05-11T18:27:29.026Z"
   },
   {
    "duration": 46,
    "start_time": "2022-05-11T18:27:29.032Z"
   },
   {
    "duration": 7,
    "start_time": "2022-05-11T18:27:29.079Z"
   },
   {
    "duration": 6,
    "start_time": "2022-05-11T18:27:29.088Z"
   },
   {
    "duration": 11,
    "start_time": "2022-05-11T18:27:29.095Z"
   },
   {
    "duration": 5,
    "start_time": "2022-05-11T18:27:29.108Z"
   },
   {
    "duration": 9,
    "start_time": "2022-05-11T18:27:29.114Z"
   },
   {
    "duration": 4,
    "start_time": "2022-05-11T18:27:29.125Z"
   },
   {
    "duration": 8,
    "start_time": "2022-05-11T18:27:29.131Z"
   },
   {
    "duration": 62,
    "start_time": "2022-05-11T18:27:29.142Z"
   },
   {
    "duration": 15,
    "start_time": "2022-05-11T18:27:29.208Z"
   },
   {
    "duration": 12,
    "start_time": "2022-05-11T18:27:29.300Z"
   },
   {
    "duration": 4,
    "start_time": "2022-05-11T18:27:29.314Z"
   },
   {
    "duration": 4,
    "start_time": "2022-05-11T18:27:34.336Z"
   },
   {
    "duration": 12,
    "start_time": "2022-05-11T18:27:38.360Z"
   },
   {
    "duration": 18,
    "start_time": "2022-05-11T18:27:39.657Z"
   },
   {
    "duration": 5,
    "start_time": "2022-05-11T18:27:41.568Z"
   },
   {
    "duration": 11,
    "start_time": "2022-05-11T18:27:41.994Z"
   },
   {
    "duration": 4,
    "start_time": "2022-05-11T18:27:43.097Z"
   },
   {
    "duration": 4,
    "start_time": "2022-05-11T18:28:00.929Z"
   },
   {
    "duration": 8,
    "start_time": "2022-05-11T18:28:15.297Z"
   },
   {
    "duration": 11,
    "start_time": "2022-05-11T18:28:17.313Z"
   },
   {
    "duration": 4,
    "start_time": "2022-05-11T18:28:17.833Z"
   },
   {
    "duration": 3,
    "start_time": "2022-05-11T18:28:28.705Z"
   },
   {
    "duration": 35,
    "start_time": "2022-05-11T18:28:28.710Z"
   },
   {
    "duration": 5,
    "start_time": "2022-05-11T18:28:28.746Z"
   },
   {
    "duration": 8,
    "start_time": "2022-05-11T18:28:28.753Z"
   },
   {
    "duration": 9,
    "start_time": "2022-05-11T18:28:28.763Z"
   },
   {
    "duration": 5,
    "start_time": "2022-05-11T18:28:28.774Z"
   },
   {
    "duration": 23,
    "start_time": "2022-05-11T18:28:28.780Z"
   },
   {
    "duration": 5,
    "start_time": "2022-05-11T18:28:28.805Z"
   },
   {
    "duration": 9,
    "start_time": "2022-05-11T18:28:28.812Z"
   },
   {
    "duration": 78,
    "start_time": "2022-05-11T18:28:28.823Z"
   },
   {
    "duration": 7,
    "start_time": "2022-05-11T18:28:28.904Z"
   },
   {
    "duration": 92,
    "start_time": "2022-05-11T18:28:28.913Z"
   },
   {
    "duration": 8,
    "start_time": "2022-05-11T18:28:29.006Z"
   },
   {
    "duration": 6,
    "start_time": "2022-05-11T18:28:29.016Z"
   },
   {
    "duration": 6,
    "start_time": "2022-05-11T18:28:29.024Z"
   },
   {
    "duration": 7,
    "start_time": "2022-05-11T18:28:29.031Z"
   },
   {
    "duration": 9,
    "start_time": "2022-05-11T18:28:29.040Z"
   },
   {
    "duration": 5,
    "start_time": "2022-05-11T18:28:29.051Z"
   },
   {
    "duration": 3,
    "start_time": "2022-05-11T18:30:26.594Z"
   },
   {
    "duration": 37,
    "start_time": "2022-05-11T18:30:26.599Z"
   },
   {
    "duration": 5,
    "start_time": "2022-05-11T18:30:26.638Z"
   },
   {
    "duration": 6,
    "start_time": "2022-05-11T18:30:26.645Z"
   },
   {
    "duration": 10,
    "start_time": "2022-05-11T18:30:26.654Z"
   },
   {
    "duration": 5,
    "start_time": "2022-05-11T18:30:26.665Z"
   },
   {
    "duration": 31,
    "start_time": "2022-05-11T18:30:26.672Z"
   },
   {
    "duration": 4,
    "start_time": "2022-05-11T18:30:26.704Z"
   },
   {
    "duration": 8,
    "start_time": "2022-05-11T18:30:26.710Z"
   },
   {
    "duration": 83,
    "start_time": "2022-05-11T18:30:26.719Z"
   },
   {
    "duration": 12,
    "start_time": "2022-05-11T18:30:26.804Z"
   },
   {
    "duration": 87,
    "start_time": "2022-05-11T18:30:26.818Z"
   },
   {
    "duration": 7,
    "start_time": "2022-05-11T18:30:26.906Z"
   },
   {
    "duration": 10,
    "start_time": "2022-05-11T18:30:26.915Z"
   },
   {
    "duration": 10,
    "start_time": "2022-05-11T18:30:26.927Z"
   },
   {
    "duration": 9,
    "start_time": "2022-05-11T18:30:26.938Z"
   },
   {
    "duration": 8,
    "start_time": "2022-05-11T18:30:26.948Z"
   },
   {
    "duration": 240,
    "start_time": "2022-05-11T18:32:23.431Z"
   },
   {
    "duration": 253,
    "start_time": "2022-05-11T18:36:21.885Z"
   },
   {
    "duration": 7,
    "start_time": "2022-05-11T18:39:08.284Z"
   },
   {
    "duration": 8,
    "start_time": "2022-05-11T18:39:08.572Z"
   },
   {
    "duration": 3,
    "start_time": "2022-05-11T18:39:09.284Z"
   },
   {
    "duration": 3,
    "start_time": "2022-05-11T18:39:12.534Z"
   },
   {
    "duration": 94,
    "start_time": "2022-05-11T18:39:12.539Z"
   },
   {
    "duration": 7,
    "start_time": "2022-05-11T18:39:12.635Z"
   },
   {
    "duration": 5,
    "start_time": "2022-05-11T18:39:12.644Z"
   },
   {
    "duration": 16,
    "start_time": "2022-05-11T18:39:12.650Z"
   },
   {
    "duration": 7,
    "start_time": "2022-05-11T18:39:12.668Z"
   },
   {
    "duration": 28,
    "start_time": "2022-05-11T18:39:12.677Z"
   },
   {
    "duration": 4,
    "start_time": "2022-05-11T18:39:12.707Z"
   },
   {
    "duration": 6,
    "start_time": "2022-05-11T18:39:12.712Z"
   },
   {
    "duration": 7,
    "start_time": "2022-05-11T18:39:12.721Z"
   },
   {
    "duration": 83,
    "start_time": "2022-05-11T18:39:12.730Z"
   },
   {
    "duration": 86,
    "start_time": "2022-05-11T18:39:12.815Z"
   },
   {
    "duration": 4,
    "start_time": "2022-05-11T18:39:12.903Z"
   },
   {
    "duration": 6,
    "start_time": "2022-05-11T18:39:12.909Z"
   },
   {
    "duration": 8,
    "start_time": "2022-05-11T18:39:12.917Z"
   },
   {
    "duration": 13,
    "start_time": "2022-05-11T18:39:12.926Z"
   },
   {
    "duration": 4,
    "start_time": "2022-05-11T18:39:12.940Z"
   }
  ],
  "kernelspec": {
   "display_name": "Python 3 (ipykernel)",
   "language": "python",
   "name": "python3"
  },
  "language_info": {
   "codemirror_mode": {
    "name": "ipython",
    "version": 3
   },
   "file_extension": ".py",
   "mimetype": "text/x-python",
   "name": "python",
   "nbconvert_exporter": "python",
   "pygments_lexer": "ipython3",
   "version": "3.7.8"
  },
  "toc": {
   "base_numbering": 1,
   "nav_menu": {},
   "number_sections": true,
   "sideBar": true,
   "skip_h1_title": true,
   "title_cell": "Содержание",
   "title_sidebar": "Contents",
   "toc_cell": true,
   "toc_position": {},
   "toc_section_display": true,
   "toc_window_display": true
  }
 },
 "nbformat": 4,
 "nbformat_minor": 2
}
