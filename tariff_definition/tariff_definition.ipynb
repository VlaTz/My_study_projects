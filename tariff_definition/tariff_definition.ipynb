{
 "cells": [
  {
   "cell_type": "code",
   "execution_count": 1,
   "metadata": {},
   "outputs": [],
   "source": [
    "import pandas as pd\n",
    "import matplotlib.pyplot as plt\n",
    "import numpy as np\n",
    "from scipy import stats as st\n",
    "import math"
   ]
  },
  {
   "cell_type": "markdown",
   "metadata": {},
   "source": [
    "## Изучение данных из файлов"
   ]
  },
  {
   "cell_type": "code",
   "execution_count": 2,
   "metadata": {},
   "outputs": [
    {
     "data": {
      "text/html": [
       "<div>\n",
       "<style scoped>\n",
       "    .dataframe tbody tr th:only-of-type {\n",
       "        vertical-align: middle;\n",
       "    }\n",
       "\n",
       "    .dataframe tbody tr th {\n",
       "        vertical-align: top;\n",
       "    }\n",
       "\n",
       "    .dataframe thead th {\n",
       "        text-align: right;\n",
       "    }\n",
       "</style>\n",
       "<table border=\"1\" class=\"dataframe\">\n",
       "  <thead>\n",
       "    <tr style=\"text-align: right;\">\n",
       "      <th></th>\n",
       "      <th>id</th>\n",
       "      <th>call_date</th>\n",
       "      <th>duration</th>\n",
       "      <th>user_id</th>\n",
       "    </tr>\n",
       "  </thead>\n",
       "  <tbody>\n",
       "    <tr>\n",
       "      <td>0</td>\n",
       "      <td>1000_0</td>\n",
       "      <td>2018-07-25</td>\n",
       "      <td>0.00</td>\n",
       "      <td>1000</td>\n",
       "    </tr>\n",
       "    <tr>\n",
       "      <td>1</td>\n",
       "      <td>1000_1</td>\n",
       "      <td>2018-08-17</td>\n",
       "      <td>0.00</td>\n",
       "      <td>1000</td>\n",
       "    </tr>\n",
       "    <tr>\n",
       "      <td>2</td>\n",
       "      <td>1000_2</td>\n",
       "      <td>2018-06-11</td>\n",
       "      <td>2.85</td>\n",
       "      <td>1000</td>\n",
       "    </tr>\n",
       "    <tr>\n",
       "      <td>3</td>\n",
       "      <td>1000_3</td>\n",
       "      <td>2018-09-21</td>\n",
       "      <td>13.80</td>\n",
       "      <td>1000</td>\n",
       "    </tr>\n",
       "    <tr>\n",
       "      <td>4</td>\n",
       "      <td>1000_4</td>\n",
       "      <td>2018-12-15</td>\n",
       "      <td>5.18</td>\n",
       "      <td>1000</td>\n",
       "    </tr>\n",
       "    <tr>\n",
       "      <td>...</td>\n",
       "      <td>...</td>\n",
       "      <td>...</td>\n",
       "      <td>...</td>\n",
       "      <td>...</td>\n",
       "    </tr>\n",
       "    <tr>\n",
       "      <td>202602</td>\n",
       "      <td>1499_215</td>\n",
       "      <td>2018-12-26</td>\n",
       "      <td>0.76</td>\n",
       "      <td>1499</td>\n",
       "    </tr>\n",
       "    <tr>\n",
       "      <td>202603</td>\n",
       "      <td>1499_216</td>\n",
       "      <td>2018-10-18</td>\n",
       "      <td>18.83</td>\n",
       "      <td>1499</td>\n",
       "    </tr>\n",
       "    <tr>\n",
       "      <td>202604</td>\n",
       "      <td>1499_217</td>\n",
       "      <td>2018-11-10</td>\n",
       "      <td>10.81</td>\n",
       "      <td>1499</td>\n",
       "    </tr>\n",
       "    <tr>\n",
       "      <td>202605</td>\n",
       "      <td>1499_218</td>\n",
       "      <td>2018-10-06</td>\n",
       "      <td>4.27</td>\n",
       "      <td>1499</td>\n",
       "    </tr>\n",
       "    <tr>\n",
       "      <td>202606</td>\n",
       "      <td>1499_219</td>\n",
       "      <td>2018-12-14</td>\n",
       "      <td>19.62</td>\n",
       "      <td>1499</td>\n",
       "    </tr>\n",
       "  </tbody>\n",
       "</table>\n",
       "<p>202607 rows × 4 columns</p>\n",
       "</div>"
      ],
      "text/plain": [
       "              id   call_date  duration  user_id\n",
       "0         1000_0  2018-07-25      0.00     1000\n",
       "1         1000_1  2018-08-17      0.00     1000\n",
       "2         1000_2  2018-06-11      2.85     1000\n",
       "3         1000_3  2018-09-21     13.80     1000\n",
       "4         1000_4  2018-12-15      5.18     1000\n",
       "...          ...         ...       ...      ...\n",
       "202602  1499_215  2018-12-26      0.76     1499\n",
       "202603  1499_216  2018-10-18     18.83     1499\n",
       "202604  1499_217  2018-11-10     10.81     1499\n",
       "202605  1499_218  2018-10-06      4.27     1499\n",
       "202606  1499_219  2018-12-14     19.62     1499\n",
       "\n",
       "[202607 rows x 4 columns]"
      ]
     },
     "metadata": {},
     "output_type": "display_data"
    },
    {
     "name": "stdout",
     "output_type": "stream",
     "text": [
      "<class 'pandas.core.frame.DataFrame'>\n",
      "RangeIndex: 202607 entries, 0 to 202606\n",
      "Data columns (total 4 columns):\n",
      "id           202607 non-null object\n",
      "call_date    202607 non-null object\n",
      "duration     202607 non-null float64\n",
      "user_id      202607 non-null int64\n",
      "dtypes: float64(1), int64(1), object(2)\n",
      "memory usage: 6.2+ MB\n"
     ]
    }
   ],
   "source": [
    "df_calls = pd.read_csv('/datasets/calls.csv')\n",
    "display(df_calls)\n",
    "df_calls.info()"
   ]
  },
  {
   "cell_type": "code",
   "execution_count": 3,
   "metadata": {},
   "outputs": [
    {
     "data": {
      "text/html": [
       "<div>\n",
       "<style scoped>\n",
       "    .dataframe tbody tr th:only-of-type {\n",
       "        vertical-align: middle;\n",
       "    }\n",
       "\n",
       "    .dataframe tbody tr th {\n",
       "        vertical-align: top;\n",
       "    }\n",
       "\n",
       "    .dataframe thead th {\n",
       "        text-align: right;\n",
       "    }\n",
       "</style>\n",
       "<table border=\"1\" class=\"dataframe\">\n",
       "  <thead>\n",
       "    <tr style=\"text-align: right;\">\n",
       "      <th></th>\n",
       "      <th>id</th>\n",
       "      <th>mb_used</th>\n",
       "      <th>session_date</th>\n",
       "      <th>user_id</th>\n",
       "    </tr>\n",
       "  </thead>\n",
       "  <tbody>\n",
       "    <tr>\n",
       "      <td>0</td>\n",
       "      <td>1000_0</td>\n",
       "      <td>112.95</td>\n",
       "      <td>2018-11-25</td>\n",
       "      <td>1000</td>\n",
       "    </tr>\n",
       "    <tr>\n",
       "      <td>1</td>\n",
       "      <td>1000_1</td>\n",
       "      <td>1052.81</td>\n",
       "      <td>2018-09-07</td>\n",
       "      <td>1000</td>\n",
       "    </tr>\n",
       "    <tr>\n",
       "      <td>2</td>\n",
       "      <td>1000_2</td>\n",
       "      <td>1197.26</td>\n",
       "      <td>2018-06-25</td>\n",
       "      <td>1000</td>\n",
       "    </tr>\n",
       "    <tr>\n",
       "      <td>3</td>\n",
       "      <td>1000_3</td>\n",
       "      <td>550.27</td>\n",
       "      <td>2018-08-22</td>\n",
       "      <td>1000</td>\n",
       "    </tr>\n",
       "    <tr>\n",
       "      <td>4</td>\n",
       "      <td>1000_4</td>\n",
       "      <td>302.56</td>\n",
       "      <td>2018-09-24</td>\n",
       "      <td>1000</td>\n",
       "    </tr>\n",
       "    <tr>\n",
       "      <td>...</td>\n",
       "      <td>...</td>\n",
       "      <td>...</td>\n",
       "      <td>...</td>\n",
       "      <td>...</td>\n",
       "    </tr>\n",
       "    <tr>\n",
       "      <td>149391</td>\n",
       "      <td>1499_152</td>\n",
       "      <td>318.90</td>\n",
       "      <td>2018-10-03</td>\n",
       "      <td>1499</td>\n",
       "    </tr>\n",
       "    <tr>\n",
       "      <td>149392</td>\n",
       "      <td>1499_153</td>\n",
       "      <td>490.13</td>\n",
       "      <td>2018-12-14</td>\n",
       "      <td>1499</td>\n",
       "    </tr>\n",
       "    <tr>\n",
       "      <td>149393</td>\n",
       "      <td>1499_154</td>\n",
       "      <td>0.00</td>\n",
       "      <td>2018-10-27</td>\n",
       "      <td>1499</td>\n",
       "    </tr>\n",
       "    <tr>\n",
       "      <td>149394</td>\n",
       "      <td>1499_155</td>\n",
       "      <td>1246.32</td>\n",
       "      <td>2018-11-26</td>\n",
       "      <td>1499</td>\n",
       "    </tr>\n",
       "    <tr>\n",
       "      <td>149395</td>\n",
       "      <td>1499_156</td>\n",
       "      <td>544.37</td>\n",
       "      <td>2018-10-26</td>\n",
       "      <td>1499</td>\n",
       "    </tr>\n",
       "  </tbody>\n",
       "</table>\n",
       "<p>149396 rows × 4 columns</p>\n",
       "</div>"
      ],
      "text/plain": [
       "              id  mb_used session_date  user_id\n",
       "0         1000_0   112.95   2018-11-25     1000\n",
       "1         1000_1  1052.81   2018-09-07     1000\n",
       "2         1000_2  1197.26   2018-06-25     1000\n",
       "3         1000_3   550.27   2018-08-22     1000\n",
       "4         1000_4   302.56   2018-09-24     1000\n",
       "...          ...      ...          ...      ...\n",
       "149391  1499_152   318.90   2018-10-03     1499\n",
       "149392  1499_153   490.13   2018-12-14     1499\n",
       "149393  1499_154     0.00   2018-10-27     1499\n",
       "149394  1499_155  1246.32   2018-11-26     1499\n",
       "149395  1499_156   544.37   2018-10-26     1499\n",
       "\n",
       "[149396 rows x 4 columns]"
      ]
     },
     "metadata": {},
     "output_type": "display_data"
    },
    {
     "name": "stdout",
     "output_type": "stream",
     "text": [
      "<class 'pandas.core.frame.DataFrame'>\n",
      "Int64Index: 149396 entries, 0 to 149395\n",
      "Data columns (total 4 columns):\n",
      "id              149396 non-null object\n",
      "mb_used         149396 non-null float64\n",
      "session_date    149396 non-null object\n",
      "user_id         149396 non-null int64\n",
      "dtypes: float64(1), int64(1), object(2)\n",
      "memory usage: 5.7+ MB\n"
     ]
    }
   ],
   "source": [
    "df_internet = pd.read_csv('/datasets/internet.csv', index_col=0)\n",
    "display(df_internet)\n",
    "df_internet.info()"
   ]
  },
  {
   "cell_type": "code",
   "execution_count": 4,
   "metadata": {},
   "outputs": [
    {
     "data": {
      "text/html": [
       "<div>\n",
       "<style scoped>\n",
       "    .dataframe tbody tr th:only-of-type {\n",
       "        vertical-align: middle;\n",
       "    }\n",
       "\n",
       "    .dataframe tbody tr th {\n",
       "        vertical-align: top;\n",
       "    }\n",
       "\n",
       "    .dataframe thead th {\n",
       "        text-align: right;\n",
       "    }\n",
       "</style>\n",
       "<table border=\"1\" class=\"dataframe\">\n",
       "  <thead>\n",
       "    <tr style=\"text-align: right;\">\n",
       "      <th></th>\n",
       "      <th>id</th>\n",
       "      <th>message_date</th>\n",
       "      <th>user_id</th>\n",
       "    </tr>\n",
       "  </thead>\n",
       "  <tbody>\n",
       "    <tr>\n",
       "      <td>0</td>\n",
       "      <td>1000_0</td>\n",
       "      <td>2018-06-27</td>\n",
       "      <td>1000</td>\n",
       "    </tr>\n",
       "    <tr>\n",
       "      <td>1</td>\n",
       "      <td>1000_1</td>\n",
       "      <td>2018-10-08</td>\n",
       "      <td>1000</td>\n",
       "    </tr>\n",
       "    <tr>\n",
       "      <td>2</td>\n",
       "      <td>1000_2</td>\n",
       "      <td>2018-08-04</td>\n",
       "      <td>1000</td>\n",
       "    </tr>\n",
       "    <tr>\n",
       "      <td>3</td>\n",
       "      <td>1000_3</td>\n",
       "      <td>2018-06-16</td>\n",
       "      <td>1000</td>\n",
       "    </tr>\n",
       "    <tr>\n",
       "      <td>4</td>\n",
       "      <td>1000_4</td>\n",
       "      <td>2018-12-05</td>\n",
       "      <td>1000</td>\n",
       "    </tr>\n",
       "    <tr>\n",
       "      <td>...</td>\n",
       "      <td>...</td>\n",
       "      <td>...</td>\n",
       "      <td>...</td>\n",
       "    </tr>\n",
       "    <tr>\n",
       "      <td>123031</td>\n",
       "      <td>1499_179</td>\n",
       "      <td>2018-12-12</td>\n",
       "      <td>1499</td>\n",
       "    </tr>\n",
       "    <tr>\n",
       "      <td>123032</td>\n",
       "      <td>1499_180</td>\n",
       "      <td>2018-09-28</td>\n",
       "      <td>1499</td>\n",
       "    </tr>\n",
       "    <tr>\n",
       "      <td>123033</td>\n",
       "      <td>1499_181</td>\n",
       "      <td>2018-09-27</td>\n",
       "      <td>1499</td>\n",
       "    </tr>\n",
       "    <tr>\n",
       "      <td>123034</td>\n",
       "      <td>1499_182</td>\n",
       "      <td>2018-11-15</td>\n",
       "      <td>1499</td>\n",
       "    </tr>\n",
       "    <tr>\n",
       "      <td>123035</td>\n",
       "      <td>1499_183</td>\n",
       "      <td>2018-11-16</td>\n",
       "      <td>1499</td>\n",
       "    </tr>\n",
       "  </tbody>\n",
       "</table>\n",
       "<p>123036 rows × 3 columns</p>\n",
       "</div>"
      ],
      "text/plain": [
       "              id message_date  user_id\n",
       "0         1000_0   2018-06-27     1000\n",
       "1         1000_1   2018-10-08     1000\n",
       "2         1000_2   2018-08-04     1000\n",
       "3         1000_3   2018-06-16     1000\n",
       "4         1000_4   2018-12-05     1000\n",
       "...          ...          ...      ...\n",
       "123031  1499_179   2018-12-12     1499\n",
       "123032  1499_180   2018-09-28     1499\n",
       "123033  1499_181   2018-09-27     1499\n",
       "123034  1499_182   2018-11-15     1499\n",
       "123035  1499_183   2018-11-16     1499\n",
       "\n",
       "[123036 rows x 3 columns]"
      ]
     },
     "metadata": {},
     "output_type": "display_data"
    },
    {
     "name": "stdout",
     "output_type": "stream",
     "text": [
      "<class 'pandas.core.frame.DataFrame'>\n",
      "RangeIndex: 123036 entries, 0 to 123035\n",
      "Data columns (total 3 columns):\n",
      "id              123036 non-null object\n",
      "message_date    123036 non-null object\n",
      "user_id         123036 non-null int64\n",
      "dtypes: int64(1), object(2)\n",
      "memory usage: 2.8+ MB\n"
     ]
    }
   ],
   "source": [
    "df_messages = pd.read_csv('/datasets/messages.csv')\n",
    "display(df_messages)\n",
    "df_messages.info()"
   ]
  },
  {
   "cell_type": "code",
   "execution_count": 5,
   "metadata": {},
   "outputs": [
    {
     "data": {
      "text/html": [
       "<div>\n",
       "<style scoped>\n",
       "    .dataframe tbody tr th:only-of-type {\n",
       "        vertical-align: middle;\n",
       "    }\n",
       "\n",
       "    .dataframe tbody tr th {\n",
       "        vertical-align: top;\n",
       "    }\n",
       "\n",
       "    .dataframe thead th {\n",
       "        text-align: right;\n",
       "    }\n",
       "</style>\n",
       "<table border=\"1\" class=\"dataframe\">\n",
       "  <thead>\n",
       "    <tr style=\"text-align: right;\">\n",
       "      <th></th>\n",
       "      <th>messages_included</th>\n",
       "      <th>mb_per_month_included</th>\n",
       "      <th>minutes_included</th>\n",
       "      <th>rub_monthly_fee</th>\n",
       "      <th>rub_per_gb</th>\n",
       "      <th>rub_per_message</th>\n",
       "      <th>rub_per_minute</th>\n",
       "      <th>tariff_name</th>\n",
       "    </tr>\n",
       "  </thead>\n",
       "  <tbody>\n",
       "    <tr>\n",
       "      <td>0</td>\n",
       "      <td>50</td>\n",
       "      <td>15360</td>\n",
       "      <td>500</td>\n",
       "      <td>550</td>\n",
       "      <td>200</td>\n",
       "      <td>3</td>\n",
       "      <td>3</td>\n",
       "      <td>smart</td>\n",
       "    </tr>\n",
       "    <tr>\n",
       "      <td>1</td>\n",
       "      <td>1000</td>\n",
       "      <td>30720</td>\n",
       "      <td>3000</td>\n",
       "      <td>1950</td>\n",
       "      <td>150</td>\n",
       "      <td>1</td>\n",
       "      <td>1</td>\n",
       "      <td>ultra</td>\n",
       "    </tr>\n",
       "  </tbody>\n",
       "</table>\n",
       "</div>"
      ],
      "text/plain": [
       "   messages_included  mb_per_month_included  minutes_included  \\\n",
       "0                 50                  15360               500   \n",
       "1               1000                  30720              3000   \n",
       "\n",
       "   rub_monthly_fee  rub_per_gb  rub_per_message  rub_per_minute tariff_name  \n",
       "0              550         200                3               3       smart  \n",
       "1             1950         150                1               1       ultra  "
      ]
     },
     "execution_count": 5,
     "metadata": {},
     "output_type": "execute_result"
    }
   ],
   "source": [
    "df_tariffs = pd.read_csv('/datasets/tariffs.csv')\n",
    "df_tariffs"
   ]
  },
  {
   "cell_type": "code",
   "execution_count": 6,
   "metadata": {},
   "outputs": [
    {
     "data": {
      "text/html": [
       "<div>\n",
       "<style scoped>\n",
       "    .dataframe tbody tr th:only-of-type {\n",
       "        vertical-align: middle;\n",
       "    }\n",
       "\n",
       "    .dataframe tbody tr th {\n",
       "        vertical-align: top;\n",
       "    }\n",
       "\n",
       "    .dataframe thead th {\n",
       "        text-align: right;\n",
       "    }\n",
       "</style>\n",
       "<table border=\"1\" class=\"dataframe\">\n",
       "  <thead>\n",
       "    <tr style=\"text-align: right;\">\n",
       "      <th></th>\n",
       "      <th>user_id</th>\n",
       "      <th>age</th>\n",
       "      <th>churn_date</th>\n",
       "      <th>city</th>\n",
       "      <th>first_name</th>\n",
       "      <th>last_name</th>\n",
       "      <th>reg_date</th>\n",
       "      <th>tariff</th>\n",
       "    </tr>\n",
       "  </thead>\n",
       "  <tbody>\n",
       "    <tr>\n",
       "      <td>0</td>\n",
       "      <td>1000</td>\n",
       "      <td>52</td>\n",
       "      <td>NaN</td>\n",
       "      <td>Краснодар</td>\n",
       "      <td>Рафаил</td>\n",
       "      <td>Верещагин</td>\n",
       "      <td>2018-05-25</td>\n",
       "      <td>ultra</td>\n",
       "    </tr>\n",
       "    <tr>\n",
       "      <td>1</td>\n",
       "      <td>1001</td>\n",
       "      <td>41</td>\n",
       "      <td>NaN</td>\n",
       "      <td>Москва</td>\n",
       "      <td>Иван</td>\n",
       "      <td>Ежов</td>\n",
       "      <td>2018-11-01</td>\n",
       "      <td>smart</td>\n",
       "    </tr>\n",
       "    <tr>\n",
       "      <td>2</td>\n",
       "      <td>1002</td>\n",
       "      <td>59</td>\n",
       "      <td>NaN</td>\n",
       "      <td>Стерлитамак</td>\n",
       "      <td>Евгений</td>\n",
       "      <td>Абрамович</td>\n",
       "      <td>2018-06-17</td>\n",
       "      <td>smart</td>\n",
       "    </tr>\n",
       "    <tr>\n",
       "      <td>3</td>\n",
       "      <td>1003</td>\n",
       "      <td>23</td>\n",
       "      <td>NaN</td>\n",
       "      <td>Москва</td>\n",
       "      <td>Белла</td>\n",
       "      <td>Белякова</td>\n",
       "      <td>2018-08-17</td>\n",
       "      <td>ultra</td>\n",
       "    </tr>\n",
       "    <tr>\n",
       "      <td>4</td>\n",
       "      <td>1004</td>\n",
       "      <td>68</td>\n",
       "      <td>NaN</td>\n",
       "      <td>Новокузнецк</td>\n",
       "      <td>Татьяна</td>\n",
       "      <td>Авдеенко</td>\n",
       "      <td>2018-05-14</td>\n",
       "      <td>ultra</td>\n",
       "    </tr>\n",
       "    <tr>\n",
       "      <td>...</td>\n",
       "      <td>...</td>\n",
       "      <td>...</td>\n",
       "      <td>...</td>\n",
       "      <td>...</td>\n",
       "      <td>...</td>\n",
       "      <td>...</td>\n",
       "      <td>...</td>\n",
       "      <td>...</td>\n",
       "    </tr>\n",
       "    <tr>\n",
       "      <td>495</td>\n",
       "      <td>1495</td>\n",
       "      <td>65</td>\n",
       "      <td>NaN</td>\n",
       "      <td>Иркутск</td>\n",
       "      <td>Авксентий</td>\n",
       "      <td>Фокин</td>\n",
       "      <td>2018-08-28</td>\n",
       "      <td>ultra</td>\n",
       "    </tr>\n",
       "    <tr>\n",
       "      <td>496</td>\n",
       "      <td>1496</td>\n",
       "      <td>36</td>\n",
       "      <td>NaN</td>\n",
       "      <td>Вологда</td>\n",
       "      <td>Трифон</td>\n",
       "      <td>Блохин</td>\n",
       "      <td>2018-01-27</td>\n",
       "      <td>smart</td>\n",
       "    </tr>\n",
       "    <tr>\n",
       "      <td>497</td>\n",
       "      <td>1497</td>\n",
       "      <td>32</td>\n",
       "      <td>NaN</td>\n",
       "      <td>Челябинск</td>\n",
       "      <td>Каролина</td>\n",
       "      <td>Агеева</td>\n",
       "      <td>2018-10-09</td>\n",
       "      <td>smart</td>\n",
       "    </tr>\n",
       "    <tr>\n",
       "      <td>498</td>\n",
       "      <td>1498</td>\n",
       "      <td>68</td>\n",
       "      <td>2018-10-25</td>\n",
       "      <td>Владикавказ</td>\n",
       "      <td>Всеволод</td>\n",
       "      <td>Акимчин</td>\n",
       "      <td>2018-07-19</td>\n",
       "      <td>smart</td>\n",
       "    </tr>\n",
       "    <tr>\n",
       "      <td>499</td>\n",
       "      <td>1499</td>\n",
       "      <td>35</td>\n",
       "      <td>NaN</td>\n",
       "      <td>Пермь</td>\n",
       "      <td>Гектор</td>\n",
       "      <td>Корнилов</td>\n",
       "      <td>2018-09-27</td>\n",
       "      <td>smart</td>\n",
       "    </tr>\n",
       "  </tbody>\n",
       "</table>\n",
       "<p>500 rows × 8 columns</p>\n",
       "</div>"
      ],
      "text/plain": [
       "     user_id  age  churn_date         city first_name  last_name    reg_date  \\\n",
       "0       1000   52         NaN    Краснодар     Рафаил  Верещагин  2018-05-25   \n",
       "1       1001   41         NaN       Москва       Иван       Ежов  2018-11-01   \n",
       "2       1002   59         NaN  Стерлитамак    Евгений  Абрамович  2018-06-17   \n",
       "3       1003   23         NaN       Москва      Белла   Белякова  2018-08-17   \n",
       "4       1004   68         NaN  Новокузнецк    Татьяна   Авдеенко  2018-05-14   \n",
       "..       ...  ...         ...          ...        ...        ...         ...   \n",
       "495     1495   65         NaN      Иркутск  Авксентий      Фокин  2018-08-28   \n",
       "496     1496   36         NaN      Вологда     Трифон     Блохин  2018-01-27   \n",
       "497     1497   32         NaN    Челябинск   Каролина     Агеева  2018-10-09   \n",
       "498     1498   68  2018-10-25  Владикавказ   Всеволод    Акимчин  2018-07-19   \n",
       "499     1499   35         NaN        Пермь     Гектор   Корнилов  2018-09-27   \n",
       "\n",
       "    tariff  \n",
       "0    ultra  \n",
       "1    smart  \n",
       "2    smart  \n",
       "3    ultra  \n",
       "4    ultra  \n",
       "..     ...  \n",
       "495  ultra  \n",
       "496  smart  \n",
       "497  smart  \n",
       "498  smart  \n",
       "499  smart  \n",
       "\n",
       "[500 rows x 8 columns]"
      ]
     },
     "metadata": {},
     "output_type": "display_data"
    },
    {
     "name": "stdout",
     "output_type": "stream",
     "text": [
      "<class 'pandas.core.frame.DataFrame'>\n",
      "RangeIndex: 500 entries, 0 to 499\n",
      "Data columns (total 8 columns):\n",
      "user_id       500 non-null int64\n",
      "age           500 non-null int64\n",
      "churn_date    38 non-null object\n",
      "city          500 non-null object\n",
      "first_name    500 non-null object\n",
      "last_name     500 non-null object\n",
      "reg_date      500 non-null object\n",
      "tariff        500 non-null object\n",
      "dtypes: int64(2), object(6)\n",
      "memory usage: 31.4+ KB\n"
     ]
    }
   ],
   "source": [
    "df_users = pd.read_csv('/datasets/users.csv')\n",
    "display(df_users)\n",
    "df_users.info()"
   ]
  },
  {
   "cell_type": "markdown",
   "metadata": {},
   "source": [
    "Пока данные выглядят более менее в порядке. Пропуски есть только в таблице 'users', в столбце 'churn_date' - дата прекращения пользования тарифом. Но если там нет данных, значит пользователь не прекратил пользоваться тарифом, и является активным пользователем. Это не критичные пропуски, их заполнять не будем."
   ]
  },
  {
   "cell_type": "markdown",
   "metadata": {},
   "source": [
    "## Предобработка данных\n"
   ]
  },
  {
   "cell_type": "markdown",
   "metadata": {},
   "source": [
    "###  Обработка пропусков"
   ]
  },
  {
   "cell_type": "markdown",
   "metadata": {},
   "source": [
    "Проверим пропуски, вдруг где-то они есть"
   ]
  },
  {
   "cell_type": "code",
   "execution_count": 7,
   "metadata": {},
   "outputs": [
    {
     "data": {
      "text/plain": [
       "id           0\n",
       "call_date    0\n",
       "duration     0\n",
       "user_id      0\n",
       "dtype: int64"
      ]
     },
     "execution_count": 7,
     "metadata": {},
     "output_type": "execute_result"
    }
   ],
   "source": [
    "df_calls.isna().sum()"
   ]
  },
  {
   "cell_type": "code",
   "execution_count": 8,
   "metadata": {},
   "outputs": [
    {
     "data": {
      "text/plain": [
       "id              0\n",
       "mb_used         0\n",
       "session_date    0\n",
       "user_id         0\n",
       "dtype: int64"
      ]
     },
     "execution_count": 8,
     "metadata": {},
     "output_type": "execute_result"
    }
   ],
   "source": [
    "df_internet.isna().sum()"
   ]
  },
  {
   "cell_type": "code",
   "execution_count": 9,
   "metadata": {},
   "outputs": [
    {
     "data": {
      "text/plain": [
       "id              0\n",
       "message_date    0\n",
       "user_id         0\n",
       "dtype: int64"
      ]
     },
     "execution_count": 9,
     "metadata": {},
     "output_type": "execute_result"
    }
   ],
   "source": [
    "df_messages.isna().sum()"
   ]
  },
  {
   "cell_type": "code",
   "execution_count": 10,
   "metadata": {},
   "outputs": [
    {
     "data": {
      "text/plain": [
       "messages_included        0\n",
       "mb_per_month_included    0\n",
       "minutes_included         0\n",
       "rub_monthly_fee          0\n",
       "rub_per_gb               0\n",
       "rub_per_message          0\n",
       "rub_per_minute           0\n",
       "tariff_name              0\n",
       "dtype: int64"
      ]
     },
     "execution_count": 10,
     "metadata": {},
     "output_type": "execute_result"
    }
   ],
   "source": [
    "df_tariffs.isna().sum()"
   ]
  },
  {
   "cell_type": "code",
   "execution_count": 11,
   "metadata": {},
   "outputs": [
    {
     "data": {
      "text/plain": [
       "user_id         0\n",
       "age             0\n",
       "churn_date    462\n",
       "city            0\n",
       "first_name      0\n",
       "last_name       0\n",
       "reg_date        0\n",
       "tariff          0\n",
       "dtype: int64"
      ]
     },
     "execution_count": 11,
     "metadata": {},
     "output_type": "execute_result"
    }
   ],
   "source": [
    "df_users.isna().sum()"
   ]
  },
  {
   "cell_type": "markdown",
   "metadata": {},
   "source": [
    "Пропусков нет нигде, кроме столбца с датой прекращения пользования тарифом в таблице. Пропуск - значит пользователь не прекратил пользоваться тарифом, и является активным пользователем. Это не критичнеы пропуски, их заполнять не будем."
   ]
  },
  {
   "cell_type": "markdown",
   "metadata": {},
   "source": [
    "###  Обработка дубликатов"
   ]
  },
  {
   "cell_type": "code",
   "execution_count": 12,
   "metadata": {},
   "outputs": [
    {
     "data": {
      "text/plain": [
       "0"
      ]
     },
     "execution_count": 12,
     "metadata": {},
     "output_type": "execute_result"
    }
   ],
   "source": [
    "df_calls.duplicated().sum()"
   ]
  },
  {
   "cell_type": "code",
   "execution_count": 13,
   "metadata": {},
   "outputs": [
    {
     "data": {
      "text/plain": [
       "0"
      ]
     },
     "execution_count": 13,
     "metadata": {},
     "output_type": "execute_result"
    }
   ],
   "source": [
    "df_internet.duplicated().sum()"
   ]
  },
  {
   "cell_type": "code",
   "execution_count": 14,
   "metadata": {},
   "outputs": [
    {
     "data": {
      "text/plain": [
       "0"
      ]
     },
     "execution_count": 14,
     "metadata": {},
     "output_type": "execute_result"
    }
   ],
   "source": [
    "df_messages.duplicated().sum()"
   ]
  },
  {
   "cell_type": "code",
   "execution_count": 15,
   "metadata": {},
   "outputs": [
    {
     "data": {
      "text/plain": [
       "0"
      ]
     },
     "execution_count": 15,
     "metadata": {},
     "output_type": "execute_result"
    }
   ],
   "source": [
    "df_tariffs.duplicated().sum()"
   ]
  },
  {
   "cell_type": "code",
   "execution_count": 16,
   "metadata": {},
   "outputs": [
    {
     "data": {
      "text/plain": [
       "0"
      ]
     },
     "execution_count": 16,
     "metadata": {},
     "output_type": "execute_result"
    }
   ],
   "source": [
    "df_users.duplicated().sum()"
   ]
  },
  {
   "cell_type": "markdown",
   "metadata": {},
   "source": [
    "Дубликатов нет."
   ]
  },
  {
   "cell_type": "markdown",
   "metadata": {},
   "source": [
    "###  Замена типа данных"
   ]
  },
  {
   "cell_type": "markdown",
   "metadata": {},
   "source": [
    "Округлим секунды до минут, а мегабайты — до гигабайт"
   ]
  },
  {
   "cell_type": "code",
   "execution_count": 17,
   "metadata": {},
   "outputs": [],
   "source": [
    "df_calls['duration'] = [math.ceil(i) for i in df_calls['duration']] #окгруглим к большему минуты звонков\n",
    "df_internet['mb_used'] = [math.ceil(i) for i in df_internet['mb_used']] #округлим гб в большую сторону"
   ]
  },
  {
   "cell_type": "markdown",
   "metadata": {},
   "source": [
    "Т.к. у нас данные только за 2018 год, переведем данные в столбце с датой только к месяцу, чтобы удобней было группировать данные"
   ]
  },
  {
   "cell_type": "code",
   "execution_count": 18,
   "metadata": {},
   "outputs": [],
   "source": [
    "df_calls['call_date'] = pd.to_datetime(df_calls['call_date'], format = '%Y-%m-%d')\n",
    "df_calls['month'] = pd.DatetimeIndex(df_calls['call_date']).month"
   ]
  },
  {
   "cell_type": "code",
   "execution_count": 19,
   "metadata": {},
   "outputs": [],
   "source": [
    "df_internet['session_date'] = pd.to_datetime(df_internet['session_date'], format = '%Y-%m-%d')\n",
    "df_internet['month'] = pd.DatetimeIndex(df_internet['session_date']).month"
   ]
  },
  {
   "cell_type": "code",
   "execution_count": 20,
   "metadata": {},
   "outputs": [],
   "source": [
    "df_messages['message_date'] = pd.to_datetime(df_messages['message_date'], format = '%Y-%m-%d')\n",
    "df_messages['month'] = pd.DatetimeIndex(df_messages['message_date']).month"
   ]
  },
  {
   "cell_type": "markdown",
   "metadata": {},
   "source": [
    "## Расчёты дополнительных параметров"
   ]
  },
  {
   "cell_type": "markdown",
   "metadata": {},
   "source": [
    "### Количество израсходованных минут по месяцам для каждого пользователя"
   ]
  },
  {
   "cell_type": "code",
   "execution_count": 21,
   "metadata": {
    "scrolled": false
   },
   "outputs": [
    {
     "data": {
      "text/html": [
       "<div>\n",
       "<style scoped>\n",
       "    .dataframe tbody tr th:only-of-type {\n",
       "        vertical-align: middle;\n",
       "    }\n",
       "\n",
       "    .dataframe tbody tr th {\n",
       "        vertical-align: top;\n",
       "    }\n",
       "\n",
       "    .dataframe thead th {\n",
       "        text-align: right;\n",
       "    }\n",
       "</style>\n",
       "<table border=\"1\" class=\"dataframe\">\n",
       "  <thead>\n",
       "    <tr style=\"text-align: right;\">\n",
       "      <th></th>\n",
       "      <th>user_id</th>\n",
       "      <th>month</th>\n",
       "      <th>calls</th>\n",
       "      <th>tariff</th>\n",
       "    </tr>\n",
       "  </thead>\n",
       "  <tbody>\n",
       "    <tr>\n",
       "      <td>0</td>\n",
       "      <td>1000</td>\n",
       "      <td>5</td>\n",
       "      <td>159</td>\n",
       "      <td>ultra</td>\n",
       "    </tr>\n",
       "    <tr>\n",
       "      <td>1</td>\n",
       "      <td>1000</td>\n",
       "      <td>6</td>\n",
       "      <td>172</td>\n",
       "      <td>ultra</td>\n",
       "    </tr>\n",
       "    <tr>\n",
       "      <td>2</td>\n",
       "      <td>1000</td>\n",
       "      <td>7</td>\n",
       "      <td>340</td>\n",
       "      <td>ultra</td>\n",
       "    </tr>\n",
       "    <tr>\n",
       "      <td>3</td>\n",
       "      <td>1000</td>\n",
       "      <td>8</td>\n",
       "      <td>408</td>\n",
       "      <td>ultra</td>\n",
       "    </tr>\n",
       "    <tr>\n",
       "      <td>4</td>\n",
       "      <td>1000</td>\n",
       "      <td>9</td>\n",
       "      <td>466</td>\n",
       "      <td>ultra</td>\n",
       "    </tr>\n",
       "    <tr>\n",
       "      <td>...</td>\n",
       "      <td>...</td>\n",
       "      <td>...</td>\n",
       "      <td>...</td>\n",
       "      <td>...</td>\n",
       "    </tr>\n",
       "    <tr>\n",
       "      <td>3169</td>\n",
       "      <td>1498</td>\n",
       "      <td>10</td>\n",
       "      <td>247</td>\n",
       "      <td>smart</td>\n",
       "    </tr>\n",
       "    <tr>\n",
       "      <td>3170</td>\n",
       "      <td>1499</td>\n",
       "      <td>9</td>\n",
       "      <td>70</td>\n",
       "      <td>smart</td>\n",
       "    </tr>\n",
       "    <tr>\n",
       "      <td>3171</td>\n",
       "      <td>1499</td>\n",
       "      <td>10</td>\n",
       "      <td>449</td>\n",
       "      <td>smart</td>\n",
       "    </tr>\n",
       "    <tr>\n",
       "      <td>3172</td>\n",
       "      <td>1499</td>\n",
       "      <td>11</td>\n",
       "      <td>612</td>\n",
       "      <td>smart</td>\n",
       "    </tr>\n",
       "    <tr>\n",
       "      <td>3173</td>\n",
       "      <td>1499</td>\n",
       "      <td>12</td>\n",
       "      <td>492</td>\n",
       "      <td>smart</td>\n",
       "    </tr>\n",
       "  </tbody>\n",
       "</table>\n",
       "<p>3174 rows × 4 columns</p>\n",
       "</div>"
      ],
      "text/plain": [
       "      user_id  month  calls tariff\n",
       "0        1000      5    159  ultra\n",
       "1        1000      6    172  ultra\n",
       "2        1000      7    340  ultra\n",
       "3        1000      8    408  ultra\n",
       "4        1000      9    466  ultra\n",
       "...       ...    ...    ...    ...\n",
       "3169     1498     10    247  smart\n",
       "3170     1499      9     70  smart\n",
       "3171     1499     10    449  smart\n",
       "3172     1499     11    612  smart\n",
       "3173     1499     12    492  smart\n",
       "\n",
       "[3174 rows x 4 columns]"
      ]
     },
     "execution_count": 21,
     "metadata": {},
     "output_type": "execute_result"
    }
   ],
   "source": [
    "#код ревьюера\n",
    "df_calls_sum = df_calls.pivot_table(index=['user_id', 'month'], values='duration', aggfunc=['sum']).reset_index()\n",
    "df_calls_sum.columns = ['user_id', 'month', 'calls']\n",
    "df_calls_sum = df_calls_sum.merge(df_users[['user_id', 'tariff']], on='user_id')\n",
    "df_calls_sum"
   ]
  },
  {
   "cell_type": "markdown",
   "metadata": {},
   "source": [
    "### Количество звонков по месяцам для каждого пользователя\n"
   ]
  },
  {
   "cell_type": "code",
   "execution_count": 22,
   "metadata": {},
   "outputs": [
    {
     "data": {
      "text/html": [
       "<div>\n",
       "<style scoped>\n",
       "    .dataframe tbody tr th:only-of-type {\n",
       "        vertical-align: middle;\n",
       "    }\n",
       "\n",
       "    .dataframe tbody tr th {\n",
       "        vertical-align: top;\n",
       "    }\n",
       "\n",
       "    .dataframe thead th {\n",
       "        text-align: right;\n",
       "    }\n",
       "</style>\n",
       "<table border=\"1\" class=\"dataframe\">\n",
       "  <thead>\n",
       "    <tr style=\"text-align: right;\">\n",
       "      <th></th>\n",
       "      <th>user_id</th>\n",
       "      <th>month</th>\n",
       "      <th>calls</th>\n",
       "      <th>tariff</th>\n",
       "    </tr>\n",
       "  </thead>\n",
       "  <tbody>\n",
       "    <tr>\n",
       "      <td>0</td>\n",
       "      <td>1000</td>\n",
       "      <td>5</td>\n",
       "      <td>22</td>\n",
       "      <td>ultra</td>\n",
       "    </tr>\n",
       "    <tr>\n",
       "      <td>1</td>\n",
       "      <td>1000</td>\n",
       "      <td>6</td>\n",
       "      <td>43</td>\n",
       "      <td>ultra</td>\n",
       "    </tr>\n",
       "    <tr>\n",
       "      <td>2</td>\n",
       "      <td>1000</td>\n",
       "      <td>7</td>\n",
       "      <td>47</td>\n",
       "      <td>ultra</td>\n",
       "    </tr>\n",
       "    <tr>\n",
       "      <td>3</td>\n",
       "      <td>1000</td>\n",
       "      <td>8</td>\n",
       "      <td>52</td>\n",
       "      <td>ultra</td>\n",
       "    </tr>\n",
       "    <tr>\n",
       "      <td>4</td>\n",
       "      <td>1000</td>\n",
       "      <td>9</td>\n",
       "      <td>58</td>\n",
       "      <td>ultra</td>\n",
       "    </tr>\n",
       "    <tr>\n",
       "      <td>...</td>\n",
       "      <td>...</td>\n",
       "      <td>...</td>\n",
       "      <td>...</td>\n",
       "      <td>...</td>\n",
       "    </tr>\n",
       "    <tr>\n",
       "      <td>3169</td>\n",
       "      <td>1498</td>\n",
       "      <td>10</td>\n",
       "      <td>41</td>\n",
       "      <td>smart</td>\n",
       "    </tr>\n",
       "    <tr>\n",
       "      <td>3170</td>\n",
       "      <td>1499</td>\n",
       "      <td>9</td>\n",
       "      <td>9</td>\n",
       "      <td>smart</td>\n",
       "    </tr>\n",
       "    <tr>\n",
       "      <td>3171</td>\n",
       "      <td>1499</td>\n",
       "      <td>10</td>\n",
       "      <td>68</td>\n",
       "      <td>smart</td>\n",
       "    </tr>\n",
       "    <tr>\n",
       "      <td>3172</td>\n",
       "      <td>1499</td>\n",
       "      <td>11</td>\n",
       "      <td>74</td>\n",
       "      <td>smart</td>\n",
       "    </tr>\n",
       "    <tr>\n",
       "      <td>3173</td>\n",
       "      <td>1499</td>\n",
       "      <td>12</td>\n",
       "      <td>69</td>\n",
       "      <td>smart</td>\n",
       "    </tr>\n",
       "  </tbody>\n",
       "</table>\n",
       "<p>3174 rows × 4 columns</p>\n",
       "</div>"
      ],
      "text/plain": [
       "      user_id  month  calls tariff\n",
       "0        1000      5     22  ultra\n",
       "1        1000      6     43  ultra\n",
       "2        1000      7     47  ultra\n",
       "3        1000      8     52  ultra\n",
       "4        1000      9     58  ultra\n",
       "...       ...    ...    ...    ...\n",
       "3169     1498     10     41  smart\n",
       "3170     1499      9      9  smart\n",
       "3171     1499     10     68  smart\n",
       "3172     1499     11     74  smart\n",
       "3173     1499     12     69  smart\n",
       "\n",
       "[3174 rows x 4 columns]"
      ]
     },
     "execution_count": 22,
     "metadata": {},
     "output_type": "execute_result"
    }
   ],
   "source": [
    "df_calls_count = df_calls.pivot_table(index=['user_id', 'month'], values='duration', aggfunc=['count']).reset_index()\n",
    "df_calls_count.columns = ['user_id', 'month', 'calls']\n",
    "df_calls_count=df_calls_count.merge(df_users[['user_id', 'tariff']], on='user_id')\n",
    "df_calls_count"
   ]
  },
  {
   "cell_type": "markdown",
   "metadata": {},
   "source": [
    "### Количество израсходованных гб по месяцам для каждого пользователя\n"
   ]
  },
  {
   "cell_type": "code",
   "execution_count": 23,
   "metadata": {},
   "outputs": [
    {
     "data": {
      "text/html": [
       "<div>\n",
       "<style scoped>\n",
       "    .dataframe tbody tr th:only-of-type {\n",
       "        vertical-align: middle;\n",
       "    }\n",
       "\n",
       "    .dataframe tbody tr th {\n",
       "        vertical-align: top;\n",
       "    }\n",
       "\n",
       "    .dataframe thead th {\n",
       "        text-align: right;\n",
       "    }\n",
       "</style>\n",
       "<table border=\"1\" class=\"dataframe\">\n",
       "  <thead>\n",
       "    <tr style=\"text-align: right;\">\n",
       "      <th></th>\n",
       "      <th>user_id</th>\n",
       "      <th>month</th>\n",
       "      <th>gb_used</th>\n",
       "      <th>tariff</th>\n",
       "    </tr>\n",
       "  </thead>\n",
       "  <tbody>\n",
       "    <tr>\n",
       "      <td>0</td>\n",
       "      <td>1000</td>\n",
       "      <td>5</td>\n",
       "      <td>3</td>\n",
       "      <td>ultra</td>\n",
       "    </tr>\n",
       "    <tr>\n",
       "      <td>1</td>\n",
       "      <td>1000</td>\n",
       "      <td>6</td>\n",
       "      <td>23</td>\n",
       "      <td>ultra</td>\n",
       "    </tr>\n",
       "    <tr>\n",
       "      <td>2</td>\n",
       "      <td>1000</td>\n",
       "      <td>7</td>\n",
       "      <td>14</td>\n",
       "      <td>ultra</td>\n",
       "    </tr>\n",
       "    <tr>\n",
       "      <td>3</td>\n",
       "      <td>1000</td>\n",
       "      <td>8</td>\n",
       "      <td>14</td>\n",
       "      <td>ultra</td>\n",
       "    </tr>\n",
       "    <tr>\n",
       "      <td>4</td>\n",
       "      <td>1000</td>\n",
       "      <td>9</td>\n",
       "      <td>15</td>\n",
       "      <td>ultra</td>\n",
       "    </tr>\n",
       "    <tr>\n",
       "      <td>...</td>\n",
       "      <td>...</td>\n",
       "      <td>...</td>\n",
       "      <td>...</td>\n",
       "      <td>...</td>\n",
       "    </tr>\n",
       "    <tr>\n",
       "      <td>3198</td>\n",
       "      <td>1498</td>\n",
       "      <td>10</td>\n",
       "      <td>21</td>\n",
       "      <td>smart</td>\n",
       "    </tr>\n",
       "    <tr>\n",
       "      <td>3199</td>\n",
       "      <td>1499</td>\n",
       "      <td>9</td>\n",
       "      <td>2</td>\n",
       "      <td>smart</td>\n",
       "    </tr>\n",
       "    <tr>\n",
       "      <td>3200</td>\n",
       "      <td>1499</td>\n",
       "      <td>10</td>\n",
       "      <td>18</td>\n",
       "      <td>smart</td>\n",
       "    </tr>\n",
       "    <tr>\n",
       "      <td>3201</td>\n",
       "      <td>1499</td>\n",
       "      <td>11</td>\n",
       "      <td>18</td>\n",
       "      <td>smart</td>\n",
       "    </tr>\n",
       "    <tr>\n",
       "      <td>3202</td>\n",
       "      <td>1499</td>\n",
       "      <td>12</td>\n",
       "      <td>13</td>\n",
       "      <td>smart</td>\n",
       "    </tr>\n",
       "  </tbody>\n",
       "</table>\n",
       "<p>3203 rows × 4 columns</p>\n",
       "</div>"
      ],
      "text/plain": [
       "      user_id  month  gb_used tariff\n",
       "0        1000      5        3  ultra\n",
       "1        1000      6       23  ultra\n",
       "2        1000      7       14  ultra\n",
       "3        1000      8       14  ultra\n",
       "4        1000      9       15  ultra\n",
       "...       ...    ...      ...    ...\n",
       "3198     1498     10       21  smart\n",
       "3199     1499      9        2  smart\n",
       "3200     1499     10       18  smart\n",
       "3201     1499     11       18  smart\n",
       "3202     1499     12       13  smart\n",
       "\n",
       "[3203 rows x 4 columns]"
      ]
     },
     "execution_count": 23,
     "metadata": {},
     "output_type": "execute_result"
    }
   ],
   "source": [
    "df_internet_count = df_internet.pivot_table(index=['user_id', 'month'], values='mb_used', aggfunc=['sum']).reset_index()\n",
    "df_internet_count.columns = ['user_id', 'month', 'gb_used']\n",
    "df_internet_count = df_internet_count.merge(df_users[['user_id', 'tariff']], on='user_id')\n",
    "df_internet_count['gb_used'] = df_internet_count['gb_used']/1024 #переведем мб в гб\n",
    "df_internet_count['gb_used'] = [math.ceil(i) for i in df_internet_count['gb_used']]\n",
    "df_internet_count"
   ]
  },
  {
   "cell_type": "markdown",
   "metadata": {},
   "source": [
    "### Количество отправленных сообщений по месяцам для каждого пользователя\n"
   ]
  },
  {
   "cell_type": "code",
   "execution_count": 24,
   "metadata": {},
   "outputs": [
    {
     "data": {
      "text/html": [
       "<div>\n",
       "<style scoped>\n",
       "    .dataframe tbody tr th:only-of-type {\n",
       "        vertical-align: middle;\n",
       "    }\n",
       "\n",
       "    .dataframe tbody tr th {\n",
       "        vertical-align: top;\n",
       "    }\n",
       "\n",
       "    .dataframe thead th {\n",
       "        text-align: right;\n",
       "    }\n",
       "</style>\n",
       "<table border=\"1\" class=\"dataframe\">\n",
       "  <thead>\n",
       "    <tr style=\"text-align: right;\">\n",
       "      <th></th>\n",
       "      <th>user_id</th>\n",
       "      <th>month</th>\n",
       "      <th>messages</th>\n",
       "      <th>tariff</th>\n",
       "    </tr>\n",
       "  </thead>\n",
       "  <tbody>\n",
       "    <tr>\n",
       "      <td>0</td>\n",
       "      <td>1000</td>\n",
       "      <td>5</td>\n",
       "      <td>22</td>\n",
       "      <td>ultra</td>\n",
       "    </tr>\n",
       "    <tr>\n",
       "      <td>1</td>\n",
       "      <td>1000</td>\n",
       "      <td>6</td>\n",
       "      <td>60</td>\n",
       "      <td>ultra</td>\n",
       "    </tr>\n",
       "    <tr>\n",
       "      <td>2</td>\n",
       "      <td>1000</td>\n",
       "      <td>7</td>\n",
       "      <td>75</td>\n",
       "      <td>ultra</td>\n",
       "    </tr>\n",
       "    <tr>\n",
       "      <td>3</td>\n",
       "      <td>1000</td>\n",
       "      <td>8</td>\n",
       "      <td>81</td>\n",
       "      <td>ultra</td>\n",
       "    </tr>\n",
       "    <tr>\n",
       "      <td>4</td>\n",
       "      <td>1000</td>\n",
       "      <td>9</td>\n",
       "      <td>57</td>\n",
       "      <td>ultra</td>\n",
       "    </tr>\n",
       "    <tr>\n",
       "      <td>...</td>\n",
       "      <td>...</td>\n",
       "      <td>...</td>\n",
       "      <td>...</td>\n",
       "      <td>...</td>\n",
       "    </tr>\n",
       "    <tr>\n",
       "      <td>2712</td>\n",
       "      <td>1498</td>\n",
       "      <td>10</td>\n",
       "      <td>42</td>\n",
       "      <td>smart</td>\n",
       "    </tr>\n",
       "    <tr>\n",
       "      <td>2713</td>\n",
       "      <td>1499</td>\n",
       "      <td>9</td>\n",
       "      <td>11</td>\n",
       "      <td>smart</td>\n",
       "    </tr>\n",
       "    <tr>\n",
       "      <td>2714</td>\n",
       "      <td>1499</td>\n",
       "      <td>10</td>\n",
       "      <td>48</td>\n",
       "      <td>smart</td>\n",
       "    </tr>\n",
       "    <tr>\n",
       "      <td>2715</td>\n",
       "      <td>1499</td>\n",
       "      <td>11</td>\n",
       "      <td>59</td>\n",
       "      <td>smart</td>\n",
       "    </tr>\n",
       "    <tr>\n",
       "      <td>2716</td>\n",
       "      <td>1499</td>\n",
       "      <td>12</td>\n",
       "      <td>66</td>\n",
       "      <td>smart</td>\n",
       "    </tr>\n",
       "  </tbody>\n",
       "</table>\n",
       "<p>2717 rows × 4 columns</p>\n",
       "</div>"
      ],
      "text/plain": [
       "      user_id  month  messages tariff\n",
       "0        1000      5        22  ultra\n",
       "1        1000      6        60  ultra\n",
       "2        1000      7        75  ultra\n",
       "3        1000      8        81  ultra\n",
       "4        1000      9        57  ultra\n",
       "...       ...    ...       ...    ...\n",
       "2712     1498     10        42  smart\n",
       "2713     1499      9        11  smart\n",
       "2714     1499     10        48  smart\n",
       "2715     1499     11        59  smart\n",
       "2716     1499     12        66  smart\n",
       "\n",
       "[2717 rows x 4 columns]"
      ]
     },
     "execution_count": 24,
     "metadata": {},
     "output_type": "execute_result"
    }
   ],
   "source": [
    "df_messages_count = df_messages.pivot_table(index=['user_id', 'month'], values='message_date', aggfunc=['count']).reset_index()\n",
    "df_messages_count.columns = ['user_id', 'month', 'messages']\n",
    "df_messages_count = df_messages_count.merge(df_users[['user_id', 'tariff']], on='user_id')\n",
    "df_messages_count"
   ]
  },
  {
   "cell_type": "markdown",
   "metadata": {},
   "source": [
    "###  Рассчет выручки по месяцам"
   ]
  },
  {
   "cell_type": "markdown",
   "metadata": {},
   "source": [
    "Описание тарифов\n",
    "\n",
    "Тариф «Смарт»\n",
    "- Ежемесячная плата: 550 рублей\n",
    "- Включено 500 минут разговора, 50 сообщений и 15 Гб интернет-трафика\n",
    "- Стоимость услуг сверх тарифного пакета:\n",
    "- минута разговора: 3 рубля\n",
    "- сообщение: 3 рубля\n",
    "- 1 Гб интернет-трафика: 200 рублей\n",
    "\n",
    "Тариф «Ультра»\n",
    "- Ежемесячная плата: 1950 рублей\n",
    "- Включено 3000 минут разговора, 1000 сообщений и 30 Гб интернет-трафика\n",
    "- Стоимость услуг сверх тарифного пакета:\n",
    "- минута разговора: 1 рубль\n",
    "- сообщение: 1 рубль\n",
    "- 1 Гб интернет-трафика: 150 рублей"
   ]
  },
  {
   "cell_type": "markdown",
   "metadata": {},
   "source": [
    "Объединяю таблицы с информацие о смс, звонках, интернете"
   ]
  },
  {
   "cell_type": "code",
   "execution_count": 25,
   "metadata": {},
   "outputs": [
    {
     "data": {
      "text/html": [
       "<div>\n",
       "<style scoped>\n",
       "    .dataframe tbody tr th:only-of-type {\n",
       "        vertical-align: middle;\n",
       "    }\n",
       "\n",
       "    .dataframe tbody tr th {\n",
       "        vertical-align: top;\n",
       "    }\n",
       "\n",
       "    .dataframe thead th {\n",
       "        text-align: right;\n",
       "    }\n",
       "</style>\n",
       "<table border=\"1\" class=\"dataframe\">\n",
       "  <thead>\n",
       "    <tr style=\"text-align: right;\">\n",
       "      <th></th>\n",
       "      <th>user_id</th>\n",
       "      <th>month</th>\n",
       "      <th>calls</th>\n",
       "      <th>tariff</th>\n",
       "      <th>messages</th>\n",
       "      <th>gb_used</th>\n",
       "    </tr>\n",
       "  </thead>\n",
       "  <tbody>\n",
       "    <tr>\n",
       "      <td>0</td>\n",
       "      <td>1000</td>\n",
       "      <td>5</td>\n",
       "      <td>159.0</td>\n",
       "      <td>ultra</td>\n",
       "      <td>22.0</td>\n",
       "      <td>3.0</td>\n",
       "    </tr>\n",
       "    <tr>\n",
       "      <td>1</td>\n",
       "      <td>1000</td>\n",
       "      <td>6</td>\n",
       "      <td>172.0</td>\n",
       "      <td>ultra</td>\n",
       "      <td>60.0</td>\n",
       "      <td>23.0</td>\n",
       "    </tr>\n",
       "    <tr>\n",
       "      <td>2</td>\n",
       "      <td>1000</td>\n",
       "      <td>7</td>\n",
       "      <td>340.0</td>\n",
       "      <td>ultra</td>\n",
       "      <td>75.0</td>\n",
       "      <td>14.0</td>\n",
       "    </tr>\n",
       "    <tr>\n",
       "      <td>3</td>\n",
       "      <td>1000</td>\n",
       "      <td>8</td>\n",
       "      <td>408.0</td>\n",
       "      <td>ultra</td>\n",
       "      <td>81.0</td>\n",
       "      <td>14.0</td>\n",
       "    </tr>\n",
       "    <tr>\n",
       "      <td>4</td>\n",
       "      <td>1000</td>\n",
       "      <td>9</td>\n",
       "      <td>466.0</td>\n",
       "      <td>ultra</td>\n",
       "      <td>57.0</td>\n",
       "      <td>15.0</td>\n",
       "    </tr>\n",
       "    <tr>\n",
       "      <td>...</td>\n",
       "      <td>...</td>\n",
       "      <td>...</td>\n",
       "      <td>...</td>\n",
       "      <td>...</td>\n",
       "      <td>...</td>\n",
       "      <td>...</td>\n",
       "    </tr>\n",
       "    <tr>\n",
       "      <td>3209</td>\n",
       "      <td>1489</td>\n",
       "      <td>9</td>\n",
       "      <td>NaN</td>\n",
       "      <td>smart</td>\n",
       "      <td>32.0</td>\n",
       "      <td>17.0</td>\n",
       "    </tr>\n",
       "    <tr>\n",
       "      <td>3210</td>\n",
       "      <td>1489</td>\n",
       "      <td>10</td>\n",
       "      <td>NaN</td>\n",
       "      <td>smart</td>\n",
       "      <td>21.0</td>\n",
       "      <td>20.0</td>\n",
       "    </tr>\n",
       "    <tr>\n",
       "      <td>3211</td>\n",
       "      <td>1489</td>\n",
       "      <td>11</td>\n",
       "      <td>NaN</td>\n",
       "      <td>smart</td>\n",
       "      <td>20.0</td>\n",
       "      <td>18.0</td>\n",
       "    </tr>\n",
       "    <tr>\n",
       "      <td>3212</td>\n",
       "      <td>1489</td>\n",
       "      <td>12</td>\n",
       "      <td>NaN</td>\n",
       "      <td>smart</td>\n",
       "      <td>35.0</td>\n",
       "      <td>17.0</td>\n",
       "    </tr>\n",
       "    <tr>\n",
       "      <td>3213</td>\n",
       "      <td>1476</td>\n",
       "      <td>4</td>\n",
       "      <td>NaN</td>\n",
       "      <td>ultra</td>\n",
       "      <td>NaN</td>\n",
       "      <td>1.0</td>\n",
       "    </tr>\n",
       "  </tbody>\n",
       "</table>\n",
       "<p>3214 rows × 6 columns</p>\n",
       "</div>"
      ],
      "text/plain": [
       "      user_id  month  calls tariff  messages  gb_used\n",
       "0        1000      5  159.0  ultra      22.0      3.0\n",
       "1        1000      6  172.0  ultra      60.0     23.0\n",
       "2        1000      7  340.0  ultra      75.0     14.0\n",
       "3        1000      8  408.0  ultra      81.0     14.0\n",
       "4        1000      9  466.0  ultra      57.0     15.0\n",
       "...       ...    ...    ...    ...       ...      ...\n",
       "3209     1489      9    NaN  smart      32.0     17.0\n",
       "3210     1489     10    NaN  smart      21.0     20.0\n",
       "3211     1489     11    NaN  smart      20.0     18.0\n",
       "3212     1489     12    NaN  smart      35.0     17.0\n",
       "3213     1476      4    NaN  ultra       NaN      1.0\n",
       "\n",
       "[3214 rows x 6 columns]"
      ]
     },
     "execution_count": 25,
     "metadata": {},
     "output_type": "execute_result"
    }
   ],
   "source": [
    "calls_mess = df_calls_sum.merge(df_messages_count, how='outer')\n",
    "calls_mess_int = calls_mess.merge(df_internet_count, how='outer')\n",
    "calls_mess_int"
   ]
  },
  {
   "cell_type": "markdown",
   "metadata": {},
   "source": [
    "Объединяю с таблицей users"
   ]
  },
  {
   "cell_type": "code",
   "execution_count": 26,
   "metadata": {},
   "outputs": [
    {
     "data": {
      "text/html": [
       "<div>\n",
       "<style scoped>\n",
       "    .dataframe tbody tr th:only-of-type {\n",
       "        vertical-align: middle;\n",
       "    }\n",
       "\n",
       "    .dataframe tbody tr th {\n",
       "        vertical-align: top;\n",
       "    }\n",
       "\n",
       "    .dataframe thead th {\n",
       "        text-align: right;\n",
       "    }\n",
       "</style>\n",
       "<table border=\"1\" class=\"dataframe\">\n",
       "  <thead>\n",
       "    <tr style=\"text-align: right;\">\n",
       "      <th></th>\n",
       "      <th>user_id</th>\n",
       "      <th>age</th>\n",
       "      <th>churn_date</th>\n",
       "      <th>city</th>\n",
       "      <th>first_name</th>\n",
       "      <th>last_name</th>\n",
       "      <th>reg_date</th>\n",
       "      <th>tariff</th>\n",
       "      <th>month</th>\n",
       "      <th>calls</th>\n",
       "      <th>messages</th>\n",
       "      <th>gb_used</th>\n",
       "    </tr>\n",
       "  </thead>\n",
       "  <tbody>\n",
       "    <tr>\n",
       "      <td>0</td>\n",
       "      <td>1000</td>\n",
       "      <td>52</td>\n",
       "      <td>NaN</td>\n",
       "      <td>Краснодар</td>\n",
       "      <td>Рафаил</td>\n",
       "      <td>Верещагин</td>\n",
       "      <td>2018-05-25</td>\n",
       "      <td>ultra</td>\n",
       "      <td>5.0</td>\n",
       "      <td>159.0</td>\n",
       "      <td>22.0</td>\n",
       "      <td>3.0</td>\n",
       "    </tr>\n",
       "    <tr>\n",
       "      <td>1</td>\n",
       "      <td>1000</td>\n",
       "      <td>52</td>\n",
       "      <td>NaN</td>\n",
       "      <td>Краснодар</td>\n",
       "      <td>Рафаил</td>\n",
       "      <td>Верещагин</td>\n",
       "      <td>2018-05-25</td>\n",
       "      <td>ultra</td>\n",
       "      <td>6.0</td>\n",
       "      <td>172.0</td>\n",
       "      <td>60.0</td>\n",
       "      <td>23.0</td>\n",
       "    </tr>\n",
       "    <tr>\n",
       "      <td>2</td>\n",
       "      <td>1000</td>\n",
       "      <td>52</td>\n",
       "      <td>NaN</td>\n",
       "      <td>Краснодар</td>\n",
       "      <td>Рафаил</td>\n",
       "      <td>Верещагин</td>\n",
       "      <td>2018-05-25</td>\n",
       "      <td>ultra</td>\n",
       "      <td>7.0</td>\n",
       "      <td>340.0</td>\n",
       "      <td>75.0</td>\n",
       "      <td>14.0</td>\n",
       "    </tr>\n",
       "    <tr>\n",
       "      <td>3</td>\n",
       "      <td>1000</td>\n",
       "      <td>52</td>\n",
       "      <td>NaN</td>\n",
       "      <td>Краснодар</td>\n",
       "      <td>Рафаил</td>\n",
       "      <td>Верещагин</td>\n",
       "      <td>2018-05-25</td>\n",
       "      <td>ultra</td>\n",
       "      <td>8.0</td>\n",
       "      <td>408.0</td>\n",
       "      <td>81.0</td>\n",
       "      <td>14.0</td>\n",
       "    </tr>\n",
       "    <tr>\n",
       "      <td>4</td>\n",
       "      <td>1000</td>\n",
       "      <td>52</td>\n",
       "      <td>NaN</td>\n",
       "      <td>Краснодар</td>\n",
       "      <td>Рафаил</td>\n",
       "      <td>Верещагин</td>\n",
       "      <td>2018-05-25</td>\n",
       "      <td>ultra</td>\n",
       "      <td>9.0</td>\n",
       "      <td>466.0</td>\n",
       "      <td>57.0</td>\n",
       "      <td>15.0</td>\n",
       "    </tr>\n",
       "    <tr>\n",
       "      <td>...</td>\n",
       "      <td>...</td>\n",
       "      <td>...</td>\n",
       "      <td>...</td>\n",
       "      <td>...</td>\n",
       "      <td>...</td>\n",
       "      <td>...</td>\n",
       "      <td>...</td>\n",
       "      <td>...</td>\n",
       "      <td>...</td>\n",
       "      <td>...</td>\n",
       "      <td>...</td>\n",
       "      <td>...</td>\n",
       "    </tr>\n",
       "    <tr>\n",
       "      <td>3211</td>\n",
       "      <td>1498</td>\n",
       "      <td>68</td>\n",
       "      <td>2018-10-25</td>\n",
       "      <td>Владикавказ</td>\n",
       "      <td>Всеволод</td>\n",
       "      <td>Акимчин</td>\n",
       "      <td>2018-07-19</td>\n",
       "      <td>smart</td>\n",
       "      <td>10.0</td>\n",
       "      <td>247.0</td>\n",
       "      <td>42.0</td>\n",
       "      <td>21.0</td>\n",
       "    </tr>\n",
       "    <tr>\n",
       "      <td>3212</td>\n",
       "      <td>1499</td>\n",
       "      <td>35</td>\n",
       "      <td>NaN</td>\n",
       "      <td>Пермь</td>\n",
       "      <td>Гектор</td>\n",
       "      <td>Корнилов</td>\n",
       "      <td>2018-09-27</td>\n",
       "      <td>smart</td>\n",
       "      <td>9.0</td>\n",
       "      <td>70.0</td>\n",
       "      <td>11.0</td>\n",
       "      <td>2.0</td>\n",
       "    </tr>\n",
       "    <tr>\n",
       "      <td>3213</td>\n",
       "      <td>1499</td>\n",
       "      <td>35</td>\n",
       "      <td>NaN</td>\n",
       "      <td>Пермь</td>\n",
       "      <td>Гектор</td>\n",
       "      <td>Корнилов</td>\n",
       "      <td>2018-09-27</td>\n",
       "      <td>smart</td>\n",
       "      <td>10.0</td>\n",
       "      <td>449.0</td>\n",
       "      <td>48.0</td>\n",
       "      <td>18.0</td>\n",
       "    </tr>\n",
       "    <tr>\n",
       "      <td>3214</td>\n",
       "      <td>1499</td>\n",
       "      <td>35</td>\n",
       "      <td>NaN</td>\n",
       "      <td>Пермь</td>\n",
       "      <td>Гектор</td>\n",
       "      <td>Корнилов</td>\n",
       "      <td>2018-09-27</td>\n",
       "      <td>smart</td>\n",
       "      <td>11.0</td>\n",
       "      <td>612.0</td>\n",
       "      <td>59.0</td>\n",
       "      <td>18.0</td>\n",
       "    </tr>\n",
       "    <tr>\n",
       "      <td>3215</td>\n",
       "      <td>1499</td>\n",
       "      <td>35</td>\n",
       "      <td>NaN</td>\n",
       "      <td>Пермь</td>\n",
       "      <td>Гектор</td>\n",
       "      <td>Корнилов</td>\n",
       "      <td>2018-09-27</td>\n",
       "      <td>smart</td>\n",
       "      <td>12.0</td>\n",
       "      <td>492.0</td>\n",
       "      <td>66.0</td>\n",
       "      <td>13.0</td>\n",
       "    </tr>\n",
       "  </tbody>\n",
       "</table>\n",
       "<p>3216 rows × 12 columns</p>\n",
       "</div>"
      ],
      "text/plain": [
       "      user_id  age  churn_date         city first_name  last_name    reg_date  \\\n",
       "0        1000   52         NaN    Краснодар     Рафаил  Верещагин  2018-05-25   \n",
       "1        1000   52         NaN    Краснодар     Рафаил  Верещагин  2018-05-25   \n",
       "2        1000   52         NaN    Краснодар     Рафаил  Верещагин  2018-05-25   \n",
       "3        1000   52         NaN    Краснодар     Рафаил  Верещагин  2018-05-25   \n",
       "4        1000   52         NaN    Краснодар     Рафаил  Верещагин  2018-05-25   \n",
       "...       ...  ...         ...          ...        ...        ...         ...   \n",
       "3211     1498   68  2018-10-25  Владикавказ   Всеволод    Акимчин  2018-07-19   \n",
       "3212     1499   35         NaN        Пермь     Гектор   Корнилов  2018-09-27   \n",
       "3213     1499   35         NaN        Пермь     Гектор   Корнилов  2018-09-27   \n",
       "3214     1499   35         NaN        Пермь     Гектор   Корнилов  2018-09-27   \n",
       "3215     1499   35         NaN        Пермь     Гектор   Корнилов  2018-09-27   \n",
       "\n",
       "     tariff  month  calls  messages  gb_used  \n",
       "0     ultra    5.0  159.0      22.0      3.0  \n",
       "1     ultra    6.0  172.0      60.0     23.0  \n",
       "2     ultra    7.0  340.0      75.0     14.0  \n",
       "3     ultra    8.0  408.0      81.0     14.0  \n",
       "4     ultra    9.0  466.0      57.0     15.0  \n",
       "...     ...    ...    ...       ...      ...  \n",
       "3211  smart   10.0  247.0      42.0     21.0  \n",
       "3212  smart    9.0   70.0      11.0      2.0  \n",
       "3213  smart   10.0  449.0      48.0     18.0  \n",
       "3214  smart   11.0  612.0      59.0     18.0  \n",
       "3215  smart   12.0  492.0      66.0     13.0  \n",
       "\n",
       "[3216 rows x 12 columns]"
      ]
     },
     "execution_count": 26,
     "metadata": {},
     "output_type": "execute_result"
    }
   ],
   "source": [
    "df_users = df_users.merge(calls_mess_int, how='left').reset_index(drop=True)\n",
    "df_users"
   ]
  },
  {
   "cell_type": "code",
   "execution_count": 27,
   "metadata": {},
   "outputs": [],
   "source": [
    "def money_calls(row, col):\n",
    "    if 'ultra' in row['tariff']:\n",
    "        minuts=3000\n",
    "        rub_for_minut=1\n",
    "        price=1950\n",
    "        if row[col] ==0:\n",
    "            return 0\n",
    "        elif row[col]>minuts:\n",
    "            full_price = (row[col] - minuts)*rub_for_minut+price\n",
    "        else:\n",
    "            full_price=price\n",
    "        return full_price\n",
    "    if 'smart' in row['tariff']:\n",
    "        minuts=500\n",
    "        rub_for_minut=3\n",
    "        price=550\n",
    "        if row[col] ==0:\n",
    "            return 0\n",
    "        elif row[col]>minuts:\n",
    "            full_price = (row[col] - minuts)*rub_for_minut+price\n",
    "        else:\n",
    "            full_price = price\n",
    "        return full_price\n",
    "df_users['money_calls'] = df_users.apply(lambda x: money_calls(x, 'calls'), axis=1)"
   ]
  },
  {
   "cell_type": "code",
   "execution_count": 28,
   "metadata": {},
   "outputs": [],
   "source": [
    "def money_messege(row, col):\n",
    "    if 'ultra' in row['tariff']:\n",
    "        messeges=1000\n",
    "        one_message=1\n",
    "        price=0\n",
    "        if row[col] ==0:\n",
    "            return 0\n",
    "        elif row[col]>messeges:\n",
    "            full_price = (row[col] - messeges)*one_message+price\n",
    "        else:\n",
    "            full_price=price\n",
    "        return full_price\n",
    "    if 'smart' in row['tariff']:\n",
    "        messeges=50\n",
    "        one_message=3\n",
    "        price=0\n",
    "        if row[col] ==0:\n",
    "            return 0\n",
    "        elif row[col]>messeges:\n",
    "            full_price = (row[col] - messeges)*one_message+price\n",
    "        else:\n",
    "            full_price = price\n",
    "        return full_price\n",
    "df_users['money_messege'] = df_users.apply(lambda x: money_messege(x, 'messages'), axis=1)"
   ]
  },
  {
   "cell_type": "code",
   "execution_count": 29,
   "metadata": {},
   "outputs": [],
   "source": [
    "def money_internet(row, col):\n",
    "    if 'ultra' in row['tariff']:\n",
    "        gb=30\n",
    "        one_gb=150\n",
    "        price=0\n",
    "        if row[col] ==0:\n",
    "            return 0\n",
    "        elif row[col]>gb:\n",
    "            full_price = (row[col] - gb)*one_gb+price\n",
    "        else:\n",
    "            full_price=price\n",
    "        return full_price\n",
    "    if 'smart' in row['tariff']:\n",
    "        gb=15\n",
    "        one_gb=200\n",
    "        price=0\n",
    "        if row[col] ==0:\n",
    "            return 0\n",
    "        elif row[col]>gb:\n",
    "            full_price = (row[col] - gb)*one_gb+price\n",
    "        else:\n",
    "            full_price = price\n",
    "        return full_price\n",
    "df_users['money_internet'] = df_users.apply(lambda x: money_internet(x, 'gb_used'), axis=1)\n",
    "df_users['all_money'] = df_users['money_internet'] + df_users['money_messege']+ df_users['money_calls']"
   ]
  },
  {
   "cell_type": "code",
   "execution_count": 30,
   "metadata": {},
   "outputs": [
    {
     "data": {
      "text/html": [
       "<div>\n",
       "<style scoped>\n",
       "    .dataframe tbody tr th:only-of-type {\n",
       "        vertical-align: middle;\n",
       "    }\n",
       "\n",
       "    .dataframe tbody tr th {\n",
       "        vertical-align: top;\n",
       "    }\n",
       "\n",
       "    .dataframe thead th {\n",
       "        text-align: right;\n",
       "    }\n",
       "</style>\n",
       "<table border=\"1\" class=\"dataframe\">\n",
       "  <thead>\n",
       "    <tr style=\"text-align: right;\">\n",
       "      <th></th>\n",
       "      <th>user_id</th>\n",
       "      <th>age</th>\n",
       "      <th>churn_date</th>\n",
       "      <th>city</th>\n",
       "      <th>first_name</th>\n",
       "      <th>last_name</th>\n",
       "      <th>reg_date</th>\n",
       "      <th>tariff</th>\n",
       "      <th>month</th>\n",
       "      <th>calls</th>\n",
       "      <th>messages</th>\n",
       "      <th>gb_used</th>\n",
       "      <th>money_calls</th>\n",
       "      <th>money_messege</th>\n",
       "      <th>money_internet</th>\n",
       "      <th>all_money</th>\n",
       "    </tr>\n",
       "  </thead>\n",
       "  <tbody>\n",
       "    <tr>\n",
       "      <td>0</td>\n",
       "      <td>1000</td>\n",
       "      <td>52</td>\n",
       "      <td>NaN</td>\n",
       "      <td>Краснодар</td>\n",
       "      <td>Рафаил</td>\n",
       "      <td>Верещагин</td>\n",
       "      <td>2018-05-25</td>\n",
       "      <td>ultra</td>\n",
       "      <td>5.0</td>\n",
       "      <td>159.0</td>\n",
       "      <td>22.0</td>\n",
       "      <td>3.0</td>\n",
       "      <td>1950.0</td>\n",
       "      <td>0.0</td>\n",
       "      <td>0.0</td>\n",
       "      <td>1950.0</td>\n",
       "    </tr>\n",
       "    <tr>\n",
       "      <td>1</td>\n",
       "      <td>1000</td>\n",
       "      <td>52</td>\n",
       "      <td>NaN</td>\n",
       "      <td>Краснодар</td>\n",
       "      <td>Рафаил</td>\n",
       "      <td>Верещагин</td>\n",
       "      <td>2018-05-25</td>\n",
       "      <td>ultra</td>\n",
       "      <td>6.0</td>\n",
       "      <td>172.0</td>\n",
       "      <td>60.0</td>\n",
       "      <td>23.0</td>\n",
       "      <td>1950.0</td>\n",
       "      <td>0.0</td>\n",
       "      <td>0.0</td>\n",
       "      <td>1950.0</td>\n",
       "    </tr>\n",
       "    <tr>\n",
       "      <td>2</td>\n",
       "      <td>1000</td>\n",
       "      <td>52</td>\n",
       "      <td>NaN</td>\n",
       "      <td>Краснодар</td>\n",
       "      <td>Рафаил</td>\n",
       "      <td>Верещагин</td>\n",
       "      <td>2018-05-25</td>\n",
       "      <td>ultra</td>\n",
       "      <td>7.0</td>\n",
       "      <td>340.0</td>\n",
       "      <td>75.0</td>\n",
       "      <td>14.0</td>\n",
       "      <td>1950.0</td>\n",
       "      <td>0.0</td>\n",
       "      <td>0.0</td>\n",
       "      <td>1950.0</td>\n",
       "    </tr>\n",
       "    <tr>\n",
       "      <td>3</td>\n",
       "      <td>1000</td>\n",
       "      <td>52</td>\n",
       "      <td>NaN</td>\n",
       "      <td>Краснодар</td>\n",
       "      <td>Рафаил</td>\n",
       "      <td>Верещагин</td>\n",
       "      <td>2018-05-25</td>\n",
       "      <td>ultra</td>\n",
       "      <td>8.0</td>\n",
       "      <td>408.0</td>\n",
       "      <td>81.0</td>\n",
       "      <td>14.0</td>\n",
       "      <td>1950.0</td>\n",
       "      <td>0.0</td>\n",
       "      <td>0.0</td>\n",
       "      <td>1950.0</td>\n",
       "    </tr>\n",
       "    <tr>\n",
       "      <td>4</td>\n",
       "      <td>1000</td>\n",
       "      <td>52</td>\n",
       "      <td>NaN</td>\n",
       "      <td>Краснодар</td>\n",
       "      <td>Рафаил</td>\n",
       "      <td>Верещагин</td>\n",
       "      <td>2018-05-25</td>\n",
       "      <td>ultra</td>\n",
       "      <td>9.0</td>\n",
       "      <td>466.0</td>\n",
       "      <td>57.0</td>\n",
       "      <td>15.0</td>\n",
       "      <td>1950.0</td>\n",
       "      <td>0.0</td>\n",
       "      <td>0.0</td>\n",
       "      <td>1950.0</td>\n",
       "    </tr>\n",
       "    <tr>\n",
       "      <td>...</td>\n",
       "      <td>...</td>\n",
       "      <td>...</td>\n",
       "      <td>...</td>\n",
       "      <td>...</td>\n",
       "      <td>...</td>\n",
       "      <td>...</td>\n",
       "      <td>...</td>\n",
       "      <td>...</td>\n",
       "      <td>...</td>\n",
       "      <td>...</td>\n",
       "      <td>...</td>\n",
       "      <td>...</td>\n",
       "      <td>...</td>\n",
       "      <td>...</td>\n",
       "      <td>...</td>\n",
       "      <td>...</td>\n",
       "    </tr>\n",
       "    <tr>\n",
       "      <td>3211</td>\n",
       "      <td>1498</td>\n",
       "      <td>68</td>\n",
       "      <td>2018-10-25</td>\n",
       "      <td>Владикавказ</td>\n",
       "      <td>Всеволод</td>\n",
       "      <td>Акимчин</td>\n",
       "      <td>2018-07-19</td>\n",
       "      <td>smart</td>\n",
       "      <td>10.0</td>\n",
       "      <td>247.0</td>\n",
       "      <td>42.0</td>\n",
       "      <td>21.0</td>\n",
       "      <td>550.0</td>\n",
       "      <td>0.0</td>\n",
       "      <td>1200.0</td>\n",
       "      <td>1750.0</td>\n",
       "    </tr>\n",
       "    <tr>\n",
       "      <td>3212</td>\n",
       "      <td>1499</td>\n",
       "      <td>35</td>\n",
       "      <td>NaN</td>\n",
       "      <td>Пермь</td>\n",
       "      <td>Гектор</td>\n",
       "      <td>Корнилов</td>\n",
       "      <td>2018-09-27</td>\n",
       "      <td>smart</td>\n",
       "      <td>9.0</td>\n",
       "      <td>70.0</td>\n",
       "      <td>11.0</td>\n",
       "      <td>2.0</td>\n",
       "      <td>550.0</td>\n",
       "      <td>0.0</td>\n",
       "      <td>0.0</td>\n",
       "      <td>550.0</td>\n",
       "    </tr>\n",
       "    <tr>\n",
       "      <td>3213</td>\n",
       "      <td>1499</td>\n",
       "      <td>35</td>\n",
       "      <td>NaN</td>\n",
       "      <td>Пермь</td>\n",
       "      <td>Гектор</td>\n",
       "      <td>Корнилов</td>\n",
       "      <td>2018-09-27</td>\n",
       "      <td>smart</td>\n",
       "      <td>10.0</td>\n",
       "      <td>449.0</td>\n",
       "      <td>48.0</td>\n",
       "      <td>18.0</td>\n",
       "      <td>550.0</td>\n",
       "      <td>0.0</td>\n",
       "      <td>600.0</td>\n",
       "      <td>1150.0</td>\n",
       "    </tr>\n",
       "    <tr>\n",
       "      <td>3214</td>\n",
       "      <td>1499</td>\n",
       "      <td>35</td>\n",
       "      <td>NaN</td>\n",
       "      <td>Пермь</td>\n",
       "      <td>Гектор</td>\n",
       "      <td>Корнилов</td>\n",
       "      <td>2018-09-27</td>\n",
       "      <td>smart</td>\n",
       "      <td>11.0</td>\n",
       "      <td>612.0</td>\n",
       "      <td>59.0</td>\n",
       "      <td>18.0</td>\n",
       "      <td>886.0</td>\n",
       "      <td>27.0</td>\n",
       "      <td>600.0</td>\n",
       "      <td>1513.0</td>\n",
       "    </tr>\n",
       "    <tr>\n",
       "      <td>3215</td>\n",
       "      <td>1499</td>\n",
       "      <td>35</td>\n",
       "      <td>NaN</td>\n",
       "      <td>Пермь</td>\n",
       "      <td>Гектор</td>\n",
       "      <td>Корнилов</td>\n",
       "      <td>2018-09-27</td>\n",
       "      <td>smart</td>\n",
       "      <td>12.0</td>\n",
       "      <td>492.0</td>\n",
       "      <td>66.0</td>\n",
       "      <td>13.0</td>\n",
       "      <td>550.0</td>\n",
       "      <td>48.0</td>\n",
       "      <td>0.0</td>\n",
       "      <td>598.0</td>\n",
       "    </tr>\n",
       "  </tbody>\n",
       "</table>\n",
       "<p>3216 rows × 16 columns</p>\n",
       "</div>"
      ],
      "text/plain": [
       "      user_id  age  churn_date         city first_name  last_name    reg_date  \\\n",
       "0        1000   52         NaN    Краснодар     Рафаил  Верещагин  2018-05-25   \n",
       "1        1000   52         NaN    Краснодар     Рафаил  Верещагин  2018-05-25   \n",
       "2        1000   52         NaN    Краснодар     Рафаил  Верещагин  2018-05-25   \n",
       "3        1000   52         NaN    Краснодар     Рафаил  Верещагин  2018-05-25   \n",
       "4        1000   52         NaN    Краснодар     Рафаил  Верещагин  2018-05-25   \n",
       "...       ...  ...         ...          ...        ...        ...         ...   \n",
       "3211     1498   68  2018-10-25  Владикавказ   Всеволод    Акимчин  2018-07-19   \n",
       "3212     1499   35         NaN        Пермь     Гектор   Корнилов  2018-09-27   \n",
       "3213     1499   35         NaN        Пермь     Гектор   Корнилов  2018-09-27   \n",
       "3214     1499   35         NaN        Пермь     Гектор   Корнилов  2018-09-27   \n",
       "3215     1499   35         NaN        Пермь     Гектор   Корнилов  2018-09-27   \n",
       "\n",
       "     tariff  month  calls  messages  gb_used  money_calls  money_messege  \\\n",
       "0     ultra    5.0  159.0      22.0      3.0       1950.0            0.0   \n",
       "1     ultra    6.0  172.0      60.0     23.0       1950.0            0.0   \n",
       "2     ultra    7.0  340.0      75.0     14.0       1950.0            0.0   \n",
       "3     ultra    8.0  408.0      81.0     14.0       1950.0            0.0   \n",
       "4     ultra    9.0  466.0      57.0     15.0       1950.0            0.0   \n",
       "...     ...    ...    ...       ...      ...          ...            ...   \n",
       "3211  smart   10.0  247.0      42.0     21.0        550.0            0.0   \n",
       "3212  smart    9.0   70.0      11.0      2.0        550.0            0.0   \n",
       "3213  smart   10.0  449.0      48.0     18.0        550.0            0.0   \n",
       "3214  smart   11.0  612.0      59.0     18.0        886.0           27.0   \n",
       "3215  smart   12.0  492.0      66.0     13.0        550.0           48.0   \n",
       "\n",
       "      money_internet  all_money  \n",
       "0                0.0     1950.0  \n",
       "1                0.0     1950.0  \n",
       "2                0.0     1950.0  \n",
       "3                0.0     1950.0  \n",
       "4                0.0     1950.0  \n",
       "...              ...        ...  \n",
       "3211          1200.0     1750.0  \n",
       "3212             0.0      550.0  \n",
       "3213           600.0     1150.0  \n",
       "3214           600.0     1513.0  \n",
       "3215             0.0      598.0  \n",
       "\n",
       "[3216 rows x 16 columns]"
      ]
     },
     "execution_count": 30,
     "metadata": {},
     "output_type": "execute_result"
    }
   ],
   "source": [
    "df_users"
   ]
  },
  {
   "cell_type": "markdown",
   "metadata": {},
   "source": [
    "Для удобвства, разделим пользователей по тарифам\n"
   ]
  },
  {
   "cell_type": "code",
   "execution_count": 31,
   "metadata": {},
   "outputs": [],
   "source": [
    "smart_users = df_users[df_users['tariff']=='smart'] #пользователи тарифа смарт\n",
    "ultra_users = df_users[df_users['tariff']=='ultra'] #пользователи тарифа ультра"
   ]
  },
  {
   "cell_type": "markdown",
   "metadata": {},
   "source": [
    "## Анализ Данных"
   ]
  },
  {
   "cell_type": "markdown",
   "metadata": {},
   "source": [
    "Количество минут разговора"
   ]
  },
  {
   "cell_type": "code",
   "execution_count": 32,
   "metadata": {},
   "outputs": [
    {
     "data": {
      "image/png": "[encoded data removed]",
      "text/plain": [
       "<Figure size 720x432 with 1 Axes>"
      ]
     },
     "metadata": {
      "needs_background": "light"
     },
     "output_type": "display_data"
    }
   ],
   "source": [
    "df_calls_sum_smart = df_calls_sum[df_calls_sum['tariff']=='smart']\n",
    "df_calls_sum_ultra = df_calls_sum[df_calls_sum['tariff']=='ultra']\n",
    "plt.figure(figsize=(10, 6))\n",
    "h1 = df_calls_sum_smart['calls'].hist(bins=20, alpha=0.5)\n",
    "h2 = df_calls_sum_ultra['calls'].hist(bins=20, alpha=0.5)\n",
    "plt.title('Гистограмма распределения продолжительности звонков по 2-м тарифам'+ \"\\n\")\n",
    "plt.xlabel('Минуты')\n",
    "plt.ylabel('Частотность')\n",
    "plt.legend(['smart', 'ultra'])\n",
    "plt.show()"
   ]
  },
  {
   "cell_type": "code",
   "execution_count": 33,
   "metadata": {},
   "outputs": [],
   "source": [
    "x1 = np.var(df_calls_sum_smart['calls'], ddof=1) #дисперсия тарифа смарт\n",
    "x2 = df_calls_sum_smart['calls'].mean() #среднее тарифа смарт\n",
    "x3 = np.std(df_calls_sum_smart['calls'], ddof=1) #стандартное отклонение тарифа смарт\n",
    "x4 = np.var(df_calls_sum_ultra['calls'], ddof=1) #дисперсия тарифа ультра\n",
    "x5 = df_calls_sum_ultra['calls'].mean() #среднее тарифа ультра\n",
    "x6 = np.std(df_calls_sum_ultra['calls'], ddof=1) #стандартное отклонение тарифа ультра"
   ]
  },
  {
   "cell_type": "code",
   "execution_count": 34,
   "metadata": {},
   "outputs": [
    {
     "data": {
      "text/html": [
       "<div>\n",
       "<style scoped>\n",
       "    .dataframe tbody tr th:only-of-type {\n",
       "        vertical-align: middle;\n",
       "    }\n",
       "\n",
       "    .dataframe tbody tr th {\n",
       "        vertical-align: top;\n",
       "    }\n",
       "\n",
       "    .dataframe thead th {\n",
       "        text-align: right;\n",
       "    }\n",
       "</style>\n",
       "<table border=\"1\" class=\"dataframe\">\n",
       "  <thead>\n",
       "    <tr style=\"text-align: right;\">\n",
       "      <th></th>\n",
       "      <th>tariff</th>\n",
       "      <th>var</th>\n",
       "      <th>mean</th>\n",
       "      <th>std</th>\n",
       "    </tr>\n",
       "  </thead>\n",
       "  <tbody>\n",
       "    <tr>\n",
       "      <td>0</td>\n",
       "      <td>smart</td>\n",
       "      <td>35844.189551</td>\n",
       "      <td>419.062978</td>\n",
       "      <td>189.325618</td>\n",
       "    </tr>\n",
       "    <tr>\n",
       "      <td>1</td>\n",
       "      <td>ultra</td>\n",
       "      <td>94203.418396</td>\n",
       "      <td>545.451104</td>\n",
       "      <td>306.925754</td>\n",
       "    </tr>\n",
       "  </tbody>\n",
       "</table>\n",
       "</div>"
      ],
      "text/plain": [
       "  tariff           var        mean         std\n",
       "0  smart  35844.189551  419.062978  189.325618\n",
       "1  ultra  94203.418396  545.451104  306.925754"
      ]
     },
     "execution_count": 34,
     "metadata": {},
     "output_type": "execute_result"
    }
   ],
   "source": [
    "pd.DataFrame(data=[['smart', x1, x2, x3], ['ultra', x4, x5, x6]], columns=['tariff', 'var', 'mean', 'std'])"
   ]
  },
  {
   "cell_type": "markdown",
   "metadata": {},
   "source": [
    "Пользователи тарифа \"Ультра\" используют больше минут, чем пользователи тарифа \"Смарт\". И стандартное отклонение у тарифа \"Ультра\" больше, значит что разброс данных больше."
   ]
  },
  {
   "cell_type": "markdown",
   "metadata": {},
   "source": [
    "Количество СМС в месяц"
   ]
  },
  {
   "cell_type": "code",
   "execution_count": 35,
   "metadata": {},
   "outputs": [
    {
     "name": "stderr",
     "output_type": "stream",
     "text": [
      "/opt/conda/lib/python3.7/site-packages/ipykernel_launcher.py:1: UserWarning: Boolean Series key will be reindexed to match DataFrame index.\n",
      "  \"\"\"Entry point for launching an IPython kernel.\n"
     ]
    },
    {
     "data": {
      "image/png": "[encoded data removed]",
      "text/plain": [
       "<Figure size 720x432 with 1 Axes>"
      ]
     },
     "metadata": {
      "needs_background": "light"
     },
     "output_type": "display_data"
    }
   ],
   "source": [
    "df_messages_count_smart = df_messages_count[df_calls_sum['tariff']=='smart']\n",
    "df_messages_count_ultra = df_messages_count[df_messages_count['tariff']=='ultra']\n",
    "plt.figure(figsize=(10, 6))\n",
    "h3 = df_messages_count_smart['messages'].hist(bins=20, alpha=0.5)\n",
    "h4 = df_messages_count_ultra['messages'].hist(bins=20, alpha=0.5)\n",
    "plt.title('Гистограмма распределения отправленных СМС по 2-м тарифам'+ \"\\n\")\n",
    "plt.xlabel('Минуты')\n",
    "plt.ylabel('Частотность')\n",
    "plt.legend(['smart', 'ultra'])\n",
    "plt.show()"
   ]
  },
  {
   "cell_type": "code",
   "execution_count": 36,
   "metadata": {},
   "outputs": [
    {
     "data": {
      "text/html": [
       "<div>\n",
       "<style scoped>\n",
       "    .dataframe tbody tr th:only-of-type {\n",
       "        vertical-align: middle;\n",
       "    }\n",
       "\n",
       "    .dataframe tbody tr th {\n",
       "        vertical-align: top;\n",
       "    }\n",
       "\n",
       "    .dataframe thead th {\n",
       "        text-align: right;\n",
       "    }\n",
       "</style>\n",
       "<table border=\"1\" class=\"dataframe\">\n",
       "  <thead>\n",
       "    <tr style=\"text-align: right;\">\n",
       "      <th></th>\n",
       "      <th>tariff</th>\n",
       "      <th>var</th>\n",
       "      <th>mean</th>\n",
       "      <th>std</th>\n",
       "    </tr>\n",
       "  </thead>\n",
       "  <tbody>\n",
       "    <tr>\n",
       "      <td>0</td>\n",
       "      <td>smart</td>\n",
       "      <td>1225.402881</td>\n",
       "      <td>45.324011</td>\n",
       "      <td>35.005755</td>\n",
       "    </tr>\n",
       "    <tr>\n",
       "      <td>1</td>\n",
       "      <td>ultra</td>\n",
       "      <td>2109.659183</td>\n",
       "      <td>61.161006</td>\n",
       "      <td>45.931026</td>\n",
       "    </tr>\n",
       "  </tbody>\n",
       "</table>\n",
       "</div>"
      ],
      "text/plain": [
       "  tariff          var       mean        std\n",
       "0  smart  1225.402881  45.324011  35.005755\n",
       "1  ultra  2109.659183  61.161006  45.931026"
      ]
     },
     "execution_count": 36,
     "metadata": {},
     "output_type": "execute_result"
    }
   ],
   "source": [
    "x7 = np.var(df_messages_count_smart['messages'], ddof=1) #дисперсия тарифа смарт\n",
    "x8 = df_messages_count_smart['messages'].mean() #срднее тарифа смарт\n",
    "x9 = np.std(df_messages_count_smart['messages'], ddof=1) #стандартное отклонение тарифа смарт\n",
    "x10 = np.var(df_messages_count_ultra['messages'], ddof=1) #дисперсия тарифа сультра\n",
    "x11 = df_messages_count_ultra['messages'].mean() #среднее тарифа ультра\n",
    "x12 = np.std(df_messages_count_ultra['messages'], ddof=1) #стандартное отклонение тарифа ультра\n",
    "pd.DataFrame(data=[['smart', x7, x8, x9], ['ultra', x10, x11, x12]], columns=['tariff', 'var', 'mean', 'std'])"
   ]
  },
  {
   "cell_type": "markdown",
   "metadata": {},
   "source": [
    "Среднее тарифа \"Ультра\" так же больше, чем у \"Смарт\". Значит, что в среднем пользователи этого тарифа отправляют больше смс. Распределения у них очень похожи, и стандартные отклонения близки друг к другу. Распределение Пуассона в обоих случаях. По отправке смс пользователи обоих тарифов похожи"
   ]
  },
  {
   "cell_type": "markdown",
   "metadata": {},
   "source": [
    "Объем трафика за месяц"
   ]
  },
  {
   "cell_type": "code",
   "execution_count": 37,
   "metadata": {},
   "outputs": [
    {
     "data": {
      "image/png": "[encoded data removed]",
      "text/plain": [
       "<Figure size 720x432 with 1 Axes>"
      ]
     },
     "metadata": {
      "needs_background": "light"
     },
     "output_type": "display_data"
    }
   ],
   "source": [
    "df_internet_count_ultra = df_internet_count[df_internet_count['tariff']=='ultra']\n",
    "df_internet_count_smart = df_internet_count[df_internet_count['tariff']=='smart']\n",
    "plt.figure(figsize=(10, 6))\n",
    "h5 = df_internet_count_smart['gb_used'].hist(bins=20, alpha=0.5)\n",
    "h6 = df_internet_count_ultra['gb_used'].hist(bins=20, alpha=0.5)\n",
    "plt.title('Гистограмма распределения интернет трафика по 2-м тарифам'+ \"\\n\")\n",
    "plt.xlabel('Минуты')\n",
    "plt.ylabel('Частотность')\n",
    "plt.legend(['smart', 'ultra'])\n",
    "plt.show()"
   ]
  },
  {
   "cell_type": "code",
   "execution_count": 38,
   "metadata": {},
   "outputs": [
    {
     "data": {
      "text/html": [
       "<div>\n",
       "<style scoped>\n",
       "    .dataframe tbody tr th:only-of-type {\n",
       "        vertical-align: middle;\n",
       "    }\n",
       "\n",
       "    .dataframe tbody tr th {\n",
       "        vertical-align: top;\n",
       "    }\n",
       "\n",
       "    .dataframe thead th {\n",
       "        text-align: right;\n",
       "    }\n",
       "</style>\n",
       "<table border=\"1\" class=\"dataframe\">\n",
       "  <thead>\n",
       "    <tr style=\"text-align: right;\">\n",
       "      <th></th>\n",
       "      <th>tariff</th>\n",
       "      <th>var</th>\n",
       "      <th>mean</th>\n",
       "      <th>std</th>\n",
       "    </tr>\n",
       "  </thead>\n",
       "  <tbody>\n",
       "    <tr>\n",
       "      <td>0</td>\n",
       "      <td>smart</td>\n",
       "      <td>33.054966</td>\n",
       "      <td>16.366697</td>\n",
       "      <td>5.749345</td>\n",
       "    </tr>\n",
       "    <tr>\n",
       "      <td>1</td>\n",
       "      <td>ultra</td>\n",
       "      <td>94.379757</td>\n",
       "      <td>19.726154</td>\n",
       "      <td>9.714924</td>\n",
       "    </tr>\n",
       "  </tbody>\n",
       "</table>\n",
       "</div>"
      ],
      "text/plain": [
       "  tariff        var       mean       std\n",
       "0  smart  33.054966  16.366697  5.749345\n",
       "1  ultra  94.379757  19.726154  9.714924"
      ]
     },
     "execution_count": 38,
     "metadata": {},
     "output_type": "execute_result"
    }
   ],
   "source": [
    "x13 = np.var(df_internet_count_smart['gb_used'], ddof=1) #дисперсия тарифа смарт\n",
    "x14 = df_internet_count_smart['gb_used'].mean() #среднее тарифа смарт\n",
    "x15 = np.std(df_internet_count_smart['gb_used'], ddof=1) #стандартное отклонение тарифа смарт\n",
    "x16 = np.var(df_internet_count_ultra['gb_used'], ddof=1) #дисперсия тарифа ультра\n",
    "x17 = df_internet_count_ultra['gb_used'].mean() #среднее тарифа ультра\n",
    "x18 = np.std(df_internet_count_ultra['gb_used'], ddof=1) #стандартное отклонение тарифа ультра\n",
    "pd.DataFrame(data=[['smart', x13, x14, x15], ['ultra', x16, x17, x18]], columns=['tariff', 'var', 'mean', 'std'])"
   ]
  },
  {
   "cell_type": "markdown",
   "metadata": {},
   "source": [
    "Интернет трафик пользователи обоих тарифов расходуют тоже похоже. По всем графикам видно, что пользователи тарифа \"Смарт\" расходуют больше трафика, смс и минут разговора но только за счет того, что количество пользователей самого тарифа \"Смарт\" больше, чем пользователей тарифа \"Ультра\". Но если бы пользователей обоих тарифов было одинаковое количество, то пользователи тарифа \"Ультра\", расходовали бы быльше трафика, смс и минут разговора"
   ]
  },
  {
   "cell_type": "markdown",
   "metadata": {},
   "source": [
    "## Гипотеза 1"
   ]
  },
  {
   "cell_type": "markdown",
   "metadata": {},
   "source": [
    "Нулевая гипотеза: Средние выручки пользователей тарифов «Ультра» и «Смарт» равны."
   ]
  },
  {
   "cell_type": "code",
   "execution_count": 39,
   "metadata": {},
   "outputs": [
    {
     "name": "stdout",
     "output_type": "stream",
     "text": [
      "p-значение:  2.5878439138870128e-154\n",
      "Отвергаем нулевую гипотезу\n"
     ]
    }
   ],
   "source": [
    "alpha = .05\n",
    "results = st.ttest_ind(ultra_users['all_money'], smart_users['all_money'])\n",
    "print('p-значение: ', results.pvalue)\n",
    "if results.pvalue < alpha:\n",
    "    print('Отвергаем нулевую гипотезу')\n",
    "else:\n",
    "    print('Нулевая гипотеза верна')"
   ]
  },
  {
   "cell_type": "markdown",
   "metadata": {},
   "source": [
    "Согласно проведенному тесту, гипотеза отвергаетcя"
   ]
  },
  {
   "cell_type": "markdown",
   "metadata": {},
   "source": [
    "## Гипотеза 2"
   ]
  },
  {
   "cell_type": "markdown",
   "metadata": {},
   "source": [
    "Нулевая гипотеза: Cредняя выручка пользователей из Москвы равна выручке пользователей из других регионов.\n",
    "\n",
    "Альтренативная гипотеза: Cредняя выручка пользователей из Москвы не равна выручке пользователей из других регионов"
   ]
  },
  {
   "cell_type": "code",
   "execution_count": 40,
   "metadata": {
    "scrolled": false
   },
   "outputs": [],
   "source": [
    "msk_money = df_users[df_users['city']=='Москва'] #таблица, где только Москва\n",
    "another_city_money = df_users[df_users['city']!='Москва'] #таблица для других городов"
   ]
  },
  {
   "cell_type": "code",
   "execution_count": 42,
   "metadata": {},
   "outputs": [
    {
     "name": "stdout",
     "output_type": "stream",
     "text": [
      "p-значение:  0.4686389024041876\n",
      "Нулевая гипотеза верна\n"
     ]
    }
   ],
   "source": [
    "alpha = .05\n",
    "result = st.ttest_ind(msk_money['all_money'], another_city_money['all_money'])\n",
    "print('p-значение: ', result.pvalue)\n",
    "if result.pvalue < alpha:\n",
    "    print('Отвергаем нулевую гипотезу')\n",
    "else:\n",
    "    print('Нулевая гипотеза верна')"
   ]
  },
  {
   "cell_type": "markdown",
   "metadata": {},
   "source": [
    "Согласно результату выполенного теста, средняя выручка с Москвы равна средней выручке с других городов. Нулевая гипотеза не опровергнута."
   ]
  },
  {
   "cell_type": "markdown",
   "metadata": {},
   "source": [
    "##  Вывод"
   ]
  },
  {
   "cell_type": "markdown",
   "metadata": {},
   "source": [
    "Мы провели исследование по опредедлению перспективного тарифа для телеком-компании.\n",
    "\n",
    "Входные данные были чистыми, без пропусков и дубликатов.\n",
    "\n",
    "После анализа данных, стало видно, что пользователи тарифа \"Ультра\" тратять больше минут разговора, и отправляют больше смс, чем пользователи тарифа \"Смарт\". Интернет они расходуют почти одинаково. \n",
    "\n",
    "Далее мы приступили к проверке гипотезы : Средняя выручка пользователей тарифов «Ультра» и «Смарт» равны. После проверки гипотезы при помощи t-теста, мы пришли к выводу, что выручка с тарифов различается.\n",
    "\n",
    "Затем, мы проверили гипотезу о выручке в Москве и других городах, при помощи t-теста. Нулевая гипотеза звучала так: выручка в Москве равна выручке в других городах. Гипотеза не опровернута.\n",
    "\n",
    "Подводя общий итог, можно сказать, что для комапании «Мегалайн» тариф \"Смарт\" выгоднее - пользователи в среднем тратят меньше минут разговора и смс, но выручки с них поступает больше, чем с пользователей тарифа \"Ультра\", потому что пользователей тарифа \"Смарт\" больше."
   ]
  }
 ],
 "metadata": {
  "ExecuteTimeLog": [
   {
    "duration": 1334,
    "start_time": "2022-02-19T13:14:39.697Z"
   },
   {
    "duration": 4,
    "start_time": "2022-02-19T13:14:47.254Z"
   },
   {
    "duration": 202,
    "start_time": "2022-02-19T13:15:49.958Z"
   },
   {
    "duration": 232,
    "start_time": "2022-02-19T13:15:55.340Z"
   },
   {
    "duration": 187,
    "start_time": "2022-02-19T13:16:14.766Z"
   },
   {
    "duration": 126,
    "start_time": "2022-02-19T13:16:45.574Z"
   },
   {
    "duration": 25,
    "start_time": "2022-02-19T13:17:18.461Z"
   },
   {
    "duration": 44,
    "start_time": "2022-02-19T13:17:20.541Z"
   },
   {
    "duration": 305,
    "start_time": "2022-02-19T13:17:44.439Z"
   },
   {
    "duration": 232,
    "start_time": "2022-02-19T13:20:30.038Z"
   },
   {
    "duration": 272,
    "start_time": "2022-02-19T13:20:39.166Z"
   },
   {
    "duration": 134,
    "start_time": "2022-02-19T13:20:44.940Z"
   },
   {
    "duration": 22,
    "start_time": "2022-02-19T13:20:52.309Z"
   },
   {
    "duration": 21,
    "start_time": "2022-02-19T13:20:56.693Z"
   },
   {
    "duration": 22,
    "start_time": "2022-02-19T13:20:59.092Z"
   },
   {
    "duration": 26,
    "start_time": "2022-02-19T13:21:03.444Z"
   },
   {
    "duration": 226,
    "start_time": "2022-02-19T13:21:25.388Z"
   },
   {
    "duration": 264,
    "start_time": "2022-02-19T13:21:35.484Z"
   },
   {
    "duration": 50,
    "start_time": "2022-02-19T13:21:55.548Z"
   },
   {
    "duration": 258,
    "start_time": "2022-02-19T13:23:02.419Z"
   },
   {
    "duration": 211,
    "start_time": "2022-02-19T13:23:14.916Z"
   },
   {
    "duration": 138,
    "start_time": "2022-02-19T13:23:16.931Z"
   },
   {
    "duration": 27,
    "start_time": "2022-02-19T13:25:15.347Z"
   },
   {
    "duration": 27,
    "start_time": "2022-02-19T13:31:30.200Z"
   },
   {
    "duration": 34,
    "start_time": "2022-02-19T13:31:37.080Z"
   },
   {
    "duration": 18,
    "start_time": "2022-02-19T13:31:40.000Z"
   },
   {
    "duration": 7,
    "start_time": "2022-02-19T13:31:42.632Z"
   },
   {
    "duration": 9,
    "start_time": "2022-02-19T13:31:47.176Z"
   },
   {
    "duration": 236,
    "start_time": "2022-02-19T13:32:54.193Z"
   },
   {
    "duration": 219,
    "start_time": "2022-02-19T13:33:08.833Z"
   },
   {
    "duration": 150,
    "start_time": "2022-02-19T13:33:21.393Z"
   },
   {
    "duration": 22,
    "start_time": "2022-02-19T13:33:31.352Z"
   },
   {
    "duration": 38,
    "start_time": "2022-02-19T13:33:42.360Z"
   },
   {
    "duration": 10,
    "start_time": "2022-02-19T13:34:02.736Z"
   },
   {
    "duration": 8,
    "start_time": "2022-02-19T13:34:04.167Z"
   },
   {
    "duration": 19,
    "start_time": "2022-02-19T13:34:22.504Z"
   },
   {
    "duration": 9,
    "start_time": "2022-02-19T13:34:25.752Z"
   },
   {
    "duration": 29,
    "start_time": "2022-02-19T13:34:37.007Z"
   },
   {
    "duration": 22,
    "start_time": "2022-02-19T13:34:45.999Z"
   },
   {
    "duration": 19,
    "start_time": "2022-02-19T13:34:57.551Z"
   },
   {
    "duration": 8,
    "start_time": "2022-02-19T13:35:05.663Z"
   },
   {
    "duration": 10,
    "start_time": "2022-02-19T13:35:06.447Z"
   },
   {
    "duration": 17,
    "start_time": "2022-02-19T13:38:56.293Z"
   },
   {
    "duration": 6,
    "start_time": "2022-02-19T13:39:16.445Z"
   },
   {
    "duration": 17,
    "start_time": "2022-02-19T13:39:20.141Z"
   },
   {
    "duration": 4,
    "start_time": "2022-02-19T13:41:56.724Z"
   },
   {
    "duration": 4,
    "start_time": "2022-02-19T13:42:08.254Z"
   },
   {
    "duration": 233,
    "start_time": "2022-02-19T13:42:08.261Z"
   },
   {
    "duration": 217,
    "start_time": "2022-02-19T13:42:08.497Z"
   },
   {
    "duration": 147,
    "start_time": "2022-02-19T13:42:08.717Z"
   },
   {
    "duration": 22,
    "start_time": "2022-02-19T13:42:08.866Z"
   },
   {
    "duration": 61,
    "start_time": "2022-02-19T13:42:08.891Z"
   },
   {
    "duration": 40,
    "start_time": "2022-02-19T13:42:08.955Z"
   },
   {
    "duration": 50,
    "start_time": "2022-02-19T13:42:08.998Z"
   },
   {
    "duration": 22,
    "start_time": "2022-02-19T13:42:09.051Z"
   },
   {
    "duration": 13,
    "start_time": "2022-02-19T13:42:09.075Z"
   },
   {
    "duration": 11,
    "start_time": "2022-02-19T13:42:09.090Z"
   },
   {
    "duration": 19,
    "start_time": "2022-02-19T13:42:18.821Z"
   },
   {
    "duration": 359,
    "start_time": "2022-02-19T13:43:24.084Z"
   },
   {
    "duration": 94,
    "start_time": "2022-02-19T13:44:15.163Z"
   },
   {
    "duration": 154,
    "start_time": "2022-02-19T13:44:38.859Z"
   },
   {
    "duration": 22,
    "start_time": "2022-02-19T13:44:41.971Z"
   },
   {
    "duration": 31,
    "start_time": "2022-02-19T13:45:53.042Z"
   },
   {
    "duration": 410,
    "start_time": "2022-02-19T13:45:56.354Z"
   },
   {
    "duration": 31,
    "start_time": "2022-02-19T13:45:57.754Z"
   },
   {
    "duration": 400,
    "start_time": "2022-02-19T13:46:35.075Z"
   },
   {
    "duration": 22,
    "start_time": "2022-02-19T13:46:37.186Z"
   },
   {
    "duration": 22,
    "start_time": "2022-02-19T13:46:46.234Z"
   },
   {
    "duration": 4,
    "start_time": "2022-02-19T13:47:22.644Z"
   },
   {
    "duration": 242,
    "start_time": "2022-02-19T13:47:22.651Z"
   },
   {
    "duration": 221,
    "start_time": "2022-02-19T13:47:22.896Z"
   },
   {
    "duration": 153,
    "start_time": "2022-02-19T13:47:23.120Z"
   },
   {
    "duration": 22,
    "start_time": "2022-02-19T13:47:23.275Z"
   },
   {
    "duration": 54,
    "start_time": "2022-02-19T13:47:23.300Z"
   },
   {
    "duration": 29,
    "start_time": "2022-02-19T13:47:23.356Z"
   },
   {
    "duration": 29,
    "start_time": "2022-02-19T13:47:23.388Z"
   },
   {
    "duration": 39,
    "start_time": "2022-02-19T13:47:23.420Z"
   },
   {
    "duration": 7,
    "start_time": "2022-02-19T13:47:23.462Z"
   },
   {
    "duration": 14,
    "start_time": "2022-02-19T13:47:23.471Z"
   },
   {
    "duration": 21,
    "start_time": "2022-02-19T13:47:25.241Z"
   },
   {
    "duration": 5,
    "start_time": "2022-02-19T13:47:27.225Z"
   },
   {
    "duration": 23,
    "start_time": "2022-02-19T13:47:28.193Z"
   },
   {
    "duration": 395,
    "start_time": "2022-02-19T13:47:42.801Z"
   },
   {
    "duration": 23,
    "start_time": "2022-02-19T13:47:43.801Z"
   },
   {
    "duration": 227,
    "start_time": "2022-02-19T13:49:31.449Z"
   },
   {
    "duration": 30,
    "start_time": "2022-02-19T13:49:32.033Z"
   },
   {
    "duration": 4,
    "start_time": "2022-02-19T13:50:23.522Z"
   },
   {
    "duration": 255,
    "start_time": "2022-02-19T13:50:23.529Z"
   },
   {
    "duration": 220,
    "start_time": "2022-02-19T13:50:23.787Z"
   },
   {
    "duration": 158,
    "start_time": "2022-02-19T13:50:24.010Z"
   },
   {
    "duration": 20,
    "start_time": "2022-02-19T13:50:24.170Z"
   },
   {
    "duration": 55,
    "start_time": "2022-02-19T13:50:24.193Z"
   },
   {
    "duration": 27,
    "start_time": "2022-02-19T13:50:24.250Z"
   },
   {
    "duration": 20,
    "start_time": "2022-02-19T13:50:24.281Z"
   },
   {
    "duration": 51,
    "start_time": "2022-02-19T13:50:24.304Z"
   },
   {
    "duration": 8,
    "start_time": "2022-02-19T13:50:24.358Z"
   },
   {
    "duration": 8,
    "start_time": "2022-02-19T13:50:24.368Z"
   },
   {
    "duration": 21,
    "start_time": "2022-02-19T13:50:27.000Z"
   },
   {
    "duration": 5,
    "start_time": "2022-02-19T13:50:29.889Z"
   },
   {
    "duration": 20,
    "start_time": "2022-02-19T13:50:31.512Z"
   },
   {
    "duration": 227,
    "start_time": "2022-02-19T13:50:52.185Z"
   },
   {
    "duration": 22,
    "start_time": "2022-02-19T13:50:53.352Z"
   },
   {
    "duration": 4,
    "start_time": "2022-02-19T13:51:12.402Z"
   },
   {
    "duration": 259,
    "start_time": "2022-02-19T13:51:12.409Z"
   },
   {
    "duration": 218,
    "start_time": "2022-02-19T13:51:12.671Z"
   },
   {
    "duration": 161,
    "start_time": "2022-02-19T13:51:12.892Z"
   },
   {
    "duration": 22,
    "start_time": "2022-02-19T13:51:13.055Z"
   },
   {
    "duration": 42,
    "start_time": "2022-02-19T13:51:13.080Z"
   },
   {
    "duration": 58,
    "start_time": "2022-02-19T13:51:13.125Z"
   },
   {
    "duration": 35,
    "start_time": "2022-02-19T13:51:13.186Z"
   },
   {
    "duration": 39,
    "start_time": "2022-02-19T13:51:13.224Z"
   },
   {
    "duration": 16,
    "start_time": "2022-02-19T13:51:13.267Z"
   },
   {
    "duration": 13,
    "start_time": "2022-02-19T13:51:13.286Z"
   },
   {
    "duration": 230,
    "start_time": "2022-02-19T13:51:15.744Z"
   },
   {
    "duration": 30,
    "start_time": "2022-02-19T13:51:17.041Z"
   },
   {
    "duration": 235,
    "start_time": "2022-02-19T13:53:03.183Z"
   },
   {
    "duration": 7675,
    "start_time": "2022-02-19T13:53:17.951Z"
   },
   {
    "duration": 4324,
    "start_time": "2022-02-19T13:53:21.306Z"
   },
   {
    "duration": 4,
    "start_time": "2022-02-19T13:53:34.511Z"
   },
   {
    "duration": 253,
    "start_time": "2022-02-19T13:53:34.517Z"
   },
   {
    "duration": 211,
    "start_time": "2022-02-19T13:53:34.773Z"
   },
   {
    "duration": 161,
    "start_time": "2022-02-19T13:53:34.986Z"
   },
   {
    "duration": 20,
    "start_time": "2022-02-19T13:53:35.150Z"
   },
   {
    "duration": 43,
    "start_time": "2022-02-19T13:53:35.173Z"
   },
   {
    "duration": 39,
    "start_time": "2022-02-19T13:53:35.219Z"
   },
   {
    "duration": 25,
    "start_time": "2022-02-19T13:53:35.262Z"
   },
   {
    "duration": 20,
    "start_time": "2022-02-19T13:53:35.290Z"
   },
   {
    "duration": 39,
    "start_time": "2022-02-19T13:53:35.313Z"
   },
   {
    "duration": 18,
    "start_time": "2022-02-19T13:53:35.355Z"
   },
   {
    "duration": 255,
    "start_time": "2022-02-19T13:53:37.743Z"
   },
   {
    "duration": 825,
    "start_time": "2022-02-19T13:54:49.557Z"
   },
   {
    "duration": 117,
    "start_time": "2022-02-19T13:54:52.606Z"
   },
   {
    "duration": 247,
    "start_time": "2022-02-19T13:55:22.886Z"
   },
   {
    "duration": 122,
    "start_time": "2022-02-19T13:55:47.094Z"
   },
   {
    "duration": 92,
    "start_time": "2022-02-19T13:55:47.713Z"
   },
   {
    "duration": 55,
    "start_time": "2022-02-19T13:55:48.294Z"
   },
   {
    "duration": 10,
    "start_time": "2022-02-19T13:55:48.781Z"
   },
   {
    "duration": 10,
    "start_time": "2022-02-19T13:55:49.229Z"
   },
   {
    "duration": 16,
    "start_time": "2022-02-19T13:57:24.693Z"
   },
   {
    "duration": 13,
    "start_time": "2022-02-19T14:01:38.229Z"
   },
   {
    "duration": 7,
    "start_time": "2022-02-19T14:01:42.188Z"
   },
   {
    "duration": 316,
    "start_time": "2022-02-19T14:02:20.859Z"
   },
   {
    "duration": 4,
    "start_time": "2022-02-19T14:02:28.604Z"
   },
   {
    "duration": 253,
    "start_time": "2022-02-19T14:02:28.611Z"
   },
   {
    "duration": 255,
    "start_time": "2022-02-19T14:02:28.868Z"
   },
   {
    "duration": 155,
    "start_time": "2022-02-19T14:02:29.127Z"
   },
   {
    "duration": 22,
    "start_time": "2022-02-19T14:02:29.285Z"
   },
   {
    "duration": 59,
    "start_time": "2022-02-19T14:02:29.310Z"
   },
   {
    "duration": 28,
    "start_time": "2022-02-19T14:02:29.372Z"
   },
   {
    "duration": 47,
    "start_time": "2022-02-19T14:02:29.404Z"
   },
   {
    "duration": 21,
    "start_time": "2022-02-19T14:02:29.454Z"
   },
   {
    "duration": 7,
    "start_time": "2022-02-19T14:02:29.479Z"
   },
   {
    "duration": 13,
    "start_time": "2022-02-19T14:02:29.489Z"
   },
   {
    "duration": 184,
    "start_time": "2022-02-19T14:02:29.505Z"
   },
   {
    "duration": 120,
    "start_time": "2022-02-19T14:02:29.692Z"
   },
   {
    "duration": 74,
    "start_time": "2022-02-19T14:02:29.815Z"
   },
   {
    "duration": 10,
    "start_time": "2022-02-19T14:02:29.892Z"
   },
   {
    "duration": 14,
    "start_time": "2022-02-19T14:02:29.904Z"
   },
   {
    "duration": 285,
    "start_time": "2022-02-19T14:02:29.921Z"
   },
   {
    "duration": 18,
    "start_time": "2022-02-19T14:02:32.083Z"
   },
   {
    "duration": 15,
    "start_time": "2022-02-19T14:02:51.908Z"
   },
   {
    "duration": 14,
    "start_time": "2022-02-19T14:05:11.882Z"
   },
   {
    "duration": 36,
    "start_time": "2022-02-19T14:07:02.490Z"
   },
   {
    "duration": 18,
    "start_time": "2022-02-19T14:07:08.617Z"
   },
   {
    "duration": 41,
    "start_time": "2022-02-19T14:07:19.585Z"
   },
   {
    "duration": 22,
    "start_time": "2022-02-19T14:07:19.969Z"
   },
   {
    "duration": 4,
    "start_time": "2022-02-19T14:07:24.651Z"
   },
   {
    "duration": 246,
    "start_time": "2022-02-19T14:07:24.657Z"
   },
   {
    "duration": 215,
    "start_time": "2022-02-19T14:07:24.906Z"
   },
   {
    "duration": 155,
    "start_time": "2022-02-19T14:07:25.124Z"
   },
   {
    "duration": 22,
    "start_time": "2022-02-19T14:07:25.281Z"
   },
   {
    "duration": 52,
    "start_time": "2022-02-19T14:07:25.306Z"
   },
   {
    "duration": 25,
    "start_time": "2022-02-19T14:07:25.360Z"
   },
   {
    "duration": 31,
    "start_time": "2022-02-19T14:07:25.387Z"
   },
   {
    "duration": 32,
    "start_time": "2022-02-19T14:07:25.421Z"
   },
   {
    "duration": 10,
    "start_time": "2022-02-19T14:07:25.456Z"
   },
   {
    "duration": 21,
    "start_time": "2022-02-19T14:07:25.469Z"
   },
   {
    "duration": 134,
    "start_time": "2022-02-19T14:07:25.493Z"
   },
   {
    "duration": 92,
    "start_time": "2022-02-19T14:07:25.630Z"
   },
   {
    "duration": 67,
    "start_time": "2022-02-19T14:07:25.725Z"
   },
   {
    "duration": 9,
    "start_time": "2022-02-19T14:07:25.794Z"
   },
   {
    "duration": 33,
    "start_time": "2022-02-19T14:07:25.805Z"
   },
   {
    "duration": 228,
    "start_time": "2022-02-19T14:07:25.849Z"
   },
   {
    "duration": 41,
    "start_time": "2022-02-19T14:07:27.144Z"
   },
   {
    "duration": 18,
    "start_time": "2022-02-19T14:07:27.625Z"
   },
   {
    "duration": 30,
    "start_time": "2022-02-19T14:08:23.954Z"
   },
   {
    "duration": 18,
    "start_time": "2022-02-19T14:08:24.569Z"
   },
   {
    "duration": 7564,
    "start_time": "2022-02-19T14:08:32.713Z"
   },
   {
    "duration": 4337,
    "start_time": "2022-02-19T14:08:35.943Z"
   },
   {
    "duration": 4333,
    "start_time": "2022-02-19T14:08:35.949Z"
   },
   {
    "duration": 4332,
    "start_time": "2022-02-19T14:08:35.951Z"
   },
   {
    "duration": 4,
    "start_time": "2022-02-19T14:08:52.147Z"
   },
   {
    "duration": 253,
    "start_time": "2022-02-19T14:08:52.153Z"
   },
   {
    "duration": 207,
    "start_time": "2022-02-19T14:08:52.410Z"
   },
   {
    "duration": 153,
    "start_time": "2022-02-19T14:08:52.619Z"
   },
   {
    "duration": 21,
    "start_time": "2022-02-19T14:08:52.775Z"
   },
   {
    "duration": 44,
    "start_time": "2022-02-19T14:08:52.798Z"
   },
   {
    "duration": 25,
    "start_time": "2022-02-19T14:08:52.850Z"
   },
   {
    "duration": 21,
    "start_time": "2022-02-19T14:08:52.878Z"
   },
   {
    "duration": 50,
    "start_time": "2022-02-19T14:08:52.902Z"
   },
   {
    "duration": 8,
    "start_time": "2022-02-19T14:08:52.955Z"
   },
   {
    "duration": 17,
    "start_time": "2022-02-19T14:08:52.966Z"
   },
   {
    "duration": 141,
    "start_time": "2022-02-19T14:08:52.986Z"
   },
   {
    "duration": 101,
    "start_time": "2022-02-19T14:08:53.130Z"
   },
   {
    "duration": 64,
    "start_time": "2022-02-19T14:08:53.234Z"
   },
   {
    "duration": 10,
    "start_time": "2022-02-19T14:08:53.300Z"
   },
   {
    "duration": 41,
    "start_time": "2022-02-19T14:08:53.313Z"
   },
   {
    "duration": 240,
    "start_time": "2022-02-19T14:08:55.104Z"
   },
   {
    "duration": 76,
    "start_time": "2022-02-19T14:09:05.480Z"
   },
   {
    "duration": 45,
    "start_time": "2022-02-19T14:09:07.560Z"
   },
   {
    "duration": 32,
    "start_time": "2022-02-19T14:09:08.112Z"
   },
   {
    "duration": 20,
    "start_time": "2022-02-19T14:09:09.024Z"
   },
   {
    "duration": 21,
    "start_time": "2022-02-19T14:10:04.473Z"
   },
   {
    "duration": 69,
    "start_time": "2022-02-19T14:10:42.241Z"
   },
   {
    "duration": 31,
    "start_time": "2022-02-19T14:11:19.648Z"
   },
   {
    "duration": 14,
    "start_time": "2022-02-19T14:11:28.119Z"
   },
   {
    "duration": 55,
    "start_time": "2022-02-19T14:11:57.352Z"
   },
   {
    "duration": 25,
    "start_time": "2022-02-19T14:12:04.296Z"
   },
   {
    "duration": 17,
    "start_time": "2022-02-19T14:12:23.896Z"
   },
   {
    "duration": 5,
    "start_time": "2022-02-19T14:13:51.488Z"
   },
   {
    "duration": 226,
    "start_time": "2022-02-19T14:13:51.497Z"
   },
   {
    "duration": 200,
    "start_time": "2022-02-19T14:13:51.726Z"
   },
   {
    "duration": 152,
    "start_time": "2022-02-19T14:13:51.929Z"
   },
   {
    "duration": 22,
    "start_time": "2022-02-19T14:13:52.084Z"
   },
   {
    "duration": 54,
    "start_time": "2022-02-19T14:13:52.109Z"
   },
   {
    "duration": 36,
    "start_time": "2022-02-19T14:13:52.166Z"
   },
   {
    "duration": 50,
    "start_time": "2022-02-19T14:13:52.206Z"
   },
   {
    "duration": 20,
    "start_time": "2022-02-19T14:13:52.259Z"
   },
   {
    "duration": 9,
    "start_time": "2022-02-19T14:13:52.282Z"
   },
   {
    "duration": 10,
    "start_time": "2022-02-19T14:13:52.293Z"
   },
   {
    "duration": 189,
    "start_time": "2022-02-19T14:13:52.305Z"
   },
   {
    "duration": 106,
    "start_time": "2022-02-19T14:13:52.496Z"
   },
   {
    "duration": 68,
    "start_time": "2022-02-19T14:13:52.605Z"
   },
   {
    "duration": 8,
    "start_time": "2022-02-19T14:13:52.676Z"
   },
   {
    "duration": 10,
    "start_time": "2022-02-19T14:13:52.686Z"
   },
   {
    "duration": 4,
    "start_time": "2022-02-19T14:13:54.495Z"
   },
   {
    "duration": 249,
    "start_time": "2022-02-19T14:13:54.501Z"
   },
   {
    "duration": 206,
    "start_time": "2022-02-19T14:13:54.753Z"
   },
   {
    "duration": 146,
    "start_time": "2022-02-19T14:13:54.963Z"
   },
   {
    "duration": 21,
    "start_time": "2022-02-19T14:13:55.111Z"
   },
   {
    "duration": 42,
    "start_time": "2022-02-19T14:13:55.134Z"
   },
   {
    "duration": 25,
    "start_time": "2022-02-19T14:13:55.178Z"
   },
   {
    "duration": 49,
    "start_time": "2022-02-19T14:13:55.207Z"
   },
   {
    "duration": 20,
    "start_time": "2022-02-19T14:13:55.259Z"
   },
   {
    "duration": 7,
    "start_time": "2022-02-19T14:13:55.282Z"
   },
   {
    "duration": 7,
    "start_time": "2022-02-19T14:13:55.293Z"
   },
   {
    "duration": 158,
    "start_time": "2022-02-19T14:13:55.302Z"
   },
   {
    "duration": 108,
    "start_time": "2022-02-19T14:13:55.463Z"
   },
   {
    "duration": 58,
    "start_time": "2022-02-19T14:13:55.573Z"
   },
   {
    "duration": 9,
    "start_time": "2022-02-19T14:13:55.649Z"
   },
   {
    "duration": 10,
    "start_time": "2022-02-19T14:13:55.660Z"
   },
   {
    "duration": 257,
    "start_time": "2022-02-19T14:13:55.673Z"
   },
   {
    "duration": 75,
    "start_time": "2022-02-19T14:13:55.932Z"
   },
   {
    "duration": 63,
    "start_time": "2022-02-19T14:13:56.010Z"
   },
   {
    "duration": 43,
    "start_time": "2022-02-19T14:13:56.075Z"
   },
   {
    "duration": 18,
    "start_time": "2022-02-19T14:15:13.622Z"
   },
   {
    "duration": 368,
    "start_time": "2022-02-19T14:17:49.333Z"
   },
   {
    "duration": 73,
    "start_time": "2022-02-19T14:18:08.997Z"
   },
   {
    "duration": 50,
    "start_time": "2022-02-19T14:18:12.988Z"
   },
   {
    "duration": 41,
    "start_time": "2022-02-19T14:19:06.981Z"
   },
   {
    "duration": 29,
    "start_time": "2022-02-19T14:19:08.508Z"
   },
   {
    "duration": 38,
    "start_time": "2022-02-19T14:19:59.444Z"
   },
   {
    "duration": 40,
    "start_time": "2022-02-19T14:20:02.209Z"
   },
   {
    "duration": 75,
    "start_time": "2022-02-19T14:20:40.852Z"
   },
   {
    "duration": 64,
    "start_time": "2022-02-19T14:20:49.901Z"
   },
   {
    "duration": 64,
    "start_time": "2022-02-19T14:21:51.131Z"
   },
   {
    "duration": 67,
    "start_time": "2022-02-19T14:22:01.548Z"
   },
   {
    "duration": 66,
    "start_time": "2022-02-19T14:22:11.028Z"
   },
   {
    "duration": 101,
    "start_time": "2022-02-19T14:22:51.089Z"
   },
   {
    "duration": 64,
    "start_time": "2022-02-19T14:23:00.026Z"
   },
   {
    "duration": 341,
    "start_time": "2022-02-19T14:23:57.882Z"
   },
   {
    "duration": 25,
    "start_time": "2022-02-19T14:24:01.259Z"
   },
   {
    "duration": 297,
    "start_time": "2022-02-19T14:24:24.330Z"
   },
   {
    "duration": 4,
    "start_time": "2022-02-19T14:24:39.292Z"
   },
   {
    "duration": 240,
    "start_time": "2022-02-19T14:24:39.298Z"
   },
   {
    "duration": 207,
    "start_time": "2022-02-19T14:24:39.541Z"
   },
   {
    "duration": 140,
    "start_time": "2022-02-19T14:24:39.751Z"
   },
   {
    "duration": 21,
    "start_time": "2022-02-19T14:24:39.894Z"
   },
   {
    "duration": 48,
    "start_time": "2022-02-19T14:24:39.918Z"
   },
   {
    "duration": 26,
    "start_time": "2022-02-19T14:24:39.968Z"
   },
   {
    "duration": 49,
    "start_time": "2022-02-19T14:24:39.999Z"
   },
   {
    "duration": 19,
    "start_time": "2022-02-19T14:24:40.052Z"
   },
   {
    "duration": 8,
    "start_time": "2022-02-19T14:24:40.073Z"
   },
   {
    "duration": 12,
    "start_time": "2022-02-19T14:24:40.084Z"
   },
   {
    "duration": 165,
    "start_time": "2022-02-19T14:24:40.098Z"
   },
   {
    "duration": 108,
    "start_time": "2022-02-19T14:24:40.266Z"
   },
   {
    "duration": 56,
    "start_time": "2022-02-19T14:24:40.376Z"
   },
   {
    "duration": 10,
    "start_time": "2022-02-19T14:24:40.448Z"
   },
   {
    "duration": 19,
    "start_time": "2022-02-19T14:24:40.460Z"
   },
   {
    "duration": 253,
    "start_time": "2022-02-19T14:24:40.481Z"
   },
   {
    "duration": 71,
    "start_time": "2022-02-19T14:24:40.737Z"
   },
   {
    "duration": 68,
    "start_time": "2022-02-19T14:24:40.811Z"
   },
   {
    "duration": 43,
    "start_time": "2022-02-19T14:24:40.882Z"
   },
   {
    "duration": 77,
    "start_time": "2022-02-19T14:24:40.927Z"
   },
   {
    "duration": 72,
    "start_time": "2022-02-19T14:24:41.007Z"
   },
   {
    "duration": 299,
    "start_time": "2022-02-19T14:24:43.218Z"
   },
   {
    "duration": 57,
    "start_time": "2022-02-19T14:24:58.146Z"
   },
   {
    "duration": 18,
    "start_time": "2022-02-19T14:26:28.153Z"
   },
   {
    "duration": 47,
    "start_time": "2022-02-19T14:26:49.041Z"
   },
   {
    "duration": 30,
    "start_time": "2022-02-19T14:26:52.033Z"
   },
   {
    "duration": 62,
    "start_time": "2022-02-19T14:27:23.241Z"
   },
   {
    "duration": 301,
    "start_time": "2022-02-19T14:29:08.560Z"
   },
   {
    "duration": 5,
    "start_time": "2022-02-19T14:29:18.296Z"
   },
   {
    "duration": 31,
    "start_time": "2022-02-19T14:29:20.928Z"
   },
   {
    "duration": 57,
    "start_time": "2022-02-19T14:29:49.216Z"
   },
   {
    "duration": 69,
    "start_time": "2022-02-19T14:29:51.002Z"
   },
   {
    "duration": 64,
    "start_time": "2022-02-19T14:30:13.193Z"
   },
   {
    "duration": 445,
    "start_time": "2022-02-19T14:30:23.417Z"
   },
   {
    "duration": 63,
    "start_time": "2022-02-19T14:30:28.215Z"
   },
   {
    "duration": 74,
    "start_time": "2022-02-19T14:31:56.616Z"
   },
   {
    "duration": 62,
    "start_time": "2022-02-19T14:31:59.864Z"
   },
   {
    "duration": 3,
    "start_time": "2022-02-19T14:33:26.847Z"
   },
   {
    "duration": 20,
    "start_time": "2022-02-19T14:35:17.253Z"
   },
   {
    "duration": 444,
    "start_time": "2022-02-19T14:38:14.725Z"
   },
   {
    "duration": 345,
    "start_time": "2022-02-19T14:38:27.805Z"
   },
   {
    "duration": 23,
    "start_time": "2022-02-19T14:38:40.166Z"
   },
   {
    "duration": 7,
    "start_time": "2022-02-19T14:38:55.796Z"
   },
   {
    "duration": 22,
    "start_time": "2022-02-19T14:39:01.284Z"
   },
   {
    "duration": 23,
    "start_time": "2022-02-19T14:39:18.220Z"
   },
   {
    "duration": 8,
    "start_time": "2022-02-19T14:40:04.452Z"
   },
   {
    "duration": 12,
    "start_time": "2022-02-19T14:40:07.691Z"
   },
   {
    "duration": 8,
    "start_time": "2022-02-19T14:40:48.675Z"
   },
   {
    "duration": 11,
    "start_time": "2022-02-19T14:40:51.980Z"
   },
   {
    "duration": 7,
    "start_time": "2022-02-19T14:41:06.028Z"
   },
   {
    "duration": 30,
    "start_time": "2022-02-19T14:43:05.820Z"
   },
   {
    "duration": 443,
    "start_time": "2022-02-19T14:44:49.810Z"
   },
   {
    "duration": 7923,
    "start_time": "2022-02-19T14:44:59.835Z"
   },
   {
    "duration": 33,
    "start_time": "2022-02-19T14:47:35.057Z"
   },
   {
    "duration": 8,
    "start_time": "2022-02-19T14:47:45.441Z"
   },
   {
    "duration": 54,
    "start_time": "2022-02-19T14:47:49.785Z"
   },
   {
    "duration": 8090,
    "start_time": "2022-02-19T14:47:51.961Z"
   },
   {
    "duration": 9395,
    "start_time": "2022-02-19T14:48:21.065Z"
   },
   {
    "duration": 479,
    "start_time": "2022-02-19T14:49:56.692Z"
   },
   {
    "duration": 10593,
    "start_time": "2022-02-19T14:50:01.488Z"
   },
   {
    "duration": 102,
    "start_time": "2022-02-19T14:50:31.536Z"
   },
   {
    "duration": 307,
    "start_time": "2022-02-19T14:50:38.383Z"
   },
   {
    "duration": 7,
    "start_time": "2022-02-19T14:53:05.919Z"
   },
   {
    "duration": 1234,
    "start_time": "2022-02-19T14:53:23.119Z"
   },
   {
    "duration": 33,
    "start_time": "2022-02-19T14:53:31.846Z"
   },
   {
    "duration": 7,
    "start_time": "2022-02-19T14:53:53.742Z"
   },
   {
    "duration": 5,
    "start_time": "2022-02-19T14:54:02.959Z"
   },
   {
    "duration": 1283,
    "start_time": "2022-02-19T14:54:10.511Z"
   },
   {
    "duration": 32,
    "start_time": "2022-02-19T14:54:15.319Z"
   },
   {
    "duration": 33,
    "start_time": "2022-02-19T14:54:20.702Z"
   },
   {
    "duration": 1228,
    "start_time": "2022-02-19T14:54:22.553Z"
   },
   {
    "duration": 32,
    "start_time": "2022-02-19T14:54:27.350Z"
   },
   {
    "duration": 1237,
    "start_time": "2022-02-19T14:54:32.319Z"
   },
   {
    "duration": 32,
    "start_time": "2022-02-19T14:54:34.262Z"
   },
   {
    "duration": 315,
    "start_time": "2022-02-19T14:55:37.142Z"
   },
   {
    "duration": 10,
    "start_time": "2022-02-19T14:55:40.837Z"
   },
   {
    "duration": 1629,
    "start_time": "2022-02-19T14:57:02.149Z"
   },
   {
    "duration": 33,
    "start_time": "2022-02-19T14:57:03.780Z"
   },
   {
    "duration": 721,
    "start_time": "2022-02-19T14:57:09.093Z"
   },
   {
    "duration": 36,
    "start_time": "2022-02-19T14:57:10.558Z"
   },
   {
    "duration": 11,
    "start_time": "2022-02-19T14:57:13.373Z"
   },
   {
    "duration": 21,
    "start_time": "2022-02-19T14:57:26.357Z"
   },
   {
    "duration": 7,
    "start_time": "2022-02-19T14:57:38.197Z"
   },
   {
    "duration": 13,
    "start_time": "2022-02-19T14:58:09.149Z"
   },
   {
    "duration": 6,
    "start_time": "2022-02-19T14:58:18.236Z"
   },
   {
    "duration": 6,
    "start_time": "2022-02-19T14:58:43.996Z"
   },
   {
    "duration": 7,
    "start_time": "2022-02-19T14:58:54.676Z"
   },
   {
    "duration": 7,
    "start_time": "2022-02-19T14:58:55.548Z"
   },
   {
    "duration": 38,
    "start_time": "2022-02-19T14:58:56.236Z"
   },
   {
    "duration": 967,
    "start_time": "2022-02-19T14:58:56.884Z"
   },
   {
    "duration": 39,
    "start_time": "2022-02-19T14:58:57.855Z"
   },
   {
    "duration": 11,
    "start_time": "2022-02-19T14:58:58.020Z"
   },
   {
    "duration": 6,
    "start_time": "2022-02-19T14:58:58.796Z"
   },
   {
    "duration": 6,
    "start_time": "2022-02-19T14:58:59.252Z"
   },
   {
    "duration": 5,
    "start_time": "2022-02-19T14:59:07.320Z"
   },
   {
    "duration": 268,
    "start_time": "2022-02-19T14:59:07.327Z"
   },
   {
    "duration": 307,
    "start_time": "2022-02-19T14:59:07.599Z"
   },
   {
    "duration": 208,
    "start_time": "2022-02-19T14:59:07.910Z"
   },
   {
    "duration": 29,
    "start_time": "2022-02-19T14:59:08.121Z"
   },
   {
    "duration": 42,
    "start_time": "2022-02-19T14:59:08.153Z"
   },
   {
    "duration": 51,
    "start_time": "2022-02-19T14:59:08.197Z"
   },
   {
    "duration": 22,
    "start_time": "2022-02-19T14:59:08.252Z"
   },
   {
    "duration": 20,
    "start_time": "2022-02-19T14:59:08.277Z"
   },
   {
    "duration": 7,
    "start_time": "2022-02-19T14:59:08.299Z"
   },
   {
    "duration": 8,
    "start_time": "2022-02-19T14:59:08.348Z"
   },
   {
    "duration": 153,
    "start_time": "2022-02-19T14:59:08.359Z"
   },
   {
    "duration": 118,
    "start_time": "2022-02-19T14:59:08.514Z"
   },
   {
    "duration": 61,
    "start_time": "2022-02-19T14:59:08.634Z"
   },
   {
    "duration": 10,
    "start_time": "2022-02-19T14:59:08.697Z"
   },
   {
    "duration": 38,
    "start_time": "2022-02-19T14:59:08.710Z"
   },
   {
    "duration": 262,
    "start_time": "2022-02-19T14:59:08.751Z"
   },
   {
    "duration": 83,
    "start_time": "2022-02-19T14:59:09.015Z"
   },
   {
    "duration": 60,
    "start_time": "2022-02-19T14:59:09.102Z"
   },
   {
    "duration": 45,
    "start_time": "2022-02-19T14:59:09.164Z"
   },
   {
    "duration": 89,
    "start_time": "2022-02-19T14:59:09.212Z"
   },
   {
    "duration": 82,
    "start_time": "2022-02-19T14:59:09.304Z"
   },
   {
    "duration": 70,
    "start_time": "2022-02-19T14:59:09.390Z"
   },
   {
    "duration": 68,
    "start_time": "2022-02-19T14:59:09.462Z"
   },
   {
    "duration": 40,
    "start_time": "2022-02-19T14:59:09.532Z"
   },
   {
    "duration": 7,
    "start_time": "2022-02-19T14:59:20.828Z"
   },
   {
    "duration": 7,
    "start_time": "2022-02-19T14:59:21.445Z"
   },
   {
    "duration": 34,
    "start_time": "2022-02-19T14:59:22.516Z"
   },
   {
    "duration": 681,
    "start_time": "2022-02-19T14:59:23.588Z"
   },
   {
    "duration": 34,
    "start_time": "2022-02-19T14:59:24.532Z"
   },
   {
    "duration": 14,
    "start_time": "2022-02-19T14:59:26.540Z"
   },
   {
    "duration": 5,
    "start_time": "2022-02-19T14:59:27.316Z"
   },
   {
    "duration": 6,
    "start_time": "2022-02-19T14:59:27.739Z"
   },
   {
    "duration": 16,
    "start_time": "2022-02-19T14:59:40.820Z"
   },
   {
    "duration": 17,
    "start_time": "2022-02-19T14:59:53.052Z"
   },
   {
    "duration": 8,
    "start_time": "2022-02-19T15:00:11.188Z"
   },
   {
    "duration": 8,
    "start_time": "2022-02-19T15:00:13.947Z"
   },
   {
    "duration": 415,
    "start_time": "2022-02-19T15:00:44.452Z"
   },
   {
    "duration": 325,
    "start_time": "2022-02-19T15:00:58.372Z"
   },
   {
    "duration": 4,
    "start_time": "2022-02-19T15:01:11.541Z"
   },
   {
    "duration": 243,
    "start_time": "2022-02-19T15:01:11.548Z"
   },
   {
    "duration": 219,
    "start_time": "2022-02-19T15:01:11.794Z"
   },
   {
    "duration": 146,
    "start_time": "2022-02-19T15:01:12.016Z"
   },
   {
    "duration": 22,
    "start_time": "2022-02-19T15:01:12.165Z"
   },
   {
    "duration": 44,
    "start_time": "2022-02-19T15:01:12.190Z"
   },
   {
    "duration": 38,
    "start_time": "2022-02-19T15:01:12.236Z"
   },
   {
    "duration": 23,
    "start_time": "2022-02-19T15:01:12.279Z"
   },
   {
    "duration": 56,
    "start_time": "2022-02-19T15:01:12.306Z"
   },
   {
    "duration": 8,
    "start_time": "2022-02-19T15:01:12.366Z"
   },
   {
    "duration": 11,
    "start_time": "2022-02-19T15:01:12.377Z"
   },
   {
    "duration": 163,
    "start_time": "2022-02-19T15:01:12.390Z"
   },
   {
    "duration": 119,
    "start_time": "2022-02-19T15:01:12.556Z"
   },
   {
    "duration": 71,
    "start_time": "2022-02-19T15:01:12.677Z"
   },
   {
    "duration": 10,
    "start_time": "2022-02-19T15:01:12.750Z"
   },
   {
    "duration": 28,
    "start_time": "2022-02-19T15:01:12.762Z"
   },
   {
    "duration": 396,
    "start_time": "2022-02-19T15:01:12.793Z"
   },
   {
    "duration": 110,
    "start_time": "2022-02-19T15:01:13.192Z"
   },
   {
    "duration": 79,
    "start_time": "2022-02-19T15:01:13.305Z"
   },
   {
    "duration": 74,
    "start_time": "2022-02-19T15:01:13.387Z"
   },
   {
    "duration": 101,
    "start_time": "2022-02-19T15:01:13.465Z"
   },
   {
    "duration": 62,
    "start_time": "2022-02-19T15:01:13.569Z"
   },
   {
    "duration": 61,
    "start_time": "2022-02-19T15:01:13.652Z"
   },
   {
    "duration": 92,
    "start_time": "2022-02-19T15:01:13.716Z"
   },
   {
    "duration": 19,
    "start_time": "2022-02-19T15:01:13.811Z"
   },
   {
    "duration": 308,
    "start_time": "2022-02-19T15:01:27.316Z"
   },
   {
    "duration": 318,
    "start_time": "2022-02-19T15:01:36.755Z"
   },
   {
    "duration": 8,
    "start_time": "2022-02-19T15:01:39.580Z"
   },
   {
    "duration": 8,
    "start_time": "2022-02-19T15:01:44.218Z"
   },
   {
    "duration": 8,
    "start_time": "2022-02-19T15:02:23.315Z"
   },
   {
    "duration": 13,
    "start_time": "2022-02-19T15:02:25.978Z"
   },
   {
    "duration": 17,
    "start_time": "2022-02-19T15:02:42.491Z"
   },
   {
    "duration": 17,
    "start_time": "2022-02-19T15:02:47.851Z"
   },
   {
    "duration": 7,
    "start_time": "2022-02-19T15:03:20.226Z"
   },
   {
    "duration": 7,
    "start_time": "2022-02-19T15:03:52.282Z"
   },
   {
    "duration": 22,
    "start_time": "2022-02-19T15:03:55.362Z"
   },
   {
    "duration": 21,
    "start_time": "2022-02-19T15:04:29.235Z"
   },
   {
    "duration": 94,
    "start_time": "2022-02-19T15:05:27.730Z"
   },
   {
    "duration": 14,
    "start_time": "2022-02-19T15:05:31.593Z"
   },
   {
    "duration": 15,
    "start_time": "2022-02-19T15:05:39.017Z"
   },
   {
    "duration": 8582,
    "start_time": "2022-02-19T15:05:55.113Z"
   },
   {
    "duration": 9,
    "start_time": "2022-02-19T15:06:23.009Z"
   },
   {
    "duration": 21,
    "start_time": "2022-02-19T15:06:32.682Z"
   },
   {
    "duration": 14,
    "start_time": "2022-02-19T15:06:40.306Z"
   },
   {
    "duration": 23,
    "start_time": "2022-02-19T15:07:03.441Z"
   },
   {
    "duration": 14,
    "start_time": "2022-02-19T15:07:27.226Z"
   },
   {
    "duration": 144,
    "start_time": "2022-02-19T15:07:59.282Z"
   },
   {
    "duration": 17,
    "start_time": "2022-02-19T15:08:04.377Z"
   },
   {
    "duration": 7,
    "start_time": "2022-02-19T15:08:10.220Z"
   },
   {
    "duration": 6,
    "start_time": "2022-02-19T15:08:12.480Z"
   },
   {
    "duration": 1092,
    "start_time": "2022-02-19T15:08:16.836Z"
   },
   {
    "duration": 37,
    "start_time": "2022-02-19T15:08:17.931Z"
   },
   {
    "duration": 4,
    "start_time": "2022-02-19T15:09:08.162Z"
   },
   {
    "duration": 252,
    "start_time": "2022-02-19T15:09:08.169Z"
   },
   {
    "duration": 233,
    "start_time": "2022-02-19T15:09:08.424Z"
   },
   {
    "duration": 156,
    "start_time": "2022-02-19T15:09:08.660Z"
   },
   {
    "duration": 29,
    "start_time": "2022-02-19T15:09:08.819Z"
   },
   {
    "duration": 42,
    "start_time": "2022-02-19T15:09:08.851Z"
   },
   {
    "duration": 28,
    "start_time": "2022-02-19T15:09:08.896Z"
   },
   {
    "duration": 40,
    "start_time": "2022-02-19T15:09:08.929Z"
   },
   {
    "duration": 20,
    "start_time": "2022-02-19T15:09:08.972Z"
   },
   {
    "duration": 10,
    "start_time": "2022-02-19T15:09:08.995Z"
   },
   {
    "duration": 48,
    "start_time": "2022-02-19T15:09:09.008Z"
   },
   {
    "duration": 145,
    "start_time": "2022-02-19T15:09:09.059Z"
   },
   {
    "duration": 117,
    "start_time": "2022-02-19T15:09:09.206Z"
   },
   {
    "duration": 68,
    "start_time": "2022-02-19T15:09:09.326Z"
   },
   {
    "duration": 9,
    "start_time": "2022-02-19T15:09:09.397Z"
   },
   {
    "duration": 14,
    "start_time": "2022-02-19T15:09:09.409Z"
   },
   {
    "duration": 437,
    "start_time": "2022-02-19T15:09:09.450Z"
   },
   {
    "duration": 111,
    "start_time": "2022-02-19T15:09:09.890Z"
   },
   {
    "duration": 75,
    "start_time": "2022-02-19T15:09:10.004Z"
   },
   {
    "duration": 43,
    "start_time": "2022-02-19T15:09:10.081Z"
   },
   {
    "duration": 80,
    "start_time": "2022-02-19T15:09:10.127Z"
   },
   {
    "duration": 97,
    "start_time": "2022-02-19T15:09:10.210Z"
   },
   {
    "duration": 76,
    "start_time": "2022-02-19T15:09:10.314Z"
   },
   {
    "duration": 77,
    "start_time": "2022-02-19T15:09:10.392Z"
   },
   {
    "duration": 19,
    "start_time": "2022-02-19T15:09:10.472Z"
   },
   {
    "duration": 7,
    "start_time": "2022-02-19T15:09:10.494Z"
   },
   {
    "duration": 6,
    "start_time": "2022-02-19T15:09:11.923Z"
   },
   {
    "duration": 6,
    "start_time": "2022-02-19T15:09:12.304Z"
   },
   {
    "duration": 34,
    "start_time": "2022-02-19T15:09:13.704Z"
   },
   {
    "duration": 999,
    "start_time": "2022-02-19T15:09:16.392Z"
   },
   {
    "duration": 37,
    "start_time": "2022-02-19T15:09:17.394Z"
   },
   {
    "duration": 11,
    "start_time": "2022-02-19T15:09:20.512Z"
   },
   {
    "duration": 995,
    "start_time": "2022-02-19T15:09:30.800Z"
   },
   {
    "duration": 33,
    "start_time": "2022-02-19T15:09:31.798Z"
   },
   {
    "duration": 11,
    "start_time": "2022-02-19T15:10:06.288Z"
   },
   {
    "duration": 15,
    "start_time": "2022-02-19T15:10:12.095Z"
   },
   {
    "duration": 15,
    "start_time": "2022-02-19T15:10:34.512Z"
   },
   {
    "duration": 1053,
    "start_time": "2022-02-19T15:11:08.480Z"
   },
   {
    "duration": 35,
    "start_time": "2022-02-19T15:11:12.671Z"
   },
   {
    "duration": 1044,
    "start_time": "2022-02-19T15:11:19.679Z"
   },
   {
    "duration": 41,
    "start_time": "2022-02-19T15:11:20.726Z"
   },
   {
    "duration": 10,
    "start_time": "2022-02-19T15:11:24.055Z"
   },
   {
    "duration": 5,
    "start_time": "2022-02-19T15:12:09.016Z"
   },
   {
    "duration": 281,
    "start_time": "2022-02-19T15:12:09.023Z"
   },
   {
    "duration": 225,
    "start_time": "2022-02-19T15:12:09.307Z"
   },
   {
    "duration": 150,
    "start_time": "2022-02-19T15:12:09.535Z"
   },
   {
    "duration": 21,
    "start_time": "2022-02-19T15:12:09.687Z"
   },
   {
    "duration": 51,
    "start_time": "2022-02-19T15:12:09.710Z"
   },
   {
    "duration": 29,
    "start_time": "2022-02-19T15:12:09.764Z"
   },
   {
    "duration": 56,
    "start_time": "2022-02-19T15:12:09.798Z"
   },
   {
    "duration": 21,
    "start_time": "2022-02-19T15:12:09.858Z"
   },
   {
    "duration": 9,
    "start_time": "2022-02-19T15:12:09.882Z"
   },
   {
    "duration": 14,
    "start_time": "2022-02-19T15:12:09.894Z"
   },
   {
    "duration": 155,
    "start_time": "2022-02-19T15:12:09.911Z"
   },
   {
    "duration": 104,
    "start_time": "2022-02-19T15:12:10.068Z"
   },
   {
    "duration": 73,
    "start_time": "2022-02-19T15:12:10.175Z"
   },
   {
    "duration": 9,
    "start_time": "2022-02-19T15:12:10.251Z"
   },
   {
    "duration": 10,
    "start_time": "2022-02-19T15:12:10.262Z"
   },
   {
    "duration": 273,
    "start_time": "2022-02-19T15:12:10.275Z"
   },
   {
    "duration": 70,
    "start_time": "2022-02-19T15:12:10.551Z"
   },
   {
    "duration": 70,
    "start_time": "2022-02-19T15:12:10.623Z"
   },
   {
    "duration": 77,
    "start_time": "2022-02-19T15:12:10.695Z"
   },
   {
    "duration": 92,
    "start_time": "2022-02-19T15:12:10.775Z"
   },
   {
    "duration": 60,
    "start_time": "2022-02-19T15:12:10.869Z"
   },
   {
    "duration": 59,
    "start_time": "2022-02-19T15:12:10.950Z"
   },
   {
    "duration": 89,
    "start_time": "2022-02-19T15:12:11.012Z"
   },
   {
    "duration": 20,
    "start_time": "2022-02-19T15:12:11.103Z"
   },
   {
    "duration": 13,
    "start_time": "2022-02-19T15:12:11.149Z"
   },
   {
    "duration": 20,
    "start_time": "2022-02-19T15:12:11.164Z"
   },
   {
    "duration": 64,
    "start_time": "2022-02-19T15:12:11.186Z"
   },
   {
    "duration": 14,
    "start_time": "2022-02-19T15:12:11.252Z"
   },
   {
    "duration": 1233,
    "start_time": "2022-02-19T15:12:14.439Z"
   },
   {
    "duration": 35,
    "start_time": "2022-02-19T15:12:16.574Z"
   },
   {
    "duration": 12,
    "start_time": "2022-02-19T15:12:24.334Z"
   },
   {
    "duration": 1453,
    "start_time": "2022-02-19T15:12:32.022Z"
   },
   {
    "duration": 35,
    "start_time": "2022-02-19T15:12:33.477Z"
   },
   {
    "duration": 609,
    "start_time": "2022-02-19T15:12:52.693Z"
   },
   {
    "duration": 913,
    "start_time": "2022-02-19T15:12:57.124Z"
   },
   {
    "duration": 257,
    "start_time": "2022-02-19T15:12:58.039Z"
   },
   {
    "duration": 224,
    "start_time": "2022-02-19T15:12:58.299Z"
   },
   {
    "duration": 158,
    "start_time": "2022-02-19T15:12:58.526Z"
   },
   {
    "duration": 22,
    "start_time": "2022-02-19T15:12:58.687Z"
   },
   {
    "duration": 54,
    "start_time": "2022-02-19T15:12:58.711Z"
   },
   {
    "duration": 29,
    "start_time": "2022-02-19T15:12:58.768Z"
   },
   {
    "duration": 50,
    "start_time": "2022-02-19T15:12:58.802Z"
   },
   {
    "duration": 30,
    "start_time": "2022-02-19T15:12:58.856Z"
   },
   {
    "duration": 7,
    "start_time": "2022-02-19T15:12:58.889Z"
   },
   {
    "duration": 49,
    "start_time": "2022-02-19T15:12:58.899Z"
   },
   {
    "duration": 157,
    "start_time": "2022-02-19T15:12:58.950Z"
   },
   {
    "duration": 120,
    "start_time": "2022-02-19T15:12:59.110Z"
   },
   {
    "duration": 70,
    "start_time": "2022-02-19T15:12:59.233Z"
   },
   {
    "duration": 10,
    "start_time": "2022-02-19T15:12:59.306Z"
   },
   {
    "duration": 31,
    "start_time": "2022-02-19T15:12:59.319Z"
   },
   {
    "duration": 264,
    "start_time": "2022-02-19T15:12:59.353Z"
   },
   {
    "duration": 81,
    "start_time": "2022-02-19T15:12:59.620Z"
   },
   {
    "duration": 59,
    "start_time": "2022-02-19T15:12:59.703Z"
   },
   {
    "duration": 46,
    "start_time": "2022-02-19T15:12:59.766Z"
   },
   {
    "duration": 101,
    "start_time": "2022-02-19T15:12:59.815Z"
   },
   {
    "duration": 84,
    "start_time": "2022-02-19T15:12:59.919Z"
   },
   {
    "duration": 80,
    "start_time": "2022-02-19T15:13:00.008Z"
   },
   {
    "duration": 84,
    "start_time": "2022-02-19T15:13:00.090Z"
   },
   {
    "duration": 21,
    "start_time": "2022-02-19T15:13:00.177Z"
   },
   {
    "duration": 44,
    "start_time": "2022-02-19T15:13:00.201Z"
   },
   {
    "duration": 34,
    "start_time": "2022-02-19T15:13:00.249Z"
   },
   {
    "duration": 50,
    "start_time": "2022-02-19T15:13:00.286Z"
   },
   {
    "duration": 29,
    "start_time": "2022-02-19T15:13:00.339Z"
   },
   {
    "duration": 1742,
    "start_time": "2022-02-19T15:13:03.490Z"
   },
   {
    "duration": 45,
    "start_time": "2022-02-19T15:13:07.059Z"
   },
   {
    "duration": 954,
    "start_time": "2022-02-19T15:13:23.442Z"
   },
   {
    "duration": 46,
    "start_time": "2022-02-19T15:13:26.266Z"
   },
   {
    "duration": 1513,
    "start_time": "2022-02-19T15:14:53.409Z"
   },
   {
    "duration": 36,
    "start_time": "2022-02-19T15:14:56.361Z"
   },
   {
    "duration": 8,
    "start_time": "2022-02-19T15:15:26.666Z"
   },
   {
    "duration": 8,
    "start_time": "2022-02-19T15:15:32.834Z"
   },
   {
    "duration": 36,
    "start_time": "2022-02-19T15:15:49.121Z"
   },
   {
    "duration": 4,
    "start_time": "2022-02-19T15:15:53.837Z"
   },
   {
    "duration": 306,
    "start_time": "2022-02-19T15:15:53.844Z"
   },
   {
    "duration": 276,
    "start_time": "2022-02-19T15:15:54.154Z"
   },
   {
    "duration": 185,
    "start_time": "2022-02-19T15:15:54.434Z"
   },
   {
    "duration": 31,
    "start_time": "2022-02-19T15:15:54.622Z"
   },
   {
    "duration": 50,
    "start_time": "2022-02-19T15:15:54.656Z"
   },
   {
    "duration": 57,
    "start_time": "2022-02-19T15:15:54.709Z"
   },
   {
    "duration": 34,
    "start_time": "2022-02-19T15:15:54.770Z"
   },
   {
    "duration": 51,
    "start_time": "2022-02-19T15:15:54.810Z"
   },
   {
    "duration": 13,
    "start_time": "2022-02-19T15:15:54.865Z"
   },
   {
    "duration": 17,
    "start_time": "2022-02-19T15:15:54.881Z"
   },
   {
    "duration": 170,
    "start_time": "2022-02-19T15:15:54.901Z"
   },
   {
    "duration": 143,
    "start_time": "2022-02-19T15:15:55.074Z"
   },
   {
    "duration": 75,
    "start_time": "2022-02-19T15:15:55.221Z"
   },
   {
    "duration": 10,
    "start_time": "2022-02-19T15:15:55.299Z"
   },
   {
    "duration": 38,
    "start_time": "2022-02-19T15:15:55.312Z"
   },
   {
    "duration": 408,
    "start_time": "2022-02-19T15:15:55.353Z"
   },
   {
    "duration": 90,
    "start_time": "2022-02-19T15:15:55.764Z"
   },
   {
    "duration": 59,
    "start_time": "2022-02-19T15:15:55.857Z"
   },
   {
    "duration": 60,
    "start_time": "2022-02-19T15:15:55.919Z"
   },
   {
    "duration": 81,
    "start_time": "2022-02-19T15:15:55.981Z"
   },
   {
    "duration": 62,
    "start_time": "2022-02-19T15:15:56.066Z"
   },
   {
    "duration": 58,
    "start_time": "2022-02-19T15:15:56.149Z"
   },
   {
    "duration": 93,
    "start_time": "2022-02-19T15:15:56.210Z"
   },
   {
    "duration": 19,
    "start_time": "2022-02-19T15:15:56.306Z"
   },
   {
    "duration": 24,
    "start_time": "2022-02-19T15:15:56.328Z"
   },
   {
    "duration": 8,
    "start_time": "2022-02-19T15:15:57.850Z"
   },
   {
    "duration": 9,
    "start_time": "2022-02-19T15:15:58.656Z"
   },
   {
    "duration": 8200,
    "start_time": "2022-02-19T15:15:59.473Z"
   },
   {
    "duration": 39,
    "start_time": "2022-02-19T15:16:17.609Z"
   },
   {
    "duration": 15,
    "start_time": "2022-02-19T15:16:21.145Z"
   },
   {
    "duration": 1441,
    "start_time": "2022-02-19T15:16:24.553Z"
   },
   {
    "duration": 43,
    "start_time": "2022-02-19T15:16:29.649Z"
   },
   {
    "duration": 1000,
    "start_time": "2022-02-19T15:18:09.896Z"
   },
   {
    "duration": 36,
    "start_time": "2022-02-19T15:18:32.512Z"
   },
   {
    "duration": 11,
    "start_time": "2022-02-19T15:18:39.456Z"
   },
   {
    "duration": 6,
    "start_time": "2022-02-19T15:18:46.304Z"
   },
   {
    "duration": 7,
    "start_time": "2022-02-19T15:18:46.760Z"
   },
   {
    "duration": 4,
    "start_time": "2022-02-19T15:19:09.450Z"
   },
   {
    "duration": 269,
    "start_time": "2022-02-19T15:19:09.457Z"
   },
   {
    "duration": 321,
    "start_time": "2022-02-19T15:19:09.730Z"
   },
   {
    "duration": 151,
    "start_time": "2022-02-19T15:19:10.055Z"
   },
   {
    "duration": 23,
    "start_time": "2022-02-19T15:19:10.208Z"
   },
   {
    "duration": 64,
    "start_time": "2022-02-19T15:19:10.233Z"
   },
   {
    "duration": 40,
    "start_time": "2022-02-19T15:19:10.299Z"
   },
   {
    "duration": 25,
    "start_time": "2022-02-19T15:19:10.343Z"
   },
   {
    "duration": 41,
    "start_time": "2022-02-19T15:19:10.372Z"
   },
   {
    "duration": 40,
    "start_time": "2022-02-19T15:19:10.416Z"
   },
   {
    "duration": 43,
    "start_time": "2022-02-19T15:19:10.459Z"
   },
   {
    "duration": 121,
    "start_time": "2022-02-19T15:19:10.505Z"
   },
   {
    "duration": 109,
    "start_time": "2022-02-19T15:19:10.629Z"
   },
   {
    "duration": 61,
    "start_time": "2022-02-19T15:19:10.740Z"
   },
   {
    "duration": 21,
    "start_time": "2022-02-19T15:19:10.803Z"
   },
   {
    "duration": 30,
    "start_time": "2022-02-19T15:19:10.827Z"
   },
   {
    "duration": 257,
    "start_time": "2022-02-19T15:19:10.860Z"
   },
   {
    "duration": 79,
    "start_time": "2022-02-19T15:19:11.120Z"
   },
   {
    "duration": 68,
    "start_time": "2022-02-19T15:19:11.201Z"
   },
   {
    "duration": 42,
    "start_time": "2022-02-19T15:19:11.271Z"
   },
   {
    "duration": 89,
    "start_time": "2022-02-19T15:19:11.316Z"
   },
   {
    "duration": 70,
    "start_time": "2022-02-19T15:19:11.409Z"
   },
   {
    "duration": 77,
    "start_time": "2022-02-19T15:19:11.484Z"
   },
   {
    "duration": 65,
    "start_time": "2022-02-19T15:19:11.563Z"
   },
   {
    "duration": 35,
    "start_time": "2022-02-19T15:19:11.631Z"
   },
   {
    "duration": 20,
    "start_time": "2022-02-19T15:19:19.984Z"
   },
   {
    "duration": 13,
    "start_time": "2022-02-19T15:19:33.808Z"
   },
   {
    "duration": 7,
    "start_time": "2022-02-19T15:19:48.216Z"
   },
   {
    "duration": 8,
    "start_time": "2022-02-19T15:19:49.088Z"
   },
   {
    "duration": 36,
    "start_time": "2022-02-19T15:19:50.616Z"
   },
   {
    "duration": 15,
    "start_time": "2022-02-19T15:19:53.695Z"
   },
   {
    "duration": 993,
    "start_time": "2022-02-19T15:19:57.263Z"
   },
   {
    "duration": 34,
    "start_time": "2022-02-19T15:19:59.375Z"
   },
   {
    "duration": 33,
    "start_time": "2022-02-19T15:20:15.888Z"
   },
   {
    "duration": 14,
    "start_time": "2022-02-19T15:20:17.935Z"
   },
   {
    "duration": 1005,
    "start_time": "2022-02-19T15:20:18.871Z"
   },
   {
    "duration": 38,
    "start_time": "2022-02-19T15:20:19.879Z"
   },
   {
    "duration": 1330,
    "start_time": "2022-02-19T15:22:12.166Z"
   },
   {
    "duration": 31,
    "start_time": "2022-02-19T15:22:20.215Z"
   },
   {
    "duration": 840,
    "start_time": "2022-02-19T15:22:34.462Z"
   },
   {
    "duration": 34,
    "start_time": "2022-02-19T15:22:36.438Z"
   },
   {
    "duration": 830,
    "start_time": "2022-02-19T15:22:44.295Z"
   },
   {
    "duration": 33,
    "start_time": "2022-02-19T15:22:46.078Z"
   },
   {
    "duration": 14,
    "start_time": "2022-02-19T15:22:52.046Z"
   },
   {
    "duration": 5,
    "start_time": "2022-02-19T15:23:21.817Z"
   },
   {
    "duration": 359,
    "start_time": "2022-02-19T15:23:21.825Z"
   },
   {
    "duration": 311,
    "start_time": "2022-02-19T15:23:22.188Z"
   },
   {
    "duration": 169,
    "start_time": "2022-02-19T15:23:22.503Z"
   },
   {
    "duration": 24,
    "start_time": "2022-02-19T15:23:22.675Z"
   },
   {
    "duration": 53,
    "start_time": "2022-02-19T15:23:22.702Z"
   },
   {
    "duration": 26,
    "start_time": "2022-02-19T15:23:22.759Z"
   },
   {
    "duration": 22,
    "start_time": "2022-02-19T15:23:22.788Z"
   },
   {
    "duration": 55,
    "start_time": "2022-02-19T15:23:22.815Z"
   },
   {
    "duration": 11,
    "start_time": "2022-02-19T15:23:22.875Z"
   },
   {
    "duration": 10,
    "start_time": "2022-02-19T15:23:22.889Z"
   },
   {
    "duration": 158,
    "start_time": "2022-02-19T15:23:22.902Z"
   },
   {
    "duration": 109,
    "start_time": "2022-02-19T15:23:23.063Z"
   },
   {
    "duration": 74,
    "start_time": "2022-02-19T15:23:23.175Z"
   },
   {
    "duration": 10,
    "start_time": "2022-02-19T15:23:23.251Z"
   },
   {
    "duration": 17,
    "start_time": "2022-02-19T15:23:23.263Z"
   },
   {
    "duration": 269,
    "start_time": "2022-02-19T15:23:23.283Z"
   },
   {
    "duration": 69,
    "start_time": "2022-02-19T15:23:23.555Z"
   },
   {
    "duration": 62,
    "start_time": "2022-02-19T15:23:23.627Z"
   },
   {
    "duration": 60,
    "start_time": "2022-02-19T15:23:23.692Z"
   },
   {
    "duration": 67,
    "start_time": "2022-02-19T15:23:23.755Z"
   },
   {
    "duration": 82,
    "start_time": "2022-02-19T15:23:23.824Z"
   },
   {
    "duration": 81,
    "start_time": "2022-02-19T15:23:23.909Z"
   },
   {
    "duration": 84,
    "start_time": "2022-02-19T15:23:23.994Z"
   },
   {
    "duration": 22,
    "start_time": "2022-02-19T15:23:24.081Z"
   },
   {
    "duration": 11,
    "start_time": "2022-02-19T15:23:24.105Z"
   },
   {
    "duration": 8,
    "start_time": "2022-02-19T15:23:24.150Z"
   },
   {
    "duration": 13,
    "start_time": "2022-02-19T15:23:24.160Z"
   },
   {
    "duration": 23,
    "start_time": "2022-02-19T15:23:24.175Z"
   },
   {
    "duration": 763,
    "start_time": "2022-02-19T15:23:24.201Z"
   },
   {
    "duration": 34,
    "start_time": "2022-02-19T15:23:24.967Z"
   },
   {
    "duration": 10,
    "start_time": "2022-02-19T15:23:25.004Z"
   },
   {
    "duration": 36,
    "start_time": "2022-02-19T15:23:25.017Z"
   },
   {
    "duration": 7,
    "start_time": "2022-02-19T15:23:25.056Z"
   },
   {
    "duration": 1241,
    "start_time": "2022-02-19T15:31:27.226Z"
   },
   {
    "duration": 4,
    "start_time": "2022-02-19T15:31:58.635Z"
   },
   {
    "duration": 6,
    "start_time": "2022-02-19T15:32:01.874Z"
   },
   {
    "duration": 31,
    "start_time": "2022-02-19T15:32:06.122Z"
   },
   {
    "duration": 32,
    "start_time": "2022-02-19T15:32:25.755Z"
   },
   {
    "duration": 30,
    "start_time": "2022-02-19T15:35:26.449Z"
   },
   {
    "duration": 42,
    "start_time": "2022-02-19T15:35:48.737Z"
   },
   {
    "duration": 56,
    "start_time": "2022-02-19T15:46:32.684Z"
   },
   {
    "duration": 1552,
    "start_time": "2022-02-19T15:47:02.628Z"
   },
   {
    "duration": 58,
    "start_time": "2022-02-19T15:47:09.180Z"
   },
   {
    "duration": 50,
    "start_time": "2022-02-19T15:47:20.628Z"
   },
   {
    "duration": 5,
    "start_time": "2022-02-19T15:47:44.740Z"
   },
   {
    "duration": 7,
    "start_time": "2022-02-19T15:47:47.524Z"
   },
   {
    "duration": 68,
    "start_time": "2022-02-19T15:48:06.604Z"
   },
   {
    "duration": 60,
    "start_time": "2022-02-19T15:48:11.859Z"
   },
   {
    "duration": 54,
    "start_time": "2022-02-19T15:48:15.139Z"
   },
   {
    "duration": 46,
    "start_time": "2022-02-19T15:48:48.459Z"
   },
   {
    "duration": 413,
    "start_time": "2022-02-19T15:49:11.067Z"
   },
   {
    "duration": 50,
    "start_time": "2022-02-19T15:49:18.306Z"
   },
   {
    "duration": 47,
    "start_time": "2022-02-19T15:49:31.867Z"
   },
   {
    "duration": 54,
    "start_time": "2022-02-19T15:50:46.483Z"
   },
   {
    "duration": 4,
    "start_time": "2022-02-19T15:51:28.452Z"
   },
   {
    "duration": 250,
    "start_time": "2022-02-19T15:51:28.459Z"
   },
   {
    "duration": 217,
    "start_time": "2022-02-19T15:51:28.712Z"
   },
   {
    "duration": 148,
    "start_time": "2022-02-19T15:51:28.932Z"
   },
   {
    "duration": 21,
    "start_time": "2022-02-19T15:51:29.083Z"
   },
   {
    "duration": 54,
    "start_time": "2022-02-19T15:51:29.108Z"
   },
   {
    "duration": 28,
    "start_time": "2022-02-19T15:51:29.165Z"
   },
   {
    "duration": 53,
    "start_time": "2022-02-19T15:51:29.196Z"
   },
   {
    "duration": 19,
    "start_time": "2022-02-19T15:51:29.254Z"
   },
   {
    "duration": 8,
    "start_time": "2022-02-19T15:51:29.277Z"
   },
   {
    "duration": 13,
    "start_time": "2022-02-19T15:51:29.288Z"
   },
   {
    "duration": 153,
    "start_time": "2022-02-19T15:51:29.304Z"
   },
   {
    "duration": 114,
    "start_time": "2022-02-19T15:51:29.460Z"
   },
   {
    "duration": 72,
    "start_time": "2022-02-19T15:51:29.578Z"
   },
   {
    "duration": 9,
    "start_time": "2022-02-19T15:51:29.653Z"
   },
   {
    "duration": 11,
    "start_time": "2022-02-19T15:51:29.664Z"
   },
   {
    "duration": 273,
    "start_time": "2022-02-19T15:51:29.678Z"
   },
   {
    "duration": 68,
    "start_time": "2022-02-19T15:51:29.954Z"
   },
   {
    "duration": 69,
    "start_time": "2022-02-19T15:51:30.024Z"
   },
   {
    "duration": 62,
    "start_time": "2022-02-19T15:51:30.096Z"
   },
   {
    "duration": 67,
    "start_time": "2022-02-19T15:51:30.161Z"
   },
   {
    "duration": 57,
    "start_time": "2022-02-19T15:51:30.247Z"
   },
   {
    "duration": 82,
    "start_time": "2022-02-19T15:51:30.307Z"
   },
   {
    "duration": 89,
    "start_time": "2022-02-19T15:51:30.392Z"
   },
   {
    "duration": 6,
    "start_time": "2022-02-19T15:51:33.722Z"
   },
   {
    "duration": 559,
    "start_time": "2022-02-19T15:51:34.082Z"
   },
   {
    "duration": 7,
    "start_time": "2022-02-19T15:51:38.425Z"
   },
   {
    "duration": 7,
    "start_time": "2022-02-19T15:51:38.881Z"
   },
   {
    "duration": 4,
    "start_time": "2022-02-19T15:51:39.233Z"
   },
   {
    "duration": 481,
    "start_time": "2022-02-19T15:51:39.593Z"
   },
   {
    "duration": 17,
    "start_time": "2022-02-19T15:51:40.077Z"
   },
   {
    "duration": 5,
    "start_time": "2022-02-19T15:51:40.336Z"
   },
   {
    "duration": 7,
    "start_time": "2022-02-19T15:51:40.761Z"
   },
   {
    "duration": 49,
    "start_time": "2022-02-19T15:51:41.410Z"
   },
   {
    "duration": 377,
    "start_time": "2022-02-19T15:58:19.127Z"
   },
   {
    "duration": 958,
    "start_time": "2022-02-19T15:58:23.912Z"
   },
   {
    "duration": 264,
    "start_time": "2022-02-19T15:58:24.873Z"
   },
   {
    "duration": 216,
    "start_time": "2022-02-19T15:58:25.148Z"
   },
   {
    "duration": 152,
    "start_time": "2022-02-19T15:58:25.368Z"
   },
   {
    "duration": 28,
    "start_time": "2022-02-19T15:58:25.523Z"
   },
   {
    "duration": 60,
    "start_time": "2022-02-19T15:58:25.554Z"
   },
   {
    "duration": 43,
    "start_time": "2022-02-19T15:58:25.617Z"
   },
   {
    "duration": 29,
    "start_time": "2022-02-19T15:58:25.664Z"
   },
   {
    "duration": 32,
    "start_time": "2022-02-19T15:58:25.696Z"
   },
   {
    "duration": 19,
    "start_time": "2022-02-19T15:58:25.731Z"
   },
   {
    "duration": 30,
    "start_time": "2022-02-19T15:58:25.752Z"
   },
   {
    "duration": 160,
    "start_time": "2022-02-19T15:58:25.785Z"
   },
   {
    "duration": 128,
    "start_time": "2022-02-19T15:58:25.949Z"
   },
   {
    "duration": 82,
    "start_time": "2022-02-19T15:58:26.080Z"
   },
   {
    "duration": 11,
    "start_time": "2022-02-19T15:58:26.165Z"
   },
   {
    "duration": 20,
    "start_time": "2022-02-19T15:58:26.180Z"
   },
   {
    "duration": 284,
    "start_time": "2022-02-19T15:58:26.203Z"
   },
   {
    "duration": 86,
    "start_time": "2022-02-19T15:58:26.489Z"
   },
   {
    "duration": 56,
    "start_time": "2022-02-19T15:58:26.578Z"
   },
   {
    "duration": 54,
    "start_time": "2022-02-19T15:58:26.637Z"
   },
   {
    "duration": 92,
    "start_time": "2022-02-19T15:58:26.694Z"
   },
   {
    "duration": 77,
    "start_time": "2022-02-19T15:58:26.789Z"
   },
   {
    "duration": 80,
    "start_time": "2022-02-19T15:58:26.870Z"
   },
   {
    "duration": 67,
    "start_time": "2022-02-19T15:58:26.953Z"
   },
   {
    "duration": 26,
    "start_time": "2022-02-19T15:58:27.023Z"
   },
   {
    "duration": 19,
    "start_time": "2022-02-19T15:58:27.053Z"
   },
   {
    "duration": 23,
    "start_time": "2022-02-19T15:58:27.074Z"
   },
   {
    "duration": 549,
    "start_time": "2022-02-19T15:58:27.100Z"
   },
   {
    "duration": 5,
    "start_time": "2022-02-19T15:58:27.651Z"
   },
   {
    "duration": 10,
    "start_time": "2022-02-19T15:58:27.658Z"
   },
   {
    "duration": 11,
    "start_time": "2022-02-19T15:58:27.670Z"
   },
   {
    "duration": 407,
    "start_time": "2022-02-19T15:58:47.704Z"
   },
   {
    "duration": 918,
    "start_time": "2022-02-19T15:58:58.174Z"
   },
   {
    "duration": 269,
    "start_time": "2022-02-19T15:58:59.095Z"
   },
   {
    "duration": 221,
    "start_time": "2022-02-19T15:58:59.368Z"
   },
   {
    "duration": 146,
    "start_time": "2022-02-19T15:58:59.593Z"
   },
   {
    "duration": 22,
    "start_time": "2022-02-19T15:58:59.741Z"
   },
   {
    "duration": 44,
    "start_time": "2022-02-19T15:58:59.766Z"
   },
   {
    "duration": 50,
    "start_time": "2022-02-19T15:58:59.813Z"
   },
   {
    "duration": 35,
    "start_time": "2022-02-19T15:58:59.868Z"
   },
   {
    "duration": 49,
    "start_time": "2022-02-19T15:58:59.908Z"
   },
   {
    "duration": 10,
    "start_time": "2022-02-19T15:58:59.960Z"
   },
   {
    "duration": 12,
    "start_time": "2022-02-19T15:58:59.973Z"
   },
   {
    "duration": 177,
    "start_time": "2022-02-19T15:58:59.988Z"
   },
   {
    "duration": 127,
    "start_time": "2022-02-19T15:59:00.167Z"
   },
   {
    "duration": 82,
    "start_time": "2022-02-19T15:59:00.298Z"
   },
   {
    "duration": 10,
    "start_time": "2022-02-19T15:59:00.382Z"
   },
   {
    "duration": 30,
    "start_time": "2022-02-19T15:59:00.396Z"
   },
   {
    "duration": 264,
    "start_time": "2022-02-19T15:59:00.428Z"
   },
   {
    "duration": 83,
    "start_time": "2022-02-19T15:59:00.695Z"
   },
   {
    "duration": 85,
    "start_time": "2022-02-19T15:59:00.782Z"
   },
   {
    "duration": 60,
    "start_time": "2022-02-19T15:59:00.870Z"
   },
   {
    "duration": 120,
    "start_time": "2022-02-19T15:59:00.933Z"
   },
   {
    "duration": 65,
    "start_time": "2022-02-19T15:59:01.056Z"
   },
   {
    "duration": 77,
    "start_time": "2022-02-19T15:59:01.126Z"
   },
   {
    "duration": 83,
    "start_time": "2022-02-19T15:59:01.206Z"
   },
   {
    "duration": 6,
    "start_time": "2022-02-19T15:59:01.292Z"
   },
   {
    "duration": 24,
    "start_time": "2022-02-19T15:59:01.301Z"
   },
   {
    "duration": 17,
    "start_time": "2022-02-19T15:59:01.327Z"
   },
   {
    "duration": 447,
    "start_time": "2022-02-19T15:59:01.347Z"
   },
   {
    "duration": 4,
    "start_time": "2022-02-19T15:59:01.796Z"
   },
   {
    "duration": 30,
    "start_time": "2022-02-19T15:59:01.803Z"
   },
   {
    "duration": 47,
    "start_time": "2022-02-19T15:59:01.836Z"
   },
   {
    "duration": 439,
    "start_time": "2022-02-19T16:01:22.868Z"
   },
   {
    "duration": 941,
    "start_time": "2022-02-19T16:01:26.447Z"
   },
   {
    "duration": 249,
    "start_time": "2022-02-19T16:01:27.390Z"
   },
   {
    "duration": 208,
    "start_time": "2022-02-19T16:01:27.649Z"
   },
   {
    "duration": 144,
    "start_time": "2022-02-19T16:01:27.860Z"
   },
   {
    "duration": 20,
    "start_time": "2022-02-19T16:01:28.007Z"
   },
   {
    "duration": 46,
    "start_time": "2022-02-19T16:01:28.029Z"
   },
   {
    "duration": 28,
    "start_time": "2022-02-19T16:01:28.078Z"
   },
   {
    "duration": 61,
    "start_time": "2022-02-19T16:01:28.110Z"
   },
   {
    "duration": 19,
    "start_time": "2022-02-19T16:01:28.177Z"
   },
   {
    "duration": 19,
    "start_time": "2022-02-19T16:01:28.199Z"
   },
   {
    "duration": 31,
    "start_time": "2022-02-19T16:01:28.220Z"
   },
   {
    "duration": 142,
    "start_time": "2022-02-19T16:01:28.253Z"
   },
   {
    "duration": 111,
    "start_time": "2022-02-19T16:01:28.397Z"
   },
   {
    "duration": 65,
    "start_time": "2022-02-19T16:01:28.511Z"
   },
   {
    "duration": 9,
    "start_time": "2022-02-19T16:01:28.578Z"
   },
   {
    "duration": 13,
    "start_time": "2022-02-19T16:01:28.589Z"
   },
   {
    "duration": 278,
    "start_time": "2022-02-19T16:01:28.604Z"
   },
   {
    "duration": 81,
    "start_time": "2022-02-19T16:01:28.884Z"
   },
   {
    "duration": 52,
    "start_time": "2022-02-19T16:01:28.967Z"
   },
   {
    "duration": 56,
    "start_time": "2022-02-19T16:01:29.021Z"
   },
   {
    "duration": 83,
    "start_time": "2022-02-19T16:01:29.080Z"
   },
   {
    "duration": 61,
    "start_time": "2022-02-19T16:01:29.165Z"
   },
   {
    "duration": 78,
    "start_time": "2022-02-19T16:01:29.229Z"
   },
   {
    "duration": 90,
    "start_time": "2022-02-19T16:01:29.310Z"
   },
   {
    "duration": 6,
    "start_time": "2022-02-19T16:01:29.403Z"
   },
   {
    "duration": 16,
    "start_time": "2022-02-19T16:01:29.412Z"
   },
   {
    "duration": 21,
    "start_time": "2022-02-19T16:01:29.433Z"
   },
   {
    "duration": 472,
    "start_time": "2022-02-19T16:01:29.456Z"
   },
   {
    "duration": 18,
    "start_time": "2022-02-19T16:01:29.930Z"
   },
   {
    "duration": 12,
    "start_time": "2022-02-19T16:01:29.951Z"
   },
   {
    "duration": 27,
    "start_time": "2022-02-19T16:01:29.966Z"
   },
   {
    "duration": 447,
    "start_time": "2022-02-19T16:01:31.620Z"
   },
   {
    "duration": 304,
    "start_time": "2022-02-19T16:02:26.413Z"
   },
   {
    "duration": 59,
    "start_time": "2022-02-19T16:02:46.916Z"
   },
   {
    "duration": 4,
    "start_time": "2022-02-19T16:03:11.302Z"
   },
   {
    "duration": 231,
    "start_time": "2022-02-19T16:03:11.309Z"
   },
   {
    "duration": 220,
    "start_time": "2022-02-19T16:03:11.542Z"
   },
   {
    "duration": 64,
    "start_time": "2022-02-19T16:03:14.355Z"
   },
   {
    "duration": 322,
    "start_time": "2022-02-19T16:03:28.404Z"
   },
   {
    "duration": 68,
    "start_time": "2022-02-19T16:03:31.749Z"
   },
   {
    "duration": 234,
    "start_time": "2022-02-19T16:04:02.756Z"
   },
   {
    "duration": 210,
    "start_time": "2022-02-19T16:04:04.604Z"
   },
   {
    "duration": 221,
    "start_time": "2022-02-19T16:04:18.355Z"
   },
   {
    "duration": 224,
    "start_time": "2022-02-19T16:04:20.171Z"
   },
   {
    "duration": 36,
    "start_time": "2022-02-19T16:05:13.988Z"
   },
   {
    "duration": 43,
    "start_time": "2022-02-19T16:05:38.323Z"
   },
   {
    "duration": 81,
    "start_time": "2022-02-19T16:05:41.075Z"
   },
   {
    "duration": 39,
    "start_time": "2022-02-19T16:06:19.290Z"
   },
   {
    "duration": 57,
    "start_time": "2022-02-19T16:06:26.459Z"
   },
   {
    "duration": 5,
    "start_time": "2022-02-19T16:07:17.955Z"
   },
   {
    "duration": 260,
    "start_time": "2022-02-19T16:07:17.963Z"
   },
   {
    "duration": 252,
    "start_time": "2022-02-19T16:07:18.226Z"
   },
   {
    "duration": 178,
    "start_time": "2022-02-19T16:07:18.482Z"
   },
   {
    "duration": 30,
    "start_time": "2022-02-19T16:07:18.663Z"
   },
   {
    "duration": 58,
    "start_time": "2022-02-19T16:07:18.696Z"
   },
   {
    "duration": 35,
    "start_time": "2022-02-19T16:07:18.757Z"
   },
   {
    "duration": 23,
    "start_time": "2022-02-19T16:07:18.796Z"
   },
   {
    "duration": 44,
    "start_time": "2022-02-19T16:07:18.822Z"
   },
   {
    "duration": 9,
    "start_time": "2022-02-19T16:07:18.869Z"
   },
   {
    "duration": 17,
    "start_time": "2022-02-19T16:07:18.881Z"
   },
   {
    "duration": 163,
    "start_time": "2022-02-19T16:07:18.901Z"
   },
   {
    "duration": 112,
    "start_time": "2022-02-19T16:07:19.067Z"
   },
   {
    "duration": 76,
    "start_time": "2022-02-19T16:07:19.182Z"
   },
   {
    "duration": 9,
    "start_time": "2022-02-19T16:07:19.261Z"
   },
   {
    "duration": 16,
    "start_time": "2022-02-19T16:07:19.273Z"
   },
   {
    "duration": 270,
    "start_time": "2022-02-19T16:07:19.292Z"
   },
   {
    "duration": 84,
    "start_time": "2022-02-19T16:07:19.564Z"
   },
   {
    "duration": 52,
    "start_time": "2022-02-19T16:07:19.651Z"
   },
   {
    "duration": 65,
    "start_time": "2022-02-19T16:07:19.706Z"
   },
   {
    "duration": 74,
    "start_time": "2022-02-19T16:07:19.774Z"
   },
   {
    "duration": 57,
    "start_time": "2022-02-19T16:07:19.851Z"
   },
   {
    "duration": 83,
    "start_time": "2022-02-19T16:07:19.915Z"
   },
   {
    "duration": 74,
    "start_time": "2022-02-19T16:07:20.002Z"
   },
   {
    "duration": 6,
    "start_time": "2022-02-19T16:07:20.078Z"
   },
   {
    "duration": 11,
    "start_time": "2022-02-19T16:07:20.087Z"
   },
   {
    "duration": 13,
    "start_time": "2022-02-19T16:07:20.100Z"
   },
   {
    "duration": 488,
    "start_time": "2022-02-19T16:07:20.115Z"
   },
   {
    "duration": 5,
    "start_time": "2022-02-19T16:07:20.605Z"
   },
   {
    "duration": 15,
    "start_time": "2022-02-19T16:07:20.612Z"
   },
   {
    "duration": 57,
    "start_time": "2022-02-19T16:13:23.152Z"
   },
   {
    "duration": 54,
    "start_time": "2022-02-19T16:13:26.792Z"
   },
   {
    "duration": 75,
    "start_time": "2022-02-19T16:13:51.408Z"
   },
   {
    "duration": 114,
    "start_time": "2022-02-19T16:15:19.716Z"
   },
   {
    "duration": 58,
    "start_time": "2022-02-19T16:15:40.599Z"
   },
   {
    "duration": 67,
    "start_time": "2022-02-19T16:15:52.801Z"
   },
   {
    "duration": 7312,
    "start_time": "2022-02-19T16:22:11.188Z"
   },
   {
    "duration": 4,
    "start_time": "2022-02-19T16:22:24.734Z"
   },
   {
    "duration": 238,
    "start_time": "2022-02-19T16:22:24.740Z"
   },
   {
    "duration": 210,
    "start_time": "2022-02-19T16:22:24.981Z"
   },
   {
    "duration": 142,
    "start_time": "2022-02-19T16:22:25.194Z"
   },
   {
    "duration": 21,
    "start_time": "2022-02-19T16:22:25.338Z"
   },
   {
    "duration": 44,
    "start_time": "2022-02-19T16:22:25.362Z"
   },
   {
    "duration": 42,
    "start_time": "2022-02-19T16:22:25.409Z"
   },
   {
    "duration": 22,
    "start_time": "2022-02-19T16:22:25.455Z"
   },
   {
    "duration": 20,
    "start_time": "2022-02-19T16:22:25.481Z"
   },
   {
    "duration": 7,
    "start_time": "2022-02-19T16:22:25.504Z"
   },
   {
    "duration": 39,
    "start_time": "2022-02-19T16:22:25.513Z"
   },
   {
    "duration": 131,
    "start_time": "2022-02-19T16:22:25.555Z"
   },
   {
    "duration": 103,
    "start_time": "2022-02-19T16:22:25.688Z"
   },
   {
    "duration": 68,
    "start_time": "2022-02-19T16:22:25.795Z"
   },
   {
    "duration": 9,
    "start_time": "2022-02-19T16:22:25.867Z"
   },
   {
    "duration": 15,
    "start_time": "2022-02-19T16:22:25.879Z"
   },
   {
    "duration": 271,
    "start_time": "2022-02-19T16:22:25.898Z"
   },
   {
    "duration": 80,
    "start_time": "2022-02-19T16:22:26.174Z"
   },
   {
    "duration": 56,
    "start_time": "2022-02-19T16:22:26.257Z"
   },
   {
    "duration": 59,
    "start_time": "2022-02-19T16:22:26.316Z"
   },
   {
    "duration": 71,
    "start_time": "2022-02-19T16:22:26.377Z"
   },
   {
    "duration": 55,
    "start_time": "2022-02-19T16:22:26.451Z"
   },
   {
    "duration": 78,
    "start_time": "2022-02-19T16:22:26.511Z"
   },
   {
    "duration": 74,
    "start_time": "2022-02-19T16:22:26.591Z"
   },
   {
    "duration": 6,
    "start_time": "2022-02-19T16:22:26.668Z"
   },
   {
    "duration": 18,
    "start_time": "2022-02-19T16:22:26.677Z"
   },
   {
    "duration": 7,
    "start_time": "2022-02-19T16:22:26.698Z"
   },
   {
    "duration": 479,
    "start_time": "2022-02-19T16:22:26.707Z"
   },
   {
    "duration": 4,
    "start_time": "2022-02-19T16:22:27.189Z"
   },
   {
    "duration": 33,
    "start_time": "2022-02-19T16:22:31.012Z"
   },
   {
    "duration": 33,
    "start_time": "2022-02-19T16:25:52.939Z"
   },
   {
    "duration": 32,
    "start_time": "2022-02-19T16:25:57.739Z"
   },
   {
    "duration": 32,
    "start_time": "2022-02-19T16:26:09.907Z"
   },
   {
    "duration": 4,
    "start_time": "2022-02-19T16:26:39.859Z"
   },
   {
    "duration": 236,
    "start_time": "2022-02-19T16:26:39.866Z"
   },
   {
    "duration": 206,
    "start_time": "2022-02-19T16:26:40.105Z"
   },
   {
    "duration": 140,
    "start_time": "2022-02-19T16:26:40.314Z"
   },
   {
    "duration": 22,
    "start_time": "2022-02-19T16:26:40.457Z"
   },
   {
    "duration": 54,
    "start_time": "2022-02-19T16:26:40.481Z"
   },
   {
    "duration": 38,
    "start_time": "2022-02-19T16:26:40.538Z"
   },
   {
    "duration": 24,
    "start_time": "2022-02-19T16:26:40.581Z"
   },
   {
    "duration": 51,
    "start_time": "2022-02-19T16:26:40.608Z"
   },
   {
    "duration": 13,
    "start_time": "2022-02-19T16:26:40.662Z"
   },
   {
    "duration": 12,
    "start_time": "2022-02-19T16:26:40.677Z"
   },
   {
    "duration": 133,
    "start_time": "2022-02-19T16:26:40.692Z"
   },
   {
    "duration": 100,
    "start_time": "2022-02-19T16:26:40.828Z"
   },
   {
    "duration": 69,
    "start_time": "2022-02-19T16:26:40.931Z"
   },
   {
    "duration": 10,
    "start_time": "2022-02-19T16:26:41.002Z"
   },
   {
    "duration": 38,
    "start_time": "2022-02-19T16:26:41.015Z"
   },
   {
    "duration": 243,
    "start_time": "2022-02-19T16:26:41.056Z"
   },
   {
    "duration": 78,
    "start_time": "2022-02-19T16:26:41.302Z"
   },
   {
    "duration": 48,
    "start_time": "2022-02-19T16:26:41.383Z"
   },
   {
    "duration": 52,
    "start_time": "2022-02-19T16:26:41.434Z"
   },
   {
    "duration": 76,
    "start_time": "2022-02-19T16:26:41.489Z"
   },
   {
    "duration": 55,
    "start_time": "2022-02-19T16:26:41.569Z"
   },
   {
    "duration": 69,
    "start_time": "2022-02-19T16:26:41.629Z"
   },
   {
    "duration": 77,
    "start_time": "2022-02-19T16:26:41.701Z"
   },
   {
    "duration": 5,
    "start_time": "2022-02-19T16:26:41.781Z"
   },
   {
    "duration": 9,
    "start_time": "2022-02-19T16:26:41.789Z"
   },
   {
    "duration": 7,
    "start_time": "2022-02-19T16:26:41.800Z"
   },
   {
    "duration": 492,
    "start_time": "2022-02-19T16:26:41.810Z"
   },
   {
    "duration": 4,
    "start_time": "2022-02-19T16:26:43.514Z"
   },
   {
    "duration": 34,
    "start_time": "2022-02-19T16:26:43.970Z"
   },
   {
    "duration": 31,
    "start_time": "2022-02-19T16:27:07.906Z"
   },
   {
    "duration": 32,
    "start_time": "2022-02-19T16:27:11.218Z"
   },
   {
    "duration": 31,
    "start_time": "2022-02-19T16:27:41.939Z"
   },
   {
    "duration": 33,
    "start_time": "2022-02-19T16:27:48.499Z"
   },
   {
    "duration": 410,
    "start_time": "2022-02-19T16:28:33.882Z"
   },
   {
    "duration": 34,
    "start_time": "2022-02-19T16:28:39.689Z"
   },
   {
    "duration": 33,
    "start_time": "2022-02-19T16:28:43.481Z"
   },
   {
    "duration": 33,
    "start_time": "2022-02-19T16:28:47.929Z"
   },
   {
    "duration": 33,
    "start_time": "2022-02-19T16:29:11.130Z"
   },
   {
    "duration": 32,
    "start_time": "2022-02-19T16:29:15.442Z"
   },
   {
    "duration": 33,
    "start_time": "2022-02-19T16:29:47.849Z"
   },
   {
    "duration": 60,
    "start_time": "2022-02-19T16:30:03.129Z"
   },
   {
    "duration": 64,
    "start_time": "2022-02-19T16:30:07.801Z"
   },
   {
    "duration": 32,
    "start_time": "2022-02-19T16:30:20.617Z"
   },
   {
    "duration": 831,
    "start_time": "2022-02-19T16:30:28.992Z"
   },
   {
    "duration": 266,
    "start_time": "2022-02-19T16:30:29.826Z"
   },
   {
    "duration": 214,
    "start_time": "2022-02-19T16:30:30.095Z"
   },
   {
    "duration": 146,
    "start_time": "2022-02-19T16:30:30.312Z"
   },
   {
    "duration": 22,
    "start_time": "2022-02-19T16:30:30.460Z"
   },
   {
    "duration": 61,
    "start_time": "2022-02-19T16:30:30.485Z"
   },
   {
    "duration": 26,
    "start_time": "2022-02-19T16:30:30.549Z"
   },
   {
    "duration": 36,
    "start_time": "2022-02-19T16:30:30.578Z"
   },
   {
    "duration": 35,
    "start_time": "2022-02-19T16:30:30.619Z"
   },
   {
    "duration": 11,
    "start_time": "2022-02-19T16:30:30.658Z"
   },
   {
    "duration": 20,
    "start_time": "2022-02-19T16:30:30.672Z"
   },
   {
    "duration": 165,
    "start_time": "2022-02-19T16:30:30.694Z"
   },
   {
    "duration": 128,
    "start_time": "2022-02-19T16:30:30.862Z"
   },
   {
    "duration": 69,
    "start_time": "2022-02-19T16:30:30.993Z"
   },
   {
    "duration": 10,
    "start_time": "2022-02-19T16:30:31.065Z"
   },
   {
    "duration": 18,
    "start_time": "2022-02-19T16:30:31.077Z"
   },
   {
    "duration": 270,
    "start_time": "2022-02-19T16:30:31.097Z"
   },
   {
    "duration": 85,
    "start_time": "2022-02-19T16:30:31.370Z"
   },
   {
    "duration": 55,
    "start_time": "2022-02-19T16:30:31.457Z"
   },
   {
    "duration": 59,
    "start_time": "2022-02-19T16:30:31.515Z"
   },
   {
    "duration": 84,
    "start_time": "2022-02-19T16:30:31.577Z"
   },
   {
    "duration": 60,
    "start_time": "2022-02-19T16:30:31.664Z"
   },
   {
    "duration": 66,
    "start_time": "2022-02-19T16:30:31.727Z"
   },
   {
    "duration": 89,
    "start_time": "2022-02-19T16:30:31.795Z"
   },
   {
    "duration": 6,
    "start_time": "2022-02-19T16:30:31.887Z"
   },
   {
    "duration": 12,
    "start_time": "2022-02-19T16:30:31.897Z"
   },
   {
    "duration": 37,
    "start_time": "2022-02-19T16:30:31.915Z"
   },
   {
    "duration": 647,
    "start_time": "2022-02-19T16:30:31.956Z"
   },
   {
    "duration": 5,
    "start_time": "2022-02-19T16:30:32.606Z"
   },
   {
    "duration": 34,
    "start_time": "2022-02-19T16:30:33.670Z"
   },
   {
    "duration": 31,
    "start_time": "2022-02-19T16:30:43.399Z"
   },
   {
    "duration": 60,
    "start_time": "2022-02-19T16:30:52.359Z"
   },
   {
    "duration": 33,
    "start_time": "2022-02-19T16:31:02.543Z"
   },
   {
    "duration": 57,
    "start_time": "2022-02-19T16:31:22.366Z"
   },
   {
    "duration": 4,
    "start_time": "2022-02-19T16:31:37.543Z"
   },
   {
    "duration": 275,
    "start_time": "2022-02-19T16:31:37.550Z"
   },
   {
    "duration": 220,
    "start_time": "2022-02-19T16:31:37.828Z"
   },
   {
    "duration": 146,
    "start_time": "2022-02-19T16:31:38.052Z"
   },
   {
    "duration": 22,
    "start_time": "2022-02-19T16:31:38.201Z"
   },
   {
    "duration": 49,
    "start_time": "2022-02-19T16:31:38.225Z"
   },
   {
    "duration": 29,
    "start_time": "2022-02-19T16:31:38.276Z"
   },
   {
    "duration": 52,
    "start_time": "2022-02-19T16:31:38.309Z"
   },
   {
    "duration": 19,
    "start_time": "2022-02-19T16:31:38.364Z"
   },
   {
    "duration": 11,
    "start_time": "2022-02-19T16:31:38.385Z"
   },
   {
    "duration": 49,
    "start_time": "2022-02-19T16:31:38.399Z"
   },
   {
    "duration": 130,
    "start_time": "2022-02-19T16:31:38.450Z"
   },
   {
    "duration": 114,
    "start_time": "2022-02-19T16:31:38.583Z"
   },
   {
    "duration": 92,
    "start_time": "2022-02-19T16:31:38.701Z"
   },
   {
    "duration": 13,
    "start_time": "2022-02-19T16:31:38.796Z"
   },
   {
    "duration": 11,
    "start_time": "2022-02-19T16:31:38.811Z"
   },
   {
    "duration": 343,
    "start_time": "2022-02-19T16:31:38.849Z"
   },
   {
    "duration": 85,
    "start_time": "2022-02-19T16:31:39.195Z"
   },
   {
    "duration": 66,
    "start_time": "2022-02-19T16:31:39.283Z"
   },
   {
    "duration": 46,
    "start_time": "2022-02-19T16:31:39.351Z"
   },
   {
    "duration": 91,
    "start_time": "2022-02-19T16:31:39.399Z"
   },
   {
    "duration": 68,
    "start_time": "2022-02-19T16:31:39.493Z"
   },
   {
    "duration": 55,
    "start_time": "2022-02-19T16:31:39.566Z"
   },
   {
    "duration": 79,
    "start_time": "2022-02-19T16:31:39.623Z"
   },
   {
    "duration": 6,
    "start_time": "2022-02-19T16:31:39.705Z"
   },
   {
    "duration": 35,
    "start_time": "2022-02-19T16:31:39.714Z"
   },
   {
    "duration": 10,
    "start_time": "2022-02-19T16:31:39.752Z"
   },
   {
    "duration": 441,
    "start_time": "2022-02-19T16:31:39.764Z"
   },
   {
    "duration": 5,
    "start_time": "2022-02-19T16:31:40.208Z"
   },
   {
    "duration": 30,
    "start_time": "2022-02-19T16:31:44.557Z"
   },
   {
    "duration": 36,
    "start_time": "2022-02-19T16:31:47.214Z"
   },
   {
    "duration": 48,
    "start_time": "2022-02-19T16:31:54.678Z"
   },
   {
    "duration": 32,
    "start_time": "2022-02-19T16:31:57.661Z"
   },
   {
    "duration": 32,
    "start_time": "2022-02-19T16:32:28.551Z"
   },
   {
    "duration": 31,
    "start_time": "2022-02-19T16:32:35.653Z"
   },
   {
    "duration": 33,
    "start_time": "2022-02-19T16:32:44.934Z"
   },
   {
    "duration": 32,
    "start_time": "2022-02-19T16:32:54.014Z"
   },
   {
    "duration": 39,
    "start_time": "2022-02-19T16:34:33.549Z"
   },
   {
    "duration": 40,
    "start_time": "2022-02-19T16:35:10.726Z"
   },
   {
    "duration": 101,
    "start_time": "2022-02-19T16:35:31.845Z"
   },
   {
    "duration": 39,
    "start_time": "2022-02-19T16:35:35.670Z"
   },
   {
    "duration": 40,
    "start_time": "2022-02-19T16:36:12.781Z"
   },
   {
    "duration": 103,
    "start_time": "2022-02-19T16:36:27.348Z"
   },
   {
    "duration": 38,
    "start_time": "2022-02-19T16:36:31.860Z"
   },
   {
    "duration": 7,
    "start_time": "2022-02-19T16:37:34.084Z"
   },
   {
    "duration": 37,
    "start_time": "2022-02-19T16:37:39.051Z"
   },
   {
    "duration": 47,
    "start_time": "2022-02-19T16:37:49.660Z"
   },
   {
    "duration": 52,
    "start_time": "2022-02-19T16:37:56.572Z"
   },
   {
    "duration": 4,
    "start_time": "2022-02-19T16:38:02.221Z"
   },
   {
    "duration": 322,
    "start_time": "2022-02-19T16:38:02.228Z"
   },
   {
    "duration": 303,
    "start_time": "2022-02-19T16:38:02.553Z"
   },
   {
    "duration": 155,
    "start_time": "2022-02-19T16:38:02.861Z"
   },
   {
    "duration": 32,
    "start_time": "2022-02-19T16:38:03.019Z"
   },
   {
    "duration": 54,
    "start_time": "2022-02-19T16:38:03.054Z"
   },
   {
    "duration": 58,
    "start_time": "2022-02-19T16:38:03.111Z"
   },
   {
    "duration": 23,
    "start_time": "2022-02-19T16:38:03.173Z"
   },
   {
    "duration": 20,
    "start_time": "2022-02-19T16:38:03.199Z"
   },
   {
    "duration": 10,
    "start_time": "2022-02-19T16:38:03.249Z"
   },
   {
    "duration": 15,
    "start_time": "2022-02-19T16:38:03.261Z"
   },
   {
    "duration": 141,
    "start_time": "2022-02-19T16:38:03.279Z"
   },
   {
    "duration": 105,
    "start_time": "2022-02-19T16:38:03.422Z"
   },
   {
    "duration": 67,
    "start_time": "2022-02-19T16:38:03.530Z"
   },
   {
    "duration": 11,
    "start_time": "2022-02-19T16:38:03.599Z"
   },
   {
    "duration": 48,
    "start_time": "2022-02-19T16:38:03.612Z"
   },
   {
    "duration": 253,
    "start_time": "2022-02-19T16:38:03.663Z"
   },
   {
    "duration": 80,
    "start_time": "2022-02-19T16:38:03.919Z"
   },
   {
    "duration": 66,
    "start_time": "2022-02-19T16:38:04.002Z"
   },
   {
    "duration": 44,
    "start_time": "2022-02-19T16:38:04.071Z"
   },
   {
    "duration": 76,
    "start_time": "2022-02-19T16:38:04.118Z"
   },
   {
    "duration": 97,
    "start_time": "2022-02-19T16:38:04.197Z"
   },
   {
    "duration": 87,
    "start_time": "2022-02-19T16:38:04.300Z"
   },
   {
    "duration": 78,
    "start_time": "2022-02-19T16:38:04.390Z"
   },
   {
    "duration": 6,
    "start_time": "2022-02-19T16:38:04.471Z"
   },
   {
    "duration": 13,
    "start_time": "2022-02-19T16:38:04.479Z"
   },
   {
    "duration": 10,
    "start_time": "2022-02-19T16:38:04.495Z"
   },
   {
    "duration": 493,
    "start_time": "2022-02-19T16:38:04.508Z"
   },
   {
    "duration": 5,
    "start_time": "2022-02-19T16:38:05.003Z"
   },
   {
    "duration": 56,
    "start_time": "2022-02-19T16:38:05.010Z"
   },
   {
    "duration": 356,
    "start_time": "2022-02-19T16:38:20.576Z"
   },
   {
    "duration": 935,
    "start_time": "2022-02-19T16:38:24.536Z"
   },
   {
    "duration": 247,
    "start_time": "2022-02-19T16:38:25.474Z"
   },
   {
    "duration": 214,
    "start_time": "2022-02-19T16:38:25.724Z"
   },
   {
    "duration": 146,
    "start_time": "2022-02-19T16:38:25.949Z"
   },
   {
    "duration": 22,
    "start_time": "2022-02-19T16:38:26.097Z"
   },
   {
    "duration": 46,
    "start_time": "2022-02-19T16:38:26.121Z"
   },
   {
    "duration": 27,
    "start_time": "2022-02-19T16:38:26.169Z"
   },
   {
    "duration": 51,
    "start_time": "2022-02-19T16:38:26.201Z"
   },
   {
    "duration": 21,
    "start_time": "2022-02-19T16:38:26.256Z"
   },
   {
    "duration": 7,
    "start_time": "2022-02-19T16:38:26.280Z"
   },
   {
    "duration": 8,
    "start_time": "2022-02-19T16:38:26.290Z"
   },
   {
    "duration": 184,
    "start_time": "2022-02-19T16:38:26.301Z"
   },
   {
    "duration": 125,
    "start_time": "2022-02-19T16:38:26.487Z"
   },
   {
    "duration": 77,
    "start_time": "2022-02-19T16:38:26.615Z"
   },
   {
    "duration": 8,
    "start_time": "2022-02-19T16:38:26.694Z"
   },
   {
    "duration": 17,
    "start_time": "2022-02-19T16:38:26.704Z"
   },
   {
    "duration": 287,
    "start_time": "2022-02-19T16:38:26.723Z"
   },
   {
    "duration": 78,
    "start_time": "2022-02-19T16:38:27.012Z"
   },
   {
    "duration": 63,
    "start_time": "2022-02-19T16:38:27.093Z"
   },
   {
    "duration": 46,
    "start_time": "2022-02-19T16:38:27.159Z"
   },
   {
    "duration": 93,
    "start_time": "2022-02-19T16:38:27.207Z"
   },
   {
    "duration": 77,
    "start_time": "2022-02-19T16:38:27.302Z"
   },
   {
    "duration": 74,
    "start_time": "2022-02-19T16:38:27.384Z"
   },
   {
    "duration": 63,
    "start_time": "2022-02-19T16:38:27.461Z"
   },
   {
    "duration": 6,
    "start_time": "2022-02-19T16:38:27.548Z"
   },
   {
    "duration": 16,
    "start_time": "2022-02-19T16:38:27.557Z"
   },
   {
    "duration": 13,
    "start_time": "2022-02-19T16:38:27.575Z"
   },
   {
    "duration": 639,
    "start_time": "2022-02-19T16:38:27.591Z"
   },
   {
    "duration": 5,
    "start_time": "2022-02-19T16:38:28.233Z"
   },
   {
    "duration": 33,
    "start_time": "2022-02-19T16:38:28.249Z"
   },
   {
    "duration": 39,
    "start_time": "2022-02-19T16:38:32.575Z"
   },
   {
    "duration": 35,
    "start_time": "2022-02-19T16:39:18.872Z"
   },
   {
    "duration": 4,
    "start_time": "2022-02-19T16:40:32.496Z"
   },
   {
    "duration": 250,
    "start_time": "2022-02-19T16:40:32.504Z"
   },
   {
    "duration": 302,
    "start_time": "2022-02-19T16:40:32.758Z"
   },
   {
    "duration": 164,
    "start_time": "2022-02-19T16:40:33.064Z"
   },
   {
    "duration": 26,
    "start_time": "2022-02-19T16:40:33.230Z"
   },
   {
    "duration": 55,
    "start_time": "2022-02-19T16:40:33.260Z"
   },
   {
    "duration": 59,
    "start_time": "2022-02-19T16:40:33.318Z"
   },
   {
    "duration": 28,
    "start_time": "2022-02-19T16:40:33.383Z"
   },
   {
    "duration": 37,
    "start_time": "2022-02-19T16:40:33.448Z"
   },
   {
    "duration": 17,
    "start_time": "2022-02-19T16:40:33.488Z"
   },
   {
    "duration": 14,
    "start_time": "2022-02-19T16:40:33.508Z"
   },
   {
    "duration": 166,
    "start_time": "2022-02-19T16:40:33.524Z"
   },
   {
    "duration": 141,
    "start_time": "2022-02-19T16:40:33.693Z"
   },
   {
    "duration": 71,
    "start_time": "2022-02-19T16:40:33.837Z"
   },
   {
    "duration": 13,
    "start_time": "2022-02-19T16:40:33.911Z"
   },
   {
    "duration": 31,
    "start_time": "2022-02-19T16:40:33.926Z"
   },
   {
    "duration": 275,
    "start_time": "2022-02-19T16:40:33.959Z"
   },
   {
    "duration": 81,
    "start_time": "2022-02-19T16:40:34.238Z"
   },
   {
    "duration": 71,
    "start_time": "2022-02-19T16:40:34.322Z"
   },
   {
    "duration": 64,
    "start_time": "2022-02-19T16:40:34.395Z"
   },
   {
    "duration": 64,
    "start_time": "2022-02-19T16:40:34.462Z"
   },
   {
    "duration": 99,
    "start_time": "2022-02-19T16:40:34.530Z"
   },
   {
    "duration": 55,
    "start_time": "2022-02-19T16:40:34.651Z"
   },
   {
    "duration": 90,
    "start_time": "2022-02-19T16:40:34.710Z"
   },
   {
    "duration": 6,
    "start_time": "2022-02-19T16:40:34.803Z"
   },
   {
    "duration": 21,
    "start_time": "2022-02-19T16:40:34.812Z"
   },
   {
    "duration": 18,
    "start_time": "2022-02-19T16:40:34.837Z"
   },
   {
    "duration": 676,
    "start_time": "2022-02-19T16:40:34.858Z"
   },
   {
    "duration": 14,
    "start_time": "2022-02-19T16:40:35.537Z"
   },
   {
    "duration": 47,
    "start_time": "2022-02-19T16:40:35.554Z"
   },
   {
    "duration": 46,
    "start_time": "2022-02-19T16:40:38.814Z"
   },
   {
    "duration": 40,
    "start_time": "2022-02-19T16:40:41.797Z"
   },
   {
    "duration": 41,
    "start_time": "2022-02-19T16:41:10.535Z"
   },
   {
    "duration": 4,
    "start_time": "2022-02-19T16:41:14.750Z"
   },
   {
    "duration": 256,
    "start_time": "2022-02-19T16:41:14.757Z"
   },
   {
    "duration": 209,
    "start_time": "2022-02-19T16:41:15.016Z"
   },
   {
    "duration": 139,
    "start_time": "2022-02-19T16:41:15.229Z"
   },
   {
    "duration": 22,
    "start_time": "2022-02-19T16:41:15.370Z"
   },
   {
    "duration": 57,
    "start_time": "2022-02-19T16:41:15.395Z"
   },
   {
    "duration": 25,
    "start_time": "2022-02-19T16:41:15.455Z"
   },
   {
    "duration": 24,
    "start_time": "2022-02-19T16:41:15.484Z"
   },
   {
    "duration": 42,
    "start_time": "2022-02-19T16:41:15.512Z"
   },
   {
    "duration": 8,
    "start_time": "2022-02-19T16:41:15.556Z"
   },
   {
    "duration": 10,
    "start_time": "2022-02-19T16:41:15.567Z"
   },
   {
    "duration": 189,
    "start_time": "2022-02-19T16:41:15.580Z"
   },
   {
    "duration": 131,
    "start_time": "2022-02-19T16:41:15.772Z"
   },
   {
    "duration": 65,
    "start_time": "2022-02-19T16:41:15.906Z"
   },
   {
    "duration": 10,
    "start_time": "2022-02-19T16:41:15.974Z"
   },
   {
    "duration": 12,
    "start_time": "2022-02-19T16:41:15.987Z"
   },
   {
    "duration": 260,
    "start_time": "2022-02-19T16:41:16.001Z"
   },
   {
    "duration": 63,
    "start_time": "2022-02-19T16:41:16.264Z"
   },
   {
    "duration": 62,
    "start_time": "2022-02-19T16:41:16.329Z"
   },
   {
    "duration": 67,
    "start_time": "2022-02-19T16:41:16.393Z"
   },
   {
    "duration": 58,
    "start_time": "2022-02-19T16:41:16.463Z"
   },
   {
    "duration": 67,
    "start_time": "2022-02-19T16:41:16.523Z"
   },
   {
    "duration": 77,
    "start_time": "2022-02-19T16:41:16.594Z"
   },
   {
    "duration": 74,
    "start_time": "2022-02-19T16:41:16.674Z"
   },
   {
    "duration": 6,
    "start_time": "2022-02-19T16:41:16.751Z"
   },
   {
    "duration": 8,
    "start_time": "2022-02-19T16:41:16.760Z"
   },
   {
    "duration": 7,
    "start_time": "2022-02-19T16:41:16.771Z"
   },
   {
    "duration": 583,
    "start_time": "2022-02-19T16:41:16.781Z"
   },
   {
    "duration": 5,
    "start_time": "2022-02-19T16:41:17.367Z"
   },
   {
    "duration": 49,
    "start_time": "2022-02-19T16:41:17.375Z"
   },
   {
    "duration": 36,
    "start_time": "2022-02-19T16:41:19.653Z"
   },
   {
    "duration": 29,
    "start_time": "2022-02-19T16:42:28.061Z"
   },
   {
    "duration": 346,
    "start_time": "2022-02-19T16:42:57.748Z"
   },
   {
    "duration": 17,
    "start_time": "2022-02-19T16:43:18.967Z"
   },
   {
    "duration": 12,
    "start_time": "2022-02-19T16:43:22.725Z"
   },
   {
    "duration": 6,
    "start_time": "2022-02-19T16:45:34.845Z"
   },
   {
    "duration": 278,
    "start_time": "2022-02-19T16:45:34.854Z"
   },
   {
    "duration": 228,
    "start_time": "2022-02-19T16:45:35.137Z"
   },
   {
    "duration": 165,
    "start_time": "2022-02-19T16:45:35.369Z"
   },
   {
    "duration": 33,
    "start_time": "2022-02-19T16:45:35.537Z"
   },
   {
    "duration": 46,
    "start_time": "2022-02-19T16:45:35.573Z"
   },
   {
    "duration": 39,
    "start_time": "2022-02-19T16:45:35.622Z"
   },
   {
    "duration": 33,
    "start_time": "2022-02-19T16:45:35.667Z"
   },
   {
    "duration": 46,
    "start_time": "2022-02-19T16:45:35.704Z"
   },
   {
    "duration": 9,
    "start_time": "2022-02-19T16:45:35.753Z"
   },
   {
    "duration": 18,
    "start_time": "2022-02-19T16:45:35.765Z"
   },
   {
    "duration": 151,
    "start_time": "2022-02-19T16:45:35.786Z"
   },
   {
    "duration": 125,
    "start_time": "2022-02-19T16:45:35.940Z"
   },
   {
    "duration": 65,
    "start_time": "2022-02-19T16:45:36.069Z"
   },
   {
    "duration": 10,
    "start_time": "2022-02-19T16:45:36.150Z"
   },
   {
    "duration": 18,
    "start_time": "2022-02-19T16:45:36.163Z"
   },
   {
    "duration": 271,
    "start_time": "2022-02-19T16:45:36.184Z"
   },
   {
    "duration": 71,
    "start_time": "2022-02-19T16:45:36.458Z"
   },
   {
    "duration": 56,
    "start_time": "2022-02-19T16:45:36.548Z"
   },
   {
    "duration": 82,
    "start_time": "2022-02-19T16:45:36.607Z"
   },
   {
    "duration": 98,
    "start_time": "2022-02-19T16:45:36.692Z"
   },
   {
    "duration": 89,
    "start_time": "2022-02-19T16:45:36.794Z"
   },
   {
    "duration": 93,
    "start_time": "2022-02-19T16:45:36.889Z"
   },
   {
    "duration": 109,
    "start_time": "2022-02-19T16:45:36.986Z"
   },
   {
    "duration": 8,
    "start_time": "2022-02-19T16:45:37.099Z"
   },
   {
    "duration": 38,
    "start_time": "2022-02-19T16:45:37.110Z"
   },
   {
    "duration": 16,
    "start_time": "2022-02-19T16:45:37.151Z"
   },
   {
    "duration": 484,
    "start_time": "2022-02-19T16:45:37.170Z"
   },
   {
    "duration": 6,
    "start_time": "2022-02-19T16:45:37.657Z"
   },
   {
    "duration": 32,
    "start_time": "2022-02-19T16:46:23.004Z"
   },
   {
    "duration": 8,
    "start_time": "2022-02-19T16:46:37.637Z"
   },
   {
    "duration": 38,
    "start_time": "2022-02-19T16:46:41.691Z"
   },
   {
    "duration": 32,
    "start_time": "2022-02-19T16:46:51.419Z"
   },
   {
    "duration": 29,
    "start_time": "2022-02-19T16:50:54.505Z"
   },
   {
    "duration": 301,
    "start_time": "2022-02-19T16:52:18.201Z"
   },
   {
    "duration": 372,
    "start_time": "2022-02-19T16:52:33.065Z"
   },
   {
    "duration": 113,
    "start_time": "2022-02-19T16:53:19.840Z"
   },
   {
    "duration": 29,
    "start_time": "2022-02-19T16:53:24.224Z"
   },
   {
    "duration": 107,
    "start_time": "2022-02-19T16:53:42.744Z"
   },
   {
    "duration": 29,
    "start_time": "2022-02-19T16:53:43.944Z"
   },
   {
    "duration": 8805,
    "start_time": "2022-02-19T16:54:31.088Z"
   },
   {
    "duration": 4282,
    "start_time": "2022-02-19T16:54:35.614Z"
   },
   {
    "duration": 30,
    "start_time": "2022-02-19T16:54:54.479Z"
   },
   {
    "duration": 8122,
    "start_time": "2022-02-19T16:55:09.695Z"
   },
   {
    "duration": 32,
    "start_time": "2022-02-19T17:03:36.708Z"
   },
   {
    "duration": 4,
    "start_time": "2022-02-19T17:03:41.733Z"
   },
   {
    "duration": 353,
    "start_time": "2022-02-19T17:03:41.740Z"
   },
   {
    "duration": 303,
    "start_time": "2022-02-19T17:03:42.097Z"
   },
   {
    "duration": 206,
    "start_time": "2022-02-19T17:03:42.404Z"
   },
   {
    "duration": 37,
    "start_time": "2022-02-19T17:03:42.613Z"
   },
   {
    "duration": 45,
    "start_time": "2022-02-19T17:03:42.653Z"
   },
   {
    "duration": 27,
    "start_time": "2022-02-19T17:03:42.702Z"
   },
   {
    "duration": 23,
    "start_time": "2022-02-19T17:03:42.748Z"
   },
   {
    "duration": 23,
    "start_time": "2022-02-19T17:03:42.774Z"
   },
   {
    "duration": 11,
    "start_time": "2022-02-19T17:03:42.800Z"
   },
   {
    "duration": 40,
    "start_time": "2022-02-19T17:03:42.813Z"
   },
   {
    "duration": 129,
    "start_time": "2022-02-19T17:03:42.858Z"
   },
   {
    "duration": 109,
    "start_time": "2022-02-19T17:03:42.990Z"
   },
   {
    "duration": 77,
    "start_time": "2022-02-19T17:03:43.102Z"
   },
   {
    "duration": 9,
    "start_time": "2022-02-19T17:03:43.182Z"
   },
   {
    "duration": 12,
    "start_time": "2022-02-19T17:03:43.194Z"
   },
   {
    "duration": 269,
    "start_time": "2022-02-19T17:03:43.208Z"
   },
   {
    "duration": 85,
    "start_time": "2022-02-19T17:03:43.480Z"
   },
   {
    "duration": 54,
    "start_time": "2022-02-19T17:03:43.567Z"
   },
   {
    "duration": 65,
    "start_time": "2022-02-19T17:03:43.624Z"
   },
   {
    "duration": 37,
    "start_time": "2022-02-19T17:03:44.747Z"
   },
   {
    "duration": 55,
    "start_time": "2022-02-19T17:03:54.772Z"
   },
   {
    "duration": 338,
    "start_time": "2022-02-19T17:05:25.052Z"
   },
   {
    "duration": 338,
    "start_time": "2022-02-19T17:05:57.259Z"
   },
   {
    "duration": 36,
    "start_time": "2022-02-19T17:06:10.659Z"
   },
   {
    "duration": 30,
    "start_time": "2022-02-19T17:06:17.794Z"
   },
   {
    "duration": 32,
    "start_time": "2022-02-19T17:06:25.291Z"
   },
   {
    "duration": 295,
    "start_time": "2022-02-19T17:06:34.338Z"
   },
   {
    "duration": 304,
    "start_time": "2022-02-19T17:06:59.634Z"
   },
   {
    "duration": 113,
    "start_time": "2022-02-19T17:07:12.026Z"
   },
   {
    "duration": 43,
    "start_time": "2022-02-19T17:07:15.890Z"
   },
   {
    "duration": 69,
    "start_time": "2022-02-19T17:07:20.074Z"
   },
   {
    "duration": 7,
    "start_time": "2022-02-19T17:16:59.949Z"
   },
   {
    "duration": 637,
    "start_time": "2022-02-19T17:19:49.653Z"
   },
   {
    "duration": 9039,
    "start_time": "2022-02-19T17:20:03.149Z"
   },
   {
    "duration": 9288,
    "start_time": "2022-02-19T17:21:55.300Z"
   },
   {
    "duration": 26,
    "start_time": "2022-02-19T17:23:00.764Z"
   },
   {
    "duration": 7,
    "start_time": "2022-02-19T17:31:06.352Z"
   },
   {
    "duration": 9941,
    "start_time": "2022-02-19T17:31:24.224Z"
   },
   {
    "duration": 10111,
    "start_time": "2022-02-19T17:34:09.112Z"
   },
   {
    "duration": 8945,
    "start_time": "2022-02-19T17:36:51.290Z"
   },
   {
    "duration": 9580,
    "start_time": "2022-02-19T17:41:43.260Z"
   },
   {
    "duration": 60,
    "start_time": "2022-02-19T17:43:57.955Z"
   },
   {
    "duration": 30,
    "start_time": "2022-02-19T17:44:24.652Z"
   },
   {
    "duration": 1290,
    "start_time": "2022-02-19T17:45:28.466Z"
   },
   {
    "duration": 28,
    "start_time": "2022-02-19T17:45:47.546Z"
   },
   {
    "duration": 29,
    "start_time": "2022-02-19T17:45:55.785Z"
   },
   {
    "duration": 28,
    "start_time": "2022-02-19T17:46:05.258Z"
   },
   {
    "duration": 78,
    "start_time": "2022-02-19T17:50:09.448Z"
   },
   {
    "duration": 1267,
    "start_time": "2022-02-19T17:50:30.664Z"
   },
   {
    "duration": 73,
    "start_time": "2022-02-19T17:50:40.008Z"
   },
   {
    "duration": 53,
    "start_time": "2022-02-19T17:50:54.832Z"
   },
   {
    "duration": 76,
    "start_time": "2022-02-19T17:51:05.831Z"
   },
   {
    "duration": 51,
    "start_time": "2022-02-19T17:51:09.632Z"
   },
   {
    "duration": 68,
    "start_time": "2022-02-19T17:51:14.592Z"
   },
   {
    "duration": 72,
    "start_time": "2022-02-19T17:51:19.527Z"
   },
   {
    "duration": 76,
    "start_time": "2022-02-19T17:51:22.152Z"
   },
   {
    "duration": 49,
    "start_time": "2022-02-19T17:51:23.999Z"
   },
   {
    "duration": 83,
    "start_time": "2022-02-19T17:51:30.422Z"
   },
   {
    "duration": 5,
    "start_time": "2022-02-19T17:51:32.418Z"
   },
   {
    "duration": 304,
    "start_time": "2022-02-19T17:51:32.425Z"
   },
   {
    "duration": 238,
    "start_time": "2022-02-19T17:51:32.733Z"
   },
   {
    "duration": 149,
    "start_time": "2022-02-19T17:51:32.975Z"
   },
   {
    "duration": 25,
    "start_time": "2022-02-19T17:51:33.127Z"
   },
   {
    "duration": 49,
    "start_time": "2022-02-19T17:51:33.155Z"
   },
   {
    "duration": 47,
    "start_time": "2022-02-19T17:51:33.207Z"
   },
   {
    "duration": 22,
    "start_time": "2022-02-19T17:51:33.257Z"
   },
   {
    "duration": 19,
    "start_time": "2022-02-19T17:51:33.283Z"
   },
   {
    "duration": 7,
    "start_time": "2022-02-19T17:51:33.305Z"
   },
   {
    "duration": 10,
    "start_time": "2022-02-19T17:51:33.349Z"
   },
   {
    "duration": 141,
    "start_time": "2022-02-19T17:51:33.362Z"
   },
   {
    "duration": 119,
    "start_time": "2022-02-19T17:51:33.505Z"
   },
   {
    "duration": 83,
    "start_time": "2022-02-19T17:51:33.627Z"
   },
   {
    "duration": 12,
    "start_time": "2022-02-19T17:51:33.712Z"
   },
   {
    "duration": 34,
    "start_time": "2022-02-19T17:51:33.727Z"
   },
   {
    "duration": 289,
    "start_time": "2022-02-19T17:51:33.765Z"
   },
   {
    "duration": 100,
    "start_time": "2022-02-19T17:51:34.057Z"
   },
   {
    "duration": 58,
    "start_time": "2022-02-19T17:51:34.160Z"
   },
   {
    "duration": 65,
    "start_time": "2022-02-19T17:51:34.221Z"
   },
   {
    "duration": 95,
    "start_time": "2022-02-19T17:51:34.289Z"
   },
   {
    "duration": 29,
    "start_time": "2022-02-19T17:51:34.387Z"
   },
   {
    "duration": 77,
    "start_time": "2022-02-19T17:51:34.419Z"
   },
   {
    "duration": 87,
    "start_time": "2022-02-19T17:51:34.499Z"
   },
   {
    "duration": 7,
    "start_time": "2022-02-19T17:51:34.588Z"
   },
   {
    "duration": 13,
    "start_time": "2022-02-19T17:51:34.598Z"
   },
   {
    "duration": 8,
    "start_time": "2022-02-19T17:51:34.617Z"
   },
   {
    "duration": 879,
    "start_time": "2022-02-19T17:51:34.647Z"
   },
   {
    "duration": 5,
    "start_time": "2022-02-19T17:51:35.529Z"
   },
   {
    "duration": 37,
    "start_time": "2022-02-19T17:51:35.537Z"
   },
   {
    "duration": 12,
    "start_time": "2022-02-19T17:51:35.578Z"
   },
   {
    "duration": 184,
    "start_time": "2022-02-19T17:51:35.593Z"
   },
   {
    "duration": 4276,
    "start_time": "2022-02-19T17:51:31.504Z"
   },
   {
    "duration": 68,
    "start_time": "2022-02-19T17:51:40.000Z"
   },
   {
    "duration": 5,
    "start_time": "2022-02-19T17:51:46.527Z"
   },
   {
    "duration": 225,
    "start_time": "2022-02-19T17:51:46.535Z"
   },
   {
    "duration": 202,
    "start_time": "2022-02-19T17:51:46.764Z"
   },
   {
    "duration": 138,
    "start_time": "2022-02-19T17:51:46.969Z"
   },
   {
    "duration": 23,
    "start_time": "2022-02-19T17:51:47.110Z"
   },
   {
    "duration": 45,
    "start_time": "2022-02-19T17:51:47.149Z"
   },
   {
    "duration": 28,
    "start_time": "2022-02-19T17:51:47.197Z"
   },
   {
    "duration": 25,
    "start_time": "2022-02-19T17:51:47.249Z"
   },
   {
    "duration": 19,
    "start_time": "2022-02-19T17:51:47.277Z"
   },
   {
    "duration": 9,
    "start_time": "2022-02-19T17:51:47.299Z"
   },
   {
    "duration": 40,
    "start_time": "2022-02-19T17:51:47.310Z"
   },
   {
    "duration": 134,
    "start_time": "2022-02-19T17:51:47.353Z"
   },
   {
    "duration": 98,
    "start_time": "2022-02-19T17:51:47.490Z"
   },
   {
    "duration": 69,
    "start_time": "2022-02-19T17:51:47.591Z"
   },
   {
    "duration": 8,
    "start_time": "2022-02-19T17:51:47.663Z"
   },
   {
    "duration": 9,
    "start_time": "2022-02-19T17:51:47.674Z"
   },
   {
    "duration": 267,
    "start_time": "2022-02-19T17:51:47.685Z"
   },
   {
    "duration": 67,
    "start_time": "2022-02-19T17:51:47.954Z"
   },
   {
    "duration": 66,
    "start_time": "2022-02-19T17:51:48.024Z"
   },
   {
    "duration": 58,
    "start_time": "2022-02-19T17:51:48.093Z"
   },
   {
    "duration": 68,
    "start_time": "2022-02-19T17:51:57.479Z"
   },
   {
    "duration": 44,
    "start_time": "2022-02-19T17:52:07.927Z"
   },
   {
    "duration": 67,
    "start_time": "2022-02-19T17:52:10.302Z"
   },
   {
    "duration": 5,
    "start_time": "2022-02-19T17:52:42.640Z"
   },
   {
    "duration": 250,
    "start_time": "2022-02-19T17:52:42.648Z"
   },
   {
    "duration": 207,
    "start_time": "2022-02-19T17:52:42.901Z"
   },
   {
    "duration": 138,
    "start_time": "2022-02-19T17:52:43.111Z"
   },
   {
    "duration": 21,
    "start_time": "2022-02-19T17:52:43.252Z"
   },
   {
    "duration": 40,
    "start_time": "2022-02-19T17:52:43.275Z"
   },
   {
    "duration": 37,
    "start_time": "2022-02-19T17:52:43.317Z"
   },
   {
    "duration": 21,
    "start_time": "2022-02-19T17:52:43.358Z"
   },
   {
    "duration": 20,
    "start_time": "2022-02-19T17:52:43.383Z"
   },
   {
    "duration": 44,
    "start_time": "2022-02-19T17:52:43.406Z"
   },
   {
    "duration": 8,
    "start_time": "2022-02-19T17:52:43.453Z"
   },
   {
    "duration": 127,
    "start_time": "2022-02-19T17:52:43.463Z"
   },
   {
    "duration": 100,
    "start_time": "2022-02-19T17:52:43.593Z"
   },
   {
    "duration": 62,
    "start_time": "2022-02-19T17:52:43.697Z"
   },
   {
    "duration": 9,
    "start_time": "2022-02-19T17:52:43.762Z"
   },
   {
    "duration": 14,
    "start_time": "2022-02-19T17:52:43.773Z"
   },
   {
    "duration": 251,
    "start_time": "2022-02-19T17:52:43.789Z"
   },
   {
    "duration": 69,
    "start_time": "2022-02-19T17:52:44.042Z"
   },
   {
    "duration": 71,
    "start_time": "2022-02-19T17:52:44.114Z"
   },
   {
    "duration": 44,
    "start_time": "2022-02-19T17:52:44.188Z"
   },
   {
    "duration": 65,
    "start_time": "2022-02-19T17:52:44.247Z"
   },
   {
    "duration": 47,
    "start_time": "2022-02-19T17:52:44.316Z"
   },
   {
    "duration": 53,
    "start_time": "2022-02-19T17:52:44.367Z"
   },
   {
    "duration": 79,
    "start_time": "2022-02-19T17:52:44.422Z"
   },
   {
    "duration": 5,
    "start_time": "2022-02-19T17:52:44.504Z"
   },
   {
    "duration": 12,
    "start_time": "2022-02-19T17:52:44.511Z"
   },
   {
    "duration": 24,
    "start_time": "2022-02-19T17:52:44.526Z"
   },
   {
    "duration": 55,
    "start_time": "2022-02-19T17:52:44.552Z"
   },
   {
    "duration": 1330,
    "start_time": "2022-02-19T17:52:44.610Z"
   },
   {
    "duration": 4266,
    "start_time": "2022-02-19T17:52:41.677Z"
   },
   {
    "duration": 62,
    "start_time": "2022-02-19T17:52:51.766Z"
   },
   {
    "duration": 29,
    "start_time": "2022-02-19T17:52:52.382Z"
   },
   {
    "duration": 6,
    "start_time": "2022-02-19T17:52:59.166Z"
   },
   {
    "duration": 269,
    "start_time": "2022-02-19T17:53:00.430Z"
   },
   {
    "duration": 289,
    "start_time": "2022-02-19T17:53:09.159Z"
   },
   {
    "duration": 285,
    "start_time": "2022-02-19T17:53:10.877Z"
   },
   {
    "duration": 4,
    "start_time": "2022-02-19T17:53:19.864Z"
   },
   {
    "duration": 220,
    "start_time": "2022-02-19T17:53:19.871Z"
   },
   {
    "duration": 217,
    "start_time": "2022-02-19T17:53:20.095Z"
   },
   {
    "duration": 142,
    "start_time": "2022-02-19T17:53:20.315Z"
   },
   {
    "duration": 21,
    "start_time": "2022-02-19T17:53:20.460Z"
   },
   {
    "duration": 45,
    "start_time": "2022-02-19T17:53:20.484Z"
   },
   {
    "duration": 35,
    "start_time": "2022-02-19T17:53:20.531Z"
   },
   {
    "duration": 22,
    "start_time": "2022-02-19T17:53:20.568Z"
   },
   {
    "duration": 19,
    "start_time": "2022-02-19T17:53:20.594Z"
   },
   {
    "duration": 8,
    "start_time": "2022-02-19T17:53:20.648Z"
   },
   {
    "duration": 9,
    "start_time": "2022-02-19T17:53:20.659Z"
   },
   {
    "duration": 132,
    "start_time": "2022-02-19T17:53:20.671Z"
   },
   {
    "duration": 101,
    "start_time": "2022-02-19T17:53:20.806Z"
   },
   {
    "duration": 63,
    "start_time": "2022-02-19T17:53:20.909Z"
   },
   {
    "duration": 9,
    "start_time": "2022-02-19T17:53:20.975Z"
   },
   {
    "duration": 19,
    "start_time": "2022-02-19T17:53:20.987Z"
   },
   {
    "duration": 253,
    "start_time": "2022-02-19T17:53:21.009Z"
   },
   {
    "duration": 83,
    "start_time": "2022-02-19T17:53:21.265Z"
   },
   {
    "duration": 50,
    "start_time": "2022-02-19T17:53:21.351Z"
   },
   {
    "duration": 60,
    "start_time": "2022-02-19T17:53:21.404Z"
   },
   {
    "duration": 65,
    "start_time": "2022-02-19T17:53:23.990Z"
   },
   {
    "duration": 29,
    "start_time": "2022-02-19T17:53:27.197Z"
   },
   {
    "duration": 55,
    "start_time": "2022-02-19T17:53:28.173Z"
   },
   {
    "duration": 61,
    "start_time": "2022-02-19T17:53:29.534Z"
   },
   {
    "duration": 7,
    "start_time": "2022-02-19T17:53:30.772Z"
   },
   {
    "duration": 6,
    "start_time": "2022-02-19T17:53:31.125Z"
   },
   {
    "duration": 4,
    "start_time": "2022-02-19T17:53:31.485Z"
   },
   {
    "duration": 55,
    "start_time": "2022-02-19T17:53:31.901Z"
   },
   {
    "duration": 30,
    "start_time": "2022-02-19T17:53:32.454Z"
   },
   {
    "duration": 5,
    "start_time": "2022-02-19T17:53:53.376Z"
   },
   {
    "duration": 228,
    "start_time": "2022-02-19T17:53:53.385Z"
   },
   {
    "duration": 195,
    "start_time": "2022-02-19T17:53:53.617Z"
   },
   {
    "duration": 139,
    "start_time": "2022-02-19T17:53:53.815Z"
   },
   {
    "duration": 21,
    "start_time": "2022-02-19T17:53:53.957Z"
   },
   {
    "duration": 44,
    "start_time": "2022-02-19T17:53:53.980Z"
   },
   {
    "duration": 40,
    "start_time": "2022-02-19T17:53:54.026Z"
   },
   {
    "duration": 20,
    "start_time": "2022-02-19T17:53:54.069Z"
   },
   {
    "duration": 18,
    "start_time": "2022-02-19T17:53:54.093Z"
   },
   {
    "duration": 39,
    "start_time": "2022-02-19T17:53:54.113Z"
   },
   {
    "duration": 10,
    "start_time": "2022-02-19T17:53:54.154Z"
   },
   {
    "duration": 127,
    "start_time": "2022-02-19T17:53:54.166Z"
   },
   {
    "duration": 103,
    "start_time": "2022-02-19T17:53:54.295Z"
   },
   {
    "duration": 64,
    "start_time": "2022-02-19T17:53:54.401Z"
   },
   {
    "duration": 9,
    "start_time": "2022-02-19T17:53:54.467Z"
   },
   {
    "duration": 11,
    "start_time": "2022-02-19T17:53:54.478Z"
   },
   {
    "duration": 249,
    "start_time": "2022-02-19T17:53:54.492Z"
   },
   {
    "duration": 70,
    "start_time": "2022-02-19T17:53:54.744Z"
   },
   {
    "duration": 69,
    "start_time": "2022-02-19T17:53:54.817Z"
   },
   {
    "duration": 45,
    "start_time": "2022-02-19T17:53:54.888Z"
   },
   {
    "duration": 69,
    "start_time": "2022-02-19T17:53:54.947Z"
   },
   {
    "duration": 49,
    "start_time": "2022-02-19T17:53:55.018Z"
   },
   {
    "duration": 51,
    "start_time": "2022-02-19T17:53:55.071Z"
   },
   {
    "duration": 79,
    "start_time": "2022-02-19T17:53:55.125Z"
   },
   {
    "duration": 29,
    "start_time": "2022-02-19T17:53:58.542Z"
   },
   {
    "duration": 7,
    "start_time": "2022-02-19T17:53:59.869Z"
   },
   {
    "duration": 446,
    "start_time": "2022-02-19T17:54:03.381Z"
   },
   {
    "duration": 9,
    "start_time": "2022-02-19T17:55:57.174Z"
   },
   {
    "duration": 814,
    "start_time": "2022-02-19T17:55:59.837Z"
   },
   {
    "duration": 7,
    "start_time": "2022-02-19T17:56:45.397Z"
   },
   {
    "duration": 940,
    "start_time": "2022-02-19T17:56:46.112Z"
   },
   {
    "duration": 7,
    "start_time": "2022-02-19T17:58:18.237Z"
   },
   {
    "duration": 396,
    "start_time": "2022-02-19T17:58:20.092Z"
   },
   {
    "duration": 369,
    "start_time": "2022-02-19T17:59:13.532Z"
   },
   {
    "duration": 4,
    "start_time": "2022-02-19T17:59:20.654Z"
   },
   {
    "duration": 235,
    "start_time": "2022-02-19T17:59:20.660Z"
   },
   {
    "duration": 213,
    "start_time": "2022-02-19T17:59:20.898Z"
   },
   {
    "duration": 138,
    "start_time": "2022-02-19T17:59:21.114Z"
   },
   {
    "duration": 20,
    "start_time": "2022-02-19T17:59:21.255Z"
   },
   {
    "duration": 44,
    "start_time": "2022-02-19T17:59:21.278Z"
   },
   {
    "duration": 44,
    "start_time": "2022-02-19T17:59:21.326Z"
   },
   {
    "duration": 25,
    "start_time": "2022-02-19T17:59:21.373Z"
   },
   {
    "duration": 48,
    "start_time": "2022-02-19T17:59:21.404Z"
   },
   {
    "duration": 8,
    "start_time": "2022-02-19T17:59:21.455Z"
   },
   {
    "duration": 11,
    "start_time": "2022-02-19T17:59:21.465Z"
   },
   {
    "duration": 138,
    "start_time": "2022-02-19T17:59:21.478Z"
   },
   {
    "duration": 97,
    "start_time": "2022-02-19T17:59:21.618Z"
   },
   {
    "duration": 68,
    "start_time": "2022-02-19T17:59:21.718Z"
   },
   {
    "duration": 8,
    "start_time": "2022-02-19T17:59:21.788Z"
   },
   {
    "duration": 11,
    "start_time": "2022-02-19T17:59:21.799Z"
   },
   {
    "duration": 272,
    "start_time": "2022-02-19T17:59:21.813Z"
   },
   {
    "duration": 79,
    "start_time": "2022-02-19T17:59:22.088Z"
   },
   {
    "duration": 66,
    "start_time": "2022-02-19T17:59:22.170Z"
   },
   {
    "duration": 54,
    "start_time": "2022-02-19T17:59:22.238Z"
   },
   {
    "duration": 86,
    "start_time": "2022-02-19T17:59:22.295Z"
   },
   {
    "duration": 67,
    "start_time": "2022-02-19T17:59:22.383Z"
   },
   {
    "duration": 53,
    "start_time": "2022-02-19T17:59:22.453Z"
   },
   {
    "duration": 83,
    "start_time": "2022-02-19T17:59:22.509Z"
   },
   {
    "duration": 27,
    "start_time": "2022-02-19T17:59:22.594Z"
   },
   {
    "duration": 27,
    "start_time": "2022-02-19T17:59:22.624Z"
   },
   {
    "duration": 402,
    "start_time": "2022-02-19T17:59:22.655Z"
   },
   {
    "duration": 1004,
    "start_time": "2022-02-20T12:08:06.969Z"
   },
   {
    "duration": 290,
    "start_time": "2022-02-20T12:08:07.977Z"
   },
   {
    "duration": 211,
    "start_time": "2022-02-20T12:08:08.271Z"
   },
   {
    "duration": 137,
    "start_time": "2022-02-20T12:08:08.486Z"
   },
   {
    "duration": 29,
    "start_time": "2022-02-20T12:08:08.626Z"
   },
   {
    "duration": 68,
    "start_time": "2022-02-20T12:08:08.658Z"
   },
   {
    "duration": 27,
    "start_time": "2022-02-20T12:08:08.729Z"
   },
   {
    "duration": 39,
    "start_time": "2022-02-20T12:08:08.760Z"
   },
   {
    "duration": 20,
    "start_time": "2022-02-20T12:08:08.803Z"
   },
   {
    "duration": 19,
    "start_time": "2022-02-20T12:08:08.825Z"
   },
   {
    "duration": 23,
    "start_time": "2022-02-20T12:08:08.848Z"
   },
   {
    "duration": 143,
    "start_time": "2022-02-20T12:08:08.873Z"
   },
   {
    "duration": 108,
    "start_time": "2022-02-20T12:08:09.019Z"
   },
   {
    "duration": 67,
    "start_time": "2022-02-20T12:08:09.130Z"
   },
   {
    "duration": 9,
    "start_time": "2022-02-20T12:08:09.200Z"
   },
   {
    "duration": 47,
    "start_time": "2022-02-20T12:08:09.211Z"
   },
   {
    "duration": 258,
    "start_time": "2022-02-20T12:08:09.261Z"
   },
   {
    "duration": 78,
    "start_time": "2022-02-20T12:08:09.522Z"
   },
   {
    "duration": 61,
    "start_time": "2022-02-20T12:08:09.603Z"
   },
   {
    "duration": 45,
    "start_time": "2022-02-20T12:08:09.666Z"
   },
   {
    "duration": 100,
    "start_time": "2022-02-20T12:08:09.714Z"
   },
   {
    "duration": 71,
    "start_time": "2022-02-20T12:08:14.336Z"
   },
   {
    "duration": 1807,
    "start_time": "2022-02-20T12:08:16.576Z"
   },
   {
    "duration": 71,
    "start_time": "2022-02-20T12:08:34.199Z"
   },
   {
    "duration": 76,
    "start_time": "2022-02-20T12:08:54.200Z"
   },
   {
    "duration": 71,
    "start_time": "2022-02-20T12:08:58.968Z"
   },
   {
    "duration": 200,
    "start_time": "2022-02-20T12:10:07.320Z"
   },
   {
    "duration": 94,
    "start_time": "2022-02-20T12:10:35.173Z"
   },
   {
    "duration": 295,
    "start_time": "2022-02-20T12:11:03.241Z"
   },
   {
    "duration": 67,
    "start_time": "2022-02-20T12:11:46.599Z"
   },
   {
    "duration": 65,
    "start_time": "2022-02-20T12:12:00.359Z"
   },
   {
    "duration": 59,
    "start_time": "2022-02-20T12:12:11.161Z"
   },
   {
    "duration": 632,
    "start_time": "2022-02-20T12:13:58.007Z"
   },
   {
    "duration": 70,
    "start_time": "2022-02-20T12:14:23.710Z"
   },
   {
    "duration": 612,
    "start_time": "2022-02-20T12:15:18.165Z"
   },
   {
    "duration": 4,
    "start_time": "2022-02-20T12:15:22.615Z"
   },
   {
    "duration": 240,
    "start_time": "2022-02-20T12:15:22.622Z"
   },
   {
    "duration": 207,
    "start_time": "2022-02-20T12:15:22.866Z"
   },
   {
    "duration": 140,
    "start_time": "2022-02-20T12:15:23.075Z"
   },
   {
    "duration": 20,
    "start_time": "2022-02-20T12:15:23.218Z"
   },
   {
    "duration": 40,
    "start_time": "2022-02-20T12:15:23.249Z"
   },
   {
    "duration": 27,
    "start_time": "2022-02-20T12:15:23.291Z"
   },
   {
    "duration": 43,
    "start_time": "2022-02-20T12:15:23.321Z"
   },
   {
    "duration": 21,
    "start_time": "2022-02-20T12:15:23.367Z"
   },
   {
    "duration": 8,
    "start_time": "2022-02-20T12:15:23.391Z"
   },
   {
    "duration": 10,
    "start_time": "2022-02-20T12:15:23.401Z"
   },
   {
    "duration": 122,
    "start_time": "2022-02-20T12:15:23.449Z"
   },
   {
    "duration": 102,
    "start_time": "2022-02-20T12:15:23.574Z"
   },
   {
    "duration": 54,
    "start_time": "2022-02-20T12:15:23.678Z"
   },
   {
    "duration": 10,
    "start_time": "2022-02-20T12:15:23.747Z"
   },
   {
    "duration": 12,
    "start_time": "2022-02-20T12:15:23.759Z"
   },
   {
    "duration": 250,
    "start_time": "2022-02-20T12:15:23.773Z"
   },
   {
    "duration": 74,
    "start_time": "2022-02-20T12:15:24.026Z"
   },
   {
    "duration": 64,
    "start_time": "2022-02-20T12:15:24.103Z"
   },
   {
    "duration": 43,
    "start_time": "2022-02-20T12:15:24.170Z"
   },
   {
    "duration": 83,
    "start_time": "2022-02-20T12:15:24.216Z"
   },
   {
    "duration": 82,
    "start_time": "2022-02-20T12:15:24.301Z"
   },
   {
    "duration": 77,
    "start_time": "2022-02-20T12:15:24.385Z"
   },
   {
    "duration": 86,
    "start_time": "2022-02-20T12:15:24.464Z"
   },
   {
    "duration": 27,
    "start_time": "2022-02-20T12:15:24.552Z"
   },
   {
    "duration": 747,
    "start_time": "2022-02-20T12:15:24.582Z"
   },
   {
    "duration": 411,
    "start_time": "2022-02-20T12:15:54.190Z"
   },
   {
    "duration": 16,
    "start_time": "2022-02-20T12:18:55.388Z"
   },
   {
    "duration": 29,
    "start_time": "2022-02-20T12:19:11.611Z"
   },
   {
    "duration": 31,
    "start_time": "2022-02-20T12:19:35.436Z"
   },
   {
    "duration": 406,
    "start_time": "2022-02-20T12:19:41.700Z"
   },
   {
    "duration": 424,
    "start_time": "2022-02-20T12:20:03.924Z"
   },
   {
    "duration": 35,
    "start_time": "2022-02-20T12:20:08.500Z"
   },
   {
    "duration": 457,
    "start_time": "2022-02-20T12:20:09.899Z"
   },
   {
    "duration": 6,
    "start_time": "2022-02-20T12:20:14.891Z"
   },
   {
    "duration": 373,
    "start_time": "2022-02-20T12:20:17.812Z"
   },
   {
    "duration": 69,
    "start_time": "2022-02-20T12:20:38.844Z"
   },
   {
    "duration": 4,
    "start_time": "2022-02-20T12:20:45.832Z"
   },
   {
    "duration": 230,
    "start_time": "2022-02-20T12:20:45.839Z"
   },
   {
    "duration": 207,
    "start_time": "2022-02-20T12:20:46.072Z"
   },
   {
    "duration": 139,
    "start_time": "2022-02-20T12:20:46.281Z"
   },
   {
    "duration": 30,
    "start_time": "2022-02-20T12:20:46.423Z"
   },
   {
    "duration": 36,
    "start_time": "2022-02-20T12:20:46.456Z"
   },
   {
    "duration": 27,
    "start_time": "2022-02-20T12:20:46.496Z"
   },
   {
    "duration": 24,
    "start_time": "2022-02-20T12:20:46.551Z"
   },
   {
    "duration": 20,
    "start_time": "2022-02-20T12:20:46.579Z"
   },
   {
    "duration": 8,
    "start_time": "2022-02-20T12:20:46.602Z"
   },
   {
    "duration": 9,
    "start_time": "2022-02-20T12:20:46.648Z"
   },
   {
    "duration": 129,
    "start_time": "2022-02-20T12:20:46.659Z"
   },
   {
    "duration": 101,
    "start_time": "2022-02-20T12:20:46.791Z"
   },
   {
    "duration": 63,
    "start_time": "2022-02-20T12:20:46.895Z"
   },
   {
    "duration": 10,
    "start_time": "2022-02-20T12:20:46.960Z"
   },
   {
    "duration": 12,
    "start_time": "2022-02-20T12:20:46.972Z"
   },
   {
    "duration": 262,
    "start_time": "2022-02-20T12:20:46.986Z"
   },
   {
    "duration": 72,
    "start_time": "2022-02-20T12:20:47.251Z"
   },
   {
    "duration": 70,
    "start_time": "2022-02-20T12:20:47.326Z"
   },
   {
    "duration": 60,
    "start_time": "2022-02-20T12:20:47.399Z"
   },
   {
    "duration": 66,
    "start_time": "2022-02-20T12:20:47.461Z"
   },
   {
    "duration": 74,
    "start_time": "2022-02-20T12:20:47.530Z"
   },
   {
    "duration": 82,
    "start_time": "2022-02-20T12:20:47.608Z"
   },
   {
    "duration": 84,
    "start_time": "2022-02-20T12:20:47.693Z"
   },
   {
    "duration": 393,
    "start_time": "2022-02-20T12:20:47.780Z"
   },
   {
    "duration": 372,
    "start_time": "2022-02-20T12:21:28.522Z"
   },
   {
    "duration": 371,
    "start_time": "2022-02-20T12:26:37.169Z"
   },
   {
    "duration": 76,
    "start_time": "2022-02-20T12:27:49.888Z"
   },
   {
    "duration": 4,
    "start_time": "2022-02-20T12:27:56.577Z"
   },
   {
    "duration": 234,
    "start_time": "2022-02-20T12:27:56.584Z"
   },
   {
    "duration": 208,
    "start_time": "2022-02-20T12:27:56.821Z"
   },
   {
    "duration": 150,
    "start_time": "2022-02-20T12:27:57.032Z"
   },
   {
    "duration": 20,
    "start_time": "2022-02-20T12:27:57.184Z"
   },
   {
    "duration": 51,
    "start_time": "2022-02-20T12:27:57.207Z"
   },
   {
    "duration": 38,
    "start_time": "2022-02-20T12:27:57.261Z"
   },
   {
    "duration": 60,
    "start_time": "2022-02-20T12:27:57.305Z"
   },
   {
    "duration": 28,
    "start_time": "2022-02-20T12:27:57.369Z"
   },
   {
    "duration": 7,
    "start_time": "2022-02-20T12:27:57.400Z"
   },
   {
    "duration": 44,
    "start_time": "2022-02-20T12:27:57.409Z"
   },
   {
    "duration": 140,
    "start_time": "2022-02-20T12:27:57.455Z"
   },
   {
    "duration": 148,
    "start_time": "2022-02-20T12:27:57.597Z"
   },
   {
    "duration": 59,
    "start_time": "2022-02-20T12:27:57.748Z"
   },
   {
    "duration": 10,
    "start_time": "2022-02-20T12:27:57.809Z"
   },
   {
    "duration": 33,
    "start_time": "2022-02-20T12:27:57.821Z"
   },
   {
    "duration": 245,
    "start_time": "2022-02-20T12:27:57.856Z"
   },
   {
    "duration": 82,
    "start_time": "2022-02-20T12:27:58.103Z"
   },
   {
    "duration": 62,
    "start_time": "2022-02-20T12:27:58.187Z"
   },
   {
    "duration": 42,
    "start_time": "2022-02-20T12:27:58.251Z"
   },
   {
    "duration": 93,
    "start_time": "2022-02-20T12:27:58.296Z"
   },
   {
    "duration": 80,
    "start_time": "2022-02-20T12:27:58.391Z"
   },
   {
    "duration": 74,
    "start_time": "2022-02-20T12:27:58.476Z"
   },
   {
    "duration": 75,
    "start_time": "2022-02-20T12:27:58.552Z"
   },
   {
    "duration": 383,
    "start_time": "2022-02-20T12:27:58.630Z"
   },
   {
    "duration": 1132,
    "start_time": "2022-02-20T12:28:34.016Z"
   },
   {
    "duration": 364,
    "start_time": "2022-02-20T12:29:20.608Z"
   },
   {
    "duration": 99,
    "start_time": "2022-02-20T12:29:40.790Z"
   },
   {
    "duration": 426,
    "start_time": "2022-02-20T12:44:51.488Z"
   },
   {
    "duration": 68,
    "start_time": "2022-02-20T12:45:31.241Z"
   },
   {
    "duration": 69,
    "start_time": "2022-02-20T12:45:34.424Z"
   },
   {
    "duration": 436,
    "start_time": "2022-02-20T12:45:37.736Z"
   },
   {
    "duration": 501,
    "start_time": "2022-02-20T12:45:39.458Z"
   },
   {
    "duration": 575,
    "start_time": "2022-02-20T12:45:41.144Z"
   },
   {
    "duration": 291,
    "start_time": "2022-02-20T12:47:31.648Z"
   },
   {
    "duration": 14,
    "start_time": "2022-02-20T12:47:42.936Z"
   },
   {
    "duration": 27,
    "start_time": "2022-02-20T12:47:46.312Z"
   },
   {
    "duration": 387,
    "start_time": "2022-02-20T12:50:09.502Z"
   },
   {
    "duration": 348,
    "start_time": "2022-02-20T12:50:55.511Z"
   },
   {
    "duration": 420,
    "start_time": "2022-02-20T12:51:19.592Z"
   },
   {
    "duration": 15,
    "start_time": "2022-02-20T12:51:30.917Z"
   },
   {
    "duration": 44,
    "start_time": "2022-02-20T12:51:31.926Z"
   },
   {
    "duration": 11,
    "start_time": "2022-02-20T12:51:53.501Z"
   },
   {
    "duration": 41,
    "start_time": "2022-02-20T12:51:54.638Z"
   },
   {
    "duration": 290,
    "start_time": "2022-02-20T12:52:19.558Z"
   },
   {
    "duration": 360,
    "start_time": "2022-02-20T12:52:36.821Z"
   },
   {
    "duration": 10,
    "start_time": "2022-02-20T12:52:46.557Z"
   },
   {
    "duration": 12,
    "start_time": "2022-02-20T12:53:05.797Z"
   },
   {
    "duration": 42,
    "start_time": "2022-02-20T12:53:09.396Z"
   },
   {
    "duration": 401,
    "start_time": "2022-02-20T12:53:53.133Z"
   },
   {
    "duration": 420,
    "start_time": "2022-02-20T12:53:56.156Z"
   },
   {
    "duration": 390,
    "start_time": "2022-02-20T12:53:59.589Z"
   },
   {
    "duration": 41,
    "start_time": "2022-02-20T12:54:43.684Z"
   },
   {
    "duration": 11,
    "start_time": "2022-02-20T12:55:20.972Z"
   },
   {
    "duration": 46,
    "start_time": "2022-02-20T12:55:22.204Z"
   },
   {
    "duration": 12,
    "start_time": "2022-02-20T12:55:25.571Z"
   },
   {
    "duration": 53,
    "start_time": "2022-02-20T12:55:26.844Z"
   },
   {
    "duration": 18,
    "start_time": "2022-02-20T12:58:42.661Z"
   },
   {
    "duration": 46,
    "start_time": "2022-02-20T12:58:46.778Z"
   },
   {
    "duration": 475,
    "start_time": "2022-02-20T12:59:52.482Z"
   },
   {
    "duration": 507,
    "start_time": "2022-02-20T13:02:14.532Z"
   },
   {
    "duration": 8300,
    "start_time": "2022-02-20T13:02:29.458Z"
   },
   {
    "duration": 862,
    "start_time": "2022-02-20T13:02:46.774Z"
   },
   {
    "duration": 253,
    "start_time": "2022-02-20T13:02:47.639Z"
   },
   {
    "duration": 214,
    "start_time": "2022-02-20T13:02:47.896Z"
   },
   {
    "duration": 140,
    "start_time": "2022-02-20T13:02:48.113Z"
   },
   {
    "duration": 20,
    "start_time": "2022-02-20T13:02:48.256Z"
   },
   {
    "duration": 46,
    "start_time": "2022-02-20T13:02:48.278Z"
   },
   {
    "duration": 42,
    "start_time": "2022-02-20T13:02:48.327Z"
   },
   {
    "duration": 28,
    "start_time": "2022-02-20T13:02:48.373Z"
   },
   {
    "duration": 18,
    "start_time": "2022-02-20T13:02:48.404Z"
   },
   {
    "duration": 25,
    "start_time": "2022-02-20T13:02:48.424Z"
   },
   {
    "duration": 8,
    "start_time": "2022-02-20T13:02:48.452Z"
   },
   {
    "duration": 152,
    "start_time": "2022-02-20T13:02:48.463Z"
   },
   {
    "duration": 133,
    "start_time": "2022-02-20T13:02:48.618Z"
   },
   {
    "duration": 58,
    "start_time": "2022-02-20T13:02:48.754Z"
   },
   {
    "duration": 9,
    "start_time": "2022-02-20T13:02:48.814Z"
   },
   {
    "duration": 30,
    "start_time": "2022-02-20T13:02:48.825Z"
   },
   {
    "duration": 279,
    "start_time": "2022-02-20T13:02:48.857Z"
   },
   {
    "duration": 76,
    "start_time": "2022-02-20T13:02:49.139Z"
   },
   {
    "duration": 68,
    "start_time": "2022-02-20T13:02:49.217Z"
   },
   {
    "duration": 44,
    "start_time": "2022-02-20T13:02:49.288Z"
   },
   {
    "duration": 98,
    "start_time": "2022-02-20T13:02:49.334Z"
   },
   {
    "duration": 70,
    "start_time": "2022-02-20T13:02:49.449Z"
   },
   {
    "duration": 66,
    "start_time": "2022-02-20T13:02:49.548Z"
   },
   {
    "duration": 82,
    "start_time": "2022-02-20T13:02:49.617Z"
   },
   {
    "duration": 410,
    "start_time": "2022-02-20T13:02:49.702Z"
   },
   {
    "duration": 691,
    "start_time": "2022-02-20T13:02:50.114Z"
   },
   {
    "duration": -79,
    "start_time": "2022-02-20T13:02:50.887Z"
   },
   {
    "duration": -83,
    "start_time": "2022-02-20T13:02:50.892Z"
   },
   {
    "duration": -84,
    "start_time": "2022-02-20T13:02:50.896Z"
   },
   {
    "duration": -88,
    "start_time": "2022-02-20T13:02:50.901Z"
   },
   {
    "duration": -92,
    "start_time": "2022-02-20T13:02:50.906Z"
   },
   {
    "duration": 359,
    "start_time": "2022-02-20T13:03:11.692Z"
   },
   {
    "duration": 394,
    "start_time": "2022-02-20T13:03:19.835Z"
   },
   {
    "duration": 437,
    "start_time": "2022-02-20T13:03:38.524Z"
   },
   {
    "duration": 76,
    "start_time": "2022-02-20T13:03:48.227Z"
   },
   {
    "duration": 441,
    "start_time": "2022-02-20T13:03:50.723Z"
   },
   {
    "duration": 334,
    "start_time": "2022-02-20T13:03:51.987Z"
   },
   {
    "duration": 403,
    "start_time": "2022-02-20T13:03:53.316Z"
   },
   {
    "duration": 10,
    "start_time": "2022-02-20T13:03:54.162Z"
   },
   {
    "duration": 38,
    "start_time": "2022-02-20T13:03:55.331Z"
   },
   {
    "duration": 10,
    "start_time": "2022-02-20T13:03:56.595Z"
   },
   {
    "duration": 42,
    "start_time": "2022-02-20T13:03:57.859Z"
   },
   {
    "duration": 10,
    "start_time": "2022-02-20T13:03:59.123Z"
   },
   {
    "duration": -70,
    "start_time": "2022-02-20T13:04:43.702Z"
   },
   {
    "duration": -72,
    "start_time": "2022-02-20T13:04:43.706Z"
   },
   {
    "duration": 8855,
    "start_time": "2022-02-20T13:05:05.938Z"
   },
   {
    "duration": -62,
    "start_time": "2022-02-20T13:05:14.858Z"
   },
   {
    "duration": 40,
    "start_time": "2022-02-20T13:05:16.252Z"
   },
   {
    "duration": 686,
    "start_time": "2022-02-20T13:07:06.250Z"
   },
   {
    "duration": 309,
    "start_time": "2022-02-20T13:07:13.585Z"
   },
   {
    "duration": 526,
    "start_time": "2022-02-20T13:07:23.385Z"
   },
   {
    "duration": 14,
    "start_time": "2022-02-20T13:08:08.945Z"
   },
   {
    "duration": 9,
    "start_time": "2022-02-20T13:08:32.370Z"
   },
   {
    "duration": 7277,
    "start_time": "2022-02-20T13:08:36.945Z"
   },
   {
    "duration": 7334,
    "start_time": "2022-02-20T13:08:50.737Z"
   },
   {
    "duration": -87,
    "start_time": "2022-02-20T13:08:58.162Z"
   },
   {
    "duration": -88,
    "start_time": "2022-02-20T13:08:58.165Z"
   },
   {
    "duration": -89,
    "start_time": "2022-02-20T13:08:58.167Z"
   },
   {
    "duration": -90,
    "start_time": "2022-02-20T13:08:58.170Z"
   },
   {
    "duration": -90,
    "start_time": "2022-02-20T13:08:58.172Z"
   },
   {
    "duration": -92,
    "start_time": "2022-02-20T13:08:58.175Z"
   },
   {
    "duration": -92,
    "start_time": "2022-02-20T13:08:58.177Z"
   },
   {
    "duration": -93,
    "start_time": "2022-02-20T13:08:58.180Z"
   },
   {
    "duration": -94,
    "start_time": "2022-02-20T13:08:58.183Z"
   },
   {
    "duration": -94,
    "start_time": "2022-02-20T13:08:58.184Z"
   },
   {
    "duration": -93,
    "start_time": "2022-02-20T13:08:58.185Z"
   },
   {
    "duration": -93,
    "start_time": "2022-02-20T13:08:58.187Z"
   },
   {
    "duration": -93,
    "start_time": "2022-02-20T13:08:58.188Z"
   },
   {
    "duration": -93,
    "start_time": "2022-02-20T13:08:58.190Z"
   },
   {
    "duration": -97,
    "start_time": "2022-02-20T13:08:58.195Z"
   },
   {
    "duration": -98,
    "start_time": "2022-02-20T13:08:58.198Z"
   },
   {
    "duration": -100,
    "start_time": "2022-02-20T13:08:58.202Z"
   },
   {
    "duration": -99,
    "start_time": "2022-02-20T13:08:58.203Z"
   },
   {
    "duration": -100,
    "start_time": "2022-02-20T13:08:58.205Z"
   },
   {
    "duration": -105,
    "start_time": "2022-02-20T13:08:58.211Z"
   },
   {
    "duration": -105,
    "start_time": "2022-02-20T13:08:58.213Z"
   },
   {
    "duration": -66,
    "start_time": "2022-02-20T13:08:58.214Z"
   },
   {
    "duration": -67,
    "start_time": "2022-02-20T13:08:58.216Z"
   },
   {
    "duration": -67,
    "start_time": "2022-02-20T13:08:58.218Z"
   },
   {
    "duration": -67,
    "start_time": "2022-02-20T13:08:58.219Z"
   },
   {
    "duration": -72,
    "start_time": "2022-02-20T13:08:58.226Z"
   },
   {
    "duration": -71,
    "start_time": "2022-02-20T13:08:58.227Z"
   },
   {
    "duration": -71,
    "start_time": "2022-02-20T13:08:58.229Z"
   },
   {
    "duration": -70,
    "start_time": "2022-02-20T13:08:58.230Z"
   },
   {
    "duration": -71,
    "start_time": "2022-02-20T13:08:58.232Z"
   },
   {
    "duration": -73,
    "start_time": "2022-02-20T13:08:58.235Z"
   },
   {
    "duration": 44,
    "start_time": "2022-02-20T13:09:03.128Z"
   },
   {
    "duration": 7739,
    "start_time": "2022-02-20T13:09:06.345Z"
   },
   {
    "duration": 12,
    "start_time": "2022-02-20T13:09:25.130Z"
   },
   {
    "duration": 4,
    "start_time": "2022-02-20T13:09:35.914Z"
   },
   {
    "duration": 244,
    "start_time": "2022-02-20T13:09:35.920Z"
   },
   {
    "duration": 212,
    "start_time": "2022-02-20T13:09:36.168Z"
   },
   {
    "duration": 148,
    "start_time": "2022-02-20T13:09:36.384Z"
   },
   {
    "duration": 26,
    "start_time": "2022-02-20T13:09:36.535Z"
   },
   {
    "duration": 39,
    "start_time": "2022-02-20T13:09:36.564Z"
   },
   {
    "duration": 48,
    "start_time": "2022-02-20T13:09:36.606Z"
   },
   {
    "duration": 21,
    "start_time": "2022-02-20T13:09:36.659Z"
   },
   {
    "duration": 19,
    "start_time": "2022-02-20T13:09:36.684Z"
   },
   {
    "duration": 43,
    "start_time": "2022-02-20T13:09:36.706Z"
   },
   {
    "duration": 8,
    "start_time": "2022-02-20T13:09:36.752Z"
   },
   {
    "duration": 141,
    "start_time": "2022-02-20T13:09:36.763Z"
   },
   {
    "duration": 105,
    "start_time": "2022-02-20T13:09:36.906Z"
   },
   {
    "duration": 78,
    "start_time": "2022-02-20T13:09:37.014Z"
   },
   {
    "duration": 14,
    "start_time": "2022-02-20T13:09:37.094Z"
   },
   {
    "duration": 18,
    "start_time": "2022-02-20T13:09:37.110Z"
   },
   {
    "duration": 304,
    "start_time": "2022-02-20T13:09:37.148Z"
   },
   {
    "duration": 67,
    "start_time": "2022-02-20T13:09:37.455Z"
   },
   {
    "duration": 69,
    "start_time": "2022-02-20T13:09:37.525Z"
   },
   {
    "duration": 57,
    "start_time": "2022-02-20T13:09:37.596Z"
   },
   {
    "duration": 70,
    "start_time": "2022-02-20T13:09:37.656Z"
   },
   {
    "duration": 80,
    "start_time": "2022-02-20T13:09:37.729Z"
   },
   {
    "duration": 82,
    "start_time": "2022-02-20T13:09:37.814Z"
   },
   {
    "duration": 87,
    "start_time": "2022-02-20T13:09:37.898Z"
   },
   {
    "duration": 371,
    "start_time": "2022-02-20T13:09:37.988Z"
   },
   {
    "duration": 355,
    "start_time": "2022-02-20T13:09:38.361Z"
   },
   {
    "duration": 400,
    "start_time": "2022-02-20T13:09:38.719Z"
   },
   {
    "duration": 10,
    "start_time": "2022-02-20T13:09:39.122Z"
   },
   {
    "duration": 44,
    "start_time": "2022-02-20T13:09:39.149Z"
   },
   {
    "duration": 11,
    "start_time": "2022-02-20T13:09:39.196Z"
   },
   {
    "duration": 69,
    "start_time": "2022-02-20T13:09:39.209Z"
   },
   {
    "duration": 16,
    "start_time": "2022-02-20T13:09:44.496Z"
   },
   {
    "duration": 16,
    "start_time": "2022-02-20T13:09:52.705Z"
   },
   {
    "duration": 4,
    "start_time": "2022-02-20T13:10:22.666Z"
   },
   {
    "duration": 259,
    "start_time": "2022-02-20T13:10:22.674Z"
   },
   {
    "duration": 216,
    "start_time": "2022-02-20T13:10:22.936Z"
   },
   {
    "duration": 145,
    "start_time": "2022-02-20T13:10:23.156Z"
   },
   {
    "duration": 20,
    "start_time": "2022-02-20T13:10:23.304Z"
   },
   {
    "duration": 49,
    "start_time": "2022-02-20T13:10:23.328Z"
   },
   {
    "duration": 26,
    "start_time": "2022-02-20T13:10:23.380Z"
   },
   {
    "duration": 62,
    "start_time": "2022-02-20T13:10:23.412Z"
   },
   {
    "duration": 22,
    "start_time": "2022-02-20T13:10:23.479Z"
   },
   {
    "duration": 9,
    "start_time": "2022-02-20T13:10:23.505Z"
   },
   {
    "duration": 9,
    "start_time": "2022-02-20T13:10:23.549Z"
   },
   {
    "duration": 144,
    "start_time": "2022-02-20T13:10:23.561Z"
   },
   {
    "duration": 120,
    "start_time": "2022-02-20T13:10:23.708Z"
   },
   {
    "duration": 69,
    "start_time": "2022-02-20T13:10:23.831Z"
   },
   {
    "duration": 9,
    "start_time": "2022-02-20T13:10:23.903Z"
   },
   {
    "duration": 39,
    "start_time": "2022-02-20T13:10:23.915Z"
   },
   {
    "duration": 257,
    "start_time": "2022-02-20T13:10:23.957Z"
   },
   {
    "duration": 81,
    "start_time": "2022-02-20T13:10:24.216Z"
   },
   {
    "duration": 63,
    "start_time": "2022-02-20T13:10:24.300Z"
   },
   {
    "duration": 45,
    "start_time": "2022-02-20T13:10:24.365Z"
   },
   {
    "duration": 91,
    "start_time": "2022-02-20T13:10:24.412Z"
   },
   {
    "duration": 78,
    "start_time": "2022-02-20T13:10:24.506Z"
   },
   {
    "duration": 80,
    "start_time": "2022-02-20T13:10:24.589Z"
   },
   {
    "duration": 87,
    "start_time": "2022-02-20T13:10:24.672Z"
   },
   {
    "duration": 390,
    "start_time": "2022-02-20T13:10:24.762Z"
   },
   {
    "duration": 352,
    "start_time": "2022-02-20T13:10:25.155Z"
   },
   {
    "duration": 434,
    "start_time": "2022-02-20T13:10:25.509Z"
   },
   {
    "duration": 10,
    "start_time": "2022-02-20T13:10:25.949Z"
   },
   {
    "duration": 49,
    "start_time": "2022-02-20T13:10:25.961Z"
   },
   {
    "duration": 35,
    "start_time": "2022-02-20T13:10:26.013Z"
   },
   {
    "duration": 46,
    "start_time": "2022-02-20T13:10:26.051Z"
   },
   {
    "duration": 24,
    "start_time": "2022-02-20T13:10:28.432Z"
   },
   {
    "duration": 309,
    "start_time": "2022-02-20T13:10:34.592Z"
   },
   {
    "duration": 1101,
    "start_time": "2022-02-20T13:12:30.888Z"
   },
   {
    "duration": 178,
    "start_time": "2022-02-20T13:12:49.455Z"
   },
   {
    "duration": 4,
    "start_time": "2022-02-20T13:20:07.694Z"
   },
   {
    "duration": 269,
    "start_time": "2022-02-20T13:20:07.701Z"
   },
   {
    "duration": 241,
    "start_time": "2022-02-20T13:20:07.974Z"
   },
   {
    "duration": 164,
    "start_time": "2022-02-20T13:20:08.219Z"
   },
   {
    "duration": 23,
    "start_time": "2022-02-20T13:20:08.386Z"
   },
   {
    "duration": 58,
    "start_time": "2022-02-20T13:20:08.412Z"
   },
   {
    "duration": 29,
    "start_time": "2022-02-20T13:20:08.473Z"
   },
   {
    "duration": 49,
    "start_time": "2022-02-20T13:20:08.508Z"
   },
   {
    "duration": 33,
    "start_time": "2022-02-20T13:20:08.561Z"
   },
   {
    "duration": 18,
    "start_time": "2022-02-20T13:20:08.596Z"
   },
   {
    "duration": 29,
    "start_time": "2022-02-20T13:20:08.617Z"
   },
   {
    "duration": 132,
    "start_time": "2022-02-20T13:20:08.649Z"
   },
   {
    "duration": 119,
    "start_time": "2022-02-20T13:20:08.784Z"
   },
   {
    "duration": 91,
    "start_time": "2022-02-20T13:20:08.906Z"
   },
   {
    "duration": 10,
    "start_time": "2022-02-20T13:20:09.000Z"
   },
   {
    "duration": 13,
    "start_time": "2022-02-20T13:20:09.013Z"
   },
   {
    "duration": 249,
    "start_time": "2022-02-20T13:20:09.049Z"
   },
   {
    "duration": 83,
    "start_time": "2022-02-20T13:20:09.300Z"
   },
   {
    "duration": 66,
    "start_time": "2022-02-20T13:20:09.386Z"
   },
   {
    "duration": 44,
    "start_time": "2022-02-20T13:20:09.455Z"
   },
   {
    "duration": 93,
    "start_time": "2022-02-20T13:20:09.502Z"
   },
   {
    "duration": 78,
    "start_time": "2022-02-20T13:20:09.597Z"
   },
   {
    "duration": 82,
    "start_time": "2022-02-20T13:20:09.681Z"
   },
   {
    "duration": 86,
    "start_time": "2022-02-20T13:20:09.766Z"
   },
   {
    "duration": 430,
    "start_time": "2022-02-20T13:20:09.855Z"
   },
   {
    "duration": 387,
    "start_time": "2022-02-20T13:20:10.288Z"
   },
   {
    "duration": 413,
    "start_time": "2022-02-20T13:20:10.678Z"
   },
   {
    "duration": 9,
    "start_time": "2022-02-20T13:20:11.094Z"
   },
   {
    "duration": 50,
    "start_time": "2022-02-20T13:20:11.106Z"
   },
   {
    "duration": 10,
    "start_time": "2022-02-20T13:20:11.159Z"
   },
   {
    "duration": 42,
    "start_time": "2022-02-20T13:20:11.172Z"
   },
   {
    "duration": 3,
    "start_time": "2022-02-20T13:20:21.100Z"
   },
   {
    "duration": 285,
    "start_time": "2022-02-20T13:21:55.771Z"
   },
   {
    "duration": 299,
    "start_time": "2022-02-20T13:22:02.979Z"
   },
   {
    "duration": 30,
    "start_time": "2022-02-20T13:23:55.619Z"
   },
   {
    "duration": 29,
    "start_time": "2022-02-20T13:24:12.491Z"
   },
   {
    "duration": 15,
    "start_time": "2022-02-20T13:24:31.548Z"
   },
   {
    "duration": 30,
    "start_time": "2022-02-20T13:24:36.043Z"
   },
   {
    "duration": 25,
    "start_time": "2022-02-20T13:25:03.778Z"
   },
   {
    "duration": 29,
    "start_time": "2022-02-20T13:25:04.331Z"
   },
   {
    "duration": 362,
    "start_time": "2022-02-20T13:26:01.435Z"
   },
   {
    "duration": 318,
    "start_time": "2022-02-20T13:26:02.537Z"
   },
   {
    "duration": 391,
    "start_time": "2022-02-20T13:26:03.929Z"
   },
   {
    "duration": 33,
    "start_time": "2022-02-20T13:26:37.377Z"
   },
   {
    "duration": 14,
    "start_time": "2022-02-20T13:27:04.985Z"
   },
   {
    "duration": 37,
    "start_time": "2022-02-20T13:27:08.817Z"
   },
   {
    "duration": 27,
    "start_time": "2022-02-20T13:29:40.256Z"
   },
   {
    "duration": 28,
    "start_time": "2022-02-20T13:29:45.608Z"
   },
   {
    "duration": 28,
    "start_time": "2022-02-20T13:29:49.568Z"
   },
   {
    "duration": 289,
    "start_time": "2022-02-20T13:31:23.167Z"
   },
   {
    "duration": 45,
    "start_time": "2022-02-20T13:31:49.311Z"
   },
   {
    "duration": 7,
    "start_time": "2022-02-20T13:33:06.263Z"
   },
   {
    "duration": 5,
    "start_time": "2022-02-20T13:33:19.047Z"
   },
   {
    "duration": 6,
    "start_time": "2022-02-20T13:34:04.669Z"
   },
   {
    "duration": 100,
    "start_time": "2022-02-20T13:35:42.879Z"
   },
   {
    "duration": 13402,
    "start_time": "2022-02-20T13:35:46.933Z"
   },
   {
    "duration": 4,
    "start_time": "2022-02-20T13:36:07.224Z"
   },
   {
    "duration": 269,
    "start_time": "2022-02-20T13:36:07.232Z"
   },
   {
    "duration": 229,
    "start_time": "2022-02-20T13:36:07.505Z"
   },
   {
    "duration": 149,
    "start_time": "2022-02-20T13:36:07.738Z"
   },
   {
    "duration": 20,
    "start_time": "2022-02-20T13:36:07.890Z"
   },
   {
    "duration": 48,
    "start_time": "2022-02-20T13:36:07.912Z"
   },
   {
    "duration": 30,
    "start_time": "2022-02-20T13:36:07.963Z"
   },
   {
    "duration": 23,
    "start_time": "2022-02-20T13:36:07.996Z"
   },
   {
    "duration": 22,
    "start_time": "2022-02-20T13:36:08.053Z"
   },
   {
    "duration": 11,
    "start_time": "2022-02-20T13:36:08.079Z"
   },
   {
    "duration": 19,
    "start_time": "2022-02-20T13:36:08.093Z"
   },
   {
    "duration": 147,
    "start_time": "2022-02-20T13:36:08.115Z"
   },
   {
    "duration": 102,
    "start_time": "2022-02-20T13:36:08.265Z"
   },
   {
    "duration": 54,
    "start_time": "2022-02-20T13:36:08.370Z"
   },
   {
    "duration": 25,
    "start_time": "2022-02-20T13:36:08.427Z"
   },
   {
    "duration": 18,
    "start_time": "2022-02-20T13:36:08.454Z"
   },
   {
    "duration": 254,
    "start_time": "2022-02-20T13:36:08.474Z"
   },
   {
    "duration": 76,
    "start_time": "2022-02-20T13:36:08.730Z"
   },
   {
    "duration": 69,
    "start_time": "2022-02-20T13:36:08.808Z"
   },
   {
    "duration": 44,
    "start_time": "2022-02-20T13:36:08.880Z"
   },
   {
    "duration": 91,
    "start_time": "2022-02-20T13:36:08.926Z"
   },
   {
    "duration": 84,
    "start_time": "2022-02-20T13:36:09.020Z"
   },
   {
    "duration": 89,
    "start_time": "2022-02-20T13:36:09.107Z"
   },
   {
    "duration": 89,
    "start_time": "2022-02-20T13:36:09.199Z"
   },
   {
    "duration": 379,
    "start_time": "2022-02-20T13:36:09.290Z"
   },
   {
    "duration": 418,
    "start_time": "2022-02-20T13:36:09.673Z"
   },
   {
    "duration": 431,
    "start_time": "2022-02-20T13:36:10.096Z"
   },
   {
    "duration": 6,
    "start_time": "2022-02-20T13:36:10.531Z"
   },
   {
    "duration": 5,
    "start_time": "2022-02-20T13:36:43.814Z"
   },
   {
    "duration": 6,
    "start_time": "2022-02-20T13:36:51.893Z"
   },
   {
    "duration": 33,
    "start_time": "2022-02-20T13:37:32.390Z"
   },
   {
    "duration": 5,
    "start_time": "2022-02-20T13:37:33.197Z"
   },
   {
    "duration": 303,
    "start_time": "2022-02-20T13:37:47.021Z"
   },
   {
    "duration": 5,
    "start_time": "2022-02-20T13:37:47.604Z"
   },
   {
    "duration": 24,
    "start_time": "2022-02-20T13:37:56.565Z"
   },
   {
    "duration": 5,
    "start_time": "2022-02-20T13:37:57.988Z"
   },
   {
    "duration": 28,
    "start_time": "2022-02-20T13:38:31.020Z"
   },
   {
    "duration": 5,
    "start_time": "2022-02-20T13:38:31.828Z"
   },
   {
    "duration": 27,
    "start_time": "2022-02-20T13:38:43.549Z"
   },
   {
    "duration": 31,
    "start_time": "2022-02-20T13:39:01.326Z"
   },
   {
    "duration": 7,
    "start_time": "2022-02-20T13:39:02.004Z"
   },
   {
    "duration": 32,
    "start_time": "2022-02-20T13:39:02.980Z"
   },
   {
    "duration": 27,
    "start_time": "2022-02-20T13:39:31.796Z"
   },
   {
    "duration": 5,
    "start_time": "2022-02-20T13:39:32.380Z"
   },
   {
    "duration": 26,
    "start_time": "2022-02-20T13:39:57.196Z"
   },
   {
    "duration": 5,
    "start_time": "2022-02-20T13:39:57.843Z"
   },
   {
    "duration": 28,
    "start_time": "2022-02-20T13:40:00.964Z"
   },
   {
    "duration": 40,
    "start_time": "2022-02-20T13:40:21.828Z"
   },
   {
    "duration": 44,
    "start_time": "2022-02-20T13:40:29.708Z"
   },
   {
    "duration": 41,
    "start_time": "2022-02-20T13:40:30.484Z"
   },
   {
    "duration": 44,
    "start_time": "2022-02-20T13:40:32.268Z"
   },
   {
    "duration": 41,
    "start_time": "2022-02-20T13:40:33.507Z"
   },
   {
    "duration": 66,
    "start_time": "2022-02-20T13:40:34.636Z"
   },
   {
    "duration": 39,
    "start_time": "2022-02-20T13:40:45.188Z"
   },
   {
    "duration": 40,
    "start_time": "2022-02-20T13:40:45.836Z"
   },
   {
    "duration": 44,
    "start_time": "2022-02-20T13:40:52.420Z"
   },
   {
    "duration": 27,
    "start_time": "2022-02-20T13:41:06.436Z"
   },
   {
    "duration": 112,
    "start_time": "2022-02-20T13:41:13.540Z"
   },
   {
    "duration": 43,
    "start_time": "2022-02-20T13:41:17.371Z"
   },
   {
    "duration": 21,
    "start_time": "2022-02-20T13:41:59.611Z"
   },
   {
    "duration": 5,
    "start_time": "2022-02-20T13:42:00.588Z"
   },
   {
    "duration": 38,
    "start_time": "2022-02-20T13:42:06.491Z"
   },
   {
    "duration": 4,
    "start_time": "2022-02-20T13:42:47.663Z"
   },
   {
    "duration": 248,
    "start_time": "2022-02-20T13:42:47.670Z"
   },
   {
    "duration": 212,
    "start_time": "2022-02-20T13:42:47.922Z"
   },
   {
    "duration": 140,
    "start_time": "2022-02-20T13:42:48.137Z"
   },
   {
    "duration": 21,
    "start_time": "2022-02-20T13:42:48.279Z"
   },
   {
    "duration": 49,
    "start_time": "2022-02-20T13:42:48.303Z"
   },
   {
    "duration": 29,
    "start_time": "2022-02-20T13:42:48.356Z"
   },
   {
    "duration": 22,
    "start_time": "2022-02-20T13:42:48.389Z"
   },
   {
    "duration": 42,
    "start_time": "2022-02-20T13:42:48.414Z"
   },
   {
    "duration": 7,
    "start_time": "2022-02-20T13:42:48.459Z"
   },
   {
    "duration": 12,
    "start_time": "2022-02-20T13:42:48.469Z"
   },
   {
    "duration": 156,
    "start_time": "2022-02-20T13:42:48.484Z"
   },
   {
    "duration": 138,
    "start_time": "2022-02-20T13:42:48.642Z"
   },
   {
    "duration": 72,
    "start_time": "2022-02-20T13:42:48.783Z"
   },
   {
    "duration": 10,
    "start_time": "2022-02-20T13:42:48.858Z"
   },
   {
    "duration": 18,
    "start_time": "2022-02-20T13:42:48.870Z"
   },
   {
    "duration": 275,
    "start_time": "2022-02-20T13:42:48.892Z"
   },
   {
    "duration": 79,
    "start_time": "2022-02-20T13:42:49.170Z"
   },
   {
    "duration": 54,
    "start_time": "2022-02-20T13:42:49.252Z"
   },
   {
    "duration": 67,
    "start_time": "2022-02-20T13:42:49.309Z"
   },
   {
    "duration": 86,
    "start_time": "2022-02-20T13:42:49.379Z"
   },
   {
    "duration": 82,
    "start_time": "2022-02-20T13:42:49.468Z"
   },
   {
    "duration": 70,
    "start_time": "2022-02-20T13:42:49.555Z"
   },
   {
    "duration": 91,
    "start_time": "2022-02-20T13:42:49.628Z"
   },
   {
    "duration": 398,
    "start_time": "2022-02-20T13:42:49.722Z"
   },
   {
    "duration": 345,
    "start_time": "2022-02-20T13:42:50.122Z"
   },
   {
    "duration": 398,
    "start_time": "2022-02-20T13:42:50.469Z"
   },
   {
    "duration": 6,
    "start_time": "2022-02-20T13:42:50.871Z"
   },
   {
    "duration": 19,
    "start_time": "2022-02-20T13:42:52.722Z"
   },
   {
    "duration": 6,
    "start_time": "2022-02-20T13:42:53.793Z"
   },
   {
    "duration": 25,
    "start_time": "2022-02-20T13:42:54.930Z"
   },
   {
    "duration": 6,
    "start_time": "2022-02-20T13:43:31.203Z"
   },
   {
    "duration": 5,
    "start_time": "2022-02-20T13:43:31.626Z"
   },
   {
    "duration": 28,
    "start_time": "2022-02-20T13:43:32.436Z"
   },
   {
    "duration": 175,
    "start_time": "2022-02-20T13:44:19.122Z"
   },
   {
    "duration": 5,
    "start_time": "2022-02-20T13:44:25.226Z"
   },
   {
    "duration": 40,
    "start_time": "2022-02-20T13:44:28.530Z"
   },
   {
    "duration": 6,
    "start_time": "2022-02-20T13:44:54.969Z"
   },
   {
    "duration": 5,
    "start_time": "2022-02-20T13:44:56.722Z"
   },
   {
    "duration": 5,
    "start_time": "2022-02-20T13:44:57.017Z"
   },
   {
    "duration": 5,
    "start_time": "2022-02-20T13:44:57.274Z"
   },
   {
    "duration": 38,
    "start_time": "2022-02-20T13:44:57.890Z"
   },
   {
    "duration": 9,
    "start_time": "2022-02-20T13:45:02.685Z"
   },
   {
    "duration": 272,
    "start_time": "2022-02-20T13:45:02.698Z"
   },
   {
    "duration": 259,
    "start_time": "2022-02-20T13:45:02.973Z"
   },
   {
    "duration": 150,
    "start_time": "2022-02-20T13:45:03.235Z"
   },
   {
    "duration": 35,
    "start_time": "2022-02-20T13:45:03.388Z"
   },
   {
    "duration": 44,
    "start_time": "2022-02-20T13:45:03.426Z"
   },
   {
    "duration": 27,
    "start_time": "2022-02-20T13:45:03.472Z"
   },
   {
    "duration": 53,
    "start_time": "2022-02-20T13:45:03.502Z"
   },
   {
    "duration": 21,
    "start_time": "2022-02-20T13:45:03.564Z"
   },
   {
    "duration": 29,
    "start_time": "2022-02-20T13:45:03.589Z"
   },
   {
    "duration": 23,
    "start_time": "2022-02-20T13:45:03.621Z"
   },
   {
    "duration": 166,
    "start_time": "2022-02-20T13:45:03.646Z"
   },
   {
    "duration": 126,
    "start_time": "2022-02-20T13:45:03.814Z"
   },
   {
    "duration": 61,
    "start_time": "2022-02-20T13:45:03.944Z"
   },
   {
    "duration": 11,
    "start_time": "2022-02-20T13:45:04.008Z"
   },
   {
    "duration": 35,
    "start_time": "2022-02-20T13:45:04.022Z"
   },
   {
    "duration": 273,
    "start_time": "2022-02-20T13:45:04.060Z"
   },
   {
    "duration": 71,
    "start_time": "2022-02-20T13:45:04.336Z"
   },
   {
    "duration": 66,
    "start_time": "2022-02-20T13:45:04.410Z"
   },
   {
    "duration": 42,
    "start_time": "2022-02-20T13:45:04.479Z"
   },
   {
    "duration": 81,
    "start_time": "2022-02-20T13:45:04.524Z"
   },
   {
    "duration": 80,
    "start_time": "2022-02-20T13:45:04.608Z"
   },
   {
    "duration": 82,
    "start_time": "2022-02-20T13:45:04.690Z"
   },
   {
    "duration": 92,
    "start_time": "2022-02-20T13:45:04.774Z"
   },
   {
    "duration": 494,
    "start_time": "2022-02-20T13:45:04.869Z"
   },
   {
    "duration": 335,
    "start_time": "2022-02-20T13:45:05.366Z"
   },
   {
    "duration": 425,
    "start_time": "2022-02-20T13:45:05.706Z"
   },
   {
    "duration": 14,
    "start_time": "2022-02-20T13:45:06.135Z"
   },
   {
    "duration": 20,
    "start_time": "2022-02-20T13:45:06.153Z"
   },
   {
    "duration": 193,
    "start_time": "2022-02-20T13:45:06.175Z"
   },
   {
    "duration": 5,
    "start_time": "2022-02-20T13:45:06.370Z"
   },
   {
    "duration": 36,
    "start_time": "2022-02-20T13:45:06.378Z"
   },
   {
    "duration": 323,
    "start_time": "2022-02-20T13:47:21.129Z"
   },
   {
    "duration": 109,
    "start_time": "2022-02-20T13:47:27.265Z"
   },
   {
    "duration": 319,
    "start_time": "2022-02-20T13:47:32.193Z"
   },
   {
    "duration": 389,
    "start_time": "2022-02-20T13:47:45.561Z"
   },
   {
    "duration": 5,
    "start_time": "2022-02-20T13:47:50.656Z"
   },
   {
    "duration": 5,
    "start_time": "2022-02-20T13:47:54.129Z"
   },
   {
    "duration": 164,
    "start_time": "2022-02-20T13:47:55.521Z"
   },
   {
    "duration": 6,
    "start_time": "2022-02-20T13:47:57.016Z"
   },
   {
    "duration": 37,
    "start_time": "2022-02-20T13:48:03.897Z"
   },
   {
    "duration": 40,
    "start_time": "2022-02-20T13:49:02.360Z"
   },
   {
    "duration": 105,
    "start_time": "2022-02-20T13:52:45.039Z"
   },
   {
    "duration": 8,
    "start_time": "2022-02-20T13:52:49.902Z"
   },
   {
    "duration": 30,
    "start_time": "2022-02-20T13:52:52.534Z"
   },
   {
    "duration": 32,
    "start_time": "2022-02-20T13:52:58.078Z"
   },
   {
    "duration": 5,
    "start_time": "2022-02-20T13:54:12.823Z"
   },
   {
    "duration": 239,
    "start_time": "2022-02-20T13:54:12.831Z"
   },
   {
    "duration": 207,
    "start_time": "2022-02-20T13:54:13.073Z"
   },
   {
    "duration": 153,
    "start_time": "2022-02-20T13:54:13.283Z"
   },
   {
    "duration": 30,
    "start_time": "2022-02-20T13:54:13.438Z"
   },
   {
    "duration": 47,
    "start_time": "2022-02-20T13:54:13.471Z"
   },
   {
    "duration": 38,
    "start_time": "2022-02-20T13:54:13.520Z"
   },
   {
    "duration": 22,
    "start_time": "2022-02-20T13:54:13.561Z"
   },
   {
    "duration": 19,
    "start_time": "2022-02-20T13:54:13.588Z"
   },
   {
    "duration": 42,
    "start_time": "2022-02-20T13:54:13.610Z"
   },
   {
    "duration": 13,
    "start_time": "2022-02-20T13:54:13.655Z"
   },
   {
    "duration": 129,
    "start_time": "2022-02-20T13:54:13.670Z"
   },
   {
    "duration": 104,
    "start_time": "2022-02-20T13:54:13.802Z"
   },
   {
    "duration": 69,
    "start_time": "2022-02-20T13:54:13.908Z"
   },
   {
    "duration": 10,
    "start_time": "2022-02-20T13:54:13.980Z"
   },
   {
    "duration": 13,
    "start_time": "2022-02-20T13:54:13.992Z"
   },
   {
    "duration": 265,
    "start_time": "2022-02-20T13:54:14.008Z"
   },
   {
    "duration": 83,
    "start_time": "2022-02-20T13:54:14.275Z"
   },
   {
    "duration": 52,
    "start_time": "2022-02-20T13:54:14.361Z"
   },
   {
    "duration": 61,
    "start_time": "2022-02-20T13:54:14.415Z"
   },
   {
    "duration": 82,
    "start_time": "2022-02-20T13:54:14.479Z"
   },
   {
    "duration": 61,
    "start_time": "2022-02-20T13:54:14.564Z"
   },
   {
    "duration": 85,
    "start_time": "2022-02-20T13:54:14.628Z"
   },
   {
    "duration": 94,
    "start_time": "2022-02-20T13:54:14.716Z"
   },
   {
    "duration": 380,
    "start_time": "2022-02-20T13:54:14.813Z"
   },
   {
    "duration": 335,
    "start_time": "2022-02-20T13:54:15.196Z"
   },
   {
    "duration": 395,
    "start_time": "2022-02-20T13:54:15.536Z"
   },
   {
    "duration": 6,
    "start_time": "2022-02-20T13:54:15.933Z"
   },
   {
    "duration": 17,
    "start_time": "2022-02-20T13:54:15.949Z"
   },
   {
    "duration": 173,
    "start_time": "2022-02-20T13:54:15.968Z"
   },
   {
    "duration": 7,
    "start_time": "2022-02-20T13:54:16.144Z"
   },
   {
    "duration": 11,
    "start_time": "2022-02-20T13:54:16.153Z"
   },
   {
    "duration": 36,
    "start_time": "2022-02-20T13:54:25.093Z"
   },
   {
    "duration": 9,
    "start_time": "2022-02-20T13:56:13.092Z"
   },
   {
    "duration": 31,
    "start_time": "2022-02-20T13:56:17.212Z"
   },
   {
    "duration": 30,
    "start_time": "2022-02-20T13:57:44.333Z"
   },
   {
    "duration": 2392,
    "start_time": "2022-02-20T13:57:56.533Z"
   },
   {
    "duration": 307,
    "start_time": "2022-02-20T13:58:32.605Z"
   },
   {
    "duration": 32,
    "start_time": "2022-02-20T13:58:57.973Z"
   },
   {
    "duration": 43,
    "start_time": "2022-02-20T13:59:20.293Z"
   },
   {
    "duration": 299,
    "start_time": "2022-02-20T13:59:24.095Z"
   },
   {
    "duration": 464,
    "start_time": "2022-02-20T13:59:38.204Z"
   },
   {
    "duration": 28,
    "start_time": "2022-02-20T13:59:52.868Z"
   },
   {
    "duration": 6,
    "start_time": "2022-02-20T13:59:56.403Z"
   },
   {
    "duration": 46,
    "start_time": "2022-02-20T13:59:56.787Z"
   },
   {
    "duration": 53,
    "start_time": "2022-02-20T14:00:12.786Z"
   },
   {
    "duration": 56,
    "start_time": "2022-02-20T14:00:33.644Z"
   },
   {
    "duration": 31,
    "start_time": "2022-02-20T14:01:37.355Z"
   },
   {
    "duration": 10,
    "start_time": "2022-02-20T14:01:44.363Z"
   },
   {
    "duration": 21,
    "start_time": "2022-02-20T14:01:49.163Z"
   },
   {
    "duration": 13,
    "start_time": "2022-02-20T14:01:56.819Z"
   },
   {
    "duration": 151,
    "start_time": "2022-02-20T14:02:12.264Z"
   },
   {
    "duration": 334,
    "start_time": "2022-02-20T14:02:16.475Z"
   },
   {
    "duration": 345,
    "start_time": "2022-02-20T14:02:40.906Z"
   },
   {
    "duration": 13,
    "start_time": "2022-02-20T14:02:54.074Z"
   },
   {
    "duration": 41,
    "start_time": "2022-02-20T14:03:22.396Z"
   },
   {
    "duration": 8,
    "start_time": "2022-02-20T14:03:30.994Z"
   },
   {
    "duration": 33,
    "start_time": "2022-02-20T14:03:36.474Z"
   },
   {
    "duration": 9,
    "start_time": "2022-02-20T14:03:51.979Z"
   },
   {
    "duration": 9,
    "start_time": "2022-02-20T14:03:57.299Z"
   },
   {
    "duration": 254,
    "start_time": "2022-02-20T14:04:22.594Z"
   },
   {
    "duration": 10,
    "start_time": "2022-02-20T14:04:48.868Z"
   },
   {
    "duration": 350,
    "start_time": "2022-02-20T14:04:54.026Z"
   },
   {
    "duration": 661,
    "start_time": "2022-02-20T14:05:11.050Z"
   },
   {
    "duration": 7,
    "start_time": "2022-02-20T14:05:58.145Z"
   },
   {
    "duration": 666,
    "start_time": "2022-02-20T14:06:13.784Z"
   },
   {
    "duration": 281,
    "start_time": "2022-02-20T14:06:26.368Z"
   },
   {
    "duration": 7,
    "start_time": "2022-02-20T14:06:54.001Z"
   },
   {
    "duration": 10,
    "start_time": "2022-02-20T14:06:59.416Z"
   },
   {
    "duration": 318,
    "start_time": "2022-02-20T14:08:12.593Z"
   },
   {
    "duration": 331,
    "start_time": "2022-02-20T14:08:30.304Z"
   },
   {
    "duration": 11,
    "start_time": "2022-02-20T14:08:37.631Z"
   },
   {
    "duration": 11,
    "start_time": "2022-02-20T14:08:43.567Z"
   },
   {
    "duration": 386,
    "start_time": "2022-02-20T14:09:13.839Z"
   },
   {
    "duration": 97,
    "start_time": "2022-02-20T14:09:25.096Z"
   },
   {
    "duration": 11,
    "start_time": "2022-02-20T14:09:29.342Z"
   },
   {
    "duration": 313,
    "start_time": "2022-02-20T14:09:47.895Z"
   },
   {
    "duration": 324,
    "start_time": "2022-02-20T14:10:02.527Z"
   },
   {
    "duration": 312,
    "start_time": "2022-02-20T14:10:32.791Z"
   },
   {
    "duration": 294,
    "start_time": "2022-02-20T14:10:37.790Z"
   },
   {
    "duration": 6,
    "start_time": "2022-02-20T14:10:53.095Z"
   },
   {
    "duration": 305,
    "start_time": "2022-02-20T14:10:54.462Z"
   },
   {
    "duration": 28,
    "start_time": "2022-02-20T14:11:01.494Z"
   },
   {
    "duration": 369,
    "start_time": "2022-02-20T14:11:10.646Z"
   },
   {
    "duration": 391,
    "start_time": "2022-02-20T14:11:13.566Z"
   },
   {
    "duration": 314,
    "start_time": "2022-02-20T14:11:16.648Z"
   },
   {
    "duration": 309,
    "start_time": "2022-02-20T14:11:25.822Z"
   },
   {
    "duration": 308,
    "start_time": "2022-02-20T14:11:38.150Z"
   },
   {
    "duration": 304,
    "start_time": "2022-02-20T14:13:31.550Z"
   },
   {
    "duration": 382,
    "start_time": "2022-02-20T14:14:09.856Z"
   },
   {
    "duration": 314,
    "start_time": "2022-02-20T14:14:53.317Z"
   },
   {
    "duration": 425,
    "start_time": "2022-02-20T14:15:14.212Z"
   },
   {
    "duration": 447,
    "start_time": "2022-02-20T14:15:37.628Z"
   },
   {
    "duration": 349,
    "start_time": "2022-02-20T14:15:52.420Z"
   },
   {
    "duration": 333,
    "start_time": "2022-02-20T14:16:35.556Z"
   },
   {
    "duration": 577,
    "start_time": "2022-02-20T14:16:59.829Z"
   },
   {
    "duration": 101,
    "start_time": "2022-02-20T14:17:29.148Z"
   },
   {
    "duration": 295,
    "start_time": "2022-02-20T14:18:45.260Z"
   },
   {
    "duration": 345,
    "start_time": "2022-02-20T14:18:54.341Z"
   },
   {
    "duration": 444,
    "start_time": "2022-02-20T14:18:57.427Z"
   },
   {
    "duration": 349,
    "start_time": "2022-02-20T14:19:04.043Z"
   },
   {
    "duration": 363,
    "start_time": "2022-02-20T14:19:09.947Z"
   },
   {
    "duration": 317,
    "start_time": "2022-02-20T14:20:16.035Z"
   },
   {
    "duration": 328,
    "start_time": "2022-02-20T14:21:06.667Z"
   },
   {
    "duration": 326,
    "start_time": "2022-02-20T14:21:08.555Z"
   },
   {
    "duration": 295,
    "start_time": "2022-02-20T14:23:23.466Z"
   },
   {
    "duration": 28,
    "start_time": "2022-02-20T14:24:27.089Z"
   },
   {
    "duration": 26,
    "start_time": "2022-02-20T14:24:56.417Z"
   },
   {
    "duration": 26,
    "start_time": "2022-02-20T14:25:27.074Z"
   },
   {
    "duration": 358,
    "start_time": "2022-02-20T14:25:29.240Z"
   },
   {
    "duration": 32,
    "start_time": "2022-02-20T14:26:00.321Z"
   },
   {
    "duration": 324,
    "start_time": "2022-02-20T14:26:06.228Z"
   },
   {
    "duration": 292,
    "start_time": "2022-02-20T14:29:26.327Z"
   },
   {
    "duration": 309,
    "start_time": "2022-02-20T14:29:47.023Z"
   },
   {
    "duration": 323,
    "start_time": "2022-02-20T14:29:49.008Z"
   },
   {
    "duration": 314,
    "start_time": "2022-02-20T14:30:36.575Z"
   },
   {
    "duration": 8,
    "start_time": "2022-02-20T14:32:09.262Z"
   },
   {
    "duration": 29,
    "start_time": "2022-02-20T14:32:18.541Z"
   },
   {
    "duration": 9,
    "start_time": "2022-02-20T14:34:04.989Z"
   },
   {
    "duration": 344,
    "start_time": "2022-02-20T14:34:55.276Z"
   },
   {
    "duration": 8,
    "start_time": "2022-02-20T14:34:58.388Z"
   },
   {
    "duration": 9,
    "start_time": "2022-02-20T14:35:25.645Z"
   },
   {
    "duration": 331,
    "start_time": "2022-02-20T17:48:04.717Z"
   },
   {
    "duration": 420,
    "start_time": "2022-02-20T17:48:49.295Z"
   },
   {
    "duration": 333,
    "start_time": "2022-02-20T17:48:55.292Z"
   },
   {
    "duration": 483,
    "start_time": "2022-02-20T17:50:34.724Z"
   },
   {
    "duration": 297,
    "start_time": "2022-02-20T17:50:51.468Z"
   },
   {
    "duration": 302,
    "start_time": "2022-02-20T17:51:21.491Z"
   },
   {
    "duration": 318,
    "start_time": "2022-02-20T17:51:32.170Z"
   },
   {
    "duration": 8,
    "start_time": "2022-02-20T17:52:22.460Z"
   },
   {
    "duration": 7,
    "start_time": "2022-02-20T17:52:23.402Z"
   },
   {
    "duration": 9,
    "start_time": "2022-02-20T17:52:23.786Z"
   },
   {
    "duration": 487,
    "start_time": "2022-02-20T17:52:41.940Z"
   },
   {
    "duration": 9,
    "start_time": "2022-02-20T17:52:43.013Z"
   },
   {
    "duration": 314,
    "start_time": "2022-02-20T17:53:46.867Z"
   },
   {
    "duration": 8,
    "start_time": "2022-02-20T17:53:47.866Z"
   },
   {
    "duration": 10,
    "start_time": "2022-02-20T17:53:48.905Z"
   },
   {
    "duration": 21,
    "start_time": "2022-02-20T17:53:49.618Z"
   },
   {
    "duration": 332,
    "start_time": "2022-02-20T18:06:28.541Z"
   },
   {
    "duration": 330,
    "start_time": "2022-02-20T18:06:47.790Z"
   },
   {
    "duration": 9,
    "start_time": "2022-02-20T18:07:10.148Z"
   },
   {
    "duration": 7,
    "start_time": "2022-02-20T18:07:39.205Z"
   },
   {
    "duration": 9,
    "start_time": "2022-02-20T18:07:40.956Z"
   },
   {
    "duration": 9,
    "start_time": "2022-02-20T18:08:42.661Z"
   },
   {
    "duration": 9,
    "start_time": "2022-02-20T18:08:43.373Z"
   },
   {
    "duration": 10,
    "start_time": "2022-02-20T18:08:44.060Z"
   },
   {
    "duration": 9,
    "start_time": "2022-02-20T18:12:21.731Z"
   },
   {
    "duration": 8,
    "start_time": "2022-02-20T18:12:56.138Z"
   },
   {
    "duration": 7,
    "start_time": "2022-02-20T18:12:57.308Z"
   },
   {
    "duration": 8,
    "start_time": "2022-02-20T18:12:58.115Z"
   },
   {
    "duration": 277,
    "start_time": "2022-02-20T18:13:16.484Z"
   },
   {
    "duration": 315,
    "start_time": "2022-02-20T18:13:35.051Z"
   },
   {
    "duration": 331,
    "start_time": "2022-02-20T18:13:46.834Z"
   },
   {
    "duration": 325,
    "start_time": "2022-02-20T18:13:56.900Z"
   },
   {
    "duration": 326,
    "start_time": "2022-02-20T18:14:41.338Z"
   },
   {
    "duration": 9,
    "start_time": "2022-02-20T18:14:51.987Z"
   },
   {
    "duration": 10,
    "start_time": "2022-02-20T18:14:53.089Z"
   },
   {
    "duration": 9,
    "start_time": "2022-02-20T18:14:54.024Z"
   },
   {
    "duration": 340,
    "start_time": "2022-02-20T18:17:13.481Z"
   },
   {
    "duration": 27,
    "start_time": "2022-02-20T18:17:31.489Z"
   },
   {
    "duration": 330,
    "start_time": "2022-02-20T18:17:53.731Z"
   },
   {
    "duration": 297,
    "start_time": "2022-02-20T18:18:00.122Z"
   },
   {
    "duration": 17,
    "start_time": "2022-02-20T18:19:39.896Z"
   },
   {
    "duration": 28,
    "start_time": "2022-02-20T18:19:47.887Z"
   },
   {
    "duration": 371,
    "start_time": "2022-02-20T18:20:17.200Z"
   },
   {
    "duration": 333,
    "start_time": "2022-02-20T18:20:22.687Z"
   },
   {
    "duration": 93,
    "start_time": "2022-02-20T18:20:36.808Z"
   },
   {
    "duration": 10063,
    "start_time": "2022-02-20T18:20:40.342Z"
   },
   {
    "duration": 620,
    "start_time": "2022-02-20T18:24:42.638Z"
   },
   {
    "duration": 644,
    "start_time": "2022-02-20T18:25:23.406Z"
   },
   {
    "duration": 688,
    "start_time": "2022-02-20T18:25:41.781Z"
   },
   {
    "duration": 643,
    "start_time": "2022-02-20T18:25:50.509Z"
   },
   {
    "duration": 612,
    "start_time": "2022-02-20T18:26:04.140Z"
   },
   {
    "duration": 852,
    "start_time": "2022-02-20T18:26:24.760Z"
   },
   {
    "duration": 682,
    "start_time": "2022-02-20T18:26:32.255Z"
   },
   {
    "duration": 1179,
    "start_time": "2022-02-20T18:26:45.173Z"
   },
   {
    "duration": 707,
    "start_time": "2022-02-20T18:26:51.174Z"
   },
   {
    "duration": 131,
    "start_time": "2022-02-20T18:30:50.659Z"
   },
   {
    "duration": 97,
    "start_time": "2022-02-20T18:31:03.155Z"
   },
   {
    "duration": 101,
    "start_time": "2022-02-20T18:31:42.458Z"
   },
   {
    "duration": 115,
    "start_time": "2022-02-20T18:32:06.481Z"
   },
   {
    "duration": 613,
    "start_time": "2022-02-20T18:32:11.665Z"
   },
   {
    "duration": 179,
    "start_time": "2022-02-20T18:32:29.395Z"
   },
   {
    "duration": 134,
    "start_time": "2022-02-20T18:32:32.482Z"
   },
   {
    "duration": 149,
    "start_time": "2022-02-20T18:33:48.394Z"
   },
   {
    "duration": 125,
    "start_time": "2022-02-20T18:34:00.729Z"
   },
   {
    "duration": 95,
    "start_time": "2022-02-20T18:34:23.578Z"
   },
   {
    "duration": 290,
    "start_time": "2022-02-20T18:34:27.699Z"
   },
   {
    "duration": 31,
    "start_time": "2022-02-20T18:34:38.802Z"
   },
   {
    "duration": 297,
    "start_time": "2022-02-20T18:34:54.897Z"
   },
   {
    "duration": 131,
    "start_time": "2022-02-20T18:35:17.713Z"
   },
   {
    "duration": 111,
    "start_time": "2022-02-20T18:37:39.769Z"
   },
   {
    "duration": 746,
    "start_time": "2022-02-20T18:38:27.218Z"
   },
   {
    "duration": 9745,
    "start_time": "2022-02-20T18:41:58.430Z"
   },
   {
    "duration": 329,
    "start_time": "2022-02-20T18:42:11.733Z"
   },
   {
    "duration": 97,
    "start_time": "2022-02-20T18:42:48.902Z"
   },
   {
    "duration": 298,
    "start_time": "2022-02-20T18:45:33.654Z"
   },
   {
    "duration": 648,
    "start_time": "2022-02-20T18:45:49.037Z"
   },
   {
    "duration": 236,
    "start_time": "2022-02-20T18:47:05.541Z"
   },
   {
    "duration": 497,
    "start_time": "2022-02-20T18:48:07.404Z"
   },
   {
    "duration": 99,
    "start_time": "2022-02-20T18:48:28.277Z"
   },
   {
    "duration": 285,
    "start_time": "2022-02-20T18:48:34.179Z"
   },
   {
    "duration": 232,
    "start_time": "2022-02-20T18:48:57.293Z"
   },
   {
    "duration": 532,
    "start_time": "2022-02-20T18:49:16.828Z"
   },
   {
    "duration": 284,
    "start_time": "2022-02-20T18:49:23.844Z"
   },
   {
    "duration": 295,
    "start_time": "2022-02-20T18:49:38.027Z"
   },
   {
    "duration": 361,
    "start_time": "2022-02-20T18:49:51.140Z"
   },
   {
    "duration": 364,
    "start_time": "2022-02-20T18:49:57.435Z"
   },
   {
    "duration": 357,
    "start_time": "2022-02-20T18:50:16.811Z"
   },
   {
    "duration": 348,
    "start_time": "2022-02-20T18:50:26.155Z"
   },
   {
    "duration": 344,
    "start_time": "2022-02-20T18:50:33.162Z"
   },
   {
    "duration": 395,
    "start_time": "2022-02-21T16:43:25.874Z"
   },
   {
    "duration": 837,
    "start_time": "2022-02-21T16:43:29.308Z"
   },
   {
    "duration": 323,
    "start_time": "2022-02-21T16:43:30.148Z"
   },
   {
    "duration": 234,
    "start_time": "2022-02-21T16:43:30.474Z"
   },
   {
    "duration": 174,
    "start_time": "2022-02-21T16:43:30.710Z"
   },
   {
    "duration": 76,
    "start_time": "2022-02-21T16:43:30.886Z"
   },
   {
    "duration": 218,
    "start_time": "2022-02-21T16:43:30.964Z"
   },
   {
    "duration": 181,
    "start_time": "2022-02-21T16:43:31.184Z"
   },
   {
    "duration": 183,
    "start_time": "2022-02-21T16:43:31.370Z"
   },
   {
    "duration": 220,
    "start_time": "2022-02-21T16:43:31.556Z"
   },
   {
    "duration": 247,
    "start_time": "2022-02-21T16:43:31.779Z"
   },
   {
    "duration": 269,
    "start_time": "2022-02-21T16:43:32.029Z"
   },
   {
    "duration": 425,
    "start_time": "2022-02-21T16:43:32.301Z"
   },
   {
    "duration": 285,
    "start_time": "2022-02-21T16:43:32.729Z"
   },
   {
    "duration": 283,
    "start_time": "2022-02-21T16:43:33.016Z"
   },
   {
    "duration": 144,
    "start_time": "2022-02-21T16:43:33.301Z"
   },
   {
    "duration": 217,
    "start_time": "2022-02-21T16:43:33.447Z"
   },
   {
    "duration": 421,
    "start_time": "2022-02-21T16:43:33.666Z"
   },
   {
    "duration": 135,
    "start_time": "2022-02-21T16:43:34.090Z"
   },
   {
    "duration": 201,
    "start_time": "2022-02-21T16:43:34.227Z"
   },
   {
    "duration": 208,
    "start_time": "2022-02-21T16:43:34.431Z"
   },
   {
    "duration": 315,
    "start_time": "2022-02-21T16:43:34.642Z"
   },
   {
    "duration": 199,
    "start_time": "2022-02-21T16:43:34.959Z"
   },
   {
    "duration": 203,
    "start_time": "2022-02-21T16:43:35.165Z"
   },
   {
    "duration": 301,
    "start_time": "2022-02-21T16:43:35.371Z"
   },
   {
    "duration": 536,
    "start_time": "2022-02-21T16:43:35.675Z"
   },
   {
    "duration": 320,
    "start_time": "2022-02-21T16:43:36.213Z"
   },
   {
    "duration": 390,
    "start_time": "2022-02-21T16:43:36.535Z"
   },
   {
    "duration": 4,
    "start_time": "2022-02-21T16:43:36.927Z"
   },
   {
    "duration": 194,
    "start_time": "2022-02-21T16:43:36.933Z"
   },
   {
    "duration": 412,
    "start_time": "2022-02-21T16:43:37.129Z"
   },
   {
    "duration": 56,
    "start_time": "2022-02-21T16:43:37.543Z"
   },
   {
    "duration": 237,
    "start_time": "2022-02-21T16:43:37.602Z"
   },
   {
    "duration": 294,
    "start_time": "2022-02-21T16:43:37.841Z"
   },
   {
    "duration": 380,
    "start_time": "2022-02-21T16:43:39.904Z"
   },
   {
    "duration": 641,
    "start_time": "2022-02-21T16:43:53.425Z"
   },
   {
    "duration": 727,
    "start_time": "2022-02-21T16:46:12.609Z"
   },
   {
    "duration": 666,
    "start_time": "2022-02-21T16:46:29.658Z"
   },
   {
    "duration": 642,
    "start_time": "2022-02-21T16:48:39.968Z"
   },
   {
    "duration": 4,
    "start_time": "2022-02-21T16:49:59.066Z"
   },
   {
    "duration": 523,
    "start_time": "2022-02-21T16:49:59.074Z"
   },
   {
    "duration": 341,
    "start_time": "2022-02-21T16:49:59.601Z"
   },
   {
    "duration": 227,
    "start_time": "2022-02-21T16:49:59.945Z"
   },
   {
    "duration": 152,
    "start_time": "2022-02-21T16:50:00.175Z"
   },
   {
    "duration": 314,
    "start_time": "2022-02-21T16:50:00.330Z"
   },
   {
    "duration": 242,
    "start_time": "2022-02-21T16:50:00.648Z"
   },
   {
    "duration": 288,
    "start_time": "2022-02-21T16:50:00.896Z"
   },
   {
    "duration": 217,
    "start_time": "2022-02-21T16:50:01.187Z"
   },
   {
    "duration": 164,
    "start_time": "2022-02-21T16:50:01.408Z"
   },
   {
    "duration": 255,
    "start_time": "2022-02-21T16:50:01.574Z"
   },
   {
    "duration": 339,
    "start_time": "2022-02-21T16:50:01.833Z"
   },
   {
    "duration": 205,
    "start_time": "2022-02-21T16:50:02.175Z"
   },
   {
    "duration": 189,
    "start_time": "2022-02-21T16:50:02.383Z"
   },
   {
    "duration": 196,
    "start_time": "2022-02-21T16:50:02.575Z"
   },
   {
    "duration": 207,
    "start_time": "2022-02-21T16:50:02.774Z"
   },
   {
    "duration": 513,
    "start_time": "2022-02-21T16:50:02.983Z"
   },
   {
    "duration": 82,
    "start_time": "2022-02-21T16:50:03.499Z"
   },
   {
    "duration": 174,
    "start_time": "2022-02-21T16:50:03.584Z"
   },
   {
    "duration": 216,
    "start_time": "2022-02-21T16:50:03.760Z"
   },
   {
    "duration": 254,
    "start_time": "2022-02-21T16:50:03.979Z"
   },
   {
    "duration": 252,
    "start_time": "2022-02-21T16:50:04.235Z"
   },
   {
    "duration": 339,
    "start_time": "2022-02-21T16:50:04.493Z"
   },
   {
    "duration": 195,
    "start_time": "2022-02-21T16:50:04.835Z"
   },
   {
    "duration": 501,
    "start_time": "2022-02-21T16:50:05.033Z"
   },
   {
    "duration": 338,
    "start_time": "2022-02-21T16:50:05.537Z"
   },
   {
    "duration": 417,
    "start_time": "2022-02-21T16:50:05.879Z"
   },
   {
    "duration": 5,
    "start_time": "2022-02-21T16:50:06.299Z"
   },
   {
    "duration": 289,
    "start_time": "2022-02-21T16:50:06.306Z"
   },
   {
    "duration": 504,
    "start_time": "2022-02-21T16:50:06.598Z"
   },
   {
    "duration": 164,
    "start_time": "2022-02-21T16:50:07.105Z"
   },
   {
    "duration": 294,
    "start_time": "2022-02-21T16:50:07.272Z"
   },
   {
    "duration": 260,
    "start_time": "2022-02-21T16:50:07.569Z"
   },
   {
    "duration": 889,
    "start_time": "2022-02-21T16:50:07.832Z"
   },
   {
    "duration": 9,
    "start_time": "2022-02-21T16:50:08.724Z"
   },
   {
    "duration": 211,
    "start_time": "2022-02-21T16:50:08.736Z"
   },
   {
    "duration": 219,
    "start_time": "2022-02-21T16:50:08.950Z"
   },
   {
    "duration": 228,
    "start_time": "2022-02-21T16:50:09.172Z"
   },
   {
    "duration": 276,
    "start_time": "2022-02-21T16:50:09.402Z"
   },
   {
    "duration": 195,
    "start_time": "2022-02-21T16:50:09.681Z"
   },
   {
    "duration": 1217,
    "start_time": "2022-02-21T16:50:09.878Z"
   },
   {
    "duration": 10,
    "start_time": "2022-02-21T16:50:11.098Z"
   },
   {
    "duration": 281,
    "start_time": "2022-02-21T16:50:11.111Z"
   },
   {
    "duration": 260,
    "start_time": "2022-02-21T16:50:11.395Z"
   },
   {
    "duration": 273,
    "start_time": "2022-02-21T16:50:11.658Z"
   },
   {
    "duration": 258,
    "start_time": "2022-02-21T16:50:11.934Z"
   },
   {
    "duration": 250,
    "start_time": "2022-02-21T16:50:12.195Z"
   },
   {
    "duration": 976,
    "start_time": "2022-02-21T16:50:12.447Z"
   },
   {
    "duration": 10,
    "start_time": "2022-02-21T16:50:13.427Z"
   },
   {
    "duration": 252,
    "start_time": "2022-02-21T16:50:13.440Z"
   },
   {
    "duration": 253,
    "start_time": "2022-02-21T16:50:13.695Z"
   },
   {
    "duration": 249,
    "start_time": "2022-02-21T16:50:13.950Z"
   },
   {
    "duration": 246,
    "start_time": "2022-02-21T16:50:14.202Z"
   },
   {
    "duration": 242,
    "start_time": "2022-02-21T16:50:14.451Z"
   },
   {
    "duration": 30,
    "start_time": "2022-02-21T16:53:59.319Z"
   },
   {
    "duration": 31,
    "start_time": "2022-02-21T16:54:09.702Z"
   },
   {
    "duration": 18,
    "start_time": "2022-02-21T16:54:20.278Z"
   },
   {
    "duration": 19,
    "start_time": "2022-02-21T16:54:36.405Z"
   },
   {
    "duration": 30,
    "start_time": "2022-02-21T16:54:58.829Z"
   },
   {
    "duration": 95,
    "start_time": "2022-02-21T16:58:28.636Z"
   },
   {
    "duration": 353,
    "start_time": "2022-02-21T16:58:37.461Z"
   },
   {
    "duration": 491,
    "start_time": "2022-02-21T17:03:05.050Z"
   },
   {
    "duration": 256,
    "start_time": "2022-02-21T17:03:05.544Z"
   },
   {
    "duration": 221,
    "start_time": "2022-02-21T17:03:05.803Z"
   },
   {
    "duration": 165,
    "start_time": "2022-02-21T17:03:06.027Z"
   },
   {
    "duration": 104,
    "start_time": "2022-02-21T17:03:06.196Z"
   },
   {
    "duration": 393,
    "start_time": "2022-02-21T17:03:06.303Z"
   },
   {
    "duration": 244,
    "start_time": "2022-02-21T17:03:06.699Z"
   },
   {
    "duration": 252,
    "start_time": "2022-02-21T17:03:06.949Z"
   },
   {
    "duration": 217,
    "start_time": "2022-02-21T17:03:07.206Z"
   },
   {
    "duration": 262,
    "start_time": "2022-02-21T17:03:07.426Z"
   },
   {
    "duration": 269,
    "start_time": "2022-02-21T17:03:07.691Z"
   },
   {
    "duration": 360,
    "start_time": "2022-02-21T17:03:07.963Z"
   },
   {
    "duration": 231,
    "start_time": "2022-02-21T17:03:08.326Z"
   },
   {
    "duration": 228,
    "start_time": "2022-02-21T17:03:08.560Z"
   },
   {
    "duration": 207,
    "start_time": "2022-02-21T17:03:08.791Z"
   },
   {
    "duration": 281,
    "start_time": "2022-02-21T17:03:09.001Z"
   },
   {
    "duration": 412,
    "start_time": "2022-02-21T17:03:09.284Z"
   },
   {
    "duration": 80,
    "start_time": "2022-02-21T17:03:09.699Z"
   },
   {
    "duration": 171,
    "start_time": "2022-02-21T17:03:09.782Z"
   },
   {
    "duration": 166,
    "start_time": "2022-02-21T17:03:09.956Z"
   },
   {
    "duration": 207,
    "start_time": "2022-02-21T17:03:10.125Z"
   },
   {
    "duration": 256,
    "start_time": "2022-02-21T17:03:10.334Z"
   },
   {
    "duration": 213,
    "start_time": "2022-02-21T17:03:10.596Z"
   },
   {
    "duration": 168,
    "start_time": "2022-02-21T17:03:10.812Z"
   },
   {
    "duration": 456,
    "start_time": "2022-02-21T17:03:10.982Z"
   },
   {
    "duration": 315,
    "start_time": "2022-02-21T17:03:11.440Z"
   },
   {
    "duration": 728,
    "start_time": "2022-02-21T17:03:11.757Z"
   },
   {
    "duration": 6,
    "start_time": "2022-02-21T17:03:12.487Z"
   },
   {
    "duration": 273,
    "start_time": "2022-02-21T17:03:12.496Z"
   },
   {
    "duration": 451,
    "start_time": "2022-02-21T17:03:12.772Z"
   },
   {
    "duration": 54,
    "start_time": "2022-02-21T17:03:13.227Z"
   },
   {
    "duration": 256,
    "start_time": "2022-02-21T17:03:13.284Z"
   },
   {
    "duration": 241,
    "start_time": "2022-02-21T17:03:13.542Z"
   },
   {
    "duration": 926,
    "start_time": "2022-02-21T17:03:13.786Z"
   },
   {
    "duration": 7,
    "start_time": "2022-02-21T17:03:14.715Z"
   },
   {
    "duration": 228,
    "start_time": "2022-02-21T17:03:14.725Z"
   },
   {
    "duration": 243,
    "start_time": "2022-02-21T17:03:14.956Z"
   },
   {
    "duration": 267,
    "start_time": "2022-02-21T17:03:15.202Z"
   },
   {
    "duration": 264,
    "start_time": "2022-02-21T17:03:15.472Z"
   },
   {
    "duration": 177,
    "start_time": "2022-02-21T17:03:15.739Z"
   },
   {
    "duration": 962,
    "start_time": "2022-02-21T17:03:15.918Z"
   },
   {
    "duration": 8,
    "start_time": "2022-02-21T17:03:16.882Z"
   },
   {
    "duration": 272,
    "start_time": "2022-02-21T17:03:16.892Z"
   },
   {
    "duration": 183,
    "start_time": "2022-02-21T17:03:17.166Z"
   },
   {
    "duration": 242,
    "start_time": "2022-02-21T17:03:17.352Z"
   },
   {
    "duration": 264,
    "start_time": "2022-02-21T17:03:17.596Z"
   },
   {
    "duration": 261,
    "start_time": "2022-02-21T17:03:17.862Z"
   },
   {
    "duration": 902,
    "start_time": "2022-02-21T17:03:18.126Z"
   },
   {
    "duration": 10,
    "start_time": "2022-02-21T17:03:19.032Z"
   },
   {
    "duration": 238,
    "start_time": "2022-02-21T17:03:19.045Z"
   },
   {
    "duration": 241,
    "start_time": "2022-02-21T17:03:19.285Z"
   },
   {
    "duration": 242,
    "start_time": "2022-02-21T17:03:19.529Z"
   },
   {
    "duration": 255,
    "start_time": "2022-02-21T17:03:19.774Z"
   },
   {
    "duration": 246,
    "start_time": "2022-02-21T17:03:20.031Z"
   },
   {
    "duration": 283,
    "start_time": "2022-02-21T17:03:20.280Z"
   },
   {
    "duration": 192,
    "start_time": "2022-02-21T17:03:20.566Z"
   },
   {
    "duration": 219,
    "start_time": "2022-02-21T17:03:20.761Z"
   },
   {
    "duration": 631,
    "start_time": "2022-02-21T17:03:20.983Z"
   },
   {
    "duration": 9,
    "start_time": "2022-02-21T17:04:32.374Z"
   },
   {
    "duration": 9,
    "start_time": "2022-02-21T17:04:47.358Z"
   },
   {
    "duration": 19,
    "start_time": "2022-02-21T17:04:54.501Z"
   },
   {
    "duration": 834,
    "start_time": "2022-02-21T17:05:57.237Z"
   },
   {
    "duration": 32,
    "start_time": "2022-02-21T17:07:03.421Z"
   },
   {
    "duration": 5,
    "start_time": "2022-02-21T17:07:06.468Z"
   },
   {
    "duration": 316,
    "start_time": "2022-02-21T17:07:44.684Z"
   },
   {
    "duration": 36,
    "start_time": "2022-02-21T17:08:01.785Z"
   },
   {
    "duration": 349,
    "start_time": "2022-02-21T17:08:45.292Z"
   },
   {
    "duration": 41,
    "start_time": "2022-02-21T17:09:00.540Z"
   },
   {
    "duration": 32,
    "start_time": "2022-02-21T17:09:11.220Z"
   },
   {
    "duration": 30,
    "start_time": "2022-02-21T17:09:16.572Z"
   },
   {
    "duration": 42,
    "start_time": "2022-02-21T17:10:19.164Z"
   },
   {
    "duration": 20,
    "start_time": "2022-02-21T17:11:50.491Z"
   },
   {
    "duration": 23,
    "start_time": "2022-02-21T17:11:55.555Z"
   },
   {
    "duration": 18,
    "start_time": "2022-02-21T17:11:59.442Z"
   },
   {
    "duration": 21,
    "start_time": "2022-02-21T17:12:00.906Z"
   },
   {
    "duration": 16,
    "start_time": "2022-02-21T17:12:06.299Z"
   },
   {
    "duration": 28,
    "start_time": "2022-02-21T17:13:33.530Z"
   },
   {
    "duration": 36,
    "start_time": "2022-02-21T17:13:45.962Z"
   },
   {
    "duration": 30,
    "start_time": "2022-02-21T17:14:33.257Z"
   },
   {
    "duration": 19,
    "start_time": "2022-02-21T17:14:52.529Z"
   },
   {
    "duration": 20,
    "start_time": "2022-02-21T17:14:58.474Z"
   },
   {
    "duration": 18,
    "start_time": "2022-02-21T17:15:04.409Z"
   },
   {
    "duration": 30,
    "start_time": "2022-02-21T17:18:18.167Z"
   },
   {
    "duration": 15,
    "start_time": "2022-02-21T17:19:02.032Z"
   },
   {
    "duration": 17,
    "start_time": "2022-02-21T17:19:05.119Z"
   },
   {
    "duration": 18,
    "start_time": "2022-02-21T17:19:14.911Z"
   },
   {
    "duration": 27,
    "start_time": "2022-02-21T17:19:29.934Z"
   },
   {
    "duration": 27,
    "start_time": "2022-02-21T17:19:50.799Z"
   },
   {
    "duration": 19,
    "start_time": "2022-02-21T17:20:09.615Z"
   },
   {
    "duration": 18,
    "start_time": "2022-02-21T17:20:15.223Z"
   },
   {
    "duration": 19,
    "start_time": "2022-02-21T17:20:27.518Z"
   },
   {
    "duration": 19,
    "start_time": "2022-02-21T17:20:35.631Z"
   },
   {
    "duration": 496,
    "start_time": "2022-02-21T17:21:14.302Z"
   },
   {
    "duration": 32,
    "start_time": "2022-02-21T17:21:24.230Z"
   },
   {
    "duration": 288,
    "start_time": "2022-02-21T17:22:29.606Z"
   },
   {
    "duration": 15,
    "start_time": "2022-02-21T17:22:57.350Z"
   },
   {
    "duration": 30,
    "start_time": "2022-02-21T17:23:14.285Z"
   },
   {
    "duration": 294,
    "start_time": "2022-02-21T17:23:37.389Z"
   },
   {
    "duration": 8,
    "start_time": "2022-02-21T17:23:43.421Z"
   },
   {
    "duration": 260,
    "start_time": "2022-02-21T17:23:44.397Z"
   },
   {
    "duration": 28,
    "start_time": "2022-02-21T17:26:25.600Z"
   },
   {
    "duration": 29,
    "start_time": "2022-02-21T17:26:29.028Z"
   },
   {
    "duration": 288,
    "start_time": "2022-02-21T17:27:22.563Z"
   },
   {
    "duration": 293,
    "start_time": "2022-02-21T17:30:11.771Z"
   },
   {
    "duration": 32,
    "start_time": "2022-02-21T17:31:47.385Z"
   },
   {
    "duration": 8,
    "start_time": "2022-02-21T17:33:53.864Z"
   },
   {
    "duration": 28,
    "start_time": "2022-02-21T17:34:09.799Z"
   },
   {
    "duration": 305,
    "start_time": "2022-02-21T17:34:47.760Z"
   },
   {
    "duration": 29,
    "start_time": "2022-02-21T17:34:56.448Z"
   },
   {
    "duration": 29,
    "start_time": "2022-02-21T17:35:09.039Z"
   },
   {
    "duration": 10,
    "start_time": "2022-02-21T17:35:21.855Z"
   },
   {
    "duration": 8,
    "start_time": "2022-02-21T17:35:27.176Z"
   },
   {
    "duration": 30,
    "start_time": "2022-02-21T17:36:08.287Z"
   },
   {
    "duration": 30,
    "start_time": "2022-02-21T17:36:16.663Z"
   },
   {
    "duration": 6,
    "start_time": "2022-02-21T17:36:25.793Z"
   },
   {
    "duration": 29,
    "start_time": "2022-02-21T17:36:30.519Z"
   },
   {
    "duration": 31,
    "start_time": "2022-02-21T17:36:43.431Z"
   },
   {
    "duration": 32,
    "start_time": "2022-02-21T17:36:53.135Z"
   },
   {
    "duration": 6,
    "start_time": "2022-02-21T17:36:58.647Z"
   },
   {
    "duration": 9,
    "start_time": "2022-02-21T17:37:04.103Z"
   },
   {
    "duration": 278,
    "start_time": "2022-02-21T17:37:27.007Z"
   },
   {
    "duration": 8,
    "start_time": "2022-02-21T17:40:10.230Z"
   },
   {
    "duration": 7,
    "start_time": "2022-02-21T17:40:42.933Z"
   },
   {
    "duration": 7,
    "start_time": "2022-02-21T17:40:51.925Z"
   },
   {
    "duration": 8,
    "start_time": "2022-02-21T17:40:56.628Z"
   },
   {
    "duration": 6,
    "start_time": "2022-02-21T17:41:01.950Z"
   },
   {
    "duration": 7,
    "start_time": "2022-02-21T17:41:07.373Z"
   },
   {
    "duration": 8,
    "start_time": "2022-02-21T17:41:13.439Z"
   },
   {
    "duration": 9,
    "start_time": "2022-02-21T17:41:20.613Z"
   },
   {
    "duration": 7,
    "start_time": "2022-02-21T17:41:24.244Z"
   },
   {
    "duration": 18,
    "start_time": "2022-02-21T17:41:45.948Z"
   },
   {
    "duration": 17,
    "start_time": "2022-02-21T17:41:53.636Z"
   },
   {
    "duration": 9,
    "start_time": "2022-02-21T17:43:54.115Z"
   },
   {
    "duration": 8,
    "start_time": "2022-02-21T17:44:22.052Z"
   },
   {
    "duration": 9,
    "start_time": "2022-02-21T17:44:30.779Z"
   },
   {
    "duration": 10,
    "start_time": "2022-02-21T17:46:32.995Z"
   },
   {
    "duration": 11,
    "start_time": "2022-02-21T17:46:37.770Z"
   },
   {
    "duration": 11,
    "start_time": "2022-02-21T17:46:55.515Z"
   },
   {
    "duration": 9,
    "start_time": "2022-02-21T17:47:07.587Z"
   },
   {
    "duration": 18,
    "start_time": "2022-02-21T17:48:38.954Z"
   },
   {
    "duration": 18,
    "start_time": "2022-02-21T17:49:03.323Z"
   },
   {
    "duration": 18,
    "start_time": "2022-02-21T17:50:30.306Z"
   },
   {
    "duration": 18,
    "start_time": "2022-02-21T17:50:39.353Z"
   },
   {
    "duration": 26,
    "start_time": "2022-02-21T17:50:44.513Z"
   },
   {
    "duration": 19,
    "start_time": "2022-02-21T17:50:52.953Z"
   },
   {
    "duration": 707,
    "start_time": "2022-02-21T17:51:20.753Z"
   },
   {
    "duration": 19,
    "start_time": "2022-02-21T17:51:25.688Z"
   },
   {
    "duration": 20,
    "start_time": "2022-02-21T17:51:31.720Z"
   },
   {
    "duration": 98,
    "start_time": "2022-02-21T17:52:08.320Z"
   },
   {
    "duration": 21,
    "start_time": "2022-02-21T17:53:27.096Z"
   },
   {
    "duration": 19,
    "start_time": "2022-02-21T17:54:01.512Z"
   },
   {
    "duration": 18,
    "start_time": "2022-02-21T17:54:13.192Z"
   },
   {
    "duration": 20,
    "start_time": "2022-02-21T17:54:19.615Z"
   },
   {
    "duration": 8,
    "start_time": "2022-02-21T17:54:42.815Z"
   },
   {
    "duration": 6,
    "start_time": "2022-02-21T17:54:46.288Z"
   },
   {
    "duration": 8,
    "start_time": "2022-02-21T17:54:54.625Z"
   },
   {
    "duration": 7,
    "start_time": "2022-02-21T17:55:00.434Z"
   },
   {
    "duration": 21,
    "start_time": "2022-02-21T17:57:23.822Z"
   },
   {
    "duration": 21,
    "start_time": "2022-02-21T17:57:56.294Z"
   },
   {
    "duration": 17,
    "start_time": "2022-02-21T17:58:17.774Z"
   },
   {
    "duration": 18,
    "start_time": "2022-02-21T17:58:25.747Z"
   },
   {
    "duration": 27,
    "start_time": "2022-02-21T17:58:46.750Z"
   },
   {
    "duration": 22,
    "start_time": "2022-02-21T17:59:05.958Z"
   },
   {
    "duration": 30,
    "start_time": "2022-02-21T17:59:24.968Z"
   },
   {
    "duration": 29,
    "start_time": "2022-02-21T17:59:47.518Z"
   },
   {
    "duration": 25,
    "start_time": "2022-02-21T18:00:25.735Z"
   },
   {
    "duration": 23,
    "start_time": "2022-02-21T18:00:29.268Z"
   },
   {
    "duration": 22,
    "start_time": "2022-02-21T18:00:40.353Z"
   },
   {
    "duration": 106,
    "start_time": "2022-02-21T18:03:57.332Z"
   },
   {
    "duration": 22,
    "start_time": "2022-02-21T18:04:00.580Z"
   },
   {
    "duration": 21,
    "start_time": "2022-02-21T18:06:22.722Z"
   },
   {
    "duration": 23,
    "start_time": "2022-02-21T18:09:57.081Z"
   },
   {
    "duration": 8,
    "start_time": "2022-02-21T18:10:21.353Z"
   },
   {
    "duration": 6,
    "start_time": "2022-02-21T18:10:32.833Z"
   },
   {
    "duration": 20,
    "start_time": "2022-02-21T18:10:43.281Z"
   },
   {
    "duration": 7,
    "start_time": "2022-02-21T18:10:49.609Z"
   },
   {
    "duration": 4,
    "start_time": "2022-02-21T18:11:01.193Z"
   },
   {
    "duration": 5,
    "start_time": "2022-02-21T18:11:02.008Z"
   },
   {
    "duration": 6,
    "start_time": "2022-02-21T18:11:07.456Z"
   },
   {
    "duration": 7,
    "start_time": "2022-02-21T18:11:08.457Z"
   },
   {
    "duration": 5,
    "start_time": "2022-02-21T18:11:13.160Z"
   },
   {
    "duration": 24,
    "start_time": "2022-02-21T18:11:47.264Z"
   },
   {
    "duration": 26,
    "start_time": "2022-02-21T18:11:52.224Z"
   },
   {
    "duration": 28,
    "start_time": "2022-02-21T18:12:06.994Z"
   },
   {
    "duration": 33,
    "start_time": "2022-02-21T18:13:56.784Z"
   },
   {
    "duration": 31,
    "start_time": "2022-02-21T18:14:32.832Z"
   },
   {
    "duration": 32,
    "start_time": "2022-02-21T18:14:55.800Z"
   },
   {
    "duration": 26,
    "start_time": "2022-02-21T18:15:04.919Z"
   },
   {
    "duration": 23,
    "start_time": "2022-02-21T18:16:05.752Z"
   },
   {
    "duration": 25,
    "start_time": "2022-02-21T18:16:12.342Z"
   },
   {
    "duration": 36,
    "start_time": "2022-02-21T18:17:22.614Z"
   },
   {
    "duration": 6,
    "start_time": "2022-02-21T18:18:18.191Z"
   },
   {
    "duration": 34,
    "start_time": "2022-02-21T18:18:22.894Z"
   },
   {
    "duration": 289,
    "start_time": "2022-02-21T18:18:36.614Z"
   },
   {
    "duration": 318,
    "start_time": "2022-02-21T18:18:42.622Z"
   },
   {
    "duration": 332,
    "start_time": "2022-02-21T18:18:58.550Z"
   },
   {
    "duration": 308,
    "start_time": "2022-02-21T18:19:01.502Z"
   },
   {
    "duration": 5,
    "start_time": "2022-02-21T18:19:09.226Z"
   },
   {
    "duration": 492,
    "start_time": "2022-02-21T18:19:09.234Z"
   },
   {
    "duration": 199,
    "start_time": "2022-02-21T18:19:09.729Z"
   },
   {
    "duration": 190,
    "start_time": "2022-02-21T18:19:09.931Z"
   },
   {
    "duration": 115,
    "start_time": "2022-02-21T18:19:10.123Z"
   },
   {
    "duration": 268,
    "start_time": "2022-02-21T18:19:10.240Z"
   },
   {
    "duration": 237,
    "start_time": "2022-02-21T18:19:10.512Z"
   },
   {
    "duration": 231,
    "start_time": "2022-02-21T18:19:10.753Z"
   },
   {
    "duration": 235,
    "start_time": "2022-02-21T18:19:10.987Z"
   },
   {
    "duration": 312,
    "start_time": "2022-02-21T18:19:11.224Z"
   },
   {
    "duration": 260,
    "start_time": "2022-02-21T18:19:11.538Z"
   },
   {
    "duration": 364,
    "start_time": "2022-02-21T18:19:11.800Z"
   },
   {
    "duration": 221,
    "start_time": "2022-02-21T18:19:12.167Z"
   },
   {
    "duration": 231,
    "start_time": "2022-02-21T18:19:12.392Z"
   },
   {
    "duration": 254,
    "start_time": "2022-02-21T18:19:12.626Z"
   },
   {
    "duration": 307,
    "start_time": "2022-02-21T18:19:12.883Z"
   },
   {
    "duration": 521,
    "start_time": "2022-02-21T18:19:13.193Z"
   },
   {
    "duration": 84,
    "start_time": "2022-02-21T18:19:13.717Z"
   },
   {
    "duration": 257,
    "start_time": "2022-02-21T18:19:13.804Z"
   },
   {
    "duration": 254,
    "start_time": "2022-02-21T18:19:14.064Z"
   },
   {
    "duration": 290,
    "start_time": "2022-02-21T18:19:14.320Z"
   },
   {
    "duration": 348,
    "start_time": "2022-02-21T18:19:14.612Z"
   },
   {
    "duration": 264,
    "start_time": "2022-02-21T18:19:14.966Z"
   },
   {
    "duration": 292,
    "start_time": "2022-02-21T18:19:15.235Z"
   },
   {
    "duration": 547,
    "start_time": "2022-02-21T18:19:15.529Z"
   },
   {
    "duration": 333,
    "start_time": "2022-02-21T18:19:16.079Z"
   },
   {
    "duration": 413,
    "start_time": "2022-02-21T18:19:16.415Z"
   },
   {
    "duration": 6,
    "start_time": "2022-02-21T18:19:16.831Z"
   },
   {
    "duration": 253,
    "start_time": "2022-02-21T18:19:16.840Z"
   },
   {
    "duration": 390,
    "start_time": "2022-02-21T18:19:17.096Z"
   },
   {
    "duration": 115,
    "start_time": "2022-02-21T18:19:17.488Z"
   },
   {
    "duration": 254,
    "start_time": "2022-02-21T18:19:17.606Z"
   },
   {
    "duration": 242,
    "start_time": "2022-02-21T18:19:17.863Z"
   },
   {
    "duration": 891,
    "start_time": "2022-02-21T18:19:18.108Z"
   },
   {
    "duration": 10,
    "start_time": "2022-02-21T18:19:19.002Z"
   },
   {
    "duration": 288,
    "start_time": "2022-02-21T18:19:19.015Z"
   },
   {
    "duration": 231,
    "start_time": "2022-02-21T18:19:19.305Z"
   },
   {
    "duration": 268,
    "start_time": "2022-02-21T18:19:19.539Z"
   },
   {
    "duration": 251,
    "start_time": "2022-02-21T18:19:19.810Z"
   },
   {
    "duration": 245,
    "start_time": "2022-02-21T18:19:20.064Z"
   },
   {
    "duration": 853,
    "start_time": "2022-02-21T18:19:20.312Z"
   },
   {
    "duration": 8,
    "start_time": "2022-02-21T18:19:21.167Z"
   },
   {
    "duration": 270,
    "start_time": "2022-02-21T18:19:21.177Z"
   },
   {
    "duration": 259,
    "start_time": "2022-02-21T18:19:21.449Z"
   },
   {
    "duration": 258,
    "start_time": "2022-02-21T18:19:21.711Z"
   },
   {
    "duration": 243,
    "start_time": "2022-02-21T18:19:21.972Z"
   },
   {
    "duration": 231,
    "start_time": "2022-02-21T18:19:22.218Z"
   },
   {
    "duration": 858,
    "start_time": "2022-02-21T18:19:22.452Z"
   },
   {
    "duration": 8,
    "start_time": "2022-02-21T18:19:23.313Z"
   },
   {
    "duration": 231,
    "start_time": "2022-02-21T18:19:23.323Z"
   },
   {
    "duration": 256,
    "start_time": "2022-02-21T18:19:23.556Z"
   },
   {
    "duration": 328,
    "start_time": "2022-02-21T18:19:23.814Z"
   },
   {
    "duration": 266,
    "start_time": "2022-02-21T18:19:24.145Z"
   },
   {
    "duration": 207,
    "start_time": "2022-02-21T18:19:24.414Z"
   },
   {
    "duration": 243,
    "start_time": "2022-02-21T18:19:24.623Z"
   },
   {
    "duration": 285,
    "start_time": "2022-02-21T18:19:24.869Z"
   },
   {
    "duration": 7,
    "start_time": "2022-02-21T18:19:27.909Z"
   },
   {
    "duration": 7,
    "start_time": "2022-02-21T18:19:31.701Z"
   },
   {
    "duration": 32,
    "start_time": "2022-02-21T18:19:34.685Z"
   },
   {
    "duration": 92,
    "start_time": "2022-02-21T18:20:25.706Z"
   },
   {
    "duration": 34,
    "start_time": "2022-02-21T18:22:22.660Z"
   },
   {
    "duration": 4,
    "start_time": "2022-02-21T18:22:38.600Z"
   },
   {
    "duration": 482,
    "start_time": "2022-02-21T18:22:38.607Z"
   },
   {
    "duration": 223,
    "start_time": "2022-02-21T18:22:39.093Z"
   },
   {
    "duration": 188,
    "start_time": "2022-02-21T18:22:39.319Z"
   },
   {
    "duration": 121,
    "start_time": "2022-02-21T18:22:39.509Z"
   },
   {
    "duration": 279,
    "start_time": "2022-02-21T18:22:39.633Z"
   },
   {
    "duration": 226,
    "start_time": "2022-02-21T18:22:39.915Z"
   },
   {
    "duration": 268,
    "start_time": "2022-02-21T18:22:40.145Z"
   },
   {
    "duration": 273,
    "start_time": "2022-02-21T18:22:40.417Z"
   },
   {
    "duration": 248,
    "start_time": "2022-02-21T18:22:40.693Z"
   },
   {
    "duration": 281,
    "start_time": "2022-02-21T18:22:40.944Z"
   },
   {
    "duration": 364,
    "start_time": "2022-02-21T18:22:41.227Z"
   },
   {
    "duration": 258,
    "start_time": "2022-02-21T18:22:41.593Z"
   },
   {
    "duration": 195,
    "start_time": "2022-02-21T18:22:41.862Z"
   },
   {
    "duration": 184,
    "start_time": "2022-02-21T18:22:42.059Z"
   },
   {
    "duration": 247,
    "start_time": "2022-02-21T18:22:42.245Z"
   },
   {
    "duration": 490,
    "start_time": "2022-02-21T18:22:42.495Z"
   },
   {
    "duration": 188,
    "start_time": "2022-02-21T18:22:42.987Z"
   },
   {
    "duration": 245,
    "start_time": "2022-02-21T18:22:43.178Z"
   },
   {
    "duration": 244,
    "start_time": "2022-02-21T18:22:43.427Z"
   },
   {
    "duration": 261,
    "start_time": "2022-02-21T18:22:43.673Z"
   },
   {
    "duration": 263,
    "start_time": "2022-02-21T18:22:43.937Z"
   },
   {
    "duration": 217,
    "start_time": "2022-02-21T18:22:44.206Z"
   },
   {
    "duration": 287,
    "start_time": "2022-02-21T18:22:44.426Z"
   },
   {
    "duration": 562,
    "start_time": "2022-02-21T18:22:44.716Z"
   },
   {
    "duration": 338,
    "start_time": "2022-02-21T18:22:45.280Z"
   },
   {
    "duration": 402,
    "start_time": "2022-02-21T18:22:45.621Z"
   },
   {
    "duration": 5,
    "start_time": "2022-02-21T18:22:46.025Z"
   },
   {
    "duration": 244,
    "start_time": "2022-02-21T18:22:46.032Z"
   },
   {
    "duration": 474,
    "start_time": "2022-02-21T18:22:46.278Z"
   },
   {
    "duration": 141,
    "start_time": "2022-02-21T18:22:46.755Z"
   },
   {
    "duration": 264,
    "start_time": "2022-02-21T18:22:46.899Z"
   },
   {
    "duration": 161,
    "start_time": "2022-02-21T18:22:47.166Z"
   },
   {
    "duration": 881,
    "start_time": "2022-02-21T18:22:47.329Z"
   },
   {
    "duration": 8,
    "start_time": "2022-02-21T18:22:48.212Z"
   },
   {
    "duration": 251,
    "start_time": "2022-02-21T18:22:48.223Z"
   },
   {
    "duration": 256,
    "start_time": "2022-02-21T18:22:48.477Z"
   },
   {
    "duration": 329,
    "start_time": "2022-02-21T18:22:48.735Z"
   },
   {
    "duration": 297,
    "start_time": "2022-02-21T18:22:49.067Z"
   },
   {
    "duration": 218,
    "start_time": "2022-02-21T18:22:49.367Z"
   },
   {
    "duration": 902,
    "start_time": "2022-02-21T18:22:49.587Z"
   },
   {
    "duration": 8,
    "start_time": "2022-02-21T18:22:50.493Z"
   },
   {
    "duration": 304,
    "start_time": "2022-02-21T18:22:50.504Z"
   },
   {
    "duration": 281,
    "start_time": "2022-02-21T18:22:50.810Z"
   },
   {
    "duration": 255,
    "start_time": "2022-02-21T18:22:51.093Z"
   },
   {
    "duration": 231,
    "start_time": "2022-02-21T18:22:51.351Z"
   },
   {
    "duration": 239,
    "start_time": "2022-02-21T18:22:51.585Z"
   },
   {
    "duration": 850,
    "start_time": "2022-02-21T18:22:51.827Z"
   },
   {
    "duration": 7,
    "start_time": "2022-02-21T18:22:52.680Z"
   },
   {
    "duration": 181,
    "start_time": "2022-02-21T18:22:52.690Z"
   },
   {
    "duration": 151,
    "start_time": "2022-02-21T18:22:52.873Z"
   },
   {
    "duration": 165,
    "start_time": "2022-02-21T18:22:53.026Z"
   },
   {
    "duration": 211,
    "start_time": "2022-02-21T18:22:53.193Z"
   },
   {
    "duration": 158,
    "start_time": "2022-02-21T18:22:53.406Z"
   },
   {
    "duration": 272,
    "start_time": "2022-02-21T18:22:53.567Z"
   },
   {
    "duration": 242,
    "start_time": "2022-02-21T18:22:53.842Z"
   },
   {
    "duration": 6,
    "start_time": "2022-02-21T18:22:57.732Z"
   },
   {
    "duration": 34,
    "start_time": "2022-02-21T18:22:58.636Z"
   },
   {
    "duration": 7,
    "start_time": "2022-02-21T18:23:57.429Z"
   },
   {
    "duration": 35,
    "start_time": "2022-02-21T18:24:00.643Z"
   },
   {
    "duration": 35,
    "start_time": "2022-02-21T18:24:33.019Z"
   },
   {
    "duration": 33,
    "start_time": "2022-02-21T18:24:36.491Z"
   },
   {
    "duration": 7,
    "start_time": "2022-02-21T18:25:10.724Z"
   },
   {
    "duration": 4,
    "start_time": "2022-02-21T18:25:21.542Z"
   },
   {
    "duration": 458,
    "start_time": "2022-02-21T18:25:21.549Z"
   },
   {
    "duration": 265,
    "start_time": "2022-02-21T18:25:22.011Z"
   },
   {
    "duration": 233,
    "start_time": "2022-02-21T18:25:22.279Z"
   },
   {
    "duration": 146,
    "start_time": "2022-02-21T18:25:22.515Z"
   },
   {
    "duration": 265,
    "start_time": "2022-02-21T18:25:22.664Z"
   },
   {
    "duration": 231,
    "start_time": "2022-02-21T18:25:22.932Z"
   },
   {
    "duration": 159,
    "start_time": "2022-02-21T18:25:23.167Z"
   },
   {
    "duration": 239,
    "start_time": "2022-02-21T18:25:23.330Z"
   },
   {
    "duration": 183,
    "start_time": "2022-02-21T18:25:23.572Z"
   },
   {
    "duration": 211,
    "start_time": "2022-02-21T18:25:23.758Z"
   },
   {
    "duration": 281,
    "start_time": "2022-02-21T18:25:23.971Z"
   },
   {
    "duration": 178,
    "start_time": "2022-02-21T18:25:24.255Z"
   },
   {
    "duration": 118,
    "start_time": "2022-02-21T18:25:24.436Z"
   },
   {
    "duration": 129,
    "start_time": "2022-02-21T18:25:24.556Z"
   },
   {
    "duration": 171,
    "start_time": "2022-02-21T18:25:24.687Z"
   },
   {
    "duration": 403,
    "start_time": "2022-02-21T18:25:24.861Z"
   },
   {
    "duration": 105,
    "start_time": "2022-02-21T18:25:25.267Z"
   },
   {
    "duration": 229,
    "start_time": "2022-02-21T18:25:25.375Z"
   },
   {
    "duration": 197,
    "start_time": "2022-02-21T18:25:25.606Z"
   },
   {
    "duration": 226,
    "start_time": "2022-02-21T18:25:25.805Z"
   },
   {
    "duration": 236,
    "start_time": "2022-02-21T18:25:26.033Z"
   },
   {
    "duration": 209,
    "start_time": "2022-02-21T18:25:26.277Z"
   },
   {
    "duration": 322,
    "start_time": "2022-02-21T18:25:26.490Z"
   },
   {
    "duration": 580,
    "start_time": "2022-02-21T18:25:26.815Z"
   },
   {
    "duration": 359,
    "start_time": "2022-02-21T18:25:27.398Z"
   },
   {
    "duration": 407,
    "start_time": "2022-02-21T18:25:27.761Z"
   },
   {
    "duration": 5,
    "start_time": "2022-02-21T18:25:28.170Z"
   },
   {
    "duration": 285,
    "start_time": "2022-02-21T18:25:28.178Z"
   },
   {
    "duration": 452,
    "start_time": "2022-02-21T18:25:28.466Z"
   },
   {
    "duration": 31,
    "start_time": "2022-02-21T18:25:28.921Z"
   },
   {
    "duration": 262,
    "start_time": "2022-02-21T18:25:28.955Z"
   },
   {
    "duration": 171,
    "start_time": "2022-02-21T18:25:29.220Z"
   },
   {
    "duration": 817,
    "start_time": "2022-02-21T18:25:29.394Z"
   },
   {
    "duration": 9,
    "start_time": "2022-02-21T18:25:30.214Z"
   },
   {
    "duration": 248,
    "start_time": "2022-02-21T18:25:30.225Z"
   },
   {
    "duration": 301,
    "start_time": "2022-02-21T18:25:30.475Z"
   },
   {
    "duration": 214,
    "start_time": "2022-02-21T18:25:30.778Z"
   },
   {
    "duration": 329,
    "start_time": "2022-02-21T18:25:30.995Z"
   },
   {
    "duration": 279,
    "start_time": "2022-02-21T18:25:31.327Z"
   },
   {
    "duration": 890,
    "start_time": "2022-02-21T18:25:31.609Z"
   },
   {
    "duration": 8,
    "start_time": "2022-02-21T18:25:32.502Z"
   },
   {
    "duration": 268,
    "start_time": "2022-02-21T18:25:32.512Z"
   },
   {
    "duration": 263,
    "start_time": "2022-02-21T18:25:32.783Z"
   },
   {
    "duration": 244,
    "start_time": "2022-02-21T18:25:33.048Z"
   },
   {
    "duration": 256,
    "start_time": "2022-02-21T18:25:33.294Z"
   },
   {
    "duration": 255,
    "start_time": "2022-02-21T18:25:33.552Z"
   },
   {
    "duration": 906,
    "start_time": "2022-02-21T18:25:33.810Z"
   },
   {
    "duration": 9,
    "start_time": "2022-02-21T18:25:34.720Z"
   },
   {
    "duration": 280,
    "start_time": "2022-02-21T18:25:34.732Z"
   },
   {
    "duration": 296,
    "start_time": "2022-02-21T18:25:35.014Z"
   },
   {
    "duration": 253,
    "start_time": "2022-02-21T18:25:35.313Z"
   },
   {
    "duration": 269,
    "start_time": "2022-02-21T18:25:35.569Z"
   },
   {
    "duration": 226,
    "start_time": "2022-02-21T18:25:35.841Z"
   },
   {
    "duration": 381,
    "start_time": "2022-02-21T18:25:36.070Z"
   },
   {
    "duration": 267,
    "start_time": "2022-02-21T18:25:36.462Z"
   },
   {
    "duration": 11,
    "start_time": "2022-02-21T18:25:38.491Z"
   },
   {
    "duration": 35,
    "start_time": "2022-02-21T18:25:51.370Z"
   },
   {
    "duration": 189,
    "start_time": "2022-02-21T18:25:51.530Z"
   },
   {
    "duration": 23,
    "start_time": "2022-02-21T18:26:26.571Z"
   },
   {
    "duration": 124,
    "start_time": "2022-02-21T18:27:10.178Z"
   },
   {
    "duration": 25,
    "start_time": "2022-02-21T18:27:19.969Z"
   },
   {
    "duration": 19,
    "start_time": "2022-02-21T18:28:34.233Z"
   },
   {
    "duration": 23,
    "start_time": "2022-02-21T18:28:42.218Z"
   },
   {
    "duration": 20,
    "start_time": "2022-02-21T18:29:48.593Z"
   },
   {
    "duration": 23,
    "start_time": "2022-02-21T18:29:51.841Z"
   },
   {
    "duration": 21,
    "start_time": "2022-02-21T18:29:55.473Z"
   },
   {
    "duration": 21,
    "start_time": "2022-02-21T18:30:51.665Z"
   },
   {
    "duration": 26,
    "start_time": "2022-02-21T18:31:06.073Z"
   },
   {
    "duration": 23,
    "start_time": "2022-02-21T18:31:47.377Z"
   },
   {
    "duration": 30,
    "start_time": "2022-02-21T18:32:25.766Z"
   },
   {
    "duration": 31,
    "start_time": "2022-02-21T18:32:30.521Z"
   },
   {
    "duration": 9,
    "start_time": "2022-02-21T18:33:13.376Z"
   },
   {
    "duration": 9,
    "start_time": "2022-02-21T18:33:17.824Z"
   },
   {
    "duration": 19,
    "start_time": "2022-02-21T18:33:43.906Z"
   },
   {
    "duration": 20,
    "start_time": "2022-02-21T18:33:44.943Z"
   },
   {
    "duration": 22,
    "start_time": "2022-02-21T18:34:00.672Z"
   },
   {
    "duration": 22,
    "start_time": "2022-02-21T18:34:06.448Z"
   },
   {
    "duration": 12,
    "start_time": "2022-02-21T18:35:03.287Z"
   },
   {
    "duration": 10,
    "start_time": "2022-02-21T18:35:12.399Z"
   },
   {
    "duration": 11,
    "start_time": "2022-02-21T18:35:17.169Z"
   },
   {
    "duration": 9,
    "start_time": "2022-02-21T18:35:29.110Z"
   },
   {
    "duration": 20,
    "start_time": "2022-02-21T18:37:46.142Z"
   },
   {
    "duration": 20,
    "start_time": "2022-02-21T18:38:10.086Z"
   },
   {
    "duration": 20,
    "start_time": "2022-02-21T18:38:10.701Z"
   },
   {
    "duration": 21,
    "start_time": "2022-02-21T18:38:14.950Z"
   },
   {
    "duration": 27,
    "start_time": "2022-02-21T18:40:30.197Z"
   },
   {
    "duration": 28,
    "start_time": "2022-02-21T18:40:38.468Z"
   },
   {
    "duration": 22,
    "start_time": "2022-02-21T18:40:44.828Z"
   },
   {
    "duration": 20,
    "start_time": "2022-02-21T18:40:47.196Z"
   },
   {
    "duration": 21,
    "start_time": "2022-02-21T18:40:47.972Z"
   },
   {
    "duration": 36,
    "start_time": "2022-02-21T18:41:20.740Z"
   },
   {
    "duration": 9,
    "start_time": "2022-02-21T18:42:26.996Z"
   },
   {
    "duration": 11,
    "start_time": "2022-02-21T18:42:33.685Z"
   },
   {
    "duration": 38,
    "start_time": "2022-02-21T18:42:52.404Z"
   },
   {
    "duration": 33,
    "start_time": "2022-02-21T18:43:03.629Z"
   },
   {
    "duration": 23,
    "start_time": "2022-02-21T18:44:01.900Z"
   },
   {
    "duration": 22,
    "start_time": "2022-02-21T18:44:06.698Z"
   },
   {
    "duration": 25,
    "start_time": "2022-02-21T18:51:56.200Z"
   },
   {
    "duration": 28,
    "start_time": "2022-02-21T18:58:40.428Z"
   },
   {
    "duration": 21,
    "start_time": "2022-02-21T19:01:27.155Z"
   },
   {
    "duration": 26,
    "start_time": "2022-02-21T19:04:12.266Z"
   },
   {
    "duration": 27,
    "start_time": "2022-02-21T19:05:11.666Z"
   },
   {
    "duration": 378,
    "start_time": "2022-02-21T19:14:26.255Z"
   },
   {
    "duration": 427,
    "start_time": "2022-02-21T19:14:30.862Z"
   },
   {
    "duration": 411,
    "start_time": "2022-02-21T19:14:36.375Z"
   },
   {
    "duration": 7,
    "start_time": "2022-02-21T19:14:40.302Z"
   },
   {
    "duration": 22,
    "start_time": "2022-02-21T19:14:41.407Z"
   },
   {
    "duration": 178,
    "start_time": "2022-02-21T19:14:42.085Z"
   },
   {
    "duration": 6,
    "start_time": "2022-02-21T19:14:43.222Z"
   },
   {
    "duration": 11,
    "start_time": "2022-02-21T19:14:44.062Z"
   },
   {
    "duration": 9,
    "start_time": "2022-02-21T19:14:45.749Z"
   },
   {
    "duration": 765,
    "start_time": "2022-02-21T19:14:48.247Z"
   },
   {
    "duration": 1048,
    "start_time": "2022-03-03T20:26:05.320Z"
   },
   {
    "duration": 186,
    "start_time": "2022-03-03T20:26:06.370Z"
   },
   {
    "duration": 160,
    "start_time": "2022-03-03T20:26:06.558Z"
   },
   {
    "duration": 111,
    "start_time": "2022-03-03T20:26:06.720Z"
   },
   {
    "duration": 21,
    "start_time": "2022-03-03T20:26:06.833Z"
   },
   {
    "duration": 50,
    "start_time": "2022-03-03T20:26:06.856Z"
   },
   {
    "duration": 21,
    "start_time": "2022-03-03T20:26:06.908Z"
   },
   {
    "duration": 16,
    "start_time": "2022-03-03T20:26:06.930Z"
   },
   {
    "duration": 14,
    "start_time": "2022-03-03T20:26:06.949Z"
   },
   {
    "duration": 6,
    "start_time": "2022-03-03T20:26:06.976Z"
   },
   {
    "duration": 6,
    "start_time": "2022-03-03T20:26:06.983Z"
   },
   {
    "duration": 114,
    "start_time": "2022-03-03T20:26:06.991Z"
   },
   {
    "duration": 71,
    "start_time": "2022-03-03T20:26:07.107Z"
   },
   {
    "duration": 42,
    "start_time": "2022-03-03T20:26:07.179Z"
   },
   {
    "duration": 6,
    "start_time": "2022-03-03T20:26:07.222Z"
   },
   {
    "duration": 9,
    "start_time": "2022-03-03T20:26:07.230Z"
   },
   {
    "duration": 181,
    "start_time": "2022-03-03T20:26:07.240Z"
   },
   {
    "duration": 59,
    "start_time": "2022-03-03T20:26:07.422Z"
   },
   {
    "duration": 37,
    "start_time": "2022-03-03T20:26:07.482Z"
   },
   {
    "duration": 31,
    "start_time": "2022-03-03T20:26:07.521Z"
   },
   {
    "duration": 73,
    "start_time": "2022-03-03T20:26:07.553Z"
   },
   {
    "duration": 64,
    "start_time": "2022-03-03T20:26:07.628Z"
   },
   {
    "duration": 48,
    "start_time": "2022-03-03T20:26:07.693Z"
   },
   {
    "duration": 66,
    "start_time": "2022-03-03T20:26:07.743Z"
   },
   {
    "duration": 229,
    "start_time": "2022-03-03T20:26:07.811Z"
   },
   {
    "duration": 208,
    "start_time": "2022-03-03T20:26:08.041Z"
   },
   {
    "duration": 248,
    "start_time": "2022-03-03T20:26:08.253Z"
   },
   {
    "duration": 3,
    "start_time": "2022-03-03T20:26:08.504Z"
   },
   {
    "duration": 15,
    "start_time": "2022-03-03T20:26:08.508Z"
   },
   {
    "duration": 106,
    "start_time": "2022-03-03T20:26:08.524Z"
   },
   {
    "duration": 3,
    "start_time": "2022-03-03T20:26:08.632Z"
   },
   {
    "duration": 11,
    "start_time": "2022-03-03T20:26:08.636Z"
   },
   {
    "duration": 6,
    "start_time": "2022-03-03T20:26:08.648Z"
   },
   {
    "duration": 423,
    "start_time": "2022-03-03T20:26:08.656Z"
   },
   {
    "duration": 6,
    "start_time": "2022-03-03T20:26:09.080Z"
   },
   {
    "duration": 8,
    "start_time": "2022-03-03T20:26:09.087Z"
   },
   {
    "duration": 7,
    "start_time": "2022-03-03T20:26:09.096Z"
   },
   {
    "duration": 5,
    "start_time": "2022-03-03T20:26:09.105Z"
   },
   {
    "duration": 5,
    "start_time": "2022-03-03T20:26:09.112Z"
   },
   {
    "duration": 8,
    "start_time": "2022-03-03T20:26:09.119Z"
   },
   {
    "duration": 452,
    "start_time": "2022-03-03T20:26:09.129Z"
   },
   {
    "duration": 5,
    "start_time": "2022-03-03T20:26:09.583Z"
   },
   {
    "duration": 12,
    "start_time": "2022-03-03T20:26:09.590Z"
   },
   {
    "duration": 11,
    "start_time": "2022-03-03T20:26:09.603Z"
   },
   {
    "duration": 9,
    "start_time": "2022-03-03T20:26:09.615Z"
   },
   {
    "duration": 4,
    "start_time": "2022-03-03T20:26:09.626Z"
   },
   {
    "duration": 16,
    "start_time": "2022-03-03T20:26:09.632Z"
   },
   {
    "duration": 431,
    "start_time": "2022-03-03T20:26:09.650Z"
   },
   {
    "duration": 5,
    "start_time": "2022-03-03T20:26:10.083Z"
   },
   {
    "duration": 21,
    "start_time": "2022-03-03T20:26:10.090Z"
   },
   {
    "duration": 20,
    "start_time": "2022-03-03T20:26:10.112Z"
   },
   {
    "duration": 18,
    "start_time": "2022-03-03T20:26:10.133Z"
   },
   {
    "duration": 20,
    "start_time": "2022-03-03T20:26:10.152Z"
   },
   {
    "duration": 12,
    "start_time": "2022-03-03T20:26:10.174Z"
   },
   {
    "duration": 28,
    "start_time": "2022-03-03T20:26:10.188Z"
   },
   {
    "duration": 17,
    "start_time": "2022-03-03T20:26:10.218Z"
   },
   {
    "duration": 17,
    "start_time": "2022-03-03T20:26:10.237Z"
   },
   {
    "duration": 25,
    "start_time": "2022-03-03T20:26:10.256Z"
   },
   {
    "duration": 20,
    "start_time": "2022-03-03T20:26:10.283Z"
   },
   {
    "duration": 16,
    "start_time": "2022-03-03T20:26:10.304Z"
   },
   {
    "duration": 28,
    "start_time": "2022-03-03T20:26:10.321Z"
   },
   {
    "duration": 37,
    "start_time": "2022-03-03T20:40:34.677Z"
   },
   {
    "duration": 1054,
    "start_time": "2022-03-04T14:00:35.456Z"
   },
   {
    "duration": 208,
    "start_time": "2022-03-04T14:00:36.513Z"
   },
   {
    "duration": 224,
    "start_time": "2022-03-04T14:00:36.724Z"
   },
   {
    "duration": 81,
    "start_time": "2022-03-04T14:00:43.284Z"
   },
   {
    "duration": 259,
    "start_time": "2022-03-04T14:01:19.933Z"
   },
   {
    "duration": 3,
    "start_time": "2022-03-04T14:02:47.826Z"
   },
   {
    "duration": 202,
    "start_time": "2022-03-04T14:02:47.831Z"
   },
   {
    "duration": 200,
    "start_time": "2022-03-04T14:02:48.035Z"
   },
   {
    "duration": 130,
    "start_time": "2022-03-04T14:02:48.238Z"
   },
   {
    "duration": 17,
    "start_time": "2022-03-04T14:02:48.369Z"
   },
   {
    "duration": 43,
    "start_time": "2022-03-04T14:02:48.388Z"
   },
   {
    "duration": 22,
    "start_time": "2022-03-04T14:02:48.433Z"
   },
   {
    "duration": 19,
    "start_time": "2022-03-04T14:02:48.458Z"
   },
   {
    "duration": 40,
    "start_time": "2022-03-04T14:02:48.479Z"
   },
   {
    "duration": 13,
    "start_time": "2022-03-04T14:02:48.521Z"
   },
   {
    "duration": 19,
    "start_time": "2022-03-04T14:02:48.537Z"
   },
   {
    "duration": 114,
    "start_time": "2022-03-04T14:02:48.559Z"
   },
   {
    "duration": 58,
    "start_time": "2022-03-04T14:02:48.675Z"
   },
   {
    "duration": 45,
    "start_time": "2022-03-04T14:02:48.735Z"
   },
   {
    "duration": 23,
    "start_time": "2022-03-04T14:02:48.782Z"
   },
   {
    "duration": 25,
    "start_time": "2022-03-04T14:02:48.808Z"
   },
   {
    "duration": 180,
    "start_time": "2022-03-04T14:02:50.227Z"
   },
   {
    "duration": 57,
    "start_time": "2022-03-04T14:02:52.689Z"
   },
   {
    "duration": 44,
    "start_time": "2022-03-04T14:02:53.082Z"
   },
   {
    "duration": 32,
    "start_time": "2022-03-04T14:02:53.434Z"
   },
   {
    "duration": 59,
    "start_time": "2022-03-04T14:02:57.426Z"
   },
   {
    "duration": 52,
    "start_time": "2022-03-04T14:03:11.451Z"
   },
   {
    "duration": 5682,
    "start_time": "2022-03-04T14:03:41.637Z"
   },
   {
    "duration": 4,
    "start_time": "2022-03-04T14:03:48.648Z"
   },
   {
    "duration": 199,
    "start_time": "2022-03-04T14:03:48.655Z"
   },
   {
    "duration": 179,
    "start_time": "2022-03-04T14:03:48.857Z"
   },
   {
    "duration": 117,
    "start_time": "2022-03-04T14:03:49.039Z"
   },
   {
    "duration": 17,
    "start_time": "2022-03-04T14:03:49.159Z"
   },
   {
    "duration": 41,
    "start_time": "2022-03-04T14:03:49.178Z"
   },
   {
    "duration": 37,
    "start_time": "2022-03-04T14:03:49.222Z"
   },
   {
    "duration": 40,
    "start_time": "2022-03-04T14:03:49.262Z"
   },
   {
    "duration": 16,
    "start_time": "2022-03-04T14:03:49.305Z"
   },
   {
    "duration": 18,
    "start_time": "2022-03-04T14:03:49.323Z"
   },
   {
    "duration": 18,
    "start_time": "2022-03-04T14:03:49.343Z"
   },
   {
    "duration": 143,
    "start_time": "2022-03-04T14:03:49.363Z"
   },
   {
    "duration": 64,
    "start_time": "2022-03-04T14:03:49.508Z"
   },
   {
    "duration": 79,
    "start_time": "2022-03-04T14:03:49.574Z"
   },
   {
    "duration": 12,
    "start_time": "2022-03-04T14:03:49.655Z"
   },
   {
    "duration": 11,
    "start_time": "2022-03-04T14:03:49.669Z"
   },
   {
    "duration": 5685,
    "start_time": "2022-03-04T14:04:02.220Z"
   },
   {
    "duration": 3,
    "start_time": "2022-03-04T14:04:22.791Z"
   },
   {
    "duration": 185,
    "start_time": "2022-03-04T14:04:22.796Z"
   },
   {
    "duration": 246,
    "start_time": "2022-03-04T14:04:22.984Z"
   },
   {
    "duration": 170,
    "start_time": "2022-03-04T14:04:23.233Z"
   },
   {
    "duration": 20,
    "start_time": "2022-03-04T14:04:23.406Z"
   },
   {
    "duration": 44,
    "start_time": "2022-03-04T14:04:23.428Z"
   },
   {
    "duration": 32,
    "start_time": "2022-03-04T14:04:23.475Z"
   },
   {
    "duration": 31,
    "start_time": "2022-03-04T14:04:23.510Z"
   },
   {
    "duration": 27,
    "start_time": "2022-03-04T14:04:23.544Z"
   },
   {
    "duration": 30,
    "start_time": "2022-03-04T14:04:23.573Z"
   },
   {
    "duration": 10,
    "start_time": "2022-03-04T14:04:23.606Z"
   },
   {
    "duration": 141,
    "start_time": "2022-03-04T14:04:23.619Z"
   },
   {
    "duration": 76,
    "start_time": "2022-03-04T14:04:23.762Z"
   },
   {
    "duration": 73,
    "start_time": "2022-03-04T14:04:23.840Z"
   },
   {
    "duration": 9,
    "start_time": "2022-03-04T14:04:23.915Z"
   },
   {
    "duration": 15,
    "start_time": "2022-03-04T14:04:23.927Z"
   },
   {
    "duration": 171,
    "start_time": "2022-03-04T14:04:26.914Z"
   },
   {
    "duration": 55,
    "start_time": "2022-03-04T14:04:32.307Z"
   },
   {
    "duration": 42,
    "start_time": "2022-03-04T14:04:32.561Z"
   },
   {
    "duration": 34,
    "start_time": "2022-03-04T14:04:33.081Z"
   },
   {
    "duration": 72,
    "start_time": "2022-03-04T14:04:37.105Z"
   },
   {
    "duration": 249,
    "start_time": "2022-03-04T14:09:32.418Z"
   },
   {
    "duration": 4,
    "start_time": "2022-03-04T14:09:38.435Z"
   },
   {
    "duration": 215,
    "start_time": "2022-03-04T14:09:38.441Z"
   },
   {
    "duration": 254,
    "start_time": "2022-03-04T14:09:38.658Z"
   },
   {
    "duration": 170,
    "start_time": "2022-03-04T14:09:38.915Z"
   },
   {
    "duration": 24,
    "start_time": "2022-03-04T14:09:39.088Z"
   },
   {
    "duration": 55,
    "start_time": "2022-03-04T14:09:39.114Z"
   },
   {
    "duration": 30,
    "start_time": "2022-03-04T14:09:39.173Z"
   },
   {
    "duration": 29,
    "start_time": "2022-03-04T14:09:39.207Z"
   },
   {
    "duration": 16,
    "start_time": "2022-03-04T14:09:39.239Z"
   },
   {
    "duration": 9,
    "start_time": "2022-03-04T14:09:39.257Z"
   },
   {
    "duration": 38,
    "start_time": "2022-03-04T14:09:39.268Z"
   },
   {
    "duration": 111,
    "start_time": "2022-03-04T14:09:39.308Z"
   },
   {
    "duration": 47,
    "start_time": "2022-03-04T14:09:39.422Z"
   },
   {
    "duration": 78,
    "start_time": "2022-03-04T14:09:39.471Z"
   },
   {
    "duration": 7,
    "start_time": "2022-03-04T14:09:39.550Z"
   },
   {
    "duration": 14,
    "start_time": "2022-03-04T14:09:39.559Z"
   },
   {
    "duration": 201,
    "start_time": "2022-03-04T14:09:39.575Z"
   },
   {
    "duration": 71,
    "start_time": "2022-03-04T14:09:39.778Z"
   },
   {
    "duration": 39,
    "start_time": "2022-03-04T14:09:39.852Z"
   },
   {
    "duration": 41,
    "start_time": "2022-03-04T14:09:39.902Z"
   },
   {
    "duration": 76,
    "start_time": "2022-03-04T14:09:39.945Z"
   },
   {
    "duration": 33,
    "start_time": "2022-03-04T14:09:40.024Z"
   },
   {
    "duration": 96,
    "start_time": "2022-03-04T14:09:40.059Z"
   },
   {
    "duration": 62,
    "start_time": "2022-03-04T14:09:57.685Z"
   },
   {
    "duration": 77,
    "start_time": "2022-03-04T14:11:09.838Z"
   },
   {
    "duration": 3,
    "start_time": "2022-03-04T14:13:32.578Z"
   },
   {
    "duration": 207,
    "start_time": "2022-03-04T14:13:32.583Z"
   },
   {
    "duration": 172,
    "start_time": "2022-03-04T14:13:32.801Z"
   },
   {
    "duration": 117,
    "start_time": "2022-03-04T14:13:32.975Z"
   },
   {
    "duration": 17,
    "start_time": "2022-03-04T14:13:33.094Z"
   },
   {
    "duration": 49,
    "start_time": "2022-03-04T14:13:33.112Z"
   },
   {
    "duration": 24,
    "start_time": "2022-03-04T14:13:33.163Z"
   },
   {
    "duration": 30,
    "start_time": "2022-03-04T14:13:33.190Z"
   },
   {
    "duration": 16,
    "start_time": "2022-03-04T14:13:33.222Z"
   },
   {
    "duration": 14,
    "start_time": "2022-03-04T14:13:33.240Z"
   },
   {
    "duration": 17,
    "start_time": "2022-03-04T14:13:33.256Z"
   },
   {
    "duration": 110,
    "start_time": "2022-03-04T14:13:33.275Z"
   },
   {
    "duration": 66,
    "start_time": "2022-03-04T14:13:33.400Z"
   },
   {
    "duration": 79,
    "start_time": "2022-03-04T14:13:33.468Z"
   },
   {
    "duration": 9,
    "start_time": "2022-03-04T14:13:33.549Z"
   },
   {
    "duration": 12,
    "start_time": "2022-03-04T14:13:33.560Z"
   },
   {
    "duration": 190,
    "start_time": "2022-03-04T14:13:33.574Z"
   },
   {
    "duration": 62,
    "start_time": "2022-03-04T14:13:33.766Z"
   },
   {
    "duration": 52,
    "start_time": "2022-03-04T14:13:33.831Z"
   },
   {
    "duration": 56,
    "start_time": "2022-03-04T14:13:33.886Z"
   },
   {
    "duration": 81,
    "start_time": "2022-03-04T14:13:33.945Z"
   },
   {
    "duration": 45,
    "start_time": "2022-03-04T14:13:34.029Z"
   },
   {
    "duration": 82,
    "start_time": "2022-03-04T14:13:34.076Z"
   },
   {
    "duration": 84,
    "start_time": "2022-03-04T14:13:34.161Z"
   },
   {
    "duration": 86,
    "start_time": "2022-03-04T14:13:34.247Z"
   },
   {
    "duration": 372,
    "start_time": "2022-03-04T14:13:34.336Z"
   },
   {
    "duration": 334,
    "start_time": "2022-03-04T14:13:34.710Z"
   },
   {
    "duration": 272,
    "start_time": "2022-03-04T14:13:35.046Z"
   },
   {
    "duration": 4,
    "start_time": "2022-03-04T14:13:35.320Z"
   },
   {
    "duration": 18,
    "start_time": "2022-03-04T14:13:35.326Z"
   },
   {
    "duration": 114,
    "start_time": "2022-03-04T14:13:35.346Z"
   },
   {
    "duration": 4,
    "start_time": "2022-03-04T14:13:35.462Z"
   },
   {
    "duration": 12,
    "start_time": "2022-03-04T14:13:35.468Z"
   },
   {
    "duration": 19,
    "start_time": "2022-03-04T14:13:35.482Z"
   },
   {
    "duration": 433,
    "start_time": "2022-03-04T14:13:40.844Z"
   },
   {
    "duration": 310,
    "start_time": "2022-03-04T14:16:11.045Z"
   },
   {
    "duration": 1806,
    "start_time": "2022-03-04T14:16:21.628Z"
   },
   {
    "duration": 414,
    "start_time": "2022-03-04T14:17:20.266Z"
   },
   {
    "duration": 452,
    "start_time": "2022-03-04T14:17:47.330Z"
   },
   {
    "duration": 397,
    "start_time": "2022-03-04T14:18:41.890Z"
   },
   {
    "duration": 242,
    "start_time": "2022-03-04T14:19:34.041Z"
   },
   {
    "duration": 3,
    "start_time": "2022-03-04T14:19:43.198Z"
   },
   {
    "duration": 216,
    "start_time": "2022-03-04T14:19:43.203Z"
   },
   {
    "duration": 199,
    "start_time": "2022-03-04T14:19:43.422Z"
   },
   {
    "duration": 114,
    "start_time": "2022-03-04T14:19:43.623Z"
   },
   {
    "duration": 18,
    "start_time": "2022-03-04T14:19:43.739Z"
   },
   {
    "duration": 38,
    "start_time": "2022-03-04T14:19:43.758Z"
   },
   {
    "duration": 22,
    "start_time": "2022-03-04T14:19:43.803Z"
   },
   {
    "duration": 31,
    "start_time": "2022-03-04T14:19:43.828Z"
   },
   {
    "duration": 50,
    "start_time": "2022-03-04T14:19:43.861Z"
   },
   {
    "duration": 8,
    "start_time": "2022-03-04T14:19:43.913Z"
   },
   {
    "duration": 9,
    "start_time": "2022-03-04T14:19:43.923Z"
   },
   {
    "duration": 119,
    "start_time": "2022-03-04T14:19:43.934Z"
   },
   {
    "duration": 55,
    "start_time": "2022-03-04T14:19:44.055Z"
   },
   {
    "duration": 48,
    "start_time": "2022-03-04T14:19:44.112Z"
   },
   {
    "duration": 7,
    "start_time": "2022-03-04T14:19:44.162Z"
   },
   {
    "duration": 32,
    "start_time": "2022-03-04T14:19:44.171Z"
   },
   {
    "duration": 255,
    "start_time": "2022-03-04T14:19:44.205Z"
   },
   {
    "duration": 91,
    "start_time": "2022-03-04T14:19:44.463Z"
   },
   {
    "duration": 70,
    "start_time": "2022-03-04T14:19:44.559Z"
   },
   {
    "duration": 51,
    "start_time": "2022-03-04T14:19:44.632Z"
   },
   {
    "duration": 84,
    "start_time": "2022-03-04T14:19:44.686Z"
   },
   {
    "duration": 56,
    "start_time": "2022-03-04T14:19:44.773Z"
   },
   {
    "duration": 81,
    "start_time": "2022-03-04T14:19:44.831Z"
   },
   {
    "duration": 73,
    "start_time": "2022-03-04T14:19:44.915Z"
   },
   {
    "duration": 75,
    "start_time": "2022-03-04T14:19:45.002Z"
   },
   {
    "duration": 274,
    "start_time": "2022-03-04T14:19:45.080Z"
   },
   {
    "duration": 232,
    "start_time": "2022-03-04T14:19:45.356Z"
   },
   {
    "duration": 268,
    "start_time": "2022-03-04T14:19:45.590Z"
   },
   {
    "duration": 5,
    "start_time": "2022-03-04T14:19:45.860Z"
   },
   {
    "duration": 47,
    "start_time": "2022-03-04T14:19:45.866Z"
   },
   {
    "duration": 146,
    "start_time": "2022-03-04T14:19:45.915Z"
   },
   {
    "duration": 4,
    "start_time": "2022-03-04T14:19:46.064Z"
   },
   {
    "duration": 38,
    "start_time": "2022-03-04T14:19:46.070Z"
   },
   {
    "duration": 19,
    "start_time": "2022-03-04T14:19:46.110Z"
   },
   {
    "duration": 438,
    "start_time": "2022-03-04T14:19:46.131Z"
   },
   {
    "duration": 221,
    "start_time": "2022-03-04T14:19:48.032Z"
   },
   {
    "duration": 5421,
    "start_time": "2022-03-04T14:20:39.985Z"
   },
   {
    "duration": 958,
    "start_time": "2022-03-04T14:23:05.296Z"
   },
   {
    "duration": 56,
    "start_time": "2022-03-04T14:23:20.647Z"
   },
   {
    "duration": 43,
    "start_time": "2022-03-04T14:23:24.831Z"
   },
   {
    "duration": 4,
    "start_time": "2022-03-04T14:23:29.003Z"
   },
   {
    "duration": 261,
    "start_time": "2022-03-04T14:23:29.009Z"
   },
   {
    "duration": 247,
    "start_time": "2022-03-04T14:23:29.273Z"
   },
   {
    "duration": 134,
    "start_time": "2022-03-04T14:23:29.522Z"
   },
   {
    "duration": 18,
    "start_time": "2022-03-04T14:23:29.658Z"
   },
   {
    "duration": 47,
    "start_time": "2022-03-04T14:23:29.678Z"
   },
   {
    "duration": 22,
    "start_time": "2022-03-04T14:23:29.727Z"
   },
   {
    "duration": 19,
    "start_time": "2022-03-04T14:23:29.751Z"
   },
   {
    "duration": 46,
    "start_time": "2022-03-04T14:23:29.772Z"
   },
   {
    "duration": 8,
    "start_time": "2022-03-04T14:23:29.820Z"
   },
   {
    "duration": 11,
    "start_time": "2022-03-04T14:23:29.831Z"
   },
   {
    "duration": 111,
    "start_time": "2022-03-04T14:23:29.844Z"
   },
   {
    "duration": 75,
    "start_time": "2022-03-04T14:23:29.958Z"
   },
   {
    "duration": 74,
    "start_time": "2022-03-04T14:23:30.036Z"
   },
   {
    "duration": 9,
    "start_time": "2022-03-04T14:23:30.113Z"
   },
   {
    "duration": 14,
    "start_time": "2022-03-04T14:23:30.124Z"
   },
   {
    "duration": 304,
    "start_time": "2022-03-04T14:23:30.140Z"
   },
   {
    "duration": 79,
    "start_time": "2022-03-04T14:23:30.446Z"
   },
   {
    "duration": 51,
    "start_time": "2022-03-04T14:23:30.529Z"
   },
   {
    "duration": 41,
    "start_time": "2022-03-04T14:23:30.583Z"
   },
   {
    "duration": 24,
    "start_time": "2022-03-04T14:23:36.159Z"
   },
   {
    "duration": 35,
    "start_time": "2022-03-04T14:23:39.566Z"
   },
   {
    "duration": 48,
    "start_time": "2022-03-04T14:24:34.046Z"
   },
   {
    "duration": 3,
    "start_time": "2022-03-04T14:24:38.425Z"
   },
   {
    "duration": 323,
    "start_time": "2022-03-04T14:24:38.431Z"
   },
   {
    "duration": 252,
    "start_time": "2022-03-04T14:24:38.757Z"
   },
   {
    "duration": 122,
    "start_time": "2022-03-04T14:24:39.012Z"
   },
   {
    "duration": 20,
    "start_time": "2022-03-04T14:24:39.137Z"
   },
   {
    "duration": 46,
    "start_time": "2022-03-04T14:24:39.159Z"
   },
   {
    "duration": 38,
    "start_time": "2022-03-04T14:24:39.209Z"
   },
   {
    "duration": 30,
    "start_time": "2022-03-04T14:24:39.250Z"
   },
   {
    "duration": 18,
    "start_time": "2022-03-04T14:24:39.302Z"
   },
   {
    "duration": 13,
    "start_time": "2022-03-04T14:24:39.322Z"
   },
   {
    "duration": 10,
    "start_time": "2022-03-04T14:24:39.338Z"
   },
   {
    "duration": 143,
    "start_time": "2022-03-04T14:24:39.350Z"
   },
   {
    "duration": 63,
    "start_time": "2022-03-04T14:24:39.501Z"
   },
   {
    "duration": 78,
    "start_time": "2022-03-04T14:24:39.566Z"
   },
   {
    "duration": 8,
    "start_time": "2022-03-04T14:24:39.646Z"
   },
   {
    "duration": 18,
    "start_time": "2022-03-04T14:24:39.656Z"
   },
   {
    "duration": 187,
    "start_time": "2022-03-04T14:24:39.676Z"
   },
   {
    "duration": 60,
    "start_time": "2022-03-04T14:24:39.865Z"
   },
   {
    "duration": 40,
    "start_time": "2022-03-04T14:24:39.930Z"
   },
   {
    "duration": 53,
    "start_time": "2022-03-04T14:24:39.973Z"
   },
   {
    "duration": 54,
    "start_time": "2022-03-04T14:24:40.028Z"
   },
   {
    "duration": 48,
    "start_time": "2022-03-04T14:24:40.084Z"
   },
   {
    "duration": 66,
    "start_time": "2022-03-04T14:24:40.135Z"
   },
   {
    "duration": 55,
    "start_time": "2022-03-04T14:24:40.203Z"
   },
   {
    "duration": 76,
    "start_time": "2022-03-04T14:24:40.260Z"
   },
   {
    "duration": 275,
    "start_time": "2022-03-04T14:24:40.338Z"
   },
   {
    "duration": 242,
    "start_time": "2022-03-04T14:24:40.615Z"
   },
   {
    "duration": 449,
    "start_time": "2022-03-04T14:24:40.859Z"
   },
   {
    "duration": 5,
    "start_time": "2022-03-04T14:24:41.310Z"
   },
   {
    "duration": 20,
    "start_time": "2022-03-04T14:24:41.317Z"
   },
   {
    "duration": 373,
    "start_time": "2022-03-04T14:24:41.340Z"
   },
   {
    "duration": 5,
    "start_time": "2022-03-04T14:24:41.715Z"
   },
   {
    "duration": 17,
    "start_time": "2022-03-04T14:24:41.723Z"
   },
   {
    "duration": 10,
    "start_time": "2022-03-04T14:24:41.743Z"
   },
   {
    "duration": 964,
    "start_time": "2022-03-04T14:24:41.756Z"
   },
   {
    "duration": 8,
    "start_time": "2022-03-04T14:24:42.723Z"
   },
   {
    "duration": 6,
    "start_time": "2022-03-04T14:24:42.733Z"
   },
   {
    "duration": 62,
    "start_time": "2022-03-04T14:24:42.741Z"
   },
   {
    "duration": 8,
    "start_time": "2022-03-04T14:24:42.805Z"
   },
   {
    "duration": 8,
    "start_time": "2022-03-04T14:24:42.815Z"
   },
   {
    "duration": 8,
    "start_time": "2022-03-04T14:24:42.825Z"
   },
   {
    "duration": 562,
    "start_time": "2022-03-04T14:24:42.835Z"
   },
   {
    "duration": 7,
    "start_time": "2022-03-04T14:24:43.401Z"
   },
   {
    "duration": 15,
    "start_time": "2022-03-04T14:24:43.411Z"
   },
   {
    "duration": 19,
    "start_time": "2022-03-04T14:24:43.428Z"
   },
   {
    "duration": 10,
    "start_time": "2022-03-04T14:24:43.450Z"
   },
   {
    "duration": 19,
    "start_time": "2022-03-04T14:24:43.463Z"
   },
   {
    "duration": 11,
    "start_time": "2022-03-04T14:24:43.501Z"
   },
   {
    "duration": 449,
    "start_time": "2022-03-04T14:24:43.514Z"
   },
   {
    "duration": 7,
    "start_time": "2022-03-04T14:24:43.966Z"
   },
   {
    "duration": 25,
    "start_time": "2022-03-04T14:24:43.976Z"
   },
   {
    "duration": 7,
    "start_time": "2022-03-04T14:24:44.003Z"
   },
   {
    "duration": 9,
    "start_time": "2022-03-04T14:24:44.012Z"
   },
   {
    "duration": 7,
    "start_time": "2022-03-04T14:24:44.023Z"
   },
   {
    "duration": 8,
    "start_time": "2022-03-04T14:24:44.034Z"
   },
   {
    "duration": 18,
    "start_time": "2022-03-04T14:24:44.044Z"
   },
   {
    "duration": 17,
    "start_time": "2022-03-04T14:24:44.101Z"
   },
   {
    "duration": 10,
    "start_time": "2022-03-04T14:24:44.120Z"
   },
   {
    "duration": 32,
    "start_time": "2022-03-04T14:24:44.132Z"
   },
   {
    "duration": 52,
    "start_time": "2022-03-04T14:24:44.166Z"
   },
   {
    "duration": 18,
    "start_time": "2022-03-04T14:24:44.221Z"
   },
   {
    "duration": 20,
    "start_time": "2022-03-04T14:24:44.241Z"
   },
   {
    "duration": 194,
    "start_time": "2022-03-04T14:29:08.970Z"
   },
   {
    "duration": 202,
    "start_time": "2022-03-04T14:29:14.978Z"
   },
   {
    "duration": 201,
    "start_time": "2022-03-04T14:29:17.667Z"
   },
   {
    "duration": 258,
    "start_time": "2022-03-04T14:29:20.068Z"
   },
   {
    "duration": 196,
    "start_time": "2022-03-04T14:29:23.771Z"
   },
   {
    "duration": 73,
    "start_time": "2022-03-04T15:19:35.742Z"
   },
   {
    "duration": 283,
    "start_time": "2022-03-04T15:20:36.742Z"
   },
   {
    "duration": 246,
    "start_time": "2022-03-04T15:20:43.517Z"
   },
   {
    "duration": 7,
    "start_time": "2022-03-04T15:20:50.045Z"
   },
   {
    "duration": 247,
    "start_time": "2022-03-04T15:20:55.494Z"
   },
   {
    "duration": 206,
    "start_time": "2022-03-04T15:21:01.302Z"
   },
   {
    "duration": 198,
    "start_time": "2022-03-04T15:21:04.285Z"
   },
   {
    "duration": 179,
    "start_time": "2022-03-04T15:21:07.461Z"
   },
   {
    "duration": 7,
    "start_time": "2022-03-04T15:21:16.877Z"
   },
   {
    "duration": 472,
    "start_time": "2022-03-04T15:22:39.484Z"
   },
   {
    "duration": 333,
    "start_time": "2022-03-04T15:23:24.580Z"
   },
   {
    "duration": 252,
    "start_time": "2022-03-04T15:23:29.484Z"
   },
   {
    "duration": 436,
    "start_time": "2022-03-04T15:23:40.548Z"
   },
   {
    "duration": 374,
    "start_time": "2022-03-04T15:23:51.157Z"
   },
   {
    "duration": 265,
    "start_time": "2022-03-04T15:24:08.996Z"
   },
   {
    "duration": 376,
    "start_time": "2022-03-04T15:24:13.507Z"
   },
   {
    "duration": 1006,
    "start_time": "2022-03-04T15:26:35.554Z"
   },
   {
    "duration": 218,
    "start_time": "2022-03-04T15:27:56.018Z"
   },
   {
    "duration": 19,
    "start_time": "2022-03-04T15:28:28.721Z"
   },
   {
    "duration": -86,
    "start_time": "2022-03-04T15:28:59.130Z"
   },
   {
    "duration": 5519,
    "start_time": "2022-03-04T15:29:01.553Z"
   },
   {
    "duration": 228,
    "start_time": "2022-03-04T15:29:44.729Z"
   },
   {
    "duration": 2254,
    "start_time": "2022-03-04T15:29:51.705Z"
   },
   {
    "duration": 1258,
    "start_time": "2022-03-04T15:32:02.416Z"
   },
   {
    "duration": 455,
    "start_time": "2022-03-04T15:32:35.799Z"
   },
   {
    "duration": 3,
    "start_time": "2022-03-04T15:32:49.252Z"
   },
   {
    "duration": 212,
    "start_time": "2022-03-04T15:32:49.258Z"
   },
   {
    "duration": 172,
    "start_time": "2022-03-04T15:32:49.472Z"
   },
   {
    "duration": 110,
    "start_time": "2022-03-04T15:32:49.647Z"
   },
   {
    "duration": 19,
    "start_time": "2022-03-04T15:32:49.759Z"
   },
   {
    "duration": 36,
    "start_time": "2022-03-04T15:32:49.780Z"
   },
   {
    "duration": 25,
    "start_time": "2022-03-04T15:32:49.819Z"
   },
   {
    "duration": 18,
    "start_time": "2022-03-04T15:32:49.847Z"
   },
   {
    "duration": 44,
    "start_time": "2022-03-04T15:32:49.867Z"
   },
   {
    "duration": 7,
    "start_time": "2022-03-04T15:32:49.913Z"
   },
   {
    "duration": 14,
    "start_time": "2022-03-04T15:32:49.922Z"
   },
   {
    "duration": 107,
    "start_time": "2022-03-04T15:32:49.938Z"
   },
   {
    "duration": 58,
    "start_time": "2022-03-04T15:32:50.047Z"
   },
   {
    "duration": 45,
    "start_time": "2022-03-04T15:32:50.107Z"
   },
   {
    "duration": 7,
    "start_time": "2022-03-04T15:32:50.154Z"
   },
   {
    "duration": 10,
    "start_time": "2022-03-04T15:32:50.163Z"
   },
   {
    "duration": 193,
    "start_time": "2022-03-04T15:32:50.175Z"
   },
   {
    "duration": 60,
    "start_time": "2022-03-04T15:32:50.370Z"
   },
   {
    "duration": 40,
    "start_time": "2022-03-04T15:32:50.433Z"
   },
   {
    "duration": 50,
    "start_time": "2022-03-04T15:32:50.475Z"
   },
   {
    "duration": 52,
    "start_time": "2022-03-04T15:32:50.527Z"
   },
   {
    "duration": 48,
    "start_time": "2022-03-04T15:32:50.581Z"
   },
   {
    "duration": 47,
    "start_time": "2022-03-04T15:32:50.631Z"
   },
   {
    "duration": 67,
    "start_time": "2022-03-04T15:32:50.680Z"
   },
   {
    "duration": 71,
    "start_time": "2022-03-04T15:32:50.749Z"
   },
   {
    "duration": 255,
    "start_time": "2022-03-04T15:32:50.823Z"
   },
   {
    "duration": 222,
    "start_time": "2022-03-04T15:32:51.080Z"
   },
   {
    "duration": 249,
    "start_time": "2022-03-04T15:32:51.304Z"
   },
   {
    "duration": 4,
    "start_time": "2022-03-04T15:32:51.555Z"
   },
   {
    "duration": 17,
    "start_time": "2022-03-04T15:32:51.561Z"
   },
   {
    "duration": 103,
    "start_time": "2022-03-04T15:32:51.580Z"
   },
   {
    "duration": 16,
    "start_time": "2022-03-04T15:32:51.685Z"
   },
   {
    "duration": 8,
    "start_time": "2022-03-04T15:32:51.704Z"
   },
   {
    "duration": 9,
    "start_time": "2022-03-04T15:32:51.714Z"
   },
   {
    "duration": 609,
    "start_time": "2022-03-04T15:32:51.725Z"
   },
   {
    "duration": 280,
    "start_time": "2022-03-04T15:32:52.336Z"
   },
   {
    "duration": 7,
    "start_time": "2022-03-04T15:32:52.618Z"
   },
   {
    "duration": 10,
    "start_time": "2022-03-04T15:32:52.627Z"
   },
   {
    "duration": 7,
    "start_time": "2022-03-04T15:32:52.639Z"
   },
   {
    "duration": 9,
    "start_time": "2022-03-04T15:32:52.648Z"
   },
   {
    "duration": 7,
    "start_time": "2022-03-04T15:32:52.659Z"
   },
   {
    "duration": 8,
    "start_time": "2022-03-04T15:32:52.701Z"
   },
   {
    "duration": 637,
    "start_time": "2022-03-04T15:32:52.711Z"
   },
   {
    "duration": 8,
    "start_time": "2022-03-04T15:32:53.350Z"
   },
   {
    "duration": 7,
    "start_time": "2022-03-04T15:32:53.361Z"
   },
   {
    "duration": 33,
    "start_time": "2022-03-04T15:32:53.370Z"
   },
   {
    "duration": 7,
    "start_time": "2022-03-04T15:32:53.406Z"
   },
   {
    "duration": 6,
    "start_time": "2022-03-04T15:32:53.415Z"
   },
   {
    "duration": 9,
    "start_time": "2022-03-04T15:32:53.423Z"
   },
   {
    "duration": 18,
    "start_time": "2022-03-04T15:32:53.434Z"
   },
   {
    "duration": 440,
    "start_time": "2022-03-04T15:32:56.599Z"
   },
   {
    "duration": 424,
    "start_time": "2022-03-04T15:33:03.249Z"
   },
   {
    "duration": 78,
    "start_time": "2022-03-04T15:38:15.212Z"
   },
   {
    "duration": 76,
    "start_time": "2022-03-04T15:38:25.500Z"
   },
   {
    "duration": 359,
    "start_time": "2022-03-04T15:38:36.695Z"
   },
   {
    "duration": 19,
    "start_time": "2022-03-04T15:38:51.228Z"
   },
   {
    "duration": 224,
    "start_time": "2022-03-04T15:39:15.853Z"
   },
   {
    "duration": 19,
    "start_time": "2022-03-04T15:39:30.356Z"
   },
   {
    "duration": 226,
    "start_time": "2022-03-04T15:39:46.124Z"
   },
   {
    "duration": 19,
    "start_time": "2022-03-04T15:39:57.443Z"
   },
   {
    "duration": 166,
    "start_time": "2022-03-04T15:40:21.643Z"
   },
   {
    "duration": 8,
    "start_time": "2022-03-04T15:40:41.765Z"
   },
   {
    "duration": 211,
    "start_time": "2022-03-04T15:40:43.580Z"
   },
   {
    "duration": 252,
    "start_time": "2022-03-04T15:41:05.867Z"
   },
   {
    "duration": 6,
    "start_time": "2022-03-04T15:41:14.531Z"
   },
   {
    "duration": 10,
    "start_time": "2022-03-04T15:42:01.730Z"
   },
   {
    "duration": 238,
    "start_time": "2022-03-04T15:43:22.763Z"
   },
   {
    "duration": 238,
    "start_time": "2022-03-04T15:44:15.218Z"
   },
   {
    "duration": 7,
    "start_time": "2022-03-04T15:44:28.289Z"
   },
   {
    "duration": 68,
    "start_time": "2022-03-04T15:50:32.799Z"
   },
   {
    "duration": 5,
    "start_time": "2022-03-04T15:50:38.184Z"
   },
   {
    "duration": 10,
    "start_time": "2022-03-04T15:50:55.961Z"
   },
   {
    "duration": 10,
    "start_time": "2022-03-04T15:51:06.112Z"
   },
   {
    "duration": 10,
    "start_time": "2022-03-04T15:51:19.511Z"
   },
   {
    "duration": 10,
    "start_time": "2022-03-04T15:51:25.223Z"
   },
   {
    "duration": 262,
    "start_time": "2022-03-04T15:51:43.064Z"
   },
   {
    "duration": 7,
    "start_time": "2022-03-04T15:54:38.302Z"
   },
   {
    "duration": 5,
    "start_time": "2022-03-04T15:54:45.110Z"
   },
   {
    "duration": 219,
    "start_time": "2022-03-04T15:58:16.669Z"
   },
   {
    "duration": 6,
    "start_time": "2022-03-04T15:58:25.397Z"
   },
   {
    "duration": 17,
    "start_time": "2022-03-04T15:58:47.388Z"
   },
   {
    "duration": 6,
    "start_time": "2022-03-04T15:59:08.276Z"
   },
   {
    "duration": 8,
    "start_time": "2022-03-04T15:59:15.636Z"
   },
   {
    "duration": 7,
    "start_time": "2022-03-04T15:59:23.388Z"
   },
   {
    "duration": 226,
    "start_time": "2022-03-04T16:03:15.314Z"
   },
   {
    "duration": 6,
    "start_time": "2022-03-04T16:03:19.202Z"
   },
   {
    "duration": 7,
    "start_time": "2022-03-04T16:05:50.489Z"
   },
   {
    "duration": 5,
    "start_time": "2022-03-04T16:08:44.384Z"
   },
   {
    "duration": 22,
    "start_time": "2022-03-04T16:08:48.536Z"
   },
   {
    "duration": 20,
    "start_time": "2022-03-04T16:09:11.401Z"
   },
   {
    "duration": 7,
    "start_time": "2022-03-04T16:09:32.616Z"
   },
   {
    "duration": 6,
    "start_time": "2022-03-04T16:09:42.216Z"
   },
   {
    "duration": 4,
    "start_time": "2022-03-04T16:10:15.855Z"
   },
   {
    "duration": 5,
    "start_time": "2022-03-04T16:12:45.991Z"
   },
   {
    "duration": 6,
    "start_time": "2022-03-04T16:12:49.372Z"
   },
   {
    "duration": 6,
    "start_time": "2022-03-04T16:13:44.789Z"
   },
   {
    "duration": 11,
    "start_time": "2022-03-04T16:13:56.237Z"
   },
   {
    "duration": 6,
    "start_time": "2022-03-04T16:14:12.717Z"
   },
   {
    "duration": 9,
    "start_time": "2022-03-04T16:15:18.749Z"
   },
   {
    "duration": 12,
    "start_time": "2022-03-04T16:18:01.268Z"
   },
   {
    "duration": 6,
    "start_time": "2022-03-04T16:18:05.483Z"
   },
   {
    "duration": 6,
    "start_time": "2022-03-04T16:18:18.780Z"
   },
   {
    "duration": 7,
    "start_time": "2022-03-04T16:18:22.059Z"
   },
   {
    "duration": 6,
    "start_time": "2022-03-04T16:18:26.307Z"
   },
   {
    "duration": 5,
    "start_time": "2022-03-04T16:18:29.131Z"
   },
   {
    "duration": 11,
    "start_time": "2022-03-04T16:19:09.996Z"
   },
   {
    "duration": 5,
    "start_time": "2022-03-04T16:19:10.931Z"
   },
   {
    "duration": 5,
    "start_time": "2022-03-04T16:21:30.858Z"
   },
   {
    "duration": 6,
    "start_time": "2022-03-04T16:21:36.498Z"
   },
   {
    "duration": 6,
    "start_time": "2022-03-04T16:22:24.657Z"
   },
   {
    "duration": 5,
    "start_time": "2022-03-04T16:22:30.690Z"
   },
   {
    "duration": 4,
    "start_time": "2022-03-04T16:22:38.442Z"
   },
   {
    "duration": 11,
    "start_time": "2022-03-04T16:26:15.696Z"
   },
   {
    "duration": 6,
    "start_time": "2022-03-04T16:26:36.721Z"
   },
   {
    "duration": 6,
    "start_time": "2022-03-04T16:27:01.303Z"
   },
   {
    "duration": 6,
    "start_time": "2022-03-04T16:27:48.223Z"
   },
   {
    "duration": 6,
    "start_time": "2022-03-04T16:27:55.784Z"
   },
   {
    "duration": 3,
    "start_time": "2022-03-04T16:28:01.741Z"
   },
   {
    "duration": 230,
    "start_time": "2022-03-04T16:28:01.747Z"
   },
   {
    "duration": 179,
    "start_time": "2022-03-04T16:28:01.979Z"
   },
   {
    "duration": 122,
    "start_time": "2022-03-04T16:28:02.161Z"
   },
   {
    "duration": 23,
    "start_time": "2022-03-04T16:28:02.286Z"
   },
   {
    "duration": 46,
    "start_time": "2022-03-04T16:28:02.312Z"
   },
   {
    "duration": 23,
    "start_time": "2022-03-04T16:28:02.360Z"
   },
   {
    "duration": 37,
    "start_time": "2022-03-04T16:28:02.385Z"
   },
   {
    "duration": 18,
    "start_time": "2022-03-04T16:28:02.424Z"
   },
   {
    "duration": 15,
    "start_time": "2022-03-04T16:28:02.443Z"
   },
   {
    "duration": 12,
    "start_time": "2022-03-04T16:28:02.460Z"
   },
   {
    "duration": 96,
    "start_time": "2022-03-04T16:28:02.473Z"
   },
   {
    "duration": 54,
    "start_time": "2022-03-04T16:28:02.571Z"
   },
   {
    "duration": 47,
    "start_time": "2022-03-04T16:28:02.627Z"
   },
   {
    "duration": 26,
    "start_time": "2022-03-04T16:28:02.676Z"
   },
   {
    "duration": 8,
    "start_time": "2022-03-04T16:28:02.705Z"
   },
   {
    "duration": 171,
    "start_time": "2022-03-04T16:28:02.715Z"
   },
   {
    "duration": 62,
    "start_time": "2022-03-04T16:28:02.888Z"
   },
   {
    "duration": 49,
    "start_time": "2022-03-04T16:28:02.954Z"
   },
   {
    "duration": 34,
    "start_time": "2022-03-04T16:28:03.006Z"
   },
   {
    "duration": 71,
    "start_time": "2022-03-04T16:28:03.042Z"
   },
   {
    "duration": 32,
    "start_time": "2022-03-04T16:28:03.115Z"
   },
   {
    "duration": 70,
    "start_time": "2022-03-04T16:28:03.149Z"
   },
   {
    "duration": 49,
    "start_time": "2022-03-04T16:28:03.221Z"
   },
   {
    "duration": 70,
    "start_time": "2022-03-04T16:28:03.272Z"
   },
   {
    "duration": 262,
    "start_time": "2022-03-04T16:28:03.344Z"
   },
   {
    "duration": 228,
    "start_time": "2022-03-04T16:28:03.607Z"
   },
   {
    "duration": 251,
    "start_time": "2022-03-04T16:28:03.837Z"
   },
   {
    "duration": 11,
    "start_time": "2022-03-04T16:28:04.090Z"
   },
   {
    "duration": 15,
    "start_time": "2022-03-04T16:28:04.103Z"
   },
   {
    "duration": 115,
    "start_time": "2022-03-04T16:28:04.120Z"
   },
   {
    "duration": 4,
    "start_time": "2022-03-04T16:28:04.238Z"
   },
   {
    "duration": 57,
    "start_time": "2022-03-04T16:28:04.244Z"
   },
   {
    "duration": 36,
    "start_time": "2022-03-04T16:28:04.303Z"
   },
   {
    "duration": 460,
    "start_time": "2022-03-04T16:28:04.341Z"
   },
   {
    "duration": 198,
    "start_time": "2022-03-04T16:28:04.803Z"
   },
   {
    "duration": 6,
    "start_time": "2022-03-04T16:28:05.003Z"
   },
   {
    "duration": 10,
    "start_time": "2022-03-04T16:28:05.011Z"
   },
   {
    "duration": 9,
    "start_time": "2022-03-04T16:28:05.023Z"
   },
   {
    "duration": 15,
    "start_time": "2022-03-04T16:28:05.034Z"
   },
   {
    "duration": 8,
    "start_time": "2022-03-04T16:28:05.051Z"
   },
   {
    "duration": 16,
    "start_time": "2022-03-04T16:28:05.061Z"
   },
   {
    "duration": 407,
    "start_time": "2022-03-04T16:28:05.101Z"
   },
   {
    "duration": 6,
    "start_time": "2022-03-04T16:28:05.510Z"
   },
   {
    "duration": 9,
    "start_time": "2022-03-04T16:28:05.517Z"
   },
   {
    "duration": 18,
    "start_time": "2022-03-04T16:28:05.527Z"
   },
   {
    "duration": 21,
    "start_time": "2022-03-04T16:28:05.547Z"
   },
   {
    "duration": 22,
    "start_time": "2022-03-04T16:28:05.570Z"
   },
   {
    "duration": 13,
    "start_time": "2022-03-04T16:28:05.594Z"
   },
   {
    "duration": 26,
    "start_time": "2022-03-04T16:28:05.608Z"
   },
   {
    "duration": 403,
    "start_time": "2022-03-04T16:28:05.636Z"
   },
   {
    "duration": 6,
    "start_time": "2022-03-04T16:28:06.041Z"
   },
   {
    "duration": 10,
    "start_time": "2022-03-04T16:28:06.049Z"
   },
   {
    "duration": 8,
    "start_time": "2022-03-04T16:28:06.061Z"
   },
   {
    "duration": 29,
    "start_time": "2022-03-04T16:28:06.073Z"
   },
   {
    "duration": 16,
    "start_time": "2022-03-04T16:28:06.104Z"
   },
   {
    "duration": 8,
    "start_time": "2022-03-04T16:28:06.121Z"
   },
   {
    "duration": 13,
    "start_time": "2022-03-04T16:28:06.131Z"
   },
   {
    "duration": 18,
    "start_time": "2022-03-04T16:28:06.146Z"
   },
   {
    "duration": 9,
    "start_time": "2022-03-04T16:28:06.166Z"
   },
   {
    "duration": 6,
    "start_time": "2022-03-04T16:28:08.335Z"
   },
   {
    "duration": 6,
    "start_time": "2022-03-04T16:32:13.480Z"
   },
   {
    "duration": 6,
    "start_time": "2022-03-04T16:32:33.518Z"
   },
   {
    "duration": 6,
    "start_time": "2022-03-04T16:32:37.437Z"
   },
   {
    "duration": 6,
    "start_time": "2022-03-04T16:32:40.485Z"
   },
   {
    "duration": 8,
    "start_time": "2022-03-04T16:34:51.535Z"
   },
   {
    "duration": 269,
    "start_time": "2022-03-04T16:35:03.237Z"
   },
   {
    "duration": 4,
    "start_time": "2022-03-04T16:35:16.861Z"
   },
   {
    "duration": 4,
    "start_time": "2022-03-04T16:35:23.150Z"
   },
   {
    "duration": 8,
    "start_time": "2022-03-04T16:35:45.853Z"
   },
   {
    "duration": 234,
    "start_time": "2022-03-04T16:35:51.332Z"
   },
   {
    "duration": 7,
    "start_time": "2022-03-04T16:36:24.125Z"
   },
   {
    "duration": 5,
    "start_time": "2022-03-04T16:36:36.868Z"
   },
   {
    "duration": 5488,
    "start_time": "2022-03-04T16:36:51.892Z"
   },
   {
    "duration": 6,
    "start_time": "2022-03-04T16:37:03.341Z"
   },
   {
    "duration": 6,
    "start_time": "2022-03-04T16:37:08.204Z"
   },
   {
    "duration": 6,
    "start_time": "2022-03-04T16:37:16.309Z"
   },
   {
    "duration": 23,
    "start_time": "2022-03-04T16:37:31.004Z"
   },
   {
    "duration": 6,
    "start_time": "2022-03-04T16:38:32.362Z"
   },
   {
    "duration": 5,
    "start_time": "2022-03-04T16:39:03.724Z"
   },
   {
    "duration": 3,
    "start_time": "2022-03-04T16:40:51.584Z"
   },
   {
    "duration": 226,
    "start_time": "2022-03-04T16:40:51.589Z"
   },
   {
    "duration": 164,
    "start_time": "2022-03-04T16:40:51.818Z"
   },
   {
    "duration": 108,
    "start_time": "2022-03-04T16:40:51.984Z"
   },
   {
    "duration": 16,
    "start_time": "2022-03-04T16:40:52.101Z"
   },
   {
    "duration": 38,
    "start_time": "2022-03-04T16:40:52.119Z"
   },
   {
    "duration": 21,
    "start_time": "2022-03-04T16:40:52.160Z"
   },
   {
    "duration": 29,
    "start_time": "2022-03-04T16:40:52.183Z"
   },
   {
    "duration": 16,
    "start_time": "2022-03-04T16:40:52.214Z"
   },
   {
    "duration": 9,
    "start_time": "2022-03-04T16:40:52.232Z"
   },
   {
    "duration": 8,
    "start_time": "2022-03-04T16:40:52.242Z"
   },
   {
    "duration": 113,
    "start_time": "2022-03-04T16:40:52.252Z"
   },
   {
    "duration": 56,
    "start_time": "2022-03-04T16:40:52.367Z"
   },
   {
    "duration": 46,
    "start_time": "2022-03-04T16:40:52.424Z"
   },
   {
    "duration": 6,
    "start_time": "2022-03-04T16:40:52.472Z"
   },
   {
    "duration": 31,
    "start_time": "2022-03-04T16:40:52.480Z"
   },
   {
    "duration": 154,
    "start_time": "2022-03-04T16:40:52.513Z"
   },
   {
    "duration": 58,
    "start_time": "2022-03-04T16:40:52.669Z"
   },
   {
    "duration": 40,
    "start_time": "2022-03-04T16:40:52.732Z"
   },
   {
    "duration": 46,
    "start_time": "2022-03-04T16:40:52.775Z"
   },
   {
    "duration": 48,
    "start_time": "2022-03-04T16:40:52.823Z"
   },
   {
    "duration": 43,
    "start_time": "2022-03-04T16:40:52.873Z"
   },
   {
    "duration": 47,
    "start_time": "2022-03-04T16:40:52.918Z"
   },
   {
    "duration": 73,
    "start_time": "2022-03-04T16:40:52.967Z"
   },
   {
    "duration": 62,
    "start_time": "2022-03-04T16:40:53.042Z"
   },
   {
    "duration": 255,
    "start_time": "2022-03-04T16:40:53.106Z"
   },
   {
    "duration": 215,
    "start_time": "2022-03-04T16:40:53.363Z"
   },
   {
    "duration": 246,
    "start_time": "2022-03-04T16:40:53.580Z"
   },
   {
    "duration": 4,
    "start_time": "2022-03-04T16:40:53.828Z"
   },
   {
    "duration": 16,
    "start_time": "2022-03-04T16:40:53.833Z"
   },
   {
    "duration": 109,
    "start_time": "2022-03-04T16:40:53.851Z"
   },
   {
    "duration": 3,
    "start_time": "2022-03-04T16:40:53.962Z"
   },
   {
    "duration": 12,
    "start_time": "2022-03-04T16:40:53.967Z"
   },
   {
    "duration": 21,
    "start_time": "2022-03-04T16:40:53.981Z"
   },
   {
    "duration": 407,
    "start_time": "2022-03-04T16:40:54.004Z"
   },
   {
    "duration": 203,
    "start_time": "2022-03-04T16:40:54.413Z"
   },
   {
    "duration": 6,
    "start_time": "2022-03-04T16:40:54.618Z"
   },
   {
    "duration": 12,
    "start_time": "2022-03-04T16:40:54.626Z"
   },
   {
    "duration": 21,
    "start_time": "2022-03-04T16:40:54.640Z"
   },
   {
    "duration": 10,
    "start_time": "2022-03-04T16:40:54.663Z"
   },
   {
    "duration": 12,
    "start_time": "2022-03-04T16:40:54.674Z"
   },
   {
    "duration": 22,
    "start_time": "2022-03-04T16:40:54.688Z"
   },
   {
    "duration": 417,
    "start_time": "2022-03-04T16:40:54.711Z"
   },
   {
    "duration": 6,
    "start_time": "2022-03-04T16:40:55.130Z"
   },
   {
    "duration": 19,
    "start_time": "2022-03-04T16:40:55.138Z"
   },
   {
    "duration": 16,
    "start_time": "2022-03-04T16:40:55.159Z"
   },
   {
    "duration": 14,
    "start_time": "2022-03-04T16:40:55.178Z"
   },
   {
    "duration": 20,
    "start_time": "2022-03-04T16:40:55.194Z"
   },
   {
    "duration": 22,
    "start_time": "2022-03-04T16:40:55.216Z"
   },
   {
    "duration": 30,
    "start_time": "2022-03-04T16:40:55.239Z"
   },
   {
    "duration": 556,
    "start_time": "2022-03-04T16:40:55.271Z"
   },
   {
    "duration": 6,
    "start_time": "2022-03-04T16:40:55.829Z"
   },
   {
    "duration": 7,
    "start_time": "2022-03-04T16:40:55.837Z"
   },
   {
    "duration": 9,
    "start_time": "2022-03-04T16:40:55.846Z"
   },
   {
    "duration": 6,
    "start_time": "2022-03-04T16:40:55.860Z"
   },
   {
    "duration": 37,
    "start_time": "2022-03-04T16:40:55.868Z"
   },
   {
    "duration": 10,
    "start_time": "2022-03-04T16:40:55.907Z"
   },
   {
    "duration": 9,
    "start_time": "2022-03-04T16:41:00.666Z"
   },
   {
    "duration": 25,
    "start_time": "2022-03-04T16:41:04.299Z"
   },
   {
    "duration": 6,
    "start_time": "2022-03-04T16:42:51.938Z"
   },
   {
    "duration": 3,
    "start_time": "2022-03-04T16:42:54.702Z"
   },
   {
    "duration": 222,
    "start_time": "2022-03-04T16:42:54.707Z"
   },
   {
    "duration": 169,
    "start_time": "2022-03-04T16:42:54.932Z"
   },
   {
    "duration": 102,
    "start_time": "2022-03-04T16:42:55.103Z"
   },
   {
    "duration": 18,
    "start_time": "2022-03-04T16:42:55.207Z"
   },
   {
    "duration": 34,
    "start_time": "2022-03-04T16:42:55.227Z"
   },
   {
    "duration": 23,
    "start_time": "2022-03-04T16:42:55.264Z"
   },
   {
    "duration": 30,
    "start_time": "2022-03-04T16:42:55.289Z"
   },
   {
    "duration": 17,
    "start_time": "2022-03-04T16:42:55.321Z"
   },
   {
    "duration": 7,
    "start_time": "2022-03-04T16:42:55.340Z"
   },
   {
    "duration": 9,
    "start_time": "2022-03-04T16:42:55.349Z"
   },
   {
    "duration": 121,
    "start_time": "2022-03-04T16:42:55.361Z"
   },
   {
    "duration": 56,
    "start_time": "2022-03-04T16:42:55.484Z"
   },
   {
    "duration": 61,
    "start_time": "2022-03-04T16:42:55.541Z"
   },
   {
    "duration": 6,
    "start_time": "2022-03-04T16:42:55.604Z"
   },
   {
    "duration": 13,
    "start_time": "2022-03-04T16:42:55.612Z"
   },
   {
    "duration": 154,
    "start_time": "2022-03-04T16:42:55.627Z"
   },
   {
    "duration": 55,
    "start_time": "2022-03-04T16:42:55.783Z"
   },
   {
    "duration": 39,
    "start_time": "2022-03-04T16:42:55.842Z"
   },
   {
    "duration": 47,
    "start_time": "2022-03-04T16:42:55.884Z"
   },
   {
    "duration": 47,
    "start_time": "2022-03-04T16:42:55.933Z"
   },
   {
    "duration": 47,
    "start_time": "2022-03-04T16:42:55.982Z"
   },
   {
    "duration": 46,
    "start_time": "2022-03-04T16:42:56.031Z"
   },
   {
    "duration": 70,
    "start_time": "2022-03-04T16:42:56.079Z"
   },
   {
    "duration": 71,
    "start_time": "2022-03-04T16:42:56.151Z"
   },
   {
    "duration": 242,
    "start_time": "2022-03-04T16:42:56.224Z"
   },
   {
    "duration": 209,
    "start_time": "2022-03-04T16:42:56.467Z"
   },
   {
    "duration": 244,
    "start_time": "2022-03-04T16:42:56.678Z"
   },
   {
    "duration": 4,
    "start_time": "2022-03-04T16:42:56.924Z"
   },
   {
    "duration": 17,
    "start_time": "2022-03-04T16:42:56.929Z"
   },
   {
    "duration": 111,
    "start_time": "2022-03-04T16:42:56.948Z"
   },
   {
    "duration": 4,
    "start_time": "2022-03-04T16:42:57.061Z"
   },
   {
    "duration": 14,
    "start_time": "2022-03-04T16:42:57.066Z"
   },
   {
    "duration": 19,
    "start_time": "2022-03-04T16:42:57.082Z"
   },
   {
    "duration": 408,
    "start_time": "2022-03-04T16:42:57.103Z"
   },
   {
    "duration": 205,
    "start_time": "2022-03-04T16:42:57.514Z"
   },
   {
    "duration": 6,
    "start_time": "2022-03-04T16:42:57.721Z"
   },
   {
    "duration": 8,
    "start_time": "2022-03-04T16:42:57.729Z"
   },
   {
    "duration": 9,
    "start_time": "2022-03-04T16:42:57.739Z"
   },
   {
    "duration": 7,
    "start_time": "2022-03-04T16:42:57.750Z"
   },
   {
    "duration": 9,
    "start_time": "2022-03-04T16:42:57.759Z"
   },
   {
    "duration": 36,
    "start_time": "2022-03-04T16:42:57.770Z"
   },
   {
    "duration": 407,
    "start_time": "2022-03-04T16:42:57.808Z"
   },
   {
    "duration": 6,
    "start_time": "2022-03-04T16:42:58.218Z"
   },
   {
    "duration": 15,
    "start_time": "2022-03-04T16:42:58.225Z"
   },
   {
    "duration": 7,
    "start_time": "2022-03-04T16:42:58.242Z"
   },
   {
    "duration": 7,
    "start_time": "2022-03-04T16:42:58.250Z"
   },
   {
    "duration": 7,
    "start_time": "2022-03-04T16:42:58.259Z"
   },
   {
    "duration": 36,
    "start_time": "2022-03-04T16:42:58.268Z"
   },
   {
    "duration": 17,
    "start_time": "2022-03-04T16:42:58.306Z"
   },
   {
    "duration": 502,
    "start_time": "2022-03-04T16:42:58.325Z"
   },
   {
    "duration": 6,
    "start_time": "2022-03-04T16:42:58.829Z"
   },
   {
    "duration": 9,
    "start_time": "2022-03-04T16:42:58.836Z"
   },
   {
    "duration": 8,
    "start_time": "2022-03-04T16:42:58.847Z"
   },
   {
    "duration": 8,
    "start_time": "2022-03-04T16:42:58.859Z"
   },
   {
    "duration": 35,
    "start_time": "2022-03-04T16:42:58.869Z"
   },
   {
    "duration": 7,
    "start_time": "2022-03-04T16:42:58.906Z"
   },
   {
    "duration": 336,
    "start_time": "2022-03-04T16:43:07.697Z"
   },
   {
    "duration": 6,
    "start_time": "2022-03-04T16:43:16.161Z"
   },
   {
    "duration": 215,
    "start_time": "2022-03-04T16:43:17.296Z"
   },
   {
    "duration": 6,
    "start_time": "2022-03-04T16:45:40.968Z"
   },
   {
    "duration": 7,
    "start_time": "2022-03-04T16:45:50.800Z"
   },
   {
    "duration": 259,
    "start_time": "2022-03-04T16:49:50.478Z"
   },
   {
    "duration": 6,
    "start_time": "2022-03-04T16:55:09.789Z"
   },
   {
    "duration": 17,
    "start_time": "2022-03-04T16:57:07.979Z"
   },
   {
    "duration": 19,
    "start_time": "2022-03-04T16:57:15.339Z"
   },
   {
    "duration": 1044,
    "start_time": "2022-03-04T21:02:29.482Z"
   },
   {
    "duration": 187,
    "start_time": "2022-03-04T21:02:30.528Z"
   },
   {
    "duration": 168,
    "start_time": "2022-03-04T21:02:30.717Z"
   },
   {
    "duration": 118,
    "start_time": "2022-03-04T21:02:30.886Z"
   },
   {
    "duration": 16,
    "start_time": "2022-03-04T21:02:31.006Z"
   },
   {
    "duration": 32,
    "start_time": "2022-03-04T21:02:31.023Z"
   },
   {
    "duration": 21,
    "start_time": "2022-03-04T21:02:31.059Z"
   },
   {
    "duration": 28,
    "start_time": "2022-03-04T21:02:31.082Z"
   },
   {
    "duration": 14,
    "start_time": "2022-03-04T21:02:31.113Z"
   },
   {
    "duration": 6,
    "start_time": "2022-03-04T21:02:31.129Z"
   },
   {
    "duration": 27,
    "start_time": "2022-03-04T21:02:31.137Z"
   },
   {
    "duration": 110,
    "start_time": "2022-03-04T21:02:31.166Z"
   },
   {
    "duration": 44,
    "start_time": "2022-03-04T21:02:31.278Z"
   },
   {
    "duration": 66,
    "start_time": "2022-03-04T21:02:31.323Z"
   },
   {
    "duration": 5,
    "start_time": "2022-03-04T21:02:31.391Z"
   },
   {
    "duration": 7,
    "start_time": "2022-03-04T21:02:31.398Z"
   },
   {
    "duration": 174,
    "start_time": "2022-03-04T21:02:31.407Z"
   },
   {
    "duration": 50,
    "start_time": "2022-03-04T21:02:31.582Z"
   },
   {
    "duration": 51,
    "start_time": "2022-03-04T21:02:31.634Z"
   },
   {
    "duration": 32,
    "start_time": "2022-03-04T21:02:31.686Z"
   },
   {
    "duration": 79,
    "start_time": "2022-03-04T21:02:31.720Z"
   },
   {
    "duration": 33,
    "start_time": "2022-03-04T21:03:51.411Z"
   },
   {
    "duration": 5,
    "start_time": "2022-03-05T08:59:32.850Z"
   },
   {
    "duration": 252,
    "start_time": "2022-03-05T08:59:32.858Z"
   },
   {
    "duration": 238,
    "start_time": "2022-03-05T08:59:33.113Z"
   },
   {
    "duration": 125,
    "start_time": "2022-03-05T08:59:33.354Z"
   },
   {
    "duration": 19,
    "start_time": "2022-03-05T08:59:33.482Z"
   },
   {
    "duration": 48,
    "start_time": "2022-03-05T08:59:33.503Z"
   },
   {
    "duration": 24,
    "start_time": "2022-03-05T08:59:33.554Z"
   },
   {
    "duration": 21,
    "start_time": "2022-03-05T08:59:33.581Z"
   },
   {
    "duration": 48,
    "start_time": "2022-03-05T08:59:33.605Z"
   },
   {
    "duration": 8,
    "start_time": "2022-03-05T08:59:33.655Z"
   },
   {
    "duration": 8,
    "start_time": "2022-03-05T08:59:33.666Z"
   },
   {
    "duration": 144,
    "start_time": "2022-03-05T08:59:33.676Z"
   },
   {
    "duration": 73,
    "start_time": "2022-03-05T08:59:33.823Z"
   },
   {
    "duration": 62,
    "start_time": "2022-03-05T08:59:33.899Z"
   },
   {
    "duration": 8,
    "start_time": "2022-03-05T08:59:33.964Z"
   },
   {
    "duration": 11,
    "start_time": "2022-03-05T08:59:33.974Z"
   },
   {
    "duration": 230,
    "start_time": "2022-03-05T08:59:33.988Z"
   },
   {
    "duration": 73,
    "start_time": "2022-03-05T08:59:34.220Z"
   },
   {
    "duration": 54,
    "start_time": "2022-03-05T08:59:34.298Z"
   },
   {
    "duration": 41,
    "start_time": "2022-03-05T08:59:34.355Z"
   },
   {
    "duration": 76,
    "start_time": "2022-03-05T08:59:34.399Z"
   },
   {
    "duration": 34,
    "start_time": "2022-03-05T08:59:34.478Z"
   },
   {
    "duration": 87,
    "start_time": "2022-03-05T08:59:34.515Z"
   },
   {
    "duration": 78,
    "start_time": "2022-03-05T08:59:34.604Z"
   },
   {
    "duration": 72,
    "start_time": "2022-03-05T08:59:34.684Z"
   },
   {
    "duration": 337,
    "start_time": "2022-03-05T08:59:34.758Z"
   },
   {
    "duration": 354,
    "start_time": "2022-03-05T08:59:35.097Z"
   },
   {
    "duration": 645,
    "start_time": "2022-03-05T08:59:35.453Z"
   },
   {
    "duration": 4,
    "start_time": "2022-03-05T08:59:36.101Z"
   },
   {
    "duration": 21,
    "start_time": "2022-03-05T08:59:36.107Z"
   },
   {
    "duration": 175,
    "start_time": "2022-03-05T08:59:36.150Z"
   },
   {
    "duration": 5,
    "start_time": "2022-03-05T08:59:36.327Z"
   },
   {
    "duration": 25,
    "start_time": "2022-03-05T08:59:36.334Z"
   },
   {
    "duration": 17,
    "start_time": "2022-03-05T08:59:36.361Z"
   },
   {
    "duration": 603,
    "start_time": "2022-03-05T08:59:36.381Z"
   },
   {
    "duration": 288,
    "start_time": "2022-03-05T08:59:36.987Z"
   },
   {
    "duration": 8,
    "start_time": "2022-03-05T08:59:37.277Z"
   },
   {
    "duration": 12,
    "start_time": "2022-03-05T08:59:37.287Z"
   },
   {
    "duration": 8,
    "start_time": "2022-03-05T08:59:37.301Z"
   },
   {
    "duration": 40,
    "start_time": "2022-03-05T08:59:37.311Z"
   },
   {
    "duration": 7,
    "start_time": "2022-03-05T08:59:37.353Z"
   },
   {
    "duration": 8,
    "start_time": "2022-03-05T08:59:37.362Z"
   },
   {
    "duration": 609,
    "start_time": "2022-03-05T08:59:37.372Z"
   },
   {
    "duration": 7,
    "start_time": "2022-03-05T08:59:37.984Z"
   },
   {
    "duration": 15,
    "start_time": "2022-03-05T08:59:37.994Z"
   },
   {
    "duration": 9,
    "start_time": "2022-03-05T08:59:38.011Z"
   },
   {
    "duration": 35,
    "start_time": "2022-03-05T08:59:38.022Z"
   },
   {
    "duration": 9,
    "start_time": "2022-03-05T08:59:38.059Z"
   },
   {
    "duration": 7,
    "start_time": "2022-03-05T08:59:38.070Z"
   },
   {
    "duration": 233,
    "start_time": "2022-03-05T08:59:38.079Z"
   },
   {
    "duration": 2644,
    "start_time": "2022-03-05T08:59:35.671Z"
   },
   {
    "duration": 2640,
    "start_time": "2022-03-05T08:59:35.677Z"
   },
   {
    "duration": 2634,
    "start_time": "2022-03-05T08:59:35.684Z"
   },
   {
    "duration": 2630,
    "start_time": "2022-03-05T08:59:35.689Z"
   },
   {
    "duration": 2616,
    "start_time": "2022-03-05T08:59:35.704Z"
   },
   {
    "duration": 2611,
    "start_time": "2022-03-05T08:59:35.711Z"
   },
   {
    "duration": 2605,
    "start_time": "2022-03-05T08:59:35.718Z"
   },
   {
    "duration": 2599,
    "start_time": "2022-03-05T08:59:35.725Z"
   },
   {
    "duration": 2573,
    "start_time": "2022-03-05T08:59:35.753Z"
   },
   {
    "duration": 2560,
    "start_time": "2022-03-05T08:59:35.767Z"
   },
   {
    "duration": 2555,
    "start_time": "2022-03-05T08:59:35.773Z"
   },
   {
    "duration": 2549,
    "start_time": "2022-03-05T08:59:35.780Z"
   },
   {
    "duration": 2545,
    "start_time": "2022-03-05T08:59:35.786Z"
   },
   {
    "duration": 2530,
    "start_time": "2022-03-05T08:59:35.802Z"
   },
   {
    "duration": 2525,
    "start_time": "2022-03-05T08:59:35.809Z"
   },
   {
    "duration": 2520,
    "start_time": "2022-03-05T08:59:35.815Z"
   },
   {
    "duration": 2509,
    "start_time": "2022-03-05T08:59:35.828Z"
   },
   {
    "duration": 35,
    "start_time": "2022-03-05T09:00:10.068Z"
   },
   {
    "duration": 47,
    "start_time": "2022-03-05T09:00:15.064Z"
   },
   {
    "duration": 59,
    "start_time": "2022-03-05T09:00:46.719Z"
   },
   {
    "duration": 42,
    "start_time": "2022-03-05T09:01:15.399Z"
   },
   {
    "duration": 938,
    "start_time": "2022-03-05T09:01:27.741Z"
   },
   {
    "duration": 41,
    "start_time": "2022-03-05T09:01:37.127Z"
   },
   {
    "duration": 238,
    "start_time": "2022-03-05T09:02:16.102Z"
   },
   {
    "duration": 70,
    "start_time": "2022-03-05T09:02:26.565Z"
   },
   {
    "duration": 58,
    "start_time": "2022-03-05T09:02:38.312Z"
   },
   {
    "duration": 9360,
    "start_time": "2022-03-05T09:02:54.783Z"
   },
   {
    "duration": 41,
    "start_time": "2022-03-05T09:03:08.574Z"
   },
   {
    "duration": 2337,
    "start_time": "2022-03-05T09:04:07.603Z"
   },
   {
    "duration": 38,
    "start_time": "2022-03-05T09:04:34.872Z"
   },
   {
    "duration": 37,
    "start_time": "2022-03-05T09:05:09.293Z"
   },
   {
    "duration": 44,
    "start_time": "2022-03-05T09:05:25.482Z"
   },
   {
    "duration": 37,
    "start_time": "2022-03-05T09:06:27.443Z"
   },
   {
    "duration": 48,
    "start_time": "2022-03-05T09:06:36.973Z"
   },
   {
    "duration": 44,
    "start_time": "2022-03-05T09:06:50.192Z"
   },
   {
    "duration": 46,
    "start_time": "2022-03-05T09:06:59.417Z"
   },
   {
    "duration": 4,
    "start_time": "2022-03-05T09:07:03.658Z"
   },
   {
    "duration": 220,
    "start_time": "2022-03-05T09:07:03.668Z"
   },
   {
    "duration": 217,
    "start_time": "2022-03-05T09:07:03.891Z"
   },
   {
    "duration": 123,
    "start_time": "2022-03-05T09:07:04.111Z"
   },
   {
    "duration": 23,
    "start_time": "2022-03-05T09:07:04.237Z"
   },
   {
    "duration": 38,
    "start_time": "2022-03-05T09:07:04.263Z"
   },
   {
    "duration": 50,
    "start_time": "2022-03-05T09:07:04.305Z"
   },
   {
    "duration": 24,
    "start_time": "2022-03-05T09:07:04.357Z"
   },
   {
    "duration": 19,
    "start_time": "2022-03-05T09:07:04.387Z"
   },
   {
    "duration": 44,
    "start_time": "2022-03-05T09:07:04.409Z"
   },
   {
    "duration": 9,
    "start_time": "2022-03-05T09:07:04.456Z"
   },
   {
    "duration": 126,
    "start_time": "2022-03-05T09:07:04.467Z"
   },
   {
    "duration": 70,
    "start_time": "2022-03-05T09:07:04.595Z"
   },
   {
    "duration": 51,
    "start_time": "2022-03-05T09:07:04.668Z"
   },
   {
    "duration": 8,
    "start_time": "2022-03-05T09:07:04.722Z"
   },
   {
    "duration": 9,
    "start_time": "2022-03-05T09:07:04.751Z"
   },
   {
    "duration": 239,
    "start_time": "2022-03-05T09:07:04.764Z"
   },
   {
    "duration": 81,
    "start_time": "2022-03-05T09:07:05.005Z"
   },
   {
    "duration": 62,
    "start_time": "2022-03-05T09:07:05.089Z"
   },
   {
    "duration": 47,
    "start_time": "2022-03-05T09:07:05.154Z"
   },
   {
    "duration": 3,
    "start_time": "2022-03-05T09:07:05.204Z"
   },
   {
    "duration": 48,
    "start_time": "2022-03-05T09:07:07.040Z"
   },
   {
    "duration": 50,
    "start_time": "2022-03-05T09:07:18.370Z"
   },
   {
    "duration": 45,
    "start_time": "2022-03-05T09:07:22.736Z"
   },
   {
    "duration": 1111,
    "start_time": "2022-03-05T13:52:34.611Z"
   },
   {
    "duration": 203,
    "start_time": "2022-03-05T13:52:35.723Z"
   },
   {
    "duration": 172,
    "start_time": "2022-03-05T13:52:35.928Z"
   },
   {
    "duration": 112,
    "start_time": "2022-03-05T13:52:36.102Z"
   },
   {
    "duration": 15,
    "start_time": "2022-03-05T13:52:36.215Z"
   },
   {
    "duration": 43,
    "start_time": "2022-03-05T13:52:36.232Z"
   },
   {
    "duration": 19,
    "start_time": "2022-03-05T13:52:36.277Z"
   },
   {
    "duration": 16,
    "start_time": "2022-03-05T13:52:36.298Z"
   },
   {
    "duration": 43,
    "start_time": "2022-03-05T13:52:36.316Z"
   },
   {
    "duration": 6,
    "start_time": "2022-03-05T13:52:36.360Z"
   },
   {
    "duration": 6,
    "start_time": "2022-03-05T13:52:36.367Z"
   },
   {
    "duration": 121,
    "start_time": "2022-03-05T13:52:36.375Z"
   },
   {
    "duration": 44,
    "start_time": "2022-03-05T13:52:36.498Z"
   },
   {
    "duration": 70,
    "start_time": "2022-03-05T13:52:36.544Z"
   },
   {
    "duration": 7,
    "start_time": "2022-03-05T13:52:36.616Z"
   },
   {
    "duration": 8,
    "start_time": "2022-03-05T13:52:36.625Z"
   },
   {
    "duration": 310,
    "start_time": "2022-03-05T13:52:36.660Z"
   },
   {
    "duration": 120,
    "start_time": "2022-03-05T13:52:36.972Z"
   },
   {
    "duration": 87,
    "start_time": "2022-03-05T13:52:37.095Z"
   },
   {
    "duration": 85,
    "start_time": "2022-03-05T13:52:37.184Z"
   },
   {
    "duration": 2,
    "start_time": "2022-03-05T13:52:37.271Z"
   },
   {
    "duration": 50,
    "start_time": "2022-03-05T13:52:37.275Z"
   },
   {
    "duration": 58,
    "start_time": "2022-03-05T13:52:37.329Z"
   },
   {
    "duration": 52,
    "start_time": "2022-03-05T13:52:37.390Z"
   },
   {
    "duration": 62,
    "start_time": "2022-03-05T13:52:37.459Z"
   },
   {
    "duration": 815,
    "start_time": "2022-03-05T13:52:37.524Z"
   },
   {
    "duration": -215,
    "start_time": "2022-03-05T13:52:38.556Z"
   },
   {
    "duration": -222,
    "start_time": "2022-03-05T13:52:38.564Z"
   },
   {
    "duration": -225,
    "start_time": "2022-03-05T13:52:38.568Z"
   },
   {
    "duration": -227,
    "start_time": "2022-03-05T13:52:38.571Z"
   },
   {
    "duration": -234,
    "start_time": "2022-03-05T13:52:38.579Z"
   },
   {
    "duration": -236,
    "start_time": "2022-03-05T13:52:38.582Z"
   },
   {
    "duration": -238,
    "start_time": "2022-03-05T13:52:38.585Z"
   },
   {
    "duration": -239,
    "start_time": "2022-03-05T13:52:38.587Z"
   },
   {
    "duration": -240,
    "start_time": "2022-03-05T13:52:38.589Z"
   },
   {
    "duration": -248,
    "start_time": "2022-03-05T13:52:38.598Z"
   },
   {
    "duration": -249,
    "start_time": "2022-03-05T13:52:38.600Z"
   },
   {
    "duration": -251,
    "start_time": "2022-03-05T13:52:38.603Z"
   },
   {
    "duration": -253,
    "start_time": "2022-03-05T13:52:38.606Z"
   },
   {
    "duration": -261,
    "start_time": "2022-03-05T13:52:38.615Z"
   },
   {
    "duration": -263,
    "start_time": "2022-03-05T13:52:38.618Z"
   },
   {
    "duration": -264,
    "start_time": "2022-03-05T13:52:38.620Z"
   },
   {
    "duration": -266,
    "start_time": "2022-03-05T13:52:38.623Z"
   },
   {
    "duration": -273,
    "start_time": "2022-03-05T13:52:38.631Z"
   },
   {
    "duration": -275,
    "start_time": "2022-03-05T13:52:38.633Z"
   },
   {
    "duration": -277,
    "start_time": "2022-03-05T13:52:38.636Z"
   },
   {
    "duration": -277,
    "start_time": "2022-03-05T13:52:38.638Z"
   },
   {
    "duration": -284,
    "start_time": "2022-03-05T13:52:38.646Z"
   },
   {
    "duration": -285,
    "start_time": "2022-03-05T13:52:38.648Z"
   },
   {
    "duration": -287,
    "start_time": "2022-03-05T13:52:38.651Z"
   },
   {
    "duration": -289,
    "start_time": "2022-03-05T13:52:38.654Z"
   },
   {
    "duration": -291,
    "start_time": "2022-03-05T13:52:38.657Z"
   },
   {
    "duration": -298,
    "start_time": "2022-03-05T13:52:38.665Z"
   },
   {
    "duration": -299,
    "start_time": "2022-03-05T13:52:38.667Z"
   },
   {
    "duration": -300,
    "start_time": "2022-03-05T13:52:38.669Z"
   },
   {
    "duration": -301,
    "start_time": "2022-03-05T13:52:38.672Z"
   },
   {
    "duration": -308,
    "start_time": "2022-03-05T13:52:38.680Z"
   },
   {
    "duration": -309,
    "start_time": "2022-03-05T13:52:38.682Z"
   },
   {
    "duration": -311,
    "start_time": "2022-03-05T13:52:38.685Z"
   },
   {
    "duration": -312,
    "start_time": "2022-03-05T13:52:38.687Z"
   },
   {
    "duration": -312,
    "start_time": "2022-03-05T13:52:38.689Z"
   },
   {
    "duration": -319,
    "start_time": "2022-03-05T13:52:38.697Z"
   },
   {
    "duration": -321,
    "start_time": "2022-03-05T13:52:38.700Z"
   },
   {
    "duration": -322,
    "start_time": "2022-03-05T13:52:38.702Z"
   },
   {
    "duration": -323,
    "start_time": "2022-03-05T13:52:38.704Z"
   },
   {
    "duration": -331,
    "start_time": "2022-03-05T13:52:38.713Z"
   },
   {
    "duration": -332,
    "start_time": "2022-03-05T13:52:38.715Z"
   },
   {
    "duration": 193,
    "start_time": "2022-03-05T13:53:07.757Z"
   },
   {
    "duration": 12,
    "start_time": "2022-03-05T13:53:25.124Z"
   },
   {
    "duration": 27,
    "start_time": "2022-03-05T13:53:36.900Z"
   },
   {
    "duration": 777,
    "start_time": "2022-03-05T13:53:49.660Z"
   },
   {
    "duration": 27,
    "start_time": "2022-03-05T13:53:56.988Z"
   },
   {
    "duration": 36,
    "start_time": "2022-03-05T13:54:05.852Z"
   },
   {
    "duration": 24,
    "start_time": "2022-03-05T13:54:15.132Z"
   },
   {
    "duration": 25,
    "start_time": "2022-03-05T13:54:27.011Z"
   },
   {
    "duration": 29,
    "start_time": "2022-03-05T13:54:36.132Z"
   },
   {
    "duration": 20,
    "start_time": "2022-03-05T13:54:44.339Z"
   },
   {
    "duration": 26,
    "start_time": "2022-03-05T13:54:47.971Z"
   },
   {
    "duration": 25,
    "start_time": "2022-03-05T13:54:56.899Z"
   },
   {
    "duration": 30,
    "start_time": "2022-03-05T13:55:03.387Z"
   },
   {
    "duration": 23,
    "start_time": "2022-03-05T13:55:23.963Z"
   },
   {
    "duration": 29,
    "start_time": "2022-03-05T13:55:43.011Z"
   },
   {
    "duration": 31,
    "start_time": "2022-03-05T13:55:47.395Z"
   },
   {
    "duration": 34,
    "start_time": "2022-03-05T13:56:34.379Z"
   },
   {
    "duration": 35,
    "start_time": "2022-03-05T13:56:54.923Z"
   },
   {
    "duration": 27,
    "start_time": "2022-03-05T13:57:11.476Z"
   },
   {
    "duration": 27,
    "start_time": "2022-03-05T13:57:25.003Z"
   },
   {
    "duration": 30,
    "start_time": "2022-03-05T13:57:38.922Z"
   },
   {
    "duration": 27,
    "start_time": "2022-03-05T13:57:56.026Z"
   },
   {
    "duration": 195,
    "start_time": "2022-03-05T13:59:02.187Z"
   },
   {
    "duration": 188,
    "start_time": "2022-03-05T13:59:15.874Z"
   },
   {
    "duration": 16,
    "start_time": "2022-03-05T13:59:19.769Z"
   },
   {
    "duration": 26,
    "start_time": "2022-03-05T14:00:16.546Z"
   },
   {
    "duration": 24,
    "start_time": "2022-03-05T14:00:32.609Z"
   },
   {
    "duration": 25,
    "start_time": "2022-03-05T14:00:35.977Z"
   },
   {
    "duration": 676,
    "start_time": "2022-03-05T14:00:42.506Z"
   },
   {
    "duration": 713,
    "start_time": "2022-03-05T14:02:05.753Z"
   },
   {
    "duration": 32,
    "start_time": "2022-03-05T14:02:56.986Z"
   },
   {
    "duration": 29,
    "start_time": "2022-03-05T14:03:10.320Z"
   },
   {
    "duration": 675,
    "start_time": "2022-03-05T14:03:13.339Z"
   },
   {
    "duration": 11,
    "start_time": "2022-03-05T14:04:00.871Z"
   },
   {
    "duration": 219,
    "start_time": "2022-03-05T14:05:17.836Z"
   },
   {
    "duration": 15,
    "start_time": "2022-03-05T14:05:59.398Z"
   },
   {
    "duration": 181,
    "start_time": "2022-03-05T14:06:11.887Z"
   },
   {
    "duration": 11,
    "start_time": "2022-03-05T14:06:57.439Z"
   },
   {
    "duration": 170,
    "start_time": "2022-03-05T14:07:09.054Z"
   },
   {
    "duration": 5,
    "start_time": "2022-03-05T14:07:37.477Z"
   },
   {
    "duration": 45,
    "start_time": "2022-03-05T14:07:40.367Z"
   },
   {
    "duration": 611,
    "start_time": "2022-03-05T14:07:49.062Z"
   },
   {
    "duration": 3,
    "start_time": "2022-03-05T14:07:50.422Z"
   },
   {
    "duration": 16,
    "start_time": "2022-03-05T14:07:55.062Z"
   },
   {
    "duration": 17,
    "start_time": "2022-03-05T14:08:03.535Z"
   },
   {
    "duration": 17,
    "start_time": "2022-03-05T14:08:26.894Z"
   },
   {
    "duration": 3,
    "start_time": "2022-03-05T14:09:22.173Z"
   },
   {
    "duration": 184,
    "start_time": "2022-03-05T14:09:22.178Z"
   },
   {
    "duration": 171,
    "start_time": "2022-03-05T14:09:22.365Z"
   },
   {
    "duration": 140,
    "start_time": "2022-03-05T14:09:22.538Z"
   },
   {
    "duration": 16,
    "start_time": "2022-03-05T14:09:22.680Z"
   },
   {
    "duration": 52,
    "start_time": "2022-03-05T14:09:22.698Z"
   },
   {
    "duration": 20,
    "start_time": "2022-03-05T14:09:22.752Z"
   },
   {
    "duration": 16,
    "start_time": "2022-03-05T14:09:22.774Z"
   },
   {
    "duration": 14,
    "start_time": "2022-03-05T14:09:22.792Z"
   },
   {
    "duration": 5,
    "start_time": "2022-03-05T14:09:22.808Z"
   },
   {
    "duration": 6,
    "start_time": "2022-03-05T14:09:22.815Z"
   },
   {
    "duration": 119,
    "start_time": "2022-03-05T14:09:22.822Z"
   },
   {
    "duration": 45,
    "start_time": "2022-03-05T14:09:22.943Z"
   },
   {
    "duration": 40,
    "start_time": "2022-03-05T14:09:22.990Z"
   },
   {
    "duration": 27,
    "start_time": "2022-03-05T14:09:23.032Z"
   },
   {
    "duration": 8,
    "start_time": "2022-03-05T14:09:23.060Z"
   },
   {
    "duration": 162,
    "start_time": "2022-03-05T14:09:23.069Z"
   },
   {
    "duration": 54,
    "start_time": "2022-03-05T14:09:23.232Z"
   },
   {
    "duration": 37,
    "start_time": "2022-03-05T14:09:23.289Z"
   },
   {
    "duration": 48,
    "start_time": "2022-03-05T14:09:23.328Z"
   },
   {
    "duration": 2,
    "start_time": "2022-03-05T14:09:23.378Z"
   },
   {
    "duration": 42,
    "start_time": "2022-03-05T14:09:23.382Z"
   },
   {
    "duration": 46,
    "start_time": "2022-03-05T14:09:23.426Z"
   },
   {
    "duration": 32,
    "start_time": "2022-03-05T14:09:23.474Z"
   },
   {
    "duration": 29,
    "start_time": "2022-03-05T14:09:23.508Z"
   },
   {
    "duration": 237,
    "start_time": "2022-03-05T14:09:23.539Z"
   },
   {
    "duration": 198,
    "start_time": "2022-03-05T14:09:23.778Z"
   },
   {
    "duration": 183,
    "start_time": "2022-03-05T14:09:23.978Z"
   },
   {
    "duration": 4,
    "start_time": "2022-03-05T14:09:24.163Z"
   },
   {
    "duration": 8,
    "start_time": "2022-03-05T14:09:26.101Z"
   },
   {
    "duration": 39,
    "start_time": "2022-03-05T14:10:08.438Z"
   },
   {
    "duration": 7,
    "start_time": "2022-03-05T14:10:19.118Z"
   },
   {
    "duration": 538,
    "start_time": "2022-03-05T14:10:27.125Z"
   },
   {
    "duration": 7,
    "start_time": "2022-03-05T14:10:33.549Z"
   },
   {
    "duration": 3,
    "start_time": "2022-03-05T14:10:40.820Z"
   },
   {
    "duration": 7,
    "start_time": "2022-03-05T14:10:52.237Z"
   },
   {
    "duration": 9,
    "start_time": "2022-03-05T14:10:52.789Z"
   },
   {
    "duration": 8,
    "start_time": "2022-03-05T14:11:01.965Z"
   },
   {
    "duration": 10,
    "start_time": "2022-03-05T14:11:07.943Z"
   },
   {
    "duration": 14,
    "start_time": "2022-03-05T14:12:24.724Z"
   },
   {
    "duration": 21,
    "start_time": "2022-03-05T14:12:38.157Z"
   },
   {
    "duration": 13,
    "start_time": "2022-03-05T14:12:43.477Z"
   },
   {
    "duration": 6,
    "start_time": "2022-03-05T14:12:47.627Z"
   },
   {
    "duration": 10,
    "start_time": "2022-03-05T14:12:49.476Z"
   },
   {
    "duration": 10,
    "start_time": "2022-03-05T14:12:53.988Z"
   },
   {
    "duration": 10,
    "start_time": "2022-03-05T14:12:56.940Z"
   },
   {
    "duration": 75,
    "start_time": "2022-03-05T14:13:25.324Z"
   },
   {
    "duration": 205,
    "start_time": "2022-03-05T14:13:42.485Z"
   },
   {
    "duration": 2128,
    "start_time": "2022-03-05T14:13:53.940Z"
   },
   {
    "duration": 330,
    "start_time": "2022-03-05T14:14:04.772Z"
   },
   {
    "duration": 404,
    "start_time": "2022-03-05T14:14:24.596Z"
   },
   {
    "duration": 11,
    "start_time": "2022-03-05T14:14:39.971Z"
   },
   {
    "duration": 198,
    "start_time": "2022-03-05T14:14:53.115Z"
   },
   {
    "duration": 436,
    "start_time": "2022-03-05T14:15:12.123Z"
   },
   {
    "duration": 449,
    "start_time": "2022-03-05T14:15:31.843Z"
   },
   {
    "duration": 87,
    "start_time": "2022-03-05T14:16:01.627Z"
   },
   {
    "duration": 204,
    "start_time": "2022-03-05T14:16:25.962Z"
   },
   {
    "duration": 9,
    "start_time": "2022-03-05T14:16:31.114Z"
   },
   {
    "duration": 5,
    "start_time": "2022-03-05T14:16:50.746Z"
   },
   {
    "duration": 4,
    "start_time": "2022-03-05T14:17:08.458Z"
   },
   {
    "duration": 9,
    "start_time": "2022-03-05T14:17:22.178Z"
   },
   {
    "duration": 5,
    "start_time": "2022-03-05T14:17:35.122Z"
   },
   {
    "duration": 9,
    "start_time": "2022-03-05T14:17:36.417Z"
   },
   {
    "duration": 5,
    "start_time": "2022-03-05T14:17:38.560Z"
   },
   {
    "duration": 10,
    "start_time": "2022-03-05T14:17:40.113Z"
   },
   {
    "duration": 4,
    "start_time": "2022-03-05T14:17:47.802Z"
   },
   {
    "duration": 4,
    "start_time": "2022-03-05T14:17:48.386Z"
   },
   {
    "duration": 4,
    "start_time": "2022-03-05T14:18:22.450Z"
   },
   {
    "duration": 4,
    "start_time": "2022-03-05T14:22:31.479Z"
   },
   {
    "duration": 3,
    "start_time": "2022-03-05T14:22:31.935Z"
   },
   {
    "duration": 4,
    "start_time": "2022-03-05T14:22:32.319Z"
   },
   {
    "duration": 4,
    "start_time": "2022-03-05T14:22:32.679Z"
   },
   {
    "duration": 3,
    "start_time": "2022-03-05T14:22:33.006Z"
   },
   {
    "duration": 3,
    "start_time": "2022-03-05T14:22:33.455Z"
   },
   {
    "duration": 205,
    "start_time": "2022-03-05T14:22:33.815Z"
   },
   {
    "duration": 10,
    "start_time": "2022-03-05T14:23:03.335Z"
   },
   {
    "duration": 6,
    "start_time": "2022-03-05T14:23:26.815Z"
   },
   {
    "duration": 11,
    "start_time": "2022-03-05T14:23:27.206Z"
   },
   {
    "duration": 646,
    "start_time": "2022-03-05T14:25:09.351Z"
   },
   {
    "duration": 10,
    "start_time": "2022-03-05T14:25:17.974Z"
   },
   {
    "duration": -201,
    "start_time": "2022-03-05T14:25:32.879Z"
   },
   {
    "duration": 410,
    "start_time": "2022-03-05T14:25:36.822Z"
   },
   {
    "duration": 398,
    "start_time": "2022-03-05T14:25:44.902Z"
   },
   {
    "duration": 407,
    "start_time": "2022-03-05T14:25:51.974Z"
   },
   {
    "duration": 484,
    "start_time": "2022-03-05T14:26:15.686Z"
   },
   {
    "duration": 444,
    "start_time": "2022-03-05T14:26:25.709Z"
   },
   {
    "duration": 438,
    "start_time": "2022-03-05T14:26:44.749Z"
   },
   {
    "duration": 436,
    "start_time": "2022-03-05T14:26:50.499Z"
   },
   {
    "duration": 439,
    "start_time": "2022-03-05T14:26:54.158Z"
   },
   {
    "duration": 433,
    "start_time": "2022-03-05T14:27:13.974Z"
   },
   {
    "duration": 514,
    "start_time": "2022-03-05T14:28:01.718Z"
   },
   {
    "duration": 56,
    "start_time": "2022-03-05T14:29:14.988Z"
   },
   {
    "duration": 12,
    "start_time": "2022-03-05T14:29:22.996Z"
   },
   {
    "duration": 37,
    "start_time": "2022-03-05T14:29:59.366Z"
   },
   {
    "duration": 28,
    "start_time": "2022-03-05T14:30:03.604Z"
   },
   {
    "duration": 37,
    "start_time": "2022-03-05T14:30:06.556Z"
   },
   {
    "duration": 11,
    "start_time": "2022-03-05T14:30:30.916Z"
   },
   {
    "duration": 18,
    "start_time": "2022-03-05T14:30:49.604Z"
   },
   {
    "duration": 18,
    "start_time": "2022-03-05T14:30:58.100Z"
   },
   {
    "duration": 199,
    "start_time": "2022-03-05T14:39:06.712Z"
   },
   {
    "duration": 679,
    "start_time": "2022-03-05T14:39:49.688Z"
   },
   {
    "duration": 408,
    "start_time": "2022-03-05T14:40:04.896Z"
   },
   {
    "duration": 418,
    "start_time": "2022-03-05T14:40:38.144Z"
   },
   {
    "duration": 27,
    "start_time": "2022-03-05T14:41:38.494Z"
   },
   {
    "duration": 18,
    "start_time": "2022-03-05T14:42:14.558Z"
   },
   {
    "duration": 13,
    "start_time": "2022-03-05T14:42:20.983Z"
   },
   {
    "duration": 435,
    "start_time": "2022-03-05T14:43:31.558Z"
   },
   {
    "duration": 507,
    "start_time": "2022-03-05T14:43:37.886Z"
   },
   {
    "duration": 298,
    "start_time": "2022-03-05T14:44:00.039Z"
   },
   {
    "duration": 283,
    "start_time": "2022-03-05T14:44:09.703Z"
   },
   {
    "duration": 312,
    "start_time": "2022-03-05T14:45:06.759Z"
   },
   {
    "duration": 383,
    "start_time": "2022-03-05T14:45:30.437Z"
   },
   {
    "duration": 303,
    "start_time": "2022-03-05T14:46:30.310Z"
   },
   {
    "duration": 298,
    "start_time": "2022-03-05T14:46:47.045Z"
   },
   {
    "duration": 460,
    "start_time": "2022-03-05T14:46:59.053Z"
   },
   {
    "duration": 335,
    "start_time": "2022-03-05T14:47:09.853Z"
   },
   {
    "duration": 351,
    "start_time": "2022-03-05T14:47:43.645Z"
   },
   {
    "duration": 13,
    "start_time": "2022-03-05T14:47:49.165Z"
   },
   {
    "duration": 197,
    "start_time": "2022-03-05T14:53:35.306Z"
   },
   {
    "duration": 14,
    "start_time": "2022-03-05T14:54:25.810Z"
   },
   {
    "duration": 10,
    "start_time": "2022-03-05T14:54:37.002Z"
   },
   {
    "duration": 7,
    "start_time": "2022-03-05T14:54:54.970Z"
   },
   {
    "duration": 6,
    "start_time": "2022-03-05T14:55:27.146Z"
   },
   {
    "duration": 4,
    "start_time": "2022-03-05T14:55:30.522Z"
   },
   {
    "duration": 5,
    "start_time": "2022-03-05T14:55:40.641Z"
   },
   {
    "duration": 5,
    "start_time": "2022-03-05T14:56:13.394Z"
   },
   {
    "duration": 5,
    "start_time": "2022-03-05T14:56:14.146Z"
   },
   {
    "duration": 112,
    "start_time": "2022-03-05T14:56:22.218Z"
   },
   {
    "duration": 4,
    "start_time": "2022-03-05T14:56:22.802Z"
   },
   {
    "duration": 5,
    "start_time": "2022-03-05T14:57:14.402Z"
   },
   {
    "duration": 5,
    "start_time": "2022-03-05T14:58:22.770Z"
   },
   {
    "duration": 4,
    "start_time": "2022-03-05T14:58:49.912Z"
   },
   {
    "duration": 5,
    "start_time": "2022-03-05T14:58:59.937Z"
   },
   {
    "duration": 9,
    "start_time": "2022-03-05T15:09:43.549Z"
   },
   {
    "duration": 13,
    "start_time": "2022-03-05T15:09:45.555Z"
   },
   {
    "duration": 12,
    "start_time": "2022-03-05T15:09:47.500Z"
   },
   {
    "duration": 12,
    "start_time": "2022-03-05T15:10:09.748Z"
   },
   {
    "duration": 344,
    "start_time": "2022-03-05T15:11:50.389Z"
   },
   {
    "duration": 6,
    "start_time": "2022-03-05T15:12:09.461Z"
   },
   {
    "duration": 5,
    "start_time": "2022-03-05T15:12:35.179Z"
   },
   {
    "duration": 41,
    "start_time": "2022-03-05T15:14:43.931Z"
   },
   {
    "duration": 38,
    "start_time": "2022-03-05T15:14:49.379Z"
   },
   {
    "duration": 32,
    "start_time": "2022-03-05T15:14:57.979Z"
   },
   {
    "duration": 213,
    "start_time": "2022-03-05T15:15:02.674Z"
   },
   {
    "duration": 187,
    "start_time": "2022-03-05T15:15:05.987Z"
   },
   {
    "duration": 178,
    "start_time": "2022-03-05T15:15:09.363Z"
   },
   {
    "duration": 1396,
    "start_time": "2022-03-06T10:32:59.960Z"
   },
   {
    "duration": 263,
    "start_time": "2022-03-06T10:33:01.359Z"
   },
   {
    "duration": 232,
    "start_time": "2022-03-06T10:33:01.625Z"
   },
   {
    "duration": 160,
    "start_time": "2022-03-06T10:33:01.860Z"
   },
   {
    "duration": 20,
    "start_time": "2022-03-06T10:33:02.022Z"
   },
   {
    "duration": 67,
    "start_time": "2022-03-06T10:33:02.045Z"
   },
   {
    "duration": 27,
    "start_time": "2022-03-06T10:33:02.114Z"
   },
   {
    "duration": 30,
    "start_time": "2022-03-06T10:33:02.145Z"
   },
   {
    "duration": 23,
    "start_time": "2022-03-06T10:33:02.178Z"
   },
   {
    "duration": 17,
    "start_time": "2022-03-06T10:33:02.204Z"
   },
   {
    "duration": 22,
    "start_time": "2022-03-06T10:33:02.224Z"
   },
   {
    "duration": 157,
    "start_time": "2022-03-06T10:33:02.249Z"
   },
   {
    "duration": 94,
    "start_time": "2022-03-06T10:33:02.408Z"
   },
   {
    "duration": 88,
    "start_time": "2022-03-06T10:33:02.505Z"
   },
   {
    "duration": 10,
    "start_time": "2022-03-06T10:33:02.597Z"
   },
   {
    "duration": 13,
    "start_time": "2022-03-06T10:33:02.610Z"
   },
   {
    "duration": 255,
    "start_time": "2022-03-06T10:33:02.626Z"
   },
   {
    "duration": 74,
    "start_time": "2022-03-06T10:33:02.883Z"
   },
   {
    "duration": 55,
    "start_time": "2022-03-06T10:33:02.973Z"
   },
   {
    "duration": 70,
    "start_time": "2022-03-06T10:33:03.031Z"
   },
   {
    "duration": 73,
    "start_time": "2022-03-06T10:33:03.104Z"
   },
   {
    "duration": 53,
    "start_time": "2022-03-06T10:33:03.179Z"
   },
   {
    "duration": 390,
    "start_time": "2022-03-06T10:33:19.315Z"
   },
   {
    "duration": 267,
    "start_time": "2022-03-06T10:33:50.017Z"
   },
   {
    "duration": 92,
    "start_time": "2022-03-06T10:34:58.634Z"
   },
   {
    "duration": 43,
    "start_time": "2022-03-06T10:35:01.098Z"
   },
   {
    "duration": 48,
    "start_time": "2022-03-06T10:35:16.877Z"
   },
   {
    "duration": 45,
    "start_time": "2022-03-06T10:35:22.843Z"
   },
   {
    "duration": 73,
    "start_time": "2022-03-06T10:35:37.570Z"
   },
   {
    "duration": 356,
    "start_time": "2022-03-06T10:35:50.450Z"
   },
   {
    "duration": 161,
    "start_time": "2022-03-06T10:36:25.793Z"
   },
   {
    "duration": 175,
    "start_time": "2022-03-06T10:36:39.474Z"
   },
   {
    "duration": 169,
    "start_time": "2022-03-06T10:37:03.873Z"
   },
   {
    "duration": 171,
    "start_time": "2022-03-06T10:37:16.233Z"
   },
   {
    "duration": 169,
    "start_time": "2022-03-06T10:37:49.002Z"
   },
   {
    "duration": 182,
    "start_time": "2022-03-06T10:37:57.993Z"
   },
   {
    "duration": 271,
    "start_time": "2022-03-06T10:39:32.863Z"
   },
   {
    "duration": 250,
    "start_time": "2022-03-06T10:39:44.509Z"
   },
   {
    "duration": 49,
    "start_time": "2022-03-06T10:40:04.872Z"
   },
   {
    "duration": 4,
    "start_time": "2022-03-06T10:40:14.606Z"
   },
   {
    "duration": 247,
    "start_time": "2022-03-06T10:40:14.613Z"
   },
   {
    "duration": 234,
    "start_time": "2022-03-06T10:40:14.863Z"
   },
   {
    "duration": 146,
    "start_time": "2022-03-06T10:40:15.099Z"
   },
   {
    "duration": 26,
    "start_time": "2022-03-06T10:40:15.248Z"
   },
   {
    "duration": 40,
    "start_time": "2022-03-06T10:40:15.277Z"
   },
   {
    "duration": 27,
    "start_time": "2022-03-06T10:40:15.320Z"
   },
   {
    "duration": 42,
    "start_time": "2022-03-06T10:40:15.350Z"
   },
   {
    "duration": 19,
    "start_time": "2022-03-06T10:40:15.394Z"
   },
   {
    "duration": 7,
    "start_time": "2022-03-06T10:40:15.415Z"
   },
   {
    "duration": 8,
    "start_time": "2022-03-06T10:40:15.425Z"
   },
   {
    "duration": 170,
    "start_time": "2022-03-06T10:40:15.435Z"
   },
   {
    "duration": 72,
    "start_time": "2022-03-06T10:40:15.608Z"
   },
   {
    "duration": 58,
    "start_time": "2022-03-06T10:40:15.682Z"
   },
   {
    "duration": 31,
    "start_time": "2022-03-06T10:40:15.742Z"
   },
   {
    "duration": 10,
    "start_time": "2022-03-06T10:40:15.776Z"
   },
   {
    "duration": 247,
    "start_time": "2022-03-06T10:40:15.788Z"
   },
   {
    "duration": 79,
    "start_time": "2022-03-06T10:40:16.037Z"
   },
   {
    "duration": 64,
    "start_time": "2022-03-06T10:40:16.120Z"
   },
   {
    "duration": 44,
    "start_time": "2022-03-06T10:40:16.187Z"
   },
   {
    "duration": 72,
    "start_time": "2022-03-06T10:40:16.233Z"
   },
   {
    "duration": 47,
    "start_time": "2022-03-06T10:40:16.307Z"
   },
   {
    "duration": 56,
    "start_time": "2022-03-06T10:40:16.357Z"
   },
   {
    "duration": 64,
    "start_time": "2022-03-06T10:40:16.416Z"
   },
   {
    "duration": 184,
    "start_time": "2022-03-06T10:40:16.482Z"
   },
   {
    "duration": 153,
    "start_time": "2022-03-06T10:40:18.047Z"
   },
   {
    "duration": 6901,
    "start_time": "2022-03-06T10:40:53.567Z"
   },
   {
    "duration": 13,
    "start_time": "2022-03-06T10:41:11.575Z"
   },
   {
    "duration": 107,
    "start_time": "2022-03-06T10:42:45.617Z"
   },
   {
    "duration": 50,
    "start_time": "2022-03-06T10:43:10.887Z"
   },
   {
    "duration": 187,
    "start_time": "2022-03-06T10:43:17.183Z"
   },
   {
    "duration": 18,
    "start_time": "2022-03-06T10:45:16.218Z"
   },
   {
    "duration": 49,
    "start_time": "2022-03-06T10:45:38.869Z"
   },
   {
    "duration": 5,
    "start_time": "2022-03-06T10:48:13.181Z"
   },
   {
    "duration": 23,
    "start_time": "2022-03-06T10:48:15.061Z"
   },
   {
    "duration": 7,
    "start_time": "2022-03-06T10:48:26.060Z"
   },
   {
    "duration": 270,
    "start_time": "2022-03-06T10:48:34.396Z"
   },
   {
    "duration": 4,
    "start_time": "2022-03-06T10:48:40.387Z"
   },
   {
    "duration": 279,
    "start_time": "2022-03-06T10:48:40.394Z"
   },
   {
    "duration": 250,
    "start_time": "2022-03-06T10:48:40.677Z"
   },
   {
    "duration": 164,
    "start_time": "2022-03-06T10:48:40.930Z"
   },
   {
    "duration": 23,
    "start_time": "2022-03-06T10:48:41.097Z"
   },
   {
    "duration": 53,
    "start_time": "2022-03-06T10:48:41.123Z"
   },
   {
    "duration": 27,
    "start_time": "2022-03-06T10:48:41.179Z"
   },
   {
    "duration": 23,
    "start_time": "2022-03-06T10:48:41.210Z"
   },
   {
    "duration": 48,
    "start_time": "2022-03-06T10:48:41.236Z"
   },
   {
    "duration": 10,
    "start_time": "2022-03-06T10:48:41.286Z"
   },
   {
    "duration": 15,
    "start_time": "2022-03-06T10:48:41.299Z"
   },
   {
    "duration": 156,
    "start_time": "2022-03-06T10:48:41.316Z"
   },
   {
    "duration": 76,
    "start_time": "2022-03-06T10:48:41.475Z"
   },
   {
    "duration": 74,
    "start_time": "2022-03-06T10:48:41.553Z"
   },
   {
    "duration": 9,
    "start_time": "2022-03-06T10:48:41.629Z"
   },
   {
    "duration": 36,
    "start_time": "2022-03-06T10:48:41.640Z"
   },
   {
    "duration": 229,
    "start_time": "2022-03-06T10:48:41.678Z"
   },
   {
    "duration": 81,
    "start_time": "2022-03-06T10:48:41.910Z"
   },
   {
    "duration": 53,
    "start_time": "2022-03-06T10:48:41.994Z"
   },
   {
    "duration": 62,
    "start_time": "2022-03-06T10:48:42.049Z"
   },
   {
    "duration": 66,
    "start_time": "2022-03-06T10:48:42.113Z"
   },
   {
    "duration": 47,
    "start_time": "2022-03-06T10:48:42.181Z"
   },
   {
    "duration": 78,
    "start_time": "2022-03-06T10:48:42.231Z"
   },
   {
    "duration": 63,
    "start_time": "2022-03-06T10:48:42.312Z"
   },
   {
    "duration": 186,
    "start_time": "2022-03-06T10:48:42.377Z"
   },
   {
    "duration": 160,
    "start_time": "2022-03-06T10:48:42.566Z"
   },
   {
    "duration": 209,
    "start_time": "2022-03-06T10:48:42.728Z"
   },
   {
    "duration": 6,
    "start_time": "2022-03-06T10:48:44.811Z"
   },
   {
    "duration": 35,
    "start_time": "2022-03-06T10:48:45.651Z"
   },
   {
    "duration": 45,
    "start_time": "2022-03-06T10:48:53.925Z"
   },
   {
    "duration": 39,
    "start_time": "2022-03-06T10:50:00.451Z"
   },
   {
    "duration": 37,
    "start_time": "2022-03-06T10:51:19.499Z"
   },
   {
    "duration": 37,
    "start_time": "2022-03-06T10:51:28.451Z"
   },
   {
    "duration": 32,
    "start_time": "2022-03-06T10:51:43.732Z"
   },
   {
    "duration": 44,
    "start_time": "2022-03-06T10:52:13.023Z"
   },
   {
    "duration": 5,
    "start_time": "2022-03-06T10:52:24.043Z"
   },
   {
    "duration": 264,
    "start_time": "2022-03-06T10:52:24.050Z"
   },
   {
    "duration": 230,
    "start_time": "2022-03-06T10:52:24.317Z"
   },
   {
    "duration": 147,
    "start_time": "2022-03-06T10:52:24.549Z"
   },
   {
    "duration": 21,
    "start_time": "2022-03-06T10:52:24.699Z"
   },
   {
    "duration": 53,
    "start_time": "2022-03-06T10:52:24.722Z"
   },
   {
    "duration": 29,
    "start_time": "2022-03-06T10:52:24.781Z"
   },
   {
    "duration": 24,
    "start_time": "2022-03-06T10:52:24.814Z"
   },
   {
    "duration": 20,
    "start_time": "2022-03-06T10:52:24.874Z"
   },
   {
    "duration": 8,
    "start_time": "2022-03-06T10:52:24.896Z"
   },
   {
    "duration": 13,
    "start_time": "2022-03-06T10:52:24.907Z"
   },
   {
    "duration": 175,
    "start_time": "2022-03-06T10:52:24.922Z"
   },
   {
    "duration": 84,
    "start_time": "2022-03-06T10:52:25.099Z"
   },
   {
    "duration": 59,
    "start_time": "2022-03-06T10:52:25.186Z"
   },
   {
    "duration": 30,
    "start_time": "2022-03-06T10:52:25.248Z"
   },
   {
    "duration": 16,
    "start_time": "2022-03-06T10:52:25.281Z"
   },
   {
    "duration": 234,
    "start_time": "2022-03-06T10:52:25.299Z"
   },
   {
    "duration": 80,
    "start_time": "2022-03-06T10:52:25.536Z"
   },
   {
    "duration": 63,
    "start_time": "2022-03-06T10:52:25.620Z"
   },
   {
    "duration": 43,
    "start_time": "2022-03-06T10:52:25.686Z"
   },
   {
    "duration": 75,
    "start_time": "2022-03-06T10:52:25.731Z"
   },
   {
    "duration": 46,
    "start_time": "2022-03-06T10:52:25.808Z"
   },
   {
    "duration": 53,
    "start_time": "2022-03-06T10:52:25.874Z"
   },
   {
    "duration": 67,
    "start_time": "2022-03-06T10:52:25.930Z"
   },
   {
    "duration": 203,
    "start_time": "2022-03-06T10:52:25.999Z"
   },
   {
    "duration": 163,
    "start_time": "2022-03-06T10:52:26.204Z"
   },
   {
    "duration": 209,
    "start_time": "2022-03-06T10:52:26.369Z"
   },
   {
    "duration": 7,
    "start_time": "2022-03-06T10:52:26.581Z"
   },
   {
    "duration": 82,
    "start_time": "2022-03-06T10:52:26.591Z"
   },
   {
    "duration": 313,
    "start_time": "2022-03-06T10:52:31.155Z"
   },
   {
    "duration": 32,
    "start_time": "2022-03-06T10:52:42.050Z"
   },
   {
    "duration": 39,
    "start_time": "2022-03-06T10:53:58.996Z"
   },
   {
    "duration": 4,
    "start_time": "2022-03-06T10:54:02.801Z"
   },
   {
    "duration": 242,
    "start_time": "2022-03-06T10:54:02.808Z"
   },
   {
    "duration": 228,
    "start_time": "2022-03-06T10:54:03.053Z"
   },
   {
    "duration": 148,
    "start_time": "2022-03-06T10:54:03.284Z"
   },
   {
    "duration": 22,
    "start_time": "2022-03-06T10:54:03.434Z"
   },
   {
    "duration": 54,
    "start_time": "2022-03-06T10:54:03.473Z"
   },
   {
    "duration": 27,
    "start_time": "2022-03-06T10:54:03.530Z"
   },
   {
    "duration": 29,
    "start_time": "2022-03-06T10:54:03.561Z"
   },
   {
    "duration": 21,
    "start_time": "2022-03-06T10:54:03.593Z"
   },
   {
    "duration": 9,
    "start_time": "2022-03-06T10:54:03.616Z"
   },
   {
    "duration": 10,
    "start_time": "2022-03-06T10:54:03.628Z"
   },
   {
    "duration": 136,
    "start_time": "2022-03-06T10:54:03.674Z"
   },
   {
    "duration": 84,
    "start_time": "2022-03-06T10:54:03.812Z"
   },
   {
    "duration": 77,
    "start_time": "2022-03-06T10:54:03.898Z"
   },
   {
    "duration": 10,
    "start_time": "2022-03-06T10:54:03.977Z"
   },
   {
    "duration": 13,
    "start_time": "2022-03-06T10:54:03.990Z"
   },
   {
    "duration": 252,
    "start_time": "2022-03-06T10:54:04.006Z"
   },
   {
    "duration": 73,
    "start_time": "2022-03-06T10:54:04.261Z"
   },
   {
    "duration": 72,
    "start_time": "2022-03-06T10:54:04.337Z"
   },
   {
    "duration": 44,
    "start_time": "2022-03-06T10:54:04.412Z"
   },
   {
    "duration": 65,
    "start_time": "2022-03-06T10:54:04.458Z"
   },
   {
    "duration": 72,
    "start_time": "2022-03-06T10:54:04.526Z"
   },
   {
    "duration": 70,
    "start_time": "2022-03-06T10:54:04.605Z"
   },
   {
    "duration": 47,
    "start_time": "2022-03-06T10:54:04.678Z"
   },
   {
    "duration": 200,
    "start_time": "2022-03-06T10:54:04.728Z"
   },
   {
    "duration": 170,
    "start_time": "2022-03-06T10:54:04.931Z"
   },
   {
    "duration": 193,
    "start_time": "2022-03-06T10:54:05.104Z"
   },
   {
    "duration": 6,
    "start_time": "2022-03-06T10:54:05.300Z"
   },
   {
    "duration": 69,
    "start_time": "2022-03-06T10:54:05.308Z"
   },
   {
    "duration": 37,
    "start_time": "2022-03-06T10:54:07.426Z"
   },
   {
    "duration": 32,
    "start_time": "2022-03-06T10:57:02.297Z"
   },
   {
    "duration": 39,
    "start_time": "2022-03-06T10:57:41.377Z"
   },
   {
    "duration": 28,
    "start_time": "2022-03-06T10:57:56.817Z"
   },
   {
    "duration": 245,
    "start_time": "2022-03-06T10:58:23.250Z"
   },
   {
    "duration": 14,
    "start_time": "2022-03-06T10:58:38.784Z"
   },
   {
    "duration": 38,
    "start_time": "2022-03-06T10:58:44.721Z"
   },
   {
    "duration": 58,
    "start_time": "2022-03-06T10:59:13.817Z"
   },
   {
    "duration": 95,
    "start_time": "2022-03-06T10:59:17.448Z"
   },
   {
    "duration": 252,
    "start_time": "2022-03-06T11:01:09.178Z"
   },
   {
    "duration": 8,
    "start_time": "2022-03-06T11:01:16.504Z"
   },
   {
    "duration": 39,
    "start_time": "2022-03-06T11:01:18.320Z"
   },
   {
    "duration": 946,
    "start_time": "2022-03-06T11:01:59.799Z"
   },
   {
    "duration": 41,
    "start_time": "2022-03-06T11:02:00.905Z"
   },
   {
    "duration": 4,
    "start_time": "2022-03-06T11:02:17.167Z"
   },
   {
    "duration": 278,
    "start_time": "2022-03-06T11:02:17.173Z"
   },
   {
    "duration": 235,
    "start_time": "2022-03-06T11:02:17.454Z"
   },
   {
    "duration": 154,
    "start_time": "2022-03-06T11:02:17.693Z"
   },
   {
    "duration": 25,
    "start_time": "2022-03-06T11:02:17.849Z"
   },
   {
    "duration": 52,
    "start_time": "2022-03-06T11:02:17.877Z"
   },
   {
    "duration": 26,
    "start_time": "2022-03-06T11:02:17.932Z"
   },
   {
    "duration": 29,
    "start_time": "2022-03-06T11:02:17.974Z"
   },
   {
    "duration": 19,
    "start_time": "2022-03-06T11:02:18.005Z"
   },
   {
    "duration": 7,
    "start_time": "2022-03-06T11:02:18.027Z"
   },
   {
    "duration": 39,
    "start_time": "2022-03-06T11:02:18.036Z"
   },
   {
    "duration": 126,
    "start_time": "2022-03-06T11:02:18.077Z"
   },
   {
    "duration": 81,
    "start_time": "2022-03-06T11:02:18.205Z"
   },
   {
    "duration": 58,
    "start_time": "2022-03-06T11:02:18.289Z"
   },
   {
    "duration": 26,
    "start_time": "2022-03-06T11:02:18.350Z"
   },
   {
    "duration": 9,
    "start_time": "2022-03-06T11:02:18.379Z"
   },
   {
    "duration": 255,
    "start_time": "2022-03-06T11:02:18.390Z"
   },
   {
    "duration": 78,
    "start_time": "2022-03-06T11:02:18.648Z"
   },
   {
    "duration": 61,
    "start_time": "2022-03-06T11:02:18.731Z"
   },
   {
    "duration": 45,
    "start_time": "2022-03-06T11:02:18.794Z"
   },
   {
    "duration": 69,
    "start_time": "2022-03-06T11:02:18.841Z"
   },
   {
    "duration": 64,
    "start_time": "2022-03-06T11:02:18.912Z"
   },
   {
    "duration": 52,
    "start_time": "2022-03-06T11:02:18.978Z"
   },
   {
    "duration": 68,
    "start_time": "2022-03-06T11:02:19.032Z"
   },
   {
    "duration": 181,
    "start_time": "2022-03-06T11:02:19.103Z"
   },
   {
    "duration": 163,
    "start_time": "2022-03-06T11:02:19.286Z"
   },
   {
    "duration": 193,
    "start_time": "2022-03-06T11:02:19.451Z"
   },
   {
    "duration": 11,
    "start_time": "2022-03-06T11:02:20.847Z"
   },
   {
    "duration": 30,
    "start_time": "2022-03-06T11:02:22.791Z"
   },
   {
    "duration": 12,
    "start_time": "2022-03-06T11:02:33.591Z"
   },
   {
    "duration": 25,
    "start_time": "2022-03-06T11:02:37.583Z"
   },
   {
    "duration": 33,
    "start_time": "2022-03-06T11:02:48.735Z"
   },
   {
    "duration": 22,
    "start_time": "2022-03-06T11:03:09.335Z"
   },
   {
    "duration": 34,
    "start_time": "2022-03-06T11:03:12.023Z"
   },
   {
    "duration": 32,
    "start_time": "2022-03-06T11:04:28.567Z"
   },
   {
    "duration": 5939,
    "start_time": "2022-03-06T11:04:53.990Z"
   },
   {
    "duration": 956,
    "start_time": "2022-03-06T11:05:41.111Z"
   },
   {
    "duration": 983,
    "start_time": "2022-03-06T11:05:47.854Z"
   },
   {
    "duration": 4,
    "start_time": "2022-03-06T11:05:51.468Z"
   },
   {
    "duration": 247,
    "start_time": "2022-03-06T11:05:51.475Z"
   },
   {
    "duration": 224,
    "start_time": "2022-03-06T11:05:51.725Z"
   },
   {
    "duration": 144,
    "start_time": "2022-03-06T11:05:51.951Z"
   },
   {
    "duration": 21,
    "start_time": "2022-03-06T11:05:52.098Z"
   },
   {
    "duration": 52,
    "start_time": "2022-03-06T11:05:52.121Z"
   },
   {
    "duration": 26,
    "start_time": "2022-03-06T11:05:52.175Z"
   },
   {
    "duration": 21,
    "start_time": "2022-03-06T11:05:52.205Z"
   },
   {
    "duration": 50,
    "start_time": "2022-03-06T11:05:52.230Z"
   },
   {
    "duration": 9,
    "start_time": "2022-03-06T11:05:52.283Z"
   },
   {
    "duration": 10,
    "start_time": "2022-03-06T11:05:52.295Z"
   },
   {
    "duration": 172,
    "start_time": "2022-03-06T11:05:52.308Z"
   },
   {
    "duration": 68,
    "start_time": "2022-03-06T11:05:52.483Z"
   },
   {
    "duration": 60,
    "start_time": "2022-03-06T11:05:52.573Z"
   },
   {
    "duration": 11,
    "start_time": "2022-03-06T11:05:52.636Z"
   },
   {
    "duration": 13,
    "start_time": "2022-03-06T11:05:52.673Z"
   },
   {
    "duration": 246,
    "start_time": "2022-03-06T11:05:52.689Z"
   },
   {
    "duration": 84,
    "start_time": "2022-03-06T11:05:52.938Z"
   },
   {
    "duration": 61,
    "start_time": "2022-03-06T11:05:53.024Z"
   },
   {
    "duration": 43,
    "start_time": "2022-03-06T11:05:53.087Z"
   },
   {
    "duration": 79,
    "start_time": "2022-03-06T11:05:53.133Z"
   },
   {
    "duration": 64,
    "start_time": "2022-03-06T11:05:53.215Z"
   },
   {
    "duration": 52,
    "start_time": "2022-03-06T11:05:53.286Z"
   },
   {
    "duration": 67,
    "start_time": "2022-03-06T11:05:53.342Z"
   },
   {
    "duration": 197,
    "start_time": "2022-03-06T11:05:53.411Z"
   },
   {
    "duration": 164,
    "start_time": "2022-03-06T11:05:53.610Z"
   },
   {
    "duration": 210,
    "start_time": "2022-03-06T11:05:53.777Z"
   },
   {
    "duration": 13,
    "start_time": "2022-03-06T11:06:09.359Z"
   },
   {
    "duration": 20,
    "start_time": "2022-03-06T11:06:17.757Z"
   },
   {
    "duration": 5,
    "start_time": "2022-03-06T11:14:37.737Z"
   },
   {
    "duration": 257,
    "start_time": "2022-03-06T11:14:37.745Z"
   },
   {
    "duration": 233,
    "start_time": "2022-03-06T11:14:38.005Z"
   },
   {
    "duration": 146,
    "start_time": "2022-03-06T11:14:38.240Z"
   },
   {
    "duration": 21,
    "start_time": "2022-03-06T11:14:38.389Z"
   },
   {
    "duration": 46,
    "start_time": "2022-03-06T11:14:38.413Z"
   },
   {
    "duration": 34,
    "start_time": "2022-03-06T11:14:38.461Z"
   },
   {
    "duration": 22,
    "start_time": "2022-03-06T11:14:38.499Z"
   },
   {
    "duration": 49,
    "start_time": "2022-03-06T11:14:38.524Z"
   },
   {
    "duration": 8,
    "start_time": "2022-03-06T11:14:38.576Z"
   },
   {
    "duration": 8,
    "start_time": "2022-03-06T11:14:38.587Z"
   },
   {
    "duration": 147,
    "start_time": "2022-03-06T11:14:38.598Z"
   },
   {
    "duration": 78,
    "start_time": "2022-03-06T11:14:38.747Z"
   },
   {
    "duration": 75,
    "start_time": "2022-03-06T11:14:38.827Z"
   },
   {
    "duration": 9,
    "start_time": "2022-03-06T11:14:38.904Z"
   },
   {
    "duration": 9,
    "start_time": "2022-03-06T11:14:38.915Z"
   },
   {
    "duration": 257,
    "start_time": "2022-03-06T11:14:38.927Z"
   },
   {
    "duration": 70,
    "start_time": "2022-03-06T11:14:39.186Z"
   },
   {
    "duration": 66,
    "start_time": "2022-03-06T11:14:39.258Z"
   },
   {
    "duration": 60,
    "start_time": "2022-03-06T11:14:39.326Z"
   },
   {
    "duration": 52,
    "start_time": "2022-03-06T11:14:39.388Z"
   },
   {
    "duration": 66,
    "start_time": "2022-03-06T11:14:39.443Z"
   },
   {
    "duration": 64,
    "start_time": "2022-03-06T11:14:39.514Z"
   },
   {
    "duration": 44,
    "start_time": "2022-03-06T11:14:39.580Z"
   },
   {
    "duration": 199,
    "start_time": "2022-03-06T11:14:39.626Z"
   },
   {
    "duration": 165,
    "start_time": "2022-03-06T11:14:39.827Z"
   },
   {
    "duration": 189,
    "start_time": "2022-03-06T11:14:39.994Z"
   },
   {
    "duration": 37,
    "start_time": "2022-03-06T11:15:06.162Z"
   },
   {
    "duration": 4,
    "start_time": "2022-03-06T11:17:33.056Z"
   },
   {
    "duration": 260,
    "start_time": "2022-03-06T11:17:33.063Z"
   },
   {
    "duration": 229,
    "start_time": "2022-03-06T11:17:33.326Z"
   },
   {
    "duration": 149,
    "start_time": "2022-03-06T11:17:33.557Z"
   },
   {
    "duration": 22,
    "start_time": "2022-03-06T11:17:33.708Z"
   },
   {
    "duration": 59,
    "start_time": "2022-03-06T11:17:33.732Z"
   },
   {
    "duration": 31,
    "start_time": "2022-03-06T11:17:33.795Z"
   },
   {
    "duration": 50,
    "start_time": "2022-03-06T11:17:33.829Z"
   },
   {
    "duration": 22,
    "start_time": "2022-03-06T11:17:33.882Z"
   },
   {
    "duration": 8,
    "start_time": "2022-03-06T11:17:33.907Z"
   },
   {
    "duration": 18,
    "start_time": "2022-03-06T11:17:33.918Z"
   },
   {
    "duration": 166,
    "start_time": "2022-03-06T11:17:33.939Z"
   },
   {
    "duration": 88,
    "start_time": "2022-03-06T11:17:34.109Z"
   },
   {
    "duration": 76,
    "start_time": "2022-03-06T11:17:34.200Z"
   },
   {
    "duration": 10,
    "start_time": "2022-03-06T11:17:34.280Z"
   },
   {
    "duration": 36,
    "start_time": "2022-03-06T11:17:34.293Z"
   },
   {
    "duration": 242,
    "start_time": "2022-03-06T11:17:34.332Z"
   },
   {
    "duration": 67,
    "start_time": "2022-03-06T11:17:34.576Z"
   },
   {
    "duration": 74,
    "start_time": "2022-03-06T11:17:34.649Z"
   },
   {
    "duration": 61,
    "start_time": "2022-03-06T11:17:34.726Z"
   },
   {
    "duration": 53,
    "start_time": "2022-03-06T11:17:34.789Z"
   },
   {
    "duration": 64,
    "start_time": "2022-03-06T11:17:34.844Z"
   },
   {
    "duration": 70,
    "start_time": "2022-03-06T11:17:34.911Z"
   },
   {
    "duration": 44,
    "start_time": "2022-03-06T11:17:34.983Z"
   },
   {
    "duration": 30,
    "start_time": "2022-03-06T11:17:37.129Z"
   },
   {
    "duration": 14,
    "start_time": "2022-03-06T11:18:29.282Z"
   },
   {
    "duration": 29,
    "start_time": "2022-03-06T11:18:33.273Z"
   },
   {
    "duration": 24,
    "start_time": "2022-03-06T11:19:06.771Z"
   },
   {
    "duration": 41,
    "start_time": "2022-03-06T11:19:11.476Z"
   },
   {
    "duration": 19,
    "start_time": "2022-03-06T11:21:21.743Z"
   },
   {
    "duration": 11,
    "start_time": "2022-03-06T11:21:38.672Z"
   },
   {
    "duration": 37,
    "start_time": "2022-03-06T11:21:42.856Z"
   },
   {
    "duration": 251,
    "start_time": "2022-03-06T11:29:04.798Z"
   },
   {
    "duration": 423,
    "start_time": "2022-03-06T11:29:08.461Z"
   },
   {
    "duration": 463,
    "start_time": "2022-03-06T11:30:14.271Z"
   },
   {
    "duration": 41,
    "start_time": "2022-03-06T11:30:36.805Z"
   },
   {
    "duration": 37,
    "start_time": "2022-03-06T11:30:45.013Z"
   },
   {
    "duration": 408,
    "start_time": "2022-03-06T11:30:47.116Z"
   },
   {
    "duration": 469,
    "start_time": "2022-03-06T11:31:12.709Z"
   },
   {
    "duration": 468,
    "start_time": "2022-03-06T11:32:31.060Z"
   },
   {
    "duration": 161,
    "start_time": "2022-03-06T11:32:51.044Z"
   },
   {
    "duration": 32,
    "start_time": "2022-03-06T11:32:59.275Z"
   },
   {
    "duration": 163,
    "start_time": "2022-03-06T11:33:43.029Z"
   },
   {
    "duration": 182,
    "start_time": "2022-03-06T11:33:48.187Z"
   },
   {
    "duration": 182,
    "start_time": "2022-03-06T11:34:24.124Z"
   },
   {
    "duration": 161,
    "start_time": "2022-03-06T11:35:19.387Z"
   },
   {
    "duration": 189,
    "start_time": "2022-03-06T11:35:20.395Z"
   },
   {
    "duration": 4,
    "start_time": "2022-03-06T11:35:26.688Z"
   },
   {
    "duration": 242,
    "start_time": "2022-03-06T11:35:26.694Z"
   },
   {
    "duration": 217,
    "start_time": "2022-03-06T11:35:26.939Z"
   },
   {
    "duration": 145,
    "start_time": "2022-03-06T11:35:27.159Z"
   },
   {
    "duration": 20,
    "start_time": "2022-03-06T11:35:27.306Z"
   },
   {
    "duration": 60,
    "start_time": "2022-03-06T11:35:27.328Z"
   },
   {
    "duration": 27,
    "start_time": "2022-03-06T11:35:27.392Z"
   },
   {
    "duration": 21,
    "start_time": "2022-03-06T11:35:27.422Z"
   },
   {
    "duration": 42,
    "start_time": "2022-03-06T11:35:27.446Z"
   },
   {
    "duration": 8,
    "start_time": "2022-03-06T11:35:27.490Z"
   },
   {
    "duration": 15,
    "start_time": "2022-03-06T11:35:27.500Z"
   },
   {
    "duration": 132,
    "start_time": "2022-03-06T11:35:27.518Z"
   },
   {
    "duration": 81,
    "start_time": "2022-03-06T11:35:27.653Z"
   },
   {
    "duration": 77,
    "start_time": "2022-03-06T11:35:27.737Z"
   },
   {
    "duration": 10,
    "start_time": "2022-03-06T11:35:27.817Z"
   },
   {
    "duration": 20,
    "start_time": "2022-03-06T11:35:27.830Z"
   },
   {
    "duration": 269,
    "start_time": "2022-03-06T11:35:27.853Z"
   },
   {
    "duration": 83,
    "start_time": "2022-03-06T11:35:28.125Z"
   },
   {
    "duration": 61,
    "start_time": "2022-03-06T11:35:28.212Z"
   },
   {
    "duration": 43,
    "start_time": "2022-03-06T11:35:28.276Z"
   },
   {
    "duration": 68,
    "start_time": "2022-03-06T11:35:28.321Z"
   },
   {
    "duration": 46,
    "start_time": "2022-03-06T11:35:28.392Z"
   },
   {
    "duration": 73,
    "start_time": "2022-03-06T11:35:28.440Z"
   },
   {
    "duration": 58,
    "start_time": "2022-03-06T11:35:28.515Z"
   },
   {
    "duration": 3,
    "start_time": "2022-03-06T11:35:28.575Z"
   },
   {
    "duration": 49,
    "start_time": "2022-03-06T11:35:28.580Z"
   },
   {
    "duration": 53,
    "start_time": "2022-03-06T11:35:28.631Z"
   },
   {
    "duration": 175,
    "start_time": "2022-03-06T11:35:28.687Z"
   },
   {
    "duration": 179,
    "start_time": "2022-03-06T11:35:31.226Z"
   },
   {
    "duration": 164,
    "start_time": "2022-03-06T11:37:00.211Z"
   },
   {
    "duration": 4,
    "start_time": "2022-03-06T11:37:06.464Z"
   },
   {
    "duration": 249,
    "start_time": "2022-03-06T11:37:06.470Z"
   },
   {
    "duration": 326,
    "start_time": "2022-03-06T11:37:06.722Z"
   },
   {
    "duration": 143,
    "start_time": "2022-03-06T11:37:07.051Z"
   },
   {
    "duration": 21,
    "start_time": "2022-03-06T11:37:07.197Z"
   },
   {
    "duration": 55,
    "start_time": "2022-03-06T11:37:07.221Z"
   },
   {
    "duration": 26,
    "start_time": "2022-03-06T11:37:07.279Z"
   },
   {
    "duration": 22,
    "start_time": "2022-03-06T11:37:07.307Z"
   },
   {
    "duration": 47,
    "start_time": "2022-03-06T11:37:07.332Z"
   },
   {
    "duration": 7,
    "start_time": "2022-03-06T11:37:07.382Z"
   },
   {
    "duration": 8,
    "start_time": "2022-03-06T11:37:07.392Z"
   },
   {
    "duration": 149,
    "start_time": "2022-03-06T11:37:07.402Z"
   },
   {
    "duration": 75,
    "start_time": "2022-03-06T11:37:07.553Z"
   },
   {
    "duration": 76,
    "start_time": "2022-03-06T11:37:07.630Z"
   },
   {
    "duration": 8,
    "start_time": "2022-03-06T11:37:07.708Z"
   },
   {
    "duration": 11,
    "start_time": "2022-03-06T11:37:07.719Z"
   },
   {
    "duration": 251,
    "start_time": "2022-03-06T11:37:07.733Z"
   },
   {
    "duration": 70,
    "start_time": "2022-03-06T11:37:07.986Z"
   },
   {
    "duration": 64,
    "start_time": "2022-03-06T11:37:08.061Z"
   },
   {
    "duration": 66,
    "start_time": "2022-03-06T11:37:08.128Z"
   },
   {
    "duration": 51,
    "start_time": "2022-03-06T11:37:08.196Z"
   },
   {
    "duration": 57,
    "start_time": "2022-03-06T11:37:08.249Z"
   },
   {
    "duration": 71,
    "start_time": "2022-03-06T11:37:08.309Z"
   },
   {
    "duration": 42,
    "start_time": "2022-03-06T11:37:08.383Z"
   },
   {
    "duration": 3,
    "start_time": "2022-03-06T11:37:08.427Z"
   },
   {
    "duration": 67,
    "start_time": "2022-03-06T11:37:08.432Z"
   },
   {
    "duration": 33,
    "start_time": "2022-03-06T11:37:08.501Z"
   },
   {
    "duration": 186,
    "start_time": "2022-03-06T11:37:08.536Z"
   },
   {
    "duration": 169,
    "start_time": "2022-03-06T11:37:08.724Z"
   },
   {
    "duration": 186,
    "start_time": "2022-03-06T11:37:08.895Z"
   },
   {
    "duration": 34,
    "start_time": "2022-03-06T11:37:11.530Z"
   },
   {
    "duration": 10,
    "start_time": "2022-03-06T11:37:44.163Z"
   },
   {
    "duration": 30,
    "start_time": "2022-03-06T11:37:51.554Z"
   },
   {
    "duration": 31,
    "start_time": "2022-03-06T11:38:01.410Z"
   },
   {
    "duration": 553,
    "start_time": "2022-03-06T11:38:27.842Z"
   },
   {
    "duration": 8,
    "start_time": "2022-03-06T11:38:44.929Z"
   },
   {
    "duration": 14,
    "start_time": "2022-03-06T11:38:45.577Z"
   },
   {
    "duration": 521,
    "start_time": "2022-03-06T11:38:52.488Z"
   },
   {
    "duration": 20,
    "start_time": "2022-03-06T11:38:55.377Z"
   },
   {
    "duration": 556,
    "start_time": "2022-03-06T11:38:57.481Z"
   },
   {
    "duration": 6051,
    "start_time": "2022-03-06T11:39:24.201Z"
   },
   {
    "duration": 9,
    "start_time": "2022-03-06T11:39:58.154Z"
   },
   {
    "duration": 15,
    "start_time": "2022-03-06T11:45:03.854Z"
   },
   {
    "duration": 247,
    "start_time": "2022-03-06T11:45:10.766Z"
   },
   {
    "duration": 32,
    "start_time": "2022-03-06T11:45:49.415Z"
   },
   {
    "duration": 9,
    "start_time": "2022-03-06T11:46:05.726Z"
   },
   {
    "duration": 34,
    "start_time": "2022-03-06T11:46:10.590Z"
   },
   {
    "duration": 39,
    "start_time": "2022-03-06T11:46:14.967Z"
   },
   {
    "duration": 8,
    "start_time": "2022-03-06T11:46:22.007Z"
   },
   {
    "duration": 35,
    "start_time": "2022-03-06T11:47:00.432Z"
   },
   {
    "duration": 8106,
    "start_time": "2022-03-06T11:47:54.486Z"
   },
   {
    "duration": 253,
    "start_time": "2022-03-06T11:48:04.375Z"
   },
   {
    "duration": 7,
    "start_time": "2022-03-06T11:48:14.589Z"
   },
   {
    "duration": 7,
    "start_time": "2022-03-06T11:49:22.062Z"
   },
   {
    "duration": 355,
    "start_time": "2022-03-06T11:51:03.004Z"
   },
   {
    "duration": 7,
    "start_time": "2022-03-06T11:51:30.052Z"
   },
   {
    "duration": 8,
    "start_time": "2022-03-06T11:52:49.012Z"
   },
   {
    "duration": 6,
    "start_time": "2022-03-06T11:57:29.387Z"
   },
   {
    "duration": 8,
    "start_time": "2022-03-06T11:57:38.859Z"
   },
   {
    "duration": 260,
    "start_time": "2022-03-06T11:58:19.786Z"
   },
   {
    "duration": 9,
    "start_time": "2022-03-06T11:58:33.114Z"
   },
   {
    "duration": 248,
    "start_time": "2022-03-06T12:00:30.169Z"
   },
   {
    "duration": 8,
    "start_time": "2022-03-06T12:01:04.673Z"
   },
   {
    "duration": 7,
    "start_time": "2022-03-06T12:01:49.656Z"
   },
   {
    "duration": 7,
    "start_time": "2022-03-06T12:01:56.136Z"
   },
   {
    "duration": 6,
    "start_time": "2022-03-06T12:01:58.578Z"
   },
   {
    "duration": 6,
    "start_time": "2022-03-06T12:02:02.370Z"
   },
   {
    "duration": 8,
    "start_time": "2022-03-06T12:04:40.055Z"
   },
   {
    "duration": 7,
    "start_time": "2022-03-06T12:04:40.671Z"
   },
   {
    "duration": 6,
    "start_time": "2022-03-06T12:04:42.319Z"
   },
   {
    "duration": 92,
    "start_time": "2022-03-06T12:05:29.279Z"
   },
   {
    "duration": 4,
    "start_time": "2022-03-06T12:09:55.819Z"
   },
   {
    "duration": 261,
    "start_time": "2022-03-06T12:09:55.826Z"
   },
   {
    "duration": 220,
    "start_time": "2022-03-06T12:09:56.091Z"
   },
   {
    "duration": 146,
    "start_time": "2022-03-06T12:09:56.313Z"
   },
   {
    "duration": 20,
    "start_time": "2022-03-06T12:09:56.473Z"
   },
   {
    "duration": 46,
    "start_time": "2022-03-06T12:09:56.495Z"
   },
   {
    "duration": 44,
    "start_time": "2022-03-06T12:09:56.543Z"
   },
   {
    "duration": 21,
    "start_time": "2022-03-06T12:09:56.591Z"
   },
   {
    "duration": 18,
    "start_time": "2022-03-06T12:09:56.616Z"
   },
   {
    "duration": 43,
    "start_time": "2022-03-06T12:09:56.637Z"
   },
   {
    "duration": 13,
    "start_time": "2022-03-06T12:09:56.683Z"
   },
   {
    "duration": 160,
    "start_time": "2022-03-06T12:09:56.698Z"
   },
   {
    "duration": 72,
    "start_time": "2022-03-06T12:09:56.860Z"
   },
   {
    "duration": 83,
    "start_time": "2022-03-06T12:09:56.935Z"
   },
   {
    "duration": 9,
    "start_time": "2022-03-06T12:09:57.020Z"
   },
   {
    "duration": 11,
    "start_time": "2022-03-06T12:09:57.031Z"
   },
   {
    "duration": 265,
    "start_time": "2022-03-06T12:09:57.045Z"
   },
   {
    "duration": 97,
    "start_time": "2022-03-06T12:09:57.312Z"
   },
   {
    "duration": 104,
    "start_time": "2022-03-06T12:09:57.411Z"
   },
   {
    "duration": 96,
    "start_time": "2022-03-06T12:09:57.518Z"
   },
   {
    "duration": 156,
    "start_time": "2022-03-06T12:09:57.617Z"
   },
   {
    "duration": 102,
    "start_time": "2022-03-06T12:09:57.776Z"
   },
   {
    "duration": 112,
    "start_time": "2022-03-06T12:09:57.883Z"
   },
   {
    "duration": 108,
    "start_time": "2022-03-06T12:09:57.998Z"
   },
   {
    "duration": 164,
    "start_time": "2022-03-06T12:09:58.109Z"
   },
   {
    "duration": 43,
    "start_time": "2022-03-06T12:09:58.277Z"
   },
   {
    "duration": 225,
    "start_time": "2022-03-06T12:09:58.323Z"
   },
   {
    "duration": 178,
    "start_time": "2022-03-06T12:09:58.551Z"
   },
   {
    "duration": 187,
    "start_time": "2022-03-06T12:09:58.731Z"
   },
   {
    "duration": 57,
    "start_time": "2022-03-06T12:09:58.921Z"
   },
   {
    "duration": 15,
    "start_time": "2022-03-06T12:09:58.981Z"
   },
   {
    "duration": 566,
    "start_time": "2022-03-06T12:09:58.998Z"
   },
   {
    "duration": 9,
    "start_time": "2022-03-06T12:09:59.574Z"
   },
   {
    "duration": 24,
    "start_time": "2022-03-06T12:09:59.586Z"
   },
   {
    "duration": 549,
    "start_time": "2022-03-06T12:09:59.612Z"
   },
   {
    "duration": 23,
    "start_time": "2022-03-06T12:10:00.164Z"
   },
   {
    "duration": 648,
    "start_time": "2022-03-06T12:10:00.189Z"
   },
   {
    "duration": 34,
    "start_time": "2022-03-06T12:10:00.839Z"
   },
   {
    "duration": 7,
    "start_time": "2022-03-06T12:10:00.876Z"
   },
   {
    "duration": 68,
    "start_time": "2022-03-06T12:10:00.885Z"
   },
   {
    "duration": 8,
    "start_time": "2022-03-06T12:10:00.955Z"
   },
   {
    "duration": 13,
    "start_time": "2022-03-06T12:10:00.974Z"
   },
   {
    "duration": 266,
    "start_time": "2022-03-06T12:17:06.420Z"
   },
   {
    "duration": 7,
    "start_time": "2022-03-06T12:17:22.179Z"
   },
   {
    "duration": 6,
    "start_time": "2022-03-06T12:17:48.475Z"
   },
   {
    "duration": 7,
    "start_time": "2022-03-06T12:27:06.126Z"
   },
   {
    "duration": 5,
    "start_time": "2022-03-06T12:27:38.486Z"
   },
   {
    "duration": 6,
    "start_time": "2022-03-06T12:28:26.310Z"
   },
   {
    "duration": 9,
    "start_time": "2022-03-06T12:28:34.934Z"
   },
   {
    "duration": 4,
    "start_time": "2022-03-06T12:33:13.899Z"
   },
   {
    "duration": 253,
    "start_time": "2022-03-06T12:33:13.906Z"
   },
   {
    "duration": 222,
    "start_time": "2022-03-06T12:33:14.162Z"
   },
   {
    "duration": 142,
    "start_time": "2022-03-06T12:33:14.387Z"
   },
   {
    "duration": 41,
    "start_time": "2022-03-06T12:33:14.532Z"
   },
   {
    "duration": 43,
    "start_time": "2022-03-06T12:33:14.576Z"
   },
   {
    "duration": 55,
    "start_time": "2022-03-06T12:33:14.622Z"
   },
   {
    "duration": 22,
    "start_time": "2022-03-06T12:33:14.680Z"
   },
   {
    "duration": 19,
    "start_time": "2022-03-06T12:33:14.704Z"
   },
   {
    "duration": 55,
    "start_time": "2022-03-06T12:33:14.725Z"
   },
   {
    "duration": 9,
    "start_time": "2022-03-06T12:33:14.782Z"
   },
   {
    "duration": 112,
    "start_time": "2022-03-06T12:33:14.793Z"
   },
   {
    "duration": 74,
    "start_time": "2022-03-06T12:33:14.908Z"
   },
   {
    "duration": 62,
    "start_time": "2022-03-06T12:33:14.984Z"
   },
   {
    "duration": 9,
    "start_time": "2022-03-06T12:33:15.048Z"
   },
   {
    "duration": 22,
    "start_time": "2022-03-06T12:33:15.059Z"
   },
   {
    "duration": 219,
    "start_time": "2022-03-06T12:33:15.084Z"
   },
   {
    "duration": 76,
    "start_time": "2022-03-06T12:33:15.306Z"
   },
   {
    "duration": 49,
    "start_time": "2022-03-06T12:33:15.387Z"
   },
   {
    "duration": 47,
    "start_time": "2022-03-06T12:33:15.439Z"
   },
   {
    "duration": 48,
    "start_time": "2022-03-06T12:33:15.489Z"
   },
   {
    "duration": 49,
    "start_time": "2022-03-06T12:33:15.540Z"
   },
   {
    "duration": 50,
    "start_time": "2022-03-06T12:33:15.591Z"
   },
   {
    "duration": 50,
    "start_time": "2022-03-06T12:33:15.643Z"
   },
   {
    "duration": 41,
    "start_time": "2022-03-06T12:33:15.696Z"
   },
   {
    "duration": 35,
    "start_time": "2022-03-06T12:33:15.739Z"
   },
   {
    "duration": 240,
    "start_time": "2022-03-06T12:33:15.777Z"
   },
   {
    "duration": 228,
    "start_time": "2022-03-06T12:33:16.072Z"
   },
   {
    "duration": 282,
    "start_time": "2022-03-06T12:33:16.302Z"
   },
   {
    "duration": 89,
    "start_time": "2022-03-06T12:33:16.586Z"
   },
   {
    "duration": 9,
    "start_time": "2022-03-06T12:33:16.678Z"
   },
   {
    "duration": 655,
    "start_time": "2022-03-06T12:33:16.689Z"
   },
   {
    "duration": 7,
    "start_time": "2022-03-06T12:33:17.347Z"
   },
   {
    "duration": 44,
    "start_time": "2022-03-06T12:33:17.357Z"
   },
   {
    "duration": 531,
    "start_time": "2022-03-06T12:33:17.404Z"
   },
   {
    "duration": 18,
    "start_time": "2022-03-06T12:33:17.937Z"
   },
   {
    "duration": 640,
    "start_time": "2022-03-06T12:33:17.973Z"
   },
   {
    "duration": 17,
    "start_time": "2022-03-06T12:33:18.616Z"
   },
   {
    "duration": 44,
    "start_time": "2022-03-06T12:33:18.636Z"
   },
   {
    "duration": 55,
    "start_time": "2022-03-06T12:33:18.682Z"
   },
   {
    "duration": 9,
    "start_time": "2022-03-06T12:33:18.739Z"
   },
   {
    "duration": 8,
    "start_time": "2022-03-06T12:33:21.435Z"
   },
   {
    "duration": 9,
    "start_time": "2022-03-06T12:40:38.319Z"
   },
   {
    "duration": 8,
    "start_time": "2022-03-06T12:40:44.241Z"
   },
   {
    "duration": 1388,
    "start_time": "2022-03-06T17:14:00.405Z"
   },
   {
    "duration": 256,
    "start_time": "2022-03-06T17:14:01.796Z"
   },
   {
    "duration": 214,
    "start_time": "2022-03-06T17:14:02.055Z"
   },
   {
    "duration": 147,
    "start_time": "2022-03-06T17:14:02.271Z"
   },
   {
    "duration": 27,
    "start_time": "2022-03-06T17:14:02.421Z"
   },
   {
    "duration": 71,
    "start_time": "2022-03-06T17:14:02.451Z"
   },
   {
    "duration": 29,
    "start_time": "2022-03-06T17:14:02.525Z"
   },
   {
    "duration": 24,
    "start_time": "2022-03-06T17:14:02.557Z"
   },
   {
    "duration": 50,
    "start_time": "2022-03-06T17:14:02.585Z"
   },
   {
    "duration": 8,
    "start_time": "2022-03-06T17:14:02.638Z"
   },
   {
    "duration": 9,
    "start_time": "2022-03-06T17:14:02.648Z"
   },
   {
    "duration": 156,
    "start_time": "2022-03-06T17:14:02.659Z"
   },
   {
    "duration": 75,
    "start_time": "2022-03-06T17:14:02.817Z"
   },
   {
    "duration": 88,
    "start_time": "2022-03-06T17:14:02.894Z"
   },
   {
    "duration": 9,
    "start_time": "2022-03-06T17:14:02.984Z"
   },
   {
    "duration": 12,
    "start_time": "2022-03-06T17:14:02.996Z"
   },
   {
    "duration": 247,
    "start_time": "2022-03-06T17:14:03.011Z"
   },
   {
    "duration": 78,
    "start_time": "2022-03-06T17:14:03.261Z"
   },
   {
    "duration": 50,
    "start_time": "2022-03-06T17:14:03.341Z"
   },
   {
    "duration": 60,
    "start_time": "2022-03-06T17:14:03.394Z"
   },
   {
    "duration": 56,
    "start_time": "2022-03-06T17:14:03.456Z"
   },
   {
    "duration": 59,
    "start_time": "2022-03-06T17:14:03.515Z"
   },
   {
    "duration": 77,
    "start_time": "2022-03-06T17:14:03.576Z"
   },
   {
    "duration": 39,
    "start_time": "2022-03-06T17:14:03.655Z"
   },
   {
    "duration": 55,
    "start_time": "2022-03-06T17:14:03.696Z"
   },
   {
    "duration": 30,
    "start_time": "2022-03-06T17:14:03.754Z"
   },
   {
    "duration": 181,
    "start_time": "2022-03-06T17:14:03.788Z"
   },
   {
    "duration": 167,
    "start_time": "2022-03-06T17:14:03.972Z"
   },
   {
    "duration": 183,
    "start_time": "2022-03-06T17:14:04.141Z"
   },
   {
    "duration": 32,
    "start_time": "2022-03-06T17:14:04.328Z"
   },
   {
    "duration": 9,
    "start_time": "2022-03-06T17:14:04.362Z"
   },
   {
    "duration": 534,
    "start_time": "2022-03-06T17:14:04.374Z"
   },
   {
    "duration": 20,
    "start_time": "2022-03-06T17:14:04.912Z"
   },
   {
    "duration": 15,
    "start_time": "2022-03-06T17:14:04.935Z"
   },
   {
    "duration": 532,
    "start_time": "2022-03-06T17:14:04.953Z"
   },
   {
    "duration": 18,
    "start_time": "2022-03-06T17:14:05.487Z"
   },
   {
    "duration": 524,
    "start_time": "2022-03-06T17:14:05.508Z"
   },
   {
    "duration": 18,
    "start_time": "2022-03-06T17:14:06.035Z"
   },
   {
    "duration": 9,
    "start_time": "2022-03-06T17:14:06.056Z"
   },
   {
    "duration": 10,
    "start_time": "2022-03-06T17:14:06.068Z"
   },
   {
    "duration": 52,
    "start_time": "2022-03-06T17:14:06.081Z"
   },
   {
    "duration": 7,
    "start_time": "2022-03-06T17:14:18.871Z"
   }
  ],
  "kernelspec": {
   "display_name": "Python 3 (ipykernel)",
   "language": "python",
   "name": "python3"
  },
  "language_info": {
   "codemirror_mode": {
    "name": "ipython",
    "version": 3
   },
   "file_extension": ".py",
   "mimetype": "text/x-python",
   "name": "python",
   "nbconvert_exporter": "python",
   "pygments_lexer": "ipython3",
   "version": "3.7.8"
  },
  "toc": {
   "base_numbering": 1,
   "nav_menu": {},
   "number_sections": true,
   "sideBar": true,
   "skip_h1_title": true,
   "title_cell": "Table of Contents",
   "title_sidebar": "Contents",
   "toc_cell": false,
   "toc_position": {
    "height": "calc(100% - 180px)",
    "left": "10px",
    "top": "150px",
    "width": "196px"
   },
   "toc_section_display": true,
   "toc_window_display": true
  }
 },
 "nbformat": 4,
 "nbformat_minor": 2
}
