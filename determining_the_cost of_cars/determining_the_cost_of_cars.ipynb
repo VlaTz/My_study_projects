{
 "cells": [
  {
   "cell_type": "markdown",
   "metadata": {},
   "source": [
    "## Подготовка данных"
   ]
  },
  {
   "cell_type": "code",
   "execution_count": 2,
   "metadata": {},
   "outputs": [],
   "source": [
    "import pandas as pd\n",
    "import seaborn\n",
    "import matplotlib.pyplot as plt\n",
    "\n",
    "from sklearn.model_selection import train_test_split\n",
    "from numpy.random import RandomState\n",
    "from sklearn.preprocessing import StandardScaler, OrdinalEncoder, OneHotEncoder\n",
    "\n",
    "from sklearn.linear_model import LinearRegression\n",
    "from sklearn.tree import DecisionTreeRegressor\n",
    "from sklearn.ensemble import RandomForestRegressor\n",
    "\n",
    "from catboost import CatBoostRegressor\n",
    "from lightgbm import LGBMRegressor\n",
    "\n",
    "from sklearn.metrics import mean_squared_error\n",
    "from sklearn.model_selection import cross_val_score, cross_validate\n",
    "from sklearn.model_selection import GridSearchCV"
   ]
  },
  {
   "cell_type": "code",
   "execution_count": 3,
   "metadata": {},
   "outputs": [
    {
     "data": {
      "text/html": [
       "<div>\n",
       "<style scoped>\n",
       "    .dataframe tbody tr th:only-of-type {\n",
       "        vertical-align: middle;\n",
       "    }\n",
       "\n",
       "    .dataframe tbody tr th {\n",
       "        vertical-align: top;\n",
       "    }\n",
       "\n",
       "    .dataframe thead th {\n",
       "        text-align: right;\n",
       "    }\n",
       "</style>\n",
       "<table border=\"1\" class=\"dataframe\">\n",
       "  <thead>\n",
       "    <tr style=\"text-align: right;\">\n",
       "      <th></th>\n",
       "      <th>DateCrawled</th>\n",
       "      <th>Price</th>\n",
       "      <th>VehicleType</th>\n",
       "      <th>RegistrationYear</th>\n",
       "      <th>Gearbox</th>\n",
       "      <th>Power</th>\n",
       "      <th>Model</th>\n",
       "      <th>Kilometer</th>\n",
       "      <th>RegistrationMonth</th>\n",
       "      <th>FuelType</th>\n",
       "      <th>Brand</th>\n",
       "      <th>NotRepaired</th>\n",
       "      <th>DateCreated</th>\n",
       "      <th>NumberOfPictures</th>\n",
       "      <th>PostalCode</th>\n",
       "      <th>LastSeen</th>\n",
       "    </tr>\n",
       "  </thead>\n",
       "  <tbody>\n",
       "    <tr>\n",
       "      <th>0</th>\n",
       "      <td>2016-03-24 11:52:17</td>\n",
       "      <td>480</td>\n",
       "      <td>NaN</td>\n",
       "      <td>1993</td>\n",
       "      <td>manual</td>\n",
       "      <td>0</td>\n",
       "      <td>golf</td>\n",
       "      <td>150000</td>\n",
       "      <td>0</td>\n",
       "      <td>petrol</td>\n",
       "      <td>volkswagen</td>\n",
       "      <td>NaN</td>\n",
       "      <td>2016-03-24 00:00:00</td>\n",
       "      <td>0</td>\n",
       "      <td>70435</td>\n",
       "      <td>2016-04-07 03:16:57</td>\n",
       "    </tr>\n",
       "    <tr>\n",
       "      <th>1</th>\n",
       "      <td>2016-03-24 10:58:45</td>\n",
       "      <td>18300</td>\n",
       "      <td>coupe</td>\n",
       "      <td>2011</td>\n",
       "      <td>manual</td>\n",
       "      <td>190</td>\n",
       "      <td>NaN</td>\n",
       "      <td>125000</td>\n",
       "      <td>5</td>\n",
       "      <td>gasoline</td>\n",
       "      <td>audi</td>\n",
       "      <td>yes</td>\n",
       "      <td>2016-03-24 00:00:00</td>\n",
       "      <td>0</td>\n",
       "      <td>66954</td>\n",
       "      <td>2016-04-07 01:46:50</td>\n",
       "    </tr>\n",
       "    <tr>\n",
       "      <th>2</th>\n",
       "      <td>2016-03-14 12:52:21</td>\n",
       "      <td>9800</td>\n",
       "      <td>suv</td>\n",
       "      <td>2004</td>\n",
       "      <td>auto</td>\n",
       "      <td>163</td>\n",
       "      <td>grand</td>\n",
       "      <td>125000</td>\n",
       "      <td>8</td>\n",
       "      <td>gasoline</td>\n",
       "      <td>jeep</td>\n",
       "      <td>NaN</td>\n",
       "      <td>2016-03-14 00:00:00</td>\n",
       "      <td>0</td>\n",
       "      <td>90480</td>\n",
       "      <td>2016-04-05 12:47:46</td>\n",
       "    </tr>\n",
       "    <tr>\n",
       "      <th>3</th>\n",
       "      <td>2016-03-17 16:54:04</td>\n",
       "      <td>1500</td>\n",
       "      <td>small</td>\n",
       "      <td>2001</td>\n",
       "      <td>manual</td>\n",
       "      <td>75</td>\n",
       "      <td>golf</td>\n",
       "      <td>150000</td>\n",
       "      <td>6</td>\n",
       "      <td>petrol</td>\n",
       "      <td>volkswagen</td>\n",
       "      <td>no</td>\n",
       "      <td>2016-03-17 00:00:00</td>\n",
       "      <td>0</td>\n",
       "      <td>91074</td>\n",
       "      <td>2016-03-17 17:40:17</td>\n",
       "    </tr>\n",
       "    <tr>\n",
       "      <th>4</th>\n",
       "      <td>2016-03-31 17:25:20</td>\n",
       "      <td>3600</td>\n",
       "      <td>small</td>\n",
       "      <td>2008</td>\n",
       "      <td>manual</td>\n",
       "      <td>69</td>\n",
       "      <td>fabia</td>\n",
       "      <td>90000</td>\n",
       "      <td>7</td>\n",
       "      <td>gasoline</td>\n",
       "      <td>skoda</td>\n",
       "      <td>no</td>\n",
       "      <td>2016-03-31 00:00:00</td>\n",
       "      <td>0</td>\n",
       "      <td>60437</td>\n",
       "      <td>2016-04-06 10:17:21</td>\n",
       "    </tr>\n",
       "  </tbody>\n",
       "</table>\n",
       "</div>"
      ],
      "text/plain": [
       "           DateCrawled  Price VehicleType  RegistrationYear Gearbox  Power  \\\n",
       "0  2016-03-24 11:52:17    480         NaN              1993  manual      0   \n",
       "1  2016-03-24 10:58:45  18300       coupe              2011  manual    190   \n",
       "2  2016-03-14 12:52:21   9800         suv              2004    auto    163   \n",
       "3  2016-03-17 16:54:04   1500       small              2001  manual     75   \n",
       "4  2016-03-31 17:25:20   3600       small              2008  manual     69   \n",
       "\n",
       "   Model  Kilometer  RegistrationMonth  FuelType       Brand NotRepaired  \\\n",
       "0   golf     150000                  0    petrol  volkswagen         NaN   \n",
       "1    NaN     125000                  5  gasoline        audi         yes   \n",
       "2  grand     125000                  8  gasoline        jeep         NaN   \n",
       "3   golf     150000                  6    petrol  volkswagen          no   \n",
       "4  fabia      90000                  7  gasoline       skoda          no   \n",
       "\n",
       "           DateCreated  NumberOfPictures  PostalCode             LastSeen  \n",
       "0  2016-03-24 00:00:00                 0       70435  2016-04-07 03:16:57  \n",
       "1  2016-03-24 00:00:00                 0       66954  2016-04-07 01:46:50  \n",
       "2  2016-03-14 00:00:00                 0       90480  2016-04-05 12:47:46  \n",
       "3  2016-03-17 00:00:00                 0       91074  2016-03-17 17:40:17  \n",
       "4  2016-03-31 00:00:00                 0       60437  2016-04-06 10:17:21  "
      ]
     },
     "metadata": {},
     "output_type": "display_data"
    },
    {
     "name": "stdout",
     "output_type": "stream",
     "text": [
      "<class 'pandas.core.frame.DataFrame'>\n",
      "RangeIndex: 354369 entries, 0 to 354368\n",
      "Data columns (total 16 columns):\n",
      " #   Column             Non-Null Count   Dtype \n",
      "---  ------             --------------   ----- \n",
      " 0   DateCrawled        354369 non-null  object\n",
      " 1   Price              354369 non-null  int64 \n",
      " 2   VehicleType        316879 non-null  object\n",
      " 3   RegistrationYear   354369 non-null  int64 \n",
      " 4   Gearbox            334536 non-null  object\n",
      " 5   Power              354369 non-null  int64 \n",
      " 6   Model              334664 non-null  object\n",
      " 7   Kilometer          354369 non-null  int64 \n",
      " 8   RegistrationMonth  354369 non-null  int64 \n",
      " 9   FuelType           321474 non-null  object\n",
      " 10  Brand              354369 non-null  object\n",
      " 11  NotRepaired        283215 non-null  object\n",
      " 12  DateCreated        354369 non-null  object\n",
      " 13  NumberOfPictures   354369 non-null  int64 \n",
      " 14  PostalCode         354369 non-null  int64 \n",
      " 15  LastSeen           354369 non-null  object\n",
      "dtypes: int64(7), object(9)\n",
      "memory usage: 43.3+ MB\n",
      "None\n"
     ]
    }
   ],
   "source": [
    "df = pd.read_csv('/datasets/autos.csv')\n",
    "display(df.head())\n",
    "print(df.info())"
   ]
  },
  {
   "cell_type": "markdown",
   "metadata": {},
   "source": [
    "### Обработка пропусков и дубликатов"
   ]
  },
  {
   "cell_type": "markdown",
   "metadata": {},
   "source": [
    "Изучим пропуски в данных"
   ]
  },
  {
   "cell_type": "code",
   "execution_count": 4,
   "metadata": {},
   "outputs": [
    {
     "data": {
      "text/plain": [
       "DateCrawled              0\n",
       "Price                    0\n",
       "VehicleType          37490\n",
       "RegistrationYear         0\n",
       "Gearbox              19833\n",
       "Power                    0\n",
       "Model                19705\n",
       "Kilometer                0\n",
       "RegistrationMonth        0\n",
       "FuelType             32895\n",
       "Brand                    0\n",
       "NotRepaired          71154\n",
       "DateCreated              0\n",
       "NumberOfPictures         0\n",
       "PostalCode               0\n",
       "LastSeen                 0\n",
       "dtype: int64"
      ]
     },
     "execution_count": 4,
     "metadata": {},
     "output_type": "execute_result"
    }
   ],
   "source": [
    "df.isna().sum()"
   ]
  },
  {
   "cell_type": "markdown",
   "metadata": {},
   "source": [
    "Приведем названия колонок к нижнему регистру"
   ]
  },
  {
   "cell_type": "code",
   "execution_count": 5,
   "metadata": {},
   "outputs": [],
   "source": [
    "df.columns = [x.lower() for x in df.columns]"
   ]
  },
  {
   "cell_type": "markdown",
   "metadata": {},
   "source": [
    "Пропуски в пяти столбцах :\n",
    "\n",
    "- VehicleType — тип автомобильного кузова\n",
    "- Gearbox — тип коробки передач\n",
    "- Model — модель автомобиля\n",
    "- FuelType — тип топлива\n",
    "- NotRepaired — была машина в ремонте или нет\n",
    "\n",
    "Изучим столбцы по порядку."
   ]
  },
  {
   "cell_type": "markdown",
   "metadata": {},
   "source": [
    "Заменим пропуски в VehicleType самыми частыми для соответствующей модели"
   ]
  },
  {
   "cell_type": "code",
   "execution_count": 6,
   "metadata": {},
   "outputs": [],
   "source": [
    "df['vehicletype'] = df['vehicletype'].fillna(\n",
    "    df.groupby('model', dropna=False)['vehicletype'].transform(lambda x: x.value_counts().index[0]))"
   ]
  },
  {
   "cell_type": "code",
   "execution_count": 465,
   "metadata": {},
   "outputs": [
    {
     "data": {
      "text/plain": [
       "manual    268251\n",
       "auto       66285\n",
       "Name: gearbox, dtype: int64"
      ]
     },
     "execution_count": 465,
     "metadata": {},
     "output_type": "execute_result"
    }
   ],
   "source": [
    "df.gearbox.value_counts()"
   ]
  },
  {
   "cell_type": "markdown",
   "metadata": {},
   "source": [
    "Аналогично сделаем и для пропусков в Gearbox. Не смотря на то, что значения в столбце всего два(manual и auto), не будем заменять пропуски случайным выбором одного из этих значений, потому что, например у автомобиля mazda в 2005 году мог быть автомат, а у автомобиля lada врядли"
   ]
  },
  {
   "cell_type": "code",
   "execution_count": null,
   "metadata": {},
   "outputs": [],
   "source": [
    "df['gearbox'] = df['gearbox'].fillna(\n",
    "    df.groupby('model', dropna=False)['gearbox'].transform(lambda x: x.value_counts().index[0]))"
   ]
  },
  {
   "cell_type": "markdown",
   "metadata": {},
   "source": [
    "Со столбцом моделей такой метод не сработает. Некоторых моделей нет в определенном кузове, и выпускаться они начали в разные года. Плюс ко всему, модель это ключевой признак при выборе машины, который сильно влияет на цены. Пропуски в столбце с моделями составляют ~5,5%. Их можно удалить, без вреда для основного датафрейма."
   ]
  },
  {
   "cell_type": "code",
   "execution_count": 467,
   "metadata": {},
   "outputs": [],
   "source": [
    "df = df.dropna(subset=['model'])"
   ]
  },
  {
   "cell_type": "code",
   "execution_count": 468,
   "metadata": {},
   "outputs": [
    {
     "data": {
      "text/plain": [
       "petrol      207162\n",
       "gasoline     95857\n",
       "lpg           4962\n",
       "cng            544\n",
       "hybrid         208\n",
       "other          133\n",
       "electric        66\n",
       "Name: fueltype, dtype: int64"
      ]
     },
     "execution_count": 468,
     "metadata": {},
     "output_type": "execute_result"
    }
   ],
   "source": [
    "df.fueltype.value_counts()"
   ]
  },
  {
   "cell_type": "markdown",
   "metadata": {},
   "source": [
    "В fueltype заменим пропуски на самое часто встречающееся значение - petrol"
   ]
  },
  {
   "cell_type": "code",
   "execution_count": 469,
   "metadata": {},
   "outputs": [],
   "source": [
    "df['fueltype'] = df['fueltype'].fillna('petrol')"
   ]
  },
  {
   "cell_type": "markdown",
   "metadata": {},
   "source": [
    "Остался столбец с информацией о ремонте машины. Первое ТО купленной в автосалоне машины обычно производится на пробеге 10-15 тыс. км. В среднем автомобиль проезжает около 20 тысяч километров в год. Если не считать ТО как ремонт, то будем считать, что ремонт будет производиться после 30 тыс. км. Тоесть, если у машины пробег больше 30 тыс. км., то ремонт у нее был."
   ]
  },
  {
   "cell_type": "code",
   "execution_count": 470,
   "metadata": {},
   "outputs": [
    {
     "data": {
      "text/html": [
       "<div>\n",
       "<style scoped>\n",
       "    .dataframe tbody tr th:only-of-type {\n",
       "        vertical-align: middle;\n",
       "    }\n",
       "\n",
       "    .dataframe tbody tr th {\n",
       "        vertical-align: top;\n",
       "    }\n",
       "\n",
       "    .dataframe thead th {\n",
       "        text-align: right;\n",
       "    }\n",
       "</style>\n",
       "<table border=\"1\" class=\"dataframe\">\n",
       "  <thead>\n",
       "    <tr style=\"text-align: right;\">\n",
       "      <th></th>\n",
       "      <th>datecrawled</th>\n",
       "      <th>price</th>\n",
       "      <th>vehicletype</th>\n",
       "      <th>registrationyear</th>\n",
       "      <th>gearbox</th>\n",
       "      <th>power</th>\n",
       "      <th>model</th>\n",
       "      <th>kilometer</th>\n",
       "      <th>registrationmonth</th>\n",
       "      <th>fueltype</th>\n",
       "      <th>brand</th>\n",
       "      <th>notrepaired</th>\n",
       "      <th>datecreated</th>\n",
       "      <th>numberofpictures</th>\n",
       "      <th>postalcode</th>\n",
       "      <th>lastseen</th>\n",
       "    </tr>\n",
       "  </thead>\n",
       "  <tbody>\n",
       "    <tr>\n",
       "      <th>0</th>\n",
       "      <td>2016-03-24 11:52:17</td>\n",
       "      <td>480</td>\n",
       "      <td>sedan</td>\n",
       "      <td>1993</td>\n",
       "      <td>manual</td>\n",
       "      <td>0</td>\n",
       "      <td>golf</td>\n",
       "      <td>150000</td>\n",
       "      <td>0</td>\n",
       "      <td>petrol</td>\n",
       "      <td>volkswagen</td>\n",
       "      <td>NaN</td>\n",
       "      <td>2016-03-24 00:00:00</td>\n",
       "      <td>0</td>\n",
       "      <td>70435</td>\n",
       "      <td>2016-04-07 03:16:57</td>\n",
       "    </tr>\n",
       "    <tr>\n",
       "      <th>2</th>\n",
       "      <td>2016-03-14 12:52:21</td>\n",
       "      <td>9800</td>\n",
       "      <td>suv</td>\n",
       "      <td>2004</td>\n",
       "      <td>auto</td>\n",
       "      <td>163</td>\n",
       "      <td>grand</td>\n",
       "      <td>125000</td>\n",
       "      <td>8</td>\n",
       "      <td>gasoline</td>\n",
       "      <td>jeep</td>\n",
       "      <td>NaN</td>\n",
       "      <td>2016-03-14 00:00:00</td>\n",
       "      <td>0</td>\n",
       "      <td>90480</td>\n",
       "      <td>2016-04-05 12:47:46</td>\n",
       "    </tr>\n",
       "    <tr>\n",
       "      <th>3</th>\n",
       "      <td>2016-03-17 16:54:04</td>\n",
       "      <td>1500</td>\n",
       "      <td>small</td>\n",
       "      <td>2001</td>\n",
       "      <td>manual</td>\n",
       "      <td>75</td>\n",
       "      <td>golf</td>\n",
       "      <td>150000</td>\n",
       "      <td>6</td>\n",
       "      <td>petrol</td>\n",
       "      <td>volkswagen</td>\n",
       "      <td>no</td>\n",
       "      <td>2016-03-17 00:00:00</td>\n",
       "      <td>0</td>\n",
       "      <td>91074</td>\n",
       "      <td>2016-03-17 17:40:17</td>\n",
       "    </tr>\n",
       "    <tr>\n",
       "      <th>4</th>\n",
       "      <td>2016-03-31 17:25:20</td>\n",
       "      <td>3600</td>\n",
       "      <td>small</td>\n",
       "      <td>2008</td>\n",
       "      <td>manual</td>\n",
       "      <td>69</td>\n",
       "      <td>fabia</td>\n",
       "      <td>90000</td>\n",
       "      <td>7</td>\n",
       "      <td>gasoline</td>\n",
       "      <td>skoda</td>\n",
       "      <td>no</td>\n",
       "      <td>2016-03-31 00:00:00</td>\n",
       "      <td>0</td>\n",
       "      <td>60437</td>\n",
       "      <td>2016-04-06 10:17:21</td>\n",
       "    </tr>\n",
       "    <tr>\n",
       "      <th>5</th>\n",
       "      <td>2016-04-04 17:36:23</td>\n",
       "      <td>650</td>\n",
       "      <td>sedan</td>\n",
       "      <td>1995</td>\n",
       "      <td>manual</td>\n",
       "      <td>102</td>\n",
       "      <td>3er</td>\n",
       "      <td>150000</td>\n",
       "      <td>10</td>\n",
       "      <td>petrol</td>\n",
       "      <td>bmw</td>\n",
       "      <td>yes</td>\n",
       "      <td>2016-04-04 00:00:00</td>\n",
       "      <td>0</td>\n",
       "      <td>33775</td>\n",
       "      <td>2016-04-06 19:17:07</td>\n",
       "    </tr>\n",
       "  </tbody>\n",
       "</table>\n",
       "</div>"
      ],
      "text/plain": [
       "           datecrawled  price vehicletype  registrationyear gearbox  power  \\\n",
       "0  2016-03-24 11:52:17    480       sedan              1993  manual      0   \n",
       "2  2016-03-14 12:52:21   9800         suv              2004    auto    163   \n",
       "3  2016-03-17 16:54:04   1500       small              2001  manual     75   \n",
       "4  2016-03-31 17:25:20   3600       small              2008  manual     69   \n",
       "5  2016-04-04 17:36:23    650       sedan              1995  manual    102   \n",
       "\n",
       "   model  kilometer  registrationmonth  fueltype       brand notrepaired  \\\n",
       "0   golf     150000                  0    petrol  volkswagen         NaN   \n",
       "2  grand     125000                  8  gasoline        jeep         NaN   \n",
       "3   golf     150000                  6    petrol  volkswagen          no   \n",
       "4  fabia      90000                  7  gasoline       skoda          no   \n",
       "5    3er     150000                 10    petrol         bmw         yes   \n",
       "\n",
       "           datecreated  numberofpictures  postalcode             lastseen  \n",
       "0  2016-03-24 00:00:00                 0       70435  2016-04-07 03:16:57  \n",
       "2  2016-03-14 00:00:00                 0       90480  2016-04-05 12:47:46  \n",
       "3  2016-03-17 00:00:00                 0       91074  2016-03-17 17:40:17  \n",
       "4  2016-03-31 00:00:00                 0       60437  2016-04-06 10:17:21  \n",
       "5  2016-04-04 00:00:00                 0       33775  2016-04-06 19:17:07  "
      ]
     },
     "execution_count": 470,
     "metadata": {},
     "output_type": "execute_result"
    }
   ],
   "source": [
    "df.head()"
   ]
  },
  {
   "cell_type": "code",
   "execution_count": 471,
   "metadata": {},
   "outputs": [],
   "source": [
    "df.notrepaired = df.notrepaired.fillna(0)\n",
    "def repair(row):\n",
    "    if row['notrepaired']==0:\n",
    "        if row['kilometer']>30000:\n",
    "            return 'yes'\n",
    "        else:\n",
    "            return 'no'\n",
    "    elif row['notrepaired']!=0:\n",
    "        return row['notrepaired']\n",
    "df['notrepaired'] = df.apply(repair, axis=1)"
   ]
  },
  {
   "cell_type": "markdown",
   "metadata": {},
   "source": [
    "Все пропуски заполнены."
   ]
  },
  {
   "cell_type": "code",
   "execution_count": 472,
   "metadata": {},
   "outputs": [
    {
     "data": {
      "text/plain": [
       "datecrawled          0\n",
       "price                0\n",
       "vehicletype          0\n",
       "registrationyear     0\n",
       "gearbox              0\n",
       "power                0\n",
       "model                0\n",
       "kilometer            0\n",
       "registrationmonth    0\n",
       "fueltype             0\n",
       "brand                0\n",
       "notrepaired          0\n",
       "datecreated          0\n",
       "numberofpictures     0\n",
       "postalcode           0\n",
       "lastseen             0\n",
       "dtype: int64"
      ]
     },
     "execution_count": 472,
     "metadata": {},
     "output_type": "execute_result"
    }
   ],
   "source": [
    "df.isna().sum()"
   ]
  },
  {
   "cell_type": "code",
   "execution_count": 473,
   "metadata": {},
   "outputs": [
    {
     "data": {
      "text/html": [
       "<div>\n",
       "<style scoped>\n",
       "    .dataframe tbody tr th:only-of-type {\n",
       "        vertical-align: middle;\n",
       "    }\n",
       "\n",
       "    .dataframe tbody tr th {\n",
       "        vertical-align: top;\n",
       "    }\n",
       "\n",
       "    .dataframe thead th {\n",
       "        text-align: right;\n",
       "    }\n",
       "</style>\n",
       "<table border=\"1\" class=\"dataframe\">\n",
       "  <thead>\n",
       "    <tr style=\"text-align: right;\">\n",
       "      <th></th>\n",
       "      <th>datecrawled</th>\n",
       "      <th>price</th>\n",
       "      <th>vehicletype</th>\n",
       "      <th>registrationyear</th>\n",
       "      <th>gearbox</th>\n",
       "      <th>power</th>\n",
       "      <th>model</th>\n",
       "      <th>kilometer</th>\n",
       "      <th>registrationmonth</th>\n",
       "      <th>fueltype</th>\n",
       "      <th>brand</th>\n",
       "      <th>notrepaired</th>\n",
       "      <th>datecreated</th>\n",
       "      <th>numberofpictures</th>\n",
       "      <th>postalcode</th>\n",
       "      <th>lastseen</th>\n",
       "    </tr>\n",
       "  </thead>\n",
       "  <tbody>\n",
       "    <tr>\n",
       "      <th>41529</th>\n",
       "      <td>2016-03-18 18:46:15</td>\n",
       "      <td>1999</td>\n",
       "      <td>wagon</td>\n",
       "      <td>2001</td>\n",
       "      <td>manual</td>\n",
       "      <td>131</td>\n",
       "      <td>passat</td>\n",
       "      <td>150000</td>\n",
       "      <td>7</td>\n",
       "      <td>gasoline</td>\n",
       "      <td>volkswagen</td>\n",
       "      <td>no</td>\n",
       "      <td>2016-03-18 00:00:00</td>\n",
       "      <td>0</td>\n",
       "      <td>36391</td>\n",
       "      <td>2016-03-18 18:46:15</td>\n",
       "    </tr>\n",
       "    <tr>\n",
       "      <th>88087</th>\n",
       "      <td>2016-03-08 18:42:48</td>\n",
       "      <td>1799</td>\n",
       "      <td>coupe</td>\n",
       "      <td>1999</td>\n",
       "      <td>auto</td>\n",
       "      <td>193</td>\n",
       "      <td>clk</td>\n",
       "      <td>20000</td>\n",
       "      <td>7</td>\n",
       "      <td>petrol</td>\n",
       "      <td>mercedes_benz</td>\n",
       "      <td>no</td>\n",
       "      <td>2016-03-08 00:00:00</td>\n",
       "      <td>0</td>\n",
       "      <td>89518</td>\n",
       "      <td>2016-03-09 09:46:57</td>\n",
       "    </tr>\n",
       "    <tr>\n",
       "      <th>90964</th>\n",
       "      <td>2016-03-28 00:56:10</td>\n",
       "      <td>1000</td>\n",
       "      <td>small</td>\n",
       "      <td>2002</td>\n",
       "      <td>manual</td>\n",
       "      <td>83</td>\n",
       "      <td>other</td>\n",
       "      <td>150000</td>\n",
       "      <td>1</td>\n",
       "      <td>petrol</td>\n",
       "      <td>suzuki</td>\n",
       "      <td>no</td>\n",
       "      <td>2016-03-28 00:00:00</td>\n",
       "      <td>0</td>\n",
       "      <td>66589</td>\n",
       "      <td>2016-03-28 08:46:21</td>\n",
       "    </tr>\n",
       "    <tr>\n",
       "      <th>171088</th>\n",
       "      <td>2016-03-08 18:42:48</td>\n",
       "      <td>1799</td>\n",
       "      <td>coupe</td>\n",
       "      <td>1999</td>\n",
       "      <td>auto</td>\n",
       "      <td>193</td>\n",
       "      <td>clk</td>\n",
       "      <td>20000</td>\n",
       "      <td>7</td>\n",
       "      <td>petrol</td>\n",
       "      <td>mercedes_benz</td>\n",
       "      <td>no</td>\n",
       "      <td>2016-03-08 00:00:00</td>\n",
       "      <td>0</td>\n",
       "      <td>89518</td>\n",
       "      <td>2016-03-09 09:46:57</td>\n",
       "    </tr>\n",
       "    <tr>\n",
       "      <th>187735</th>\n",
       "      <td>2016-04-03 09:01:15</td>\n",
       "      <td>4699</td>\n",
       "      <td>coupe</td>\n",
       "      <td>2003</td>\n",
       "      <td>auto</td>\n",
       "      <td>218</td>\n",
       "      <td>clk</td>\n",
       "      <td>125000</td>\n",
       "      <td>6</td>\n",
       "      <td>petrol</td>\n",
       "      <td>mercedes_benz</td>\n",
       "      <td>yes</td>\n",
       "      <td>2016-04-03 00:00:00</td>\n",
       "      <td>0</td>\n",
       "      <td>75196</td>\n",
       "      <td>2016-04-07 09:44:54</td>\n",
       "    </tr>\n",
       "    <tr>\n",
       "      <th>231258</th>\n",
       "      <td>2016-03-28 00:56:10</td>\n",
       "      <td>1000</td>\n",
       "      <td>small</td>\n",
       "      <td>2002</td>\n",
       "      <td>manual</td>\n",
       "      <td>83</td>\n",
       "      <td>other</td>\n",
       "      <td>150000</td>\n",
       "      <td>1</td>\n",
       "      <td>petrol</td>\n",
       "      <td>suzuki</td>\n",
       "      <td>no</td>\n",
       "      <td>2016-03-28 00:00:00</td>\n",
       "      <td>0</td>\n",
       "      <td>66589</td>\n",
       "      <td>2016-03-28 08:46:21</td>\n",
       "    </tr>\n",
       "    <tr>\n",
       "      <th>258109</th>\n",
       "      <td>2016-04-03 09:01:15</td>\n",
       "      <td>4699</td>\n",
       "      <td>coupe</td>\n",
       "      <td>2003</td>\n",
       "      <td>auto</td>\n",
       "      <td>218</td>\n",
       "      <td>clk</td>\n",
       "      <td>125000</td>\n",
       "      <td>6</td>\n",
       "      <td>petrol</td>\n",
       "      <td>mercedes_benz</td>\n",
       "      <td>yes</td>\n",
       "      <td>2016-04-03 00:00:00</td>\n",
       "      <td>0</td>\n",
       "      <td>75196</td>\n",
       "      <td>2016-04-07 09:44:54</td>\n",
       "    </tr>\n",
       "    <tr>\n",
       "      <th>325651</th>\n",
       "      <td>2016-03-18 18:46:15</td>\n",
       "      <td>1999</td>\n",
       "      <td>wagon</td>\n",
       "      <td>2001</td>\n",
       "      <td>manual</td>\n",
       "      <td>131</td>\n",
       "      <td>passat</td>\n",
       "      <td>150000</td>\n",
       "      <td>7</td>\n",
       "      <td>gasoline</td>\n",
       "      <td>volkswagen</td>\n",
       "      <td>no</td>\n",
       "      <td>2016-03-18 00:00:00</td>\n",
       "      <td>0</td>\n",
       "      <td>36391</td>\n",
       "      <td>2016-03-18 18:46:15</td>\n",
       "    </tr>\n",
       "  </tbody>\n",
       "</table>\n",
       "</div>"
      ],
      "text/plain": [
       "                datecrawled  price vehicletype  registrationyear gearbox  \\\n",
       "41529   2016-03-18 18:46:15   1999       wagon              2001  manual   \n",
       "88087   2016-03-08 18:42:48   1799       coupe              1999    auto   \n",
       "90964   2016-03-28 00:56:10   1000       small              2002  manual   \n",
       "171088  2016-03-08 18:42:48   1799       coupe              1999    auto   \n",
       "187735  2016-04-03 09:01:15   4699       coupe              2003    auto   \n",
       "231258  2016-03-28 00:56:10   1000       small              2002  manual   \n",
       "258109  2016-04-03 09:01:15   4699       coupe              2003    auto   \n",
       "325651  2016-03-18 18:46:15   1999       wagon              2001  manual   \n",
       "\n",
       "        power   model  kilometer  registrationmonth  fueltype          brand  \\\n",
       "41529     131  passat     150000                  7  gasoline     volkswagen   \n",
       "88087     193     clk      20000                  7    petrol  mercedes_benz   \n",
       "90964      83   other     150000                  1    petrol         suzuki   \n",
       "171088    193     clk      20000                  7    petrol  mercedes_benz   \n",
       "187735    218     clk     125000                  6    petrol  mercedes_benz   \n",
       "231258     83   other     150000                  1    petrol         suzuki   \n",
       "258109    218     clk     125000                  6    petrol  mercedes_benz   \n",
       "325651    131  passat     150000                  7  gasoline     volkswagen   \n",
       "\n",
       "       notrepaired          datecreated  numberofpictures  postalcode  \\\n",
       "41529           no  2016-03-18 00:00:00                 0       36391   \n",
       "88087           no  2016-03-08 00:00:00                 0       89518   \n",
       "90964           no  2016-03-28 00:00:00                 0       66589   \n",
       "171088          no  2016-03-08 00:00:00                 0       89518   \n",
       "187735         yes  2016-04-03 00:00:00                 0       75196   \n",
       "231258          no  2016-03-28 00:00:00                 0       66589   \n",
       "258109         yes  2016-04-03 00:00:00                 0       75196   \n",
       "325651          no  2016-03-18 00:00:00                 0       36391   \n",
       "\n",
       "                   lastseen  \n",
       "41529   2016-03-18 18:46:15  \n",
       "88087   2016-03-09 09:46:57  \n",
       "90964   2016-03-28 08:46:21  \n",
       "171088  2016-03-09 09:46:57  \n",
       "187735  2016-04-07 09:44:54  \n",
       "231258  2016-03-28 08:46:21  \n",
       "258109  2016-04-07 09:44:54  \n",
       "325651  2016-03-18 18:46:15  "
      ]
     },
     "execution_count": 473,
     "metadata": {},
     "output_type": "execute_result"
    }
   ],
   "source": [
    "df[df.duplicated(keep=False)]"
   ]
  },
  {
   "cell_type": "markdown",
   "metadata": {},
   "source": [
    "Удалим дубликаты"
   ]
  },
  {
   "cell_type": "code",
   "execution_count": 474,
   "metadata": {},
   "outputs": [],
   "source": [
    "df = df.drop_duplicates()"
   ]
  },
  {
   "cell_type": "markdown",
   "metadata": {},
   "source": [
    "### Анализ данных"
   ]
  },
  {
   "cell_type": "code",
   "execution_count": 475,
   "metadata": {},
   "outputs": [
    {
     "data": {
      "text/html": [
       "<div>\n",
       "<style scoped>\n",
       "    .dataframe tbody tr th:only-of-type {\n",
       "        vertical-align: middle;\n",
       "    }\n",
       "\n",
       "    .dataframe tbody tr th {\n",
       "        vertical-align: top;\n",
       "    }\n",
       "\n",
       "    .dataframe thead th {\n",
       "        text-align: right;\n",
       "    }\n",
       "</style>\n",
       "<table border=\"1\" class=\"dataframe\">\n",
       "  <thead>\n",
       "    <tr style=\"text-align: right;\">\n",
       "      <th></th>\n",
       "      <th>price</th>\n",
       "      <th>registrationyear</th>\n",
       "      <th>power</th>\n",
       "      <th>kilometer</th>\n",
       "      <th>registrationmonth</th>\n",
       "      <th>numberofpictures</th>\n",
       "      <th>postalcode</th>\n",
       "    </tr>\n",
       "  </thead>\n",
       "  <tbody>\n",
       "    <tr>\n",
       "      <th>count</th>\n",
       "      <td>334660.000000</td>\n",
       "      <td>334660.000000</td>\n",
       "      <td>334660.000000</td>\n",
       "      <td>334660.000000</td>\n",
       "      <td>334660.000000</td>\n",
       "      <td>334660.0</td>\n",
       "      <td>334660.000000</td>\n",
       "    </tr>\n",
       "    <tr>\n",
       "      <th>mean</th>\n",
       "      <td>4504.372249</td>\n",
       "      <td>2003.924024</td>\n",
       "      <td>111.372659</td>\n",
       "      <td>128562.795076</td>\n",
       "      <td>5.806075</td>\n",
       "      <td>0.0</td>\n",
       "      <td>50671.327365</td>\n",
       "    </tr>\n",
       "    <tr>\n",
       "      <th>std</th>\n",
       "      <td>4531.457109</td>\n",
       "      <td>69.377633</td>\n",
       "      <td>185.157391</td>\n",
       "      <td>37205.638630</td>\n",
       "      <td>3.689157</td>\n",
       "      <td>0.0</td>\n",
       "      <td>25754.527341</td>\n",
       "    </tr>\n",
       "    <tr>\n",
       "      <th>min</th>\n",
       "      <td>0.000000</td>\n",
       "      <td>1000.000000</td>\n",
       "      <td>0.000000</td>\n",
       "      <td>5000.000000</td>\n",
       "      <td>0.000000</td>\n",
       "      <td>0.0</td>\n",
       "      <td>1067.000000</td>\n",
       "    </tr>\n",
       "    <tr>\n",
       "      <th>25%</th>\n",
       "      <td>1150.000000</td>\n",
       "      <td>1999.000000</td>\n",
       "      <td>70.000000</td>\n",
       "      <td>125000.000000</td>\n",
       "      <td>3.000000</td>\n",
       "      <td>0.0</td>\n",
       "      <td>30419.000000</td>\n",
       "    </tr>\n",
       "    <tr>\n",
       "      <th>50%</th>\n",
       "      <td>2800.000000</td>\n",
       "      <td>2003.000000</td>\n",
       "      <td>105.000000</td>\n",
       "      <td>150000.000000</td>\n",
       "      <td>6.000000</td>\n",
       "      <td>0.0</td>\n",
       "      <td>49525.000000</td>\n",
       "    </tr>\n",
       "    <tr>\n",
       "      <th>75%</th>\n",
       "      <td>6500.000000</td>\n",
       "      <td>2008.000000</td>\n",
       "      <td>143.000000</td>\n",
       "      <td>150000.000000</td>\n",
       "      <td>9.000000</td>\n",
       "      <td>0.0</td>\n",
       "      <td>71229.000000</td>\n",
       "    </tr>\n",
       "    <tr>\n",
       "      <th>max</th>\n",
       "      <td>20000.000000</td>\n",
       "      <td>9999.000000</td>\n",
       "      <td>20000.000000</td>\n",
       "      <td>150000.000000</td>\n",
       "      <td>12.000000</td>\n",
       "      <td>0.0</td>\n",
       "      <td>99998.000000</td>\n",
       "    </tr>\n",
       "  </tbody>\n",
       "</table>\n",
       "</div>"
      ],
      "text/plain": [
       "               price  registrationyear          power      kilometer  \\\n",
       "count  334660.000000     334660.000000  334660.000000  334660.000000   \n",
       "mean     4504.372249       2003.924024     111.372659  128562.795076   \n",
       "std      4531.457109         69.377633     185.157391   37205.638630   \n",
       "min         0.000000       1000.000000       0.000000    5000.000000   \n",
       "25%      1150.000000       1999.000000      70.000000  125000.000000   \n",
       "50%      2800.000000       2003.000000     105.000000  150000.000000   \n",
       "75%      6500.000000       2008.000000     143.000000  150000.000000   \n",
       "max     20000.000000       9999.000000   20000.000000  150000.000000   \n",
       "\n",
       "       registrationmonth  numberofpictures     postalcode  \n",
       "count      334660.000000          334660.0  334660.000000  \n",
       "mean            5.806075               0.0   50671.327365  \n",
       "std             3.689157               0.0   25754.527341  \n",
       "min             0.000000               0.0    1067.000000  \n",
       "25%             3.000000               0.0   30419.000000  \n",
       "50%             6.000000               0.0   49525.000000  \n",
       "75%             9.000000               0.0   71229.000000  \n",
       "max            12.000000               0.0   99998.000000  "
      ]
     },
     "execution_count": 475,
     "metadata": {},
     "output_type": "execute_result"
    }
   ],
   "source": [
    "df.describe()"
   ]
  },
  {
   "cell_type": "markdown",
   "metadata": {},
   "source": [
    "У цены есть значени 0, вряд-ли машину будут отдаваться бесплатно. Ее минимум можно сдать в металлолом. Год выпуска минимальное и максимальное значения вызывают подозрение. Максимальное и минимальное значение мощности тоже. У всех объявлений нет фотографий. Изучим каждый признак ближе"
   ]
  },
  {
   "cell_type": "code",
   "execution_count": 476,
   "metadata": {},
   "outputs": [
    {
     "data": {
      "text/plain": [
       "<AxesSubplot:>"
      ]
     },
     "execution_count": 476,
     "metadata": {},
     "output_type": "execute_result"
    },
    {
     "data": {
      "image/png": "[encoded data removed]",
      "text/plain": [
       "<Figure size 432x288 with 2 Axes>"
      ]
     },
     "metadata": {
      "needs_background": "light"
     },
     "output_type": "display_data"
    }
   ],
   "source": [
    "seaborn.heatmap(df.corr(), annot=True)"
   ]
  },
  {
   "cell_type": "markdown",
   "metadata": {},
   "source": [
    "Сильной корреляции между признаками нет"
   ]
  },
  {
   "cell_type": "code",
   "execution_count": 477,
   "metadata": {},
   "outputs": [
    {
     "data": {
      "text/plain": [
       "<AxesSubplot:>"
      ]
     },
     "execution_count": 477,
     "metadata": {},
     "output_type": "execute_result"
    },
    {
     "data": {
      "image/png": "[encoded data removed]",
      "text/plain": [
       "<Figure size 432x288 with 1 Axes>"
      ]
     },
     "metadata": {
      "needs_background": "light"
     },
     "output_type": "display_data"
    }
   ],
   "source": [
    "df.price.hist()"
   ]
  },
  {
   "cell_type": "code",
   "execution_count": 478,
   "metadata": {},
   "outputs": [
    {
     "data": {
      "text/plain": [
       "<AxesSubplot:>"
      ]
     },
     "execution_count": 478,
     "metadata": {},
     "output_type": "execute_result"
    },
    {
     "data": {
      "image/png": "[encoded data removed]",
      "text/plain": [
       "<Figure size 432x288 with 1 Axes>"
      ]
     },
     "metadata": {
      "needs_background": "light"
     },
     "output_type": "display_data"
    }
   ],
   "source": [
    "df.price.hist(range=(0,3000))"
   ]
  },
  {
   "cell_type": "markdown",
   "metadata": {},
   "source": [
    "Посмотрим характеристики \"бесплатных\" машин"
   ]
  },
  {
   "cell_type": "code",
   "execution_count": 479,
   "metadata": {},
   "outputs": [
    {
     "data": {
      "text/html": [
       "<div>\n",
       "<style scoped>\n",
       "    .dataframe tbody tr th:only-of-type {\n",
       "        vertical-align: middle;\n",
       "    }\n",
       "\n",
       "    .dataframe tbody tr th {\n",
       "        vertical-align: top;\n",
       "    }\n",
       "\n",
       "    .dataframe thead th {\n",
       "        text-align: right;\n",
       "    }\n",
       "</style>\n",
       "<table border=\"1\" class=\"dataframe\">\n",
       "  <thead>\n",
       "    <tr style=\"text-align: right;\">\n",
       "      <th></th>\n",
       "      <th>datecrawled</th>\n",
       "      <th>price</th>\n",
       "      <th>vehicletype</th>\n",
       "      <th>registrationyear</th>\n",
       "      <th>gearbox</th>\n",
       "      <th>power</th>\n",
       "      <th>model</th>\n",
       "      <th>kilometer</th>\n",
       "      <th>registrationmonth</th>\n",
       "      <th>fueltype</th>\n",
       "      <th>brand</th>\n",
       "      <th>notrepaired</th>\n",
       "      <th>datecreated</th>\n",
       "      <th>numberofpictures</th>\n",
       "      <th>postalcode</th>\n",
       "      <th>lastseen</th>\n",
       "    </tr>\n",
       "  </thead>\n",
       "  <tbody>\n",
       "    <tr>\n",
       "      <th>2</th>\n",
       "      <td>2016-03-14 12:52:21</td>\n",
       "      <td>9800</td>\n",
       "      <td>suv</td>\n",
       "      <td>2004</td>\n",
       "      <td>auto</td>\n",
       "      <td>163</td>\n",
       "      <td>grand</td>\n",
       "      <td>125000</td>\n",
       "      <td>8</td>\n",
       "      <td>gasoline</td>\n",
       "      <td>jeep</td>\n",
       "      <td>yes</td>\n",
       "      <td>2016-03-14 00:00:00</td>\n",
       "      <td>0</td>\n",
       "      <td>90480</td>\n",
       "      <td>2016-04-05 12:47:46</td>\n",
       "    </tr>\n",
       "    <tr>\n",
       "      <th>4</th>\n",
       "      <td>2016-03-31 17:25:20</td>\n",
       "      <td>3600</td>\n",
       "      <td>small</td>\n",
       "      <td>2008</td>\n",
       "      <td>manual</td>\n",
       "      <td>69</td>\n",
       "      <td>fabia</td>\n",
       "      <td>90000</td>\n",
       "      <td>7</td>\n",
       "      <td>gasoline</td>\n",
       "      <td>skoda</td>\n",
       "      <td>no</td>\n",
       "      <td>2016-03-31 00:00:00</td>\n",
       "      <td>0</td>\n",
       "      <td>60437</td>\n",
       "      <td>2016-04-06 10:17:21</td>\n",
       "    </tr>\n",
       "    <tr>\n",
       "      <th>6</th>\n",
       "      <td>2016-04-01 20:48:51</td>\n",
       "      <td>2200</td>\n",
       "      <td>convertible</td>\n",
       "      <td>2004</td>\n",
       "      <td>manual</td>\n",
       "      <td>109</td>\n",
       "      <td>2_reihe</td>\n",
       "      <td>150000</td>\n",
       "      <td>8</td>\n",
       "      <td>petrol</td>\n",
       "      <td>peugeot</td>\n",
       "      <td>no</td>\n",
       "      <td>2016-04-01 00:00:00</td>\n",
       "      <td>0</td>\n",
       "      <td>67112</td>\n",
       "      <td>2016-04-05 18:18:39</td>\n",
       "    </tr>\n",
       "    <tr>\n",
       "      <th>8</th>\n",
       "      <td>2016-04-04 23:42:13</td>\n",
       "      <td>14500</td>\n",
       "      <td>bus</td>\n",
       "      <td>2014</td>\n",
       "      <td>manual</td>\n",
       "      <td>125</td>\n",
       "      <td>c_max</td>\n",
       "      <td>30000</td>\n",
       "      <td>8</td>\n",
       "      <td>petrol</td>\n",
       "      <td>ford</td>\n",
       "      <td>no</td>\n",
       "      <td>2016-04-04 00:00:00</td>\n",
       "      <td>0</td>\n",
       "      <td>94505</td>\n",
       "      <td>2016-04-04 23:42:13</td>\n",
       "    </tr>\n",
       "    <tr>\n",
       "      <th>11</th>\n",
       "      <td>2016-04-07 10:06:22</td>\n",
       "      <td>2799</td>\n",
       "      <td>wagon</td>\n",
       "      <td>2005</td>\n",
       "      <td>manual</td>\n",
       "      <td>140</td>\n",
       "      <td>passat</td>\n",
       "      <td>150000</td>\n",
       "      <td>12</td>\n",
       "      <td>gasoline</td>\n",
       "      <td>volkswagen</td>\n",
       "      <td>yes</td>\n",
       "      <td>2016-04-07 00:00:00</td>\n",
       "      <td>0</td>\n",
       "      <td>57290</td>\n",
       "      <td>2016-04-07 10:25:17</td>\n",
       "    </tr>\n",
       "  </tbody>\n",
       "</table>\n",
       "</div>"
      ],
      "text/plain": [
       "            datecrawled  price  vehicletype  registrationyear gearbox  power  \\\n",
       "2   2016-03-14 12:52:21   9800          suv              2004    auto    163   \n",
       "4   2016-03-31 17:25:20   3600        small              2008  manual     69   \n",
       "6   2016-04-01 20:48:51   2200  convertible              2004  manual    109   \n",
       "8   2016-04-04 23:42:13  14500          bus              2014  manual    125   \n",
       "11  2016-04-07 10:06:22   2799        wagon              2005  manual    140   \n",
       "\n",
       "      model  kilometer  registrationmonth  fueltype       brand notrepaired  \\\n",
       "2     grand     125000                  8  gasoline        jeep         yes   \n",
       "4     fabia      90000                  7  gasoline       skoda          no   \n",
       "6   2_reihe     150000                  8    petrol     peugeot          no   \n",
       "8     c_max      30000                  8    petrol        ford          no   \n",
       "11   passat     150000                 12  gasoline  volkswagen         yes   \n",
       "\n",
       "            datecreated  numberofpictures  postalcode             lastseen  \n",
       "2   2016-03-14 00:00:00                 0       90480  2016-04-05 12:47:46  \n",
       "4   2016-03-31 00:00:00                 0       60437  2016-04-06 10:17:21  \n",
       "6   2016-04-01 00:00:00                 0       67112  2016-04-05 18:18:39  \n",
       "8   2016-04-04 00:00:00                 0       94505  2016-04-04 23:42:13  \n",
       "11  2016-04-07 00:00:00                 0       57290  2016-04-07 10:25:17  "
      ]
     },
     "metadata": {},
     "output_type": "display_data"
    },
    {
     "data": {
      "text/plain": [
       "196174"
      ]
     },
     "metadata": {},
     "output_type": "display_data"
    }
   ],
   "source": [
    "display(df[df['price']>2000].head())\n",
    "display(len(df[df['price']>2000]))"
   ]
  },
  {
   "cell_type": "markdown",
   "metadata": {},
   "source": [
    "Посмотрим на примере одной марки и модели. Изменяется ли цена"
   ]
  },
  {
   "cell_type": "code",
   "execution_count": 480,
   "metadata": {},
   "outputs": [
    {
     "data": {
      "text/plain": [
       "<AxesSubplot:>"
      ]
     },
     "execution_count": 480,
     "metadata": {},
     "output_type": "execute_result"
    },
    {
     "data": {
      "image/png": "[encoded data removed]",
      "text/plain": [
       "<Figure size 432x288 with 1 Axes>"
      ]
     },
     "metadata": {
      "needs_background": "light"
     },
     "output_type": "display_data"
    }
   ],
   "source": [
    "vw_golf = df[df['brand']=='volkswagen'] \n",
    "vw_golf = vw_golf[vw_golf['model']=='golf'] \n",
    "vw_golf['price'].hist()"
   ]
  },
  {
   "cell_type": "code",
   "execution_count": 481,
   "metadata": {},
   "outputs": [
    {
     "data": {
      "text/html": [
       "<div>\n",
       "<style scoped>\n",
       "    .dataframe tbody tr th:only-of-type {\n",
       "        vertical-align: middle;\n",
       "    }\n",
       "\n",
       "    .dataframe tbody tr th {\n",
       "        vertical-align: top;\n",
       "    }\n",
       "\n",
       "    .dataframe thead th {\n",
       "        text-align: right;\n",
       "    }\n",
       "</style>\n",
       "<table border=\"1\" class=\"dataframe\">\n",
       "  <thead>\n",
       "    <tr style=\"text-align: right;\">\n",
       "      <th></th>\n",
       "      <th>datecrawled</th>\n",
       "      <th>price</th>\n",
       "      <th>vehicletype</th>\n",
       "      <th>registrationyear</th>\n",
       "      <th>gearbox</th>\n",
       "      <th>power</th>\n",
       "      <th>model</th>\n",
       "      <th>kilometer</th>\n",
       "      <th>registrationmonth</th>\n",
       "      <th>fueltype</th>\n",
       "      <th>brand</th>\n",
       "      <th>notrepaired</th>\n",
       "      <th>datecreated</th>\n",
       "      <th>numberofpictures</th>\n",
       "      <th>postalcode</th>\n",
       "      <th>lastseen</th>\n",
       "    </tr>\n",
       "  </thead>\n",
       "  <tbody>\n",
       "    <tr>\n",
       "      <th>35</th>\n",
       "      <td>2016-03-08 07:54:46</td>\n",
       "      <td>350</td>\n",
       "      <td>sedan</td>\n",
       "      <td>2016</td>\n",
       "      <td>manual</td>\n",
       "      <td>75</td>\n",
       "      <td>golf</td>\n",
       "      <td>150000</td>\n",
       "      <td>4</td>\n",
       "      <td>petrol</td>\n",
       "      <td>volkswagen</td>\n",
       "      <td>no</td>\n",
       "      <td>2016-03-08 00:00:00</td>\n",
       "      <td>0</td>\n",
       "      <td>19386</td>\n",
       "      <td>2016-03-08 09:44:50</td>\n",
       "    </tr>\n",
       "    <tr>\n",
       "      <th>541</th>\n",
       "      <td>2016-03-18 22:48:44</td>\n",
       "      <td>4550</td>\n",
       "      <td>sedan</td>\n",
       "      <td>2016</td>\n",
       "      <td>manual</td>\n",
       "      <td>101</td>\n",
       "      <td>golf</td>\n",
       "      <td>150000</td>\n",
       "      <td>8</td>\n",
       "      <td>gasoline</td>\n",
       "      <td>volkswagen</td>\n",
       "      <td>no</td>\n",
       "      <td>2016-03-18 00:00:00</td>\n",
       "      <td>0</td>\n",
       "      <td>52062</td>\n",
       "      <td>2016-03-25 03:47:16</td>\n",
       "    </tr>\n",
       "    <tr>\n",
       "      <th>598</th>\n",
       "      <td>2016-04-05 00:58:16</td>\n",
       "      <td>12000</td>\n",
       "      <td>sedan</td>\n",
       "      <td>2016</td>\n",
       "      <td>manual</td>\n",
       "      <td>105</td>\n",
       "      <td>golf</td>\n",
       "      <td>70000</td>\n",
       "      <td>6</td>\n",
       "      <td>petrol</td>\n",
       "      <td>volkswagen</td>\n",
       "      <td>no</td>\n",
       "      <td>2016-04-04 00:00:00</td>\n",
       "      <td>0</td>\n",
       "      <td>64823</td>\n",
       "      <td>2016-04-07 11:15:35</td>\n",
       "    </tr>\n",
       "    <tr>\n",
       "      <th>1026</th>\n",
       "      <td>2016-03-20 11:50:22</td>\n",
       "      <td>9200</td>\n",
       "      <td>sedan</td>\n",
       "      <td>2016</td>\n",
       "      <td>manual</td>\n",
       "      <td>75</td>\n",
       "      <td>golf</td>\n",
       "      <td>40000</td>\n",
       "      <td>8</td>\n",
       "      <td>petrol</td>\n",
       "      <td>volkswagen</td>\n",
       "      <td>no</td>\n",
       "      <td>2016-03-20 00:00:00</td>\n",
       "      <td>0</td>\n",
       "      <td>56727</td>\n",
       "      <td>2016-04-06 10:16:21</td>\n",
       "    </tr>\n",
       "    <tr>\n",
       "      <th>1179</th>\n",
       "      <td>2016-03-08 10:38:32</td>\n",
       "      <td>600</td>\n",
       "      <td>sedan</td>\n",
       "      <td>2016</td>\n",
       "      <td>manual</td>\n",
       "      <td>60</td>\n",
       "      <td>golf</td>\n",
       "      <td>150000</td>\n",
       "      <td>11</td>\n",
       "      <td>petrol</td>\n",
       "      <td>volkswagen</td>\n",
       "      <td>yes</td>\n",
       "      <td>2016-03-08 00:00:00</td>\n",
       "      <td>0</td>\n",
       "      <td>41749</td>\n",
       "      <td>2016-03-10 01:16:04</td>\n",
       "    </tr>\n",
       "    <tr>\n",
       "      <th>...</th>\n",
       "      <td>...</td>\n",
       "      <td>...</td>\n",
       "      <td>...</td>\n",
       "      <td>...</td>\n",
       "      <td>...</td>\n",
       "      <td>...</td>\n",
       "      <td>...</td>\n",
       "      <td>...</td>\n",
       "      <td>...</td>\n",
       "      <td>...</td>\n",
       "      <td>...</td>\n",
       "      <td>...</td>\n",
       "      <td>...</td>\n",
       "      <td>...</td>\n",
       "      <td>...</td>\n",
       "      <td>...</td>\n",
       "    </tr>\n",
       "    <tr>\n",
       "      <th>352518</th>\n",
       "      <td>2016-03-19 17:54:12</td>\n",
       "      <td>0</td>\n",
       "      <td>sedan</td>\n",
       "      <td>2016</td>\n",
       "      <td>manual</td>\n",
       "      <td>90</td>\n",
       "      <td>golf</td>\n",
       "      <td>150000</td>\n",
       "      <td>7</td>\n",
       "      <td>petrol</td>\n",
       "      <td>volkswagen</td>\n",
       "      <td>yes</td>\n",
       "      <td>2016-03-19 00:00:00</td>\n",
       "      <td>0</td>\n",
       "      <td>57334</td>\n",
       "      <td>2016-04-07 04:45:13</td>\n",
       "    </tr>\n",
       "    <tr>\n",
       "      <th>353015</th>\n",
       "      <td>2016-03-26 12:37:56</td>\n",
       "      <td>30</td>\n",
       "      <td>sedan</td>\n",
       "      <td>2016</td>\n",
       "      <td>manual</td>\n",
       "      <td>75</td>\n",
       "      <td>golf</td>\n",
       "      <td>150000</td>\n",
       "      <td>10</td>\n",
       "      <td>petrol</td>\n",
       "      <td>volkswagen</td>\n",
       "      <td>yes</td>\n",
       "      <td>2016-03-26 00:00:00</td>\n",
       "      <td>0</td>\n",
       "      <td>84048</td>\n",
       "      <td>2016-04-05 23:46:46</td>\n",
       "    </tr>\n",
       "    <tr>\n",
       "      <th>353175</th>\n",
       "      <td>2016-03-16 16:55:57</td>\n",
       "      <td>4500</td>\n",
       "      <td>sedan</td>\n",
       "      <td>2016</td>\n",
       "      <td>manual</td>\n",
       "      <td>0</td>\n",
       "      <td>golf</td>\n",
       "      <td>150000</td>\n",
       "      <td>11</td>\n",
       "      <td>petrol</td>\n",
       "      <td>volkswagen</td>\n",
       "      <td>yes</td>\n",
       "      <td>2016-03-16 00:00:00</td>\n",
       "      <td>0</td>\n",
       "      <td>63477</td>\n",
       "      <td>2016-04-02 21:18:45</td>\n",
       "    </tr>\n",
       "    <tr>\n",
       "      <th>354068</th>\n",
       "      <td>2016-03-17 22:06:35</td>\n",
       "      <td>3700</td>\n",
       "      <td>sedan</td>\n",
       "      <td>2016</td>\n",
       "      <td>manual</td>\n",
       "      <td>90</td>\n",
       "      <td>golf</td>\n",
       "      <td>150000</td>\n",
       "      <td>4</td>\n",
       "      <td>gasoline</td>\n",
       "      <td>volkswagen</td>\n",
       "      <td>yes</td>\n",
       "      <td>2016-03-17 00:00:00</td>\n",
       "      <td>0</td>\n",
       "      <td>55122</td>\n",
       "      <td>2016-03-19 16:30:51</td>\n",
       "    </tr>\n",
       "    <tr>\n",
       "      <th>354107</th>\n",
       "      <td>2016-03-09 12:51:50</td>\n",
       "      <td>395</td>\n",
       "      <td>sedan</td>\n",
       "      <td>2016</td>\n",
       "      <td>manual</td>\n",
       "      <td>60</td>\n",
       "      <td>golf</td>\n",
       "      <td>150000</td>\n",
       "      <td>12</td>\n",
       "      <td>petrol</td>\n",
       "      <td>volkswagen</td>\n",
       "      <td>yes</td>\n",
       "      <td>2016-03-09 00:00:00</td>\n",
       "      <td>0</td>\n",
       "      <td>25575</td>\n",
       "      <td>2016-04-05 23:45:21</td>\n",
       "    </tr>\n",
       "  </tbody>\n",
       "</table>\n",
       "<p>1078 rows × 16 columns</p>\n",
       "</div>"
      ],
      "text/plain": [
       "                datecrawled  price vehicletype  registrationyear gearbox  \\\n",
       "35      2016-03-08 07:54:46    350       sedan              2016  manual   \n",
       "541     2016-03-18 22:48:44   4550       sedan              2016  manual   \n",
       "598     2016-04-05 00:58:16  12000       sedan              2016  manual   \n",
       "1026    2016-03-20 11:50:22   9200       sedan              2016  manual   \n",
       "1179    2016-03-08 10:38:32    600       sedan              2016  manual   \n",
       "...                     ...    ...         ...               ...     ...   \n",
       "352518  2016-03-19 17:54:12      0       sedan              2016  manual   \n",
       "353015  2016-03-26 12:37:56     30       sedan              2016  manual   \n",
       "353175  2016-03-16 16:55:57   4500       sedan              2016  manual   \n",
       "354068  2016-03-17 22:06:35   3700       sedan              2016  manual   \n",
       "354107  2016-03-09 12:51:50    395       sedan              2016  manual   \n",
       "\n",
       "        power model  kilometer  registrationmonth  fueltype       brand  \\\n",
       "35         75  golf     150000                  4    petrol  volkswagen   \n",
       "541       101  golf     150000                  8  gasoline  volkswagen   \n",
       "598       105  golf      70000                  6    petrol  volkswagen   \n",
       "1026       75  golf      40000                  8    petrol  volkswagen   \n",
       "1179       60  golf     150000                 11    petrol  volkswagen   \n",
       "...       ...   ...        ...                ...       ...         ...   \n",
       "352518     90  golf     150000                  7    petrol  volkswagen   \n",
       "353015     75  golf     150000                 10    petrol  volkswagen   \n",
       "353175      0  golf     150000                 11    petrol  volkswagen   \n",
       "354068     90  golf     150000                  4  gasoline  volkswagen   \n",
       "354107     60  golf     150000                 12    petrol  volkswagen   \n",
       "\n",
       "       notrepaired          datecreated  numberofpictures  postalcode  \\\n",
       "35              no  2016-03-08 00:00:00                 0       19386   \n",
       "541             no  2016-03-18 00:00:00                 0       52062   \n",
       "598             no  2016-04-04 00:00:00                 0       64823   \n",
       "1026            no  2016-03-20 00:00:00                 0       56727   \n",
       "1179           yes  2016-03-08 00:00:00                 0       41749   \n",
       "...            ...                  ...               ...         ...   \n",
       "352518         yes  2016-03-19 00:00:00                 0       57334   \n",
       "353015         yes  2016-03-26 00:00:00                 0       84048   \n",
       "353175         yes  2016-03-16 00:00:00                 0       63477   \n",
       "354068         yes  2016-03-17 00:00:00                 0       55122   \n",
       "354107         yes  2016-03-09 00:00:00                 0       25575   \n",
       "\n",
       "                   lastseen  \n",
       "35      2016-03-08 09:44:50  \n",
       "541     2016-03-25 03:47:16  \n",
       "598     2016-04-07 11:15:35  \n",
       "1026    2016-04-06 10:16:21  \n",
       "1179    2016-03-10 01:16:04  \n",
       "...                     ...  \n",
       "352518  2016-04-07 04:45:13  \n",
       "353015  2016-04-05 23:46:46  \n",
       "353175  2016-04-02 21:18:45  \n",
       "354068  2016-03-19 16:30:51  \n",
       "354107  2016-04-05 23:45:21  \n",
       "\n",
       "[1078 rows x 16 columns]"
      ]
     },
     "execution_count": 481,
     "metadata": {},
     "output_type": "execute_result"
    }
   ],
   "source": [
    "vw_golf_2016 = vw_golf[vw_golf['registrationyear']==2016]\n",
    "vw_golf_2016"
   ]
  },
  {
   "cell_type": "code",
   "execution_count": 482,
   "metadata": {},
   "outputs": [
    {
     "data": {
      "text/plain": [
       "<AxesSubplot:ylabel='Frequency'>"
      ]
     },
     "execution_count": 482,
     "metadata": {},
     "output_type": "execute_result"
    },
    {
     "data": {
      "image/png": "[encoded data removed]",
      "text/plain": [
       "<Figure size 432x288 with 1 Axes>"
      ]
     },
     "metadata": {
      "needs_background": "light"
     },
     "output_type": "display_data"
    }
   ],
   "source": [
    "df['price'].plot(kind='hist')"
   ]
  },
  {
   "cell_type": "code",
   "execution_count": 483,
   "metadata": {},
   "outputs": [
    {
     "data": {
      "text/plain": [
       "<AxesSubplot:>"
      ]
     },
     "execution_count": 483,
     "metadata": {},
     "output_type": "execute_result"
    },
    {
     "data": {
      "image/png": "[encoded data removed]",
      "text/plain": [
       "<Figure size 432x288 with 1 Axes>"
      ]
     },
     "metadata": {
      "needs_background": "light"
     },
     "output_type": "display_data"
    }
   ],
   "source": [
    "df['price'].plot(kind='box')"
   ]
  },
  {
   "cell_type": "markdown",
   "metadata": {},
   "source": [
    "Данные за 2016 год для одной машины. Если обратить внимание на 2 последние строки, то машины идентичны. Разница только в мощности. А в цене разницы почти в 10 раз. \n",
    "\n",
    "Скорее всего, на цену влияют другие факторы, которые не указаны в наших данных. Это может быть связано с техническим состоянием, может быть машина битая, или что-то в этом роде. Но, нам нужно построить модель, которая будет адекватно предсказывать на текущем наборе данных. Ограничим значения цены более менее адекватными значениями от 2000 до 15000. По хорошему, нужно больше прнизнаков, которые влияют на цену."
   ]
  },
  {
   "cell_type": "code",
   "execution_count": 484,
   "metadata": {},
   "outputs": [],
   "source": [
    "df = df[df['price']>2000]"
   ]
  },
  {
   "cell_type": "code",
   "execution_count": 485,
   "metadata": {},
   "outputs": [
    {
     "data": {
      "text/plain": [
       "196174"
      ]
     },
     "execution_count": 485,
     "metadata": {},
     "output_type": "execute_result"
    }
   ],
   "source": [
    "len(df) # количество строк сократилось почти в 2 раза"
   ]
  },
  {
   "cell_type": "code",
   "execution_count": 486,
   "metadata": {},
   "outputs": [
    {
     "data": {
      "text/html": [
       "<div>\n",
       "<style scoped>\n",
       "    .dataframe tbody tr th:only-of-type {\n",
       "        vertical-align: middle;\n",
       "    }\n",
       "\n",
       "    .dataframe tbody tr th {\n",
       "        vertical-align: top;\n",
       "    }\n",
       "\n",
       "    .dataframe thead th {\n",
       "        text-align: right;\n",
       "    }\n",
       "</style>\n",
       "<table border=\"1\" class=\"dataframe\">\n",
       "  <thead>\n",
       "    <tr style=\"text-align: right;\">\n",
       "      <th></th>\n",
       "      <th>datecrawled</th>\n",
       "      <th>price</th>\n",
       "      <th>vehicletype</th>\n",
       "      <th>registrationyear</th>\n",
       "      <th>gearbox</th>\n",
       "      <th>power</th>\n",
       "      <th>model</th>\n",
       "      <th>kilometer</th>\n",
       "      <th>registrationmonth</th>\n",
       "      <th>fueltype</th>\n",
       "      <th>brand</th>\n",
       "      <th>notrepaired</th>\n",
       "      <th>datecreated</th>\n",
       "      <th>numberofpictures</th>\n",
       "      <th>postalcode</th>\n",
       "      <th>lastseen</th>\n",
       "    </tr>\n",
       "  </thead>\n",
       "  <tbody>\n",
       "    <tr>\n",
       "      <th>2</th>\n",
       "      <td>2016-03-14 12:52:21</td>\n",
       "      <td>9800</td>\n",
       "      <td>suv</td>\n",
       "      <td>2004</td>\n",
       "      <td>auto</td>\n",
       "      <td>163</td>\n",
       "      <td>grand</td>\n",
       "      <td>125000</td>\n",
       "      <td>8</td>\n",
       "      <td>gasoline</td>\n",
       "      <td>jeep</td>\n",
       "      <td>yes</td>\n",
       "      <td>2016-03-14 00:00:00</td>\n",
       "      <td>0</td>\n",
       "      <td>90480</td>\n",
       "      <td>2016-04-05 12:47:46</td>\n",
       "    </tr>\n",
       "    <tr>\n",
       "      <th>4</th>\n",
       "      <td>2016-03-31 17:25:20</td>\n",
       "      <td>3600</td>\n",
       "      <td>small</td>\n",
       "      <td>2008</td>\n",
       "      <td>manual</td>\n",
       "      <td>69</td>\n",
       "      <td>fabia</td>\n",
       "      <td>90000</td>\n",
       "      <td>7</td>\n",
       "      <td>gasoline</td>\n",
       "      <td>skoda</td>\n",
       "      <td>no</td>\n",
       "      <td>2016-03-31 00:00:00</td>\n",
       "      <td>0</td>\n",
       "      <td>60437</td>\n",
       "      <td>2016-04-06 10:17:21</td>\n",
       "    </tr>\n",
       "    <tr>\n",
       "      <th>6</th>\n",
       "      <td>2016-04-01 20:48:51</td>\n",
       "      <td>2200</td>\n",
       "      <td>convertible</td>\n",
       "      <td>2004</td>\n",
       "      <td>manual</td>\n",
       "      <td>109</td>\n",
       "      <td>2_reihe</td>\n",
       "      <td>150000</td>\n",
       "      <td>8</td>\n",
       "      <td>petrol</td>\n",
       "      <td>peugeot</td>\n",
       "      <td>no</td>\n",
       "      <td>2016-04-01 00:00:00</td>\n",
       "      <td>0</td>\n",
       "      <td>67112</td>\n",
       "      <td>2016-04-05 18:18:39</td>\n",
       "    </tr>\n",
       "    <tr>\n",
       "      <th>8</th>\n",
       "      <td>2016-04-04 23:42:13</td>\n",
       "      <td>14500</td>\n",
       "      <td>bus</td>\n",
       "      <td>2014</td>\n",
       "      <td>manual</td>\n",
       "      <td>125</td>\n",
       "      <td>c_max</td>\n",
       "      <td>30000</td>\n",
       "      <td>8</td>\n",
       "      <td>petrol</td>\n",
       "      <td>ford</td>\n",
       "      <td>no</td>\n",
       "      <td>2016-04-04 00:00:00</td>\n",
       "      <td>0</td>\n",
       "      <td>94505</td>\n",
       "      <td>2016-04-04 23:42:13</td>\n",
       "    </tr>\n",
       "    <tr>\n",
       "      <th>11</th>\n",
       "      <td>2016-04-07 10:06:22</td>\n",
       "      <td>2799</td>\n",
       "      <td>wagon</td>\n",
       "      <td>2005</td>\n",
       "      <td>manual</td>\n",
       "      <td>140</td>\n",
       "      <td>passat</td>\n",
       "      <td>150000</td>\n",
       "      <td>12</td>\n",
       "      <td>gasoline</td>\n",
       "      <td>volkswagen</td>\n",
       "      <td>yes</td>\n",
       "      <td>2016-04-07 00:00:00</td>\n",
       "      <td>0</td>\n",
       "      <td>57290</td>\n",
       "      <td>2016-04-07 10:25:17</td>\n",
       "    </tr>\n",
       "    <tr>\n",
       "      <th>...</th>\n",
       "      <td>...</td>\n",
       "      <td>...</td>\n",
       "      <td>...</td>\n",
       "      <td>...</td>\n",
       "      <td>...</td>\n",
       "      <td>...</td>\n",
       "      <td>...</td>\n",
       "      <td>...</td>\n",
       "      <td>...</td>\n",
       "      <td>...</td>\n",
       "      <td>...</td>\n",
       "      <td>...</td>\n",
       "      <td>...</td>\n",
       "      <td>...</td>\n",
       "      <td>...</td>\n",
       "      <td>...</td>\n",
       "    </tr>\n",
       "    <tr>\n",
       "      <th>354360</th>\n",
       "      <td>2016-04-02 20:37:03</td>\n",
       "      <td>3999</td>\n",
       "      <td>wagon</td>\n",
       "      <td>2005</td>\n",
       "      <td>manual</td>\n",
       "      <td>3</td>\n",
       "      <td>3er</td>\n",
       "      <td>150000</td>\n",
       "      <td>5</td>\n",
       "      <td>gasoline</td>\n",
       "      <td>bmw</td>\n",
       "      <td>no</td>\n",
       "      <td>2016-04-02 00:00:00</td>\n",
       "      <td>0</td>\n",
       "      <td>81825</td>\n",
       "      <td>2016-04-06 20:47:12</td>\n",
       "    </tr>\n",
       "    <tr>\n",
       "      <th>354361</th>\n",
       "      <td>2016-03-09 13:37:43</td>\n",
       "      <td>5250</td>\n",
       "      <td>wagon</td>\n",
       "      <td>2016</td>\n",
       "      <td>auto</td>\n",
       "      <td>150</td>\n",
       "      <td>159</td>\n",
       "      <td>150000</td>\n",
       "      <td>12</td>\n",
       "      <td>petrol</td>\n",
       "      <td>alfa_romeo</td>\n",
       "      <td>no</td>\n",
       "      <td>2016-03-09 00:00:00</td>\n",
       "      <td>0</td>\n",
       "      <td>51371</td>\n",
       "      <td>2016-03-13 01:44:13</td>\n",
       "    </tr>\n",
       "    <tr>\n",
       "      <th>354362</th>\n",
       "      <td>2016-03-19 19:53:49</td>\n",
       "      <td>3200</td>\n",
       "      <td>sedan</td>\n",
       "      <td>2004</td>\n",
       "      <td>manual</td>\n",
       "      <td>225</td>\n",
       "      <td>leon</td>\n",
       "      <td>150000</td>\n",
       "      <td>5</td>\n",
       "      <td>petrol</td>\n",
       "      <td>seat</td>\n",
       "      <td>yes</td>\n",
       "      <td>2016-03-19 00:00:00</td>\n",
       "      <td>0</td>\n",
       "      <td>96465</td>\n",
       "      <td>2016-03-19 20:44:43</td>\n",
       "    </tr>\n",
       "    <tr>\n",
       "      <th>354367</th>\n",
       "      <td>2016-03-19 18:57:12</td>\n",
       "      <td>9200</td>\n",
       "      <td>bus</td>\n",
       "      <td>1996</td>\n",
       "      <td>manual</td>\n",
       "      <td>102</td>\n",
       "      <td>transporter</td>\n",
       "      <td>150000</td>\n",
       "      <td>3</td>\n",
       "      <td>gasoline</td>\n",
       "      <td>volkswagen</td>\n",
       "      <td>no</td>\n",
       "      <td>2016-03-19 00:00:00</td>\n",
       "      <td>0</td>\n",
       "      <td>87439</td>\n",
       "      <td>2016-04-07 07:15:26</td>\n",
       "    </tr>\n",
       "    <tr>\n",
       "      <th>354368</th>\n",
       "      <td>2016-03-20 19:41:08</td>\n",
       "      <td>3400</td>\n",
       "      <td>wagon</td>\n",
       "      <td>2002</td>\n",
       "      <td>manual</td>\n",
       "      <td>100</td>\n",
       "      <td>golf</td>\n",
       "      <td>150000</td>\n",
       "      <td>6</td>\n",
       "      <td>gasoline</td>\n",
       "      <td>volkswagen</td>\n",
       "      <td>yes</td>\n",
       "      <td>2016-03-20 00:00:00</td>\n",
       "      <td>0</td>\n",
       "      <td>40764</td>\n",
       "      <td>2016-03-24 12:45:21</td>\n",
       "    </tr>\n",
       "  </tbody>\n",
       "</table>\n",
       "<p>196174 rows × 16 columns</p>\n",
       "</div>"
      ],
      "text/plain": [
       "                datecrawled  price  vehicletype  registrationyear gearbox  \\\n",
       "2       2016-03-14 12:52:21   9800          suv              2004    auto   \n",
       "4       2016-03-31 17:25:20   3600        small              2008  manual   \n",
       "6       2016-04-01 20:48:51   2200  convertible              2004  manual   \n",
       "8       2016-04-04 23:42:13  14500          bus              2014  manual   \n",
       "11      2016-04-07 10:06:22   2799        wagon              2005  manual   \n",
       "...                     ...    ...          ...               ...     ...   \n",
       "354360  2016-04-02 20:37:03   3999        wagon              2005  manual   \n",
       "354361  2016-03-09 13:37:43   5250        wagon              2016    auto   \n",
       "354362  2016-03-19 19:53:49   3200        sedan              2004  manual   \n",
       "354367  2016-03-19 18:57:12   9200          bus              1996  manual   \n",
       "354368  2016-03-20 19:41:08   3400        wagon              2002  manual   \n",
       "\n",
       "        power        model  kilometer  registrationmonth  fueltype  \\\n",
       "2         163        grand     125000                  8  gasoline   \n",
       "4          69        fabia      90000                  7  gasoline   \n",
       "6         109      2_reihe     150000                  8    petrol   \n",
       "8         125        c_max      30000                  8    petrol   \n",
       "11        140       passat     150000                 12  gasoline   \n",
       "...       ...          ...        ...                ...       ...   \n",
       "354360      3          3er     150000                  5  gasoline   \n",
       "354361    150          159     150000                 12    petrol   \n",
       "354362    225         leon     150000                  5    petrol   \n",
       "354367    102  transporter     150000                  3  gasoline   \n",
       "354368    100         golf     150000                  6  gasoline   \n",
       "\n",
       "             brand notrepaired          datecreated  numberofpictures  \\\n",
       "2             jeep         yes  2016-03-14 00:00:00                 0   \n",
       "4            skoda          no  2016-03-31 00:00:00                 0   \n",
       "6          peugeot          no  2016-04-01 00:00:00                 0   \n",
       "8             ford          no  2016-04-04 00:00:00                 0   \n",
       "11      volkswagen         yes  2016-04-07 00:00:00                 0   \n",
       "...            ...         ...                  ...               ...   \n",
       "354360         bmw          no  2016-04-02 00:00:00                 0   \n",
       "354361  alfa_romeo          no  2016-03-09 00:00:00                 0   \n",
       "354362        seat         yes  2016-03-19 00:00:00                 0   \n",
       "354367  volkswagen          no  2016-03-19 00:00:00                 0   \n",
       "354368  volkswagen         yes  2016-03-20 00:00:00                 0   \n",
       "\n",
       "        postalcode             lastseen  \n",
       "2            90480  2016-04-05 12:47:46  \n",
       "4            60437  2016-04-06 10:17:21  \n",
       "6            67112  2016-04-05 18:18:39  \n",
       "8            94505  2016-04-04 23:42:13  \n",
       "11           57290  2016-04-07 10:25:17  \n",
       "...            ...                  ...  \n",
       "354360       81825  2016-04-06 20:47:12  \n",
       "354361       51371  2016-03-13 01:44:13  \n",
       "354362       96465  2016-03-19 20:44:43  \n",
       "354367       87439  2016-04-07 07:15:26  \n",
       "354368       40764  2016-03-24 12:45:21  \n",
       "\n",
       "[196174 rows x 16 columns]"
      ]
     },
     "execution_count": 486,
     "metadata": {},
     "output_type": "execute_result"
    }
   ],
   "source": [
    "df"
   ]
  },
  {
   "cell_type": "markdown",
   "metadata": {},
   "source": [
    "Столбцы datecrawled, datecreated, postalcode и lastseen не будут влиять на обучение. Удалим их"
   ]
  },
  {
   "cell_type": "code",
   "execution_count": 487,
   "metadata": {},
   "outputs": [],
   "source": [
    "df['datecrawled'] = pd.to_datetime(df['datecrawled'], format='%Y-%m-%d %H:%M:%S')\n",
    "df['datecreated'] = pd.to_datetime(df['datecreated'], format='%Y-%m-%d %H:%M:%S')\n",
    "df['datecreated'] = pd.DatetimeIndex(df['datecreated']).year"
   ]
  },
  {
   "cell_type": "code",
   "execution_count": 488,
   "metadata": {},
   "outputs": [
    {
     "data": {
      "text/plain": [
       "2016    196154\n",
       "2015        19\n",
       "2014         1\n",
       "Name: datecreated, dtype: int64"
      ]
     },
     "execution_count": 488,
     "metadata": {},
     "output_type": "execute_result"
    }
   ],
   "source": [
    "df['datecreated'].value_counts()"
   ]
  },
  {
   "cell_type": "code",
   "execution_count": 489,
   "metadata": {},
   "outputs": [
    {
     "data": {
      "text/plain": [
       "0"
      ]
     },
     "execution_count": 489,
     "metadata": {},
     "output_type": "execute_result"
    }
   ],
   "source": [
    "df.duplicated().sum()"
   ]
  },
  {
   "cell_type": "code",
   "execution_count": 490,
   "metadata": {},
   "outputs": [
    {
     "data": {
      "text/html": [
       "<div>\n",
       "<style scoped>\n",
       "    .dataframe tbody tr th:only-of-type {\n",
       "        vertical-align: middle;\n",
       "    }\n",
       "\n",
       "    .dataframe tbody tr th {\n",
       "        vertical-align: top;\n",
       "    }\n",
       "\n",
       "    .dataframe thead th {\n",
       "        text-align: right;\n",
       "    }\n",
       "</style>\n",
       "<table border=\"1\" class=\"dataframe\">\n",
       "  <thead>\n",
       "    <tr style=\"text-align: right;\">\n",
       "      <th></th>\n",
       "      <th>datecrawled</th>\n",
       "      <th>price</th>\n",
       "      <th>vehicletype</th>\n",
       "      <th>registrationyear</th>\n",
       "      <th>gearbox</th>\n",
       "      <th>power</th>\n",
       "      <th>model</th>\n",
       "      <th>kilometer</th>\n",
       "      <th>registrationmonth</th>\n",
       "      <th>fueltype</th>\n",
       "      <th>brand</th>\n",
       "      <th>notrepaired</th>\n",
       "      <th>datecreated</th>\n",
       "      <th>numberofpictures</th>\n",
       "      <th>postalcode</th>\n",
       "      <th>lastseen</th>\n",
       "    </tr>\n",
       "  </thead>\n",
       "  <tbody>\n",
       "    <tr>\n",
       "      <th>22</th>\n",
       "      <td>2016-03-23 14:52:51</td>\n",
       "      <td>2900</td>\n",
       "      <td>bus</td>\n",
       "      <td>2018</td>\n",
       "      <td>manual</td>\n",
       "      <td>90</td>\n",
       "      <td>meriva</td>\n",
       "      <td>150000</td>\n",
       "      <td>5</td>\n",
       "      <td>petrol</td>\n",
       "      <td>opel</td>\n",
       "      <td>no</td>\n",
       "      <td>2016</td>\n",
       "      <td>0</td>\n",
       "      <td>49716</td>\n",
       "      <td>2016-03-31 01:16:33</td>\n",
       "    </tr>\n",
       "    <tr>\n",
       "      <th>26</th>\n",
       "      <td>2016-03-10 19:38:18</td>\n",
       "      <td>5555</td>\n",
       "      <td>sedan</td>\n",
       "      <td>2017</td>\n",
       "      <td>manual</td>\n",
       "      <td>125</td>\n",
       "      <td>c4</td>\n",
       "      <td>125000</td>\n",
       "      <td>4</td>\n",
       "      <td>petrol</td>\n",
       "      <td>citroen</td>\n",
       "      <td>no</td>\n",
       "      <td>2016</td>\n",
       "      <td>0</td>\n",
       "      <td>31139</td>\n",
       "      <td>2016-03-16 09:16:46</td>\n",
       "    </tr>\n",
       "    <tr>\n",
       "      <th>48</th>\n",
       "      <td>2016-03-25 14:40:12</td>\n",
       "      <td>7750</td>\n",
       "      <td>sedan</td>\n",
       "      <td>2017</td>\n",
       "      <td>manual</td>\n",
       "      <td>80</td>\n",
       "      <td>golf</td>\n",
       "      <td>100000</td>\n",
       "      <td>1</td>\n",
       "      <td>petrol</td>\n",
       "      <td>volkswagen</td>\n",
       "      <td>yes</td>\n",
       "      <td>2016</td>\n",
       "      <td>0</td>\n",
       "      <td>48499</td>\n",
       "      <td>2016-03-31 21:47:44</td>\n",
       "    </tr>\n",
       "    <tr>\n",
       "      <th>57</th>\n",
       "      <td>2016-03-10 20:53:19</td>\n",
       "      <td>2399</td>\n",
       "      <td>sedan</td>\n",
       "      <td>2018</td>\n",
       "      <td>manual</td>\n",
       "      <td>64</td>\n",
       "      <td>other</td>\n",
       "      <td>125000</td>\n",
       "      <td>3</td>\n",
       "      <td>petrol</td>\n",
       "      <td>seat</td>\n",
       "      <td>no</td>\n",
       "      <td>2016</td>\n",
       "      <td>0</td>\n",
       "      <td>33397</td>\n",
       "      <td>2016-03-25 10:17:37</td>\n",
       "    </tr>\n",
       "    <tr>\n",
       "      <th>65</th>\n",
       "      <td>2016-03-28 17:41:27</td>\n",
       "      <td>10900</td>\n",
       "      <td>sedan</td>\n",
       "      <td>2017</td>\n",
       "      <td>manual</td>\n",
       "      <td>101</td>\n",
       "      <td>astra</td>\n",
       "      <td>50000</td>\n",
       "      <td>3</td>\n",
       "      <td>petrol</td>\n",
       "      <td>opel</td>\n",
       "      <td>no</td>\n",
       "      <td>2016</td>\n",
       "      <td>0</td>\n",
       "      <td>63607</td>\n",
       "      <td>2016-04-06 23:15:52</td>\n",
       "    </tr>\n",
       "    <tr>\n",
       "      <th>...</th>\n",
       "      <td>...</td>\n",
       "      <td>...</td>\n",
       "      <td>...</td>\n",
       "      <td>...</td>\n",
       "      <td>...</td>\n",
       "      <td>...</td>\n",
       "      <td>...</td>\n",
       "      <td>...</td>\n",
       "      <td>...</td>\n",
       "      <td>...</td>\n",
       "      <td>...</td>\n",
       "      <td>...</td>\n",
       "      <td>...</td>\n",
       "      <td>...</td>\n",
       "      <td>...</td>\n",
       "      <td>...</td>\n",
       "    </tr>\n",
       "    <tr>\n",
       "      <th>353844</th>\n",
       "      <td>2016-03-20 16:37:55</td>\n",
       "      <td>2250</td>\n",
       "      <td>small</td>\n",
       "      <td>2017</td>\n",
       "      <td>manual</td>\n",
       "      <td>60</td>\n",
       "      <td>corsa</td>\n",
       "      <td>150000</td>\n",
       "      <td>8</td>\n",
       "      <td>petrol</td>\n",
       "      <td>opel</td>\n",
       "      <td>no</td>\n",
       "      <td>2016</td>\n",
       "      <td>0</td>\n",
       "      <td>44536</td>\n",
       "      <td>2016-04-04 19:45:04</td>\n",
       "    </tr>\n",
       "    <tr>\n",
       "      <th>354099</th>\n",
       "      <td>2016-03-17 15:45:46</td>\n",
       "      <td>4900</td>\n",
       "      <td>small</td>\n",
       "      <td>2017</td>\n",
       "      <td>manual</td>\n",
       "      <td>69</td>\n",
       "      <td>polo</td>\n",
       "      <td>150000</td>\n",
       "      <td>12</td>\n",
       "      <td>gasoline</td>\n",
       "      <td>volkswagen</td>\n",
       "      <td>yes</td>\n",
       "      <td>2016</td>\n",
       "      <td>0</td>\n",
       "      <td>32791</td>\n",
       "      <td>2016-03-25 17:51:29</td>\n",
       "    </tr>\n",
       "    <tr>\n",
       "      <th>354112</th>\n",
       "      <td>2016-03-11 15:49:51</td>\n",
       "      <td>3600</td>\n",
       "      <td>bus</td>\n",
       "      <td>2017</td>\n",
       "      <td>manual</td>\n",
       "      <td>86</td>\n",
       "      <td>transit</td>\n",
       "      <td>150000</td>\n",
       "      <td>5</td>\n",
       "      <td>gasoline</td>\n",
       "      <td>ford</td>\n",
       "      <td>yes</td>\n",
       "      <td>2016</td>\n",
       "      <td>0</td>\n",
       "      <td>32339</td>\n",
       "      <td>2016-03-12 05:45:02</td>\n",
       "    </tr>\n",
       "    <tr>\n",
       "      <th>354203</th>\n",
       "      <td>2016-03-17 00:56:26</td>\n",
       "      <td>2140</td>\n",
       "      <td>small</td>\n",
       "      <td>2018</td>\n",
       "      <td>manual</td>\n",
       "      <td>80</td>\n",
       "      <td>fiesta</td>\n",
       "      <td>150000</td>\n",
       "      <td>6</td>\n",
       "      <td>petrol</td>\n",
       "      <td>ford</td>\n",
       "      <td>no</td>\n",
       "      <td>2016</td>\n",
       "      <td>0</td>\n",
       "      <td>44866</td>\n",
       "      <td>2016-03-29 15:45:04</td>\n",
       "    </tr>\n",
       "    <tr>\n",
       "      <th>354289</th>\n",
       "      <td>2016-03-05 14:55:29</td>\n",
       "      <td>5000</td>\n",
       "      <td>sedan</td>\n",
       "      <td>2017</td>\n",
       "      <td>manual</td>\n",
       "      <td>120</td>\n",
       "      <td>other</td>\n",
       "      <td>150000</td>\n",
       "      <td>7</td>\n",
       "      <td>petrol</td>\n",
       "      <td>citroen</td>\n",
       "      <td>yes</td>\n",
       "      <td>2016</td>\n",
       "      <td>0</td>\n",
       "      <td>15518</td>\n",
       "      <td>2016-04-05 11:48:09</td>\n",
       "    </tr>\n",
       "  </tbody>\n",
       "</table>\n",
       "<p>5861 rows × 16 columns</p>\n",
       "</div>"
      ],
      "text/plain": [
       "               datecrawled  price vehicletype  registrationyear gearbox  \\\n",
       "22     2016-03-23 14:52:51   2900         bus              2018  manual   \n",
       "26     2016-03-10 19:38:18   5555       sedan              2017  manual   \n",
       "48     2016-03-25 14:40:12   7750       sedan              2017  manual   \n",
       "57     2016-03-10 20:53:19   2399       sedan              2018  manual   \n",
       "65     2016-03-28 17:41:27  10900       sedan              2017  manual   \n",
       "...                    ...    ...         ...               ...     ...   \n",
       "353844 2016-03-20 16:37:55   2250       small              2017  manual   \n",
       "354099 2016-03-17 15:45:46   4900       small              2017  manual   \n",
       "354112 2016-03-11 15:49:51   3600         bus              2017  manual   \n",
       "354203 2016-03-17 00:56:26   2140       small              2018  manual   \n",
       "354289 2016-03-05 14:55:29   5000       sedan              2017  manual   \n",
       "\n",
       "        power    model  kilometer  registrationmonth  fueltype       brand  \\\n",
       "22         90   meriva     150000                  5    petrol        opel   \n",
       "26        125       c4     125000                  4    petrol     citroen   \n",
       "48         80     golf     100000                  1    petrol  volkswagen   \n",
       "57         64    other     125000                  3    petrol        seat   \n",
       "65        101    astra      50000                  3    petrol        opel   \n",
       "...       ...      ...        ...                ...       ...         ...   \n",
       "353844     60    corsa     150000                  8    petrol        opel   \n",
       "354099     69     polo     150000                 12  gasoline  volkswagen   \n",
       "354112     86  transit     150000                  5  gasoline        ford   \n",
       "354203     80   fiesta     150000                  6    petrol        ford   \n",
       "354289    120    other     150000                  7    petrol     citroen   \n",
       "\n",
       "       notrepaired  datecreated  numberofpictures  postalcode  \\\n",
       "22              no         2016                 0       49716   \n",
       "26              no         2016                 0       31139   \n",
       "48             yes         2016                 0       48499   \n",
       "57              no         2016                 0       33397   \n",
       "65              no         2016                 0       63607   \n",
       "...            ...          ...               ...         ...   \n",
       "353844          no         2016                 0       44536   \n",
       "354099         yes         2016                 0       32791   \n",
       "354112         yes         2016                 0       32339   \n",
       "354203          no         2016                 0       44866   \n",
       "354289         yes         2016                 0       15518   \n",
       "\n",
       "                   lastseen  \n",
       "22      2016-03-31 01:16:33  \n",
       "26      2016-03-16 09:16:46  \n",
       "48      2016-03-31 21:47:44  \n",
       "57      2016-03-25 10:17:37  \n",
       "65      2016-04-06 23:15:52  \n",
       "...                     ...  \n",
       "353844  2016-04-04 19:45:04  \n",
       "354099  2016-03-25 17:51:29  \n",
       "354112  2016-03-12 05:45:02  \n",
       "354203  2016-03-29 15:45:04  \n",
       "354289  2016-04-05 11:48:09  \n",
       "\n",
       "[5861 rows x 16 columns]"
      ]
     },
     "execution_count": 490,
     "metadata": {},
     "output_type": "execute_result"
    }
   ],
   "source": [
    "df[df['registrationyear']>2016]"
   ]
  },
  {
   "cell_type": "code",
   "execution_count": 491,
   "metadata": {},
   "outputs": [],
   "source": [
    "df = df.drop(['datecrawled', 'datecreated', 'postalcode','lastseen'], axis=1)"
   ]
  },
  {
   "cell_type": "code",
   "execution_count": 492,
   "metadata": {},
   "outputs": [
    {
     "data": {
      "text/plain": [
       "0    196174\n",
       "Name: numberofpictures, dtype: int64"
      ]
     },
     "execution_count": 492,
     "metadata": {},
     "output_type": "execute_result"
    }
   ],
   "source": [
    "df.numberofpictures.value_counts()"
   ]
  },
  {
   "cell_type": "markdown",
   "metadata": {},
   "source": [
    "Столбец numberofpictures состоит из нулей. Удалим"
   ]
  },
  {
   "cell_type": "code",
   "execution_count": 493,
   "metadata": {},
   "outputs": [],
   "source": [
    "df = df.drop(['numberofpictures'], axis=1)"
   ]
  },
  {
   "cell_type": "code",
   "execution_count": 494,
   "metadata": {},
   "outputs": [
    {
     "data": {
      "text/plain": [
       "<AxesSubplot:>"
      ]
     },
     "execution_count": 494,
     "metadata": {},
     "output_type": "execute_result"
    },
    {
     "data": {
      "image/png": "[encoded data removed]",
      "text/plain": [
       "<Figure size 432x288 with 1 Axes>"
      ]
     },
     "metadata": {
      "needs_background": "light"
     },
     "output_type": "display_data"
    }
   ],
   "source": [
    "df.registrationyear.hist()"
   ]
  },
  {
   "cell_type": "markdown",
   "metadata": {},
   "source": [
    "В столбце с годом регистрации тоже есть выбросы, удалим."
   ]
  },
  {
   "cell_type": "code",
   "execution_count": 495,
   "metadata": {},
   "outputs": [],
   "source": [
    "df = df[df['registrationyear']>=1980]\n",
    "df = df[df['registrationyear']<=2022] #тут с 2022 исправил на 2016"
   ]
  },
  {
   "cell_type": "code",
   "execution_count": 496,
   "metadata": {},
   "outputs": [
    {
     "data": {
      "text/plain": [
       "<AxesSubplot:>"
      ]
     },
     "execution_count": 496,
     "metadata": {},
     "output_type": "execute_result"
    },
    {
     "data": {
      "image/png": "[encoded data removed]",
      "text/plain": [
       "<Figure size 432x288 with 1 Axes>"
      ]
     },
     "metadata": {
      "needs_background": "light"
     },
     "output_type": "display_data"
    }
   ],
   "source": [
    "df.registrationyear.hist()"
   ]
  },
  {
   "cell_type": "code",
   "execution_count": 497,
   "metadata": {},
   "outputs": [
    {
     "data": {
      "text/html": [
       "<div>\n",
       "<style scoped>\n",
       "    .dataframe tbody tr th:only-of-type {\n",
       "        vertical-align: middle;\n",
       "    }\n",
       "\n",
       "    .dataframe tbody tr th {\n",
       "        vertical-align: top;\n",
       "    }\n",
       "\n",
       "    .dataframe thead th {\n",
       "        text-align: right;\n",
       "    }\n",
       "</style>\n",
       "<table border=\"1\" class=\"dataframe\">\n",
       "  <thead>\n",
       "    <tr style=\"text-align: right;\">\n",
       "      <th></th>\n",
       "      <th>price</th>\n",
       "      <th>registrationyear</th>\n",
       "      <th>power</th>\n",
       "      <th>kilometer</th>\n",
       "      <th>registrationmonth</th>\n",
       "    </tr>\n",
       "  </thead>\n",
       "  <tbody>\n",
       "    <tr>\n",
       "      <th>count</th>\n",
       "      <td>194206.000000</td>\n",
       "      <td>194206.000000</td>\n",
       "      <td>194206.000000</td>\n",
       "      <td>194206.000000</td>\n",
       "      <td>194206.000000</td>\n",
       "    </tr>\n",
       "    <tr>\n",
       "      <th>mean</th>\n",
       "      <td>6979.941258</td>\n",
       "      <td>2005.684711</td>\n",
       "      <td>131.733582</td>\n",
       "      <td>121884.957210</td>\n",
       "      <td>6.180880</td>\n",
       "    </tr>\n",
       "    <tr>\n",
       "      <th>std</th>\n",
       "      <td>4434.904505</td>\n",
       "      <td>5.552339</td>\n",
       "      <td>180.470503</td>\n",
       "      <td>39775.319248</td>\n",
       "      <td>3.525806</td>\n",
       "    </tr>\n",
       "    <tr>\n",
       "      <th>min</th>\n",
       "      <td>2001.000000</td>\n",
       "      <td>1980.000000</td>\n",
       "      <td>0.000000</td>\n",
       "      <td>5000.000000</td>\n",
       "      <td>0.000000</td>\n",
       "    </tr>\n",
       "    <tr>\n",
       "      <th>25%</th>\n",
       "      <td>3490.000000</td>\n",
       "      <td>2003.000000</td>\n",
       "      <td>90.000000</td>\n",
       "      <td>100000.000000</td>\n",
       "      <td>3.000000</td>\n",
       "    </tr>\n",
       "    <tr>\n",
       "      <th>50%</th>\n",
       "      <td>5550.000000</td>\n",
       "      <td>2006.000000</td>\n",
       "      <td>125.000000</td>\n",
       "      <td>150000.000000</td>\n",
       "      <td>6.000000</td>\n",
       "    </tr>\n",
       "    <tr>\n",
       "      <th>75%</th>\n",
       "      <td>9450.000000</td>\n",
       "      <td>2009.000000</td>\n",
       "      <td>163.000000</td>\n",
       "      <td>150000.000000</td>\n",
       "      <td>9.000000</td>\n",
       "    </tr>\n",
       "    <tr>\n",
       "      <th>max</th>\n",
       "      <td>20000.000000</td>\n",
       "      <td>2019.000000</td>\n",
       "      <td>20000.000000</td>\n",
       "      <td>150000.000000</td>\n",
       "      <td>12.000000</td>\n",
       "    </tr>\n",
       "  </tbody>\n",
       "</table>\n",
       "</div>"
      ],
      "text/plain": [
       "               price  registrationyear          power      kilometer  \\\n",
       "count  194206.000000     194206.000000  194206.000000  194206.000000   \n",
       "mean     6979.941258       2005.684711     131.733582  121884.957210   \n",
       "std      4434.904505          5.552339     180.470503   39775.319248   \n",
       "min      2001.000000       1980.000000       0.000000    5000.000000   \n",
       "25%      3490.000000       2003.000000      90.000000  100000.000000   \n",
       "50%      5550.000000       2006.000000     125.000000  150000.000000   \n",
       "75%      9450.000000       2009.000000     163.000000  150000.000000   \n",
       "max     20000.000000       2019.000000   20000.000000  150000.000000   \n",
       "\n",
       "       registrationmonth  \n",
       "count      194206.000000  \n",
       "mean            6.180880  \n",
       "std             3.525806  \n",
       "min             0.000000  \n",
       "25%             3.000000  \n",
       "50%             6.000000  \n",
       "75%             9.000000  \n",
       "max            12.000000  "
      ]
     },
     "execution_count": 497,
     "metadata": {},
     "output_type": "execute_result"
    }
   ],
   "source": [
    "df.describe()"
   ]
  },
  {
   "cell_type": "markdown",
   "metadata": {},
   "source": [
    "Остался последний столбец - \"power\". Тут есть выбросы и нулевые значения, избавимся от них."
   ]
  },
  {
   "cell_type": "code",
   "execution_count": 498,
   "metadata": {},
   "outputs": [
    {
     "data": {
      "text/plain": [
       "<AxesSubplot:>"
      ]
     },
     "execution_count": 498,
     "metadata": {},
     "output_type": "execute_result"
    },
    {
     "data": {
      "image/png": "[encoded data removed]",
      "text/plain": [
       "<Figure size 432x288 with 1 Axes>"
      ]
     },
     "metadata": {
      "needs_background": "light"
     },
     "output_type": "display_data"
    }
   ],
   "source": [
    "df.power.hist(range=(0,500), bins=30)"
   ]
  },
  {
   "cell_type": "code",
   "execution_count": 499,
   "metadata": {},
   "outputs": [],
   "source": [
    "df = df[df['power']>30]\n",
    "df = df[df['power']<=600]"
   ]
  },
  {
   "cell_type": "code",
   "execution_count": 500,
   "metadata": {},
   "outputs": [
    {
     "data": {
      "text/plain": [
       "<AxesSubplot:ylabel='Frequency'>"
      ]
     },
     "execution_count": 500,
     "metadata": {},
     "output_type": "execute_result"
    },
    {
     "data": {
      "image/png": "[encoded data removed]",
      "text/plain": [
       "<Figure size 432x288 with 1 Axes>"
      ]
     },
     "metadata": {
      "needs_background": "light"
     },
     "output_type": "display_data"
    }
   ],
   "source": [
    "df['power'].plot(kind='hist')"
   ]
  },
  {
   "cell_type": "markdown",
   "metadata": {},
   "source": [
    "Итоговый набор данных составляет 183 119 строк. Укоротили наш набор в 2 раза"
   ]
  },
  {
   "cell_type": "code",
   "execution_count": 501,
   "metadata": {},
   "outputs": [
    {
     "data": {
      "text/html": [
       "<div>\n",
       "<style scoped>\n",
       "    .dataframe tbody tr th:only-of-type {\n",
       "        vertical-align: middle;\n",
       "    }\n",
       "\n",
       "    .dataframe tbody tr th {\n",
       "        vertical-align: top;\n",
       "    }\n",
       "\n",
       "    .dataframe thead th {\n",
       "        text-align: right;\n",
       "    }\n",
       "</style>\n",
       "<table border=\"1\" class=\"dataframe\">\n",
       "  <thead>\n",
       "    <tr style=\"text-align: right;\">\n",
       "      <th></th>\n",
       "      <th>price</th>\n",
       "      <th>vehicletype</th>\n",
       "      <th>registrationyear</th>\n",
       "      <th>gearbox</th>\n",
       "      <th>power</th>\n",
       "      <th>model</th>\n",
       "      <th>kilometer</th>\n",
       "      <th>registrationmonth</th>\n",
       "      <th>fueltype</th>\n",
       "      <th>brand</th>\n",
       "      <th>notrepaired</th>\n",
       "    </tr>\n",
       "  </thead>\n",
       "  <tbody>\n",
       "    <tr>\n",
       "      <th>2</th>\n",
       "      <td>9800</td>\n",
       "      <td>suv</td>\n",
       "      <td>2004</td>\n",
       "      <td>auto</td>\n",
       "      <td>163</td>\n",
       "      <td>grand</td>\n",
       "      <td>125000</td>\n",
       "      <td>8</td>\n",
       "      <td>gasoline</td>\n",
       "      <td>jeep</td>\n",
       "      <td>yes</td>\n",
       "    </tr>\n",
       "    <tr>\n",
       "      <th>4</th>\n",
       "      <td>3600</td>\n",
       "      <td>small</td>\n",
       "      <td>2008</td>\n",
       "      <td>manual</td>\n",
       "      <td>69</td>\n",
       "      <td>fabia</td>\n",
       "      <td>90000</td>\n",
       "      <td>7</td>\n",
       "      <td>gasoline</td>\n",
       "      <td>skoda</td>\n",
       "      <td>no</td>\n",
       "    </tr>\n",
       "    <tr>\n",
       "      <th>6</th>\n",
       "      <td>2200</td>\n",
       "      <td>convertible</td>\n",
       "      <td>2004</td>\n",
       "      <td>manual</td>\n",
       "      <td>109</td>\n",
       "      <td>2_reihe</td>\n",
       "      <td>150000</td>\n",
       "      <td>8</td>\n",
       "      <td>petrol</td>\n",
       "      <td>peugeot</td>\n",
       "      <td>no</td>\n",
       "    </tr>\n",
       "    <tr>\n",
       "      <th>8</th>\n",
       "      <td>14500</td>\n",
       "      <td>bus</td>\n",
       "      <td>2014</td>\n",
       "      <td>manual</td>\n",
       "      <td>125</td>\n",
       "      <td>c_max</td>\n",
       "      <td>30000</td>\n",
       "      <td>8</td>\n",
       "      <td>petrol</td>\n",
       "      <td>ford</td>\n",
       "      <td>no</td>\n",
       "    </tr>\n",
       "    <tr>\n",
       "      <th>11</th>\n",
       "      <td>2799</td>\n",
       "      <td>wagon</td>\n",
       "      <td>2005</td>\n",
       "      <td>manual</td>\n",
       "      <td>140</td>\n",
       "      <td>passat</td>\n",
       "      <td>150000</td>\n",
       "      <td>12</td>\n",
       "      <td>gasoline</td>\n",
       "      <td>volkswagen</td>\n",
       "      <td>yes</td>\n",
       "    </tr>\n",
       "    <tr>\n",
       "      <th>...</th>\n",
       "      <td>...</td>\n",
       "      <td>...</td>\n",
       "      <td>...</td>\n",
       "      <td>...</td>\n",
       "      <td>...</td>\n",
       "      <td>...</td>\n",
       "      <td>...</td>\n",
       "      <td>...</td>\n",
       "      <td>...</td>\n",
       "      <td>...</td>\n",
       "      <td>...</td>\n",
       "    </tr>\n",
       "    <tr>\n",
       "      <th>354359</th>\n",
       "      <td>7900</td>\n",
       "      <td>sedan</td>\n",
       "      <td>2010</td>\n",
       "      <td>manual</td>\n",
       "      <td>140</td>\n",
       "      <td>golf</td>\n",
       "      <td>150000</td>\n",
       "      <td>7</td>\n",
       "      <td>gasoline</td>\n",
       "      <td>volkswagen</td>\n",
       "      <td>no</td>\n",
       "    </tr>\n",
       "    <tr>\n",
       "      <th>354361</th>\n",
       "      <td>5250</td>\n",
       "      <td>wagon</td>\n",
       "      <td>2016</td>\n",
       "      <td>auto</td>\n",
       "      <td>150</td>\n",
       "      <td>159</td>\n",
       "      <td>150000</td>\n",
       "      <td>12</td>\n",
       "      <td>petrol</td>\n",
       "      <td>alfa_romeo</td>\n",
       "      <td>no</td>\n",
       "    </tr>\n",
       "    <tr>\n",
       "      <th>354362</th>\n",
       "      <td>3200</td>\n",
       "      <td>sedan</td>\n",
       "      <td>2004</td>\n",
       "      <td>manual</td>\n",
       "      <td>225</td>\n",
       "      <td>leon</td>\n",
       "      <td>150000</td>\n",
       "      <td>5</td>\n",
       "      <td>petrol</td>\n",
       "      <td>seat</td>\n",
       "      <td>yes</td>\n",
       "    </tr>\n",
       "    <tr>\n",
       "      <th>354367</th>\n",
       "      <td>9200</td>\n",
       "      <td>bus</td>\n",
       "      <td>1996</td>\n",
       "      <td>manual</td>\n",
       "      <td>102</td>\n",
       "      <td>transporter</td>\n",
       "      <td>150000</td>\n",
       "      <td>3</td>\n",
       "      <td>gasoline</td>\n",
       "      <td>volkswagen</td>\n",
       "      <td>no</td>\n",
       "    </tr>\n",
       "    <tr>\n",
       "      <th>354368</th>\n",
       "      <td>3400</td>\n",
       "      <td>wagon</td>\n",
       "      <td>2002</td>\n",
       "      <td>manual</td>\n",
       "      <td>100</td>\n",
       "      <td>golf</td>\n",
       "      <td>150000</td>\n",
       "      <td>6</td>\n",
       "      <td>gasoline</td>\n",
       "      <td>volkswagen</td>\n",
       "      <td>yes</td>\n",
       "    </tr>\n",
       "  </tbody>\n",
       "</table>\n",
       "<p>183118 rows × 11 columns</p>\n",
       "</div>"
      ],
      "text/plain": [
       "        price  vehicletype  registrationyear gearbox  power        model  \\\n",
       "2        9800          suv              2004    auto    163        grand   \n",
       "4        3600        small              2008  manual     69        fabia   \n",
       "6        2200  convertible              2004  manual    109      2_reihe   \n",
       "8       14500          bus              2014  manual    125        c_max   \n",
       "11       2799        wagon              2005  manual    140       passat   \n",
       "...       ...          ...               ...     ...    ...          ...   \n",
       "354359   7900        sedan              2010  manual    140         golf   \n",
       "354361   5250        wagon              2016    auto    150          159   \n",
       "354362   3200        sedan              2004  manual    225         leon   \n",
       "354367   9200          bus              1996  manual    102  transporter   \n",
       "354368   3400        wagon              2002  manual    100         golf   \n",
       "\n",
       "        kilometer  registrationmonth  fueltype       brand notrepaired  \n",
       "2          125000                  8  gasoline        jeep         yes  \n",
       "4           90000                  7  gasoline       skoda          no  \n",
       "6          150000                  8    petrol     peugeot          no  \n",
       "8           30000                  8    petrol        ford          no  \n",
       "11         150000                 12  gasoline  volkswagen         yes  \n",
       "...           ...                ...       ...         ...         ...  \n",
       "354359     150000                  7  gasoline  volkswagen          no  \n",
       "354361     150000                 12    petrol  alfa_romeo          no  \n",
       "354362     150000                  5    petrol        seat         yes  \n",
       "354367     150000                  3  gasoline  volkswagen          no  \n",
       "354368     150000                  6  gasoline  volkswagen         yes  \n",
       "\n",
       "[183118 rows x 11 columns]"
      ]
     },
     "execution_count": 501,
     "metadata": {},
     "output_type": "execute_result"
    }
   ],
   "source": [
    "df"
   ]
  },
  {
   "cell_type": "markdown",
   "metadata": {},
   "source": [
    "### Кодирование данных"
   ]
  },
  {
   "cell_type": "code",
   "execution_count": 502,
   "metadata": {},
   "outputs": [],
   "source": [
    "encoder = OrdinalEncoder()\n",
    "\n",
    "encoder.fit(df[[\"vehicletype\", \"gearbox\", \"model\", \"fueltype\", \"brand\", \"notrepaired\"]])\n",
    "df[[\"vehicletype\", \"gearbox\", \"model\", \"fueltype\", \n",
    "    \"brand\", \"notrepaired\"]] = encoder.transform(df[[\"vehicletype\", \"gearbox\", \n",
    "                                                     \"model\", \"fueltype\", \"brand\", \"notrepaired\"]])\n"
   ]
  },
  {
   "cell_type": "code",
   "execution_count": 503,
   "metadata": {},
   "outputs": [
    {
     "data": {
      "text/plain": [
       "15849"
      ]
     },
     "execution_count": 503,
     "metadata": {},
     "output_type": "execute_result"
    }
   ],
   "source": [
    "df.duplicated().sum()"
   ]
  },
  {
   "cell_type": "markdown",
   "metadata": {},
   "source": [
    "Разделим данные на обучающую, тестовую и валидацонную выборки и масштабируем признаки"
   ]
  },
  {
   "cell_type": "code",
   "execution_count": 505,
   "metadata": {},
   "outputs": [],
   "source": [
    "features = df.drop(['price'], axis=1)\n",
    "target = df['price'] \n",
    "\n",
    "scaler = StandardScaler()\n",
    "features_train, features_valid, target_train, target_valid = train_test_split(\n",
    "    features, target, test_size=0.4, random_state=148)\n",
    "\n",
    "features_valid, features_test, target_valid, target_test = train_test_split(\n",
    "    features_valid, target_valid, test_size=0.5, random_state=148)\n",
    "\n",
    "features_train = pd.DataFrame(scaler.fit_transform(features_train), columns=features_train.columns)\n",
    "\n",
    "features_valid = pd.DataFrame(scaler.transform(features_valid), columns=features_valid.columns)\n",
    "\n",
    "features_test = pd.DataFrame(scaler.transform(features_test), columns=features_test.columns)\n",
    "\n"
   ]
  },
  {
   "cell_type": "markdown",
   "metadata": {},
   "source": [
    "Данные готовы к дальнейшей работе"
   ]
  },
  {
   "cell_type": "markdown",
   "metadata": {},
   "source": [
    "## Обучение моделей"
   ]
  },
  {
   "cell_type": "markdown",
   "metadata": {},
   "source": [
    "### Линейная регрессия"
   ]
  },
  {
   "cell_type": "code",
   "execution_count": 95,
   "metadata": {},
   "outputs": [
    {
     "name": "stdout",
     "output_type": "stream",
     "text": [
      "[-9034569.28095778 -8936974.65437275 -8855990.28614233]\n",
      "2990.403218155976\n",
      "CPU times: user 259 ms, sys: 317 ms, total: 576 ms\n",
      "Wall time: 539 ms\n"
     ]
    }
   ],
   "source": [
    "%%time\n",
    "model = LinearRegression()\n",
    "scores_LinearRegression = cross_val_score(model, features_train, target_train, scoring='neg_mean_squared_error', cv=3)\n",
    "print(scores_LinearRegression)\n",
    "print((scores_LinearRegression.mean()*(-1))**0.5)"
   ]
  },
  {
   "cell_type": "markdown",
   "metadata": {},
   "source": [
    "### Дерево решений"
   ]
  },
  {
   "cell_type": "code",
   "execution_count": 96,
   "metadata": {},
   "outputs": [
    {
     "name": "stdout",
     "output_type": "stream",
     "text": [
      "CPU times: user 6.7 s, sys: 34.1 ms, total: 6.73 s\n",
      "Wall time: 6.75 s\n"
     ]
    },
    {
     "data": {
      "text/plain": [
       "GridSearchCV(cv=5, estimator=DecisionTreeRegressor(),\n",
       "             param_grid={'max_depth': range(1, 11),\n",
       "                         'max_features': ['sqrt', 'log2'],\n",
       "                         'random_state': [148]},\n",
       "             scoring='neg_mean_squared_error')"
      ]
     },
     "execution_count": 96,
     "metadata": {},
     "output_type": "execute_result"
    }
   ],
   "source": [
    "%%time\n",
    "grid = { \n",
    "    'max_features': ['sqrt', 'log2'],\n",
    "    'max_depth' : range(1,11), \n",
    "    'random_state' : [148],\n",
    "}\n",
    "rf_cv = GridSearchCV(estimator=DecisionTreeRegressor(), param_grid=grid, cv= 5, scoring='neg_mean_squared_error')\n",
    "rf_cv.fit(features_train, target_train)"
   ]
  },
  {
   "cell_type": "code",
   "execution_count": 97,
   "metadata": {},
   "outputs": [
    {
     "data": {
      "text/plain": [
       "{'max_depth': 10, 'max_features': 'sqrt', 'random_state': 148}"
      ]
     },
     "execution_count": 97,
     "metadata": {},
     "output_type": "execute_result"
    }
   ],
   "source": [
    "rf_cv.best_params_"
   ]
  },
  {
   "cell_type": "code",
   "execution_count": 98,
   "metadata": {},
   "outputs": [
    {
     "name": "stdout",
     "output_type": "stream",
     "text": [
      "[-5511980.27793031 -5468960.88994229 -5563595.38571428 -5718619.53511911\n",
      " -5352190.3649719 ]\n",
      "2350.121122567001\n"
     ]
    }
   ],
   "source": [
    "model = DecisionTreeRegressor(max_depth=10, max_features='sqrt', random_state=148)\n",
    "scores = cross_val_score(model, features_train, target_train, scoring='neg_mean_squared_error')\n",
    "print(scores)\n",
    "print((scores.mean()*(-1))**0.5)"
   ]
  },
  {
   "cell_type": "code",
   "execution_count": 99,
   "metadata": {},
   "outputs": [
    {
     "name": "stdout",
     "output_type": "stream",
     "text": [
      "RMSE: 2323.1943475016146\n",
      "CPU times: user 128 ms, sys: 47 µs, total: 128 ms\n",
      "Wall time: 126 ms\n"
     ]
    }
   ],
   "source": [
    "%%time\n",
    "model = DecisionTreeRegressor(max_depth=10, max_features='sqrt', random_state=148)\n",
    "model.fit(features_train, target_train)\n",
    "prediction = model.predict(features_valid)\n",
    "score_DecisionTreeRegressor = mean_squared_error(target_valid, prediction)\n",
    "print('RMSE:', score_DecisionTreeRegressor**0.5)"
   ]
  },
  {
   "cell_type": "markdown",
   "metadata": {},
   "source": [
    "### Случайный лес\n"
   ]
  },
  {
   "cell_type": "code",
   "execution_count": 100,
   "metadata": {},
   "outputs": [],
   "source": [
    "grid = { \n",
    "    'n_estimators': range(1,50, 10),\n",
    "    'max_features': ['sqrt', 'log2'],\n",
    "    'max_depth' : range(1,11),\n",
    "    'random_state' : [148]\n",
    "}"
   ]
  },
  {
   "cell_type": "code",
   "execution_count": 101,
   "metadata": {},
   "outputs": [
    {
     "name": "stdout",
     "output_type": "stream",
     "text": [
      "CPU times: user 5min, sys: 656 ms, total: 5min 1s\n",
      "Wall time: 5min 2s\n"
     ]
    },
    {
     "data": {
      "text/plain": [
       "GridSearchCV(cv=5, estimator=RandomForestRegressor(),\n",
       "             param_grid={'max_depth': range(1, 11),\n",
       "                         'max_features': ['sqrt', 'log2'],\n",
       "                         'n_estimators': range(1, 50, 10),\n",
       "                         'random_state': [148]},\n",
       "             scoring='neg_mean_squared_error')"
      ]
     },
     "execution_count": 101,
     "metadata": {},
     "output_type": "execute_result"
    }
   ],
   "source": [
    "%%time\n",
    "rf_cv = GridSearchCV(estimator=RandomForestRegressor(), param_grid=grid, cv= 5, scoring='neg_mean_squared_error')\n",
    "rf_cv.fit(features_train, target_train)"
   ]
  },
  {
   "cell_type": "code",
   "execution_count": 102,
   "metadata": {},
   "outputs": [
    {
     "data": {
      "text/plain": [
       "{'max_depth': 10,\n",
       " 'max_features': 'sqrt',\n",
       " 'n_estimators': 41,\n",
       " 'random_state': 148}"
      ]
     },
     "execution_count": 102,
     "metadata": {},
     "output_type": "execute_result"
    }
   ],
   "source": [
    "rf_cv.best_params_"
   ]
  },
  {
   "cell_type": "code",
   "execution_count": 103,
   "metadata": {},
   "outputs": [
    {
     "name": "stdout",
     "output_type": "stream",
     "text": [
      "[-4105842.39163496 -4146147.32013344 -4150673.10827433 -4117397.32722709\n",
      " -3961845.1885809 ]\n",
      "2023.9518440837821\n"
     ]
    }
   ],
   "source": [
    "model = RandomForestRegressor(max_depth= 10, n_estimators=41, max_features='sqrt' , random_state=148)\n",
    "scores = cross_val_score(model, features_train, target_train, scoring='neg_mean_squared_error')\n",
    "print(scores)\n",
    "print((scores.mean()*(-1))**0.5)"
   ]
  },
  {
   "cell_type": "code",
   "execution_count": 104,
   "metadata": {},
   "outputs": [
    {
     "name": "stdout",
     "output_type": "stream",
     "text": [
      "RMSE: 2028.742590228559\n",
      "CPU times: user 2.74 s, sys: 3.91 ms, total: 2.74 s\n",
      "Wall time: 2.74 s\n"
     ]
    }
   ],
   "source": [
    "%%time\n",
    "model = RandomForestRegressor(max_depth= 10, n_estimators=41, max_features='sqrt' , random_state=148)\n",
    "model.fit(features_train, target_train)\n",
    "prediction = model.predict(features_valid)\n",
    "score_RandomForestRegressor = mean_squared_error(target_valid, prediction)\n",
    "print('RMSE:', score_RandomForestRegressor**0.5)"
   ]
  },
  {
   "cell_type": "markdown",
   "metadata": {},
   "source": [
    "### CatBoost"
   ]
  },
  {
   "cell_type": "code",
   "execution_count": 105,
   "metadata": {},
   "outputs": [],
   "source": [
    "grid = { \n",
    "    'learning_rate': [0.03, 0.1],\n",
    "    'iterations': [100],\n",
    "    'depth' : range(4,11),\n",
    "    'l2_leaf_reg': [1, 3, 5, 7, 9]\n",
    "}"
   ]
  },
  {
   "cell_type": "code",
   "execution_count": 106,
   "metadata": {},
   "outputs": [
    {
     "name": "stdout",
     "output_type": "stream",
     "text": [
      "CPU times: user 10min, sys: 6.43 s, total: 10min 6s\n",
      "Wall time: 11min 32s\n"
     ]
    },
    {
     "data": {
      "text/plain": [
       "GridSearchCV(cv=5,\n",
       "             estimator=<catboost.core.CatBoostRegressor object at 0x7fe9ca269880>,\n",
       "             param_grid={'depth': range(4, 11), 'iterations': [100],\n",
       "                         'l2_leaf_reg': [1, 3, 5, 7, 9],\n",
       "                         'learning_rate': [0.03, 0.1]})"
      ]
     },
     "execution_count": 106,
     "metadata": {},
     "output_type": "execute_result"
    }
   ],
   "source": [
    "%%time\n",
    "rf_cv = GridSearchCV(estimator=CatBoostRegressor(loss_function=\"RMSE\", verbose=False), param_grid=grid, cv= 5)\n",
    "rf_cv.fit(features_train, target_train)"
   ]
  },
  {
   "cell_type": "code",
   "execution_count": 107,
   "metadata": {},
   "outputs": [
    {
     "data": {
      "text/plain": [
       "{'depth': 10, 'iterations': 100, 'l2_leaf_reg': 1, 'learning_rate': 0.1}"
      ]
     },
     "execution_count": 107,
     "metadata": {},
     "output_type": "execute_result"
    }
   ],
   "source": [
    "rf_cv.best_params_"
   ]
  },
  {
   "cell_type": "code",
   "execution_count": 108,
   "metadata": {},
   "outputs": [
    {
     "data": {
      "application/vnd.jupyter.widget-view+json": {
       "model_id": "13c79d2f647c4f6caa623d6d9117bbb3",
       "version_major": 2,
       "version_minor": 0
      },
      "text/plain": [
       "MetricVisualizer(layout=Layout(align_self='stretch', height='500px'))"
      ]
     },
     "metadata": {},
     "output_type": "display_data"
    },
    {
     "name": "stdout",
     "output_type": "stream",
     "text": [
      "RMSE: 1845.1651150814712\n",
      "CPU times: user 3.45 s, sys: 28.2 ms, total: 3.48 s\n",
      "Wall time: 3.73 s\n"
     ]
    }
   ],
   "source": [
    "%%time\n",
    "model_Cat = CatBoostRegressor(loss_function=\"RMSE\", iterations=100, depth= 10, l2_leaf_reg=1, learning_rate=0.1, verbose=False)\n",
    "model_Cat.fit(features_train, target_train, plot=True)\n",
    "prediction = model_Cat.predict(features_valid)\n",
    "score_CatBoostRegressor = mean_squared_error(target_valid, prediction)\n",
    "print('RMSE:', score_CatBoostRegressor**0.5)"
   ]
  },
  {
   "cell_type": "markdown",
   "metadata": {},
   "source": [
    "### LightGBM\n"
   ]
  },
  {
   "cell_type": "code",
   "execution_count": 408,
   "metadata": {},
   "outputs": [],
   "source": [
    "grid = { \n",
    "    'max_depth': range(3,8,2),\n",
    "    'num_leaves':range(50, 170, 30)\n",
    "} "
   ]
  },
  {
   "cell_type": "code",
   "execution_count": 409,
   "metadata": {
    "collapsed": true
   },
   "outputs": [
    {
     "ename": "KeyboardInterrupt",
     "evalue": "",
     "output_type": "error",
     "traceback": [
      "\u001b[0;31m---------------------------------------------------------------------------\u001b[0m",
      "\u001b[0;31mKeyboardInterrupt\u001b[0m                         Traceback (most recent call last)",
      "\u001b[0;32m<timed exec>\u001b[0m in \u001b[0;36m<module>\u001b[0;34m\u001b[0m\n",
      "\u001b[0;32m/opt/conda/lib/python3.9/site-packages/sklearn/utils/validation.py\u001b[0m in \u001b[0;36minner_f\u001b[0;34m(*args, **kwargs)\u001b[0m\n\u001b[1;32m     61\u001b[0m             \u001b[0mextra_args\u001b[0m \u001b[0;34m=\u001b[0m \u001b[0mlen\u001b[0m\u001b[0;34m(\u001b[0m\u001b[0margs\u001b[0m\u001b[0;34m)\u001b[0m \u001b[0;34m-\u001b[0m \u001b[0mlen\u001b[0m\u001b[0;34m(\u001b[0m\u001b[0mall_args\u001b[0m\u001b[0;34m)\u001b[0m\u001b[0;34m\u001b[0m\u001b[0;34m\u001b[0m\u001b[0m\n\u001b[1;32m     62\u001b[0m             \u001b[0;32mif\u001b[0m \u001b[0mextra_args\u001b[0m \u001b[0;34m<=\u001b[0m \u001b[0;36m0\u001b[0m\u001b[0;34m:\u001b[0m\u001b[0;34m\u001b[0m\u001b[0;34m\u001b[0m\u001b[0m\n\u001b[0;32m---> 63\u001b[0;31m                 \u001b[0;32mreturn\u001b[0m \u001b[0mf\u001b[0m\u001b[0;34m(\u001b[0m\u001b[0;34m*\u001b[0m\u001b[0margs\u001b[0m\u001b[0;34m,\u001b[0m \u001b[0;34m**\u001b[0m\u001b[0mkwargs\u001b[0m\u001b[0;34m)\u001b[0m\u001b[0;34m\u001b[0m\u001b[0;34m\u001b[0m\u001b[0m\n\u001b[0m\u001b[1;32m     64\u001b[0m \u001b[0;34m\u001b[0m\u001b[0m\n\u001b[1;32m     65\u001b[0m             \u001b[0;31m# extra_args > 0\u001b[0m\u001b[0;34m\u001b[0m\u001b[0;34m\u001b[0m\u001b[0m\n",
      "\u001b[0;32m/opt/conda/lib/python3.9/site-packages/sklearn/model_selection/_search.py\u001b[0m in \u001b[0;36mfit\u001b[0;34m(self, X, y, groups, **fit_params)\u001b[0m\n\u001b[1;32m    839\u001b[0m                 \u001b[0;32mreturn\u001b[0m \u001b[0mresults\u001b[0m\u001b[0;34m\u001b[0m\u001b[0;34m\u001b[0m\u001b[0m\n\u001b[1;32m    840\u001b[0m \u001b[0;34m\u001b[0m\u001b[0m\n\u001b[0;32m--> 841\u001b[0;31m             \u001b[0mself\u001b[0m\u001b[0;34m.\u001b[0m\u001b[0m_run_search\u001b[0m\u001b[0;34m(\u001b[0m\u001b[0mevaluate_candidates\u001b[0m\u001b[0;34m)\u001b[0m\u001b[0;34m\u001b[0m\u001b[0;34m\u001b[0m\u001b[0m\n\u001b[0m\u001b[1;32m    842\u001b[0m \u001b[0;34m\u001b[0m\u001b[0m\n\u001b[1;32m    843\u001b[0m             \u001b[0;31m# multimetric is determined here because in the case of a callable\u001b[0m\u001b[0;34m\u001b[0m\u001b[0;34m\u001b[0m\u001b[0m\n",
      "\u001b[0;32m/opt/conda/lib/python3.9/site-packages/sklearn/model_selection/_search.py\u001b[0m in \u001b[0;36m_run_search\u001b[0;34m(self, evaluate_candidates)\u001b[0m\n\u001b[1;32m   1286\u001b[0m     \u001b[0;32mdef\u001b[0m \u001b[0m_run_search\u001b[0m\u001b[0;34m(\u001b[0m\u001b[0mself\u001b[0m\u001b[0;34m,\u001b[0m \u001b[0mevaluate_candidates\u001b[0m\u001b[0;34m)\u001b[0m\u001b[0;34m:\u001b[0m\u001b[0;34m\u001b[0m\u001b[0;34m\u001b[0m\u001b[0m\n\u001b[1;32m   1287\u001b[0m         \u001b[0;34m\"\"\"Search all candidates in param_grid\"\"\"\u001b[0m\u001b[0;34m\u001b[0m\u001b[0;34m\u001b[0m\u001b[0m\n\u001b[0;32m-> 1288\u001b[0;31m         \u001b[0mevaluate_candidates\u001b[0m\u001b[0;34m(\u001b[0m\u001b[0mParameterGrid\u001b[0m\u001b[0;34m(\u001b[0m\u001b[0mself\u001b[0m\u001b[0;34m.\u001b[0m\u001b[0mparam_grid\u001b[0m\u001b[0;34m)\u001b[0m\u001b[0;34m)\u001b[0m\u001b[0;34m\u001b[0m\u001b[0;34m\u001b[0m\u001b[0m\n\u001b[0m\u001b[1;32m   1289\u001b[0m \u001b[0;34m\u001b[0m\u001b[0m\n\u001b[1;32m   1290\u001b[0m \u001b[0;34m\u001b[0m\u001b[0m\n",
      "\u001b[0;32m/opt/conda/lib/python3.9/site-packages/sklearn/model_selection/_search.py\u001b[0m in \u001b[0;36mevaluate_candidates\u001b[0;34m(candidate_params, cv, more_results)\u001b[0m\n\u001b[1;32m    793\u001b[0m                               n_splits, n_candidates, n_candidates * n_splits))\n\u001b[1;32m    794\u001b[0m \u001b[0;34m\u001b[0m\u001b[0m\n\u001b[0;32m--> 795\u001b[0;31m                 out = parallel(delayed(_fit_and_score)(clone(base_estimator),\n\u001b[0m\u001b[1;32m    796\u001b[0m                                                        \u001b[0mX\u001b[0m\u001b[0;34m,\u001b[0m \u001b[0my\u001b[0m\u001b[0;34m,\u001b[0m\u001b[0;34m\u001b[0m\u001b[0;34m\u001b[0m\u001b[0m\n\u001b[1;32m    797\u001b[0m                                                        \u001b[0mtrain\u001b[0m\u001b[0;34m=\u001b[0m\u001b[0mtrain\u001b[0m\u001b[0;34m,\u001b[0m \u001b[0mtest\u001b[0m\u001b[0;34m=\u001b[0m\u001b[0mtest\u001b[0m\u001b[0;34m,\u001b[0m\u001b[0;34m\u001b[0m\u001b[0;34m\u001b[0m\u001b[0m\n",
      "\u001b[0;32m/opt/conda/lib/python3.9/site-packages/joblib/parallel.py\u001b[0m in \u001b[0;36m__call__\u001b[0;34m(self, iterable)\u001b[0m\n\u001b[1;32m   1041\u001b[0m             \u001b[0;31m# remaining jobs.\u001b[0m\u001b[0;34m\u001b[0m\u001b[0;34m\u001b[0m\u001b[0m\n\u001b[1;32m   1042\u001b[0m             \u001b[0mself\u001b[0m\u001b[0;34m.\u001b[0m\u001b[0m_iterating\u001b[0m \u001b[0;34m=\u001b[0m \u001b[0;32mFalse\u001b[0m\u001b[0;34m\u001b[0m\u001b[0;34m\u001b[0m\u001b[0m\n\u001b[0;32m-> 1043\u001b[0;31m             \u001b[0;32mif\u001b[0m \u001b[0mself\u001b[0m\u001b[0;34m.\u001b[0m\u001b[0mdispatch_one_batch\u001b[0m\u001b[0;34m(\u001b[0m\u001b[0miterator\u001b[0m\u001b[0;34m)\u001b[0m\u001b[0;34m:\u001b[0m\u001b[0;34m\u001b[0m\u001b[0;34m\u001b[0m\u001b[0m\n\u001b[0m\u001b[1;32m   1044\u001b[0m                 \u001b[0mself\u001b[0m\u001b[0;34m.\u001b[0m\u001b[0m_iterating\u001b[0m \u001b[0;34m=\u001b[0m \u001b[0mself\u001b[0m\u001b[0;34m.\u001b[0m\u001b[0m_original_iterator\u001b[0m \u001b[0;32mis\u001b[0m \u001b[0;32mnot\u001b[0m \u001b[0;32mNone\u001b[0m\u001b[0;34m\u001b[0m\u001b[0;34m\u001b[0m\u001b[0m\n\u001b[1;32m   1045\u001b[0m \u001b[0;34m\u001b[0m\u001b[0m\n",
      "\u001b[0;32m/opt/conda/lib/python3.9/site-packages/joblib/parallel.py\u001b[0m in \u001b[0;36mdispatch_one_batch\u001b[0;34m(self, iterator)\u001b[0m\n\u001b[1;32m    859\u001b[0m                 \u001b[0;32mreturn\u001b[0m \u001b[0;32mFalse\u001b[0m\u001b[0;34m\u001b[0m\u001b[0;34m\u001b[0m\u001b[0m\n\u001b[1;32m    860\u001b[0m             \u001b[0;32melse\u001b[0m\u001b[0;34m:\u001b[0m\u001b[0;34m\u001b[0m\u001b[0;34m\u001b[0m\u001b[0m\n\u001b[0;32m--> 861\u001b[0;31m                 \u001b[0mself\u001b[0m\u001b[0;34m.\u001b[0m\u001b[0m_dispatch\u001b[0m\u001b[0;34m(\u001b[0m\u001b[0mtasks\u001b[0m\u001b[0;34m)\u001b[0m\u001b[0;34m\u001b[0m\u001b[0;34m\u001b[0m\u001b[0m\n\u001b[0m\u001b[1;32m    862\u001b[0m                 \u001b[0;32mreturn\u001b[0m \u001b[0;32mTrue\u001b[0m\u001b[0;34m\u001b[0m\u001b[0;34m\u001b[0m\u001b[0m\n\u001b[1;32m    863\u001b[0m \u001b[0;34m\u001b[0m\u001b[0m\n",
      "\u001b[0;32m/opt/conda/lib/python3.9/site-packages/joblib/parallel.py\u001b[0m in \u001b[0;36m_dispatch\u001b[0;34m(self, batch)\u001b[0m\n\u001b[1;32m    777\u001b[0m         \u001b[0;32mwith\u001b[0m \u001b[0mself\u001b[0m\u001b[0;34m.\u001b[0m\u001b[0m_lock\u001b[0m\u001b[0;34m:\u001b[0m\u001b[0;34m\u001b[0m\u001b[0;34m\u001b[0m\u001b[0m\n\u001b[1;32m    778\u001b[0m             \u001b[0mjob_idx\u001b[0m \u001b[0;34m=\u001b[0m \u001b[0mlen\u001b[0m\u001b[0;34m(\u001b[0m\u001b[0mself\u001b[0m\u001b[0;34m.\u001b[0m\u001b[0m_jobs\u001b[0m\u001b[0;34m)\u001b[0m\u001b[0;34m\u001b[0m\u001b[0;34m\u001b[0m\u001b[0m\n\u001b[0;32m--> 779\u001b[0;31m             \u001b[0mjob\u001b[0m \u001b[0;34m=\u001b[0m \u001b[0mself\u001b[0m\u001b[0;34m.\u001b[0m\u001b[0m_backend\u001b[0m\u001b[0;34m.\u001b[0m\u001b[0mapply_async\u001b[0m\u001b[0;34m(\u001b[0m\u001b[0mbatch\u001b[0m\u001b[0;34m,\u001b[0m \u001b[0mcallback\u001b[0m\u001b[0;34m=\u001b[0m\u001b[0mcb\u001b[0m\u001b[0;34m)\u001b[0m\u001b[0;34m\u001b[0m\u001b[0;34m\u001b[0m\u001b[0m\n\u001b[0m\u001b[1;32m    780\u001b[0m             \u001b[0;31m# A job can complete so quickly than its callback is\u001b[0m\u001b[0;34m\u001b[0m\u001b[0;34m\u001b[0m\u001b[0m\n\u001b[1;32m    781\u001b[0m             \u001b[0;31m# called before we get here, causing self._jobs to\u001b[0m\u001b[0;34m\u001b[0m\u001b[0;34m\u001b[0m\u001b[0m\n",
      "\u001b[0;32m/opt/conda/lib/python3.9/site-packages/joblib/_parallel_backends.py\u001b[0m in \u001b[0;36mapply_async\u001b[0;34m(self, func, callback)\u001b[0m\n\u001b[1;32m    206\u001b[0m     \u001b[0;32mdef\u001b[0m \u001b[0mapply_async\u001b[0m\u001b[0;34m(\u001b[0m\u001b[0mself\u001b[0m\u001b[0;34m,\u001b[0m \u001b[0mfunc\u001b[0m\u001b[0;34m,\u001b[0m \u001b[0mcallback\u001b[0m\u001b[0;34m=\u001b[0m\u001b[0;32mNone\u001b[0m\u001b[0;34m)\u001b[0m\u001b[0;34m:\u001b[0m\u001b[0;34m\u001b[0m\u001b[0;34m\u001b[0m\u001b[0m\n\u001b[1;32m    207\u001b[0m         \u001b[0;34m\"\"\"Schedule a func to be run\"\"\"\u001b[0m\u001b[0;34m\u001b[0m\u001b[0;34m\u001b[0m\u001b[0m\n\u001b[0;32m--> 208\u001b[0;31m         \u001b[0mresult\u001b[0m \u001b[0;34m=\u001b[0m \u001b[0mImmediateResult\u001b[0m\u001b[0;34m(\u001b[0m\u001b[0mfunc\u001b[0m\u001b[0;34m)\u001b[0m\u001b[0;34m\u001b[0m\u001b[0;34m\u001b[0m\u001b[0m\n\u001b[0m\u001b[1;32m    209\u001b[0m         \u001b[0;32mif\u001b[0m \u001b[0mcallback\u001b[0m\u001b[0;34m:\u001b[0m\u001b[0;34m\u001b[0m\u001b[0;34m\u001b[0m\u001b[0m\n\u001b[1;32m    210\u001b[0m             \u001b[0mcallback\u001b[0m\u001b[0;34m(\u001b[0m\u001b[0mresult\u001b[0m\u001b[0;34m)\u001b[0m\u001b[0;34m\u001b[0m\u001b[0;34m\u001b[0m\u001b[0m\n",
      "\u001b[0;32m/opt/conda/lib/python3.9/site-packages/joblib/_parallel_backends.py\u001b[0m in \u001b[0;36m__init__\u001b[0;34m(self, batch)\u001b[0m\n\u001b[1;32m    570\u001b[0m         \u001b[0;31m# Don't delay the application, to avoid keeping the input\u001b[0m\u001b[0;34m\u001b[0m\u001b[0;34m\u001b[0m\u001b[0m\n\u001b[1;32m    571\u001b[0m         \u001b[0;31m# arguments in memory\u001b[0m\u001b[0;34m\u001b[0m\u001b[0;34m\u001b[0m\u001b[0m\n\u001b[0;32m--> 572\u001b[0;31m         \u001b[0mself\u001b[0m\u001b[0;34m.\u001b[0m\u001b[0mresults\u001b[0m \u001b[0;34m=\u001b[0m \u001b[0mbatch\u001b[0m\u001b[0;34m(\u001b[0m\u001b[0;34m)\u001b[0m\u001b[0;34m\u001b[0m\u001b[0;34m\u001b[0m\u001b[0m\n\u001b[0m\u001b[1;32m    573\u001b[0m \u001b[0;34m\u001b[0m\u001b[0m\n\u001b[1;32m    574\u001b[0m     \u001b[0;32mdef\u001b[0m \u001b[0mget\u001b[0m\u001b[0;34m(\u001b[0m\u001b[0mself\u001b[0m\u001b[0;34m)\u001b[0m\u001b[0;34m:\u001b[0m\u001b[0;34m\u001b[0m\u001b[0;34m\u001b[0m\u001b[0m\n",
      "\u001b[0;32m/opt/conda/lib/python3.9/site-packages/joblib/parallel.py\u001b[0m in \u001b[0;36m__call__\u001b[0;34m(self)\u001b[0m\n\u001b[1;32m    260\u001b[0m         \u001b[0;31m# change the default number of processes to -1\u001b[0m\u001b[0;34m\u001b[0m\u001b[0;34m\u001b[0m\u001b[0m\n\u001b[1;32m    261\u001b[0m         \u001b[0;32mwith\u001b[0m \u001b[0mparallel_backend\u001b[0m\u001b[0;34m(\u001b[0m\u001b[0mself\u001b[0m\u001b[0;34m.\u001b[0m\u001b[0m_backend\u001b[0m\u001b[0;34m,\u001b[0m \u001b[0mn_jobs\u001b[0m\u001b[0;34m=\u001b[0m\u001b[0mself\u001b[0m\u001b[0;34m.\u001b[0m\u001b[0m_n_jobs\u001b[0m\u001b[0;34m)\u001b[0m\u001b[0;34m:\u001b[0m\u001b[0;34m\u001b[0m\u001b[0;34m\u001b[0m\u001b[0m\n\u001b[0;32m--> 262\u001b[0;31m             return [func(*args, **kwargs)\n\u001b[0m\u001b[1;32m    263\u001b[0m                     for func, args, kwargs in self.items]\n\u001b[1;32m    264\u001b[0m \u001b[0;34m\u001b[0m\u001b[0m\n",
      "\u001b[0;32m/opt/conda/lib/python3.9/site-packages/joblib/parallel.py\u001b[0m in \u001b[0;36m<listcomp>\u001b[0;34m(.0)\u001b[0m\n\u001b[1;32m    260\u001b[0m         \u001b[0;31m# change the default number of processes to -1\u001b[0m\u001b[0;34m\u001b[0m\u001b[0;34m\u001b[0m\u001b[0m\n\u001b[1;32m    261\u001b[0m         \u001b[0;32mwith\u001b[0m \u001b[0mparallel_backend\u001b[0m\u001b[0;34m(\u001b[0m\u001b[0mself\u001b[0m\u001b[0;34m.\u001b[0m\u001b[0m_backend\u001b[0m\u001b[0;34m,\u001b[0m \u001b[0mn_jobs\u001b[0m\u001b[0;34m=\u001b[0m\u001b[0mself\u001b[0m\u001b[0;34m.\u001b[0m\u001b[0m_n_jobs\u001b[0m\u001b[0;34m)\u001b[0m\u001b[0;34m:\u001b[0m\u001b[0;34m\u001b[0m\u001b[0;34m\u001b[0m\u001b[0m\n\u001b[0;32m--> 262\u001b[0;31m             return [func(*args, **kwargs)\n\u001b[0m\u001b[1;32m    263\u001b[0m                     for func, args, kwargs in self.items]\n\u001b[1;32m    264\u001b[0m \u001b[0;34m\u001b[0m\u001b[0m\n",
      "\u001b[0;32m/opt/conda/lib/python3.9/site-packages/sklearn/utils/fixes.py\u001b[0m in \u001b[0;36m__call__\u001b[0;34m(self, *args, **kwargs)\u001b[0m\n\u001b[1;32m    220\u001b[0m     \u001b[0;32mdef\u001b[0m \u001b[0m__call__\u001b[0m\u001b[0;34m(\u001b[0m\u001b[0mself\u001b[0m\u001b[0;34m,\u001b[0m \u001b[0;34m*\u001b[0m\u001b[0margs\u001b[0m\u001b[0;34m,\u001b[0m \u001b[0;34m**\u001b[0m\u001b[0mkwargs\u001b[0m\u001b[0;34m)\u001b[0m\u001b[0;34m:\u001b[0m\u001b[0;34m\u001b[0m\u001b[0;34m\u001b[0m\u001b[0m\n\u001b[1;32m    221\u001b[0m         \u001b[0;32mwith\u001b[0m \u001b[0mconfig_context\u001b[0m\u001b[0;34m(\u001b[0m\u001b[0;34m**\u001b[0m\u001b[0mself\u001b[0m\u001b[0;34m.\u001b[0m\u001b[0mconfig\u001b[0m\u001b[0;34m)\u001b[0m\u001b[0;34m:\u001b[0m\u001b[0;34m\u001b[0m\u001b[0;34m\u001b[0m\u001b[0m\n\u001b[0;32m--> 222\u001b[0;31m             \u001b[0;32mreturn\u001b[0m \u001b[0mself\u001b[0m\u001b[0;34m.\u001b[0m\u001b[0mfunction\u001b[0m\u001b[0;34m(\u001b[0m\u001b[0;34m*\u001b[0m\u001b[0margs\u001b[0m\u001b[0;34m,\u001b[0m \u001b[0;34m**\u001b[0m\u001b[0mkwargs\u001b[0m\u001b[0;34m)\u001b[0m\u001b[0;34m\u001b[0m\u001b[0;34m\u001b[0m\u001b[0m\n\u001b[0m",
      "\u001b[0;32m/opt/conda/lib/python3.9/site-packages/sklearn/model_selection/_validation.py\u001b[0m in \u001b[0;36m_fit_and_score\u001b[0;34m(estimator, X, y, scorer, train, test, verbose, parameters, fit_params, return_train_score, return_parameters, return_n_test_samples, return_times, return_estimator, split_progress, candidate_progress, error_score)\u001b[0m\n\u001b[1;32m    591\u001b[0m             \u001b[0mestimator\u001b[0m\u001b[0;34m.\u001b[0m\u001b[0mfit\u001b[0m\u001b[0;34m(\u001b[0m\u001b[0mX_train\u001b[0m\u001b[0;34m,\u001b[0m \u001b[0;34m**\u001b[0m\u001b[0mfit_params\u001b[0m\u001b[0;34m)\u001b[0m\u001b[0;34m\u001b[0m\u001b[0;34m\u001b[0m\u001b[0m\n\u001b[1;32m    592\u001b[0m         \u001b[0;32melse\u001b[0m\u001b[0;34m:\u001b[0m\u001b[0;34m\u001b[0m\u001b[0;34m\u001b[0m\u001b[0m\n\u001b[0;32m--> 593\u001b[0;31m             \u001b[0mestimator\u001b[0m\u001b[0;34m.\u001b[0m\u001b[0mfit\u001b[0m\u001b[0;34m(\u001b[0m\u001b[0mX_train\u001b[0m\u001b[0;34m,\u001b[0m \u001b[0my_train\u001b[0m\u001b[0;34m,\u001b[0m \u001b[0;34m**\u001b[0m\u001b[0mfit_params\u001b[0m\u001b[0;34m)\u001b[0m\u001b[0;34m\u001b[0m\u001b[0;34m\u001b[0m\u001b[0m\n\u001b[0m\u001b[1;32m    594\u001b[0m \u001b[0;34m\u001b[0m\u001b[0m\n\u001b[1;32m    595\u001b[0m     \u001b[0;32mexcept\u001b[0m \u001b[0mException\u001b[0m \u001b[0;32mas\u001b[0m \u001b[0me\u001b[0m\u001b[0;34m:\u001b[0m\u001b[0;34m\u001b[0m\u001b[0;34m\u001b[0m\u001b[0m\n",
      "\u001b[0;32m/opt/conda/lib/python3.9/site-packages/lightgbm/sklearn.py\u001b[0m in \u001b[0;36mfit\u001b[0;34m(self, X, y, sample_weight, init_score, eval_set, eval_names, eval_sample_weight, eval_init_score, eval_metric, early_stopping_rounds, verbose, feature_name, categorical_feature, callbacks, init_model)\u001b[0m\n\u001b[1;32m    893\u001b[0m             callbacks=None, init_model=None):\n\u001b[1;32m    894\u001b[0m         \u001b[0;34m\"\"\"Docstring is inherited from the LGBMModel.\"\"\"\u001b[0m\u001b[0;34m\u001b[0m\u001b[0;34m\u001b[0m\u001b[0m\n\u001b[0;32m--> 895\u001b[0;31m         super().fit(X, y, sample_weight=sample_weight, init_score=init_score,\n\u001b[0m\u001b[1;32m    896\u001b[0m                     \u001b[0meval_set\u001b[0m\u001b[0;34m=\u001b[0m\u001b[0meval_set\u001b[0m\u001b[0;34m,\u001b[0m \u001b[0meval_names\u001b[0m\u001b[0;34m=\u001b[0m\u001b[0meval_names\u001b[0m\u001b[0;34m,\u001b[0m \u001b[0meval_sample_weight\u001b[0m\u001b[0;34m=\u001b[0m\u001b[0meval_sample_weight\u001b[0m\u001b[0;34m,\u001b[0m\u001b[0;34m\u001b[0m\u001b[0;34m\u001b[0m\u001b[0m\n\u001b[1;32m    897\u001b[0m                     \u001b[0meval_init_score\u001b[0m\u001b[0;34m=\u001b[0m\u001b[0meval_init_score\u001b[0m\u001b[0;34m,\u001b[0m \u001b[0meval_metric\u001b[0m\u001b[0;34m=\u001b[0m\u001b[0meval_metric\u001b[0m\u001b[0;34m,\u001b[0m\u001b[0;34m\u001b[0m\u001b[0;34m\u001b[0m\u001b[0m\n",
      "\u001b[0;32m/opt/conda/lib/python3.9/site-packages/lightgbm/sklearn.py\u001b[0m in \u001b[0;36mfit\u001b[0;34m(self, X, y, sample_weight, init_score, group, eval_set, eval_names, eval_sample_weight, eval_class_weight, eval_init_score, eval_group, eval_metric, early_stopping_rounds, verbose, feature_name, categorical_feature, callbacks, init_model)\u001b[0m\n\u001b[1;32m    746\u001b[0m         \u001b[0mcallbacks\u001b[0m\u001b[0;34m.\u001b[0m\u001b[0mappend\u001b[0m\u001b[0;34m(\u001b[0m\u001b[0mrecord_evaluation\u001b[0m\u001b[0;34m(\u001b[0m\u001b[0mevals_result\u001b[0m\u001b[0;34m)\u001b[0m\u001b[0;34m)\u001b[0m\u001b[0;34m\u001b[0m\u001b[0;34m\u001b[0m\u001b[0m\n\u001b[1;32m    747\u001b[0m \u001b[0;34m\u001b[0m\u001b[0m\n\u001b[0;32m--> 748\u001b[0;31m         self._Booster = train(\n\u001b[0m\u001b[1;32m    749\u001b[0m             \u001b[0mparams\u001b[0m\u001b[0;34m=\u001b[0m\u001b[0mparams\u001b[0m\u001b[0;34m,\u001b[0m\u001b[0;34m\u001b[0m\u001b[0;34m\u001b[0m\u001b[0m\n\u001b[1;32m    750\u001b[0m             \u001b[0mtrain_set\u001b[0m\u001b[0;34m=\u001b[0m\u001b[0mtrain_set\u001b[0m\u001b[0;34m,\u001b[0m\u001b[0;34m\u001b[0m\u001b[0;34m\u001b[0m\u001b[0m\n",
      "\u001b[0;32m/opt/conda/lib/python3.9/site-packages/lightgbm/engine.py\u001b[0m in \u001b[0;36mtrain\u001b[0;34m(params, train_set, num_boost_round, valid_sets, valid_names, fobj, feval, init_model, feature_name, categorical_feature, early_stopping_rounds, evals_result, verbose_eval, learning_rates, keep_training_booster, callbacks)\u001b[0m\n\u001b[1;32m    290\u001b[0m                                     evaluation_result_list=None))\n\u001b[1;32m    291\u001b[0m \u001b[0;34m\u001b[0m\u001b[0m\n\u001b[0;32m--> 292\u001b[0;31m         \u001b[0mbooster\u001b[0m\u001b[0;34m.\u001b[0m\u001b[0mupdate\u001b[0m\u001b[0;34m(\u001b[0m\u001b[0mfobj\u001b[0m\u001b[0;34m=\u001b[0m\u001b[0mfobj\u001b[0m\u001b[0;34m)\u001b[0m\u001b[0;34m\u001b[0m\u001b[0;34m\u001b[0m\u001b[0m\n\u001b[0m\u001b[1;32m    293\u001b[0m \u001b[0;34m\u001b[0m\u001b[0m\n\u001b[1;32m    294\u001b[0m         \u001b[0mevaluation_result_list\u001b[0m \u001b[0;34m=\u001b[0m \u001b[0;34m[\u001b[0m\u001b[0;34m]\u001b[0m\u001b[0;34m\u001b[0m\u001b[0;34m\u001b[0m\u001b[0m\n",
      "\u001b[0;32m/opt/conda/lib/python3.9/site-packages/lightgbm/basic.py\u001b[0m in \u001b[0;36mupdate\u001b[0;34m(self, train_set, fobj)\u001b[0m\n\u001b[1;32m   3019\u001b[0m             \u001b[0;32mif\u001b[0m \u001b[0mself\u001b[0m\u001b[0;34m.\u001b[0m\u001b[0m__set_objective_to_none\u001b[0m\u001b[0;34m:\u001b[0m\u001b[0;34m\u001b[0m\u001b[0;34m\u001b[0m\u001b[0m\n\u001b[1;32m   3020\u001b[0m                 \u001b[0;32mraise\u001b[0m \u001b[0mLightGBMError\u001b[0m\u001b[0;34m(\u001b[0m\u001b[0;34m'Cannot update due to null objective function.'\u001b[0m\u001b[0;34m)\u001b[0m\u001b[0;34m\u001b[0m\u001b[0;34m\u001b[0m\u001b[0m\n\u001b[0;32m-> 3021\u001b[0;31m             _safe_call(_LIB.LGBM_BoosterUpdateOneIter(\n\u001b[0m\u001b[1;32m   3022\u001b[0m                 \u001b[0mself\u001b[0m\u001b[0;34m.\u001b[0m\u001b[0mhandle\u001b[0m\u001b[0;34m,\u001b[0m\u001b[0;34m\u001b[0m\u001b[0;34m\u001b[0m\u001b[0m\n\u001b[1;32m   3023\u001b[0m                 ctypes.byref(is_finished)))\n",
      "\u001b[0;31mKeyboardInterrupt\u001b[0m: "
     ]
    }
   ],
   "source": [
    "%%time\n",
    "rf_cv = GridSearchCV(estimator=LGBMRegressor(), param_grid=grid, cv= 3, scoring='neg_mean_squared_error')\n",
    "rf_cv.fit(features_train, target_train)"
   ]
  },
  {
   "cell_type": "code",
   "execution_count": 506,
   "metadata": {},
   "outputs": [
    {
     "ename": "KeyboardInterrupt",
     "evalue": "",
     "output_type": "error",
     "traceback": [
      "\u001b[0;31m---------------------------------------------------------------------------\u001b[0m",
      "\u001b[0;31mKeyboardInterrupt\u001b[0m                         Traceback (most recent call last)",
      "\u001b[0;32m<timed exec>\u001b[0m in \u001b[0;36m<module>\u001b[0;34m\u001b[0m\n",
      "\u001b[0;32m/opt/conda/lib/python3.9/site-packages/lightgbm/sklearn.py\u001b[0m in \u001b[0;36mfit\u001b[0;34m(self, X, y, sample_weight, init_score, eval_set, eval_names, eval_sample_weight, eval_init_score, eval_metric, early_stopping_rounds, verbose, feature_name, categorical_feature, callbacks, init_model)\u001b[0m\n\u001b[1;32m    893\u001b[0m             callbacks=None, init_model=None):\n\u001b[1;32m    894\u001b[0m         \u001b[0;34m\"\"\"Docstring is inherited from the LGBMModel.\"\"\"\u001b[0m\u001b[0;34m\u001b[0m\u001b[0;34m\u001b[0m\u001b[0m\n\u001b[0;32m--> 895\u001b[0;31m         super().fit(X, y, sample_weight=sample_weight, init_score=init_score,\n\u001b[0m\u001b[1;32m    896\u001b[0m                     \u001b[0meval_set\u001b[0m\u001b[0;34m=\u001b[0m\u001b[0meval_set\u001b[0m\u001b[0;34m,\u001b[0m \u001b[0meval_names\u001b[0m\u001b[0;34m=\u001b[0m\u001b[0meval_names\u001b[0m\u001b[0;34m,\u001b[0m \u001b[0meval_sample_weight\u001b[0m\u001b[0;34m=\u001b[0m\u001b[0meval_sample_weight\u001b[0m\u001b[0;34m,\u001b[0m\u001b[0;34m\u001b[0m\u001b[0;34m\u001b[0m\u001b[0m\n\u001b[1;32m    897\u001b[0m                     \u001b[0meval_init_score\u001b[0m\u001b[0;34m=\u001b[0m\u001b[0meval_init_score\u001b[0m\u001b[0;34m,\u001b[0m \u001b[0meval_metric\u001b[0m\u001b[0;34m=\u001b[0m\u001b[0meval_metric\u001b[0m\u001b[0;34m,\u001b[0m\u001b[0;34m\u001b[0m\u001b[0;34m\u001b[0m\u001b[0m\n",
      "\u001b[0;32m/opt/conda/lib/python3.9/site-packages/lightgbm/sklearn.py\u001b[0m in \u001b[0;36mfit\u001b[0;34m(self, X, y, sample_weight, init_score, group, eval_set, eval_names, eval_sample_weight, eval_class_weight, eval_init_score, eval_group, eval_metric, early_stopping_rounds, verbose, feature_name, categorical_feature, callbacks, init_model)\u001b[0m\n\u001b[1;32m    746\u001b[0m         \u001b[0mcallbacks\u001b[0m\u001b[0;34m.\u001b[0m\u001b[0mappend\u001b[0m\u001b[0;34m(\u001b[0m\u001b[0mrecord_evaluation\u001b[0m\u001b[0;34m(\u001b[0m\u001b[0mevals_result\u001b[0m\u001b[0;34m)\u001b[0m\u001b[0;34m)\u001b[0m\u001b[0;34m\u001b[0m\u001b[0;34m\u001b[0m\u001b[0m\n\u001b[1;32m    747\u001b[0m \u001b[0;34m\u001b[0m\u001b[0m\n\u001b[0;32m--> 748\u001b[0;31m         self._Booster = train(\n\u001b[0m\u001b[1;32m    749\u001b[0m             \u001b[0mparams\u001b[0m\u001b[0;34m=\u001b[0m\u001b[0mparams\u001b[0m\u001b[0;34m,\u001b[0m\u001b[0;34m\u001b[0m\u001b[0;34m\u001b[0m\u001b[0m\n\u001b[1;32m    750\u001b[0m             \u001b[0mtrain_set\u001b[0m\u001b[0;34m=\u001b[0m\u001b[0mtrain_set\u001b[0m\u001b[0;34m,\u001b[0m\u001b[0;34m\u001b[0m\u001b[0;34m\u001b[0m\u001b[0m\n",
      "\u001b[0;32m/opt/conda/lib/python3.9/site-packages/lightgbm/engine.py\u001b[0m in \u001b[0;36mtrain\u001b[0;34m(params, train_set, num_boost_round, valid_sets, valid_names, fobj, feval, init_model, feature_name, categorical_feature, early_stopping_rounds, evals_result, verbose_eval, learning_rates, keep_training_booster, callbacks)\u001b[0m\n\u001b[1;32m    290\u001b[0m                                     evaluation_result_list=None))\n\u001b[1;32m    291\u001b[0m \u001b[0;34m\u001b[0m\u001b[0m\n\u001b[0;32m--> 292\u001b[0;31m         \u001b[0mbooster\u001b[0m\u001b[0;34m.\u001b[0m\u001b[0mupdate\u001b[0m\u001b[0;34m(\u001b[0m\u001b[0mfobj\u001b[0m\u001b[0;34m=\u001b[0m\u001b[0mfobj\u001b[0m\u001b[0;34m)\u001b[0m\u001b[0;34m\u001b[0m\u001b[0;34m\u001b[0m\u001b[0m\n\u001b[0m\u001b[1;32m    293\u001b[0m \u001b[0;34m\u001b[0m\u001b[0m\n\u001b[1;32m    294\u001b[0m         \u001b[0mevaluation_result_list\u001b[0m \u001b[0;34m=\u001b[0m \u001b[0;34m[\u001b[0m\u001b[0;34m]\u001b[0m\u001b[0;34m\u001b[0m\u001b[0;34m\u001b[0m\u001b[0m\n",
      "\u001b[0;32m/opt/conda/lib/python3.9/site-packages/lightgbm/basic.py\u001b[0m in \u001b[0;36mupdate\u001b[0;34m(self, train_set, fobj)\u001b[0m\n\u001b[1;32m   3019\u001b[0m             \u001b[0;32mif\u001b[0m \u001b[0mself\u001b[0m\u001b[0;34m.\u001b[0m\u001b[0m__set_objective_to_none\u001b[0m\u001b[0;34m:\u001b[0m\u001b[0;34m\u001b[0m\u001b[0;34m\u001b[0m\u001b[0m\n\u001b[1;32m   3020\u001b[0m                 \u001b[0;32mraise\u001b[0m \u001b[0mLightGBMError\u001b[0m\u001b[0;34m(\u001b[0m\u001b[0;34m'Cannot update due to null objective function.'\u001b[0m\u001b[0;34m)\u001b[0m\u001b[0;34m\u001b[0m\u001b[0;34m\u001b[0m\u001b[0m\n\u001b[0;32m-> 3021\u001b[0;31m             _safe_call(_LIB.LGBM_BoosterUpdateOneIter(\n\u001b[0m\u001b[1;32m   3022\u001b[0m                 \u001b[0mself\u001b[0m\u001b[0;34m.\u001b[0m\u001b[0mhandle\u001b[0m\u001b[0;34m,\u001b[0m\u001b[0;34m\u001b[0m\u001b[0;34m\u001b[0m\u001b[0m\n\u001b[1;32m   3023\u001b[0m                 ctypes.byref(is_finished)))\n",
      "\u001b[0;31mKeyboardInterrupt\u001b[0m: "
     ]
    }
   ],
   "source": [
    "%%time\n",
    "model_LGBM = LGBMRegressor(num_leaves=110, max_depth= 7, metric='rmse')\n",
    "model_LGBM.fit(features_train, target_train)\n",
    "prediction = model_LGBM.predict(features_valid)\n",
    "score_LGBMRegressor = mean_squared_error(target_valid, prediction)\n",
    "print('RMSE:', score_LGBMRegressor**0.5)"
   ]
  },
  {
   "cell_type": "markdown",
   "metadata": {},
   "source": [
    "## Анализ моделей"
   ]
  },
  {
   "cell_type": "markdown",
   "metadata": {},
   "source": [
    "Сравним модели и полученные результаты."
   ]
  },
  {
   "cell_type": "code",
   "execution_count": null,
   "metadata": {},
   "outputs": [],
   "source": [
    "final_stats = pd.DataFrame(data=[['Линейная регрессия', '361 ms', '361 ms', (scores_LinearRegression.mean()*(-1))**0.5], \n",
    "                               ['Дерево решений', '5.41 s', '98 ms', score_DecisionTreeRegressor**0.5], \n",
    "                               ['Случайный лес', '5min 3s', '2.32 s', score_RandomForestRegressor**0.5],\n",
    "                                 ['CatBoost', '12min 18s', '3.7 s', score_CatBoostRegressor**0.5],\n",
    "                                 ['LightGBM', '6min 41s', '4.07 s', score_LGBMRegressor**0.5]],\n",
    "                         columns=[['Модель', 'Время обучения', \n",
    "                                   'Время предсказания', 'RMSE']])\n",
    "final_stats"
   ]
  },
  {
   "cell_type": "markdown",
   "metadata": {},
   "source": [
    "Минимальную ошибку показала модель LightGBM. Время обучения 1min 56s, время предсказания 4.19 s. Обучение довольно быстрым и точным всего с двумя гиперпараметрами"
   ]
  },
  {
   "cell_type": "markdown",
   "metadata": {},
   "source": [
    "Обучим лучшую модель на более большом наборе данных (train+valid) и протестируем на тестовой выборке."
   ]
  },
  {
   "cell_type": "code",
   "execution_count": null,
   "metadata": {},
   "outputs": [],
   "source": [
    "features = features_train.append(features_valid, ignore_index=True)\n",
    "target = target_train.append(target_valid, ignore_index=True)"
   ]
  },
  {
   "cell_type": "code",
   "execution_count": 507,
   "metadata": {
    "collapsed": true
   },
   "outputs": [
    {
     "ename": "KeyboardInterrupt",
     "evalue": "",
     "output_type": "error",
     "traceback": [
      "\u001b[0;31m---------------------------------------------------------------------------\u001b[0m",
      "\u001b[0;31mKeyboardInterrupt\u001b[0m                         Traceback (most recent call last)",
      "\u001b[0;32m<timed exec>\u001b[0m in \u001b[0;36m<module>\u001b[0;34m\u001b[0m\n",
      "\u001b[0;32m/opt/conda/lib/python3.9/site-packages/lightgbm/sklearn.py\u001b[0m in \u001b[0;36mfit\u001b[0;34m(self, X, y, sample_weight, init_score, eval_set, eval_names, eval_sample_weight, eval_init_score, eval_metric, early_stopping_rounds, verbose, feature_name, categorical_feature, callbacks, init_model)\u001b[0m\n\u001b[1;32m    893\u001b[0m             callbacks=None, init_model=None):\n\u001b[1;32m    894\u001b[0m         \u001b[0;34m\"\"\"Docstring is inherited from the LGBMModel.\"\"\"\u001b[0m\u001b[0;34m\u001b[0m\u001b[0;34m\u001b[0m\u001b[0m\n\u001b[0;32m--> 895\u001b[0;31m         super().fit(X, y, sample_weight=sample_weight, init_score=init_score,\n\u001b[0m\u001b[1;32m    896\u001b[0m                     \u001b[0meval_set\u001b[0m\u001b[0;34m=\u001b[0m\u001b[0meval_set\u001b[0m\u001b[0;34m,\u001b[0m \u001b[0meval_names\u001b[0m\u001b[0;34m=\u001b[0m\u001b[0meval_names\u001b[0m\u001b[0;34m,\u001b[0m \u001b[0meval_sample_weight\u001b[0m\u001b[0;34m=\u001b[0m\u001b[0meval_sample_weight\u001b[0m\u001b[0;34m,\u001b[0m\u001b[0;34m\u001b[0m\u001b[0;34m\u001b[0m\u001b[0m\n\u001b[1;32m    897\u001b[0m                     \u001b[0meval_init_score\u001b[0m\u001b[0;34m=\u001b[0m\u001b[0meval_init_score\u001b[0m\u001b[0;34m,\u001b[0m \u001b[0meval_metric\u001b[0m\u001b[0;34m=\u001b[0m\u001b[0meval_metric\u001b[0m\u001b[0;34m,\u001b[0m\u001b[0;34m\u001b[0m\u001b[0;34m\u001b[0m\u001b[0m\n",
      "\u001b[0;32m/opt/conda/lib/python3.9/site-packages/lightgbm/sklearn.py\u001b[0m in \u001b[0;36mfit\u001b[0;34m(self, X, y, sample_weight, init_score, group, eval_set, eval_names, eval_sample_weight, eval_class_weight, eval_init_score, eval_group, eval_metric, early_stopping_rounds, verbose, feature_name, categorical_feature, callbacks, init_model)\u001b[0m\n\u001b[1;32m    746\u001b[0m         \u001b[0mcallbacks\u001b[0m\u001b[0;34m.\u001b[0m\u001b[0mappend\u001b[0m\u001b[0;34m(\u001b[0m\u001b[0mrecord_evaluation\u001b[0m\u001b[0;34m(\u001b[0m\u001b[0mevals_result\u001b[0m\u001b[0;34m)\u001b[0m\u001b[0;34m)\u001b[0m\u001b[0;34m\u001b[0m\u001b[0;34m\u001b[0m\u001b[0m\n\u001b[1;32m    747\u001b[0m \u001b[0;34m\u001b[0m\u001b[0m\n\u001b[0;32m--> 748\u001b[0;31m         self._Booster = train(\n\u001b[0m\u001b[1;32m    749\u001b[0m             \u001b[0mparams\u001b[0m\u001b[0;34m=\u001b[0m\u001b[0mparams\u001b[0m\u001b[0;34m,\u001b[0m\u001b[0;34m\u001b[0m\u001b[0;34m\u001b[0m\u001b[0m\n\u001b[1;32m    750\u001b[0m             \u001b[0mtrain_set\u001b[0m\u001b[0;34m=\u001b[0m\u001b[0mtrain_set\u001b[0m\u001b[0;34m,\u001b[0m\u001b[0;34m\u001b[0m\u001b[0;34m\u001b[0m\u001b[0m\n",
      "\u001b[0;32m/opt/conda/lib/python3.9/site-packages/lightgbm/engine.py\u001b[0m in \u001b[0;36mtrain\u001b[0;34m(params, train_set, num_boost_round, valid_sets, valid_names, fobj, feval, init_model, feature_name, categorical_feature, early_stopping_rounds, evals_result, verbose_eval, learning_rates, keep_training_booster, callbacks)\u001b[0m\n\u001b[1;32m    290\u001b[0m                                     evaluation_result_list=None))\n\u001b[1;32m    291\u001b[0m \u001b[0;34m\u001b[0m\u001b[0m\n\u001b[0;32m--> 292\u001b[0;31m         \u001b[0mbooster\u001b[0m\u001b[0;34m.\u001b[0m\u001b[0mupdate\u001b[0m\u001b[0;34m(\u001b[0m\u001b[0mfobj\u001b[0m\u001b[0;34m=\u001b[0m\u001b[0mfobj\u001b[0m\u001b[0;34m)\u001b[0m\u001b[0;34m\u001b[0m\u001b[0;34m\u001b[0m\u001b[0m\n\u001b[0m\u001b[1;32m    293\u001b[0m \u001b[0;34m\u001b[0m\u001b[0m\n\u001b[1;32m    294\u001b[0m         \u001b[0mevaluation_result_list\u001b[0m \u001b[0;34m=\u001b[0m \u001b[0;34m[\u001b[0m\u001b[0;34m]\u001b[0m\u001b[0;34m\u001b[0m\u001b[0;34m\u001b[0m\u001b[0m\n",
      "\u001b[0;32m/opt/conda/lib/python3.9/site-packages/lightgbm/basic.py\u001b[0m in \u001b[0;36mupdate\u001b[0;34m(self, train_set, fobj)\u001b[0m\n\u001b[1;32m   3019\u001b[0m             \u001b[0;32mif\u001b[0m \u001b[0mself\u001b[0m\u001b[0;34m.\u001b[0m\u001b[0m__set_objective_to_none\u001b[0m\u001b[0;34m:\u001b[0m\u001b[0;34m\u001b[0m\u001b[0;34m\u001b[0m\u001b[0m\n\u001b[1;32m   3020\u001b[0m                 \u001b[0;32mraise\u001b[0m \u001b[0mLightGBMError\u001b[0m\u001b[0;34m(\u001b[0m\u001b[0;34m'Cannot update due to null objective function.'\u001b[0m\u001b[0;34m)\u001b[0m\u001b[0;34m\u001b[0m\u001b[0;34m\u001b[0m\u001b[0m\n\u001b[0;32m-> 3021\u001b[0;31m             _safe_call(_LIB.LGBM_BoosterUpdateOneIter(\n\u001b[0m\u001b[1;32m   3022\u001b[0m                 \u001b[0mself\u001b[0m\u001b[0;34m.\u001b[0m\u001b[0mhandle\u001b[0m\u001b[0;34m,\u001b[0m\u001b[0;34m\u001b[0m\u001b[0;34m\u001b[0m\u001b[0m\n\u001b[1;32m   3023\u001b[0m                 ctypes.byref(is_finished)))\n",
      "\u001b[0;31mKeyboardInterrupt\u001b[0m: "
     ]
    }
   ],
   "source": [
    "%%time\n",
    "model_LGBM = LGBMRegressor(num_leaves=110, max_depth= 7, metric='rmse')\n",
    "model_LGBM.fit(features, target)\n",
    "prediction_LGBM = model+_LGBM.predict(features_test)\n",
    "score_LGBMRegressor = mean_squared_error(target_test, prediction_LGBM)\n",
    "print('RMSE:', score_LGBMRegressor**0.5)"
   ]
  },
  {
   "cell_type": "markdown",
   "metadata": {},
   "source": [
    "Вышесказанное подтвердилось - лучшая модель LightGBM, которая лучашая по всем параметрам оценки: время обучения, время предсказания и RMSE=1828.457 на валидационной и RMSE=1817.688 на тестовой выборках соответственно"
   ]
  }
 ],
 "metadata": {
  "ExecuteTimeLog": [
   {
    "duration": 413,
    "start_time": "2022-05-24T11:32:23.757Z"
   },
   {
    "duration": 2806,
    "start_time": "2022-05-24T11:32:42.537Z"
   },
   {
    "duration": 879,
    "start_time": "2022-05-24T11:33:35.047Z"
   },
   {
    "duration": 423,
    "start_time": "2022-05-24T11:45:12.289Z"
   },
   {
    "duration": 992,
    "start_time": "2022-05-24T11:45:28.552Z"
   },
   {
    "duration": 929,
    "start_time": "2022-05-24T11:45:35.423Z"
   },
   {
    "duration": 1020,
    "start_time": "2022-05-24T11:53:54.044Z"
   },
   {
    "duration": 102,
    "start_time": "2022-05-24T11:54:17.978Z"
   },
   {
    "duration": 118,
    "start_time": "2022-05-24T11:54:21.583Z"
   },
   {
    "duration": 19,
    "start_time": "2022-05-24T12:03:30.959Z"
   },
   {
    "duration": 117,
    "start_time": "2022-05-24T12:04:03.496Z"
   },
   {
    "duration": 16,
    "start_time": "2022-05-24T12:04:19.267Z"
   },
   {
    "duration": 33,
    "start_time": "2022-05-24T12:05:21.653Z"
   },
   {
    "duration": 31,
    "start_time": "2022-05-24T12:11:56.536Z"
   },
   {
    "duration": 32,
    "start_time": "2022-05-24T12:12:26.905Z"
   },
   {
    "duration": 37,
    "start_time": "2022-05-24T12:14:26.652Z"
   },
   {
    "duration": 59,
    "start_time": "2022-05-24T12:14:30.761Z"
   },
   {
    "duration": 59,
    "start_time": "2022-05-24T12:15:27.387Z"
   },
   {
    "duration": 51,
    "start_time": "2022-05-24T12:15:55.955Z"
   },
   {
    "duration": 19,
    "start_time": "2022-05-24T12:20:26.728Z"
   },
   {
    "duration": 15,
    "start_time": "2022-05-24T12:20:31.921Z"
   },
   {
    "duration": 28,
    "start_time": "2022-05-24T12:21:28.079Z"
   },
   {
    "duration": 501,
    "start_time": "2022-05-24T12:22:16.257Z"
   },
   {
    "duration": 17,
    "start_time": "2022-05-24T12:22:21.745Z"
   },
   {
    "duration": 24,
    "start_time": "2022-05-24T12:22:33.383Z"
   },
   {
    "duration": 94,
    "start_time": "2022-05-24T12:23:08.575Z"
   },
   {
    "duration": 17,
    "start_time": "2022-05-24T12:23:10.303Z"
   },
   {
    "duration": 28,
    "start_time": "2022-05-24T12:26:27.023Z"
   },
   {
    "duration": 33,
    "start_time": "2022-05-24T12:26:34.711Z"
   },
   {
    "duration": 119,
    "start_time": "2022-05-24T12:28:00.150Z"
   },
   {
    "duration": 20,
    "start_time": "2022-05-24T12:28:01.954Z"
   },
   {
    "duration": 18,
    "start_time": "2022-05-24T12:41:51.480Z"
   },
   {
    "duration": 49,
    "start_time": "2022-05-24T12:42:09.456Z"
   },
   {
    "duration": 88,
    "start_time": "2022-05-24T12:42:52.263Z"
   },
   {
    "duration": 12,
    "start_time": "2022-05-24T12:42:55.798Z"
   },
   {
    "duration": 66,
    "start_time": "2022-05-24T12:44:06.554Z"
   },
   {
    "duration": 11,
    "start_time": "2022-05-24T12:44:10.702Z"
   },
   {
    "duration": 3,
    "start_time": "2022-05-24T12:49:36.348Z"
   },
   {
    "duration": 9,
    "start_time": "2022-05-24T12:49:51.821Z"
   },
   {
    "duration": 714,
    "start_time": "2022-05-24T12:49:55.057Z"
   },
   {
    "duration": 4,
    "start_time": "2022-05-24T12:51:23.353Z"
   },
   {
    "duration": 35,
    "start_time": "2022-05-24T12:51:24.193Z"
   },
   {
    "duration": 4,
    "start_time": "2022-05-24T12:51:57.577Z"
   },
   {
    "duration": 21,
    "start_time": "2022-05-24T12:51:57.992Z"
   },
   {
    "duration": 15,
    "start_time": "2022-05-24T12:52:11.593Z"
   },
   {
    "duration": 22,
    "start_time": "2022-05-24T12:52:37.696Z"
   },
   {
    "duration": 145,
    "start_time": "2022-05-24T12:53:34.208Z"
   },
   {
    "duration": 19,
    "start_time": "2022-05-24T12:53:58.800Z"
   },
   {
    "duration": 169,
    "start_time": "2022-05-24T12:54:03.600Z"
   },
   {
    "duration": 566,
    "start_time": "2022-05-24T12:56:32.111Z"
   },
   {
    "duration": 535,
    "start_time": "2022-05-24T12:56:37.918Z"
   },
   {
    "duration": 523,
    "start_time": "2022-05-24T12:56:48.302Z"
   },
   {
    "duration": 848,
    "start_time": "2022-05-24T12:56:58.646Z"
   },
   {
    "duration": 13,
    "start_time": "2022-05-24T12:57:06.824Z"
   },
   {
    "duration": 96,
    "start_time": "2022-05-24T12:58:06.742Z"
   },
   {
    "duration": 29,
    "start_time": "2022-05-24T12:58:10.829Z"
   },
   {
    "duration": 3,
    "start_time": "2022-05-24T12:58:15.374Z"
   },
   {
    "duration": 951,
    "start_time": "2022-05-24T12:58:18.837Z"
   },
   {
    "duration": 4,
    "start_time": "2022-05-24T12:58:49.173Z"
   },
   {
    "duration": 834,
    "start_time": "2022-05-24T12:58:49.821Z"
   },
   {
    "duration": 3,
    "start_time": "2022-05-24T13:00:32.300Z"
   },
   {
    "duration": 709,
    "start_time": "2022-05-24T13:00:32.949Z"
   },
   {
    "duration": 9,
    "start_time": "2022-05-24T13:00:48.228Z"
   },
   {
    "duration": 748,
    "start_time": "2022-05-24T13:00:52.508Z"
   },
   {
    "duration": 9,
    "start_time": "2022-05-24T13:01:28.324Z"
   },
   {
    "duration": 11,
    "start_time": "2022-05-24T13:01:32.284Z"
   },
   {
    "duration": 4,
    "start_time": "2022-05-24T13:01:34.939Z"
   },
   {
    "duration": 88149,
    "start_time": "2022-05-24T13:01:36.532Z"
   },
   {
    "duration": 4,
    "start_time": "2022-05-24T13:03:21.650Z"
   },
   {
    "duration": 21,
    "start_time": "2022-05-24T13:03:25.186Z"
   },
   {
    "duration": 3,
    "start_time": "2022-05-24T13:03:29.403Z"
   },
   {
    "duration": 14,
    "start_time": "2022-05-24T13:03:29.955Z"
   },
   {
    "duration": 2384,
    "start_time": "2022-05-24T13:03:37.994Z"
   },
   {
    "duration": 4,
    "start_time": "2022-05-24T13:03:41.170Z"
   },
   {
    "duration": 10994,
    "start_time": "2022-05-24T13:03:41.418Z"
   },
   {
    "duration": 147,
    "start_time": "2022-05-24T13:03:53.891Z"
   },
   {
    "duration": 4,
    "start_time": "2022-05-24T13:03:55.154Z"
   },
   {
    "duration": 149,
    "start_time": "2022-05-24T13:03:55.514Z"
   },
   {
    "duration": 156,
    "start_time": "2022-05-24T13:04:15.522Z"
   },
   {
    "duration": 236,
    "start_time": "2022-05-24T13:05:07.033Z"
   },
   {
    "duration": 3,
    "start_time": "2022-05-24T13:05:32.170Z"
   },
   {
    "duration": 242,
    "start_time": "2022-05-24T13:05:32.553Z"
   },
   {
    "duration": 49,
    "start_time": "2022-05-24T13:05:33.497Z"
   },
   {
    "duration": 29,
    "start_time": "2022-05-24T13:06:15.762Z"
   },
   {
    "duration": 12,
    "start_time": "2022-05-24T13:06:25.050Z"
   },
   {
    "duration": 15,
    "start_time": "2022-05-24T13:06:56.497Z"
   },
   {
    "duration": 4,
    "start_time": "2022-05-24T13:07:30.970Z"
   },
   {
    "duration": 314,
    "start_time": "2022-05-24T13:07:31.328Z"
   },
   {
    "duration": 4,
    "start_time": "2022-05-24T13:07:50.392Z"
   },
   {
    "duration": 326,
    "start_time": "2022-05-24T13:07:50.954Z"
   },
   {
    "duration": 23,
    "start_time": "2022-05-24T13:07:52.473Z"
   },
   {
    "duration": 20,
    "start_time": "2022-05-24T13:07:57.593Z"
   },
   {
    "duration": 3,
    "start_time": "2022-05-24T13:08:26.400Z"
   },
   {
    "duration": 81942,
    "start_time": "2022-05-24T13:08:58.431Z"
   },
   {
    "duration": 3,
    "start_time": "2022-05-24T13:10:39.734Z"
   },
   {
    "duration": 19,
    "start_time": "2022-05-24T13:10:42.910Z"
   },
   {
    "duration": 16,
    "start_time": "2022-05-24T13:11:18.368Z"
   },
   {
    "duration": 18,
    "start_time": "2022-05-24T13:11:44.341Z"
   },
   {
    "duration": 399,
    "start_time": "2022-05-24T13:11:52.766Z"
   },
   {
    "duration": 429,
    "start_time": "2022-05-24T13:11:58.766Z"
   },
   {
    "duration": 33,
    "start_time": "2022-05-24T13:13:10.421Z"
   },
   {
    "duration": 4,
    "start_time": "2022-05-24T13:13:43.140Z"
   },
   {
    "duration": 1001,
    "start_time": "2022-05-24T13:13:43.146Z"
   },
   {
    "duration": 122,
    "start_time": "2022-05-24T13:13:44.148Z"
   },
   {
    "duration": 12,
    "start_time": "2022-05-24T13:13:44.271Z"
   },
   {
    "duration": 102,
    "start_time": "2022-05-24T13:13:44.285Z"
   },
   {
    "duration": 17,
    "start_time": "2022-05-24T13:13:44.389Z"
   },
   {
    "duration": 65,
    "start_time": "2022-05-24T13:13:44.408Z"
   },
   {
    "duration": 66,
    "start_time": "2022-05-24T13:13:44.475Z"
   },
   {
    "duration": 61,
    "start_time": "2022-05-24T13:13:44.544Z"
   },
   {
    "duration": 22,
    "start_time": "2022-05-24T13:13:44.606Z"
   },
   {
    "duration": 29,
    "start_time": "2022-05-24T13:13:46.613Z"
   },
   {
    "duration": 3,
    "start_time": "2022-05-24T13:13:52.093Z"
   },
   {
    "duration": 29116,
    "start_time": "2022-05-24T13:14:32.174Z"
   },
   {
    "duration": 4,
    "start_time": "2022-05-24T13:15:15.012Z"
   },
   {
    "duration": 25,
    "start_time": "2022-05-24T13:15:18.516Z"
   },
   {
    "duration": 144,
    "start_time": "2022-05-24T13:15:26.621Z"
   },
   {
    "duration": 4,
    "start_time": "2022-05-24T13:15:47.604Z"
   },
   {
    "duration": 19,
    "start_time": "2022-05-24T13:15:47.892Z"
   },
   {
    "duration": 222,
    "start_time": "2022-05-24T13:15:49.291Z"
   },
   {
    "duration": 228,
    "start_time": "2022-05-24T13:15:53.085Z"
   },
   {
    "duration": 15,
    "start_time": "2022-05-24T13:16:14.877Z"
   },
   {
    "duration": 329,
    "start_time": "2022-05-24T13:16:17.859Z"
   },
   {
    "duration": 21,
    "start_time": "2022-05-24T13:16:23.012Z"
   },
   {
    "duration": 543,
    "start_time": "2022-05-24T13:17:04.884Z"
   },
   {
    "duration": 38,
    "start_time": "2022-05-24T13:17:05.429Z"
   },
   {
    "duration": 14,
    "start_time": "2022-05-24T13:17:42.043Z"
   },
   {
    "duration": 260,
    "start_time": "2022-05-24T13:17:43.604Z"
   },
   {
    "duration": 43,
    "start_time": "2022-05-24T13:17:43.924Z"
   },
   {
    "duration": 43,
    "start_time": "2022-05-24T13:17:56.124Z"
   },
   {
    "duration": 1449,
    "start_time": "2022-05-24T13:18:05.723Z"
   },
   {
    "duration": 58,
    "start_time": "2022-05-24T13:18:08.219Z"
   },
   {
    "duration": 3,
    "start_time": "2022-05-24T13:27:12.983Z"
   },
   {
    "duration": 23,
    "start_time": "2022-05-24T13:27:14.512Z"
   },
   {
    "duration": 8,
    "start_time": "2022-05-24T13:30:11.478Z"
   },
   {
    "duration": 11,
    "start_time": "2022-05-24T13:30:16.990Z"
   },
   {
    "duration": 3,
    "start_time": "2022-05-24T13:31:22.591Z"
   },
   {
    "duration": 953,
    "start_time": "2022-05-24T13:31:22.596Z"
   },
   {
    "duration": 120,
    "start_time": "2022-05-24T13:31:23.551Z"
   },
   {
    "duration": 16,
    "start_time": "2022-05-24T13:31:23.674Z"
   },
   {
    "duration": 119,
    "start_time": "2022-05-24T13:31:23.693Z"
   },
   {
    "duration": 29,
    "start_time": "2022-05-24T13:31:23.813Z"
   },
   {
    "duration": 56,
    "start_time": "2022-05-24T13:31:23.844Z"
   },
   {
    "duration": 80,
    "start_time": "2022-05-24T13:31:23.902Z"
   },
   {
    "duration": 84,
    "start_time": "2022-05-24T13:31:23.986Z"
   },
   {
    "duration": 4,
    "start_time": "2022-05-24T13:31:27.004Z"
   },
   {
    "duration": 37,
    "start_time": "2022-05-24T13:32:09.936Z"
   },
   {
    "duration": 16,
    "start_time": "2022-05-24T13:32:12.628Z"
   },
   {
    "duration": 10,
    "start_time": "2022-05-24T13:33:18.037Z"
   },
   {
    "duration": 2965,
    "start_time": "2022-05-24T13:34:08.299Z"
   },
   {
    "duration": 2099,
    "start_time": "2022-05-24T13:34:27.533Z"
   },
   {
    "duration": 2136,
    "start_time": "2022-05-24T13:34:36.875Z"
   },
   {
    "duration": 4,
    "start_time": "2022-05-24T13:41:26.696Z"
   },
   {
    "duration": 18,
    "start_time": "2022-05-24T13:41:53.320Z"
   },
   {
    "duration": 15,
    "start_time": "2022-05-24T13:42:30.191Z"
   },
   {
    "duration": 137,
    "start_time": "2022-05-24T13:43:25.576Z"
   },
   {
    "duration": 63,
    "start_time": "2022-05-24T13:44:16.976Z"
   },
   {
    "duration": 23,
    "start_time": "2022-05-24T13:44:20.671Z"
   },
   {
    "duration": 59,
    "start_time": "2022-05-24T13:44:49.103Z"
   },
   {
    "duration": 8,
    "start_time": "2022-05-24T13:44:50.926Z"
   },
   {
    "duration": 5,
    "start_time": "2022-05-24T13:44:57.438Z"
   },
   {
    "duration": 8,
    "start_time": "2022-05-24T13:44:57.630Z"
   },
   {
    "duration": 5,
    "start_time": "2022-05-24T13:45:00.158Z"
   },
   {
    "duration": 8,
    "start_time": "2022-05-24T13:45:00.455Z"
   },
   {
    "duration": 4,
    "start_time": "2022-05-24T13:45:02.776Z"
   },
   {
    "duration": 1008,
    "start_time": "2022-05-24T13:45:02.782Z"
   },
   {
    "duration": 119,
    "start_time": "2022-05-24T13:45:03.791Z"
   },
   {
    "duration": 158,
    "start_time": "2022-05-24T13:45:03.912Z"
   },
   {
    "duration": 89,
    "start_time": "2022-05-24T13:45:06.904Z"
   },
   {
    "duration": 33,
    "start_time": "2022-05-24T13:45:07.199Z"
   },
   {
    "duration": 117,
    "start_time": "2022-05-24T13:45:14.103Z"
   },
   {
    "duration": 83,
    "start_time": "2022-05-24T13:45:23.862Z"
   },
   {
    "duration": 23,
    "start_time": "2022-05-24T13:45:24.030Z"
   },
   {
    "duration": 122,
    "start_time": "2022-05-24T13:45:26.622Z"
   },
   {
    "duration": 326,
    "start_time": "2022-05-24T13:45:57.102Z"
   },
   {
    "duration": 151,
    "start_time": "2022-05-24T13:46:06.278Z"
   },
   {
    "duration": 149,
    "start_time": "2022-05-24T13:46:23.630Z"
   },
   {
    "duration": 4,
    "start_time": "2022-05-24T13:46:27.391Z"
   },
   {
    "duration": 962,
    "start_time": "2022-05-24T13:46:27.397Z"
   },
   {
    "duration": 127,
    "start_time": "2022-05-24T13:46:28.361Z"
   },
   {
    "duration": 159,
    "start_time": "2022-05-24T13:46:30.246Z"
   },
   {
    "duration": 172,
    "start_time": "2022-05-24T13:46:41.982Z"
   },
   {
    "duration": 161,
    "start_time": "2022-05-24T13:46:44.806Z"
   },
   {
    "duration": 137,
    "start_time": "2022-05-24T13:46:51.741Z"
   },
   {
    "duration": 131,
    "start_time": "2022-05-24T13:46:56.086Z"
   },
   {
    "duration": 36,
    "start_time": "2022-05-24T13:50:50.507Z"
   },
   {
    "duration": 66,
    "start_time": "2022-05-24T13:51:00.660Z"
   },
   {
    "duration": 146,
    "start_time": "2022-05-24T13:51:58.250Z"
   },
   {
    "duration": 156,
    "start_time": "2022-05-24T13:52:15.179Z"
   },
   {
    "duration": 148,
    "start_time": "2022-05-24T13:52:20.722Z"
   },
   {
    "duration": 208,
    "start_time": "2022-05-24T13:52:23.739Z"
   },
   {
    "duration": 143,
    "start_time": "2022-05-24T13:52:28.466Z"
   },
   {
    "duration": 163,
    "start_time": "2022-05-24T13:52:36.282Z"
   },
   {
    "duration": 148,
    "start_time": "2022-05-24T13:52:42.674Z"
   },
   {
    "duration": 51,
    "start_time": "2022-05-24T13:59:01.374Z"
   },
   {
    "duration": 49,
    "start_time": "2022-05-24T14:00:00.878Z"
   },
   {
    "duration": 219,
    "start_time": "2022-05-24T14:00:11.775Z"
   },
   {
    "duration": 91,
    "start_time": "2022-05-24T14:00:18.839Z"
   },
   {
    "duration": 106,
    "start_time": "2022-05-24T14:00:22.503Z"
   },
   {
    "duration": 92,
    "start_time": "2022-05-24T14:01:41.271Z"
   },
   {
    "duration": 48,
    "start_time": "2022-05-24T14:01:44.087Z"
   },
   {
    "duration": 5,
    "start_time": "2022-05-24T14:04:22.759Z"
   },
   {
    "duration": 3,
    "start_time": "2022-05-24T14:04:30.862Z"
   },
   {
    "duration": 4,
    "start_time": "2022-05-24T14:04:33.134Z"
   },
   {
    "duration": 5,
    "start_time": "2022-05-24T14:04:41.862Z"
   },
   {
    "duration": 23,
    "start_time": "2022-05-24T14:04:54.926Z"
   },
   {
    "duration": 5,
    "start_time": "2022-05-24T14:05:05.802Z"
   },
   {
    "duration": 12,
    "start_time": "2022-05-24T14:05:05.950Z"
   },
   {
    "duration": 11,
    "start_time": "2022-05-24T14:05:14.774Z"
   },
   {
    "duration": 3,
    "start_time": "2022-05-24T14:05:20.592Z"
   },
   {
    "duration": 981,
    "start_time": "2022-05-24T14:05:20.597Z"
   },
   {
    "duration": 134,
    "start_time": "2022-05-24T14:05:21.580Z"
   },
   {
    "duration": 46,
    "start_time": "2022-05-24T14:05:24.438Z"
   },
   {
    "duration": 48,
    "start_time": "2022-05-24T14:14:47.165Z"
   },
   {
    "duration": 46,
    "start_time": "2022-05-24T14:18:16.973Z"
   },
   {
    "duration": 13,
    "start_time": "2022-05-24T14:18:26.109Z"
   },
   {
    "duration": 14,
    "start_time": "2022-05-24T14:18:28.645Z"
   },
   {
    "duration": 12,
    "start_time": "2022-05-24T14:18:34.253Z"
   },
   {
    "duration": 53,
    "start_time": "2022-05-24T14:18:57.268Z"
   },
   {
    "duration": 12,
    "start_time": "2022-05-24T14:19:10.276Z"
   },
   {
    "duration": 44,
    "start_time": "2022-05-24T14:19:26.292Z"
   },
   {
    "duration": 3,
    "start_time": "2022-05-24T14:29:25.320Z"
   },
   {
    "duration": 4,
    "start_time": "2022-05-24T14:29:27.560Z"
   },
   {
    "duration": 38,
    "start_time": "2022-05-24T14:29:36.408Z"
   },
   {
    "duration": 100,
    "start_time": "2022-05-24T14:31:48.983Z"
   },
   {
    "duration": 98,
    "start_time": "2022-05-24T14:32:26.039Z"
   },
   {
    "duration": 49,
    "start_time": "2022-05-24T14:32:29.734Z"
   },
   {
    "duration": 68,
    "start_time": "2022-05-24T14:32:37.943Z"
   },
   {
    "duration": 110,
    "start_time": "2022-05-24T14:33:00.831Z"
   },
   {
    "duration": 201,
    "start_time": "2022-05-24T14:33:09.656Z"
   },
   {
    "duration": 221,
    "start_time": "2022-05-24T14:33:14.902Z"
   },
   {
    "duration": 108,
    "start_time": "2022-05-24T14:33:40.039Z"
   },
   {
    "duration": 414,
    "start_time": "2022-05-24T14:37:11.492Z"
   },
   {
    "duration": 31,
    "start_time": "2022-05-24T14:37:16.651Z"
   },
   {
    "duration": 110,
    "start_time": "2022-05-24T14:37:31.827Z"
   },
   {
    "duration": 84,
    "start_time": "2022-05-24T14:38:39.749Z"
   },
   {
    "duration": 52,
    "start_time": "2022-05-24T14:39:24.980Z"
   },
   {
    "duration": 3,
    "start_time": "2022-05-24T14:39:44.284Z"
   },
   {
    "duration": 912,
    "start_time": "2022-05-24T14:39:44.289Z"
   },
   {
    "duration": 112,
    "start_time": "2022-05-24T14:39:45.203Z"
   },
   {
    "duration": 5,
    "start_time": "2022-05-24T14:44:11.714Z"
   },
   {
    "duration": 120,
    "start_time": "2022-05-24T14:44:15.898Z"
   },
   {
    "duration": 40,
    "start_time": "2022-05-24T14:44:23.878Z"
   },
   {
    "duration": 34,
    "start_time": "2022-05-24T14:45:14.097Z"
   },
   {
    "duration": 1019,
    "start_time": "2022-05-24T14:45:28.074Z"
   },
   {
    "duration": 39,
    "start_time": "2022-05-24T14:45:33.914Z"
   },
   {
    "duration": 38,
    "start_time": "2022-05-24T14:48:47.224Z"
   },
   {
    "duration": 34,
    "start_time": "2022-05-24T14:50:03.297Z"
   },
   {
    "duration": 44,
    "start_time": "2022-05-24T14:50:17.952Z"
   },
   {
    "duration": 47,
    "start_time": "2022-05-24T14:51:25.720Z"
   },
   {
    "duration": 12,
    "start_time": "2022-05-24T14:53:53.391Z"
   },
   {
    "duration": 173,
    "start_time": "2022-05-24T14:55:43.724Z"
   },
   {
    "duration": 225,
    "start_time": "2022-05-24T14:55:47.382Z"
   },
   {
    "duration": 112,
    "start_time": "2022-05-24T14:56:08.743Z"
   },
   {
    "duration": 570,
    "start_time": "2022-05-24T14:57:46.009Z"
   },
   {
    "duration": 772,
    "start_time": "2022-05-24T14:57:53.887Z"
   },
   {
    "duration": 86,
    "start_time": "2022-05-24T14:58:03.974Z"
   },
   {
    "duration": 82,
    "start_time": "2022-05-24T14:58:14.766Z"
   },
   {
    "duration": 77,
    "start_time": "2022-05-24T14:58:18.205Z"
   },
   {
    "duration": 99,
    "start_time": "2022-05-24T14:58:22.973Z"
   },
   {
    "duration": 601,
    "start_time": "2022-05-24T14:58:29.752Z"
   },
   {
    "duration": 577,
    "start_time": "2022-05-24T14:58:36.430Z"
   },
   {
    "duration": 74,
    "start_time": "2022-05-24T14:58:56.798Z"
   },
   {
    "duration": 95,
    "start_time": "2022-05-24T14:59:00.337Z"
   },
   {
    "duration": 74,
    "start_time": "2022-05-24T14:59:10.775Z"
   },
   {
    "duration": 99,
    "start_time": "2022-05-24T14:59:14.829Z"
   },
   {
    "duration": 96,
    "start_time": "2022-05-24T14:59:32.312Z"
   },
   {
    "duration": 567,
    "start_time": "2022-05-24T14:59:39.744Z"
   },
   {
    "duration": 96,
    "start_time": "2022-05-24T14:59:48.613Z"
   },
   {
    "duration": 81,
    "start_time": "2022-05-24T15:00:02.173Z"
   },
   {
    "duration": 30,
    "start_time": "2022-05-24T15:00:11.093Z"
   },
   {
    "duration": 5,
    "start_time": "2022-05-24T15:01:11.216Z"
   },
   {
    "duration": 27,
    "start_time": "2022-05-24T15:01:14.613Z"
   },
   {
    "duration": 595,
    "start_time": "2022-05-24T15:01:38.966Z"
   },
   {
    "duration": 5,
    "start_time": "2022-05-24T15:01:44.852Z"
   },
   {
    "duration": 17,
    "start_time": "2022-05-24T15:01:49.604Z"
   },
   {
    "duration": 6,
    "start_time": "2022-05-24T15:02:00.821Z"
   },
   {
    "duration": 5,
    "start_time": "2022-05-24T15:02:04.972Z"
   },
   {
    "duration": 40,
    "start_time": "2022-05-24T15:02:23.165Z"
   },
   {
    "duration": 27,
    "start_time": "2022-05-24T15:02:29.291Z"
   },
   {
    "duration": 74,
    "start_time": "2022-05-24T15:09:57.557Z"
   },
   {
    "duration": 53,
    "start_time": "2022-05-24T15:09:59.422Z"
   },
   {
    "duration": 104,
    "start_time": "2022-05-24T15:10:32.076Z"
   },
   {
    "duration": 18,
    "start_time": "2022-05-24T15:10:33.256Z"
   },
   {
    "duration": 27,
    "start_time": "2022-05-24T15:21:13.467Z"
   },
   {
    "duration": 248,
    "start_time": "2022-05-24T15:21:24.174Z"
   },
   {
    "duration": 19,
    "start_time": "2022-05-24T15:21:29.527Z"
   },
   {
    "duration": 116,
    "start_time": "2022-05-24T15:21:39.846Z"
   },
   {
    "duration": 20,
    "start_time": "2022-05-24T15:21:48.662Z"
   },
   {
    "duration": 31,
    "start_time": "2022-05-24T15:23:06.774Z"
   },
   {
    "duration": 246,
    "start_time": "2022-05-24T15:24:05.782Z"
   },
   {
    "duration": 32,
    "start_time": "2022-05-24T15:24:06.887Z"
   },
   {
    "duration": 233,
    "start_time": "2022-05-24T15:24:23.063Z"
   },
   {
    "duration": 40,
    "start_time": "2022-05-24T15:24:27.831Z"
   },
   {
    "duration": 115,
    "start_time": "2022-05-24T15:24:37.326Z"
   },
   {
    "duration": 83,
    "start_time": "2022-05-24T15:27:47.391Z"
   },
   {
    "duration": 80,
    "start_time": "2022-05-24T15:27:58.479Z"
   },
   {
    "duration": 50,
    "start_time": "2022-05-24T15:28:02.461Z"
   },
   {
    "duration": 114,
    "start_time": "2022-05-24T15:28:08.276Z"
   },
   {
    "duration": 84,
    "start_time": "2022-05-24T15:28:42.356Z"
   },
   {
    "duration": 141,
    "start_time": "2022-05-24T15:28:56.519Z"
   },
   {
    "duration": 107,
    "start_time": "2022-05-24T15:29:00.510Z"
   },
   {
    "duration": 20,
    "start_time": "2022-05-24T15:29:07.061Z"
   },
   {
    "duration": 126,
    "start_time": "2022-05-24T15:29:44.309Z"
   },
   {
    "duration": 21,
    "start_time": "2022-05-24T15:29:47.314Z"
   },
   {
    "duration": 3,
    "start_time": "2022-05-24T15:29:54.858Z"
   },
   {
    "duration": 856,
    "start_time": "2022-05-24T15:29:54.863Z"
   },
   {
    "duration": 117,
    "start_time": "2022-05-24T15:29:55.720Z"
   },
   {
    "duration": 252,
    "start_time": "2022-05-24T15:29:55.838Z"
   },
   {
    "duration": 252,
    "start_time": "2022-05-24T15:29:56.092Z"
   },
   {
    "duration": 86,
    "start_time": "2022-05-24T15:29:58.901Z"
   },
   {
    "duration": 88,
    "start_time": "2022-05-24T15:31:00.758Z"
   },
   {
    "duration": 46,
    "start_time": "2022-05-24T15:31:28.621Z"
   },
   {
    "duration": 42,
    "start_time": "2022-05-24T15:33:13.684Z"
   },
   {
    "duration": 24,
    "start_time": "2022-05-24T15:34:14.258Z"
   },
   {
    "duration": 32,
    "start_time": "2022-05-24T15:35:24.165Z"
   },
   {
    "duration": 109,
    "start_time": "2022-05-24T15:35:42.802Z"
   },
   {
    "duration": 13,
    "start_time": "2022-05-24T15:39:24.758Z"
   },
   {
    "duration": 14,
    "start_time": "2022-05-24T15:39:43.955Z"
   },
   {
    "duration": 15,
    "start_time": "2022-05-24T15:39:47.555Z"
   },
   {
    "duration": 47,
    "start_time": "2022-05-24T15:40:07.145Z"
   },
   {
    "duration": 86,
    "start_time": "2022-05-24T15:40:11.289Z"
   },
   {
    "duration": 154,
    "start_time": "2022-05-24T15:40:23.013Z"
   },
   {
    "duration": 71,
    "start_time": "2022-05-24T15:40:26.593Z"
   },
   {
    "duration": 3,
    "start_time": "2022-05-24T15:40:31.331Z"
   },
   {
    "duration": 887,
    "start_time": "2022-05-24T15:40:31.345Z"
   },
   {
    "duration": 119,
    "start_time": "2022-05-24T15:40:32.233Z"
   },
   {
    "duration": 266,
    "start_time": "2022-05-24T15:40:32.354Z"
   },
   {
    "duration": 246,
    "start_time": "2022-05-24T15:40:32.622Z"
   },
   {
    "duration": 67,
    "start_time": "2022-05-24T15:40:32.870Z"
   },
   {
    "duration": 31,
    "start_time": "2022-05-24T15:41:58.785Z"
   },
   {
    "duration": 10,
    "start_time": "2022-05-24T15:42:23.009Z"
   },
   {
    "duration": 9,
    "start_time": "2022-05-24T15:42:29.073Z"
   },
   {
    "duration": 8,
    "start_time": "2022-05-24T15:42:36.864Z"
   },
   {
    "duration": 10,
    "start_time": "2022-05-24T15:42:43.153Z"
   },
   {
    "duration": 5,
    "start_time": "2022-05-24T15:42:47.488Z"
   },
   {
    "duration": 30,
    "start_time": "2022-05-24T15:43:20.624Z"
   },
   {
    "duration": 5,
    "start_time": "2022-05-24T15:43:23.846Z"
   },
   {
    "duration": 4,
    "start_time": "2022-05-24T15:43:29.480Z"
   },
   {
    "duration": 4,
    "start_time": "2022-05-24T15:43:35.653Z"
   },
   {
    "duration": 21,
    "start_time": "2022-05-24T15:43:42.808Z"
   },
   {
    "duration": 3,
    "start_time": "2022-05-24T15:43:50.946Z"
   },
   {
    "duration": 4,
    "start_time": "2022-05-24T15:43:52.396Z"
   },
   {
    "duration": 9,
    "start_time": "2022-05-24T15:44:07.384Z"
   },
   {
    "duration": 4,
    "start_time": "2022-05-24T15:44:11.786Z"
   },
   {
    "duration": 923,
    "start_time": "2022-05-24T15:44:11.792Z"
   },
   {
    "duration": 127,
    "start_time": "2022-05-24T15:44:12.717Z"
   },
   {
    "duration": 146,
    "start_time": "2022-05-24T15:44:16.340Z"
   },
   {
    "duration": 8,
    "start_time": "2022-05-24T15:45:26.446Z"
   },
   {
    "duration": 3,
    "start_time": "2022-05-24T15:45:30.851Z"
   },
   {
    "duration": 3,
    "start_time": "2022-05-24T15:45:33.056Z"
   },
   {
    "duration": 20,
    "start_time": "2022-05-24T15:45:47.031Z"
   },
   {
    "duration": 252,
    "start_time": "2022-05-24T15:46:05.904Z"
   },
   {
    "duration": 4,
    "start_time": "2022-05-24T15:46:20.125Z"
   },
   {
    "duration": 848,
    "start_time": "2022-05-24T15:46:20.131Z"
   },
   {
    "duration": 115,
    "start_time": "2022-05-24T15:46:20.980Z"
   },
   {
    "duration": 3,
    "start_time": "2022-05-24T15:46:21.097Z"
   },
   {
    "duration": 260,
    "start_time": "2022-05-24T15:46:21.101Z"
   },
   {
    "duration": 10,
    "start_time": "2022-05-24T15:46:21.362Z"
   },
   {
    "duration": 0,
    "start_time": "2022-05-24T15:46:21.374Z"
   },
   {
    "duration": 0,
    "start_time": "2022-05-24T15:46:21.375Z"
   },
   {
    "duration": 31,
    "start_time": "2022-05-24T15:46:24.871Z"
   },
   {
    "duration": 240,
    "start_time": "2022-05-24T15:47:06.217Z"
   },
   {
    "duration": 77,
    "start_time": "2022-05-24T15:47:07.870Z"
   },
   {
    "duration": 106,
    "start_time": "2022-05-24T15:47:14.783Z"
   },
   {
    "duration": 5,
    "start_time": "2022-05-24T15:47:28.175Z"
   },
   {
    "duration": 36,
    "start_time": "2022-05-24T15:47:37.479Z"
   },
   {
    "duration": 28,
    "start_time": "2022-05-24T15:47:39.519Z"
   },
   {
    "duration": 17,
    "start_time": "2022-05-24T15:50:27.207Z"
   },
   {
    "duration": 16,
    "start_time": "2022-05-24T15:50:33.240Z"
   },
   {
    "duration": 30,
    "start_time": "2022-05-24T15:50:41.406Z"
   },
   {
    "duration": 106,
    "start_time": "2022-05-24T15:50:57.070Z"
   },
   {
    "duration": 22,
    "start_time": "2022-05-24T15:55:54.246Z"
   },
   {
    "duration": 37,
    "start_time": "2022-05-24T15:58:15.084Z"
   },
   {
    "duration": 3,
    "start_time": "2022-05-24T15:58:18.428Z"
   },
   {
    "duration": 2860,
    "start_time": "2022-05-24T16:00:17.492Z"
   },
   {
    "duration": 19,
    "start_time": "2022-05-24T16:00:25.891Z"
   },
   {
    "duration": 3,
    "start_time": "2022-05-24T16:00:33.027Z"
   },
   {
    "duration": 257,
    "start_time": "2022-05-24T16:00:33.516Z"
   },
   {
    "duration": 2843,
    "start_time": "2022-05-24T16:00:37.594Z"
   },
   {
    "duration": 20,
    "start_time": "2022-05-24T16:00:41.197Z"
   },
   {
    "duration": 3,
    "start_time": "2022-05-24T16:00:52.219Z"
   },
   {
    "duration": 2846,
    "start_time": "2022-05-24T16:00:53.258Z"
   },
   {
    "duration": 28,
    "start_time": "2022-05-24T16:00:56.105Z"
   },
   {
    "duration": 4,
    "start_time": "2022-05-24T16:01:30.164Z"
   },
   {
    "duration": 920,
    "start_time": "2022-05-24T16:01:30.170Z"
   },
   {
    "duration": 117,
    "start_time": "2022-05-24T16:01:31.092Z"
   },
   {
    "duration": 17,
    "start_time": "2022-05-24T16:01:31.211Z"
   },
   {
    "duration": 287,
    "start_time": "2022-05-24T16:01:31.230Z"
   },
   {
    "duration": 33,
    "start_time": "2022-05-24T16:01:31.519Z"
   },
   {
    "duration": 268,
    "start_time": "2022-05-24T16:01:31.554Z"
   },
   {
    "duration": 73,
    "start_time": "2022-05-24T16:01:31.824Z"
   },
   {
    "duration": 42,
    "start_time": "2022-05-24T16:01:31.899Z"
   },
   {
    "duration": 32,
    "start_time": "2022-05-24T16:01:31.943Z"
   },
   {
    "duration": 22,
    "start_time": "2022-05-24T16:01:31.977Z"
   },
   {
    "duration": 14,
    "start_time": "2022-05-24T16:03:59.571Z"
   },
   {
    "duration": 33,
    "start_time": "2022-05-24T16:04:34.362Z"
   },
   {
    "duration": 19,
    "start_time": "2022-05-24T16:04:37.210Z"
   },
   {
    "duration": 17,
    "start_time": "2022-05-24T16:05:53.254Z"
   },
   {
    "duration": 2075,
    "start_time": "2022-05-24T16:06:55.207Z"
   },
   {
    "duration": 22,
    "start_time": "2022-05-24T16:07:02.050Z"
   },
   {
    "duration": 59,
    "start_time": "2022-05-24T16:07:29.994Z"
   },
   {
    "duration": 1947,
    "start_time": "2022-05-24T16:07:45.881Z"
   },
   {
    "duration": 21,
    "start_time": "2022-05-24T16:07:47.829Z"
   },
   {
    "duration": 32,
    "start_time": "2022-05-24T16:08:03.674Z"
   },
   {
    "duration": 3,
    "start_time": "2022-05-24T16:08:55.389Z"
   },
   {
    "duration": 856,
    "start_time": "2022-05-24T16:08:55.394Z"
   },
   {
    "duration": 116,
    "start_time": "2022-05-24T16:08:56.252Z"
   },
   {
    "duration": 3,
    "start_time": "2022-05-24T16:08:56.369Z"
   },
   {
    "duration": 255,
    "start_time": "2022-05-24T16:08:56.374Z"
   },
   {
    "duration": 30,
    "start_time": "2022-05-24T16:08:56.631Z"
   },
   {
    "duration": 253,
    "start_time": "2022-05-24T16:08:56.662Z"
   },
   {
    "duration": 61,
    "start_time": "2022-05-24T16:08:56.919Z"
   },
   {
    "duration": 30,
    "start_time": "2022-05-24T16:08:56.982Z"
   },
   {
    "duration": 28,
    "start_time": "2022-05-24T16:08:57.014Z"
   },
   {
    "duration": 13,
    "start_time": "2022-05-24T16:08:57.044Z"
   },
   {
    "duration": 1945,
    "start_time": "2022-05-24T16:09:36.272Z"
   },
   {
    "duration": 21,
    "start_time": "2022-05-24T16:09:41.720Z"
   },
   {
    "duration": 2021,
    "start_time": "2022-05-24T16:10:00.201Z"
   },
   {
    "duration": 20,
    "start_time": "2022-05-24T16:10:02.224Z"
   },
   {
    "duration": 2765,
    "start_time": "2022-05-24T16:10:18.192Z"
   },
   {
    "duration": 19,
    "start_time": "2022-05-24T16:10:20.959Z"
   },
   {
    "duration": 2745,
    "start_time": "2022-05-24T16:10:36.056Z"
   },
   {
    "duration": 25,
    "start_time": "2022-05-24T16:10:38.802Z"
   },
   {
    "duration": 2076,
    "start_time": "2022-05-24T16:11:10.096Z"
   },
   {
    "duration": 21,
    "start_time": "2022-05-24T16:11:12.174Z"
   },
   {
    "duration": 4,
    "start_time": "2022-05-24T16:11:23.772Z"
   },
   {
    "duration": 881,
    "start_time": "2022-05-24T16:11:23.778Z"
   },
   {
    "duration": 121,
    "start_time": "2022-05-24T16:11:24.661Z"
   },
   {
    "duration": 3,
    "start_time": "2022-05-24T16:11:24.784Z"
   },
   {
    "duration": 252,
    "start_time": "2022-05-24T16:11:24.788Z"
   },
   {
    "duration": 30,
    "start_time": "2022-05-24T16:11:25.042Z"
   },
   {
    "duration": 250,
    "start_time": "2022-05-24T16:11:25.074Z"
   },
   {
    "duration": 67,
    "start_time": "2022-05-24T16:11:25.325Z"
   },
   {
    "duration": 37,
    "start_time": "2022-05-24T16:11:25.395Z"
   },
   {
    "duration": 21,
    "start_time": "2022-05-24T16:11:25.433Z"
   },
   {
    "duration": 14,
    "start_time": "2022-05-24T16:11:25.455Z"
   },
   {
    "duration": 1970,
    "start_time": "2022-05-24T16:11:32.760Z"
   },
   {
    "duration": 21,
    "start_time": "2022-05-24T16:11:34.732Z"
   },
   {
    "duration": 193,
    "start_time": "2022-05-24T16:12:41.041Z"
   },
   {
    "duration": 2030,
    "start_time": "2022-05-24T16:13:28.377Z"
   },
   {
    "duration": 28,
    "start_time": "2022-05-24T16:13:30.409Z"
   },
   {
    "duration": 4,
    "start_time": "2022-05-24T16:13:37.451Z"
   },
   {
    "duration": 900,
    "start_time": "2022-05-24T16:13:37.456Z"
   },
   {
    "duration": 120,
    "start_time": "2022-05-24T16:13:38.357Z"
   },
   {
    "duration": 3,
    "start_time": "2022-05-24T16:13:38.479Z"
   },
   {
    "duration": 266,
    "start_time": "2022-05-24T16:13:38.483Z"
   },
   {
    "duration": 31,
    "start_time": "2022-05-24T16:13:38.751Z"
   },
   {
    "duration": 245,
    "start_time": "2022-05-24T16:13:38.783Z"
   },
   {
    "duration": 65,
    "start_time": "2022-05-24T16:13:39.030Z"
   },
   {
    "duration": 36,
    "start_time": "2022-05-24T16:13:39.097Z"
   },
   {
    "duration": 23,
    "start_time": "2022-05-24T16:13:39.134Z"
   },
   {
    "duration": 12,
    "start_time": "2022-05-24T16:13:39.159Z"
   },
   {
    "duration": 1973,
    "start_time": "2022-05-24T16:13:41.823Z"
   },
   {
    "duration": 20,
    "start_time": "2022-05-24T16:13:44.256Z"
   },
   {
    "duration": 2247,
    "start_time": "2022-05-24T16:14:49.750Z"
   },
   {
    "duration": 22,
    "start_time": "2022-05-24T16:14:51.999Z"
   },
   {
    "duration": 43,
    "start_time": "2022-05-24T16:15:30.831Z"
   },
   {
    "duration": 46,
    "start_time": "2022-05-24T16:15:44.126Z"
   },
   {
    "duration": 74,
    "start_time": "2022-05-24T16:16:05.070Z"
   },
   {
    "duration": 40,
    "start_time": "2022-05-24T16:16:59.767Z"
   },
   {
    "duration": 56,
    "start_time": "2022-05-24T16:17:53.397Z"
   },
   {
    "duration": 26,
    "start_time": "2022-05-24T16:18:04.742Z"
   },
   {
    "duration": 2790,
    "start_time": "2022-05-24T16:18:12.038Z"
   },
   {
    "duration": 21,
    "start_time": "2022-05-24T16:18:14.830Z"
   },
   {
    "duration": 3509,
    "start_time": "2022-05-24T16:18:59.702Z"
   },
   {
    "duration": 25,
    "start_time": "2022-05-24T16:19:03.213Z"
   },
   {
    "duration": 3380,
    "start_time": "2022-05-24T16:19:23.758Z"
   },
   {
    "duration": 21,
    "start_time": "2022-05-24T16:19:27.140Z"
   },
   {
    "duration": 9,
    "start_time": "2022-05-24T16:19:37.123Z"
   },
   {
    "duration": 117,
    "start_time": "2022-05-24T16:19:41.173Z"
   },
   {
    "duration": 18,
    "start_time": "2022-05-24T16:19:52.773Z"
   },
   {
    "duration": 122,
    "start_time": "2022-05-24T16:19:55.142Z"
   },
   {
    "duration": 4,
    "start_time": "2022-05-24T16:19:57.288Z"
   },
   {
    "duration": 896,
    "start_time": "2022-05-24T16:19:57.293Z"
   },
   {
    "duration": 117,
    "start_time": "2022-05-24T16:19:58.191Z"
   },
   {
    "duration": 3,
    "start_time": "2022-05-24T16:19:58.309Z"
   },
   {
    "duration": 243,
    "start_time": "2022-05-24T16:19:58.326Z"
   },
   {
    "duration": 30,
    "start_time": "2022-05-24T16:19:58.570Z"
   },
   {
    "duration": 272,
    "start_time": "2022-05-24T16:19:58.601Z"
   },
   {
    "duration": 74,
    "start_time": "2022-05-24T16:19:58.875Z"
   },
   {
    "duration": 31,
    "start_time": "2022-05-24T16:19:58.950Z"
   },
   {
    "duration": 19,
    "start_time": "2022-05-24T16:19:58.983Z"
   },
   {
    "duration": 28,
    "start_time": "2022-05-24T16:19:59.005Z"
   },
   {
    "duration": 3419,
    "start_time": "2022-05-24T16:19:59.035Z"
   },
   {
    "duration": 122,
    "start_time": "2022-05-24T16:20:02.456Z"
   },
   {
    "duration": 8,
    "start_time": "2022-05-24T16:20:37.133Z"
   },
   {
    "duration": 362,
    "start_time": "2022-05-24T16:20:40.181Z"
   },
   {
    "duration": 378,
    "start_time": "2022-05-24T16:21:15.388Z"
   },
   {
    "duration": 374,
    "start_time": "2022-05-24T16:21:28.068Z"
   },
   {
    "duration": 20,
    "start_time": "2022-05-24T16:33:36.260Z"
   },
   {
    "duration": 15,
    "start_time": "2022-05-24T16:37:10.184Z"
   },
   {
    "duration": 18,
    "start_time": "2022-05-24T16:37:13.881Z"
   },
   {
    "duration": 3,
    "start_time": "2022-05-24T16:38:06.964Z"
   },
   {
    "duration": 893,
    "start_time": "2022-05-24T16:38:06.972Z"
   },
   {
    "duration": 148,
    "start_time": "2022-05-24T16:38:07.868Z"
   },
   {
    "duration": 11,
    "start_time": "2022-05-24T16:38:08.017Z"
   },
   {
    "duration": 250,
    "start_time": "2022-05-24T16:38:08.030Z"
   },
   {
    "duration": 34,
    "start_time": "2022-05-24T16:38:08.282Z"
   },
   {
    "duration": 254,
    "start_time": "2022-05-24T16:38:08.317Z"
   },
   {
    "duration": 71,
    "start_time": "2022-05-24T16:38:08.572Z"
   },
   {
    "duration": 35,
    "start_time": "2022-05-24T16:38:08.644Z"
   },
   {
    "duration": 34,
    "start_time": "2022-05-24T16:38:08.681Z"
   },
   {
    "duration": 15,
    "start_time": "2022-05-24T16:38:08.727Z"
   },
   {
    "duration": 3387,
    "start_time": "2022-05-24T16:38:08.744Z"
   },
   {
    "duration": 108,
    "start_time": "2022-05-24T16:38:12.133Z"
   },
   {
    "duration": 415,
    "start_time": "2022-05-24T16:38:12.243Z"
   },
   {
    "duration": 19,
    "start_time": "2022-05-24T16:38:14.224Z"
   },
   {
    "duration": 83,
    "start_time": "2022-05-24T17:21:51.758Z"
   },
   {
    "duration": 10,
    "start_time": "2022-05-24T17:25:56.148Z"
   },
   {
    "duration": 140,
    "start_time": "2022-05-24T17:25:58.452Z"
   },
   {
    "duration": 124,
    "start_time": "2022-05-24T17:26:26.924Z"
   },
   {
    "duration": 146,
    "start_time": "2022-05-24T17:27:44.564Z"
   },
   {
    "duration": 130,
    "start_time": "2022-05-24T17:27:47.811Z"
   },
   {
    "duration": 26,
    "start_time": "2022-05-24T17:29:00.412Z"
   },
   {
    "duration": 27220,
    "start_time": "2022-05-24T17:45:16.398Z"
   },
   {
    "duration": 42072,
    "start_time": "2022-05-24T17:45:45.137Z"
   },
   {
    "duration": 42912,
    "start_time": "2022-05-24T17:47:12.950Z"
   },
   {
    "duration": 9,
    "start_time": "2022-05-24T17:47:55.864Z"
   },
   {
    "duration": 308,
    "start_time": "2022-05-24T17:48:59.965Z"
   },
   {
    "duration": 875,
    "start_time": "2022-05-24T17:49:09.765Z"
   },
   {
    "duration": 27,
    "start_time": "2022-05-24T17:51:41.950Z"
   },
   {
    "duration": 20,
    "start_time": "2022-05-24T17:51:54.198Z"
   },
   {
    "duration": 127,
    "start_time": "2022-05-24T17:53:33.956Z"
   },
   {
    "duration": 34,
    "start_time": "2022-05-24T17:54:26.915Z"
   },
   {
    "duration": 70,
    "start_time": "2022-05-24T17:54:29.158Z"
   },
   {
    "duration": 159,
    "start_time": "2022-05-24T17:54:34.391Z"
   },
   {
    "duration": 17,
    "start_time": "2022-05-24T17:54:56.884Z"
   },
   {
    "duration": 183,
    "start_time": "2022-05-24T17:55:05.508Z"
   },
   {
    "duration": 18,
    "start_time": "2022-05-24T17:55:05.860Z"
   },
   {
    "duration": 178,
    "start_time": "2022-05-24T17:55:11.180Z"
   },
   {
    "duration": 181,
    "start_time": "2022-05-24T17:55:15.723Z"
   },
   {
    "duration": 18,
    "start_time": "2022-05-24T17:55:16.404Z"
   },
   {
    "duration": 183,
    "start_time": "2022-05-24T17:55:32.619Z"
   },
   {
    "duration": 18,
    "start_time": "2022-05-24T17:55:35.603Z"
   },
   {
    "duration": 114,
    "start_time": "2022-05-24T17:55:58.404Z"
   },
   {
    "duration": 130,
    "start_time": "2022-05-24T17:56:07.027Z"
   },
   {
    "duration": 4,
    "start_time": "2022-05-24T17:56:12.512Z"
   },
   {
    "duration": 927,
    "start_time": "2022-05-24T17:56:12.518Z"
   },
   {
    "duration": 117,
    "start_time": "2022-05-24T17:56:13.447Z"
   },
   {
    "duration": 4,
    "start_time": "2022-05-24T17:56:13.565Z"
   },
   {
    "duration": 267,
    "start_time": "2022-05-24T17:56:13.571Z"
   },
   {
    "duration": 35,
    "start_time": "2022-05-24T17:56:13.840Z"
   },
   {
    "duration": 288,
    "start_time": "2022-05-24T17:56:13.877Z"
   },
   {
    "duration": 67,
    "start_time": "2022-05-24T17:56:14.167Z"
   },
   {
    "duration": 31,
    "start_time": "2022-05-24T17:56:14.237Z"
   },
   {
    "duration": 20,
    "start_time": "2022-05-24T17:56:14.270Z"
   },
   {
    "duration": 14,
    "start_time": "2022-05-24T17:56:14.291Z"
   },
   {
    "duration": 3411,
    "start_time": "2022-05-24T17:56:14.328Z"
   },
   {
    "duration": 111,
    "start_time": "2022-05-24T17:56:17.741Z"
   },
   {
    "duration": 384,
    "start_time": "2022-05-24T17:56:17.853Z"
   },
   {
    "duration": 96,
    "start_time": "2022-05-24T17:56:18.238Z"
   },
   {
    "duration": 43541,
    "start_time": "2022-05-24T17:56:18.336Z"
   },
   {
    "duration": 884,
    "start_time": "2022-05-24T17:57:01.878Z"
   },
   {
    "duration": 166,
    "start_time": "2022-05-24T17:57:02.764Z"
   },
   {
    "duration": 159,
    "start_time": "2022-05-24T17:57:23.106Z"
   },
   {
    "duration": 109,
    "start_time": "2022-05-24T17:57:24.403Z"
   },
   {
    "duration": 131,
    "start_time": "2022-05-24T17:57:32.515Z"
   },
   {
    "duration": 124,
    "start_time": "2022-05-24T17:57:43.250Z"
   },
   {
    "duration": 111,
    "start_time": "2022-05-24T17:57:54.698Z"
   },
   {
    "duration": 134,
    "start_time": "2022-05-24T17:58:05.171Z"
   },
   {
    "duration": 134,
    "start_time": "2022-05-24T17:58:15.874Z"
   },
   {
    "duration": 150,
    "start_time": "2022-05-24T17:58:21.226Z"
   },
   {
    "duration": 150,
    "start_time": "2022-05-24T17:58:28.554Z"
   },
   {
    "duration": 149,
    "start_time": "2022-05-24T18:06:50.223Z"
   },
   {
    "duration": 123,
    "start_time": "2022-05-24T18:06:51.816Z"
   },
   {
    "duration": 20,
    "start_time": "2022-05-24T18:06:54.202Z"
   },
   {
    "duration": 128,
    "start_time": "2022-05-24T18:07:16.976Z"
   },
   {
    "duration": 139,
    "start_time": "2022-05-24T18:07:22.553Z"
   },
   {
    "duration": 143,
    "start_time": "2022-05-24T18:17:07.822Z"
   },
   {
    "duration": 38,
    "start_time": "2022-05-24T18:18:22.406Z"
   },
   {
    "duration": 35,
    "start_time": "2022-05-24T18:18:32.516Z"
   },
   {
    "duration": 28,
    "start_time": "2022-05-24T18:18:35.499Z"
   },
   {
    "duration": 19,
    "start_time": "2022-05-24T18:23:36.627Z"
   },
   {
    "duration": 15,
    "start_time": "2022-05-24T18:23:42.306Z"
   },
   {
    "duration": 14,
    "start_time": "2022-05-24T18:23:46.388Z"
   },
   {
    "duration": 15,
    "start_time": "2022-05-24T18:23:52.554Z"
   },
   {
    "duration": 27,
    "start_time": "2022-05-24T18:24:09.548Z"
   },
   {
    "duration": 47,
    "start_time": "2022-05-24T18:26:43.449Z"
   },
   {
    "duration": 75,
    "start_time": "2022-05-24T18:26:58.784Z"
   },
   {
    "duration": 45,
    "start_time": "2022-05-24T18:32:05.173Z"
   },
   {
    "duration": 67,
    "start_time": "2022-05-24T18:32:12.043Z"
   },
   {
    "duration": 282,
    "start_time": "2022-05-24T18:32:32.686Z"
   },
   {
    "duration": 450,
    "start_time": "2022-05-24T18:32:58.483Z"
   },
   {
    "duration": 161,
    "start_time": "2022-05-24T18:33:14.435Z"
   },
   {
    "duration": 439,
    "start_time": "2022-05-24T18:33:52.892Z"
   },
   {
    "duration": 521,
    "start_time": "2022-05-24T18:34:23.953Z"
   },
   {
    "duration": 244,
    "start_time": "2022-05-24T18:34:41.250Z"
   },
   {
    "duration": 236,
    "start_time": "2022-05-24T18:35:42.609Z"
   },
   {
    "duration": 582,
    "start_time": "2022-05-24T18:36:18.184Z"
   },
   {
    "duration": 183,
    "start_time": "2022-05-24T18:36:37.896Z"
   },
   {
    "duration": 10,
    "start_time": "2022-05-24T18:38:34.431Z"
   },
   {
    "duration": 6,
    "start_time": "2022-05-24T18:38:55.851Z"
   },
   {
    "duration": 20,
    "start_time": "2022-05-24T18:40:59.430Z"
   },
   {
    "duration": 33,
    "start_time": "2022-05-24T18:42:51.266Z"
   },
   {
    "duration": 5,
    "start_time": "2022-05-24T18:42:53.836Z"
   },
   {
    "duration": 20,
    "start_time": "2022-05-24T18:42:57.852Z"
   },
   {
    "duration": 14,
    "start_time": "2022-05-24T18:44:56.180Z"
   },
   {
    "duration": 23,
    "start_time": "2022-05-24T18:45:31.068Z"
   },
   {
    "duration": 1491,
    "start_time": "2022-05-25T10:17:19.299Z"
   },
   {
    "duration": 3315,
    "start_time": "2022-05-25T10:17:20.792Z"
   },
   {
    "duration": 158,
    "start_time": "2022-05-25T10:17:24.109Z"
   },
   {
    "duration": 3,
    "start_time": "2022-05-25T10:17:24.270Z"
   },
   {
    "duration": 298,
    "start_time": "2022-05-25T10:17:24.275Z"
   },
   {
    "duration": 30,
    "start_time": "2022-05-25T10:17:24.575Z"
   },
   {
    "duration": 282,
    "start_time": "2022-05-25T10:17:24.613Z"
   },
   {
    "duration": 232,
    "start_time": "2022-05-25T10:17:24.897Z"
   },
   {
    "duration": 44,
    "start_time": "2022-05-25T10:17:25.133Z"
   },
   {
    "duration": 42,
    "start_time": "2022-05-25T10:17:25.180Z"
   },
   {
    "duration": 16,
    "start_time": "2022-05-25T10:17:25.224Z"
   },
   {
    "duration": 3644,
    "start_time": "2022-05-25T10:17:25.242Z"
   },
   {
    "duration": 116,
    "start_time": "2022-05-25T10:17:28.888Z"
   },
   {
    "duration": 412,
    "start_time": "2022-05-25T10:17:29.005Z"
   },
   {
    "duration": 110,
    "start_time": "2022-05-25T10:17:29.419Z"
   },
   {
    "duration": 48100,
    "start_time": "2022-05-25T10:17:29.531Z"
   },
   {
    "duration": 728,
    "start_time": "2022-05-25T10:18:17.633Z"
   },
   {
    "duration": 173,
    "start_time": "2022-05-25T10:18:18.362Z"
   },
   {
    "duration": 139,
    "start_time": "2022-05-25T10:18:18.536Z"
   },
   {
    "duration": 81,
    "start_time": "2022-05-25T10:18:18.677Z"
   },
   {
    "duration": 187,
    "start_time": "2022-05-25T10:18:18.759Z"
   },
   {
    "duration": 22,
    "start_time": "2022-05-25T10:18:18.947Z"
   },
   {
    "duration": 2,
    "start_time": "2022-05-25T10:18:18.971Z"
   },
   {
    "duration": 5,
    "start_time": "2022-05-25T10:23:13.379Z"
   },
   {
    "duration": 5,
    "start_time": "2022-05-25T10:23:26.364Z"
   },
   {
    "duration": 217,
    "start_time": "2022-05-25T10:25:46.602Z"
   },
   {
    "duration": 225,
    "start_time": "2022-05-25T10:26:12.203Z"
   },
   {
    "duration": 198,
    "start_time": "2022-05-25T10:26:21.938Z"
   },
   {
    "duration": 205,
    "start_time": "2022-05-25T10:26:28.098Z"
   },
   {
    "duration": 227,
    "start_time": "2022-05-25T10:26:35.736Z"
   },
   {
    "duration": 199,
    "start_time": "2022-05-25T10:27:08.355Z"
   },
   {
    "duration": 186,
    "start_time": "2022-05-25T10:27:32.945Z"
   },
   {
    "duration": 153,
    "start_time": "2022-05-25T10:27:51.401Z"
   },
   {
    "duration": 137,
    "start_time": "2022-05-25T10:28:06.001Z"
   },
   {
    "duration": 50,
    "start_time": "2022-05-25T10:32:18.630Z"
   },
   {
    "duration": 3,
    "start_time": "2022-05-25T10:32:28.271Z"
   },
   {
    "duration": 7,
    "start_time": "2022-05-25T10:33:07.007Z"
   },
   {
    "duration": 21,
    "start_time": "2022-05-25T11:03:49.153Z"
   },
   {
    "duration": 17,
    "start_time": "2022-05-25T11:04:55.745Z"
   },
   {
    "duration": 20,
    "start_time": "2022-05-25T11:04:59.057Z"
   },
   {
    "duration": 10,
    "start_time": "2022-05-25T11:05:14.210Z"
   },
   {
    "duration": 14,
    "start_time": "2022-05-25T11:05:54.751Z"
   },
   {
    "duration": 11,
    "start_time": "2022-05-25T11:05:57.472Z"
   },
   {
    "duration": 32,
    "start_time": "2022-05-25T11:06:00.296Z"
   },
   {
    "duration": 50,
    "start_time": "2022-05-25T11:06:48.691Z"
   },
   {
    "duration": 185,
    "start_time": "2022-05-25T11:06:51.287Z"
   },
   {
    "duration": 33,
    "start_time": "2022-05-25T11:08:37.672Z"
   },
   {
    "duration": 205,
    "start_time": "2022-05-25T11:08:41.633Z"
   },
   {
    "duration": 49,
    "start_time": "2022-05-25T11:09:19.479Z"
   },
   {
    "duration": 13,
    "start_time": "2022-05-25T11:09:23.529Z"
   },
   {
    "duration": 12,
    "start_time": "2022-05-25T11:09:28.375Z"
   },
   {
    "duration": 12,
    "start_time": "2022-05-25T11:09:36.448Z"
   },
   {
    "duration": 24,
    "start_time": "2022-05-25T11:11:29.765Z"
   },
   {
    "duration": 174,
    "start_time": "2022-05-25T11:11:30.477Z"
   },
   {
    "duration": 44,
    "start_time": "2022-05-25T11:11:57.653Z"
   },
   {
    "duration": 155,
    "start_time": "2022-05-25T11:12:56.589Z"
   },
   {
    "duration": 161,
    "start_time": "2022-05-25T11:13:15.237Z"
   },
   {
    "duration": 283,
    "start_time": "2022-05-25T11:13:56.133Z"
   },
   {
    "duration": 12,
    "start_time": "2022-05-25T11:14:16.957Z"
   },
   {
    "duration": 11,
    "start_time": "2022-05-25T11:14:21.893Z"
   },
   {
    "duration": 11,
    "start_time": "2022-05-25T11:14:25.261Z"
   },
   {
    "duration": 12,
    "start_time": "2022-05-25T11:14:28.045Z"
   },
   {
    "duration": 21,
    "start_time": "2022-05-25T11:14:30.326Z"
   },
   {
    "duration": 163,
    "start_time": "2022-05-25T11:14:42.061Z"
   },
   {
    "duration": 16,
    "start_time": "2022-05-25T11:14:57.044Z"
   },
   {
    "duration": 13,
    "start_time": "2022-05-25T11:15:07.527Z"
   },
   {
    "duration": 26,
    "start_time": "2022-05-25T11:15:30.877Z"
   },
   {
    "duration": 15,
    "start_time": "2022-05-25T11:15:34.084Z"
   },
   {
    "duration": 54,
    "start_time": "2022-05-25T11:16:12.622Z"
   },
   {
    "duration": 3,
    "start_time": "2022-05-25T11:18:55.432Z"
   },
   {
    "duration": 22,
    "start_time": "2022-05-25T11:19:27.224Z"
   },
   {
    "duration": 2886,
    "start_time": "2022-05-25T11:21:36.523Z"
   },
   {
    "duration": 350,
    "start_time": "2022-05-25T11:22:19.587Z"
   },
   {
    "duration": 355,
    "start_time": "2022-05-25T11:22:38.205Z"
   },
   {
    "duration": 26,
    "start_time": "2022-05-25T11:23:13.811Z"
   },
   {
    "duration": 1329,
    "start_time": "2022-05-25T11:24:54.904Z"
   },
   {
    "duration": 2921,
    "start_time": "2022-05-25T11:24:56.235Z"
   },
   {
    "duration": 120,
    "start_time": "2022-05-25T11:24:59.158Z"
   },
   {
    "duration": 11,
    "start_time": "2022-05-25T11:24:59.280Z"
   },
   {
    "duration": 293,
    "start_time": "2022-05-25T11:24:59.293Z"
   },
   {
    "duration": 42,
    "start_time": "2022-05-25T11:24:59.587Z"
   },
   {
    "duration": 263,
    "start_time": "2022-05-25T11:24:59.631Z"
   },
   {
    "duration": 81,
    "start_time": "2022-05-25T11:24:59.895Z"
   },
   {
    "duration": 29,
    "start_time": "2022-05-25T11:24:59.978Z"
   },
   {
    "duration": 25,
    "start_time": "2022-05-25T11:25:00.012Z"
   },
   {
    "duration": 17,
    "start_time": "2022-05-25T11:25:00.039Z"
   },
   {
    "duration": 3751,
    "start_time": "2022-05-25T11:25:00.058Z"
   },
   {
    "duration": 133,
    "start_time": "2022-05-25T11:25:03.812Z"
   },
   {
    "duration": 397,
    "start_time": "2022-05-25T11:25:03.947Z"
   },
   {
    "duration": 103,
    "start_time": "2022-05-25T11:25:04.345Z"
   },
   {
    "duration": 48075,
    "start_time": "2022-05-25T11:25:04.450Z"
   },
   {
    "duration": 735,
    "start_time": "2022-05-25T11:25:52.527Z"
   },
   {
    "duration": 168,
    "start_time": "2022-05-25T11:25:53.264Z"
   },
   {
    "duration": 148,
    "start_time": "2022-05-25T11:25:53.434Z"
   },
   {
    "duration": 80,
    "start_time": "2022-05-25T11:25:53.583Z"
   },
   {
    "duration": 187,
    "start_time": "2022-05-25T11:25:53.665Z"
   },
   {
    "duration": 21,
    "start_time": "2022-05-25T11:25:53.853Z"
   },
   {
    "duration": 204,
    "start_time": "2022-05-25T11:25:53.876Z"
   },
   {
    "duration": 150,
    "start_time": "2022-05-25T11:25:54.082Z"
   },
   {
    "duration": 55,
    "start_time": "2022-05-25T11:25:54.234Z"
   },
   {
    "duration": 4,
    "start_time": "2022-05-25T11:25:54.291Z"
   },
   {
    "duration": 64,
    "start_time": "2022-05-25T11:25:54.296Z"
   },
   {
    "duration": 29,
    "start_time": "2022-05-25T11:25:54.364Z"
   },
   {
    "duration": 10,
    "start_time": "2022-05-25T11:25:54.395Z"
   },
   {
    "duration": 19,
    "start_time": "2022-05-25T11:25:54.407Z"
   },
   {
    "duration": 160,
    "start_time": "2022-05-25T11:25:54.427Z"
   },
   {
    "duration": 36,
    "start_time": "2022-05-25T11:25:54.588Z"
   },
   {
    "duration": 172,
    "start_time": "2022-05-25T11:25:54.626Z"
   },
   {
    "duration": 61,
    "start_time": "2022-05-25T11:25:54.800Z"
   },
   {
    "duration": 189,
    "start_time": "2022-05-25T11:25:54.863Z"
   },
   {
    "duration": 21,
    "start_time": "2022-05-25T11:25:55.053Z"
   },
   {
    "duration": 473,
    "start_time": "2022-05-25T11:25:55.076Z"
   },
   {
    "duration": 14,
    "start_time": "2022-05-25T11:28:15.816Z"
   },
   {
    "duration": 15,
    "start_time": "2022-05-25T11:28:42.535Z"
   },
   {
    "duration": 15,
    "start_time": "2022-05-25T11:28:56.191Z"
   },
   {
    "duration": 29545,
    "start_time": "2022-05-25T11:28:59.894Z"
   },
   {
    "duration": 5,
    "start_time": "2022-05-25T11:29:48.199Z"
   },
   {
    "duration": 4,
    "start_time": "2022-05-25T11:29:59.363Z"
   },
   {
    "duration": 824,
    "start_time": "2022-05-25T11:29:59.369Z"
   },
   {
    "duration": 110,
    "start_time": "2022-05-25T11:30:00.195Z"
   },
   {
    "duration": 10,
    "start_time": "2022-05-25T11:30:00.306Z"
   },
   {
    "duration": 252,
    "start_time": "2022-05-25T11:30:00.318Z"
   },
   {
    "duration": 40,
    "start_time": "2022-05-25T11:30:00.572Z"
   },
   {
    "duration": 234,
    "start_time": "2022-05-25T11:30:00.614Z"
   },
   {
    "duration": 64,
    "start_time": "2022-05-25T11:30:00.850Z"
   },
   {
    "duration": 31,
    "start_time": "2022-05-25T11:30:00.915Z"
   },
   {
    "duration": 25,
    "start_time": "2022-05-25T11:30:00.947Z"
   },
   {
    "duration": 16,
    "start_time": "2022-05-25T11:30:00.974Z"
   },
   {
    "duration": 3341,
    "start_time": "2022-05-25T11:30:00.991Z"
   },
   {
    "duration": 114,
    "start_time": "2022-05-25T11:30:04.334Z"
   },
   {
    "duration": 388,
    "start_time": "2022-05-25T11:30:04.452Z"
   },
   {
    "duration": 95,
    "start_time": "2022-05-25T11:30:04.842Z"
   },
   {
    "duration": 43354,
    "start_time": "2022-05-25T11:30:04.939Z"
   },
   {
    "duration": 552,
    "start_time": "2022-05-25T11:30:48.295Z"
   },
   {
    "duration": 155,
    "start_time": "2022-05-25T11:30:48.849Z"
   },
   {
    "duration": 136,
    "start_time": "2022-05-25T11:30:49.011Z"
   },
   {
    "duration": 80,
    "start_time": "2022-05-25T11:30:49.149Z"
   },
   {
    "duration": 382,
    "start_time": "2022-05-25T11:30:49.231Z"
   },
   {
    "duration": 23,
    "start_time": "2022-05-25T11:30:49.615Z"
   },
   {
    "duration": 187,
    "start_time": "2022-05-25T11:30:49.639Z"
   },
   {
    "duration": 131,
    "start_time": "2022-05-25T11:30:49.828Z"
   },
   {
    "duration": 59,
    "start_time": "2022-05-25T11:30:49.961Z"
   },
   {
    "duration": 3,
    "start_time": "2022-05-25T11:30:50.022Z"
   },
   {
    "duration": 26,
    "start_time": "2022-05-25T11:30:50.027Z"
   },
   {
    "duration": 17,
    "start_time": "2022-05-25T11:30:50.055Z"
   },
   {
    "duration": 17,
    "start_time": "2022-05-25T11:30:50.074Z"
   },
   {
    "duration": 20,
    "start_time": "2022-05-25T11:30:50.092Z"
   },
   {
    "duration": 144,
    "start_time": "2022-05-25T11:30:50.113Z"
   },
   {
    "duration": 25,
    "start_time": "2022-05-25T11:30:50.259Z"
   },
   {
    "duration": 153,
    "start_time": "2022-05-25T11:30:50.285Z"
   },
   {
    "duration": 45,
    "start_time": "2022-05-25T11:30:50.440Z"
   },
   {
    "duration": 168,
    "start_time": "2022-05-25T11:30:50.486Z"
   },
   {
    "duration": 29,
    "start_time": "2022-05-25T11:30:50.656Z"
   },
   {
    "duration": 47,
    "start_time": "2022-05-25T11:30:50.690Z"
   },
   {
    "duration": 6582,
    "start_time": "2022-05-25T11:35:20.137Z"
   },
   {
    "duration": 317,
    "start_time": "2022-05-25T11:36:18.936Z"
   },
   {
    "duration": 60,
    "start_time": "2022-05-25T11:36:37.513Z"
   },
   {
    "duration": 1405,
    "start_time": "2022-05-25T11:36:40.204Z"
   },
   {
    "duration": 1401,
    "start_time": "2022-05-25T11:37:03.845Z"
   },
   {
    "duration": 1620,
    "start_time": "2022-05-25T11:37:05.248Z"
   },
   {
    "duration": 127,
    "start_time": "2022-05-25T11:37:06.870Z"
   },
   {
    "duration": 14,
    "start_time": "2022-05-25T11:37:06.999Z"
   },
   {
    "duration": 348,
    "start_time": "2022-05-25T11:37:07.015Z"
   },
   {
    "duration": 36,
    "start_time": "2022-05-25T11:37:07.365Z"
   },
   {
    "duration": 311,
    "start_time": "2022-05-25T11:37:07.413Z"
   },
   {
    "duration": 74,
    "start_time": "2022-05-25T11:37:07.726Z"
   },
   {
    "duration": 36,
    "start_time": "2022-05-25T11:37:07.811Z"
   },
   {
    "duration": 29,
    "start_time": "2022-05-25T11:37:07.849Z"
   },
   {
    "duration": 19,
    "start_time": "2022-05-25T11:37:07.880Z"
   },
   {
    "duration": 4230,
    "start_time": "2022-05-25T11:37:07.911Z"
   },
   {
    "duration": 118,
    "start_time": "2022-05-25T11:37:12.142Z"
   },
   {
    "duration": 420,
    "start_time": "2022-05-25T11:37:12.262Z"
   },
   {
    "duration": 101,
    "start_time": "2022-05-25T11:37:12.684Z"
   },
   {
    "duration": 47975,
    "start_time": "2022-05-25T11:37:12.787Z"
   },
   {
    "duration": 713,
    "start_time": "2022-05-25T11:38:00.764Z"
   },
   {
    "duration": 208,
    "start_time": "2022-05-25T11:38:01.479Z"
   },
   {
    "duration": 192,
    "start_time": "2022-05-25T11:38:01.690Z"
   },
   {
    "duration": 96,
    "start_time": "2022-05-25T11:38:01.884Z"
   },
   {
    "duration": 209,
    "start_time": "2022-05-25T11:38:01.982Z"
   },
   {
    "duration": 40,
    "start_time": "2022-05-25T11:38:02.193Z"
   },
   {
    "duration": 196,
    "start_time": "2022-05-25T11:38:02.235Z"
   },
   {
    "duration": 161,
    "start_time": "2022-05-25T11:38:02.432Z"
   },
   {
    "duration": 67,
    "start_time": "2022-05-25T11:38:02.594Z"
   },
   {
    "duration": 3,
    "start_time": "2022-05-25T11:38:02.663Z"
   },
   {
    "duration": 32,
    "start_time": "2022-05-25T11:38:02.667Z"
   },
   {
    "duration": 27,
    "start_time": "2022-05-25T11:38:02.702Z"
   },
   {
    "duration": 14,
    "start_time": "2022-05-25T11:38:02.731Z"
   },
   {
    "duration": 26,
    "start_time": "2022-05-25T11:38:02.746Z"
   },
   {
    "duration": 142,
    "start_time": "2022-05-25T11:38:02.774Z"
   },
   {
    "duration": 25,
    "start_time": "2022-05-25T11:38:02.918Z"
   },
   {
    "duration": 161,
    "start_time": "2022-05-25T11:38:02.945Z"
   },
   {
    "duration": 49,
    "start_time": "2022-05-25T11:38:03.108Z"
   },
   {
    "duration": 180,
    "start_time": "2022-05-25T11:38:03.158Z"
   },
   {
    "duration": 22,
    "start_time": "2022-05-25T11:38:03.340Z"
   },
   {
    "duration": 27,
    "start_time": "2022-05-25T11:38:03.363Z"
   },
   {
    "duration": 6567,
    "start_time": "2022-05-25T11:38:03.392Z"
   },
   {
    "duration": 343,
    "start_time": "2022-05-25T11:38:42.672Z"
   },
   {
    "duration": 37,
    "start_time": "2022-05-25T11:38:47.241Z"
   },
   {
    "duration": 362,
    "start_time": "2022-05-25T11:39:04.696Z"
   },
   {
    "duration": 23,
    "start_time": "2022-05-25T11:39:08.480Z"
   },
   {
    "duration": 153,
    "start_time": "2022-05-25T11:39:58.432Z"
   },
   {
    "duration": 3,
    "start_time": "2022-05-25T11:40:12.055Z"
   },
   {
    "duration": 59,
    "start_time": "2022-05-25T11:40:58.816Z"
   },
   {
    "duration": 73,
    "start_time": "2022-05-25T11:41:03.423Z"
   },
   {
    "duration": 124,
    "start_time": "2022-05-25T11:41:32.192Z"
   },
   {
    "duration": 163,
    "start_time": "2022-05-25T11:41:35.624Z"
   },
   {
    "duration": 41,
    "start_time": "2022-05-25T11:42:10.976Z"
   },
   {
    "duration": 51,
    "start_time": "2022-05-25T11:44:57.128Z"
   },
   {
    "duration": 8,
    "start_time": "2022-05-25T11:45:01.951Z"
   },
   {
    "duration": 6,
    "start_time": "2022-05-25T11:45:11.130Z"
   },
   {
    "duration": 29,
    "start_time": "2022-05-25T11:45:15.799Z"
   },
   {
    "duration": 29,
    "start_time": "2022-05-25T11:45:19.928Z"
   },
   {
    "duration": 6,
    "start_time": "2022-05-25T11:47:47.223Z"
   },
   {
    "duration": 2,
    "start_time": "2022-05-25T11:47:55.031Z"
   },
   {
    "duration": 58,
    "start_time": "2022-05-25T11:48:59.591Z"
   },
   {
    "duration": 44,
    "start_time": "2022-05-25T11:53:31.205Z"
   },
   {
    "duration": 6,
    "start_time": "2022-05-25T11:54:01.528Z"
   },
   {
    "duration": 35,
    "start_time": "2022-05-25T11:54:06.326Z"
   },
   {
    "duration": 25,
    "start_time": "2022-05-25T11:54:17.122Z"
   },
   {
    "duration": 15,
    "start_time": "2022-05-25T11:55:49.732Z"
   },
   {
    "duration": 12,
    "start_time": "2022-05-25T11:55:55.957Z"
   },
   {
    "duration": 15,
    "start_time": "2022-05-25T11:57:19.172Z"
   },
   {
    "duration": 840,
    "start_time": "2022-05-25T11:57:23.292Z"
   },
   {
    "duration": 916,
    "start_time": "2022-05-25T11:57:30.003Z"
   },
   {
    "duration": 537,
    "start_time": "2022-05-25T11:57:40.476Z"
   },
   {
    "duration": 450,
    "start_time": "2022-05-25T11:58:19.485Z"
   },
   {
    "duration": 453,
    "start_time": "2022-05-25T11:58:31.062Z"
   },
   {
    "duration": 468,
    "start_time": "2022-05-25T11:58:45.651Z"
   },
   {
    "duration": 518,
    "start_time": "2022-05-25T11:59:06.307Z"
   },
   {
    "duration": 367,
    "start_time": "2022-05-25T11:59:44.771Z"
   },
   {
    "duration": 3,
    "start_time": "2022-05-25T12:00:02.539Z"
   },
   {
    "duration": 56,
    "start_time": "2022-05-25T12:00:58.611Z"
   },
   {
    "duration": 10,
    "start_time": "2022-05-25T12:01:04.483Z"
   },
   {
    "duration": 4,
    "start_time": "2022-05-25T12:01:18.491Z"
   },
   {
    "duration": 4502,
    "start_time": "2022-05-25T12:01:21.418Z"
   },
   {
    "duration": 5,
    "start_time": "2022-05-25T12:01:38.883Z"
   },
   {
    "duration": 365,
    "start_time": "2022-05-25T12:03:02.002Z"
   },
   {
    "duration": 344,
    "start_time": "2022-05-25T12:03:28.106Z"
   },
   {
    "duration": 378,
    "start_time": "2022-05-25T12:03:36.210Z"
   },
   {
    "duration": 354,
    "start_time": "2022-05-25T12:03:40.267Z"
   },
   {
    "duration": 337,
    "start_time": "2022-05-25T12:03:47.891Z"
   },
   {
    "duration": 356,
    "start_time": "2022-05-25T12:03:56.290Z"
   },
   {
    "duration": 356,
    "start_time": "2022-05-25T12:03:59.498Z"
   },
   {
    "duration": 538,
    "start_time": "2022-05-25T12:04:08.483Z"
   },
   {
    "duration": 6,
    "start_time": "2022-05-25T12:06:24.010Z"
   },
   {
    "duration": 332,
    "start_time": "2022-05-25T12:06:49.986Z"
   },
   {
    "duration": 5752,
    "start_time": "2022-05-25T12:06:51.929Z"
   },
   {
    "duration": 3,
    "start_time": "2022-05-25T12:06:58.410Z"
   },
   {
    "duration": 73556,
    "start_time": "2022-05-25T12:06:58.578Z"
   },
   {
    "duration": 0,
    "start_time": "2022-05-25T12:08:12.139Z"
   },
   {
    "duration": 2913,
    "start_time": "2022-05-25T12:08:14.682Z"
   },
   {
    "duration": 284573,
    "start_time": "2022-05-25T12:08:22.595Z"
   },
   {
    "duration": 4,
    "start_time": "2022-05-25T12:15:23.472Z"
   },
   {
    "duration": 359,
    "start_time": "2022-05-25T12:15:42.122Z"
   },
   {
    "duration": 8577,
    "start_time": "2022-05-25T12:15:52.659Z"
   },
   {
    "duration": 83,
    "start_time": "2022-05-25T12:27:31.068Z"
   },
   {
    "duration": 2055,
    "start_time": "2022-05-25T12:27:50.427Z"
   },
   {
    "duration": 2010,
    "start_time": "2022-05-25T12:28:09.138Z"
   },
   {
    "duration": 2008,
    "start_time": "2022-05-25T12:28:23.572Z"
   },
   {
    "duration": 2083,
    "start_time": "2022-05-25T12:30:11.393Z"
   },
   {
    "duration": 2056,
    "start_time": "2022-05-25T12:30:22.489Z"
   },
   {
    "duration": 3907,
    "start_time": "2022-05-25T12:35:20.430Z"
   },
   {
    "duration": 6,
    "start_time": "2022-05-25T12:39:39.076Z"
   },
   {
    "duration": 497,
    "start_time": "2022-05-25T12:39:44.396Z"
   },
   {
    "duration": 17,
    "start_time": "2022-05-25T12:39:50.236Z"
   },
   {
    "duration": 2070,
    "start_time": "2022-05-25T12:40:08.612Z"
   },
   {
    "duration": 846,
    "start_time": "2022-05-25T12:43:34.647Z"
   },
   {
    "duration": 695,
    "start_time": "2022-05-25T12:43:55.595Z"
   },
   {
    "duration": 881,
    "start_time": "2022-05-25T12:55:49.488Z"
   },
   {
    "duration": 45,
    "start_time": "2022-05-25T13:05:28.619Z"
   },
   {
    "duration": 98,
    "start_time": "2022-05-25T13:05:35.585Z"
   },
   {
    "duration": 872,
    "start_time": "2022-05-25T13:05:51.154Z"
   },
   {
    "duration": 2183,
    "start_time": "2022-05-25T13:10:11.753Z"
   },
   {
    "duration": 15,
    "start_time": "2022-05-25T13:11:05.453Z"
   },
   {
    "duration": 19153,
    "start_time": "2022-05-25T13:11:09.400Z"
   },
   {
    "duration": 34,
    "start_time": "2022-05-25T13:11:29.406Z"
   },
   {
    "duration": 4570,
    "start_time": "2022-05-25T13:11:29.993Z"
   },
   {
    "duration": 3,
    "start_time": "2022-05-25T13:11:40.305Z"
   },
   {
    "duration": 7737,
    "start_time": "2022-05-25T13:11:40.938Z"
   },
   {
    "duration": 22427,
    "start_time": "2022-05-25T13:12:20.672Z"
   },
   {
    "duration": 3,
    "start_time": "2022-05-25T13:12:50.015Z"
   },
   {
    "duration": 2666,
    "start_time": "2022-05-25T13:12:50.304Z"
   },
   {
    "duration": 24416,
    "start_time": "2022-05-25T13:12:55.560Z"
   },
   {
    "duration": 49662,
    "start_time": "2022-05-25T13:13:21.827Z"
   },
   {
    "duration": 4,
    "start_time": "2022-05-25T13:14:15.030Z"
   },
   {
    "duration": 8518,
    "start_time": "2022-05-25T13:14:16.135Z"
   },
   {
    "duration": 3,
    "start_time": "2022-05-25T13:14:28.550Z"
   },
   {
    "duration": 36,
    "start_time": "2022-05-25T13:14:28.903Z"
   },
   {
    "duration": 4,
    "start_time": "2022-05-25T13:14:39.382Z"
   },
   {
    "duration": 279201,
    "start_time": "2022-05-25T13:14:39.766Z"
   },
   {
    "duration": 6,
    "start_time": "2022-05-25T13:24:07.330Z"
   },
   {
    "duration": 11,
    "start_time": "2022-05-25T13:25:30.266Z"
   },
   {
    "duration": 5,
    "start_time": "2022-05-25T13:25:38.865Z"
   },
   {
    "duration": 1471,
    "start_time": "2022-05-26T15:09:00.912Z"
   },
   {
    "duration": 3327,
    "start_time": "2022-05-26T15:09:02.385Z"
   },
   {
    "duration": 117,
    "start_time": "2022-05-26T15:09:05.714Z"
   },
   {
    "duration": 15,
    "start_time": "2022-05-26T15:09:05.833Z"
   },
   {
    "duration": 270,
    "start_time": "2022-05-26T15:09:05.850Z"
   },
   {
    "duration": 38,
    "start_time": "2022-05-26T15:09:06.122Z"
   },
   {
    "duration": 252,
    "start_time": "2022-05-26T15:09:06.161Z"
   },
   {
    "duration": 78,
    "start_time": "2022-05-26T15:09:06.415Z"
   },
   {
    "duration": 31,
    "start_time": "2022-05-26T15:09:06.495Z"
   },
   {
    "duration": 31,
    "start_time": "2022-05-26T15:09:06.530Z"
   },
   {
    "duration": 29,
    "start_time": "2022-05-26T15:09:06.562Z"
   },
   {
    "duration": 3500,
    "start_time": "2022-05-26T15:09:06.592Z"
   },
   {
    "duration": 109,
    "start_time": "2022-05-26T15:09:10.094Z"
   },
   {
    "duration": 365,
    "start_time": "2022-05-26T15:09:10.205Z"
   },
   {
    "duration": 91,
    "start_time": "2022-05-26T15:09:10.572Z"
   },
   {
    "duration": 5,
    "start_time": "2022-05-26T15:11:53.007Z"
   },
   {
    "duration": 920,
    "start_time": "2022-05-26T15:11:53.014Z"
   },
   {
    "duration": 116,
    "start_time": "2022-05-26T15:11:53.936Z"
   },
   {
    "duration": 6,
    "start_time": "2022-05-26T15:11:54.054Z"
   },
   {
    "duration": 248,
    "start_time": "2022-05-26T15:11:54.061Z"
   },
   {
    "duration": 29,
    "start_time": "2022-05-26T15:11:54.311Z"
   },
   {
    "duration": 247,
    "start_time": "2022-05-26T15:11:54.341Z"
   },
   {
    "duration": 71,
    "start_time": "2022-05-26T15:11:54.589Z"
   },
   {
    "duration": 31,
    "start_time": "2022-05-26T15:11:54.662Z"
   },
   {
    "duration": 32,
    "start_time": "2022-05-26T15:11:54.694Z"
   },
   {
    "duration": 30,
    "start_time": "2022-05-26T15:11:54.728Z"
   },
   {
    "duration": 3401,
    "start_time": "2022-05-26T15:11:54.760Z"
   },
   {
    "duration": 107,
    "start_time": "2022-05-26T15:11:58.162Z"
   },
   {
    "duration": 364,
    "start_time": "2022-05-26T15:11:58.270Z"
   },
   {
    "duration": 93,
    "start_time": "2022-05-26T15:11:58.636Z"
   },
   {
    "duration": 44563,
    "start_time": "2022-05-26T15:11:58.730Z"
   },
   {
    "duration": 595,
    "start_time": "2022-05-26T15:12:43.294Z"
   },
   {
    "duration": 146,
    "start_time": "2022-05-26T15:12:43.891Z"
   },
   {
    "duration": 131,
    "start_time": "2022-05-26T15:12:44.038Z"
   },
   {
    "duration": 69,
    "start_time": "2022-05-26T15:12:44.171Z"
   },
   {
    "duration": 386,
    "start_time": "2022-05-26T15:12:44.242Z"
   },
   {
    "duration": 20,
    "start_time": "2022-05-26T15:12:44.629Z"
   },
   {
    "duration": 166,
    "start_time": "2022-05-26T15:12:44.659Z"
   },
   {
    "duration": 137,
    "start_time": "2022-05-26T15:12:44.827Z"
   },
   {
    "duration": 55,
    "start_time": "2022-05-26T15:12:44.966Z"
   },
   {
    "duration": 5,
    "start_time": "2022-05-26T15:12:45.023Z"
   },
   {
    "duration": 40,
    "start_time": "2022-05-26T15:12:45.029Z"
   },
   {
    "duration": 11,
    "start_time": "2022-05-26T15:12:45.071Z"
   },
   {
    "duration": 7,
    "start_time": "2022-05-26T15:12:45.083Z"
   },
   {
    "duration": 15,
    "start_time": "2022-05-26T15:12:45.092Z"
   },
   {
    "duration": 157,
    "start_time": "2022-05-26T15:12:45.108Z"
   },
   {
    "duration": 30,
    "start_time": "2022-05-26T15:12:45.267Z"
   },
   {
    "duration": 163,
    "start_time": "2022-05-26T15:12:45.299Z"
   },
   {
    "duration": 42,
    "start_time": "2022-05-26T15:12:45.463Z"
   },
   {
    "duration": 157,
    "start_time": "2022-05-26T15:12:45.506Z"
   },
   {
    "duration": 22,
    "start_time": "2022-05-26T15:12:45.664Z"
   },
   {
    "duration": 16,
    "start_time": "2022-05-26T15:12:45.687Z"
   },
   {
    "duration": 109,
    "start_time": "2022-05-26T15:15:42.183Z"
   },
   {
    "duration": 11,
    "start_time": "2022-05-26T15:15:43.775Z"
   },
   {
    "duration": 57,
    "start_time": "2022-05-26T15:15:51.855Z"
   },
   {
    "duration": 227,
    "start_time": "2022-05-26T15:15:52.567Z"
   },
   {
    "duration": 296,
    "start_time": "2022-05-26T15:16:20.200Z"
   },
   {
    "duration": 288,
    "start_time": "2022-05-26T15:16:29.999Z"
   },
   {
    "duration": 137,
    "start_time": "2022-05-26T15:17:24.646Z"
   },
   {
    "duration": 60,
    "start_time": "2022-05-26T15:17:42.157Z"
   },
   {
    "duration": 380,
    "start_time": "2022-05-26T15:17:42.743Z"
   },
   {
    "duration": 130,
    "start_time": "2022-05-26T15:17:59.679Z"
   },
   {
    "duration": 57,
    "start_time": "2022-05-26T15:18:02.951Z"
   },
   {
    "duration": 387,
    "start_time": "2022-05-26T15:18:03.174Z"
   },
   {
    "duration": 53,
    "start_time": "2022-05-26T15:19:15.862Z"
   },
   {
    "duration": 353,
    "start_time": "2022-05-26T15:19:16.150Z"
   },
   {
    "duration": 53,
    "start_time": "2022-05-26T15:20:05.837Z"
   },
   {
    "duration": 24,
    "start_time": "2022-05-26T15:20:10.117Z"
   },
   {
    "duration": 2,
    "start_time": "2022-05-26T15:20:22.766Z"
   },
   {
    "duration": 17,
    "start_time": "2022-05-26T15:40:41.747Z"
   },
   {
    "duration": 21,
    "start_time": "2022-05-26T15:41:29.610Z"
   },
   {
    "duration": 13,
    "start_time": "2022-05-26T15:42:02.042Z"
   },
   {
    "duration": 10,
    "start_time": "2022-05-26T15:42:06.226Z"
   },
   {
    "duration": 11,
    "start_time": "2022-05-26T15:42:34.043Z"
   },
   {
    "duration": 14,
    "start_time": "2022-05-26T15:42:38.065Z"
   },
   {
    "duration": 15,
    "start_time": "2022-05-26T15:44:09.313Z"
   },
   {
    "duration": 481,
    "start_time": "2022-05-26T15:44:13.369Z"
   },
   {
    "duration": 20,
    "start_time": "2022-05-26T15:44:18.881Z"
   },
   {
    "duration": 32,
    "start_time": "2022-05-26T15:47:27.609Z"
   },
   {
    "duration": 26,
    "start_time": "2022-05-26T15:47:38.944Z"
   },
   {
    "duration": 50,
    "start_time": "2022-05-26T15:47:44.341Z"
   },
   {
    "duration": 11,
    "start_time": "2022-05-26T15:47:51.720Z"
   },
   {
    "duration": 10,
    "start_time": "2022-05-26T15:48:01.946Z"
   },
   {
    "duration": 9,
    "start_time": "2022-05-26T15:48:05.742Z"
   },
   {
    "duration": 11,
    "start_time": "2022-05-26T15:48:07.351Z"
   },
   {
    "duration": 4,
    "start_time": "2022-05-26T15:48:12.939Z"
   },
   {
    "duration": 4,
    "start_time": "2022-05-26T15:48:20.596Z"
   },
   {
    "duration": 841,
    "start_time": "2022-05-26T15:48:20.602Z"
   },
   {
    "duration": 119,
    "start_time": "2022-05-26T15:48:21.445Z"
   },
   {
    "duration": 3,
    "start_time": "2022-05-26T15:48:21.566Z"
   },
   {
    "duration": 265,
    "start_time": "2022-05-26T15:48:21.570Z"
   },
   {
    "duration": 44,
    "start_time": "2022-05-26T15:48:21.838Z"
   },
   {
    "duration": 238,
    "start_time": "2022-05-26T15:48:21.884Z"
   },
   {
    "duration": 68,
    "start_time": "2022-05-26T15:48:22.124Z"
   },
   {
    "duration": 29,
    "start_time": "2022-05-26T15:48:22.195Z"
   },
   {
    "duration": 17,
    "start_time": "2022-05-26T15:48:22.226Z"
   },
   {
    "duration": 24,
    "start_time": "2022-05-26T15:48:22.244Z"
   },
   {
    "duration": 3294,
    "start_time": "2022-05-26T15:48:22.270Z"
   },
   {
    "duration": 104,
    "start_time": "2022-05-26T15:48:25.566Z"
   },
   {
    "duration": 333,
    "start_time": "2022-05-26T15:48:25.671Z"
   },
   {
    "duration": 85,
    "start_time": "2022-05-26T15:48:26.006Z"
   },
   {
    "duration": 46917,
    "start_time": "2022-05-26T15:48:26.093Z"
   },
   {
    "duration": 562,
    "start_time": "2022-05-26T15:49:13.012Z"
   },
   {
    "duration": 159,
    "start_time": "2022-05-26T15:49:13.576Z"
   },
   {
    "duration": 145,
    "start_time": "2022-05-26T15:49:13.737Z"
   },
   {
    "duration": 90,
    "start_time": "2022-05-26T15:49:13.884Z"
   },
   {
    "duration": 165,
    "start_time": "2022-05-26T15:49:13.975Z"
   },
   {
    "duration": 32,
    "start_time": "2022-05-26T15:49:14.141Z"
   },
   {
    "duration": 170,
    "start_time": "2022-05-26T15:49:14.175Z"
   },
   {
    "duration": 146,
    "start_time": "2022-05-26T15:49:14.348Z"
   },
   {
    "duration": 48,
    "start_time": "2022-05-26T15:49:14.495Z"
   },
   {
    "duration": 22,
    "start_time": "2022-05-26T15:49:14.545Z"
   },
   {
    "duration": 25,
    "start_time": "2022-05-26T15:49:14.568Z"
   },
   {
    "duration": 13,
    "start_time": "2022-05-26T15:49:14.595Z"
   },
   {
    "duration": 8,
    "start_time": "2022-05-26T15:49:14.609Z"
   },
   {
    "duration": 14,
    "start_time": "2022-05-26T15:49:14.619Z"
   },
   {
    "duration": 142,
    "start_time": "2022-05-26T15:49:14.634Z"
   },
   {
    "duration": 25,
    "start_time": "2022-05-26T15:49:14.777Z"
   },
   {
    "duration": 162,
    "start_time": "2022-05-26T15:49:14.804Z"
   },
   {
    "duration": 45,
    "start_time": "2022-05-26T15:49:14.969Z"
   },
   {
    "duration": 160,
    "start_time": "2022-05-26T15:49:15.015Z"
   },
   {
    "duration": 21,
    "start_time": "2022-05-26T15:49:15.177Z"
   },
   {
    "duration": 16,
    "start_time": "2022-05-26T15:49:15.199Z"
   },
   {
    "duration": 14,
    "start_time": "2022-05-26T15:49:15.216Z"
   },
   {
    "duration": 483,
    "start_time": "2022-05-26T15:49:15.232Z"
   },
   {
    "duration": 89,
    "start_time": "2022-05-26T15:50:24.375Z"
   },
   {
    "duration": 10,
    "start_time": "2022-05-26T15:50:36.282Z"
   },
   {
    "duration": 9,
    "start_time": "2022-05-26T15:50:43.967Z"
   },
   {
    "duration": 5,
    "start_time": "2022-05-26T15:50:50.414Z"
   },
   {
    "duration": 11,
    "start_time": "2022-05-26T15:51:37.207Z"
   },
   {
    "duration": 4,
    "start_time": "2022-05-26T15:51:42.259Z"
   },
   {
    "duration": 831,
    "start_time": "2022-05-26T15:51:42.266Z"
   },
   {
    "duration": 117,
    "start_time": "2022-05-26T15:51:43.099Z"
   },
   {
    "duration": 3,
    "start_time": "2022-05-26T15:51:43.219Z"
   },
   {
    "duration": 238,
    "start_time": "2022-05-26T15:51:43.223Z"
   },
   {
    "duration": 30,
    "start_time": "2022-05-26T15:51:43.462Z"
   },
   {
    "duration": 234,
    "start_time": "2022-05-26T15:51:43.493Z"
   },
   {
    "duration": 60,
    "start_time": "2022-05-26T15:51:43.729Z"
   },
   {
    "duration": 28,
    "start_time": "2022-05-26T15:51:43.791Z"
   },
   {
    "duration": 16,
    "start_time": "2022-05-26T15:51:43.821Z"
   },
   {
    "duration": 31,
    "start_time": "2022-05-26T15:51:43.838Z"
   },
   {
    "duration": 3242,
    "start_time": "2022-05-26T15:51:43.871Z"
   },
   {
    "duration": 112,
    "start_time": "2022-05-26T15:51:47.115Z"
   },
   {
    "duration": 330,
    "start_time": "2022-05-26T15:51:47.228Z"
   },
   {
    "duration": 77,
    "start_time": "2022-05-26T15:51:47.559Z"
   },
   {
    "duration": 43142,
    "start_time": "2022-05-26T15:51:47.637Z"
   },
   {
    "duration": 558,
    "start_time": "2022-05-26T15:52:30.781Z"
   },
   {
    "duration": 145,
    "start_time": "2022-05-26T15:52:31.341Z"
   },
   {
    "duration": 130,
    "start_time": "2022-05-26T15:52:31.488Z"
   },
   {
    "duration": 85,
    "start_time": "2022-05-26T15:52:31.620Z"
   },
   {
    "duration": 187,
    "start_time": "2022-05-26T15:52:31.707Z"
   },
   {
    "duration": 24,
    "start_time": "2022-05-26T15:52:31.895Z"
   },
   {
    "duration": 175,
    "start_time": "2022-05-26T15:52:31.920Z"
   },
   {
    "duration": 130,
    "start_time": "2022-05-26T15:52:32.098Z"
   },
   {
    "duration": 56,
    "start_time": "2022-05-26T15:52:32.229Z"
   },
   {
    "duration": 4,
    "start_time": "2022-05-26T15:52:32.286Z"
   },
   {
    "duration": 22,
    "start_time": "2022-05-26T15:52:32.291Z"
   },
   {
    "duration": 12,
    "start_time": "2022-05-26T15:52:32.314Z"
   },
   {
    "duration": 5,
    "start_time": "2022-05-26T15:52:32.328Z"
   },
   {
    "duration": 32,
    "start_time": "2022-05-26T15:52:32.335Z"
   },
   {
    "duration": 125,
    "start_time": "2022-05-26T15:52:32.369Z"
   },
   {
    "duration": 21,
    "start_time": "2022-05-26T15:52:32.496Z"
   },
   {
    "duration": 142,
    "start_time": "2022-05-26T15:52:32.519Z"
   },
   {
    "duration": 41,
    "start_time": "2022-05-26T15:52:32.663Z"
   },
   {
    "duration": 162,
    "start_time": "2022-05-26T15:52:32.705Z"
   },
   {
    "duration": 21,
    "start_time": "2022-05-26T15:52:32.868Z"
   },
   {
    "duration": 19,
    "start_time": "2022-05-26T15:52:32.891Z"
   },
   {
    "duration": 25,
    "start_time": "2022-05-26T15:52:32.911Z"
   },
   {
    "duration": 221,
    "start_time": "2022-05-26T15:52:35.925Z"
   },
   {
    "duration": 211,
    "start_time": "2022-05-26T15:52:42.894Z"
   },
   {
    "duration": 219,
    "start_time": "2022-05-26T15:52:51.718Z"
   },
   {
    "duration": 792,
    "start_time": "2022-05-26T15:53:12.547Z"
   },
   {
    "duration": 72,
    "start_time": "2022-05-26T15:53:39.311Z"
   },
   {
    "duration": 244,
    "start_time": "2022-05-26T15:53:51.574Z"
   },
   {
    "duration": 233,
    "start_time": "2022-05-26T15:54:00.518Z"
   },
   {
    "duration": 213,
    "start_time": "2022-05-26T15:54:03.893Z"
   },
   {
    "duration": 212,
    "start_time": "2022-05-26T15:54:19.295Z"
   },
   {
    "duration": 4,
    "start_time": "2022-05-26T15:54:22.114Z"
   },
   {
    "duration": 791,
    "start_time": "2022-05-26T15:54:22.120Z"
   },
   {
    "duration": 104,
    "start_time": "2022-05-26T15:54:22.913Z"
   },
   {
    "duration": 3,
    "start_time": "2022-05-26T15:54:23.019Z"
   },
   {
    "duration": 237,
    "start_time": "2022-05-26T15:54:23.023Z"
   },
   {
    "duration": 29,
    "start_time": "2022-05-26T15:54:23.262Z"
   },
   {
    "duration": 230,
    "start_time": "2022-05-26T15:54:23.292Z"
   },
   {
    "duration": 55,
    "start_time": "2022-05-26T15:54:23.524Z"
   },
   {
    "duration": 29,
    "start_time": "2022-05-26T15:54:23.582Z"
   },
   {
    "duration": 18,
    "start_time": "2022-05-26T15:54:23.613Z"
   },
   {
    "duration": 27,
    "start_time": "2022-05-26T15:54:23.633Z"
   },
   {
    "duration": 3224,
    "start_time": "2022-05-26T15:54:23.661Z"
   },
   {
    "duration": 102,
    "start_time": "2022-05-26T15:54:26.886Z"
   },
   {
    "duration": 324,
    "start_time": "2022-05-26T15:54:26.989Z"
   },
   {
    "duration": 82,
    "start_time": "2022-05-26T15:54:27.315Z"
   },
   {
    "duration": 41990,
    "start_time": "2022-05-26T15:54:27.399Z"
   },
   {
    "duration": 572,
    "start_time": "2022-05-26T15:55:09.391Z"
   },
   {
    "duration": 149,
    "start_time": "2022-05-26T15:55:09.964Z"
   },
   {
    "duration": 127,
    "start_time": "2022-05-26T15:55:10.114Z"
   },
   {
    "duration": 69,
    "start_time": "2022-05-26T15:55:10.243Z"
   },
   {
    "duration": 165,
    "start_time": "2022-05-26T15:55:10.313Z"
   },
   {
    "duration": 20,
    "start_time": "2022-05-26T15:55:10.480Z"
   },
   {
    "duration": 167,
    "start_time": "2022-05-26T15:55:10.502Z"
   },
   {
    "duration": 131,
    "start_time": "2022-05-26T15:55:10.671Z"
   },
   {
    "duration": 56,
    "start_time": "2022-05-26T15:55:10.803Z"
   },
   {
    "duration": 3,
    "start_time": "2022-05-26T15:55:10.861Z"
   },
   {
    "duration": 20,
    "start_time": "2022-05-26T15:55:10.866Z"
   },
   {
    "duration": 9,
    "start_time": "2022-05-26T15:55:10.887Z"
   },
   {
    "duration": 6,
    "start_time": "2022-05-26T15:55:10.898Z"
   },
   {
    "duration": 13,
    "start_time": "2022-05-26T15:55:10.905Z"
   },
   {
    "duration": 146,
    "start_time": "2022-05-26T15:55:10.920Z"
   },
   {
    "duration": 22,
    "start_time": "2022-05-26T15:55:11.068Z"
   },
   {
    "duration": 141,
    "start_time": "2022-05-26T15:55:11.091Z"
   },
   {
    "duration": 45,
    "start_time": "2022-05-26T15:55:11.233Z"
   },
   {
    "duration": 149,
    "start_time": "2022-05-26T15:55:11.279Z"
   },
   {
    "duration": 21,
    "start_time": "2022-05-26T15:55:11.429Z"
   },
   {
    "duration": 15,
    "start_time": "2022-05-26T15:55:11.459Z"
   },
   {
    "duration": 226,
    "start_time": "2022-05-26T15:55:24.213Z"
   },
   {
    "duration": 41,
    "start_time": "2022-05-26T15:55:57.877Z"
   },
   {
    "duration": 453,
    "start_time": "2022-05-26T15:56:00.629Z"
   },
   {
    "duration": 19,
    "start_time": "2022-05-26T15:56:04.364Z"
   },
   {
    "duration": 133,
    "start_time": "2022-05-26T15:56:21.645Z"
   },
   {
    "duration": 82,
    "start_time": "2022-05-26T15:56:30.471Z"
   },
   {
    "duration": 44,
    "start_time": "2022-05-26T15:56:38.478Z"
   },
   {
    "duration": 105,
    "start_time": "2022-05-26T15:56:57.742Z"
   },
   {
    "duration": 10,
    "start_time": "2022-05-26T15:57:13.694Z"
   },
   {
    "duration": 3,
    "start_time": "2022-05-26T15:57:21.444Z"
   },
   {
    "duration": 58,
    "start_time": "2022-05-26T15:57:21.700Z"
   },
   {
    "duration": 22,
    "start_time": "2022-05-26T15:57:25.365Z"
   },
   {
    "duration": 9,
    "start_time": "2022-05-26T15:57:30.241Z"
   },
   {
    "duration": 27,
    "start_time": "2022-05-26T15:57:31.693Z"
   },
   {
    "duration": 9,
    "start_time": "2022-05-26T15:57:48.750Z"
   },
   {
    "duration": 10,
    "start_time": "2022-05-26T15:57:58.872Z"
   },
   {
    "duration": 11,
    "start_time": "2022-05-26T15:58:02.477Z"
   },
   {
    "duration": 4,
    "start_time": "2022-05-26T15:58:04.052Z"
   },
   {
    "duration": 57,
    "start_time": "2022-05-26T15:58:04.381Z"
   },
   {
    "duration": 4,
    "start_time": "2022-05-26T15:58:15.372Z"
   },
   {
    "duration": 9,
    "start_time": "2022-05-26T15:58:19.749Z"
   },
   {
    "duration": 10,
    "start_time": "2022-05-26T15:58:27.636Z"
   },
   {
    "duration": 9,
    "start_time": "2022-05-26T15:58:35.901Z"
   },
   {
    "duration": 2,
    "start_time": "2022-05-26T15:58:36.772Z"
   },
   {
    "duration": 248,
    "start_time": "2022-05-26T15:58:37.164Z"
   },
   {
    "duration": 57,
    "start_time": "2022-05-26T15:58:47.764Z"
   },
   {
    "duration": 3,
    "start_time": "2022-05-26T15:58:49.260Z"
   },
   {
    "duration": 48,
    "start_time": "2022-05-26T15:58:49.484Z"
   },
   {
    "duration": 23,
    "start_time": "2022-05-26T15:58:57.855Z"
   },
   {
    "duration": 2,
    "start_time": "2022-05-26T15:58:59.148Z"
   },
   {
    "duration": 49,
    "start_time": "2022-05-26T15:58:59.345Z"
   },
   {
    "duration": 2,
    "start_time": "2022-05-26T16:00:17.487Z"
   },
   {
    "duration": 832,
    "start_time": "2022-05-26T16:00:17.748Z"
   },
   {
    "duration": 31,
    "start_time": "2022-05-26T16:05:52.949Z"
   },
   {
    "duration": 21,
    "start_time": "2022-05-26T16:05:57.166Z"
   },
   {
    "duration": 5,
    "start_time": "2022-05-26T16:06:05.501Z"
   },
   {
    "duration": 8,
    "start_time": "2022-05-26T16:06:09.171Z"
   },
   {
    "duration": 37,
    "start_time": "2022-05-26T16:06:57.676Z"
   },
   {
    "duration": 10,
    "start_time": "2022-05-26T16:07:14.571Z"
   },
   {
    "duration": 5,
    "start_time": "2022-05-26T16:07:40.220Z"
   },
   {
    "duration": 5,
    "start_time": "2022-05-26T16:08:03.150Z"
   },
   {
    "duration": 39,
    "start_time": "2022-05-26T16:08:56.516Z"
   },
   {
    "duration": 4,
    "start_time": "2022-05-26T16:08:57.204Z"
   },
   {
    "duration": 20,
    "start_time": "2022-05-26T16:09:12.828Z"
   },
   {
    "duration": 87,
    "start_time": "2022-05-26T16:09:57.156Z"
   },
   {
    "duration": 71,
    "start_time": "2022-05-26T16:10:28.636Z"
   },
   {
    "duration": 4,
    "start_time": "2022-05-26T16:10:33.436Z"
   },
   {
    "duration": 320,
    "start_time": "2022-05-26T16:10:43.428Z"
   },
   {
    "duration": 66,
    "start_time": "2022-05-26T16:10:44.270Z"
   },
   {
    "duration": 14,
    "start_time": "2022-05-26T16:10:48.355Z"
   },
   {
    "duration": 6,
    "start_time": "2022-05-26T16:10:58.108Z"
   },
   {
    "duration": 14,
    "start_time": "2022-05-26T16:11:02.971Z"
   },
   {
    "duration": 485,
    "start_time": "2022-05-26T16:11:27.587Z"
   },
   {
    "duration": 4287,
    "start_time": "2022-05-26T16:11:37.899Z"
   },
   {
    "duration": 4,
    "start_time": "2022-05-26T16:11:42.188Z"
   },
   {
    "duration": 333,
    "start_time": "2022-05-26T16:11:42.193Z"
   },
   {
    "duration": 85,
    "start_time": "2022-05-26T16:11:42.528Z"
   },
   {
    "duration": 2,
    "start_time": "2022-05-26T16:11:52.971Z"
   },
   {
    "duration": 251715,
    "start_time": "2022-05-26T16:11:53.268Z"
   },
   {
    "duration": 4,
    "start_time": "2022-05-26T16:16:04.985Z"
   },
   {
    "duration": 8184,
    "start_time": "2022-05-26T16:16:04.991Z"
   },
   {
    "duration": 2099,
    "start_time": "2022-05-26T16:16:13.177Z"
   },
   {
    "duration": 3,
    "start_time": "2022-05-26T16:16:26.978Z"
   },
   {
    "duration": 508111,
    "start_time": "2022-05-26T16:16:27.818Z"
   },
   {
    "duration": 9,
    "start_time": "2022-05-26T16:24:55.931Z"
   },
   {
    "duration": 27,
    "start_time": "2022-05-26T16:25:14.904Z"
   },
   {
    "duration": 3,
    "start_time": "2022-05-26T16:25:17.600Z"
   },
   {
    "duration": 60,
    "start_time": "2022-05-26T16:25:18.640Z"
   },
   {
    "duration": 3,
    "start_time": "2022-05-26T16:25:39.576Z"
   },
   {
    "duration": 57,
    "start_time": "2022-05-26T16:25:40.552Z"
   },
   {
    "duration": 3,
    "start_time": "2022-05-26T16:25:58.908Z"
   },
   {
    "duration": 11942,
    "start_time": "2022-05-26T16:26:00.044Z"
   },
   {
    "duration": 4,
    "start_time": "2022-05-26T16:26:19.487Z"
   },
   {
    "duration": 50,
    "start_time": "2022-05-26T16:26:20.043Z"
   },
   {
    "duration": 3,
    "start_time": "2022-05-26T16:26:26.103Z"
   },
   {
    "duration": 51,
    "start_time": "2022-05-26T16:26:26.360Z"
   },
   {
    "duration": 3,
    "start_time": "2022-05-26T16:26:43.807Z"
   },
   {
    "duration": 50,
    "start_time": "2022-05-26T16:26:44.648Z"
   },
   {
    "duration": 2,
    "start_time": "2022-05-26T16:28:09.008Z"
   },
   {
    "duration": 4,
    "start_time": "2022-05-26T16:28:10.983Z"
   },
   {
    "duration": 3,
    "start_time": "2022-05-26T16:28:12.865Z"
   },
   {
    "duration": 192323,
    "start_time": "2022-05-26T16:28:13.056Z"
   },
   {
    "duration": 6,
    "start_time": "2022-05-26T16:31:30.471Z"
   },
   {
    "duration": 878,
    "start_time": "2022-05-26T16:32:15.702Z"
   },
   {
    "duration": 3,
    "start_time": "2022-05-26T16:34:22.373Z"
   },
   {
    "duration": 673275,
    "start_time": "2022-05-26T16:34:22.774Z"
   },
   {
    "duration": 4,
    "start_time": "2022-05-26T16:46:32.753Z"
   },
   {
    "duration": 4667,
    "start_time": "2022-05-26T16:46:59.941Z"
   },
   {
    "duration": 3,
    "start_time": "2022-05-26T16:48:58.713Z"
   },
   {
    "duration": 3319,
    "start_time": "2022-05-26T16:48:59.097Z"
   },
   {
    "duration": 3,
    "start_time": "2022-05-26T16:51:53.749Z"
   },
   {
    "duration": 2872,
    "start_time": "2022-05-26T16:51:54.106Z"
   },
   {
    "duration": 19032,
    "start_time": "2022-05-26T16:52:30.844Z"
   },
   {
    "duration": 51,
    "start_time": "2022-05-26T16:53:56.520Z"
   },
   {
    "duration": 3,
    "start_time": "2022-05-26T16:53:59.759Z"
   },
   {
    "duration": 5302,
    "start_time": "2022-05-26T16:54:00.215Z"
   },
   {
    "duration": 4,
    "start_time": "2022-05-26T16:55:11.959Z"
   },
   {
    "duration": 6003,
    "start_time": "2022-05-26T16:55:12.446Z"
   },
   {
    "duration": 4,
    "start_time": "2022-05-26T16:56:17.959Z"
   },
   {
    "duration": 4003,
    "start_time": "2022-05-26T16:56:18.312Z"
   },
   {
    "duration": 3,
    "start_time": "2022-05-26T16:57:11.744Z"
   },
   {
    "duration": 16334,
    "start_time": "2022-05-26T16:57:12.191Z"
   },
   {
    "duration": 3,
    "start_time": "2022-05-26T17:01:22.677Z"
   },
   {
    "duration": 232349,
    "start_time": "2022-05-26T17:01:23.069Z"
   },
   {
    "duration": 8,
    "start_time": "2022-05-26T17:05:15.458Z"
   },
   {
    "duration": 1544090,
    "start_time": "2022-05-26T17:05:19.538Z"
   },
   {
    "duration": 76211,
    "start_time": "2022-05-26T17:31:20.816Z"
   },
   {
    "duration": 11,
    "start_time": "2022-05-26T17:32:58.971Z"
   },
   {
    "duration": 22,
    "start_time": "2022-05-26T17:33:04.668Z"
   },
   {
    "duration": 1745,
    "start_time": "2022-05-26T17:33:15.933Z"
   },
   {
    "duration": 2657,
    "start_time": "2022-05-26T17:33:21.221Z"
   },
   {
    "duration": 1659,
    "start_time": "2022-05-26T17:33:30.909Z"
   },
   {
    "duration": 1981,
    "start_time": "2022-05-26T17:33:47.279Z"
   },
   {
    "duration": 1769,
    "start_time": "2022-05-26T17:35:17.700Z"
   },
   {
    "duration": 1909,
    "start_time": "2022-05-26T17:36:38.157Z"
   },
   {
    "duration": 1994,
    "start_time": "2022-05-26T17:38:01.278Z"
   },
   {
    "duration": 14537,
    "start_time": "2022-05-26T17:38:37.486Z"
   },
   {
    "duration": 4,
    "start_time": "2022-05-26T17:38:55.837Z"
   },
   {
    "duration": 13461,
    "start_time": "2022-05-26T17:38:56.940Z"
   },
   {
    "duration": 37,
    "start_time": "2022-05-26T17:39:14.086Z"
   },
   {
    "duration": 56,
    "start_time": "2022-05-26T17:39:20.309Z"
   },
   {
    "duration": 40,
    "start_time": "2022-05-26T17:39:30.982Z"
   },
   {
    "duration": 160565,
    "start_time": "2022-05-26T17:39:42.007Z"
   },
   {
    "duration": 4,
    "start_time": "2022-05-26T17:43:21.254Z"
   },
   {
    "duration": 4343,
    "start_time": "2022-05-26T17:43:45.336Z"
   },
   {
    "duration": 6,
    "start_time": "2022-05-26T17:44:15.775Z"
   },
   {
    "duration": 6,
    "start_time": "2022-05-26T17:44:25.254Z"
   },
   {
    "duration": 7,
    "start_time": "2022-05-26T17:44:33.214Z"
   },
   {
    "duration": 1531,
    "start_time": "2022-05-27T03:47:15.669Z"
   },
   {
    "duration": 1086,
    "start_time": "2022-05-27T03:47:17.202Z"
   },
   {
    "duration": 138,
    "start_time": "2022-05-27T03:47:21.138Z"
   },
   {
    "duration": 4,
    "start_time": "2022-05-27T03:47:25.076Z"
   },
   {
    "duration": 335,
    "start_time": "2022-05-27T03:48:02.680Z"
   },
   {
    "duration": 36,
    "start_time": "2022-05-27T03:48:18.763Z"
   },
   {
    "duration": 4,
    "start_time": "2022-05-27T03:48:37.171Z"
   },
   {
    "duration": 41,
    "start_time": "2022-05-27T03:48:39.323Z"
   },
   {
    "duration": 5,
    "start_time": "2022-05-27T03:49:23.748Z"
   },
   {
    "duration": 1131,
    "start_time": "2022-05-27T03:49:23.756Z"
   },
   {
    "duration": 146,
    "start_time": "2022-05-27T03:49:24.888Z"
   },
   {
    "duration": 12,
    "start_time": "2022-05-27T03:49:25.036Z"
   },
   {
    "duration": 562,
    "start_time": "2022-05-27T03:49:40.896Z"
   },
   {
    "duration": 42,
    "start_time": "2022-05-27T03:58:42.424Z"
   },
   {
    "duration": 280,
    "start_time": "2022-05-27T03:59:03.506Z"
   },
   {
    "duration": 268,
    "start_time": "2022-05-27T03:59:15.454Z"
   },
   {
    "duration": 33,
    "start_time": "2022-05-27T03:59:21.073Z"
   },
   {
    "duration": 33,
    "start_time": "2022-05-27T03:59:25.502Z"
   },
   {
    "duration": 14,
    "start_time": "2022-05-27T04:01:08.536Z"
   },
   {
    "duration": 3653,
    "start_time": "2022-05-27T04:01:41.362Z"
   },
   {
    "duration": 113,
    "start_time": "2022-05-27T04:04:20.187Z"
   },
   {
    "duration": 440,
    "start_time": "2022-05-27T04:04:20.920Z"
   },
   {
    "duration": 4,
    "start_time": "2022-05-27T04:04:43.357Z"
   },
   {
    "duration": 988,
    "start_time": "2022-05-27T04:04:43.363Z"
   },
   {
    "duration": 122,
    "start_time": "2022-05-27T04:04:44.353Z"
   },
   {
    "duration": 4,
    "start_time": "2022-05-27T04:04:44.478Z"
   },
   {
    "duration": 296,
    "start_time": "2022-05-27T04:04:44.485Z"
   },
   {
    "duration": 45,
    "start_time": "2022-05-27T04:04:44.782Z"
   },
   {
    "duration": 259,
    "start_time": "2022-05-27T04:04:44.829Z"
   },
   {
    "duration": 68,
    "start_time": "2022-05-27T04:04:45.090Z"
   },
   {
    "duration": 30,
    "start_time": "2022-05-27T04:04:45.160Z"
   },
   {
    "duration": 40,
    "start_time": "2022-05-27T04:04:45.193Z"
   },
   {
    "duration": 16,
    "start_time": "2022-05-27T04:04:45.235Z"
   },
   {
    "duration": 3780,
    "start_time": "2022-05-27T04:04:45.254Z"
   },
   {
    "duration": 147,
    "start_time": "2022-05-27T04:04:49.037Z"
   },
   {
    "duration": 423,
    "start_time": "2022-05-27T04:04:49.186Z"
   },
   {
    "duration": 417,
    "start_time": "2022-05-27T04:04:59.182Z"
   },
   {
    "duration": 94,
    "start_time": "2022-05-27T04:05:37.004Z"
   },
   {
    "duration": 49045,
    "start_time": "2022-05-27T04:05:40.206Z"
   },
   {
    "duration": 587,
    "start_time": "2022-05-27T04:06:38.780Z"
   },
   {
    "duration": 194,
    "start_time": "2022-05-27T04:07:32.498Z"
   },
   {
    "duration": 172,
    "start_time": "2022-05-27T04:07:34.761Z"
   },
   {
    "duration": 82,
    "start_time": "2022-05-27T04:07:37.175Z"
   },
   {
    "duration": 223,
    "start_time": "2022-05-27T04:07:40.701Z"
   },
   {
    "duration": 42,
    "start_time": "2022-05-27T04:07:42.723Z"
   },
   {
    "duration": 214,
    "start_time": "2022-05-27T04:07:46.948Z"
   },
   {
    "duration": 152,
    "start_time": "2022-05-27T04:07:48.144Z"
   },
   {
    "duration": 55,
    "start_time": "2022-05-27T04:08:19.203Z"
   },
   {
    "duration": 4,
    "start_time": "2022-05-27T04:08:49.701Z"
   },
   {
    "duration": 24,
    "start_time": "2022-05-27T04:08:49.912Z"
   },
   {
    "duration": 10,
    "start_time": "2022-05-27T04:09:02.220Z"
   },
   {
    "duration": 8,
    "start_time": "2022-05-27T04:09:02.667Z"
   },
   {
    "duration": 16,
    "start_time": "2022-05-27T04:09:03.728Z"
   },
   {
    "duration": 147,
    "start_time": "2022-05-27T04:09:16.958Z"
   },
   {
    "duration": 24,
    "start_time": "2022-05-27T04:09:19.777Z"
   },
   {
    "duration": 150,
    "start_time": "2022-05-27T04:09:52.572Z"
   },
   {
    "duration": 51,
    "start_time": "2022-05-27T04:09:53.906Z"
   },
   {
    "duration": 162,
    "start_time": "2022-05-27T04:09:56.460Z"
   },
   {
    "duration": 22,
    "start_time": "2022-05-27T04:10:00.447Z"
   },
   {
    "duration": 18,
    "start_time": "2022-05-27T04:10:32.556Z"
   },
   {
    "duration": 595,
    "start_time": "2022-05-27T04:11:17.987Z"
   },
   {
    "duration": 6,
    "start_time": "2022-05-27T04:15:51.935Z"
   },
   {
    "duration": 978,
    "start_time": "2022-05-27T04:15:51.944Z"
   },
   {
    "duration": 137,
    "start_time": "2022-05-27T04:15:52.924Z"
   },
   {
    "duration": 3,
    "start_time": "2022-05-27T04:15:53.063Z"
   },
   {
    "duration": 295,
    "start_time": "2022-05-27T04:15:53.068Z"
   },
   {
    "duration": 31,
    "start_time": "2022-05-27T04:15:53.364Z"
   },
   {
    "duration": 276,
    "start_time": "2022-05-27T04:15:53.397Z"
   },
   {
    "duration": 72,
    "start_time": "2022-05-27T04:15:53.676Z"
   },
   {
    "duration": 32,
    "start_time": "2022-05-27T04:15:53.751Z"
   },
   {
    "duration": 25,
    "start_time": "2022-05-27T04:15:53.784Z"
   },
   {
    "duration": 52,
    "start_time": "2022-05-27T04:15:53.811Z"
   },
   {
    "duration": 3824,
    "start_time": "2022-05-27T04:15:53.865Z"
   },
   {
    "duration": 123,
    "start_time": "2022-05-27T04:15:57.691Z"
   },
   {
    "duration": 404,
    "start_time": "2022-05-27T04:15:57.815Z"
   },
   {
    "duration": 96,
    "start_time": "2022-05-27T04:15:58.221Z"
   },
   {
    "duration": 46515,
    "start_time": "2022-05-27T04:15:58.328Z"
   },
   {
    "duration": 576,
    "start_time": "2022-05-27T04:16:44.844Z"
   },
   {
    "duration": 346,
    "start_time": "2022-05-27T04:16:45.426Z"
   },
   {
    "duration": 137,
    "start_time": "2022-05-27T04:16:45.774Z"
   },
   {
    "duration": 82,
    "start_time": "2022-05-27T04:16:45.913Z"
   },
   {
    "duration": 194,
    "start_time": "2022-05-27T04:16:45.997Z"
   },
   {
    "duration": 35,
    "start_time": "2022-05-27T04:16:46.193Z"
   },
   {
    "duration": 238,
    "start_time": "2022-05-27T04:16:46.230Z"
   },
   {
    "duration": 136,
    "start_time": "2022-05-27T04:16:46.472Z"
   },
   {
    "duration": 60,
    "start_time": "2022-05-27T04:16:46.610Z"
   },
   {
    "duration": 4,
    "start_time": "2022-05-27T04:16:46.672Z"
   },
   {
    "duration": 23,
    "start_time": "2022-05-27T04:16:46.677Z"
   },
   {
    "duration": 31,
    "start_time": "2022-05-27T04:16:46.701Z"
   },
   {
    "duration": 6,
    "start_time": "2022-05-27T04:16:46.734Z"
   },
   {
    "duration": 17,
    "start_time": "2022-05-27T04:16:46.741Z"
   },
   {
    "duration": 161,
    "start_time": "2022-05-27T04:16:46.759Z"
   },
   {
    "duration": 25,
    "start_time": "2022-05-27T04:16:46.927Z"
   },
   {
    "duration": 168,
    "start_time": "2022-05-27T04:16:46.954Z"
   },
   {
    "duration": 46,
    "start_time": "2022-05-27T04:16:47.127Z"
   },
   {
    "duration": 187,
    "start_time": "2022-05-27T04:16:47.175Z"
   },
   {
    "duration": 23,
    "start_time": "2022-05-27T04:16:47.364Z"
   },
   {
    "duration": 17,
    "start_time": "2022-05-27T04:16:47.389Z"
   },
   {
    "duration": 562,
    "start_time": "2022-05-27T04:16:47.408Z"
   },
   {
    "duration": 85,
    "start_time": "2022-05-27T04:16:47.971Z"
   },
   {
    "duration": 1782,
    "start_time": "2022-05-27T14:45:42.807Z"
   },
   {
    "duration": 1480,
    "start_time": "2022-05-27T14:45:44.591Z"
   },
   {
    "duration": 136,
    "start_time": "2022-05-27T14:45:46.073Z"
   },
   {
    "duration": 3,
    "start_time": "2022-05-27T14:45:46.212Z"
   },
   {
    "duration": 383,
    "start_time": "2022-05-27T14:45:46.237Z"
   },
   {
    "duration": 45,
    "start_time": "2022-05-27T14:45:46.622Z"
   },
   {
    "duration": 492,
    "start_time": "2022-05-27T14:45:46.668Z"
   },
   {
    "duration": 194,
    "start_time": "2022-05-27T14:45:47.162Z"
   },
   {
    "duration": 96,
    "start_time": "2022-05-27T14:45:47.359Z"
   },
   {
    "duration": 73,
    "start_time": "2022-05-27T14:45:47.458Z"
   },
   {
    "duration": 37,
    "start_time": "2022-05-27T14:45:47.534Z"
   },
   {
    "duration": 4629,
    "start_time": "2022-05-27T14:45:47.573Z"
   },
   {
    "duration": 188,
    "start_time": "2022-05-27T14:45:52.205Z"
   },
   {
    "duration": 421,
    "start_time": "2022-05-27T14:45:52.395Z"
   },
   {
    "duration": 100,
    "start_time": "2022-05-27T14:45:52.818Z"
   },
   {
    "duration": 54372,
    "start_time": "2022-05-27T14:45:52.919Z"
   },
   {
    "duration": 1004,
    "start_time": "2022-05-27T14:46:47.293Z"
   },
   {
    "duration": 193,
    "start_time": "2022-05-27T14:46:48.299Z"
   },
   {
    "duration": 157,
    "start_time": "2022-05-27T14:46:48.494Z"
   },
   {
    "duration": 85,
    "start_time": "2022-05-27T14:46:48.655Z"
   },
   {
    "duration": 205,
    "start_time": "2022-05-27T14:46:48.742Z"
   },
   {
    "duration": 34,
    "start_time": "2022-05-27T14:46:48.949Z"
   },
   {
    "duration": 196,
    "start_time": "2022-05-27T14:46:48.985Z"
   },
   {
    "duration": 175,
    "start_time": "2022-05-27T14:46:49.183Z"
   },
   {
    "duration": 58,
    "start_time": "2022-05-27T14:46:49.359Z"
   },
   {
    "duration": 5,
    "start_time": "2022-05-27T14:46:49.426Z"
   },
   {
    "duration": 51,
    "start_time": "2022-05-27T14:46:49.433Z"
   },
   {
    "duration": 13,
    "start_time": "2022-05-27T14:46:49.490Z"
   },
   {
    "duration": 29,
    "start_time": "2022-05-27T14:46:49.505Z"
   },
   {
    "duration": 36,
    "start_time": "2022-05-27T14:46:49.536Z"
   },
   {
    "duration": 210,
    "start_time": "2022-05-27T14:46:49.574Z"
   },
   {
    "duration": 30,
    "start_time": "2022-05-27T14:46:49.786Z"
   },
   {
    "duration": 169,
    "start_time": "2022-05-27T14:46:49.828Z"
   },
   {
    "duration": 56,
    "start_time": "2022-05-27T14:46:49.999Z"
   },
   {
    "duration": 192,
    "start_time": "2022-05-27T14:46:50.057Z"
   },
   {
    "duration": 32,
    "start_time": "2022-05-27T14:46:50.251Z"
   },
   {
    "duration": 19,
    "start_time": "2022-05-27T14:46:50.285Z"
   },
   {
    "duration": 592,
    "start_time": "2022-05-27T14:46:50.306Z"
   },
   {
    "duration": 88,
    "start_time": "2022-05-27T14:46:50.900Z"
   },
   {
    "duration": 467,
    "start_time": "2022-05-27T14:46:50.989Z"
   },
   {
    "duration": 4782,
    "start_time": "2022-05-27T14:46:51.458Z"
   },
   {
    "duration": 0,
    "start_time": "2022-05-27T14:46:56.243Z"
   },
   {
    "duration": 0,
    "start_time": "2022-05-27T14:46:56.243Z"
   },
   {
    "duration": 0,
    "start_time": "2022-05-27T14:46:56.244Z"
   },
   {
    "duration": 0,
    "start_time": "2022-05-27T14:46:56.245Z"
   },
   {
    "duration": 0,
    "start_time": "2022-05-27T14:46:56.249Z"
   },
   {
    "duration": 0,
    "start_time": "2022-05-27T14:46:56.250Z"
   },
   {
    "duration": 0,
    "start_time": "2022-05-27T14:46:56.250Z"
   },
   {
    "duration": 0,
    "start_time": "2022-05-27T14:46:56.253Z"
   },
   {
    "duration": 0,
    "start_time": "2022-05-27T14:46:56.254Z"
   },
   {
    "duration": 0,
    "start_time": "2022-05-27T14:46:56.256Z"
   },
   {
    "duration": 0,
    "start_time": "2022-05-27T14:46:56.258Z"
   },
   {
    "duration": 0,
    "start_time": "2022-05-27T14:46:56.260Z"
   },
   {
    "duration": 0,
    "start_time": "2022-05-27T14:46:56.261Z"
   },
   {
    "duration": 0,
    "start_time": "2022-05-27T14:46:56.262Z"
   },
   {
    "duration": 0,
    "start_time": "2022-05-27T14:46:56.264Z"
   },
   {
    "duration": 0,
    "start_time": "2022-05-27T14:46:56.265Z"
   },
   {
    "duration": 0,
    "start_time": "2022-05-27T14:46:56.267Z"
   },
   {
    "duration": 13,
    "start_time": "2022-05-27T14:47:49.508Z"
   },
   {
    "duration": 8,
    "start_time": "2022-05-27T14:47:51.611Z"
   },
   {
    "duration": 5,
    "start_time": "2022-05-27T14:48:01.675Z"
   },
   {
    "duration": 1203,
    "start_time": "2022-05-27T14:48:01.682Z"
   },
   {
    "duration": 160,
    "start_time": "2022-05-27T14:48:02.887Z"
   },
   {
    "duration": 9,
    "start_time": "2022-05-27T14:48:03.049Z"
   },
   {
    "duration": 357,
    "start_time": "2022-05-27T14:48:03.060Z"
   },
   {
    "duration": 49,
    "start_time": "2022-05-27T14:48:03.418Z"
   },
   {
    "duration": 357,
    "start_time": "2022-05-27T14:48:03.469Z"
   },
   {
    "duration": 83,
    "start_time": "2022-05-27T14:48:03.835Z"
   },
   {
    "duration": 52,
    "start_time": "2022-05-27T14:48:03.922Z"
   },
   {
    "duration": 30,
    "start_time": "2022-05-27T14:48:03.976Z"
   },
   {
    "duration": 30,
    "start_time": "2022-05-27T14:48:04.008Z"
   },
   {
    "duration": 4211,
    "start_time": "2022-05-27T14:48:04.040Z"
   },
   {
    "duration": 138,
    "start_time": "2022-05-27T14:48:08.253Z"
   },
   {
    "duration": 542,
    "start_time": "2022-05-27T14:48:08.393Z"
   },
   {
    "duration": 117,
    "start_time": "2022-05-27T14:48:08.942Z"
   },
   {
    "duration": 55448,
    "start_time": "2022-05-27T14:48:09.061Z"
   },
   {
    "duration": 705,
    "start_time": "2022-05-27T14:49:04.514Z"
   },
   {
    "duration": 526,
    "start_time": "2022-05-27T14:49:05.221Z"
   },
   {
    "duration": 199,
    "start_time": "2022-05-27T14:49:05.749Z"
   },
   {
    "duration": 83,
    "start_time": "2022-05-27T14:49:05.951Z"
   },
   {
    "duration": 281,
    "start_time": "2022-05-27T14:49:06.038Z"
   },
   {
    "duration": 54,
    "start_time": "2022-05-27T14:49:06.321Z"
   },
   {
    "duration": 270,
    "start_time": "2022-05-27T14:49:06.380Z"
   },
   {
    "duration": 177,
    "start_time": "2022-05-27T14:49:06.655Z"
   },
   {
    "duration": 33,
    "start_time": "2022-05-27T14:49:06.834Z"
   },
   {
    "duration": 37,
    "start_time": "2022-05-27T14:49:13.155Z"
   },
   {
    "duration": 5,
    "start_time": "2022-05-27T14:49:14.683Z"
   },
   {
    "duration": 30,
    "start_time": "2022-05-27T14:49:20.845Z"
   },
   {
    "duration": 121246,
    "start_time": "2022-05-27T14:50:02.011Z"
   },
   {
    "duration": 0,
    "start_time": "2022-05-27T14:52:13.688Z"
   },
   {
    "duration": 31,
    "start_time": "2022-05-27T14:52:14.898Z"
   },
   {
    "duration": 7,
    "start_time": "2022-05-27T14:55:51.447Z"
   },
   {
    "duration": 1145,
    "start_time": "2022-05-27T14:55:51.456Z"
   },
   {
    "duration": 172,
    "start_time": "2022-05-27T14:55:52.602Z"
   },
   {
    "duration": 11,
    "start_time": "2022-05-27T14:55:52.776Z"
   },
   {
    "duration": 310,
    "start_time": "2022-05-27T14:55:52.790Z"
   },
   {
    "duration": 33,
    "start_time": "2022-05-27T14:55:53.102Z"
   },
   {
    "duration": 319,
    "start_time": "2022-05-27T14:55:53.136Z"
   },
   {
    "duration": 70,
    "start_time": "2022-05-27T14:55:53.457Z"
   },
   {
    "duration": 42,
    "start_time": "2022-05-27T14:55:53.529Z"
   },
   {
    "duration": 27,
    "start_time": "2022-05-27T14:55:53.573Z"
   },
   {
    "duration": 14,
    "start_time": "2022-05-27T14:55:53.602Z"
   },
   {
    "duration": 3774,
    "start_time": "2022-05-27T14:55:53.618Z"
   },
   {
    "duration": 119,
    "start_time": "2022-05-27T14:55:57.395Z"
   },
   {
    "duration": 538,
    "start_time": "2022-05-27T14:55:57.516Z"
   },
   {
    "duration": 122,
    "start_time": "2022-05-27T14:55:58.055Z"
   },
   {
    "duration": 55264,
    "start_time": "2022-05-27T14:55:58.183Z"
   },
   {
    "duration": 741,
    "start_time": "2022-05-27T14:56:53.450Z"
   },
   {
    "duration": 213,
    "start_time": "2022-05-27T14:56:54.193Z"
   },
   {
    "duration": 180,
    "start_time": "2022-05-27T14:56:54.408Z"
   },
   {
    "duration": 88,
    "start_time": "2022-05-27T14:56:54.590Z"
   },
   {
    "duration": 256,
    "start_time": "2022-05-27T14:56:54.680Z"
   },
   {
    "duration": 30,
    "start_time": "2022-05-27T14:56:54.939Z"
   },
   {
    "duration": 558,
    "start_time": "2022-05-27T14:56:54.971Z"
   },
   {
    "duration": 330,
    "start_time": "2022-05-27T14:56:55.531Z"
   },
   {
    "duration": 84,
    "start_time": "2022-05-27T14:56:55.863Z"
   },
   {
    "duration": 9,
    "start_time": "2022-05-27T14:56:55.950Z"
   },
   {
    "duration": 80,
    "start_time": "2022-05-27T14:56:55.961Z"
   },
   {
    "duration": 28115,
    "start_time": "2022-05-27T14:56:56.044Z"
   },
   {
    "duration": 25,
    "start_time": "2022-05-27T14:57:24.161Z"
   },
   {
    "duration": 20,
    "start_time": "2022-05-27T14:57:24.187Z"
   },
   {
    "duration": 42,
    "start_time": "2022-05-27T14:57:24.209Z"
   },
   {
    "duration": 176,
    "start_time": "2022-05-27T14:57:24.254Z"
   },
   {
    "duration": 37,
    "start_time": "2022-05-27T14:57:24.435Z"
   },
   {
    "duration": 115,
    "start_time": "2022-05-27T14:57:26.042Z"
   },
   {
    "duration": 28,
    "start_time": "2022-05-27T14:57:41.697Z"
   },
   {
    "duration": 7,
    "start_time": "2022-05-27T14:57:53.344Z"
   },
   {
    "duration": 1252,
    "start_time": "2022-05-27T14:57:53.355Z"
   },
   {
    "duration": 167,
    "start_time": "2022-05-27T14:57:54.609Z"
   },
   {
    "duration": 19,
    "start_time": "2022-05-27T14:57:54.780Z"
   },
   {
    "duration": 378,
    "start_time": "2022-05-27T14:57:54.803Z"
   },
   {
    "duration": 51,
    "start_time": "2022-05-27T14:57:55.184Z"
   },
   {
    "duration": 287,
    "start_time": "2022-05-27T14:57:55.237Z"
   },
   {
    "duration": 102,
    "start_time": "2022-05-27T14:57:55.530Z"
   },
   {
    "duration": 49,
    "start_time": "2022-05-27T14:57:55.635Z"
   },
   {
    "duration": 45,
    "start_time": "2022-05-27T14:57:55.686Z"
   },
   {
    "duration": 39,
    "start_time": "2022-05-27T14:57:55.734Z"
   },
   {
    "duration": 4425,
    "start_time": "2022-05-27T14:57:55.776Z"
   },
   {
    "duration": 203,
    "start_time": "2022-05-27T14:58:00.203Z"
   },
   {
    "duration": 629,
    "start_time": "2022-05-27T14:58:00.412Z"
   },
   {
    "duration": 137,
    "start_time": "2022-05-27T14:58:01.044Z"
   },
   {
    "duration": 52795,
    "start_time": "2022-05-27T14:58:01.183Z"
   },
   {
    "duration": 617,
    "start_time": "2022-05-27T14:58:53.979Z"
   },
   {
    "duration": 191,
    "start_time": "2022-05-27T14:58:54.598Z"
   },
   {
    "duration": 161,
    "start_time": "2022-05-27T14:58:54.791Z"
   },
   {
    "duration": 98,
    "start_time": "2022-05-27T14:58:54.954Z"
   },
   {
    "duration": 301,
    "start_time": "2022-05-27T14:58:55.053Z"
   },
   {
    "duration": 35,
    "start_time": "2022-05-27T14:58:55.356Z"
   },
   {
    "duration": 490,
    "start_time": "2022-05-27T14:58:55.393Z"
   },
   {
    "duration": 348,
    "start_time": "2022-05-27T14:58:55.928Z"
   },
   {
    "duration": 32,
    "start_time": "2022-05-27T14:58:56.278Z"
   },
   {
    "duration": 55,
    "start_time": "2022-05-27T14:58:56.312Z"
   },
   {
    "duration": 41,
    "start_time": "2022-05-27T14:58:56.369Z"
   },
   {
    "duration": 85,
    "start_time": "2022-05-27T14:58:56.412Z"
   },
   {
    "duration": 9,
    "start_time": "2022-05-27T14:58:56.499Z"
   },
   {
    "duration": 48,
    "start_time": "2022-05-27T14:58:56.510Z"
   },
   {
    "duration": 263,
    "start_time": "2022-05-27T14:58:56.560Z"
   },
   {
    "duration": 33,
    "start_time": "2022-05-27T14:58:56.826Z"
   },
   {
    "duration": 178,
    "start_time": "2022-05-27T14:58:56.861Z"
   },
   {
    "duration": 57,
    "start_time": "2022-05-27T14:58:57.041Z"
   },
   {
    "duration": 194,
    "start_time": "2022-05-27T14:58:57.100Z"
   },
   {
    "duration": 41,
    "start_time": "2022-05-27T14:58:57.296Z"
   },
   {
    "duration": 19,
    "start_time": "2022-05-27T14:59:09.191Z"
   },
   {
    "duration": 188,
    "start_time": "2022-05-27T14:59:18.599Z"
   },
   {
    "duration": 189,
    "start_time": "2022-05-27T14:59:25.672Z"
   },
   {
    "duration": 6,
    "start_time": "2022-05-27T14:59:40.751Z"
   },
   {
    "duration": 1113,
    "start_time": "2022-05-27T14:59:40.759Z"
   },
   {
    "duration": 125,
    "start_time": "2022-05-27T14:59:41.874Z"
   },
   {
    "duration": 4,
    "start_time": "2022-05-27T14:59:42.002Z"
   },
   {
    "duration": 321,
    "start_time": "2022-05-27T14:59:42.007Z"
   },
   {
    "duration": 34,
    "start_time": "2022-05-27T14:59:42.330Z"
   },
   {
    "duration": 331,
    "start_time": "2022-05-27T14:59:42.366Z"
   },
   {
    "duration": 73,
    "start_time": "2022-05-27T14:59:42.699Z"
   },
   {
    "duration": 34,
    "start_time": "2022-05-27T14:59:42.776Z"
   },
   {
    "duration": 40,
    "start_time": "2022-05-27T14:59:42.812Z"
   },
   {
    "duration": 21,
    "start_time": "2022-05-27T14:59:42.854Z"
   },
   {
    "duration": 4094,
    "start_time": "2022-05-27T14:59:42.878Z"
   },
   {
    "duration": 186,
    "start_time": "2022-05-27T14:59:46.975Z"
   },
   {
    "duration": 542,
    "start_time": "2022-05-27T14:59:47.164Z"
   },
   {
    "duration": 120,
    "start_time": "2022-05-27T14:59:47.710Z"
   },
   {
    "duration": 9018,
    "start_time": "2022-05-27T14:59:47.832Z"
   },
   {
    "duration": 682,
    "start_time": "2022-05-27T14:59:56.851Z"
   },
   {
    "duration": 183,
    "start_time": "2022-05-27T14:59:57.535Z"
   },
   {
    "duration": 165,
    "start_time": "2022-05-27T14:59:57.721Z"
   },
   {
    "duration": 94,
    "start_time": "2022-05-27T14:59:57.888Z"
   },
   {
    "duration": 240,
    "start_time": "2022-05-27T14:59:57.984Z"
   },
   {
    "duration": 36,
    "start_time": "2022-05-27T14:59:58.227Z"
   },
   {
    "duration": 222,
    "start_time": "2022-05-27T14:59:58.268Z"
   },
   {
    "duration": 171,
    "start_time": "2022-05-27T14:59:58.494Z"
   },
   {
    "duration": 26,
    "start_time": "2022-05-27T14:59:58.670Z"
   },
   {
    "duration": 4,
    "start_time": "2022-05-27T14:59:58.698Z"
   },
   {
    "duration": 45,
    "start_time": "2022-05-27T14:59:58.704Z"
   },
   {
    "duration": 26,
    "start_time": "2022-05-27T14:59:58.751Z"
   },
   {
    "duration": 14,
    "start_time": "2022-05-27T14:59:58.779Z"
   },
   {
    "duration": 23,
    "start_time": "2022-05-27T14:59:58.795Z"
   },
   {
    "duration": 168,
    "start_time": "2022-05-27T14:59:58.820Z"
   },
   {
    "duration": 41,
    "start_time": "2022-05-27T14:59:58.990Z"
   },
   {
    "duration": 215,
    "start_time": "2022-05-27T14:59:59.033Z"
   },
   {
    "duration": 70,
    "start_time": "2022-05-27T14:59:59.250Z"
   },
   {
    "duration": 239,
    "start_time": "2022-05-27T14:59:59.325Z"
   },
   {
    "duration": 16,
    "start_time": "2022-05-27T14:59:59.566Z"
   },
   {
    "duration": 11,
    "start_time": "2022-05-27T15:00:06.547Z"
   },
   {
    "duration": 1470,
    "start_time": "2022-05-27T15:00:06.560Z"
   },
   {
    "duration": 258,
    "start_time": "2022-05-27T15:00:08.034Z"
   },
   {
    "duration": 14,
    "start_time": "2022-05-27T15:00:08.295Z"
   },
   {
    "duration": 826,
    "start_time": "2022-05-27T15:00:08.312Z"
   },
   {
    "duration": 47,
    "start_time": "2022-05-27T15:00:09.141Z"
   },
   {
    "duration": 328,
    "start_time": "2022-05-27T15:00:09.191Z"
   },
   {
    "duration": 66,
    "start_time": "2022-05-27T15:00:09.521Z"
   },
   {
    "duration": 43,
    "start_time": "2022-05-27T15:00:09.589Z"
   },
   {
    "duration": 60,
    "start_time": "2022-05-27T15:00:09.636Z"
   },
   {
    "duration": 21,
    "start_time": "2022-05-27T15:00:09.698Z"
   },
   {
    "duration": 6844,
    "start_time": "2022-05-27T15:00:09.721Z"
   },
   {
    "duration": 378,
    "start_time": "2022-05-27T15:00:16.568Z"
   },
   {
    "duration": 743,
    "start_time": "2022-05-27T15:00:16.950Z"
   },
   {
    "duration": 101,
    "start_time": "2022-05-27T15:00:17.695Z"
   },
   {
    "duration": 698,
    "start_time": "2022-05-27T15:00:17.799Z"
   },
   {
    "duration": 214,
    "start_time": "2022-05-27T15:00:18.501Z"
   },
   {
    "duration": 193,
    "start_time": "2022-05-27T15:00:18.717Z"
   },
   {
    "duration": 113,
    "start_time": "2022-05-27T15:00:18.912Z"
   },
   {
    "duration": 257,
    "start_time": "2022-05-27T15:00:19.027Z"
   },
   {
    "duration": 41,
    "start_time": "2022-05-27T15:00:19.286Z"
   },
   {
    "duration": 243,
    "start_time": "2022-05-27T15:00:19.332Z"
   },
   {
    "duration": 182,
    "start_time": "2022-05-27T15:00:19.578Z"
   },
   {
    "duration": 32,
    "start_time": "2022-05-27T15:00:19.761Z"
   },
   {
    "duration": 5,
    "start_time": "2022-05-27T15:00:19.795Z"
   },
   {
    "duration": 42,
    "start_time": "2022-05-27T15:00:19.801Z"
   },
   {
    "duration": 29,
    "start_time": "2022-05-27T15:00:19.845Z"
   },
   {
    "duration": 18,
    "start_time": "2022-05-27T15:00:19.876Z"
   },
   {
    "duration": 18,
    "start_time": "2022-05-27T15:00:19.896Z"
   },
   {
    "duration": 196,
    "start_time": "2022-05-27T15:00:19.916Z"
   },
   {
    "duration": 38,
    "start_time": "2022-05-27T15:00:20.114Z"
   },
   {
    "duration": 210,
    "start_time": "2022-05-27T15:00:20.155Z"
   },
   {
    "duration": 73,
    "start_time": "2022-05-27T15:00:20.368Z"
   },
   {
    "duration": 218,
    "start_time": "2022-05-27T15:00:20.443Z"
   },
   {
    "duration": 26,
    "start_time": "2022-05-27T15:00:29.407Z"
   },
   {
    "duration": 249,
    "start_time": "2022-05-27T15:00:31.504Z"
   },
   {
    "duration": 208,
    "start_time": "2022-05-27T15:00:53.783Z"
   },
   {
    "duration": 22,
    "start_time": "2022-05-27T15:01:09.097Z"
   },
   {
    "duration": 29,
    "start_time": "2022-05-27T15:01:36.742Z"
   },
   {
    "duration": 27,
    "start_time": "2022-05-27T15:01:45.544Z"
   },
   {
    "duration": 29,
    "start_time": "2022-05-27T15:01:49.451Z"
   },
   {
    "duration": 25,
    "start_time": "2022-05-27T15:02:51.215Z"
   },
   {
    "duration": 28,
    "start_time": "2022-05-27T15:03:16.094Z"
   },
   {
    "duration": 26,
    "start_time": "2022-05-27T15:05:01.656Z"
   },
   {
    "duration": 31,
    "start_time": "2022-05-27T15:05:10.989Z"
   },
   {
    "duration": 150,
    "start_time": "2022-05-27T15:05:12.805Z"
   },
   {
    "duration": 9,
    "start_time": "2022-05-27T15:05:14.006Z"
   },
   {
    "duration": 21,
    "start_time": "2022-05-27T15:05:16.670Z"
   },
   {
    "duration": 16,
    "start_time": "2022-05-27T15:05:27.501Z"
   },
   {
    "duration": 613,
    "start_time": "2022-05-27T15:07:56.477Z"
   },
   {
    "duration": 80,
    "start_time": "2022-05-27T15:09:02.727Z"
   },
   {
    "duration": 385,
    "start_time": "2022-05-27T15:10:54.956Z"
   },
   {
    "duration": 4613,
    "start_time": "2022-05-27T15:13:10.699Z"
   },
   {
    "duration": 5,
    "start_time": "2022-05-27T15:13:19.429Z"
   },
   {
    "duration": 370,
    "start_time": "2022-05-27T15:13:22.634Z"
   },
   {
    "duration": 113,
    "start_time": "2022-05-27T15:13:24.449Z"
   },
   {
    "duration": 85,
    "start_time": "2022-05-27T15:13:50.009Z"
   },
   {
    "duration": 4,
    "start_time": "2022-05-27T15:17:07.107Z"
   },
   {
    "duration": 967,
    "start_time": "2022-05-27T15:17:07.113Z"
   },
   {
    "duration": 121,
    "start_time": "2022-05-27T15:17:08.081Z"
   },
   {
    "duration": 3,
    "start_time": "2022-05-27T15:17:08.204Z"
   },
   {
    "duration": 277,
    "start_time": "2022-05-27T15:17:08.209Z"
   },
   {
    "duration": 39,
    "start_time": "2022-05-27T15:17:08.488Z"
   },
   {
    "duration": 265,
    "start_time": "2022-05-27T15:17:08.529Z"
   },
   {
    "duration": 68,
    "start_time": "2022-05-27T15:17:08.795Z"
   },
   {
    "duration": 30,
    "start_time": "2022-05-27T15:17:08.865Z"
   },
   {
    "duration": 35,
    "start_time": "2022-05-27T15:17:08.897Z"
   },
   {
    "duration": 14,
    "start_time": "2022-05-27T15:17:08.934Z"
   },
   {
    "duration": 3493,
    "start_time": "2022-05-27T15:17:08.950Z"
   },
   {
    "duration": 111,
    "start_time": "2022-05-27T15:17:12.445Z"
   },
   {
    "duration": 483,
    "start_time": "2022-05-27T15:17:12.558Z"
   },
   {
    "duration": 101,
    "start_time": "2022-05-27T15:17:13.043Z"
   },
   {
    "duration": 605,
    "start_time": "2022-05-27T15:17:13.146Z"
   },
   {
    "duration": 196,
    "start_time": "2022-05-27T15:17:13.753Z"
   },
   {
    "duration": 157,
    "start_time": "2022-05-27T15:17:13.950Z"
   },
   {
    "duration": 85,
    "start_time": "2022-05-27T15:17:14.109Z"
   },
   {
    "duration": 204,
    "start_time": "2022-05-27T15:17:14.196Z"
   },
   {
    "duration": 43,
    "start_time": "2022-05-27T15:17:14.402Z"
   },
   {
    "duration": 266,
    "start_time": "2022-05-27T15:17:14.447Z"
   },
   {
    "duration": 184,
    "start_time": "2022-05-27T15:17:14.715Z"
   },
   {
    "duration": 43,
    "start_time": "2022-05-27T15:17:14.903Z"
   },
   {
    "duration": 5,
    "start_time": "2022-05-27T15:17:14.949Z"
   },
   {
    "duration": 36,
    "start_time": "2022-05-27T15:17:14.956Z"
   },
   {
    "duration": 58,
    "start_time": "2022-05-27T15:17:14.995Z"
   },
   {
    "duration": 20,
    "start_time": "2022-05-27T15:17:15.055Z"
   },
   {
    "duration": 45,
    "start_time": "2022-05-27T15:17:15.077Z"
   },
   {
    "duration": 186,
    "start_time": "2022-05-27T15:17:15.124Z"
   },
   {
    "duration": 40,
    "start_time": "2022-05-27T15:17:15.313Z"
   },
   {
    "duration": 201,
    "start_time": "2022-05-27T15:17:15.356Z"
   },
   {
    "duration": 48,
    "start_time": "2022-05-27T15:17:15.559Z"
   },
   {
    "duration": 311,
    "start_time": "2022-05-27T15:17:15.608Z"
   },
   {
    "duration": 30,
    "start_time": "2022-05-27T15:17:15.920Z"
   },
   {
    "duration": 167,
    "start_time": "2022-05-27T15:17:15.951Z"
   },
   {
    "duration": 15,
    "start_time": "2022-05-27T15:17:16.119Z"
   },
   {
    "duration": 17,
    "start_time": "2022-05-27T15:17:16.136Z"
   },
   {
    "duration": 630,
    "start_time": "2022-05-27T15:17:16.155Z"
   },
   {
    "duration": 75,
    "start_time": "2022-05-27T15:17:16.787Z"
   },
   {
    "duration": 539,
    "start_time": "2022-05-27T15:17:19.991Z"
   },
   {
    "duration": 4875,
    "start_time": "2022-05-27T15:17:21.968Z"
   },
   {
    "duration": 5,
    "start_time": "2022-05-27T15:17:28.616Z"
   },
   {
    "duration": 384,
    "start_time": "2022-05-27T15:17:31.145Z"
   },
   {
    "duration": 94,
    "start_time": "2022-05-27T15:17:33.216Z"
   },
   {
    "duration": 74,
    "start_time": "2022-05-27T15:18:20.145Z"
   },
   {
    "duration": 5,
    "start_time": "2022-05-27T15:18:27.274Z"
   },
   {
    "duration": 411,
    "start_time": "2022-05-27T15:18:28.090Z"
   },
   {
    "duration": 85,
    "start_time": "2022-05-27T15:18:30.489Z"
   },
   {
    "duration": 10,
    "start_time": "2022-05-27T15:18:44.010Z"
   },
   {
    "duration": 10,
    "start_time": "2022-05-27T15:18:51.498Z"
   },
   {
    "duration": 5,
    "start_time": "2022-05-27T15:19:40.730Z"
   },
   {
    "duration": 353,
    "start_time": "2022-05-27T15:19:41.793Z"
   },
   {
    "duration": 88,
    "start_time": "2022-05-27T15:19:48.898Z"
   },
   {
    "duration": 3,
    "start_time": "2022-05-27T15:19:50.905Z"
   },
   {
    "duration": 287093,
    "start_time": "2022-05-27T15:19:52.297Z"
   },
   {
    "duration": 4,
    "start_time": "2022-05-27T15:27:02.962Z"
   },
   {
    "duration": 8870,
    "start_time": "2022-05-27T15:27:06.265Z"
   },
   {
    "duration": 2168,
    "start_time": "2022-05-27T15:27:50.210Z"
   },
   {
    "duration": 2333,
    "start_time": "2022-05-27T15:28:00.334Z"
   },
   {
    "duration": 94,
    "start_time": "2022-05-27T15:28:40.647Z"
   },
   {
    "duration": 555,
    "start_time": "2022-05-27T15:28:44.002Z"
   },
   {
    "duration": 4996,
    "start_time": "2022-05-27T15:28:46.255Z"
   },
   {
    "duration": 4,
    "start_time": "2022-05-27T15:28:55.905Z"
   },
   {
    "duration": 368,
    "start_time": "2022-05-27T15:28:58.402Z"
   },
   {
    "duration": 94,
    "start_time": "2022-05-27T15:29:00.473Z"
   },
   {
    "duration": 5,
    "start_time": "2022-05-27T15:29:04.858Z"
   },
   {
    "duration": 156339,
    "start_time": "2022-05-27T15:29:05.377Z"
   },
   {
    "duration": 23,
    "start_time": "2022-05-27T15:31:41.718Z"
   },
   {
    "duration": 0,
    "start_time": "2022-05-27T15:31:41.747Z"
   },
   {
    "duration": 0,
    "start_time": "2022-05-27T15:31:41.748Z"
   },
   {
    "duration": 37,
    "start_time": "2022-05-27T15:32:10.970Z"
   },
   {
    "duration": 25,
    "start_time": "2022-05-27T15:32:13.942Z"
   },
   {
    "duration": 454,
    "start_time": "2022-05-27T15:32:17.777Z"
   },
   {
    "duration": 4571,
    "start_time": "2022-05-27T15:32:38.305Z"
   },
   {
    "duration": 6,
    "start_time": "2022-05-27T15:32:45.839Z"
   },
   {
    "duration": 354,
    "start_time": "2022-05-27T15:32:57.646Z"
   },
   {
    "duration": 390,
    "start_time": "2022-05-27T15:33:07.689Z"
   },
   {
    "duration": 89,
    "start_time": "2022-05-27T15:33:20.241Z"
   },
   {
    "duration": 4,
    "start_time": "2022-05-27T15:33:22.473Z"
   },
   {
    "duration": 325334,
    "start_time": "2022-05-27T15:33:23.875Z"
   },
   {
    "duration": 4,
    "start_time": "2022-05-27T15:38:49.211Z"
   },
   {
    "duration": 10872,
    "start_time": "2022-05-27T15:40:07.272Z"
   },
   {
    "duration": 2876,
    "start_time": "2022-05-27T15:40:19.208Z"
   },
   {
    "duration": 4,
    "start_time": "2022-05-27T15:42:25.191Z"
   },
   {
    "duration": 850525,
    "start_time": "2022-05-27T15:42:26.200Z"
   },
   {
    "duration": 6,
    "start_time": "2022-05-27T15:56:54.383Z"
   },
   {
    "duration": 4663,
    "start_time": "2022-05-27T15:56:58.695Z"
   },
   {
    "duration": 5,
    "start_time": "2022-05-27T15:57:40.590Z"
   },
   {
    "duration": 3,
    "start_time": "2022-05-27T15:57:44.255Z"
   },
   {
    "duration": 88,
    "start_time": "2022-05-27T15:57:57.382Z"
   },
   {
    "duration": 6,
    "start_time": "2022-05-27T15:58:55.154Z"
   },
   {
    "duration": 489228,
    "start_time": "2022-05-27T15:58:56.275Z"
   },
   {
    "duration": 70,
    "start_time": "2022-05-27T16:08:03.660Z"
   },
   {
    "duration": 17,
    "start_time": "2022-05-27T16:08:07.706Z"
   },
   {
    "duration": 80,
    "start_time": "2022-05-27T16:08:29.393Z"
   },
   {
    "duration": 65,
    "start_time": "2022-05-27T16:08:36.010Z"
   },
   {
    "duration": 17,
    "start_time": "2022-05-27T16:08:41.235Z"
   },
   {
    "duration": 69,
    "start_time": "2022-05-27T16:09:06.056Z"
   },
   {
    "duration": 543,
    "start_time": "2022-05-27T16:09:12.587Z"
   },
   {
    "duration": 4524,
    "start_time": "2022-05-27T16:09:19.648Z"
   },
   {
    "duration": 3,
    "start_time": "2022-05-27T16:09:24.174Z"
   },
   {
    "duration": 362,
    "start_time": "2022-05-27T16:09:25.519Z"
   },
   {
    "duration": 88,
    "start_time": "2022-05-27T16:09:28.792Z"
   },
   {
    "duration": 6,
    "start_time": "2022-05-27T16:10:18.643Z"
   },
   {
    "duration": 948,
    "start_time": "2022-05-27T16:10:18.651Z"
   },
   {
    "duration": 145,
    "start_time": "2022-05-27T16:10:19.601Z"
   },
   {
    "duration": 8,
    "start_time": "2022-05-27T16:10:19.747Z"
   },
   {
    "duration": 296,
    "start_time": "2022-05-27T16:10:19.757Z"
   },
   {
    "duration": 31,
    "start_time": "2022-05-27T16:10:20.055Z"
   },
   {
    "duration": 294,
    "start_time": "2022-05-27T16:10:20.087Z"
   },
   {
    "duration": 86,
    "start_time": "2022-05-27T16:10:20.383Z"
   },
   {
    "duration": 32,
    "start_time": "2022-05-27T16:10:20.471Z"
   },
   {
    "duration": 45,
    "start_time": "2022-05-27T16:10:20.505Z"
   },
   {
    "duration": 26,
    "start_time": "2022-05-27T16:10:20.552Z"
   },
   {
    "duration": 4639,
    "start_time": "2022-05-27T16:10:20.580Z"
   },
   {
    "duration": 134,
    "start_time": "2022-05-27T16:10:25.227Z"
   },
   {
    "duration": 397,
    "start_time": "2022-05-27T16:10:25.363Z"
   },
   {
    "duration": 92,
    "start_time": "2022-05-27T16:10:25.762Z"
   },
   {
    "duration": 691,
    "start_time": "2022-05-27T16:10:25.855Z"
   },
   {
    "duration": 181,
    "start_time": "2022-05-27T16:10:26.548Z"
   },
   {
    "duration": 138,
    "start_time": "2022-05-27T16:10:26.739Z"
   },
   {
    "duration": 85,
    "start_time": "2022-05-27T16:10:26.879Z"
   },
   {
    "duration": 210,
    "start_time": "2022-05-27T16:10:26.966Z"
   },
   {
    "duration": 24,
    "start_time": "2022-05-27T16:10:27.178Z"
   },
   {
    "duration": 253,
    "start_time": "2022-05-27T16:10:27.204Z"
   },
   {
    "duration": 152,
    "start_time": "2022-05-27T16:10:27.459Z"
   },
   {
    "duration": 41,
    "start_time": "2022-05-27T16:10:27.612Z"
   },
   {
    "duration": 6,
    "start_time": "2022-05-27T16:10:27.655Z"
   },
   {
    "duration": 48,
    "start_time": "2022-05-27T16:10:27.663Z"
   },
   {
    "duration": 54,
    "start_time": "2022-05-27T16:10:27.713Z"
   },
   {
    "duration": 48,
    "start_time": "2022-05-27T16:10:27.775Z"
   },
   {
    "duration": 37,
    "start_time": "2022-05-27T16:10:27.825Z"
   },
   {
    "duration": 168,
    "start_time": "2022-05-27T16:10:27.864Z"
   },
   {
    "duration": 32,
    "start_time": "2022-05-27T16:10:28.036Z"
   },
   {
    "duration": 173,
    "start_time": "2022-05-27T16:10:28.071Z"
   },
   {
    "duration": 49,
    "start_time": "2022-05-27T16:10:28.246Z"
   },
   {
    "duration": 174,
    "start_time": "2022-05-27T16:10:28.298Z"
   },
   {
    "duration": 31,
    "start_time": "2022-05-27T16:10:28.474Z"
   },
   {
    "duration": 189,
    "start_time": "2022-05-27T16:10:28.509Z"
   },
   {
    "duration": 8,
    "start_time": "2022-05-27T16:10:28.703Z"
   },
   {
    "duration": 54,
    "start_time": "2022-05-27T16:10:28.712Z"
   },
   {
    "duration": 677,
    "start_time": "2022-05-27T16:10:28.768Z"
   },
   {
    "duration": 73,
    "start_time": "2022-05-27T16:10:29.447Z"
   },
   {
    "duration": 804,
    "start_time": "2022-05-27T16:10:29.528Z"
   },
   {
    "duration": 4631,
    "start_time": "2022-05-27T16:10:30.341Z"
   },
   {
    "duration": 353,
    "start_time": "2022-05-27T16:10:34.974Z"
   },
   {
    "duration": 0,
    "start_time": "2022-05-27T16:10:35.331Z"
   },
   {
    "duration": 0,
    "start_time": "2022-05-27T16:10:35.335Z"
   },
   {
    "duration": 0,
    "start_time": "2022-05-27T16:10:35.336Z"
   },
   {
    "duration": 0,
    "start_time": "2022-05-27T16:10:35.337Z"
   },
   {
    "duration": 0,
    "start_time": "2022-05-27T16:10:35.338Z"
   },
   {
    "duration": 0,
    "start_time": "2022-05-27T16:10:35.339Z"
   },
   {
    "duration": 0,
    "start_time": "2022-05-27T16:10:35.340Z"
   },
   {
    "duration": 0,
    "start_time": "2022-05-27T16:10:35.343Z"
   },
   {
    "duration": 0,
    "start_time": "2022-05-27T16:10:35.345Z"
   },
   {
    "duration": 0,
    "start_time": "2022-05-27T16:10:35.348Z"
   },
   {
    "duration": 0,
    "start_time": "2022-05-27T16:10:35.348Z"
   },
   {
    "duration": 0,
    "start_time": "2022-05-27T16:10:35.350Z"
   },
   {
    "duration": 0,
    "start_time": "2022-05-27T16:10:35.351Z"
   },
   {
    "duration": 0,
    "start_time": "2022-05-27T16:10:35.351Z"
   },
   {
    "duration": 0,
    "start_time": "2022-05-27T16:10:35.352Z"
   },
   {
    "duration": 4,
    "start_time": "2022-05-27T16:10:41.287Z"
   },
   {
    "duration": 374,
    "start_time": "2022-05-27T16:10:42.159Z"
   },
   {
    "duration": 94,
    "start_time": "2022-05-27T16:10:44.302Z"
   },
   {
    "duration": 2,
    "start_time": "2022-05-27T16:11:42.694Z"
   },
   {
    "duration": 289397,
    "start_time": "2022-05-27T16:11:43.310Z"
   },
   {
    "duration": 3,
    "start_time": "2022-05-27T16:16:32.709Z"
   },
   {
    "duration": 8668,
    "start_time": "2022-05-27T16:16:32.726Z"
   },
   {
    "duration": 2200,
    "start_time": "2022-05-27T16:16:41.397Z"
   },
   {
    "duration": 3,
    "start_time": "2022-05-27T16:16:43.598Z"
   },
   {
    "duration": 770899,
    "start_time": "2022-05-27T16:16:43.603Z"
   },
   {
    "duration": 5,
    "start_time": "2022-05-27T16:29:34.504Z"
   },
   {
    "duration": 4370,
    "start_time": "2022-05-27T16:29:34.510Z"
   },
   {
    "duration": 3,
    "start_time": "2022-05-27T16:29:38.881Z"
   },
   {
    "duration": 3715078,
    "start_time": "2022-05-27T16:29:38.886Z"
   },
   {
    "duration": 15,
    "start_time": "2022-05-27T17:31:33.967Z"
   },
   {
    "duration": 0,
    "start_time": "2022-05-27T17:31:33.985Z"
   },
   {
    "duration": 4,
    "start_time": "2022-05-27T17:31:34.746Z"
   },
   {
    "duration": 1499477,
    "start_time": "2022-05-27T17:31:35.034Z"
   },
   {
    "duration": 11,
    "start_time": "2022-05-27T17:56:34.513Z"
   },
   {
    "duration": 3,
    "start_time": "2022-05-27T17:56:40.011Z"
   },
   {
    "duration": 716466,
    "start_time": "2022-05-27T17:56:40.453Z"
   },
   {
    "duration": 18,
    "start_time": "2022-05-27T18:08:36.921Z"
   },
   {
    "duration": 3,
    "start_time": "2022-05-27T18:11:39.372Z"
   },
   {
    "duration": 5,
    "start_time": "2022-05-27T18:11:41.311Z"
   },
   {
    "duration": 1248,
    "start_time": "2022-05-27T18:11:41.319Z"
   },
   {
    "duration": 149,
    "start_time": "2022-05-27T18:11:42.569Z"
   },
   {
    "duration": 4,
    "start_time": "2022-05-27T18:11:42.720Z"
   },
   {
    "duration": 378,
    "start_time": "2022-05-27T18:11:42.725Z"
   },
   {
    "duration": 50,
    "start_time": "2022-05-27T18:11:43.106Z"
   },
   {
    "duration": 412,
    "start_time": "2022-05-27T18:11:43.158Z"
   },
   {
    "duration": 86,
    "start_time": "2022-05-27T18:11:43.572Z"
   },
   {
    "duration": 39,
    "start_time": "2022-05-27T18:11:43.662Z"
   },
   {
    "duration": 18,
    "start_time": "2022-05-27T18:11:43.703Z"
   },
   {
    "duration": 32,
    "start_time": "2022-05-27T18:11:43.724Z"
   },
   {
    "duration": 6430,
    "start_time": "2022-05-27T18:11:43.758Z"
   },
   {
    "duration": 198,
    "start_time": "2022-05-27T18:11:50.191Z"
   },
   {
    "duration": 580,
    "start_time": "2022-05-27T18:11:50.391Z"
   },
   {
    "duration": 111,
    "start_time": "2022-05-27T18:11:50.975Z"
   },
   {
    "duration": 683,
    "start_time": "2022-05-27T18:11:51.089Z"
   },
   {
    "duration": 212,
    "start_time": "2022-05-27T18:11:51.774Z"
   },
   {
    "duration": 194,
    "start_time": "2022-05-27T18:11:51.988Z"
   },
   {
    "duration": 84,
    "start_time": "2022-05-27T18:11:52.183Z"
   },
   {
    "duration": 248,
    "start_time": "2022-05-27T18:11:52.269Z"
   },
   {
    "duration": 35,
    "start_time": "2022-05-27T18:11:52.519Z"
   },
   {
    "duration": 273,
    "start_time": "2022-05-27T18:11:52.558Z"
   },
   {
    "duration": 167,
    "start_time": "2022-05-27T18:11:52.836Z"
   },
   {
    "duration": 40,
    "start_time": "2022-05-27T18:11:53.008Z"
   },
   {
    "duration": 6,
    "start_time": "2022-05-27T18:11:53.052Z"
   },
   {
    "duration": 47,
    "start_time": "2022-05-27T18:11:53.062Z"
   },
   {
    "duration": 28,
    "start_time": "2022-05-27T18:11:53.112Z"
   },
   {
    "duration": 57,
    "start_time": "2022-05-27T18:11:53.142Z"
   },
   {
    "duration": 16,
    "start_time": "2022-05-27T18:11:53.201Z"
   },
   {
    "duration": 200,
    "start_time": "2022-05-27T18:11:53.220Z"
   },
   {
    "duration": 39,
    "start_time": "2022-05-27T18:11:53.422Z"
   },
   {
    "duration": 351,
    "start_time": "2022-05-27T18:11:53.463Z"
   },
   {
    "duration": 57,
    "start_time": "2022-05-27T18:11:53.816Z"
   },
   {
    "duration": 207,
    "start_time": "2022-05-27T18:11:53.874Z"
   },
   {
    "duration": 25,
    "start_time": "2022-05-27T18:11:54.083Z"
   },
   {
    "duration": 186,
    "start_time": "2022-05-27T18:11:54.110Z"
   },
   {
    "duration": 9,
    "start_time": "2022-05-27T18:11:54.298Z"
   },
   {
    "duration": 44,
    "start_time": "2022-05-27T18:11:54.309Z"
   },
   {
    "duration": 685,
    "start_time": "2022-05-27T18:11:54.355Z"
   },
   {
    "duration": 78,
    "start_time": "2022-05-27T18:11:55.042Z"
   },
   {
    "duration": 312,
    "start_time": "2022-05-27T18:11:55.127Z"
   },
   {
    "duration": 5154,
    "start_time": "2022-05-27T18:11:55.448Z"
   },
   {
    "duration": 3,
    "start_time": "2022-05-27T18:12:00.604Z"
   },
   {
    "duration": 13,
    "start_time": "2022-05-27T18:12:00.609Z"
   },
   {
    "duration": 378,
    "start_time": "2022-05-27T18:12:00.627Z"
   },
   {
    "duration": 138,
    "start_time": "2022-05-27T18:12:01.010Z"
   },
   {
    "duration": 4,
    "start_time": "2022-05-27T18:12:01.152Z"
   },
   {
    "duration": 328046,
    "start_time": "2022-05-27T18:12:01.159Z"
   },
   {
    "duration": 4,
    "start_time": "2022-05-27T18:17:29.207Z"
   },
   {
    "duration": 10691,
    "start_time": "2022-05-27T18:17:29.213Z"
   },
   {
    "duration": 2351,
    "start_time": "2022-05-27T18:17:39.906Z"
   },
   {
    "duration": 4,
    "start_time": "2022-05-27T18:17:42.259Z"
   },
   {
    "duration": 853670,
    "start_time": "2022-05-27T18:17:42.264Z"
   },
   {
    "duration": 10,
    "start_time": "2022-05-27T18:31:55.936Z"
   },
   {
    "duration": 4721,
    "start_time": "2022-05-27T18:31:55.948Z"
   },
   {
    "duration": 5,
    "start_time": "2022-05-27T18:32:00.672Z"
   },
   {
    "duration": 1274457,
    "start_time": "2022-05-27T18:32:00.679Z"
   },
   {
    "duration": 16,
    "start_time": "2022-05-27T18:53:15.138Z"
   },
   {
    "duration": 0,
    "start_time": "2022-05-27T18:53:15.157Z"
   },
   {
    "duration": 0,
    "start_time": "2022-05-27T18:53:15.160Z"
   },
   {
    "duration": 0,
    "start_time": "2022-05-27T18:53:15.162Z"
   },
   {
    "duration": 0,
    "start_time": "2022-05-27T18:53:15.163Z"
   },
   {
    "duration": 4,
    "start_time": "2022-05-27T18:53:16.118Z"
   },
   {
    "duration": 3,
    "start_time": "2022-05-27T18:53:24.176Z"
   },
   {
    "duration": 6,
    "start_time": "2022-05-27T18:53:34.961Z"
   },
   {
    "duration": 18425,
    "start_time": "2022-05-27T18:53:35.373Z"
   },
   {
    "duration": 1870986,
    "start_time": "2022-05-27T18:53:56.496Z"
   },
   {
    "duration": 3,
    "start_time": "2022-05-27T19:25:23.123Z"
   },
   {
    "duration": 5,
    "start_time": "2022-05-27T19:25:33.178Z"
   },
   {
    "duration": 879,
    "start_time": "2022-05-27T19:25:33.185Z"
   },
   {
    "duration": 113,
    "start_time": "2022-05-27T19:25:34.066Z"
   },
   {
    "duration": 3,
    "start_time": "2022-05-27T19:25:34.182Z"
   },
   {
    "duration": 255,
    "start_time": "2022-05-27T19:25:34.187Z"
   },
   {
    "duration": 31,
    "start_time": "2022-05-27T19:25:34.444Z"
   },
   {
    "duration": 251,
    "start_time": "2022-05-27T19:25:34.476Z"
   },
   {
    "duration": 59,
    "start_time": "2022-05-27T19:25:34.728Z"
   },
   {
    "duration": 46,
    "start_time": "2022-05-27T19:25:34.789Z"
   },
   {
    "duration": 23,
    "start_time": "2022-05-27T19:25:34.838Z"
   },
   {
    "duration": 15,
    "start_time": "2022-05-27T19:25:34.862Z"
   },
   {
    "duration": 3495,
    "start_time": "2022-05-27T19:25:34.879Z"
   },
   {
    "duration": 111,
    "start_time": "2022-05-27T19:25:38.375Z"
   },
   {
    "duration": 375,
    "start_time": "2022-05-27T19:25:38.487Z"
   },
   {
    "duration": 91,
    "start_time": "2022-05-27T19:25:38.864Z"
   },
   {
    "duration": 553,
    "start_time": "2022-05-27T19:25:38.957Z"
   },
   {
    "duration": 154,
    "start_time": "2022-05-27T19:25:39.511Z"
   },
   {
    "duration": 134,
    "start_time": "2022-05-27T19:25:39.667Z"
   },
   {
    "duration": 77,
    "start_time": "2022-05-27T19:25:39.802Z"
   },
   {
    "duration": 186,
    "start_time": "2022-05-27T19:25:39.880Z"
   },
   {
    "duration": 23,
    "start_time": "2022-05-27T19:25:40.067Z"
   },
   {
    "duration": 183,
    "start_time": "2022-05-27T19:25:40.091Z"
   },
   {
    "duration": 132,
    "start_time": "2022-05-27T19:25:40.276Z"
   },
   {
    "duration": 33,
    "start_time": "2022-05-27T19:25:40.410Z"
   },
   {
    "duration": 4,
    "start_time": "2022-05-27T19:25:40.444Z"
   },
   {
    "duration": 23,
    "start_time": "2022-05-27T19:25:40.450Z"
   },
   {
    "duration": 15,
    "start_time": "2022-05-27T19:25:40.475Z"
   },
   {
    "duration": 7,
    "start_time": "2022-05-27T19:25:40.493Z"
   },
   {
    "duration": 37,
    "start_time": "2022-05-27T19:25:40.501Z"
   },
   {
    "duration": 136,
    "start_time": "2022-05-27T19:25:40.539Z"
   },
   {
    "duration": 25,
    "start_time": "2022-05-27T19:25:40.676Z"
   },
   {
    "duration": 150,
    "start_time": "2022-05-27T19:25:40.703Z"
   },
   {
    "duration": 45,
    "start_time": "2022-05-27T19:25:40.854Z"
   },
   {
    "duration": 163,
    "start_time": "2022-05-27T19:25:40.900Z"
   },
   {
    "duration": 24,
    "start_time": "2022-05-27T19:25:41.064Z"
   },
   {
    "duration": 163,
    "start_time": "2022-05-27T19:25:41.090Z"
   },
   {
    "duration": 11,
    "start_time": "2022-05-27T19:25:41.258Z"
   },
   {
    "duration": 33,
    "start_time": "2022-05-27T19:25:41.271Z"
   },
   {
    "duration": 550,
    "start_time": "2022-05-27T19:25:41.309Z"
   },
   {
    "duration": 71,
    "start_time": "2022-05-27T19:25:41.861Z"
   },
   {
    "duration": 3,
    "start_time": "2022-05-27T19:25:47.283Z"
   },
   {
    "duration": 116814,
    "start_time": "2022-05-27T19:25:47.731Z"
   },
   {
    "duration": 4,
    "start_time": "2022-05-27T19:27:49.330Z"
   },
   {
    "duration": 4198,
    "start_time": "2022-05-27T19:27:52.738Z"
   },
   {
    "duration": 3,
    "start_time": "2022-05-27T19:28:10.538Z"
   },
   {
    "duration": 149066,
    "start_time": "2022-05-27T19:28:10.898Z"
   },
   {
    "duration": 600598,
    "start_time": "2022-05-27T19:30:44.418Z"
   },
   {
    "duration": 4,
    "start_time": "2022-05-27T19:41:01.631Z"
   },
   {
    "duration": 3423,
    "start_time": "2022-05-27T19:41:09.026Z"
   },
   {
    "duration": 13,
    "start_time": "2022-05-27T19:41:32.919Z"
   },
   {
    "duration": 13,
    "start_time": "2022-05-27T19:41:56.851Z"
   },
   {
    "duration": 13,
    "start_time": "2022-05-27T19:42:40.167Z"
   },
   {
    "duration": 12,
    "start_time": "2022-05-27T19:44:37.799Z"
   },
   {
    "duration": 12,
    "start_time": "2022-05-27T19:45:17.391Z"
   },
   {
    "duration": 13,
    "start_time": "2022-05-27T19:45:21.894Z"
   },
   {
    "duration": 12,
    "start_time": "2022-05-27T19:45:25.854Z"
   },
   {
    "duration": 26,
    "start_time": "2022-05-27T19:45:31.262Z"
   },
   {
    "duration": 13,
    "start_time": "2022-05-27T19:45:33.630Z"
   },
   {
    "duration": 13,
    "start_time": "2022-05-27T19:45:36.614Z"
   },
   {
    "duration": 11,
    "start_time": "2022-05-27T19:45:38.918Z"
   },
   {
    "duration": 15,
    "start_time": "2022-05-27T19:45:44.230Z"
   },
   {
    "duration": 5,
    "start_time": "2022-05-27T19:46:14.613Z"
   },
   {
    "duration": 3,
    "start_time": "2022-05-27T19:46:21.742Z"
   },
   {
    "duration": 4,
    "start_time": "2022-05-27T19:46:27.614Z"
   },
   {
    "duration": 19,
    "start_time": "2022-05-27T19:46:30.526Z"
   },
   {
    "duration": 13,
    "start_time": "2022-05-27T19:46:42.102Z"
   },
   {
    "duration": 12,
    "start_time": "2022-05-27T19:46:53.774Z"
   },
   {
    "duration": 3,
    "start_time": "2022-05-27T19:47:10.405Z"
   },
   {
    "duration": 401574,
    "start_time": "2022-05-27T19:47:10.957Z"
   },
   {
    "duration": 4,
    "start_time": "2022-05-27T19:53:52.533Z"
   },
   {
    "duration": 4201,
    "start_time": "2022-05-27T19:53:52.538Z"
   },
   {
    "duration": 4,
    "start_time": "2022-05-27T19:53:57.282Z"
   },
   {
    "duration": 46573,
    "start_time": "2022-05-27T19:54:02.467Z"
   },
   {
    "duration": 4102,
    "start_time": "2022-05-27T19:55:26.834Z"
   },
   {
    "duration": 12,
    "start_time": "2022-05-27T19:55:43.442Z"
   },
   {
    "duration": 19,
    "start_time": "2022-05-27T19:55:46.067Z"
   },
   {
    "duration": 299,
    "start_time": "2022-05-27T19:55:48.234Z"
   },
   {
    "duration": 20,
    "start_time": "2022-05-27T19:56:20.921Z"
   },
   {
    "duration": 18,
    "start_time": "2022-05-27T19:56:29.866Z"
   },
   {
    "duration": 9,
    "start_time": "2022-05-27T19:57:40.297Z"
   },
   {
    "duration": 420,
    "start_time": "2022-05-27T19:57:44.737Z"
   },
   {
    "duration": 330,
    "start_time": "2022-05-27T19:57:50.801Z"
   },
   {
    "duration": 7,
    "start_time": "2022-05-27T19:57:55.633Z"
   },
   {
    "duration": 7,
    "start_time": "2022-05-27T19:57:59.097Z"
   },
   {
    "duration": 9,
    "start_time": "2022-05-27T19:58:04.643Z"
   },
   {
    "duration": 10,
    "start_time": "2022-05-27T19:58:09.504Z"
   },
   {
    "duration": 9,
    "start_time": "2022-05-27T19:58:20.528Z"
   },
   {
    "duration": 1335,
    "start_time": "2022-05-28T08:39:28.744Z"
   },
   {
    "duration": 955,
    "start_time": "2022-05-28T08:39:30.081Z"
   },
   {
    "duration": 122,
    "start_time": "2022-05-28T08:39:31.038Z"
   },
   {
    "duration": 3,
    "start_time": "2022-05-28T08:39:31.162Z"
   },
   {
    "duration": 290,
    "start_time": "2022-05-28T08:39:31.166Z"
   },
   {
    "duration": 29,
    "start_time": "2022-05-28T08:39:31.458Z"
   },
   {
    "duration": 269,
    "start_time": "2022-05-28T08:39:31.488Z"
   },
   {
    "duration": 76,
    "start_time": "2022-05-28T08:39:31.759Z"
   },
   {
    "duration": 45,
    "start_time": "2022-05-28T08:39:31.841Z"
   },
   {
    "duration": 23,
    "start_time": "2022-05-28T08:39:31.889Z"
   },
   {
    "duration": 17,
    "start_time": "2022-05-28T08:39:31.922Z"
   },
   {
    "duration": 3539,
    "start_time": "2022-05-28T08:39:31.940Z"
   },
   {
    "duration": 111,
    "start_time": "2022-05-28T08:39:35.481Z"
   },
   {
    "duration": 358,
    "start_time": "2022-05-28T08:40:40.960Z"
   },
   {
    "duration": 386,
    "start_time": "2022-05-28T08:41:03.279Z"
   },
   {
    "duration": 4,
    "start_time": "2022-05-28T08:58:04.843Z"
   },
   {
    "duration": 904,
    "start_time": "2022-05-28T08:58:04.849Z"
   },
   {
    "duration": 121,
    "start_time": "2022-05-28T08:58:05.755Z"
   },
   {
    "duration": 3,
    "start_time": "2022-05-28T08:58:05.878Z"
   },
   {
    "duration": 278,
    "start_time": "2022-05-28T08:58:05.883Z"
   },
   {
    "duration": 31,
    "start_time": "2022-05-28T08:58:06.163Z"
   },
   {
    "duration": 255,
    "start_time": "2022-05-28T08:58:06.196Z"
   },
   {
    "duration": 61,
    "start_time": "2022-05-28T08:58:06.453Z"
   },
   {
    "duration": 30,
    "start_time": "2022-05-28T08:58:06.522Z"
   },
   {
    "duration": 20,
    "start_time": "2022-05-28T08:58:06.554Z"
   },
   {
    "duration": 13,
    "start_time": "2022-05-28T08:58:06.575Z"
   },
   {
    "duration": 3701,
    "start_time": "2022-05-28T08:58:06.590Z"
   },
   {
    "duration": 116,
    "start_time": "2022-05-28T08:58:10.293Z"
   },
   {
    "duration": 413,
    "start_time": "2022-05-28T08:58:10.410Z"
   },
   {
    "duration": 99,
    "start_time": "2022-05-28T08:58:10.825Z"
   },
   {
    "duration": 771,
    "start_time": "2022-05-28T08:58:10.926Z"
   },
   {
    "duration": 153,
    "start_time": "2022-05-28T08:58:11.699Z"
   },
   {
    "duration": 157,
    "start_time": "2022-05-28T08:58:11.854Z"
   },
   {
    "duration": 79,
    "start_time": "2022-05-28T08:58:12.013Z"
   },
   {
    "duration": 200,
    "start_time": "2022-05-28T08:58:12.094Z"
   },
   {
    "duration": 29,
    "start_time": "2022-05-28T08:58:12.295Z"
   },
   {
    "duration": 181,
    "start_time": "2022-05-28T08:58:12.326Z"
   },
   {
    "duration": 171,
    "start_time": "2022-05-28T08:58:12.508Z"
   },
   {
    "duration": 29,
    "start_time": "2022-05-28T08:58:12.682Z"
   },
   {
    "duration": 5,
    "start_time": "2022-05-28T08:58:12.724Z"
   },
   {
    "duration": 43,
    "start_time": "2022-05-28T08:58:12.731Z"
   },
   {
    "duration": 25,
    "start_time": "2022-05-28T08:58:12.776Z"
   },
   {
    "duration": 21,
    "start_time": "2022-05-28T08:58:12.803Z"
   },
   {
    "duration": 24,
    "start_time": "2022-05-28T08:58:12.826Z"
   },
   {
    "duration": 242,
    "start_time": "2022-05-28T08:58:12.852Z"
   },
   {
    "duration": 32,
    "start_time": "2022-05-28T08:58:13.095Z"
   },
   {
    "duration": 170,
    "start_time": "2022-05-28T08:58:13.128Z"
   },
   {
    "duration": 65,
    "start_time": "2022-05-28T08:58:13.300Z"
   },
   {
    "duration": 169,
    "start_time": "2022-05-28T08:58:13.367Z"
   },
   {
    "duration": 25,
    "start_time": "2022-05-28T08:58:13.538Z"
   },
   {
    "duration": 197,
    "start_time": "2022-05-28T08:58:13.565Z"
   },
   {
    "duration": 9,
    "start_time": "2022-05-28T08:58:13.763Z"
   },
   {
    "duration": 25,
    "start_time": "2022-05-28T08:58:13.774Z"
   },
   {
    "duration": 639,
    "start_time": "2022-05-28T08:58:13.802Z"
   },
   {
    "duration": 112,
    "start_time": "2022-05-28T08:58:26.878Z"
   },
   {
    "duration": 1517,
    "start_time": "2022-05-28T09:17:33.634Z"
   },
   {
    "duration": 3066,
    "start_time": "2022-05-28T09:17:35.154Z"
   },
   {
    "duration": 149,
    "start_time": "2022-05-28T09:17:38.222Z"
   },
   {
    "duration": 4,
    "start_time": "2022-05-28T09:17:38.373Z"
   },
   {
    "duration": 298,
    "start_time": "2022-05-28T09:17:38.379Z"
   },
   {
    "duration": 34,
    "start_time": "2022-05-28T09:17:38.679Z"
   },
   {
    "duration": 283,
    "start_time": "2022-05-28T09:17:38.715Z"
   },
   {
    "duration": 69,
    "start_time": "2022-05-28T09:17:38.999Z"
   },
   {
    "duration": 73,
    "start_time": "2022-05-28T09:17:39.070Z"
   },
   {
    "duration": 33,
    "start_time": "2022-05-28T09:17:39.146Z"
   },
   {
    "duration": 26,
    "start_time": "2022-05-28T09:17:39.181Z"
   },
   {
    "duration": 3469,
    "start_time": "2022-05-28T09:17:39.209Z"
   },
   {
    "duration": 121,
    "start_time": "2022-05-28T09:17:42.680Z"
   },
   {
    "duration": 414,
    "start_time": "2022-05-28T09:17:52.096Z"
   },
   {
    "duration": 89,
    "start_time": "2022-05-28T09:19:21.125Z"
   },
   {
    "duration": 1021,
    "start_time": "2022-05-28T09:19:22.637Z"
   },
   {
    "duration": 214,
    "start_time": "2022-05-28T09:19:29.996Z"
   },
   {
    "duration": 198,
    "start_time": "2022-05-28T09:19:33.153Z"
   },
   {
    "duration": 64,
    "start_time": "2022-05-28T09:19:34.276Z"
   },
   {
    "duration": 173,
    "start_time": "2022-05-28T09:19:38.345Z"
   },
   {
    "duration": 37,
    "start_time": "2022-05-28T09:19:39.897Z"
   },
   {
    "duration": 211,
    "start_time": "2022-05-28T09:19:42.955Z"
   },
   {
    "duration": 144,
    "start_time": "2022-05-28T09:19:43.625Z"
   },
   {
    "duration": 25,
    "start_time": "2022-05-28T09:19:45.854Z"
   },
   {
    "duration": 5,
    "start_time": "2022-05-28T09:19:47.676Z"
   },
   {
    "duration": 20,
    "start_time": "2022-05-28T09:19:49.316Z"
   },
   {
    "duration": 18,
    "start_time": "2022-05-28T09:19:51.865Z"
   },
   {
    "duration": 7,
    "start_time": "2022-05-28T09:19:52.125Z"
   },
   {
    "duration": 18,
    "start_time": "2022-05-28T09:19:53.396Z"
   },
   {
    "duration": 146,
    "start_time": "2022-05-28T09:19:54.586Z"
   },
   {
    "duration": 25,
    "start_time": "2022-05-28T09:19:57.756Z"
   },
   {
    "duration": 5,
    "start_time": "2022-05-28T09:21:46.856Z"
   },
   {
    "duration": 978,
    "start_time": "2022-05-28T09:21:46.864Z"
   },
   {
    "duration": 120,
    "start_time": "2022-05-28T09:21:47.843Z"
   },
   {
    "duration": 3,
    "start_time": "2022-05-28T09:21:47.965Z"
   },
   {
    "duration": 339,
    "start_time": "2022-05-28T09:21:47.971Z"
   },
   {
    "duration": 33,
    "start_time": "2022-05-28T09:21:48.312Z"
   },
   {
    "duration": 253,
    "start_time": "2022-05-28T09:21:48.347Z"
   },
   {
    "duration": 67,
    "start_time": "2022-05-28T09:21:48.602Z"
   },
   {
    "duration": 43,
    "start_time": "2022-05-28T09:21:48.670Z"
   },
   {
    "duration": 29,
    "start_time": "2022-05-28T09:21:48.715Z"
   },
   {
    "duration": 16,
    "start_time": "2022-05-28T09:21:48.746Z"
   },
   {
    "duration": 3410,
    "start_time": "2022-05-28T09:21:48.763Z"
   },
   {
    "duration": 120,
    "start_time": "2022-05-28T09:21:52.175Z"
   },
   {
    "duration": 358,
    "start_time": "2022-05-28T09:21:52.298Z"
   },
   {
    "duration": 96,
    "start_time": "2022-05-28T09:21:52.657Z"
   },
   {
    "duration": 544,
    "start_time": "2022-05-28T09:21:52.756Z"
   },
   {
    "duration": 157,
    "start_time": "2022-05-28T09:21:53.301Z"
   },
   {
    "duration": 142,
    "start_time": "2022-05-28T09:21:53.459Z"
   },
   {
    "duration": 66,
    "start_time": "2022-05-28T09:21:53.602Z"
   },
   {
    "duration": 195,
    "start_time": "2022-05-28T09:21:53.670Z"
   },
   {
    "duration": 28,
    "start_time": "2022-05-28T09:21:53.867Z"
   },
   {
    "duration": 186,
    "start_time": "2022-05-28T09:21:53.896Z"
   },
   {
    "duration": 163,
    "start_time": "2022-05-28T09:21:54.083Z"
   },
   {
    "duration": 26,
    "start_time": "2022-05-28T09:21:54.248Z"
   },
   {
    "duration": 5,
    "start_time": "2022-05-28T09:21:54.275Z"
   },
   {
    "duration": 28,
    "start_time": "2022-05-28T09:21:54.294Z"
   },
   {
    "duration": 572,
    "start_time": "2022-05-28T09:22:14.399Z"
   },
   {
    "duration": 4,
    "start_time": "2022-05-28T09:22:23.454Z"
   },
   {
    "duration": 22,
    "start_time": "2022-05-28T09:22:35.173Z"
   },
   {
    "duration": 36,
    "start_time": "2022-05-28T09:23:33.772Z"
   },
   {
    "duration": 217,
    "start_time": "2022-05-28T09:24:20.603Z"
   },
   {
    "duration": 363,
    "start_time": "2022-05-28T09:24:25.911Z"
   },
   {
    "duration": 44,
    "start_time": "2022-05-28T09:24:35.671Z"
   },
   {
    "duration": 53,
    "start_time": "2022-05-28T09:25:03.861Z"
   },
   {
    "duration": 39,
    "start_time": "2022-05-28T09:25:08.207Z"
   },
   {
    "duration": 237,
    "start_time": "2022-05-28T09:25:29.651Z"
   },
   {
    "duration": 27,
    "start_time": "2022-05-28T09:25:39.873Z"
   },
   {
    "duration": 9,
    "start_time": "2022-05-28T09:27:33.781Z"
   },
   {
    "duration": 5,
    "start_time": "2022-05-28T09:27:37.854Z"
   },
   {
    "duration": 5,
    "start_time": "2022-05-28T09:27:45.153Z"
   },
   {
    "duration": 22,
    "start_time": "2022-05-28T09:27:53.395Z"
   },
   {
    "duration": 23,
    "start_time": "2022-05-28T09:27:53.795Z"
   },
   {
    "duration": 4,
    "start_time": "2022-05-28T09:28:06.402Z"
   },
   {
    "duration": 966,
    "start_time": "2022-05-28T09:28:06.409Z"
   },
   {
    "duration": 163,
    "start_time": "2022-05-28T09:28:07.377Z"
   },
   {
    "duration": 4,
    "start_time": "2022-05-28T09:28:07.542Z"
   },
   {
    "duration": 280,
    "start_time": "2022-05-28T09:28:07.549Z"
   },
   {
    "duration": 36,
    "start_time": "2022-05-28T09:28:07.830Z"
   },
   {
    "duration": 301,
    "start_time": "2022-05-28T09:28:07.868Z"
   },
   {
    "duration": 61,
    "start_time": "2022-05-28T09:28:08.170Z"
   },
   {
    "duration": 31,
    "start_time": "2022-05-28T09:28:08.233Z"
   },
   {
    "duration": 43,
    "start_time": "2022-05-28T09:28:08.266Z"
   },
   {
    "duration": 17,
    "start_time": "2022-05-28T09:28:08.311Z"
   },
   {
    "duration": 3353,
    "start_time": "2022-05-28T09:28:08.330Z"
   },
   {
    "duration": 114,
    "start_time": "2022-05-28T09:28:11.685Z"
   },
   {
    "duration": 369,
    "start_time": "2022-05-28T09:28:11.802Z"
   },
   {
    "duration": 99,
    "start_time": "2022-05-28T09:28:12.173Z"
   },
   {
    "duration": 598,
    "start_time": "2022-05-28T09:28:12.274Z"
   },
   {
    "duration": 174,
    "start_time": "2022-05-28T09:28:12.874Z"
   },
   {
    "duration": 149,
    "start_time": "2022-05-28T09:28:13.049Z"
   },
   {
    "duration": 66,
    "start_time": "2022-05-28T09:28:13.200Z"
   },
   {
    "duration": 198,
    "start_time": "2022-05-28T09:28:13.268Z"
   },
   {
    "duration": 28,
    "start_time": "2022-05-28T09:28:13.467Z"
   },
   {
    "duration": 181,
    "start_time": "2022-05-28T09:28:13.497Z"
   },
   {
    "duration": 153,
    "start_time": "2022-05-28T09:28:13.680Z"
   },
   {
    "duration": 25,
    "start_time": "2022-05-28T09:28:13.835Z"
   },
   {
    "duration": 5,
    "start_time": "2022-05-28T09:28:13.861Z"
   },
   {
    "duration": 40,
    "start_time": "2022-05-28T09:28:13.868Z"
   },
   {
    "duration": 13,
    "start_time": "2022-05-28T09:28:13.910Z"
   },
   {
    "duration": 9,
    "start_time": "2022-05-28T09:28:13.924Z"
   },
   {
    "duration": 18,
    "start_time": "2022-05-28T09:28:13.935Z"
   },
   {
    "duration": 161,
    "start_time": "2022-05-28T09:28:13.954Z"
   },
   {
    "duration": 24,
    "start_time": "2022-05-28T09:28:14.116Z"
   },
   {
    "duration": 6,
    "start_time": "2022-05-28T09:28:19.413Z"
   },
   {
    "duration": 13,
    "start_time": "2022-05-28T09:28:41.058Z"
   },
   {
    "duration": 4,
    "start_time": "2022-05-28T09:28:54.023Z"
   },
   {
    "duration": 879,
    "start_time": "2022-05-28T09:28:54.029Z"
   },
   {
    "duration": 114,
    "start_time": "2022-05-28T09:28:54.910Z"
   },
   {
    "duration": 4,
    "start_time": "2022-05-28T09:28:55.026Z"
   },
   {
    "duration": 257,
    "start_time": "2022-05-28T09:28:55.032Z"
   },
   {
    "duration": 30,
    "start_time": "2022-05-28T09:28:55.291Z"
   },
   {
    "duration": 283,
    "start_time": "2022-05-28T09:28:55.322Z"
   },
   {
    "duration": 58,
    "start_time": "2022-05-28T09:28:55.607Z"
   },
   {
    "duration": 37,
    "start_time": "2022-05-28T09:28:55.666Z"
   },
   {
    "duration": 20,
    "start_time": "2022-05-28T09:28:55.704Z"
   },
   {
    "duration": 13,
    "start_time": "2022-05-28T09:28:55.726Z"
   },
   {
    "duration": 3456,
    "start_time": "2022-05-28T09:28:55.741Z"
   },
   {
    "duration": 105,
    "start_time": "2022-05-28T09:28:59.199Z"
   },
   {
    "duration": 381,
    "start_time": "2022-05-28T09:28:59.307Z"
   },
   {
    "duration": 105,
    "start_time": "2022-05-28T09:28:59.690Z"
   },
   {
    "duration": 586,
    "start_time": "2022-05-28T09:28:59.797Z"
   },
   {
    "duration": 286,
    "start_time": "2022-05-28T09:29:00.385Z"
   },
   {
    "duration": 152,
    "start_time": "2022-05-28T09:29:00.673Z"
   },
   {
    "duration": 77,
    "start_time": "2022-05-28T09:29:00.826Z"
   },
   {
    "duration": 185,
    "start_time": "2022-05-28T09:29:00.905Z"
   },
   {
    "duration": 22,
    "start_time": "2022-05-28T09:29:01.094Z"
   },
   {
    "duration": 185,
    "start_time": "2022-05-28T09:29:01.118Z"
   },
   {
    "duration": 142,
    "start_time": "2022-05-28T09:29:01.304Z"
   },
   {
    "duration": 23,
    "start_time": "2022-05-28T09:29:01.448Z"
   },
   {
    "duration": 5,
    "start_time": "2022-05-28T09:29:01.473Z"
   },
   {
    "duration": 32,
    "start_time": "2022-05-28T09:29:01.479Z"
   },
   {
    "duration": 15,
    "start_time": "2022-05-28T09:29:04.836Z"
   },
   {
    "duration": 55,
    "start_time": "2022-05-28T09:29:32.871Z"
   },
   {
    "duration": 25,
    "start_time": "2022-05-28T09:29:39.345Z"
   },
   {
    "duration": 114,
    "start_time": "2022-05-28T09:31:52.482Z"
   },
   {
    "duration": 32,
    "start_time": "2022-05-28T09:32:58.258Z"
   },
   {
    "duration": 61,
    "start_time": "2022-05-28T09:33:01.711Z"
   },
   {
    "duration": 6,
    "start_time": "2022-05-28T09:33:08.059Z"
   },
   {
    "duration": 7,
    "start_time": "2022-05-28T09:33:18.568Z"
   },
   {
    "duration": 4,
    "start_time": "2022-05-28T09:35:45.846Z"
   },
   {
    "duration": 949,
    "start_time": "2022-05-28T09:35:45.859Z"
   },
   {
    "duration": 141,
    "start_time": "2022-05-28T09:35:46.811Z"
   },
   {
    "duration": 3,
    "start_time": "2022-05-28T09:35:46.954Z"
   },
   {
    "duration": 300,
    "start_time": "2022-05-28T09:35:46.959Z"
   },
   {
    "duration": 54,
    "start_time": "2022-05-28T09:35:47.262Z"
   },
   {
    "duration": 355,
    "start_time": "2022-05-28T09:35:47.320Z"
   },
   {
    "duration": 60,
    "start_time": "2022-05-28T09:35:47.677Z"
   },
   {
    "duration": 33,
    "start_time": "2022-05-28T09:35:47.739Z"
   },
   {
    "duration": 34,
    "start_time": "2022-05-28T09:35:47.774Z"
   },
   {
    "duration": 17,
    "start_time": "2022-05-28T09:35:47.811Z"
   },
   {
    "duration": 3483,
    "start_time": "2022-05-28T09:35:47.830Z"
   },
   {
    "duration": 109,
    "start_time": "2022-05-28T09:35:51.314Z"
   },
   {
    "duration": 391,
    "start_time": "2022-05-28T09:35:51.425Z"
   },
   {
    "duration": 91,
    "start_time": "2022-05-28T09:35:51.817Z"
   },
   {
    "duration": 625,
    "start_time": "2022-05-28T09:35:51.910Z"
   },
   {
    "duration": 169,
    "start_time": "2022-05-28T09:35:52.537Z"
   },
   {
    "duration": 140,
    "start_time": "2022-05-28T09:35:52.708Z"
   },
   {
    "duration": 73,
    "start_time": "2022-05-28T09:35:52.849Z"
   },
   {
    "duration": 188,
    "start_time": "2022-05-28T09:35:52.924Z"
   },
   {
    "duration": 22,
    "start_time": "2022-05-28T09:35:53.113Z"
   },
   {
    "duration": 184,
    "start_time": "2022-05-28T09:35:53.136Z"
   },
   {
    "duration": 136,
    "start_time": "2022-05-28T09:35:53.322Z"
   },
   {
    "duration": 35,
    "start_time": "2022-05-28T09:35:53.460Z"
   },
   {
    "duration": 4,
    "start_time": "2022-05-28T09:35:53.496Z"
   },
   {
    "duration": 23,
    "start_time": "2022-05-28T09:35:53.501Z"
   },
   {
    "duration": 114,
    "start_time": "2022-05-28T09:35:53.526Z"
   },
   {
    "duration": 6,
    "start_time": "2022-05-28T09:35:53.641Z"
   },
   {
    "duration": 46,
    "start_time": "2022-05-28T09:35:53.650Z"
   },
   {
    "duration": 3,
    "start_time": "2022-05-28T09:39:14.065Z"
   },
   {
    "duration": 903,
    "start_time": "2022-05-28T09:39:14.070Z"
   },
   {
    "duration": 122,
    "start_time": "2022-05-28T09:39:14.975Z"
   },
   {
    "duration": 4,
    "start_time": "2022-05-28T09:39:15.099Z"
   },
   {
    "duration": 261,
    "start_time": "2022-05-28T09:39:15.104Z"
   },
   {
    "duration": 46,
    "start_time": "2022-05-28T09:39:15.367Z"
   },
   {
    "duration": 269,
    "start_time": "2022-05-28T09:39:15.415Z"
   },
   {
    "duration": 62,
    "start_time": "2022-05-28T09:39:15.686Z"
   },
   {
    "duration": 31,
    "start_time": "2022-05-28T09:39:15.751Z"
   },
   {
    "duration": 17,
    "start_time": "2022-05-28T09:39:15.795Z"
   },
   {
    "duration": 12,
    "start_time": "2022-05-28T09:39:15.814Z"
   },
   {
    "duration": 4833,
    "start_time": "2022-05-28T09:39:15.828Z"
   },
   {
    "duration": 109,
    "start_time": "2022-05-28T09:39:20.663Z"
   },
   {
    "duration": 426,
    "start_time": "2022-05-28T09:39:20.774Z"
   },
   {
    "duration": 93,
    "start_time": "2022-05-28T09:39:21.202Z"
   },
   {
    "duration": 561,
    "start_time": "2022-05-28T09:39:21.298Z"
   },
   {
    "duration": 154,
    "start_time": "2022-05-28T09:39:21.861Z"
   },
   {
    "duration": 292,
    "start_time": "2022-05-28T09:39:22.016Z"
   },
   {
    "duration": 71,
    "start_time": "2022-05-28T09:39:22.310Z"
   },
   {
    "duration": 190,
    "start_time": "2022-05-28T09:39:22.394Z"
   },
   {
    "duration": 30,
    "start_time": "2022-05-28T09:39:22.585Z"
   },
   {
    "duration": 193,
    "start_time": "2022-05-28T09:39:22.617Z"
   },
   {
    "duration": 141,
    "start_time": "2022-05-28T09:39:22.812Z"
   },
   {
    "duration": 25,
    "start_time": "2022-05-28T09:39:22.956Z"
   },
   {
    "duration": 12,
    "start_time": "2022-05-28T09:39:22.983Z"
   },
   {
    "duration": 23,
    "start_time": "2022-05-28T09:39:22.996Z"
   },
   {
    "duration": 120,
    "start_time": "2022-05-28T09:39:23.021Z"
   },
   {
    "duration": 8,
    "start_time": "2022-05-28T09:39:23.142Z"
   },
   {
    "duration": 38,
    "start_time": "2022-05-28T09:39:23.151Z"
   },
   {
    "duration": 12,
    "start_time": "2022-05-28T09:39:23.190Z"
   },
   {
    "duration": 20,
    "start_time": "2022-05-28T09:39:23.204Z"
   },
   {
    "duration": 28,
    "start_time": "2022-05-28T09:39:23.225Z"
   },
   {
    "duration": 142,
    "start_time": "2022-05-28T09:39:23.255Z"
   },
   {
    "duration": 25,
    "start_time": "2022-05-28T09:39:23.398Z"
   },
   {
    "duration": 153,
    "start_time": "2022-05-28T09:39:23.425Z"
   },
   {
    "duration": 53,
    "start_time": "2022-05-28T09:39:23.580Z"
   },
   {
    "duration": 170,
    "start_time": "2022-05-28T09:39:23.635Z"
   },
   {
    "duration": 24,
    "start_time": "2022-05-28T09:39:23.806Z"
   },
   {
    "duration": 163,
    "start_time": "2022-05-28T09:39:23.833Z"
   },
   {
    "duration": 7,
    "start_time": "2022-05-28T09:39:23.998Z"
   },
   {
    "duration": 36,
    "start_time": "2022-05-28T09:39:24.007Z"
   },
   {
    "duration": 524,
    "start_time": "2022-05-28T09:39:24.045Z"
   },
   {
    "duration": 83,
    "start_time": "2022-05-28T09:39:24.571Z"
   },
   {
    "duration": 21,
    "start_time": "2022-05-28T09:40:45.458Z"
   },
   {
    "duration": 10,
    "start_time": "2022-05-28T09:41:10.088Z"
   },
   {
    "duration": 42,
    "start_time": "2022-05-28T09:42:42.305Z"
   },
   {
    "duration": 10,
    "start_time": "2022-05-28T09:43:49.161Z"
   },
   {
    "duration": 272490,
    "start_time": "2022-05-28T09:43:50.069Z"
   },
   {
    "duration": 122745,
    "start_time": "2022-05-28T09:48:26.615Z"
   },
   {
    "duration": 49198,
    "start_time": "2022-05-28T09:51:39.041Z"
   },
   {
    "duration": 4,
    "start_time": "2022-05-28T09:53:02.473Z"
   },
   {
    "duration": 886,
    "start_time": "2022-05-28T09:53:02.479Z"
   },
   {
    "duration": 120,
    "start_time": "2022-05-28T09:53:03.367Z"
   },
   {
    "duration": 9,
    "start_time": "2022-05-28T09:53:03.488Z"
   },
   {
    "duration": 246,
    "start_time": "2022-05-28T09:53:03.500Z"
   },
   {
    "duration": 30,
    "start_time": "2022-05-28T09:53:03.748Z"
   },
   {
    "duration": 248,
    "start_time": "2022-05-28T09:53:03.780Z"
   },
   {
    "duration": 64,
    "start_time": "2022-05-28T09:53:04.030Z"
   },
   {
    "duration": 31,
    "start_time": "2022-05-28T09:53:04.096Z"
   },
   {
    "duration": 19,
    "start_time": "2022-05-28T09:53:04.129Z"
   },
   {
    "duration": 12,
    "start_time": "2022-05-28T09:53:04.150Z"
   },
   {
    "duration": 3700,
    "start_time": "2022-05-28T09:53:04.164Z"
   },
   {
    "duration": 118,
    "start_time": "2022-05-28T09:53:07.866Z"
   },
   {
    "duration": 494,
    "start_time": "2022-05-28T09:53:07.998Z"
   },
   {
    "duration": 103,
    "start_time": "2022-05-28T09:53:08.495Z"
   },
   {
    "duration": 682,
    "start_time": "2022-05-28T09:53:08.600Z"
   },
   {
    "duration": 218,
    "start_time": "2022-05-28T09:53:09.283Z"
   },
   {
    "duration": 156,
    "start_time": "2022-05-28T09:53:09.504Z"
   },
   {
    "duration": 89,
    "start_time": "2022-05-28T09:53:09.662Z"
   },
   {
    "duration": 216,
    "start_time": "2022-05-28T09:53:09.753Z"
   },
   {
    "duration": 47,
    "start_time": "2022-05-28T09:53:09.971Z"
   },
   {
    "duration": 208,
    "start_time": "2022-05-28T09:53:10.020Z"
   },
   {
    "duration": 154,
    "start_time": "2022-05-28T09:53:10.229Z"
   },
   {
    "duration": 35,
    "start_time": "2022-05-28T09:53:10.398Z"
   },
   {
    "duration": 6,
    "start_time": "2022-05-28T09:53:10.435Z"
   },
   {
    "duration": 36,
    "start_time": "2022-05-28T09:53:10.443Z"
   },
   {
    "duration": 151,
    "start_time": "2022-05-28T09:53:10.481Z"
   },
   {
    "duration": 9,
    "start_time": "2022-05-28T09:53:10.634Z"
   },
   {
    "duration": 53,
    "start_time": "2022-05-28T09:53:10.645Z"
   },
   {
    "duration": 17,
    "start_time": "2022-05-28T09:53:10.700Z"
   },
   {
    "duration": 9,
    "start_time": "2022-05-28T09:53:10.719Z"
   },
   {
    "duration": 16,
    "start_time": "2022-05-28T09:53:10.730Z"
   },
   {
    "duration": 187,
    "start_time": "2022-05-28T09:53:10.748Z"
   },
   {
    "duration": 24,
    "start_time": "2022-05-28T09:53:10.937Z"
   },
   {
    "duration": 185,
    "start_time": "2022-05-28T09:53:10.963Z"
   },
   {
    "duration": 60,
    "start_time": "2022-05-28T09:53:11.149Z"
   },
   {
    "duration": 190,
    "start_time": "2022-05-28T09:53:11.211Z"
   },
   {
    "duration": 28,
    "start_time": "2022-05-28T09:53:11.403Z"
   },
   {
    "duration": 177,
    "start_time": "2022-05-28T09:53:11.432Z"
   },
   {
    "duration": 12,
    "start_time": "2022-05-28T09:53:11.611Z"
   },
   {
    "duration": 46,
    "start_time": "2022-05-28T09:53:11.629Z"
   },
   {
    "duration": 558,
    "start_time": "2022-05-28T09:53:11.676Z"
   },
   {
    "duration": 90,
    "start_time": "2022-05-28T09:53:18.120Z"
   },
   {
    "duration": 9,
    "start_time": "2022-05-28T09:53:29.408Z"
   },
   {
    "duration": 578224,
    "start_time": "2022-05-28T09:53:30.127Z"
   },
   {
    "duration": 5,
    "start_time": "2022-05-28T10:17:34.179Z"
   },
   {
    "duration": 869,
    "start_time": "2022-05-28T10:17:34.186Z"
   },
   {
    "duration": 143,
    "start_time": "2022-05-28T10:17:35.057Z"
   },
   {
    "duration": 3,
    "start_time": "2022-05-28T10:17:35.202Z"
   },
   {
    "duration": 454,
    "start_time": "2022-05-28T10:17:35.207Z"
   },
   {
    "duration": 33,
    "start_time": "2022-05-28T10:17:35.662Z"
   },
   {
    "duration": 252,
    "start_time": "2022-05-28T10:17:35.697Z"
   },
   {
    "duration": 68,
    "start_time": "2022-05-28T10:17:35.952Z"
   },
   {
    "duration": 31,
    "start_time": "2022-05-28T10:17:36.022Z"
   },
   {
    "duration": 19,
    "start_time": "2022-05-28T10:17:36.055Z"
   },
   {
    "duration": 24,
    "start_time": "2022-05-28T10:17:36.077Z"
   },
   {
    "duration": 3413,
    "start_time": "2022-05-28T10:17:36.103Z"
   },
   {
    "duration": 108,
    "start_time": "2022-05-28T10:17:39.518Z"
   },
   {
    "duration": 387,
    "start_time": "2022-05-28T10:17:39.628Z"
   },
   {
    "duration": 95,
    "start_time": "2022-05-28T10:17:40.017Z"
   },
   {
    "duration": 588,
    "start_time": "2022-05-28T10:17:40.113Z"
   },
   {
    "duration": 159,
    "start_time": "2022-05-28T10:17:40.703Z"
   },
   {
    "duration": 141,
    "start_time": "2022-05-28T10:17:40.864Z"
   },
   {
    "duration": 68,
    "start_time": "2022-05-28T10:17:41.006Z"
   },
   {
    "duration": 197,
    "start_time": "2022-05-28T10:17:41.076Z"
   },
   {
    "duration": 28,
    "start_time": "2022-05-28T10:17:41.274Z"
   },
   {
    "duration": 176,
    "start_time": "2022-05-28T10:17:41.303Z"
   },
   {
    "duration": 142,
    "start_time": "2022-05-28T10:17:41.480Z"
   },
   {
    "duration": 33,
    "start_time": "2022-05-28T10:17:41.623Z"
   },
   {
    "duration": 4,
    "start_time": "2022-05-28T10:17:41.658Z"
   },
   {
    "duration": 45,
    "start_time": "2022-05-28T10:17:41.664Z"
   },
   {
    "duration": 101,
    "start_time": "2022-05-28T10:17:41.711Z"
   },
   {
    "duration": 6,
    "start_time": "2022-05-28T10:17:41.814Z"
   },
   {
    "duration": 31,
    "start_time": "2022-05-28T10:17:41.823Z"
   },
   {
    "duration": 10,
    "start_time": "2022-05-28T10:17:41.855Z"
   },
   {
    "duration": 29,
    "start_time": "2022-05-28T10:17:41.867Z"
   },
   {
    "duration": 11,
    "start_time": "2022-05-28T10:17:41.897Z"
   },
   {
    "duration": 149,
    "start_time": "2022-05-28T10:17:41.909Z"
   },
   {
    "duration": 35,
    "start_time": "2022-05-28T10:17:42.060Z"
   },
   {
    "duration": 143,
    "start_time": "2022-05-28T10:17:42.096Z"
   },
   {
    "duration": 44,
    "start_time": "2022-05-28T10:17:42.240Z"
   },
   {
    "duration": 173,
    "start_time": "2022-05-28T10:17:42.285Z"
   },
   {
    "duration": 24,
    "start_time": "2022-05-28T10:17:42.460Z"
   },
   {
    "duration": 158,
    "start_time": "2022-05-28T10:17:42.495Z"
   },
   {
    "duration": 8,
    "start_time": "2022-05-28T10:17:42.655Z"
   },
   {
    "duration": 33,
    "start_time": "2022-05-28T10:17:42.664Z"
   },
   {
    "duration": 497,
    "start_time": "2022-05-28T10:17:42.699Z"
   },
   {
    "duration": 73,
    "start_time": "2022-05-28T10:17:43.198Z"
   },
   {
    "duration": 13,
    "start_time": "2022-05-28T10:17:45.684Z"
   },
   {
    "duration": 6,
    "start_time": "2022-05-28T10:17:59.964Z"
   },
   {
    "duration": 120016,
    "start_time": "2022-05-28T10:18:00.484Z"
   },
   {
    "duration": 68326,
    "start_time": "2022-05-28T10:20:02.342Z"
   },
   {
    "duration": 4,
    "start_time": "2022-05-28T10:22:29.075Z"
   },
   {
    "duration": 896,
    "start_time": "2022-05-28T10:22:29.081Z"
   },
   {
    "duration": 119,
    "start_time": "2022-05-28T10:22:29.980Z"
   },
   {
    "duration": 3,
    "start_time": "2022-05-28T10:22:30.101Z"
   },
   {
    "duration": 255,
    "start_time": "2022-05-28T10:22:30.106Z"
   },
   {
    "duration": 35,
    "start_time": "2022-05-28T10:22:30.363Z"
   },
   {
    "duration": 279,
    "start_time": "2022-05-28T10:22:30.400Z"
   },
   {
    "duration": 64,
    "start_time": "2022-05-28T10:22:30.680Z"
   },
   {
    "duration": 30,
    "start_time": "2022-05-28T10:22:30.745Z"
   },
   {
    "duration": 34,
    "start_time": "2022-05-28T10:22:30.776Z"
   },
   {
    "duration": 16,
    "start_time": "2022-05-28T10:22:30.813Z"
   },
   {
    "duration": 4239,
    "start_time": "2022-05-28T10:22:30.830Z"
   },
   {
    "duration": 116,
    "start_time": "2022-05-28T10:22:35.071Z"
   },
   {
    "duration": 401,
    "start_time": "2022-05-28T10:22:35.195Z"
   },
   {
    "duration": 82,
    "start_time": "2022-05-28T10:22:35.597Z"
   },
   {
    "duration": 547,
    "start_time": "2022-05-28T10:22:35.680Z"
   },
   {
    "duration": 160,
    "start_time": "2022-05-28T10:22:36.228Z"
   },
   {
    "duration": 129,
    "start_time": "2022-05-28T10:22:36.394Z"
   },
   {
    "duration": 83,
    "start_time": "2022-05-28T10:22:36.524Z"
   },
   {
    "duration": 192,
    "start_time": "2022-05-28T10:22:36.609Z"
   },
   {
    "duration": 23,
    "start_time": "2022-05-28T10:22:36.802Z"
   },
   {
    "duration": 188,
    "start_time": "2022-05-28T10:22:36.827Z"
   },
   {
    "duration": 138,
    "start_time": "2022-05-28T10:22:37.016Z"
   },
   {
    "duration": 23,
    "start_time": "2022-05-28T10:22:37.156Z"
   },
   {
    "duration": 15,
    "start_time": "2022-05-28T10:22:37.181Z"
   },
   {
    "duration": 26,
    "start_time": "2022-05-28T10:22:37.197Z"
   },
   {
    "duration": 143,
    "start_time": "2022-05-28T10:22:37.225Z"
   },
   {
    "duration": 8,
    "start_time": "2022-05-28T10:22:37.370Z"
   },
   {
    "duration": 36,
    "start_time": "2022-05-28T10:22:37.394Z"
   },
   {
    "duration": 12,
    "start_time": "2022-05-28T10:22:37.432Z"
   },
   {
    "duration": 13,
    "start_time": "2022-05-28T10:22:37.446Z"
   },
   {
    "duration": 35,
    "start_time": "2022-05-28T10:22:37.461Z"
   },
   {
    "duration": 190,
    "start_time": "2022-05-28T10:22:37.498Z"
   },
   {
    "duration": 29,
    "start_time": "2022-05-28T10:22:37.690Z"
   },
   {
    "duration": 161,
    "start_time": "2022-05-28T10:22:37.721Z"
   },
   {
    "duration": 65,
    "start_time": "2022-05-28T10:22:37.884Z"
   },
   {
    "duration": 171,
    "start_time": "2022-05-28T10:22:37.951Z"
   },
   {
    "duration": 23,
    "start_time": "2022-05-28T10:22:38.124Z"
   },
   {
    "duration": 167,
    "start_time": "2022-05-28T10:22:38.149Z"
   },
   {
    "duration": 9,
    "start_time": "2022-05-28T10:22:38.317Z"
   },
   {
    "duration": 18,
    "start_time": "2022-05-28T10:22:38.327Z"
   },
   {
    "duration": 518,
    "start_time": "2022-05-28T10:22:38.346Z"
   },
   {
    "duration": 78,
    "start_time": "2022-05-28T10:22:38.866Z"
   },
   {
    "duration": 350,
    "start_time": "2022-05-28T10:22:38.946Z"
   },
   {
    "duration": 4483,
    "start_time": "2022-05-28T10:22:39.298Z"
   },
   {
    "duration": 3,
    "start_time": "2022-05-28T10:22:43.783Z"
   },
   {
    "duration": 13,
    "start_time": "2022-05-28T10:22:43.797Z"
   },
   {
    "duration": 343,
    "start_time": "2022-05-28T10:22:43.812Z"
   },
   {
    "duration": 112,
    "start_time": "2022-05-28T10:22:44.157Z"
   },
   {
    "duration": 4,
    "start_time": "2022-05-28T10:22:44.271Z"
   },
   {
    "duration": 4651,
    "start_time": "2022-05-28T10:22:44.277Z"
   },
   {
    "duration": 9,
    "start_time": "2022-05-28T10:22:48.929Z"
   },
   {
    "duration": 0,
    "start_time": "2022-05-28T10:22:48.940Z"
   },
   {
    "duration": 0,
    "start_time": "2022-05-28T10:22:48.941Z"
   },
   {
    "duration": 37,
    "start_time": "2022-05-28T10:24:05.857Z"
   },
   {
    "duration": 5,
    "start_time": "2022-05-28T10:24:19.258Z"
   },
   {
    "duration": 914,
    "start_time": "2022-05-28T10:24:19.265Z"
   },
   {
    "duration": 166,
    "start_time": "2022-05-28T10:24:20.181Z"
   },
   {
    "duration": 5,
    "start_time": "2022-05-28T10:24:20.349Z"
   },
   {
    "duration": 258,
    "start_time": "2022-05-28T10:24:20.355Z"
   },
   {
    "duration": 31,
    "start_time": "2022-05-28T10:24:20.616Z"
   },
   {
    "duration": 285,
    "start_time": "2022-05-28T10:24:20.649Z"
   },
   {
    "duration": 67,
    "start_time": "2022-05-28T10:24:20.936Z"
   },
   {
    "duration": 40,
    "start_time": "2022-05-28T10:24:21.006Z"
   },
   {
    "duration": 36,
    "start_time": "2022-05-28T10:24:21.048Z"
   },
   {
    "duration": 15,
    "start_time": "2022-05-28T10:24:21.095Z"
   },
   {
    "duration": 3446,
    "start_time": "2022-05-28T10:24:21.112Z"
   },
   {
    "duration": 112,
    "start_time": "2022-05-28T10:24:24.560Z"
   },
   {
    "duration": 407,
    "start_time": "2022-05-28T10:24:24.673Z"
   },
   {
    "duration": 407,
    "start_time": "2022-05-28T10:24:25.081Z"
   },
   {
    "duration": 95,
    "start_time": "2022-05-28T10:24:25.490Z"
   },
   {
    "duration": 837,
    "start_time": "2022-05-28T10:24:25.587Z"
   },
   {
    "duration": 180,
    "start_time": "2022-05-28T10:24:26.426Z"
   },
   {
    "duration": 146,
    "start_time": "2022-05-28T10:24:26.608Z"
   },
   {
    "duration": 77,
    "start_time": "2022-05-28T10:24:26.756Z"
   },
   {
    "duration": 210,
    "start_time": "2022-05-28T10:24:26.835Z"
   },
   {
    "duration": 27,
    "start_time": "2022-05-28T10:24:27.047Z"
   },
   {
    "duration": 230,
    "start_time": "2022-05-28T10:24:27.076Z"
   },
   {
    "duration": 206,
    "start_time": "2022-05-28T10:24:27.312Z"
   },
   {
    "duration": 46,
    "start_time": "2022-05-28T10:24:27.520Z"
   },
   {
    "duration": 6,
    "start_time": "2022-05-28T10:24:27.569Z"
   },
   {
    "duration": 33,
    "start_time": "2022-05-28T10:24:27.577Z"
   },
   {
    "duration": 228,
    "start_time": "2022-05-28T10:24:27.612Z"
   },
   {
    "duration": 6,
    "start_time": "2022-05-28T10:24:27.895Z"
   },
   {
    "duration": 33,
    "start_time": "2022-05-28T10:24:27.903Z"
   },
   {
    "duration": 63,
    "start_time": "2022-05-28T10:24:27.938Z"
   },
   {
    "duration": 17,
    "start_time": "2022-05-28T10:24:28.003Z"
   },
   {
    "duration": 14,
    "start_time": "2022-05-28T10:24:28.022Z"
   },
   {
    "duration": 368,
    "start_time": "2022-05-28T10:24:28.038Z"
   },
   {
    "duration": 25,
    "start_time": "2022-05-28T10:24:28.408Z"
   },
   {
    "duration": 363,
    "start_time": "2022-05-28T10:24:28.435Z"
   },
   {
    "duration": 106,
    "start_time": "2022-05-28T10:24:28.800Z"
   },
   {
    "duration": 488,
    "start_time": "2022-05-28T10:24:28.909Z"
   },
   {
    "duration": 25,
    "start_time": "2022-05-28T10:24:29.399Z"
   },
   {
    "duration": 418,
    "start_time": "2022-05-28T10:24:29.426Z"
   },
   {
    "duration": 54,
    "start_time": "2022-05-28T10:24:29.846Z"
   },
   {
    "duration": 25,
    "start_time": "2022-05-28T10:24:29.902Z"
   },
   {
    "duration": 595,
    "start_time": "2022-05-28T10:24:29.929Z"
   },
   {
    "duration": 106,
    "start_time": "2022-05-28T10:24:30.526Z"
   },
   {
    "duration": 365,
    "start_time": "2022-05-28T10:24:30.634Z"
   },
   {
    "duration": 5418,
    "start_time": "2022-05-28T10:24:31.002Z"
   },
   {
    "duration": 3,
    "start_time": "2022-05-28T10:24:36.422Z"
   },
   {
    "duration": 12,
    "start_time": "2022-05-28T10:24:36.426Z"
   },
   {
    "duration": 387,
    "start_time": "2022-05-28T10:24:36.440Z"
   },
   {
    "duration": 103,
    "start_time": "2022-05-28T10:24:36.829Z"
   },
   {
    "duration": 3,
    "start_time": "2022-05-28T10:24:36.934Z"
   },
   {
    "duration": 303484,
    "start_time": "2022-05-28T10:24:36.939Z"
   },
   {
    "duration": 4,
    "start_time": "2022-05-28T10:29:40.425Z"
   },
   {
    "duration": 8811,
    "start_time": "2022-05-28T10:29:40.430Z"
   },
   {
    "duration": 2328,
    "start_time": "2022-05-28T10:29:49.242Z"
   },
   {
    "duration": 3,
    "start_time": "2022-05-28T10:29:51.575Z"
   },
   {
    "duration": 738933,
    "start_time": "2022-05-28T10:29:51.580Z"
   },
   {
    "duration": 5,
    "start_time": "2022-05-28T10:42:10.515Z"
   },
   {
    "duration": 3710,
    "start_time": "2022-05-28T10:42:10.522Z"
   },
   {
    "duration": 1367,
    "start_time": "2022-05-28T10:43:17.343Z"
   },
   {
    "duration": 1001,
    "start_time": "2022-05-28T10:43:18.713Z"
   },
   {
    "duration": 136,
    "start_time": "2022-05-28T10:43:19.715Z"
   },
   {
    "duration": 3,
    "start_time": "2022-05-28T10:43:19.853Z"
   },
   {
    "duration": 315,
    "start_time": "2022-05-28T10:43:19.857Z"
   },
   {
    "duration": 48,
    "start_time": "2022-05-28T10:43:20.173Z"
   },
   {
    "duration": 296,
    "start_time": "2022-05-28T10:43:20.222Z"
   },
   {
    "duration": 83,
    "start_time": "2022-05-28T10:43:20.520Z"
   },
   {
    "duration": 34,
    "start_time": "2022-05-28T10:43:20.605Z"
   },
   {
    "duration": 19,
    "start_time": "2022-05-28T10:43:20.641Z"
   },
   {
    "duration": 12,
    "start_time": "2022-05-28T10:43:20.662Z"
   },
   {
    "duration": 3657,
    "start_time": "2022-05-28T10:43:20.675Z"
   },
   {
    "duration": 117,
    "start_time": "2022-05-28T10:43:24.334Z"
   },
   {
    "duration": 406,
    "start_time": "2022-05-28T10:43:24.452Z"
   },
   {
    "duration": 456,
    "start_time": "2022-05-28T10:43:24.859Z"
   },
   {
    "duration": 100,
    "start_time": "2022-05-28T10:43:25.317Z"
   },
   {
    "duration": 643,
    "start_time": "2022-05-28T10:43:25.418Z"
   },
   {
    "duration": 181,
    "start_time": "2022-05-28T10:43:26.062Z"
   },
   {
    "duration": 146,
    "start_time": "2022-05-28T10:43:26.244Z"
   },
   {
    "duration": 74,
    "start_time": "2022-05-28T10:43:26.392Z"
   },
   {
    "duration": 209,
    "start_time": "2022-05-28T10:43:26.468Z"
   },
   {
    "duration": 31,
    "start_time": "2022-05-28T10:43:26.678Z"
   },
   {
    "duration": 205,
    "start_time": "2022-05-28T10:43:26.711Z"
   },
   {
    "duration": 151,
    "start_time": "2022-05-28T10:43:26.918Z"
   },
   {
    "duration": 44,
    "start_time": "2022-05-28T10:43:27.070Z"
   },
   {
    "duration": 4,
    "start_time": "2022-05-28T10:43:27.116Z"
   },
   {
    "duration": 24,
    "start_time": "2022-05-28T10:43:27.122Z"
   },
   {
    "duration": 126,
    "start_time": "2022-05-28T10:43:27.149Z"
   },
   {
    "duration": 8,
    "start_time": "2022-05-28T10:43:27.277Z"
   },
   {
    "duration": 69,
    "start_time": "2022-05-28T10:43:27.297Z"
   },
   {
    "duration": 11,
    "start_time": "2022-05-28T10:43:27.368Z"
   },
   {
    "duration": 27,
    "start_time": "2022-05-28T10:43:27.381Z"
   },
   {
    "duration": 36,
    "start_time": "2022-05-28T10:43:27.410Z"
   },
   {
    "duration": 310,
    "start_time": "2022-05-28T10:43:27.448Z"
   },
   {
    "duration": 44,
    "start_time": "2022-05-28T10:43:27.761Z"
   },
   {
    "duration": 143,
    "start_time": "2022-05-28T10:43:27.807Z"
   },
   {
    "duration": 59,
    "start_time": "2022-05-28T10:43:27.952Z"
   },
   {
    "duration": 168,
    "start_time": "2022-05-28T10:43:28.012Z"
   },
   {
    "duration": 28,
    "start_time": "2022-05-28T10:43:28.181Z"
   },
   {
    "duration": 159,
    "start_time": "2022-05-28T10:43:28.213Z"
   },
   {
    "duration": 8,
    "start_time": "2022-05-28T10:43:28.374Z"
   },
   {
    "duration": 29,
    "start_time": "2022-05-28T10:43:28.384Z"
   },
   {
    "duration": 559,
    "start_time": "2022-05-28T10:43:28.415Z"
   },
   {
    "duration": 81,
    "start_time": "2022-05-28T10:43:28.976Z"
   },
   {
    "duration": 3,
    "start_time": "2022-05-28T10:43:40.405Z"
   },
   {
    "duration": 1414558,
    "start_time": "2022-05-28T10:43:41.045Z"
   },
   {
    "duration": 6,
    "start_time": "2022-05-28T11:07:57.014Z"
   },
   {
    "duration": 1122,
    "start_time": "2022-05-28T11:07:57.023Z"
   },
   {
    "duration": 137,
    "start_time": "2022-05-28T11:07:58.146Z"
   },
   {
    "duration": 15,
    "start_time": "2022-05-28T11:07:58.284Z"
   },
   {
    "duration": 305,
    "start_time": "2022-05-28T11:07:58.302Z"
   },
   {
    "duration": 32,
    "start_time": "2022-05-28T11:07:58.613Z"
   },
   {
    "duration": 301,
    "start_time": "2022-05-28T11:07:58.647Z"
   },
   {
    "duration": 81,
    "start_time": "2022-05-28T11:07:58.950Z"
   },
   {
    "duration": 30,
    "start_time": "2022-05-28T11:07:59.033Z"
   },
   {
    "duration": 41,
    "start_time": "2022-05-28T11:07:59.066Z"
   },
   {
    "duration": 21,
    "start_time": "2022-05-28T11:07:59.111Z"
   },
   {
    "duration": 3786,
    "start_time": "2022-05-28T11:07:59.134Z"
   },
   {
    "duration": 126,
    "start_time": "2022-05-28T11:08:02.922Z"
   },
   {
    "duration": 472,
    "start_time": "2022-05-28T11:08:03.051Z"
   },
   {
    "duration": 531,
    "start_time": "2022-05-28T11:08:03.525Z"
   },
   {
    "duration": 100,
    "start_time": "2022-05-28T11:08:04.060Z"
   },
   {
    "duration": 671,
    "start_time": "2022-05-28T11:08:04.163Z"
   },
   {
    "duration": 188,
    "start_time": "2022-05-28T11:08:04.837Z"
   },
   {
    "duration": 185,
    "start_time": "2022-05-28T11:08:05.027Z"
   },
   {
    "duration": 100,
    "start_time": "2022-05-28T11:08:05.214Z"
   },
   {
    "duration": 235,
    "start_time": "2022-05-28T11:08:05.315Z"
   },
   {
    "duration": 26,
    "start_time": "2022-05-28T11:08:05.553Z"
   },
   {
    "duration": 206,
    "start_time": "2022-05-28T11:08:05.581Z"
   },
   {
    "duration": 166,
    "start_time": "2022-05-28T11:08:05.789Z"
   },
   {
    "duration": 56,
    "start_time": "2022-05-28T11:08:05.957Z"
   },
   {
    "duration": 4,
    "start_time": "2022-05-28T11:08:06.014Z"
   },
   {
    "duration": 27,
    "start_time": "2022-05-28T11:08:06.019Z"
   },
   {
    "duration": 165,
    "start_time": "2022-05-28T11:08:06.047Z"
   },
   {
    "duration": 11,
    "start_time": "2022-05-28T11:08:06.214Z"
   },
   {
    "duration": 42,
    "start_time": "2022-05-28T11:08:06.228Z"
   },
   {
    "duration": 11,
    "start_time": "2022-05-28T11:08:06.272Z"
   },
   {
    "duration": 7,
    "start_time": "2022-05-28T11:08:06.285Z"
   },
   {
    "duration": 27,
    "start_time": "2022-05-28T11:08:06.312Z"
   },
   {
    "duration": 149,
    "start_time": "2022-05-28T11:08:06.341Z"
   },
   {
    "duration": 44,
    "start_time": "2022-05-28T11:08:06.492Z"
   },
   {
    "duration": 321,
    "start_time": "2022-05-28T11:08:06.537Z"
   },
   {
    "duration": 55,
    "start_time": "2022-05-28T11:08:06.860Z"
   },
   {
    "duration": 207,
    "start_time": "2022-05-28T11:08:06.917Z"
   },
   {
    "duration": 35,
    "start_time": "2022-05-28T11:08:07.127Z"
   },
   {
    "duration": 228,
    "start_time": "2022-05-28T11:08:07.163Z"
   },
   {
    "duration": 22,
    "start_time": "2022-05-28T11:08:07.396Z"
   },
   {
    "duration": 33,
    "start_time": "2022-05-28T11:08:07.420Z"
   },
   {
    "duration": 662,
    "start_time": "2022-05-28T11:08:07.455Z"
   },
   {
    "duration": 97,
    "start_time": "2022-05-28T11:08:08.119Z"
   },
   {
    "duration": 5,
    "start_time": "2022-05-28T11:08:19.890Z"
   },
   {
    "duration": 787428,
    "start_time": "2022-05-28T11:08:20.634Z"
   },
   {
    "duration": 3,
    "start_time": "2022-05-28T11:23:13.347Z"
   },
   {
    "duration": 11316,
    "start_time": "2022-05-28T11:23:13.931Z"
   },
   {
    "duration": 20,
    "start_time": "2022-05-28T11:23:27.779Z"
   },
   {
    "duration": 7,
    "start_time": "2022-05-28T11:23:32.578Z"
   },
   {
    "duration": 9,
    "start_time": "2022-05-28T11:23:46.322Z"
   },
   {
    "duration": 74,
    "start_time": "2022-05-28T11:24:05.517Z"
   },
   {
    "duration": 500,
    "start_time": "2022-05-28T11:24:05.594Z"
   },
   {
    "duration": 6069,
    "start_time": "2022-05-28T11:24:06.099Z"
   },
   {
    "duration": 2,
    "start_time": "2022-05-28T11:24:12.171Z"
   },
   {
    "duration": 19,
    "start_time": "2022-05-28T11:24:12.175Z"
   },
   {
    "duration": 384,
    "start_time": "2022-05-28T11:24:12.197Z"
   },
   {
    "duration": 95,
    "start_time": "2022-05-28T11:24:12.582Z"
   },
   {
    "duration": 4,
    "start_time": "2022-05-28T11:24:12.678Z"
   },
   {
    "duration": 12711,
    "start_time": "2022-05-28T11:24:12.683Z"
   },
   {
    "duration": 29,
    "start_time": "2022-05-28T11:24:25.398Z"
   },
   {
    "duration": 0,
    "start_time": "2022-05-28T11:24:25.429Z"
   },
   {
    "duration": 0,
    "start_time": "2022-05-28T11:24:25.431Z"
   },
   {
    "duration": 0,
    "start_time": "2022-05-28T11:24:25.433Z"
   },
   {
    "duration": 0,
    "start_time": "2022-05-28T11:24:25.434Z"
   },
   {
    "duration": 1,
    "start_time": "2022-05-28T11:24:25.435Z"
   },
   {
    "duration": 0,
    "start_time": "2022-05-28T11:24:25.437Z"
   },
   {
    "duration": 0,
    "start_time": "2022-05-28T11:24:25.439Z"
   },
   {
    "duration": 0,
    "start_time": "2022-05-28T11:24:25.440Z"
   },
   {
    "duration": 0,
    "start_time": "2022-05-28T11:24:25.441Z"
   },
   {
    "duration": 0,
    "start_time": "2022-05-28T11:24:25.442Z"
   },
   {
    "duration": 0,
    "start_time": "2022-05-28T11:24:25.444Z"
   },
   {
    "duration": 0,
    "start_time": "2022-05-28T11:24:25.445Z"
   },
   {
    "duration": 0,
    "start_time": "2022-05-28T11:24:25.447Z"
   },
   {
    "duration": 0,
    "start_time": "2022-05-28T11:24:25.448Z"
   },
   {
    "duration": 5,
    "start_time": "2022-05-28T11:24:37.927Z"
   },
   {
    "duration": 981,
    "start_time": "2022-05-28T11:24:37.933Z"
   },
   {
    "duration": 134,
    "start_time": "2022-05-28T11:24:38.917Z"
   },
   {
    "duration": 3,
    "start_time": "2022-05-28T11:24:39.053Z"
   },
   {
    "duration": 277,
    "start_time": "2022-05-28T11:24:39.059Z"
   },
   {
    "duration": 41,
    "start_time": "2022-05-28T11:24:39.338Z"
   },
   {
    "duration": 342,
    "start_time": "2022-05-28T11:24:39.381Z"
   },
   {
    "duration": 99,
    "start_time": "2022-05-28T11:24:39.726Z"
   },
   {
    "duration": 57,
    "start_time": "2022-05-28T11:24:39.829Z"
   },
   {
    "duration": 40,
    "start_time": "2022-05-28T11:24:39.888Z"
   },
   {
    "duration": 15,
    "start_time": "2022-05-28T11:24:39.933Z"
   },
   {
    "duration": 3942,
    "start_time": "2022-05-28T11:24:39.950Z"
   },
   {
    "duration": 152,
    "start_time": "2022-05-28T11:24:43.894Z"
   },
   {
    "duration": 459,
    "start_time": "2022-05-28T11:24:44.047Z"
   },
   {
    "duration": 431,
    "start_time": "2022-05-28T11:24:44.508Z"
   },
   {
    "duration": 95,
    "start_time": "2022-05-28T11:24:44.941Z"
   },
   {
    "duration": 640,
    "start_time": "2022-05-28T11:24:45.038Z"
   },
   {
    "duration": 190,
    "start_time": "2022-05-28T11:24:45.680Z"
   },
   {
    "duration": 161,
    "start_time": "2022-05-28T11:24:45.872Z"
   },
   {
    "duration": 87,
    "start_time": "2022-05-28T11:24:46.034Z"
   },
   {
    "duration": 265,
    "start_time": "2022-05-28T11:24:46.123Z"
   },
   {
    "duration": 34,
    "start_time": "2022-05-28T11:24:46.390Z"
   },
   {
    "duration": 202,
    "start_time": "2022-05-28T11:24:46.427Z"
   },
   {
    "duration": 160,
    "start_time": "2022-05-28T11:24:46.631Z"
   },
   {
    "duration": 38,
    "start_time": "2022-05-28T11:24:46.794Z"
   },
   {
    "duration": 8,
    "start_time": "2022-05-28T11:24:46.834Z"
   },
   {
    "duration": 58,
    "start_time": "2022-05-28T11:24:46.844Z"
   },
   {
    "duration": 155,
    "start_time": "2022-05-28T11:24:46.905Z"
   },
   {
    "duration": 9,
    "start_time": "2022-05-28T11:24:47.065Z"
   },
   {
    "duration": 41,
    "start_time": "2022-05-28T11:24:47.076Z"
   },
   {
    "duration": 11,
    "start_time": "2022-05-28T11:24:47.118Z"
   },
   {
    "duration": 9,
    "start_time": "2022-05-28T11:24:47.130Z"
   },
   {
    "duration": 10,
    "start_time": "2022-05-28T11:24:47.141Z"
   },
   {
    "duration": 210,
    "start_time": "2022-05-28T11:24:47.153Z"
   },
   {
    "duration": 38,
    "start_time": "2022-05-28T11:24:47.365Z"
   },
   {
    "duration": 238,
    "start_time": "2022-05-28T11:24:47.407Z"
   },
   {
    "duration": 65,
    "start_time": "2022-05-28T11:24:47.648Z"
   },
   {
    "duration": 242,
    "start_time": "2022-05-28T11:24:47.715Z"
   },
   {
    "duration": 23,
    "start_time": "2022-05-28T11:24:47.959Z"
   },
   {
    "duration": 212,
    "start_time": "2022-05-28T11:24:47.984Z"
   },
   {
    "duration": 17,
    "start_time": "2022-05-28T11:24:48.198Z"
   },
   {
    "duration": 34,
    "start_time": "2022-05-28T11:24:48.217Z"
   },
   {
    "duration": 591,
    "start_time": "2022-05-28T11:24:48.253Z"
   },
   {
    "duration": 83,
    "start_time": "2022-05-28T11:24:48.845Z"
   },
   {
    "duration": 473,
    "start_time": "2022-05-28T11:24:48.930Z"
   },
   {
    "duration": 4738,
    "start_time": "2022-05-28T11:24:49.409Z"
   },
   {
    "duration": 3,
    "start_time": "2022-05-28T11:24:54.149Z"
   },
   {
    "duration": 6,
    "start_time": "2022-05-28T11:24:54.154Z"
   },
   {
    "duration": 376,
    "start_time": "2022-05-28T11:24:54.162Z"
   },
   {
    "duration": 102,
    "start_time": "2022-05-28T11:24:54.540Z"
   },
   {
    "duration": 4,
    "start_time": "2022-05-28T11:24:54.643Z"
   },
   {
    "duration": 303115,
    "start_time": "2022-05-28T11:24:54.648Z"
   },
   {
    "duration": 4,
    "start_time": "2022-05-28T11:29:57.764Z"
   },
   {
    "duration": 9742,
    "start_time": "2022-05-28T11:29:57.770Z"
   },
   {
    "duration": 2486,
    "start_time": "2022-05-28T11:30:07.514Z"
   },
   {
    "duration": 3,
    "start_time": "2022-05-28T11:30:10.002Z"
   },
   {
    "duration": 780541,
    "start_time": "2022-05-28T11:30:10.007Z"
   },
   {
    "duration": 4,
    "start_time": "2022-05-28T11:43:10.551Z"
   },
   {
    "duration": 4124,
    "start_time": "2022-05-28T11:43:10.557Z"
   },
   {
    "duration": 4,
    "start_time": "2022-05-28T11:43:14.683Z"
   },
   {
    "duration": 1164700,
    "start_time": "2022-05-28T11:43:14.690Z"
   },
   {
    "duration": 13,
    "start_time": "2022-05-28T12:02:39.391Z"
   },
   {
    "duration": 0,
    "start_time": "2022-05-28T12:02:39.406Z"
   },
   {
    "duration": 0,
    "start_time": "2022-05-28T12:02:39.407Z"
   },
   {
    "duration": 0,
    "start_time": "2022-05-28T12:02:39.409Z"
   },
   {
    "duration": 0,
    "start_time": "2022-05-28T12:02:39.409Z"
   },
   {
    "duration": 0,
    "start_time": "2022-05-28T12:02:39.410Z"
   },
   {
    "duration": 3,
    "start_time": "2022-05-28T12:03:01.089Z"
   },
   {
    "duration": 9616,
    "start_time": "2022-05-28T12:03:01.668Z"
   },
   {
    "duration": 6,
    "start_time": "2022-05-28T12:03:21.719Z"
   },
   {
    "duration": 1023,
    "start_time": "2022-05-28T12:03:21.727Z"
   },
   {
    "duration": 140,
    "start_time": "2022-05-28T12:03:22.751Z"
   },
   {
    "duration": 9,
    "start_time": "2022-05-28T12:03:22.899Z"
   },
   {
    "duration": 426,
    "start_time": "2022-05-28T12:03:22.912Z"
   },
   {
    "duration": 98,
    "start_time": "2022-05-28T12:03:23.340Z"
   },
   {
    "duration": 688,
    "start_time": "2022-05-28T12:03:23.440Z"
   },
   {
    "duration": 178,
    "start_time": "2022-05-28T12:03:24.137Z"
   },
   {
    "duration": 100,
    "start_time": "2022-05-28T12:03:24.317Z"
   },
   {
    "duration": 109,
    "start_time": "2022-05-28T12:03:24.420Z"
   },
   {
    "duration": 65,
    "start_time": "2022-05-28T12:03:24.531Z"
   },
   {
    "duration": 4992,
    "start_time": "2022-05-28T12:03:24.598Z"
   },
   {
    "duration": 170,
    "start_time": "2022-05-28T12:03:29.592Z"
   },
   {
    "duration": 512,
    "start_time": "2022-05-28T12:03:29.765Z"
   },
   {
    "duration": 486,
    "start_time": "2022-05-28T12:03:30.279Z"
   },
   {
    "duration": 106,
    "start_time": "2022-05-28T12:03:30.767Z"
   },
   {
    "duration": 616,
    "start_time": "2022-05-28T12:03:30.874Z"
   },
   {
    "duration": 191,
    "start_time": "2022-05-28T12:03:31.494Z"
   },
   {
    "duration": 195,
    "start_time": "2022-05-28T12:03:31.686Z"
   },
   {
    "duration": 88,
    "start_time": "2022-05-28T12:03:31.883Z"
   },
   {
    "duration": 266,
    "start_time": "2022-05-28T12:03:31.973Z"
   },
   {
    "duration": 32,
    "start_time": "2022-05-28T12:03:32.241Z"
   },
   {
    "duration": 216,
    "start_time": "2022-05-28T12:03:32.274Z"
   },
   {
    "duration": 156,
    "start_time": "2022-05-28T12:03:32.491Z"
   },
   {
    "duration": 33,
    "start_time": "2022-05-28T12:03:32.649Z"
   },
   {
    "duration": 12,
    "start_time": "2022-05-28T12:03:32.684Z"
   },
   {
    "duration": 27,
    "start_time": "2022-05-28T12:03:32.697Z"
   },
   {
    "duration": 133,
    "start_time": "2022-05-28T12:03:32.726Z"
   },
   {
    "duration": 6,
    "start_time": "2022-05-28T12:03:32.861Z"
   },
   {
    "duration": 54,
    "start_time": "2022-05-28T12:03:32.868Z"
   },
   {
    "duration": 10,
    "start_time": "2022-05-28T12:03:32.923Z"
   },
   {
    "duration": 10,
    "start_time": "2022-05-28T12:03:32.935Z"
   },
   {
    "duration": 27,
    "start_time": "2022-05-28T12:03:32.947Z"
   },
   {
    "duration": 170,
    "start_time": "2022-05-28T12:03:32.976Z"
   },
   {
    "duration": 25,
    "start_time": "2022-05-28T12:03:33.149Z"
   },
   {
    "duration": 172,
    "start_time": "2022-05-28T12:03:33.175Z"
   },
   {
    "duration": 66,
    "start_time": "2022-05-28T12:03:33.349Z"
   },
   {
    "duration": 181,
    "start_time": "2022-05-28T12:03:33.417Z"
   },
   {
    "duration": 29,
    "start_time": "2022-05-28T12:03:33.601Z"
   },
   {
    "duration": 203,
    "start_time": "2022-05-28T12:03:33.632Z"
   },
   {
    "duration": 10,
    "start_time": "2022-05-28T12:03:33.840Z"
   },
   {
    "duration": 22,
    "start_time": "2022-05-28T12:03:33.851Z"
   },
   {
    "duration": 640,
    "start_time": "2022-05-28T12:03:33.875Z"
   },
   {
    "duration": 87,
    "start_time": "2022-05-28T12:03:34.517Z"
   },
   {
    "duration": 2,
    "start_time": "2022-05-28T12:03:36.421Z"
   },
   {
    "duration": 550700,
    "start_time": "2022-05-28T12:03:36.780Z"
   },
   {
    "duration": 0,
    "start_time": "2022-05-28T12:21:15.173Z"
   },
   {
    "duration": 0,
    "start_time": "2022-05-28T12:21:15.175Z"
   },
   {
    "duration": 0,
    "start_time": "2022-05-28T12:21:15.194Z"
   },
   {
    "duration": 0,
    "start_time": "2022-05-28T12:21:15.196Z"
   },
   {
    "duration": 0,
    "start_time": "2022-05-28T12:21:15.198Z"
   },
   {
    "duration": 0,
    "start_time": "2022-05-28T12:21:15.199Z"
   },
   {
    "duration": 0,
    "start_time": "2022-05-28T12:21:15.200Z"
   },
   {
    "duration": 0,
    "start_time": "2022-05-28T12:21:15.201Z"
   },
   {
    "duration": 0,
    "start_time": "2022-05-28T12:21:15.202Z"
   },
   {
    "duration": 0,
    "start_time": "2022-05-28T12:21:15.204Z"
   },
   {
    "duration": 0,
    "start_time": "2022-05-28T12:21:15.205Z"
   },
   {
    "duration": 0,
    "start_time": "2022-05-28T12:21:15.207Z"
   },
   {
    "duration": 0,
    "start_time": "2022-05-28T12:21:15.208Z"
   },
   {
    "duration": 0,
    "start_time": "2022-05-28T12:21:15.212Z"
   },
   {
    "duration": 0,
    "start_time": "2022-05-28T12:21:15.213Z"
   },
   {
    "duration": 0,
    "start_time": "2022-05-28T12:21:15.215Z"
   },
   {
    "duration": 0,
    "start_time": "2022-05-28T12:21:15.216Z"
   },
   {
    "duration": 0,
    "start_time": "2022-05-28T12:21:15.217Z"
   },
   {
    "duration": 0,
    "start_time": "2022-05-28T12:21:15.218Z"
   },
   {
    "duration": 0,
    "start_time": "2022-05-28T12:21:15.219Z"
   },
   {
    "duration": 0,
    "start_time": "2022-05-28T12:21:15.220Z"
   },
   {
    "duration": 0,
    "start_time": "2022-05-28T12:21:15.222Z"
   },
   {
    "duration": 0,
    "start_time": "2022-05-28T12:21:15.223Z"
   },
   {
    "duration": 0,
    "start_time": "2022-05-28T12:21:15.224Z"
   },
   {
    "duration": 0,
    "start_time": "2022-05-28T12:21:15.225Z"
   },
   {
    "duration": 0,
    "start_time": "2022-05-28T12:21:15.227Z"
   },
   {
    "duration": 0,
    "start_time": "2022-05-28T12:21:15.229Z"
   },
   {
    "duration": 0,
    "start_time": "2022-05-28T12:21:15.230Z"
   },
   {
    "duration": 0,
    "start_time": "2022-05-28T12:21:15.294Z"
   },
   {
    "duration": 0,
    "start_time": "2022-05-28T12:21:15.296Z"
   },
   {
    "duration": 0,
    "start_time": "2022-05-28T12:21:15.298Z"
   },
   {
    "duration": 0,
    "start_time": "2022-05-28T12:21:15.300Z"
   },
   {
    "duration": 0,
    "start_time": "2022-05-28T12:21:15.301Z"
   },
   {
    "duration": 0,
    "start_time": "2022-05-28T12:21:15.302Z"
   },
   {
    "duration": 0,
    "start_time": "2022-05-28T12:21:15.304Z"
   },
   {
    "duration": 0,
    "start_time": "2022-05-28T12:21:15.305Z"
   },
   {
    "duration": 0,
    "start_time": "2022-05-28T12:21:15.306Z"
   },
   {
    "duration": 0,
    "start_time": "2022-05-28T12:21:15.307Z"
   },
   {
    "duration": 0,
    "start_time": "2022-05-28T12:21:15.309Z"
   },
   {
    "duration": 0,
    "start_time": "2022-05-28T12:21:15.311Z"
   },
   {
    "duration": 0,
    "start_time": "2022-05-28T12:21:15.312Z"
   },
   {
    "duration": 0,
    "start_time": "2022-05-28T12:21:15.314Z"
   },
   {
    "duration": 0,
    "start_time": "2022-05-28T12:21:15.315Z"
   },
   {
    "duration": 0,
    "start_time": "2022-05-28T12:21:15.317Z"
   },
   {
    "duration": 1383,
    "start_time": "2022-05-28T12:21:36.790Z"
   },
   {
    "duration": 956,
    "start_time": "2022-05-28T12:21:38.174Z"
   },
   {
    "duration": 119,
    "start_time": "2022-05-28T12:21:39.132Z"
   },
   {
    "duration": 3,
    "start_time": "2022-05-28T12:21:39.253Z"
   },
   {
    "duration": 278,
    "start_time": "2022-05-28T12:21:39.257Z"
   },
   {
    "duration": 30,
    "start_time": "2022-05-28T12:21:39.537Z"
   },
   {
    "duration": 278,
    "start_time": "2022-05-28T12:21:39.569Z"
   },
   {
    "duration": 87,
    "start_time": "2022-05-28T12:21:39.848Z"
   },
   {
    "duration": 33,
    "start_time": "2022-05-28T12:21:39.937Z"
   },
   {
    "duration": 34,
    "start_time": "2022-05-28T12:21:39.973Z"
   },
   {
    "duration": 12,
    "start_time": "2022-05-28T12:21:40.009Z"
   },
   {
    "duration": 3399,
    "start_time": "2022-05-28T12:21:40.023Z"
   },
   {
    "duration": 111,
    "start_time": "2022-05-28T12:21:43.424Z"
   },
   {
    "duration": 406,
    "start_time": "2022-05-28T12:21:43.536Z"
   },
   {
    "duration": 462,
    "start_time": "2022-05-28T12:21:43.944Z"
   },
   {
    "duration": 99,
    "start_time": "2022-05-28T12:21:44.408Z"
   },
   {
    "duration": 582,
    "start_time": "2022-05-28T12:21:44.509Z"
   },
   {
    "duration": 173,
    "start_time": "2022-05-28T12:21:45.093Z"
   },
   {
    "duration": 151,
    "start_time": "2022-05-28T12:21:45.268Z"
   },
   {
    "duration": 94,
    "start_time": "2022-05-28T12:21:45.421Z"
   },
   {
    "duration": 233,
    "start_time": "2022-05-28T12:21:45.519Z"
   },
   {
    "duration": 41,
    "start_time": "2022-05-28T12:21:45.754Z"
   },
   {
    "duration": 203,
    "start_time": "2022-05-28T12:21:45.797Z"
   },
   {
    "duration": 143,
    "start_time": "2022-05-28T12:21:46.002Z"
   },
   {
    "duration": 34,
    "start_time": "2022-05-28T12:21:46.146Z"
   },
   {
    "duration": 14,
    "start_time": "2022-05-28T12:21:46.182Z"
   },
   {
    "duration": 23,
    "start_time": "2022-05-28T12:21:46.198Z"
   },
   {
    "duration": 126,
    "start_time": "2022-05-28T12:21:46.225Z"
   },
   {
    "duration": 8,
    "start_time": "2022-05-28T12:21:46.353Z"
   },
   {
    "duration": 44,
    "start_time": "2022-05-28T12:21:46.363Z"
   },
   {
    "duration": 11,
    "start_time": "2022-05-28T12:21:46.409Z"
   },
   {
    "duration": 7,
    "start_time": "2022-05-28T12:21:46.422Z"
   },
   {
    "duration": 16,
    "start_time": "2022-05-28T12:21:46.430Z"
   },
   {
    "duration": 260,
    "start_time": "2022-05-28T12:21:46.448Z"
   },
   {
    "duration": 25,
    "start_time": "2022-05-28T12:21:46.710Z"
   },
   {
    "duration": 161,
    "start_time": "2022-05-28T12:21:46.737Z"
   },
   {
    "duration": 49,
    "start_time": "2022-05-28T12:21:46.899Z"
   },
   {
    "duration": 184,
    "start_time": "2022-05-28T12:21:46.949Z"
   },
   {
    "duration": 25,
    "start_time": "2022-05-28T12:21:47.135Z"
   },
   {
    "duration": 220,
    "start_time": "2022-05-28T12:21:47.161Z"
   },
   {
    "duration": 13,
    "start_time": "2022-05-28T12:21:47.383Z"
   },
   {
    "duration": 27,
    "start_time": "2022-05-28T12:21:47.398Z"
   },
   {
    "duration": 578,
    "start_time": "2022-05-28T12:21:47.428Z"
   },
   {
    "duration": 81,
    "start_time": "2022-05-28T12:21:54.852Z"
   },
   {
    "duration": 4,
    "start_time": "2022-05-28T12:22:00.461Z"
   },
   {
    "duration": 107,
    "start_time": "2022-05-28T12:42:49.622Z"
   },
   {
    "duration": 592,
    "start_time": "2022-05-28T12:42:49.731Z"
   },
   {
    "duration": 1307,
    "start_time": "2022-05-28T12:42:50.399Z"
   },
   {
    "duration": 4,
    "start_time": "2022-05-28T12:42:51.709Z"
   },
   {
    "duration": 26,
    "start_time": "2022-05-28T12:42:51.715Z"
   },
   {
    "duration": 0,
    "start_time": "2022-05-28T12:42:51.749Z"
   },
   {
    "duration": 0,
    "start_time": "2022-05-28T12:42:51.751Z"
   },
   {
    "duration": 0,
    "start_time": "2022-05-28T12:42:51.752Z"
   },
   {
    "duration": 0,
    "start_time": "2022-05-28T12:42:51.754Z"
   },
   {
    "duration": 0,
    "start_time": "2022-05-28T12:42:51.756Z"
   },
   {
    "duration": 0,
    "start_time": "2022-05-28T12:42:51.758Z"
   },
   {
    "duration": 0,
    "start_time": "2022-05-28T12:42:51.759Z"
   },
   {
    "duration": 0,
    "start_time": "2022-05-28T12:42:51.760Z"
   },
   {
    "duration": 0,
    "start_time": "2022-05-28T12:42:51.762Z"
   },
   {
    "duration": 0,
    "start_time": "2022-05-28T12:42:51.763Z"
   },
   {
    "duration": 0,
    "start_time": "2022-05-28T12:42:51.764Z"
   },
   {
    "duration": 0,
    "start_time": "2022-05-28T12:42:51.765Z"
   },
   {
    "duration": 0,
    "start_time": "2022-05-28T12:42:51.767Z"
   },
   {
    "duration": 0,
    "start_time": "2022-05-28T12:42:51.768Z"
   },
   {
    "duration": 0,
    "start_time": "2022-05-28T12:42:51.769Z"
   },
   {
    "duration": 0,
    "start_time": "2022-05-28T12:42:51.770Z"
   },
   {
    "duration": 0,
    "start_time": "2022-05-28T12:42:51.795Z"
   },
   {
    "duration": 0,
    "start_time": "2022-05-28T12:42:51.800Z"
   },
   {
    "duration": 0,
    "start_time": "2022-05-28T12:42:51.801Z"
   },
   {
    "duration": 9,
    "start_time": "2022-05-28T12:43:00.918Z"
   },
   {
    "duration": 1432,
    "start_time": "2022-05-28T12:43:00.937Z"
   },
   {
    "duration": 191,
    "start_time": "2022-05-28T12:43:02.373Z"
   },
   {
    "duration": 3,
    "start_time": "2022-05-28T12:43:02.567Z"
   },
   {
    "duration": 351,
    "start_time": "2022-05-28T12:43:02.573Z"
   },
   {
    "duration": 31,
    "start_time": "2022-05-28T12:43:02.926Z"
   },
   {
    "duration": 306,
    "start_time": "2022-05-28T12:43:02.959Z"
   },
   {
    "duration": 88,
    "start_time": "2022-05-28T12:43:03.268Z"
   },
   {
    "duration": 60,
    "start_time": "2022-05-28T12:43:03.359Z"
   },
   {
    "duration": 20,
    "start_time": "2022-05-28T12:43:03.434Z"
   },
   {
    "duration": 18,
    "start_time": "2022-05-28T12:43:03.458Z"
   },
   {
    "duration": 4500,
    "start_time": "2022-05-28T12:43:03.477Z"
   },
   {
    "duration": 117,
    "start_time": "2022-05-28T12:43:07.979Z"
   },
   {
    "duration": 428,
    "start_time": "2022-05-28T12:43:08.097Z"
   },
   {
    "duration": 699,
    "start_time": "2022-05-28T12:43:08.529Z"
   },
   {
    "duration": 124,
    "start_time": "2022-05-28T12:43:09.230Z"
   },
   {
    "duration": 821,
    "start_time": "2022-05-28T12:43:09.356Z"
   },
   {
    "duration": 259,
    "start_time": "2022-05-28T12:43:10.180Z"
   },
   {
    "duration": 224,
    "start_time": "2022-05-28T12:43:10.441Z"
   },
   {
    "duration": 121,
    "start_time": "2022-05-28T12:43:10.668Z"
   },
   {
    "duration": 295,
    "start_time": "2022-05-28T12:43:10.794Z"
   },
   {
    "duration": 40,
    "start_time": "2022-05-28T12:43:11.095Z"
   },
   {
    "duration": 296,
    "start_time": "2022-05-28T12:43:11.138Z"
   },
   {
    "duration": 166,
    "start_time": "2022-05-28T12:43:11.437Z"
   },
   {
    "duration": 32,
    "start_time": "2022-05-28T12:43:11.605Z"
   },
   {
    "duration": 5,
    "start_time": "2022-05-28T12:43:11.640Z"
   },
   {
    "duration": 30,
    "start_time": "2022-05-28T12:43:11.647Z"
   },
   {
    "duration": 121,
    "start_time": "2022-05-28T12:43:11.696Z"
   },
   {
    "duration": 10,
    "start_time": "2022-05-28T12:43:11.819Z"
   },
   {
    "duration": 46,
    "start_time": "2022-05-28T12:43:11.832Z"
   },
   {
    "duration": 17,
    "start_time": "2022-05-28T12:43:11.881Z"
   },
   {
    "duration": 12,
    "start_time": "2022-05-28T12:43:11.901Z"
   },
   {
    "duration": 21,
    "start_time": "2022-05-28T12:43:11.915Z"
   },
   {
    "duration": 173,
    "start_time": "2022-05-28T12:43:11.938Z"
   },
   {
    "duration": 27,
    "start_time": "2022-05-28T12:43:12.113Z"
   },
   {
    "duration": 352,
    "start_time": "2022-05-28T12:43:12.142Z"
   },
   {
    "duration": 56,
    "start_time": "2022-05-28T12:43:12.498Z"
   },
   {
    "duration": 268,
    "start_time": "2022-05-28T12:43:12.556Z"
   },
   {
    "duration": 31,
    "start_time": "2022-05-28T12:43:12.827Z"
   },
   {
    "duration": 241,
    "start_time": "2022-05-28T12:43:12.860Z"
   },
   {
    "duration": 12,
    "start_time": "2022-05-28T12:43:13.103Z"
   },
   {
    "duration": 50,
    "start_time": "2022-05-28T12:43:13.117Z"
   },
   {
    "duration": 878,
    "start_time": "2022-05-28T12:43:13.169Z"
   },
   {
    "duration": 116,
    "start_time": "2022-05-28T12:43:14.050Z"
   },
   {
    "duration": 544,
    "start_time": "2022-05-28T12:43:14.168Z"
   },
   {
    "duration": 6836,
    "start_time": "2022-05-28T12:43:14.716Z"
   },
   {
    "duration": 6,
    "start_time": "2022-05-28T12:43:32.100Z"
   },
   {
    "duration": 581,
    "start_time": "2022-05-28T12:43:45.195Z"
   },
   {
    "duration": 131,
    "start_time": "2022-05-28T12:43:47.532Z"
   },
   {
    "duration": 6,
    "start_time": "2022-05-28T12:43:49.506Z"
   },
   {
    "duration": 302373,
    "start_time": "2022-05-28T12:43:51.419Z"
   },
   {
    "duration": 4,
    "start_time": "2022-05-28T12:48:56.354Z"
   },
   {
    "duration": 9846,
    "start_time": "2022-05-28T12:48:57.030Z"
   },
   {
    "duration": 2747,
    "start_time": "2022-05-28T12:49:08.479Z"
   },
   {
    "duration": 3,
    "start_time": "2022-05-28T12:49:15.222Z"
   },
   {
    "duration": 692382,
    "start_time": "2022-05-28T12:49:15.678Z"
   },
   {
    "duration": 5,
    "start_time": "2022-05-28T13:01:28.417Z"
   },
   {
    "duration": 3739,
    "start_time": "2022-05-28T13:01:35.545Z"
   },
   {
    "duration": 4,
    "start_time": "2022-05-28T13:01:39.286Z"
   },
   {
    "duration": 3,
    "start_time": "2022-05-28T13:01:41.675Z"
   },
   {
    "duration": 2911660,
    "start_time": "2022-05-28T13:01:42.617Z"
   },
   {
    "duration": 3,
    "start_time": "2022-05-28T13:50:28.303Z"
   },
   {
    "duration": 45,
    "start_time": "2022-05-28T13:50:28.696Z"
   },
   {
    "duration": 64,
    "start_time": "2022-05-28T13:50:40.784Z"
   },
   {
    "duration": 4698,
    "start_time": "2022-05-28T13:50:45.063Z"
   },
   {
    "duration": 4,
    "start_time": "2022-05-28T13:50:53.437Z"
   },
   {
    "duration": 432029,
    "start_time": "2022-05-28T13:50:53.951Z"
   },
   {
    "duration": 23,
    "start_time": "2022-05-28T13:58:05.983Z"
   },
   {
    "duration": 0,
    "start_time": "2022-05-28T13:58:06.008Z"
   },
   {
    "duration": 86,
    "start_time": "2022-05-28T13:58:22.786Z"
   },
   {
    "duration": 1565,
    "start_time": "2022-05-28T13:58:31.164Z"
   },
   {
    "duration": 2628,
    "start_time": "2022-05-28T13:58:32.731Z"
   },
   {
    "duration": 202,
    "start_time": "2022-05-28T13:58:35.361Z"
   },
   {
    "duration": 4,
    "start_time": "2022-05-28T13:58:35.566Z"
   },
   {
    "duration": 358,
    "start_time": "2022-05-28T13:58:35.574Z"
   },
   {
    "duration": 34,
    "start_time": "2022-05-28T13:58:35.934Z"
   },
   {
    "duration": 339,
    "start_time": "2022-05-28T13:58:35.970Z"
   },
   {
    "duration": 84,
    "start_time": "2022-05-28T13:58:36.311Z"
   },
   {
    "duration": 35,
    "start_time": "2022-05-28T13:58:36.397Z"
   },
   {
    "duration": 21,
    "start_time": "2022-05-28T13:58:36.436Z"
   },
   {
    "duration": 42,
    "start_time": "2022-05-28T13:58:36.460Z"
   },
   {
    "duration": 3739,
    "start_time": "2022-05-28T13:58:36.504Z"
   },
   {
    "duration": 121,
    "start_time": "2022-05-28T13:58:40.245Z"
   },
   {
    "duration": 441,
    "start_time": "2022-05-28T13:58:40.368Z"
   },
   {
    "duration": 485,
    "start_time": "2022-05-28T13:58:40.811Z"
   },
   {
    "duration": 114,
    "start_time": "2022-05-28T13:58:41.298Z"
   },
   {
    "duration": 629,
    "start_time": "2022-05-28T13:58:41.414Z"
   },
   {
    "duration": 202,
    "start_time": "2022-05-28T13:58:42.046Z"
   },
   {
    "duration": 147,
    "start_time": "2022-05-28T13:58:42.250Z"
   },
   {
    "duration": 73,
    "start_time": "2022-05-28T13:58:42.398Z"
   },
   {
    "duration": 229,
    "start_time": "2022-05-28T13:58:42.473Z"
   },
   {
    "duration": 29,
    "start_time": "2022-05-28T13:58:42.704Z"
   },
   {
    "duration": 211,
    "start_time": "2022-05-28T13:58:42.735Z"
   },
   {
    "duration": 258,
    "start_time": "2022-05-28T13:58:42.948Z"
   },
   {
    "duration": 89,
    "start_time": "2022-05-28T13:58:43.207Z"
   },
   {
    "duration": 4,
    "start_time": "2022-05-28T13:58:43.298Z"
   },
   {
    "duration": 29,
    "start_time": "2022-05-28T13:58:43.304Z"
   },
   {
    "duration": 202,
    "start_time": "2022-05-28T13:58:43.337Z"
   },
   {
    "duration": 57,
    "start_time": "2022-05-28T13:58:43.541Z"
   },
   {
    "duration": 34,
    "start_time": "2022-05-28T13:58:43.600Z"
   },
   {
    "duration": 68,
    "start_time": "2022-05-28T13:58:43.636Z"
   },
   {
    "duration": 16,
    "start_time": "2022-05-28T13:58:43.706Z"
   },
   {
    "duration": 20,
    "start_time": "2022-05-28T13:58:43.724Z"
   },
   {
    "duration": 546,
    "start_time": "2022-05-28T13:58:43.747Z"
   },
   {
    "duration": 28,
    "start_time": "2022-05-28T13:58:44.295Z"
   },
   {
    "duration": 183,
    "start_time": "2022-05-28T13:58:44.325Z"
   },
   {
    "duration": 68,
    "start_time": "2022-05-28T13:58:44.510Z"
   },
   {
    "duration": 272,
    "start_time": "2022-05-28T13:58:44.599Z"
   },
   {
    "duration": 46,
    "start_time": "2022-05-28T13:58:44.874Z"
   },
   {
    "duration": 206,
    "start_time": "2022-05-28T13:58:44.923Z"
   },
   {
    "duration": 15,
    "start_time": "2022-05-28T13:58:45.131Z"
   },
   {
    "duration": 32,
    "start_time": "2022-05-28T13:58:45.148Z"
   },
   {
    "duration": 581,
    "start_time": "2022-05-28T13:58:45.196Z"
   },
   {
    "duration": 96,
    "start_time": "2022-05-28T13:58:45.779Z"
   },
   {
    "duration": 584964,
    "start_time": "2022-05-28T13:58:47.746Z"
   },
   {
    "duration": 1602,
    "start_time": "2022-05-28T14:20:39.705Z"
   },
   {
    "duration": 1849,
    "start_time": "2022-05-28T14:20:41.310Z"
   },
   {
    "duration": 335,
    "start_time": "2022-05-28T14:20:43.162Z"
   },
   {
    "duration": 5,
    "start_time": "2022-05-28T14:20:43.500Z"
   },
   {
    "duration": 925,
    "start_time": "2022-05-28T14:20:43.507Z"
   },
   {
    "duration": 100,
    "start_time": "2022-05-28T14:20:44.434Z"
   },
   {
    "duration": 962,
    "start_time": "2022-05-28T14:20:44.537Z"
   },
   {
    "duration": 139,
    "start_time": "2022-05-28T14:20:45.502Z"
   },
   {
    "duration": 41,
    "start_time": "2022-05-28T14:20:45.644Z"
   },
   {
    "duration": 23,
    "start_time": "2022-05-28T14:20:45.697Z"
   },
   {
    "duration": 23,
    "start_time": "2022-05-28T14:20:45.722Z"
   },
   {
    "duration": 3903,
    "start_time": "2022-05-28T14:20:45.747Z"
   },
   {
    "duration": 125,
    "start_time": "2022-05-28T14:20:49.652Z"
   },
   {
    "duration": 701,
    "start_time": "2022-05-28T14:20:49.780Z"
   },
   {
    "duration": 577,
    "start_time": "2022-05-28T14:20:50.483Z"
   },
   {
    "duration": 679,
    "start_time": "2022-05-28T14:20:53.682Z"
   },
   {
    "duration": 25,
    "start_time": "2022-05-28T14:22:24.102Z"
   },
   {
    "duration": 5,
    "start_time": "2022-05-28T14:22:35.737Z"
   },
   {
    "duration": 1121,
    "start_time": "2022-05-28T14:22:35.744Z"
   },
   {
    "duration": 132,
    "start_time": "2022-05-28T14:22:36.867Z"
   },
   {
    "duration": 4,
    "start_time": "2022-05-28T14:22:37.001Z"
   },
   {
    "duration": 333,
    "start_time": "2022-05-28T14:22:37.008Z"
   },
   {
    "duration": 45,
    "start_time": "2022-05-28T14:22:37.346Z"
   },
   {
    "duration": 363,
    "start_time": "2022-05-28T14:22:37.393Z"
   },
   {
    "duration": 73,
    "start_time": "2022-05-28T14:22:37.758Z"
   },
   {
    "duration": 48,
    "start_time": "2022-05-28T14:22:37.833Z"
   },
   {
    "duration": 20,
    "start_time": "2022-05-28T14:22:37.894Z"
   },
   {
    "duration": 16,
    "start_time": "2022-05-28T14:22:37.917Z"
   },
   {
    "duration": 3694,
    "start_time": "2022-05-28T14:22:37.935Z"
   },
   {
    "duration": 6,
    "start_time": "2022-05-28T14:25:38.753Z"
   },
   {
    "duration": 1004,
    "start_time": "2022-05-28T14:25:38.763Z"
   },
   {
    "duration": 132,
    "start_time": "2022-05-28T14:25:39.770Z"
   },
   {
    "duration": 4,
    "start_time": "2022-05-28T14:25:39.904Z"
   },
   {
    "duration": 285,
    "start_time": "2022-05-28T14:25:39.910Z"
   },
   {
    "duration": 41,
    "start_time": "2022-05-28T14:25:40.199Z"
   },
   {
    "duration": 327,
    "start_time": "2022-05-28T14:25:40.242Z"
   },
   {
    "duration": 66,
    "start_time": "2022-05-28T14:25:40.571Z"
   },
   {
    "duration": 59,
    "start_time": "2022-05-28T14:25:40.639Z"
   },
   {
    "duration": 20,
    "start_time": "2022-05-28T14:25:40.700Z"
   },
   {
    "duration": 15,
    "start_time": "2022-05-28T14:25:40.723Z"
   },
   {
    "duration": 3763,
    "start_time": "2022-05-28T14:25:40.740Z"
   },
   {
    "duration": 119,
    "start_time": "2022-05-28T14:25:44.505Z"
   },
   {
    "duration": 455,
    "start_time": "2022-05-28T14:25:44.626Z"
   },
   {
    "duration": 454,
    "start_time": "2022-05-28T14:25:45.082Z"
   },
   {
    "duration": 552,
    "start_time": "2022-05-28T14:25:45.539Z"
   },
   {
    "duration": 105,
    "start_time": "2022-05-28T14:25:46.094Z"
   },
   {
    "duration": 687,
    "start_time": "2022-05-28T14:25:46.201Z"
   },
   {
    "duration": 186,
    "start_time": "2022-05-28T14:25:46.890Z"
   },
   {
    "duration": 176,
    "start_time": "2022-05-28T14:25:47.078Z"
   },
   {
    "duration": 110,
    "start_time": "2022-05-28T14:25:47.256Z"
   },
   {
    "duration": 311,
    "start_time": "2022-05-28T14:25:47.369Z"
   },
   {
    "duration": 51,
    "start_time": "2022-05-28T14:25:47.683Z"
   },
   {
    "duration": 209,
    "start_time": "2022-05-28T14:25:47.736Z"
   },
   {
    "duration": 152,
    "start_time": "2022-05-28T14:25:47.947Z"
   },
   {
    "duration": 42,
    "start_time": "2022-05-28T14:25:48.102Z"
   },
   {
    "duration": 6,
    "start_time": "2022-05-28T14:25:48.146Z"
   },
   {
    "duration": 43,
    "start_time": "2022-05-28T14:25:48.154Z"
   },
   {
    "duration": 142,
    "start_time": "2022-05-28T14:25:48.202Z"
   },
   {
    "duration": 8,
    "start_time": "2022-05-28T14:25:48.346Z"
   },
   {
    "duration": 55,
    "start_time": "2022-05-28T14:25:48.356Z"
   },
   {
    "duration": 13,
    "start_time": "2022-05-28T14:25:48.413Z"
   },
   {
    "duration": 10,
    "start_time": "2022-05-28T14:25:48.428Z"
   },
   {
    "duration": 18,
    "start_time": "2022-05-28T14:25:48.442Z"
   },
   {
    "duration": 189,
    "start_time": "2022-05-28T14:25:48.463Z"
   },
   {
    "duration": 55,
    "start_time": "2022-05-28T14:25:48.660Z"
   },
   {
    "duration": 185,
    "start_time": "2022-05-28T14:25:48.717Z"
   },
   {
    "duration": 74,
    "start_time": "2022-05-28T14:25:48.905Z"
   },
   {
    "duration": 347,
    "start_time": "2022-05-28T14:25:48.981Z"
   },
   {
    "duration": 26,
    "start_time": "2022-05-28T14:25:49.330Z"
   },
   {
    "duration": 175,
    "start_time": "2022-05-28T14:25:49.358Z"
   },
   {
    "duration": 10,
    "start_time": "2022-05-28T14:25:49.535Z"
   },
   {
    "duration": 30,
    "start_time": "2022-05-28T14:25:49.547Z"
   },
   {
    "duration": 78,
    "start_time": "2022-05-28T14:25:51.154Z"
   },
   {
    "duration": 93,
    "start_time": "2022-05-28T14:26:28.351Z"
   },
   {
    "duration": 593,
    "start_time": "2022-05-28T14:26:32.821Z"
   },
   {
    "duration": 499,
    "start_time": "2022-05-28T14:26:37.217Z"
   },
   {
    "duration": 84,
    "start_time": "2022-05-28T14:26:45.949Z"
   },
   {
    "duration": 4,
    "start_time": "2022-05-28T14:26:51.366Z"
   },
   {
    "duration": 955847,
    "start_time": "2022-05-28T14:26:51.955Z"
   },
   {
    "duration": 14,
    "start_time": "2022-05-28T14:42:47.804Z"
   },
   {
    "duration": 47,
    "start_time": "2022-05-28T14:43:40.177Z"
   },
   {
    "duration": 8,
    "start_time": "2022-05-28T14:43:47.382Z"
   },
   {
    "duration": 1455,
    "start_time": "2022-05-28T14:43:47.392Z"
   },
   {
    "duration": 216,
    "start_time": "2022-05-28T14:43:48.850Z"
   },
   {
    "duration": 4,
    "start_time": "2022-05-28T14:43:49.067Z"
   },
   {
    "duration": 280,
    "start_time": "2022-05-28T14:43:49.073Z"
   },
   {
    "duration": 53,
    "start_time": "2022-05-28T14:43:49.355Z"
   },
   {
    "duration": 268,
    "start_time": "2022-05-28T14:43:49.410Z"
   },
   {
    "duration": 63,
    "start_time": "2022-05-28T14:43:49.680Z"
   },
   {
    "duration": 32,
    "start_time": "2022-05-28T14:43:49.745Z"
   },
   {
    "duration": 31,
    "start_time": "2022-05-28T14:43:49.796Z"
   },
   {
    "duration": 20,
    "start_time": "2022-05-28T14:43:49.831Z"
   },
   {
    "duration": 3746,
    "start_time": "2022-05-28T14:43:49.852Z"
   },
   {
    "duration": 173,
    "start_time": "2022-05-28T14:43:53.601Z"
   },
   {
    "duration": 533,
    "start_time": "2022-05-28T14:43:53.782Z"
   },
   {
    "duration": 3,
    "start_time": "2022-05-28T14:43:54.317Z"
   },
   {
    "duration": 124,
    "start_time": "2022-05-28T14:43:54.322Z"
   },
   {
    "duration": 876,
    "start_time": "2022-05-28T14:43:54.448Z"
   },
   {
    "duration": 569,
    "start_time": "2022-05-28T14:43:55.327Z"
   },
   {
    "duration": 418,
    "start_time": "2022-05-28T14:43:55.899Z"
   },
   {
    "duration": 200,
    "start_time": "2022-05-28T14:43:56.319Z"
   },
   {
    "duration": 591,
    "start_time": "2022-05-28T14:43:56.521Z"
   },
   {
    "duration": 86,
    "start_time": "2022-05-28T14:43:57.114Z"
   },
   {
    "duration": 439,
    "start_time": "2022-05-28T14:43:57.202Z"
   },
   {
    "duration": 328,
    "start_time": "2022-05-28T14:43:57.643Z"
   },
   {
    "duration": 47,
    "start_time": "2022-05-28T14:43:57.973Z"
   },
   {
    "duration": 7,
    "start_time": "2022-05-28T14:43:58.022Z"
   },
   {
    "duration": 35,
    "start_time": "2022-05-28T14:43:58.031Z"
   },
   {
    "duration": 120,
    "start_time": "2022-05-28T14:43:58.068Z"
   },
   {
    "duration": 9,
    "start_time": "2022-05-28T14:43:58.194Z"
   },
   {
    "duration": 48,
    "start_time": "2022-05-28T14:43:58.205Z"
   },
   {
    "duration": 12,
    "start_time": "2022-05-28T14:43:58.254Z"
   },
   {
    "duration": 31,
    "start_time": "2022-05-28T14:43:58.268Z"
   },
   {
    "duration": 23,
    "start_time": "2022-05-28T14:43:58.302Z"
   },
   {
    "duration": 219,
    "start_time": "2022-05-28T14:43:58.328Z"
   },
   {
    "duration": 32,
    "start_time": "2022-05-28T14:43:58.549Z"
   },
   {
    "duration": 191,
    "start_time": "2022-05-28T14:43:58.583Z"
   },
   {
    "duration": 63,
    "start_time": "2022-05-28T14:43:58.777Z"
   },
   {
    "duration": 220,
    "start_time": "2022-05-28T14:43:58.842Z"
   },
   {
    "duration": 40,
    "start_time": "2022-05-28T14:43:59.064Z"
   },
   {
    "duration": 242,
    "start_time": "2022-05-28T14:43:59.107Z"
   },
   {
    "duration": 13,
    "start_time": "2022-05-28T14:43:59.351Z"
   },
   {
    "duration": 41,
    "start_time": "2022-05-28T14:43:59.366Z"
   },
   {
    "duration": 97,
    "start_time": "2022-05-28T14:44:19.795Z"
   },
   {
    "duration": 5,
    "start_time": "2022-05-28T14:44:25.655Z"
   },
   {
    "duration": 1102,
    "start_time": "2022-05-28T14:44:27.151Z"
   },
   {
    "duration": 138,
    "start_time": "2022-05-28T14:44:29.096Z"
   },
   {
    "duration": 3,
    "start_time": "2022-05-28T14:44:30.776Z"
   },
   {
    "duration": 272,
    "start_time": "2022-05-28T14:44:32.464Z"
   },
   {
    "duration": 46,
    "start_time": "2022-05-28T14:44:35.292Z"
   },
   {
    "duration": 382,
    "start_time": "2022-05-28T14:44:37.240Z"
   },
   {
    "duration": 71,
    "start_time": "2022-05-28T14:44:38.847Z"
   },
   {
    "duration": 53,
    "start_time": "2022-05-28T14:44:39.823Z"
   },
   {
    "duration": 30,
    "start_time": "2022-05-28T14:44:44.685Z"
   },
   {
    "duration": 16,
    "start_time": "2022-05-28T14:44:46.273Z"
   },
   {
    "duration": 3859,
    "start_time": "2022-05-28T14:44:48.544Z"
   },
   {
    "duration": 118,
    "start_time": "2022-05-28T14:44:54.980Z"
   },
   {
    "duration": 479,
    "start_time": "2022-05-28T14:44:57.137Z"
   },
   {
    "duration": 452,
    "start_time": "2022-05-28T14:45:15.288Z"
   },
   {
    "duration": 97,
    "start_time": "2022-05-28T14:45:26.569Z"
   },
   {
    "duration": 682,
    "start_time": "2022-05-28T14:45:28.022Z"
   },
   {
    "duration": 343,
    "start_time": "2022-05-28T14:45:30.142Z"
   },
   {
    "duration": 146,
    "start_time": "2022-05-28T14:45:31.332Z"
   },
   {
    "duration": 81,
    "start_time": "2022-05-28T14:45:33.145Z"
   },
   {
    "duration": 200,
    "start_time": "2022-05-28T14:45:34.925Z"
   },
   {
    "duration": 24,
    "start_time": "2022-05-28T14:45:36.137Z"
   },
   {
    "duration": 222,
    "start_time": "2022-05-28T14:45:38.270Z"
   },
   {
    "duration": 170,
    "start_time": "2022-05-28T14:45:38.529Z"
   },
   {
    "duration": 36,
    "start_time": "2022-05-28T14:45:41.645Z"
   },
   {
    "duration": 279,
    "start_time": "2022-05-28T14:45:44.540Z"
   },
   {
    "duration": 6,
    "start_time": "2022-05-28T14:45:52.009Z"
   },
   {
    "duration": 27,
    "start_time": "2022-05-28T14:45:53.344Z"
   },
   {
    "duration": 155,
    "start_time": "2022-05-28T14:46:33.226Z"
   },
   {
    "duration": 9,
    "start_time": "2022-05-28T14:46:33.833Z"
   },
   {
    "duration": 46,
    "start_time": "2022-05-28T14:46:34.614Z"
   },
   {
    "duration": 266,
    "start_time": "2022-05-28T14:46:39.991Z"
   },
   {
    "duration": 11,
    "start_time": "2022-05-28T14:46:43.295Z"
   },
   {
    "duration": 10,
    "start_time": "2022-05-28T14:46:48.255Z"
   },
   {
    "duration": 20,
    "start_time": "2022-05-28T14:46:51.853Z"
   },
   {
    "duration": 168,
    "start_time": "2022-05-28T14:46:53.439Z"
   },
   {
    "duration": 94,
    "start_time": "2022-05-28T14:46:57.199Z"
   },
   {
    "duration": 28,
    "start_time": "2022-05-28T14:47:01.352Z"
   },
   {
    "duration": 100,
    "start_time": "2022-05-28T14:47:04.270Z"
   },
   {
    "duration": 27,
    "start_time": "2022-05-28T14:47:16.783Z"
   },
   {
    "duration": 7,
    "start_time": "2022-05-28T14:47:31.691Z"
   },
   {
    "duration": 1660,
    "start_time": "2022-05-28T14:47:31.703Z"
   },
   {
    "duration": 153,
    "start_time": "2022-05-28T14:47:33.366Z"
   },
   {
    "duration": 4,
    "start_time": "2022-05-28T14:47:33.522Z"
   },
   {
    "duration": 382,
    "start_time": "2022-05-28T14:47:33.529Z"
   },
   {
    "duration": 51,
    "start_time": "2022-05-28T14:47:33.914Z"
   },
   {
    "duration": 309,
    "start_time": "2022-05-28T14:47:33.967Z"
   },
   {
    "duration": 86,
    "start_time": "2022-05-28T14:47:34.278Z"
   },
   {
    "duration": 48,
    "start_time": "2022-05-28T14:47:34.366Z"
   },
   {
    "duration": 25,
    "start_time": "2022-05-28T14:47:34.415Z"
   },
   {
    "duration": 21,
    "start_time": "2022-05-28T14:47:34.444Z"
   },
   {
    "duration": 3871,
    "start_time": "2022-05-28T14:47:34.467Z"
   },
   {
    "duration": 112,
    "start_time": "2022-05-28T14:47:38.340Z"
   },
   {
    "duration": 485,
    "start_time": "2022-05-28T14:47:38.453Z"
   },
   {
    "duration": 3,
    "start_time": "2022-05-28T14:47:38.940Z"
   },
   {
    "duration": 112,
    "start_time": "2022-05-28T14:47:38.944Z"
   },
   {
    "duration": 706,
    "start_time": "2022-05-28T14:47:39.058Z"
   },
   {
    "duration": 240,
    "start_time": "2022-05-28T14:47:39.766Z"
   },
   {
    "duration": 170,
    "start_time": "2022-05-28T14:47:40.008Z"
   },
   {
    "duration": 93,
    "start_time": "2022-05-28T14:47:40.180Z"
   },
   {
    "duration": 259,
    "start_time": "2022-05-28T14:47:40.275Z"
   },
   {
    "duration": 26,
    "start_time": "2022-05-28T14:47:40.535Z"
   },
   {
    "duration": 265,
    "start_time": "2022-05-28T14:47:40.563Z"
   },
   {
    "duration": 178,
    "start_time": "2022-05-28T14:47:40.830Z"
   },
   {
    "duration": 26,
    "start_time": "2022-05-28T14:47:41.010Z"
   },
   {
    "duration": 5,
    "start_time": "2022-05-28T14:47:41.038Z"
   },
   {
    "duration": 54,
    "start_time": "2022-05-28T14:47:41.044Z"
   },
   {
    "duration": 183,
    "start_time": "2022-05-28T14:47:41.100Z"
   },
   {
    "duration": 11,
    "start_time": "2022-05-28T14:47:41.288Z"
   },
   {
    "duration": 44,
    "start_time": "2022-05-28T14:47:41.301Z"
   },
   {
    "duration": 190,
    "start_time": "2022-05-28T14:47:46.118Z"
   },
   {
    "duration": 13,
    "start_time": "2022-05-28T14:47:47.643Z"
   },
   {
    "duration": 121,
    "start_time": "2022-05-28T14:47:50.434Z"
   },
   {
    "duration": 9,
    "start_time": "2022-05-28T14:47:57.114Z"
   },
   {
    "duration": 13,
    "start_time": "2022-05-28T14:47:59.661Z"
   },
   {
    "duration": 101,
    "start_time": "2022-05-28T14:48:02.617Z"
   },
   {
    "duration": 172,
    "start_time": "2022-05-28T14:48:06.799Z"
   },
   {
    "duration": 27,
    "start_time": "2022-05-28T14:48:14.148Z"
   },
   {
    "duration": 85,
    "start_time": "2022-05-28T14:48:15.039Z"
   },
   {
    "duration": 209,
    "start_time": "2022-05-28T14:48:26.217Z"
   },
   {
    "duration": 64,
    "start_time": "2022-05-28T14:48:27.767Z"
   },
   {
    "duration": 179,
    "start_time": "2022-05-28T14:48:29.775Z"
   },
   {
    "duration": 92,
    "start_time": "2022-05-28T14:48:33.895Z"
   },
   {
    "duration": 34,
    "start_time": "2022-05-28T14:48:35.518Z"
   },
   {
    "duration": 130,
    "start_time": "2022-05-28T14:48:39.278Z"
   },
   {
    "duration": 207,
    "start_time": "2022-05-28T14:48:46.925Z"
   },
   {
    "duration": 11,
    "start_time": "2022-05-28T14:48:47.847Z"
   },
   {
    "duration": 29,
    "start_time": "2022-05-28T14:48:59.246Z"
   },
   {
    "duration": 123,
    "start_time": "2022-05-28T14:49:00.478Z"
   },
   {
    "duration": 876,
    "start_time": "2022-05-28T14:49:09.648Z"
   },
   {
    "duration": 52,
    "start_time": "2022-05-28T14:49:12.790Z"
   },
   {
    "duration": 52,
    "start_time": "2022-05-28T14:49:15.517Z"
   },
   {
    "duration": 60,
    "start_time": "2022-05-28T14:49:16.070Z"
   },
   {
    "duration": 50,
    "start_time": "2022-05-28T14:49:16.590Z"
   },
   {
    "duration": 440,
    "start_time": "2022-05-28T14:49:17.884Z"
   },
   {
    "duration": 35,
    "start_time": "2022-05-28T14:49:21.646Z"
   },
   {
    "duration": 93,
    "start_time": "2022-05-28T14:49:25.444Z"
   },
   {
    "duration": 3,
    "start_time": "2022-05-28T14:49:30.304Z"
   },
   {
    "duration": 3579,
    "start_time": "2022-05-28T14:49:30.369Z"
   },
   {
    "duration": 157053,
    "start_time": "2022-05-28T14:49:38.207Z"
   },
   {
    "duration": 4,
    "start_time": "2022-05-28T14:52:32.874Z"
   },
   {
    "duration": 1471,
    "start_time": "2022-05-28T14:52:32.882Z"
   },
   {
    "duration": 113,
    "start_time": "2022-05-28T14:52:34.355Z"
   },
   {
    "duration": 4,
    "start_time": "2022-05-28T14:52:34.471Z"
   },
   {
    "duration": 412,
    "start_time": "2022-05-28T14:52:34.495Z"
   },
   {
    "duration": 54,
    "start_time": "2022-05-28T14:52:34.909Z"
   },
   {
    "duration": 424,
    "start_time": "2022-05-28T14:52:34.966Z"
   },
   {
    "duration": 80,
    "start_time": "2022-05-28T14:52:35.392Z"
   },
   {
    "duration": 63,
    "start_time": "2022-05-28T14:52:35.475Z"
   },
   {
    "duration": 45,
    "start_time": "2022-05-28T14:52:35.540Z"
   },
   {
    "duration": 25,
    "start_time": "2022-05-28T14:52:35.594Z"
   },
   {
    "duration": 5580,
    "start_time": "2022-05-28T14:52:35.621Z"
   },
   {
    "duration": 120,
    "start_time": "2022-05-28T14:52:41.203Z"
   },
   {
    "duration": 666,
    "start_time": "2022-05-28T14:52:41.325Z"
   },
   {
    "duration": 3,
    "start_time": "2022-05-28T14:52:41.995Z"
   },
   {
    "duration": 139,
    "start_time": "2022-05-28T14:52:42.000Z"
   },
   {
    "duration": 874,
    "start_time": "2022-05-28T14:52:42.142Z"
   },
   {
    "duration": 500,
    "start_time": "2022-05-28T14:52:43.018Z"
   },
   {
    "duration": 243,
    "start_time": "2022-05-28T14:52:43.521Z"
   },
   {
    "duration": 133,
    "start_time": "2022-05-28T14:52:43.766Z"
   },
   {
    "duration": 303,
    "start_time": "2022-05-28T14:52:43.901Z"
   },
   {
    "duration": 39,
    "start_time": "2022-05-28T14:52:44.206Z"
   },
   {
    "duration": 302,
    "start_time": "2022-05-28T14:52:44.247Z"
   },
   {
    "duration": 228,
    "start_time": "2022-05-28T14:52:44.551Z"
   },
   {
    "duration": 42,
    "start_time": "2022-05-28T14:52:44.782Z"
   },
   {
    "duration": 5,
    "start_time": "2022-05-28T14:52:44.826Z"
   },
   {
    "duration": 35,
    "start_time": "2022-05-28T14:52:44.833Z"
   },
   {
    "duration": 200,
    "start_time": "2022-05-28T14:52:44.870Z"
   },
   {
    "duration": 19,
    "start_time": "2022-05-28T14:52:45.076Z"
   },
   {
    "duration": 33,
    "start_time": "2022-05-28T14:52:45.098Z"
   },
   {
    "duration": 185,
    "start_time": "2022-05-28T14:52:45.133Z"
   },
   {
    "duration": 12,
    "start_time": "2022-05-28T14:52:45.321Z"
   },
   {
    "duration": 114,
    "start_time": "2022-05-28T14:52:45.335Z"
   },
   {
    "duration": 8,
    "start_time": "2022-05-28T14:52:45.452Z"
   },
   {
    "duration": 34,
    "start_time": "2022-05-28T14:52:45.462Z"
   },
   {
    "duration": 122,
    "start_time": "2022-05-28T14:52:45.498Z"
   },
   {
    "duration": 149,
    "start_time": "2022-05-28T14:52:45.622Z"
   },
   {
    "duration": 37,
    "start_time": "2022-05-28T14:52:48.115Z"
   },
   {
    "duration": 133,
    "start_time": "2022-05-28T14:52:48.572Z"
   },
   {
    "duration": 5,
    "start_time": "2022-05-28T14:53:08.265Z"
   },
   {
    "duration": 1019,
    "start_time": "2022-05-28T14:53:08.274Z"
   },
   {
    "duration": 134,
    "start_time": "2022-05-28T14:53:09.296Z"
   },
   {
    "duration": 3,
    "start_time": "2022-05-28T14:53:09.432Z"
   },
   {
    "duration": 320,
    "start_time": "2022-05-28T14:53:09.438Z"
   },
   {
    "duration": 37,
    "start_time": "2022-05-28T14:53:09.761Z"
   },
   {
    "duration": 348,
    "start_time": "2022-05-28T14:53:09.801Z"
   },
   {
    "duration": 88,
    "start_time": "2022-05-28T14:53:10.151Z"
   },
   {
    "duration": 39,
    "start_time": "2022-05-28T14:53:10.242Z"
   },
   {
    "duration": 39,
    "start_time": "2022-05-28T14:53:10.283Z"
   },
   {
    "duration": 21,
    "start_time": "2022-05-28T14:53:10.326Z"
   },
   {
    "duration": 4025,
    "start_time": "2022-05-28T14:53:10.350Z"
   },
   {
    "duration": 204,
    "start_time": "2022-05-28T14:53:14.377Z"
   },
   {
    "duration": 636,
    "start_time": "2022-05-28T14:53:14.584Z"
   },
   {
    "duration": 3,
    "start_time": "2022-05-28T14:53:15.222Z"
   },
   {
    "duration": 131,
    "start_time": "2022-05-28T14:53:15.227Z"
   },
   {
    "duration": 668,
    "start_time": "2022-05-28T14:53:15.360Z"
   },
   {
    "duration": 264,
    "start_time": "2022-05-28T14:53:16.030Z"
   },
   {
    "duration": 254,
    "start_time": "2022-05-28T14:53:16.296Z"
   },
   {
    "duration": 123,
    "start_time": "2022-05-28T14:53:16.552Z"
   },
   {
    "duration": 331,
    "start_time": "2022-05-28T14:53:16.677Z"
   },
   {
    "duration": 44,
    "start_time": "2022-05-28T14:53:17.011Z"
   },
   {
    "duration": 300,
    "start_time": "2022-05-28T14:53:17.060Z"
   },
   {
    "duration": 222,
    "start_time": "2022-05-28T14:53:17.363Z"
   },
   {
    "duration": 38,
    "start_time": "2022-05-28T14:53:17.588Z"
   },
   {
    "duration": 29,
    "start_time": "2022-05-28T14:53:17.629Z"
   },
   {
    "duration": 44,
    "start_time": "2022-05-28T14:53:17.660Z"
   },
   {
    "duration": 192,
    "start_time": "2022-05-28T14:53:17.706Z"
   },
   {
    "duration": 10,
    "start_time": "2022-05-28T14:53:17.902Z"
   },
   {
    "duration": 40,
    "start_time": "2022-05-28T14:53:17.914Z"
   },
   {
    "duration": 273,
    "start_time": "2022-05-28T14:53:17.957Z"
   },
   {
    "duration": 15,
    "start_time": "2022-05-28T14:53:18.233Z"
   },
   {
    "duration": 166,
    "start_time": "2022-05-28T14:53:18.250Z"
   },
   {
    "duration": 9,
    "start_time": "2022-05-28T14:53:18.418Z"
   },
   {
    "duration": 16,
    "start_time": "2022-05-28T14:53:18.432Z"
   },
   {
    "duration": 170,
    "start_time": "2022-05-28T14:53:18.450Z"
   },
   {
    "duration": 255,
    "start_time": "2022-05-28T14:53:18.622Z"
   },
   {
    "duration": 44,
    "start_time": "2022-05-28T14:53:18.880Z"
   },
   {
    "duration": 157,
    "start_time": "2022-05-28T14:53:18.926Z"
   },
   {
    "duration": 279,
    "start_time": "2022-05-28T14:53:19.085Z"
   },
   {
    "duration": 83,
    "start_time": "2022-05-28T14:53:19.366Z"
   },
   {
    "duration": 259,
    "start_time": "2022-05-28T14:53:19.451Z"
   },
   {
    "duration": 143,
    "start_time": "2022-05-28T14:53:19.713Z"
   },
   {
    "duration": 47,
    "start_time": "2022-05-28T14:53:19.859Z"
   },
   {
    "duration": 138,
    "start_time": "2022-05-28T14:53:19.909Z"
   },
   {
    "duration": 258,
    "start_time": "2022-05-28T14:53:20.049Z"
   },
   {
    "duration": 26,
    "start_time": "2022-05-28T14:53:20.310Z"
   },
   {
    "duration": 157,
    "start_time": "2022-05-28T14:53:20.338Z"
   },
   {
    "duration": 874,
    "start_time": "2022-05-28T14:53:24.981Z"
   },
   {
    "duration": 111,
    "start_time": "2022-05-28T14:53:30.047Z"
   },
   {
    "duration": 239754,
    "start_time": "2022-05-28T14:53:37.816Z"
   },
   {
    "duration": 51,
    "start_time": "2022-05-28T14:57:59.380Z"
   },
   {
    "duration": 35,
    "start_time": "2022-05-28T14:58:34.586Z"
   },
   {
    "duration": 33,
    "start_time": "2022-05-28T14:59:11.282Z"
   },
   {
    "duration": 12,
    "start_time": "2022-05-28T14:59:12.482Z"
   },
   {
    "duration": 40,
    "start_time": "2022-05-28T14:59:19.059Z"
   },
   {
    "duration": 71,
    "start_time": "2022-05-28T14:59:20.779Z"
   },
   {
    "duration": 227854,
    "start_time": "2022-05-28T14:59:30.180Z"
   },
   {
    "duration": 36,
    "start_time": "2022-05-28T15:04:55.145Z"
   },
   {
    "duration": 43,
    "start_time": "2022-05-28T15:05:05.601Z"
   },
   {
    "duration": 4,
    "start_time": "2022-05-28T15:05:11.674Z"
   },
   {
    "duration": 970,
    "start_time": "2022-05-28T15:05:11.683Z"
   },
   {
    "duration": 120,
    "start_time": "2022-05-28T15:05:12.655Z"
   },
   {
    "duration": 4,
    "start_time": "2022-05-28T15:05:12.776Z"
   },
   {
    "duration": 256,
    "start_time": "2022-05-28T15:05:12.794Z"
   },
   {
    "duration": 32,
    "start_time": "2022-05-28T15:05:13.052Z"
   },
   {
    "duration": 268,
    "start_time": "2022-05-28T15:05:13.086Z"
   },
   {
    "duration": 74,
    "start_time": "2022-05-28T15:05:13.356Z"
   },
   {
    "duration": 32,
    "start_time": "2022-05-28T15:05:13.432Z"
   },
   {
    "duration": 42,
    "start_time": "2022-05-28T15:05:13.467Z"
   },
   {
    "duration": 16,
    "start_time": "2022-05-28T15:05:13.513Z"
   },
   {
    "duration": 3608,
    "start_time": "2022-05-28T15:05:13.531Z"
   },
   {
    "duration": 155,
    "start_time": "2022-05-28T15:05:17.141Z"
   },
   {
    "duration": 484,
    "start_time": "2022-05-28T15:05:17.298Z"
   },
   {
    "duration": 459,
    "start_time": "2022-05-28T15:05:17.784Z"
   },
   {
    "duration": 105,
    "start_time": "2022-05-28T15:05:18.245Z"
   },
   {
    "duration": 613,
    "start_time": "2022-05-28T15:05:18.352Z"
   },
   {
    "duration": 206,
    "start_time": "2022-05-28T15:05:18.967Z"
   },
   {
    "duration": 165,
    "start_time": "2022-05-28T15:05:19.174Z"
   },
   {
    "duration": 87,
    "start_time": "2022-05-28T15:05:19.340Z"
   },
   {
    "duration": 207,
    "start_time": "2022-05-28T15:05:19.430Z"
   },
   {
    "duration": 23,
    "start_time": "2022-05-28T15:05:19.639Z"
   },
   {
    "duration": 206,
    "start_time": "2022-05-28T15:05:19.663Z"
   },
   {
    "duration": 363,
    "start_time": "2022-05-28T15:05:19.871Z"
   },
   {
    "duration": 36,
    "start_time": "2022-05-28T15:05:20.236Z"
   },
   {
    "duration": 3,
    "start_time": "2022-05-28T15:05:20.274Z"
   },
   {
    "duration": 38,
    "start_time": "2022-05-28T15:05:20.279Z"
   },
   {
    "duration": 123,
    "start_time": "2022-05-28T15:05:20.319Z"
   },
   {
    "duration": 7,
    "start_time": "2022-05-28T15:05:20.445Z"
   },
   {
    "duration": 179,
    "start_time": "2022-05-28T15:05:20.454Z"
   },
   {
    "duration": 31,
    "start_time": "2022-05-28T15:05:20.635Z"
   },
   {
    "duration": 27,
    "start_time": "2022-05-28T15:05:20.668Z"
   },
   {
    "duration": 7,
    "start_time": "2022-05-28T15:05:20.697Z"
   },
   {
    "duration": 15,
    "start_time": "2022-05-28T15:05:20.706Z"
   },
   {
    "duration": 164,
    "start_time": "2022-05-28T15:05:20.723Z"
   },
   {
    "duration": 29,
    "start_time": "2022-05-28T15:05:20.894Z"
   },
   {
    "duration": 178,
    "start_time": "2022-05-28T15:05:20.924Z"
   },
   {
    "duration": 53,
    "start_time": "2022-05-28T15:05:21.104Z"
   },
   {
    "duration": 218,
    "start_time": "2022-05-28T15:05:21.159Z"
   },
   {
    "duration": 41,
    "start_time": "2022-05-28T15:05:21.379Z"
   },
   {
    "duration": 174,
    "start_time": "2022-05-28T15:05:21.423Z"
   },
   {
    "duration": 19,
    "start_time": "2022-05-28T15:05:21.599Z"
   },
   {
    "duration": 96,
    "start_time": "2022-05-28T15:05:21.620Z"
   },
   {
    "duration": 109,
    "start_time": "2022-05-28T15:05:21.718Z"
   },
   {
    "duration": 535,
    "start_time": "2022-05-28T15:05:21.829Z"
   },
   {
    "duration": 81,
    "start_time": "2022-05-28T15:05:22.366Z"
   },
   {
    "duration": 4,
    "start_time": "2022-05-28T15:05:28.745Z"
   },
   {
    "duration": 3562,
    "start_time": "2022-05-28T15:05:29.333Z"
   },
   {
    "duration": 518661,
    "start_time": "2022-05-28T15:05:34.776Z"
   },
   {
    "duration": 6,
    "start_time": "2022-05-28T16:15:56.768Z"
   },
   {
    "duration": 1386,
    "start_time": "2022-05-28T16:15:56.776Z"
   },
   {
    "duration": 214,
    "start_time": "2022-05-28T16:15:58.170Z"
   },
   {
    "duration": 45,
    "start_time": "2022-05-28T16:15:58.390Z"
   },
   {
    "duration": 436,
    "start_time": "2022-05-28T16:15:58.441Z"
   },
   {
    "duration": 67,
    "start_time": "2022-05-28T16:15:58.883Z"
   },
   {
    "duration": 462,
    "start_time": "2022-05-28T16:15:58.956Z"
   },
   {
    "duration": 104,
    "start_time": "2022-05-28T16:15:59.424Z"
   },
   {
    "duration": 54,
    "start_time": "2022-05-28T16:15:59.534Z"
   },
   {
    "duration": 46,
    "start_time": "2022-05-28T16:15:59.593Z"
   },
   {
    "duration": 134,
    "start_time": "2022-05-28T16:15:59.653Z"
   },
   {
    "duration": 6752,
    "start_time": "2022-05-28T16:15:59.799Z"
   },
   {
    "duration": 206,
    "start_time": "2022-05-28T16:16:06.553Z"
   },
   {
    "duration": 673,
    "start_time": "2022-05-28T16:16:06.762Z"
   },
   {
    "duration": 650,
    "start_time": "2022-05-28T16:16:07.440Z"
   },
   {
    "duration": 126,
    "start_time": "2022-05-28T16:16:08.092Z"
   },
   {
    "duration": 877,
    "start_time": "2022-05-28T16:16:08.221Z"
   },
   {
    "duration": 266,
    "start_time": "2022-05-28T16:16:09.101Z"
   },
   {
    "duration": 201,
    "start_time": "2022-05-28T16:16:09.370Z"
   },
   {
    "duration": 101,
    "start_time": "2022-05-28T16:16:09.573Z"
   },
   {
    "duration": 333,
    "start_time": "2022-05-28T16:16:09.679Z"
   },
   {
    "duration": 36,
    "start_time": "2022-05-28T16:16:10.014Z"
   },
   {
    "duration": 301,
    "start_time": "2022-05-28T16:16:10.052Z"
   },
   {
    "duration": 247,
    "start_time": "2022-05-28T16:16:10.355Z"
   },
   {
    "duration": 51,
    "start_time": "2022-05-28T16:16:10.605Z"
   },
   {
    "duration": 5,
    "start_time": "2022-05-28T16:16:10.658Z"
   },
   {
    "duration": 48,
    "start_time": "2022-05-28T16:16:10.667Z"
   },
   {
    "duration": 178,
    "start_time": "2022-05-28T16:16:10.717Z"
   },
   {
    "duration": 9,
    "start_time": "2022-05-28T16:16:10.899Z"
   },
   {
    "duration": 276,
    "start_time": "2022-05-28T16:16:10.911Z"
   },
   {
    "duration": 52,
    "start_time": "2022-05-28T16:16:11.189Z"
   },
   {
    "duration": 17,
    "start_time": "2022-05-28T16:16:11.244Z"
   },
   {
    "duration": 10,
    "start_time": "2022-05-28T16:16:11.264Z"
   },
   {
    "duration": 17,
    "start_time": "2022-05-28T16:16:11.296Z"
   },
   {
    "duration": 255,
    "start_time": "2022-05-28T16:16:11.316Z"
   },
   {
    "duration": 46,
    "start_time": "2022-05-28T16:16:11.574Z"
   },
   {
    "duration": 247,
    "start_time": "2022-05-28T16:16:11.623Z"
   },
   {
    "duration": 65,
    "start_time": "2022-05-28T16:16:11.872Z"
   },
   {
    "duration": 250,
    "start_time": "2022-05-28T16:16:11.939Z"
   },
   {
    "duration": 34,
    "start_time": "2022-05-28T16:16:12.197Z"
   },
   {
    "duration": 264,
    "start_time": "2022-05-28T16:16:12.233Z"
   },
   {
    "duration": 23,
    "start_time": "2022-05-28T16:16:12.502Z"
   },
   {
    "duration": 155,
    "start_time": "2022-05-28T16:16:12.527Z"
   },
   {
    "duration": 821,
    "start_time": "2022-05-28T16:16:15.035Z"
   },
   {
    "duration": 54,
    "start_time": "2022-05-28T16:16:24.067Z"
   },
   {
    "duration": 54,
    "start_time": "2022-05-28T16:16:29.178Z"
   },
   {
    "duration": 72,
    "start_time": "2022-05-28T16:16:33.202Z"
   },
   {
    "duration": 19327,
    "start_time": "2022-05-28T16:16:38.226Z"
   },
   {
    "duration": 39257,
    "start_time": "2022-05-28T16:16:59.478Z"
   },
   {
    "duration": 6,
    "start_time": "2022-05-28T16:18:11.965Z"
   },
   {
    "duration": 1379,
    "start_time": "2022-05-28T16:18:11.976Z"
   },
   {
    "duration": 230,
    "start_time": "2022-05-28T16:18:13.358Z"
   },
   {
    "duration": 11,
    "start_time": "2022-05-28T16:18:13.590Z"
   },
   {
    "duration": 371,
    "start_time": "2022-05-28T16:18:13.603Z"
   },
   {
    "duration": 39,
    "start_time": "2022-05-28T16:18:13.976Z"
   },
   {
    "duration": 322,
    "start_time": "2022-05-28T16:18:14.017Z"
   },
   {
    "duration": 73,
    "start_time": "2022-05-28T16:18:14.342Z"
   },
   {
    "duration": 34,
    "start_time": "2022-05-28T16:18:14.419Z"
   },
   {
    "duration": 74,
    "start_time": "2022-05-28T16:18:14.455Z"
   },
   {
    "duration": 17,
    "start_time": "2022-05-28T16:18:14.536Z"
   },
   {
    "duration": 6244,
    "start_time": "2022-05-28T16:18:14.555Z"
   },
   {
    "duration": 193,
    "start_time": "2022-05-28T16:18:20.805Z"
   },
   {
    "duration": 686,
    "start_time": "2022-05-28T16:18:21.001Z"
   },
   {
    "duration": 512,
    "start_time": "2022-05-28T16:18:21.701Z"
   },
   {
    "duration": 109,
    "start_time": "2022-05-28T16:18:22.216Z"
   },
   {
    "duration": 845,
    "start_time": "2022-05-28T16:18:22.327Z"
   },
   {
    "duration": 205,
    "start_time": "2022-05-28T16:18:23.174Z"
   },
   {
    "duration": 245,
    "start_time": "2022-05-28T16:18:23.382Z"
   },
   {
    "duration": 119,
    "start_time": "2022-05-28T16:18:23.629Z"
   },
   {
    "duration": 306,
    "start_time": "2022-05-28T16:18:23.751Z"
   },
   {
    "duration": 49,
    "start_time": "2022-05-28T16:18:24.060Z"
   },
   {
    "duration": 305,
    "start_time": "2022-05-28T16:18:24.112Z"
   },
   {
    "duration": 215,
    "start_time": "2022-05-28T16:18:24.421Z"
   },
   {
    "duration": 42,
    "start_time": "2022-05-28T16:18:24.638Z"
   },
   {
    "duration": 17,
    "start_time": "2022-05-28T16:18:24.683Z"
   },
   {
    "duration": 43,
    "start_time": "2022-05-28T16:18:24.702Z"
   },
   {
    "duration": 127,
    "start_time": "2022-05-28T16:18:24.748Z"
   },
   {
    "duration": 21,
    "start_time": "2022-05-28T16:18:24.879Z"
   },
   {
    "duration": 259,
    "start_time": "2022-05-28T16:18:24.903Z"
   },
   {
    "duration": 57,
    "start_time": "2022-05-28T16:18:25.164Z"
   },
   {
    "duration": 17,
    "start_time": "2022-05-28T16:18:25.223Z"
   },
   {
    "duration": 19,
    "start_time": "2022-05-28T16:18:25.242Z"
   },
   {
    "duration": 20,
    "start_time": "2022-05-28T16:18:25.264Z"
   },
   {
    "duration": 219,
    "start_time": "2022-05-28T16:18:25.296Z"
   },
   {
    "duration": 35,
    "start_time": "2022-05-28T16:18:25.517Z"
   },
   {
    "duration": 257,
    "start_time": "2022-05-28T16:18:25.554Z"
   },
   {
    "duration": 65,
    "start_time": "2022-05-28T16:18:25.813Z"
   },
   {
    "duration": 283,
    "start_time": "2022-05-28T16:18:25.895Z"
   },
   {
    "duration": 44,
    "start_time": "2022-05-28T16:18:26.181Z"
   },
   {
    "duration": 295,
    "start_time": "2022-05-28T16:18:26.229Z"
   },
   {
    "duration": 28,
    "start_time": "2022-05-28T16:18:26.527Z"
   },
   {
    "duration": 877,
    "start_time": "2022-05-28T16:18:26.557Z"
   },
   {
    "duration": 60,
    "start_time": "2022-05-28T16:18:27.437Z"
   },
   {
    "duration": 6,
    "start_time": "2022-05-28T16:18:27.499Z"
   },
   {
    "duration": 115,
    "start_time": "2022-05-28T16:18:34.484Z"
   },
   {
    "duration": 27455,
    "start_time": "2022-05-28T16:18:38.809Z"
   },
   {
    "duration": 291422,
    "start_time": "2022-05-28T16:22:59.034Z"
   },
   {
    "duration": 0,
    "start_time": "2022-05-28T16:27:50.479Z"
   },
   {
    "duration": 255,
    "start_time": "2022-05-28T16:30:15.016Z"
   },
   {
    "duration": 75,
    "start_time": "2022-05-28T16:32:08.382Z"
   },
   {
    "duration": 19115,
    "start_time": "2022-05-28T16:32:13.694Z"
   },
   {
    "duration": 5429,
    "start_time": "2022-05-28T16:32:59.552Z"
   },
   {
    "duration": 1999,
    "start_time": "2022-05-28T16:33:04.984Z"
   },
   {
    "duration": 4646,
    "start_time": "2022-05-28T16:33:06.985Z"
   },
   {
    "duration": 211,
    "start_time": "2022-05-28T16:33:11.634Z"
   },
   {
    "duration": 5,
    "start_time": "2022-05-28T16:33:11.848Z"
   },
   {
    "duration": 490,
    "start_time": "2022-05-28T16:33:18.881Z"
   }
  ],
  "kernelspec": {
   "display_name": "Python 3 (ipykernel)",
   "language": "python",
   "name": "python3"
  },
  "language_info": {
   "codemirror_mode": {
    "name": "ipython",
    "version": 3
   },
   "file_extension": ".py",
   "mimetype": "text/x-python",
   "name": "python",
   "nbconvert_exporter": "python",
   "pygments_lexer": "ipython3",
   "version": "3.7.8"
  },
  "toc": {
   "base_numbering": 1,
   "nav_menu": {
    "height": "12.2222px",
    "width": "160px"
   },
   "number_sections": true,
   "sideBar": true,
   "skip_h1_title": true,
   "title_cell": "Table of Contents",
   "title_sidebar": "Contents",
   "toc_cell": false,
   "toc_position": {
    "height": "calc(100% - 180px)",
    "left": "10px",
    "top": "150px",
    "width": "293.542px"
   },
   "toc_section_display": true,
   "toc_window_display": true
  }
 },
 "nbformat": 4,
 "nbformat_minor": 2
}
